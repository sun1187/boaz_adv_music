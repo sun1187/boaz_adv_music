{
 "cells": [
  {
   "cell_type": "markdown",
   "metadata": {},
   "source": [
    "## 1. 가사 가중치 반영 코드"
   ]
  },
  {
   "cell_type": "code",
   "execution_count": 13,
   "metadata": {},
   "outputs": [
    {
     "name": "stderr",
     "output_type": "stream",
     "text": [
      "C:\\Users\\dbqhr\\anaconda3\\envs\\tensorflow\\lib\\site-packages\\konlpy\\tag\\_okt.py:16: UserWarning: \"Twitter\" has changed to \"Okt\" since KoNLPy v0.4.5.\n",
      "  warn('\"Twitter\" has changed to \"Okt\" since KoNLPy v0.4.5.')\n"
     ]
    }
   ],
   "source": [
    "from konlpy.tag import Twitter\n",
    "from konlpy.tag import Kkma  # kkma사용\n",
    "kkma = Kkma()\n",
    "twitter = Twitter()"
   ]
  },
  {
   "cell_type": "code",
   "execution_count": 14,
   "metadata": {},
   "outputs": [],
   "source": [
    "change_emt = ['지나가','떠나가','사라지']\n",
    "\n",
    "def cleansing4(text):\n",
    "  result = []\n",
    "  pass_cnt = 0\n",
    "  for word in kkma.pos(text): \n",
    "    if word[1] in ['NNG','NNP','NNM','NR','NP','VV','VA','VXV','VXA','VCP','VCN','EPT','ETD','MAG','EFQ']:   #명사, 동사, 시제\n",
    "      if (word[1]=='EPT' and word[0] in ['겠','었']) or (word[1]=='ETD' and word[0] =='ㄹ') \\\n",
    "          or  (word[1]=='VXV' and word[0]=='않') or (word[1]=='EFQ'): #  (word[1]=='VV' and word[0] in change_emt) \n",
    "          result.pop()\n",
    "      elif word[1] == 'MAG' and word[0] in ['안','못'] :\n",
    "        pass_cnt+=1\n",
    "      elif word[1]=='VV' and word[0] in change_emt:\n",
    "        try:\n",
    "          result.pop()\n",
    "        except:\n",
    "          pass_cnt+=1\n",
    "      else:\n",
    "        if pass_cnt ==0 :\n",
    "          result.append(word)\n",
    "        else:\n",
    "          pass_cnt -=1\n",
    "  result = [i[0] for i in result if i[1] in ['VV','NNG']]  #VV랑 NNG만 뽑아 \n",
    "  return result"
   ]
  },
  {
   "cell_type": "code",
   "execution_count": 15,
   "metadata": {},
   "outputs": [],
   "source": [
    "import pandas as pd\n",
    "lyl = pd.read_csv(r'C:\\Users\\dbqhr\\보아즈\\adv\\가사.csv',encoding='cp949')\n",
    "lyl['가사']=lyl['가사'].apply(lambda x: x.replace('\\n',' ') )\n",
    "\n",
    "lyl['clean_가사'] = lyl['가사'].apply(lambda x: cleansing4(x))"
   ]
  },
  {
   "cell_type": "code",
   "execution_count": 16,
   "metadata": {},
   "outputs": [
    {
     "data": {
      "text/html": [
       "<div>\n",
       "<style scoped>\n",
       "    .dataframe tbody tr th:only-of-type {\n",
       "        vertical-align: middle;\n",
       "    }\n",
       "\n",
       "    .dataframe tbody tr th {\n",
       "        vertical-align: top;\n",
       "    }\n",
       "\n",
       "    .dataframe thead th {\n",
       "        text-align: right;\n",
       "    }\n",
       "</style>\n",
       "<table border=\"1\" class=\"dataframe\">\n",
       "  <thead>\n",
       "    <tr style=\"text-align: right;\">\n",
       "      <th></th>\n",
       "      <th>아티스트</th>\n",
       "      <th>곡 제목</th>\n",
       "      <th>가사</th>\n",
       "      <th>clean_가사</th>\n",
       "    </tr>\n",
       "  </thead>\n",
       "  <tbody>\n",
       "    <tr>\n",
       "      <th>0</th>\n",
       "      <td>['아이유']</td>\n",
       "      <td>우울시계</td>\n",
       "      <td>우울하다 우울해 지금 이 시간엔 우울하다 우울하다 우울해 지금이 몇 시지? 열한 시...</td>\n",
       "      <td>[우울하, 우울하, 시간, 우울, 우울하, 우울하, 지금, 시지, 열한, 시, 반,...</td>\n",
       "    </tr>\n",
       "    <tr>\n",
       "      <th>1</th>\n",
       "      <td>['허각']</td>\n",
       "      <td>행복한 나를</td>\n",
       "      <td>존박) Yeah girl listen You're the only one for m...</td>\n",
       "      <td>[박, 허, 이별, 경험, 널, 시작, 몰르, 누, 군, 알, 되, 사랑, 되, 마...</td>\n",
       "    </tr>\n",
       "    <tr>\n",
       "      <th>2</th>\n",
       "      <td>['벤']</td>\n",
       "      <td>별처럼</td>\n",
       "      <td>나만 홀로 느낀 황홀함일까 그저 바라보는 시선이 무거워 맴도는 발걸음 여전히 네가...</td>\n",
       "      <td>[느끼, 황홀, 바라보, 시선, 맴돌, 발걸음, 보, 날, 떨리, 가슴, 혼자, 울...</td>\n",
       "    </tr>\n",
       "    <tr>\n",
       "      <th>3</th>\n",
       "      <td>['선우정아']</td>\n",
       "      <td>도망가자</td>\n",
       "      <td>도망가자 어디든 가야 할 것만 같아 넌 금방이라도 울 것 같아 괜찮아 우리 가자 걱...</td>\n",
       "      <td>[도망가, 가야, 같, 가, 걱정, 내려놓, 짐, 챙기, 웃, 돌아오, 생각, 말자...</td>\n",
       "    </tr>\n",
       "    <tr>\n",
       "      <th>4</th>\n",
       "      <td>['아이유']</td>\n",
       "      <td>에잇</td>\n",
       "      <td>So are you happy now Finally happy now are you...</td>\n",
       "      <td>[잃어버리, 오, 인사, 떨, 이대, 사랑, 해지, 기억, 속, 여행, 오렌지, 태...</td>\n",
       "    </tr>\n",
       "  </tbody>\n",
       "</table>\n",
       "</div>"
      ],
      "text/plain": [
       "       아티스트    곡 제목                                                 가사  \\\n",
       "0   ['아이유']    우울시계  우울하다 우울해 지금 이 시간엔 우울하다 우울하다 우울해 지금이 몇 시지? 열한 시...   \n",
       "1    ['허각']  행복한 나를  존박) Yeah girl listen You're the only one for m...   \n",
       "2     ['벤']     별처럼   나만 홀로 느낀 황홀함일까 그저 바라보는 시선이 무거워 맴도는 발걸음 여전히 네가...   \n",
       "3  ['선우정아']    도망가자  도망가자 어디든 가야 할 것만 같아 넌 금방이라도 울 것 같아 괜찮아 우리 가자 걱...   \n",
       "4   ['아이유']      에잇  So are you happy now Finally happy now are you...   \n",
       "\n",
       "                                            clean_가사  \n",
       "0  [우울하, 우울하, 시간, 우울, 우울하, 우울하, 지금, 시지, 열한, 시, 반,...  \n",
       "1  [박, 허, 이별, 경험, 널, 시작, 몰르, 누, 군, 알, 되, 사랑, 되, 마...  \n",
       "2  [느끼, 황홀, 바라보, 시선, 맴돌, 발걸음, 보, 날, 떨리, 가슴, 혼자, 울...  \n",
       "3  [도망가, 가야, 같, 가, 걱정, 내려놓, 짐, 챙기, 웃, 돌아오, 생각, 말자...  \n",
       "4  [잃어버리, 오, 인사, 떨, 이대, 사랑, 해지, 기억, 속, 여행, 오렌지, 태...  "
      ]
     },
     "execution_count": 16,
     "metadata": {},
     "output_type": "execute_result"
    }
   ],
   "source": [
    "lyl"
   ]
  },
  {
   "cell_type": "code",
   "execution_count": 25,
   "metadata": {},
   "outputs": [
    {
     "name": "stdout",
     "output_type": "stream",
     "text": [
      "[('우울', 'NNG'), ('하', 'XSV'), ('ㄴ', 'ETD'), (',', 'SP'), ('이별', 'NNG')]\n",
      "0번째 노래 '우울하'로 인해 가중치 +1, 총 가중치1\n",
      "0번째 노래 '우울하'로 인해 가중치 +1, 총 가중치2\n",
      "0번째 노래 '우울'로 인해 가중치 +1, 총 가중치3\n",
      "0번째 노래 '우울하'로 인해 가중치 +1, 총 가중치4\n",
      "0번째 노래 '우울하'로 인해 가중치 +1, 총 가중치5\n",
      "0번째 노래 '우울하'로 인해 가중치 +1, 총 가중치6\n",
      "0번째 노래 '우울하'로 인해 가중치 +1, 총 가중치7\n",
      "0번째 노래 '우울'로 인해 가중치 +1, 총 가중치8\n",
      "0번째 노래 '우울'로 인해 가중치 +1, 총 가중치9\n",
      "0번째 노래 '우울하'로 인해 가중치 +1, 총 가중치10\n",
      "0번째 노래 '이별'로 인해 가중치 +1, 총 가중치11\n",
      "0번째 노래 '우울'로 인해 가중치 +1, 총 가중치12\n",
      "0번째 노래 '우울'로 인해 가중치 +1, 총 가중치13\n",
      "0번째 노래 '우울하'로 인해 가중치 +1, 총 가중치14\n",
      "0번째 노래 '우울하'로 인해 가중치 +1, 총 가중치15\n",
      "0번째 노래 '우울하'로 인해 가중치 +1, 총 가중치16\n",
      "0번째 노래 '우울하'로 인해 가중치 +1, 총 가중치17\n",
      "0번째 노래 '우울하'로 인해 가중치 +1, 총 가중치18\n",
      "0번째 노래 '우울'로 인해 가중치 +1, 총 가중치19\n",
      "0번째 노래 '우울하'로 인해 가중치 +1, 총 가중치20\n",
      "0번째 노래 '우울'로 인해 가중치 +1, 총 가중치21\n",
      "0번째 노래 '우울'로 인해 가중치 +1, 총 가중치22\n",
      "0번째 노래 '우울'로 인해 가중치 +1, 총 가중치23\n",
      "0번째 노래의 가중치는 23입니다.\n",
      "1번째 노래 '이별'로 인해 가중치 +1, 총 가중치1\n",
      "1번째 노래 '우울'로 인해 가중치 +1, 총 가중치2\n",
      "1번째 노래의 가중치는 2입니다.\n",
      "2번째 노래 '이별'로 인해 가중치 +1, 총 가중치1\n",
      "2번째 노래의 가중치는 1입니다.\n",
      "3번째 노래의 가중치는 0입니다.\n",
      "4번째 노래의 가중치는 0입니다.\n"
     ]
    },
    {
     "name": "stderr",
     "output_type": "stream",
     "text": [
      "C:\\Users\\dbqhr\\anaconda3\\envs\\tensorflow\\lib\\site-packages\\pandas\\core\\indexing.py:670: SettingWithCopyWarning: \n",
      "A value is trying to be set on a copy of a slice from a DataFrame\n",
      "\n",
      "See the caveats in the documentation: https://pandas.pydata.org/pandas-docs/stable/user_guide/indexing.html#returning-a-view-versus-a-copy\n",
      "  iloc._setitem_with_indexer(indexer, value)\n"
     ]
    }
   ],
   "source": [
    "# 태그가 우울한, 이별이라면?\n",
    "print(kkma.pos('우울한, 이별'))\n",
    "e = '우울'\n",
    "t = '이별'\n",
    "\n",
    "lyl['가중치']=0\n",
    "for n,i in enumerate(lyl['clean_가사']):\n",
    "  cnt=0\n",
    "  for j in i:\n",
    "    if t in j or e in j:\n",
    "      cnt+=1\n",
    "      print(f'{n}번째 노래 \\'{j}\\'로 인해 가중치 +1, 총 가중치{cnt}')\n",
    "  print(f'{n}번째 노래의 가중치는 {cnt}입니다.')\n",
    "  lyl['가중치'].iloc[n] += cnt\n",
    "\n",
    "\n",
    "lyl.sort_values(by = '가중치',ascending=False,inplace= True)"
   ]
  },
  {
   "cell_type": "code",
   "execution_count": 26,
   "metadata": {},
   "outputs": [
    {
     "data": {
      "text/html": [
       "<div>\n",
       "<style scoped>\n",
       "    .dataframe tbody tr th:only-of-type {\n",
       "        vertical-align: middle;\n",
       "    }\n",
       "\n",
       "    .dataframe tbody tr th {\n",
       "        vertical-align: top;\n",
       "    }\n",
       "\n",
       "    .dataframe thead th {\n",
       "        text-align: right;\n",
       "    }\n",
       "</style>\n",
       "<table border=\"1\" class=\"dataframe\">\n",
       "  <thead>\n",
       "    <tr style=\"text-align: right;\">\n",
       "      <th></th>\n",
       "      <th>아티스트</th>\n",
       "      <th>곡 제목</th>\n",
       "      <th>가사</th>\n",
       "      <th>clean_가사</th>\n",
       "      <th>가중치</th>\n",
       "    </tr>\n",
       "  </thead>\n",
       "  <tbody>\n",
       "    <tr>\n",
       "      <th>0</th>\n",
       "      <td>['아이유']</td>\n",
       "      <td>우울시계</td>\n",
       "      <td>우울하다 우울해 지금 이 시간엔 우울하다 우울하다 우울해 지금이 몇 시지? 열한 시...</td>\n",
       "      <td>[우울하, 우울하, 시간, 우울, 우울하, 우울하, 지금, 시지, 열한, 시, 반,...</td>\n",
       "      <td>23</td>\n",
       "    </tr>\n",
       "    <tr>\n",
       "      <th>4</th>\n",
       "      <td>['아이유']</td>\n",
       "      <td>에잇</td>\n",
       "      <td>So are you happy now Finally happy now are you...</td>\n",
       "      <td>[잃어버리, 오, 인사, 떨, 이대, 사랑, 해지, 기억, 속, 여행, 오렌지, 태...</td>\n",
       "      <td>2</td>\n",
       "    </tr>\n",
       "    <tr>\n",
       "      <th>1</th>\n",
       "      <td>['허각']</td>\n",
       "      <td>행복한 나를</td>\n",
       "      <td>존박) Yeah girl listen You're the only one for m...</td>\n",
       "      <td>[박, 허, 이별, 경험, 널, 시작, 몰르, 누, 군, 알, 되, 사랑, 되, 마...</td>\n",
       "      <td>1</td>\n",
       "    </tr>\n",
       "    <tr>\n",
       "      <th>2</th>\n",
       "      <td>['벤']</td>\n",
       "      <td>별처럼</td>\n",
       "      <td>나만 홀로 느낀 황홀함일까 그저 바라보는 시선이 무거워 맴도는 발걸음 여전히 네가...</td>\n",
       "      <td>[느끼, 황홀, 바라보, 시선, 맴돌, 발걸음, 보, 날, 떨리, 가슴, 혼자, 울...</td>\n",
       "      <td>0</td>\n",
       "    </tr>\n",
       "    <tr>\n",
       "      <th>3</th>\n",
       "      <td>['선우정아']</td>\n",
       "      <td>도망가자</td>\n",
       "      <td>도망가자 어디든 가야 할 것만 같아 넌 금방이라도 울 것 같아 괜찮아 우리 가자 걱...</td>\n",
       "      <td>[도망가, 가야, 같, 가, 걱정, 내려놓, 짐, 챙기, 웃, 돌아오, 생각, 말자...</td>\n",
       "      <td>0</td>\n",
       "    </tr>\n",
       "  </tbody>\n",
       "</table>\n",
       "</div>"
      ],
      "text/plain": [
       "       아티스트    곡 제목                                                 가사  \\\n",
       "0   ['아이유']    우울시계  우울하다 우울해 지금 이 시간엔 우울하다 우울하다 우울해 지금이 몇 시지? 열한 시...   \n",
       "4   ['아이유']      에잇  So are you happy now Finally happy now are you...   \n",
       "1    ['허각']  행복한 나를  존박) Yeah girl listen You're the only one for m...   \n",
       "2     ['벤']     별처럼   나만 홀로 느낀 황홀함일까 그저 바라보는 시선이 무거워 맴도는 발걸음 여전히 네가...   \n",
       "3  ['선우정아']    도망가자  도망가자 어디든 가야 할 것만 같아 넌 금방이라도 울 것 같아 괜찮아 우리 가자 걱...   \n",
       "\n",
       "                                            clean_가사  가중치  \n",
       "0  [우울하, 우울하, 시간, 우울, 우울하, 우울하, 지금, 시지, 열한, 시, 반,...   23  \n",
       "4  [잃어버리, 오, 인사, 떨, 이대, 사랑, 해지, 기억, 속, 여행, 오렌지, 태...    2  \n",
       "1  [박, 허, 이별, 경험, 널, 시작, 몰르, 누, 군, 알, 되, 사랑, 되, 마...    1  \n",
       "2  [느끼, 황홀, 바라보, 시선, 맴돌, 발걸음, 보, 날, 떨리, 가슴, 혼자, 울...    0  \n",
       "3  [도망가, 가야, 같, 가, 걱정, 내려놓, 짐, 챙기, 웃, 돌아오, 생각, 말자...    0  "
      ]
     },
     "execution_count": 26,
     "metadata": {},
     "output_type": "execute_result"
    }
   ],
   "source": [
    "lyl"
   ]
  },
  {
   "cell_type": "code",
   "execution_count": 27,
   "metadata": {},
   "outputs": [
    {
     "name": "stdout",
     "output_type": "stream",
     "text": [
      "추천된 노래 1위는 ['아이유']의 '우울시계' 입니다\n"
     ]
    }
   ],
   "source": [
    "artist = lyl['아티스트'].iloc[0]\n",
    "song = lyl['곡 제목'].iloc[0]\n",
    "print(f'추천된 노래 1위는 {artist}의 \\'{song}\\' 입니다')"
   ]
  },
  {
   "cell_type": "code",
   "execution_count": null,
   "metadata": {},
   "outputs": [],
   "source": []
  }
 ],
 "metadata": {
  "interpreter": {
   "hash": "63a2fa8701088d0273300603ea724908e621c0cb8e68adc22257679c104300ae"
  },
  "kernelspec": {
   "display_name": "Python 3",
   "language": "python",
   "name": "python3"
  },
  "language_info": {
   "codemirror_mode": {
    "name": "ipython",
    "version": 3
   },
   "file_extension": ".py",
   "mimetype": "text/x-python",
   "name": "python",
   "nbconvert_exporter": "python",
   "pygments_lexer": "ipython3",
   "version": "3.8.5"
  }
 },
 "nbformat": 4,
 "nbformat_minor": 2
}
