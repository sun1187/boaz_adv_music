{
 "cells": [
  {
   "cell_type": "markdown",
   "metadata": {},
   "source": [
    "## 데이터 정리"
   ]
  },
  {
   "cell_type": "code",
   "execution_count": 1,
   "metadata": {
    "ExecuteTime": {
     "end_time": "2021-11-03T01:20:29.168845Z",
     "start_time": "2021-11-03T01:20:28.669844Z"
    }
   },
   "outputs": [
    {
     "data": {
      "text/plain": [
       "['big.csv',\n",
       " 'genre_gn_all.json',\n",
       " 'gnr_tag.xlsx',\n",
       " 'sample_song_tag(re).csv',\n",
       " 'song_meta.json',\n",
       " 'test.json',\n",
       " 'train.json',\n",
       " 'val.json',\n",
       " '장르 정리.xlsx',\n",
       " '장르 코드.xlsx']"
      ]
     },
     "execution_count": 1,
     "metadata": {},
     "output_type": "execute_result"
    }
   ],
   "source": [
    "import json\n",
    "import pandas as pd\n",
    "import numpy as np\n",
    "import os\n",
    "data_path = './data/'\n",
    "data_list = os.listdir(data_path)\n",
    "data_list"
   ]
  },
  {
   "cell_type": "markdown",
   "metadata": {},
   "source": [
    "### 태그 정리"
   ]
  },
  {
   "cell_type": "code",
   "execution_count": 15,
   "metadata": {
    "ExecuteTime": {
     "end_time": "2021-11-03T01:32:29.532033Z",
     "start_time": "2021-11-03T01:32:27.402971Z"
    }
   },
   "outputs": [
    {
     "data": {
      "text/html": [
       "<div>\n",
       "<style scoped>\n",
       "    .dataframe tbody tr th:only-of-type {\n",
       "        vertical-align: middle;\n",
       "    }\n",
       "\n",
       "    .dataframe tbody tr th {\n",
       "        vertical-align: top;\n",
       "    }\n",
       "\n",
       "    .dataframe thead th {\n",
       "        text-align: right;\n",
       "    }\n",
       "</style>\n",
       "<table border=\"1\" class=\"dataframe\">\n",
       "  <thead>\n",
       "    <tr style=\"text-align: right;\">\n",
       "      <th></th>\n",
       "      <th>tags</th>\n",
       "      <th>id</th>\n",
       "      <th>plylst_title</th>\n",
       "      <th>songs</th>\n",
       "      <th>like_cnt</th>\n",
       "      <th>updt_date</th>\n",
       "    </tr>\n",
       "  </thead>\n",
       "  <tbody>\n",
       "    <tr>\n",
       "      <th>0</th>\n",
       "      <td>[락]</td>\n",
       "      <td>61281</td>\n",
       "      <td>여행같은 음악</td>\n",
       "      <td>[525514, 129701, 383374, 562083, 297861, 13954...</td>\n",
       "      <td>71</td>\n",
       "      <td>2013-12-19 18:36:19.000</td>\n",
       "    </tr>\n",
       "    <tr>\n",
       "      <th>1</th>\n",
       "      <td>[추억, 회상]</td>\n",
       "      <td>10532</td>\n",
       "      <td>요즘 너 말야</td>\n",
       "      <td>[432406, 675945, 497066, 120377, 389529, 24427...</td>\n",
       "      <td>1</td>\n",
       "      <td>2014-12-02 16:19:42.000</td>\n",
       "    </tr>\n",
       "    <tr>\n",
       "      <th>2</th>\n",
       "      <td>[까페, 잔잔한]</td>\n",
       "      <td>76951</td>\n",
       "      <td>편하게, 잔잔하게 들을 수 있는 곡.-</td>\n",
       "      <td>[83116, 276692, 166267, 186301, 354465, 256598...</td>\n",
       "      <td>17</td>\n",
       "      <td>2017-08-28 07:09:34.000</td>\n",
       "    </tr>\n",
       "    <tr>\n",
       "      <th>3</th>\n",
       "      <td>[연말, 눈오는날, 캐럴, 분위기, 따듯한, 크리스마스캐럴, 겨울노래, 크리스마스,...</td>\n",
       "      <td>147456</td>\n",
       "      <td>크리스마스 분위기에 흠뻑 취하고 싶을때</td>\n",
       "      <td>[394031, 195524, 540149, 287984, 440773, 10033...</td>\n",
       "      <td>33</td>\n",
       "      <td>2019-12-05 15:15:18.000</td>\n",
       "    </tr>\n",
       "    <tr>\n",
       "      <th>4</th>\n",
       "      <td>[댄스]</td>\n",
       "      <td>27616</td>\n",
       "      <td>추억의 노래 ㅋ</td>\n",
       "      <td>[159327, 553610, 5130, 645103, 294435, 100657,...</td>\n",
       "      <td>9</td>\n",
       "      <td>2011-10-25 13:54:56.000</td>\n",
       "    </tr>\n",
       "  </tbody>\n",
       "</table>\n",
       "</div>"
      ],
      "text/plain": [
       "                                                tags      id  \\\n",
       "0                                                [락]   61281   \n",
       "1                                           [추억, 회상]   10532   \n",
       "2                                          [까페, 잔잔한]   76951   \n",
       "3  [연말, 눈오는날, 캐럴, 분위기, 따듯한, 크리스마스캐럴, 겨울노래, 크리스마스,...  147456   \n",
       "4                                               [댄스]   27616   \n",
       "\n",
       "            plylst_title                                              songs  \\\n",
       "0                여행같은 음악  [525514, 129701, 383374, 562083, 297861, 13954...   \n",
       "1                요즘 너 말야  [432406, 675945, 497066, 120377, 389529, 24427...   \n",
       "2  편하게, 잔잔하게 들을 수 있는 곡.-  [83116, 276692, 166267, 186301, 354465, 256598...   \n",
       "3  크리스마스 분위기에 흠뻑 취하고 싶을때  [394031, 195524, 540149, 287984, 440773, 10033...   \n",
       "4               추억의 노래 ㅋ  [159327, 553610, 5130, 645103, 294435, 100657,...   \n",
       "\n",
       "   like_cnt                updt_date  \n",
       "0        71  2013-12-19 18:36:19.000  \n",
       "1         1  2014-12-02 16:19:42.000  \n",
       "2        17  2017-08-28 07:09:34.000  \n",
       "3        33  2019-12-05 15:15:18.000  \n",
       "4         9  2011-10-25 13:54:56.000  "
      ]
     },
     "execution_count": 15,
     "metadata": {},
     "output_type": "execute_result"
    }
   ],
   "source": [
    "tags = pd.read_json(data_path + data_list[6])\n",
    "tags = pd.DataFrame(tags)\n",
    "tags.head() "
   ]
  },
  {
   "cell_type": "code",
   "execution_count": 16,
   "metadata": {
    "ExecuteTime": {
     "end_time": "2021-11-03T01:32:29.748032Z",
     "start_time": "2021-11-03T01:32:29.704034Z"
    }
   },
   "outputs": [
    {
     "data": {
      "text/html": [
       "<div>\n",
       "<style scoped>\n",
       "    .dataframe tbody tr th:only-of-type {\n",
       "        vertical-align: middle;\n",
       "    }\n",
       "\n",
       "    .dataframe tbody tr th {\n",
       "        vertical-align: top;\n",
       "    }\n",
       "\n",
       "    .dataframe thead th {\n",
       "        text-align: right;\n",
       "    }\n",
       "</style>\n",
       "<table border=\"1\" class=\"dataframe\">\n",
       "  <thead>\n",
       "    <tr style=\"text-align: right;\">\n",
       "      <th></th>\n",
       "      <th>tags</th>\n",
       "      <th>songs</th>\n",
       "    </tr>\n",
       "  </thead>\n",
       "  <tbody>\n",
       "    <tr>\n",
       "      <th>0</th>\n",
       "      <td>[락]</td>\n",
       "      <td>[525514, 129701, 383374, 562083, 297861, 13954...</td>\n",
       "    </tr>\n",
       "    <tr>\n",
       "      <th>1</th>\n",
       "      <td>[추억, 회상]</td>\n",
       "      <td>[432406, 675945, 497066, 120377, 389529, 24427...</td>\n",
       "    </tr>\n",
       "    <tr>\n",
       "      <th>2</th>\n",
       "      <td>[까페, 잔잔한]</td>\n",
       "      <td>[83116, 276692, 166267, 186301, 354465, 256598...</td>\n",
       "    </tr>\n",
       "    <tr>\n",
       "      <th>3</th>\n",
       "      <td>[연말, 눈오는날, 캐럴, 분위기, 따듯한, 크리스마스캐럴, 겨울노래, 크리스마스,...</td>\n",
       "      <td>[394031, 195524, 540149, 287984, 440773, 10033...</td>\n",
       "    </tr>\n",
       "    <tr>\n",
       "      <th>4</th>\n",
       "      <td>[댄스]</td>\n",
       "      <td>[159327, 553610, 5130, 645103, 294435, 100657,...</td>\n",
       "    </tr>\n",
       "  </tbody>\n",
       "</table>\n",
       "</div>"
      ],
      "text/plain": [
       "                                                tags  \\\n",
       "0                                                [락]   \n",
       "1                                           [추억, 회상]   \n",
       "2                                          [까페, 잔잔한]   \n",
       "3  [연말, 눈오는날, 캐럴, 분위기, 따듯한, 크리스마스캐럴, 겨울노래, 크리스마스,...   \n",
       "4                                               [댄스]   \n",
       "\n",
       "                                               songs  \n",
       "0  [525514, 129701, 383374, 562083, 297861, 13954...  \n",
       "1  [432406, 675945, 497066, 120377, 389529, 24427...  \n",
       "2  [83116, 276692, 166267, 186301, 354465, 256598...  \n",
       "3  [394031, 195524, 540149, 287984, 440773, 10033...  \n",
       "4  [159327, 553610, 5130, 645103, 294435, 100657,...  "
      ]
     },
     "execution_count": 16,
     "metadata": {},
     "output_type": "execute_result"
    }
   ],
   "source": [
    "tags.drop(['id', 'plylst_title', 'like_cnt', 'updt_date'], axis = 1, inplace = True)\n",
    "tags.head() "
   ]
  },
  {
   "cell_type": "code",
   "execution_count": 81,
   "metadata": {
    "ExecuteTime": {
     "end_time": "2021-11-03T02:38:05.366344Z",
     "start_time": "2021-11-03T02:38:05.342325Z"
    }
   },
   "outputs": [
    {
     "data": {
      "text/html": [
       "<div>\n",
       "<style scoped>\n",
       "    .dataframe tbody tr th:only-of-type {\n",
       "        vertical-align: middle;\n",
       "    }\n",
       "\n",
       "    .dataframe tbody tr th {\n",
       "        vertical-align: top;\n",
       "    }\n",
       "\n",
       "    .dataframe thead th {\n",
       "        text-align: right;\n",
       "    }\n",
       "</style>\n",
       "<table border=\"1\" class=\"dataframe\">\n",
       "  <thead>\n",
       "    <tr style=\"text-align: right;\">\n",
       "      <th></th>\n",
       "      <th>tags</th>\n",
       "      <th>songs</th>\n",
       "    </tr>\n",
       "  </thead>\n",
       "  <tbody>\n",
       "    <tr>\n",
       "      <th>0</th>\n",
       "      <td>락</td>\n",
       "      <td>[525514, 129701, 383374, 562083, 297861, 13954...</td>\n",
       "    </tr>\n",
       "    <tr>\n",
       "      <th>1</th>\n",
       "      <td>추억, 회상</td>\n",
       "      <td>[432406, 675945, 497066, 120377, 389529, 24427...</td>\n",
       "    </tr>\n",
       "    <tr>\n",
       "      <th>2</th>\n",
       "      <td>까페, 잔잔한</td>\n",
       "      <td>[83116, 276692, 166267, 186301, 354465, 256598...</td>\n",
       "    </tr>\n",
       "    <tr>\n",
       "      <th>3</th>\n",
       "      <td>연말, 눈오는날, 캐럴, 분위기, 따듯한, 크리스마스캐럴, 겨울노래, 크리스마스, ...</td>\n",
       "      <td>[394031, 195524, 540149, 287984, 440773, 10033...</td>\n",
       "    </tr>\n",
       "    <tr>\n",
       "      <th>4</th>\n",
       "      <td>댄스</td>\n",
       "      <td>[159327, 553610, 5130, 645103, 294435, 100657,...</td>\n",
       "    </tr>\n",
       "    <tr>\n",
       "      <th>...</th>\n",
       "      <td>...</td>\n",
       "      <td>...</td>\n",
       "    </tr>\n",
       "    <tr>\n",
       "      <th>115066</th>\n",
       "      <td>록메탈, 밴드사운드, 록, 락메탈, 메탈, 락, extreme</td>\n",
       "      <td>[429629, 441511, 612106, 516359, 691768, 38714...</td>\n",
       "    </tr>\n",
       "    <tr>\n",
       "      <th>115067</th>\n",
       "      <td>일렉</td>\n",
       "      <td>[321330, 216057, 534472, 240306, 331098, 23288...</td>\n",
       "    </tr>\n",
       "    <tr>\n",
       "      <th>115068</th>\n",
       "      <td>담시, 가족, 눈물, 그리움, 주인공, 나의_이야기, 사랑, 친구</td>\n",
       "      <td>[50512, 249024, 250608, 371171, 229942, 694943...</td>\n",
       "    </tr>\n",
       "    <tr>\n",
       "      <th>115069</th>\n",
       "      <td>잔잔한, 버스, 퇴근버스, Pop, 풍경, 퇴근길</td>\n",
       "      <td>[533534, 608114, 343608, 417140, 609009, 30217...</td>\n",
       "    </tr>\n",
       "    <tr>\n",
       "      <th>115070</th>\n",
       "      <td>노래추천, 팝송추천, 팝송, 팝송모음</td>\n",
       "      <td>[26008, 456354, 324105, 89871, 135272, 143548,...</td>\n",
       "    </tr>\n",
       "  </tbody>\n",
       "</table>\n",
       "<p>115071 rows × 2 columns</p>\n",
       "</div>"
      ],
      "text/plain": [
       "                                                     tags  \\\n",
       "0                                                       락   \n",
       "1                                                  추억, 회상   \n",
       "2                                                 까페, 잔잔한   \n",
       "3       연말, 눈오는날, 캐럴, 분위기, 따듯한, 크리스마스캐럴, 겨울노래, 크리스마스, ...   \n",
       "4                                                      댄스   \n",
       "...                                                   ...   \n",
       "115066                 록메탈, 밴드사운드, 록, 락메탈, 메탈, 락, extreme   \n",
       "115067                                                 일렉   \n",
       "115068               담시, 가족, 눈물, 그리움, 주인공, 나의_이야기, 사랑, 친구   \n",
       "115069                        잔잔한, 버스, 퇴근버스, Pop, 풍경, 퇴근길   \n",
       "115070                               노래추천, 팝송추천, 팝송, 팝송모음   \n",
       "\n",
       "                                                    songs  \n",
       "0       [525514, 129701, 383374, 562083, 297861, 13954...  \n",
       "1       [432406, 675945, 497066, 120377, 389529, 24427...  \n",
       "2       [83116, 276692, 166267, 186301, 354465, 256598...  \n",
       "3       [394031, 195524, 540149, 287984, 440773, 10033...  \n",
       "4       [159327, 553610, 5130, 645103, 294435, 100657,...  \n",
       "...                                                   ...  \n",
       "115066  [429629, 441511, 612106, 516359, 691768, 38714...  \n",
       "115067  [321330, 216057, 534472, 240306, 331098, 23288...  \n",
       "115068  [50512, 249024, 250608, 371171, 229942, 694943...  \n",
       "115069  [533534, 608114, 343608, 417140, 609009, 30217...  \n",
       "115070  [26008, 456354, 324105, 89871, 135272, 143548,...  \n",
       "\n",
       "[115071 rows x 2 columns]"
      ]
     },
     "execution_count": 81,
     "metadata": {},
     "output_type": "execute_result"
    }
   ],
   "source": [
    "tags['tags'] = [', '.join(tags['tags'][i]) for i in range(len(tags))]\n",
    "tags"
   ]
  },
  {
   "cell_type": "markdown",
   "metadata": {},
   "source": [
    "### 노래 정리"
   ]
  },
  {
   "cell_type": "code",
   "execution_count": 94,
   "metadata": {
    "ExecuteTime": {
     "end_time": "2021-11-03T06:00:00.759755Z",
     "start_time": "2021-11-03T05:59:24.312819Z"
    }
   },
   "outputs": [
    {
     "data": {
      "text/html": [
       "<div>\n",
       "<style scoped>\n",
       "    .dataframe tbody tr th:only-of-type {\n",
       "        vertical-align: middle;\n",
       "    }\n",
       "\n",
       "    .dataframe tbody tr th {\n",
       "        vertical-align: top;\n",
       "    }\n",
       "\n",
       "    .dataframe thead th {\n",
       "        text-align: right;\n",
       "    }\n",
       "</style>\n",
       "<table border=\"1\" class=\"dataframe\">\n",
       "  <thead>\n",
       "    <tr style=\"text-align: right;\">\n",
       "      <th></th>\n",
       "      <th>song_gn_dtl_gnr_basket</th>\n",
       "      <th>issue_date</th>\n",
       "      <th>album_name</th>\n",
       "      <th>album_id</th>\n",
       "      <th>artist_id_basket</th>\n",
       "      <th>song_name</th>\n",
       "      <th>song_gn_gnr_basket</th>\n",
       "      <th>artist_name_basket</th>\n",
       "      <th>id</th>\n",
       "    </tr>\n",
       "  </thead>\n",
       "  <tbody>\n",
       "    <tr>\n",
       "      <th>0</th>\n",
       "      <td>[GN0901]</td>\n",
       "      <td>20140512</td>\n",
       "      <td>불후의 명곡 - 7080 추억의 얄개시대 팝송베스트</td>\n",
       "      <td>2255639</td>\n",
       "      <td>[2727]</td>\n",
       "      <td>Feelings</td>\n",
       "      <td>[GN0900]</td>\n",
       "      <td>[Various Artists]</td>\n",
       "      <td>0</td>\n",
       "    </tr>\n",
       "    <tr>\n",
       "      <th>1</th>\n",
       "      <td>[GN1601, GN1606]</td>\n",
       "      <td>20080421</td>\n",
       "      <td>Bach : Partitas Nos. 2, 3 &amp; 4</td>\n",
       "      <td>376431</td>\n",
       "      <td>[29966]</td>\n",
       "      <td>Bach : Partita No. 4 In D Major, BWV 828 - II....</td>\n",
       "      <td>[GN1600]</td>\n",
       "      <td>[Murray Perahia]</td>\n",
       "      <td>1</td>\n",
       "    </tr>\n",
       "    <tr>\n",
       "      <th>2</th>\n",
       "      <td>[GN0901]</td>\n",
       "      <td>20180518</td>\n",
       "      <td>Hit</td>\n",
       "      <td>4698747</td>\n",
       "      <td>[3361]</td>\n",
       "      <td>Solsbury Hill (Remastered 2002)</td>\n",
       "      <td>[GN0900]</td>\n",
       "      <td>[Peter Gabriel]</td>\n",
       "      <td>2</td>\n",
       "    </tr>\n",
       "    <tr>\n",
       "      <th>3</th>\n",
       "      <td>[GN1102, GN1101]</td>\n",
       "      <td>20151016</td>\n",
       "      <td>Feeling Right (Everything Is Nice) (Feat. Popc...</td>\n",
       "      <td>2644882</td>\n",
       "      <td>[838543]</td>\n",
       "      <td>Feeling Right (Everything Is Nice) (Feat. Popc...</td>\n",
       "      <td>[GN1100]</td>\n",
       "      <td>[Matoma]</td>\n",
       "      <td>3</td>\n",
       "    </tr>\n",
       "    <tr>\n",
       "      <th>4</th>\n",
       "      <td>[GN1802, GN1801]</td>\n",
       "      <td>20110824</td>\n",
       "      <td>그남자 그여자</td>\n",
       "      <td>2008470</td>\n",
       "      <td>[560160]</td>\n",
       "      <td>그남자 그여자</td>\n",
       "      <td>[GN1800]</td>\n",
       "      <td>[Jude Law]</td>\n",
       "      <td>4</td>\n",
       "    </tr>\n",
       "  </tbody>\n",
       "</table>\n",
       "</div>"
      ],
      "text/plain": [
       "  song_gn_dtl_gnr_basket  issue_date  \\\n",
       "0               [GN0901]    20140512   \n",
       "1       [GN1601, GN1606]    20080421   \n",
       "2               [GN0901]    20180518   \n",
       "3       [GN1102, GN1101]    20151016   \n",
       "4       [GN1802, GN1801]    20110824   \n",
       "\n",
       "                                          album_name  album_id  \\\n",
       "0                       불후의 명곡 - 7080 추억의 얄개시대 팝송베스트   2255639   \n",
       "1                      Bach : Partitas Nos. 2, 3 & 4    376431   \n",
       "2                                                Hit   4698747   \n",
       "3  Feeling Right (Everything Is Nice) (Feat. Popc...   2644882   \n",
       "4                                            그남자 그여자   2008470   \n",
       "\n",
       "  artist_id_basket                                          song_name  \\\n",
       "0           [2727]                                           Feelings   \n",
       "1          [29966]  Bach : Partita No. 4 In D Major, BWV 828 - II....   \n",
       "2           [3361]                    Solsbury Hill (Remastered 2002)   \n",
       "3         [838543]  Feeling Right (Everything Is Nice) (Feat. Popc...   \n",
       "4         [560160]                                            그남자 그여자   \n",
       "\n",
       "  song_gn_gnr_basket artist_name_basket  id  \n",
       "0           [GN0900]  [Various Artists]   0  \n",
       "1           [GN1600]   [Murray Perahia]   1  \n",
       "2           [GN0900]    [Peter Gabriel]   2  \n",
       "3           [GN1100]           [Matoma]   3  \n",
       "4           [GN1800]         [Jude Law]   4  "
      ]
     },
     "execution_count": 94,
     "metadata": {},
     "output_type": "execute_result"
    }
   ],
   "source": [
    "songs = pd.read_json(data_path + data_list[4])\n",
    "songs = pd.DataFrame(songs)\n",
    "songs.head() "
   ]
  },
  {
   "cell_type": "code",
   "execution_count": 95,
   "metadata": {
    "ExecuteTime": {
     "end_time": "2021-11-03T06:00:01.133760Z",
     "start_time": "2021-11-03T06:00:00.917756Z"
    }
   },
   "outputs": [
    {
     "data": {
      "text/html": [
       "<div>\n",
       "<style scoped>\n",
       "    .dataframe tbody tr th:only-of-type {\n",
       "        vertical-align: middle;\n",
       "    }\n",
       "\n",
       "    .dataframe tbody tr th {\n",
       "        vertical-align: top;\n",
       "    }\n",
       "\n",
       "    .dataframe thead th {\n",
       "        text-align: right;\n",
       "    }\n",
       "</style>\n",
       "<table border=\"1\" class=\"dataframe\">\n",
       "  <thead>\n",
       "    <tr style=\"text-align: right;\">\n",
       "      <th></th>\n",
       "      <th>song_gn_dtl_gnr_basket</th>\n",
       "      <th>song_name</th>\n",
       "      <th>song_gn_gnr_basket</th>\n",
       "      <th>id</th>\n",
       "    </tr>\n",
       "  </thead>\n",
       "  <tbody>\n",
       "    <tr>\n",
       "      <th>0</th>\n",
       "      <td>[GN0901]</td>\n",
       "      <td>Feelings</td>\n",
       "      <td>[GN0900]</td>\n",
       "      <td>0</td>\n",
       "    </tr>\n",
       "    <tr>\n",
       "      <th>1</th>\n",
       "      <td>[GN1601, GN1606]</td>\n",
       "      <td>Bach : Partita No. 4 In D Major, BWV 828 - II....</td>\n",
       "      <td>[GN1600]</td>\n",
       "      <td>1</td>\n",
       "    </tr>\n",
       "    <tr>\n",
       "      <th>2</th>\n",
       "      <td>[GN0901]</td>\n",
       "      <td>Solsbury Hill (Remastered 2002)</td>\n",
       "      <td>[GN0900]</td>\n",
       "      <td>2</td>\n",
       "    </tr>\n",
       "    <tr>\n",
       "      <th>3</th>\n",
       "      <td>[GN1102, GN1101]</td>\n",
       "      <td>Feeling Right (Everything Is Nice) (Feat. Popc...</td>\n",
       "      <td>[GN1100]</td>\n",
       "      <td>3</td>\n",
       "    </tr>\n",
       "    <tr>\n",
       "      <th>4</th>\n",
       "      <td>[GN1802, GN1801]</td>\n",
       "      <td>그남자 그여자</td>\n",
       "      <td>[GN1800]</td>\n",
       "      <td>4</td>\n",
       "    </tr>\n",
       "  </tbody>\n",
       "</table>\n",
       "</div>"
      ],
      "text/plain": [
       "  song_gn_dtl_gnr_basket                                          song_name  \\\n",
       "0               [GN0901]                                           Feelings   \n",
       "1       [GN1601, GN1606]  Bach : Partita No. 4 In D Major, BWV 828 - II....   \n",
       "2               [GN0901]                    Solsbury Hill (Remastered 2002)   \n",
       "3       [GN1102, GN1101]  Feeling Right (Everything Is Nice) (Feat. Popc...   \n",
       "4       [GN1802, GN1801]                                            그남자 그여자   \n",
       "\n",
       "  song_gn_gnr_basket  id  \n",
       "0           [GN0900]   0  \n",
       "1           [GN1600]   1  \n",
       "2           [GN0900]   2  \n",
       "3           [GN1100]   3  \n",
       "4           [GN1800]   4  "
      ]
     },
     "execution_count": 95,
     "metadata": {},
     "output_type": "execute_result"
    }
   ],
   "source": [
    "songs.drop(['issue_date', 'album_name', 'album_id', 'artist_id_basket', 'artist_name_basket'], axis = 1, inplace = True)\n",
    "songs.head() "
   ]
  },
  {
   "cell_type": "code",
   "execution_count": 96,
   "metadata": {
    "ExecuteTime": {
     "end_time": "2021-11-03T06:00:37.376380Z",
     "start_time": "2021-11-03T06:00:01.305756Z"
    },
    "scrolled": true
   },
   "outputs": [],
   "source": [
    "songs['song_gn_dtl_gnr_basket'] = [', '.join(songs['song_gn_dtl_gnr_basket'][i]) for i in range(len(songs))]\n",
    "songs['song_gn_gnr_basket'] = [', '.join(songs['song_gn_gnr_basket'][i]) for i in range(len(songs))]"
   ]
  },
  {
   "cell_type": "code",
   "execution_count": 97,
   "metadata": {
    "ExecuteTime": {
     "end_time": "2021-11-03T06:00:37.532332Z",
     "start_time": "2021-11-03T06:00:37.503332Z"
    }
   },
   "outputs": [
    {
     "data": {
      "text/html": [
       "<div>\n",
       "<style scoped>\n",
       "    .dataframe tbody tr th:only-of-type {\n",
       "        vertical-align: middle;\n",
       "    }\n",
       "\n",
       "    .dataframe tbody tr th {\n",
       "        vertical-align: top;\n",
       "    }\n",
       "\n",
       "    .dataframe thead th {\n",
       "        text-align: right;\n",
       "    }\n",
       "</style>\n",
       "<table border=\"1\" class=\"dataframe\">\n",
       "  <thead>\n",
       "    <tr style=\"text-align: right;\">\n",
       "      <th></th>\n",
       "      <th>song_gn_dtl_gnr_basket</th>\n",
       "      <th>song_name</th>\n",
       "      <th>song_gn_gnr_basket</th>\n",
       "      <th>id</th>\n",
       "    </tr>\n",
       "  </thead>\n",
       "  <tbody>\n",
       "    <tr>\n",
       "      <th>0</th>\n",
       "      <td>GN0901</td>\n",
       "      <td>Feelings</td>\n",
       "      <td>GN0900</td>\n",
       "      <td>0</td>\n",
       "    </tr>\n",
       "    <tr>\n",
       "      <th>1</th>\n",
       "      <td>GN1601, GN1606</td>\n",
       "      <td>Bach : Partita No. 4 In D Major, BWV 828 - II....</td>\n",
       "      <td>GN1600</td>\n",
       "      <td>1</td>\n",
       "    </tr>\n",
       "    <tr>\n",
       "      <th>2</th>\n",
       "      <td>GN0901</td>\n",
       "      <td>Solsbury Hill (Remastered 2002)</td>\n",
       "      <td>GN0900</td>\n",
       "      <td>2</td>\n",
       "    </tr>\n",
       "    <tr>\n",
       "      <th>3</th>\n",
       "      <td>GN1102, GN1101</td>\n",
       "      <td>Feeling Right (Everything Is Nice) (Feat. Popc...</td>\n",
       "      <td>GN1100</td>\n",
       "      <td>3</td>\n",
       "    </tr>\n",
       "    <tr>\n",
       "      <th>4</th>\n",
       "      <td>GN1802, GN1801</td>\n",
       "      <td>그남자 그여자</td>\n",
       "      <td>GN1800</td>\n",
       "      <td>4</td>\n",
       "    </tr>\n",
       "    <tr>\n",
       "      <th>...</th>\n",
       "      <td>...</td>\n",
       "      <td>...</td>\n",
       "      <td>...</td>\n",
       "      <td>...</td>\n",
       "    </tr>\n",
       "    <tr>\n",
       "      <th>707984</th>\n",
       "      <td>GN2001</td>\n",
       "      <td>Coffin For Head Of State</td>\n",
       "      <td>GN2000</td>\n",
       "      <td>707984</td>\n",
       "    </tr>\n",
       "    <tr>\n",
       "      <th>707985</th>\n",
       "      <td>GN0901</td>\n",
       "      <td>Change Of Heart</td>\n",
       "      <td>GN0900</td>\n",
       "      <td>707985</td>\n",
       "    </tr>\n",
       "    <tr>\n",
       "      <th>707986</th>\n",
       "      <td>GN0105, GN0101</td>\n",
       "      <td>스치듯 안녕</td>\n",
       "      <td>GN0100</td>\n",
       "      <td>707986</td>\n",
       "    </tr>\n",
       "    <tr>\n",
       "      <th>707987</th>\n",
       "      <td>GN1807, GN1801</td>\n",
       "      <td>숲의 빛</td>\n",
       "      <td>GN1800</td>\n",
       "      <td>707987</td>\n",
       "    </tr>\n",
       "    <tr>\n",
       "      <th>707988</th>\n",
       "      <td>GN0601, GN0604</td>\n",
       "      <td>Queen 명곡 멜로디</td>\n",
       "      <td>GN0600</td>\n",
       "      <td>707988</td>\n",
       "    </tr>\n",
       "  </tbody>\n",
       "</table>\n",
       "<p>707989 rows × 4 columns</p>\n",
       "</div>"
      ],
      "text/plain": [
       "       song_gn_dtl_gnr_basket  \\\n",
       "0                      GN0901   \n",
       "1              GN1601, GN1606   \n",
       "2                      GN0901   \n",
       "3              GN1102, GN1101   \n",
       "4              GN1802, GN1801   \n",
       "...                       ...   \n",
       "707984                 GN2001   \n",
       "707985                 GN0901   \n",
       "707986         GN0105, GN0101   \n",
       "707987         GN1807, GN1801   \n",
       "707988         GN0601, GN0604   \n",
       "\n",
       "                                                song_name song_gn_gnr_basket  \\\n",
       "0                                                Feelings             GN0900   \n",
       "1       Bach : Partita No. 4 In D Major, BWV 828 - II....             GN1600   \n",
       "2                         Solsbury Hill (Remastered 2002)             GN0900   \n",
       "3       Feeling Right (Everything Is Nice) (Feat. Popc...             GN1100   \n",
       "4                                                 그남자 그여자             GN1800   \n",
       "...                                                   ...                ...   \n",
       "707984                           Coffin For Head Of State             GN2000   \n",
       "707985                                    Change Of Heart             GN0900   \n",
       "707986                                             스치듯 안녕             GN0100   \n",
       "707987                                               숲의 빛             GN1800   \n",
       "707988                                       Queen 명곡 멜로디             GN0600   \n",
       "\n",
       "            id  \n",
       "0            0  \n",
       "1            1  \n",
       "2            2  \n",
       "3            3  \n",
       "4            4  \n",
       "...        ...  \n",
       "707984  707984  \n",
       "707985  707985  \n",
       "707986  707986  \n",
       "707987  707987  \n",
       "707988  707988  \n",
       "\n",
       "[707989 rows x 4 columns]"
      ]
     },
     "execution_count": 97,
     "metadata": {},
     "output_type": "execute_result"
    }
   ],
   "source": [
    "songs"
   ]
  },
  {
   "cell_type": "markdown",
   "metadata": {},
   "source": [
    "### 노래 - 태그 매핑"
   ]
  },
  {
   "cell_type": "code",
   "execution_count": 103,
   "metadata": {
    "ExecuteTime": {
     "end_time": "2021-11-03T06:03:41.835745Z",
     "start_time": "2021-11-03T06:03:41.816743Z"
    }
   },
   "outputs": [
    {
     "data": {
      "text/plain": [
       "['genre_gn_all.json',\n",
       " 'gnr_code.xlsx',\n",
       " 'gnr_tag.xlsx',\n",
       " 'README.md',\n",
       " 'songs.csv',\n",
       " 'song_meta.json',\n",
       " 'tags_songid.csv',\n",
       " 'test.json',\n",
       " 'train.json',\n",
       " 'val.json']"
      ]
     },
     "execution_count": 103,
     "metadata": {},
     "output_type": "execute_result"
    }
   ],
   "source": [
    "os.listdir('./data') "
   ]
  },
  {
   "cell_type": "code",
   "execution_count": 105,
   "metadata": {
    "ExecuteTime": {
     "end_time": "2021-11-03T06:04:05.240783Z",
     "start_time": "2021-11-03T06:04:03.651751Z"
    }
   },
   "outputs": [],
   "source": [
    "t = pd.read_csv('./data/tags_songid.csv')\n",
    "s = pd.read_csv('./data/songs.csv')"
   ]
  },
  {
   "cell_type": "code",
   "execution_count": 134,
   "metadata": {
    "ExecuteTime": {
     "end_time": "2021-11-03T06:39:34.772900Z",
     "start_time": "2021-11-03T06:39:34.261908Z"
    }
   },
   "outputs": [
    {
     "name": "stdout",
     "output_type": "stream",
     "text": [
      "<class 'pandas.core.frame.DataFrame'>\n",
      "RangeIndex: 115071 entries, 0 to 115070\n",
      "Data columns (total 2 columns):\n",
      " #   Column  Non-Null Count   Dtype \n",
      "---  ------  --------------   ----- \n",
      " 0   tags    115071 non-null  object\n",
      " 1   songs   115071 non-null  object\n",
      "dtypes: object(2)\n",
      "memory usage: 1.8+ MB\n"
     ]
    }
   ],
   "source": [
    "t.info() "
   ]
  },
  {
   "cell_type": "code",
   "execution_count": 136,
   "metadata": {
    "ExecuteTime": {
     "end_time": "2021-11-03T06:40:32.864046Z",
     "start_time": "2021-11-03T06:40:32.834085Z"
    }
   },
   "outputs": [
    {
     "data": {
      "text/html": [
       "<div>\n",
       "<style scoped>\n",
       "    .dataframe tbody tr th:only-of-type {\n",
       "        vertical-align: middle;\n",
       "    }\n",
       "\n",
       "    .dataframe tbody tr th {\n",
       "        vertical-align: top;\n",
       "    }\n",
       "\n",
       "    .dataframe thead th {\n",
       "        text-align: right;\n",
       "    }\n",
       "</style>\n",
       "<table border=\"1\" class=\"dataframe\">\n",
       "  <thead>\n",
       "    <tr style=\"text-align: right;\">\n",
       "      <th></th>\n",
       "      <th>tags</th>\n",
       "      <th>songs</th>\n",
       "    </tr>\n",
       "  </thead>\n",
       "  <tbody>\n",
       "    <tr>\n",
       "      <th>0</th>\n",
       "      <td>락</td>\n",
       "      <td>[525514, 129701, 383374, 562083, 297861, 13954...</td>\n",
       "    </tr>\n",
       "    <tr>\n",
       "      <th>1</th>\n",
       "      <td>추억, 회상</td>\n",
       "      <td>[432406, 675945, 497066, 120377, 389529, 24427...</td>\n",
       "    </tr>\n",
       "    <tr>\n",
       "      <th>2</th>\n",
       "      <td>까페, 잔잔한</td>\n",
       "      <td>[83116, 276692, 166267, 186301, 354465, 256598...</td>\n",
       "    </tr>\n",
       "    <tr>\n",
       "      <th>3</th>\n",
       "      <td>연말, 눈오는날, 캐럴, 분위기, 따듯한, 크리스마스캐럴, 겨울노래, 크리스마스, ...</td>\n",
       "      <td>[394031, 195524, 540149, 287984, 440773, 10033...</td>\n",
       "    </tr>\n",
       "    <tr>\n",
       "      <th>4</th>\n",
       "      <td>댄스</td>\n",
       "      <td>[159327, 553610, 5130, 645103, 294435, 100657,...</td>\n",
       "    </tr>\n",
       "    <tr>\n",
       "      <th>...</th>\n",
       "      <td>...</td>\n",
       "      <td>...</td>\n",
       "    </tr>\n",
       "    <tr>\n",
       "      <th>115066</th>\n",
       "      <td>록메탈, 밴드사운드, 록, 락메탈, 메탈, 락, extreme</td>\n",
       "      <td>[429629, 441511, 612106, 516359, 691768, 38714...</td>\n",
       "    </tr>\n",
       "    <tr>\n",
       "      <th>115067</th>\n",
       "      <td>일렉</td>\n",
       "      <td>[321330, 216057, 534472, 240306, 331098, 23288...</td>\n",
       "    </tr>\n",
       "    <tr>\n",
       "      <th>115068</th>\n",
       "      <td>담시, 가족, 눈물, 그리움, 주인공, 나의_이야기, 사랑, 친구</td>\n",
       "      <td>[50512, 249024, 250608, 371171, 229942, 694943...</td>\n",
       "    </tr>\n",
       "    <tr>\n",
       "      <th>115069</th>\n",
       "      <td>잔잔한, 버스, 퇴근버스, Pop, 풍경, 퇴근길</td>\n",
       "      <td>[533534, 608114, 343608, 417140, 609009, 30217...</td>\n",
       "    </tr>\n",
       "    <tr>\n",
       "      <th>115070</th>\n",
       "      <td>노래추천, 팝송추천, 팝송, 팝송모음</td>\n",
       "      <td>[26008, 456354, 324105, 89871, 135272, 143548,...</td>\n",
       "    </tr>\n",
       "  </tbody>\n",
       "</table>\n",
       "<p>115071 rows × 2 columns</p>\n",
       "</div>"
      ],
      "text/plain": [
       "                                                     tags  \\\n",
       "0                                                       락   \n",
       "1                                                  추억, 회상   \n",
       "2                                                 까페, 잔잔한   \n",
       "3       연말, 눈오는날, 캐럴, 분위기, 따듯한, 크리스마스캐럴, 겨울노래, 크리스마스, ...   \n",
       "4                                                      댄스   \n",
       "...                                                   ...   \n",
       "115066                 록메탈, 밴드사운드, 록, 락메탈, 메탈, 락, extreme   \n",
       "115067                                                 일렉   \n",
       "115068               담시, 가족, 눈물, 그리움, 주인공, 나의_이야기, 사랑, 친구   \n",
       "115069                        잔잔한, 버스, 퇴근버스, Pop, 풍경, 퇴근길   \n",
       "115070                               노래추천, 팝송추천, 팝송, 팝송모음   \n",
       "\n",
       "                                                    songs  \n",
       "0       [525514, 129701, 383374, 562083, 297861, 13954...  \n",
       "1       [432406, 675945, 497066, 120377, 389529, 24427...  \n",
       "2       [83116, 276692, 166267, 186301, 354465, 256598...  \n",
       "3       [394031, 195524, 540149, 287984, 440773, 10033...  \n",
       "4       [159327, 553610, 5130, 645103, 294435, 100657,...  \n",
       "...                                                   ...  \n",
       "115066  [429629, 441511, 612106, 516359, 691768, 38714...  \n",
       "115067  [321330, 216057, 534472, 240306, 331098, 23288...  \n",
       "115068  [50512, 249024, 250608, 371171, 229942, 694943...  \n",
       "115069  [533534, 608114, 343608, 417140, 609009, 30217...  \n",
       "115070  [26008, 456354, 324105, 89871, 135272, 143548,...  \n",
       "\n",
       "[115071 rows x 2 columns]"
      ]
     },
     "execution_count": 136,
     "metadata": {},
     "output_type": "execute_result"
    }
   ],
   "source": [
    "# songs가 list가 아닌 문자열로 바뀌어서 다시 변환\n",
    "t['songs'] = [t['songs'][i][1:-1].split(', ') for i in range(len(t))]\n",
    "t"
   ]
  },
  {
   "cell_type": "code",
   "execution_count": 140,
   "metadata": {
    "ExecuteTime": {
     "end_time": "2021-11-03T06:50:19.625285Z",
     "start_time": "2021-11-03T06:50:15.822179Z"
    }
   },
   "outputs": [],
   "source": [
    "# 플레이리스트 tag와 songs 추출\n",
    "plylst_song_map = t\n",
    "\n",
    "# unnest songs\n",
    "plylst_song_map_unnest = np.dstack(\n",
    "    (\n",
    "        np.repeat(plylst_song_map.tags.values, list(map(len, plylst_song_map.songs))), \n",
    "        np.concatenate(plylst_song_map.songs.values)\n",
    "    )\n",
    ")\n",
    "\n",
    "# unnested 데이터프레임 생성 : plylst_song_map\n",
    "plylst_song_map = pd.DataFrame(data = plylst_song_map_unnest[0], columns = plylst_song_map.columns)\n",
    "plylst_song_map['tags'] = plylst_song_map['tags'].astype(str)\n",
    "plylst_song_map['song_id'] = plylst_song_map['songs'].astype(str)\n",
    "\n",
    "# unnest 객체 제거\n",
    "del plylst_song_map_unnest"
   ]
  },
  {
   "cell_type": "code",
   "execution_count": 142,
   "metadata": {
    "ExecuteTime": {
     "end_time": "2021-11-03T06:50:41.222463Z",
     "start_time": "2021-11-03T06:50:40.179318Z"
    },
    "scrolled": true
   },
   "outputs": [
    {
     "data": {
      "text/html": [
       "<div>\n",
       "<style scoped>\n",
       "    .dataframe tbody tr th:only-of-type {\n",
       "        vertical-align: middle;\n",
       "    }\n",
       "\n",
       "    .dataframe tbody tr th {\n",
       "        vertical-align: top;\n",
       "    }\n",
       "\n",
       "    .dataframe thead th {\n",
       "        text-align: right;\n",
       "    }\n",
       "</style>\n",
       "<table border=\"1\" class=\"dataframe\">\n",
       "  <thead>\n",
       "    <tr style=\"text-align: right;\">\n",
       "      <th></th>\n",
       "      <th>tags</th>\n",
       "      <th>song_id</th>\n",
       "    </tr>\n",
       "  </thead>\n",
       "  <tbody>\n",
       "    <tr>\n",
       "      <th>0</th>\n",
       "      <td>락</td>\n",
       "      <td>525514</td>\n",
       "    </tr>\n",
       "    <tr>\n",
       "      <th>1</th>\n",
       "      <td>락</td>\n",
       "      <td>129701</td>\n",
       "    </tr>\n",
       "    <tr>\n",
       "      <th>2</th>\n",
       "      <td>락</td>\n",
       "      <td>383374</td>\n",
       "    </tr>\n",
       "    <tr>\n",
       "      <th>3</th>\n",
       "      <td>락</td>\n",
       "      <td>562083</td>\n",
       "    </tr>\n",
       "    <tr>\n",
       "      <th>4</th>\n",
       "      <td>락</td>\n",
       "      <td>297861</td>\n",
       "    </tr>\n",
       "    <tr>\n",
       "      <th>...</th>\n",
       "      <td>...</td>\n",
       "      <td>...</td>\n",
       "    </tr>\n",
       "    <tr>\n",
       "      <th>5285866</th>\n",
       "      <td>노래추천, 팝송추천, 팝송, 팝송모음</td>\n",
       "      <td>111365</td>\n",
       "    </tr>\n",
       "    <tr>\n",
       "      <th>5285867</th>\n",
       "      <td>노래추천, 팝송추천, 팝송, 팝송모음</td>\n",
       "      <td>51373</td>\n",
       "    </tr>\n",
       "    <tr>\n",
       "      <th>5285868</th>\n",
       "      <td>노래추천, 팝송추천, 팝송, 팝송모음</td>\n",
       "      <td>640239</td>\n",
       "    </tr>\n",
       "    <tr>\n",
       "      <th>5285869</th>\n",
       "      <td>노래추천, 팝송추천, 팝송, 팝송모음</td>\n",
       "      <td>13759</td>\n",
       "    </tr>\n",
       "    <tr>\n",
       "      <th>5285870</th>\n",
       "      <td>노래추천, 팝송추천, 팝송, 팝송모음</td>\n",
       "      <td>154078</td>\n",
       "    </tr>\n",
       "  </tbody>\n",
       "</table>\n",
       "<p>5285871 rows × 2 columns</p>\n",
       "</div>"
      ],
      "text/plain": [
       "                         tags song_id\n",
       "0                           락  525514\n",
       "1                           락  129701\n",
       "2                           락  383374\n",
       "3                           락  562083\n",
       "4                           락  297861\n",
       "...                       ...     ...\n",
       "5285866  노래추천, 팝송추천, 팝송, 팝송모음  111365\n",
       "5285867  노래추천, 팝송추천, 팝송, 팝송모음   51373\n",
       "5285868  노래추천, 팝송추천, 팝송, 팝송모음  640239\n",
       "5285869  노래추천, 팝송추천, 팝송, 팝송모음   13759\n",
       "5285870  노래추천, 팝송추천, 팝송, 팝송모음  154078\n",
       "\n",
       "[5285871 rows x 2 columns]"
      ]
     },
     "execution_count": 142,
     "metadata": {},
     "output_type": "execute_result"
    }
   ],
   "source": [
    "plylst_song_map.drop('songs', axis = 1, inplace = True)\n",
    "plylst_song_map"
   ]
  },
  {
   "cell_type": "code",
   "execution_count": 143,
   "metadata": {
    "ExecuteTime": {
     "end_time": "2021-11-03T06:51:06.078628Z",
     "start_time": "2021-11-03T06:51:06.054583Z"
    }
   },
   "outputs": [],
   "source": [
    "s.columns = ['dtl_gnr', 'song_name', 'gnr', 'song_id']"
   ]
  },
  {
   "cell_type": "code",
   "execution_count": 144,
   "metadata": {
    "ExecuteTime": {
     "end_time": "2021-11-03T06:51:07.922590Z",
     "start_time": "2021-11-03T06:51:07.898602Z"
    }
   },
   "outputs": [
    {
     "data": {
      "text/html": [
       "<div>\n",
       "<style scoped>\n",
       "    .dataframe tbody tr th:only-of-type {\n",
       "        vertical-align: middle;\n",
       "    }\n",
       "\n",
       "    .dataframe tbody tr th {\n",
       "        vertical-align: top;\n",
       "    }\n",
       "\n",
       "    .dataframe thead th {\n",
       "        text-align: right;\n",
       "    }\n",
       "</style>\n",
       "<table border=\"1\" class=\"dataframe\">\n",
       "  <thead>\n",
       "    <tr style=\"text-align: right;\">\n",
       "      <th></th>\n",
       "      <th>dtl_gnr</th>\n",
       "      <th>song_name</th>\n",
       "      <th>gnr</th>\n",
       "      <th>song_id</th>\n",
       "    </tr>\n",
       "  </thead>\n",
       "  <tbody>\n",
       "    <tr>\n",
       "      <th>0</th>\n",
       "      <td>GN0901</td>\n",
       "      <td>Feelings</td>\n",
       "      <td>GN0900</td>\n",
       "      <td>0</td>\n",
       "    </tr>\n",
       "    <tr>\n",
       "      <th>1</th>\n",
       "      <td>GN1601, GN1606</td>\n",
       "      <td>Bach : Partita No. 4 In D Major, BWV 828 - II....</td>\n",
       "      <td>GN1600</td>\n",
       "      <td>1</td>\n",
       "    </tr>\n",
       "    <tr>\n",
       "      <th>2</th>\n",
       "      <td>GN0901</td>\n",
       "      <td>Solsbury Hill (Remastered 2002)</td>\n",
       "      <td>GN0900</td>\n",
       "      <td>2</td>\n",
       "    </tr>\n",
       "    <tr>\n",
       "      <th>3</th>\n",
       "      <td>GN1102, GN1101</td>\n",
       "      <td>Feeling Right (Everything Is Nice) (Feat. Popc...</td>\n",
       "      <td>GN1100</td>\n",
       "      <td>3</td>\n",
       "    </tr>\n",
       "    <tr>\n",
       "      <th>4</th>\n",
       "      <td>GN1802, GN1801</td>\n",
       "      <td>그남자 그여자</td>\n",
       "      <td>GN1800</td>\n",
       "      <td>4</td>\n",
       "    </tr>\n",
       "    <tr>\n",
       "      <th>...</th>\n",
       "      <td>...</td>\n",
       "      <td>...</td>\n",
       "      <td>...</td>\n",
       "      <td>...</td>\n",
       "    </tr>\n",
       "    <tr>\n",
       "      <th>707984</th>\n",
       "      <td>GN2001</td>\n",
       "      <td>Coffin For Head Of State</td>\n",
       "      <td>GN2000</td>\n",
       "      <td>707984</td>\n",
       "    </tr>\n",
       "    <tr>\n",
       "      <th>707985</th>\n",
       "      <td>GN0901</td>\n",
       "      <td>Change Of Heart</td>\n",
       "      <td>GN0900</td>\n",
       "      <td>707985</td>\n",
       "    </tr>\n",
       "    <tr>\n",
       "      <th>707986</th>\n",
       "      <td>GN0105, GN0101</td>\n",
       "      <td>스치듯 안녕</td>\n",
       "      <td>GN0100</td>\n",
       "      <td>707986</td>\n",
       "    </tr>\n",
       "    <tr>\n",
       "      <th>707987</th>\n",
       "      <td>GN1807, GN1801</td>\n",
       "      <td>숲의 빛</td>\n",
       "      <td>GN1800</td>\n",
       "      <td>707987</td>\n",
       "    </tr>\n",
       "    <tr>\n",
       "      <th>707988</th>\n",
       "      <td>GN0601, GN0604</td>\n",
       "      <td>Queen 명곡 멜로디</td>\n",
       "      <td>GN0600</td>\n",
       "      <td>707988</td>\n",
       "    </tr>\n",
       "  </tbody>\n",
       "</table>\n",
       "<p>707989 rows × 4 columns</p>\n",
       "</div>"
      ],
      "text/plain": [
       "               dtl_gnr                                          song_name  \\\n",
       "0               GN0901                                           Feelings   \n",
       "1       GN1601, GN1606  Bach : Partita No. 4 In D Major, BWV 828 - II....   \n",
       "2               GN0901                    Solsbury Hill (Remastered 2002)   \n",
       "3       GN1102, GN1101  Feeling Right (Everything Is Nice) (Feat. Popc...   \n",
       "4       GN1802, GN1801                                            그남자 그여자   \n",
       "...                ...                                                ...   \n",
       "707984          GN2001                           Coffin For Head Of State   \n",
       "707985          GN0901                                    Change Of Heart   \n",
       "707986  GN0105, GN0101                                             스치듯 안녕   \n",
       "707987  GN1807, GN1801                                               숲의 빛   \n",
       "707988  GN0601, GN0604                                       Queen 명곡 멜로디   \n",
       "\n",
       "           gnr  song_id  \n",
       "0       GN0900        0  \n",
       "1       GN1600        1  \n",
       "2       GN0900        2  \n",
       "3       GN1100        3  \n",
       "4       GN1800        4  \n",
       "...        ...      ...  \n",
       "707984  GN2000   707984  \n",
       "707985  GN0900   707985  \n",
       "707986  GN0100   707986  \n",
       "707987  GN1800   707987  \n",
       "707988  GN0600   707988  \n",
       "\n",
       "[707989 rows x 4 columns]"
      ]
     },
     "execution_count": 144,
     "metadata": {},
     "output_type": "execute_result"
    }
   ],
   "source": [
    "s"
   ]
  },
  {
   "cell_type": "code",
   "execution_count": 146,
   "metadata": {
    "ExecuteTime": {
     "end_time": "2021-11-03T06:51:33.918829Z",
     "start_time": "2021-11-03T06:51:33.030385Z"
    }
   },
   "outputs": [
    {
     "name": "stdout",
     "output_type": "stream",
     "text": [
      "<class 'pandas.core.frame.DataFrame'>\n",
      "RangeIndex: 707989 entries, 0 to 707988\n",
      "Data columns (total 4 columns):\n",
      " #   Column     Non-Null Count   Dtype \n",
      "---  ------     --------------   ----- \n",
      " 0   dtl_gnr    703952 non-null  object\n",
      " 1   song_name  707987 non-null  object\n",
      " 2   gnr        706930 non-null  object\n",
      " 3   song_id    707989 non-null  int64 \n",
      "dtypes: int64(1), object(3)\n",
      "memory usage: 21.6+ MB\n"
     ]
    }
   ],
   "source": [
    "s.info() "
   ]
  },
  {
   "cell_type": "code",
   "execution_count": 147,
   "metadata": {
    "ExecuteTime": {
     "end_time": "2021-11-03T06:51:43.339433Z",
     "start_time": "2021-11-03T06:51:43.324433Z"
    }
   },
   "outputs": [
    {
     "name": "stdout",
     "output_type": "stream",
     "text": [
      "<class 'pandas.core.frame.DataFrame'>\n",
      "RangeIndex: 5285871 entries, 0 to 5285870\n",
      "Data columns (total 2 columns):\n",
      " #   Column   Dtype \n",
      "---  ------   ----- \n",
      " 0   tags     object\n",
      " 1   song_id  object\n",
      "dtypes: object(2)\n",
      "memory usage: 80.7+ MB\n"
     ]
    }
   ],
   "source": [
    "plylst_song_map.info() "
   ]
  },
  {
   "cell_type": "code",
   "execution_count": 148,
   "metadata": {
    "ExecuteTime": {
     "end_time": "2021-11-03T06:52:55.197209Z",
     "start_time": "2021-11-03T06:52:52.665062Z"
    }
   },
   "outputs": [],
   "source": [
    "plylst_song_map['song_id'] = pd.to_numeric(plylst_song_map['song_id'])"
   ]
  },
  {
   "cell_type": "code",
   "execution_count": 150,
   "metadata": {
    "ExecuteTime": {
     "end_time": "2021-11-03T06:53:05.112040Z",
     "start_time": "2021-11-03T06:53:05.103037Z"
    }
   },
   "outputs": [
    {
     "name": "stdout",
     "output_type": "stream",
     "text": [
      "<class 'pandas.core.frame.DataFrame'>\n",
      "RangeIndex: 5285871 entries, 0 to 5285870\n",
      "Data columns (total 2 columns):\n",
      " #   Column   Dtype \n",
      "---  ------   ----- \n",
      " 0   tags     object\n",
      " 1   song_id  int64 \n",
      "dtypes: int64(1), object(1)\n",
      "memory usage: 80.7+ MB\n"
     ]
    }
   ],
   "source": [
    "plylst_song_map.info() "
   ]
  },
  {
   "cell_type": "code",
   "execution_count": 152,
   "metadata": {
    "ExecuteTime": {
     "end_time": "2021-11-03T06:53:38.603957Z",
     "start_time": "2021-11-03T06:53:35.944980Z"
    }
   },
   "outputs": [
    {
     "data": {
      "text/html": [
       "<div>\n",
       "<style scoped>\n",
       "    .dataframe tbody tr th:only-of-type {\n",
       "        vertical-align: middle;\n",
       "    }\n",
       "\n",
       "    .dataframe tbody tr th {\n",
       "        vertical-align: top;\n",
       "    }\n",
       "\n",
       "    .dataframe thead th {\n",
       "        text-align: right;\n",
       "    }\n",
       "</style>\n",
       "<table border=\"1\" class=\"dataframe\">\n",
       "  <thead>\n",
       "    <tr style=\"text-align: right;\">\n",
       "      <th></th>\n",
       "      <th>dtl_gnr</th>\n",
       "      <th>song_name</th>\n",
       "      <th>gnr</th>\n",
       "      <th>song_id</th>\n",
       "      <th>tags</th>\n",
       "    </tr>\n",
       "  </thead>\n",
       "  <tbody>\n",
       "    <tr>\n",
       "      <th>0</th>\n",
       "      <td>GN0901</td>\n",
       "      <td>Feelings</td>\n",
       "      <td>GN0900</td>\n",
       "      <td>0</td>\n",
       "      <td>비오는날, 드라이브</td>\n",
       "    </tr>\n",
       "    <tr>\n",
       "      <th>1</th>\n",
       "      <td>GN0901</td>\n",
       "      <td>Feelings</td>\n",
       "      <td>GN0900</td>\n",
       "      <td>0</td>\n",
       "      <td>비오는날, 추억, 회상</td>\n",
       "    </tr>\n",
       "    <tr>\n",
       "      <th>2</th>\n",
       "      <td>GN1601, GN1606</td>\n",
       "      <td>Bach : Partita No. 4 In D Major, BWV 828 - II....</td>\n",
       "      <td>GN1600</td>\n",
       "      <td>1</td>\n",
       "      <td>NaN</td>\n",
       "    </tr>\n",
       "    <tr>\n",
       "      <th>3</th>\n",
       "      <td>GN0901</td>\n",
       "      <td>Solsbury Hill (Remastered 2002)</td>\n",
       "      <td>GN0900</td>\n",
       "      <td>2</td>\n",
       "      <td>NaN</td>\n",
       "    </tr>\n",
       "    <tr>\n",
       "      <th>4</th>\n",
       "      <td>GN1102, GN1101</td>\n",
       "      <td>Feeling Right (Everything Is Nice) (Feat. Popc...</td>\n",
       "      <td>GN1100</td>\n",
       "      <td>3</td>\n",
       "      <td>1</td>\n",
       "    </tr>\n",
       "    <tr>\n",
       "      <th>...</th>\n",
       "      <td>...</td>\n",
       "      <td>...</td>\n",
       "      <td>...</td>\n",
       "      <td>...</td>\n",
       "      <td>...</td>\n",
       "    </tr>\n",
       "    <tr>\n",
       "      <th>5378713</th>\n",
       "      <td>GN0105, GN0101</td>\n",
       "      <td>스치듯 안녕</td>\n",
       "      <td>GN0100</td>\n",
       "      <td>707986</td>\n",
       "      <td>윤종신</td>\n",
       "    </tr>\n",
       "    <tr>\n",
       "      <th>5378714</th>\n",
       "      <td>GN0105, GN0101</td>\n",
       "      <td>스치듯 안녕</td>\n",
       "      <td>GN0100</td>\n",
       "      <td>707986</td>\n",
       "      <td>윤종신, 명곡, 김광석, 발라드</td>\n",
       "    </tr>\n",
       "    <tr>\n",
       "      <th>5378715</th>\n",
       "      <td>GN0105, GN0101</td>\n",
       "      <td>스치듯 안녕</td>\n",
       "      <td>GN0100</td>\n",
       "      <td>707986</td>\n",
       "      <td>잔잔한, 이별, 발라드, 밤, 새벽</td>\n",
       "    </tr>\n",
       "    <tr>\n",
       "      <th>5378716</th>\n",
       "      <td>GN1807, GN1801</td>\n",
       "      <td>숲의 빛</td>\n",
       "      <td>GN1800</td>\n",
       "      <td>707987</td>\n",
       "      <td>집중, 노동요, 새벽, 오후, 자장가, 공부</td>\n",
       "    </tr>\n",
       "    <tr>\n",
       "      <th>5378717</th>\n",
       "      <td>GN0601, GN0604</td>\n",
       "      <td>Queen 명곡 멜로디</td>\n",
       "      <td>GN0600</td>\n",
       "      <td>707988</td>\n",
       "      <td>데뷔24년, 김경호, 샤우팅의_지존</td>\n",
       "    </tr>\n",
       "  </tbody>\n",
       "</table>\n",
       "<p>5378718 rows × 5 columns</p>\n",
       "</div>"
      ],
      "text/plain": [
       "                dtl_gnr                                          song_name  \\\n",
       "0                GN0901                                           Feelings   \n",
       "1                GN0901                                           Feelings   \n",
       "2        GN1601, GN1606  Bach : Partita No. 4 In D Major, BWV 828 - II....   \n",
       "3                GN0901                    Solsbury Hill (Remastered 2002)   \n",
       "4        GN1102, GN1101  Feeling Right (Everything Is Nice) (Feat. Popc...   \n",
       "...                 ...                                                ...   \n",
       "5378713  GN0105, GN0101                                             스치듯 안녕   \n",
       "5378714  GN0105, GN0101                                             스치듯 안녕   \n",
       "5378715  GN0105, GN0101                                             스치듯 안녕   \n",
       "5378716  GN1807, GN1801                                               숲의 빛   \n",
       "5378717  GN0601, GN0604                                       Queen 명곡 멜로디   \n",
       "\n",
       "            gnr  song_id                      tags  \n",
       "0        GN0900        0                비오는날, 드라이브  \n",
       "1        GN0900        0              비오는날, 추억, 회상  \n",
       "2        GN1600        1                       NaN  \n",
       "3        GN0900        2                       NaN  \n",
       "4        GN1100        3                         1  \n",
       "...         ...      ...                       ...  \n",
       "5378713  GN0100   707986                       윤종신  \n",
       "5378714  GN0100   707986         윤종신, 명곡, 김광석, 발라드  \n",
       "5378715  GN0100   707986       잔잔한, 이별, 발라드, 밤, 새벽  \n",
       "5378716  GN1800   707987  집중, 노동요, 새벽, 오후, 자장가, 공부  \n",
       "5378717  GN0600   707988       데뷔24년, 김경호, 샤우팅의_지존  \n",
       "\n",
       "[5378718 rows x 5 columns]"
      ]
     },
     "execution_count": 152,
     "metadata": {},
     "output_type": "execute_result"
    }
   ],
   "source": [
    "song_tag = pd.merge(s, plylst_song_map, on = 'song_id', how = 'left')\n",
    "song_tag"
   ]
  },
  {
   "cell_type": "code",
   "execution_count": 153,
   "metadata": {
    "ExecuteTime": {
     "end_time": "2021-11-03T06:54:20.434570Z",
     "start_time": "2021-11-03T06:53:59.666122Z"
    }
   },
   "outputs": [],
   "source": [
    "song_tag.to_csv('song_tag_gnr_map.csv', index = False)"
   ]
  },
  {
   "cell_type": "code",
   "execution_count": null,
   "metadata": {},
   "outputs": [],
   "source": []
  }
 ],
 "metadata": {
  "kernelspec": {
   "display_name": "Python 3",
   "language": "python",
   "name": "python3"
  },
  "language_info": {
   "codemirror_mode": {
    "name": "ipython",
    "version": 3
   },
   "file_extension": ".py",
   "mimetype": "text/x-python",
   "name": "python",
   "nbconvert_exporter": "python",
   "pygments_lexer": "ipython3",
   "version": "3.8.3"
  },
  "toc": {
   "base_numbering": 1,
   "nav_menu": {},
   "number_sections": true,
   "sideBar": true,
   "skip_h1_title": false,
   "title_cell": "Table of Contents",
   "title_sidebar": "Contents",
   "toc_cell": false,
   "toc_position": {},
   "toc_section_display": true,
   "toc_window_display": false
  },
  "varInspector": {
   "cols": {
    "lenName": 16,
    "lenType": 16,
    "lenVar": 40
   },
   "kernels_config": {
    "python": {
     "delete_cmd_postfix": "",
     "delete_cmd_prefix": "del ",
     "library": "var_list.py",
     "varRefreshCmd": "print(var_dic_list())"
    },
    "r": {
     "delete_cmd_postfix": ") ",
     "delete_cmd_prefix": "rm(",
     "library": "var_list.r",
     "varRefreshCmd": "cat(var_dic_list()) "
    }
   },
   "position": {
    "height": "241.719px",
    "left": "1241.44px",
    "right": "20px",
    "top": "88.9773px",
    "width": "447.983px"
   },
   "types_to_exclude": [
    "module",
    "function",
    "builtin_function_or_method",
    "instance",
    "_Feature"
   ],
   "window_display": false
  }
 },
 "nbformat": 4,
 "nbformat_minor": 4
}
