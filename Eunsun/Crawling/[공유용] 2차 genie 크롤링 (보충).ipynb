{
 "cells": [
  {
   "cell_type": "code",
   "execution_count": 31,
   "id": "aaec8fb9",
   "metadata": {},
   "outputs": [],
   "source": [
    "import pandas as pd\n",
    "import numpy as np\n",
    "\n",
    "ori_data1 = pd.read_csv('가사/1차_melon/melon_1.csv')\n",
    "ori_data2 = pd.read_csv('가사/1차_melon/melon_2.csv')\n",
    "ori_data3 = pd.read_csv('가사/1차_melon/melon_3.csv')\n",
    "ori_data4 = pd.read_csv('가사/1차_melon/melon_4.csv')\n",
    "ori_data5 = pd.read_csv('가사/1차_melon/melon_5.csv')\n",
    "\n",
    "ori_data1.drop('Unnamed: 0', axis=1, inplace=True)\n",
    "ori_data2.set_index('index', inplace=True)\n",
    "ori_data3.set_index('index', inplace=True)\n",
    "ori_data4.set_index('index', inplace=True)\n",
    "ori_data5.set_index('index', inplace=True)"
   ]
  },
  {
   "cell_type": "code",
   "execution_count": 24,
   "id": "438b5de7",
   "metadata": {},
   "outputs": [],
   "source": [
    "ori_data1.reset_index(inplace=True)\n",
    "ori_data1.columns = ['index', '노래', '가수', '원가사', '좋아요수', '어제순위', '댓글1', '댓글2', '댓글3', '댓글4', '댓글5']\n",
    "ori_data1.set_index('index', inplace=True)"
   ]
  },
  {
   "cell_type": "code",
   "execution_count": 43,
   "id": "a072c85b",
   "metadata": {},
   "outputs": [
    {
     "data": {
      "text/html": [
       "<div>\n",
       "<style scoped>\n",
       "    .dataframe tbody tr th:only-of-type {\n",
       "        vertical-align: middle;\n",
       "    }\n",
       "\n",
       "    .dataframe tbody tr th {\n",
       "        vertical-align: top;\n",
       "    }\n",
       "\n",
       "    .dataframe thead th {\n",
       "        text-align: right;\n",
       "    }\n",
       "</style>\n",
       "<table border=\"1\" class=\"dataframe\">\n",
       "  <thead>\n",
       "    <tr style=\"text-align: right;\">\n",
       "      <th></th>\n",
       "      <th>노래</th>\n",
       "      <th>가수</th>\n",
       "      <th>원가사</th>\n",
       "      <th>좋아요수</th>\n",
       "      <th>어제순위</th>\n",
       "      <th>댓글1</th>\n",
       "      <th>댓글2</th>\n",
       "      <th>댓글3</th>\n",
       "      <th>댓글4</th>\n",
       "      <th>댓글5</th>\n",
       "    </tr>\n",
       "  </thead>\n",
       "  <tbody>\n",
       "    <tr>\n",
       "      <th>0</th>\n",
       "      <td>생각해봤어</td>\n",
       "      <td>한동근</td>\n",
       "      <td>생각해봤어 우리의 얘기우리가 서로 그렇게다른 사람에게 떠들었을우리가 겪었던 일들을생...</td>\n",
       "      <td>942</td>\n",
       "      <td>없음</td>\n",
       "      <td>자작곡을 타이틀로 할 수는 없는 걸까요? ‘시간이 지난 곳’과이번앨범 ‘생각해봤어’...</td>\n",
       "      <td>역시 저음도 대박! 힘을 빼서 부른거 같아오롯이 목소리와 감성만 들리네요 이노래.....</td>\n",
       "      <td>말하듯이 부르는 거 너무 조타.. 후렴부분 찌릿</td>\n",
       "      <td>가사봐...</td>\n",
       "      <td>나지막히 부르는게 너무 좋아요.  오래오래 우리곁에서 노래해주세요~~</td>\n",
       "    </tr>\n",
       "    <tr>\n",
       "      <th>1</th>\n",
       "      <td>쉼이 필요해</td>\n",
       "      <td>오연준</td>\n",
       "      <td>자꾸 자꾸 재촉하지 말아요 나도 진짜 바쁘단 말이에요 학교 끝나면 방과후에 영어학원...</td>\n",
       "      <td>1,654</td>\n",
       "      <td>없음</td>\n",
       "      <td>나두 쉼이 필요하다~~~~~</td>\n",
       "      <td>진짜 너무 노래좋고 공감되네요</td>\n",
       "      <td>우리연준이 이대로만 자라다오*.*</td>\n",
       "      <td>노래가 너무 좋아서 자꾸 듣게 되네요~~^^</td>\n",
       "      <td>이 노래 멜로디도 그렇고 연준군 목소리도 그렇고 너무 힐링돼요 진짜 이 노래 너무 ...</td>\n",
       "    </tr>\n",
       "    <tr>\n",
       "      <th>2</th>\n",
       "      <td>두려워질만큼 (2017)</td>\n",
       "      <td>슈가볼</td>\n",
       "      <td>우린 유치해지고 자꾸 대담해지고우리 둘만 이해하는 단어들을 만들고건조하게 굳어갔던 ...</td>\n",
       "      <td>881</td>\n",
       "      <td>없음</td>\n",
       "      <td>아름다운데 한 곳이 시린다. 따뜻한데 아프다.</td>\n",
       "      <td>이제 막 연애를 시작했는데 듣자마자 제얘긴줄ㅎㅎㅎ 우린 유치해지고... 자꾸 대담해...</td>\n",
       "      <td>없음</td>\n",
       "      <td>없음</td>\n",
       "      <td>없음</td>\n",
       "    </tr>\n",
       "    <tr>\n",
       "      <th>3</th>\n",
       "      <td>그 곳 (Feat. 김태홍)</td>\n",
       "      <td>허준범</td>\n",
       "      <td>내 마음 따라서내 생각 따라서자전거 앞으로발걸음이 간다그리움 있는 곳으로추억이 있는...</td>\n",
       "      <td>38</td>\n",
       "      <td>없음</td>\n",
       "      <td>없음</td>\n",
       "      <td>없음</td>\n",
       "      <td>없음</td>\n",
       "      <td>없음</td>\n",
       "      <td>없음</td>\n",
       "    </tr>\n",
       "    <tr>\n",
       "      <th>4</th>\n",
       "      <td>사랑 그 쓸쓸함에 대하여</td>\n",
       "      <td>김윤아, 채보훈</td>\n",
       "      <td>다시 또 누군가를 만나서사랑을 하게 될 수 있을까그럴 수는 없을 것 같아도무지 알 ...</td>\n",
       "      <td>2,066</td>\n",
       "      <td>없음</td>\n",
       "      <td>언니 목소리 듣자마자 소오름이...언니는여전히 내겐 여신오브여신...</td>\n",
       "      <td>이건 그냥 들어도 멋지지만 무대랑 같이 봐야 진정한 김윤아님의 카리스마가 돋보이는데...</td>\n",
       "      <td>윤아 언니 노래 찾다가 채보훈님이 여기서 왜 나와....?ㅋㅋㅋㅋㅋㅋㅋㅋㅋㅋㅋㅋㅋㅋ...</td>\n",
       "      <td>없음</td>\n",
       "      <td>없음</td>\n",
       "    </tr>\n",
       "    <tr>\n",
       "      <th>...</th>\n",
       "      <td>...</td>\n",
       "      <td>...</td>\n",
       "      <td>...</td>\n",
       "      <td>...</td>\n",
       "      <td>...</td>\n",
       "      <td>...</td>\n",
       "      <td>...</td>\n",
       "      <td>...</td>\n",
       "      <td>...</td>\n",
       "      <td>...</td>\n",
       "    </tr>\n",
       "    <tr>\n",
       "      <th>1595</th>\n",
       "      <td>골고다</td>\n",
       "      <td>한지상</td>\n",
       "      <td>단 한 마디만 제발 내게 대답해줘요이 꼴이 당신이 바라던 모습인가요왕이 될 수 있...</td>\n",
       "      <td>549</td>\n",
       "      <td>없음</td>\n",
       "      <td>곡 해석 미쳐따 .. 감정어쩔.. ㅜㅜ 첫마디 듣고 표끊으러 갑니다.... ㅜㅜ (...</td>\n",
       "      <td>하ㅠ 진짜 감정이입오진다ㅠㅠ</td>\n",
       "      <td>이 노래를 이보다 더 잘할 수 있을까 싶다</td>\n",
       "      <td>역시...한지상 티켓팅은 항상 옳았었지..JCS 음원만 나오면 딱 일텐데요 ㅠㅜ</td>\n",
       "      <td>진짜.....감정이입끝장..소오름......어떻게.ㅡ이렇게 부르시는지...ㅜ..ㅜ ...</td>\n",
       "    </tr>\n",
       "    <tr>\n",
       "      <th>1596</th>\n",
       "      <td>신데렐라와 왕자의 사랑노래</td>\n",
       "      <td>극단 원공</td>\n",
       "      <td>당신은 누구 시길래이토록 아름다운지눈부신 그 모습에내 맘이 파도 치네당신은 누구 ...</td>\n",
       "      <td>8</td>\n",
       "      <td>없음</td>\n",
       "      <td>없음</td>\n",
       "      <td>없음</td>\n",
       "      <td>없음</td>\n",
       "      <td>없음</td>\n",
       "      <td>없음</td>\n",
       "    </tr>\n",
       "    <tr>\n",
       "      <th>1597</th>\n",
       "      <td>서곡_내 비극적인 이야기</td>\n",
       "      <td>전동석, 뮤지컬 팬텀 2016 앙상블</td>\n",
       "      <td>팬텀 비극적인 이야기내 슬픈 노래이 무대에 펼쳐질알 수 없는 이 미스터리팬텀 내 ...</td>\n",
       "      <td>555</td>\n",
       "      <td>없음</td>\n",
       "      <td>동팬텀 사랑해 ㅠㅠ</td>\n",
       "      <td>동팬텀 첫공때 비극적인 이야기 여기까지만 듣고 감동받았는데. 목소리 넘 좋으심. 오...</td>\n",
       "      <td>없음</td>\n",
       "      <td>없음</td>\n",
       "      <td>없음</td>\n",
       "    </tr>\n",
       "    <tr>\n",
       "      <th>1598</th>\n",
       "      <td>나의 빛, 어머니</td>\n",
       "      <td>박은태</td>\n",
       "      <td>팬텀 내 어머니 날 숲에서 낳아내 몸은 어둠으로 덮여도영혼만은 빛처럼 밝았지손을 ...</td>\n",
       "      <td>178</td>\n",
       "      <td>없음</td>\n",
       "      <td>없음</td>\n",
       "      <td>없음</td>\n",
       "      <td>없음</td>\n",
       "      <td>없음</td>\n",
       "      <td>없음</td>\n",
       "    </tr>\n",
       "    <tr>\n",
       "      <th>1599</th>\n",
       "      <td>프리프링 매지컬 샤이닝 스타 (아빠를 구하자)</td>\n",
       "      <td>프리프링 마리의 마법학교 대모험</td>\n",
       "      <td>프리프링 매지컬 샤이닝스타마음의 빛을 모아서우리 모두 함께 가는 거야모두의 꿈을 ...</td>\n",
       "      <td>28</td>\n",
       "      <td>없음</td>\n",
       "      <td>없음</td>\n",
       "      <td>없음</td>\n",
       "      <td>없음</td>\n",
       "      <td>없음</td>\n",
       "      <td>없음</td>\n",
       "    </tr>\n",
       "  </tbody>\n",
       "</table>\n",
       "<p>1600 rows × 10 columns</p>\n",
       "</div>"
      ],
      "text/plain": [
       "                             노래                    가수  \\\n",
       "0                         생각해봤어                   한동근   \n",
       "1                        쉼이 필요해                   오연준   \n",
       "2                 두려워질만큼 (2017)                   슈가볼   \n",
       "3               그 곳 (Feat. 김태홍)                   허준범   \n",
       "4                 사랑 그 쓸쓸함에 대하여              김윤아, 채보훈   \n",
       "...                         ...                   ...   \n",
       "1595                        골고다                   한지상   \n",
       "1596             신데렐라와 왕자의 사랑노래                 극단 원공   \n",
       "1597              서곡_내 비극적인 이야기  전동석, 뮤지컬 팬텀 2016 앙상블   \n",
       "1598                  나의 빛, 어머니                   박은태   \n",
       "1599  프리프링 매지컬 샤이닝 스타 (아빠를 구하자)     프리프링 마리의 마법학교 대모험   \n",
       "\n",
       "                                                    원가사   좋아요수 어제순위  \\\n",
       "0     생각해봤어 우리의 얘기우리가 서로 그렇게다른 사람에게 떠들었을우리가 겪었던 일들을생...    942   없음   \n",
       "1     자꾸 자꾸 재촉하지 말아요 나도 진짜 바쁘단 말이에요 학교 끝나면 방과후에 영어학원...  1,654   없음   \n",
       "2     우린 유치해지고 자꾸 대담해지고우리 둘만 이해하는 단어들을 만들고건조하게 굳어갔던 ...    881   없음   \n",
       "3     내 마음 따라서내 생각 따라서자전거 앞으로발걸음이 간다그리움 있는 곳으로추억이 있는...     38   없음   \n",
       "4     다시 또 누군가를 만나서사랑을 하게 될 수 있을까그럴 수는 없을 것 같아도무지 알 ...  2,066   없음   \n",
       "...                                                 ...    ...  ...   \n",
       "1595   단 한 마디만 제발 내게 대답해줘요이 꼴이 당신이 바라던 모습인가요왕이 될 수 있...    549   없음   \n",
       "1596   당신은 누구 시길래이토록 아름다운지눈부신 그 모습에내 맘이 파도 치네당신은 누구 ...      8   없음   \n",
       "1597   팬텀 비극적인 이야기내 슬픈 노래이 무대에 펼쳐질알 수 없는 이 미스터리팬텀 내 ...    555   없음   \n",
       "1598   팬텀 내 어머니 날 숲에서 낳아내 몸은 어둠으로 덮여도영혼만은 빛처럼 밝았지손을 ...    178   없음   \n",
       "1599   프리프링 매지컬 샤이닝스타마음의 빛을 모아서우리 모두 함께 가는 거야모두의 꿈을 ...     28   없음   \n",
       "\n",
       "                                                    댓글1  \\\n",
       "0     자작곡을 타이틀로 할 수는 없는 걸까요? ‘시간이 지난 곳’과이번앨범 ‘생각해봤어’...   \n",
       "1                                       나두 쉼이 필요하다~~~~~   \n",
       "2                             아름다운데 한 곳이 시린다. 따뜻한데 아프다.   \n",
       "3                                                    없음   \n",
       "4                언니 목소리 듣자마자 소오름이...언니는여전히 내겐 여신오브여신...   \n",
       "...                                                 ...   \n",
       "1595  곡 해석 미쳐따 .. 감정어쩔.. ㅜㅜ 첫마디 듣고 표끊으러 갑니다.... ㅜㅜ (...   \n",
       "1596                                                 없음   \n",
       "1597                                         동팬텀 사랑해 ㅠㅠ   \n",
       "1598                                                 없음   \n",
       "1599                                                 없음   \n",
       "\n",
       "                                                    댓글2  \\\n",
       "0     역시 저음도 대박! 힘을 빼서 부른거 같아오롯이 목소리와 감성만 들리네요 이노래.....   \n",
       "1                                      진짜 너무 노래좋고 공감되네요   \n",
       "2     이제 막 연애를 시작했는데 듣자마자 제얘긴줄ㅎㅎㅎ 우린 유치해지고... 자꾸 대담해...   \n",
       "3                                                    없음   \n",
       "4     이건 그냥 들어도 멋지지만 무대랑 같이 봐야 진정한 김윤아님의 카리스마가 돋보이는데...   \n",
       "...                                                 ...   \n",
       "1595                                    하ㅠ 진짜 감정이입오진다ㅠㅠ   \n",
       "1596                                                 없음   \n",
       "1597  동팬텀 첫공때 비극적인 이야기 여기까지만 듣고 감동받았는데. 목소리 넘 좋으심. 오...   \n",
       "1598                                                 없음   \n",
       "1599                                                 없음   \n",
       "\n",
       "                                                    댓글3  \\\n",
       "0                            말하듯이 부르는 거 너무 조타.. 후렴부분 찌릿   \n",
       "1                                    우리연준이 이대로만 자라다오*.*   \n",
       "2                                                    없음   \n",
       "3                                                    없음   \n",
       "4     윤아 언니 노래 찾다가 채보훈님이 여기서 왜 나와....?ㅋㅋㅋㅋㅋㅋㅋㅋㅋㅋㅋㅋㅋㅋ...   \n",
       "...                                                 ...   \n",
       "1595                            이 노래를 이보다 더 잘할 수 있을까 싶다   \n",
       "1596                                                 없음   \n",
       "1597                                                 없음   \n",
       "1598                                                 없음   \n",
       "1599                                                 없음   \n",
       "\n",
       "                                               댓글4  \\\n",
       "0                                           가사봐...   \n",
       "1                         노래가 너무 좋아서 자꾸 듣게 되네요~~^^   \n",
       "2                                               없음   \n",
       "3                                               없음   \n",
       "4                                               없음   \n",
       "...                                            ...   \n",
       "1595  역시...한지상 티켓팅은 항상 옳았었지..JCS 음원만 나오면 딱 일텐데요 ㅠㅜ   \n",
       "1596                                            없음   \n",
       "1597                                            없음   \n",
       "1598                                            없음   \n",
       "1599                                            없음   \n",
       "\n",
       "                                                    댓글5  \n",
       "0                나지막히 부르는게 너무 좋아요.  오래오래 우리곁에서 노래해주세요~~  \n",
       "1     이 노래 멜로디도 그렇고 연준군 목소리도 그렇고 너무 힐링돼요 진짜 이 노래 너무 ...  \n",
       "2                                                    없음  \n",
       "3                                                    없음  \n",
       "4                                                    없음  \n",
       "...                                                 ...  \n",
       "1595  진짜.....감정이입끝장..소오름......어떻게.ㅡ이렇게 부르시는지...ㅜ..ㅜ ...  \n",
       "1596                                                 없음  \n",
       "1597                                                 없음  \n",
       "1598                                                 없음  \n",
       "1599                                                 없음  \n",
       "\n",
       "[1600 rows x 10 columns]"
      ]
     },
     "execution_count": 43,
     "metadata": {},
     "output_type": "execute_result"
    }
   ],
   "source": [
    "ori_data = pd.concat([ori_data1, ori_data2, ori_data3, ori_data4, ori_data5], axis=0)\n",
    "ori_data"
   ]
  },
  {
   "cell_type": "code",
   "execution_count": 44,
   "id": "0d0c40f1",
   "metadata": {},
   "outputs": [
    {
     "data": {
      "text/html": [
       "<div>\n",
       "<style scoped>\n",
       "    .dataframe tbody tr th:only-of-type {\n",
       "        vertical-align: middle;\n",
       "    }\n",
       "\n",
       "    .dataframe tbody tr th {\n",
       "        vertical-align: top;\n",
       "    }\n",
       "\n",
       "    .dataframe thead th {\n",
       "        text-align: right;\n",
       "    }\n",
       "</style>\n",
       "<table border=\"1\" class=\"dataframe\">\n",
       "  <thead>\n",
       "    <tr style=\"text-align: right;\">\n",
       "      <th></th>\n",
       "      <th>index</th>\n",
       "      <th>노래</th>\n",
       "      <th>가수</th>\n",
       "      <th>원가사</th>\n",
       "      <th>좋아요수</th>\n",
       "      <th>어제순위</th>\n",
       "      <th>댓글1</th>\n",
       "      <th>댓글2</th>\n",
       "      <th>댓글3</th>\n",
       "      <th>댓글4</th>\n",
       "      <th>댓글5</th>\n",
       "    </tr>\n",
       "  </thead>\n",
       "  <tbody>\n",
       "    <tr>\n",
       "      <th>0</th>\n",
       "      <td>21</td>\n",
       "      <td>약속</td>\n",
       "      <td>KYT (코요태)</td>\n",
       "      <td>없음</td>\n",
       "      <td>없음</td>\n",
       "      <td>없음</td>\n",
       "      <td>없음</td>\n",
       "      <td>없음</td>\n",
       "      <td>없음</td>\n",
       "      <td>없음</td>\n",
       "      <td>없음</td>\n",
       "    </tr>\n",
       "    <tr>\n",
       "      <th>1</th>\n",
       "      <td>67</td>\n",
       "      <td>너를 좋아해</td>\n",
       "      <td>아카시아</td>\n",
       "      <td>없음</td>\n",
       "      <td>40</td>\n",
       "      <td>없음</td>\n",
       "      <td>없음</td>\n",
       "      <td>없음</td>\n",
       "      <td>없음</td>\n",
       "      <td>없음</td>\n",
       "      <td>없음</td>\n",
       "    </tr>\n",
       "    <tr>\n",
       "      <th>2</th>\n",
       "      <td>70</td>\n",
       "      <td>가끔씩</td>\n",
       "      <td>제이비</td>\n",
       "      <td>없음</td>\n",
       "      <td>2</td>\n",
       "      <td>없음</td>\n",
       "      <td>없음</td>\n",
       "      <td>없음</td>\n",
       "      <td>없음</td>\n",
       "      <td>없음</td>\n",
       "      <td>없음</td>\n",
       "    </tr>\n",
       "    <tr>\n",
       "      <th>3</th>\n",
       "      <td>78</td>\n",
       "      <td>엄마의 바다 (Feat. 김윤아)</td>\n",
       "      <td>유희열</td>\n",
       "      <td>없음</td>\n",
       "      <td>4,344</td>\n",
       "      <td>없음</td>\n",
       "      <td>상념에 잠기면 한번씩 찾는 그 노래</td>\n",
       "      <td>유희열과 김윤아라니 ㅠㅠㅠ</td>\n",
       "      <td>진짜진짜 채고채고임 ㅠ</td>\n",
       "      <td>아스팔트 껌딱지마냥 자존감 ♬♩♩일때마다 듣고 힘내는 노래...힘내야지...</td>\n",
       "      <td>없음</td>\n",
       "    </tr>\n",
       "    <tr>\n",
       "      <th>4</th>\n",
       "      <td>93</td>\n",
       "      <td>머리핀</td>\n",
       "      <td>지석진</td>\n",
       "      <td>없음</td>\n",
       "      <td>43</td>\n",
       "      <td>없음</td>\n",
       "      <td>노래 좋네요가사 뜻은 모르겠지만 중국인들이 좋아할만 하네요</td>\n",
       "      <td>없음</td>\n",
       "      <td>없음</td>\n",
       "      <td>없음</td>\n",
       "      <td>없음</td>\n",
       "    </tr>\n",
       "    <tr>\n",
       "      <th>...</th>\n",
       "      <td>...</td>\n",
       "      <td>...</td>\n",
       "      <td>...</td>\n",
       "      <td>...</td>\n",
       "      <td>...</td>\n",
       "      <td>...</td>\n",
       "      <td>...</td>\n",
       "      <td>...</td>\n",
       "      <td>...</td>\n",
       "      <td>...</td>\n",
       "      <td>...</td>\n",
       "    </tr>\n",
       "    <tr>\n",
       "      <th>775</th>\n",
       "      <td>1537</td>\n",
       "      <td>천국의 얼굴 (대사 : 김수로, 성두섭, 조강현)</td>\n",
       "      <td>Various Artists</td>\n",
       "      <td>없음</td>\n",
       "      <td>57</td>\n",
       "      <td>없음</td>\n",
       "      <td>없음</td>\n",
       "      <td>없음</td>\n",
       "      <td>없음</td>\n",
       "      <td>없음</td>\n",
       "      <td>없음</td>\n",
       "    </tr>\n",
       "    <tr>\n",
       "      <th>776</th>\n",
       "      <td>1548</td>\n",
       "      <td>피맛골</td>\n",
       "      <td>Various Artists</td>\n",
       "      <td>없음</td>\n",
       "      <td>117</td>\n",
       "      <td>없음</td>\n",
       "      <td>없음</td>\n",
       "      <td>없음</td>\n",
       "      <td>없음</td>\n",
       "      <td>없음</td>\n",
       "      <td>없음</td>\n",
       "    </tr>\n",
       "    <tr>\n",
       "      <th>777</th>\n",
       "      <td>1550</td>\n",
       "      <td>Dancing Queen (2009 KCC Festa On Ice Show 프로그램)</td>\n",
       "      <td>Jenny Galloway, Louise Plowright, Siobhan McCa...</td>\n",
       "      <td>없음</td>\n",
       "      <td>없음</td>\n",
       "      <td>없음</td>\n",
       "      <td>없음</td>\n",
       "      <td>없음</td>\n",
       "      <td>없음</td>\n",
       "      <td>없음</td>\n",
       "      <td>없음</td>\n",
       "    </tr>\n",
       "    <tr>\n",
       "      <th>778</th>\n",
       "      <td>1577</td>\n",
       "      <td>Overture</td>\n",
       "      <td>Various Artists</td>\n",
       "      <td>없음</td>\n",
       "      <td>449</td>\n",
       "      <td>없음</td>\n",
       "      <td>군대영장</td>\n",
       "      <td>8-2</td>\n",
       "      <td>없음</td>\n",
       "      <td>없음</td>\n",
       "      <td>없음</td>\n",
       "    </tr>\n",
       "    <tr>\n",
       "      <th>779</th>\n",
       "      <td>1583</td>\n",
       "      <td>랄라라 노란별</td>\n",
       "      <td>Various Artists</td>\n",
       "      <td>없음</td>\n",
       "      <td>1</td>\n",
       "      <td>없음</td>\n",
       "      <td>없음</td>\n",
       "      <td>없음</td>\n",
       "      <td>없음</td>\n",
       "      <td>없음</td>\n",
       "      <td>없음</td>\n",
       "    </tr>\n",
       "  </tbody>\n",
       "</table>\n",
       "<p>780 rows × 11 columns</p>\n",
       "</div>"
      ],
      "text/plain": [
       "     index                                               노래  \\\n",
       "0       21                                               약속   \n",
       "1       67                                           너를 좋아해   \n",
       "2       70                                              가끔씩   \n",
       "3       78                               엄마의 바다 (Feat. 김윤아)   \n",
       "4       93                                              머리핀   \n",
       "..     ...                                              ...   \n",
       "775   1537                      천국의 얼굴 (대사 : 김수로, 성두섭, 조강현)   \n",
       "776   1548                                              피맛골   \n",
       "777   1550  Dancing Queen (2009 KCC Festa On Ice Show 프로그램)   \n",
       "778   1577                                         Overture   \n",
       "779   1583                                          랄라라 노란별   \n",
       "\n",
       "                                                    가수 원가사   좋아요수 어제순위  \\\n",
       "0                                            KYT (코요태)  없음     없음   없음   \n",
       "1                                                 아카시아  없음     40   없음   \n",
       "2                                                  제이비  없음      2   없음   \n",
       "3                                                  유희열  없음  4,344   없음   \n",
       "4                                                  지석진  없음     43   없음   \n",
       "..                                                 ...  ..    ...  ...   \n",
       "775                                    Various Artists  없음     57   없음   \n",
       "776                                    Various Artists  없음    117   없음   \n",
       "777  Jenny Galloway, Louise Plowright, Siobhan McCa...  없음     없음   없음   \n",
       "778                                    Various Artists  없음    449   없음   \n",
       "779                                    Various Artists  없음      1   없음   \n",
       "\n",
       "                                  댓글1             댓글2           댓글3  \\\n",
       "0                                  없음              없음            없음   \n",
       "1                                  없음              없음            없음   \n",
       "2                                  없음              없음            없음   \n",
       "3                 상념에 잠기면 한번씩 찾는 그 노래  유희열과 김윤아라니 ㅠㅠㅠ  진짜진짜 채고채고임 ㅠ   \n",
       "4    노래 좋네요가사 뜻은 모르겠지만 중국인들이 좋아할만 하네요              없음            없음   \n",
       "..                                ...             ...           ...   \n",
       "775                                없음              없음            없음   \n",
       "776                                없음              없음            없음   \n",
       "777                                없음              없음            없음   \n",
       "778                              군대영장             8-2            없음   \n",
       "779                                없음              없음            없음   \n",
       "\n",
       "                                            댓글4 댓글5  \n",
       "0                                            없음  없음  \n",
       "1                                            없음  없음  \n",
       "2                                            없음  없음  \n",
       "3    아스팔트 껌딱지마냥 자존감 ♬♩♩일때마다 듣고 힘내는 노래...힘내야지...  없음  \n",
       "4                                            없음  없음  \n",
       "..                                          ...  ..  \n",
       "775                                          없음  없음  \n",
       "776                                          없음  없음  \n",
       "777                                          없음  없음  \n",
       "778                                          없음  없음  \n",
       "779                                          없음  없음  \n",
       "\n",
       "[780 rows x 11 columns]"
      ]
     },
     "execution_count": 44,
     "metadata": {},
     "output_type": "execute_result"
    }
   ],
   "source": [
    "data = ori_data[ori_data['원가사'] == '없음']\n",
    "data.reset_index(inplace=True, drop=False)\n",
    "data"
   ]
  },
  {
   "cell_type": "markdown",
   "id": "243df8d8",
   "metadata": {},
   "source": [
    "- 1600개 중 멜론 크롤링에서 780개가 가사 없는 노래 (진짜 없는 노래이거나 찾지 못하거나)"
   ]
  },
  {
   "cell_type": "code",
   "execution_count": 45,
   "id": "33c79f15",
   "metadata": {},
   "outputs": [
    {
     "name": "stderr",
     "output_type": "stream",
     "text": [
      "/var/folders/2d/k1h9bjt9385d884qrqvzk1880000gn/T/ipykernel_33910/1388480423.py:2: SettingWithCopyWarning: \n",
      "A value is trying to be set on a copy of a slice from a DataFrame\n",
      "\n",
      "See the caveats in the documentation: https://pandas.pydata.org/pandas-docs/stable/user_guide/indexing.html#returning-a-view-versus-a-copy\n",
      "  data['노래'][i] = data['노래'][i].replace(' (Inst.)', '')\n",
      "/Library/Frameworks/Python.framework/Versions/3.9/lib/python3.9/site-packages/IPython/core/interactiveshell.py:3441: SettingWithCopyWarning: \n",
      "A value is trying to be set on a copy of a slice from a DataFrame\n",
      "\n",
      "See the caveats in the documentation: https://pandas.pydata.org/pandas-docs/stable/user_guide/indexing.html#returning-a-view-versus-a-copy\n",
      "  exec(code_obj, self.user_global_ns, self.user_ns)\n",
      "/var/folders/2d/k1h9bjt9385d884qrqvzk1880000gn/T/ipykernel_33910/1388480423.py:3: SettingWithCopyWarning: \n",
      "A value is trying to be set on a copy of a slice from a DataFrame\n",
      "\n",
      "See the caveats in the documentation: https://pandas.pydata.org/pandas-docs/stable/user_guide/indexing.html#returning-a-view-versus-a-copy\n",
      "  data['노래'][i] = data['노래'][i].replace('(Inst.)', '')\n",
      "/var/folders/2d/k1h9bjt9385d884qrqvzk1880000gn/T/ipykernel_33910/1388480423.py:4: SettingWithCopyWarning: \n",
      "A value is trying to be set on a copy of a slice from a DataFrame\n",
      "\n",
      "See the caveats in the documentation: https://pandas.pydata.org/pandas-docs/stable/user_guide/indexing.html#returning-a-view-versus-a-copy\n",
      "  data['가수'][i] = data['가수'][i].replace('KYT (코요태)', '코요태')\n"
     ]
    }
   ],
   "source": [
    "for i in range(len(data)):\n",
    "    data['노래'][i] = data['노래'][i].replace(' (Inst.)', '')\n",
    "    data['노래'][i] = data['노래'][i].replace('(Inst.)', '')\n",
    "    data['가수'][i] = data['가수'][i].replace('KYT (코요태)', '코요태')\n"
   ]
  },
  {
   "cell_type": "code",
   "execution_count": 46,
   "id": "cf890552",
   "metadata": {},
   "outputs": [
    {
     "data": {
      "text/html": [
       "<div>\n",
       "<style scoped>\n",
       "    .dataframe tbody tr th:only-of-type {\n",
       "        vertical-align: middle;\n",
       "    }\n",
       "\n",
       "    .dataframe tbody tr th {\n",
       "        vertical-align: top;\n",
       "    }\n",
       "\n",
       "    .dataframe thead th {\n",
       "        text-align: right;\n",
       "    }\n",
       "</style>\n",
       "<table border=\"1\" class=\"dataframe\">\n",
       "  <thead>\n",
       "    <tr style=\"text-align: right;\">\n",
       "      <th></th>\n",
       "      <th>index</th>\n",
       "      <th>노래</th>\n",
       "      <th>가수</th>\n",
       "      <th>원가사</th>\n",
       "      <th>좋아요수</th>\n",
       "      <th>어제순위</th>\n",
       "      <th>댓글1</th>\n",
       "      <th>댓글2</th>\n",
       "      <th>댓글3</th>\n",
       "      <th>댓글4</th>\n",
       "      <th>댓글5</th>\n",
       "    </tr>\n",
       "  </thead>\n",
       "  <tbody>\n",
       "    <tr>\n",
       "      <th>0</th>\n",
       "      <td>21</td>\n",
       "      <td>약속</td>\n",
       "      <td>코요태</td>\n",
       "      <td>없음</td>\n",
       "      <td>없음</td>\n",
       "      <td>없음</td>\n",
       "      <td>없음</td>\n",
       "      <td>없음</td>\n",
       "      <td>없음</td>\n",
       "      <td>없음</td>\n",
       "      <td>없음</td>\n",
       "    </tr>\n",
       "    <tr>\n",
       "      <th>1</th>\n",
       "      <td>67</td>\n",
       "      <td>너를 좋아해</td>\n",
       "      <td>아카시아</td>\n",
       "      <td>없음</td>\n",
       "      <td>40</td>\n",
       "      <td>없음</td>\n",
       "      <td>없음</td>\n",
       "      <td>없음</td>\n",
       "      <td>없음</td>\n",
       "      <td>없음</td>\n",
       "      <td>없음</td>\n",
       "    </tr>\n",
       "    <tr>\n",
       "      <th>2</th>\n",
       "      <td>70</td>\n",
       "      <td>가끔씩</td>\n",
       "      <td>제이비</td>\n",
       "      <td>없음</td>\n",
       "      <td>2</td>\n",
       "      <td>없음</td>\n",
       "      <td>없음</td>\n",
       "      <td>없음</td>\n",
       "      <td>없음</td>\n",
       "      <td>없음</td>\n",
       "      <td>없음</td>\n",
       "    </tr>\n",
       "    <tr>\n",
       "      <th>3</th>\n",
       "      <td>78</td>\n",
       "      <td>엄마의 바다 (Feat. 김윤아)</td>\n",
       "      <td>유희열</td>\n",
       "      <td>없음</td>\n",
       "      <td>4,344</td>\n",
       "      <td>없음</td>\n",
       "      <td>상념에 잠기면 한번씩 찾는 그 노래</td>\n",
       "      <td>유희열과 김윤아라니 ㅠㅠㅠ</td>\n",
       "      <td>진짜진짜 채고채고임 ㅠ</td>\n",
       "      <td>아스팔트 껌딱지마냥 자존감 ♬♩♩일때마다 듣고 힘내는 노래...힘내야지...</td>\n",
       "      <td>없음</td>\n",
       "    </tr>\n",
       "    <tr>\n",
       "      <th>4</th>\n",
       "      <td>93</td>\n",
       "      <td>머리핀</td>\n",
       "      <td>지석진</td>\n",
       "      <td>없음</td>\n",
       "      <td>43</td>\n",
       "      <td>없음</td>\n",
       "      <td>노래 좋네요가사 뜻은 모르겠지만 중국인들이 좋아할만 하네요</td>\n",
       "      <td>없음</td>\n",
       "      <td>없음</td>\n",
       "      <td>없음</td>\n",
       "      <td>없음</td>\n",
       "    </tr>\n",
       "    <tr>\n",
       "      <th>5</th>\n",
       "      <td>126</td>\n",
       "      <td>Sugar Baby</td>\n",
       "      <td>베이비 복스</td>\n",
       "      <td>없음</td>\n",
       "      <td>없음</td>\n",
       "      <td>없음</td>\n",
       "      <td>없음</td>\n",
       "      <td>없음</td>\n",
       "      <td>없음</td>\n",
       "      <td>없음</td>\n",
       "      <td>없음</td>\n",
       "    </tr>\n",
       "    <tr>\n",
       "      <th>6</th>\n",
       "      <td>131</td>\n",
       "      <td>머물고 싶은 순간들</td>\n",
       "      <td>손진태</td>\n",
       "      <td>없음</td>\n",
       "      <td>14</td>\n",
       "      <td>없음</td>\n",
       "      <td>없음</td>\n",
       "      <td>없음</td>\n",
       "      <td>없음</td>\n",
       "      <td>없음</td>\n",
       "      <td>없음</td>\n",
       "    </tr>\n",
       "    <tr>\n",
       "      <th>7</th>\n",
       "      <td>156</td>\n",
       "      <td>Live</td>\n",
       "      <td>카라</td>\n",
       "      <td>없음</td>\n",
       "      <td>없음</td>\n",
       "      <td>없음</td>\n",
       "      <td>없음</td>\n",
       "      <td>없음</td>\n",
       "      <td>없음</td>\n",
       "      <td>없음</td>\n",
       "      <td>없음</td>\n",
       "    </tr>\n",
       "    <tr>\n",
       "      <th>8</th>\n",
       "      <td>160</td>\n",
       "      <td>뻔한 소리</td>\n",
       "      <td>트위티 (TWEETY)</td>\n",
       "      <td>없음</td>\n",
       "      <td>10</td>\n",
       "      <td>없음</td>\n",
       "      <td>없음</td>\n",
       "      <td>없음</td>\n",
       "      <td>없음</td>\n",
       "      <td>없음</td>\n",
       "      <td>없음</td>\n",
       "    </tr>\n",
       "    <tr>\n",
       "      <th>9</th>\n",
       "      <td>161</td>\n",
       "      <td>미련</td>\n",
       "      <td>손진태</td>\n",
       "      <td>없음</td>\n",
       "      <td>23</td>\n",
       "      <td>없음</td>\n",
       "      <td>없음</td>\n",
       "      <td>없음</td>\n",
       "      <td>없음</td>\n",
       "      <td>없음</td>\n",
       "      <td>없음</td>\n",
       "    </tr>\n",
       "    <tr>\n",
       "      <th>10</th>\n",
       "      <td>165</td>\n",
       "      <td>Beat Maker (SEHUN)</td>\n",
       "      <td>EXO</td>\n",
       "      <td>없음</td>\n",
       "      <td>24,142</td>\n",
       "      <td>없음</td>\n",
       "      <td>짱이야</td>\n",
       "      <td>세훈아 사랑해</td>\n",
       "      <td>오오 오세훈 대박인데??나이거왜 이제들었늬...ㅠㅠ</td>\n",
       "      <td>캬 오랜만에 꺼내 듣는다 이 무대 여전히 사랑한다 세훈오빠야약</td>\n",
       "      <td>없음</td>\n",
       "    </tr>\n",
       "    <tr>\n",
       "      <th>11</th>\n",
       "      <td>189</td>\n",
       "      <td>하얀 동화</td>\n",
       "      <td>코요태</td>\n",
       "      <td>없음</td>\n",
       "      <td>없음</td>\n",
       "      <td>없음</td>\n",
       "      <td>없음</td>\n",
       "      <td>없음</td>\n",
       "      <td>없음</td>\n",
       "      <td>없음</td>\n",
       "      <td>없음</td>\n",
       "    </tr>\n",
       "    <tr>\n",
       "      <th>12</th>\n",
       "      <td>193</td>\n",
       "      <td>고요한 밤, 거룩한 밤</td>\n",
       "      <td>터보</td>\n",
       "      <td>없음</td>\n",
       "      <td>31</td>\n",
       "      <td>없음</td>\n",
       "      <td>없음</td>\n",
       "      <td>없음</td>\n",
       "      <td>없음</td>\n",
       "      <td>없음</td>\n",
       "      <td>없음</td>\n",
       "    </tr>\n",
       "    <tr>\n",
       "      <th>13</th>\n",
       "      <td>212</td>\n",
       "      <td>샤브샤브</td>\n",
       "      <td>Ja Mezz</td>\n",
       "      <td>없음</td>\n",
       "      <td>233</td>\n",
       "      <td>없음</td>\n",
       "      <td>원주 샤라웃</td>\n",
       "      <td>없음</td>\n",
       "      <td>없음</td>\n",
       "      <td>없음</td>\n",
       "      <td>없음</td>\n",
       "    </tr>\n",
       "    <tr>\n",
       "      <th>14</th>\n",
       "      <td>216</td>\n",
       "      <td>연산군 (Feat. Nucksal &amp; Lupang) (Piano. 양자인)</td>\n",
       "      <td>투탁 핀셔</td>\n",
       "      <td>없음</td>\n",
       "      <td>7</td>\n",
       "      <td>없음</td>\n",
       "      <td>없음</td>\n",
       "      <td>없음</td>\n",
       "      <td>없음</td>\n",
       "      <td>없음</td>\n",
       "      <td>없음</td>\n",
       "    </tr>\n",
       "  </tbody>\n",
       "</table>\n",
       "</div>"
      ],
      "text/plain": [
       "    index                                         노래            가수 원가사  \\\n",
       "0      21                                         약속           코요태  없음   \n",
       "1      67                                     너를 좋아해          아카시아  없음   \n",
       "2      70                                        가끔씩           제이비  없음   \n",
       "3      78                         엄마의 바다 (Feat. 김윤아)           유희열  없음   \n",
       "4      93                                        머리핀           지석진  없음   \n",
       "5     126                                 Sugar Baby        베이비 복스  없음   \n",
       "6     131                                 머물고 싶은 순간들           손진태  없음   \n",
       "7     156                                       Live            카라  없음   \n",
       "8     160                                      뻔한 소리  트위티 (TWEETY)  없음   \n",
       "9     161                                         미련           손진태  없음   \n",
       "10    165                         Beat Maker (SEHUN)           EXO  없음   \n",
       "11    189                                      하얀 동화           코요태  없음   \n",
       "12    193                               고요한 밤, 거룩한 밤            터보  없음   \n",
       "13    212                                       샤브샤브       Ja Mezz  없음   \n",
       "14    216  연산군 (Feat. Nucksal & Lupang) (Piano. 양자인)         투탁 핀셔  없음   \n",
       "\n",
       "      좋아요수 어제순위                               댓글1             댓글2  \\\n",
       "0       없음   없음                                없음              없음   \n",
       "1       40   없음                                없음              없음   \n",
       "2        2   없음                                없음              없음   \n",
       "3    4,344   없음               상념에 잠기면 한번씩 찾는 그 노래  유희열과 김윤아라니 ㅠㅠㅠ   \n",
       "4       43   없음  노래 좋네요가사 뜻은 모르겠지만 중국인들이 좋아할만 하네요              없음   \n",
       "5       없음   없음                                없음              없음   \n",
       "6       14   없음                                없음              없음   \n",
       "7       없음   없음                                없음              없음   \n",
       "8       10   없음                                없음              없음   \n",
       "9       23   없음                                없음              없음   \n",
       "10  24,142   없음                               짱이야         세훈아 사랑해   \n",
       "11      없음   없음                                없음              없음   \n",
       "12      31   없음                                없음              없음   \n",
       "13     233   없음                            원주 샤라웃              없음   \n",
       "14       7   없음                                없음              없음   \n",
       "\n",
       "                             댓글3                                         댓글4  \\\n",
       "0                             없음                                          없음   \n",
       "1                             없음                                          없음   \n",
       "2                             없음                                          없음   \n",
       "3                   진짜진짜 채고채고임 ㅠ  아스팔트 껌딱지마냥 자존감 ♬♩♩일때마다 듣고 힘내는 노래...힘내야지...   \n",
       "4                             없음                                          없음   \n",
       "5                             없음                                          없음   \n",
       "6                             없음                                          없음   \n",
       "7                             없음                                          없음   \n",
       "8                             없음                                          없음   \n",
       "9                             없음                                          없음   \n",
       "10  오오 오세훈 대박인데??나이거왜 이제들었늬...ㅠㅠ          캬 오랜만에 꺼내 듣는다 이 무대 여전히 사랑한다 세훈오빠야약   \n",
       "11                            없음                                          없음   \n",
       "12                            없음                                          없음   \n",
       "13                            없음                                          없음   \n",
       "14                            없음                                          없음   \n",
       "\n",
       "   댓글5  \n",
       "0   없음  \n",
       "1   없음  \n",
       "2   없음  \n",
       "3   없음  \n",
       "4   없음  \n",
       "5   없음  \n",
       "6   없음  \n",
       "7   없음  \n",
       "8   없음  \n",
       "9   없음  \n",
       "10  없음  \n",
       "11  없음  \n",
       "12  없음  \n",
       "13  없음  \n",
       "14  없음  "
      ]
     },
     "execution_count": 46,
     "metadata": {},
     "output_type": "execute_result"
    }
   ],
   "source": [
    "data.head(15)#[data['노래'].str.contains('Inst')]\n"
   ]
  },
  {
   "cell_type": "code",
   "execution_count": 51,
   "id": "f4148089",
   "metadata": {},
   "outputs": [],
   "source": [
    "import selenium\n",
    "from selenium import webdriver as wd\n",
    "import time\n",
    "import pandas as pd\n",
    "from bs4 import BeautifulSoup\n",
    "import datetime\n",
    "import re\n",
    "\n",
    "\n",
    "# 드라이버 경로 지정\n",
    "driver = wd.Chrome(executable_path=r'/Users/eunsunkim/Desktop/Past/chromedriver')\n",
    "time.sleep(2)\n",
    "\n",
    "# 윈도우 크기 조절\n",
    "driver.maximize_window()"
   ]
  },
  {
   "cell_type": "code",
   "execution_count": 52,
   "id": "13fe2012",
   "metadata": {},
   "outputs": [],
   "source": [
    "# 홈페이지 부르기\n",
    "driver.get('https://www.genie.co.kr/')\n",
    "\n",
    "# 검색창 클릭\n",
    "driver.find_element_by_xpath('//*[@id=\"sc-fd\"]').click()"
   ]
  },
  {
   "cell_type": "code",
   "execution_count": 53,
   "id": "40f28cb8",
   "metadata": {},
   "outputs": [
    {
     "name": "stderr",
     "output_type": "stream",
     "text": [
      "  2%|▉                                         | 17/780 [00:44<25:27,  2.00s/it]"
     ]
    },
    {
     "name": "stdout",
     "output_type": "stream",
     "text": [
      "없음: 깽판 SKOLOR\n"
     ]
    },
    {
     "name": "stderr",
     "output_type": "stream",
     "text": [
      "  3%|█▏                                        | 22/780 [00:56<28:42,  2.27s/it]"
     ]
    },
    {
     "name": "stdout",
     "output_type": "stream",
     "text": [
      "없음: No Music No Life (Feat. 바비 킴) 더블케이 (Double K)\n"
     ]
    },
    {
     "name": "stderr",
     "output_type": "stream",
     "text": [
      "  3%|█▍                                        | 27/780 [01:10<34:36,  2.76s/it]"
     ]
    },
    {
     "name": "stdout",
     "output_type": "stream",
     "text": [
      "없음: Don&#39;t Hit Me Right Now (Feat. Yung Baby Tate, Guapdad 4000 & Buddy) Dreamville, Bas, Cozz\n"
     ]
    },
    {
     "name": "stderr",
     "output_type": "stream",
     "text": [
      "  4%|█▋                                        | 31/780 [01:20<30:08,  2.41s/it]"
     ]
    },
    {
     "name": "stdout",
     "output_type": "stream",
     "text": [
      "없음: Do Thangs Afro Classics\n"
     ]
    },
    {
     "name": "stderr",
     "output_type": "stream",
     "text": [
      "\r",
      "  4%|█▋                                        | 32/780 [01:23<30:59,  2.49s/it]"
     ]
    },
    {
     "name": "stdout",
     "output_type": "stream",
     "text": [
      "없음: Interstate 10 (Feat. Future) DJ Mustard\n"
     ]
    },
    {
     "name": "stderr",
     "output_type": "stream",
     "text": [
      "  5%|█▉                                        | 36/780 [01:37<36:04,  2.91s/it]"
     ]
    },
    {
     "name": "stdout",
     "output_type": "stream",
     "text": [
      "없음: Can`t Leave You Alone (Feat. Tasha Catour) Jr Boss\n"
     ]
    },
    {
     "name": "stderr",
     "output_type": "stream",
     "text": [
      "\r",
      "  5%|█▉                                        | 37/780 [01:38<29:42,  2.40s/it]"
     ]
    },
    {
     "name": "stdout",
     "output_type": "stream",
     "text": [
      "없음: WTF Yall Mean (Feat. Young Cliff) DJ Kayotik\n"
     ]
    },
    {
     "name": "stderr",
     "output_type": "stream",
     "text": [
      "  5%|██▎                                       | 42/780 [01:48<23:41,  1.93s/it]"
     ]
    },
    {
     "name": "stdout",
     "output_type": "stream",
     "text": [
      "없음: Bob That Back Down (Feat. Tha Pope & Shawnna) Bobby Gore\n"
     ]
    },
    {
     "name": "stderr",
     "output_type": "stream",
     "text": [
      "  6%|██▎                                       | 44/780 [01:51<20:23,  1.66s/it]"
     ]
    },
    {
     "name": "stdout",
     "output_type": "stream",
     "text": [
      "없음: Wu Block Wu-Tang Clan, D-Block\n"
     ]
    },
    {
     "name": "stderr",
     "output_type": "stream",
     "text": [
      "\r",
      "  6%|██▍                                       | 45/780 [01:52<19:25,  1.59s/it]"
     ]
    },
    {
     "name": "stdout",
     "output_type": "stream",
     "text": [
      "없음: Bow Wow (That`s My Name) (Lp Radio Edit) Bow Wow\n"
     ]
    },
    {
     "name": "stderr",
     "output_type": "stream",
     "text": [
      "  6%|██▌                                       | 47/780 [01:56<19:55,  1.63s/it]"
     ]
    },
    {
     "name": "stdout",
     "output_type": "stream",
     "text": [
      "없음: Off-White Yoshi24k\n"
     ]
    },
    {
     "name": "stderr",
     "output_type": "stream",
     "text": [
      "  6%|██▋                                       | 50/780 [02:05<27:17,  2.24s/it]"
     ]
    },
    {
     "name": "stdout",
     "output_type": "stream",
     "text": [
      "없음: Jayou Jurassic 5\n"
     ]
    },
    {
     "name": "stderr",
     "output_type": "stream",
     "text": [
      "\r",
      "  7%|██▋                                       | 51/780 [02:07<28:00,  2.31s/it]"
     ]
    },
    {
     "name": "stdout",
     "output_type": "stream",
     "text": [
      "없음: Green Jinsang\n"
     ]
    },
    {
     "name": "stderr",
     "output_type": "stream",
     "text": [
      "  7%|███                                       | 58/780 [02:22<20:45,  1.73s/it]"
     ]
    },
    {
     "name": "stdout",
     "output_type": "stream",
     "text": [
      "없음: Why 밤비 (Bambee)\n"
     ]
    },
    {
     "name": "stderr",
     "output_type": "stream",
     "text": [
      "\r",
      "  8%|███▏                                      | 59/780 [02:23<18:22,  1.53s/it]"
     ]
    },
    {
     "name": "stdout",
     "output_type": "stream",
     "text": [
      "없음: 항상 나만 이래 (Feat. kumira, D2ear) 서액터, Dept (뎁트)\n"
     ]
    },
    {
     "name": "stderr",
     "output_type": "stream",
     "text": [
      "  9%|███▉                                      | 74/780 [02:51<19:01,  1.62s/it]"
     ]
    },
    {
     "name": "stdout",
     "output_type": "stream",
     "text": [
      "없음: I`m Ready Naye Songz\n"
     ]
    },
    {
     "name": "stderr",
     "output_type": "stream",
     "text": [
      " 10%|████▏                                     | 78/780 [02:58<19:22,  1.66s/it]"
     ]
    },
    {
     "name": "stdout",
     "output_type": "stream",
     "text": [
      "없음: Painkiller Mystic & Miranda\n"
     ]
    },
    {
     "name": "stderr",
     "output_type": "stream",
     "text": [
      "\r",
      " 10%|████▎                                     | 79/780 [02:59<18:13,  1.56s/it]"
     ]
    },
    {
     "name": "stdout",
     "output_type": "stream",
     "text": [
      "없음: Change the Game Blaq Dahlia\n"
     ]
    },
    {
     "name": "stderr",
     "output_type": "stream",
     "text": [
      " 11%|████▌                                     | 84/780 [03:11<21:27,  1.85s/it]"
     ]
    },
    {
     "name": "stdout",
     "output_type": "stream",
     "text": [
      "없음: Priority Matthew `Mdot` Finley\n"
     ]
    },
    {
     "name": "stderr",
     "output_type": "stream",
     "text": [
      "\r",
      " 11%|████▌                                     | 85/780 [03:12<19:27,  1.68s/it]"
     ]
    },
    {
     "name": "stdout",
     "output_type": "stream",
     "text": [
      "없음: Walkin&#39; In The Rain With The One I Love Love Unlimited\n"
     ]
    },
    {
     "name": "stderr",
     "output_type": "stream",
     "text": [
      " 11%|████▋                                     | 88/780 [03:17<19:00,  1.65s/it]"
     ]
    },
    {
     "name": "stdout",
     "output_type": "stream",
     "text": [
      "없음: Dreams Tammy J\n"
     ]
    },
    {
     "name": "stderr",
     "output_type": "stream",
     "text": [
      " 12%|████▊                                     | 90/780 [03:20<17:55,  1.56s/it]"
     ]
    },
    {
     "name": "stdout",
     "output_type": "stream",
     "text": [
      "없음: Hollywould (feat. Chuuwee) Apollo Theo\n"
     ]
    },
    {
     "name": "stderr",
     "output_type": "stream",
     "text": [
      " 13%|█████▎                                    | 98/780 [03:39<21:49,  1.92s/it]"
     ]
    },
    {
     "name": "stdout",
     "output_type": "stream",
     "text": [
      "없음: Ruff Enuff 제리케이 (Jerry.k), PLANET BLACK, 라임어택 (RHYME-A-), 키비, DJ 사일런트\n"
     ]
    },
    {
     "name": "stderr",
     "output_type": "stream",
     "text": [
      " 13%|█████▎                                   | 101/780 [03:43<18:28,  1.63s/it]"
     ]
    },
    {
     "name": "stdout",
     "output_type": "stream",
     "text": [
      "없음: CAMP (Feat. Brick) (Prod. Young sick) 도시 (DOSHi)\n"
     ]
    },
    {
     "name": "stderr",
     "output_type": "stream",
     "text": [
      " 13%|█████▌                                   | 105/780 [03:49<16:21,  1.45s/it]"
     ]
    },
    {
     "name": "stdout",
     "output_type": "stream",
     "text": [
      "없음: 계모 Simba Zawadi (심바 자와디)\n"
     ]
    },
    {
     "name": "stderr",
     "output_type": "stream",
     "text": [
      " 14%|█████▌                                   | 107/780 [03:52<15:13,  1.36s/it]"
     ]
    },
    {
     "name": "stdout",
     "output_type": "stream",
     "text": [
      "없음: 좀 그래 여섯번째 고양이\n"
     ]
    },
    {
     "name": "stderr",
     "output_type": "stream",
     "text": [
      " 15%|██████▏                                  | 117/780 [04:11<17:58,  1.63s/it]"
     ]
    },
    {
     "name": "stdout",
     "output_type": "stream",
     "text": [
      "없음: 괜히 chiyoonhae\n"
     ]
    },
    {
     "name": "stderr",
     "output_type": "stream",
     "text": [
      " 15%|██████▎                                  | 120/780 [04:16<16:26,  1.49s/it]"
     ]
    },
    {
     "name": "stdout",
     "output_type": "stream",
     "text": [
      "없음: Take Me Back In Time Idlewild\n"
     ]
    },
    {
     "name": "stderr",
     "output_type": "stream",
     "text": [
      " 17%|██████▉                                  | 133/780 [04:42<19:40,  1.82s/it]"
     ]
    },
    {
     "name": "stdout",
     "output_type": "stream",
     "text": [
      "없음: Battery (Live With The Sfso) (Clean Ver.) Metallica\n"
     ]
    },
    {
     "name": "stderr",
     "output_type": "stream",
     "text": [
      " 18%|███████▏                                 | 137/780 [04:49<17:35,  1.64s/it]"
     ]
    },
    {
     "name": "stdout",
     "output_type": "stream",
     "text": [
      "없음: Blood of the Piranha The Alter Boys\n"
     ]
    },
    {
     "name": "stderr",
     "output_type": "stream",
     "text": [
      " 18%|███████▎                                 | 140/780 [04:55<17:48,  1.67s/it]"
     ]
    },
    {
     "name": "stdout",
     "output_type": "stream",
     "text": [
      "없음: Believe in Love (Feat. Missi Hale) Alex Petrounov\n"
     ]
    },
    {
     "name": "stderr",
     "output_type": "stream",
     "text": [
      " 19%|███████▋                                 | 146/780 [05:08<22:39,  2.14s/it]"
     ]
    },
    {
     "name": "stdout",
     "output_type": "stream",
     "text": [
      "없음: La Golondrina Mariachi Huapango\n"
     ]
    },
    {
     "name": "stderr",
     "output_type": "stream",
     "text": [
      "\r",
      " 19%|███████▋                                 | 147/780 [05:09<19:10,  1.82s/it]"
     ]
    },
    {
     "name": "stdout",
     "output_type": "stream",
     "text": [
      "없음: Sinner&#39;s Prayer Lady GaGa\n"
     ]
    },
    {
     "name": "stderr",
     "output_type": "stream",
     "text": [
      " 19%|███████▉                                 | 150/780 [05:16<21:04,  2.01s/it]"
     ]
    },
    {
     "name": "stdout",
     "output_type": "stream",
     "text": [
      "없음: The Christmas Mix (Accapella) (Oh Come All Ye Faithful / Silent Night  / Auld Lang Syne) Various Artists\n"
     ]
    },
    {
     "name": "stderr",
     "output_type": "stream",
     "text": [
      " 20%|████████▏                                | 155/780 [05:25<19:09,  1.84s/it]"
     ]
    },
    {
     "name": "stdout",
     "output_type": "stream",
     "text": [
      "없음: Large Soccer Stadium Crowd with Distant Cheering, Singing and Reactions Sound Ideas\n"
     ]
    },
    {
     "name": "stderr",
     "output_type": "stream",
     "text": [
      " 20%|████████▎                                | 159/780 [05:33<19:37,  1.90s/it]"
     ]
    },
    {
     "name": "stdout",
     "output_type": "stream",
     "text": [
      "없음: Never Be Lonely Megan Levering\n"
     ]
    },
    {
     "name": "stderr",
     "output_type": "stream",
     "text": [
      " 21%|████████▌                                | 162/780 [05:39<19:47,  1.92s/it]"
     ]
    },
    {
     "name": "stdout",
     "output_type": "stream",
     "text": [
      "없음: Journey to the Past Musical Creations Studio Musicians (Karaoke)\n"
     ]
    },
    {
     "name": "stderr",
     "output_type": "stream",
     "text": [
      " 21%|████████▊                                | 167/780 [05:49<17:27,  1.71s/it]"
     ]
    },
    {
     "name": "stdout",
     "output_type": "stream",
     "text": [
      "없음: Great Things (Album Version) Echobelly\n"
     ]
    },
    {
     "name": "stderr",
     "output_type": "stream",
     "text": [
      " 23%|█████████▎                               | 177/780 [06:10<18:51,  1.88s/it]"
     ]
    },
    {
     "name": "stdout",
     "output_type": "stream",
     "text": [
      "없음: No Roots Alicia M\n"
     ]
    },
    {
     "name": "stderr",
     "output_type": "stream",
     "text": [
      " 23%|█████████▌                               | 182/780 [06:20<17:45,  1.78s/it]"
     ]
    },
    {
     "name": "stdout",
     "output_type": "stream",
     "text": [
      "없음: Wesley Teesy\n"
     ]
    },
    {
     "name": "stderr",
     "output_type": "stream",
     "text": [
      " 24%|█████████▉                               | 188/780 [06:35<23:25,  2.37s/it]"
     ]
    },
    {
     "name": "stdout",
     "output_type": "stream",
     "text": [
      "없음: Killer Joe The Rocky Fellers\n"
     ]
    },
    {
     "name": "stderr",
     "output_type": "stream",
     "text": [
      " 25%|██████████                               | 192/780 [06:45<22:55,  2.34s/it]"
     ]
    },
    {
     "name": "stdout",
     "output_type": "stream",
     "text": [
      "없음: Come and Get Your Love (Guardians of the Galaxy) (Originally Performed By Redbone) New Tribute Kings\n"
     ]
    },
    {
     "name": "stderr",
     "output_type": "stream",
     "text": [
      "\r",
      " 25%|██████████▏                              | 193/780 [06:46<19:59,  2.04s/it]"
     ]
    },
    {
     "name": "stdout",
     "output_type": "stream",
     "text": [
      "없음: Baddest Chick (Feat. Ray J and Kardinal Offishall) (Ian Carey Radio Edit) Ian Carey, Doron\n"
     ]
    },
    {
     "name": "stderr",
     "output_type": "stream",
     "text": [
      " 25%|██████████▍                              | 198/780 [06:55<16:44,  1.73s/it]"
     ]
    },
    {
     "name": "stdout",
     "output_type": "stream",
     "text": [
      "없음: Leaving Space Joris Delacroix\n"
     ]
    },
    {
     "name": "stderr",
     "output_type": "stream",
     "text": [
      " 26%|██████████▋                              | 204/780 [07:10<18:22,  1.91s/it]"
     ]
    },
    {
     "name": "stdout",
     "output_type": "stream",
     "text": [
      "없음: Dear Luca Ayokay\n"
     ]
    },
    {
     "name": "stderr",
     "output_type": "stream",
     "text": [
      " 27%|███████████                              | 210/780 [07:22<18:44,  1.97s/it]"
     ]
    },
    {
     "name": "stdout",
     "output_type": "stream",
     "text": [
      "없음: Something New (Feat. Odette Di Maio) (Parov Stelar Remix) Lorbi\n"
     ]
    },
    {
     "name": "stderr",
     "output_type": "stream",
     "text": [
      "\r",
      " 27%|███████████                              | 211/780 [07:24<16:35,  1.75s/it]"
     ]
    },
    {
     "name": "stdout",
     "output_type": "stream",
     "text": [
      "없음: Perfect Sky Reel People\n"
     ]
    },
    {
     "name": "stderr",
     "output_type": "stream",
     "text": [
      " 27%|███████████▏                             | 213/780 [07:28<17:09,  1.82s/it]"
     ]
    },
    {
     "name": "stdout",
     "output_type": "stream",
     "text": [
      "없음: This Time It`s My Life Micar\n"
     ]
    },
    {
     "name": "stderr",
     "output_type": "stream",
     "text": [
      "\r",
      " 27%|███████████▏                             | 214/780 [07:29<15:30,  1.64s/it]"
     ]
    },
    {
     "name": "stdout",
     "output_type": "stream",
     "text": [
      "없음: Dead Soon (Scorsi Remix) (Feat. Lils & Bonsai Mammal) Autograf\n"
     ]
    },
    {
     "name": "stderr",
     "output_type": "stream",
     "text": [
      " 28%|███████████▍                             | 217/780 [07:35<17:03,  1.82s/it]"
     ]
    },
    {
     "name": "stdout",
     "output_type": "stream",
     "text": [
      "없음: Don`t Go Sante Cruze\n"
     ]
    },
    {
     "name": "stderr",
     "output_type": "stream",
     "text": [
      " 28%|███████████▌                             | 220/780 [07:41<17:21,  1.86s/it]"
     ]
    },
    {
     "name": "stdout",
     "output_type": "stream",
     "text": [
      "없음: Mon fr?e (Rough Version) Pomme\n"
     ]
    },
    {
     "name": "stderr",
     "output_type": "stream",
     "text": [
      " 28%|███████████▋                             | 222/780 [07:45<16:11,  1.74s/it]"
     ]
    },
    {
     "name": "stdout",
     "output_type": "stream",
     "text": [
      "없음: The Beat Don&#39;t Feel The Same (DNB Remix) (Feat. Boy Matthews) High Contrast\n"
     ]
    },
    {
     "name": "stderr",
     "output_type": "stream",
     "text": [
      " 29%|████████████                             | 229/780 [07:57<14:15,  1.55s/it]"
     ]
    },
    {
     "name": "stdout",
     "output_type": "stream",
     "text": [
      "없음: The Blues (Feat. Candyman) Paradise\n"
     ]
    },
    {
     "name": "stderr",
     "output_type": "stream",
     "text": [
      " 30%|████████████▏                            | 233/780 [08:04<14:33,  1.60s/it]"
     ]
    },
    {
     "name": "stdout",
     "output_type": "stream",
     "text": [
      "없음: Underneath The Sky (Feat. Christon Rigby) (Qulinez Remix) Dash Berlin\n"
     ]
    },
    {
     "name": "stderr",
     "output_type": "stream",
     "text": [
      " 33%|█████████████▌                           | 257/780 [08:52<15:13,  1.75s/it]"
     ]
    },
    {
     "name": "stdout",
     "output_type": "stream",
     "text": [
      "없음: Chip Away Rue Royale\n"
     ]
    },
    {
     "name": "stderr",
     "output_type": "stream",
     "text": [
      " 33%|█████████████▋                           | 260/780 [08:57<14:16,  1.65s/it]"
     ]
    },
    {
     "name": "stdout",
     "output_type": "stream",
     "text": [
      "없음: Dream Me Home Mac Davis\n"
     ]
    },
    {
     "name": "stderr",
     "output_type": "stream",
     "text": [
      " 34%|█████████████▊                           | 262/780 [09:01<15:43,  1.82s/it]"
     ]
    },
    {
     "name": "stdout",
     "output_type": "stream",
     "text": [
      "없음: Go Your Own Way (Remastered Single/LP Ver.) Fleetwood Mac\n"
     ]
    },
    {
     "name": "stderr",
     "output_type": "stream",
     "text": [
      " 35%|██████████████▏                          | 271/780 [09:19<15:48,  1.86s/it]"
     ]
    },
    {
     "name": "stdout",
     "output_type": "stream",
     "text": [
      "없음: Flat Foot Susie With Her Flat Yes Yes Big Bill Broonzy\n"
     ]
    },
    {
     "name": "stderr",
     "output_type": "stream",
     "text": [
      " 35%|██████████████▎                          | 273/780 [09:24<18:14,  2.16s/it]"
     ]
    },
    {
     "name": "stdout",
     "output_type": "stream",
     "text": [
      "없음: Your Cheatin' Heart Natasha Valentine\n"
     ]
    },
    {
     "name": "stderr",
     "output_type": "stream",
     "text": [
      " 36%|██████████████▌                          | 278/780 [09:35<16:54,  2.02s/it]"
     ]
    },
    {
     "name": "stdout",
     "output_type": "stream",
     "text": [
      "없음: Dream in Blue The Stray Birds\n"
     ]
    },
    {
     "name": "stderr",
     "output_type": "stream",
     "text": [
      " 37%|███████████████▏                         | 288/780 [09:55<15:42,  1.92s/it]"
     ]
    },
    {
     "name": "stdout",
     "output_type": "stream",
     "text": [
      "없음: Rock Me (One More Mile Ver.) Muddy Waters\n"
     ]
    },
    {
     "name": "stderr",
     "output_type": "stream",
     "text": [
      " 38%|███████████████▌                         | 296/780 [10:10<13:17,  1.65s/it]"
     ]
    },
    {
     "name": "stdout",
     "output_type": "stream",
     "text": [
      "없음: De Lisle : France - La Marseillaise (프랑스 국가) Nodame Cantabile\n"
     ]
    },
    {
     "name": "stderr",
     "output_type": "stream",
     "text": [
      "\r",
      " 38%|███████████████▌                         | 297/780 [10:12<13:40,  1.70s/it]"
     ]
    },
    {
     "name": "stdout",
     "output_type": "stream",
     "text": [
      "없음: Mozart : Symphony No.31 In D Major K.297 `Paris` - II. Andante (모차르트 : 교향곡 31번 라장조 `파리` - 2악장) 클래시스\n"
     ]
    },
    {
     "name": "stderr",
     "output_type": "stream",
     "text": [
      "\r",
      " 38%|███████████████▋                         | 298/780 [10:15<16:11,  2.02s/it]"
     ]
    },
    {
     "name": "stdout",
     "output_type": "stream",
     "text": [
      "없음: Beethoven : 15 Variations `Eroica Variations` And Fugue In E Flat Major Op.35 - Var.IV (베토벤 : 15개의 `영웅 변주곡`과 푸가 내림 마장조 작품번호 35 - 4변주곡) Liudmila Georgievskaya\n"
     ]
    },
    {
     "name": "stderr",
     "output_type": "stream",
     "text": [
      "\r",
      " 38%|███████████████▋                         | 299/780 [10:16<14:37,  1.82s/it]"
     ]
    },
    {
     "name": "stdout",
     "output_type": "stream",
     "text": [
      "없음: 발트토이펠: 스케이터즈 왈츠 (Skaters` Waltz) Various Artists\n"
     ]
    },
    {
     "name": "stderr",
     "output_type": "stream",
     "text": [
      "\r",
      " 38%|███████████████▊                         | 300/780 [10:18<14:46,  1.85s/it]"
     ]
    },
    {
     "name": "stdout",
     "output_type": "stream",
     "text": [
      "없음: Bottesini : Fantasia On Themes Of Rossini - I. La Danza - Allegro Non Troppo (보테시니 : 로시니 테마의 의한 환상곡 - 1악장) Timothy Cobb, Thomas Martin, Christopher Oldfather\n"
     ]
    },
    {
     "name": "stderr",
     "output_type": "stream",
     "text": [
      "\r",
      " 39%|███████████████▊                         | 301/780 [10:20<14:54,  1.87s/it]"
     ]
    },
    {
     "name": "stdout",
     "output_type": "stream",
     "text": [
      "없음: Donizetti : L`Elisir D`Amore - Chiedi All`Aura Lusinghiera (도니제티 : 사랑의 묘약 - 산들바람에게 물어봐요) Angela Gheorghiu, Roberto Alagna, Evelino Pido, Choeurs De L`opera National De Lyon, Orchestre De L`Opera National De Lyon\n"
     ]
    },
    {
     "name": "stderr",
     "output_type": "stream",
     "text": [
      " 39%|███████████████▉                         | 304/780 [10:26<15:08,  1.91s/it]"
     ]
    },
    {
     "name": "stdout",
     "output_type": "stream",
     "text": [
      "없음: Mozart : Die Zauberflote K.620 Act.II - Der Holle Rache Kocht In Meinem Herze (모차르트 : 마술피리 2막 - 복수의 분노 마음에 불타고 `밤의 여왕 아리아`) Roberta Peters, Karl Bohm, Berliner Philharmoniker\n"
     ]
    },
    {
     "name": "stderr",
     "output_type": "stream",
     "text": [
      "\r",
      " 39%|████████████████                         | 305/780 [10:27<14:15,  1.80s/it]"
     ]
    },
    {
     "name": "stdout",
     "output_type": "stream",
     "text": [
      "없음: Franck : Panis Angelicus (프랭크 : 생명의 양식) Luciano Pavarotti, Sting, Aldo Sisilli, Orchestra Da Camera Arcangelo Corelli\n"
     ]
    },
    {
     "name": "stderr",
     "output_type": "stream",
     "text": [
      "\r",
      " 39%|████████████████                         | 306/780 [10:29<13:28,  1.71s/it]"
     ]
    },
    {
     "name": "stdout",
     "output_type": "stream",
     "text": [
      "없음: Bach : Anna Magdalena`s Notebook Book II. Minuet In G Major BWV Anh.II 114 (바흐 : 안나 막달레나를 위한 노트 2권 미뉴에트 사장조) Various Artists\n"
     ]
    },
    {
     "name": "stderr",
     "output_type": "stream",
     "text": [
      " 39%|████████████████▏                        | 308/780 [10:33<15:27,  1.96s/it]"
     ]
    },
    {
     "name": "stdout",
     "output_type": "stream",
     "text": [
      "없음: Vivaldi: The Four Seasons - Concerto In F Minor, RV 297, &#34;The Winter&#34; - 1. Allegro non molto (Live From Yellow Lounge) Anne-Sophie Mutter, Mutter`s Virtuosi, Mahan Esfahani\n"
     ]
    },
    {
     "name": "stderr",
     "output_type": "stream",
     "text": [
      "\r",
      " 40%|████████████████▏                        | 309/780 [10:35<16:03,  2.05s/it]"
     ]
    },
    {
     "name": "stdout",
     "output_type": "stream",
     "text": [
      "없음: Throne Room And Finale (From &#34;Star Wars: Episode IV &#8211; A New Hope&#34; / Live At Walt Disney Concert Hall, Los Angeles / 2019) Los Angeles Philharmonic Orchestra, Gustavo Dudamel\n"
     ]
    },
    {
     "name": "stderr",
     "output_type": "stream",
     "text": [
      " 40%|████████████████▍                        | 313/780 [10:45<17:43,  2.28s/it]"
     ]
    },
    {
     "name": "stdout",
     "output_type": "stream",
     "text": [
      "없음: Rachmaninov : Morceaux De Salon Op.10 - III. Barcarolle (라흐마니노프 : 살롱 소품집 작품번호 10 - 3번. 뱃노래) (Take A) Sergei Rachmaninov\n"
     ]
    },
    {
     "name": "stderr",
     "output_type": "stream",
     "text": [
      "\r",
      " 40%|████████████████▌                        | 314/780 [10:47<16:26,  2.12s/it]"
     ]
    },
    {
     "name": "stdout",
     "output_type": "stream",
     "text": [
      "없음: Dolly, Op. 56  Berceuse Julian Bream\n"
     ]
    },
    {
     "name": "stderr",
     "output_type": "stream",
     "text": [
      "\r",
      " 40%|████████████████▌                        | 315/780 [10:49<15:14,  1.97s/it]"
     ]
    },
    {
     "name": "stdout",
     "output_type": "stream",
     "text": [
      "없음: Chopin: 24 Pr&#233;ludes, Op.28 - 21. In B Flat Major Martha Argerich\n"
     ]
    },
    {
     "name": "stderr",
     "output_type": "stream",
     "text": [
      " 41%|████████████████▋                        | 317/780 [10:52<14:45,  1.91s/it]"
     ]
    },
    {
     "name": "stdout",
     "output_type": "stream",
     "text": [
      "없음: Corelli: Concerto grosso in D, Op.6, No.1 - Rev. Vittorio Negri (1923- ) - 4. Largo Felix Ayo, Arnaldo Apostoli, Enzo Altobelli, Maria Teresa Garatti, Guy Bovet, I Musici\n"
     ]
    },
    {
     "name": "stderr",
     "output_type": "stream",
     "text": [
      " 41%|████████████████▊                        | 319/780 [10:56<14:45,  1.92s/it]"
     ]
    },
    {
     "name": "stdout",
     "output_type": "stream",
     "text": [
      "없음: Scarlatti : Sonata K259 In G Major Mikhail Pletnev\n"
     ]
    },
    {
     "name": "stderr",
     "output_type": "stream",
     "text": [
      " 41%|████████████████▊                        | 321/780 [11:00<14:39,  1.92s/it]"
     ]
    },
    {
     "name": "stdout",
     "output_type": "stream",
     "text": [
      "없음: Arie Antiche, Book I. - `Se tu m`ami` / `Star vicino` (Arr. Terry for Jazz Ensemble) Joyce DiDonato\n"
     ]
    },
    {
     "name": "stderr",
     "output_type": "stream",
     "text": [
      "\r",
      " 41%|████████████████▉                        | 322/780 [11:02<13:17,  1.74s/it]"
     ]
    },
    {
     "name": "stdout",
     "output_type": "stream",
     "text": [
      "없음: Anonymous : Ei, Ukhnyem (The Volga Boatmen) (Arr. S. Jaroff) Ivan Beresoff, Serge Jaroff, Don Kosaken Chor\n"
     ]
    },
    {
     "name": "stderr",
     "output_type": "stream",
     "text": [
      "\r",
      " 41%|████████████████▉                        | 323/780 [11:04<13:23,  1.76s/it]"
     ]
    },
    {
     "name": "stdout",
     "output_type": "stream",
     "text": [
      "없음: Chopin : Scherzo No.2 In B Flat Minor Op.31 (쇼팽 : 스케르초 2번 내림 나단조 작품번호 31) Kakehashi Takeshi\n"
     ]
    },
    {
     "name": "stderr",
     "output_type": "stream",
     "text": [
      " 42%|█████████████████                        | 325/780 [11:08<14:24,  1.90s/it]"
     ]
    },
    {
     "name": "stdout",
     "output_type": "stream",
     "text": [
      "없음: Bach : Partita No.6 In E Minor BWV.830 - II. Allemande (바흐 : 파르티타 6번 마단조 - 2번. 알망드) Walter Gieseking\n"
     ]
    },
    {
     "name": "stderr",
     "output_type": "stream",
     "text": [
      "\r",
      " 42%|█████████████████▏                       | 326/780 [11:10<14:36,  1.93s/it]"
     ]
    },
    {
     "name": "stdout",
     "output_type": "stream",
     "text": [
      "없음: Handel : Sonata No.4 In G Major For Flute And Continuo - IV. Bourree (헨델 : 플룻과 콘티누오를 위한 소나타 4번 마장조 - IV. 부레) 벨로체\n"
     ]
    },
    {
     "name": "stderr",
     "output_type": "stream",
     "text": [
      "\r",
      " 42%|█████████████████▏                       | 327/780 [11:12<14:25,  1.91s/it]"
     ]
    },
    {
     "name": "stdout",
     "output_type": "stream",
     "text": [
      "없음: Haydn : Piano Sonata No.3 In F Major Hob.XVI-9 - I. Allegro (하이든 : 피아노 소나타 3번 바장조 - 1악장) 피아노포르테\n"
     ]
    },
    {
     "name": "stderr",
     "output_type": "stream",
     "text": [
      " 42%|█████████████████▎                       | 329/780 [11:16<14:49,  1.97s/it]"
     ]
    },
    {
     "name": "stdout",
     "output_type": "stream",
     "text": [
      "없음: Liszt : Nocturne No.3 In A Flat Major Op.62-1 S.541 `Liebestraume` (리스트 : 야상곡 3번 내림 가장조 작품번호 62-1 `사랑의 꿈`) Various Artists\n"
     ]
    },
    {
     "name": "stderr",
     "output_type": "stream",
     "text": [
      " 42%|█████████████████▍                       | 331/780 [11:20<15:28,  2.07s/it]"
     ]
    },
    {
     "name": "stdout",
     "output_type": "stream",
     "text": [
      "없음: Verdi : Aida - Gloria All`egitto `Grand March` (베르디 : 아이다 - 이집트에 영광을 `개선 행진곡`) (노다메 칸타빌레) Various Artists\n"
     ]
    },
    {
     "name": "stderr",
     "output_type": "stream",
     "text": [
      "\r",
      " 43%|█████████████████▍                       | 332/780 [11:22<15:49,  2.12s/it]"
     ]
    },
    {
     "name": "stdout",
     "output_type": "stream",
     "text": [
      "없음: Donizetti : Lucie De Lammermoor - Non, Du Serment Tu Trahis La Foi! Anatheme...  (No.9 - Suite & Stretta Finale) (Act 2) Natalie Dessay\n"
     ]
    },
    {
     "name": "stderr",
     "output_type": "stream",
     "text": [
      "\r",
      " 43%|█████████████████▌                       | 333/780 [11:24<14:49,  1.99s/it]"
     ]
    },
    {
     "name": "stdout",
     "output_type": "stream",
     "text": [
      "없음: Brahms: 5 Lieder, Op. 49 (Text By G. Scherer) - No. 4. Wiegenlied Instrumental Ensemble, Jochen Kowalski\n"
     ]
    },
    {
     "name": "stderr",
     "output_type": "stream",
     "text": [
      "\r",
      " 43%|█████████████████▌                       | 334/780 [11:27<16:09,  2.17s/it]"
     ]
    },
    {
     "name": "stdout",
     "output_type": "stream",
     "text": [
      "없음: Rossini: Introduction, Theme and Variations for Clarinet and Orchestra in E flat major - Cadenza: Charles Neidich - Introduzione: Andante (sostenuto) Charles Neidich, Orpheus Chamber Orchestra\n"
     ]
    },
    {
     "name": "stderr",
     "output_type": "stream",
     "text": [
      " 43%|█████████████████▋                       | 337/780 [11:36<19:48,  2.68s/it]"
     ]
    },
    {
     "name": "stdout",
     "output_type": "stream",
     "text": [
      "없음: Chopin: Piano Sonata No.2 In B Flat Minor, Op.35 - 2. Scherzo - Pi&#249; lento - Tempo I H&#233;l&#232;ne Grimaud\n"
     ]
    },
    {
     "name": "stderr",
     "output_type": "stream",
     "text": [
      "\r",
      " 43%|█████████████████▊                       | 338/780 [11:38<19:41,  2.67s/it]"
     ]
    },
    {
     "name": "stdout",
     "output_type": "stream",
     "text": [
      "없음: Williams : Aeolian Suite For Guitar And Small Orchestra - Toccata John Williams\n"
     ]
    },
    {
     "name": "stderr",
     "output_type": "stream",
     "text": [
      "\r",
      " 43%|█████████████████▊                       | 339/780 [11:42<22:44,  3.09s/it]"
     ]
    },
    {
     "name": "stdout",
     "output_type": "stream",
     "text": [
      "없음: Vivaldi: Concerto For Violin And Strings In E, Op.8, No.1, RV.269 &#34;La Primavera&#34; - 1. Allegro (Live) Isaac Stern, Zubin Mehta, Israel Philharmonic Orchestra\n"
     ]
    },
    {
     "name": "stderr",
     "output_type": "stream",
     "text": [
      "\r",
      " 44%|█████████████████▊                       | 340/780 [11:46<23:53,  3.26s/it]"
     ]
    },
    {
     "name": "stdout",
     "output_type": "stream",
     "text": [
      "없음: Dvorak : Cello Concerto In B Minor Op.104 - III. Finale. Allegro Moderato (드보르작 : 첼로 협주곡 나단조 작품번호 104 - 3악장) Yo-Yo Ma\n"
     ]
    },
    {
     "name": "stderr",
     "output_type": "stream",
     "text": [
      " 44%|█████████████████▉                       | 342/780 [11:52<22:31,  3.09s/it]"
     ]
    },
    {
     "name": "stdout",
     "output_type": "stream",
     "text": [
      "없음: Bach : Das Wohltemperierte Klavier Book I.Fugue In C Sharp Minor BWV.849  Andr&#225;s Schiff\n"
     ]
    },
    {
     "name": "stderr",
     "output_type": "stream",
     "text": [
      " 44%|██████████████████                       | 344/780 [11:57<20:09,  2.77s/it]"
     ]
    },
    {
     "name": "stdout",
     "output_type": "stream",
     "text": [
      "없음: Schubert : Auf Dem Wasser Zu Singen D.774 (슈베르트 : 물 위에서 노래함) Yury Revich\n"
     ]
    },
    {
     "name": "stderr",
     "output_type": "stream",
     "text": [
      " 44%|██████████████████▏                      | 347/780 [12:06<21:07,  2.93s/it]"
     ]
    },
    {
     "name": "stdout",
     "output_type": "stream",
     "text": [
      "없음: Schubert : Fantasia For Piano Duet In F Minor Op.103 D.940 (Part.VII) (슈베르트 : 환상곡 바단조 작품번호 103) Richard Bowie\n"
     ]
    },
    {
     "name": "stderr",
     "output_type": "stream",
     "text": [
      " 45%|██████████████████▎                      | 349/780 [12:11<17:49,  2.48s/it]"
     ]
    },
    {
     "name": "stdout",
     "output_type": "stream",
     "text": [
      "없음: The Gershwin Songbook: No. 14, That Certain Feeling Joanna MacGregor\n"
     ]
    },
    {
     "name": "stderr",
     "output_type": "stream",
     "text": [
      " 45%|██████████████████▍                      | 351/780 [12:15<16:13,  2.27s/it]"
     ]
    },
    {
     "name": "stdout",
     "output_type": "stream",
     "text": [
      "없음: Love is Truth David Lanz\n"
     ]
    },
    {
     "name": "stderr",
     "output_type": "stream",
     "text": [
      " 45%|██████████████████▌                      | 354/780 [12:21<15:47,  2.23s/it]"
     ]
    },
    {
     "name": "stdout",
     "output_type": "stream",
     "text": [
      "없음: Tchaikovsky : Piano Concerto No.2 In G Major Op.44 - III. Allegro Con Fuoco (차이콥스키 : 피아노 협주곡 2번 사장조 작품번호 44 - 3악장) Eldar Nebolsin, Michael Stern, New Zealand Symphony Orchestra\n"
     ]
    },
    {
     "name": "stderr",
     "output_type": "stream",
     "text": [
      "\r",
      " 46%|██████████████████▋                      | 355/780 [12:24<16:28,  2.33s/it]"
     ]
    },
    {
     "name": "stdout",
     "output_type": "stream",
     "text": [
      "없음: Boccherini : String Quintet In E Major Op.11-5 - Minuetto (보케리니 : 현악 5중주 마장조 작품번호 11-5 - 미뉴에트) Various Artists\n"
     ]
    },
    {
     "name": "stderr",
     "output_type": "stream",
     "text": [
      " 46%|██████████████████▊                      | 357/780 [12:30<17:51,  2.53s/it]"
     ]
    },
    {
     "name": "stdout",
     "output_type": "stream",
     "text": [
      "없음: Donizetti : Lucie De Lammermoor - Eh Bien, Lucie?  (No.8 - Scene & Sextuor) (Act 2) Natalie Dessay\n"
     ]
    },
    {
     "name": "stderr",
     "output_type": "stream",
     "text": [
      "\r",
      " 46%|██████████████████▊                      | 358/780 [12:33<18:26,  2.62s/it]"
     ]
    },
    {
     "name": "stdout",
     "output_type": "stream",
     "text": [
      "없음: de Falla: La vida breve - Arr. by Fritz Kreisler / Act 2 - Spanish Dance Christian Ferras, Jean-Claude Ambrosini\n"
     ]
    },
    {
     "name": "stderr",
     "output_type": "stream",
     "text": [
      "\r",
      " 46%|██████████████████▊                      | 359/780 [12:35<18:03,  2.57s/it]"
     ]
    },
    {
     "name": "stdout",
     "output_type": "stream",
     "text": [
      "없음: Schumann: Symphony No.3 in E flat, Op.97 - &#34;Rhenish&#34; - 3. Nicht schnell Los Angeles Philharmonic Orchestra, Carlo Maria Giulini\n"
     ]
    },
    {
     "name": "stderr",
     "output_type": "stream",
     "text": [
      " 46%|██████████████████▉                      | 361/780 [12:42<20:50,  2.99s/it]"
     ]
    },
    {
     "name": "stdout",
     "output_type": "stream",
     "text": [
      "없음: Mendelssohn: Violin Concerto In E Minor, Op. 64, Mwv O14 - I. Allegro Molto Appassionato - Philharmonic Symphony Orchestra, Guido Cantelli, Jascha Heifetz\n"
     ]
    },
    {
     "name": "stderr",
     "output_type": "stream",
     "text": [
      "\r",
      " 46%|███████████████████                      | 362/780 [12:44<19:34,  2.81s/it]"
     ]
    },
    {
     "name": "stdout",
     "output_type": "stream",
     "text": [
      "없음: Ponchielli: La Gioconda / Act 1 - Voce di donna ... a te questo rosario Franca Sacchi, Anita Cerquetti, Giulietta Simionato, Athos Cesarini, Giorgio Giorgetti, Cesare Siepi, Ettore Bastianini, Mario Del Monaco, Coro Del Maggio Musicale Fiorentino, Orchestra Del Maggio Musicale Fiorentino, Gianandrea Gavazzeni\n"
     ]
    },
    {
     "name": "stderr",
     "output_type": "stream",
     "text": [
      " 47%|███████████████████▏                     | 364/780 [12:49<17:45,  2.56s/it]"
     ]
    },
    {
     "name": "stdout",
     "output_type": "stream",
     "text": [
      "없음: Verdi : La Forza Del Destino - Overture (베르디 : 운명의 힘 - 서곡) Valery Gergiev, Wiener Philharmoniker\n"
     ]
    },
    {
     "name": "stderr",
     "output_type": "stream",
     "text": [
      " 47%|███████████████████▍                     | 370/780 [13:05<17:15,  2.52s/it]"
     ]
    },
    {
     "name": "stdout",
     "output_type": "stream",
     "text": [
      "없음: Mozart : Violin Concerto No.5 In A Major K.219 `Turkish` - III. Rondeau. Tempo Di Menuetto (모차르트 : 바이올린 협주곡 5번 가장조 `터키풍` - 3악장) Jaroslav Sveceny\n"
     ]
    },
    {
     "name": "stderr",
     "output_type": "stream",
     "text": [
      "\r",
      " 48%|███████████████████▌                     | 371/780 [13:07<16:29,  2.42s/it]"
     ]
    },
    {
     "name": "stdout",
     "output_type": "stream",
     "text": [
      "없음: Vivaldi : Violin Concerto No.3 In D Major Op.12 RV.124 - II. Grave (비발디 : 바이올린 협주곡 3번 라장조 작품번호 12 - 2악장) Pavlo Beznosiuk, Christopher Hogwood, The Academy Of Ancient Music\n"
     ]
    },
    {
     "name": "stderr",
     "output_type": "stream",
     "text": [
      " 48%|███████████████████▌                     | 373/780 [13:12<16:16,  2.40s/it]"
     ]
    },
    {
     "name": "stdout",
     "output_type": "stream",
     "text": [
      "없음: Mozart : Piano Sonata No.16 In C Major K.545 (모차르트 : 피아노 소나타 16번 다장조) Healing Hue\n"
     ]
    },
    {
     "name": "stderr",
     "output_type": "stream",
     "text": [
      "\r",
      " 48%|███████████████████▋                     | 374/780 [13:16<20:04,  2.97s/it]"
     ]
    },
    {
     "name": "stdout",
     "output_type": "stream",
     "text": [
      "없음: Handel : Water Music Suite No.1 In F Major HWV.348 - XII. Alla Hornpipe (헨델 : 수상음악 모음곡 1번 바장조 - 12번. 나무 피리처럼) 공부 도우미\n"
     ]
    },
    {
     "name": "stderr",
     "output_type": "stream",
     "text": [
      "\r",
      " 48%|███████████████████▋                     | 375/780 [13:21<23:31,  3.49s/it]"
     ]
    },
    {
     "name": "stdout",
     "output_type": "stream",
     "text": [
      "없음: Beethoven : Piano Sonata No.29 In B Flat Major Op.106 `Hammerklavier` - IV. Introduzione. Allegro Risoluto (베토벤 : 피아노 소나타 29번 내림 나장조 작품번호 106 `해머클라비어` - 4악장) 클래식 플러스\n"
     ]
    },
    {
     "name": "stderr",
     "output_type": "stream",
     "text": [
      "\r",
      " 48%|███████████████████▊                     | 376/780 [13:22<19:21,  2.87s/it]"
     ]
    },
    {
     "name": "stdout",
     "output_type": "stream",
     "text": [
      "없음: Trad / Arr Carter : ＂I wonder as I wander＂ 조수미\n"
     ]
    },
    {
     "name": "stderr",
     "output_type": "stream",
     "text": [
      "\r",
      " 48%|███████████████████▊                     | 377/780 [13:25<20:34,  3.06s/it]"
     ]
    },
    {
     "name": "stdout",
     "output_type": "stream",
     "text": [
      "없음: Marais : Pieces De Viole Book III. - Suite In A Major - Boutade (마레 : 비올 작품집 3권 - 모음곡 가장조 - 농담) Jerome Hantai\n"
     ]
    },
    {
     "name": "stderr",
     "output_type": "stream",
     "text": [
      " 49%|████████████████████                     | 381/780 [13:38<19:29,  2.93s/it]"
     ]
    },
    {
     "name": "stdout",
     "output_type": "stream",
     "text": [
      "없음: Schmitt : 7 Pieces Op.15 - III. Scintillement Invencia Piano Duo\n"
     ]
    },
    {
     "name": "stderr",
     "output_type": "stream",
     "text": [
      " 49%|████████████████████▏                    | 383/780 [13:43<17:52,  2.70s/it]"
     ]
    },
    {
     "name": "stdout",
     "output_type": "stream",
     "text": [
      "없음: Bazzini : La Ronde Des Lutins Op.25 (바치니 : 요정의 춤 작품번호 25) Itzhak Perlman, Samuel Sanders\n"
     ]
    },
    {
     "name": "stderr",
     "output_type": "stream",
     "text": [
      "\r",
      " 49%|████████████████████▏                    | 384/780 [13:46<17:55,  2.72s/it]"
     ]
    },
    {
     "name": "stdout",
     "output_type": "stream",
     "text": [
      "없음: Mahler: Symphony No.9 In D - 3. Rondo-Burleske: Allegro assai. Sehr trotzig Herbert Von Karajan, Berliner Philharmoniker\n"
     ]
    },
    {
     "name": "stderr",
     "output_type": "stream",
     "text": [
      "\r",
      " 49%|████████████████████▏                    | 385/780 [13:50<19:39,  2.99s/it]"
     ]
    },
    {
     "name": "stdout",
     "output_type": "stream",
     "text": [
      "없음: Mendelssohn : Songs Without Words Book IV. No.19 In A Flat Major Op.53-1 `On The Seashore` (멘델스존 : 무언가 4권 19번 내림 가장조 `바닷가에서`) France Ellegaard, Johanne Stockmarr, Galina Werschenska\n"
     ]
    },
    {
     "name": "stderr",
     "output_type": "stream",
     "text": [
      "\r",
      " 49%|████████████████████▎                    | 386/780 [13:52<17:39,  2.69s/it]"
     ]
    },
    {
     "name": "stdout",
     "output_type": "stream",
     "text": [
      "없음: Borodin : Symphony No.3 In A Minor - I. Moderato Assai (보로딘 : 교향곡 3번 가단조 - 1악장) Various Artists\n"
     ]
    },
    {
     "name": "stderr",
     "output_type": "stream",
     "text": [
      "\r",
      " 50%|████████████████████▎                    | 387/780 [13:53<15:06,  2.31s/it]"
     ]
    },
    {
     "name": "stdout",
     "output_type": "stream",
     "text": [
      "없음: Sibelius : Pelleas Et Melisande - VI. Pastorale Herbert Von Karajan, Berliner Philharmoniker\n"
     ]
    },
    {
     "name": "stderr",
     "output_type": "stream",
     "text": [
      "\r",
      " 50%|████████████████████▍                    | 388/780 [13:55<14:14,  2.18s/it]"
     ]
    },
    {
     "name": "stdout",
     "output_type": "stream",
     "text": [
      "없음: Schumann : Fantasie In C Major Op.17 - III. Langsam Getragen (슈만 : 환상곡 다장조 작품번호 17 - 3악장) Evgeny Kissin\n"
     ]
    },
    {
     "name": "stderr",
     "output_type": "stream",
     "text": [
      " 50%|████████████████████▌                    | 390/780 [14:00<15:09,  2.33s/it]"
     ]
    },
    {
     "name": "stdout",
     "output_type": "stream",
     "text": [
      "없음: Handel : Serse HWV.40 Act.I Scene I. - Accompagnato `Frondi Tenere`, Arioso `Ombra Mai Fu` Anne Sofie Von Otter, Lawrence Zazzo, Elizabeth Norberg-Schulz, Sandrine Piau, Antonio Abete, Giovanni Furlanetto, Sylvia Tro Santafe, William Christie, Choeurs Et Orchestre Des Arts Florissants\n"
     ]
    },
    {
     "name": "stderr",
     "output_type": "stream",
     "text": [
      "\r",
      " 50%|████████████████████▌                    | 391/780 [14:02<14:20,  2.21s/it]"
     ]
    },
    {
     "name": "stdout",
     "output_type": "stream",
     "text": [
      "없음: 아베 마리아 Richard Yongjae O&#39;Neill (리처드 용재 오닐), Wurttembergisches Kammerorchester Heilbronn, Ruben Gazarian, Christopher Park\n"
     ]
    },
    {
     "name": "stderr",
     "output_type": "stream",
     "text": [
      "\r",
      " 50%|████████████████████▌                    | 392/780 [14:04<13:17,  2.05s/it]"
     ]
    },
    {
     "name": "stdout",
     "output_type": "stream",
     "text": [
      "없음: Mendelssohn : Lieder Ohne Worte Op.19b - VI. Venetianisches Gondellied. Andante Sostenuto Various Artists\n"
     ]
    },
    {
     "name": "stderr",
     "output_type": "stream",
     "text": [
      " 51%|████████████████████▋                    | 394/780 [14:07<11:42,  1.82s/it]"
     ]
    },
    {
     "name": "stdout",
     "output_type": "stream",
     "text": [
      "없음: Spanish Romance Simon Dinnigan\n"
     ]
    },
    {
     "name": "stderr",
     "output_type": "stream",
     "text": [
      " 51%|████████████████████▊                    | 396/780 [14:11<11:40,  1.83s/it]"
     ]
    },
    {
     "name": "stdout",
     "output_type": "stream",
     "text": [
      "없음: Bailarina Charlie Haden, Jan Garbarek, Egberto Gismonti\n"
     ]
    },
    {
     "name": "stderr",
     "output_type": "stream",
     "text": [
      " 51%|████████████████████▉                    | 398/780 [14:14<10:34,  1.66s/it]"
     ]
    },
    {
     "name": "stdout",
     "output_type": "stream",
     "text": [
      "없음: 夏の終わり / Natsuno Owari (여름의 끝) Chihiro Yamazaki+Route 14 Band\n"
     ]
    },
    {
     "name": "stderr",
     "output_type": "stream",
     "text": [
      " 52%|█████████████████████▎                   | 405/780 [14:28<12:12,  1.95s/it]"
     ]
    },
    {
     "name": "stdout",
     "output_type": "stream",
     "text": [
      "없음: Waltzing&#39;s For Dreamers Curtis Stigers\n"
     ]
    },
    {
     "name": "stderr",
     "output_type": "stream",
     "text": [
      " 53%|█████████████████████▌                   | 410/780 [14:40<13:36,  2.21s/it]"
     ]
    },
    {
     "name": "stdout",
     "output_type": "stream",
     "text": [
      "없음: プラネタリウム / Planetarium Toki Asako\n"
     ]
    },
    {
     "name": "stderr",
     "output_type": "stream",
     "text": [
      " 54%|██████████████████████▎                  | 425/780 [15:11<13:29,  2.28s/it]"
     ]
    },
    {
     "name": "stdout",
     "output_type": "stream",
     "text": [
      "없음: Paixao Solar (빠이셩 쏠라 / 태양의 정열) Fabio Cadore, Hernan Jacinto\n"
     ]
    },
    {
     "name": "stderr",
     "output_type": "stream",
     "text": [
      " 55%|██████████████████████▍                  | 428/780 [15:16<10:40,  1.82s/it]"
     ]
    },
    {
     "name": "stdout",
     "output_type": "stream",
     "text": [
      "없음: Holiday Jackie And Roy\n"
     ]
    },
    {
     "name": "stderr",
     "output_type": "stream",
     "text": [
      "\r",
      " 55%|██████████████████████▌                  | 429/780 [15:18<10:34,  1.81s/it]"
     ]
    },
    {
     "name": "stdout",
     "output_type": "stream",
     "text": [
      "없음: Afterthought Les Spann\n"
     ]
    },
    {
     "name": "stderr",
     "output_type": "stream",
     "text": [
      "\r",
      " 55%|██████████████████████▌                  | 430/780 [15:19<09:08,  1.57s/it]"
     ]
    },
    {
     "name": "stdout",
     "output_type": "stream",
     "text": [
      "없음: Miles Ahead Joe Henderson\n"
     ]
    },
    {
     "name": "stderr",
     "output_type": "stream",
     "text": [
      " 55%|██████████████████████▋                  | 432/780 [15:22<08:43,  1.50s/it]"
     ]
    },
    {
     "name": "stdout",
     "output_type": "stream",
     "text": [
      "없음: Voyage Iiro Rantala with Lars Danielsson & Peter Erskine\n"
     ]
    },
    {
     "name": "stderr",
     "output_type": "stream",
     "text": [
      " 58%|███████████████████████▌                 | 449/780 [15:55<10:05,  1.83s/it]"
     ]
    },
    {
     "name": "stdout",
     "output_type": "stream",
     "text": [
      "없음: Recado Bossa Nova (2001 Remaster) The Howard Roberts Quartet\n"
     ]
    },
    {
     "name": "stderr",
     "output_type": "stream",
     "text": [
      " 59%|████████████████████████▎                | 462/780 [16:28<11:49,  2.23s/it]"
     ]
    },
    {
     "name": "stdout",
     "output_type": "stream",
     "text": [
      "없음: Spain Marian McPartland, Chick Corea\n"
     ]
    },
    {
     "name": "stderr",
     "output_type": "stream",
     "text": [
      " 60%|████████████████████████▌                | 467/780 [16:41<12:30,  2.40s/it]"
     ]
    },
    {
     "name": "stdout",
     "output_type": "stream",
     "text": [
      "없음: Is You Is Or Is You Ain&#39;t My Baby (Album Version) (Feat. Ray Brown & Stanley Turrentine) Diana Krall\n"
     ]
    },
    {
     "name": "stderr",
     "output_type": "stream",
     "text": [
      " 60%|████████████████████████▋                | 469/780 [16:45<10:46,  2.08s/it]"
     ]
    },
    {
     "name": "stdout",
     "output_type": "stream",
     "text": [
      "없음: Don&#39;t Know Much About Love Grace Knight\n"
     ]
    },
    {
     "name": "stderr",
     "output_type": "stream",
     "text": [
      " 61%|████████████████████████▉                | 475/780 [16:58<09:44,  1.92s/it]"
     ]
    },
    {
     "name": "stdout",
     "output_type": "stream",
     "text": [
      "없음: Song For Jim Webb Larry Coryell\n"
     ]
    },
    {
     "name": "stderr",
     "output_type": "stream",
     "text": [
      "\r",
      " 61%|█████████████████████████                | 476/780 [17:00<09:48,  1.93s/it]"
     ]
    },
    {
     "name": "stdout",
     "output_type": "stream",
     "text": [
      "없음: Dream A Little Dream Of Me (Single Version) Louis Armstrong, Ella Fitzgerald\n"
     ]
    },
    {
     "name": "stderr",
     "output_type": "stream",
     "text": [
      " 63%|█████████████████████████▊               | 490/780 [17:36<11:26,  2.37s/it]"
     ]
    },
    {
     "name": "stdout",
     "output_type": "stream",
     "text": [
      "없음: Stewart-Evans : 19.07 (Improvisation) Matt Stewart-Evans\n"
     ]
    },
    {
     "name": "stderr",
     "output_type": "stream",
     "text": [
      " 63%|█████████████████████████▊               | 492/780 [17:42<12:31,  2.61s/it]"
     ]
    },
    {
     "name": "stdout",
     "output_type": "stream",
     "text": [
      "없음: 君をのせて / 너를 태우고 J.B\n"
     ]
    },
    {
     "name": "stderr",
     "output_type": "stream",
     "text": [
      " 64%|██████████████████████████▎              | 501/780 [18:01<09:18,  2.00s/it]"
     ]
    },
    {
     "name": "stdout",
     "output_type": "stream",
     "text": [
      "없음: Midnight Mrest\n"
     ]
    },
    {
     "name": "stderr",
     "output_type": "stream",
     "text": [
      " 68%|███████████████████████████▋             | 527/780 [18:59<08:21,  1.98s/it]"
     ]
    },
    {
     "name": "stdout",
     "output_type": "stream",
     "text": [
      "없음: 가을하늘 이홍석, 조연주\n"
     ]
    },
    {
     "name": "stderr",
     "output_type": "stream",
     "text": [
      " 69%|████████████████████████████▍            | 541/780 [19:28<08:18,  2.09s/it]"
     ]
    },
    {
     "name": "stdout",
     "output_type": "stream",
     "text": [
      "없음: Pilgrimage Missa Johnouchi\n"
     ]
    },
    {
     "name": "stderr",
     "output_type": "stream",
     "text": [
      " 71%|████████████████████████████▉            | 551/780 [19:59<15:09,  3.97s/it]"
     ]
    },
    {
     "name": "stdout",
     "output_type": "stream",
     "text": [
      "없음: All Along The Watchtower Michael Hedges\n"
     ]
    },
    {
     "name": "stderr",
     "output_type": "stream",
     "text": [
      " 73%|█████████████████████████████▊           | 566/780 [20:31<06:48,  1.91s/it]"
     ]
    },
    {
     "name": "stdout",
     "output_type": "stream",
     "text": [
      "없음: Hanon : Piano Etude No.61 (하농 : 피아노 연습곡 61번) 이진욱\n"
     ]
    },
    {
     "name": "stderr",
     "output_type": "stream",
     "text": [
      " 73%|█████████████████████████████▊           | 568/780 [20:34<06:20,  1.79s/it]"
     ]
    },
    {
     "name": "stdout",
     "output_type": "stream",
     "text": [
      "없음: Neuf Ou Dix Vagues Jean Poinsignon\n"
     ]
    },
    {
     "name": "stderr",
     "output_type": "stream",
     "text": [
      " 73%|██████████████████████████████           | 572/780 [20:43<06:55,  2.00s/it]"
     ]
    },
    {
     "name": "stdout",
     "output_type": "stream",
     "text": [
      "없음: さんぽ / Sanpo (산보) Various Artists\n"
     ]
    },
    {
     "name": "stderr",
     "output_type": "stream",
     "text": [
      "\r",
      " 73%|██████████████████████████████           | 573/780 [20:46<08:03,  2.34s/it]"
     ]
    },
    {
     "name": "stdout",
     "output_type": "stream",
     "text": [
      "없음: 愛は花, 君はその種子 / Aiwa Hana, Kimiwa Sono Tane (사랑은 꽃, 당신은 그 씨앗) Hinata Miyuki\n"
     ]
    },
    {
     "name": "stderr",
     "output_type": "stream",
     "text": [
      " 74%|██████████████████████████████▏          | 575/780 [20:49<06:26,  1.89s/it]"
     ]
    },
    {
     "name": "stdout",
     "output_type": "stream",
     "text": [
      "없음: True Love Shao Rong\n"
     ]
    },
    {
     "name": "stderr",
     "output_type": "stream",
     "text": [
      " 75%|██████████████████████████████▊          | 585/780 [21:08<05:20,  1.64s/it]"
     ]
    },
    {
     "name": "stdout",
     "output_type": "stream",
     "text": [
      "없음: 보내줄게 유빈 (Yubin)\n"
     ]
    },
    {
     "name": "stderr",
     "output_type": "stream",
     "text": [
      " 76%|███████████████████████████████▎         | 596/780 [21:32<06:23,  2.08s/it]"
     ]
    },
    {
     "name": "stdout",
     "output_type": "stream",
     "text": [
      "없음: Body Language (Feat. Miranda Glory & Haris) [Club Mix] Tujamo\n"
     ]
    },
    {
     "name": "stderr",
     "output_type": "stream",
     "text": [
      " 77%|███████████████████████████████▌         | 600/780 [21:40<05:45,  1.92s/it]"
     ]
    },
    {
     "name": "stdout",
     "output_type": "stream",
     "text": [
      "없음: No Lie Paris & Simo\n"
     ]
    },
    {
     "name": "stderr",
     "output_type": "stream",
     "text": [
      " 78%|███████████████████████████████▉         | 608/780 [22:00<06:04,  2.12s/it]"
     ]
    },
    {
     "name": "stdout",
     "output_type": "stream",
     "text": [
      "없음: Collusion (Extended Mix) Morgan Page, Swanky Tunes\n"
     ]
    },
    {
     "name": "stderr",
     "output_type": "stream",
     "text": [
      " 78%|████████████████████████████████         | 611/780 [22:05<05:09,  1.83s/it]"
     ]
    },
    {
     "name": "stdout",
     "output_type": "stream",
     "text": [
      "없음: Keep You Close Plastik Funk\n"
     ]
    },
    {
     "name": "stderr",
     "output_type": "stream",
     "text": [
      " 79%|████████████████████████████████▌        | 619/780 [22:22<05:21,  2.00s/it]"
     ]
    },
    {
     "name": "stdout",
     "output_type": "stream",
     "text": [
      "없음: Bones (feat. OneRepublic) [Galantis & shnd&#333; VIP Mix] Galantis\n"
     ]
    },
    {
     "name": "stderr",
     "output_type": "stream",
     "text": [
      " 82%|█████████████████████████████████▍       | 637/780 [23:01<04:37,  1.94s/it]"
     ]
    },
    {
     "name": "stdout",
     "output_type": "stream",
     "text": [
      "없음: Never Be Enough John Dahlback\n"
     ]
    },
    {
     "name": "stderr",
     "output_type": "stream",
     "text": [
      " 82%|█████████████████████████████████▋       | 640/780 [23:06<04:19,  1.85s/it]"
     ]
    },
    {
     "name": "stdout",
     "output_type": "stream",
     "text": [
      "없음: Didn&#39;t Choose You CALVIN, KVR\n"
     ]
    },
    {
     "name": "stderr",
     "output_type": "stream",
     "text": [
      " 85%|██████████████████████████████████▊      | 663/780 [23:59<04:10,  2.14s/it]"
     ]
    },
    {
     "name": "stdout",
     "output_type": "stream",
     "text": [
      "없음: Heart Beat (Extended Mix) Animato, Gaudium\n"
     ]
    },
    {
     "name": "stderr",
     "output_type": "stream",
     "text": [
      "\r",
      " 85%|██████████████████████████████████▉      | 664/780 [24:01<03:45,  1.94s/it]"
     ]
    },
    {
     "name": "stdout",
     "output_type": "stream",
     "text": [
      "없음: Revolution (Feat. Faustix & Imanos And Kai) (Danny Diggz Remix) Diplo\n"
     ]
    },
    {
     "name": "stderr",
     "output_type": "stream",
     "text": [
      " 86%|███████████████████████████████████▏     | 669/780 [24:11<03:27,  1.87s/it]"
     ]
    },
    {
     "name": "stdout",
     "output_type": "stream",
     "text": [
      "없음: Bringin It Back Afrojack\n"
     ]
    },
    {
     "name": "stderr",
     "output_type": "stream",
     "text": [
      " 86%|███████████████████████████████████▎     | 671/780 [24:14<02:58,  1.63s/it]"
     ]
    },
    {
     "name": "stdout",
     "output_type": "stream",
     "text": [
      "없음: 겨울바다 파도소리 (ASMR, 집중 자장가) 네이쳐콜링\n"
     ]
    },
    {
     "name": "stderr",
     "output_type": "stream",
     "text": [
      " 94%|██████████████████████████████████████▎  | 730/780 [26:37<02:31,  3.02s/it]"
     ]
    },
    {
     "name": "stdout",
     "output_type": "stream",
     "text": [
      "없음: 날고&#160;있는&#160;비행기&#160;기내&#160;소리 (백색소음&#160;화이트노이즈&#160;힐링&#160;자장가) 백색소음\n"
     ]
    },
    {
     "name": "stderr",
     "output_type": "stream",
     "text": [
      " 94%|██████████████████████████████████████▋  | 735/780 [26:48<01:36,  2.15s/it]"
     ]
    },
    {
     "name": "stdout",
     "output_type": "stream",
     "text": [
      "없음: 집중할 때 듣는 온천물소리 (정신의 몰입) 자연의 아리아\n"
     ]
    },
    {
     "name": "stderr",
     "output_type": "stream",
     "text": [
      " 94%|██████████████████████████████████████▋  | 737/780 [26:51<01:14,  1.73s/it]"
     ]
    },
    {
     "name": "stdout",
     "output_type": "stream",
     "text": [
      "없음: 유교경, 법구경 중(中)에서 2 엄주환\n"
     ]
    },
    {
     "name": "stderr",
     "output_type": "stream",
     "text": [
      " 96%|███████████████████████████████████████▎ | 747/780 [27:14<01:11,  2.17s/it]"
     ]
    },
    {
     "name": "stdout",
     "output_type": "stream",
     "text": [
      "없음: 도서관에서 종이 책장 넘기는 소리 (ASMR, 백색소음, 독서실, 공부, 집중력, 힐링) 나단뮤직(NadanMusic)\n"
     ]
    },
    {
     "name": "stderr",
     "output_type": "stream",
     "text": [
      " 97%|███████████████████████████████████████▋ | 754/780 [27:29<00:57,  2.21s/it]"
     ]
    },
    {
     "name": "stdout",
     "output_type": "stream",
     "text": [
      "없음: 마음을 안정시키는 자연의 빗소리 (ASMR, 백색소음) 나단뮤직(NadanMusic)\n"
     ]
    },
    {
     "name": "stderr",
     "output_type": "stream",
     "text": [
      " 98%|████████████████████████████████████████▏| 765/780 [27:57<00:33,  2.21s/it]"
     ]
    },
    {
     "name": "stdout",
     "output_type": "stream",
     "text": [
      "없음: 사랑&#160;(Remaster) 전수연\n"
     ]
    },
    {
     "name": "stderr",
     "output_type": "stream",
     "text": [
      "\r",
      " 98%|████████████████████████████████████████▎| 766/780 [27:58<00:27,  1.98s/it]"
     ]
    },
    {
     "name": "stdout",
     "output_type": "stream",
     "text": [
      "없음: Piazzolla : Tango Suite - Andante (피아졸라 : 탱고 조곡) 송영훈\n"
     ]
    },
    {
     "name": "stderr",
     "output_type": "stream",
     "text": [
      " 99%|████████████████████████████████████████▋| 773/780 [28:14<00:14,  2.04s/it]"
     ]
    },
    {
     "name": "stdout",
     "output_type": "stream",
     "text": [
      "없음: Mamma Mia! (2009 KCC Festa On Ice Show 프로그램) Siobhan McCarthy, Nicolas Colicos, Paul Clarkson, Hilton McRae\n"
     ]
    },
    {
     "name": "stderr",
     "output_type": "stream",
     "text": [
      "100%|████████████████████████████████████████▉| 778/780 [28:23<00:03,  1.84s/it]"
     ]
    },
    {
     "name": "stdout",
     "output_type": "stream",
     "text": [
      "없음: Dancing Queen (2009 KCC Festa On Ice Show 프로그램) Jenny Galloway, Louise Plowright, Siobhan McCarthy\n"
     ]
    },
    {
     "name": "stderr",
     "output_type": "stream",
     "text": [
      "100%|█████████████████████████████████████████| 780/780 [28:27<00:00,  2.19s/it]\n"
     ]
    }
   ],
   "source": [
    "from tqdm import tqdm\n",
    "import ssl\n",
    "import urllib.request\n",
    "from urllib.request import urlopen\n",
    "\n",
    "lyrics_list = []\n",
    "\n",
    "for i in tqdm(range(len(data))):\n",
    "    # 가수와 노래 값 받기\n",
    "    singer = data['가수'][i]\n",
    "    song_name = data['노래'][i]\n",
    "    \n",
    "    # 검색어 창에 보내기\n",
    "    all_key = song_name + ' ' + singer\n",
    "    driver.find_element_by_xpath('//*[@id=\"sc-fd\"]').clear()\n",
    "    driver.find_element_by_xpath('//*[@id=\"sc-fd\"]').send_keys(all_key)\n",
    "    driver.find_element_by_xpath('//*[@id=\"frmGNB\"]/fieldset/input[3]').click()\n",
    "    \n",
    "    # 노래 있으면 들어가기\n",
    "    try:\n",
    "        driver.find_element_by_xpath('//*[@id=\"body-content\"]/div[3]/div[2]/div/table/tbody/tr[1]/td[4]/a').click()\n",
    "        html = driver.page_source\n",
    "        soup = BeautifulSoup(html, 'lxml')\n",
    "        \n",
    "        # 가사 가져오기\n",
    "        try:\n",
    "            lyrics = soup.find('pre', attrs={'id':'pLyrics'}).p.text.replace('\\n', ' ').replace('\\t', '').replace('  ', ' ')\n",
    "        except:\n",
    "            lyrics = '없음'\n",
    "        #print(song_name, singer, lyrics)\n",
    "        # 앨범 사진\n",
    "        imge = driver.find_element_by_xpath('//*[@id=\"body-content\"]/div[2]/div[1]/a/span[1]/img').get_attribute('src')\n",
    "        context = ssl._create_unverified_context()\n",
    "        with urlopen(imge, context=context) as f:\n",
    "            with open('가사/2차_genie/genie_img/'+ str(data['index'][i]) + '_' + str(singer)+'_'+str(song_name)+'.jpg', 'wb') as h:\n",
    "                img = f.read()\n",
    "                h.write(img)\n",
    "                \n",
    "    except:\n",
    "        lyrics = '없음'\n",
    "        print('없음:', song_name, singer)\n",
    "        \n",
    "    lyrics_list.append(lyrics)\n"
   ]
  },
  {
   "cell_type": "code",
   "execution_count": 54,
   "id": "34035067",
   "metadata": {},
   "outputs": [
    {
     "name": "stderr",
     "output_type": "stream",
     "text": [
      "/var/folders/2d/k1h9bjt9385d884qrqvzk1880000gn/T/ipykernel_33910/1001162129.py:1: SettingWithCopyWarning: \n",
      "A value is trying to be set on a copy of a slice from a DataFrame.\n",
      "Try using .loc[row_indexer,col_indexer] = value instead\n",
      "\n",
      "See the caveats in the documentation: https://pandas.pydata.org/pandas-docs/stable/user_guide/indexing.html#returning-a-view-versus-a-copy\n",
      "  data['원가사'] = lyrics_list\n",
      "/Library/Frameworks/Python.framework/Versions/3.9/lib/python3.9/site-packages/pandas/core/indexing.py:1720: SettingWithCopyWarning: \n",
      "A value is trying to be set on a copy of a slice from a DataFrame.\n",
      "Try using .loc[row_indexer,col_indexer] = value instead\n",
      "\n",
      "See the caveats in the documentation: https://pandas.pydata.org/pandas-docs/stable/user_guide/indexing.html#returning-a-view-versus-a-copy\n",
      "  self._setitem_single_column(loc, value, pi)\n"
     ]
    }
   ],
   "source": [
    "data['원가사'] = lyrics_list\n",
    "\n",
    "idx = data[data['원가사'] == '가사 정보가 없습니다.'].index\n",
    "data.loc[idx, '원가사'] = '없음'"
   ]
  },
  {
   "cell_type": "code",
   "execution_count": null,
   "id": "970123eb",
   "metadata": {},
   "outputs": [],
   "source": []
  },
  {
   "cell_type": "code",
   "execution_count": 55,
   "id": "61e783bf",
   "metadata": {},
   "outputs": [
    {
     "data": {
      "text/html": [
       "<div>\n",
       "<style scoped>\n",
       "    .dataframe tbody tr th:only-of-type {\n",
       "        vertical-align: middle;\n",
       "    }\n",
       "\n",
       "    .dataframe tbody tr th {\n",
       "        vertical-align: top;\n",
       "    }\n",
       "\n",
       "    .dataframe thead th {\n",
       "        text-align: right;\n",
       "    }\n",
       "</style>\n",
       "<table border=\"1\" class=\"dataframe\">\n",
       "  <thead>\n",
       "    <tr style=\"text-align: right;\">\n",
       "      <th></th>\n",
       "      <th>index</th>\n",
       "      <th>노래</th>\n",
       "      <th>가수</th>\n",
       "      <th>원가사</th>\n",
       "      <th>좋아요수</th>\n",
       "      <th>어제순위</th>\n",
       "      <th>댓글1</th>\n",
       "      <th>댓글2</th>\n",
       "      <th>댓글3</th>\n",
       "      <th>댓글4</th>\n",
       "      <th>댓글5</th>\n",
       "    </tr>\n",
       "  </thead>\n",
       "  <tbody>\n",
       "    <tr>\n",
       "      <th>5</th>\n",
       "      <td>126</td>\n",
       "      <td>Sugar Baby</td>\n",
       "      <td>베이비 복스</td>\n",
       "      <td>1. 영원히 영원 영원히 나만을 사랑한다고 해줘   그대가 바라보는 눈 속엔 언제나...</td>\n",
       "      <td>없음</td>\n",
       "      <td>없음</td>\n",
       "      <td>없음</td>\n",
       "      <td>없음</td>\n",
       "      <td>없음</td>\n",
       "      <td>없음</td>\n",
       "      <td>없음</td>\n",
       "    </tr>\n",
       "  </tbody>\n",
       "</table>\n",
       "</div>"
      ],
      "text/plain": [
       "   index          노래      가수  \\\n",
       "5    126  Sugar Baby  베이비 복스   \n",
       "\n",
       "                                                 원가사 좋아요수 어제순위 댓글1 댓글2 댓글3  \\\n",
       "5  1. 영원히 영원 영원히 나만을 사랑한다고 해줘   그대가 바라보는 눈 속엔 언제나...   없음   없음  없음  없음  없음   \n",
       "\n",
       "  댓글4 댓글5  \n",
       "5  없음  없음  "
      ]
     },
     "execution_count": 55,
     "metadata": {},
     "output_type": "execute_result"
    }
   ],
   "source": [
    "data[data['노래'] == 'Sugar Baby']\n"
   ]
  },
  {
   "cell_type": "code",
   "execution_count": 56,
   "id": "94ca7456",
   "metadata": {},
   "outputs": [
    {
     "name": "stdout",
     "output_type": "stream",
     "text": [
      "전 780\n",
      "후 681\n"
     ]
    }
   ],
   "source": [
    "print('전', len(ori_data[ori_data['원가사'] == '없음']))\n",
    "\n",
    "for i in range(len(data)):\n",
    "    ori_data.loc[data['index'][i], '원가사'] = data['원가사'][i]\n",
    "    \n",
    "print('후', len(ori_data[ori_data['원가사'] == '없음']))"
   ]
  },
  {
   "cell_type": "code",
   "execution_count": 61,
   "id": "5d93efdf",
   "metadata": {},
   "outputs": [],
   "source": [
    "ori_data.to_csv('가사/2차_genie/genie 크롤링 후_681.csv', encoding='utf-8-sig')"
   ]
  },
  {
   "cell_type": "markdown",
   "id": "ae54edee",
   "metadata": {},
   "source": [
    "- 노래 + 앨범몀으로 검색해서 다시?"
   ]
  },
  {
   "cell_type": "code",
   "execution_count": null,
   "id": "80c22d38",
   "metadata": {},
   "outputs": [],
   "source": []
  },
  {
   "cell_type": "code",
   "execution_count": null,
   "id": "27b8b855",
   "metadata": {},
   "outputs": [],
   "source": []
  },
  {
   "cell_type": "code",
   "execution_count": 59,
   "id": "1b7a9580",
   "metadata": {},
   "outputs": [
    {
     "data": {
      "text/html": [
       "<div>\n",
       "<style scoped>\n",
       "    .dataframe tbody tr th:only-of-type {\n",
       "        vertical-align: middle;\n",
       "    }\n",
       "\n",
       "    .dataframe tbody tr th {\n",
       "        vertical-align: top;\n",
       "    }\n",
       "\n",
       "    .dataframe thead th {\n",
       "        text-align: right;\n",
       "    }\n",
       "</style>\n",
       "<table border=\"1\" class=\"dataframe\">\n",
       "  <thead>\n",
       "    <tr style=\"text-align: right;\">\n",
       "      <th></th>\n",
       "      <th>노래</th>\n",
       "      <th>가수</th>\n",
       "      <th>원가사</th>\n",
       "      <th>좋아요수</th>\n",
       "      <th>어제순위</th>\n",
       "      <th>댓글1</th>\n",
       "      <th>댓글2</th>\n",
       "      <th>댓글3</th>\n",
       "      <th>댓글4</th>\n",
       "      <th>댓글5</th>\n",
       "    </tr>\n",
       "  </thead>\n",
       "  <tbody>\n",
       "    <tr>\n",
       "      <th>67</th>\n",
       "      <td>너를 좋아해</td>\n",
       "      <td>아카시아</td>\n",
       "      <td>없음</td>\n",
       "      <td>40</td>\n",
       "      <td>없음</td>\n",
       "      <td>없음</td>\n",
       "      <td>없음</td>\n",
       "      <td>없음</td>\n",
       "      <td>없음</td>\n",
       "      <td>없음</td>\n",
       "    </tr>\n",
       "    <tr>\n",
       "      <th>78</th>\n",
       "      <td>엄마의 바다 (Feat. 김윤아)</td>\n",
       "      <td>유희열</td>\n",
       "      <td>없음</td>\n",
       "      <td>4,344</td>\n",
       "      <td>없음</td>\n",
       "      <td>상념에 잠기면 한번씩 찾는 그 노래</td>\n",
       "      <td>유희열과 김윤아라니 ㅠㅠㅠ</td>\n",
       "      <td>진짜진짜 채고채고임 ㅠ</td>\n",
       "      <td>아스팔트 껌딱지마냥 자존감 ♬♩♩일때마다 듣고 힘내는 노래...힘내야지...</td>\n",
       "      <td>없음</td>\n",
       "    </tr>\n",
       "    <tr>\n",
       "      <th>165</th>\n",
       "      <td>Beat Maker (SEHUN)</td>\n",
       "      <td>EXO</td>\n",
       "      <td>없음</td>\n",
       "      <td>24,142</td>\n",
       "      <td>없음</td>\n",
       "      <td>짱이야</td>\n",
       "      <td>세훈아 사랑해</td>\n",
       "      <td>오오 오세훈 대박인데??나이거왜 이제들었늬...ㅠㅠ</td>\n",
       "      <td>캬 오랜만에 꺼내 듣는다 이 무대 여전히 사랑한다 세훈오빠야약</td>\n",
       "      <td>없음</td>\n",
       "    </tr>\n",
       "    <tr>\n",
       "      <th>193</th>\n",
       "      <td>고요한 밤, 거룩한 밤 (Inst.)</td>\n",
       "      <td>터보</td>\n",
       "      <td>없음</td>\n",
       "      <td>31</td>\n",
       "      <td>없음</td>\n",
       "      <td>없음</td>\n",
       "      <td>없음</td>\n",
       "      <td>없음</td>\n",
       "      <td>없음</td>\n",
       "      <td>없음</td>\n",
       "    </tr>\n",
       "    <tr>\n",
       "      <th>212</th>\n",
       "      <td>샤브샤브</td>\n",
       "      <td>Ja Mezz</td>\n",
       "      <td>없음</td>\n",
       "      <td>233</td>\n",
       "      <td>없음</td>\n",
       "      <td>원주 샤라웃</td>\n",
       "      <td>없음</td>\n",
       "      <td>없음</td>\n",
       "      <td>없음</td>\n",
       "      <td>없음</td>\n",
       "    </tr>\n",
       "    <tr>\n",
       "      <th>...</th>\n",
       "      <td>...</td>\n",
       "      <td>...</td>\n",
       "      <td>...</td>\n",
       "      <td>...</td>\n",
       "      <td>...</td>\n",
       "      <td>...</td>\n",
       "      <td>...</td>\n",
       "      <td>...</td>\n",
       "      <td>...</td>\n",
       "      <td>...</td>\n",
       "    </tr>\n",
       "    <tr>\n",
       "      <th>1533</th>\n",
       "      <td>Hit You</td>\n",
       "      <td>오정준, 최보희, 조윤경</td>\n",
       "      <td>없음</td>\n",
       "      <td>0</td>\n",
       "      <td>없음</td>\n",
       "      <td>없음</td>\n",
       "      <td>없음</td>\n",
       "      <td>없음</td>\n",
       "      <td>없음</td>\n",
       "      <td>없음</td>\n",
       "    </tr>\n",
       "    <tr>\n",
       "      <th>1537</th>\n",
       "      <td>천국의 얼굴 (대사 : 김수로, 성두섭, 조강현)</td>\n",
       "      <td>Various Artists</td>\n",
       "      <td>없음</td>\n",
       "      <td>57</td>\n",
       "      <td>없음</td>\n",
       "      <td>없음</td>\n",
       "      <td>없음</td>\n",
       "      <td>없음</td>\n",
       "      <td>없음</td>\n",
       "      <td>없음</td>\n",
       "    </tr>\n",
       "    <tr>\n",
       "      <th>1550</th>\n",
       "      <td>Dancing Queen (2009 KCC Festa On Ice Show 프로그램)</td>\n",
       "      <td>Jenny Galloway, Louise Plowright, Siobhan McCa...</td>\n",
       "      <td>없음</td>\n",
       "      <td>없음</td>\n",
       "      <td>없음</td>\n",
       "      <td>없음</td>\n",
       "      <td>없음</td>\n",
       "      <td>없음</td>\n",
       "      <td>없음</td>\n",
       "      <td>없음</td>\n",
       "    </tr>\n",
       "    <tr>\n",
       "      <th>1577</th>\n",
       "      <td>Overture</td>\n",
       "      <td>Various Artists</td>\n",
       "      <td>없음</td>\n",
       "      <td>449</td>\n",
       "      <td>없음</td>\n",
       "      <td>군대영장</td>\n",
       "      <td>8-2</td>\n",
       "      <td>없음</td>\n",
       "      <td>없음</td>\n",
       "      <td>없음</td>\n",
       "    </tr>\n",
       "    <tr>\n",
       "      <th>1583</th>\n",
       "      <td>랄라라 노란별</td>\n",
       "      <td>Various Artists</td>\n",
       "      <td>없음</td>\n",
       "      <td>1</td>\n",
       "      <td>없음</td>\n",
       "      <td>없음</td>\n",
       "      <td>없음</td>\n",
       "      <td>없음</td>\n",
       "      <td>없음</td>\n",
       "      <td>없음</td>\n",
       "    </tr>\n",
       "  </tbody>\n",
       "</table>\n",
       "<p>681 rows × 10 columns</p>\n",
       "</div>"
      ],
      "text/plain": [
       "                                                   노래  \\\n",
       "67                                             너를 좋아해   \n",
       "78                                 엄마의 바다 (Feat. 김윤아)   \n",
       "165                                Beat Maker (SEHUN)   \n",
       "193                              고요한 밤, 거룩한 밤 (Inst.)   \n",
       "212                                              샤브샤브   \n",
       "...                                               ...   \n",
       "1533                                          Hit You   \n",
       "1537                      천국의 얼굴 (대사 : 김수로, 성두섭, 조강현)   \n",
       "1550  Dancing Queen (2009 KCC Festa On Ice Show 프로그램)   \n",
       "1577                                         Overture   \n",
       "1583                                          랄라라 노란별   \n",
       "\n",
       "                                                     가수 원가사    좋아요수 어제순위  \\\n",
       "67                                                 아카시아  없음      40   없음   \n",
       "78                                                  유희열  없음   4,344   없음   \n",
       "165                                                 EXO  없음  24,142   없음   \n",
       "193                                                  터보  없음      31   없음   \n",
       "212                                             Ja Mezz  없음     233   없음   \n",
       "...                                                 ...  ..     ...  ...   \n",
       "1533                                      오정준, 최보희, 조윤경  없음       0   없음   \n",
       "1537                                    Various Artists  없음      57   없음   \n",
       "1550  Jenny Galloway, Louise Plowright, Siobhan McCa...  없음      없음   없음   \n",
       "1577                                    Various Artists  없음     449   없음   \n",
       "1583                                    Various Artists  없음       1   없음   \n",
       "\n",
       "                      댓글1             댓글2                           댓글3  \\\n",
       "67                     없음              없음                            없음   \n",
       "78    상념에 잠기면 한번씩 찾는 그 노래  유희열과 김윤아라니 ㅠㅠㅠ                  진짜진짜 채고채고임 ㅠ   \n",
       "165                   짱이야         세훈아 사랑해  오오 오세훈 대박인데??나이거왜 이제들었늬...ㅠㅠ   \n",
       "193                    없음              없음                            없음   \n",
       "212                원주 샤라웃              없음                            없음   \n",
       "...                   ...             ...                           ...   \n",
       "1533                   없음              없음                            없음   \n",
       "1537                   없음              없음                            없음   \n",
       "1550                   없음              없음                            없음   \n",
       "1577                 군대영장             8-2                            없음   \n",
       "1583                   없음              없음                            없음   \n",
       "\n",
       "                                             댓글4 댓글5  \n",
       "67                                            없음  없음  \n",
       "78    아스팔트 껌딱지마냥 자존감 ♬♩♩일때마다 듣고 힘내는 노래...힘내야지...  없음  \n",
       "165           캬 오랜만에 꺼내 듣는다 이 무대 여전히 사랑한다 세훈오빠야약  없음  \n",
       "193                                           없음  없음  \n",
       "212                                           없음  없음  \n",
       "...                                          ...  ..  \n",
       "1533                                          없음  없음  \n",
       "1537                                          없음  없음  \n",
       "1550                                          없음  없음  \n",
       "1577                                          없음  없음  \n",
       "1583                                          없음  없음  \n",
       "\n",
       "[681 rows x 10 columns]"
      ]
     },
     "execution_count": 59,
     "metadata": {},
     "output_type": "execute_result"
    }
   ],
   "source": [
    "ori_data[ori_data['원가사'] == '없음']"
   ]
  },
  {
   "cell_type": "code",
   "execution_count": 50,
   "id": "172f8b6b",
   "metadata": {},
   "outputs": [],
   "source": [
    "driver.quit()"
   ]
  },
  {
   "cell_type": "code",
   "execution_count": null,
   "id": "e990b8fd",
   "metadata": {},
   "outputs": [],
   "source": []
  }
 ],
 "metadata": {
  "kernelspec": {
   "display_name": "Python 3 (ipykernel)",
   "language": "python",
   "name": "python3"
  },
  "language_info": {
   "codemirror_mode": {
    "name": "ipython",
    "version": 3
   },
   "file_extension": ".py",
   "mimetype": "text/x-python",
   "name": "python",
   "nbconvert_exporter": "python",
   "pygments_lexer": "ipython3",
   "version": "3.9.4"
  }
 },
 "nbformat": 4,
 "nbformat_minor": 5
}
