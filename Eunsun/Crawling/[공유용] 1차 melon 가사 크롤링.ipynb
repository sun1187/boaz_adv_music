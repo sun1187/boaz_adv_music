{
 "cells": [
  {
   "cell_type": "code",
   "execution_count": 1,
   "id": "d7a288ce",
   "metadata": {
    "scrolled": true
   },
   "outputs": [
    {
     "name": "stderr",
     "output_type": "stream",
     "text": [
      "/var/folders/2d/k1h9bjt9385d884qrqvzk1880000gn/T/ipykernel_12993/3725806061.py:8: FutureWarning: The default value of regex will change from True to False in a future version. In addition, single character regular expressions will*not* be treated as literal strings when regex=True.\n",
      "  txt = data['아티스트 리스트'].str.replace(\"[\", '').str.replace(\"]\", '').str.replace(\"'\", '')\n"
     ]
    },
    {
     "data": {
      "text/html": [
       "<div>\n",
       "<style scoped>\n",
       "    .dataframe tbody tr th:only-of-type {\n",
       "        vertical-align: middle;\n",
       "    }\n",
       "\n",
       "    .dataframe tbody tr th {\n",
       "        vertical-align: top;\n",
       "    }\n",
       "\n",
       "    .dataframe thead th {\n",
       "        text-align: right;\n",
       "    }\n",
       "</style>\n",
       "<table border=\"1\" class=\"dataframe\">\n",
       "  <thead>\n",
       "    <tr style=\"text-align: right;\">\n",
       "      <th></th>\n",
       "      <th>노래</th>\n",
       "      <th>가수</th>\n",
       "    </tr>\n",
       "  </thead>\n",
       "  <tbody>\n",
       "    <tr>\n",
       "      <th>406</th>\n",
       "      <td>이별 앞으로</td>\n",
       "      <td>가을방학</td>\n",
       "    </tr>\n",
       "    <tr>\n",
       "      <th>407</th>\n",
       "      <td>San Francisco</td>\n",
       "      <td>ADOY</td>\n",
       "    </tr>\n",
       "    <tr>\n",
       "      <th>408</th>\n",
       "      <td>그렇습니까</td>\n",
       "      <td>흐른</td>\n",
       "    </tr>\n",
       "    <tr>\n",
       "      <th>409</th>\n",
       "      <td>블루진</td>\n",
       "      <td>디어클라우드</td>\n",
       "    </tr>\n",
       "    <tr>\n",
       "      <th>410</th>\n",
       "      <td>겨울을 걷는다 (스튜디오 라이브 버전)</td>\n",
       "      <td>윤딴딴</td>\n",
       "    </tr>\n",
       "    <tr>\n",
       "      <th>...</th>\n",
       "      <td>...</td>\n",
       "      <td>...</td>\n",
       "    </tr>\n",
       "    <tr>\n",
       "      <th>1595</th>\n",
       "      <td>골고다</td>\n",
       "      <td>한지상</td>\n",
       "    </tr>\n",
       "    <tr>\n",
       "      <th>1596</th>\n",
       "      <td>신데렐라와 왕자의 사랑노래</td>\n",
       "      <td>극단 원공</td>\n",
       "    </tr>\n",
       "    <tr>\n",
       "      <th>1597</th>\n",
       "      <td>서곡_내 비극적인 이야기</td>\n",
       "      <td>전동석, 뮤지컬 팬텀 2016 앙상블</td>\n",
       "    </tr>\n",
       "    <tr>\n",
       "      <th>1598</th>\n",
       "      <td>나의 빛, 어머니</td>\n",
       "      <td>박은태</td>\n",
       "    </tr>\n",
       "    <tr>\n",
       "      <th>1599</th>\n",
       "      <td>프리프링 매지컬 샤이닝 스타 (아빠를 구하자)</td>\n",
       "      <td>프리프링 마리의 마법학교 대모험</td>\n",
       "    </tr>\n",
       "  </tbody>\n",
       "</table>\n",
       "<p>1194 rows × 2 columns</p>\n",
       "</div>"
      ],
      "text/plain": [
       "                             노래                    가수\n",
       "406                      이별 앞으로                  가을방학\n",
       "407               San Francisco                  ADOY\n",
       "408                       그렇습니까                    흐른\n",
       "409                         블루진                디어클라우드\n",
       "410       겨울을 걷는다 (스튜디오 라이브 버전)                   윤딴딴\n",
       "...                         ...                   ...\n",
       "1595                        골고다                   한지상\n",
       "1596             신데렐라와 왕자의 사랑노래                 극단 원공\n",
       "1597              서곡_내 비극적인 이야기  전동석, 뮤지컬 팬텀 2016 앙상블\n",
       "1598                  나의 빛, 어머니                   박은태\n",
       "1599  프리프링 매지컬 샤이닝 스타 (아빠를 구하자)     프리프링 마리의 마법학교 대모험\n",
       "\n",
       "[1194 rows x 2 columns]"
      ]
     },
     "execution_count": 1,
     "metadata": {},
     "output_type": "execute_result"
    }
   ],
   "source": [
    "import pandas as pd\n",
    "import numpy as np\n",
    "\n",
    "orin_df = pd.read_csv('sample_song_tag(re).csv')\n",
    "orin_df = orin_df[['곡 제목', '아티스트 리스트']]\n",
    "data = orin_df[['곡 제목', '아티스트 리스트']]\n",
    "\n",
    "txt = data['아티스트 리스트'].str.replace(\"[\", '').str.replace(\"]\", '').str.replace(\"'\", '')\n",
    "data['아티스트 리스트'] = txt\n",
    "data.columns = ['노래', '가수']\n",
    "data = data[697:]\n",
    "data"
   ]
  },
  {
   "cell_type": "code",
   "execution_count": null,
   "id": "eb6e0f5c",
   "metadata": {},
   "outputs": [],
   "source": []
  },
  {
   "cell_type": "code",
   "execution_count": 14,
   "id": "fab0f837",
   "metadata": {},
   "outputs": [],
   "source": [
    "import os\n",
    "\n",
    "os.mkdir('가사')\n",
    "os.mkdir('가사/1차_melon')\n",
    "os.mkdir('가사/1차_melon/melon_img')"
   ]
  },
  {
   "cell_type": "code",
   "execution_count": 2,
   "id": "fc79c407",
   "metadata": {},
   "outputs": [],
   "source": [
    "import selenium\n",
    "from selenium import webdriver as wd\n",
    "import time\n",
    "import pandas as pd\n",
    "from bs4 import BeautifulSoup\n",
    "import datetime\n",
    "import re\n",
    "\n",
    "# 드라이버 경로 지정\n",
    "driver = wd.Chrome(executable_path=r'..............................')\n",
    "time.sleep(2)\n",
    "\n",
    "# 윈도우 크기 조절\n",
    "driver.maximize_window()"
   ]
  },
  {
   "cell_type": "code",
   "execution_count": 3,
   "id": "c8f20bf0",
   "metadata": {},
   "outputs": [],
   "source": [
    "# 홈페이지 부르기\n",
    "driver.get('https://www.melon.com/')\n",
    "\n",
    "# 검색창 클릭\n",
    "driver.find_element_by_xpath('//*[@id=\"top_search\"]').click()"
   ]
  },
  {
   "cell_type": "code",
   "execution_count": 4,
   "id": "b961683a",
   "metadata": {},
   "outputs": [
    {
     "name": "stderr",
     "output_type": "stream",
     "text": [
      "  3%|█▎                                       | 38/1194 [02:11<36:05,  1.87s/it]"
     ]
    },
    {
     "name": "stdout",
     "output_type": "stream",
     "text": [
      "없음: 도시 (DOSHi) CAMP (Feat. Brick) (Prod. Young sick)\n"
     ]
    },
    {
     "name": "stderr",
     "output_type": "stream",
     "text": [
      "  4%|█▊                                       | 51/1194 [02:40<30:41,  1.61s/it]"
     ]
    },
    {
     "name": "stdout",
     "output_type": "stream",
     "text": [
      "없음: Simba Zawadi (심바 자와디) 계모\n"
     ]
    },
    {
     "name": "stderr",
     "output_type": "stream",
     "text": [
      "  5%|██                                       | 61/1194 [02:59<30:00,  1.59s/it]"
     ]
    },
    {
     "name": "stdout",
     "output_type": "stream",
     "text": [
      "없음: 여섯번째 고양이 좀 그래\n"
     ]
    },
    {
     "name": "stderr",
     "output_type": "stream",
     "text": [
      "  6%|██▎                                      | 67/1194 [03:11<32:27,  1.73s/it]"
     ]
    },
    {
     "name": "stdout",
     "output_type": "stream",
     "text": [
      "없음: Dakshood (닥스후드) GAME THEORY (Feat. Tommy Strate, nafla, The Quiett, Kid Milli, Lil Cherry)\n"
     ]
    },
    {
     "name": "stderr",
     "output_type": "stream",
     "text": [
      " 10%|███▉                                    | 119/1194 [04:56<30:40,  1.71s/it]"
     ]
    },
    {
     "name": "stdout",
     "output_type": "stream",
     "text": [
      "없음: 지평권 창가의 이별\n"
     ]
    },
    {
     "name": "stderr",
     "output_type": "stream",
     "text": [
      " 11%|████▍                                   | 132/1194 [05:17<24:50,  1.40s/it]"
     ]
    },
    {
     "name": "stdout",
     "output_type": "stream",
     "text": [
      "없음: chiyoonhae 괜히\n"
     ]
    },
    {
     "name": "stderr",
     "output_type": "stream",
     "text": [
      "\r",
      " 11%|████▍                                   | 133/1194 [05:19<26:25,  1.49s/it]"
     ]
    },
    {
     "name": "stdout",
     "output_type": "stream",
     "text": [
      "없음: 올드피쉬 데이트\n"
     ]
    },
    {
     "name": "stderr",
     "output_type": "stream",
     "text": [
      "\r",
      " 11%|████▍                                   | 134/1194 [05:21<29:49,  1.69s/it]"
     ]
    },
    {
     "name": "stdout",
     "output_type": "stream",
     "text": [
      "없음: 화란 (Hwaran) Remember\n"
     ]
    },
    {
     "name": "stderr",
     "output_type": "stream",
     "text": [
      "\r",
      " 11%|████▌                                   | 135/1194 [05:24<34:13,  1.94s/it]"
     ]
    },
    {
     "name": "stdout",
     "output_type": "stream",
     "text": [
      "없음: 검정치마 틀린질문\n"
     ]
    },
    {
     "name": "stderr",
     "output_type": "stream",
     "text": [
      "\r",
      " 11%|████▌                                   | 136/1194 [05:26<34:35,  1.96s/it]"
     ]
    },
    {
     "name": "stdout",
     "output_type": "stream",
     "text": [
      "없음: 오빠야문열어딸기사왔어 달리는 다락방\n"
     ]
    },
    {
     "name": "stderr",
     "output_type": "stream",
     "text": [
      "\r",
      " 11%|████▌                                   | 137/1194 [05:28<33:15,  1.89s/it]"
     ]
    },
    {
     "name": "stdout",
     "output_type": "stream",
     "text": [
      "없음: Mary Jane Super-Showman\n"
     ]
    },
    {
     "name": "stderr",
     "output_type": "stream",
     "text": [
      "\r",
      " 12%|████▌                                   | 138/1194 [05:30<34:24,  1.96s/it]"
     ]
    },
    {
     "name": "stdout",
     "output_type": "stream",
     "text": [
      "없음: 산울림 비의 마음\n"
     ]
    },
    {
     "name": "stderr",
     "output_type": "stream",
     "text": [
      "\r",
      " 12%|████▋                                   | 139/1194 [05:32<37:53,  2.15s/it]"
     ]
    },
    {
     "name": "stdout",
     "output_type": "stream",
     "text": [
      "없음: 임현정 회상\n"
     ]
    },
    {
     "name": "stderr",
     "output_type": "stream",
     "text": [
      "\r",
      " 12%|████▋                                   | 140/1194 [05:34<38:08,  2.17s/it]"
     ]
    },
    {
     "name": "stdout",
     "output_type": "stream",
     "text": [
      "없음: 게토밤즈 Kill Me\n"
     ]
    },
    {
     "name": "stderr",
     "output_type": "stream",
     "text": [
      "\r",
      " 12%|████▋                                   | 141/1194 [05:37<37:22,  2.13s/it]"
     ]
    },
    {
     "name": "stdout",
     "output_type": "stream",
     "text": [
      "없음: 이상은 넌 아름다워\n"
     ]
    },
    {
     "name": "stderr",
     "output_type": "stream",
     "text": [
      "\r",
      " 12%|████▊                                   | 142/1194 [05:39<38:08,  2.18s/it]"
     ]
    },
    {
     "name": "stdout",
     "output_type": "stream",
     "text": [
      "없음: 바닐라시티 Jump (점프)\n"
     ]
    },
    {
     "name": "stderr",
     "output_type": "stream",
     "text": [
      "\r",
      " 12%|████▊                                   | 143/1194 [05:41<40:12,  2.30s/it]"
     ]
    },
    {
     "name": "stdout",
     "output_type": "stream",
     "text": [
      "없음: 보드카 레인 보고싶어\n"
     ]
    },
    {
     "name": "stderr",
     "output_type": "stream",
     "text": [
      "\r",
      " 12%|████▊                                   | 144/1194 [05:44<40:55,  2.34s/it]"
     ]
    },
    {
     "name": "stdout",
     "output_type": "stream",
     "text": [
      "없음: PERC%NT 멍\n"
     ]
    },
    {
     "name": "stderr",
     "output_type": "stream",
     "text": [
      "\r",
      " 12%|████▊                                   | 145/1194 [05:45<32:54,  1.88s/it]"
     ]
    },
    {
     "name": "stdout",
     "output_type": "stream",
     "text": [
      "없음: Fefe Dobson Can`t Breathe (Feat. Orianthi)\n"
     ]
    },
    {
     "name": "stderr",
     "output_type": "stream",
     "text": [
      "\r",
      " 12%|████▉                                   | 146/1194 [05:47<34:06,  1.95s/it]"
     ]
    },
    {
     "name": "stdout",
     "output_type": "stream",
     "text": [
      "없음: Jimmy Dorsey, Artie Malvin Singers Herst: So Rare\n"
     ]
    },
    {
     "name": "stderr",
     "output_type": "stream",
     "text": [
      "\r",
      " 12%|████▉                                   | 147/1194 [05:49<33:16,  1.91s/it]"
     ]
    },
    {
     "name": "stdout",
     "output_type": "stream",
     "text": [
      "없음: P.O.D. Sleeping Awake\n"
     ]
    },
    {
     "name": "stderr",
     "output_type": "stream",
     "text": [
      "\r",
      " 12%|████▉                                   | 148/1194 [05:50<30:50,  1.77s/it]"
     ]
    },
    {
     "name": "stdout",
     "output_type": "stream",
     "text": [
      "없음: Idlewild Take Me Back In Time\n"
     ]
    },
    {
     "name": "stderr",
     "output_type": "stream",
     "text": [
      "\r",
      " 12%|████▉                                   | 149/1194 [05:52<31:25,  1.80s/it]"
     ]
    },
    {
     "name": "stdout",
     "output_type": "stream",
     "text": [
      "없음: Cajun Dance Party The Next Untouchable\n"
     ]
    },
    {
     "name": "stderr",
     "output_type": "stream",
     "text": [
      "\r",
      " 13%|█████                                   | 150/1194 [05:54<30:54,  1.78s/it]"
     ]
    },
    {
     "name": "stdout",
     "output_type": "stream",
     "text": [
      "없음: Real Estate Drum\n"
     ]
    },
    {
     "name": "stderr",
     "output_type": "stream",
     "text": [
      "\r",
      " 13%|█████                                   | 151/1194 [05:55<31:10,  1.79s/it]"
     ]
    },
    {
     "name": "stdout",
     "output_type": "stream",
     "text": [
      "없음: Lo Moon Real Love\n"
     ]
    },
    {
     "name": "stderr",
     "output_type": "stream",
     "text": [
      "\r",
      " 13%|█████                                   | 152/1194 [05:57<30:38,  1.76s/it]"
     ]
    },
    {
     "name": "stdout",
     "output_type": "stream",
     "text": [
      "없음: Lucy Rose I Tried\n"
     ]
    },
    {
     "name": "stderr",
     "output_type": "stream",
     "text": [
      "\r",
      " 13%|█████▏                                  | 153/1194 [05:59<29:21,  1.69s/it]"
     ]
    },
    {
     "name": "stdout",
     "output_type": "stream",
     "text": [
      "없음: Hello Saferide Overall\n"
     ]
    },
    {
     "name": "stderr",
     "output_type": "stream",
     "text": [
      "\r",
      " 13%|█████▏                                  | 154/1194 [06:01<34:22,  1.98s/it]"
     ]
    },
    {
     "name": "stdout",
     "output_type": "stream",
     "text": [
      "없음: Johnny Marr Please Please Please Let Me Get What I Want (Live)\n"
     ]
    },
    {
     "name": "stderr",
     "output_type": "stream",
     "text": [
      "\r",
      " 13%|█████▏                                  | 155/1194 [06:03<32:31,  1.88s/it]"
     ]
    },
    {
     "name": "stdout",
     "output_type": "stream",
     "text": [
      "없음: Grace Potter And The Nocturnals Paris (Ooh La La)\n"
     ]
    },
    {
     "name": "stderr",
     "output_type": "stream",
     "text": [
      "\r",
      " 13%|█████▏                                  | 156/1194 [06:06<38:16,  2.21s/it]"
     ]
    },
    {
     "name": "stdout",
     "output_type": "stream",
     "text": [
      "없음: My Chemical Romance Helena\n"
     ]
    },
    {
     "name": "stderr",
     "output_type": "stream",
     "text": [
      "\r",
      " 13%|█████▎                                  | 157/1194 [06:07<32:23,  1.87s/it]"
     ]
    },
    {
     "name": "stdout",
     "output_type": "stream",
     "text": [
      "없음: Journey Open Arms\n"
     ]
    },
    {
     "name": "stderr",
     "output_type": "stream",
     "text": [
      "\r",
      " 13%|█████▎                                  | 158/1194 [06:09<34:43,  2.01s/it]"
     ]
    },
    {
     "name": "stdout",
     "output_type": "stream",
     "text": [
      "없음: Queen Fun It (Remastered 2011)\n"
     ]
    },
    {
     "name": "stderr",
     "output_type": "stream",
     "text": [
      "\r",
      " 13%|█████▎                                  | 159/1194 [06:11<35:11,  2.04s/it]"
     ]
    },
    {
     "name": "stdout",
     "output_type": "stream",
     "text": [
      "없음: Gerard Way Hazy Shade of Winter (feat. Ray Toro)\n"
     ]
    },
    {
     "name": "stderr",
     "output_type": "stream",
     "text": [
      "\r",
      " 13%|█████▎                                  | 160/1194 [06:14<36:16,  2.11s/it]"
     ]
    },
    {
     "name": "stdout",
     "output_type": "stream",
     "text": [
      "없음: Journey Lights\n"
     ]
    },
    {
     "name": "stderr",
     "output_type": "stream",
     "text": [
      "\r",
      " 13%|█████▍                                  | 161/1194 [06:15<33:12,  1.93s/it]"
     ]
    },
    {
     "name": "stdout",
     "output_type": "stream",
     "text": [
      "없음: Suede Killing Of A Flash Boy\n"
     ]
    },
    {
     "name": "stderr",
     "output_type": "stream",
     "text": [
      "\r",
      " 14%|█████▍                                  | 162/1194 [06:17<32:58,  1.92s/it]"
     ]
    },
    {
     "name": "stdout",
     "output_type": "stream",
     "text": [
      "없음: Lostprophets Burn, Burn\n"
     ]
    },
    {
     "name": "stderr",
     "output_type": "stream",
     "text": [
      "\r",
      " 14%|█████▍                                  | 163/1194 [06:19<33:26,  1.95s/it]"
     ]
    },
    {
     "name": "stdout",
     "output_type": "stream",
     "text": [
      "없음: Matchbox Twenty Bright Lights\n"
     ]
    },
    {
     "name": "stderr",
     "output_type": "stream",
     "text": [
      "\r",
      " 14%|█████▍                                  | 164/1194 [06:21<35:15,  2.05s/it]"
     ]
    },
    {
     "name": "stdout",
     "output_type": "stream",
     "text": [
      "없음: Marilyn Manson Sweet Dreams (Are Made Of This)\n"
     ]
    },
    {
     "name": "stderr",
     "output_type": "stream",
     "text": [
      "\r",
      " 14%|█████▌                                  | 165/1194 [06:24<35:55,  2.10s/it]"
     ]
    },
    {
     "name": "stdout",
     "output_type": "stream",
     "text": [
      "없음: Deftones Phantom Bride\n"
     ]
    },
    {
     "name": "stderr",
     "output_type": "stream",
     "text": [
      "\r",
      " 14%|█████▌                                  | 166/1194 [06:25<32:39,  1.91s/it]"
     ]
    },
    {
     "name": "stdout",
     "output_type": "stream",
     "text": [
      "없음: Def Leppard Goodbye\n"
     ]
    },
    {
     "name": "stderr",
     "output_type": "stream",
     "text": [
      "\r",
      " 14%|█████▌                                  | 167/1194 [06:27<31:09,  1.82s/it]"
     ]
    },
    {
     "name": "stdout",
     "output_type": "stream",
     "text": [
      "없음: Lillian Axe Nobody Knows\n"
     ]
    },
    {
     "name": "stderr",
     "output_type": "stream",
     "text": [
      "\r",
      " 14%|█████▋                                  | 168/1194 [06:29<32:55,  1.93s/it]"
     ]
    },
    {
     "name": "stdout",
     "output_type": "stream",
     "text": [
      "없음: Jason Mraz Plane\n"
     ]
    },
    {
     "name": "stderr",
     "output_type": "stream",
     "text": [
      "\r",
      " 14%|█████▋                                  | 169/1194 [06:31<35:55,  2.10s/it]"
     ]
    },
    {
     "name": "stdout",
     "output_type": "stream",
     "text": [
      "없음: Dire Straits Brothers In Arms\n"
     ]
    },
    {
     "name": "stderr",
     "output_type": "stream",
     "text": [
      "\r",
      " 14%|█████▋                                  | 170/1194 [06:34<40:55,  2.40s/it]"
     ]
    },
    {
     "name": "stdout",
     "output_type": "stream",
     "text": [
      "없음: Say Lou Lou Everything We Touch\n"
     ]
    },
    {
     "name": "stderr",
     "output_type": "stream",
     "text": [
      "\r",
      " 14%|█████▋                                  | 171/1194 [06:36<37:10,  2.18s/it]"
     ]
    },
    {
     "name": "stdout",
     "output_type": "stream",
     "text": [
      "없음: Stabbing Westward Sleep\n"
     ]
    },
    {
     "name": "stderr",
     "output_type": "stream",
     "text": [
      "\r",
      " 14%|█████▊                                  | 172/1194 [06:37<30:22,  1.78s/it]"
     ]
    },
    {
     "name": "stdout",
     "output_type": "stream",
     "text": [
      "없음: Coldplay Yellow\n"
     ]
    },
    {
     "name": "stderr",
     "output_type": "stream",
     "text": [
      "\r",
      " 14%|█████▊                                  | 173/1194 [06:39<30:15,  1.78s/it]"
     ]
    },
    {
     "name": "stdout",
     "output_type": "stream",
     "text": [
      "없음: Ten Tonnes Lucy\n"
     ]
    },
    {
     "name": "stderr",
     "output_type": "stream",
     "text": [
      "\r",
      " 15%|█████▊                                  | 174/1194 [06:40<29:03,  1.71s/it]"
     ]
    },
    {
     "name": "stdout",
     "output_type": "stream",
     "text": [
      "없음: Paolo Nutini Last Request (Album Ver.)\n"
     ]
    },
    {
     "name": "stderr",
     "output_type": "stream",
     "text": [
      "\r",
      " 15%|█████▊                                  | 175/1194 [06:42<29:09,  1.72s/it]"
     ]
    },
    {
     "name": "stdout",
     "output_type": "stream",
     "text": [
      "없음: Revenge Over The Line\n"
     ]
    },
    {
     "name": "stderr",
     "output_type": "stream",
     "text": [
      "\r",
      " 15%|█████▉                                  | 176/1194 [06:44<29:11,  1.72s/it]"
     ]
    },
    {
     "name": "stdout",
     "output_type": "stream",
     "text": [
      "없음: The Crickets Don`t Ever Change\n"
     ]
    },
    {
     "name": "stderr",
     "output_type": "stream",
     "text": [
      "\r",
      " 15%|█████▉                                  | 177/1194 [06:46<29:04,  1.72s/it]"
     ]
    },
    {
     "name": "stdout",
     "output_type": "stream",
     "text": [
      "없음: Jackson Browne I`m Alive \n"
     ]
    },
    {
     "name": "stderr",
     "output_type": "stream",
     "text": [
      "\r",
      " 15%|█████▉                                  | 178/1194 [06:48<30:47,  1.82s/it]"
     ]
    },
    {
     "name": "stdout",
     "output_type": "stream",
     "text": [
      "없음: Janis Joplin Bye, Bye Baby (Alternate Take)\n"
     ]
    },
    {
     "name": "stderr",
     "output_type": "stream",
     "text": [
      "\r",
      " 15%|█████▉                                  | 179/1194 [06:50<32:25,  1.92s/it]"
     ]
    },
    {
     "name": "stdout",
     "output_type": "stream",
     "text": [
      "없음: Fall Out Boy Reinventing The Wheel To Run Myself Over\n"
     ]
    },
    {
     "name": "stderr",
     "output_type": "stream",
     "text": [
      "\r",
      " 15%|██████                                  | 180/1194 [06:51<30:53,  1.83s/it]"
     ]
    },
    {
     "name": "stdout",
     "output_type": "stream",
     "text": [
      "없음: Metallica Battery (Live With The Sfso) (Clean Ver.)\n"
     ]
    },
    {
     "name": "stderr",
     "output_type": "stream",
     "text": [
      "\r",
      " 15%|██████                                  | 181/1194 [06:53<30:06,  1.78s/it]"
     ]
    },
    {
     "name": "stdout",
     "output_type": "stream",
     "text": [
      "없음: LINKIN PARK The Catalyst\n"
     ]
    },
    {
     "name": "stderr",
     "output_type": "stream",
     "text": [
      "\r",
      " 15%|██████                                  | 182/1194 [06:55<29:47,  1.77s/it]"
     ]
    },
    {
     "name": "stdout",
     "output_type": "stream",
     "text": [
      "없음: Plateau Jack Herrer\n"
     ]
    },
    {
     "name": "stderr",
     "output_type": "stream",
     "text": [
      "\r",
      " 15%|██████▏                                 | 183/1194 [06:57<32:17,  1.92s/it]"
     ]
    },
    {
     "name": "stdout",
     "output_type": "stream",
     "text": [
      "없음: Bruce Springsteen Born To Run\n"
     ]
    },
    {
     "name": "stderr",
     "output_type": "stream",
     "text": [
      "\r",
      " 15%|██████▏                                 | 184/1194 [06:59<30:42,  1.82s/it]"
     ]
    },
    {
     "name": "stdout",
     "output_type": "stream",
     "text": [
      "없음: Public Symphony I Do\n"
     ]
    },
    {
     "name": "stderr",
     "output_type": "stream",
     "text": [
      "\r",
      " 15%|██████▏                                 | 185/1194 [07:00<29:30,  1.75s/it]"
     ]
    },
    {
     "name": "stdout",
     "output_type": "stream",
     "text": [
      "없음: The Alter Boys Blood of the Piranha\n"
     ]
    },
    {
     "name": "stderr",
     "output_type": "stream",
     "text": [
      "\r",
      " 16%|██████▏                                 | 186/1194 [07:02<31:20,  1.87s/it]"
     ]
    },
    {
     "name": "stdout",
     "output_type": "stream",
     "text": [
      "없음: Maroon 5 Moves Like Jagger (Soul Seekerz Radio Edit) (Feat. Christina Aguilera)\n"
     ]
    },
    {
     "name": "stderr",
     "output_type": "stream",
     "text": [
      "\r",
      " 16%|██████▎                                 | 187/1194 [07:04<30:43,  1.83s/it]"
     ]
    },
    {
     "name": "stdout",
     "output_type": "stream",
     "text": [
      "없음: Supergroove Next Time\n"
     ]
    },
    {
     "name": "stderr",
     "output_type": "stream",
     "text": [
      "\r",
      " 16%|██████▎                                 | 188/1194 [07:06<31:47,  1.90s/it]"
     ]
    },
    {
     "name": "stdout",
     "output_type": "stream",
     "text": [
      "없음: Foxy Shazam Forever Together\n"
     ]
    },
    {
     "name": "stderr",
     "output_type": "stream",
     "text": [
      "\r",
      " 16%|██████▎                                 | 189/1194 [07:08<30:52,  1.84s/it]"
     ]
    },
    {
     "name": "stdout",
     "output_type": "stream",
     "text": [
      "없음: Sean Lennon Part One Of The Cowboy Trilogy\n"
     ]
    },
    {
     "name": "stderr",
     "output_type": "stream",
     "text": [
      "\r",
      " 16%|██████▎                                 | 190/1194 [07:11<36:35,  2.19s/it]"
     ]
    },
    {
     "name": "stdout",
     "output_type": "stream",
     "text": [
      "없음: Judas Priest New Beginnings\n"
     ]
    },
    {
     "name": "stderr",
     "output_type": "stream",
     "text": [
      "\r",
      " 16%|██████▍                                 | 191/1194 [07:14<41:08,  2.46s/it]"
     ]
    },
    {
     "name": "stdout",
     "output_type": "stream",
     "text": [
      "없음: Ride Taste\n"
     ]
    },
    {
     "name": "stderr",
     "output_type": "stream",
     "text": [
      "\r",
      " 16%|██████▍                                 | 192/1194 [07:16<41:13,  2.47s/it]"
     ]
    },
    {
     "name": "stdout",
     "output_type": "stream",
     "text": [
      "없음: Terry Brock Jessie`s Gone\n"
     ]
    },
    {
     "name": "stderr",
     "output_type": "stream",
     "text": [
      "\r",
      " 16%|██████▍                                 | 193/1194 [07:20<47:20,  2.84s/it]"
     ]
    },
    {
     "name": "stdout",
     "output_type": "stream",
     "text": [
      "없음: Radiohead No Surprises (Remastered)\n"
     ]
    },
    {
     "name": "stderr",
     "output_type": "stream",
     "text": [
      "\r",
      " 16%|██████▍                                 | 194/1194 [07:22<41:47,  2.51s/it]"
     ]
    },
    {
     "name": "stdout",
     "output_type": "stream",
     "text": [
      "없음: Judas Priest Parental Guidance\n"
     ]
    },
    {
     "name": "stderr",
     "output_type": "stream",
     "text": [
      "\r",
      " 16%|██████▌                                 | 195/1194 [07:24<39:24,  2.37s/it]"
     ]
    },
    {
     "name": "stdout",
     "output_type": "stream",
     "text": [
      "없음: Alex Petrounov Believe in Love (Feat. Missi Hale)\n"
     ]
    },
    {
     "name": "stderr",
     "output_type": "stream",
     "text": [
      "\r",
      " 16%|██████▌                                 | 196/1194 [07:25<35:29,  2.13s/it]"
     ]
    },
    {
     "name": "stdout",
     "output_type": "stream",
     "text": [
      "없음: Sound Of Queen Love Of My Life\n"
     ]
    },
    {
     "name": "stderr",
     "output_type": "stream",
     "text": [
      "\r",
      " 16%|██████▌                                 | 197/1194 [07:28<36:43,  2.21s/it]"
     ]
    },
    {
     "name": "stdout",
     "output_type": "stream",
     "text": [
      "없음: Cody Simpson All Day\n"
     ]
    },
    {
     "name": "stderr",
     "output_type": "stream",
     "text": [
      "\r",
      " 17%|██████▋                                 | 198/1194 [07:33<49:29,  2.98s/it]"
     ]
    },
    {
     "name": "stdout",
     "output_type": "stream",
     "text": [
      "없음: Ashley Tisdale It`s Alright, It`s OK\n"
     ]
    },
    {
     "name": "stderr",
     "output_type": "stream",
     "text": [
      "\r",
      " 17%|██████▋                                 | 199/1194 [07:35<48:05,  2.90s/it]"
     ]
    },
    {
     "name": "stdout",
     "output_type": "stream",
     "text": [
      "없음: Maddie Poppe Take It Out on You\n"
     ]
    },
    {
     "name": "stderr",
     "output_type": "stream",
     "text": [
      "\r",
      " 17%|██████▋                                 | 200/1194 [07:37<43:35,  2.63s/it]"
     ]
    },
    {
     "name": "stdout",
     "output_type": "stream",
     "text": [
      "없음: 보아 (BoA) I Did It For Love (Feat. Sean Garrett)\n"
     ]
    },
    {
     "name": "stderr",
     "output_type": "stream",
     "text": [
      "\r",
      " 17%|██████▋                                 | 201/1194 [07:40<41:30,  2.51s/it]"
     ]
    },
    {
     "name": "stdout",
     "output_type": "stream",
     "text": [
      "없음: Boney M Going Back West\n"
     ]
    },
    {
     "name": "stderr",
     "output_type": "stream",
     "text": [
      "\r",
      " 17%|██████▊                                 | 202/1194 [07:42<39:51,  2.41s/it]"
     ]
    },
    {
     "name": "stdout",
     "output_type": "stream",
     "text": [
      "없음: Ashley Tisdale Suddenly\n"
     ]
    },
    {
     "name": "stderr",
     "output_type": "stream",
     "text": [
      "\r",
      " 17%|██████▊                                 | 203/1194 [07:44<37:56,  2.30s/it]"
     ]
    },
    {
     "name": "stdout",
     "output_type": "stream",
     "text": [
      "없음: Michael Bolton Joy To The World\n"
     ]
    },
    {
     "name": "stderr",
     "output_type": "stream",
     "text": [
      "\r",
      " 17%|██████▊                                 | 204/1194 [07:46<36:23,  2.21s/it]"
     ]
    },
    {
     "name": "stdout",
     "output_type": "stream",
     "text": [
      "없음: Katy B 5 AM\n"
     ]
    },
    {
     "name": "stderr",
     "output_type": "stream",
     "text": [
      "\r",
      " 17%|██████▊                                 | 205/1194 [07:48<33:55,  2.06s/it]"
     ]
    },
    {
     "name": "stdout",
     "output_type": "stream",
     "text": [
      "없음: Michael Buble Ave Maria\n"
     ]
    },
    {
     "name": "stderr",
     "output_type": "stream",
     "text": [
      "\r",
      " 17%|██████▉                                 | 206/1194 [07:49<32:30,  1.97s/it]"
     ]
    },
    {
     "name": "stdout",
     "output_type": "stream",
     "text": [
      "없음: Tori Amos Enjoy The Silence\n"
     ]
    },
    {
     "name": "stderr",
     "output_type": "stream",
     "text": [
      "\r",
      " 17%|██████▉                                 | 207/1194 [07:51<28:49,  1.75s/it]"
     ]
    },
    {
     "name": "stdout",
     "output_type": "stream",
     "text": [
      "없음: Mariachi Huapango La Golondrina\n"
     ]
    },
    {
     "name": "stderr",
     "output_type": "stream",
     "text": [
      "\r",
      " 17%|██████▉                                 | 208/1194 [07:51<23:51,  1.45s/it]"
     ]
    },
    {
     "name": "stdout",
     "output_type": "stream",
     "text": [
      "없음: Lady GaGa Sinner&#39;s Prayer\n"
     ]
    },
    {
     "name": "stderr",
     "output_type": "stream",
     "text": [
      "\r",
      " 18%|███████                                 | 209/1194 [07:54<30:52,  1.88s/it]"
     ]
    },
    {
     "name": "stdout",
     "output_type": "stream",
     "text": [
      "없음: Nina Bodies In The Sun (Kenn Colt Remix)\n"
     ]
    },
    {
     "name": "stderr",
     "output_type": "stream",
     "text": [
      "\r",
      " 18%|███████                                 | 210/1194 [07:57<34:13,  2.09s/it]"
     ]
    },
    {
     "name": "stdout",
     "output_type": "stream",
     "text": [
      "없음: Todd Carey Perfect Christmas Day\n"
     ]
    },
    {
     "name": "stderr",
     "output_type": "stream",
     "text": [
      "\r",
      " 18%|███████                                 | 211/1194 [07:59<33:29,  2.04s/it]"
     ]
    },
    {
     "name": "stdout",
     "output_type": "stream",
     "text": [
      "없음: Linda Ronstadt Pena De Los Amores (2016 Remastered)\n"
     ]
    },
    {
     "name": "stderr",
     "output_type": "stream",
     "text": [
      "\r",
      " 18%|███████                                 | 212/1194 [08:00<31:09,  1.90s/it]"
     ]
    },
    {
     "name": "stdout",
     "output_type": "stream",
     "text": [
      "없음: Chris Holsten Wish I Never Met You\n"
     ]
    },
    {
     "name": "stderr",
     "output_type": "stream",
     "text": [
      "\r",
      " 18%|███████▏                                | 213/1194 [08:02<29:50,  1.83s/it]"
     ]
    },
    {
     "name": "stdout",
     "output_type": "stream",
     "text": [
      "없음: Westlife Mack The Knife\n"
     ]
    },
    {
     "name": "stderr",
     "output_type": "stream",
     "text": [
      "\r",
      " 18%|███████▏                                | 214/1194 [08:03<28:25,  1.74s/it]"
     ]
    },
    {
     "name": "stdout",
     "output_type": "stream",
     "text": [
      "없음: Various Artists The Christmas Mix (Accapella) (Oh Come All Ye Faithful / Silent Night  / Auld Lang Syne)\n"
     ]
    },
    {
     "name": "stderr",
     "output_type": "stream",
     "text": [
      "\r",
      " 18%|███████▏                                | 215/1194 [08:05<27:49,  1.71s/it]"
     ]
    },
    {
     "name": "stdout",
     "output_type": "stream",
     "text": [
      "없음: Paul Mauriat El Bimbo (Version 88)\n"
     ]
    },
    {
     "name": "stderr",
     "output_type": "stream",
     "text": [
      "\r",
      " 18%|███████▏                                | 216/1194 [08:07<28:31,  1.75s/it]"
     ]
    },
    {
     "name": "stdout",
     "output_type": "stream",
     "text": [
      "없음: Frank Sinatra My Blue Heaven\n"
     ]
    },
    {
     "name": "stderr",
     "output_type": "stream",
     "text": [
      "\r",
      " 18%|███████▎                                | 217/1194 [08:09<32:26,  1.99s/it]"
     ]
    },
    {
     "name": "stdout",
     "output_type": "stream",
     "text": [
      "없음: Troye Sivan COOL\n"
     ]
    },
    {
     "name": "stderr",
     "output_type": "stream",
     "text": [
      "\r",
      " 18%|███████▎                                | 218/1194 [08:11<30:53,  1.90s/it]"
     ]
    },
    {
     "name": "stdout",
     "output_type": "stream",
     "text": [
      "없음: Skylar Grey Cannonball (Feat. X Ambassadors)\n"
     ]
    },
    {
     "name": "stderr",
     "output_type": "stream",
     "text": [
      "\r",
      " 18%|███████▎                                | 219/1194 [08:13<30:01,  1.85s/it]"
     ]
    },
    {
     "name": "stdout",
     "output_type": "stream",
     "text": [
      "없음: Jay-Jay Johanson Persona\n"
     ]
    },
    {
     "name": "stderr",
     "output_type": "stream",
     "text": [
      "\r",
      " 18%|███████▎                                | 220/1194 [08:15<30:39,  1.89s/it]"
     ]
    },
    {
     "name": "stdout",
     "output_type": "stream",
     "text": [
      "없음: Marz Everybody Had A Hard Year\n"
     ]
    },
    {
     "name": "stderr",
     "output_type": "stream",
     "text": [
      "\r",
      " 19%|███████▍                                | 221/1194 [08:17<32:16,  1.99s/it]"
     ]
    },
    {
     "name": "stdout",
     "output_type": "stream",
     "text": [
      "없음: The Neighbourhood Livin` In a Dream (Feat. Nipsey Hussle)\n"
     ]
    },
    {
     "name": "stderr",
     "output_type": "stream",
     "text": [
      "\r",
      " 19%|███████▍                                | 222/1194 [08:19<30:07,  1.86s/it]"
     ]
    },
    {
     "name": "stdout",
     "output_type": "stream",
     "text": [
      "없음: Madonna Promise To Try\n"
     ]
    },
    {
     "name": "stderr",
     "output_type": "stream",
     "text": [
      "\r",
      " 19%|███████▍                                | 223/1194 [08:19<24:26,  1.51s/it]"
     ]
    },
    {
     "name": "stdout",
     "output_type": "stream",
     "text": [
      "없음: Sound Ideas Large Soccer Stadium Crowd with Distant Cheering, Singing and Reactions\n"
     ]
    },
    {
     "name": "stderr",
     "output_type": "stream",
     "text": [
      "\r",
      " 19%|███████▌                                | 224/1194 [08:21<24:58,  1.55s/it]"
     ]
    },
    {
     "name": "stdout",
     "output_type": "stream",
     "text": [
      "없음: Nada Surf Jules And Jim\n"
     ]
    },
    {
     "name": "stderr",
     "output_type": "stream",
     "text": [
      "\r",
      " 19%|███████▌                                | 225/1194 [08:23<26:04,  1.61s/it]"
     ]
    },
    {
     "name": "stdout",
     "output_type": "stream",
     "text": [
      "없음: The Lumineers Leader Of The Landslide\n"
     ]
    },
    {
     "name": "stderr",
     "output_type": "stream",
     "text": [
      "\r",
      " 19%|███████▌                                | 226/1194 [08:25<27:34,  1.71s/it]"
     ]
    },
    {
     "name": "stdout",
     "output_type": "stream",
     "text": [
      "없음: Angie Rose Like Gold\n"
     ]
    },
    {
     "name": "stderr",
     "output_type": "stream",
     "text": [
      "\r",
      " 19%|███████▌                                | 227/1194 [08:26<27:39,  1.72s/it]"
     ]
    },
    {
     "name": "stdout",
     "output_type": "stream",
     "text": [
      "없음: Briston Maroney St. Augustine\n"
     ]
    },
    {
     "name": "stderr",
     "output_type": "stream",
     "text": [
      "\r",
      " 19%|███████▋                                | 228/1194 [08:29<32:12,  2.00s/it]"
     ]
    },
    {
     "name": "stdout",
     "output_type": "stream",
     "text": [
      "없음: Goldfinger 99 Red Balloons\n"
     ]
    },
    {
     "name": "stderr",
     "output_type": "stream",
     "text": [
      "\r",
      " 19%|███████▋                                | 229/1194 [08:31<31:28,  1.96s/it]"
     ]
    },
    {
     "name": "stdout",
     "output_type": "stream",
     "text": [
      "없음: Mohamed Ali Holla!\n"
     ]
    },
    {
     "name": "stderr",
     "output_type": "stream",
     "text": [
      "\r",
      " 19%|███████▋                                | 230/1194 [08:33<32:42,  2.04s/it]"
     ]
    },
    {
     "name": "stdout",
     "output_type": "stream",
     "text": [
      "없음: Megan Levering Never Be Lonely\n"
     ]
    },
    {
     "name": "stderr",
     "output_type": "stream",
     "text": [
      "\r",
      " 19%|███████▋                                | 231/1194 [08:36<35:00,  2.18s/it]"
     ]
    },
    {
     "name": "stdout",
     "output_type": "stream",
     "text": [
      "없음: Jordan McGraw FLEXIBLE (Feat. T-Pain) (Remix)\n"
     ]
    },
    {
     "name": "stderr",
     "output_type": "stream",
     "text": [
      " 19%|███████▊                                | 232/1194 [08:38<35:48,  2.23s/it]"
     ]
    },
    {
     "name": "stdout",
     "output_type": "stream",
     "text": [
      "없음: Halsey I Walk The Line\n"
     ]
    },
    {
     "name": "stderr",
     "output_type": "stream",
     "text": [
      "\n"
     ]
    },
    {
     "ename": "ElementNotInteractableException",
     "evalue": "Message: element not interactable\n  (Session info: chrome=94.0.4606.61)\n",
     "output_type": "error",
     "traceback": [
      "\u001b[0;31m---------------------------------------------------------------------------\u001b[0m",
      "\u001b[0;31mElementNotInteractableException\u001b[0m           Traceback (most recent call last)",
      "\u001b[0;32m/var/folders/2d/k1h9bjt9385d884qrqvzk1880000gn/T/ipykernel_12993/109420796.py\u001b[0m in \u001b[0;36m<module>\u001b[0;34m\u001b[0m\n\u001b[1;32m     20\u001b[0m     \u001b[0;31m# 검색어 창에 보내기\u001b[0m\u001b[0;34m\u001b[0m\u001b[0;34m\u001b[0m\u001b[0;34m\u001b[0m\u001b[0m\n\u001b[1;32m     21\u001b[0m     \u001b[0mall_key\u001b[0m \u001b[0;34m=\u001b[0m \u001b[0msong_name\u001b[0m \u001b[0;34m+\u001b[0m \u001b[0;34m' '\u001b[0m \u001b[0;34m+\u001b[0m \u001b[0msinger\u001b[0m\u001b[0;34m\u001b[0m\u001b[0;34m\u001b[0m\u001b[0m\n\u001b[0;32m---> 22\u001b[0;31m     \u001b[0mdriver\u001b[0m\u001b[0;34m.\u001b[0m\u001b[0mfind_element_by_xpath\u001b[0m\u001b[0;34m(\u001b[0m\u001b[0;34m'//*[@id=\"top_search\"]'\u001b[0m\u001b[0;34m)\u001b[0m\u001b[0;34m.\u001b[0m\u001b[0mclear\u001b[0m\u001b[0;34m(\u001b[0m\u001b[0;34m)\u001b[0m\u001b[0;34m\u001b[0m\u001b[0;34m\u001b[0m\u001b[0m\n\u001b[0m\u001b[1;32m     23\u001b[0m     \u001b[0mdriver\u001b[0m\u001b[0;34m.\u001b[0m\u001b[0mfind_element_by_xpath\u001b[0m\u001b[0;34m(\u001b[0m\u001b[0;34m'//*[@id=\"top_search\"]'\u001b[0m\u001b[0;34m)\u001b[0m\u001b[0;34m.\u001b[0m\u001b[0msend_keys\u001b[0m\u001b[0;34m(\u001b[0m\u001b[0mall_key\u001b[0m\u001b[0;34m)\u001b[0m\u001b[0;34m\u001b[0m\u001b[0;34m\u001b[0m\u001b[0m\n\u001b[1;32m     24\u001b[0m     \u001b[0;32mtry\u001b[0m\u001b[0;34m:\u001b[0m\u001b[0;34m\u001b[0m\u001b[0;34m\u001b[0m\u001b[0m\n",
      "\u001b[0;32m/Library/Frameworks/Python.framework/Versions/3.9/lib/python3.9/site-packages/selenium/webdriver/remote/webelement.py\u001b[0m in \u001b[0;36mclear\u001b[0;34m(self)\u001b[0m\n\u001b[1;32m     93\u001b[0m     \u001b[0;32mdef\u001b[0m \u001b[0mclear\u001b[0m\u001b[0;34m(\u001b[0m\u001b[0mself\u001b[0m\u001b[0;34m)\u001b[0m\u001b[0;34m:\u001b[0m\u001b[0;34m\u001b[0m\u001b[0;34m\u001b[0m\u001b[0m\n\u001b[1;32m     94\u001b[0m         \u001b[0;34m\"\"\"Clears the text if it's a text entry element.\"\"\"\u001b[0m\u001b[0;34m\u001b[0m\u001b[0;34m\u001b[0m\u001b[0m\n\u001b[0;32m---> 95\u001b[0;31m         \u001b[0mself\u001b[0m\u001b[0;34m.\u001b[0m\u001b[0m_execute\u001b[0m\u001b[0;34m(\u001b[0m\u001b[0mCommand\u001b[0m\u001b[0;34m.\u001b[0m\u001b[0mCLEAR_ELEMENT\u001b[0m\u001b[0;34m)\u001b[0m\u001b[0;34m\u001b[0m\u001b[0;34m\u001b[0m\u001b[0m\n\u001b[0m\u001b[1;32m     96\u001b[0m \u001b[0;34m\u001b[0m\u001b[0m\n\u001b[1;32m     97\u001b[0m     \u001b[0;32mdef\u001b[0m \u001b[0mget_property\u001b[0m\u001b[0;34m(\u001b[0m\u001b[0mself\u001b[0m\u001b[0;34m,\u001b[0m \u001b[0mname\u001b[0m\u001b[0;34m)\u001b[0m\u001b[0;34m:\u001b[0m\u001b[0;34m\u001b[0m\u001b[0;34m\u001b[0m\u001b[0m\n",
      "\u001b[0;32m/Library/Frameworks/Python.framework/Versions/3.9/lib/python3.9/site-packages/selenium/webdriver/remote/webelement.py\u001b[0m in \u001b[0;36m_execute\u001b[0;34m(self, command, params)\u001b[0m\n\u001b[1;32m    631\u001b[0m             \u001b[0mparams\u001b[0m \u001b[0;34m=\u001b[0m \u001b[0;34m{\u001b[0m\u001b[0;34m}\u001b[0m\u001b[0;34m\u001b[0m\u001b[0;34m\u001b[0m\u001b[0m\n\u001b[1;32m    632\u001b[0m         \u001b[0mparams\u001b[0m\u001b[0;34m[\u001b[0m\u001b[0;34m'id'\u001b[0m\u001b[0;34m]\u001b[0m \u001b[0;34m=\u001b[0m \u001b[0mself\u001b[0m\u001b[0;34m.\u001b[0m\u001b[0m_id\u001b[0m\u001b[0;34m\u001b[0m\u001b[0;34m\u001b[0m\u001b[0m\n\u001b[0;32m--> 633\u001b[0;31m         \u001b[0;32mreturn\u001b[0m \u001b[0mself\u001b[0m\u001b[0;34m.\u001b[0m\u001b[0m_parent\u001b[0m\u001b[0;34m.\u001b[0m\u001b[0mexecute\u001b[0m\u001b[0;34m(\u001b[0m\u001b[0mcommand\u001b[0m\u001b[0;34m,\u001b[0m \u001b[0mparams\u001b[0m\u001b[0;34m)\u001b[0m\u001b[0;34m\u001b[0m\u001b[0;34m\u001b[0m\u001b[0m\n\u001b[0m\u001b[1;32m    634\u001b[0m \u001b[0;34m\u001b[0m\u001b[0m\n\u001b[1;32m    635\u001b[0m     \u001b[0;32mdef\u001b[0m \u001b[0mfind_element\u001b[0m\u001b[0;34m(\u001b[0m\u001b[0mself\u001b[0m\u001b[0;34m,\u001b[0m \u001b[0mby\u001b[0m\u001b[0;34m=\u001b[0m\u001b[0mBy\u001b[0m\u001b[0;34m.\u001b[0m\u001b[0mID\u001b[0m\u001b[0;34m,\u001b[0m \u001b[0mvalue\u001b[0m\u001b[0;34m=\u001b[0m\u001b[0;32mNone\u001b[0m\u001b[0;34m)\u001b[0m\u001b[0;34m:\u001b[0m\u001b[0;34m\u001b[0m\u001b[0;34m\u001b[0m\u001b[0m\n",
      "\u001b[0;32m/Library/Frameworks/Python.framework/Versions/3.9/lib/python3.9/site-packages/selenium/webdriver/remote/webdriver.py\u001b[0m in \u001b[0;36mexecute\u001b[0;34m(self, driver_command, params)\u001b[0m\n\u001b[1;32m    319\u001b[0m         \u001b[0mresponse\u001b[0m \u001b[0;34m=\u001b[0m \u001b[0mself\u001b[0m\u001b[0;34m.\u001b[0m\u001b[0mcommand_executor\u001b[0m\u001b[0;34m.\u001b[0m\u001b[0mexecute\u001b[0m\u001b[0;34m(\u001b[0m\u001b[0mdriver_command\u001b[0m\u001b[0;34m,\u001b[0m \u001b[0mparams\u001b[0m\u001b[0;34m)\u001b[0m\u001b[0;34m\u001b[0m\u001b[0;34m\u001b[0m\u001b[0m\n\u001b[1;32m    320\u001b[0m         \u001b[0;32mif\u001b[0m \u001b[0mresponse\u001b[0m\u001b[0;34m:\u001b[0m\u001b[0;34m\u001b[0m\u001b[0;34m\u001b[0m\u001b[0m\n\u001b[0;32m--> 321\u001b[0;31m             \u001b[0mself\u001b[0m\u001b[0;34m.\u001b[0m\u001b[0merror_handler\u001b[0m\u001b[0;34m.\u001b[0m\u001b[0mcheck_response\u001b[0m\u001b[0;34m(\u001b[0m\u001b[0mresponse\u001b[0m\u001b[0;34m)\u001b[0m\u001b[0;34m\u001b[0m\u001b[0;34m\u001b[0m\u001b[0m\n\u001b[0m\u001b[1;32m    322\u001b[0m             response['value'] = self._unwrap_value(\n\u001b[1;32m    323\u001b[0m                 response.get('value', None))\n",
      "\u001b[0;32m/Library/Frameworks/Python.framework/Versions/3.9/lib/python3.9/site-packages/selenium/webdriver/remote/errorhandler.py\u001b[0m in \u001b[0;36mcheck_response\u001b[0;34m(self, response)\u001b[0m\n\u001b[1;32m    240\u001b[0m                 \u001b[0malert_text\u001b[0m \u001b[0;34m=\u001b[0m \u001b[0mvalue\u001b[0m\u001b[0;34m[\u001b[0m\u001b[0;34m'alert'\u001b[0m\u001b[0;34m]\u001b[0m\u001b[0;34m.\u001b[0m\u001b[0mget\u001b[0m\u001b[0;34m(\u001b[0m\u001b[0;34m'text'\u001b[0m\u001b[0;34m)\u001b[0m\u001b[0;34m\u001b[0m\u001b[0;34m\u001b[0m\u001b[0m\n\u001b[1;32m    241\u001b[0m             \u001b[0;32mraise\u001b[0m \u001b[0mexception_class\u001b[0m\u001b[0;34m(\u001b[0m\u001b[0mmessage\u001b[0m\u001b[0;34m,\u001b[0m \u001b[0mscreen\u001b[0m\u001b[0;34m,\u001b[0m \u001b[0mstacktrace\u001b[0m\u001b[0;34m,\u001b[0m \u001b[0malert_text\u001b[0m\u001b[0;34m)\u001b[0m\u001b[0;34m\u001b[0m\u001b[0;34m\u001b[0m\u001b[0m\n\u001b[0;32m--> 242\u001b[0;31m         \u001b[0;32mraise\u001b[0m \u001b[0mexception_class\u001b[0m\u001b[0;34m(\u001b[0m\u001b[0mmessage\u001b[0m\u001b[0;34m,\u001b[0m \u001b[0mscreen\u001b[0m\u001b[0;34m,\u001b[0m \u001b[0mstacktrace\u001b[0m\u001b[0;34m)\u001b[0m\u001b[0;34m\u001b[0m\u001b[0;34m\u001b[0m\u001b[0m\n\u001b[0m\u001b[1;32m    243\u001b[0m \u001b[0;34m\u001b[0m\u001b[0m\n\u001b[1;32m    244\u001b[0m     \u001b[0;32mdef\u001b[0m \u001b[0m_value_or_default\u001b[0m\u001b[0;34m(\u001b[0m\u001b[0mself\u001b[0m\u001b[0;34m,\u001b[0m \u001b[0mobj\u001b[0m\u001b[0;34m,\u001b[0m \u001b[0mkey\u001b[0m\u001b[0;34m,\u001b[0m \u001b[0mdefault\u001b[0m\u001b[0;34m)\u001b[0m\u001b[0;34m:\u001b[0m\u001b[0;34m\u001b[0m\u001b[0;34m\u001b[0m\u001b[0m\n",
      "\u001b[0;31mElementNotInteractableException\u001b[0m: Message: element not interactable\n  (Session info: chrome=94.0.4606.61)\n"
     ]
    }
   ],
   "source": [
    "from tqdm import tqdm\n",
    "import ssl\n",
    "import urllib.request\n",
    "from urllib.request import urlopen\n",
    "\n",
    "lyrics_list = []\n",
    "like_list = []\n",
    "rank_list = []\n",
    "reply_list_1 = []\n",
    "reply_list_2 = []\n",
    "reply_list_3 = []\n",
    "reply_list_4 = []\n",
    "reply_list_5 = []\n",
    "\n",
    "for i in tqdm(range(697, 697+len(data))):\n",
    "    # 가수와 노래 값 받기\n",
    "    singer = data['가수'][i]\n",
    "    song_name = data['노래'][i]\n",
    "    \n",
    "    # 검색어 창에 보내기\n",
    "    all_key = song_name + ' ' + singer\n",
    "    driver.find_element_by_xpath('//*[@id=\"top_search\"]').clear()\n",
    "    driver.find_element_by_xpath('//*[@id=\"top_search\"]').send_keys(all_key)\n",
    "    try:\n",
    "        driver.find_element_by_xpath('//*[@id=\"gnb\"]/fieldset/button[2]/span').click()\n",
    "    except:\n",
    "        driver.find_element_by_xpath('//*[@id=\"header_wrap\"]/div[2]/fieldset/button[2]/span').click()\n",
    "    # 노래 있으면 들어가기\n",
    "    try:\n",
    "        driver.find_element_by_xpath('//*[@id=\"frm_songList\"]/div/table/tbody/tr/td[3]/div/div/a[1]').click()\n",
    "        \n",
    "        try:\n",
    "            # 가사 숨겨진것 열기\n",
    "            driver.find_element_by_xpath('//*[@id=\"lyricArea\"]/button').click()\n",
    "        except:\n",
    "            zz=1\n",
    "        # 댓글 추천 수 클릭\n",
    "        driver.find_element_by_xpath('//*[@id=\"d_cmtpgn_cmt_count_wrapper\"]/ul/li[2]/a').click()\n",
    "            \n",
    "        html = driver.page_source\n",
    "        soup = BeautifulSoup(html, 'lxml')\n",
    "        \n",
    "        # 가사 가져오기\n",
    "        try:\n",
    "            lyrics = soup.find('div', attrs={'class':'lyric on'}).text.replace('\\n', ' ').replace('\\t', '').replace('  ', ' ')\n",
    "        except:\n",
    "            lyrics = '없음'\n",
    "\n",
    "        # 좋아요 수 가져오기\n",
    "        try:\n",
    "            like = soup.find('span', attrs={'class':'cnt'}).text\n",
    "        except:\n",
    "            like = '없음'\n",
    "        \n",
    "        # 순위 가져오기\n",
    "        try:\n",
    "            rank = soup.find('div', attrs={'class':'chart'}).text.replace('\\n', '').replace('\\t', '')[1:]\n",
    "        except:\n",
    "            rank = '없음'\n",
    "        \n",
    "        # 댓글 가져오기\n",
    "        try:\n",
    "            t = soup.find_all('div', attrs={'class':'cmt_text d_cmtpgn_cmt_full_contents'})#.text\n",
    "            try:\n",
    "                reply_1 = t[0].text.replace('\\n', '').replace('\\t', '')[5:]\n",
    "            except:\n",
    "                reply_1 = '없음'\n",
    "            try:\n",
    "                reply_2 = t[1].text.replace('\\n', '').replace('\\t', '')[5:]\n",
    "            except:\n",
    "                reply_2 = '없음'\n",
    "            try:\n",
    "                reply_3 = t[2].text.replace('\\n', '').replace('\\t', '')[5:]\n",
    "            except:\n",
    "                reply_3 = '없음'\n",
    "            try:\n",
    "                reply_4 = t[3].text.replace('\\n', '').replace('\\t', '')[5:]\n",
    "            except:\n",
    "                reply_4 = '없음'\n",
    "            try:\n",
    "                reply_5 = t[4].text.replace('\\n', '').replace('\\t', '')[5:]\n",
    "            except:\n",
    "                reply_5 = '없음'\n",
    "        except:\n",
    "            reply_1 = '없음'\n",
    "            reply_2 = '없음'\n",
    "            reply_3 = '없음'\n",
    "            reply_4 = '없음'\n",
    "            reply_5 = '없음'\n",
    "               \n",
    "        # 앨범 사진\n",
    "        imge = driver.find_element_by_xpath('//*[@id=\"downloadfrm\"]/div/div/div[1]/a/img').get_attribute('src')\n",
    "        context = ssl._create_unverified_context()\n",
    "\n",
    "        with urlopen(imge, context=context) as f:\n",
    "            with open('가사/1차_melon/melon_img/'+str(i)+'_'+str(singer)+'_'+str(song_name)+'.jpg', 'wb') as h:\n",
    "                img = f.read()\n",
    "                h.write(img)\n",
    "    except:\n",
    "        lyrics = '없음'\n",
    "        like = '없음'\n",
    "        rank = '없음'\n",
    "        reply_1 = '없음'\n",
    "        reply_2 = '없음'\n",
    "        reply_3 = '없음'\n",
    "        reply_4 = '없음'\n",
    "        reply_5 = '없음'\n",
    "        print('없음:', singer, song_name)\n",
    "        \n",
    "    lyrics_list.append(lyrics)\n",
    "    like_list.append(like)\n",
    "    rank_list.append(rank)\n",
    "    reply_list_1.append(reply_1)\n",
    "    reply_list_2.append(reply_2)\n",
    "    reply_list_3.append(reply_3)\n",
    "    reply_list_4.append(reply_4)\n",
    "    reply_list_5.append(reply_5)"
   ]
  },
  {
   "cell_type": "code",
   "execution_count": 5,
   "id": "fc4e4301",
   "metadata": {},
   "outputs": [],
   "source": [
    "df = pd.concat([pd.DataFrame(lyrics_list), pd.DataFrame(like_list), pd.DataFrame(rank_list),\n",
    "               pd.DataFrame(reply_list_1), pd.DataFrame(reply_list_2), pd.DataFrame(reply_list_3),\n",
    "               pd.DataFrame(reply_list_4), pd.DataFrame(reply_list_5)], axis=1)\n",
    "df.columns = ['원가사', '좋아요수', '어제순위', '댓글1', '댓글2', '댓글3', '댓글4', '댓글5']"
   ]
  },
  {
   "cell_type": "code",
   "execution_count": 6,
   "id": "5ca2cd86",
   "metadata": {},
   "outputs": [
    {
     "data": {
      "text/html": [
       "<div>\n",
       "<style scoped>\n",
       "    .dataframe tbody tr th:only-of-type {\n",
       "        vertical-align: middle;\n",
       "    }\n",
       "\n",
       "    .dataframe tbody tr th {\n",
       "        vertical-align: top;\n",
       "    }\n",
       "\n",
       "    .dataframe thead th {\n",
       "        text-align: right;\n",
       "    }\n",
       "</style>\n",
       "<table border=\"1\" class=\"dataframe\">\n",
       "  <thead>\n",
       "    <tr style=\"text-align: right;\">\n",
       "      <th></th>\n",
       "      <th>원가사</th>\n",
       "      <th>좋아요수</th>\n",
       "      <th>어제순위</th>\n",
       "      <th>댓글1</th>\n",
       "      <th>댓글2</th>\n",
       "      <th>댓글3</th>\n",
       "      <th>댓글4</th>\n",
       "      <th>댓글5</th>\n",
       "    </tr>\n",
       "  </thead>\n",
       "  <tbody>\n",
       "    <tr>\n",
       "      <th>0</th>\n",
       "      <td>웃어줄 수 있을 거야 거울 앞에서머리를 질끈 묶고운동화 끈을 묶고물은 충분히 미리...</td>\n",
       "      <td>8,021</td>\n",
       "      <td>없음</td>\n",
       "      <td>전 가을방학의 그 어떤 노래 중에도 이 노래만큼 슬픈게 없어요...</td>\n",
       "      <td>헤어짐의 감정을 이토록 디테일하게 그와중에 예쁘게 그리다니 진짜 대단한 노래에요 ㅠ...</td>\n",
       "      <td>너 없이 수없이 살아야 하네</td>\n",
       "      <td>가사 속 주인공이 담담하게 이별을 준비하는 모습이 되게 울컥한 것 같아요 목소리도 ...</td>\n",
       "      <td>가사내용이랑 표현이 너무 예뻐서 더 미친듯이 슬퍼요..</td>\n",
       "    </tr>\n",
       "    <tr>\n",
       "      <th>1</th>\n",
       "      <td>San Francisco all the colors look backSan Fra...</td>\n",
       "      <td>3,991</td>\n",
       "      <td>없음</td>\n",
       "      <td>댓글이 없네요. 진짜 최곤데!!</td>\n",
       "      <td>샌프란시스코 가면 걷거나 드라이브 하면서 꼭 듣고 싶은 노래</td>\n",
       "      <td>M83느낌 난다</td>\n",
       "      <td>미친.. 이런 노래를 도시에서 듣고다녀야지</td>\n",
       "      <td>샌프란시스코 골든 게이트 브릿지의 야경을 드라이브 하면서 듣고 싶은 노래</td>\n",
       "    </tr>\n",
       "    <tr>\n",
       "      <th>2</th>\n",
       "      <td>눈을 보고 싶은데 니 손을 잡고 싶은데너의 어깨 입술을 만지고 싶은데얘길 하고 싶...</td>\n",
       "      <td>6,932</td>\n",
       "      <td>없음</td>\n",
       "      <td>여전히 시립다 이 노래는</td>\n",
       "      <td>좋아요</td>\n",
       "      <td>정말..좋아요</td>\n",
       "      <td>걷는 걸 좋아하는지영화를 좋아하는지어제 꿈은 어땠는지 알고 싶은데</td>\n",
       "      <td>2010년인가 고등학생 때 듣던 노랜데 여전히 좋네요</td>\n",
       "    </tr>\n",
       "    <tr>\n",
       "      <th>3</th>\n",
       "      <td>바다 끝없이 푸른 빛을 향해 달리네모든걸 잊은 채로파도 속에선 무거웠던 맘이 씻겨...</td>\n",
       "      <td>3,343</td>\n",
       "      <td>없음</td>\n",
       "      <td>따듯한 푸르름을 느끼게 해주셔서당신이 음악을 만들어 주는 사람이라서노래를 들으면 세...</td>\n",
       "      <td>목요일마다 인스타 라이브 잘 듣고 있어요. 첫 싱글앨범이지요? 그래도 꽉꽉 찬 느낌...</td>\n",
       "      <td>숨가쁘게 스치는 상처들과 마주한 순간순간들 속에도 아이처럼 춤추는 자유로운 너의 오...</td>\n",
       "      <td>와.. 진짜 너무 좋다</td>\n",
       "      <td>블루진....진짜 넘나 좋은 곡........푸른노래 올여름 즐겨들을께요. 고마워요...</td>\n",
       "    </tr>\n",
       "    <tr>\n",
       "      <th>4</th>\n",
       "      <td>벌써 몇 달 짼가너 만난다는 그 사람 얘길 들었어아마 뭔 일이 있었나 저쨌나떠들어...</td>\n",
       "      <td>2,344</td>\n",
       "      <td>없음</td>\n",
       "      <td>이 버전도 따듯해서 좋다... 겨울에 난로 앞에다가 손 내밀고 있는 느낌</td>\n",
       "      <td>너무 좋다</td>\n",
       "      <td>으아아아~~</td>\n",
       "      <td>최고입니다! 사르르...</td>\n",
       "      <td>이 노래를 들으며 편지를 쓰니딴딴형이 쓴 편지가 되어버렸네요 ㅋㅋ없었던 겨울에 힘들...</td>\n",
       "    </tr>\n",
       "    <tr>\n",
       "      <th>...</th>\n",
       "      <td>...</td>\n",
       "      <td>...</td>\n",
       "      <td>...</td>\n",
       "      <td>...</td>\n",
       "      <td>...</td>\n",
       "      <td>...</td>\n",
       "      <td>...</td>\n",
       "      <td>...</td>\n",
       "    </tr>\n",
       "    <tr>\n",
       "      <th>227</th>\n",
       "      <td>없음</td>\n",
       "      <td>없음</td>\n",
       "      <td>없음</td>\n",
       "      <td>없음</td>\n",
       "      <td>없음</td>\n",
       "      <td>없음</td>\n",
       "      <td>없음</td>\n",
       "      <td>없음</td>\n",
       "    </tr>\n",
       "    <tr>\n",
       "      <th>228</th>\n",
       "      <td>없음</td>\n",
       "      <td>없음</td>\n",
       "      <td>없음</td>\n",
       "      <td>없음</td>\n",
       "      <td>없음</td>\n",
       "      <td>없음</td>\n",
       "      <td>없음</td>\n",
       "      <td>없음</td>\n",
       "    </tr>\n",
       "    <tr>\n",
       "      <th>229</th>\n",
       "      <td>없음</td>\n",
       "      <td>없음</td>\n",
       "      <td>없음</td>\n",
       "      <td>없음</td>\n",
       "      <td>없음</td>\n",
       "      <td>없음</td>\n",
       "      <td>없음</td>\n",
       "      <td>없음</td>\n",
       "    </tr>\n",
       "    <tr>\n",
       "      <th>230</th>\n",
       "      <td>없음</td>\n",
       "      <td>없음</td>\n",
       "      <td>없음</td>\n",
       "      <td>없음</td>\n",
       "      <td>없음</td>\n",
       "      <td>없음</td>\n",
       "      <td>없음</td>\n",
       "      <td>없음</td>\n",
       "    </tr>\n",
       "    <tr>\n",
       "      <th>231</th>\n",
       "      <td>없음</td>\n",
       "      <td>없음</td>\n",
       "      <td>없음</td>\n",
       "      <td>없음</td>\n",
       "      <td>없음</td>\n",
       "      <td>없음</td>\n",
       "      <td>없음</td>\n",
       "      <td>없음</td>\n",
       "    </tr>\n",
       "  </tbody>\n",
       "</table>\n",
       "<p>232 rows × 8 columns</p>\n",
       "</div>"
      ],
      "text/plain": [
       "                                                   원가사   좋아요수 어제순위  \\\n",
       "0     웃어줄 수 있을 거야 거울 앞에서머리를 질끈 묶고운동화 끈을 묶고물은 충분히 미리...  8,021   없음   \n",
       "1     San Francisco all the colors look backSan Fra...  3,991   없음   \n",
       "2     눈을 보고 싶은데 니 손을 잡고 싶은데너의 어깨 입술을 만지고 싶은데얘길 하고 싶...  6,932   없음   \n",
       "3     바다 끝없이 푸른 빛을 향해 달리네모든걸 잊은 채로파도 속에선 무거웠던 맘이 씻겨...  3,343   없음   \n",
       "4     벌써 몇 달 짼가너 만난다는 그 사람 얘길 들었어아마 뭔 일이 있었나 저쨌나떠들어...  2,344   없음   \n",
       "..                                                 ...    ...  ...   \n",
       "227                                                 없음     없음   없음   \n",
       "228                                                 없음     없음   없음   \n",
       "229                                                 없음     없음   없음   \n",
       "230                                                 없음     없음   없음   \n",
       "231                                                 없음     없음   없음   \n",
       "\n",
       "                                                   댓글1  \\\n",
       "0                전 가을방학의 그 어떤 노래 중에도 이 노래만큼 슬픈게 없어요...   \n",
       "1                                    댓글이 없네요. 진짜 최곤데!!   \n",
       "2                                        여전히 시립다 이 노래는   \n",
       "3    따듯한 푸르름을 느끼게 해주셔서당신이 음악을 만들어 주는 사람이라서노래를 들으면 세...   \n",
       "4             이 버전도 따듯해서 좋다... 겨울에 난로 앞에다가 손 내밀고 있는 느낌   \n",
       "..                                                 ...   \n",
       "227                                                 없음   \n",
       "228                                                 없음   \n",
       "229                                                 없음   \n",
       "230                                                 없음   \n",
       "231                                                 없음   \n",
       "\n",
       "                                                   댓글2  \\\n",
       "0    헤어짐의 감정을 이토록 디테일하게 그와중에 예쁘게 그리다니 진짜 대단한 노래에요 ㅠ...   \n",
       "1                    샌프란시스코 가면 걷거나 드라이브 하면서 꼭 듣고 싶은 노래   \n",
       "2                                                  좋아요   \n",
       "3    목요일마다 인스타 라이브 잘 듣고 있어요. 첫 싱글앨범이지요? 그래도 꽉꽉 찬 느낌...   \n",
       "4                                                너무 좋다   \n",
       "..                                                 ...   \n",
       "227                                                 없음   \n",
       "228                                                 없음   \n",
       "229                                                 없음   \n",
       "230                                                 없음   \n",
       "231                                                 없음   \n",
       "\n",
       "                                                   댓글3  \\\n",
       "0                                      너 없이 수없이 살아야 하네   \n",
       "1                                             M83느낌 난다   \n",
       "2                                              정말..좋아요   \n",
       "3    숨가쁘게 스치는 상처들과 마주한 순간순간들 속에도 아이처럼 춤추는 자유로운 너의 오...   \n",
       "4                                               으아아아~~   \n",
       "..                                                 ...   \n",
       "227                                                 없음   \n",
       "228                                                 없음   \n",
       "229                                                 없음   \n",
       "230                                                 없음   \n",
       "231                                                 없음   \n",
       "\n",
       "                                                   댓글4  \\\n",
       "0    가사 속 주인공이 담담하게 이별을 준비하는 모습이 되게 울컥한 것 같아요 목소리도 ...   \n",
       "1                              미친.. 이런 노래를 도시에서 듣고다녀야지   \n",
       "2                 걷는 걸 좋아하는지영화를 좋아하는지어제 꿈은 어땠는지 알고 싶은데   \n",
       "3                                         와.. 진짜 너무 좋다   \n",
       "4                                        최고입니다! 사르르...   \n",
       "..                                                 ...   \n",
       "227                                                 없음   \n",
       "228                                                 없음   \n",
       "229                                                 없음   \n",
       "230                                                 없음   \n",
       "231                                                 없음   \n",
       "\n",
       "                                                   댓글5  \n",
       "0                       가사내용이랑 표현이 너무 예뻐서 더 미친듯이 슬퍼요..  \n",
       "1             샌프란시스코 골든 게이트 브릿지의 야경을 드라이브 하면서 듣고 싶은 노래  \n",
       "2                        2010년인가 고등학생 때 듣던 노랜데 여전히 좋네요  \n",
       "3    블루진....진짜 넘나 좋은 곡........푸른노래 올여름 즐겨들을께요. 고마워요...  \n",
       "4    이 노래를 들으며 편지를 쓰니딴딴형이 쓴 편지가 되어버렸네요 ㅋㅋ없었던 겨울에 힘들...  \n",
       "..                                                 ...  \n",
       "227                                                 없음  \n",
       "228                                                 없음  \n",
       "229                                                 없음  \n",
       "230                                                 없음  \n",
       "231                                                 없음  \n",
       "\n",
       "[232 rows x 8 columns]"
      ]
     },
     "execution_count": 6,
     "metadata": {},
     "output_type": "execute_result"
    }
   ],
   "source": [
    "df"
   ]
  },
  {
   "cell_type": "code",
   "execution_count": 9,
   "id": "6337ad11",
   "metadata": {},
   "outputs": [
    {
     "data": {
      "text/html": [
       "<div>\n",
       "<style scoped>\n",
       "    .dataframe tbody tr th:only-of-type {\n",
       "        vertical-align: middle;\n",
       "    }\n",
       "\n",
       "    .dataframe tbody tr th {\n",
       "        vertical-align: top;\n",
       "    }\n",
       "\n",
       "    .dataframe thead th {\n",
       "        text-align: right;\n",
       "    }\n",
       "</style>\n",
       "<table border=\"1\" class=\"dataframe\">\n",
       "  <thead>\n",
       "    <tr style=\"text-align: right;\">\n",
       "      <th></th>\n",
       "      <th>index</th>\n",
       "      <th>노래</th>\n",
       "      <th>가수</th>\n",
       "    </tr>\n",
       "  </thead>\n",
       "  <tbody>\n",
       "    <tr>\n",
       "      <th>0</th>\n",
       "      <td>406</td>\n",
       "      <td>이별 앞으로</td>\n",
       "      <td>가을방학</td>\n",
       "    </tr>\n",
       "    <tr>\n",
       "      <th>1</th>\n",
       "      <td>407</td>\n",
       "      <td>San Francisco</td>\n",
       "      <td>ADOY</td>\n",
       "    </tr>\n",
       "    <tr>\n",
       "      <th>2</th>\n",
       "      <td>408</td>\n",
       "      <td>그렇습니까</td>\n",
       "      <td>흐른</td>\n",
       "    </tr>\n",
       "    <tr>\n",
       "      <th>3</th>\n",
       "      <td>409</td>\n",
       "      <td>블루진</td>\n",
       "      <td>디어클라우드</td>\n",
       "    </tr>\n",
       "    <tr>\n",
       "      <th>4</th>\n",
       "      <td>410</td>\n",
       "      <td>겨울을 걷는다 (스튜디오 라이브 버전)</td>\n",
       "      <td>윤딴딴</td>\n",
       "    </tr>\n",
       "    <tr>\n",
       "      <th>...</th>\n",
       "      <td>...</td>\n",
       "      <td>...</td>\n",
       "      <td>...</td>\n",
       "    </tr>\n",
       "    <tr>\n",
       "      <th>1189</th>\n",
       "      <td>1595</td>\n",
       "      <td>골고다</td>\n",
       "      <td>한지상</td>\n",
       "    </tr>\n",
       "    <tr>\n",
       "      <th>1190</th>\n",
       "      <td>1596</td>\n",
       "      <td>신데렐라와 왕자의 사랑노래</td>\n",
       "      <td>극단 원공</td>\n",
       "    </tr>\n",
       "    <tr>\n",
       "      <th>1191</th>\n",
       "      <td>1597</td>\n",
       "      <td>서곡_내 비극적인 이야기</td>\n",
       "      <td>전동석, 뮤지컬 팬텀 2016 앙상블</td>\n",
       "    </tr>\n",
       "    <tr>\n",
       "      <th>1192</th>\n",
       "      <td>1598</td>\n",
       "      <td>나의 빛, 어머니</td>\n",
       "      <td>박은태</td>\n",
       "    </tr>\n",
       "    <tr>\n",
       "      <th>1193</th>\n",
       "      <td>1599</td>\n",
       "      <td>프리프링 매지컬 샤이닝 스타 (아빠를 구하자)</td>\n",
       "      <td>프리프링 마리의 마법학교 대모험</td>\n",
       "    </tr>\n",
       "  </tbody>\n",
       "</table>\n",
       "<p>1194 rows × 3 columns</p>\n",
       "</div>"
      ],
      "text/plain": [
       "      index                         노래                    가수\n",
       "0       406                     이별 앞으로                  가을방학\n",
       "1       407              San Francisco                  ADOY\n",
       "2       408                      그렇습니까                    흐른\n",
       "3       409                        블루진                디어클라우드\n",
       "4       410      겨울을 걷는다 (스튜디오 라이브 버전)                   윤딴딴\n",
       "...     ...                        ...                   ...\n",
       "1189   1595                        골고다                   한지상\n",
       "1190   1596             신데렐라와 왕자의 사랑노래                 극단 원공\n",
       "1191   1597              서곡_내 비극적인 이야기  전동석, 뮤지컬 팬텀 2016 앙상블\n",
       "1192   1598                  나의 빛, 어머니                   박은태\n",
       "1193   1599  프리프링 매지컬 샤이닝 스타 (아빠를 구하자)     프리프링 마리의 마법학교 대모험\n",
       "\n",
       "[1194 rows x 3 columns]"
      ]
     },
     "execution_count": 9,
     "metadata": {},
     "output_type": "execute_result"
    }
   ],
   "source": [
    "data.reset_index(inplace=True, drop=False)\n",
    "data"
   ]
  },
  {
   "cell_type": "code",
   "execution_count": 10,
   "id": "9f955772",
   "metadata": {},
   "outputs": [
    {
     "data": {
      "text/html": [
       "<div>\n",
       "<style scoped>\n",
       "    .dataframe tbody tr th:only-of-type {\n",
       "        vertical-align: middle;\n",
       "    }\n",
       "\n",
       "    .dataframe tbody tr th {\n",
       "        vertical-align: top;\n",
       "    }\n",
       "\n",
       "    .dataframe thead th {\n",
       "        text-align: right;\n",
       "    }\n",
       "</style>\n",
       "<table border=\"1\" class=\"dataframe\">\n",
       "  <thead>\n",
       "    <tr style=\"text-align: right;\">\n",
       "      <th></th>\n",
       "      <th>index</th>\n",
       "      <th>노래</th>\n",
       "      <th>가수</th>\n",
       "      <th>원가사</th>\n",
       "      <th>좋아요수</th>\n",
       "      <th>어제순위</th>\n",
       "      <th>댓글1</th>\n",
       "      <th>댓글2</th>\n",
       "      <th>댓글3</th>\n",
       "      <th>댓글4</th>\n",
       "      <th>댓글5</th>\n",
       "    </tr>\n",
       "  </thead>\n",
       "  <tbody>\n",
       "    <tr>\n",
       "      <th>0</th>\n",
       "      <td>406</td>\n",
       "      <td>이별 앞으로</td>\n",
       "      <td>가을방학</td>\n",
       "      <td>웃어줄 수 있을 거야 거울 앞에서머리를 질끈 묶고운동화 끈을 묶고물은 충분히 미리...</td>\n",
       "      <td>8,021</td>\n",
       "      <td>없음</td>\n",
       "      <td>전 가을방학의 그 어떤 노래 중에도 이 노래만큼 슬픈게 없어요...</td>\n",
       "      <td>헤어짐의 감정을 이토록 디테일하게 그와중에 예쁘게 그리다니 진짜 대단한 노래에요 ㅠ...</td>\n",
       "      <td>너 없이 수없이 살아야 하네</td>\n",
       "      <td>가사 속 주인공이 담담하게 이별을 준비하는 모습이 되게 울컥한 것 같아요 목소리도 ...</td>\n",
       "      <td>가사내용이랑 표현이 너무 예뻐서 더 미친듯이 슬퍼요..</td>\n",
       "    </tr>\n",
       "    <tr>\n",
       "      <th>1</th>\n",
       "      <td>407</td>\n",
       "      <td>San Francisco</td>\n",
       "      <td>ADOY</td>\n",
       "      <td>San Francisco all the colors look backSan Fra...</td>\n",
       "      <td>3,991</td>\n",
       "      <td>없음</td>\n",
       "      <td>댓글이 없네요. 진짜 최곤데!!</td>\n",
       "      <td>샌프란시스코 가면 걷거나 드라이브 하면서 꼭 듣고 싶은 노래</td>\n",
       "      <td>M83느낌 난다</td>\n",
       "      <td>미친.. 이런 노래를 도시에서 듣고다녀야지</td>\n",
       "      <td>샌프란시스코 골든 게이트 브릿지의 야경을 드라이브 하면서 듣고 싶은 노래</td>\n",
       "    </tr>\n",
       "    <tr>\n",
       "      <th>2</th>\n",
       "      <td>408</td>\n",
       "      <td>그렇습니까</td>\n",
       "      <td>흐른</td>\n",
       "      <td>눈을 보고 싶은데 니 손을 잡고 싶은데너의 어깨 입술을 만지고 싶은데얘길 하고 싶...</td>\n",
       "      <td>6,932</td>\n",
       "      <td>없음</td>\n",
       "      <td>여전히 시립다 이 노래는</td>\n",
       "      <td>좋아요</td>\n",
       "      <td>정말..좋아요</td>\n",
       "      <td>걷는 걸 좋아하는지영화를 좋아하는지어제 꿈은 어땠는지 알고 싶은데</td>\n",
       "      <td>2010년인가 고등학생 때 듣던 노랜데 여전히 좋네요</td>\n",
       "    </tr>\n",
       "    <tr>\n",
       "      <th>3</th>\n",
       "      <td>409</td>\n",
       "      <td>블루진</td>\n",
       "      <td>디어클라우드</td>\n",
       "      <td>바다 끝없이 푸른 빛을 향해 달리네모든걸 잊은 채로파도 속에선 무거웠던 맘이 씻겨...</td>\n",
       "      <td>3,343</td>\n",
       "      <td>없음</td>\n",
       "      <td>따듯한 푸르름을 느끼게 해주셔서당신이 음악을 만들어 주는 사람이라서노래를 들으면 세...</td>\n",
       "      <td>목요일마다 인스타 라이브 잘 듣고 있어요. 첫 싱글앨범이지요? 그래도 꽉꽉 찬 느낌...</td>\n",
       "      <td>숨가쁘게 스치는 상처들과 마주한 순간순간들 속에도 아이처럼 춤추는 자유로운 너의 오...</td>\n",
       "      <td>와.. 진짜 너무 좋다</td>\n",
       "      <td>블루진....진짜 넘나 좋은 곡........푸른노래 올여름 즐겨들을께요. 고마워요...</td>\n",
       "    </tr>\n",
       "    <tr>\n",
       "      <th>4</th>\n",
       "      <td>410</td>\n",
       "      <td>겨울을 걷는다 (스튜디오 라이브 버전)</td>\n",
       "      <td>윤딴딴</td>\n",
       "      <td>벌써 몇 달 짼가너 만난다는 그 사람 얘길 들었어아마 뭔 일이 있었나 저쨌나떠들어...</td>\n",
       "      <td>2,344</td>\n",
       "      <td>없음</td>\n",
       "      <td>이 버전도 따듯해서 좋다... 겨울에 난로 앞에다가 손 내밀고 있는 느낌</td>\n",
       "      <td>너무 좋다</td>\n",
       "      <td>으아아아~~</td>\n",
       "      <td>최고입니다! 사르르...</td>\n",
       "      <td>이 노래를 들으며 편지를 쓰니딴딴형이 쓴 편지가 되어버렸네요 ㅋㅋ없었던 겨울에 힘들...</td>\n",
       "    </tr>\n",
       "    <tr>\n",
       "      <th>...</th>\n",
       "      <td>...</td>\n",
       "      <td>...</td>\n",
       "      <td>...</td>\n",
       "      <td>...</td>\n",
       "      <td>...</td>\n",
       "      <td>...</td>\n",
       "      <td>...</td>\n",
       "      <td>...</td>\n",
       "      <td>...</td>\n",
       "      <td>...</td>\n",
       "      <td>...</td>\n",
       "    </tr>\n",
       "    <tr>\n",
       "      <th>1189</th>\n",
       "      <td>1595</td>\n",
       "      <td>골고다</td>\n",
       "      <td>한지상</td>\n",
       "      <td>NaN</td>\n",
       "      <td>NaN</td>\n",
       "      <td>NaN</td>\n",
       "      <td>NaN</td>\n",
       "      <td>NaN</td>\n",
       "      <td>NaN</td>\n",
       "      <td>NaN</td>\n",
       "      <td>NaN</td>\n",
       "    </tr>\n",
       "    <tr>\n",
       "      <th>1190</th>\n",
       "      <td>1596</td>\n",
       "      <td>신데렐라와 왕자의 사랑노래</td>\n",
       "      <td>극단 원공</td>\n",
       "      <td>NaN</td>\n",
       "      <td>NaN</td>\n",
       "      <td>NaN</td>\n",
       "      <td>NaN</td>\n",
       "      <td>NaN</td>\n",
       "      <td>NaN</td>\n",
       "      <td>NaN</td>\n",
       "      <td>NaN</td>\n",
       "    </tr>\n",
       "    <tr>\n",
       "      <th>1191</th>\n",
       "      <td>1597</td>\n",
       "      <td>서곡_내 비극적인 이야기</td>\n",
       "      <td>전동석, 뮤지컬 팬텀 2016 앙상블</td>\n",
       "      <td>NaN</td>\n",
       "      <td>NaN</td>\n",
       "      <td>NaN</td>\n",
       "      <td>NaN</td>\n",
       "      <td>NaN</td>\n",
       "      <td>NaN</td>\n",
       "      <td>NaN</td>\n",
       "      <td>NaN</td>\n",
       "    </tr>\n",
       "    <tr>\n",
       "      <th>1192</th>\n",
       "      <td>1598</td>\n",
       "      <td>나의 빛, 어머니</td>\n",
       "      <td>박은태</td>\n",
       "      <td>NaN</td>\n",
       "      <td>NaN</td>\n",
       "      <td>NaN</td>\n",
       "      <td>NaN</td>\n",
       "      <td>NaN</td>\n",
       "      <td>NaN</td>\n",
       "      <td>NaN</td>\n",
       "      <td>NaN</td>\n",
       "    </tr>\n",
       "    <tr>\n",
       "      <th>1193</th>\n",
       "      <td>1599</td>\n",
       "      <td>프리프링 매지컬 샤이닝 스타 (아빠를 구하자)</td>\n",
       "      <td>프리프링 마리의 마법학교 대모험</td>\n",
       "      <td>NaN</td>\n",
       "      <td>NaN</td>\n",
       "      <td>NaN</td>\n",
       "      <td>NaN</td>\n",
       "      <td>NaN</td>\n",
       "      <td>NaN</td>\n",
       "      <td>NaN</td>\n",
       "      <td>NaN</td>\n",
       "    </tr>\n",
       "  </tbody>\n",
       "</table>\n",
       "<p>1194 rows × 11 columns</p>\n",
       "</div>"
      ],
      "text/plain": [
       "      index                         노래                    가수  \\\n",
       "0       406                     이별 앞으로                  가을방학   \n",
       "1       407              San Francisco                  ADOY   \n",
       "2       408                      그렇습니까                    흐른   \n",
       "3       409                        블루진                디어클라우드   \n",
       "4       410      겨울을 걷는다 (스튜디오 라이브 버전)                   윤딴딴   \n",
       "...     ...                        ...                   ...   \n",
       "1189   1595                        골고다                   한지상   \n",
       "1190   1596             신데렐라와 왕자의 사랑노래                 극단 원공   \n",
       "1191   1597              서곡_내 비극적인 이야기  전동석, 뮤지컬 팬텀 2016 앙상블   \n",
       "1192   1598                  나의 빛, 어머니                   박은태   \n",
       "1193   1599  프리프링 매지컬 샤이닝 스타 (아빠를 구하자)     프리프링 마리의 마법학교 대모험   \n",
       "\n",
       "                                                    원가사   좋아요수 어제순위  \\\n",
       "0      웃어줄 수 있을 거야 거울 앞에서머리를 질끈 묶고운동화 끈을 묶고물은 충분히 미리...  8,021   없음   \n",
       "1      San Francisco all the colors look backSan Fra...  3,991   없음   \n",
       "2      눈을 보고 싶은데 니 손을 잡고 싶은데너의 어깨 입술을 만지고 싶은데얘길 하고 싶...  6,932   없음   \n",
       "3      바다 끝없이 푸른 빛을 향해 달리네모든걸 잊은 채로파도 속에선 무거웠던 맘이 씻겨...  3,343   없음   \n",
       "4      벌써 몇 달 짼가너 만난다는 그 사람 얘길 들었어아마 뭔 일이 있었나 저쨌나떠들어...  2,344   없음   \n",
       "...                                                 ...    ...  ...   \n",
       "1189                                                NaN    NaN  NaN   \n",
       "1190                                                NaN    NaN  NaN   \n",
       "1191                                                NaN    NaN  NaN   \n",
       "1192                                                NaN    NaN  NaN   \n",
       "1193                                                NaN    NaN  NaN   \n",
       "\n",
       "                                                    댓글1  \\\n",
       "0                 전 가을방학의 그 어떤 노래 중에도 이 노래만큼 슬픈게 없어요...   \n",
       "1                                     댓글이 없네요. 진짜 최곤데!!   \n",
       "2                                         여전히 시립다 이 노래는   \n",
       "3     따듯한 푸르름을 느끼게 해주셔서당신이 음악을 만들어 주는 사람이라서노래를 들으면 세...   \n",
       "4              이 버전도 따듯해서 좋다... 겨울에 난로 앞에다가 손 내밀고 있는 느낌   \n",
       "...                                                 ...   \n",
       "1189                                                NaN   \n",
       "1190                                                NaN   \n",
       "1191                                                NaN   \n",
       "1192                                                NaN   \n",
       "1193                                                NaN   \n",
       "\n",
       "                                                    댓글2  \\\n",
       "0     헤어짐의 감정을 이토록 디테일하게 그와중에 예쁘게 그리다니 진짜 대단한 노래에요 ㅠ...   \n",
       "1                     샌프란시스코 가면 걷거나 드라이브 하면서 꼭 듣고 싶은 노래   \n",
       "2                                                   좋아요   \n",
       "3     목요일마다 인스타 라이브 잘 듣고 있어요. 첫 싱글앨범이지요? 그래도 꽉꽉 찬 느낌...   \n",
       "4                                                 너무 좋다   \n",
       "...                                                 ...   \n",
       "1189                                                NaN   \n",
       "1190                                                NaN   \n",
       "1191                                                NaN   \n",
       "1192                                                NaN   \n",
       "1193                                                NaN   \n",
       "\n",
       "                                                    댓글3  \\\n",
       "0                                       너 없이 수없이 살아야 하네   \n",
       "1                                              M83느낌 난다   \n",
       "2                                               정말..좋아요   \n",
       "3     숨가쁘게 스치는 상처들과 마주한 순간순간들 속에도 아이처럼 춤추는 자유로운 너의 오...   \n",
       "4                                                으아아아~~   \n",
       "...                                                 ...   \n",
       "1189                                                NaN   \n",
       "1190                                                NaN   \n",
       "1191                                                NaN   \n",
       "1192                                                NaN   \n",
       "1193                                                NaN   \n",
       "\n",
       "                                                    댓글4  \\\n",
       "0     가사 속 주인공이 담담하게 이별을 준비하는 모습이 되게 울컥한 것 같아요 목소리도 ...   \n",
       "1                               미친.. 이런 노래를 도시에서 듣고다녀야지   \n",
       "2                  걷는 걸 좋아하는지영화를 좋아하는지어제 꿈은 어땠는지 알고 싶은데   \n",
       "3                                          와.. 진짜 너무 좋다   \n",
       "4                                         최고입니다! 사르르...   \n",
       "...                                                 ...   \n",
       "1189                                                NaN   \n",
       "1190                                                NaN   \n",
       "1191                                                NaN   \n",
       "1192                                                NaN   \n",
       "1193                                                NaN   \n",
       "\n",
       "                                                    댓글5  \n",
       "0                        가사내용이랑 표현이 너무 예뻐서 더 미친듯이 슬퍼요..  \n",
       "1              샌프란시스코 골든 게이트 브릿지의 야경을 드라이브 하면서 듣고 싶은 노래  \n",
       "2                         2010년인가 고등학생 때 듣던 노랜데 여전히 좋네요  \n",
       "3     블루진....진짜 넘나 좋은 곡........푸른노래 올여름 즐겨들을께요. 고마워요...  \n",
       "4     이 노래를 들으며 편지를 쓰니딴딴형이 쓴 편지가 되어버렸네요 ㅋㅋ없었던 겨울에 힘들...  \n",
       "...                                                 ...  \n",
       "1189                                                NaN  \n",
       "1190                                                NaN  \n",
       "1191                                                NaN  \n",
       "1192                                                NaN  \n",
       "1193                                                NaN  \n",
       "\n",
       "[1194 rows x 11 columns]"
      ]
     },
     "execution_count": 10,
     "metadata": {},
     "output_type": "execute_result"
    }
   ],
   "source": [
    "crawled = pd.concat([data, df], axis=1)\n",
    "crawled"
   ]
  },
  {
   "cell_type": "code",
   "execution_count": 11,
   "id": "e02c9a3d",
   "metadata": {},
   "outputs": [
    {
     "data": {
      "text/html": [
       "<div>\n",
       "<style scoped>\n",
       "    .dataframe tbody tr th:only-of-type {\n",
       "        vertical-align: middle;\n",
       "    }\n",
       "\n",
       "    .dataframe tbody tr th {\n",
       "        vertical-align: top;\n",
       "    }\n",
       "\n",
       "    .dataframe thead th {\n",
       "        text-align: right;\n",
       "    }\n",
       "</style>\n",
       "<table border=\"1\" class=\"dataframe\">\n",
       "  <thead>\n",
       "    <tr style=\"text-align: right;\">\n",
       "      <th></th>\n",
       "      <th>index</th>\n",
       "      <th>노래</th>\n",
       "      <th>가수</th>\n",
       "      <th>원가사</th>\n",
       "      <th>좋아요수</th>\n",
       "      <th>어제순위</th>\n",
       "      <th>댓글1</th>\n",
       "      <th>댓글2</th>\n",
       "      <th>댓글3</th>\n",
       "      <th>댓글4</th>\n",
       "      <th>댓글5</th>\n",
       "    </tr>\n",
       "  </thead>\n",
       "  <tbody>\n",
       "    <tr>\n",
       "      <th>0</th>\n",
       "      <td>406</td>\n",
       "      <td>이별 앞으로</td>\n",
       "      <td>가을방학</td>\n",
       "      <td>웃어줄 수 있을 거야 거울 앞에서머리를 질끈 묶고운동화 끈을 묶고물은 충분히 미리...</td>\n",
       "      <td>8,021</td>\n",
       "      <td>없음</td>\n",
       "      <td>전 가을방학의 그 어떤 노래 중에도 이 노래만큼 슬픈게 없어요...</td>\n",
       "      <td>헤어짐의 감정을 이토록 디테일하게 그와중에 예쁘게 그리다니 진짜 대단한 노래에요 ㅠ...</td>\n",
       "      <td>너 없이 수없이 살아야 하네</td>\n",
       "      <td>가사 속 주인공이 담담하게 이별을 준비하는 모습이 되게 울컥한 것 같아요 목소리도 ...</td>\n",
       "      <td>가사내용이랑 표현이 너무 예뻐서 더 미친듯이 슬퍼요..</td>\n",
       "    </tr>\n",
       "    <tr>\n",
       "      <th>1</th>\n",
       "      <td>407</td>\n",
       "      <td>San Francisco</td>\n",
       "      <td>ADOY</td>\n",
       "      <td>San Francisco all the colors look backSan Fra...</td>\n",
       "      <td>3,991</td>\n",
       "      <td>없음</td>\n",
       "      <td>댓글이 없네요. 진짜 최곤데!!</td>\n",
       "      <td>샌프란시스코 가면 걷거나 드라이브 하면서 꼭 듣고 싶은 노래</td>\n",
       "      <td>M83느낌 난다</td>\n",
       "      <td>미친.. 이런 노래를 도시에서 듣고다녀야지</td>\n",
       "      <td>샌프란시스코 골든 게이트 브릿지의 야경을 드라이브 하면서 듣고 싶은 노래</td>\n",
       "    </tr>\n",
       "    <tr>\n",
       "      <th>2</th>\n",
       "      <td>408</td>\n",
       "      <td>그렇습니까</td>\n",
       "      <td>흐른</td>\n",
       "      <td>눈을 보고 싶은데 니 손을 잡고 싶은데너의 어깨 입술을 만지고 싶은데얘길 하고 싶...</td>\n",
       "      <td>6,932</td>\n",
       "      <td>없음</td>\n",
       "      <td>여전히 시립다 이 노래는</td>\n",
       "      <td>좋아요</td>\n",
       "      <td>정말..좋아요</td>\n",
       "      <td>걷는 걸 좋아하는지영화를 좋아하는지어제 꿈은 어땠는지 알고 싶은데</td>\n",
       "      <td>2010년인가 고등학생 때 듣던 노랜데 여전히 좋네요</td>\n",
       "    </tr>\n",
       "    <tr>\n",
       "      <th>3</th>\n",
       "      <td>409</td>\n",
       "      <td>블루진</td>\n",
       "      <td>디어클라우드</td>\n",
       "      <td>바다 끝없이 푸른 빛을 향해 달리네모든걸 잊은 채로파도 속에선 무거웠던 맘이 씻겨...</td>\n",
       "      <td>3,343</td>\n",
       "      <td>없음</td>\n",
       "      <td>따듯한 푸르름을 느끼게 해주셔서당신이 음악을 만들어 주는 사람이라서노래를 들으면 세...</td>\n",
       "      <td>목요일마다 인스타 라이브 잘 듣고 있어요. 첫 싱글앨범이지요? 그래도 꽉꽉 찬 느낌...</td>\n",
       "      <td>숨가쁘게 스치는 상처들과 마주한 순간순간들 속에도 아이처럼 춤추는 자유로운 너의 오...</td>\n",
       "      <td>와.. 진짜 너무 좋다</td>\n",
       "      <td>블루진....진짜 넘나 좋은 곡........푸른노래 올여름 즐겨들을께요. 고마워요...</td>\n",
       "    </tr>\n",
       "    <tr>\n",
       "      <th>4</th>\n",
       "      <td>410</td>\n",
       "      <td>겨울을 걷는다 (스튜디오 라이브 버전)</td>\n",
       "      <td>윤딴딴</td>\n",
       "      <td>벌써 몇 달 짼가너 만난다는 그 사람 얘길 들었어아마 뭔 일이 있었나 저쨌나떠들어...</td>\n",
       "      <td>2,344</td>\n",
       "      <td>없음</td>\n",
       "      <td>이 버전도 따듯해서 좋다... 겨울에 난로 앞에다가 손 내밀고 있는 느낌</td>\n",
       "      <td>너무 좋다</td>\n",
       "      <td>으아아아~~</td>\n",
       "      <td>최고입니다! 사르르...</td>\n",
       "      <td>이 노래를 들으며 편지를 쓰니딴딴형이 쓴 편지가 되어버렸네요 ㅋㅋ없었던 겨울에 힘들...</td>\n",
       "    </tr>\n",
       "    <tr>\n",
       "      <th>...</th>\n",
       "      <td>...</td>\n",
       "      <td>...</td>\n",
       "      <td>...</td>\n",
       "      <td>...</td>\n",
       "      <td>...</td>\n",
       "      <td>...</td>\n",
       "      <td>...</td>\n",
       "      <td>...</td>\n",
       "      <td>...</td>\n",
       "      <td>...</td>\n",
       "      <td>...</td>\n",
       "    </tr>\n",
       "    <tr>\n",
       "      <th>227</th>\n",
       "      <td>633</td>\n",
       "      <td>99 Red Balloons</td>\n",
       "      <td>Goldfinger</td>\n",
       "      <td>없음</td>\n",
       "      <td>없음</td>\n",
       "      <td>없음</td>\n",
       "      <td>없음</td>\n",
       "      <td>없음</td>\n",
       "      <td>없음</td>\n",
       "      <td>없음</td>\n",
       "      <td>없음</td>\n",
       "    </tr>\n",
       "    <tr>\n",
       "      <th>228</th>\n",
       "      <td>634</td>\n",
       "      <td>Holla!</td>\n",
       "      <td>Mohamed Ali</td>\n",
       "      <td>없음</td>\n",
       "      <td>없음</td>\n",
       "      <td>없음</td>\n",
       "      <td>없음</td>\n",
       "      <td>없음</td>\n",
       "      <td>없음</td>\n",
       "      <td>없음</td>\n",
       "      <td>없음</td>\n",
       "    </tr>\n",
       "    <tr>\n",
       "      <th>229</th>\n",
       "      <td>635</td>\n",
       "      <td>Never Be Lonely</td>\n",
       "      <td>Megan Levering</td>\n",
       "      <td>없음</td>\n",
       "      <td>없음</td>\n",
       "      <td>없음</td>\n",
       "      <td>없음</td>\n",
       "      <td>없음</td>\n",
       "      <td>없음</td>\n",
       "      <td>없음</td>\n",
       "      <td>없음</td>\n",
       "    </tr>\n",
       "    <tr>\n",
       "      <th>230</th>\n",
       "      <td>636</td>\n",
       "      <td>FLEXIBLE (Feat. T-Pain) (Remix)</td>\n",
       "      <td>Jordan McGraw</td>\n",
       "      <td>없음</td>\n",
       "      <td>없음</td>\n",
       "      <td>없음</td>\n",
       "      <td>없음</td>\n",
       "      <td>없음</td>\n",
       "      <td>없음</td>\n",
       "      <td>없음</td>\n",
       "      <td>없음</td>\n",
       "    </tr>\n",
       "    <tr>\n",
       "      <th>231</th>\n",
       "      <td>637</td>\n",
       "      <td>I Walk The Line</td>\n",
       "      <td>Halsey</td>\n",
       "      <td>없음</td>\n",
       "      <td>없음</td>\n",
       "      <td>없음</td>\n",
       "      <td>없음</td>\n",
       "      <td>없음</td>\n",
       "      <td>없음</td>\n",
       "      <td>없음</td>\n",
       "      <td>없음</td>\n",
       "    </tr>\n",
       "  </tbody>\n",
       "</table>\n",
       "<p>232 rows × 11 columns</p>\n",
       "</div>"
      ],
      "text/plain": [
       "     index                               노래              가수  \\\n",
       "0      406                           이별 앞으로            가을방학   \n",
       "1      407                    San Francisco            ADOY   \n",
       "2      408                            그렇습니까              흐른   \n",
       "3      409                              블루진          디어클라우드   \n",
       "4      410            겨울을 걷는다 (스튜디오 라이브 버전)             윤딴딴   \n",
       "..     ...                              ...             ...   \n",
       "227    633                  99 Red Balloons      Goldfinger   \n",
       "228    634                           Holla!     Mohamed Ali   \n",
       "229    635                  Never Be Lonely  Megan Levering   \n",
       "230    636  FLEXIBLE (Feat. T-Pain) (Remix)   Jordan McGraw   \n",
       "231    637                  I Walk The Line          Halsey   \n",
       "\n",
       "                                                   원가사   좋아요수 어제순위  \\\n",
       "0     웃어줄 수 있을 거야 거울 앞에서머리를 질끈 묶고운동화 끈을 묶고물은 충분히 미리...  8,021   없음   \n",
       "1     San Francisco all the colors look backSan Fra...  3,991   없음   \n",
       "2     눈을 보고 싶은데 니 손을 잡고 싶은데너의 어깨 입술을 만지고 싶은데얘길 하고 싶...  6,932   없음   \n",
       "3     바다 끝없이 푸른 빛을 향해 달리네모든걸 잊은 채로파도 속에선 무거웠던 맘이 씻겨...  3,343   없음   \n",
       "4     벌써 몇 달 짼가너 만난다는 그 사람 얘길 들었어아마 뭔 일이 있었나 저쨌나떠들어...  2,344   없음   \n",
       "..                                                 ...    ...  ...   \n",
       "227                                                 없음     없음   없음   \n",
       "228                                                 없음     없음   없음   \n",
       "229                                                 없음     없음   없음   \n",
       "230                                                 없음     없음   없음   \n",
       "231                                                 없음     없음   없음   \n",
       "\n",
       "                                                   댓글1  \\\n",
       "0                전 가을방학의 그 어떤 노래 중에도 이 노래만큼 슬픈게 없어요...   \n",
       "1                                    댓글이 없네요. 진짜 최곤데!!   \n",
       "2                                        여전히 시립다 이 노래는   \n",
       "3    따듯한 푸르름을 느끼게 해주셔서당신이 음악을 만들어 주는 사람이라서노래를 들으면 세...   \n",
       "4             이 버전도 따듯해서 좋다... 겨울에 난로 앞에다가 손 내밀고 있는 느낌   \n",
       "..                                                 ...   \n",
       "227                                                 없음   \n",
       "228                                                 없음   \n",
       "229                                                 없음   \n",
       "230                                                 없음   \n",
       "231                                                 없음   \n",
       "\n",
       "                                                   댓글2  \\\n",
       "0    헤어짐의 감정을 이토록 디테일하게 그와중에 예쁘게 그리다니 진짜 대단한 노래에요 ㅠ...   \n",
       "1                    샌프란시스코 가면 걷거나 드라이브 하면서 꼭 듣고 싶은 노래   \n",
       "2                                                  좋아요   \n",
       "3    목요일마다 인스타 라이브 잘 듣고 있어요. 첫 싱글앨범이지요? 그래도 꽉꽉 찬 느낌...   \n",
       "4                                                너무 좋다   \n",
       "..                                                 ...   \n",
       "227                                                 없음   \n",
       "228                                                 없음   \n",
       "229                                                 없음   \n",
       "230                                                 없음   \n",
       "231                                                 없음   \n",
       "\n",
       "                                                   댓글3  \\\n",
       "0                                      너 없이 수없이 살아야 하네   \n",
       "1                                             M83느낌 난다   \n",
       "2                                              정말..좋아요   \n",
       "3    숨가쁘게 스치는 상처들과 마주한 순간순간들 속에도 아이처럼 춤추는 자유로운 너의 오...   \n",
       "4                                               으아아아~~   \n",
       "..                                                 ...   \n",
       "227                                                 없음   \n",
       "228                                                 없음   \n",
       "229                                                 없음   \n",
       "230                                                 없음   \n",
       "231                                                 없음   \n",
       "\n",
       "                                                   댓글4  \\\n",
       "0    가사 속 주인공이 담담하게 이별을 준비하는 모습이 되게 울컥한 것 같아요 목소리도 ...   \n",
       "1                              미친.. 이런 노래를 도시에서 듣고다녀야지   \n",
       "2                 걷는 걸 좋아하는지영화를 좋아하는지어제 꿈은 어땠는지 알고 싶은데   \n",
       "3                                         와.. 진짜 너무 좋다   \n",
       "4                                        최고입니다! 사르르...   \n",
       "..                                                 ...   \n",
       "227                                                 없음   \n",
       "228                                                 없음   \n",
       "229                                                 없음   \n",
       "230                                                 없음   \n",
       "231                                                 없음   \n",
       "\n",
       "                                                   댓글5  \n",
       "0                       가사내용이랑 표현이 너무 예뻐서 더 미친듯이 슬퍼요..  \n",
       "1             샌프란시스코 골든 게이트 브릿지의 야경을 드라이브 하면서 듣고 싶은 노래  \n",
       "2                        2010년인가 고등학생 때 듣던 노랜데 여전히 좋네요  \n",
       "3    블루진....진짜 넘나 좋은 곡........푸른노래 올여름 즐겨들을께요. 고마워요...  \n",
       "4    이 노래를 들으며 편지를 쓰니딴딴형이 쓴 편지가 되어버렸네요 ㅋㅋ없었던 겨울에 힘들...  \n",
       "..                                                 ...  \n",
       "227                                                 없음  \n",
       "228                                                 없음  \n",
       "229                                                 없음  \n",
       "230                                                 없음  \n",
       "231                                                 없음  \n",
       "\n",
       "[232 rows x 11 columns]"
      ]
     },
     "execution_count": 11,
     "metadata": {},
     "output_type": "execute_result"
    }
   ],
   "source": [
    "a = crawled.dropna()\n",
    "a"
   ]
  },
  {
   "cell_type": "code",
   "execution_count": 12,
   "id": "76062a87",
   "metadata": {},
   "outputs": [
    {
     "data": {
      "text/html": [
       "<div>\n",
       "<style scoped>\n",
       "    .dataframe tbody tr th:only-of-type {\n",
       "        vertical-align: middle;\n",
       "    }\n",
       "\n",
       "    .dataframe tbody tr th {\n",
       "        vertical-align: top;\n",
       "    }\n",
       "\n",
       "    .dataframe thead th {\n",
       "        text-align: right;\n",
       "    }\n",
       "</style>\n",
       "<table border=\"1\" class=\"dataframe\">\n",
       "  <thead>\n",
       "    <tr style=\"text-align: right;\">\n",
       "      <th></th>\n",
       "      <th>노래</th>\n",
       "      <th>가수</th>\n",
       "      <th>원가사</th>\n",
       "      <th>좋아요수</th>\n",
       "      <th>어제순위</th>\n",
       "      <th>댓글1</th>\n",
       "      <th>댓글2</th>\n",
       "      <th>댓글3</th>\n",
       "      <th>댓글4</th>\n",
       "      <th>댓글5</th>\n",
       "    </tr>\n",
       "    <tr>\n",
       "      <th>index</th>\n",
       "      <th></th>\n",
       "      <th></th>\n",
       "      <th></th>\n",
       "      <th></th>\n",
       "      <th></th>\n",
       "      <th></th>\n",
       "      <th></th>\n",
       "      <th></th>\n",
       "      <th></th>\n",
       "      <th></th>\n",
       "    </tr>\n",
       "  </thead>\n",
       "  <tbody>\n",
       "    <tr>\n",
       "      <th>406</th>\n",
       "      <td>이별 앞으로</td>\n",
       "      <td>가을방학</td>\n",
       "      <td>웃어줄 수 있을 거야 거울 앞에서머리를 질끈 묶고운동화 끈을 묶고물은 충분히 미리...</td>\n",
       "      <td>8,021</td>\n",
       "      <td>없음</td>\n",
       "      <td>전 가을방학의 그 어떤 노래 중에도 이 노래만큼 슬픈게 없어요...</td>\n",
       "      <td>헤어짐의 감정을 이토록 디테일하게 그와중에 예쁘게 그리다니 진짜 대단한 노래에요 ㅠ...</td>\n",
       "      <td>너 없이 수없이 살아야 하네</td>\n",
       "      <td>가사 속 주인공이 담담하게 이별을 준비하는 모습이 되게 울컥한 것 같아요 목소리도 ...</td>\n",
       "      <td>가사내용이랑 표현이 너무 예뻐서 더 미친듯이 슬퍼요..</td>\n",
       "    </tr>\n",
       "    <tr>\n",
       "      <th>407</th>\n",
       "      <td>San Francisco</td>\n",
       "      <td>ADOY</td>\n",
       "      <td>San Francisco all the colors look backSan Fra...</td>\n",
       "      <td>3,991</td>\n",
       "      <td>없음</td>\n",
       "      <td>댓글이 없네요. 진짜 최곤데!!</td>\n",
       "      <td>샌프란시스코 가면 걷거나 드라이브 하면서 꼭 듣고 싶은 노래</td>\n",
       "      <td>M83느낌 난다</td>\n",
       "      <td>미친.. 이런 노래를 도시에서 듣고다녀야지</td>\n",
       "      <td>샌프란시스코 골든 게이트 브릿지의 야경을 드라이브 하면서 듣고 싶은 노래</td>\n",
       "    </tr>\n",
       "    <tr>\n",
       "      <th>408</th>\n",
       "      <td>그렇습니까</td>\n",
       "      <td>흐른</td>\n",
       "      <td>눈을 보고 싶은데 니 손을 잡고 싶은데너의 어깨 입술을 만지고 싶은데얘길 하고 싶...</td>\n",
       "      <td>6,932</td>\n",
       "      <td>없음</td>\n",
       "      <td>여전히 시립다 이 노래는</td>\n",
       "      <td>좋아요</td>\n",
       "      <td>정말..좋아요</td>\n",
       "      <td>걷는 걸 좋아하는지영화를 좋아하는지어제 꿈은 어땠는지 알고 싶은데</td>\n",
       "      <td>2010년인가 고등학생 때 듣던 노랜데 여전히 좋네요</td>\n",
       "    </tr>\n",
       "    <tr>\n",
       "      <th>409</th>\n",
       "      <td>블루진</td>\n",
       "      <td>디어클라우드</td>\n",
       "      <td>바다 끝없이 푸른 빛을 향해 달리네모든걸 잊은 채로파도 속에선 무거웠던 맘이 씻겨...</td>\n",
       "      <td>3,343</td>\n",
       "      <td>없음</td>\n",
       "      <td>따듯한 푸르름을 느끼게 해주셔서당신이 음악을 만들어 주는 사람이라서노래를 들으면 세...</td>\n",
       "      <td>목요일마다 인스타 라이브 잘 듣고 있어요. 첫 싱글앨범이지요? 그래도 꽉꽉 찬 느낌...</td>\n",
       "      <td>숨가쁘게 스치는 상처들과 마주한 순간순간들 속에도 아이처럼 춤추는 자유로운 너의 오...</td>\n",
       "      <td>와.. 진짜 너무 좋다</td>\n",
       "      <td>블루진....진짜 넘나 좋은 곡........푸른노래 올여름 즐겨들을께요. 고마워요...</td>\n",
       "    </tr>\n",
       "    <tr>\n",
       "      <th>410</th>\n",
       "      <td>겨울을 걷는다 (스튜디오 라이브 버전)</td>\n",
       "      <td>윤딴딴</td>\n",
       "      <td>벌써 몇 달 짼가너 만난다는 그 사람 얘길 들었어아마 뭔 일이 있었나 저쨌나떠들어...</td>\n",
       "      <td>2,344</td>\n",
       "      <td>없음</td>\n",
       "      <td>이 버전도 따듯해서 좋다... 겨울에 난로 앞에다가 손 내밀고 있는 느낌</td>\n",
       "      <td>너무 좋다</td>\n",
       "      <td>으아아아~~</td>\n",
       "      <td>최고입니다! 사르르...</td>\n",
       "      <td>이 노래를 들으며 편지를 쓰니딴딴형이 쓴 편지가 되어버렸네요 ㅋㅋ없었던 겨울에 힘들...</td>\n",
       "    </tr>\n",
       "    <tr>\n",
       "      <th>...</th>\n",
       "      <td>...</td>\n",
       "      <td>...</td>\n",
       "      <td>...</td>\n",
       "      <td>...</td>\n",
       "      <td>...</td>\n",
       "      <td>...</td>\n",
       "      <td>...</td>\n",
       "      <td>...</td>\n",
       "      <td>...</td>\n",
       "      <td>...</td>\n",
       "    </tr>\n",
       "    <tr>\n",
       "      <th>633</th>\n",
       "      <td>99 Red Balloons</td>\n",
       "      <td>Goldfinger</td>\n",
       "      <td>없음</td>\n",
       "      <td>없음</td>\n",
       "      <td>없음</td>\n",
       "      <td>없음</td>\n",
       "      <td>없음</td>\n",
       "      <td>없음</td>\n",
       "      <td>없음</td>\n",
       "      <td>없음</td>\n",
       "    </tr>\n",
       "    <tr>\n",
       "      <th>634</th>\n",
       "      <td>Holla!</td>\n",
       "      <td>Mohamed Ali</td>\n",
       "      <td>없음</td>\n",
       "      <td>없음</td>\n",
       "      <td>없음</td>\n",
       "      <td>없음</td>\n",
       "      <td>없음</td>\n",
       "      <td>없음</td>\n",
       "      <td>없음</td>\n",
       "      <td>없음</td>\n",
       "    </tr>\n",
       "    <tr>\n",
       "      <th>635</th>\n",
       "      <td>Never Be Lonely</td>\n",
       "      <td>Megan Levering</td>\n",
       "      <td>없음</td>\n",
       "      <td>없음</td>\n",
       "      <td>없음</td>\n",
       "      <td>없음</td>\n",
       "      <td>없음</td>\n",
       "      <td>없음</td>\n",
       "      <td>없음</td>\n",
       "      <td>없음</td>\n",
       "    </tr>\n",
       "    <tr>\n",
       "      <th>636</th>\n",
       "      <td>FLEXIBLE (Feat. T-Pain) (Remix)</td>\n",
       "      <td>Jordan McGraw</td>\n",
       "      <td>없음</td>\n",
       "      <td>없음</td>\n",
       "      <td>없음</td>\n",
       "      <td>없음</td>\n",
       "      <td>없음</td>\n",
       "      <td>없음</td>\n",
       "      <td>없음</td>\n",
       "      <td>없음</td>\n",
       "    </tr>\n",
       "    <tr>\n",
       "      <th>637</th>\n",
       "      <td>I Walk The Line</td>\n",
       "      <td>Halsey</td>\n",
       "      <td>없음</td>\n",
       "      <td>없음</td>\n",
       "      <td>없음</td>\n",
       "      <td>없음</td>\n",
       "      <td>없음</td>\n",
       "      <td>없음</td>\n",
       "      <td>없음</td>\n",
       "      <td>없음</td>\n",
       "    </tr>\n",
       "  </tbody>\n",
       "</table>\n",
       "<p>232 rows × 10 columns</p>\n",
       "</div>"
      ],
      "text/plain": [
       "                                    노래              가수  \\\n",
       "index                                                    \n",
       "406                             이별 앞으로            가을방학   \n",
       "407                      San Francisco            ADOY   \n",
       "408                              그렇습니까              흐른   \n",
       "409                                블루진          디어클라우드   \n",
       "410              겨울을 걷는다 (스튜디오 라이브 버전)             윤딴딴   \n",
       "...                                ...             ...   \n",
       "633                    99 Red Balloons      Goldfinger   \n",
       "634                             Holla!     Mohamed Ali   \n",
       "635                    Never Be Lonely  Megan Levering   \n",
       "636    FLEXIBLE (Feat. T-Pain) (Remix)   Jordan McGraw   \n",
       "637                    I Walk The Line          Halsey   \n",
       "\n",
       "                                                     원가사   좋아요수 어제순위  \\\n",
       "index                                                                  \n",
       "406     웃어줄 수 있을 거야 거울 앞에서머리를 질끈 묶고운동화 끈을 묶고물은 충분히 미리...  8,021   없음   \n",
       "407     San Francisco all the colors look backSan Fra...  3,991   없음   \n",
       "408     눈을 보고 싶은데 니 손을 잡고 싶은데너의 어깨 입술을 만지고 싶은데얘길 하고 싶...  6,932   없음   \n",
       "409     바다 끝없이 푸른 빛을 향해 달리네모든걸 잊은 채로파도 속에선 무거웠던 맘이 씻겨...  3,343   없음   \n",
       "410     벌써 몇 달 짼가너 만난다는 그 사람 얘길 들었어아마 뭔 일이 있었나 저쨌나떠들어...  2,344   없음   \n",
       "...                                                  ...    ...  ...   \n",
       "633                                                   없음     없음   없음   \n",
       "634                                                   없음     없음   없음   \n",
       "635                                                   없음     없음   없음   \n",
       "636                                                   없음     없음   없음   \n",
       "637                                                   없음     없음   없음   \n",
       "\n",
       "                                                     댓글1  \\\n",
       "index                                                      \n",
       "406                전 가을방학의 그 어떤 노래 중에도 이 노래만큼 슬픈게 없어요...   \n",
       "407                                    댓글이 없네요. 진짜 최곤데!!   \n",
       "408                                        여전히 시립다 이 노래는   \n",
       "409    따듯한 푸르름을 느끼게 해주셔서당신이 음악을 만들어 주는 사람이라서노래를 들으면 세...   \n",
       "410             이 버전도 따듯해서 좋다... 겨울에 난로 앞에다가 손 내밀고 있는 느낌   \n",
       "...                                                  ...   \n",
       "633                                                   없음   \n",
       "634                                                   없음   \n",
       "635                                                   없음   \n",
       "636                                                   없음   \n",
       "637                                                   없음   \n",
       "\n",
       "                                                     댓글2  \\\n",
       "index                                                      \n",
       "406    헤어짐의 감정을 이토록 디테일하게 그와중에 예쁘게 그리다니 진짜 대단한 노래에요 ㅠ...   \n",
       "407                    샌프란시스코 가면 걷거나 드라이브 하면서 꼭 듣고 싶은 노래   \n",
       "408                                                  좋아요   \n",
       "409    목요일마다 인스타 라이브 잘 듣고 있어요. 첫 싱글앨범이지요? 그래도 꽉꽉 찬 느낌...   \n",
       "410                                                너무 좋다   \n",
       "...                                                  ...   \n",
       "633                                                   없음   \n",
       "634                                                   없음   \n",
       "635                                                   없음   \n",
       "636                                                   없음   \n",
       "637                                                   없음   \n",
       "\n",
       "                                                     댓글3  \\\n",
       "index                                                      \n",
       "406                                      너 없이 수없이 살아야 하네   \n",
       "407                                             M83느낌 난다   \n",
       "408                                              정말..좋아요   \n",
       "409    숨가쁘게 스치는 상처들과 마주한 순간순간들 속에도 아이처럼 춤추는 자유로운 너의 오...   \n",
       "410                                               으아아아~~   \n",
       "...                                                  ...   \n",
       "633                                                   없음   \n",
       "634                                                   없음   \n",
       "635                                                   없음   \n",
       "636                                                   없음   \n",
       "637                                                   없음   \n",
       "\n",
       "                                                     댓글4  \\\n",
       "index                                                      \n",
       "406    가사 속 주인공이 담담하게 이별을 준비하는 모습이 되게 울컥한 것 같아요 목소리도 ...   \n",
       "407                              미친.. 이런 노래를 도시에서 듣고다녀야지   \n",
       "408                 걷는 걸 좋아하는지영화를 좋아하는지어제 꿈은 어땠는지 알고 싶은데   \n",
       "409                                         와.. 진짜 너무 좋다   \n",
       "410                                        최고입니다! 사르르...   \n",
       "...                                                  ...   \n",
       "633                                                   없음   \n",
       "634                                                   없음   \n",
       "635                                                   없음   \n",
       "636                                                   없음   \n",
       "637                                                   없음   \n",
       "\n",
       "                                                     댓글5  \n",
       "index                                                     \n",
       "406                       가사내용이랑 표현이 너무 예뻐서 더 미친듯이 슬퍼요..  \n",
       "407             샌프란시스코 골든 게이트 브릿지의 야경을 드라이브 하면서 듣고 싶은 노래  \n",
       "408                        2010년인가 고등학생 때 듣던 노랜데 여전히 좋네요  \n",
       "409    블루진....진짜 넘나 좋은 곡........푸른노래 올여름 즐겨들을께요. 고마워요...  \n",
       "410    이 노래를 들으며 편지를 쓰니딴딴형이 쓴 편지가 되어버렸네요 ㅋㅋ없었던 겨울에 힘들...  \n",
       "...                                                  ...  \n",
       "633                                                   없음  \n",
       "634                                                   없음  \n",
       "635                                                   없음  \n",
       "636                                                   없음  \n",
       "637                                                   없음  \n",
       "\n",
       "[232 rows x 10 columns]"
      ]
     },
     "execution_count": 12,
     "metadata": {},
     "output_type": "execute_result"
    }
   ],
   "source": [
    "a.set_index('index', inplace=True)\n",
    "a"
   ]
  },
  {
   "cell_type": "code",
   "execution_count": 13,
   "id": "c8c791cb",
   "metadata": {},
   "outputs": [],
   "source": [
    "a.to_csv('가사/1차_melon/melon_3.csv', encoding='utf-8-sig')"
   ]
  },
  {
   "cell_type": "code",
   "execution_count": 15,
   "id": "ab809e6a",
   "metadata": {},
   "outputs": [],
   "source": [
    "driver.quit()"
   ]
  },
  {
   "cell_type": "code",
   "execution_count": null,
   "id": "bb125ab4",
   "metadata": {},
   "outputs": [],
   "source": []
  }
 ],
 "metadata": {
  "kernelspec": {
   "display_name": "Python 3 (ipykernel)",
   "language": "python",
   "name": "python3"
  },
  "language_info": {
   "codemirror_mode": {
    "name": "ipython",
    "version": 3
   },
   "file_extension": ".py",
   "mimetype": "text/x-python",
   "name": "python",
   "nbconvert_exporter": "python",
   "pygments_lexer": "ipython3",
   "version": "3.9.4"
  }
 },
 "nbformat": 4,
 "nbformat_minor": 5
}
