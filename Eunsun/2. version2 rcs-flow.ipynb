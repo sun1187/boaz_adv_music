{
 "cells": [
  {
   "cell_type": "code",
   "execution_count": 1,
   "id": "d278b932",
   "metadata": {},
   "outputs": [],
   "source": [
    "import pandas as pd\n",
    "import numpy as np\n",
    "import warnings\n",
    "warnings.filterwarnings('ignore')\n"
   ]
  },
  {
   "cell_type": "code",
   "execution_count": 4,
   "id": "dd9a38a3",
   "metadata": {},
   "outputs": [
    {
     "data": {
      "text/html": [
       "<div>\n",
       "<style scoped>\n",
       "    .dataframe tbody tr th:only-of-type {\n",
       "        vertical-align: middle;\n",
       "    }\n",
       "\n",
       "    .dataframe tbody tr th {\n",
       "        vertical-align: top;\n",
       "    }\n",
       "\n",
       "    .dataframe thead th {\n",
       "        text-align: right;\n",
       "    }\n",
       "</style>\n",
       "<table border=\"1\" class=\"dataframe\">\n",
       "  <thead>\n",
       "    <tr style=\"text-align: right;\">\n",
       "      <th></th>\n",
       "      <th>song id</th>\n",
       "      <th>곡 제목</th>\n",
       "      <th>가수</th>\n",
       "      <th>tag count</th>\n",
       "      <th>tag max</th>\n",
       "      <th>emotion max</th>\n",
       "      <th>곡 세부 장르 리스트</th>\n",
       "      <th>발매일</th>\n",
       "      <th>앨범 명</th>\n",
       "      <th>앨범 ID</th>\n",
       "      <th>...</th>\n",
       "      <th>좋아요수</th>\n",
       "      <th>어제순위</th>\n",
       "      <th>댓글1</th>\n",
       "      <th>댓글2</th>\n",
       "      <th>댓글3</th>\n",
       "      <th>댓글4</th>\n",
       "      <th>댓글5</th>\n",
       "      <th>1차 가공</th>\n",
       "      <th>2차 가공</th>\n",
       "      <th>3차 가공</th>\n",
       "    </tr>\n",
       "  </thead>\n",
       "  <tbody>\n",
       "    <tr>\n",
       "      <th>0</th>\n",
       "      <td>1890</td>\n",
       "      <td>모든게 지나면</td>\n",
       "      <td>화랑</td>\n",
       "      <td>{'뮤지컬': 1, '사랑': 1}</td>\n",
       "      <td>['뮤지컬', '사랑']</td>\n",
       "      <td>['경쾌한', '행복한']</td>\n",
       "      <td>['GN2902', 'GN1501', 'GN1507', 'GN2901']</td>\n",
       "      <td>20110621</td>\n",
       "      <td>뮤지컬 화랑 OST Vol.2</td>\n",
       "      <td>1315555</td>\n",
       "      <td>...</td>\n",
       "      <td>25</td>\n",
       "      <td>없음</td>\n",
       "      <td>없음</td>\n",
       "      <td>없음</td>\n",
       "      <td>없음</td>\n",
       "      <td>없음</td>\n",
       "      <td>없음</td>\n",
       "      <td>이 모든 것이 다 지나가고 또 시간이 흐르고 나면 그때는 모든 게 아무것도 아닌 일...</td>\n",
       "      <td>이 모든 것이 다 지나가고 또 시간이 흐르고 나면 그때는 모든 게 아무것도 아닌 일...</td>\n",
       "      <td>['이', '모든', '것', '다', '지나가다', '또', '시간', '흐르다'...</td>\n",
       "    </tr>\n",
       "    <tr>\n",
       "      <th>1</th>\n",
       "      <td>2491</td>\n",
       "      <td>You Brought A New Kind Of Love To Me</td>\n",
       "      <td>Ella Fitzgerald</td>\n",
       "      <td>{'연말': 1, '새해': 1}</td>\n",
       "      <td>['연말', '새해']</td>\n",
       "      <td>['행복한']</td>\n",
       "      <td>['GN1701']</td>\n",
       "      <td>20180817</td>\n",
       "      <td>Ella Swings Lightly (Expanded Edition)</td>\n",
       "      <td>5644325</td>\n",
       "      <td>...</td>\n",
       "      <td>1</td>\n",
       "      <td>없음</td>\n",
       "      <td>없음</td>\n",
       "      <td>없음</td>\n",
       "      <td>없음</td>\n",
       "      <td>없음</td>\n",
       "      <td>없음</td>\n",
       "      <td>없음</td>\n",
       "      <td>없음</td>\n",
       "      <td>['없다']</td>\n",
       "    </tr>\n",
       "  </tbody>\n",
       "</table>\n",
       "<p>2 rows × 35 columns</p>\n",
       "</div>"
      ],
      "text/plain": [
       "   song id                                  곡 제목               가수  \\\n",
       "0     1890                               모든게 지나면               화랑   \n",
       "1     2491  You Brought A New Kind Of Love To Me  Ella Fitzgerald   \n",
       "\n",
       "             tag count        tag max     emotion max  \\\n",
       "0  {'뮤지컬': 1, '사랑': 1}  ['뮤지컬', '사랑']  ['경쾌한', '행복한']   \n",
       "1   {'연말': 1, '새해': 1}   ['연말', '새해']         ['행복한']   \n",
       "\n",
       "                                곡 세부 장르 리스트       발매일  \\\n",
       "0  ['GN2902', 'GN1501', 'GN1507', 'GN2901']  20110621   \n",
       "1                                ['GN1701']  20180817   \n",
       "\n",
       "                                     앨범 명    앨범 ID  ... 좋아요수 어제순위 댓글1 댓글2 댓글3  \\\n",
       "0                        뮤지컬 화랑 OST Vol.2  1315555  ...   25   없음  없음  없음  없음   \n",
       "1  Ella Swings Lightly (Expanded Edition)  5644325  ...    1   없음  없음  없음  없음   \n",
       "\n",
       "  댓글4  댓글5                                              1차 가공  \\\n",
       "0  없음   없음  이 모든 것이 다 지나가고 또 시간이 흐르고 나면 그때는 모든 게 아무것도 아닌 일...   \n",
       "1  없음   없음                                                 없음   \n",
       "\n",
       "                                               2차 가공  \\\n",
       "0  이 모든 것이 다 지나가고 또 시간이 흐르고 나면 그때는 모든 게 아무것도 아닌 일...   \n",
       "1                                                 없음   \n",
       "\n",
       "                                               3차 가공  \n",
       "0  ['이', '모든', '것', '다', '지나가다', '또', '시간', '흐르다'...  \n",
       "1                                             ['없다']  \n",
       "\n",
       "[2 rows x 35 columns]"
      ]
     },
     "execution_count": 4,
     "metadata": {},
     "output_type": "execute_result"
    }
   ],
   "source": [
    "song_all_info = pd.read_csv('../Data/selected_song_all_info.csv')\n",
    "song_all_info.head(2)\n"
   ]
  },
  {
   "cell_type": "code",
   "execution_count": 5,
   "id": "d10c8d8e",
   "metadata": {},
   "outputs": [
    {
     "data": {
      "text/plain": [
       "Index(['song id', '곡 제목', '가수', 'tag count', 'tag max', 'emotion max',\n",
       "       '곡 세부 장르 리스트', '발매일', '앨범 명', '앨범 ID', '아티스트 ID 리스트', '곡 장르 리스트',\n",
       "       '아티스트 리스트', '대분류str', '소분류str', 'tags', '우울한', '울고싶은', '긴장되는', '무서운',\n",
       "       '잔잔한', '행복한', '경쾌한', '편안한', '원가사', '좋아요수', '어제순위', '댓글1', '댓글2', '댓글3',\n",
       "       '댓글4', '댓글5', '1차 가공', '2차 가공', '3차 가공'],\n",
       "      dtype='object')"
      ]
     },
     "execution_count": 5,
     "metadata": {},
     "output_type": "execute_result"
    }
   ],
   "source": [
    "song_all_info.columns\n"
   ]
  },
  {
   "cell_type": "code",
   "execution_count": 6,
   "id": "3ad717ef",
   "metadata": {},
   "outputs": [
    {
     "data": {
      "text/plain": [
       "0           25\n",
       "1            1\n",
       "2       11,663\n",
       "3           없음\n",
       "4           77\n",
       "         ...  \n",
       "1072       111\n",
       "1073       904\n",
       "1074       207\n",
       "1075     2,082\n",
       "1076         0\n",
       "Name: 좋아요수, Length: 1077, dtype: object"
      ]
     },
     "execution_count": 6,
     "metadata": {},
     "output_type": "execute_result"
    }
   ],
   "source": []
  },
  {
   "cell_type": "code",
   "execution_count": null,
   "id": "88f12cd3",
   "metadata": {},
   "outputs": [],
   "source": []
  }
 ],
 "metadata": {
  "kernelspec": {
   "display_name": "Python 3 (ipykernel)",
   "language": "python",
   "name": "python3"
  },
  "language_info": {
   "codemirror_mode": {
    "name": "ipython",
    "version": 3
   },
   "file_extension": ".py",
   "mimetype": "text/x-python",
   "name": "python",
   "nbconvert_exporter": "python",
   "pygments_lexer": "ipython3",
   "version": "3.9.4"
  }
 },
 "nbformat": 4,
 "nbformat_minor": 5
}
