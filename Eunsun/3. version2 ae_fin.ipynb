{
 "cells": [
  {
   "cell_type": "code",
   "execution_count": 1,
   "id": "cbf12a92",
   "metadata": {},
   "outputs": [],
   "source": [
    "import pandas as pd\n",
    "import numpy as np\n",
    "import warnings\n",
    "warnings.filterwarnings('ignore')\n"
   ]
  },
  {
   "cell_type": "code",
   "execution_count": 155,
   "id": "57349b8e",
   "metadata": {},
   "outputs": [
    {
     "data": {
      "text/html": [
       "<div>\n",
       "<style scoped>\n",
       "    .dataframe tbody tr th:only-of-type {\n",
       "        vertical-align: middle;\n",
       "    }\n",
       "\n",
       "    .dataframe tbody tr th {\n",
       "        vertical-align: top;\n",
       "    }\n",
       "\n",
       "    .dataframe thead th {\n",
       "        text-align: right;\n",
       "    }\n",
       "</style>\n",
       "<table border=\"1\" class=\"dataframe\">\n",
       "  <thead>\n",
       "    <tr style=\"text-align: right;\">\n",
       "      <th></th>\n",
       "      <th>song id</th>\n",
       "      <th>곡 제목</th>\n",
       "      <th>가수</th>\n",
       "      <th>tag count</th>\n",
       "      <th>tag max</th>\n",
       "      <th>emotion max</th>\n",
       "      <th>곡 세부 장르 리스트</th>\n",
       "      <th>발매일</th>\n",
       "      <th>앨범 명</th>\n",
       "      <th>앨범 ID</th>\n",
       "      <th>...</th>\n",
       "      <th>좋아요수</th>\n",
       "      <th>어제순위</th>\n",
       "      <th>댓글1</th>\n",
       "      <th>댓글2</th>\n",
       "      <th>댓글3</th>\n",
       "      <th>댓글4</th>\n",
       "      <th>댓글5</th>\n",
       "      <th>1차 가공</th>\n",
       "      <th>2차 가공</th>\n",
       "      <th>3차 가공</th>\n",
       "    </tr>\n",
       "  </thead>\n",
       "  <tbody>\n",
       "    <tr>\n",
       "      <th>0</th>\n",
       "      <td>1890</td>\n",
       "      <td>모든게 지나면</td>\n",
       "      <td>화랑</td>\n",
       "      <td>{'뮤지컬': 1, '사랑': 1}</td>\n",
       "      <td>['뮤지컬', '사랑']</td>\n",
       "      <td>['경쾌한', '행복한']</td>\n",
       "      <td>['GN2902', 'GN1501', 'GN1507', 'GN2901']</td>\n",
       "      <td>20110621</td>\n",
       "      <td>뮤지컬 화랑 OST Vol.2</td>\n",
       "      <td>1315555</td>\n",
       "      <td>...</td>\n",
       "      <td>25</td>\n",
       "      <td>없음</td>\n",
       "      <td>없음</td>\n",
       "      <td>없음</td>\n",
       "      <td>없음</td>\n",
       "      <td>없음</td>\n",
       "      <td>없음</td>\n",
       "      <td>이 모든 것이 다 지나가고 또 시간이 흐르고 나면 그때는 모든 게 아무것도 아닌 일...</td>\n",
       "      <td>이 모든 것이 다 지나가고 또 시간이 흐르고 나면 그때는 모든 게 아무것도 아닌 일...</td>\n",
       "      <td>['이', '모든', '것', '다', '지나가다', '또', '시간', '흐르다'...</td>\n",
       "    </tr>\n",
       "    <tr>\n",
       "      <th>1</th>\n",
       "      <td>2491</td>\n",
       "      <td>You Brought A New Kind Of Love To Me</td>\n",
       "      <td>Ella Fitzgerald</td>\n",
       "      <td>{'연말': 1, '새해': 1}</td>\n",
       "      <td>['연말', '새해']</td>\n",
       "      <td>['행복한']</td>\n",
       "      <td>['GN1701']</td>\n",
       "      <td>20180817</td>\n",
       "      <td>Ella Swings Lightly (Expanded Edition)</td>\n",
       "      <td>5644325</td>\n",
       "      <td>...</td>\n",
       "      <td>1</td>\n",
       "      <td>없음</td>\n",
       "      <td>없음</td>\n",
       "      <td>없음</td>\n",
       "      <td>없음</td>\n",
       "      <td>없음</td>\n",
       "      <td>없음</td>\n",
       "      <td>없음</td>\n",
       "      <td>없음</td>\n",
       "      <td>['없다']</td>\n",
       "    </tr>\n",
       "  </tbody>\n",
       "</table>\n",
       "<p>2 rows × 35 columns</p>\n",
       "</div>"
      ],
      "text/plain": [
       "   song id                                  곡 제목               가수  \\\n",
       "0     1890                               모든게 지나면               화랑   \n",
       "1     2491  You Brought A New Kind Of Love To Me  Ella Fitzgerald   \n",
       "\n",
       "             tag count        tag max     emotion max  \\\n",
       "0  {'뮤지컬': 1, '사랑': 1}  ['뮤지컬', '사랑']  ['경쾌한', '행복한']   \n",
       "1   {'연말': 1, '새해': 1}   ['연말', '새해']         ['행복한']   \n",
       "\n",
       "                                곡 세부 장르 리스트       발매일  \\\n",
       "0  ['GN2902', 'GN1501', 'GN1507', 'GN2901']  20110621   \n",
       "1                                ['GN1701']  20180817   \n",
       "\n",
       "                                     앨범 명    앨범 ID  ... 좋아요수 어제순위 댓글1 댓글2 댓글3  \\\n",
       "0                        뮤지컬 화랑 OST Vol.2  1315555  ...   25   없음  없음  없음  없음   \n",
       "1  Ella Swings Lightly (Expanded Edition)  5644325  ...    1   없음  없음  없음  없음   \n",
       "\n",
       "  댓글4  댓글5                                              1차 가공  \\\n",
       "0  없음   없음  이 모든 것이 다 지나가고 또 시간이 흐르고 나면 그때는 모든 게 아무것도 아닌 일...   \n",
       "1  없음   없음                                                 없음   \n",
       "\n",
       "                                               2차 가공  \\\n",
       "0  이 모든 것이 다 지나가고 또 시간이 흐르고 나면 그때는 모든 게 아무것도 아닌 일...   \n",
       "1                                                 없음   \n",
       "\n",
       "                                               3차 가공  \n",
       "0  ['이', '모든', '것', '다', '지나가다', '또', '시간', '흐르다'...  \n",
       "1                                             ['없다']  \n",
       "\n",
       "[2 rows x 35 columns]"
      ]
     },
     "execution_count": 155,
     "metadata": {},
     "output_type": "execute_result"
    }
   ],
   "source": [
    "song_all_info = pd.read_csv('../Data/selected_song_all_info.csv')\n",
    "song_all_info.head(2)"
   ]
  },
  {
   "cell_type": "code",
   "execution_count": 3,
   "id": "7de17500",
   "metadata": {},
   "outputs": [],
   "source": [
    "song_all_info_lyrics = song_all_info[song_all_info['2차 가공'] != '없음']"
   ]
  },
  {
   "cell_type": "code",
   "execution_count": 4,
   "id": "919c3608",
   "metadata": {},
   "outputs": [
    {
     "data": {
      "text/plain": [
       "(704, 35)"
      ]
     },
     "execution_count": 4,
     "metadata": {},
     "output_type": "execute_result"
    }
   ],
   "source": [
    "song_all_info_lyrics.shape"
   ]
  },
  {
   "cell_type": "code",
   "execution_count": 61,
   "id": "cdef81f6",
   "metadata": {},
   "outputs": [],
   "source": [
    "#song_all_info_lyrics['emotion max']"
   ]
  },
  {
   "cell_type": "code",
   "execution_count": 67,
   "id": "5c808dfe",
   "metadata": {},
   "outputs": [
    {
     "data": {
      "text/html": [
       "<div>\n",
       "<style scoped>\n",
       "    .dataframe tbody tr th:only-of-type {\n",
       "        vertical-align: middle;\n",
       "    }\n",
       "\n",
       "    .dataframe tbody tr th {\n",
       "        vertical-align: top;\n",
       "    }\n",
       "\n",
       "    .dataframe thead th {\n",
       "        text-align: right;\n",
       "    }\n",
       "</style>\n",
       "<table border=\"1\" class=\"dataframe\">\n",
       "  <thead>\n",
       "    <tr style=\"text-align: right;\">\n",
       "      <th></th>\n",
       "      <th>2차 가공</th>\n",
       "      <th>곡 제목</th>\n",
       "      <th>가수</th>\n",
       "      <th>tag max</th>\n",
       "      <th>emotion max</th>\n",
       "    </tr>\n",
       "  </thead>\n",
       "  <tbody>\n",
       "    <tr>\n",
       "      <th>0</th>\n",
       "      <td>이 모든 것이 다 지나가고 또 시간이 흐르고 나면 그때는 모든 게 아무것도 아닌 일...</td>\n",
       "      <td>모든게 지나면</td>\n",
       "      <td>화랑</td>\n",
       "      <td>['뮤지컬', '사랑']</td>\n",
       "      <td>['경쾌한', '행복한']</td>\n",
       "    </tr>\n",
       "    <tr>\n",
       "      <th>2</th>\n",
       "      <td>아직 열어보지 말아요 호기심이 생겨도 떨어트리 지도 말아요 그럼 나는 깨져버릴 테니...</td>\n",
       "      <td>마음 (*취급주의)</td>\n",
       "      <td>러블리즈</td>\n",
       "      <td>['사랑']</td>\n",
       "      <td>['행복한']</td>\n",
       "    </tr>\n",
       "    <tr>\n",
       "      <th>4</th>\n",
       "      <td>너를 맘에 담고 나는 눈을 감고 우리의 추억을 떠올리며 살아 항상 행복했던 우리 기...</td>\n",
       "      <td>두달 뒤 부르는 노래</td>\n",
       "      <td>플라워디어 (Flour Deer)</td>\n",
       "      <td>['비오는날', '비', '슬픈', '집중', '여유', '카페', '새벽', '주...</td>\n",
       "      <td>['우울한']</td>\n",
       "    </tr>\n",
       "    <tr>\n",
       "      <th>5</th>\n",
       "      <td>흰 꽃은 밤에 아름답단 이유를 내게도 가르쳐줄 순 없소 이대로 날 잡아둘 뿐인지 흰...</td>\n",
       "      <td>비밀</td>\n",
       "      <td>캐스커</td>\n",
       "      <td>['이별']</td>\n",
       "      <td>['우울한']</td>\n",
       "    </tr>\n",
       "    <tr>\n",
       "      <th>6</th>\n",
       "      <td>나 기도할게 저 하늘에도 그대가 나의 기억 간직하도록 널 위해 불러 주었던 그 노래...</td>\n",
       "      <td>약속</td>\n",
       "      <td>KYT (코요태)</td>\n",
       "      <td>['추억', '회상']</td>\n",
       "      <td>['행복한', '잔잔한']</td>\n",
       "    </tr>\n",
       "    <tr>\n",
       "      <th>...</th>\n",
       "      <td>...</td>\n",
       "      <td>...</td>\n",
       "      <td>...</td>\n",
       "      <td>...</td>\n",
       "      <td>...</td>\n",
       "    </tr>\n",
       "    <tr>\n",
       "      <th>1068</th>\n",
       "      <td>거짓말하고 당신의 걱정이 내려오지 않아서 너무 어리 석지 마십시오 나는 처음으로 미...</td>\n",
       "      <td>Brave</td>\n",
       "      <td>The Shires</td>\n",
       "      <td>['새벽', '추억', '밤', '회상']</td>\n",
       "      <td>['우울한', '행복한', '무서운', '잔잔한']</td>\n",
       "    </tr>\n",
       "    <tr>\n",
       "      <th>1071</th>\n",
       "      <td>홀로 카페의 문을 열어 본다 쓰디쓴 커피 한잔 시켜 본 다다 읽지 못할 책을 꺼내고...</td>\n",
       "      <td>허세가 (虛勢歌)</td>\n",
       "      <td>주윤하</td>\n",
       "      <td>['휴식', '봄']</td>\n",
       "      <td>['잔잔한', '행복한']</td>\n",
       "    </tr>\n",
       "    <tr>\n",
       "      <th>1072</th>\n",
       "      <td>Oh shit 너무나도 너무나도 두리 뚱뚱한 너네 엄마 아무 잘못 없는 내가 뭐가 ...</td>\n",
       "      <td>로얄패밀리 (Feat. Kirk, 김우근)</td>\n",
       "      <td>싸이 (PSY)</td>\n",
       "      <td>['기분전환']</td>\n",
       "      <td>['행복한']</td>\n",
       "    </tr>\n",
       "    <tr>\n",
       "      <th>1073</th>\n",
       "      <td>네가 어떤 대학을 나왔는지 어떤 집안인지도 관심이 없어온 그렇게 자랑스러우면 얼굴에...</td>\n",
       "      <td>왕자님</td>\n",
       "      <td>야광토끼 (Neon Bunny)</td>\n",
       "      <td>['기분전환']</td>\n",
       "      <td>['행복한']</td>\n",
       "    </tr>\n",
       "    <tr>\n",
       "      <th>1075</th>\n",
       "      <td>방금 L에서 검은 페라리 하우스를 샀다 나는 기억을 돌볼 것이라고 말할 것이지만 나...</td>\n",
       "      <td>Instagram (feat. Afro Bros, Natti Natasha)</td>\n",
       "      <td>Dimitri Vegas &amp; Like Mike, David Guetta, Daddy...</td>\n",
       "      <td>['신나는']</td>\n",
       "      <td>['행복한']</td>\n",
       "    </tr>\n",
       "  </tbody>\n",
       "</table>\n",
       "<p>704 rows × 5 columns</p>\n",
       "</div>"
      ],
      "text/plain": [
       "                                                  2차 가공  \\\n",
       "0     이 모든 것이 다 지나가고 또 시간이 흐르고 나면 그때는 모든 게 아무것도 아닌 일...   \n",
       "2     아직 열어보지 말아요 호기심이 생겨도 떨어트리 지도 말아요 그럼 나는 깨져버릴 테니...   \n",
       "4     너를 맘에 담고 나는 눈을 감고 우리의 추억을 떠올리며 살아 항상 행복했던 우리 기...   \n",
       "5     흰 꽃은 밤에 아름답단 이유를 내게도 가르쳐줄 순 없소 이대로 날 잡아둘 뿐인지 흰...   \n",
       "6     나 기도할게 저 하늘에도 그대가 나의 기억 간직하도록 널 위해 불러 주었던 그 노래...   \n",
       "...                                                 ...   \n",
       "1068  거짓말하고 당신의 걱정이 내려오지 않아서 너무 어리 석지 마십시오 나는 처음으로 미...   \n",
       "1071  홀로 카페의 문을 열어 본다 쓰디쓴 커피 한잔 시켜 본 다다 읽지 못할 책을 꺼내고...   \n",
       "1072  Oh shit 너무나도 너무나도 두리 뚱뚱한 너네 엄마 아무 잘못 없는 내가 뭐가 ...   \n",
       "1073  네가 어떤 대학을 나왔는지 어떤 집안인지도 관심이 없어온 그렇게 자랑스러우면 얼굴에...   \n",
       "1075  방금 L에서 검은 페라리 하우스를 샀다 나는 기억을 돌볼 것이라고 말할 것이지만 나...   \n",
       "\n",
       "                                            곡 제목  \\\n",
       "0                                        모든게 지나면   \n",
       "2                                     마음 (*취급주의)   \n",
       "4                                    두달 뒤 부르는 노래   \n",
       "5                                             비밀   \n",
       "6                                             약속   \n",
       "...                                          ...   \n",
       "1068                                       Brave   \n",
       "1071                                   허세가 (虛勢歌)   \n",
       "1072                     로얄패밀리 (Feat. Kirk, 김우근)   \n",
       "1073                                         왕자님   \n",
       "1075  Instagram (feat. Afro Bros, Natti Natasha)   \n",
       "\n",
       "                                                     가수  \\\n",
       "0                                                    화랑   \n",
       "2                                                  러블리즈   \n",
       "4                                    플라워디어 (Flour Deer)   \n",
       "5                                                   캐스커   \n",
       "6                                             KYT (코요태)   \n",
       "...                                                 ...   \n",
       "1068                                         The Shires   \n",
       "1071                                                주윤하   \n",
       "1072                                           싸이 (PSY)   \n",
       "1073                                  야광토끼 (Neon Bunny)   \n",
       "1075  Dimitri Vegas & Like Mike, David Guetta, Daddy...   \n",
       "\n",
       "                                                tag max  \\\n",
       "0                                         ['뮤지컬', '사랑']   \n",
       "2                                                ['사랑']   \n",
       "4     ['비오는날', '비', '슬픈', '집중', '여유', '카페', '새벽', '주...   \n",
       "5                                                ['이별']   \n",
       "6                                          ['추억', '회상']   \n",
       "...                                                 ...   \n",
       "1068                            ['새벽', '추억', '밤', '회상']   \n",
       "1071                                        ['휴식', '봄']   \n",
       "1072                                           ['기분전환']   \n",
       "1073                                           ['기분전환']   \n",
       "1075                                            ['신나는']   \n",
       "\n",
       "                       emotion max  \n",
       "0                   ['경쾌한', '행복한']  \n",
       "2                          ['행복한']  \n",
       "4                          ['우울한']  \n",
       "5                          ['우울한']  \n",
       "6                   ['행복한', '잔잔한']  \n",
       "...                            ...  \n",
       "1068  ['우울한', '행복한', '무서운', '잔잔한']  \n",
       "1071                ['잔잔한', '행복한']  \n",
       "1072                       ['행복한']  \n",
       "1073                       ['행복한']  \n",
       "1075                       ['행복한']  \n",
       "\n",
       "[704 rows x 5 columns]"
      ]
     },
     "execution_count": 67,
     "metadata": {},
     "output_type": "execute_result"
    }
   ],
   "source": [
    "new = pd.DataFrame(song_all_info_lyrics[['2차 가공', '곡 제목', '가수', 'tag max', 'emotion max']])\n",
    "new"
   ]
  },
  {
   "cell_type": "code",
   "execution_count": 69,
   "id": "d86da3e4",
   "metadata": {},
   "outputs": [],
   "source": [
    "new.reset_index(inplace=True, drop=False)\n",
    "new.columns=['ori_index', 'lyrics', '곡 제목', '가수', 'tag max', 'emotion max']"
   ]
  },
  {
   "cell_type": "code",
   "execution_count": 7,
   "id": "40e8842b",
   "metadata": {},
   "outputs": [
    {
     "name": "stderr",
     "output_type": "stream",
     "text": [
      "2021-11-28 20:57:14.119114: I tensorflow/core/platform/cpu_feature_guard.cc:151] This TensorFlow binary is optimized with oneAPI Deep Neural Network Library (oneDNN) to use the following CPU instructions in performance-critical operations:  AVX2 FMA\n",
      "To enable them in other operations, rebuild TensorFlow with the appropriate compiler flags.\n"
     ]
    }
   ],
   "source": [
    "###### 2번)\n",
    "##### 다른거?\n",
    "#https://stackoverflow.com/questions/50236117/scraping-ssl-certificate-verify-failed-error-for-http-en-wikipedia-org\n",
    "#import ssl\n",
    "#ssl._create_default_https_context = ssl._create_unverified_context\n",
    "\n",
    "import tensorflow as tf\n",
    "import tensorflow_hub as hub\n",
    "\n",
    "#embedding = \"https://tfhub.dev/google/nnlm-en-dim50/2\"\n",
    "embedding = \"https://tfhub.dev/google/nnlm-ko-dim50/2\"\n",
    "hub_layer = hub.KerasLayer(embedding, input_shape=[], \n",
    "                           dtype=tf.string, trainable=True)"
   ]
  },
  {
   "cell_type": "code",
   "execution_count": 23,
   "id": "1d62aa86",
   "metadata": {},
   "outputs": [],
   "source": [
    "from sklearn.model_selection import train_test_split\n",
    "\n",
    "train, valid = train_test_split(new, test_size=0.2, random_state=42)"
   ]
  },
  {
   "cell_type": "code",
   "execution_count": 27,
   "id": "ba7c462c",
   "metadata": {},
   "outputs": [
    {
     "data": {
      "text/html": [
       "<div>\n",
       "<style scoped>\n",
       "    .dataframe tbody tr th:only-of-type {\n",
       "        vertical-align: middle;\n",
       "    }\n",
       "\n",
       "    .dataframe tbody tr th {\n",
       "        vertical-align: top;\n",
       "    }\n",
       "\n",
       "    .dataframe thead th {\n",
       "        text-align: right;\n",
       "    }\n",
       "</style>\n",
       "<table border=\"1\" class=\"dataframe\">\n",
       "  <thead>\n",
       "    <tr style=\"text-align: right;\">\n",
       "      <th></th>\n",
       "      <th>ori_index</th>\n",
       "      <th>lyrics</th>\n",
       "    </tr>\n",
       "  </thead>\n",
       "  <tbody>\n",
       "    <tr>\n",
       "      <th>24</th>\n",
       "      <td>35</td>\n",
       "      <td>우리는 우리가 헛된 우리의 마음을 끈으로 묶어 으깨 였던 이유를 결코 묻지 못했던 ...</td>\n",
       "    </tr>\n",
       "    <tr>\n",
       "      <th>155</th>\n",
       "      <td>225</td>\n",
       "      <td>치키 티타 왜 그러니 이런 모습 난 처음 봐 내일이 바로 결혼식이잖아 그런 모습 보...</td>\n",
       "    </tr>\n",
       "    <tr>\n",
       "      <th>210</th>\n",
       "      <td>302</td>\n",
       "      <td>밤 하늘에 뜬 단 하루가 벌써 지나가 버렸다 검은 바탕에 외로이 앉아 good ni...</td>\n",
       "    </tr>\n",
       "    <tr>\n",
       "      <th>291</th>\n",
       "      <td>419</td>\n",
       "      <td>우리 헤어지지 말잡이 오는 거리에서 우리 헤어지지 말자이 가로등 아래서 이별을 앞둔...</td>\n",
       "    </tr>\n",
       "    <tr>\n",
       "      <th>537</th>\n",
       "      <td>809</td>\n",
       "      <td>웃으며 Cheese 한 번 더 Cheese you make me feel alive...</td>\n",
       "    </tr>\n",
       "    <tr>\n",
       "      <th>...</th>\n",
       "      <td>...</td>\n",
       "      <td>...</td>\n",
       "    </tr>\n",
       "    <tr>\n",
       "      <th>71</th>\n",
       "      <td>104</td>\n",
       "      <td>그 정도가 아니야 나는 그것의 모든 혼란을 통해 당신을 느끼는 것처럼 느끼는 것처럼...</td>\n",
       "    </tr>\n",
       "    <tr>\n",
       "      <th>106</th>\n",
       "      <td>162</td>\n",
       "      <td>겨울이 좋아질 것 같아어쩌면 또 몰라 겨울만 좋아할지도 사랑 참 신기한 거야 평범한...</td>\n",
       "    </tr>\n",
       "    <tr>\n",
       "      <th>270</th>\n",
       "      <td>389</td>\n",
       "      <td>뭐 이리 어려운 거야 너라는 사람 알기가 시도 때도 없이 생각나는데 생각대로 되질 ...</td>\n",
       "    </tr>\n",
       "    <tr>\n",
       "      <th>435</th>\n",
       "      <td>640</td>\n",
       "      <td>사람들은 모두 외롭다 식어가는 잔을 채우고 긴 한숨을 마신다 저 벽 높이 차오르게 ...</td>\n",
       "    </tr>\n",
       "    <tr>\n",
       "      <th>102</th>\n",
       "      <td>157</td>\n",
       "      <td>웃어줄 수 있을 거야 거울 앞에서 머리를 질끈 묶고 운동화 끈을 묶고 물은 충분히 ...</td>\n",
       "    </tr>\n",
       "  </tbody>\n",
       "</table>\n",
       "<p>563 rows × 2 columns</p>\n",
       "</div>"
      ],
      "text/plain": [
       "     ori_index                                             lyrics\n",
       "24          35  우리는 우리가 헛된 우리의 마음을 끈으로 묶어 으깨 였던 이유를 결코 묻지 못했던 ...\n",
       "155        225  치키 티타 왜 그러니 이런 모습 난 처음 봐 내일이 바로 결혼식이잖아 그런 모습 보...\n",
       "210        302  밤 하늘에 뜬 단 하루가 벌써 지나가 버렸다 검은 바탕에 외로이 앉아 good ni...\n",
       "291        419  우리 헤어지지 말잡이 오는 거리에서 우리 헤어지지 말자이 가로등 아래서 이별을 앞둔...\n",
       "537        809  웃으며 Cheese 한 번 더 Cheese you make me feel alive...\n",
       "..         ...                                                ...\n",
       "71         104  그 정도가 아니야 나는 그것의 모든 혼란을 통해 당신을 느끼는 것처럼 느끼는 것처럼...\n",
       "106        162  겨울이 좋아질 것 같아어쩌면 또 몰라 겨울만 좋아할지도 사랑 참 신기한 거야 평범한...\n",
       "270        389  뭐 이리 어려운 거야 너라는 사람 알기가 시도 때도 없이 생각나는데 생각대로 되질 ...\n",
       "435        640  사람들은 모두 외롭다 식어가는 잔을 채우고 긴 한숨을 마신다 저 벽 높이 차오르게 ...\n",
       "102        157  웃어줄 수 있을 거야 거울 앞에서 머리를 질끈 묶고 운동화 끈을 묶고 물은 충분히 ...\n",
       "\n",
       "[563 rows x 2 columns]"
      ]
     },
     "execution_count": 27,
     "metadata": {},
     "output_type": "execute_result"
    }
   ],
   "source": [
    "train"
   ]
  },
  {
   "cell_type": "code",
   "execution_count": 28,
   "id": "9911e90f",
   "metadata": {},
   "outputs": [],
   "source": [
    "train_vector_lyrics = hub_layer(train['lyrics'])\n",
    "valid_vector_lyrics = hub_layer(valid['lyrics'])"
   ]
  },
  {
   "cell_type": "code",
   "execution_count": 32,
   "id": "9ee1b323",
   "metadata": {},
   "outputs": [
    {
     "data": {
      "text/plain": [
       "<tf.Tensor: shape=(50,), dtype=float32, numpy=\n",
       "array([-0.38575208,  0.13894476, -0.51048946, -0.5660119 ,  0.8650372 ,\n",
       "       -1.2982659 ,  0.8686245 , -0.9336936 ,  0.9582016 ,  0.8328271 ,\n",
       "        0.1949564 ,  0.7880262 , -1.6883599 ,  0.87286496,  1.0300086 ,\n",
       "       -0.1853584 ,  0.12123032,  0.8441994 ,  0.54047704,  0.6380026 ,\n",
       "        0.37525362,  0.19262353,  0.18956172, -0.10614454,  0.14721797,\n",
       "        0.23598696, -0.5518351 , -0.4450296 ,  0.42288256,  0.32856035,\n",
       "       -0.16118158,  0.07314625,  1.7134608 ,  0.6161514 ,  0.09869399,\n",
       "       -0.79756206, -0.4251305 ,  0.24934335,  0.21940616,  0.53022003,\n",
       "       -0.44198054,  0.50174695, -0.57154644,  0.3219428 , -0.45558295,\n",
       "       -0.45321372, -0.45003727,  0.05106086, -1.2369205 , -0.52143794],\n",
       "      dtype=float32)>"
      ]
     },
     "execution_count": 32,
     "metadata": {},
     "output_type": "execute_result"
    }
   ],
   "source": [
    "train_vector_lyrics[0]"
   ]
  },
  {
   "cell_type": "code",
   "execution_count": 112,
   "id": "fd17aefb",
   "metadata": {},
   "outputs": [
    {
     "name": "stdout",
     "output_type": "stream",
     "text": [
      "Epoch 1/50\n",
      "18/18 - 2s - loss: 0.6091 - val_loss: 0.3098 - 2s/epoch - 119ms/step\n",
      "Epoch 2/50\n",
      "18/18 - 0s - loss: 0.3166 - val_loss: 0.2757 - 97ms/epoch - 5ms/step\n",
      "Epoch 3/50\n",
      "18/18 - 0s - loss: 0.1966 - val_loss: 0.2388 - 93ms/epoch - 5ms/step\n",
      "Epoch 4/50\n",
      "18/18 - 0s - loss: 0.1395 - val_loss: 0.2032 - 95ms/epoch - 5ms/step\n",
      "Epoch 5/50\n",
      "18/18 - 0s - loss: 0.1165 - val_loss: 0.1745 - 88ms/epoch - 5ms/step\n",
      "Epoch 6/50\n",
      "18/18 - 0s - loss: 0.1012 - val_loss: 0.1497 - 79ms/epoch - 4ms/step\n",
      "Epoch 7/50\n",
      "18/18 - 0s - loss: 0.0934 - val_loss: 0.1373 - 85ms/epoch - 5ms/step\n",
      "Epoch 8/50\n",
      "18/18 - 0s - loss: 0.0908 - val_loss: 0.1265 - 91ms/epoch - 5ms/step\n",
      "Epoch 9/50\n",
      "18/18 - 0s - loss: 0.0918 - val_loss: 0.1157 - 84ms/epoch - 5ms/step\n",
      "Epoch 10/50\n",
      "18/18 - 0s - loss: 0.0858 - val_loss: 0.1115 - 81ms/epoch - 4ms/step\n",
      "Epoch 11/50\n",
      "18/18 - 0s - loss: 0.0840 - val_loss: 0.1060 - 83ms/epoch - 5ms/step\n",
      "Epoch 12/50\n",
      "18/18 - 0s - loss: 0.0816 - val_loss: 0.1026 - 87ms/epoch - 5ms/step\n",
      "Epoch 13/50\n",
      "18/18 - 0s - loss: 0.0824 - val_loss: 0.0988 - 95ms/epoch - 5ms/step\n",
      "Epoch 14/50\n",
      "18/18 - 0s - loss: 0.0802 - val_loss: 0.0958 - 88ms/epoch - 5ms/step\n",
      "Epoch 15/50\n",
      "18/18 - 0s - loss: 0.0793 - val_loss: 0.0939 - 79ms/epoch - 4ms/step\n",
      "Epoch 16/50\n",
      "18/18 - 0s - loss: 0.0776 - val_loss: 0.0914 - 86ms/epoch - 5ms/step\n",
      "Epoch 17/50\n",
      "18/18 - 0s - loss: 0.0797 - val_loss: 0.0900 - 90ms/epoch - 5ms/step\n",
      "Epoch 18/50\n",
      "18/18 - 0s - loss: 0.0775 - val_loss: 0.0872 - 83ms/epoch - 5ms/step\n",
      "Epoch 19/50\n",
      "18/18 - 0s - loss: 0.0783 - val_loss: 0.0870 - 103ms/epoch - 6ms/step\n",
      "Epoch 20/50\n",
      "18/18 - 0s - loss: 0.0754 - val_loss: 0.0843 - 104ms/epoch - 6ms/step\n",
      "Epoch 21/50\n",
      "18/18 - 0s - loss: 0.0750 - val_loss: 0.0828 - 75ms/epoch - 4ms/step\n",
      "Epoch 22/50\n",
      "18/18 - 0s - loss: 0.0777 - val_loss: 0.0807 - 78ms/epoch - 4ms/step\n",
      "Epoch 23/50\n",
      "18/18 - 0s - loss: 0.0739 - val_loss: 0.0812 - 95ms/epoch - 5ms/step\n",
      "Epoch 24/50\n",
      "18/18 - 0s - loss: 0.0780 - val_loss: 0.0807 - 107ms/epoch - 6ms/step\n",
      "Epoch 25/50\n",
      "18/18 - 0s - loss: 0.0754 - val_loss: 0.0784 - 81ms/epoch - 4ms/step\n",
      "Epoch 26/50\n",
      "18/18 - 0s - loss: 0.0754 - val_loss: 0.0784 - 79ms/epoch - 4ms/step\n",
      "Epoch 27/50\n",
      "18/18 - 0s - loss: 0.0732 - val_loss: 0.0791 - 101ms/epoch - 6ms/step\n",
      "Epoch 28/50\n",
      "18/18 - 0s - loss: 0.0748 - val_loss: 0.0773 - 88ms/epoch - 5ms/step\n",
      "Epoch 29/50\n",
      "18/18 - 0s - loss: 0.0733 - val_loss: 0.0770 - 94ms/epoch - 5ms/step\n",
      "Epoch 30/50\n",
      "18/18 - 0s - loss: 0.0741 - val_loss: 0.0773 - 95ms/epoch - 5ms/step\n",
      "Epoch 31/50\n",
      "18/18 - 0s - loss: 0.0734 - val_loss: 0.0758 - 121ms/epoch - 7ms/step\n",
      "Epoch 32/50\n",
      "18/18 - 0s - loss: 0.0724 - val_loss: 0.0763 - 98ms/epoch - 5ms/step\n",
      "Epoch 33/50\n",
      "18/18 - 0s - loss: 0.0710 - val_loss: 0.0760 - 111ms/epoch - 6ms/step\n",
      "Epoch 34/50\n",
      "18/18 - 0s - loss: 0.0727 - val_loss: 0.0764 - 114ms/epoch - 6ms/step\n",
      "Epoch 35/50\n",
      "18/18 - 0s - loss: 0.0737 - val_loss: 0.0746 - 95ms/epoch - 5ms/step\n",
      "Epoch 36/50\n",
      "18/18 - 0s - loss: 0.0739 - val_loss: 0.0758 - 84ms/epoch - 5ms/step\n",
      "Epoch 37/50\n",
      "18/18 - 0s - loss: 0.0744 - val_loss: 0.0750 - 85ms/epoch - 5ms/step\n",
      "Epoch 38/50\n",
      "18/18 - 0s - loss: 0.0723 - val_loss: 0.0749 - 84ms/epoch - 5ms/step\n",
      "Epoch 39/50\n",
      "18/18 - 0s - loss: 0.0734 - val_loss: 0.0745 - 86ms/epoch - 5ms/step\n",
      "Epoch 40/50\n",
      "18/18 - 0s - loss: 0.0728 - val_loss: 0.0743 - 116ms/epoch - 6ms/step\n",
      "Epoch 41/50\n",
      "18/18 - 0s - loss: 0.0728 - val_loss: 0.0741 - 152ms/epoch - 8ms/step\n",
      "Epoch 42/50\n",
      "18/18 - 0s - loss: 0.0718 - val_loss: 0.0737 - 116ms/epoch - 6ms/step\n",
      "Epoch 43/50\n",
      "18/18 - 0s - loss: 0.0701 - val_loss: 0.0737 - 136ms/epoch - 8ms/step\n",
      "Epoch 44/50\n",
      "18/18 - 0s - loss: 0.0733 - val_loss: 0.0737 - 105ms/epoch - 6ms/step\n",
      "Epoch 45/50\n",
      "18/18 - 0s - loss: 0.0719 - val_loss: 0.0738 - 80ms/epoch - 4ms/step\n",
      "Epoch 46/50\n",
      "18/18 - 0s - loss: 0.0744 - val_loss: 0.0738 - 106ms/epoch - 6ms/step\n",
      "Epoch 47/50\n",
      "18/18 - 0s - loss: 0.0724 - val_loss: 0.0744 - 95ms/epoch - 5ms/step\n",
      "Epoch 48/50\n",
      "18/18 - 0s - loss: 0.0742 - val_loss: 0.0736 - 105ms/epoch - 6ms/step\n",
      "Epoch 49/50\n",
      "18/18 - 0s - loss: 0.0712 - val_loss: 0.0738 - 110ms/epoch - 6ms/step\n",
      "Epoch 50/50\n",
      "18/18 - 0s - loss: 0.0707 - val_loss: 0.0741 - 86ms/epoch - 5ms/step\n"
     ]
    }
   ],
   "source": [
    "##### 3번\n",
    "#https://machinelearningmastery.com/autoencoder-for-classification/\n",
    "# 직접 임베딩?한다면 어떻게?\n",
    "# 옵티마이저, activation, loss 이렇게 하는게 맞는지?\n",
    "\n",
    "from tensorflow.keras.models import Model\n",
    "from tensorflow.keras.layers import Input, Dense, LeakyReLU, BatchNormalization, Embedding\n",
    "from tensorflow.keras.utils import plot_model\n",
    "from matplotlib import pyplot\n",
    "\n",
    "# define encoder\n",
    "n = train_vector_lyrics[0].shape[0]\n",
    "input_e = Input(shape=(n,))\n",
    "\n",
    "# encoder level 1\n",
    "e = Dense(16)(input_e)\n",
    "e = BatchNormalization()(e)\n",
    "e = LeakyReLU()(e)\n",
    "\n",
    "# bottleneck\n",
    "#n_bottleneck = round(float(2) / 2.0)\n",
    "bottleneck = Dense(2)(e)\n",
    "\n",
    "# define decoder, level 1\n",
    "d = Dense(16)(bottleneck)\n",
    "d = BatchNormalization()(d)\n",
    "d = LeakyReLU()(d)\n",
    "\n",
    "# decoder level 2\n",
    "d = Dense(50)(d)\n",
    "d = BatchNormalization()(d)\n",
    "d = LeakyReLU()(d)\n",
    "\n",
    "# output layer\n",
    "output = Dense(50)(d)\n",
    "\n",
    "# define autoencoder model\n",
    "model = Model(inputs=input_e, outputs=output)\n",
    "\n",
    "# compile autoencoder model\n",
    "model.compile(optimizer=\"adam\", loss=\"mse\")\n",
    "#model.compile(optimizer='adam', loss='rmse')\n",
    "\n",
    "# plot the autoencoder\n",
    "#plot_model(model, 'autoencoder_compress.png', show_shapes=True)\n",
    "# fit the autoencoder model to reconstruct input\n",
    "history = model.fit(train_vector_lyrics, train_vector_lyrics, epochs=50,\n",
    "                    validation_data = (valid_vector_lyrics, valid_vector_lyrics),\n",
    "                    batch_size=32, verbose=2)"
   ]
  },
  {
   "cell_type": "code",
   "execution_count": 113,
   "id": "468145aa",
   "metadata": {},
   "outputs": [
    {
     "data": {
      "image/png": "[encoded data removed]",
      "text/plain": [
       "<Figure size 432x288 with 1 Axes>"
      ]
     },
     "metadata": {
      "needs_background": "light"
     },
     "output_type": "display_data"
    }
   ],
   "source": [
    "# plot loss\n",
    "pyplot.plot(history.history['loss'], label='train')\n",
    "pyplot.plot(history.history['val_loss'], label='valid')\n",
    "pyplot.legend()\n",
    "pyplot.show()"
   ]
  },
  {
   "cell_type": "code",
   "execution_count": 114,
   "id": "01145d66",
   "metadata": {},
   "outputs": [],
   "source": [
    "#plot_model(model, 'autoencoder_compress.png', show_shapes=True)"
   ]
  },
  {
   "cell_type": "code",
   "execution_count": 140,
   "id": "4d2d040b",
   "metadata": {},
   "outputs": [],
   "source": [
    "# 인코더 모델 저장\n",
    "encoder = Model(inputs=input_e, outputs=bottleneck)\n",
    "#plot_model(encoder, 'encoder_compress.png', show_shapes=True)\n",
    "# save the encoder to file\n",
    "#encoder.save('encoder.h5')"
   ]
  },
  {
   "cell_type": "code",
   "execution_count": 141,
   "id": "b72d9ff0",
   "metadata": {},
   "outputs": [
    {
     "data": {
      "text/plain": [
       "(704, 2)"
      ]
     },
     "execution_count": 141,
     "metadata": {},
     "output_type": "execute_result"
    }
   ],
   "source": [
    "# encode the train data\n",
    "vector_lyrics = hub_layer(new['lyrics'])\n",
    "latent_variables = encoder.predict(vector_lyrics)\n",
    "latent_variables.shape"
   ]
  },
  {
   "cell_type": "code",
   "execution_count": 142,
   "id": "a9299937",
   "metadata": {},
   "outputs": [
    {
     "data": {
      "text/html": [
       "<div>\n",
       "<style scoped>\n",
       "    .dataframe tbody tr th:only-of-type {\n",
       "        vertical-align: middle;\n",
       "    }\n",
       "\n",
       "    .dataframe tbody tr th {\n",
       "        vertical-align: top;\n",
       "    }\n",
       "\n",
       "    .dataframe thead th {\n",
       "        text-align: right;\n",
       "    }\n",
       "</style>\n",
       "<table border=\"1\" class=\"dataframe\">\n",
       "  <thead>\n",
       "    <tr style=\"text-align: right;\">\n",
       "      <th></th>\n",
       "      <th>ori_index</th>\n",
       "      <th>lyrics</th>\n",
       "      <th>곡 제목</th>\n",
       "      <th>가수</th>\n",
       "      <th>tag max</th>\n",
       "      <th>emotion max</th>\n",
       "      <th>x</th>\n",
       "      <th>y</th>\n",
       "    </tr>\n",
       "  </thead>\n",
       "  <tbody>\n",
       "    <tr>\n",
       "      <th>0</th>\n",
       "      <td>0</td>\n",
       "      <td>이 모든 것이 다 지나가고 또 시간이 흐르고 나면 그때는 모든 게 아무것도 아닌 일...</td>\n",
       "      <td>모든게 지나면</td>\n",
       "      <td>화랑</td>\n",
       "      <td>['뮤지컬', '사랑']</td>\n",
       "      <td>['경쾌한', '행복한']</td>\n",
       "      <td>2.505988</td>\n",
       "      <td>-0.282310</td>\n",
       "    </tr>\n",
       "    <tr>\n",
       "      <th>1</th>\n",
       "      <td>2</td>\n",
       "      <td>아직 열어보지 말아요 호기심이 생겨도 떨어트리 지도 말아요 그럼 나는 깨져버릴 테니...</td>\n",
       "      <td>마음 (*취급주의)</td>\n",
       "      <td>러블리즈</td>\n",
       "      <td>['사랑']</td>\n",
       "      <td>['행복한']</td>\n",
       "      <td>0.059688</td>\n",
       "      <td>-1.811719</td>\n",
       "    </tr>\n",
       "    <tr>\n",
       "      <th>2</th>\n",
       "      <td>4</td>\n",
       "      <td>너를 맘에 담고 나는 눈을 감고 우리의 추억을 떠올리며 살아 항상 행복했던 우리 기...</td>\n",
       "      <td>두달 뒤 부르는 노래</td>\n",
       "      <td>플라워디어 (Flour Deer)</td>\n",
       "      <td>['비오는날', '비', '슬픈', '집중', '여유', '카페', '새벽', '주...</td>\n",
       "      <td>['우울한']</td>\n",
       "      <td>1.506145</td>\n",
       "      <td>-0.788881</td>\n",
       "    </tr>\n",
       "    <tr>\n",
       "      <th>3</th>\n",
       "      <td>5</td>\n",
       "      <td>흰 꽃은 밤에 아름답단 이유를 내게도 가르쳐줄 순 없소 이대로 날 잡아둘 뿐인지 흰...</td>\n",
       "      <td>비밀</td>\n",
       "      <td>캐스커</td>\n",
       "      <td>['이별']</td>\n",
       "      <td>['우울한']</td>\n",
       "      <td>1.425331</td>\n",
       "      <td>0.705875</td>\n",
       "    </tr>\n",
       "    <tr>\n",
       "      <th>4</th>\n",
       "      <td>6</td>\n",
       "      <td>나 기도할게 저 하늘에도 그대가 나의 기억 간직하도록 널 위해 불러 주었던 그 노래...</td>\n",
       "      <td>약속</td>\n",
       "      <td>KYT (코요태)</td>\n",
       "      <td>['추억', '회상']</td>\n",
       "      <td>['행복한', '잔잔한']</td>\n",
       "      <td>-0.427498</td>\n",
       "      <td>-0.813768</td>\n",
       "    </tr>\n",
       "  </tbody>\n",
       "</table>\n",
       "</div>"
      ],
      "text/plain": [
       "   ori_index                                             lyrics         곡 제목  \\\n",
       "0          0  이 모든 것이 다 지나가고 또 시간이 흐르고 나면 그때는 모든 게 아무것도 아닌 일...      모든게 지나면   \n",
       "1          2  아직 열어보지 말아요 호기심이 생겨도 떨어트리 지도 말아요 그럼 나는 깨져버릴 테니...   마음 (*취급주의)   \n",
       "2          4  너를 맘에 담고 나는 눈을 감고 우리의 추억을 떠올리며 살아 항상 행복했던 우리 기...  두달 뒤 부르는 노래   \n",
       "3          5  흰 꽃은 밤에 아름답단 이유를 내게도 가르쳐줄 순 없소 이대로 날 잡아둘 뿐인지 흰...           비밀   \n",
       "4          6  나 기도할게 저 하늘에도 그대가 나의 기억 간직하도록 널 위해 불러 주었던 그 노래...           약속   \n",
       "\n",
       "                   가수                                            tag max  \\\n",
       "0                  화랑                                      ['뮤지컬', '사랑']   \n",
       "1                러블리즈                                             ['사랑']   \n",
       "2  플라워디어 (Flour Deer)  ['비오는날', '비', '슬픈', '집중', '여유', '카페', '새벽', '주...   \n",
       "3                 캐스커                                             ['이별']   \n",
       "4           KYT (코요태)                                       ['추억', '회상']   \n",
       "\n",
       "      emotion max         x         y  \n",
       "0  ['경쾌한', '행복한']  2.505988 -0.282310  \n",
       "1         ['행복한']  0.059688 -1.811719  \n",
       "2         ['우울한']  1.506145 -0.788881  \n",
       "3         ['우울한']  1.425331  0.705875  \n",
       "4  ['행복한', '잔잔한'] -0.427498 -0.813768  "
      ]
     },
     "execution_count": 142,
     "metadata": {},
     "output_type": "execute_result"
    }
   ],
   "source": [
    "latent_x_y = pd.DataFrame(latent_variables)\n",
    "latent_x_y.columns = ['x', 'y']\n",
    "new_df = pd.concat([new, latent_x_y], axis=1)\n",
    "new_df.head()"
   ]
  },
  {
   "cell_type": "code",
   "execution_count": 143,
   "id": "ebc694de",
   "metadata": {},
   "outputs": [
    {
     "data": {
      "application/vnd.plotly.v1+json": {
       "config": {
        "plotlyServerURL": "https://plot.ly"
       },
       "data": [
        {
         "customdata": [
          [
           "모든게 지나면",
           "화랑",
           "['뮤지컬', '사랑']",
           "['경쾌한', '행복한']"
          ],
          [
           "마음 (*취급주의)",
           "러블리즈",
           "['사랑']",
           "['행복한']"
          ],
          [
           "두달 뒤 부르는 노래",
           "플라워디어 (Flour Deer)",
           "['비오는날', '비', '슬픈', '집중', '여유', '카페', '새벽', '주말', '힐링', '작업', '밤']",
           "['우울한']"
          ],
          [
           "비밀",
           "캐스커",
           "['이별']",
           "['우울한']"
          ],
          [
           "약속",
           "KYT (코요태)",
           "['추억', '회상']",
           "['행복한', '잔잔한']"
          ],
          [
           "약속",
           "허공",
           "['추억', '회상']",
           "['행복한', '잔잔한']"
          ],
          [
           "약속",
           "KYT (코요태)",
           "['회상', '슬픔', '뮤지컬', '감동', '휴식']",
           "['잔잔한']"
          ],
          [
           "약속",
           "허공",
           "['회상', '슬픔', '뮤지컬', '감동', '휴식']",
           "['잔잔한']"
          ],
          [
           "거리에서",
           "아시안체어샷 (Asian Chairshot)",
           "['감동', '뮤지컬']",
           "['행복한', '경쾌한']"
          ],
          [
           "거리에서",
           "뮤지컬 웨잇포유 (Musical Wait For You)",
           "['감동', '뮤지컬']",
           "['행복한', '경쾌한']"
          ],
          [
           "창가의 이별",
           "지평권",
           "['추억']",
           "['행복한']"
          ],
          [
           "Leader Of The Landslide",
           "The Lumineers",
           "['휴식', '드라이브', '기분전환', '분위기', '편안한']",
           "['잔잔한', '행복한']"
          ],
          [
           "Karate (Original Mix)",
           "R3hab, Kshmr",
           "['클럽']",
           "['경쾌한']"
          ],
          [
           "Mixtape#3",
           "Stray Kids (스트레이 키즈)",
           "['기분전환']",
           "['행복한']"
          ],
          [
           "Killing Me",
           "비투비",
           "['사랑']",
           "['행복한']"
          ],
          [
           "촉촉촉 Waltz",
           "손동운, 이시유, 유주혜",
           "['힐링', '휴식', '기분전환']",
           "['행복한']"
          ],
          [
           "Return To..",
           "MOJO (모조)",
           "['휴식', '잠잘때']",
           "['잔잔한']"
          ],
          [
           "너에게 물들어",
           "형섭X의웅",
           "['신나는']",
           "['행복한']"
          ],
          [
           "Loving U",
           "김종서",
           "['고백', '설렘', '사랑', '힐링', '휴식']",
           "['행복한']"
          ],
          [
           "한 폭의 그림 (Paradise)",
           "S.E.S.",
           "['기분전환']",
           "['행복한']"
          ],
          [
           "이젠 정말 만나야 할 때",
           "전병욱, 오만석, 오나라",
           "['뮤지컬']",
           "['경쾌한']"
          ],
          [
           "Everybody Had A Hard Year",
           "Marz",
           "['기분전환', '드라이브']",
           "['행복한']"
          ],
          [
           "Stop Snitchin",
           "YG",
           "['운동']",
           "['경쾌한']"
          ],
          [
           "U Know (Feat. Basick)",
           "LUKA (ARTMATIC)",
           "['힐링', '휴식', '기분전환', '댄스']",
           "['행복한']"
          ],
          [
           "Wrecking Ball",
           "Dami Im",
           "['시원한', '분위기', '몽환', '새벽', '힐링', '휴식', '잔잔한']",
           "['잔잔한']"
          ],
          [
           "그 곳 (Feat. 김태홍)",
           "허준범",
           "['까페']",
           "['잔잔한']"
          ],
          [
           "Mr. BADBOY",
           "우주소녀",
           "['여름', '드라이브', '댄스']",
           "['경쾌한']"
          ],
          [
           "멀뚱멀뚱",
           "어쿠솔쟈 (ACOUSOLJAH)",
           "['노동요', '댄스', '오후', '신나는']",
           "['행복한']"
          ],
          [
           "Mack The Knife",
           "Westlife",
           "['드라이브', '여행']",
           "['행복한']"
          ],
          [
           "파리의 멜로디",
           "김소현, 뮤지컬 팬텀 2016 앙상블",
           "['뮤지컬']",
           "['경쾌한']"
          ],
          [
           "Again (Armin Van Buuren Remix) (Feat. Betsie Larkin)",
           "Armin van Buuren presents Rising Star",
           "['댄스']",
           "['경쾌한']"
          ],
          [
           "늦은 밤, 우리 (Album Ver.)",
           "피그말리온",
           "['데이트', '봄', '설렘', '사랑']",
           "['행복한']"
          ],
          [
           "No Surprises (Remastered)",
           "Radiohead",
           "['드라이브']",
           "['행복한']"
          ],
          [
           "톡톡",
           "메리라운드",
           "['사랑']",
           "['행복한']"
          ],
          [
           "골고다",
           "한지상",
           "['뮤지컬', '사랑']",
           "['경쾌한', '행복한']"
          ],
          [
           "시간이 흐른 뒤엔",
           "용준형, 비투비",
           "['추억']",
           "['행복한']"
          ],
          [
           "손들어",
           "GOT7 (갓세븐)",
           "['노동요', '댄스', '들썩들썩', '스트레스']",
           "['긴장되는', '경쾌한']"
          ],
          [
           "환영문(歡迎文)",
           "클릭비 (Click-B)",
           "['댄스']",
           "['경쾌한']"
          ],
          [
           "니가 아니면 (Feat. 블루니 of 위위)",
           "109",
           "['카페']",
           "['잔잔한']"
          ],
          [
           "You Make My Life a Better Place",
           "Mamas Gun",
           "['카페', '드라이브', '기분전환', '여행']",
           "['행복한']"
          ],
          [
           "Serendipity (Full Length Edition)",
           "방탄소년단",
           "['기분전환']",
           "['행복한']"
          ],
          [
           "Once Again",
           "머니",
           "['비오는날', '밤', '새벽']",
           "['우울한']"
          ],
          [
           "물빛의 여름",
           "에레나",
           "['힐링', '휴식', '까페']",
           "['잔잔한']"
          ],
          [
           "It`s Alright, It`s OK",
           "Ashley Tisdale",
           "['기분전환']",
           "['행복한']"
          ],
          [
           "Time After Time",
           "Various Artists",
           "['겨울', '밤', '가을', '힐링', '찬바람']",
           "['잔잔한']"
          ],
          [
           "Time After Time",
           "Various Artists",
           "['카페', '잔잔한', '휴식']",
           "['잔잔한']"
          ],
          [
           "하루 또 하루",
           "류정한, 임혜영",
           "['뮤지컬']",
           "['경쾌한']"
          ],
          [
           "잊혀진 사랑",
           "클릭비 (Click-B)",
           "['댄스']",
           "['경쾌한']"
          ],
          [
           "쉼이 필요해",
           "오연준",
           "['우울할때', '기분전환', '스트레스해소']",
           "['우울한', '행복한', '경쾌한']"
          ],
          [
           "별빛 (Feat. 홍미려)",
           "Soro Sori (서로소리)",
           "['카페', '잔잔한', '힐링', '따뜻한', '편안한', '가을', '우울', '오후', '나른한', '휴식', '흐린날', '센치한']",
           "['잔잔한']"
          ],
          [
           "서곡_내 비극적인 이야기",
           "전동석, 뮤지컬 팬텀 2016 앙상블",
           "['뮤지컬']",
           "['경쾌한']"
          ],
          [
           "우리 처음 만난 날 (Acoustic Ver.)",
           "한희정",
           "['밤', '새벽']",
           "['무서운', '우울한']"
          ],
          [
           "True Colors",
           "JBJ",
           "['기분전환', '신나는', '드라이브', '밴드', '여행']",
           "['행복한']"
          ],
          [
           "Sunday Brunch",
           "박정현",
           "['설렘', '사랑']",
           "['행복한']"
          ],
          [
           "내 고향",
           "박은태, 이지혜",
           "['뮤지컬']",
           "['경쾌한']"
          ],
          [
           "나만 (Just Me) (Inst.)",
           "소라 (Sora)",
           "['공부', '봄']",
           "['잔잔한', '행복한']"
          ],
          [
           "괜시리",
           "요니스",
           "['힐링', '휴식', '기분전환']",
           "['행복한']"
          ],
          [
           "I Was Born To Love You + Only Love (Reprise) (너 하나만 + 사랑이야 Reprise)",
           "임태경, 옥주현",
           "['뮤지컬']",
           "['경쾌한']"
          ],
          [
           "Chemicals",
           "키 (KEY)",
           "['주말', '드라이브', '기분전환', '신나는', '댄스']",
           "['행복한']"
          ],
          [
           "Turtles Free 2",
           "거북이",
           "['댄스']",
           "['경쾌한']"
          ],
          [
           "그곳에 서서",
           "박효신",
           "['추억']",
           "['행복한']"
          ],
          [
           "Role Of A Lifetime",
           "윤소호",
           "['뮤지컬', '사랑']",
           "['경쾌한', '행복한']"
          ],
          [
           "THE SEASONS",
           "CNBLUE (씨엔블루)",
           "['기분전환', '설렘', '사랑', '댄스', '가을', '가을감성', '가을밤']",
           "['행복한', '잔잔한']"
          ],
          [
           "Mood Indigo",
           "CHEEZE (치즈)",
           "['사랑']",
           "['행복한']"
          ],
          [
           "Drive",
           "B1A4",
           "['드라이브']",
           "['행복한']"
          ],
          [
           "Drive",
           "청하",
           "['드라이브']",
           "['행복한']"
          ],
          [
           "Drive",
           "B1A4",
           "['기분전환']",
           "['행복한']"
          ],
          [
           "Drive",
           "청하",
           "['기분전환']",
           "['행복한']"
          ],
          [
           "Sorceress (Acoustic)",
           "Jordan Rakei",
           "['가을']",
           "['잔잔한']"
          ],
          [
           "목화",
           "보수동쿨러",
           "['밴드', '저녁', '밤', '분위기', '그리움']",
           "['잔잔한']"
          ],
          [
           "수신거부",
           "하현곤 팩토리",
           "['기분전환', '스트레스']",
           "['행복한', '긴장되는']"
          ],
          [
           "Outlines",
           "AlunaGeorge",
           "['드라이브', '까페', '클럽']",
           "['행복한', '잔잔한', '경쾌한']"
          ],
          [
           "할 말이 있어 (feat. 플리지)",
           "라임즈 (RHYMEZ)",
           "['사랑', '기분전환']",
           "['행복한']"
          ],
          [
           "Destiny",
           "동방신기 (TVXQ!)",
           "['설렘', '사랑']",
           "['행복한']"
          ],
          [
           "IF... (너만 있으면)",
           "B1A4",
           "['기분전환']",
           "['행복한']"
          ],
          [
           "전할 수 없는 이야기 (부제:시티 오브 엔젤)",
           "휘성 (Realslow)",
           "['추억']",
           "['행복한']"
          ],
          [
           "생각만 했어 (Feat. 허승연)",
           "다가온",
           "['휴식', '기분전환']",
           "['잔잔한', '행복한']"
          ],
          [
           "아주 오래된 연인들",
           "015B",
           "['추억']",
           "['행복한']"
          ],
          [
           "I Need Your Love (Feat. Ellie Goulding)",
           "Calvin Harris",
           "['드라이브']",
           "['행복한']"
          ],
          [
           "Let Me Hold You (Turn Me On)",
           "Cheat Codes, Dante Klein",
           "['기분전환']",
           "['행복한']"
          ],
          [
           "Stardust",
           "Bob Dylan",
           "['하루']",
           "['잔잔한']"
          ],
          [
           "Zoo",
           "Red Velvet (레드벨벳)",
           "['여름']",
           "['경쾌한']"
          ],
          [
           "Stay",
           "Nicky Romero",
           "['드라이브', '카페']",
           "['행복한', '잔잔한']"
          ],
          [
           "Stay",
           "Nicky Romero",
           "['기분전환', '드라이브']",
           "['행복한']"
          ],
          [
           "보고싶어",
           "보드카 레인",
           "['새벽', '잔잔한']",
           "['우울한', '잔잔한']"
          ],
          [
           "사랑인가봐!",
           "채연",
           "['댄스']",
           "['경쾌한']"
          ],
          [
           "World Tour (Song By Hauzee, Holmsted)",
           "KozyPop",
           "['노동요']",
           "['긴장되는']"
          ],
          [
           "Our Love",
           "Al Jarreau",
           "['겨울감성']",
           "['잔잔한']"
          ],
          [
           "콜드 (Cold)",
           "모노패스 (Monopath)",
           "['잔잔한', '밤', '새벽', '드라이브']",
           "['잔잔한', '무서운', '우울한', '행복한']"
          ],
          [
           "Thanks For The Music (소피 &샘 & 해리 & 빌)",
           "이정미 & 성기윤 & 이정렬 & 박지일",
           "['뮤지컬']",
           "['경쾌한']"
          ],
          [
           "달리는 다락방",
           "오빠야문열어딸기사왔어",
           "['카페', '여유', '커피', '힐링']",
           "['잔잔한', '행복한']"
          ],
          [
           "Paradise",
           "헬로비너스",
           "['기분전환']",
           "['행복한']"
          ],
          [
           "택시안에서",
           "엔돌핀",
           "['댄스', '비오는날', '잔잔한']",
           "['경쾌한', '우울한', '잔잔한']"
          ],
          [
           "춤",
           "요조",
           "['가을']",
           "['잔잔한']"
          ],
          [
           "빠빠빠 (Bar Bar Bar)",
           "크레용팝",
           "['댄스', '스트레스', '신나는']",
           "['경쾌한', '긴장되는', '행복한']"
          ],
          [
           "Overall",
           "Hello Saferide",
           "['겨울']",
           "['잔잔한']"
          ],
          [
           "이런 건가봐요 누군가를 좋아하는 건",
           "리디아 (Lydia)",
           "['설렘', '사랑']",
           "['행복한']"
          ],
          [
           "Perfect Christmas Day",
           "Todd Carey",
           "['크리스마스']",
           "['행복한']"
          ],
          [
           "살다 보면",
           "차지연",
           "['휴식']",
           "['잔잔한']"
          ],
          [
           "황금별",
           "신영숙",
           "['뮤지컬']",
           "['경쾌한']"
          ],
          [
           "Pena De Los Amores (2016 Remastered)",
           "Linda Ronstadt",
           "['애절한', '추억', '감성적인']",
           "['울고싶은', '행복한', '잔잔한']"
          ],
          [
           "꽈리 (Feat. 강민, 백수진, 윤진)",
           "클론",
           "['댄스']",
           "['경쾌한']"
          ],
          [
           "이별 앞으로",
           "가을방학",
           "['이별', '새벽']",
           "['우울한']"
          ],
          [
           "애인",
           "허쉬",
           "['댄스']",
           "['경쾌한']"
          ],
          [
           "날아올라 (Fly high)",
           "드림캐쳐",
           "['댄스']",
           "['경쾌한']"
          ],
          [
           "나를 사랑해줘 (Feat. 개코 Of 다이나믹 듀오)",
           "서인영",
           "['사랑']",
           "['행복한']"
          ],
          [
           "겨울이 좋아질 것 같아",
           "비비안 (BBAHN)",
           "['겨울']",
           "['잔잔한']"
          ],
          [
           "Black Is Black",
           "The Jungle Brothers",
           "['밤', '힐링', '카페', '까페']",
           "['잔잔한']"
          ],
          [
           "Bo Peep Bo Peep",
           "티아라",
           "['댄스']",
           "['경쾌한']"
          ],
          [
           "Role Model (Feat. Swalo)",
           "Ryan",
           "['스트레스', '드라이브']",
           "['긴장되는', '행복한']"
          ],
          [
           "꺼져줄게",
           "소울플로우",
           "['까페']",
           "['잔잔한']"
          ],
          [
           "Pookie Baby",
           "Prof",
           "['클럽']",
           "['경쾌한']"
          ],
          [
           "사랑의 한가운데 (Feat. 선우정아)",
           "안녕의 온도",
           "['새벽']",
           "['우울한']"
          ],
          [
           "Back & Forth",
           "MK, Jonas Blue, Becky Hill",
           "['기분전환']",
           "['행복한']"
          ],
          [
           "Red Light Green Light (Feat. Shaun Ross)",
           "Duke Dumont",
           "['클럽', '드라이브', '기분전환']",
           "['행복한']"
          ],
          [
           "Phantom Bride",
           "Deftones",
           "['밴드', '클럽', '추억', '드라이브']",
           "['경쾌한', '행복한']"
          ],
          [
           "주홍글씨 (Dance Ver.)",
           "스페이스 에이",
           "['댄스']",
           "['경쾌한']"
          ],
          [
           "Ave Maria",
           "Michael Buble",
           "['겨울', '설렘', '사랑', '까페']",
           "['잔잔한', '행복한']"
          ],
          [
           "LIFE IS A PARTY",
           "여자친구 (GFRIEND)",
           "['신나는', '솔로']",
           "['행복한', '잔잔한']"
          ],
          [
           "내가 고마워",
           "노르웨이 숲",
           "['밤']",
           "['무서운']"
          ],
          [
           "가장 소중한 것이 가장 멀리 떠나요",
           "혜령",
           "['이별']",
           "['우울한']"
          ],
          [
           "어떻게.. (Feat. 후니훈 & 이유진)",
           "크라운제이 (CROWN J)",
           "['기억', '추억', '힐링', '기분전환', '회상']",
           "['행복한']"
          ],
          [
           "18거 1517",
           "XXX",
           "['힙한']",
           "['긴장되는']"
          ],
          [
           "빛이 되어줘",
           "라붐 (LABOUM)",
           "['신나는']",
           "['행복한']"
          ],
          [
           "Wanted A Name (feat. Yoke Lore)",
           "Frenship",
           "['기분전환']",
           "['행복한']"
          ],
          [
           "TIME OUT",
           "GOT7 (갓세븐)",
           "['사랑']",
           "['행복한']"
          ],
          [
           "SWITCH",
           "yelloasis, JUNNY (주니)",
           "['기분전환', '드라이브']",
           "['행복한']"
          ],
          [
           "Blind",
           "몬스타엑스",
           "['신나는']",
           "['행복한']"
          ],
          [
           "Cadillac",
           "IN2IT (인투잇)",
           "['여름', '기분전환', '운동']",
           "['경쾌한']"
          ],
          [
           "Never End",
           "제국의아이들 (ZE:A)",
           "['새벽', '추억', '밤', '회상', '마음']",
           "['우울한', '행복한', '무서운', '잔잔한', '편안한']"
          ],
          [
           "비의 마음",
           "산울림",
           "['비오는날', '잔잔한', '추억', '슬픈', '마음']",
           "['우울한']"
          ],
          [
           "느낌이와",
           "몽키즈",
           "['사랑']",
           "['행복한']"
          ],
          [
           "Summer`s Back (Feat. 김기쁨)",
           "Blocka, 오제이 (OJEY)",
           "['여름', '드라이브']",
           "['경쾌한', '행복한']"
          ],
          [
           "Yeah Yeah",
           "Willy Moon",
           "['드라이브']",
           "['행복한']"
          ],
          [
           "Move",
           "홍지민, 정선아, 김소향",
           "['힐링', '휴식', '기분전환']",
           "['행복한']"
          ],
          [
           "Slipping Through My Fingers (도나 & 소피)",
           "이정렬 & 최정원",
           "['뮤지컬']",
           "['경쾌한']"
          ],
          [
           "Goodbye",
           "M.Spot",
           "['슬픔', '사랑', '아픔', '이별']",
           "['우울한']"
          ],
          [
           "Goodbye",
           "Def Leppard",
           "['슬픔', '사랑', '아픔', '이별']",
           "['우울한']"
          ],
          [
           "회상",
           "더 빨강",
           "['슬픔', '추억', '이별', '회상']",
           "['우울한']"
          ],
          [
           "회상",
           "임현정",
           "['슬픔', '추억', '이별', '회상']",
           "['우울한']"
          ],
          [
           "안녕, 여름 (Parade)",
           "Red Velvet (레드벨벳)",
           "['여행', '여름', '신나는']",
           "['행복한']"
          ],
          [
           "For You",
           "플라이 투 더 스카이",
           "['추억', '회상']",
           "['행복한', '잔잔한']"
          ],
          [
           "Burn, Burn",
           "Lostprophets",
           "['기분전환']",
           "['행복한']"
          ],
          [
           "오늘은 새벽안개 속에서",
           "집나온 거위",
           "['휴식', '힐링', '잔잔한']",
           "['잔잔한']"
          ],
          [
           "Helena",
           "My Chemical Romance",
           "['스트레스', '드라이브', '신나는']",
           "['행복한']"
          ],
          [
           "다른 사람이 와도",
           "한경일",
           "['회상', '우울', '추억', '쓸쓸한', '슬픔', '사랑', '이별']",
           "['우울한']"
          ],
          [
           "나사",
           "시나 쓰는 앨리스",
           "['힐링', '기분전환']",
           "['행복한']"
          ],
          [
           "내 사랑 송이 (2005 Glgolos Remix)",
           "클론",
           "['휴식', '힐링', '여행', '산책']",
           "['행복한']"
          ],
          [
           "Cosmic Girl",
           "소연 (LABOUM)",
           "['기분전환']",
           "['행복한']"
          ],
          [
           "Under Surveillance",
           "Toki Asako",
           "['상큼한', '카페']",
           "['경쾌한', '잔잔한']"
          ],
          [
           "아름답고도 아프구나 (Inst.)",
           "비투비",
           "['공부']",
           "['잔잔한']"
          ],
          [
           "데이트",
           "올드피쉬",
           "['산책', '드라이브', '봄', '설렘', '데이트', '휴식', '아침', '가을', '카페', '사랑']",
           "['행복한']"
          ],
          [
           "Sugar Baby",
           "베이비 복스",
           "['댄스']",
           "['경쾌한']"
          ],
          [
           "아침",
           "디어클라우드",
           "['아침']",
           "['경쾌한']"
          ],
          [
           "We Belong Together",
           "BIGBANG",
           "['기분전환']",
           "['행복한']"
          ],
          [
           "Chiquitita (타냐 & 로지 & 도나)",
           "전수경 & 이경미 & 최정원",
           "['뮤지컬']",
           "['경쾌한']"
          ],
          [
           "I Wish You Knew",
           "Mariah Carey",
           "['겨울']",
           "['잔잔한']"
          ],
          [
           "8282",
           "다비치",
           "['추억']",
           "['행복한']"
          ],
          [
           "Walking Night",
           "밤의 피크닉",
           "['밤', '드라이브']",
           "['무서운', '행복한']"
          ],
          [
           "비가 오면 좋겠어",
           "Briller (브리에), 피카",
           "['비오는날', '흐린날', '비', '분위기', '감성적인', '센치한']",
           "['우울한']"
          ],
          [
           "밀지마 (Original Ver.)",
           "웬디 (WENDY), 슬기 (SEULGI)",
           "['기분전환']",
           "['행복한']"
          ],
          [
           "You Are My Lady",
           "김건모",
           "['추억']",
           "['행복한']"
          ],
          [
           "얼마나 다행이었니",
           "임소정",
           "['겨울']",
           "['잔잔한']"
          ],
          [
           "어떻게든",
           "Various Artists",
           "['뮤지컬']",
           "['경쾌한']"
          ],
          [
           "어떻게 이런 일이",
           "민영기",
           "['뮤지컬', '기분전환', '드라이브']",
           "['행복한']"
          ],
          [
           "Song To A Seagull ",
           "Joni Mitchell",
           "['추억']",
           "['행복한']"
          ],
          [
           "Be Myself",
           "Apink (에이핑크)",
           "['위로', '댄스']",
           "['우울한', '경쾌한']"
          ],
          [
           "틀린질문",
           "검정치마",
           "['잔잔한', '휴식', '새벽']",
           "['잔잔한']"
          ],
          [
           "고백",
           "강성훈",
           "['댄스']",
           "['경쾌한']"
          ],
          [
           "고백",
           "델리스파이스",
           "['댄스']",
           "['경쾌한']"
          ],
          [
           "고백",
           "강성훈",
           "['기분전환', '추억']",
           "['행복한']"
          ],
          [
           "고백",
           "델리스파이스",
           "['기분전환', '추억']",
           "['행복한']"
          ],
          [
           "가려진 진실",
           "김준현",
           "['기분전환', '잔잔한']",
           "['행복한', '잔잔한']"
          ],
          [
           "Don`t Recall",
           "카드 (KARD)",
           "['신나는']",
           "['행복한']"
          ],
          [
           "뻔한 소리",
           "트위티 (TWEETY)",
           "['댄스']",
           "['경쾌한']"
          ],
          [
           "Paper Houses",
           "Niall Horan",
           "['드라이브', '비오는날', '밴드', '흐린날', '잔잔한']",
           "['우울한']"
          ],
          [
           "그그그 (그 순간 그 느낌 그 설렘)",
           "오로라스팅",
           "['밤', '새벽']",
           "['무서운', '우울한']"
          ],
          [
           "나 이렇게 행복해도 되는 걸까",
           "허규",
           "['뮤지컬', '감동']",
           "['경쾌한', '행복한']"
          ],
          [
           "괜찮아",
           "김동률",
           "['위로']",
           "['우울한']"
          ],
          [
           "널 너무 모르고",
           "헤이즈 (Heize)",
           "['기분전환']",
           "['행복한']"
          ],
          [
           "THIS IS LOVE (Stage Ver.)",
           "SUPER JUNIOR (슈퍼주니어)",
           "['기분전환']",
           "['행복한']"
          ],
          [
           "99 Red Balloons",
           "Goldfinger",
           "['스트레스', '기분전환']",
           "['긴장되는', '행복한']"
          ],
          [
           "어쩌라고",
           "승리",
           "['댄스']",
           "['경쾌한']"
          ],
          [
           "바다",
           "투어리스트",
           "['밤', '새벽', '자장가']",
           "['무서운', '우울한', '잔잔한']"
          ],
          [
           "방백 (傍白)",
           "김여명",
           "['기분전환']",
           "['행복한']"
          ],
          [
           "내 모든  것",
           "서태지와 아이들",
           "['추억']",
           "['행복한']"
          ],
          [
           "독일공원",
           "이호석",
           "['휴식', '카페', '기분전환', '사랑', '이별', '스트레스']",
           "['잔잔한', '행복한']"
          ],
          [
           "How Many Times",
           "비 마이 게스트",
           "['비오는날', '여행', '산책']",
           "['행복한']"
          ],
          [
           "있을때 잘해 (Remix)",
           "쿨 (COOL)",
           "['댄스']",
           "['경쾌한']"
          ],
          [
           "겨울애 (愛)",
           "파티타임",
           "['겨울']",
           "['잔잔한']"
          ],
          [
           "Children Of Today",
           "Blasterjaxx",
           "['운동', '드라이브']",
           "['경쾌한', '행복한']"
          ],
          [
           "Escape",
           "거미",
           "['추억', '기분전환', '회상']",
           "['행복한']"
          ],
          [
           "유기농 (Feat. Reddy, NO:EL) (JVillian mix)",
           "한해",
           "['여름', '파티']",
           "['경쾌한', '행복한']"
          ],
          [
           "The Only Way Is Up (Radio Edit)",
           "Martin Garrix, Tiesto",
           "['클럽']",
           "['경쾌한']"
          ],
          [
           "나라와 만석의 Love Theme",
           "오만석, 오나라",
           "['한강', '행복', '여행', '기분전환', '설렘']",
           "['행복한']"
          ],
          [
           "Stay With Me (Feat. 신지수) (Prod. Imlay)",
           "슬릭 (SLEEQ)",
           "['기분전환']",
           "['행복한']"
          ],
          [
           "헤매이다 (Prod by 코간멜아)",
           "허윤경",
           "['봄날']",
           "['행복한']"
          ],
          [
           "냉동만두",
           "사이",
           "['스트레스']",
           "['긴장되는']"
          ],
          [
           "우리라는 말이 사라진 것 같아 (With 성민)",
           "미앤유 (me and you)",
           "['이별', '짝사랑']",
           "['우울한', '행복한']"
          ],
          [
           "Happy",
           "핑클 (Fin.K.L)",
           "['댄스']",
           "['경쾌한']"
          ],
          [
           "그대밖엔",
           "클릭비 (Click-B)",
           "['추억', '기분전환', '회상']",
           "['행복한']"
          ],
          [
           "Bad Lady",
           "화요비",
           "['카페', '흥겨운', '힐링', '휴식', '추억', '회상']",
           "['잔잔한']"
          ],
          [
           "Me+U",
           "f(x)",
           "['기분전환']",
           "['행복한']"
          ],
          [
           "Thine",
           "Rb Free Code Combination",
           "['여행', '기분전환', '산책']",
           "['행복한']"
          ],
          [
           "O.K O.K",
           "DJ DOC",
           "['댄스']",
           "['경쾌한']"
          ],
          [
           "Radar",
           "Britney Spears",
           "['드라이브', '기분전환', '신나는', '운동']",
           "['행복한']"
          ],
          [
           "어두운 밤을 보았지",
           "권나무",
           "['우울', '잔잔한']",
           "['우울한', '잔잔한']"
          ],
          [
           "Carry The Weight",
           "Denison Witmer",
           "['카페', '커피', '비오는날', '잔잔한', '봄비', '센치']",
           "['잔잔한']"
          ],
          [
           "679 (Feat. Remy Boyz)",
           "Fetty Wap",
           "['클럽']",
           "['경쾌한']"
          ],
          [
           "The Sweetest Taboo (Remastered)",
           "Sade",
           "['여름밤']",
           "['경쾌한']"
          ],
          [
           "FILM",
           "마틴스미스",
           "['휴식', '사랑']",
           "['잔잔한', '행복한']"
          ],
          [
           "Sun In Our Eyes (Don Diablo Remix)",
           "MØ, Diplo",
           "['신나는']",
           "['행복한']"
          ],
          [
           "진짜 사랑",
           "슈샤인보이",
           "['댄스']",
           "['경쾌한']"
          ],
          [
           "#1(Nut`s Poetry) (Feat. 신지수)",
           "스키니죠 (Skinnyjoe)",
           "['기분전환']",
           "['행복한']"
          ],
          [
           "낯선날 (Feat. 펀치) (Weird Day)",
           "문별 (마마무)",
           "['드라이브']",
           "['행복한']"
          ],
          [
           "Real Love",
           "Lo Moon",
           "['휴식', '여행산책', '드라이브', '기분전환', '스트레스']",
           "['행복한']"
          ],
          [
           "거짓처럼 다시 봄은 오겠지 (Spring Will Come Again As Always)",
           "316",
           "['잔잔한']",
           "['잔잔한']"
          ],
          [
           "Reinventing The Wheel To Run Myself Over",
           "Fall Out Boy",
           "['스트레스', '기분전환']",
           "['긴장되는', '행복한']"
          ],
          [
           "이 비가 그치면",
           "쿨손",
           "['기분전환', '사랑', '잔잔한', '밤', '새벽']",
           "['행복한']"
          ],
          [
           "선인장 (Green Shadow Mix)",
           "캐스커",
           "['댄스', '슬픔', '이별']",
           "['우울한']"
          ],
          [
           "In2Uroduction",
           "마이큐(MY-Q)",
           "['밤', '새벽']",
           "['무서운', '우울한']"
          ],
          [
           "날 닮은 너",
           "이예준, 이현주",
           "['이별']",
           "['우울한']"
          ],
          [
           "Game Over",
           "Martin Garrix, Loopers",
           "['클럽']",
           "['경쾌한']"
          ],
          [
           "Booty Bounce (Extended Mix) (Dirty Ver.)",
           "Taio Cruz, Tujamo",
           "['클럽']",
           "['경쾌한']"
          ],
          [
           "아디오",
           "이승기",
           "['추억', '회상']",
           "['행복한', '잔잔한']"
          ],
          [
           "I Walk The Line",
           "Halsey",
           "['드라이브']",
           "['행복한']"
          ],
          [
           "Homme",
           "Brazilian Girls",
           "['비오는날', '밤', '새벽']",
           "['우울한']"
          ],
          [
           "아직은 아냐 (Tell Me Baby)",
           "로맨틱 펀치",
           "['기분전환', '드라이브']",
           "['행복한']"
          ],
          [
           "안녕 사랑아",
           "박효신",
           "['이별']",
           "['우울한']"
          ],
          [
           "E메이져를 치면",
           "김창완밴드",
           "['추억', '드라이브', '회상']",
           "['행복한']"
          ],
          [
           "Amanda",
           "Boston",
           "['휴식', '힐링', '기분전환']",
           "['행복한']"
          ],
          [
           "홀로봄",
           "안예은",
           "['봄']",
           "['행복한']"
          ],
          [
           "Ignition",
           "R. Kelly",
           "['드라이브', '기분전환', '사랑', '까페', '추억']",
           "['행복한']"
          ],
          [
           "너 때문에",
           "제아",
           "['이별']",
           "['우울한']"
          ],
          [
           "너 때문에",
           "B1A4",
           "['이별']",
           "['우울한']"
          ],
          [
           "너 때문에",
           "제아",
           "['기분전환']",
           "['행복한']"
          ],
          [
           "너 때문에",
           "B1A4",
           "['기분전환']",
           "['행복한']"
          ],
          [
           "애타는 남자 (Feat. 갈고리)",
           "연남동 덤앤더머",
           "['잔잔한', '밤', '새벽']",
           "['잔잔한', '무서운', '우울한']"
          ],
          [
           "Can I Kick It?",
           "A Tribe Called Quest",
           "['낭만', '추억', '드라이브', '기분전환']",
           "['행복한']"
          ],
          [
           "손톱만한 외로움",
           "차지연",
           "['잔잔한', '밤', '새벽']",
           "['잔잔한', '무서운', '우울한']"
          ],
          [
           "날 것",
           "케미 (Kemy)",
           "['스트레스']",
           "['긴장되는']"
          ],
          [
           "물속에 잠긴 시간",
           "홍광호",
           "['뮤지컬']",
           "['경쾌한']"
          ],
          [
           "듣고싶어 (E905) (Inst.)",
           "DIA (다이아)",
           "['공부']",
           "['잔잔한']"
          ],
          [
           "어떤가요 그댄",
           "청하",
           "['새벽', '이별']",
           "['우울한']"
          ],
          [
           "소리없이 날",
           "최인영, 구혜선",
           "['사랑']",
           "['행복한']"
          ],
          [
           "전하지 못한 이야기",
           "화려 (Hwaryeo)",
           "['이별']",
           "['우울한']"
          ],
          [
           "Sumthin` Sumthin`",
           "Maxwell",
           "['힐링', '휴식']",
           "['행복한', '잔잔한']"
          ],
          [
           "설렘 가득",
           "어쿠스틱 콜라보",
           "['사랑']",
           "['행복한']"
          ],
          [
           "How Deep Is Your Love",
           "Various Artists",
           "['추억', '회상', '힐링', '휴식']",
           "['행복한', '잔잔한']"
          ],
          [
           "Summer love",
           "데일",
           "['여름', '드라이브']",
           "['경쾌한', '행복한']"
          ],
          [
           "The Island - Pt. I (Dawn)",
           "Pendulum",
           "['드라이브']",
           "['행복한']"
          ],
          [
           "유죄",
           "god",
           "['추억', '기분전환', '회상']",
           "['행복한']"
          ],
          [
           "Ocean Cruise (Feat. Ingram Jones) (Original Mix)",
           "DJ Hanmin, Eastlight",
           "['클럽']",
           "['경쾌한']"
          ],
          [
           "니까짓게 (How dare you) (Demicat Remix)",
           "씨스타",
           "['댄스']",
           "['경쾌한']"
          ],
          [
           "Faded Love (Feat. Future)",
           "Tinashe",
           "['밤', '분위기', '드라이브']",
           "['무서운', '잔잔한', '행복한']"
          ],
          [
           "Cannonball (Feat. X Ambassadors)",
           "Skylar Grey",
           "['기분전환']",
           "['행복한']"
          ],
          [
           "Not Today",
           "치타 (CHEETAH)",
           "['센치', '우울']",
           "['우울한']"
          ],
          [
           "가져가",
           "원더걸스",
           "['추억']",
           "['행복한']"
          ],
          [
           "나는 나는 음악",
           "임태경",
           "['스트레스', '운동', '뮤지컬', '사랑']",
           "['경쾌한']"
          ],
          [
           "Surge 7.4",
           "신설희",
           "['휴식', '여행산책', '드라이브', '기분전환', '설렘', '스트레스']",
           "['행복한']"
          ],
          [
           "이게 아닌데",
           "태양",
           "['새벽']",
           "['우울한']"
          ],
          [
           "박수 (Clap)",
           "틴탑",
           "['댄스']",
           "['경쾌한']"
          ],
          [
           "Discovery",
           "보아 (BoA)",
           "['댄스', '몽환', '몽환적']",
           "['경쾌한', '잔잔한', '긴장되는']"
          ],
          [
           "May The Bitter Man Win (Feat. J. Cole)",
           "Treasure Davis",
           "['기분전환', '드라이브']",
           "['행복한']"
          ],
          [
           "불놀이 (Flowerwork)",
           "엔플라잉 (N.Flying)",
           "['신나는']",
           "['행복한']"
          ],
          [
           "Sevenless",
           "전국비둘기연합",
           "['밴드', '여름', '페스티벌', '기분전환', '스트레스']",
           "['경쾌한']"
          ],
          [
           "Priceless",
           "Melanie Fiona",
           "['카페', '밤', '겨울', '힐링', '기분전환', '크리스마스']",
           "['행복한']"
          ],
          [
           "고기예찬",
           "박용전",
           "['기분전환']",
           "['행복한']"
          ],
          [
           "Your Name",
           "SHINee (샤이니)",
           "['사랑']",
           "['행복한']"
          ],
          [
           "촉촉 (Feat. 요조)",
           "피터팬 컴플렉스",
           "['사랑']",
           "['행복한']"
          ],
          [
           "보여줘요 (Feat. 정현웅)",
           "황예원",
           "['카페']",
           "['잔잔한']"
          ],
          [
           "죽어도 너야",
           "V, 진",
           "['휴식']",
           "['잔잔한']"
          ],
          [
           "Special",
           "비스트",
           "['기분전환']",
           "['행복한']"
          ],
          [
           "왕자는 떠났네",
           "배해선",
           "['기분전환', '잔잔한']",
           "['행복한', '잔잔한']"
          ],
          [
           "LA LA",
           "WINNER",
           "['드라이브']",
           "['행복한']"
          ],
          [
           "슈비드",
           "소호대",
           "['추억']",
           "['행복한']"
          ],
          [
           "가지말아요",
           "그네와 꽃",
           "['잔잔한', '밤', '새벽']",
           "['잔잔한', '무서운', '우울한']"
          ],
          [
           "Tenderly",
           "Disclosure",
           "['여행', '기분전환', '산책']",
           "['행복한']"
          ],
          [
           "Tenderly",
           "Disclosure",
           "['여행', '기분전환', '산책']",
           "['행복한']"
          ],
          [
           "So Much Love",
           "Stadiumx, Muzzaik",
           "['드라이브']",
           "['행복한']"
          ],
          [
           "Pray (Male Ver.)",
           "인포머",
           "['비오는날', '슬픔', '이별']",
           "['우울한']"
          ],
          [
           "고백해도 괜찮아",
           "뷰티핸섬",
           "['기분전환', '봄']",
           "['행복한']"
          ],
          [
           "Beautiful Days",
           "길은경",
           "['카페', '휴식', '월요일', '월요병', '힐링', '기분전환', '불면증']",
           "['잔잔한']"
          ],
          [
           "What Are You Doing New Year`s Eve",
           "Nancy Wilson",
           "['캐롤']",
           "['행복한']"
          ],
          [
           "다시 사랑",
           "미쓰에이",
           "['댄스', '운동할때', '드라이브']",
           "['경쾌한']"
          ],
          [
           "Return To...",
           "모던 쥬스",
           "['추억']",
           "['행복한']"
          ],
          [
           "Don`t Kill The Fun (Feat. Chris Brown)",
           "Sevyn Streeter",
           "['기분전환', '드라이브']",
           "['행복한']"
          ],
          [
           "겨울잠",
           "준호 (2PM)",
           "['이별']",
           "['우울한']"
          ],
          [
           "눈을 감으면 (WooHyun Solo)",
           "인피니트",
           "['잔잔한', '새벽']",
           "['잔잔한', '우울한']"
          ],
          [
           "메리-크리 (Merry-Chri)",
           "보아 (BoA)",
           "['겨울']",
           "['잔잔한']"
          ],
          [
           "여행",
           "권나무",
           "['청춘', '위로', '새벽', '밤']",
           "['우울한']"
          ],
          [
           "공주님",
           "팻두",
           "['달콤한', '휴식', '힐링', '설렘', '사랑']",
           "['행복한']"
          ],
          [
           "너에게 나는",
           "정든",
           "['새벽', '밤', '잔잔한']",
           "['우울한', '무서운', '잔잔한']"
          ],
          [
           "이렇게 그대 그의 품에",
           "박은태",
           "['뮤지컬']",
           "['경쾌한']"
          ],
          [
           "어떤 호텔",
           "김사월",
           "['밤', '잔잔한', '우울', '새벽', '슬픔', '위로', '힐링', '외로움']",
           "['우울한']"
          ],
          [
           "나는 최고의 헤어디자이너 강준",
           "PDJ.Lee",
           "['감동', '뮤지컬']",
           "['행복한', '경쾌한']"
          ],
          [
           "고백 (With 유승우, 정세운)",
           "마인드유",
           "['사랑']",
           "['행복한']"
          ],
          [
           "Brothers In Arms",
           "Dire Straits",
           "['사랑']",
           "['행복한']"
          ],
          [
           "Lonely Won`t Leave Me Alone",
           "Jermaine Jackson",
           "['새벽', '추억', '사랑']",
           "['행복한']"
          ],
          [
           "편한 사람이 생겼어 (With 성아 Of 바닐라 어쿠스틱)",
           "김지수",
           "['설렘', '기분전환', '힐링', '휴식']",
           "['행복한']"
          ],
          [
           "Gloomy Sunday",
           "피아 (PIA)",
           "['밴드']",
           "['경쾌한']"
          ],
          [
           "Alone (Alex Arcoleo Remix)",
           "Alan Walker",
           "['운동', '기분전환']",
           "['경쾌한', '행복한']"
          ],
          [
           "Granite",
           "Pendulum",
           "['운동']",
           "['경쾌한']"
          ],
          [
           "꽃 (Feat. 하은)",
           "커피소년",
           "['봄']",
           "['행복한']"
          ],
          [
           "전국체전",
           "비단종",
           "['힐링', '카페']",
           "['행복한', '잔잔한']"
          ],
          [
           "밤이 싫어요",
           "전효성",
           "['스트레스', '기분전환']",
           "['긴장되는', '행복한']"
          ],
          [
           "날 사랑하지 않아도",
           "비비안 (BBAHN)",
           "['스트레스', '기분전환']",
           "['긴장되는', '행복한']"
          ],
          [
           "Mattinata",
           "김재형",
           "['카페', '여유', '봄날', '벚꽃', '힐링', '봄']",
           "['행복한']"
          ],
          [
           "산들산들",
           "다람",
           "['설렘']",
           "['행복한']"
          ],
          [
           "휴식",
           "스탠딩 에그",
           "['휴식']",
           "['잔잔한']"
          ],
          [
           "Bron Chillin` (Feat. Owen Ovadoz) (Prod. O.T.O)",
           "Changstarr*",
           "['기분전환', '스트레스']",
           "['행복한', '긴장되는']"
          ],
          [
           "Highlander",
           "최고은",
           "['기분전환']",
           "['행복한']"
          ],
          [
           "New York Narcotic",
           "The Knocks",
           "['커피', '카페', '밤', '오후', '퇴근길']",
           "['잔잔한']"
          ],
          [
           "너와 내가 우리가 되던 날 (Feat. 앤서 (새벽예감))",
           "허스키와 피아노",
           "['설렘', '사랑']",
           "['행복한']"
          ],
          [
           "Sherlock (SHINee WORLD 4 Ver.)",
           "SHINee (샤이니)",
           "['시원한', '무더위', '사랑', '신나는']",
           "['경쾌한', '행복한']"
          ],
          [
           "처음 널 보고 #1",
           "위아영 (WeAreYoung)",
           "['사랑']",
           "['행복한']"
          ],
          [
           "잘 살고 있지롱",
           "윤딴딴",
           "['기분전환']",
           "['행복한']"
          ],
          [
           "Take Me On",
           "솔튼페이퍼",
           "['카페', '잔잔한']",
           "['잔잔한']"
          ],
          [
           "For The City (Feat. Jin.)",
           "Far East Movement",
           "['피크닉', '오후', '여행', '기분전환', '편안한']",
           "['행복한']"
          ],
          [
           "Through The Rain",
           "Mariah Carey",
           "['비오는날', '잔잔한']",
           "['우울한', '잔잔한']"
          ],
          [
           "위로",
           "정인",
           "['위로']",
           "['우울한']"
          ],
          [
           "When I`m With You",
           "MLC",
           "['카페']",
           "['잔잔한']"
          ],
          [
           "기억하니? (Acoustic Ver.) (Feat. 1Sagain, 윤진)",
           "July",
           "['잔잔한']",
           "['잔잔한']"
          ],
          [
           "청춘이 묻는다 (Original)",
           "임태경, 김태훈",
           "['스트레스', '기분전환']",
           "['긴장되는', '행복한']"
          ],
          [
           "뚭뚜루",
           "오리엔탈 쇼커스",
           "['기분전환']",
           "['행복한']"
          ],
          [
           "Self Care",
           "Mac Miller",
           "['기분전환']",
           "['행복한']"
          ],
          [
           "나 여기서",
           "Various Artists",
           "['감동', '뮤지컬']",
           "['행복한', '경쾌한']"
          ],
          [
           "방백 (Aside)",
           "SHINee (샤이니)",
           "['사랑']",
           "['행복한']"
          ],
          [
           "Morning",
           "마마무 (Mamamoo)",
           "['댄스']",
           "['경쾌한']"
          ],
          [
           "왠지 느낌이 좋아 (`00)",
           "여행스케치",
           "['드라이브']",
           "['행복한']"
          ],
          [
           "혜야 (Y Si Fuera Ella)",
           "SHINee (샤이니)",
           "['스트레스']",
           "['긴장되는']"
          ],
          [
           "새장 속의 친구",
           "김광석",
           "['추억']",
           "['행복한']"
          ],
          [
           "사랑 그 쓸쓸함에 대하여",
           "김윤아, 채보훈",
           "['카페']",
           "['잔잔한']"
          ],
          [
           "미워 (Hate U, Love U)",
           "SUPER JUNIOR (슈퍼주니어)",
           "['댄스', '힐링', '휴식', '설렘', '사랑', '추억', '회상']",
           "['행복한']"
          ],
          [
           "Salary",
           "페퍼톤스 (Peppertones)",
           "['기분전환']",
           "['행복한']"
          ],
          [
           "소중한 사람을 위해",
           "V.O.S",
           "['설렘', '사랑', '추억', '기분전환', '회상']",
           "['행복한']"
          ],
          [
           "If I Love You (Feat. 이단옆차기)",
           "NS 윤지",
           "['기분전환']",
           "['행복한']"
          ],
          [
           "범띠 아가씨",
           "양미란",
           "['추억']",
           "['행복한']"
          ],
          [
           "boy",
           "offonoff (오프온오프)",
           "['기분전환']",
           "['행복한']"
          ],
          [
           "이별이라는 밤",
           "맥켈리",
           "['잔잔한']",
           "['잔잔한']"
          ],
          [
           "나의 빛, 어머니",
           "박은태",
           "['뮤지컬']",
           "['경쾌한']"
          ],
          [
           "I`m Not Yours",
           "스탠딩 에그",
           "['밤']",
           "['무서운']"
          ],
          [
           "겨울, 끝 (It`s You)",
           "여자친구 (GFRIEND)",
           "['댄스']",
           "['경쾌한']"
          ],
          [
           "새빨간",
           "테인",
           "['설렘', '사랑']",
           "['행복한']"
          ],
          [
           "나는 나만의 것",
           "옥주현",
           "['뮤지컬']",
           "['경쾌한']"
          ],
          [
           "나는 나만의 것",
           "신영숙",
           "['뮤지컬']",
           "['경쾌한']"
          ],
          [
           "나는 나만의 것",
           "옥주현",
           "['뮤지컬']",
           "['경쾌한']"
          ],
          [
           "나는 나만의 것",
           "신영숙",
           "['뮤지컬']",
           "['경쾌한']"
          ],
          [
           "Take on Me (Kygo Remix)",
           "A-ha",
           "['드라이브', 'pub', '클럽', '기분전환']",
           "['행복한', '경쾌한']"
          ],
          [
           "언젠가 이 곳이 (장금, 민정호)",
           "원기준, 김소현",
           "['뮤지컬', '감동']",
           "['경쾌한', '행복한']"
          ],
          [
           "사람없인 사람으로 못 살아요",
           "문문 (MoonMoon)",
           "['새벽']",
           "['우울한']"
          ],
          [
           "프리프링 매지컬 샤이닝 스타 (아빠를 구하자)",
           "프리프링 마리의 마법학교 대모험",
           "['뮤지컬']",
           "['경쾌한']"
          ],
          [
           "The Ocean (Feat. Julia Spada)",
           "Steve Angello",
           "['댄스', '페스티벌', '파티', '신나는']",
           "['경쾌한', '행복한']"
          ],
          [
           "안부를 묻는다는 것",
           "아무사이",
           "['밤']",
           "['무서운']"
          ],
          [
           "라디오90",
           "조동희",
           "['가을']",
           "['잔잔한']"
          ],
          [
           "우리 사랑 여기까지죠",
           "혜령",
           "['이별']",
           "['우울한']"
          ],
          [
           "나만의 친구",
           "솔리드",
           "['추억', '회상']",
           "['행복한', '잔잔한']"
          ],
          [
           "Black Shoes (하이힐) (Feat. Lil Cham)",
           "Steve Wu, 두스",
           "['기분전환', '신나는', '댄스']",
           "['행복한']"
          ],
          [
           "Triple",
           "클레오",
           "['댄스']",
           "['경쾌한']"
          ],
          [
           "넌 모를 거야",
           "이영훈",
           "['잔잔한']",
           "['잔잔한']"
          ],
          [
           "밤하늘의 별을 2 (Feat. 제이비 & 한지은)",
           "양정승",
           "['사랑']",
           "['행복한']"
          ],
          [
           "Strip That Down (Feat. Quavo)",
           "Liam Payne",
           "['드라이브']",
           "['행복한']"
          ],
          [
           "눈치도 없이",
           "더 문샤이너스",
           "['스트레스', '설렘', '사랑']",
           "['행복한']"
          ],
          [
           "Ready Or Not Yo! (English Ver.) (Feat. Jinusean, Perry)",
           "원타임",
           "['댄스']",
           "['경쾌한']"
          ],
          [
           "애원 (Funky Disco Ver.)",
           "에어",
           "['댄스']",
           "['경쾌한']"
          ],
          [
           "Speechless (feat. Erika Sirola)",
           "Robin Schulz",
           "['운동']",
           "['경쾌한']"
          ],
          [
           "San Francisco",
           "ADOY",
           "['기분전환']",
           "['행복한']"
          ],
          [
           "같애 (same)",
           "디 로드 (D.Road)",
           "['카페']",
           "['잔잔한']"
          ],
          [
           "비가 오면",
           "이지형",
           "['비오는날']",
           "['우울한']"
          ],
          [
           "그대라서",
           "신용재, 루나 (LUNA)",
           "['크리스마스']",
           "['행복한']"
          ],
          [
           "Don`t Let Me Be Lonely Tonight",
           "Eric Clapton",
           "['가을', '주말', '혼술', '와인', '센치한']",
           "['잔잔한']"
          ],
          [
           "Livin` In a Dream (Feat. Nipsey Hussle)",
           "The Neighbourhood",
           "['기분전환']",
           "['행복한']"
          ],
          [
           "상상",
           "김거지",
           "['몽환']",
           "['잔잔한']"
          ],
          [
           "동그라미",
           "모세",
           "['여름']",
           "['경쾌한']"
          ],
          [
           "Kiss Of Life",
           "Sade",
           "['새벽', '밤', '설렘', '사랑']",
           "['행복한']"
          ],
          [
           "Sweet Dreams (Are Made Of This)",
           "Marilyn Manson",
           "['기분전환']",
           "['행복한']"
          ],
          [
           "Power (Feat. HAYAKE)",
           "FIBER FUNK",
           "['스트레스', '기분전환', '신나는']",
           "['행복한']"
          ],
          [
           "바다 (Feat. KURO)",
           "김미정 (yourbeagle)",
           "['드라이브']",
           "['행복한']"
          ],
          [
           "순심이",
           "임창정",
           "['댄스', '힐링', '휴식', '잔잔한', '추억', '회상']",
           "['잔잔한']"
          ],
          [
           "마지막 부탁",
           "이등변삼각형",
           "['잔잔한', '우울', '위로', '슬픔', '사랑', '청춘']",
           "['우울한']"
          ],
          [
           "사랑은 유리 같은 것",
           "핑클 (Fin.K.L)",
           "['추억']",
           "['행복한']"
          ],
          [
           "WYA (Feat. 버벌진트)",
           "Se.A (세아)",
           "['여행', '드라이브', '클럽', '카페', '잔잔', '분위기', '커피']",
           "['행복한', '잔잔한']"
          ],
          [
           "Yellow Ade",
           "24.5",
           "['심쿵']",
           "['긴장되는']"
          ],
          [
           "가을밤",
           "배영경, 송푸름",
           "['잔잔한']",
           "['잔잔한']"
          ],
          [
           "가을밤",
           "정성우",
           "['잔잔한']",
           "['잔잔한']"
          ],
          [
           "가을밤",
           "배영경, 송푸름",
           "['새벽']",
           "['우울한']"
          ],
          [
           "가을밤",
           "정성우",
           "['새벽']",
           "['우울한']"
          ],
          [
           "피 땀 눈물",
           "방탄소년단",
           "['기분전환']",
           "['행복한']"
          ],
          [
           "너이길 원했던 이유",
           "쿨 (COOL)",
           "['댄스']",
           "['경쾌한']"
          ],
          [
           "My Prerogative",
           "Britney Spears",
           "['추억', '드라이브', '슬픔', '산책', '이별', '여행']",
           "['행복한']"
          ],
          [
           "The Blower",
           "Damien Rice",
           "['잔잔한', '밤', '새벽', '카페', '휴식', '드라이브']",
           "['잔잔한']"
          ],
          [
           "Hurricane",
           "신화",
           "['가을']",
           "['잔잔한']"
          ],
          [
           "Check It Out",
           "Ferry Corsten",
           "['스트레스']",
           "['긴장되는']"
          ],
          [
           "Tell Me Tell Me",
           "레인보우",
           "['댄스']",
           "['경쾌한']"
          ],
          [
           "Mood",
           "Carlie Hanson",
           "['가을감성', '가을', '잔잔한', '분위기', '선선한']",
           "['잔잔한']"
          ],
          [
           "너, 한눈 팔지마!",
           "걸스데이",
           "['댄스']",
           "['경쾌한']"
          ],
          [
           "종이 심장 (Paper Heart)",
           "f(x)",
           "['기분전환']",
           "['행복한']"
          ],
          [
           "너 옆으로 떨어지는 빛",
           "정고래",
           "['잔잔한', '드라이브', '휴식']",
           "['잔잔한']"
          ],
          [
           "깊이 잠들어요 (Remastered)",
           "한올",
           "['위로', '잔잔한', '새벽']",
           "['우울한']"
          ],
          [
           "Good Bye (Vocal Ver.)",
           "서태지",
           "['사랑']",
           "['행복한']"
          ],
          [
           "I`m Here",
           "양다일",
           "['잔잔한', '추억']",
           "['잔잔한', '행복한']"
          ],
          [
           "Cold",
           "피에스타",
           "['기분전환']",
           "['행복한']"
          ],
          [
           "사랑이 온 것 같아요",
           "릴리 (Lily)",
           "['봄', '사랑']",
           "['행복한']"
          ],
          [
           "모든 게 다 사라져",
           "Various Artists",
           "['스트레스', '기분전환']",
           "['긴장되는', '행복한']"
          ],
          [
           "I Am Changing",
           "차지연",
           "['잔잔한', '밤', '새벽']",
           "['잔잔한', '무서운', '우울한']"
          ],
          [
           "Born To Run",
           "Bruce Springsteen",
           "['기분전환']",
           "['행복한']"
          ],
          [
           "바램",
           "차호석",
           "['슬픔', '추억', '이별', '회상']",
           "['우울한']"
          ],
          [
           "Owl`s Lullaby",
           "Belz",
           "['유니크']",
           "['경쾌한']"
          ],
          [
           "동훈이라고!! (Feat. 쿤타)",
           "하하",
           "['여름', '기분전환']",
           "['경쾌한', '행복한']"
          ],
          [
           "The Voice (with 조지은)",
           "제이스쿼드 (JSQUAD)",
           "['잔잔한', '여행', '기분전환', '까페', '신나는']",
           "['행복한']"
          ],
          [
           "깨어나",
           "정동화",
           "['새벽', '뮤지컬']",
           "['우울한', '경쾌한']"
          ],
          [
           "Kiss",
           "쿨 (COOL)",
           "['비오는날']",
           "['우울한']"
          ],
          [
           "Luxury (Single Ver.)",
           "한나",
           "['댄스']",
           "['경쾌한']"
          ],
          [
           "나라의 결심",
           "오나라",
           "['뮤지컬']",
           "['경쾌한']"
          ],
          [
           "소원",
           "고유진 (플라워)",
           "['추억', '기분전환', '회상', '이별']",
           "['행복한']"
          ],
          [
           "Roller Coaster",
           "몬스타엑스",
           "['기분전환', '운동', '댄스', '사랑']",
           "['행복한', '경쾌한']"
          ],
          [
           "하이파이브",
           "아이돌학교",
           "['댄스']",
           "['경쾌한']"
          ],
          [
           "밤밤밤 (Remastered)",
           "Adios Audio",
           "['밴드']",
           "['경쾌한']"
          ],
          [
           "Painful Truth (아픈 진실)",
           "송용진",
           "['뮤지컬']",
           "['경쾌한']"
          ],
          [
           "Sleeping Pill (수면제) (Feat. Ludens Musiq)",
           "Godiflow (가디플로우)",
           "['신나는']",
           "['행복한']"
          ],
          [
           "Dental Care",
           "Owl City",
           "['여행', '산책']",
           "['행복한']"
          ],
          [
           "내게 와",
           "소낙빌",
           "['운동', '드라이브', '여행', '신나는']",
           "['행복한']"
          ],
          [
           "Hey U!",
           "샤크라",
           "['댄스']",
           "['경쾌한']"
          ],
          [
           "COOL",
           "Troye Sivan",
           "['기분전환']",
           "['행복한']"
          ],
          [
           "한마디 (Your Voice)",
           "헤리티지(Heritage), 종현 (JONGHYUN)",
           "['기분전환']",
           "['행복한']"
          ],
          [
           "Mad Love",
           "DJ L",
           "['페스티벌']",
           "['경쾌한']"
          ],
          [
           "Beautiful",
           "비스트",
           "['기분전환']",
           "['행복한']"
          ],
          [
           "니꺼할래 (Feat. K.O.K)",
           "레미",
           "['잔잔한', '설렘', '사랑']",
           "['행복한']"
          ],
          [
           "Last Request (Album Ver.)",
           "Paolo Nutini",
           "['비오는날', '장마', '분위기', '비']",
           "['우울한']"
          ],
          [
           "Double J",
           "이재진",
           "['댄스']",
           "['경쾌한']"
          ],
          [
           "봄이와 (Feat. 이인세)",
           "르 메리무스",
           "['봄']",
           "['행복한']"
          ],
          [
           "Say",
           "젝스키스",
           "['잔잔한', '추억', '회상']",
           "['잔잔한']"
          ],
          [
           "달도 밝다",
           "나윤영",
           "['뮤지컬']",
           "['경쾌한']"
          ],
          [
           "진심",
           "캔",
           "['새벽', '추억', '밤', '회상']",
           "['우울한', '행복한', '무서운', '잔잔한']"
          ],
          [
           "오랜만이야, 안녕",
           "온리유",
           "['휴식']",
           "['잔잔한']"
          ],
          [
           "사람들은 모두 외롭다",
           "레이디버드(LADYBIRD)",
           "['슬픔', '밤', '이별', '새벽', '위로', '힘들때']",
           "['우울한']"
          ],
          [
           "부탁해",
           "우주소녀",
           "['신나는']",
           "['행복한']"
          ],
          [
           "Heatwave (feat. More Giraffes)",
           "Melvv",
           "['기분전환']",
           "['행복한']"
          ],
          [
           "Boyscout",
           "김효은, Skinny Brown",
           "['신나는']",
           "['행복한']"
          ],
          [
           "Rocket Man (I Think It`s Going To Be A Long, Long Time)",
           "Elton John",
           "['카페', '감성적인', '까페', '겨울', '밤', '새벽']",
           "['잔잔한']"
          ],
          [
           "내가 눈을 감는 이유",
           "태빈",
           "['추억']",
           "['행복한']"
          ],
          [
           "Good Bye (feat. 김미정 Yourbeagle)",
           "준코코 (Juncoco), 정현 (Jeonghyeon)",
           "['드라이브', '기분전환', '파티', '신나는']",
           "['행복한']"
          ],
          [
           "I Do",
           "어쿠스틱 콜라보",
           "['사랑']",
           "['행복한']"
          ],
          [
           "Human",
           "The Killers",
           "['휴식', '힐링', '산책', '여행', '스트레스', '기분전환']",
           "['행복한']"
          ],
          [
           "팬텀의 등장",
           "전동석, 뮤지컬 팬텀 2016 앙상블",
           "['뮤지컬']",
           "['경쾌한']"
          ],
          [
           "멍",
           "PERC%NT",
           "['한강', '카페', '잔잔한', '산책']",
           "['행복한', '잔잔한']"
          ],
          [
           "돗대 (ONE AND ONLY) (B.I SOLO)",
           "iKON",
           "['기분전환']",
           "['행복한']"
          ],
          [
           "How We Do (Original Mix)",
           "Hardwell, Showtek",
           "['클럽', '기분전환']",
           "['경쾌한', '행복한']"
          ],
          [
           "내게 남은 건 그대 (It All Fades Away)",
           "박은태",
           "['뮤지컬']",
           "['경쾌한']"
          ],
          [
           "첫키스",
           "FTISLAND (FT아일랜드)",
           "['사랑']",
           "['행복한']"
          ],
          [
           "What A Wonderful Cane (English Ver.)",
           "이동우 (LEE DONG WOO)",
           "['여름', '설렘', '사랑']",
           "['행복한']"
          ],
          [
           "No Cellular Site",
           "D-Block Europe",
           "['달달한']",
           "['행복한']"
          ],
          [
           "In Heaven (Narr. 김정은)",
           "JYJ",
           "['힐링', '휴식', '추억', '기분전환', '회상']",
           "['행복한']"
          ],
          [
           "I Know You Know",
           "POE",
           "['여름', '청량', '산책', '밝은', '유니크', '신나는']",
           "['경쾌한', '행복한']"
          ],
          [
           "SOMEONE`S SOMEONE",
           "몬스타엑스",
           "['밤', '새벽감성', '라운지', '기분전환', '분위기', '카페']",
           "['잔잔한']"
          ],
          [
           "Inn",
           "주영",
           "['새벽']",
           "['우울한']"
          ],
          [
           "Moonlight",
           "Disclosure",
           "['기분전환']",
           "['행복한']"
          ],
          [
           "시간이 안 지나가 (Walkin` In Time)",
           "더보이즈 (THE BOYZ)",
           "['이별']",
           "['우울한']"
          ],
          [
           "내 님의 사랑은",
           "따로 또 같이",
           "['봄', '드라이브', '여행', '휴식', '기분전환', '사랑', '퇴근길']",
           "['행복한']"
          ],
          [
           "facetime",
           "oogypark",
           "['카페', '힙한']",
           "['잔잔한', '긴장되는']"
          ],
          [
           "Belief",
           "jeebanoff (지바노프)",
           "['기분전환']",
           "['행복한']"
          ],
          [
           "그게 너였다",
           "안재현",
           "['추억', '회상']",
           "['행복한', '잔잔한']"
          ],
          [
           "The Gambler",
           "Kenny Rogers",
           "['편안한', '추억', '회상']",
           "['편안한', '행복한', '잔잔한']"
          ],
          [
           "아틀란티스 소녀 (Atlantis Princess)",
           "슬기 (SEULGI)",
           "['겨울']",
           "['잔잔한']"
          ],
          [
           "20090729",
           "티아라",
           "['힐링', '휴식', '스트레스', '댄스', '새벽', '밤', '여행', '운동', '위로']",
           "['행복한', '경쾌한', '우울한']"
          ],
          [
           "내 친구의 남자친구",
           "DIA (다이아)",
           "['기분전환', '댄스']",
           "['행복한', '경쾌한']"
          ],
          [
           "BAAAD Flower (Feat. Jaeny, Scid)",
           "BAAAD",
           "['클럽', '스트레스', '기분전환']",
           "['경쾌한', '긴장되는', '행복한']"
          ],
          [
           "Diamond",
           "f(x)",
           "['기분전환']",
           "['행복한']"
          ],
          [
           "이토록 보통의",
           "이주아",
           "['잔잔한']",
           "['잔잔한']"
          ],
          [
           "그대라는 세상",
           "윤미래",
           "['기분전환']",
           "['행복한']"
          ],
          [
           "우산 (Feat. 새송)",
           "김유월",
           "['비오는날']",
           "['우울한']"
          ],
          [
           "내 운명 피하고 싶어",
           "규현 (KYUHYUN)",
           "['뮤지컬']",
           "['경쾌한']"
          ],
          [
           "Perfect Day",
           "Hoku",
           "['스트레스', '기분전환']",
           "['긴장되는', '행복한']"
          ],
          [
           "Take It Out (Feat. 김호연 Of 달좋은밤)",
           "김현석",
           "['드라이브', '가을', '산책', '잔잔한']",
           "['행복한', '잔잔한']"
          ],
          [
           "사랑가 둘",
           "오지총, 함수경",
           "['힐링', '휴식', '추억', '회상']",
           "['행복한', '잔잔한']"
          ],
          [
           "cradle (Feat. Slchld)",
           "protonebula",
           "['카페', '휴식']",
           "['잔잔한']"
          ],
          [
           "Cake Shop",
           "윌콕스",
           "['기분전환']",
           "['행복한']"
          ],
          [
           "Artistic Groove",
           "태민 (TAEMIN)",
           "['드라이브']",
           "['행복한']"
          ],
          [
           "Shower",
           "길건",
           "['댄스']",
           "['경쾌한']"
          ],
          [
           "우리의 새벽은 낮보다 뜨겁다",
           "세븐틴",
           "['신나는']",
           "['행복한']"
          ],
          [
           "비주얼드림 (POP! POP!) - Intel 콜라보레이션송",
           "소녀시대 (GIRLS` GENERATION)",
           "['댄스']",
           "['경쾌한']"
          ],
          [
           "Grrr 총량의 법칙",
           "Stray Kids (스트레이 키즈)",
           "['잔잔한', '기분전환', '신나는']",
           "['행복한']"
          ],
          [
           "두려워질만큼 (2017)",
           "슈가볼",
           "['밤', '새벽', '카페', '잔잔한']",
           "['잔잔한']"
          ],
          [
           "Burn",
           "선미",
           "['사랑', '밤', '설렘', '새벽', '여행', '기분전환', '산책', '스트레스', '운동', '이별', '회상']",
           "['행복한']"
          ],
          [
           "얼마나 잔인한 인생인가",
           "박건형",
           "['힐링', '휴식', '기분전환']",
           "['행복한']"
          ],
          [
           "널 위해 (Feat. 전지혜)",
           "정희동",
           "['화이팅']",
           "['경쾌한']"
          ],
          [
           "이별이래",
           "송소희, 고영열",
           "['이별', '기분전환']",
           "['우울한', '행복한']"
          ],
          [
           "WAY OF STEEL",
           "피해의식",
           "['흥겨운', '스트레스', '밴드', '페스티벌', '기분전환', '신나는']",
           "['경쾌한']"
          ],
          [
           "NEVER",
           "국민의 아들",
           "['신나는']",
           "['행복한']"
          ],
          [
           "마주쳐도",
           "데이무드",
           "['산책', '커피', '오후', '슬픔', '이별']",
           "['행복한', '우울한']"
          ],
          [
           "Night With You",
           "스케줄원 (Schedule 1), 임지안 (LIM ZIAN)",
           "['집중', '휴식', '밤', '잔잔한', '독서', '감성적인']",
           "['잔잔한']"
          ],
          [
           "기도",
           "신화",
           "['겨울']",
           "['잔잔한']"
          ],
          [
           "To Have So Many",
           "John Smith",
           "['카페']",
           "['잔잔한']"
          ],
          [
           "휘파람",
           "맵식스 (MAP6)",
           "['헬스', '헬스장', '운동', '불금']",
           "['경쾌한']"
          ],
          [
           "바람부는 날",
           "하비누아주",
           "['밤', '잔잔한']",
           "['무서운', '잔잔한']"
          ],
          [
           "X",
           "스무살",
           "['잔잔한']",
           "['잔잔한']"
          ],
          [
           "조아? 조아!",
           "DIA (다이아)",
           "['신나는']",
           "['행복한']"
          ],
          [
           "Never Let You Go (Jack Wins Remix) (Feat. John Newman)",
           "Kygo",
           "['여름', '밤', '드라이브', '기분전환', '내적댄스']",
           "['행복한']"
          ],
          [
           "All About",
           "멜로디데이 (MelodyDay)",
           "['기분전환']",
           "['행복한']"
          ],
          [
           "Playinwitme (Remix) [feat. Jay Park]",
           "KYLE",
           "['기분전환']",
           "['행복한']"
          ],
          [
           "그렇게 웃어줘",
           "권순관",
           "['새벽']",
           "['우울한']"
          ],
          [
           "Midnight Sun",
           "세븐어클락",
           "['연말', '춤', '댄스', '기분전환', '신나는']",
           "['행복한']"
          ],
          [
           "아닌걸 알면서도",
           "타임브릿지",
           "['이별']",
           "['우울한']"
          ],
          [
           "Rise And Shine",
           "Deorro",
           "['클럽', '드라이브', '기분전환']",
           "['행복한']"
          ],
          [
           "Bus",
           "전지윤 (JENYER)",
           "['댄스']",
           "['경쾌한']"
          ],
          [
           "Jo",
           "Goldfrapp",
           "['설렘', '사랑', '감성적인', '가을']",
           "['행복한', '잔잔한']"
          ],
          [
           "후회하고 있는거야 (Remake)",
           "윤화재인",
           "['저녁', '설레임', '기억', '추억', '회상']",
           "['잔잔한']"
          ],
          [
           "신데렐라와 왕자의 사랑노래",
           "극단 원공",
           "['뮤지컬']",
           "['경쾌한']"
          ],
          [
           "사랑아",
           "왁스",
           "['슬픔', '추억', '이별']",
           "['우울한']"
          ],
          [
           "작은별 Remix (Heenain Ver.)",
           "팻두, heenain 히나인",
           "['설렘', '사랑', '추억']",
           "['행복한']"
          ],
          [
           "흐렸다 갬",
           "쇼기",
           "['설렘', '사랑', '밤', '잔잔한', '공부']",
           "['행복한', '잔잔한']"
          ],
          [
           "Freedom (Edit) (Feat. Jack McManus)",
           "Afrojack, D-wayne",
           "['스트레스']",
           "['긴장되는']"
          ],
          [
           "지금 전화해요 (With 이향유)",
           "토리노",
           "['밤', '새벽', '그리움', '슬픔', '이별']",
           "['우울한']"
          ],
          [
           "블라디보스톡의 봄노래",
           "박용전",
           "['봄']",
           "['행복한']"
          ],
          [
           "세월이 흘러",
           "차지연",
           "['뮤지컬']",
           "['경쾌한']"
          ],
          [
           "가을 엔딩",
           "리미트",
           "['댄스', '노동요', '신나는']",
           "['경쾌한', '긴장되는', '행복한']"
          ],
          [
           "8:45 Heaven",
           "드렁큰 타이거",
           "['추억']",
           "['행복한']"
          ],
          [
           "다이빙",
           "비버 (Beaver)",
           "['잔잔한', '밤', '새벽', '분위기', '몽환', '휴식', '힐링', '까페']",
           "['잔잔한']"
          ],
          [
           "Must Say Good-Bye",
           "김현철",
           "['추억']",
           "['행복한']"
          ],
          [
           "Give Me Your Love (Feat. John Newman & Nile Rodgers)",
           "Sigala",
           "['기분전환']",
           "['행복한']"
          ],
          [
           "I Did It For Love (Feat. Sean Garrett)",
           "보아 (BoA)",
           "['댄스', '설렘', '사랑', '솔로']",
           "['행복한']"
          ],
          [
           "Where Is My Love",
           "스티 (STi)",
           "['휴식', '힐링']",
           "['잔잔한', '행복한']"
          ],
          [
           "Gasoline",
           "Troye Sivan",
           "['새벽']",
           "['우울한']"
          ],
          [
           "Sweet Words",
           "HYDN",
           "['밴드', '잔잔한', '밤', '새벽', '분위기', '겨울밤']",
           "['잔잔한']"
          ],
          [
           "블루진",
           "디어클라우드",
           "['기분전환']",
           "['행복한']"
          ],
          [
           "Plane",
           "Jason Mraz",
           "['새벽']",
           "['우울한']"
          ],
          [
           "열애중",
           "벤",
           "['이별']",
           "['우울한']"
          ],
          [
           "Lovin Ice Cream",
           "애즈원, 이지라이프",
           "['설렘', '사랑']",
           "['행복한']"
          ],
          [
           "벚꽃이 피면",
           "유형균",
           "['카페', '벚꽃', '기분전환']",
           "['행복한']"
          ],
          [
           "Don`t act",
           "장우영",
           "['겨울', '잔잔한', '추억', '드라이브', '위로', '기분전환', '사랑']",
           "['행복한']"
          ],
          [
           "난 좋아",
           "god",
           "['설렘', '사랑']",
           "['행복한']"
          ],
          [
           "카푸치노 (Cappuccino)",
           "BGM4",
           "['힐링', '추억', '휴식', '회상']",
           "['행복한', '잔잔한']"
          ],
          [
           "Feel So Good",
           "크나큰",
           "['여름']",
           "['경쾌한']"
          ],
          [
           "Karma (Feat. 상민)",
           "용석",
           "['기분전환']",
           "['행복한']"
          ],
          [
           "Shame (Live At The Mac)",
           "Ciaran Lavery",
           "['센치']",
           "['우울한']"
          ],
          [
           "Triumph (Explicit Ver.) (Feat. Cappadonna)",
           "Wu-Tang Clan",
           "['클럽', '분위기', '펍', '신나는']",
           "['경쾌한']"
          ],
          [
           "Live",
           "카라",
           "['댄스', '힐링']",
           "['경쾌한', '행복한']"
          ],
          [
           "Live",
           "카라",
           "['댄스', '힐링']",
           "['경쾌한', '행복한']"
          ],
          [
           "Live",
           "카라",
           "['댄스', '힐링']",
           "['경쾌한', '행복한']"
          ],
          [
           "Live",
           "카라",
           "['댄스', '힐링']",
           "['경쾌한', '행복한']"
          ],
          [
           "Live",
           "카라",
           "['댄스', '힐링']",
           "['경쾌한', '행복한']"
          ],
          [
           "Live",
           "카라",
           "['댄스', '힐링']",
           "['경쾌한', '행복한']"
          ],
          [
           "Live",
           "카라",
           "['댄스', '힐링']",
           "['경쾌한', '행복한']"
          ],
          [
           "Live",
           "카라",
           "['댄스', '힐링']",
           "['경쾌한', '행복한']"
          ],
          [
           "그리움이 닿는 곳에",
           "인피니트",
           "['기분전환']",
           "['행복한']"
          ],
          [
           "Mojito (Feat.하늘)",
           "하우스룰즈 (House Rulez)",
           "['기분전환']",
           "['행복한']"
          ],
          [
           "Maybe Baby (New Year`s Day)",
           "Sugarland",
           "['힐링', '휴식', '기분전환']",
           "['행복한']"
          ],
          [
           "The One",
           "SS501",
           "['기분전환']",
           "['행복한']"
          ],
          [
           "The Moment",
           "Kenny G",
           "['추억', '회상', '주말', '연인', '데이트', '금요일']",
           "['행복한']"
          ],
          [
           "Quicksand",
           "Caro Emerald",
           "['휴식']",
           "['잔잔한']"
          ],
          [
           "One More Time",
           "레인보우",
           "['겨울']",
           "['잔잔한']"
          ],
          [
           "HURT (傷害)",
           "EXO",
           "['스트레스']",
           "['긴장되는']"
          ],
          [
           "소녀시대 (Girls` Generation)",
           "소녀시대 (GIRLS` GENERATION)",
           "['추억']",
           "['행복한']"
          ],
          [
           "모차르트! 모차르트!",
           "신영숙, 김승대, 앙상블",
           "['힐링', '휴식', '기분전환']",
           "['행복한']"
          ],
          [
           "느낌",
           "S.E.S.",
           "['추억', '기분전환', '회상', '댄스']",
           "['행복한']"
          ],
          [
           "이 죽일놈의 사랑 (이수영 7집)",
           "이수영",
           "['이별']",
           "['우울한']"
          ],
          [
           "5월의 햇살",
           "썸머드레스",
           "['비오는날', '까페', '힐링', '휴식', '잔잔한']",
           "['잔잔한']"
          ],
          [
           "후회",
           "터보",
           "['댄스']",
           "['경쾌한']"
          ],
          [
           "Open Season",
           "High Highs",
           "['산책', '겨울', '잔잔한']",
           "['잔잔한']"
          ],
          [
           "우연히 마주친 달",
           "강태우",
           "['이별', '밴드']",
           "['우울한', '경쾌한']"
          ],
          [
           "그 빛을 따라서",
           "리사, 이창민",
           "['뮤지컬', '사랑']",
           "['경쾌한', '행복한']"
          ],
          [
           "고고베베 (gogobebe)",
           "마마무 (Mamamoo)",
           "['신나는']",
           "['행복한']"
          ],
          [
           "사랑을 말해요",
           "브라운 아이즈",
           "['여름', '비', '사랑', '이별', '힐링', '잔잔한']",
           "['우울한', '행복한']"
          ],
          [
           "Love",
           "Marsha Ambrosius",
           "['꽃', '사랑']",
           "['행복한']"
          ],
          [
           "하늘아 제발",
           "먼데이 키즈 (Monday Kiz)",
           "['추억', '이별']",
           "['행복한', '우울한']"
          ],
          [
           "Christmas With You",
           "SE7EN",
           "['겨울']",
           "['잔잔한']"
          ],
          [
           "Don`t Let Me Forget (Feat. Hunter Hayes)",
           "Catherine McGrath",
           "['힐링']",
           "['행복한']"
          ],
          [
           "Appreciate Your Hands",
           "Amy Kuney",
           "['비오는날', '까페']",
           "['우울한', '잔잔한']"
          ],
          [
           "Iridescent",
           "LINKIN PARK",
           "['휴식', '힐링', '기분전환']",
           "['행복한']"
          ],
          [
           "겨우...",
           "최문석",
           "['잔잔한']",
           "['잔잔한']"
          ],
          [
           "안녕의 방식 (Ways to Say Goodbye)",
           "규현 (KYUHYUN)",
           "['이별']",
           "['우울한']"
          ],
          [
           "오늘밤",
           "5who",
           "['까페']",
           "['잔잔한']"
          ],
          [
           "다시 사랑한다 말할까",
           "김동률",
           "['추억']",
           "['행복한']"
          ],
          [
           "바람인가",
           "신촌 블루스",
           "['가을감성', '가을', '가을밤', '추억']",
           "['잔잔한']"
          ],
          [
           "Don`t Cry",
           "박봄",
           "['추억', '기분전환']",
           "['행복한']"
          ],
          [
           "말하세요",
           "우쿨렐레 피크닉",
           "['잔잔한']",
           "['잔잔한']"
          ],
          [
           "화려한 가면",
           "양소민, 박인배",
           "['힐링', '휴식', '기분전환']",
           "['행복한']"
          ],
          [
           "Stay (Feat. Maty Noyes)",
           "Kygo",
           "['드라이브']",
           "['행복한']"
          ],
          [
           "HEY, SUMMER",
           "JBJ95",
           "['드라이브']",
           "['행복한']"
          ],
          [
           "Outro : Love is Not Over",
           "방탄소년단",
           "['새벽']",
           "['우울한']"
          ],
          [
           "Self",
           "Jon Wiilde",
           "['여름', '저녁', '열대야', '드라이브', '시원한']",
           "['경쾌한']"
          ],
          [
           "Fireworks",
           "First Aid Kit",
           "['새벽', '드라이브', '기분전환']",
           "['행복한']"
          ],
          [
           "네 생각으로 멈추지 않는 밤 (Feat. 109)",
           "소각소각",
           "['새벽']",
           "['우울한']"
          ],
          [
           "혼자일 때 (Feat. 장수현 On Violin)",
           "로맨틱모먼트",
           "['겨울', '여행', '산책']",
           "['행복한']"
          ],
          [
           "푸른 학은 구름 속에 우는데",
           "박은태",
           "['뮤지컬', '힐링']",
           "['경쾌한', '행복한']"
          ],
          [
           "행복한 일은 매일 있어 (With 피터한)",
           "타린",
           "['힐링']",
           "['행복한']"
          ],
          [
           "피맛골",
           "Various Artists",
           "['뮤지컬']",
           "['경쾌한']"
          ],
          [
           "Wake Up (Feat. DEAN)",
           "Crush",
           "['카페']",
           "['잔잔한']"
          ],
          [
           "사랑 내 사랑",
           "문혜원, 정인호",
           "['감동', '뮤지컬']",
           "['행복한', '경쾌한']"
          ],
          [
           "No Way (With Untouchable, 서지영)",
           "프라이머리 스코어",
           "['사랑', '밤', '설렘', '새벽']",
           "['행복한']"
          ],
          [
           "넌 아름다워",
           "이상은",
           "['기분전환', '드라이브']",
           "['행복한']"
          ],
          [
           "2 minutes of hell (Feat. Paul Blanco)",
           "창모 (CHANGMO)",
           "['드라이브']",
           "['행복한']"
          ],
          [
           "Up N Down",
           "스피카",
           "['기분전환', '운동']",
           "['행복한', '경쾌한']"
          ],
          [
           "소우주 (Mikrokosmos)",
           "방탄소년단",
           "['기분전환']",
           "['행복한']"
          ],
          [
           "My Christmas (그렇게 할래)",
           "정단영, 이주광",
           "['뮤지컬']",
           "['경쾌한']"
          ],
          [
           "겨울을 걷는다 (스튜디오 라이브 버전)",
           "윤딴딴",
           "['기분전환']",
           "['행복한']"
          ],
          [
           "Lucy",
           "Ten Tonnes",
           "['기분전환', '드라이브', '피크닉', '가을', '카페', '산책']",
           "['행복한']"
          ],
          [
           "Trust Me (Feat. Ty Dolla $ign)",
           "Bhad Bhabie",
           "['스트레스']",
           "['긴장되는']"
          ],
          [
           "Blue Hawaii (Feat. Crush, PENOMECO) (Prod. by 0channel)",
           "펀치넬로 (punchnello)",
           "['기분전환']",
           "['행복한']"
          ],
          [
           "Remember",
           "화란 (Hwaran)",
           "['기분전환', '까페']",
           "['행복한', '잔잔한']"
          ],
          [
           "Joy To The World",
           "Michael Bolton",
           "['겨울']",
           "['잔잔한']"
          ],
          [
           "Young & Free (Inst.)",
           "시우민 (XIUMIN), 마크 (MARK)",
           "['휴식', '운동', '드라이브', '공부', '기분전환']",
           "['잔잔한', '행복한']"
          ],
          [
           "In The Night",
           "The Weeknd",
           "['기분전환']",
           "['행복한']"
          ],
          [
           "가끔씩",
           "제이비",
           "['까페']",
           "['잔잔한']"
          ],
          [
           "랑데뷰",
           "양혜승",
           "['댄스']",
           "['경쾌한']"
          ],
          [
           "P.O.L (Power Of Love)",
           "보아 (BoA)",
           "['사랑']",
           "['행복한']"
          ],
          [
           "그렇습니까",
           "흐른",
           "['새벽']",
           "['우울한']"
          ],
          [
           "도둑 (Thief)",
           "블락비 바스타즈",
           "['드라이브']",
           "['행복한']"
          ],
          [
           "사이 (My Side) (Feat. oceanfromtheblue, ASH ISLAND, BRADYSTREET, Wonstein)",
           "HD BL4CK",
           "['기분전환']",
           "['행복한']"
          ],
          [
           "Can You Hear Me?",
           "양파",
           "['힐링', '휴식', '사랑']",
           "['행복한']"
          ],
          [
           "Like A Wind",
           "엠씨더맥스 (M.C the MAX)",
           "['드라이브']",
           "['행복한']"
          ],
          [
           "Town Of The Wind",
           "SPICY KICKIN`",
           "['기분전환', '운동', '드라이브', '하루', '출근길', '아침', '상쾌한', '화이팅', '주말', '잔잔한']",
           "['행복한']"
          ],
          [
           "Yellow",
           "Coldplay",
           "['휴식']",
           "['잔잔한']"
          ],
          [
           "소주 한 잔",
           "임창정",
           "['이별']",
           "['우울한']"
          ],
          [
           "Girls Girls Girls (Feat. 메이커슬)",
           "달샤벳",
           "['기분전환', '운동']",
           "['행복한', '경쾌한']"
          ],
          [
           "사랑이었던 시절 (Vocal 설경)",
           "유용호",
           "['잔잔한', '새벽', '위로']",
           "['우울한']"
          ],
          [
           "Naked",
           "Nickea",
           "['까페']",
           "['잔잔한']"
          ],
          [
           "사랑 갈등",
           "엄정화",
           "['댄스']",
           "['경쾌한']"
          ],
          [
           "생각할 시간",
           "손동운, 유주혜, 이병준",
           "['힐링', '휴식', '기분전환']",
           "['행복한']"
          ],
          [
           "생각해봤어",
           "한동근",
           "['겨울', '잔잔한']",
           "['잔잔한']"
          ],
          [
           "Let It Out",
           "Ed Sheeran",
           "['휴식', '힐링']",
           "['잔잔한', '행복한']"
          ],
          [
           "권태 그 앞에선 우리 (Radio Edit) (Bonus Track)",
           "파니 핑크",
           "['슬픔', '이별']",
           "['우울한']"
          ],
          [
           "그대 내 맘에 들어오면은 (Feat. C-Luv)",
           "엠블랙",
           "['기분전환', '사랑', '슬픔', '이별', '비오는날']",
           "['우울한']"
          ],
          [
           "You In Me",
           "카드 (KARD)",
           "['댄스']",
           "['경쾌한']"
          ],
          [
           "그게 나의 전부란 걸 (Duet with 옥주현)",
           "홍광호",
           "['뮤지컬']",
           "['경쾌한']"
          ],
          [
           "유치해도 (Prod. 이민혁 (비투비))",
           "소희, 김상균",
           "['기분전환']",
           "['행복한']"
          ],
          [
           "그는너의꿈",
           "우주왕복선싸이드미러",
           "['드라이브', '휴식', '기분전환', '분위기', '편안한']",
           "['행복한', '잔잔한']"
          ],
          [
           "Foolish Heart",
           "Steve Perry",
           "['밤', '새벽']",
           "['무서운', '우울한']"
          ],
          [
           "나쁜놈",
           "입술을깨물다",
           "['출근길', '아침', '상큼한', '경쾌한', '달콤한', '여름', '휴식', '피크닉', '힐링', '기분전환', '일상', '페스티벌']",
           "['경쾌한']"
          ],
          [
           "Life By The Drop",
           "Stevie Ray Vaughan & Double Trouble",
           "['기분좋은', '흥겨운', '여행', '즐거운', '밝은']",
           "['행복한']"
          ],
          [
           "Clouds",
           "One Direction",
           "['기분전환']",
           "['행복한']"
          ],
          [
           "하지 못하고",
           "소솜",
           "['잔잔한']",
           "['잔잔한']"
          ],
          [
           "Mood Swing (feat. sokodomo)",
           "Jade",
           "['기분전환']",
           "['행복한']"
          ],
          [
           "그때처럼",
           "여디와 우림",
           "['휴식']",
           "['잔잔한']"
          ],
          [
           "Part One Of The Cowboy Trilogy",
           "Sean Lennon",
           "['겨울', '카페', '우울']",
           "['잔잔한']"
          ],
          [
           "오늘 밤엔",
           "성광현",
           "['술', '새벽', '몽환', '카페', '커피', '까페']",
           "['잔잔한']"
          ],
          [
           "My Pace",
           "Stray Kids (스트레이 키즈)",
           "['운동', '신나는']",
           "['경쾌한', '행복한']"
          ],
          [
           "너에게 가는 길",
           "이율, 윤나무",
           "['뮤지컬']",
           "['경쾌한']"
          ],
          [
           "너에게 가는 길",
           "성두섭, 이율, 김대현, 김지휘, 윤나무, 김성철",
           "['뮤지컬']",
           "['경쾌한']"
          ],
          [
           "Mandrake",
           "국카스텐",
           "['기분전환']",
           "['행복한']"
          ],
          [
           "Enter The Dragon",
           "JTL",
           "['기분전환', '댄스']",
           "['행복한', '경쾌한']"
          ],
          [
           "편린 일지라도, 내 잃어 버린 기억",
           "에피톤 프로젝트",
           "['잔잔한']",
           "['잔잔한']"
          ],
          [
           "Autumn Breeze (Feat. Rachel Lim)",
           "JIDA (지다)",
           "['새벽']",
           "['우울한']"
          ],
          [
           "덕수궁 돌담길의 봄 (Feat. 10cm)",
           "윤아 (YOONA)",
           "['봄']",
           "['행복한']"
          ],
          [
           "나 생각있는 여자야",
           "혜령",
           "['잔잔한']",
           "['잔잔한']"
          ],
          [
           "너 사랑안에",
           "신화",
           "['잔잔한', '추억', '회상', '힐링', '휴식']",
           "['잔잔한']"
          ],
          [
           "편지",
           "장희원",
           "['여름']",
           "['경쾌한']"
          ],
          [
           "My Girl",
           "B.A.P",
           "['기분전환']",
           "['행복한']"
          ],
          [
           "잠",
           "공중그늘",
           "['여름', '기분전환', '여행', '연인', '새벽']",
           "['행복한']"
          ],
          [
           "With You",
           "김광진, 유희열, 하림",
           "['겨울', '가을', '새벽', '새벽감성', '여행', '힐링']",
           "['잔잔한', '우울한', '행복한']"
          ],
          [
           "KINGS FOR A DAY",
           "이홍기 (FT아일랜드)",
           "['휴식', '기분전환', '사랑']",
           "['행복한']"
          ],
          [
           "사.계.한 (Love Should Go On) (SHINee WORLD 4 Ver.)",
           "SHINee (샤이니)",
           "['기분전환']",
           "['행복한']"
          ],
          [
           "옥탑방 (Rooftop)",
           "엔플라잉 (N.Flying)",
           "['기분전환']",
           "['행복한']"
          ],
          [
           "나의 외로움이 널 부를 때 (piano ver.)",
           "장필순",
           "['잔잔한', '휴식', '봄', '새벽', '센치', '위로', '분위기']",
           "['잔잔한', '우울한']"
          ],
          [
           "Move For Me",
           "Kaskade",
           "['몽환', '힐링']",
           "['잔잔한', '행복한']"
          ],
          [
           "맘 (Heart)",
           "백퍼센트",
           "['드라이브']",
           "['행복한']"
          ],
          [
           "AND I",
           "뉴이스트 W",
           "['가을', '사랑']",
           "['잔잔한', '행복한']"
          ],
          [
           "Midas X Travel 2018",
           "Midas X",
           "['새해']",
           "['행복한']"
          ],
          [
           "널 사랑한 시간에",
           "XIA (준수)",
           "['이별']",
           "['우울한']"
          ],
          [
           "외출",
           "오안, 모트 (Motte)",
           "['잔잔한']",
           "['잔잔한']"
          ],
          [
           "Would U (Inst.)",
           "Red Velvet (레드벨벳)",
           "['공부', '카페']",
           "['잔잔한']"
          ],
          [
           "Celebrate",
           "Ragoon",
           "['잔잔한']",
           "['잔잔한']"
          ],
          [
           "검은 행복",
           "윤미래, 계민아",
           "['힐링']",
           "['행복한']"
          ],
          [
           "내 사랑",
           "김순영",
           "['뮤지컬']",
           "['경쾌한']"
          ],
          [
           "기억 (Memories)",
           "아거 (AGER)",
           "['퇴근', '카페', '겨울', '출근']",
           "['잔잔한']"
          ],
          [
           "좋아합니다",
           "테이",
           "['짝사랑', '설레임', '시작']",
           "['행복한']"
          ],
          [
           "GAME THEORY (Feat. Tommy Strate, nafla, The Quiett, Kid Milli, Lil Cherry)",
           "Dakshood (닥스후드)",
           "['기분전환']",
           "['행복한']"
          ],
          [
           "꽃보다 그녀",
           "비투비",
           "['사랑']",
           "['행복한']"
          ],
          [
           "Ladies Night",
           "Red Velvet (레드벨벳)",
           "['여름', '여행']",
           "['경쾌한', '행복한']"
          ],
          [
           "달콤한 거짓말",
           "쿨 (COOL)",
           "['사랑']",
           "['행복한']"
          ],
          [
           "Bright Lights",
           "Matchbox Twenty",
           "['밤', '가을', '잔잔한', '와인']",
           "['잔잔한']"
          ],
          [
           "지아에게",
           "김찬진",
           "['가을', '카페', '새벽', '드라이브', '설렘', '사랑', '이별']",
           "['행복한']"
          ],
          [
           "Life On The Line (Feat. Hash Swan)",
           "dkash (디캐시)",
           "['가을']",
           "['잔잔한']"
          ],
          [
           "Aurora",
           "클래지콰이",
           "['힐링', '휴식', '기분전환']",
           "['행복한']"
          ],
          [
           "널 위한 멜로디 (Feat. 예성, 알리, 앤씨아)",
           "이세준(유리상자)",
           "['설렘']",
           "['행복한']"
          ],
          [
           "Love U",
           "디어 (d.ear)",
           "['사랑']",
           "['행복한']"
          ],
          [
           "Moves Like Jagger (Soul Seekerz Radio Edit) (Feat. Christina Aguilera)",
           "Maroon 5",
           "['신남']",
           "['행복한']"
          ],
          [
           "하얀 동화",
           "KYT (코요태)",
           "['겨울', '댄스']",
           "['잔잔한', '경쾌한']"
          ],
          [
           "She Knows",
           "Trinidad Cardona",
           "['기분전환']",
           "['행복한']"
          ],
          [
           "낮",
           "이스턴사이드킥",
           "['밴드']",
           "['경쾌한']"
          ],
          [
           "Brightside (Album Ver.)",
           "The Knocks",
           "['신나는']",
           "['행복한']"
          ],
          [
           "난 왕이 될거야",
           "전수미",
           "['뮤지컬', '감동']",
           "['경쾌한', '행복한']"
          ],
          [
           "내 마음의 사진",
           "송가인",
           "['운전', '드라이브']",
           "['경쾌한', '행복한']"
          ],
          [
           "없었다면",
           "빌리",
           "['기분전환']",
           "['행복한']"
          ],
          [
           "Where Is The Love",
           "Roberta Flack",
           "['부드러운', '감미로운']",
           "['편안한', '잔잔한']"
          ],
          [
           "Enduring Love",
           "Yannick Bovy",
           "['슬픔', '이별']",
           "['우울한']"
          ],
          [
           "Masquerade",
           "라니아",
           "['드라이브', '기분전환']",
           "['행복한']"
          ],
          [
           "Time Slip",
           "아이니",
           "['여름', '드라이브']",
           "['경쾌한', '행복한']"
          ],
          [
           "후후후 (Hoo Hoo Hoo)",
           "앤씨아",
           "['사랑', '설렘']",
           "['행복한']"
          ],
          [
           "지상에서 영원으로",
           "정경화",
           "['추억']",
           "['행복한']"
          ],
          [
           "서른 살의 홍대는",
           "달어쿠스틱",
           "['겨울', '가을', '가을밤', '휴식', '힐링', '추억', '기분전환', '회상', '밤', '새벽', '자장가', '설렘', '까페', '사랑']",
           "['잔잔한']"
          ],
          [
           "SUGAR",
           "우주소녀",
           "['여름', '드라이브']",
           "['경쾌한', '행복한']"
          ],
          [
           "First Time",
           "정엽",
           "['새벽', '밤', '잔잔한', '추억', '까페', '회상']",
           "['잔잔한']"
          ],
          [
           "Make It Love (Song By Domingo, H:SEAN, Saula)",
           "KozyPop",
           "['잔잔한', '사랑']",
           "['잔잔한', '행복한']"
          ],
          [
           "GOOD",
           "EXID",
           "['기분전환', '신나는']",
           "['행복한']"
          ],
          [
           "그대로 멈춰라",
           "달샤벳",
           "['댄스']",
           "['경쾌한']"
          ],
          [
           "Reason",
           "디셈버",
           "['슬픔', '이별']",
           "['우울한']"
          ],
          [
           "If Not For You",
           "Bob Dylan",
           "['비오는날', '카페', '새벽', '몽환', '저녁']",
           "['잔잔한']"
          ],
          [
           "the.the.the",
           "용국&시현",
           "['기분전환']",
           "['행복한']"
          ],
          [
           "Brave",
           "The Shires",
           "['새벽', '추억', '밤', '회상']",
           "['우울한', '행복한', '무서운', '잔잔한']"
          ],
          [
           "허세가 (虛勢歌)",
           "주윤하",
           "['휴식', '봄']",
           "['잔잔한', '행복한']"
          ],
          [
           "로얄패밀리 (Feat. Kirk, 김우근)",
           "싸이 (PSY)",
           "['기분전환']",
           "['행복한']"
          ],
          [
           "왕자님",
           "야광토끼 (Neon Bunny)",
           "['기분전환']",
           "['행복한']"
          ],
          [
           "Instagram (feat. Afro Bros, Natti Natasha)",
           "Dimitri Vegas & Like Mike, David Guetta, Daddy Yankee",
           "['신나는']",
           "['행복한']"
          ]
         ],
         "hovertemplate": "x=%{x}<br>y=%{y}<br>곡 제목=%{customdata[0]}<br>가수=%{customdata[1]}<br>tag max=%{customdata[2]}<br>emotion max=%{customdata[3]}<extra></extra>",
         "legendgroup": "",
         "marker": {
          "color": "#636efa",
          "symbol": "circle"
         },
         "mode": "markers",
         "name": "",
         "orientation": "v",
         "showlegend": false,
         "type": "scatter",
         "x": [
          2.5059878826141357,
          0.05968837812542915,
          1.5061454772949219,
          1.4253313541412354,
          -0.427498459815979,
          -0.8672866225242615,
          -0.427498459815979,
          -0.8672866225242615,
          1.3637112379074097,
          2.2104547023773193,
          0.9696930050849915,
          1.5179353952407837,
          2.818866014480591,
          -2.2895522117614746,
          -3.5453031063079834,
          1.0102784633636475,
          0.16288654506206512,
          -0.7264423966407776,
          0.3561522662639618,
          -0.37493830919265747,
          -1.0746842622756958,
          3.2098562717437744,
          0.4280669093132019,
          0.6155336499214172,
          1.7376844882965088,
          0.7821900844573975,
          -3.0835063457489014,
          0.532271146774292,
          2.6850273609161377,
          0.840207576751709,
          1.4640213251113892,
          0.03531806543469429,
          1.5807771682739258,
          -0.24470902979373932,
          1.706786036491394,
          0.6643604040145874,
          -1.6969740390777588,
          0.24477766454219818,
          0.6392325162887573,
          1.9095478057861328,
          -2.9890244007110596,
          -0.6240459084510803,
          0.8319893479347229,
          0.24306590855121613,
          2.153006076812744,
          2.153006076812744,
          1.0581473112106323,
          0.18091021478176117,
          0.5839548110961914,
          -1.6358435153961182,
          1.7931764125823975,
          1.8007357120513916,
          -1.435208797454834,
          -0.5442968010902405,
          -0.05288810655474663,
          -2.4716176986694336,
          0.8200029134750366,
          -0.043779563158750534,
          -1.3112889528274536,
          1.6401422023773193,
          0.6003591418266296,
          0.9236814379692078,
          0.6782910227775574,
          -1.1799824237823486,
          -1.9400978088378906,
          -4.413280010223389,
          -1.9400978088378906,
          -4.413280010223389,
          2.4305288791656494,
          1.0933940410614014,
          -0.5796912312507629,
          1.9454405307769775,
          0.09036204218864441,
          0.19654326140880585,
          -3.4061644077301025,
          -1.966585397720337,
          0.2980745732784271,
          1.7322349548339844,
          2.2581443786621094,
          0.6159735918045044,
          1.641451120376587,
          -1.931534767150879,
          2.5649402141571045,
          2.5649402141571045,
          0.9013990759849548,
          -0.4275752902030945,
          -4.845399856567383,
          2.9207913875579834,
          -1.2987074851989746,
          -0.27444693446159363,
          0.833018958568573,
          -2.1844422817230225,
          -0.053704869002103806,
          1.5665100812911987,
          -0.35737890005111694,
          1.5177288055419922,
          0.46479085087776184,
          1.6606934070587158,
          0.9830517172813416,
          1.3675084114074707,
          2.301027536392212,
          -0.2751178741455078,
          1.0736302137374878,
          0.3420272469520569,
          -2.274327278137207,
          -1.6282660961151123,
          1.3516013622283936,
          2.3497164249420166,
          -3.880652666091919,
          -2.937851905822754,
          -3.109081983566284,
          1.0551552772521973,
          1.397820234298706,
          2.4780101776123047,
          1.8183201551437378,
          2.5891034603118896,
          0.11971698701381683,
          3.298963785171509,
          -1.290175199508667,
          0.391535222530365,
          0.8351432085037231,
          -2.775559186935425,
          -0.2277175635099411,
          0.09805985540151596,
          2.235917329788208,
          -3.976229667663574,
          -3.4176387786865234,
          -2.2866902351379395,
          -0.8320573568344116,
          -3.5442769527435303,
          1.1995036602020264,
          -0.1839282065629959,
          -1.7668181657791138,
          -1.3978750705718994,
          -2.4587037563323975,
          -0.36786794662475586,
          -0.02444310113787651,
          1.8107779026031494,
          0.15160028636455536,
          0.5451639890670776,
          -0.3630514442920685,
          -2.5644500255584717,
          2.74717116355896,
          1.7087713479995728,
          1.8462555408477783,
          0.24336107075214386,
          1.4110651016235352,
          -1.4152299165725708,
          -1.0276118516921997,
          2.699709892272949,
          -0.16103123128414154,
          1.2007380723953247,
          -0.38774430751800537,
          0.9063690304756165,
          -3.850877523422241,
          0.27878278493881226,
          2.6204288005828857,
          -2.535429000854492,
          1.1367521286010742,
          1.1267008781433105,
          0.7449094653129578,
          -1.658079981803894,
          -0.4405216574668884,
          2.528414726257324,
          1.5746047496795654,
          2.189873695373535,
          -3.6785004138946533,
          1.1591237783432007,
          0.11880528926849365,
          0.8051745891571045,
          0.11880528926849365,
          0.8051745891571045,
          1.164562702178955,
          -3.323653221130371,
          -1.5488123893737793,
          2.5646274089813232,
          0.6203226447105408,
          0.7211660146713257,
          0.9055247902870178,
          -0.09113258123397827,
          -3.89955472946167,
          2.2777295112609863,
          -1.2925795316696167,
          0.28678181767463684,
          0.022958669811487198,
          0.42139172554016113,
          1.7206627130508423,
          2.0917797088623047,
          -0.22668574750423431,
          -1.0995335578918457,
          2.2890424728393555,
          -2.0431010723114014,
          -0.9801720380783081,
          4.014928817749023,
          -0.1529102921485901,
          -1.6748900413513184,
          0.36584731936454773,
          1.264473795890808,
          1.0333998203277588,
          0.688509464263916,
          -0.16108451783657074,
          -3.2153377532958984,
          -2.1989824771881104,
          -1.301796555519104,
          0.22518332302570343,
          1.2959717512130737,
          2.7351953983306885,
          3.0340685844421387,
          1.839357852935791,
          1.0827504396438599,
          -1.767910122871399,
          2.19846510887146,
          0.3037586808204651,
          1.813157558441162,
          -0.8991650342941284,
          2.380053758621216,
          2.345423698425293,
          2.808810234069824,
          -2.3246958255767822,
          1.470253825187683,
          2.279654026031494,
          0.5449680089950562,
          2.9924795627593994,
          3.1610050201416016,
          0.8867552280426025,
          2.987114191055298,
          1.8946796655654907,
          -0.940881073474884,
          0.43832117319107056,
          2.1796629428863525,
          1.3854999542236328,
          1.8070234060287476,
          1.7274296283721924,
          -0.5164820551872253,
          -2.4269485473632812,
          -0.5164820551872253,
          -2.4269485473632812,
          1.3927335739135742,
          2.422496795654297,
          1.016394019126892,
          -3.1606037616729736,
          1.3730394840240479,
          -1.7786152362823486,
          0.4159584939479828,
          0.5581436157226562,
          1.1522009372711182,
          1.8206450939178467,
          -0.1108088344335556,
          2.0352368354797363,
          -0.6265276074409485,
          2.451338052749634,
          0.430070698261261,
          2.049511432647705,
          -3.6201064586639404,
          1.5719610452651978,
          2.036817789077759,
          -4.178035736083984,
          -0.4280363917350769,
          -0.06567232310771942,
          1.9015371799468994,
          0.7632418274879456,
          -2.4448282718658447,
          0.10984618961811066,
          1.6677320003509521,
          -2.656346559524536,
          -1.6798653602600098,
          3.5017659664154053,
          1.491026520729065,
          -1.62376070022583,
          -0.35606974363327026,
          -0.17039881646633148,
          -1.4365159273147583,
          -5.913909435272217,
          0.615829348564148,
          0.5260246992111206,
          0.735550582408905,
          0.2302883118391037,
          4.422953128814697,
          4.422953128814697,
          2.542701005935669,
          -0.2893703281879425,
          0.84250408411026,
          -0.5006821155548096,
          2.940258026123047,
          -0.5788139700889587,
          1.0085253715515137,
          1.5742615461349487,
          -0.7922766208648682,
          -0.0821356326341629,
          -0.04243002459406853,
          1.0533043146133423,
          0.16208215057849884,
          1.210024118423462,
          0.9060919880867004,
          0.47699570655822754,
          0.5543727874755859,
          -0.03447476401925087,
          2.8364062309265137,
          0.500533938407898,
          -1.8450113534927368,
          -0.4611925482749939,
          1.6587624549865723,
          2.699042558670044,
          0.59483402967453,
          1.3233189582824707,
          -0.6809465289115906,
          -0.038412462919950485,
          2.352022171020508,
          -0.4127773642539978,
          -0.3027687966823578,
          -2.0219669342041016,
          2.6232540607452393,
          1.3574661016464233,
          -0.3134235143661499,
          -0.8228203058242798,
          0.29134851694107056,
          1.0253009796142578,
          -3.8971827030181885,
          1.2123963832855225,
          2.305267810821533,
          0.10539336502552032,
          2.5058624744415283,
          0.5849354267120361,
          1.6170047521591187,
          0.93230801820755,
          1.6491963863372803,
          1.0362745523452759,
          -0.024813245981931686,
          -0.9232584834098816,
          0.5718448758125305,
          0.110242560505867,
          1.1169250011444092,
          1.6834983825683594,
          0.781653106212616,
          1.236573576927185,
          0.8769285082817078,
          -1.962937831878662,
          1.884721279144287,
          -3.9902398586273193,
          0.69896399974823,
          2.218254327774048,
          -0.1257229894399643,
          -2.643872022628784,
          -3.3439419269561768,
          0.8154820799827576,
          0.8154820799827576,
          0.8154820799827576,
          0.8154820799827576,
          2.1487877368927,
          1.0918660163879395,
          0.7798857688903809,
          1.6510589122772217,
          2.2769296169281006,
          1.526237964630127,
          0.6674360036849976,
          0.2664053738117218,
          0.4217109680175781,
          -1.2664477825164795,
          0.11875028908252716,
          0.3820555508136749,
          -0.017876919358968735,
          0.3318532705307007,
          2.5887632369995117,
          1.8377866744995117,
          0.8715019822120667,
          1.8447306156158447,
          2.995734453201294,
          -0.13116200268268585,
          1.8981208801269531,
          1.4744620323181152,
          1.9050991535186768,
          1.641524314880371,
          0.5706662535667419,
          -1.1018707752227783,
          2.583160638809204,
          2.065009355545044,
          2.356940507888794,
          -0.8327670693397522,
          -2.0049405097961426,
          1.1132943630218506,
          0.7808496356010437,
          -5.928429126739502,
          -1.0510008335113525,
          0.5982660055160522,
          1.3540269136428833,
          0.5982657670974731,
          1.3540269136428833,
          -1.1735010147094727,
          -1.0217952728271484,
          3.0322749614715576,
          1.3109543323516846,
          -4.291051864624023,
          2.563727378845215,
          -2.3297336101531982,
          1.5964196920394897,
          -2.403775215148926,
          -2.9423751831054688,
          -0.5795210599899292,
          -0.08365482836961746,
          0.8352787494659424,
          0.811626672744751,
          -1.6459870338439941,
          1.53922700881958,
          1.557828426361084,
          1.5621490478515625,
          1.8639038801193237,
          0.6516585350036621,
          2.8920342922210693,
          -1.6439543962478638,
          -0.9405291676521301,
          1.252645492553711,
          -1.6218514442443848,
          -0.9506012797355652,
          1.0228818655014038,
          0.7354810833930969,
          -0.3347479999065399,
          -1.4210234880447388,
          -0.6670297384262085,
          1.6131367683410645,
          -3.927564859390259,
          2.0545706748962402,
          0.5886598229408264,
          -5.032116889953613,
          2.181643009185791,
          -0.7897650599479675,
          1.6977229118347168,
          -7.7617340087890625,
          -2.2048227787017822,
          2.0495142936706543,
          -3.515861988067627,
          0.4181046187877655,
          0.6677746772766113,
          1.5251376628875732,
          0.9522532820701599,
          0.9903761744499207,
          1.7517492771148682,
          -1.3350262641906738,
          1.7070788145065308,
          -0.30279219150543213,
          2.1981327533721924,
          -1.2107293605804443,
          -0.3977612853050232,
          0.39979326725006104,
          1.8785693645477295,
          -0.0407949797809124,
          0.5490226149559021,
          -2.7966701984405518,
          2.206634759902954,
          0.9951546788215637,
          -0.29174336791038513,
          1.8445549011230469,
          1.6414971351623535,
          -1.6120152473449707,
          3.033092737197876,
          2.8291139602661133,
          -0.8193953037261963,
          0.04720400646328926,
          0.4051741063594818,
          0.7112959027290344,
          2.2560579776763916,
          -4.358057022094727,
          0.8082900643348694,
          2.087704658508301,
          0.612799882888794,
          0.7642867565155029,
          -3.6624953746795654,
          0.4543047547340393,
          -1.1194180250167847,
          2.1112234592437744,
          -1.2868191003799438,
          1.8082642555236816,
          0.4185621738433838,
          1.0597187280654907,
          -3.332949638366699,
          1.0356642007827759,
          2.6092002391815186,
          -1.4238941669464111,
          -0.6508786678314209,
          -0.7875872254371643,
          -0.8948021531105042,
          -3.3387043476104736,
          -0.5820938348770142,
          0.4040413200855255,
          -1.8108489513397217,
          0.29578953981399536,
          -0.19869226217269897,
          1.3631829023361206,
          1.5807583332061768,
          -2.807227373123169,
          -0.47700363397598267,
          -2.611614227294922,
          0.2575610876083374,
          2.495837450027466,
          -4.380387306213379,
          0.8093761801719666,
          -0.16595657169818878,
          -1.4130022525787354,
          0.8294549584388733,
          -2.187025308609009,
          -1.4969775676727295,
          -0.9231926202774048,
          -3.560490608215332,
          0.014508921653032303,
          1.7977077960968018,
          0.5294832587242126,
          2.4253134727478027,
          0.8357054591178894,
          2.3784677982330322,
          1.09098482131958,
          -0.14208009839057922,
          0.3797091841697693,
          2.4207704067230225,
          0.6184844374656677,
          0.513497531414032,
          1.7027006149291992,
          -0.4097583293914795,
          -2.4327123165130615,
          -1.7038179636001587,
          -2.152099609375,
          -2.1002743244171143,
          2.2103111743927,
          -0.7172715663909912,
          0.8525314927101135,
          2.2313084602355957,
          0.6727907061576843,
          1.9829612970352173,
          -0.3412351608276367,
          -1.2831225395202637,
          1.0648515224456787,
          -1.7622288465499878,
          -2.344677448272705,
          0.02704494073987007,
          -4.063316345214844,
          -4.0923004150390625,
          1.6817349195480347,
          1.459298014640808,
          -4.878236293792725,
          -4.878236293792725,
          -4.878236293792725,
          -4.878236293792725,
          -4.878236293792725,
          -4.878236293792725,
          -4.878236770629883,
          -4.878236770629883,
          0.31558704376220703,
          -1.9670088291168213,
          2.158768653869629,
          -5.737277030944824,
          3.121872663497925,
          1.6401677131652832,
          -2.8919107913970947,
          0.07456664741039276,
          0.12125490605831146,
          0.34058815240859985,
          -0.01717740297317505,
          0.7684733271598816,
          1.6064772605895996,
          1.9055789709091187,
          3.0245392322540283,
          -2.6279985904693604,
          0.6066079139709473,
          -1.8585954904556274,
          -3.5259363651275635,
          2.163224220275879,
          0.4134592115879059,
          0.013148445636034012,
          1.8439407348632812,
          2.3107972145080566,
          2.639092206954956,
          0.9969120621681213,
          0.6108097434043884,
          0.20328278839588165,
          -0.1832653284072876,
          0.6101794838905334,
          -0.4464021325111389,
          1.0990986824035645,
          0.7660462260246277,
          2.150482416152954,
          -1.410681962966919,
          -1.1092272996902466,
          1.3834011554718018,
          2.4004502296447754,
          0.007555264513939619,
          0.2550497055053711,
          0.9713628888130188,
          0.12161856144666672,
          0.5882022976875305,
          -1.9304355382919312,
          1.218238353729248,
          -2.533439874649048,
          0.7636677622795105,
          -2.5619843006134033,
          -0.7689731121063232,
          -1.2399405241012573,
          0.7700194716453552,
          0.4842803478240967,
          3.477508306503296,
          2.5511438846588135,
          -2.843111753463745,
          -0.057730887085199356,
          2.9551339149475098,
          -1.3519257307052612,
          1.5122902393341064,
          0.6626506447792053,
          -0.3908264935016632,
          -1.198911190032959,
          2.171567678451538,
          -5.134353160858154,
          -2.450484037399292,
          1.012822151184082,
          0.5126032829284668,
          1.4796819686889648,
          2.9252383708953857,
          0.5901216864585876,
          -3.8339626789093018,
          1.2374262809753418,
          -0.16243644058704376,
          -0.16128180921077728,
          1.485098123550415,
          1.4638044834136963,
          2.7067477703094482,
          -0.3671310544013977,
          -0.17337271571159363,
          -2.1315274238586426,
          0.5445606112480164,
          -0.864324152469635,
          1.4225614070892334,
          1.7894660234451294,
          -0.4288606345653534,
          2.1468427181243896,
          1.8693194389343262,
          1.029559850692749,
          2.557065963745117,
          0.8637641072273254,
          2.2877418994903564,
          0.6830481290817261,
          -1.5468448400497437,
          0.8753243088722229,
          0.875324547290802,
          1.6829261779785156,
          -0.8553063869476318,
          1.9175269603729248,
          2.2249200344085693,
          -1.5653165578842163,
          -0.19027037918567657,
          -0.22828951478004456,
          1.0288382768630981,
          -2.8450863361358643,
          2.929435968399048,
          -0.2448754757642746,
          -3.478739023208618,
          -0.2851254343986511,
          -2.7199528217315674,
          0.8753309845924377,
          2.7101118564605713,
          -2.1556029319763184,
          -0.6050608158111572,
          -0.8426557779312134,
          0.5853286385536194,
          1.4322811365127563,
          -3.005779504776001,
          -2.8108971118927,
          -1.246108889579773,
          0.23537613451480865,
          1.1203885078430176,
          -1.1185190677642822,
          -4.292713165283203,
          -1.698254108428955,
          -1.2996565103530884,
          -1.7252382040023804,
          2.485720157623291,
          0.6976060271263123,
          -2.0094852447509766,
          -1.677813172340393,
          -0.8053296208381653,
          -0.1437973529100418,
          1.473859190940857,
          -1.5555776357650757,
          1.1538187265396118,
          3.6502792835235596,
          1.8360254764556885,
          1.8250094652175903,
          0.20654143393039703,
          -0.033725690096616745,
          3.359877109527588,
          2.782848596572876,
          -3.271693468093872,
          -2.8708131313323975,
          -2.131659746170044,
          0.36905449628829956,
          0.5618458390235901,
          -0.7518178820610046,
          -2.4491190910339355,
          -3.6302754878997803,
          -4.192510604858398,
          -2.4931843280792236,
          0.399082750082016,
          2.214459180831909,
          -1.2025007009506226,
          1.2767837047576904,
          0.6058952212333679,
          0.3644719421863556,
          0.5493337512016296,
          1.9298696517944336
         ],
         "xaxis": "x",
         "y": [
          -0.28230971097946167,
          -1.8117190599441528,
          -0.788881242275238,
          0.7058745622634888,
          -0.8137677907943726,
          -1.7134981155395508,
          -0.8137677907943726,
          -1.7134981155395508,
          -2.8283419609069824,
          0.7318155169487,
          -0.46605515480041504,
          -2.8142476081848145,
          3.65212082862854,
          -0.4742712676525116,
          0.9490615725517273,
          -2.2446560859680176,
          -1.7786784172058105,
          -1.670106291770935,
          -1.2906044721603394,
          -0.5573498606681824,
          -1.334466576576233,
          1.3860496282577515,
          -0.036125339567661285,
          -0.9565470218658447,
          -4.271209239959717,
          0.3993943929672241,
          1.1772687435150146,
          -1.7077327966690063,
          2.210862159729004,
          3.941324234008789,
          0.05876446142792702,
          -0.23394618928432465,
          0.4324682056903839,
          -4.213561534881592,
          -1.6448264122009277,
          -4.568584442138672,
          -4.593926906585693,
          -4.264803886413574,
          -2.881042718887329,
          -1.6642482280731201,
          0.7793264985084534,
          -1.2133891582489014,
          0.2990090250968933,
          -3.208552598953247,
          -1.4332901239395142,
          -1.4332901239395142,
          -0.43888193368911743,
          -3.3392333984375,
          -1.7671226263046265,
          5.368716239929199,
          2.033118963241577,
          -1.3327043056488037,
          -1.01524817943573,
          -0.07837570458650589,
          -1.1629637479782104,
          -0.16053947806358337,
          3.3822813034057617,
          -1.4940048456192017,
          2.7150540351867676,
          -0.6782566905021667,
          -3.1830379962921143,
          -1.006614089012146,
          -0.1602138727903366,
          1.3744685649871826,
          2.4524123668670654,
          2.198326349258423,
          2.4524123668670654,
          2.198326349258423,
          1.1874356269836426,
          -0.0676119402050972,
          -2.5651674270629883,
          -3.5752203464508057,
          -2.865898609161377,
          4.706584453582764,
          -2.0064737796783447,
          -1.0200331211090088,
          -3.16091251373291,
          -0.6094267964363098,
          -2.561136245727539,
          -2.223374843597412,
          1.0658326148986816,
          2.490530014038086,
          -1.767426609992981,
          -1.767426609992981,
          -2.5330193042755127,
          -2.4792234897613525,
          3.1027066707611084,
          1.1514750719070435,
          2.971656322479248,
          -1.4171236753463745,
          -0.8228332996368408,
          0.37952882051467896,
          -2.085158586502075,
          -0.41621077060699463,
          4.481210708618164,
          -3.5692052841186523,
          -0.21113203465938568,
          -0.591187596321106,
          -1.010561227798462,
          -0.821140468120575,
          -0.7646542191505432,
          -0.17350360751152039,
          -0.5839841365814209,
          -2.7867431640625,
          1.8544660806655884,
          -3.223255157470703,
          0.15149889886379242,
          -0.8921613097190857,
          6.2904205322265625,
          4.092890739440918,
          -2.233508825302124,
          -1.3157985210418701,
          0.22705470025539398,
          -3.3211474418640137,
          -0.23672543466091156,
          0.8728271722793579,
          -2.629472017288208,
          3.7873735427856445,
          2.222954034805298,
          0.42002564668655396,
          -1.609533429145813,
          -0.7698288559913635,
          -2.3904592990875244,
          -0.8618162870407104,
          -4.475947380065918,
          1.4902925491333008,
          0.9020707011222839,
          -0.5058512091636658,
          3.8959479331970215,
          0.6110262274742126,
          1.2580959796905518,
          -1.3237420320510864,
          -0.45257803797721863,
          0.7992569208145142,
          1.1460820436477661,
          -2.321687936782837,
          -0.9934222102165222,
          -3.8119406700134277,
          -1.331645131111145,
          0.6620058417320251,
          0.024360544979572296,
          3.365286111831665,
          -0.25627171993255615,
          0.5250057578086853,
          -2.673656940460205,
          -3.9392004013061523,
          -1.4673041105270386,
          -5.310930252075195,
          -1.1526479721069336,
          -0.7120004296302795,
          -1.1465424299240112,
          0.34544098377227783,
          0.05960454046726227,
          -3.0878820419311523,
          -0.2310507893562317,
          -1.0443520545959473,
          -4.711337566375732,
          0.8071115612983704,
          -0.624333918094635,
          -2.137448310852051,
          0.08248519152402878,
          0.972726047039032,
          -1.3877155780792236,
          1.8488130569458008,
          -1.1184171438217163,
          0.6151345372200012,
          2.2565524578094482,
          -1.063036561012268,
          -1.279036283493042,
          -2.6880574226379395,
          -1.279036283493042,
          -2.6880574226379395,
          0.9352694153785706,
          2.5394041538238525,
          -2.7243001461029053,
          0.05245119705796242,
          -1.12082040309906,
          -1.2877299785614014,
          -1.2988524436950684,
          -3.8401358127593994,
          2.2595374584198,
          1.7742365598678589,
          -0.5383625626564026,
          0.5644446611404419,
          1.0491422414779663,
          -1.5774585008621216,
          0.2534935474395752,
          -1.2232918739318848,
          -2.402329921722412,
          -4.091536521911621,
          2.0573959350585938,
          0.9551485180854797,
          -0.337191641330719,
          7.390799045562744,
          -0.8589805960655212,
          -1.0751920938491821,
          -0.9168986082077026,
          -0.09131241589784622,
          -1.6978299617767334,
          -0.6658980250358582,
          -1.1114789247512817,
          2.150192975997925,
          5.242046356201172,
          0.5937488675117493,
          -0.8111106753349304,
          -3.245800256729126,
          2.1385133266448975,
          -0.9227627515792847,
          -2.5185041427612305,
          -2.758357048034668,
          0.3217572867870331,
          0.06376269459724426,
          -4.395903587341309,
          1.154943823814392,
          -0.9120247960090637,
          -2.6518001556396484,
          3.7791829109191895,
          -0.3097946345806122,
          1.5923393964767456,
          -0.319075345993042,
          1.1627763509750366,
          -2.164231777191162,
          2.3263206481933594,
          -5.3015851974487305,
          -1.390128254890442,
          -2.204946279525757,
          1.8576136827468872,
          0.1382797658443451,
          -1.2767951488494873,
          -0.016794050112366676,
          -2.5757312774658203,
          -2.7172558307647705,
          -1.8036974668502808,
          -2.6835360527038574,
          -1.6753087043762207,
          -2.6835360527038574,
          -1.6753087043762207,
          -1.472548007965088,
          -0.9098464846611023,
          -1.104365587234497,
          0.7606890797615051,
          -0.14650262892246246,
          -2.1173720359802246,
          -0.7260299324989319,
          -0.8641793131828308,
          0.6785034537315369,
          -1.2284269332885742,
          -1.4728752374649048,
          -2.7900328636169434,
          2.005427837371826,
          -1.4696155786514282,
          -4.533562660217285,
          -0.46661272644996643,
          2.24725604057312,
          -1.384633183479309,
          0.9118671417236328,
          0.5612287521362305,
          -4.699789524078369,
          -3.4762840270996094,
          1.4494491815567017,
          -5.019124507904053,
          0.2745956778526306,
          0.9372491240501404,
          -7.193838119506836,
          2.9491846561431885,
          3.7886617183685303,
          -0.5327950716018677,
          1.5108808279037476,
          -1.7182366847991943,
          -0.27265921235084534,
          -1.9328182935714722,
          0.8767386078834534,
          3.6312177181243896,
          -0.5024815797805786,
          2.088837146759033,
          -2.161843776702881,
          -0.03273962810635567,
          1.617583155632019,
          1.617583155632019,
          0.0806254893541336,
          -1.5343142747879028,
          -3.343806028366089,
          0.6490416526794434,
          -0.07120335102081299,
          -4.141883850097656,
          -3.2688379287719727,
          -1.7583366632461548,
          -3.150585651397705,
          -1.3177841901779175,
          0.35975804924964905,
          -1.8768748044967651,
          -4.341156482696533,
          -3.5541276931762695,
          0.27425339818000793,
          -1.5701628923416138,
          0.0760493203997612,
          -1.4110310077667236,
          -1.3169282674789429,
          -2.628628730773926,
          -1.8807199001312256,
          -1.122078776359558,
          -2.0862836837768555,
          -1.1884385347366333,
          -0.20452216267585754,
          0.5014137625694275,
          -0.9763993620872498,
          -1.1807705163955688,
          1.3709051609039307,
          0.7483880519866943,
          -1.0999983549118042,
          2.4290523529052734,
          0.4378758668899536,
          0.17827865481376648,
          -1.687048077583313,
          0.32251042127609253,
          -2.47284197807312,
          0.1664070338010788,
          4.548091888427734,
          -0.7163838744163513,
          -6.544956207275391,
          -0.7455893158912659,
          -2.7570033073425293,
          -3.322862148284912,
          1.6193965673446655,
          0.6019319891929626,
          -6.931880950927734,
          -0.24672195315361023,
          -3.2141895294189453,
          1.4223707914352417,
          -2.1814682483673096,
          -4.209559440612793,
          0.9041246771812439,
          -2.5790786743164062,
          -2.839932918548584,
          -0.34954991936683655,
          -0.9811246991157532,
          -0.1779259294271469,
          1.0875749588012695,
          3.9074273109436035,
          -0.917548656463623,
          1.870727777481079,
          -2.4002583026885986,
          0.9934982657432556,
          6.274833679199219,
          -1.633010745048523,
          -1.633010745048523,
          -1.633010745048523,
          -1.633010745048523,
          -0.7968305349349976,
          -1.7558931112289429,
          -1.6772857904434204,
          0.5649670958518982,
          0.22131307423114777,
          -1.4037646055221558,
          0.7578121423721313,
          -2.814816951751709,
          -2.5708088874816895,
          2.4073104858398438,
          -2.999523878097534,
          -2.930274486541748,
          -1.8949222564697266,
          -6.654664039611816,
          2.4165680408477783,
          2.7354235649108887,
          0.423881858587265,
          -2.60683274269104,
          2.2676689624786377,
          -2.5870916843414307,
          0.1570267677307129,
          1.0004178285598755,
          -1.4582462310791016,
          -3.6016530990600586,
          -1.5062493085861206,
          0.8869545459747314,
          -1.0402482748031616,
          -1.29952073097229,
          0.21358893811702728,
          -1.2048510313034058,
          -0.5120867490768433,
          -1.6276191473007202,
          0.6179609894752502,
          4.684618949890137,
          1.652719497680664,
          -1.2121697664260864,
          0.7845131754875183,
          -1.212169885635376,
          0.7845131754875183,
          -1.3152440786361694,
          -0.004258634988218546,
          -1.723068356513977,
          -3.1854758262634277,
          2.6703879833221436,
          1.380753755569458,
          3.5064964294433594,
          -1.8005844354629517,
          -2.2496373653411865,
          5.150141716003418,
          -2.428553819656372,
          0.7929856777191162,
          -0.5629388093948364,
          -1.2337974309921265,
          -1.8252042531967163,
          -0.24601112306118011,
          -1.2337422370910645,
          -2.8819069862365723,
          0.9160473942756653,
          -2.7999134063720703,
          1.4684807062149048,
          1.4379099607467651,
          1.9389649629592896,
          -0.7937930226325989,
          3.8153867721557617,
          3.478212356567383,
          0.08507135510444641,
          -0.5799305438995361,
          -2.3736467361450195,
          3.136385440826416,
          5.047135353088379,
          -1.2448409795761108,
          5.5107903480529785,
          -1.1817816495895386,
          -1.5125386714935303,
          -0.6209115982055664,
          -2.9668936729431152,
          -1.9948748350143433,
          -4.514527320861816,
          4.668145179748535,
          -2.1097252368927,
          -1.862085223197937,
          -0.05744517222046852,
          -1.0403389930725098,
          -4.630979061126709,
          0.20865802466869354,
          -0.20346401631832123,
          -1.688663363456726,
          1.0443650484085083,
          -4.164356231689453,
          -1.2505239248275757,
          2.161081552505493,
          0.01491247583180666,
          -0.665034294128418,
          0.03590155020356178,
          -0.7301986813545227,
          -1.104245901107788,
          -0.30353379249572754,
          0.05365416780114174,
          2.110853672027588,
          0.06744920462369919,
          -1.3234775066375732,
          -2.422081232070923,
          -0.6988710761070251,
          -3.139108657836914,
          -3.540454626083374,
          -5.834347248077393,
          -1.1486293077468872,
          3.3722519874572754,
          -0.21770736575126648,
          -3.3111863136291504,
          1.409467339515686,
          -2.701446056365967,
          4.243122100830078,
          -1.4032024145126343,
          -4.5307488441467285,
          -0.9285933375358582,
          -2.006091833114624,
          2.949247360229492,
          -2.0367114543914795,
          2.085106611251831,
          0.6950171589851379,
          1.852925181388855,
          -1.2207359075546265,
          -1.380083441734314,
          -0.8739085793495178,
          2.6268370151519775,
          1.5859440565109253,
          -2.955169200897217,
          1.7964688539505005,
          0.11343792825937271,
          -1.4688349962234497,
          2.4912049770355225,
          3.674180030822754,
          -2.482928991317749,
          -1.8729885816574097,
          1.1584692001342773,
          -0.24828889966011047,
          -6.252999782562256,
          -1.6293550729751587,
          1.2063612937927246,
          0.8166725039482117,
          -0.045812275260686874,
          3.005502462387085,
          -5.182520389556885,
          1.1636141538619995,
          3.8756892681121826,
          0.4475231170654297,
          0.8369739651679993,
          -2.2431480884552,
          -2.409919261932373,
          2.9716787338256836,
          0.7280389666557312,
          1.2960829734802246,
          2.078883171081543,
          -5.798203468322754,
          0.28308534622192383,
          -3.6717755794525146,
          0.6932754516601562,
          -1.4105931520462036,
          1.2212474346160889,
          -0.26628193259239197,
          -2.531597852706909,
          -0.11395185440778732,
          0.5628510117530823,
          -1.8713663816452026,
          0.6130350828170776,
          1.1271722316741943,
          -2.030982255935669,
          2.2316172122955322,
          -1.1991146802902222,
          1.8699941635131836,
          -0.32487958669662476,
          -5.393235206604004,
          -2.6255552768707275,
          -1.576675295829773,
          -1.7328166961669922,
          0.9024697542190552,
          -2.794436454772949,
          -3.448491096496582,
          2.1946215629577637,
          0.34479689598083496,
          0.32064491510391235,
          -0.16723565757274628,
          5.999784469604492,
          -1.2238024473190308,
          1.0802496671676636,
          -2.4060304164886475,
          1.8805497884750366,
          7.5936279296875,
          7.5936279296875,
          7.5936279296875,
          7.5936279296875,
          7.5936279296875,
          7.5936279296875,
          7.5936279296875,
          7.5936279296875,
          -3.125019073486328,
          4.02808952331543,
          -2.429593086242676,
          4.396819591522217,
          2.6769049167633057,
          -0.0628744438290596,
          0.4478343725204468,
          9.176934242248535,
          -0.3045826554298401,
          1.5639735460281372,
          -1.1504400968551636,
          -1.8052841424942017,
          -1.4241267442703247,
          -1.3578428030014038,
          -0.29213815927505493,
          2.919743061065674,
          -1.3143540620803833,
          1.6021933555603027,
          4.1334428787231445,
          -0.8323501944541931,
          -2.3057668209075928,
          -0.09318099170923233,
          -2.631052017211914,
          0.1922580748796463,
          -0.1641712337732315,
          -0.7745255827903748,
          -1.5458216667175293,
          4.487167835235596,
          -1.6678980588912964,
          -0.034108828753232956,
          0.8546767830848694,
          -0.14075712859630585,
          -1.87173330783844,
          -4.998992919921875,
          0.8106703758239746,
          0.012645368464291096,
          -7.263262748718262,
          -1.468424677848816,
          -2.2611258029937744,
          -0.6244322657585144,
          0.4570954442024231,
          1.1552425622940063,
          0.7230048775672913,
          3.805163621902466,
          0.504599392414093,
          1.28585946559906,
          0.35725101828575134,
          4.687308311462402,
          -1.3835996389389038,
          1.4494911432266235,
          -1.1288032531738281,
          -3.7663204669952393,
          -1.636749505996704,
          -3.740278720855713,
          1.5273776054382324,
          2.016390323638916,
          2.6144371032714844,
          1.0283408164978027,
          -2.79469895362854,
          -1.1016896963119507,
          -0.9295142889022827,
          -0.985535204410553,
          -2.17881178855896,
          3.672214984893799,
          -0.6759392619132996,
          -1.2335695028305054,
          -1.426163673400879,
          -0.02884788252413273,
          -2.469162940979004,
          -0.38752514123916626,
          7.762951850891113,
          -0.028113532811403275,
          -2.5011932849884033,
          -2.9442081451416016,
          -2.547487258911133,
          -0.8646236658096313,
          -2.639983892440796,
          -2.8062522411346436,
          -1.7532190084457397,
          -0.42686593532562256,
          -3.2351016998291016,
          -4.857572555541992,
          -0.7182331085205078,
          0.8440299034118652,
          -4.005580902099609,
          -1.5246343612670898,
          -2.2642910480499268,
          -1.2857593297958374,
          -4.065858840942383,
          0.22406481206417084,
          -2.4855494499206543,
          -0.6383967399597168,
          -0.701134979724884,
          -0.5829768180847168,
          -0.5829765200614929,
          0.7084694504737854,
          -1.8715671300888062,
          -1.1200228929519653,
          -2.670194149017334,
          2.3464460372924805,
          -3.277707099914551,
          -1.787330985069275,
          -1.0304979085922241,
          0.5780942440032959,
          1.5002329349517822,
          -1.7507339715957642,
          6.646182537078857,
          1.4627362489700317,
          0.9995038509368896,
          -0.6308705806732178,
          1.3067054748535156,
          2.6654038429260254,
          0.5935036540031433,
          -1.3266226053237915,
          -2.447946071624756,
          -0.5729581713676453,
          2.1130731105804443,
          0.17148445546627045,
          0.6810594797134399,
          0.24199920892715454,
          -0.5711179971694946,
          0.6822828650474548,
          4.010688304901123,
          -0.08772506564855576,
          1.970331072807312,
          -2.4985058307647705,
          -2.709231376647949,
          -1.2700783014297485,
          3.293665885925293,
          3.3927624225616455,
          -1.7925258874893188,
          1.2144790887832642,
          -2.4209847450256348,
          0.8543254733085632,
          -3.717151641845703,
          0.8068881630897522,
          0.5079010725021362,
          0.8901495337486267,
          -0.02195327915251255,
          1.6369656324386597,
          -2.4912450313568115,
          -1.7588852643966675,
          5.747820854187012,
          5.58908224105835,
          0.5704399347305298,
          -0.6553401350975037,
          0.26887622475624084,
          -2.2260148525238037,
          -1.5674196481704712,
          4.561703681945801,
          5.8645853996276855,
          5.486792087554932,
          -1.7775856256484985,
          -0.7473714351654053,
          -0.7375437021255493,
          -0.9491659998893738,
          -1.095131754875183,
          -1.0047845840454102,
          -2.019707441329956,
          -2.1303038597106934
         ],
         "yaxis": "y"
        }
       ],
       "layout": {
        "legend": {
         "tracegroupgap": 0
        },
        "template": {
         "data": {
          "bar": [
           {
            "error_x": {
             "color": "#2a3f5f"
            },
            "error_y": {
             "color": "#2a3f5f"
            },
            "marker": {
             "line": {
              "color": "#E5ECF6",
              "width": 0.5
             },
             "pattern": {
              "fillmode": "overlay",
              "size": 10,
              "solidity": 0.2
             }
            },
            "type": "bar"
           }
          ],
          "barpolar": [
           {
            "marker": {
             "line": {
              "color": "#E5ECF6",
              "width": 0.5
             },
             "pattern": {
              "fillmode": "overlay",
              "size": 10,
              "solidity": 0.2
             }
            },
            "type": "barpolar"
           }
          ],
          "carpet": [
           {
            "aaxis": {
             "endlinecolor": "#2a3f5f",
             "gridcolor": "white",
             "linecolor": "white",
             "minorgridcolor": "white",
             "startlinecolor": "#2a3f5f"
            },
            "baxis": {
             "endlinecolor": "#2a3f5f",
             "gridcolor": "white",
             "linecolor": "white",
             "minorgridcolor": "white",
             "startlinecolor": "#2a3f5f"
            },
            "type": "carpet"
           }
          ],
          "choropleth": [
           {
            "colorbar": {
             "outlinewidth": 0,
             "ticks": ""
            },
            "type": "choropleth"
           }
          ],
          "contour": [
           {
            "colorbar": {
             "outlinewidth": 0,
             "ticks": ""
            },
            "colorscale": [
             [
              0,
              "#0d0887"
             ],
             [
              0.1111111111111111,
              "#46039f"
             ],
             [
              0.2222222222222222,
              "#7201a8"
             ],
             [
              0.3333333333333333,
              "#9c179e"
             ],
             [
              0.4444444444444444,
              "#bd3786"
             ],
             [
              0.5555555555555556,
              "#d8576b"
             ],
             [
              0.6666666666666666,
              "#ed7953"
             ],
             [
              0.7777777777777778,
              "#fb9f3a"
             ],
             [
              0.8888888888888888,
              "#fdca26"
             ],
             [
              1,
              "#f0f921"
             ]
            ],
            "type": "contour"
           }
          ],
          "contourcarpet": [
           {
            "colorbar": {
             "outlinewidth": 0,
             "ticks": ""
            },
            "type": "contourcarpet"
           }
          ],
          "heatmap": [
           {
            "colorbar": {
             "outlinewidth": 0,
             "ticks": ""
            },
            "colorscale": [
             [
              0,
              "#0d0887"
             ],
             [
              0.1111111111111111,
              "#46039f"
             ],
             [
              0.2222222222222222,
              "#7201a8"
             ],
             [
              0.3333333333333333,
              "#9c179e"
             ],
             [
              0.4444444444444444,
              "#bd3786"
             ],
             [
              0.5555555555555556,
              "#d8576b"
             ],
             [
              0.6666666666666666,
              "#ed7953"
             ],
             [
              0.7777777777777778,
              "#fb9f3a"
             ],
             [
              0.8888888888888888,
              "#fdca26"
             ],
             [
              1,
              "#f0f921"
             ]
            ],
            "type": "heatmap"
           }
          ],
          "heatmapgl": [
           {
            "colorbar": {
             "outlinewidth": 0,
             "ticks": ""
            },
            "colorscale": [
             [
              0,
              "#0d0887"
             ],
             [
              0.1111111111111111,
              "#46039f"
             ],
             [
              0.2222222222222222,
              "#7201a8"
             ],
             [
              0.3333333333333333,
              "#9c179e"
             ],
             [
              0.4444444444444444,
              "#bd3786"
             ],
             [
              0.5555555555555556,
              "#d8576b"
             ],
             [
              0.6666666666666666,
              "#ed7953"
             ],
             [
              0.7777777777777778,
              "#fb9f3a"
             ],
             [
              0.8888888888888888,
              "#fdca26"
             ],
             [
              1,
              "#f0f921"
             ]
            ],
            "type": "heatmapgl"
           }
          ],
          "histogram": [
           {
            "marker": {
             "pattern": {
              "fillmode": "overlay",
              "size": 10,
              "solidity": 0.2
             }
            },
            "type": "histogram"
           }
          ],
          "histogram2d": [
           {
            "colorbar": {
             "outlinewidth": 0,
             "ticks": ""
            },
            "colorscale": [
             [
              0,
              "#0d0887"
             ],
             [
              0.1111111111111111,
              "#46039f"
             ],
             [
              0.2222222222222222,
              "#7201a8"
             ],
             [
              0.3333333333333333,
              "#9c179e"
             ],
             [
              0.4444444444444444,
              "#bd3786"
             ],
             [
              0.5555555555555556,
              "#d8576b"
             ],
             [
              0.6666666666666666,
              "#ed7953"
             ],
             [
              0.7777777777777778,
              "#fb9f3a"
             ],
             [
              0.8888888888888888,
              "#fdca26"
             ],
             [
              1,
              "#f0f921"
             ]
            ],
            "type": "histogram2d"
           }
          ],
          "histogram2dcontour": [
           {
            "colorbar": {
             "outlinewidth": 0,
             "ticks": ""
            },
            "colorscale": [
             [
              0,
              "#0d0887"
             ],
             [
              0.1111111111111111,
              "#46039f"
             ],
             [
              0.2222222222222222,
              "#7201a8"
             ],
             [
              0.3333333333333333,
              "#9c179e"
             ],
             [
              0.4444444444444444,
              "#bd3786"
             ],
             [
              0.5555555555555556,
              "#d8576b"
             ],
             [
              0.6666666666666666,
              "#ed7953"
             ],
             [
              0.7777777777777778,
              "#fb9f3a"
             ],
             [
              0.8888888888888888,
              "#fdca26"
             ],
             [
              1,
              "#f0f921"
             ]
            ],
            "type": "histogram2dcontour"
           }
          ],
          "mesh3d": [
           {
            "colorbar": {
             "outlinewidth": 0,
             "ticks": ""
            },
            "type": "mesh3d"
           }
          ],
          "parcoords": [
           {
            "line": {
             "colorbar": {
              "outlinewidth": 0,
              "ticks": ""
             }
            },
            "type": "parcoords"
           }
          ],
          "pie": [
           {
            "automargin": true,
            "type": "pie"
           }
          ],
          "scatter": [
           {
            "marker": {
             "colorbar": {
              "outlinewidth": 0,
              "ticks": ""
             }
            },
            "type": "scatter"
           }
          ],
          "scatter3d": [
           {
            "line": {
             "colorbar": {
              "outlinewidth": 0,
              "ticks": ""
             }
            },
            "marker": {
             "colorbar": {
              "outlinewidth": 0,
              "ticks": ""
             }
            },
            "type": "scatter3d"
           }
          ],
          "scattercarpet": [
           {
            "marker": {
             "colorbar": {
              "outlinewidth": 0,
              "ticks": ""
             }
            },
            "type": "scattercarpet"
           }
          ],
          "scattergeo": [
           {
            "marker": {
             "colorbar": {
              "outlinewidth": 0,
              "ticks": ""
             }
            },
            "type": "scattergeo"
           }
          ],
          "scattergl": [
           {
            "marker": {
             "colorbar": {
              "outlinewidth": 0,
              "ticks": ""
             }
            },
            "type": "scattergl"
           }
          ],
          "scattermapbox": [
           {
            "marker": {
             "colorbar": {
              "outlinewidth": 0,
              "ticks": ""
             }
            },
            "type": "scattermapbox"
           }
          ],
          "scatterpolar": [
           {
            "marker": {
             "colorbar": {
              "outlinewidth": 0,
              "ticks": ""
             }
            },
            "type": "scatterpolar"
           }
          ],
          "scatterpolargl": [
           {
            "marker": {
             "colorbar": {
              "outlinewidth": 0,
              "ticks": ""
             }
            },
            "type": "scatterpolargl"
           }
          ],
          "scatterternary": [
           {
            "marker": {
             "colorbar": {
              "outlinewidth": 0,
              "ticks": ""
             }
            },
            "type": "scatterternary"
           }
          ],
          "surface": [
           {
            "colorbar": {
             "outlinewidth": 0,
             "ticks": ""
            },
            "colorscale": [
             [
              0,
              "#0d0887"
             ],
             [
              0.1111111111111111,
              "#46039f"
             ],
             [
              0.2222222222222222,
              "#7201a8"
             ],
             [
              0.3333333333333333,
              "#9c179e"
             ],
             [
              0.4444444444444444,
              "#bd3786"
             ],
             [
              0.5555555555555556,
              "#d8576b"
             ],
             [
              0.6666666666666666,
              "#ed7953"
             ],
             [
              0.7777777777777778,
              "#fb9f3a"
             ],
             [
              0.8888888888888888,
              "#fdca26"
             ],
             [
              1,
              "#f0f921"
             ]
            ],
            "type": "surface"
           }
          ],
          "table": [
           {
            "cells": {
             "fill": {
              "color": "#EBF0F8"
             },
             "line": {
              "color": "white"
             }
            },
            "header": {
             "fill": {
              "color": "#C8D4E3"
             },
             "line": {
              "color": "white"
             }
            },
            "type": "table"
           }
          ]
         },
         "layout": {
          "annotationdefaults": {
           "arrowcolor": "#2a3f5f",
           "arrowhead": 0,
           "arrowwidth": 1
          },
          "autotypenumbers": "strict",
          "coloraxis": {
           "colorbar": {
            "outlinewidth": 0,
            "ticks": ""
           }
          },
          "colorscale": {
           "diverging": [
            [
             0,
             "#8e0152"
            ],
            [
             0.1,
             "#c51b7d"
            ],
            [
             0.2,
             "#de77ae"
            ],
            [
             0.3,
             "#f1b6da"
            ],
            [
             0.4,
             "#fde0ef"
            ],
            [
             0.5,
             "#f7f7f7"
            ],
            [
             0.6,
             "#e6f5d0"
            ],
            [
             0.7,
             "#b8e186"
            ],
            [
             0.8,
             "#7fbc41"
            ],
            [
             0.9,
             "#4d9221"
            ],
            [
             1,
             "#276419"
            ]
           ],
           "sequential": [
            [
             0,
             "#0d0887"
            ],
            [
             0.1111111111111111,
             "#46039f"
            ],
            [
             0.2222222222222222,
             "#7201a8"
            ],
            [
             0.3333333333333333,
             "#9c179e"
            ],
            [
             0.4444444444444444,
             "#bd3786"
            ],
            [
             0.5555555555555556,
             "#d8576b"
            ],
            [
             0.6666666666666666,
             "#ed7953"
            ],
            [
             0.7777777777777778,
             "#fb9f3a"
            ],
            [
             0.8888888888888888,
             "#fdca26"
            ],
            [
             1,
             "#f0f921"
            ]
           ],
           "sequentialminus": [
            [
             0,
             "#0d0887"
            ],
            [
             0.1111111111111111,
             "#46039f"
            ],
            [
             0.2222222222222222,
             "#7201a8"
            ],
            [
             0.3333333333333333,
             "#9c179e"
            ],
            [
             0.4444444444444444,
             "#bd3786"
            ],
            [
             0.5555555555555556,
             "#d8576b"
            ],
            [
             0.6666666666666666,
             "#ed7953"
            ],
            [
             0.7777777777777778,
             "#fb9f3a"
            ],
            [
             0.8888888888888888,
             "#fdca26"
            ],
            [
             1,
             "#f0f921"
            ]
           ]
          },
          "colorway": [
           "#636efa",
           "#EF553B",
           "#00cc96",
           "#ab63fa",
           "#FFA15A",
           "#19d3f3",
           "#FF6692",
           "#B6E880",
           "#FF97FF",
           "#FECB52"
          ],
          "font": {
           "color": "#2a3f5f"
          },
          "geo": {
           "bgcolor": "white",
           "lakecolor": "white",
           "landcolor": "#E5ECF6",
           "showlakes": true,
           "showland": true,
           "subunitcolor": "white"
          },
          "hoverlabel": {
           "align": "left"
          },
          "hovermode": "closest",
          "mapbox": {
           "style": "light"
          },
          "paper_bgcolor": "white",
          "plot_bgcolor": "#E5ECF6",
          "polar": {
           "angularaxis": {
            "gridcolor": "white",
            "linecolor": "white",
            "ticks": ""
           },
           "bgcolor": "#E5ECF6",
           "radialaxis": {
            "gridcolor": "white",
            "linecolor": "white",
            "ticks": ""
           }
          },
          "scene": {
           "xaxis": {
            "backgroundcolor": "#E5ECF6",
            "gridcolor": "white",
            "gridwidth": 2,
            "linecolor": "white",
            "showbackground": true,
            "ticks": "",
            "zerolinecolor": "white"
           },
           "yaxis": {
            "backgroundcolor": "#E5ECF6",
            "gridcolor": "white",
            "gridwidth": 2,
            "linecolor": "white",
            "showbackground": true,
            "ticks": "",
            "zerolinecolor": "white"
           },
           "zaxis": {
            "backgroundcolor": "#E5ECF6",
            "gridcolor": "white",
            "gridwidth": 2,
            "linecolor": "white",
            "showbackground": true,
            "ticks": "",
            "zerolinecolor": "white"
           }
          },
          "shapedefaults": {
           "line": {
            "color": "#2a3f5f"
           }
          },
          "ternary": {
           "aaxis": {
            "gridcolor": "white",
            "linecolor": "white",
            "ticks": ""
           },
           "baxis": {
            "gridcolor": "white",
            "linecolor": "white",
            "ticks": ""
           },
           "bgcolor": "#E5ECF6",
           "caxis": {
            "gridcolor": "white",
            "linecolor": "white",
            "ticks": ""
           }
          },
          "title": {
           "x": 0.05
          },
          "xaxis": {
           "automargin": true,
           "gridcolor": "white",
           "linecolor": "white",
           "ticks": "",
           "title": {
            "standoff": 15
           },
           "zerolinecolor": "white",
           "zerolinewidth": 2
          },
          "yaxis": {
           "automargin": true,
           "gridcolor": "white",
           "linecolor": "white",
           "ticks": "",
           "title": {
            "standoff": 15
           },
           "zerolinecolor": "white",
           "zerolinewidth": 2
          }
         }
        },
        "title": {
         "text": "Autoencoder 차원축소"
        },
        "xaxis": {
         "anchor": "y",
         "domain": [
          0,
          1
         ],
         "title": {
          "text": "x"
         }
        },
        "yaxis": {
         "anchor": "x",
         "domain": [
          0,
          1
         ],
         "title": {
          "text": "y"
         }
        }
       }
      },
      "text/html": [
       "<div>                            <div id=\"4fc97810-957d-45b9-b520-cf0f36109211\" class=\"plotly-graph-div\" style=\"height:525px; width:100%;\"></div>            <script type=\"text/javascript\">                require([\"plotly\"], function(Plotly) {                    window.PLOTLYENV=window.PLOTLYENV || {};                                    if (document.getElementById(\"4fc97810-957d-45b9-b520-cf0f36109211\")) {                    Plotly.newPlot(                        \"4fc97810-957d-45b9-b520-cf0f36109211\",                        [{\"customdata\":[[\"\\ubaa8\\ub4e0\\uac8c \\uc9c0\\ub098\\uba74\",\"\\ud654\\ub791\",\"['\\ubba4\\uc9c0\\uceec', '\\uc0ac\\ub791']\",\"['\\uacbd\\ucf8c\\ud55c', '\\ud589\\ubcf5\\ud55c']\"],[\"\\ub9c8\\uc74c (*\\ucde8\\uae09\\uc8fc\\uc758)\",\"\\ub7ec\\ube14\\ub9ac\\uc988\",\"['\\uc0ac\\ub791']\",\"['\\ud589\\ubcf5\\ud55c']\"],[\"\\ub450\\ub2ec \\ub4a4 \\ubd80\\ub974\\ub294 \\ub178\\ub798\",\"\\ud50c\\ub77c\\uc6cc\\ub514\\uc5b4 (Flour Deer)\",\"['\\ube44\\uc624\\ub294\\ub0a0', '\\ube44', '\\uc2ac\\ud508', '\\uc9d1\\uc911', '\\uc5ec\\uc720', '\\uce74\\ud398', '\\uc0c8\\ubcbd', '\\uc8fc\\ub9d0', '\\ud790\\ub9c1', '\\uc791\\uc5c5', '\\ubc24']\",\"['\\uc6b0\\uc6b8\\ud55c']\"],[\"\\ube44\\ubc00\",\"\\uce90\\uc2a4\\ucee4\",\"['\\uc774\\ubcc4']\",\"['\\uc6b0\\uc6b8\\ud55c']\"],[\"\\uc57d\\uc18d\",\"KYT (\\ucf54\\uc694\\ud0dc)\",\"['\\ucd94\\uc5b5', '\\ud68c\\uc0c1']\",\"['\\ud589\\ubcf5\\ud55c', '\\uc794\\uc794\\ud55c']\"],[\"\\uc57d\\uc18d\",\"\\ud5c8\\uacf5\",\"['\\ucd94\\uc5b5', '\\ud68c\\uc0c1']\",\"['\\ud589\\ubcf5\\ud55c', '\\uc794\\uc794\\ud55c']\"],[\"\\uc57d\\uc18d\",\"KYT (\\ucf54\\uc694\\ud0dc)\",\"['\\ud68c\\uc0c1', '\\uc2ac\\ud514', '\\ubba4\\uc9c0\\uceec', '\\uac10\\ub3d9', '\\ud734\\uc2dd']\",\"['\\uc794\\uc794\\ud55c']\"],[\"\\uc57d\\uc18d\",\"\\ud5c8\\uacf5\",\"['\\ud68c\\uc0c1', '\\uc2ac\\ud514', '\\ubba4\\uc9c0\\uceec', '\\uac10\\ub3d9', '\\ud734\\uc2dd']\",\"['\\uc794\\uc794\\ud55c']\"],[\"\\uac70\\ub9ac\\uc5d0\\uc11c\",\"\\uc544\\uc2dc\\uc548\\uccb4\\uc5b4\\uc0f7 (Asian Chairshot)\",\"['\\uac10\\ub3d9', '\\ubba4\\uc9c0\\uceec']\",\"['\\ud589\\ubcf5\\ud55c', '\\uacbd\\ucf8c\\ud55c']\"],[\"\\uac70\\ub9ac\\uc5d0\\uc11c\",\"\\ubba4\\uc9c0\\uceec \\uc6e8\\uc787\\ud3ec\\uc720 (Musical Wait For You)\",\"['\\uac10\\ub3d9', '\\ubba4\\uc9c0\\uceec']\",\"['\\ud589\\ubcf5\\ud55c', '\\uacbd\\ucf8c\\ud55c']\"],[\"\\ucc3d\\uac00\\uc758 \\uc774\\ubcc4\",\"\\uc9c0\\ud3c9\\uad8c\",\"['\\ucd94\\uc5b5']\",\"['\\ud589\\ubcf5\\ud55c']\"],[\"Leader Of The Landslide\",\"The Lumineers\",\"['\\ud734\\uc2dd', '\\ub4dc\\ub77c\\uc774\\ube0c', '\\uae30\\ubd84\\uc804\\ud658', '\\ubd84\\uc704\\uae30', '\\ud3b8\\uc548\\ud55c']\",\"['\\uc794\\uc794\\ud55c', '\\ud589\\ubcf5\\ud55c']\"],[\"Karate (Original Mix)\",\"R3hab, Kshmr\",\"['\\ud074\\ub7fd']\",\"['\\uacbd\\ucf8c\\ud55c']\"],[\"Mixtape#3\",\"Stray Kids (\\uc2a4\\ud2b8\\ub808\\uc774 \\ud0a4\\uc988)\",\"['\\uae30\\ubd84\\uc804\\ud658']\",\"['\\ud589\\ubcf5\\ud55c']\"],[\"Killing Me\",\"\\ube44\\ud22c\\ube44\",\"['\\uc0ac\\ub791']\",\"['\\ud589\\ubcf5\\ud55c']\"],[\"\\ucd09\\ucd09\\ucd09 Waltz\",\"\\uc190\\ub3d9\\uc6b4, \\uc774\\uc2dc\\uc720, \\uc720\\uc8fc\\ud61c\",\"['\\ud790\\ub9c1', '\\ud734\\uc2dd', '\\uae30\\ubd84\\uc804\\ud658']\",\"['\\ud589\\ubcf5\\ud55c']\"],[\"Return To..\",\"MOJO (\\ubaa8\\uc870)\",\"['\\ud734\\uc2dd', '\\uc7a0\\uc798\\ub54c']\",\"['\\uc794\\uc794\\ud55c']\"],[\"\\ub108\\uc5d0\\uac8c \\ubb3c\\ub4e4\\uc5b4\",\"\\ud615\\uc12dX\\uc758\\uc6c5\",\"['\\uc2e0\\ub098\\ub294']\",\"['\\ud589\\ubcf5\\ud55c']\"],[\"Loving U\",\"\\uae40\\uc885\\uc11c\",\"['\\uace0\\ubc31', '\\uc124\\ub818', '\\uc0ac\\ub791', '\\ud790\\ub9c1', '\\ud734\\uc2dd']\",\"['\\ud589\\ubcf5\\ud55c']\"],[\"\\ud55c \\ud3ed\\uc758 \\uadf8\\ub9bc (Paradise)\",\"S.E.S.\",\"['\\uae30\\ubd84\\uc804\\ud658']\",\"['\\ud589\\ubcf5\\ud55c']\"],[\"\\uc774\\uc820 \\uc815\\ub9d0 \\ub9cc\\ub098\\uc57c \\ud560 \\ub54c\",\"\\uc804\\ubcd1\\uc6b1, \\uc624\\ub9cc\\uc11d, \\uc624\\ub098\\ub77c\",\"['\\ubba4\\uc9c0\\uceec']\",\"['\\uacbd\\ucf8c\\ud55c']\"],[\"Everybody Had A Hard Year\",\"Marz\",\"['\\uae30\\ubd84\\uc804\\ud658', '\\ub4dc\\ub77c\\uc774\\ube0c']\",\"['\\ud589\\ubcf5\\ud55c']\"],[\"Stop Snitchin\",\"YG\",\"['\\uc6b4\\ub3d9']\",\"['\\uacbd\\ucf8c\\ud55c']\"],[\"U Know (Feat. Basick)\",\"LUKA (ARTMATIC)\",\"['\\ud790\\ub9c1', '\\ud734\\uc2dd', '\\uae30\\ubd84\\uc804\\ud658', '\\ub304\\uc2a4']\",\"['\\ud589\\ubcf5\\ud55c']\"],[\"Wrecking Ball\",\"Dami Im\",\"['\\uc2dc\\uc6d0\\ud55c', '\\ubd84\\uc704\\uae30', '\\ubabd\\ud658', '\\uc0c8\\ubcbd', '\\ud790\\ub9c1', '\\ud734\\uc2dd', '\\uc794\\uc794\\ud55c']\",\"['\\uc794\\uc794\\ud55c']\"],[\"\\uadf8 \\uacf3 (Feat. \\uae40\\ud0dc\\ud64d)\",\"\\ud5c8\\uc900\\ubc94\",\"['\\uae4c\\ud398']\",\"['\\uc794\\uc794\\ud55c']\"],[\"Mr. BADBOY\",\"\\uc6b0\\uc8fc\\uc18c\\ub140\",\"['\\uc5ec\\ub984', '\\ub4dc\\ub77c\\uc774\\ube0c', '\\ub304\\uc2a4']\",\"['\\uacbd\\ucf8c\\ud55c']\"],[\"\\uba40\\ub6b1\\uba40\\ub6b1\",\"\\uc5b4\\ucfe0\\uc194\\uc7c8 (ACOUSOLJAH)\",\"['\\ub178\\ub3d9\\uc694', '\\ub304\\uc2a4', '\\uc624\\ud6c4', '\\uc2e0\\ub098\\ub294']\",\"['\\ud589\\ubcf5\\ud55c']\"],[\"Mack The Knife\",\"Westlife\",\"['\\ub4dc\\ub77c\\uc774\\ube0c', '\\uc5ec\\ud589']\",\"['\\ud589\\ubcf5\\ud55c']\"],[\"\\ud30c\\ub9ac\\uc758 \\uba5c\\ub85c\\ub514\",\"\\uae40\\uc18c\\ud604, \\ubba4\\uc9c0\\uceec \\ud32c\\ud140 2016 \\uc559\\uc0c1\\ube14\",\"['\\ubba4\\uc9c0\\uceec']\",\"['\\uacbd\\ucf8c\\ud55c']\"],[\"Again (Armin Van Buuren Remix) (Feat. Betsie Larkin)\",\"Armin van Buuren presents Rising Star\",\"['\\ub304\\uc2a4']\",\"['\\uacbd\\ucf8c\\ud55c']\"],[\"\\ub2a6\\uc740 \\ubc24, \\uc6b0\\ub9ac (Album Ver.)\",\"\\ud53c\\uadf8\\ub9d0\\ub9ac\\uc628\",\"['\\ub370\\uc774\\ud2b8', '\\ubd04', '\\uc124\\ub818', '\\uc0ac\\ub791']\",\"['\\ud589\\ubcf5\\ud55c']\"],[\"No Surprises (Remastered)\",\"Radiohead\",\"['\\ub4dc\\ub77c\\uc774\\ube0c']\",\"['\\ud589\\ubcf5\\ud55c']\"],[\"\\ud1a1\\ud1a1\",\"\\uba54\\ub9ac\\ub77c\\uc6b4\\ub4dc\",\"['\\uc0ac\\ub791']\",\"['\\ud589\\ubcf5\\ud55c']\"],[\"\\uace8\\uace0\\ub2e4\",\"\\ud55c\\uc9c0\\uc0c1\",\"['\\ubba4\\uc9c0\\uceec', '\\uc0ac\\ub791']\",\"['\\uacbd\\ucf8c\\ud55c', '\\ud589\\ubcf5\\ud55c']\"],[\"\\uc2dc\\uac04\\uc774 \\ud750\\ub978 \\ub4a4\\uc5d4\",\"\\uc6a9\\uc900\\ud615, \\ube44\\ud22c\\ube44\",\"['\\ucd94\\uc5b5']\",\"['\\ud589\\ubcf5\\ud55c']\"],[\"\\uc190\\ub4e4\\uc5b4\",\"GOT7 (\\uac13\\uc138\\ube10)\",\"['\\ub178\\ub3d9\\uc694', '\\ub304\\uc2a4', '\\ub4e4\\uc369\\ub4e4\\uc369', '\\uc2a4\\ud2b8\\ub808\\uc2a4']\",\"['\\uae34\\uc7a5\\ub418\\ub294', '\\uacbd\\ucf8c\\ud55c']\"],[\"\\ud658\\uc601\\ubb38(\\u6b61\\u8fce\\u6587)\",\"\\ud074\\ub9ad\\ube44 (Click-B)\",\"['\\ub304\\uc2a4']\",\"['\\uacbd\\ucf8c\\ud55c']\"],[\"\\ub2c8\\uac00 \\uc544\\ub2c8\\uba74 (Feat. \\ube14\\ub8e8\\ub2c8 of \\uc704\\uc704)\",\"109\",\"['\\uce74\\ud398']\",\"['\\uc794\\uc794\\ud55c']\"],[\"You Make My Life a Better Place\",\"Mamas Gun\",\"['\\uce74\\ud398', '\\ub4dc\\ub77c\\uc774\\ube0c', '\\uae30\\ubd84\\uc804\\ud658', '\\uc5ec\\ud589']\",\"['\\ud589\\ubcf5\\ud55c']\"],[\"Serendipity (Full Length Edition)\",\"\\ubc29\\ud0c4\\uc18c\\ub144\\ub2e8\",\"['\\uae30\\ubd84\\uc804\\ud658']\",\"['\\ud589\\ubcf5\\ud55c']\"],[\"Once Again\",\"\\uba38\\ub2c8\",\"['\\ube44\\uc624\\ub294\\ub0a0', '\\ubc24', '\\uc0c8\\ubcbd']\",\"['\\uc6b0\\uc6b8\\ud55c']\"],[\"\\ubb3c\\ube5b\\uc758 \\uc5ec\\ub984\",\"\\uc5d0\\ub808\\ub098\",\"['\\ud790\\ub9c1', '\\ud734\\uc2dd', '\\uae4c\\ud398']\",\"['\\uc794\\uc794\\ud55c']\"],[\"It`s Alright, It`s OK\",\"Ashley Tisdale\",\"['\\uae30\\ubd84\\uc804\\ud658']\",\"['\\ud589\\ubcf5\\ud55c']\"],[\"Time After Time\",\"Various Artists\",\"['\\uaca8\\uc6b8', '\\ubc24', '\\uac00\\uc744', '\\ud790\\ub9c1', '\\ucc2c\\ubc14\\ub78c']\",\"['\\uc794\\uc794\\ud55c']\"],[\"Time After Time\",\"Various Artists\",\"['\\uce74\\ud398', '\\uc794\\uc794\\ud55c', '\\ud734\\uc2dd']\",\"['\\uc794\\uc794\\ud55c']\"],[\"\\ud558\\ub8e8 \\ub610 \\ud558\\ub8e8\",\"\\ub958\\uc815\\ud55c, \\uc784\\ud61c\\uc601\",\"['\\ubba4\\uc9c0\\uceec']\",\"['\\uacbd\\ucf8c\\ud55c']\"],[\"\\uc78a\\ud600\\uc9c4 \\uc0ac\\ub791\",\"\\ud074\\ub9ad\\ube44 (Click-B)\",\"['\\ub304\\uc2a4']\",\"['\\uacbd\\ucf8c\\ud55c']\"],[\"\\uc27c\\uc774 \\ud544\\uc694\\ud574\",\"\\uc624\\uc5f0\\uc900\",\"['\\uc6b0\\uc6b8\\ud560\\ub54c', '\\uae30\\ubd84\\uc804\\ud658', '\\uc2a4\\ud2b8\\ub808\\uc2a4\\ud574\\uc18c']\",\"['\\uc6b0\\uc6b8\\ud55c', '\\ud589\\ubcf5\\ud55c', '\\uacbd\\ucf8c\\ud55c']\"],[\"\\ubcc4\\ube5b (Feat. \\ud64d\\ubbf8\\ub824)\",\"Soro Sori (\\uc11c\\ub85c\\uc18c\\ub9ac)\",\"['\\uce74\\ud398', '\\uc794\\uc794\\ud55c', '\\ud790\\ub9c1', '\\ub530\\ub73b\\ud55c', '\\ud3b8\\uc548\\ud55c', '\\uac00\\uc744', '\\uc6b0\\uc6b8', '\\uc624\\ud6c4', '\\ub098\\ub978\\ud55c', '\\ud734\\uc2dd', '\\ud750\\ub9b0\\ub0a0', '\\uc13c\\uce58\\ud55c']\",\"['\\uc794\\uc794\\ud55c']\"],[\"\\uc11c\\uace1_\\ub0b4 \\ube44\\uadf9\\uc801\\uc778 \\uc774\\uc57c\\uae30\",\"\\uc804\\ub3d9\\uc11d, \\ubba4\\uc9c0\\uceec \\ud32c\\ud140 2016 \\uc559\\uc0c1\\ube14\",\"['\\ubba4\\uc9c0\\uceec']\",\"['\\uacbd\\ucf8c\\ud55c']\"],[\"\\uc6b0\\ub9ac \\ucc98\\uc74c \\ub9cc\\ub09c \\ub0a0 (Acoustic Ver.)\",\"\\ud55c\\ud76c\\uc815\",\"['\\ubc24', '\\uc0c8\\ubcbd']\",\"['\\ubb34\\uc11c\\uc6b4', '\\uc6b0\\uc6b8\\ud55c']\"],[\"True Colors\",\"JBJ\",\"['\\uae30\\ubd84\\uc804\\ud658', '\\uc2e0\\ub098\\ub294', '\\ub4dc\\ub77c\\uc774\\ube0c', '\\ubc34\\ub4dc', '\\uc5ec\\ud589']\",\"['\\ud589\\ubcf5\\ud55c']\"],[\"Sunday Brunch\",\"\\ubc15\\uc815\\ud604\",\"['\\uc124\\ub818', '\\uc0ac\\ub791']\",\"['\\ud589\\ubcf5\\ud55c']\"],[\"\\ub0b4 \\uace0\\ud5a5\",\"\\ubc15\\uc740\\ud0dc, \\uc774\\uc9c0\\ud61c\",\"['\\ubba4\\uc9c0\\uceec']\",\"['\\uacbd\\ucf8c\\ud55c']\"],[\"\\ub098\\ub9cc (Just Me) (Inst.)\",\"\\uc18c\\ub77c (Sora)\",\"['\\uacf5\\ubd80', '\\ubd04']\",\"['\\uc794\\uc794\\ud55c', '\\ud589\\ubcf5\\ud55c']\"],[\"\\uad1c\\uc2dc\\ub9ac\",\"\\uc694\\ub2c8\\uc2a4\",\"['\\ud790\\ub9c1', '\\ud734\\uc2dd', '\\uae30\\ubd84\\uc804\\ud658']\",\"['\\ud589\\ubcf5\\ud55c']\"],[\"I Was Born To Love You + Only Love (Reprise) (\\ub108 \\ud558\\ub098\\ub9cc + \\uc0ac\\ub791\\uc774\\uc57c Reprise)\",\"\\uc784\\ud0dc\\uacbd, \\uc625\\uc8fc\\ud604\",\"['\\ubba4\\uc9c0\\uceec']\",\"['\\uacbd\\ucf8c\\ud55c']\"],[\"Chemicals\",\"\\ud0a4 (KEY)\",\"['\\uc8fc\\ub9d0', '\\ub4dc\\ub77c\\uc774\\ube0c', '\\uae30\\ubd84\\uc804\\ud658', '\\uc2e0\\ub098\\ub294', '\\ub304\\uc2a4']\",\"['\\ud589\\ubcf5\\ud55c']\"],[\"Turtles Free 2\",\"\\uac70\\ubd81\\uc774\",\"['\\ub304\\uc2a4']\",\"['\\uacbd\\ucf8c\\ud55c']\"],[\"\\uadf8\\uacf3\\uc5d0 \\uc11c\\uc11c\",\"\\ubc15\\ud6a8\\uc2e0\",\"['\\ucd94\\uc5b5']\",\"['\\ud589\\ubcf5\\ud55c']\"],[\"Role Of A Lifetime\",\"\\uc724\\uc18c\\ud638\",\"['\\ubba4\\uc9c0\\uceec', '\\uc0ac\\ub791']\",\"['\\uacbd\\ucf8c\\ud55c', '\\ud589\\ubcf5\\ud55c']\"],[\"THE SEASONS\",\"CNBLUE (\\uc528\\uc5d4\\ube14\\ub8e8)\",\"['\\uae30\\ubd84\\uc804\\ud658', '\\uc124\\ub818', '\\uc0ac\\ub791', '\\ub304\\uc2a4', '\\uac00\\uc744', '\\uac00\\uc744\\uac10\\uc131', '\\uac00\\uc744\\ubc24']\",\"['\\ud589\\ubcf5\\ud55c', '\\uc794\\uc794\\ud55c']\"],[\"Mood Indigo\",\"CHEEZE (\\uce58\\uc988)\",\"['\\uc0ac\\ub791']\",\"['\\ud589\\ubcf5\\ud55c']\"],[\"Drive\",\"B1A4\",\"['\\ub4dc\\ub77c\\uc774\\ube0c']\",\"['\\ud589\\ubcf5\\ud55c']\"],[\"Drive\",\"\\uccad\\ud558\",\"['\\ub4dc\\ub77c\\uc774\\ube0c']\",\"['\\ud589\\ubcf5\\ud55c']\"],[\"Drive\",\"B1A4\",\"['\\uae30\\ubd84\\uc804\\ud658']\",\"['\\ud589\\ubcf5\\ud55c']\"],[\"Drive\",\"\\uccad\\ud558\",\"['\\uae30\\ubd84\\uc804\\ud658']\",\"['\\ud589\\ubcf5\\ud55c']\"],[\"Sorceress (Acoustic)\",\"Jordan Rakei\",\"['\\uac00\\uc744']\",\"['\\uc794\\uc794\\ud55c']\"],[\"\\ubaa9\\ud654\",\"\\ubcf4\\uc218\\ub3d9\\ucfe8\\ub7ec\",\"['\\ubc34\\ub4dc', '\\uc800\\ub141', '\\ubc24', '\\ubd84\\uc704\\uae30', '\\uadf8\\ub9ac\\uc6c0']\",\"['\\uc794\\uc794\\ud55c']\"],[\"\\uc218\\uc2e0\\uac70\\ubd80\",\"\\ud558\\ud604\\uace4 \\ud329\\ud1a0\\ub9ac\",\"['\\uae30\\ubd84\\uc804\\ud658', '\\uc2a4\\ud2b8\\ub808\\uc2a4']\",\"['\\ud589\\ubcf5\\ud55c', '\\uae34\\uc7a5\\ub418\\ub294']\"],[\"Outlines\",\"AlunaGeorge\",\"['\\ub4dc\\ub77c\\uc774\\ube0c', '\\uae4c\\ud398', '\\ud074\\ub7fd']\",\"['\\ud589\\ubcf5\\ud55c', '\\uc794\\uc794\\ud55c', '\\uacbd\\ucf8c\\ud55c']\"],[\"\\ud560 \\ub9d0\\uc774 \\uc788\\uc5b4 (feat. \\ud50c\\ub9ac\\uc9c0)\",\"\\ub77c\\uc784\\uc988 (RHYMEZ)\",\"['\\uc0ac\\ub791', '\\uae30\\ubd84\\uc804\\ud658']\",\"['\\ud589\\ubcf5\\ud55c']\"],[\"Destiny\",\"\\ub3d9\\ubc29\\uc2e0\\uae30 (TVXQ!)\",\"['\\uc124\\ub818', '\\uc0ac\\ub791']\",\"['\\ud589\\ubcf5\\ud55c']\"],[\"IF... (\\ub108\\ub9cc \\uc788\\uc73c\\uba74)\",\"B1A4\",\"['\\uae30\\ubd84\\uc804\\ud658']\",\"['\\ud589\\ubcf5\\ud55c']\"],[\"\\uc804\\ud560 \\uc218 \\uc5c6\\ub294 \\uc774\\uc57c\\uae30 (\\ubd80\\uc81c:\\uc2dc\\ud2f0 \\uc624\\ube0c \\uc5d4\\uc824)\",\"\\ud718\\uc131 (Realslow)\",\"['\\ucd94\\uc5b5']\",\"['\\ud589\\ubcf5\\ud55c']\"],[\"\\uc0dd\\uac01\\ub9cc \\ud588\\uc5b4 (Feat. \\ud5c8\\uc2b9\\uc5f0)\",\"\\ub2e4\\uac00\\uc628\",\"['\\ud734\\uc2dd', '\\uae30\\ubd84\\uc804\\ud658']\",\"['\\uc794\\uc794\\ud55c', '\\ud589\\ubcf5\\ud55c']\"],[\"\\uc544\\uc8fc \\uc624\\ub798\\ub41c \\uc5f0\\uc778\\ub4e4\",\"015B\",\"['\\ucd94\\uc5b5']\",\"['\\ud589\\ubcf5\\ud55c']\"],[\"I Need Your Love (Feat. Ellie Goulding)\",\"Calvin Harris\",\"['\\ub4dc\\ub77c\\uc774\\ube0c']\",\"['\\ud589\\ubcf5\\ud55c']\"],[\"Let Me Hold You (Turn Me On)\",\"Cheat Codes, Dante Klein\",\"['\\uae30\\ubd84\\uc804\\ud658']\",\"['\\ud589\\ubcf5\\ud55c']\"],[\"Stardust\",\"Bob Dylan\",\"['\\ud558\\ub8e8']\",\"['\\uc794\\uc794\\ud55c']\"],[\"Zoo\",\"Red Velvet (\\ub808\\ub4dc\\ubca8\\ubcb3)\",\"['\\uc5ec\\ub984']\",\"['\\uacbd\\ucf8c\\ud55c']\"],[\"Stay\",\"Nicky Romero\",\"['\\ub4dc\\ub77c\\uc774\\ube0c', '\\uce74\\ud398']\",\"['\\ud589\\ubcf5\\ud55c', '\\uc794\\uc794\\ud55c']\"],[\"Stay\",\"Nicky Romero\",\"['\\uae30\\ubd84\\uc804\\ud658', '\\ub4dc\\ub77c\\uc774\\ube0c']\",\"['\\ud589\\ubcf5\\ud55c']\"],[\"\\ubcf4\\uace0\\uc2f6\\uc5b4\",\"\\ubcf4\\ub4dc\\uce74 \\ub808\\uc778\",\"['\\uc0c8\\ubcbd', '\\uc794\\uc794\\ud55c']\",\"['\\uc6b0\\uc6b8\\ud55c', '\\uc794\\uc794\\ud55c']\"],[\"\\uc0ac\\ub791\\uc778\\uac00\\ubd10!\",\"\\ucc44\\uc5f0\",\"['\\ub304\\uc2a4']\",\"['\\uacbd\\ucf8c\\ud55c']\"],[\"World Tour (Song By Hauzee, Holmsted)\",\"KozyPop\",\"['\\ub178\\ub3d9\\uc694']\",\"['\\uae34\\uc7a5\\ub418\\ub294']\"],[\"Our Love\",\"Al Jarreau\",\"['\\uaca8\\uc6b8\\uac10\\uc131']\",\"['\\uc794\\uc794\\ud55c']\"],[\"\\ucf5c\\ub4dc (Cold)\",\"\\ubaa8\\ub178\\ud328\\uc2a4 (Monopath)\",\"['\\uc794\\uc794\\ud55c', '\\ubc24', '\\uc0c8\\ubcbd', '\\ub4dc\\ub77c\\uc774\\ube0c']\",\"['\\uc794\\uc794\\ud55c', '\\ubb34\\uc11c\\uc6b4', '\\uc6b0\\uc6b8\\ud55c', '\\ud589\\ubcf5\\ud55c']\"],[\"Thanks For The Music (\\uc18c\\ud53c &\\uc0d8 & \\ud574\\ub9ac & \\ube4c)\",\"\\uc774\\uc815\\ubbf8 & \\uc131\\uae30\\uc724 & \\uc774\\uc815\\ub82c & \\ubc15\\uc9c0\\uc77c\",\"['\\ubba4\\uc9c0\\uceec']\",\"['\\uacbd\\ucf8c\\ud55c']\"],[\"\\ub2ec\\ub9ac\\ub294 \\ub2e4\\ub77d\\ubc29\",\"\\uc624\\ube60\\uc57c\\ubb38\\uc5f4\\uc5b4\\ub538\\uae30\\uc0ac\\uc654\\uc5b4\",\"['\\uce74\\ud398', '\\uc5ec\\uc720', '\\ucee4\\ud53c', '\\ud790\\ub9c1']\",\"['\\uc794\\uc794\\ud55c', '\\ud589\\ubcf5\\ud55c']\"],[\"Paradise\",\"\\ud5ec\\ub85c\\ube44\\ub108\\uc2a4\",\"['\\uae30\\ubd84\\uc804\\ud658']\",\"['\\ud589\\ubcf5\\ud55c']\"],[\"\\ud0dd\\uc2dc\\uc548\\uc5d0\\uc11c\",\"\\uc5d4\\ub3cc\\ud540\",\"['\\ub304\\uc2a4', '\\ube44\\uc624\\ub294\\ub0a0', '\\uc794\\uc794\\ud55c']\",\"['\\uacbd\\ucf8c\\ud55c', '\\uc6b0\\uc6b8\\ud55c', '\\uc794\\uc794\\ud55c']\"],[\"\\ucda4\",\"\\uc694\\uc870\",\"['\\uac00\\uc744']\",\"['\\uc794\\uc794\\ud55c']\"],[\"\\ube60\\ube60\\ube60 (Bar Bar Bar)\",\"\\ud06c\\ub808\\uc6a9\\ud31d\",\"['\\ub304\\uc2a4', '\\uc2a4\\ud2b8\\ub808\\uc2a4', '\\uc2e0\\ub098\\ub294']\",\"['\\uacbd\\ucf8c\\ud55c', '\\uae34\\uc7a5\\ub418\\ub294', '\\ud589\\ubcf5\\ud55c']\"],[\"Overall\",\"Hello Saferide\",\"['\\uaca8\\uc6b8']\",\"['\\uc794\\uc794\\ud55c']\"],[\"\\uc774\\ub7f0 \\uac74\\uac00\\ubd10\\uc694 \\ub204\\uad70\\uac00\\ub97c \\uc88b\\uc544\\ud558\\ub294 \\uac74\",\"\\ub9ac\\ub514\\uc544 (Lydia)\",\"['\\uc124\\ub818', '\\uc0ac\\ub791']\",\"['\\ud589\\ubcf5\\ud55c']\"],[\"Perfect Christmas Day\",\"Todd Carey\",\"['\\ud06c\\ub9ac\\uc2a4\\ub9c8\\uc2a4']\",\"['\\ud589\\ubcf5\\ud55c']\"],[\"\\uc0b4\\ub2e4 \\ubcf4\\uba74\",\"\\ucc28\\uc9c0\\uc5f0\",\"['\\ud734\\uc2dd']\",\"['\\uc794\\uc794\\ud55c']\"],[\"\\ud669\\uae08\\ubcc4\",\"\\uc2e0\\uc601\\uc219\",\"['\\ubba4\\uc9c0\\uceec']\",\"['\\uacbd\\ucf8c\\ud55c']\"],[\"Pena De Los Amores (2016 Remastered)\",\"Linda Ronstadt\",\"['\\uc560\\uc808\\ud55c', '\\ucd94\\uc5b5', '\\uac10\\uc131\\uc801\\uc778']\",\"['\\uc6b8\\uace0\\uc2f6\\uc740', '\\ud589\\ubcf5\\ud55c', '\\uc794\\uc794\\ud55c']\"],[\"\\uaf48\\ub9ac (Feat. \\uac15\\ubbfc, \\ubc31\\uc218\\uc9c4, \\uc724\\uc9c4)\",\"\\ud074\\ub860\",\"['\\ub304\\uc2a4']\",\"['\\uacbd\\ucf8c\\ud55c']\"],[\"\\uc774\\ubcc4 \\uc55e\\uc73c\\ub85c\",\"\\uac00\\uc744\\ubc29\\ud559\",\"['\\uc774\\ubcc4', '\\uc0c8\\ubcbd']\",\"['\\uc6b0\\uc6b8\\ud55c']\"],[\"\\uc560\\uc778\",\"\\ud5c8\\uc26c\",\"['\\ub304\\uc2a4']\",\"['\\uacbd\\ucf8c\\ud55c']\"],[\"\\ub0a0\\uc544\\uc62c\\ub77c (Fly high)\",\"\\ub4dc\\ub9bc\\uce90\\uccd0\",\"['\\ub304\\uc2a4']\",\"['\\uacbd\\ucf8c\\ud55c']\"],[\"\\ub098\\ub97c \\uc0ac\\ub791\\ud574\\uc918 (Feat. \\uac1c\\ucf54 Of \\ub2e4\\uc774\\ub098\\ubbf9 \\ub4c0\\uc624)\",\"\\uc11c\\uc778\\uc601\",\"['\\uc0ac\\ub791']\",\"['\\ud589\\ubcf5\\ud55c']\"],[\"\\uaca8\\uc6b8\\uc774 \\uc88b\\uc544\\uc9c8 \\uac83 \\uac19\\uc544\",\"\\ube44\\ube44\\uc548 (BBAHN)\",\"['\\uaca8\\uc6b8']\",\"['\\uc794\\uc794\\ud55c']\"],[\"Black Is Black\",\"The Jungle Brothers\",\"['\\ubc24', '\\ud790\\ub9c1', '\\uce74\\ud398', '\\uae4c\\ud398']\",\"['\\uc794\\uc794\\ud55c']\"],[\"Bo Peep Bo Peep\",\"\\ud2f0\\uc544\\ub77c\",\"['\\ub304\\uc2a4']\",\"['\\uacbd\\ucf8c\\ud55c']\"],[\"Role Model (Feat. Swalo)\",\"Ryan\",\"['\\uc2a4\\ud2b8\\ub808\\uc2a4', '\\ub4dc\\ub77c\\uc774\\ube0c']\",\"['\\uae34\\uc7a5\\ub418\\ub294', '\\ud589\\ubcf5\\ud55c']\"],[\"\\uaebc\\uc838\\uc904\\uac8c\",\"\\uc18c\\uc6b8\\ud50c\\ub85c\\uc6b0\",\"['\\uae4c\\ud398']\",\"['\\uc794\\uc794\\ud55c']\"],[\"Pookie Baby\",\"Prof\",\"['\\ud074\\ub7fd']\",\"['\\uacbd\\ucf8c\\ud55c']\"],[\"\\uc0ac\\ub791\\uc758 \\ud55c\\uac00\\uc6b4\\ub370 (Feat. \\uc120\\uc6b0\\uc815\\uc544)\",\"\\uc548\\ub155\\uc758 \\uc628\\ub3c4\",\"['\\uc0c8\\ubcbd']\",\"['\\uc6b0\\uc6b8\\ud55c']\"],[\"Back & Forth\",\"MK, Jonas Blue, Becky Hill\",\"['\\uae30\\ubd84\\uc804\\ud658']\",\"['\\ud589\\ubcf5\\ud55c']\"],[\"Red Light Green Light (Feat. Shaun Ross)\",\"Duke Dumont\",\"['\\ud074\\ub7fd', '\\ub4dc\\ub77c\\uc774\\ube0c', '\\uae30\\ubd84\\uc804\\ud658']\",\"['\\ud589\\ubcf5\\ud55c']\"],[\"Phantom Bride\",\"Deftones\",\"['\\ubc34\\ub4dc', '\\ud074\\ub7fd', '\\ucd94\\uc5b5', '\\ub4dc\\ub77c\\uc774\\ube0c']\",\"['\\uacbd\\ucf8c\\ud55c', '\\ud589\\ubcf5\\ud55c']\"],[\"\\uc8fc\\ud64d\\uae00\\uc528 (Dance Ver.)\",\"\\uc2a4\\ud398\\uc774\\uc2a4 \\uc5d0\\uc774\",\"['\\ub304\\uc2a4']\",\"['\\uacbd\\ucf8c\\ud55c']\"],[\"Ave Maria\",\"Michael Buble\",\"['\\uaca8\\uc6b8', '\\uc124\\ub818', '\\uc0ac\\ub791', '\\uae4c\\ud398']\",\"['\\uc794\\uc794\\ud55c', '\\ud589\\ubcf5\\ud55c']\"],[\"LIFE IS A PARTY\",\"\\uc5ec\\uc790\\uce5c\\uad6c (GFRIEND)\",\"['\\uc2e0\\ub098\\ub294', '\\uc194\\ub85c']\",\"['\\ud589\\ubcf5\\ud55c', '\\uc794\\uc794\\ud55c']\"],[\"\\ub0b4\\uac00 \\uace0\\ub9c8\\uc6cc\",\"\\ub178\\ub974\\uc6e8\\uc774 \\uc232\",\"['\\ubc24']\",\"['\\ubb34\\uc11c\\uc6b4']\"],[\"\\uac00\\uc7a5 \\uc18c\\uc911\\ud55c \\uac83\\uc774 \\uac00\\uc7a5 \\uba40\\ub9ac \\ub5a0\\ub098\\uc694\",\"\\ud61c\\ub839\",\"['\\uc774\\ubcc4']\",\"['\\uc6b0\\uc6b8\\ud55c']\"],[\"\\uc5b4\\ub5bb\\uac8c.. (Feat. \\ud6c4\\ub2c8\\ud6c8 & \\uc774\\uc720\\uc9c4)\",\"\\ud06c\\ub77c\\uc6b4\\uc81c\\uc774 (CROWN J)\",\"['\\uae30\\uc5b5', '\\ucd94\\uc5b5', '\\ud790\\ub9c1', '\\uae30\\ubd84\\uc804\\ud658', '\\ud68c\\uc0c1']\",\"['\\ud589\\ubcf5\\ud55c']\"],[\"18\\uac70 1517\",\"XXX\",\"['\\ud799\\ud55c']\",\"['\\uae34\\uc7a5\\ub418\\ub294']\"],[\"\\ube5b\\uc774 \\ub418\\uc5b4\\uc918\",\"\\ub77c\\ubd90 (LABOUM)\",\"['\\uc2e0\\ub098\\ub294']\",\"['\\ud589\\ubcf5\\ud55c']\"],[\"Wanted A Name (feat. Yoke Lore)\",\"Frenship\",\"['\\uae30\\ubd84\\uc804\\ud658']\",\"['\\ud589\\ubcf5\\ud55c']\"],[\"TIME OUT\",\"GOT7 (\\uac13\\uc138\\ube10)\",\"['\\uc0ac\\ub791']\",\"['\\ud589\\ubcf5\\ud55c']\"],[\"SWITCH\",\"yelloasis, JUNNY (\\uc8fc\\ub2c8)\",\"['\\uae30\\ubd84\\uc804\\ud658', '\\ub4dc\\ub77c\\uc774\\ube0c']\",\"['\\ud589\\ubcf5\\ud55c']\"],[\"Blind\",\"\\ubaac\\uc2a4\\ud0c0\\uc5d1\\uc2a4\",\"['\\uc2e0\\ub098\\ub294']\",\"['\\ud589\\ubcf5\\ud55c']\"],[\"Cadillac\",\"IN2IT (\\uc778\\ud22c\\uc787)\",\"['\\uc5ec\\ub984', '\\uae30\\ubd84\\uc804\\ud658', '\\uc6b4\\ub3d9']\",\"['\\uacbd\\ucf8c\\ud55c']\"],[\"Never End\",\"\\uc81c\\uad6d\\uc758\\uc544\\uc774\\ub4e4 (ZE:A)\",\"['\\uc0c8\\ubcbd', '\\ucd94\\uc5b5', '\\ubc24', '\\ud68c\\uc0c1', '\\ub9c8\\uc74c']\",\"['\\uc6b0\\uc6b8\\ud55c', '\\ud589\\ubcf5\\ud55c', '\\ubb34\\uc11c\\uc6b4', '\\uc794\\uc794\\ud55c', '\\ud3b8\\uc548\\ud55c']\"],[\"\\ube44\\uc758 \\ub9c8\\uc74c\",\"\\uc0b0\\uc6b8\\ub9bc\",\"['\\ube44\\uc624\\ub294\\ub0a0', '\\uc794\\uc794\\ud55c', '\\ucd94\\uc5b5', '\\uc2ac\\ud508', '\\ub9c8\\uc74c']\",\"['\\uc6b0\\uc6b8\\ud55c']\"],[\"\\ub290\\ub08c\\uc774\\uc640\",\"\\ubabd\\ud0a4\\uc988\",\"['\\uc0ac\\ub791']\",\"['\\ud589\\ubcf5\\ud55c']\"],[\"Summer`s Back (Feat. \\uae40\\uae30\\uc068)\",\"Blocka, \\uc624\\uc81c\\uc774 (OJEY)\",\"['\\uc5ec\\ub984', '\\ub4dc\\ub77c\\uc774\\ube0c']\",\"['\\uacbd\\ucf8c\\ud55c', '\\ud589\\ubcf5\\ud55c']\"],[\"Yeah Yeah\",\"Willy Moon\",\"['\\ub4dc\\ub77c\\uc774\\ube0c']\",\"['\\ud589\\ubcf5\\ud55c']\"],[\"Move\",\"\\ud64d\\uc9c0\\ubbfc, \\uc815\\uc120\\uc544, \\uae40\\uc18c\\ud5a5\",\"['\\ud790\\ub9c1', '\\ud734\\uc2dd', '\\uae30\\ubd84\\uc804\\ud658']\",\"['\\ud589\\ubcf5\\ud55c']\"],[\"Slipping Through My Fingers (\\ub3c4\\ub098 & \\uc18c\\ud53c)\",\"\\uc774\\uc815\\ub82c & \\ucd5c\\uc815\\uc6d0\",\"['\\ubba4\\uc9c0\\uceec']\",\"['\\uacbd\\ucf8c\\ud55c']\"],[\"Goodbye\",\"M.Spot\",\"['\\uc2ac\\ud514', '\\uc0ac\\ub791', '\\uc544\\ud514', '\\uc774\\ubcc4']\",\"['\\uc6b0\\uc6b8\\ud55c']\"],[\"Goodbye\",\"Def Leppard\",\"['\\uc2ac\\ud514', '\\uc0ac\\ub791', '\\uc544\\ud514', '\\uc774\\ubcc4']\",\"['\\uc6b0\\uc6b8\\ud55c']\"],[\"\\ud68c\\uc0c1\",\"\\ub354 \\ube68\\uac15\",\"['\\uc2ac\\ud514', '\\ucd94\\uc5b5', '\\uc774\\ubcc4', '\\ud68c\\uc0c1']\",\"['\\uc6b0\\uc6b8\\ud55c']\"],[\"\\ud68c\\uc0c1\",\"\\uc784\\ud604\\uc815\",\"['\\uc2ac\\ud514', '\\ucd94\\uc5b5', '\\uc774\\ubcc4', '\\ud68c\\uc0c1']\",\"['\\uc6b0\\uc6b8\\ud55c']\"],[\"\\uc548\\ub155, \\uc5ec\\ub984 (Parade)\",\"Red Velvet (\\ub808\\ub4dc\\ubca8\\ubcb3)\",\"['\\uc5ec\\ud589', '\\uc5ec\\ub984', '\\uc2e0\\ub098\\ub294']\",\"['\\ud589\\ubcf5\\ud55c']\"],[\"For You\",\"\\ud50c\\ub77c\\uc774 \\ud22c \\ub354 \\uc2a4\\uce74\\uc774\",\"['\\ucd94\\uc5b5', '\\ud68c\\uc0c1']\",\"['\\ud589\\ubcf5\\ud55c', '\\uc794\\uc794\\ud55c']\"],[\"Burn, Burn\",\"Lostprophets\",\"['\\uae30\\ubd84\\uc804\\ud658']\",\"['\\ud589\\ubcf5\\ud55c']\"],[\"\\uc624\\ub298\\uc740 \\uc0c8\\ubcbd\\uc548\\uac1c \\uc18d\\uc5d0\\uc11c\",\"\\uc9d1\\ub098\\uc628 \\uac70\\uc704\",\"['\\ud734\\uc2dd', '\\ud790\\ub9c1', '\\uc794\\uc794\\ud55c']\",\"['\\uc794\\uc794\\ud55c']\"],[\"Helena\",\"My Chemical Romance\",\"['\\uc2a4\\ud2b8\\ub808\\uc2a4', '\\ub4dc\\ub77c\\uc774\\ube0c', '\\uc2e0\\ub098\\ub294']\",\"['\\ud589\\ubcf5\\ud55c']\"],[\"\\ub2e4\\ub978 \\uc0ac\\ub78c\\uc774 \\uc640\\ub3c4\",\"\\ud55c\\uacbd\\uc77c\",\"['\\ud68c\\uc0c1', '\\uc6b0\\uc6b8', '\\ucd94\\uc5b5', '\\uc4f8\\uc4f8\\ud55c', '\\uc2ac\\ud514', '\\uc0ac\\ub791', '\\uc774\\ubcc4']\",\"['\\uc6b0\\uc6b8\\ud55c']\"],[\"\\ub098\\uc0ac\",\"\\uc2dc\\ub098 \\uc4f0\\ub294 \\uc568\\ub9ac\\uc2a4\",\"['\\ud790\\ub9c1', '\\uae30\\ubd84\\uc804\\ud658']\",\"['\\ud589\\ubcf5\\ud55c']\"],[\"\\ub0b4 \\uc0ac\\ub791 \\uc1a1\\uc774 (2005 Glgolos Remix)\",\"\\ud074\\ub860\",\"['\\ud734\\uc2dd', '\\ud790\\ub9c1', '\\uc5ec\\ud589', '\\uc0b0\\ucc45']\",\"['\\ud589\\ubcf5\\ud55c']\"],[\"Cosmic Girl\",\"\\uc18c\\uc5f0 (LABOUM)\",\"['\\uae30\\ubd84\\uc804\\ud658']\",\"['\\ud589\\ubcf5\\ud55c']\"],[\"Under Surveillance\",\"Toki Asako\",\"['\\uc0c1\\ud07c\\ud55c', '\\uce74\\ud398']\",\"['\\uacbd\\ucf8c\\ud55c', '\\uc794\\uc794\\ud55c']\"],[\"\\uc544\\ub984\\ub2f5\\uace0\\ub3c4 \\uc544\\ud504\\uad6c\\ub098 (Inst.)\",\"\\ube44\\ud22c\\ube44\",\"['\\uacf5\\ubd80']\",\"['\\uc794\\uc794\\ud55c']\"],[\"\\ub370\\uc774\\ud2b8\",\"\\uc62c\\ub4dc\\ud53c\\uc26c\",\"['\\uc0b0\\ucc45', '\\ub4dc\\ub77c\\uc774\\ube0c', '\\ubd04', '\\uc124\\ub818', '\\ub370\\uc774\\ud2b8', '\\ud734\\uc2dd', '\\uc544\\uce68', '\\uac00\\uc744', '\\uce74\\ud398', '\\uc0ac\\ub791']\",\"['\\ud589\\ubcf5\\ud55c']\"],[\"Sugar Baby\",\"\\ubca0\\uc774\\ube44 \\ubcf5\\uc2a4\",\"['\\ub304\\uc2a4']\",\"['\\uacbd\\ucf8c\\ud55c']\"],[\"\\uc544\\uce68\",\"\\ub514\\uc5b4\\ud074\\ub77c\\uc6b0\\ub4dc\",\"['\\uc544\\uce68']\",\"['\\uacbd\\ucf8c\\ud55c']\"],[\"We Belong Together\",\"BIGBANG\",\"['\\uae30\\ubd84\\uc804\\ud658']\",\"['\\ud589\\ubcf5\\ud55c']\"],[\"Chiquitita (\\ud0c0\\ub0d0 & \\ub85c\\uc9c0 & \\ub3c4\\ub098)\",\"\\uc804\\uc218\\uacbd & \\uc774\\uacbd\\ubbf8 & \\ucd5c\\uc815\\uc6d0\",\"['\\ubba4\\uc9c0\\uceec']\",\"['\\uacbd\\ucf8c\\ud55c']\"],[\"I Wish You Knew\",\"Mariah Carey\",\"['\\uaca8\\uc6b8']\",\"['\\uc794\\uc794\\ud55c']\"],[\"8282\",\"\\ub2e4\\ube44\\uce58\",\"['\\ucd94\\uc5b5']\",\"['\\ud589\\ubcf5\\ud55c']\"],[\"Walking Night\",\"\\ubc24\\uc758 \\ud53c\\ud06c\\ub2c9\",\"['\\ubc24', '\\ub4dc\\ub77c\\uc774\\ube0c']\",\"['\\ubb34\\uc11c\\uc6b4', '\\ud589\\ubcf5\\ud55c']\"],[\"\\ube44\\uac00 \\uc624\\uba74 \\uc88b\\uaca0\\uc5b4\",\"Briller (\\ube0c\\ub9ac\\uc5d0), \\ud53c\\uce74\",\"['\\ube44\\uc624\\ub294\\ub0a0', '\\ud750\\ub9b0\\ub0a0', '\\ube44', '\\ubd84\\uc704\\uae30', '\\uac10\\uc131\\uc801\\uc778', '\\uc13c\\uce58\\ud55c']\",\"['\\uc6b0\\uc6b8\\ud55c']\"],[\"\\ubc00\\uc9c0\\ub9c8 (Original Ver.)\",\"\\uc6ec\\ub514 (WENDY), \\uc2ac\\uae30 (SEULGI)\",\"['\\uae30\\ubd84\\uc804\\ud658']\",\"['\\ud589\\ubcf5\\ud55c']\"],[\"You Are My Lady\",\"\\uae40\\uac74\\ubaa8\",\"['\\ucd94\\uc5b5']\",\"['\\ud589\\ubcf5\\ud55c']\"],[\"\\uc5bc\\ub9c8\\ub098 \\ub2e4\\ud589\\uc774\\uc5c8\\ub2c8\",\"\\uc784\\uc18c\\uc815\",\"['\\uaca8\\uc6b8']\",\"['\\uc794\\uc794\\ud55c']\"],[\"\\uc5b4\\ub5bb\\uac8c\\ub4e0\",\"Various Artists\",\"['\\ubba4\\uc9c0\\uceec']\",\"['\\uacbd\\ucf8c\\ud55c']\"],[\"\\uc5b4\\ub5bb\\uac8c \\uc774\\ub7f0 \\uc77c\\uc774\",\"\\ubbfc\\uc601\\uae30\",\"['\\ubba4\\uc9c0\\uceec', '\\uae30\\ubd84\\uc804\\ud658', '\\ub4dc\\ub77c\\uc774\\ube0c']\",\"['\\ud589\\ubcf5\\ud55c']\"],[\"Song To A Seagull \",\"Joni Mitchell\",\"['\\ucd94\\uc5b5']\",\"['\\ud589\\ubcf5\\ud55c']\"],[\"Be Myself\",\"Apink (\\uc5d0\\uc774\\ud551\\ud06c)\",\"['\\uc704\\ub85c', '\\ub304\\uc2a4']\",\"['\\uc6b0\\uc6b8\\ud55c', '\\uacbd\\ucf8c\\ud55c']\"],[\"\\ud2c0\\ub9b0\\uc9c8\\ubb38\",\"\\uac80\\uc815\\uce58\\ub9c8\",\"['\\uc794\\uc794\\ud55c', '\\ud734\\uc2dd', '\\uc0c8\\ubcbd']\",\"['\\uc794\\uc794\\ud55c']\"],[\"\\uace0\\ubc31\",\"\\uac15\\uc131\\ud6c8\",\"['\\ub304\\uc2a4']\",\"['\\uacbd\\ucf8c\\ud55c']\"],[\"\\uace0\\ubc31\",\"\\ub378\\ub9ac\\uc2a4\\ud30c\\uc774\\uc2a4\",\"['\\ub304\\uc2a4']\",\"['\\uacbd\\ucf8c\\ud55c']\"],[\"\\uace0\\ubc31\",\"\\uac15\\uc131\\ud6c8\",\"['\\uae30\\ubd84\\uc804\\ud658', '\\ucd94\\uc5b5']\",\"['\\ud589\\ubcf5\\ud55c']\"],[\"\\uace0\\ubc31\",\"\\ub378\\ub9ac\\uc2a4\\ud30c\\uc774\\uc2a4\",\"['\\uae30\\ubd84\\uc804\\ud658', '\\ucd94\\uc5b5']\",\"['\\ud589\\ubcf5\\ud55c']\"],[\"\\uac00\\ub824\\uc9c4 \\uc9c4\\uc2e4\",\"\\uae40\\uc900\\ud604\",\"['\\uae30\\ubd84\\uc804\\ud658', '\\uc794\\uc794\\ud55c']\",\"['\\ud589\\ubcf5\\ud55c', '\\uc794\\uc794\\ud55c']\"],[\"Don`t Recall\",\"\\uce74\\ub4dc (KARD)\",\"['\\uc2e0\\ub098\\ub294']\",\"['\\ud589\\ubcf5\\ud55c']\"],[\"\\ubed4\\ud55c \\uc18c\\ub9ac\",\"\\ud2b8\\uc704\\ud2f0 (TWEETY)\",\"['\\ub304\\uc2a4']\",\"['\\uacbd\\ucf8c\\ud55c']\"],[\"Paper Houses\",\"Niall Horan\",\"['\\ub4dc\\ub77c\\uc774\\ube0c', '\\ube44\\uc624\\ub294\\ub0a0', '\\ubc34\\ub4dc', '\\ud750\\ub9b0\\ub0a0', '\\uc794\\uc794\\ud55c']\",\"['\\uc6b0\\uc6b8\\ud55c']\"],[\"\\uadf8\\uadf8\\uadf8 (\\uadf8 \\uc21c\\uac04 \\uadf8 \\ub290\\ub08c \\uadf8 \\uc124\\ub818)\",\"\\uc624\\ub85c\\ub77c\\uc2a4\\ud305\",\"['\\ubc24', '\\uc0c8\\ubcbd']\",\"['\\ubb34\\uc11c\\uc6b4', '\\uc6b0\\uc6b8\\ud55c']\"],[\"\\ub098 \\uc774\\ub807\\uac8c \\ud589\\ubcf5\\ud574\\ub3c4 \\ub418\\ub294 \\uac78\\uae4c\",\"\\ud5c8\\uaddc\",\"['\\ubba4\\uc9c0\\uceec', '\\uac10\\ub3d9']\",\"['\\uacbd\\ucf8c\\ud55c', '\\ud589\\ubcf5\\ud55c']\"],[\"\\uad1c\\ucc2e\\uc544\",\"\\uae40\\ub3d9\\ub960\",\"['\\uc704\\ub85c']\",\"['\\uc6b0\\uc6b8\\ud55c']\"],[\"\\ub110 \\ub108\\ubb34 \\ubaa8\\ub974\\uace0\",\"\\ud5e4\\uc774\\uc988 (Heize)\",\"['\\uae30\\ubd84\\uc804\\ud658']\",\"['\\ud589\\ubcf5\\ud55c']\"],[\"THIS IS LOVE (Stage Ver.)\",\"SUPER JUNIOR (\\uc288\\ud37c\\uc8fc\\ub2c8\\uc5b4)\",\"['\\uae30\\ubd84\\uc804\\ud658']\",\"['\\ud589\\ubcf5\\ud55c']\"],[\"99 Red Balloons\",\"Goldfinger\",\"['\\uc2a4\\ud2b8\\ub808\\uc2a4', '\\uae30\\ubd84\\uc804\\ud658']\",\"['\\uae34\\uc7a5\\ub418\\ub294', '\\ud589\\ubcf5\\ud55c']\"],[\"\\uc5b4\\uca4c\\ub77c\\uace0\",\"\\uc2b9\\ub9ac\",\"['\\ub304\\uc2a4']\",\"['\\uacbd\\ucf8c\\ud55c']\"],[\"\\ubc14\\ub2e4\",\"\\ud22c\\uc5b4\\ub9ac\\uc2a4\\ud2b8\",\"['\\ubc24', '\\uc0c8\\ubcbd', '\\uc790\\uc7a5\\uac00']\",\"['\\ubb34\\uc11c\\uc6b4', '\\uc6b0\\uc6b8\\ud55c', '\\uc794\\uc794\\ud55c']\"],[\"\\ubc29\\ubc31 (\\u508d\\u767d)\",\"\\uae40\\uc5ec\\uba85\",\"['\\uae30\\ubd84\\uc804\\ud658']\",\"['\\ud589\\ubcf5\\ud55c']\"],[\"\\ub0b4 \\ubaa8\\ub4e0  \\uac83\",\"\\uc11c\\ud0dc\\uc9c0\\uc640 \\uc544\\uc774\\ub4e4\",\"['\\ucd94\\uc5b5']\",\"['\\ud589\\ubcf5\\ud55c']\"],[\"\\ub3c5\\uc77c\\uacf5\\uc6d0\",\"\\uc774\\ud638\\uc11d\",\"['\\ud734\\uc2dd', '\\uce74\\ud398', '\\uae30\\ubd84\\uc804\\ud658', '\\uc0ac\\ub791', '\\uc774\\ubcc4', '\\uc2a4\\ud2b8\\ub808\\uc2a4']\",\"['\\uc794\\uc794\\ud55c', '\\ud589\\ubcf5\\ud55c']\"],[\"How Many Times\",\"\\ube44 \\ub9c8\\uc774 \\uac8c\\uc2a4\\ud2b8\",\"['\\ube44\\uc624\\ub294\\ub0a0', '\\uc5ec\\ud589', '\\uc0b0\\ucc45']\",\"['\\ud589\\ubcf5\\ud55c']\"],[\"\\uc788\\uc744\\ub54c \\uc798\\ud574 (Remix)\",\"\\ucfe8 (COOL)\",\"['\\ub304\\uc2a4']\",\"['\\uacbd\\ucf8c\\ud55c']\"],[\"\\uaca8\\uc6b8\\uc560 (\\u611b)\",\"\\ud30c\\ud2f0\\ud0c0\\uc784\",\"['\\uaca8\\uc6b8']\",\"['\\uc794\\uc794\\ud55c']\"],[\"Children Of Today\",\"Blasterjaxx\",\"['\\uc6b4\\ub3d9', '\\ub4dc\\ub77c\\uc774\\ube0c']\",\"['\\uacbd\\ucf8c\\ud55c', '\\ud589\\ubcf5\\ud55c']\"],[\"Escape\",\"\\uac70\\ubbf8\",\"['\\ucd94\\uc5b5', '\\uae30\\ubd84\\uc804\\ud658', '\\ud68c\\uc0c1']\",\"['\\ud589\\ubcf5\\ud55c']\"],[\"\\uc720\\uae30\\ub18d (Feat. Reddy, NO:EL) (JVillian mix)\",\"\\ud55c\\ud574\",\"['\\uc5ec\\ub984', '\\ud30c\\ud2f0']\",\"['\\uacbd\\ucf8c\\ud55c', '\\ud589\\ubcf5\\ud55c']\"],[\"The Only Way Is Up (Radio Edit)\",\"Martin Garrix, Tiesto\",\"['\\ud074\\ub7fd']\",\"['\\uacbd\\ucf8c\\ud55c']\"],[\"\\ub098\\ub77c\\uc640 \\ub9cc\\uc11d\\uc758 Love Theme\",\"\\uc624\\ub9cc\\uc11d, \\uc624\\ub098\\ub77c\",\"['\\ud55c\\uac15', '\\ud589\\ubcf5', '\\uc5ec\\ud589', '\\uae30\\ubd84\\uc804\\ud658', '\\uc124\\ub818']\",\"['\\ud589\\ubcf5\\ud55c']\"],[\"Stay With Me (Feat. \\uc2e0\\uc9c0\\uc218) (Prod. Imlay)\",\"\\uc2ac\\ub9ad (SLEEQ)\",\"['\\uae30\\ubd84\\uc804\\ud658']\",\"['\\ud589\\ubcf5\\ud55c']\"],[\"\\ud5e4\\ub9e4\\uc774\\ub2e4 (Prod by \\ucf54\\uac04\\uba5c\\uc544)\",\"\\ud5c8\\uc724\\uacbd\",\"['\\ubd04\\ub0a0']\",\"['\\ud589\\ubcf5\\ud55c']\"],[\"\\ub0c9\\ub3d9\\ub9cc\\ub450\",\"\\uc0ac\\uc774\",\"['\\uc2a4\\ud2b8\\ub808\\uc2a4']\",\"['\\uae34\\uc7a5\\ub418\\ub294']\"],[\"\\uc6b0\\ub9ac\\ub77c\\ub294 \\ub9d0\\uc774 \\uc0ac\\ub77c\\uc9c4 \\uac83 \\uac19\\uc544 (With \\uc131\\ubbfc)\",\"\\ubbf8\\uc564\\uc720 (me and you)\",\"['\\uc774\\ubcc4', '\\uc9dd\\uc0ac\\ub791']\",\"['\\uc6b0\\uc6b8\\ud55c', '\\ud589\\ubcf5\\ud55c']\"],[\"Happy\",\"\\ud551\\ud074 (Fin.K.L)\",\"['\\ub304\\uc2a4']\",\"['\\uacbd\\ucf8c\\ud55c']\"],[\"\\uadf8\\ub300\\ubc16\\uc5d4\",\"\\ud074\\ub9ad\\ube44 (Click-B)\",\"['\\ucd94\\uc5b5', '\\uae30\\ubd84\\uc804\\ud658', '\\ud68c\\uc0c1']\",\"['\\ud589\\ubcf5\\ud55c']\"],[\"Bad Lady\",\"\\ud654\\uc694\\ube44\",\"['\\uce74\\ud398', '\\ud765\\uaca8\\uc6b4', '\\ud790\\ub9c1', '\\ud734\\uc2dd', '\\ucd94\\uc5b5', '\\ud68c\\uc0c1']\",\"['\\uc794\\uc794\\ud55c']\"],[\"Me+U\",\"f(x)\",\"['\\uae30\\ubd84\\uc804\\ud658']\",\"['\\ud589\\ubcf5\\ud55c']\"],[\"Thine\",\"Rb Free Code Combination\",\"['\\uc5ec\\ud589', '\\uae30\\ubd84\\uc804\\ud658', '\\uc0b0\\ucc45']\",\"['\\ud589\\ubcf5\\ud55c']\"],[\"O.K O.K\",\"DJ DOC\",\"['\\ub304\\uc2a4']\",\"['\\uacbd\\ucf8c\\ud55c']\"],[\"Radar\",\"Britney Spears\",\"['\\ub4dc\\ub77c\\uc774\\ube0c', '\\uae30\\ubd84\\uc804\\ud658', '\\uc2e0\\ub098\\ub294', '\\uc6b4\\ub3d9']\",\"['\\ud589\\ubcf5\\ud55c']\"],[\"\\uc5b4\\ub450\\uc6b4 \\ubc24\\uc744 \\ubcf4\\uc558\\uc9c0\",\"\\uad8c\\ub098\\ubb34\",\"['\\uc6b0\\uc6b8', '\\uc794\\uc794\\ud55c']\",\"['\\uc6b0\\uc6b8\\ud55c', '\\uc794\\uc794\\ud55c']\"],[\"Carry The Weight\",\"Denison Witmer\",\"['\\uce74\\ud398', '\\ucee4\\ud53c', '\\ube44\\uc624\\ub294\\ub0a0', '\\uc794\\uc794\\ud55c', '\\ubd04\\ube44', '\\uc13c\\uce58']\",\"['\\uc794\\uc794\\ud55c']\"],[\"679 (Feat. Remy Boyz)\",\"Fetty Wap\",\"['\\ud074\\ub7fd']\",\"['\\uacbd\\ucf8c\\ud55c']\"],[\"The Sweetest Taboo (Remastered)\",\"Sade\",\"['\\uc5ec\\ub984\\ubc24']\",\"['\\uacbd\\ucf8c\\ud55c']\"],[\"FILM\",\"\\ub9c8\\ud2f4\\uc2a4\\ubbf8\\uc2a4\",\"['\\ud734\\uc2dd', '\\uc0ac\\ub791']\",\"['\\uc794\\uc794\\ud55c', '\\ud589\\ubcf5\\ud55c']\"],[\"Sun In Our Eyes (Don Diablo Remix)\",\"M\\u00d8, Diplo\",\"['\\uc2e0\\ub098\\ub294']\",\"['\\ud589\\ubcf5\\ud55c']\"],[\"\\uc9c4\\uc9dc \\uc0ac\\ub791\",\"\\uc288\\uc0e4\\uc778\\ubcf4\\uc774\",\"['\\ub304\\uc2a4']\",\"['\\uacbd\\ucf8c\\ud55c']\"],[\"#1(Nut`s Poetry) (Feat. \\uc2e0\\uc9c0\\uc218)\",\"\\uc2a4\\ud0a4\\ub2c8\\uc8e0 (Skinnyjoe)\",\"['\\uae30\\ubd84\\uc804\\ud658']\",\"['\\ud589\\ubcf5\\ud55c']\"],[\"\\ub0af\\uc120\\ub0a0 (Feat. \\ud380\\uce58) (Weird Day)\",\"\\ubb38\\ubcc4 (\\ub9c8\\ub9c8\\ubb34)\",\"['\\ub4dc\\ub77c\\uc774\\ube0c']\",\"['\\ud589\\ubcf5\\ud55c']\"],[\"Real Love\",\"Lo Moon\",\"['\\ud734\\uc2dd', '\\uc5ec\\ud589\\uc0b0\\ucc45', '\\ub4dc\\ub77c\\uc774\\ube0c', '\\uae30\\ubd84\\uc804\\ud658', '\\uc2a4\\ud2b8\\ub808\\uc2a4']\",\"['\\ud589\\ubcf5\\ud55c']\"],[\"\\uac70\\uc9d3\\ucc98\\ub7fc \\ub2e4\\uc2dc \\ubd04\\uc740 \\uc624\\uaca0\\uc9c0 (Spring Will Come Again As Always)\",\"316\",\"['\\uc794\\uc794\\ud55c']\",\"['\\uc794\\uc794\\ud55c']\"],[\"Reinventing The Wheel To Run Myself Over\",\"Fall Out Boy\",\"['\\uc2a4\\ud2b8\\ub808\\uc2a4', '\\uae30\\ubd84\\uc804\\ud658']\",\"['\\uae34\\uc7a5\\ub418\\ub294', '\\ud589\\ubcf5\\ud55c']\"],[\"\\uc774 \\ube44\\uac00 \\uadf8\\uce58\\uba74\",\"\\ucfe8\\uc190\",\"['\\uae30\\ubd84\\uc804\\ud658', '\\uc0ac\\ub791', '\\uc794\\uc794\\ud55c', '\\ubc24', '\\uc0c8\\ubcbd']\",\"['\\ud589\\ubcf5\\ud55c']\"],[\"\\uc120\\uc778\\uc7a5 (Green Shadow Mix)\",\"\\uce90\\uc2a4\\ucee4\",\"['\\ub304\\uc2a4', '\\uc2ac\\ud514', '\\uc774\\ubcc4']\",\"['\\uc6b0\\uc6b8\\ud55c']\"],[\"In2Uroduction\",\"\\ub9c8\\uc774\\ud050(MY-Q)\",\"['\\ubc24', '\\uc0c8\\ubcbd']\",\"['\\ubb34\\uc11c\\uc6b4', '\\uc6b0\\uc6b8\\ud55c']\"],[\"\\ub0a0 \\ub2ee\\uc740 \\ub108\",\"\\uc774\\uc608\\uc900, \\uc774\\ud604\\uc8fc\",\"['\\uc774\\ubcc4']\",\"['\\uc6b0\\uc6b8\\ud55c']\"],[\"Game Over\",\"Martin Garrix, Loopers\",\"['\\ud074\\ub7fd']\",\"['\\uacbd\\ucf8c\\ud55c']\"],[\"Booty Bounce (Extended Mix) (Dirty Ver.)\",\"Taio Cruz, Tujamo\",\"['\\ud074\\ub7fd']\",\"['\\uacbd\\ucf8c\\ud55c']\"],[\"\\uc544\\ub514\\uc624\",\"\\uc774\\uc2b9\\uae30\",\"['\\ucd94\\uc5b5', '\\ud68c\\uc0c1']\",\"['\\ud589\\ubcf5\\ud55c', '\\uc794\\uc794\\ud55c']\"],[\"I Walk The Line\",\"Halsey\",\"['\\ub4dc\\ub77c\\uc774\\ube0c']\",\"['\\ud589\\ubcf5\\ud55c']\"],[\"Homme\",\"Brazilian Girls\",\"['\\ube44\\uc624\\ub294\\ub0a0', '\\ubc24', '\\uc0c8\\ubcbd']\",\"['\\uc6b0\\uc6b8\\ud55c']\"],[\"\\uc544\\uc9c1\\uc740 \\uc544\\ub0d0 (Tell Me Baby)\",\"\\ub85c\\ub9e8\\ud2f1 \\ud380\\uce58\",\"['\\uae30\\ubd84\\uc804\\ud658', '\\ub4dc\\ub77c\\uc774\\ube0c']\",\"['\\ud589\\ubcf5\\ud55c']\"],[\"\\uc548\\ub155 \\uc0ac\\ub791\\uc544\",\"\\ubc15\\ud6a8\\uc2e0\",\"['\\uc774\\ubcc4']\",\"['\\uc6b0\\uc6b8\\ud55c']\"],[\"E\\uba54\\uc774\\uc838\\ub97c \\uce58\\uba74\",\"\\uae40\\ucc3d\\uc644\\ubc34\\ub4dc\",\"['\\ucd94\\uc5b5', '\\ub4dc\\ub77c\\uc774\\ube0c', '\\ud68c\\uc0c1']\",\"['\\ud589\\ubcf5\\ud55c']\"],[\"Amanda\",\"Boston\",\"['\\ud734\\uc2dd', '\\ud790\\ub9c1', '\\uae30\\ubd84\\uc804\\ud658']\",\"['\\ud589\\ubcf5\\ud55c']\"],[\"\\ud640\\ub85c\\ubd04\",\"\\uc548\\uc608\\uc740\",\"['\\ubd04']\",\"['\\ud589\\ubcf5\\ud55c']\"],[\"Ignition\",\"R. Kelly\",\"['\\ub4dc\\ub77c\\uc774\\ube0c', '\\uae30\\ubd84\\uc804\\ud658', '\\uc0ac\\ub791', '\\uae4c\\ud398', '\\ucd94\\uc5b5']\",\"['\\ud589\\ubcf5\\ud55c']\"],[\"\\ub108 \\ub54c\\ubb38\\uc5d0\",\"\\uc81c\\uc544\",\"['\\uc774\\ubcc4']\",\"['\\uc6b0\\uc6b8\\ud55c']\"],[\"\\ub108 \\ub54c\\ubb38\\uc5d0\",\"B1A4\",\"['\\uc774\\ubcc4']\",\"['\\uc6b0\\uc6b8\\ud55c']\"],[\"\\ub108 \\ub54c\\ubb38\\uc5d0\",\"\\uc81c\\uc544\",\"['\\uae30\\ubd84\\uc804\\ud658']\",\"['\\ud589\\ubcf5\\ud55c']\"],[\"\\ub108 \\ub54c\\ubb38\\uc5d0\",\"B1A4\",\"['\\uae30\\ubd84\\uc804\\ud658']\",\"['\\ud589\\ubcf5\\ud55c']\"],[\"\\uc560\\ud0c0\\ub294 \\ub0a8\\uc790 (Feat. \\uac08\\uace0\\ub9ac)\",\"\\uc5f0\\ub0a8\\ub3d9 \\ub364\\uc564\\ub354\\uba38\",\"['\\uc794\\uc794\\ud55c', '\\ubc24', '\\uc0c8\\ubcbd']\",\"['\\uc794\\uc794\\ud55c', '\\ubb34\\uc11c\\uc6b4', '\\uc6b0\\uc6b8\\ud55c']\"],[\"Can I Kick It?\",\"A Tribe Called Quest\",\"['\\ub0ad\\ub9cc', '\\ucd94\\uc5b5', '\\ub4dc\\ub77c\\uc774\\ube0c', '\\uae30\\ubd84\\uc804\\ud658']\",\"['\\ud589\\ubcf5\\ud55c']\"],[\"\\uc190\\ud1b1\\ub9cc\\ud55c \\uc678\\ub85c\\uc6c0\",\"\\ucc28\\uc9c0\\uc5f0\",\"['\\uc794\\uc794\\ud55c', '\\ubc24', '\\uc0c8\\ubcbd']\",\"['\\uc794\\uc794\\ud55c', '\\ubb34\\uc11c\\uc6b4', '\\uc6b0\\uc6b8\\ud55c']\"],[\"\\ub0a0 \\uac83\",\"\\ucf00\\ubbf8 (Kemy)\",\"['\\uc2a4\\ud2b8\\ub808\\uc2a4']\",\"['\\uae34\\uc7a5\\ub418\\ub294']\"],[\"\\ubb3c\\uc18d\\uc5d0 \\uc7a0\\uae34 \\uc2dc\\uac04\",\"\\ud64d\\uad11\\ud638\",\"['\\ubba4\\uc9c0\\uceec']\",\"['\\uacbd\\ucf8c\\ud55c']\"],[\"\\ub4e3\\uace0\\uc2f6\\uc5b4 (E905) (Inst.)\",\"DIA (\\ub2e4\\uc774\\uc544)\",\"['\\uacf5\\ubd80']\",\"['\\uc794\\uc794\\ud55c']\"],[\"\\uc5b4\\ub5a4\\uac00\\uc694 \\uadf8\\ub304\",\"\\uccad\\ud558\",\"['\\uc0c8\\ubcbd', '\\uc774\\ubcc4']\",\"['\\uc6b0\\uc6b8\\ud55c']\"],[\"\\uc18c\\ub9ac\\uc5c6\\uc774 \\ub0a0\",\"\\ucd5c\\uc778\\uc601, \\uad6c\\ud61c\\uc120\",\"['\\uc0ac\\ub791']\",\"['\\ud589\\ubcf5\\ud55c']\"],[\"\\uc804\\ud558\\uc9c0 \\ubabb\\ud55c \\uc774\\uc57c\\uae30\",\"\\ud654\\ub824 (Hwaryeo)\",\"['\\uc774\\ubcc4']\",\"['\\uc6b0\\uc6b8\\ud55c']\"],[\"Sumthin` Sumthin`\",\"Maxwell\",\"['\\ud790\\ub9c1', '\\ud734\\uc2dd']\",\"['\\ud589\\ubcf5\\ud55c', '\\uc794\\uc794\\ud55c']\"],[\"\\uc124\\ub818 \\uac00\\ub4dd\",\"\\uc5b4\\ucfe0\\uc2a4\\ud2f1 \\ucf5c\\ub77c\\ubcf4\",\"['\\uc0ac\\ub791']\",\"['\\ud589\\ubcf5\\ud55c']\"],[\"How Deep Is Your Love\",\"Various Artists\",\"['\\ucd94\\uc5b5', '\\ud68c\\uc0c1', '\\ud790\\ub9c1', '\\ud734\\uc2dd']\",\"['\\ud589\\ubcf5\\ud55c', '\\uc794\\uc794\\ud55c']\"],[\"Summer love\",\"\\ub370\\uc77c\",\"['\\uc5ec\\ub984', '\\ub4dc\\ub77c\\uc774\\ube0c']\",\"['\\uacbd\\ucf8c\\ud55c', '\\ud589\\ubcf5\\ud55c']\"],[\"The Island - Pt. I (Dawn)\",\"Pendulum\",\"['\\ub4dc\\ub77c\\uc774\\ube0c']\",\"['\\ud589\\ubcf5\\ud55c']\"],[\"\\uc720\\uc8c4\",\"god\",\"['\\ucd94\\uc5b5', '\\uae30\\ubd84\\uc804\\ud658', '\\ud68c\\uc0c1']\",\"['\\ud589\\ubcf5\\ud55c']\"],[\"Ocean Cruise (Feat. Ingram Jones) (Original Mix)\",\"DJ Hanmin, Eastlight\",\"['\\ud074\\ub7fd']\",\"['\\uacbd\\ucf8c\\ud55c']\"],[\"\\ub2c8\\uae4c\\uc9d3\\uac8c (How dare you) (Demicat Remix)\",\"\\uc528\\uc2a4\\ud0c0\",\"['\\ub304\\uc2a4']\",\"['\\uacbd\\ucf8c\\ud55c']\"],[\"Faded Love (Feat. Future)\",\"Tinashe\",\"['\\ubc24', '\\ubd84\\uc704\\uae30', '\\ub4dc\\ub77c\\uc774\\ube0c']\",\"['\\ubb34\\uc11c\\uc6b4', '\\uc794\\uc794\\ud55c', '\\ud589\\ubcf5\\ud55c']\"],[\"Cannonball (Feat. X Ambassadors)\",\"Skylar Grey\",\"['\\uae30\\ubd84\\uc804\\ud658']\",\"['\\ud589\\ubcf5\\ud55c']\"],[\"Not Today\",\"\\uce58\\ud0c0 (CHEETAH)\",\"['\\uc13c\\uce58', '\\uc6b0\\uc6b8']\",\"['\\uc6b0\\uc6b8\\ud55c']\"],[\"\\uac00\\uc838\\uac00\",\"\\uc6d0\\ub354\\uac78\\uc2a4\",\"['\\ucd94\\uc5b5']\",\"['\\ud589\\ubcf5\\ud55c']\"],[\"\\ub098\\ub294 \\ub098\\ub294 \\uc74c\\uc545\",\"\\uc784\\ud0dc\\uacbd\",\"['\\uc2a4\\ud2b8\\ub808\\uc2a4', '\\uc6b4\\ub3d9', '\\ubba4\\uc9c0\\uceec', '\\uc0ac\\ub791']\",\"['\\uacbd\\ucf8c\\ud55c']\"],[\"Surge 7.4\",\"\\uc2e0\\uc124\\ud76c\",\"['\\ud734\\uc2dd', '\\uc5ec\\ud589\\uc0b0\\ucc45', '\\ub4dc\\ub77c\\uc774\\ube0c', '\\uae30\\ubd84\\uc804\\ud658', '\\uc124\\ub818', '\\uc2a4\\ud2b8\\ub808\\uc2a4']\",\"['\\ud589\\ubcf5\\ud55c']\"],[\"\\uc774\\uac8c \\uc544\\ub2cc\\ub370\",\"\\ud0dc\\uc591\",\"['\\uc0c8\\ubcbd']\",\"['\\uc6b0\\uc6b8\\ud55c']\"],[\"\\ubc15\\uc218 (Clap)\",\"\\ud2f4\\ud0d1\",\"['\\ub304\\uc2a4']\",\"['\\uacbd\\ucf8c\\ud55c']\"],[\"Discovery\",\"\\ubcf4\\uc544 (BoA)\",\"['\\ub304\\uc2a4', '\\ubabd\\ud658', '\\ubabd\\ud658\\uc801']\",\"['\\uacbd\\ucf8c\\ud55c', '\\uc794\\uc794\\ud55c', '\\uae34\\uc7a5\\ub418\\ub294']\"],[\"May The Bitter Man Win (Feat. J. Cole)\",\"Treasure Davis\",\"['\\uae30\\ubd84\\uc804\\ud658', '\\ub4dc\\ub77c\\uc774\\ube0c']\",\"['\\ud589\\ubcf5\\ud55c']\"],[\"\\ubd88\\ub180\\uc774 (Flowerwork)\",\"\\uc5d4\\ud50c\\ub77c\\uc789 (N.Flying)\",\"['\\uc2e0\\ub098\\ub294']\",\"['\\ud589\\ubcf5\\ud55c']\"],[\"Sevenless\",\"\\uc804\\uad6d\\ube44\\ub458\\uae30\\uc5f0\\ud569\",\"['\\ubc34\\ub4dc', '\\uc5ec\\ub984', '\\ud398\\uc2a4\\ud2f0\\ubc8c', '\\uae30\\ubd84\\uc804\\ud658', '\\uc2a4\\ud2b8\\ub808\\uc2a4']\",\"['\\uacbd\\ucf8c\\ud55c']\"],[\"Priceless\",\"Melanie Fiona\",\"['\\uce74\\ud398', '\\ubc24', '\\uaca8\\uc6b8', '\\ud790\\ub9c1', '\\uae30\\ubd84\\uc804\\ud658', '\\ud06c\\ub9ac\\uc2a4\\ub9c8\\uc2a4']\",\"['\\ud589\\ubcf5\\ud55c']\"],[\"\\uace0\\uae30\\uc608\\ucc2c\",\"\\ubc15\\uc6a9\\uc804\",\"['\\uae30\\ubd84\\uc804\\ud658']\",\"['\\ud589\\ubcf5\\ud55c']\"],[\"Your Name\",\"SHINee (\\uc0e4\\uc774\\ub2c8)\",\"['\\uc0ac\\ub791']\",\"['\\ud589\\ubcf5\\ud55c']\"],[\"\\ucd09\\ucd09 (Feat. \\uc694\\uc870)\",\"\\ud53c\\ud130\\ud32c \\ucef4\\ud50c\\ub809\\uc2a4\",\"['\\uc0ac\\ub791']\",\"['\\ud589\\ubcf5\\ud55c']\"],[\"\\ubcf4\\uc5ec\\uc918\\uc694 (Feat. \\uc815\\ud604\\uc6c5)\",\"\\ud669\\uc608\\uc6d0\",\"['\\uce74\\ud398']\",\"['\\uc794\\uc794\\ud55c']\"],[\"\\uc8fd\\uc5b4\\ub3c4 \\ub108\\uc57c\",\"V, \\uc9c4\",\"['\\ud734\\uc2dd']\",\"['\\uc794\\uc794\\ud55c']\"],[\"Special\",\"\\ube44\\uc2a4\\ud2b8\",\"['\\uae30\\ubd84\\uc804\\ud658']\",\"['\\ud589\\ubcf5\\ud55c']\"],[\"\\uc655\\uc790\\ub294 \\ub5a0\\ub0ac\\ub124\",\"\\ubc30\\ud574\\uc120\",\"['\\uae30\\ubd84\\uc804\\ud658', '\\uc794\\uc794\\ud55c']\",\"['\\ud589\\ubcf5\\ud55c', '\\uc794\\uc794\\ud55c']\"],[\"LA LA\",\"WINNER\",\"['\\ub4dc\\ub77c\\uc774\\ube0c']\",\"['\\ud589\\ubcf5\\ud55c']\"],[\"\\uc288\\ube44\\ub4dc\",\"\\uc18c\\ud638\\ub300\",\"['\\ucd94\\uc5b5']\",\"['\\ud589\\ubcf5\\ud55c']\"],[\"\\uac00\\uc9c0\\ub9d0\\uc544\\uc694\",\"\\uadf8\\ub124\\uc640 \\uaf43\",\"['\\uc794\\uc794\\ud55c', '\\ubc24', '\\uc0c8\\ubcbd']\",\"['\\uc794\\uc794\\ud55c', '\\ubb34\\uc11c\\uc6b4', '\\uc6b0\\uc6b8\\ud55c']\"],[\"Tenderly\",\"Disclosure\",\"['\\uc5ec\\ud589', '\\uae30\\ubd84\\uc804\\ud658', '\\uc0b0\\ucc45']\",\"['\\ud589\\ubcf5\\ud55c']\"],[\"Tenderly\",\"Disclosure\",\"['\\uc5ec\\ud589', '\\uae30\\ubd84\\uc804\\ud658', '\\uc0b0\\ucc45']\",\"['\\ud589\\ubcf5\\ud55c']\"],[\"So Much Love\",\"Stadiumx, Muzzaik\",\"['\\ub4dc\\ub77c\\uc774\\ube0c']\",\"['\\ud589\\ubcf5\\ud55c']\"],[\"Pray (Male Ver.)\",\"\\uc778\\ud3ec\\uba38\",\"['\\ube44\\uc624\\ub294\\ub0a0', '\\uc2ac\\ud514', '\\uc774\\ubcc4']\",\"['\\uc6b0\\uc6b8\\ud55c']\"],[\"\\uace0\\ubc31\\ud574\\ub3c4 \\uad1c\\ucc2e\\uc544\",\"\\ubdf0\\ud2f0\\ud578\\uc12c\",\"['\\uae30\\ubd84\\uc804\\ud658', '\\ubd04']\",\"['\\ud589\\ubcf5\\ud55c']\"],[\"Beautiful Days\",\"\\uae38\\uc740\\uacbd\",\"['\\uce74\\ud398', '\\ud734\\uc2dd', '\\uc6d4\\uc694\\uc77c', '\\uc6d4\\uc694\\ubcd1', '\\ud790\\ub9c1', '\\uae30\\ubd84\\uc804\\ud658', '\\ubd88\\uba74\\uc99d']\",\"['\\uc794\\uc794\\ud55c']\"],[\"What Are You Doing New Year`s Eve\",\"Nancy Wilson\",\"['\\uce90\\ub864']\",\"['\\ud589\\ubcf5\\ud55c']\"],[\"\\ub2e4\\uc2dc \\uc0ac\\ub791\",\"\\ubbf8\\uc4f0\\uc5d0\\uc774\",\"['\\ub304\\uc2a4', '\\uc6b4\\ub3d9\\ud560\\ub54c', '\\ub4dc\\ub77c\\uc774\\ube0c']\",\"['\\uacbd\\ucf8c\\ud55c']\"],[\"Return To...\",\"\\ubaa8\\ub358 \\uc96c\\uc2a4\",\"['\\ucd94\\uc5b5']\",\"['\\ud589\\ubcf5\\ud55c']\"],[\"Don`t Kill The Fun (Feat. Chris Brown)\",\"Sevyn Streeter\",\"['\\uae30\\ubd84\\uc804\\ud658', '\\ub4dc\\ub77c\\uc774\\ube0c']\",\"['\\ud589\\ubcf5\\ud55c']\"],[\"\\uaca8\\uc6b8\\uc7a0\",\"\\uc900\\ud638 (2PM)\",\"['\\uc774\\ubcc4']\",\"['\\uc6b0\\uc6b8\\ud55c']\"],[\"\\ub208\\uc744 \\uac10\\uc73c\\uba74 (WooHyun Solo)\",\"\\uc778\\ud53c\\ub2c8\\ud2b8\",\"['\\uc794\\uc794\\ud55c', '\\uc0c8\\ubcbd']\",\"['\\uc794\\uc794\\ud55c', '\\uc6b0\\uc6b8\\ud55c']\"],[\"\\uba54\\ub9ac-\\ud06c\\ub9ac (Merry-Chri)\",\"\\ubcf4\\uc544 (BoA)\",\"['\\uaca8\\uc6b8']\",\"['\\uc794\\uc794\\ud55c']\"],[\"\\uc5ec\\ud589\",\"\\uad8c\\ub098\\ubb34\",\"['\\uccad\\ucd98', '\\uc704\\ub85c', '\\uc0c8\\ubcbd', '\\ubc24']\",\"['\\uc6b0\\uc6b8\\ud55c']\"],[\"\\uacf5\\uc8fc\\ub2d8\",\"\\ud33b\\ub450\",\"['\\ub2ec\\ucf64\\ud55c', '\\ud734\\uc2dd', '\\ud790\\ub9c1', '\\uc124\\ub818', '\\uc0ac\\ub791']\",\"['\\ud589\\ubcf5\\ud55c']\"],[\"\\ub108\\uc5d0\\uac8c \\ub098\\ub294\",\"\\uc815\\ub4e0\",\"['\\uc0c8\\ubcbd', '\\ubc24', '\\uc794\\uc794\\ud55c']\",\"['\\uc6b0\\uc6b8\\ud55c', '\\ubb34\\uc11c\\uc6b4', '\\uc794\\uc794\\ud55c']\"],[\"\\uc774\\ub807\\uac8c \\uadf8\\ub300 \\uadf8\\uc758 \\ud488\\uc5d0\",\"\\ubc15\\uc740\\ud0dc\",\"['\\ubba4\\uc9c0\\uceec']\",\"['\\uacbd\\ucf8c\\ud55c']\"],[\"\\uc5b4\\ub5a4 \\ud638\\ud154\",\"\\uae40\\uc0ac\\uc6d4\",\"['\\ubc24', '\\uc794\\uc794\\ud55c', '\\uc6b0\\uc6b8', '\\uc0c8\\ubcbd', '\\uc2ac\\ud514', '\\uc704\\ub85c', '\\ud790\\ub9c1', '\\uc678\\ub85c\\uc6c0']\",\"['\\uc6b0\\uc6b8\\ud55c']\"],[\"\\ub098\\ub294 \\ucd5c\\uace0\\uc758 \\ud5e4\\uc5b4\\ub514\\uc790\\uc774\\ub108 \\uac15\\uc900\",\"PDJ.Lee\",\"['\\uac10\\ub3d9', '\\ubba4\\uc9c0\\uceec']\",\"['\\ud589\\ubcf5\\ud55c', '\\uacbd\\ucf8c\\ud55c']\"],[\"\\uace0\\ubc31 (With \\uc720\\uc2b9\\uc6b0, \\uc815\\uc138\\uc6b4)\",\"\\ub9c8\\uc778\\ub4dc\\uc720\",\"['\\uc0ac\\ub791']\",\"['\\ud589\\ubcf5\\ud55c']\"],[\"Brothers In Arms\",\"Dire Straits\",\"['\\uc0ac\\ub791']\",\"['\\ud589\\ubcf5\\ud55c']\"],[\"Lonely Won`t Leave Me Alone\",\"Jermaine Jackson\",\"['\\uc0c8\\ubcbd', '\\ucd94\\uc5b5', '\\uc0ac\\ub791']\",\"['\\ud589\\ubcf5\\ud55c']\"],[\"\\ud3b8\\ud55c \\uc0ac\\ub78c\\uc774 \\uc0dd\\uacbc\\uc5b4 (With \\uc131\\uc544 Of \\ubc14\\ub2d0\\ub77c \\uc5b4\\ucfe0\\uc2a4\\ud2f1)\",\"\\uae40\\uc9c0\\uc218\",\"['\\uc124\\ub818', '\\uae30\\ubd84\\uc804\\ud658', '\\ud790\\ub9c1', '\\ud734\\uc2dd']\",\"['\\ud589\\ubcf5\\ud55c']\"],[\"Gloomy Sunday\",\"\\ud53c\\uc544 (PIA)\",\"['\\ubc34\\ub4dc']\",\"['\\uacbd\\ucf8c\\ud55c']\"],[\"Alone (Alex Arcoleo Remix)\",\"Alan Walker\",\"['\\uc6b4\\ub3d9', '\\uae30\\ubd84\\uc804\\ud658']\",\"['\\uacbd\\ucf8c\\ud55c', '\\ud589\\ubcf5\\ud55c']\"],[\"Granite\",\"Pendulum\",\"['\\uc6b4\\ub3d9']\",\"['\\uacbd\\ucf8c\\ud55c']\"],[\"\\uaf43 (Feat. \\ud558\\uc740)\",\"\\ucee4\\ud53c\\uc18c\\ub144\",\"['\\ubd04']\",\"['\\ud589\\ubcf5\\ud55c']\"],[\"\\uc804\\uad6d\\uccb4\\uc804\",\"\\ube44\\ub2e8\\uc885\",\"['\\ud790\\ub9c1', '\\uce74\\ud398']\",\"['\\ud589\\ubcf5\\ud55c', '\\uc794\\uc794\\ud55c']\"],[\"\\ubc24\\uc774 \\uc2eb\\uc5b4\\uc694\",\"\\uc804\\ud6a8\\uc131\",\"['\\uc2a4\\ud2b8\\ub808\\uc2a4', '\\uae30\\ubd84\\uc804\\ud658']\",\"['\\uae34\\uc7a5\\ub418\\ub294', '\\ud589\\ubcf5\\ud55c']\"],[\"\\ub0a0 \\uc0ac\\ub791\\ud558\\uc9c0 \\uc54a\\uc544\\ub3c4\",\"\\ube44\\ube44\\uc548 (BBAHN)\",\"['\\uc2a4\\ud2b8\\ub808\\uc2a4', '\\uae30\\ubd84\\uc804\\ud658']\",\"['\\uae34\\uc7a5\\ub418\\ub294', '\\ud589\\ubcf5\\ud55c']\"],[\"Mattinata\",\"\\uae40\\uc7ac\\ud615\",\"['\\uce74\\ud398', '\\uc5ec\\uc720', '\\ubd04\\ub0a0', '\\ubc9a\\uaf43', '\\ud790\\ub9c1', '\\ubd04']\",\"['\\ud589\\ubcf5\\ud55c']\"],[\"\\uc0b0\\ub4e4\\uc0b0\\ub4e4\",\"\\ub2e4\\ub78c\",\"['\\uc124\\ub818']\",\"['\\ud589\\ubcf5\\ud55c']\"],[\"\\ud734\\uc2dd\",\"\\uc2a4\\ud0e0\\ub529 \\uc5d0\\uadf8\",\"['\\ud734\\uc2dd']\",\"['\\uc794\\uc794\\ud55c']\"],[\"Bron Chillin` (Feat. Owen Ovadoz) (Prod. O.T.O)\",\"Changstarr*\",\"['\\uae30\\ubd84\\uc804\\ud658', '\\uc2a4\\ud2b8\\ub808\\uc2a4']\",\"['\\ud589\\ubcf5\\ud55c', '\\uae34\\uc7a5\\ub418\\ub294']\"],[\"Highlander\",\"\\ucd5c\\uace0\\uc740\",\"['\\uae30\\ubd84\\uc804\\ud658']\",\"['\\ud589\\ubcf5\\ud55c']\"],[\"New York Narcotic\",\"The Knocks\",\"['\\ucee4\\ud53c', '\\uce74\\ud398', '\\ubc24', '\\uc624\\ud6c4', '\\ud1f4\\uadfc\\uae38']\",\"['\\uc794\\uc794\\ud55c']\"],[\"\\ub108\\uc640 \\ub0b4\\uac00 \\uc6b0\\ub9ac\\uac00 \\ub418\\ub358 \\ub0a0 (Feat. \\uc564\\uc11c (\\uc0c8\\ubcbd\\uc608\\uac10))\",\"\\ud5c8\\uc2a4\\ud0a4\\uc640 \\ud53c\\uc544\\ub178\",\"['\\uc124\\ub818', '\\uc0ac\\ub791']\",\"['\\ud589\\ubcf5\\ud55c']\"],[\"Sherlock (SHINee WORLD 4 Ver.)\",\"SHINee (\\uc0e4\\uc774\\ub2c8)\",\"['\\uc2dc\\uc6d0\\ud55c', '\\ubb34\\ub354\\uc704', '\\uc0ac\\ub791', '\\uc2e0\\ub098\\ub294']\",\"['\\uacbd\\ucf8c\\ud55c', '\\ud589\\ubcf5\\ud55c']\"],[\"\\ucc98\\uc74c \\ub110 \\ubcf4\\uace0 #1\",\"\\uc704\\uc544\\uc601 (WeAreYoung)\",\"['\\uc0ac\\ub791']\",\"['\\ud589\\ubcf5\\ud55c']\"],[\"\\uc798 \\uc0b4\\uace0 \\uc788\\uc9c0\\ub871\",\"\\uc724\\ub534\\ub534\",\"['\\uae30\\ubd84\\uc804\\ud658']\",\"['\\ud589\\ubcf5\\ud55c']\"],[\"Take Me On\",\"\\uc194\\ud2bc\\ud398\\uc774\\ud37c\",\"['\\uce74\\ud398', '\\uc794\\uc794\\ud55c']\",\"['\\uc794\\uc794\\ud55c']\"],[\"For The City (Feat. Jin.)\",\"Far East Movement\",\"['\\ud53c\\ud06c\\ub2c9', '\\uc624\\ud6c4', '\\uc5ec\\ud589', '\\uae30\\ubd84\\uc804\\ud658', '\\ud3b8\\uc548\\ud55c']\",\"['\\ud589\\ubcf5\\ud55c']\"],[\"Through The Rain\",\"Mariah Carey\",\"['\\ube44\\uc624\\ub294\\ub0a0', '\\uc794\\uc794\\ud55c']\",\"['\\uc6b0\\uc6b8\\ud55c', '\\uc794\\uc794\\ud55c']\"],[\"\\uc704\\ub85c\",\"\\uc815\\uc778\",\"['\\uc704\\ub85c']\",\"['\\uc6b0\\uc6b8\\ud55c']\"],[\"When I`m With You\",\"MLC\",\"['\\uce74\\ud398']\",\"['\\uc794\\uc794\\ud55c']\"],[\"\\uae30\\uc5b5\\ud558\\ub2c8? (Acoustic Ver.) (Feat. 1Sagain, \\uc724\\uc9c4)\",\"July\",\"['\\uc794\\uc794\\ud55c']\",\"['\\uc794\\uc794\\ud55c']\"],[\"\\uccad\\ucd98\\uc774 \\ubb3b\\ub294\\ub2e4 (Original)\",\"\\uc784\\ud0dc\\uacbd, \\uae40\\ud0dc\\ud6c8\",\"['\\uc2a4\\ud2b8\\ub808\\uc2a4', '\\uae30\\ubd84\\uc804\\ud658']\",\"['\\uae34\\uc7a5\\ub418\\ub294', '\\ud589\\ubcf5\\ud55c']\"],[\"\\ub6ad\\ub69c\\ub8e8\",\"\\uc624\\ub9ac\\uc5d4\\ud0c8 \\uc1fc\\ucee4\\uc2a4\",\"['\\uae30\\ubd84\\uc804\\ud658']\",\"['\\ud589\\ubcf5\\ud55c']\"],[\"Self Care\",\"Mac Miller\",\"['\\uae30\\ubd84\\uc804\\ud658']\",\"['\\ud589\\ubcf5\\ud55c']\"],[\"\\ub098 \\uc5ec\\uae30\\uc11c\",\"Various Artists\",\"['\\uac10\\ub3d9', '\\ubba4\\uc9c0\\uceec']\",\"['\\ud589\\ubcf5\\ud55c', '\\uacbd\\ucf8c\\ud55c']\"],[\"\\ubc29\\ubc31 (Aside)\",\"SHINee (\\uc0e4\\uc774\\ub2c8)\",\"['\\uc0ac\\ub791']\",\"['\\ud589\\ubcf5\\ud55c']\"],[\"Morning\",\"\\ub9c8\\ub9c8\\ubb34 (Mamamoo)\",\"['\\ub304\\uc2a4']\",\"['\\uacbd\\ucf8c\\ud55c']\"],[\"\\uc660\\uc9c0 \\ub290\\ub08c\\uc774 \\uc88b\\uc544 (`00)\",\"\\uc5ec\\ud589\\uc2a4\\ucf00\\uce58\",\"['\\ub4dc\\ub77c\\uc774\\ube0c']\",\"['\\ud589\\ubcf5\\ud55c']\"],[\"\\ud61c\\uc57c (Y Si Fuera Ella)\",\"SHINee (\\uc0e4\\uc774\\ub2c8)\",\"['\\uc2a4\\ud2b8\\ub808\\uc2a4']\",\"['\\uae34\\uc7a5\\ub418\\ub294']\"],[\"\\uc0c8\\uc7a5 \\uc18d\\uc758 \\uce5c\\uad6c\",\"\\uae40\\uad11\\uc11d\",\"['\\ucd94\\uc5b5']\",\"['\\ud589\\ubcf5\\ud55c']\"],[\"\\uc0ac\\ub791 \\uadf8 \\uc4f8\\uc4f8\\ud568\\uc5d0 \\ub300\\ud558\\uc5ec\",\"\\uae40\\uc724\\uc544, \\ucc44\\ubcf4\\ud6c8\",\"['\\uce74\\ud398']\",\"['\\uc794\\uc794\\ud55c']\"],[\"\\ubbf8\\uc6cc (Hate U, Love U)\",\"SUPER JUNIOR (\\uc288\\ud37c\\uc8fc\\ub2c8\\uc5b4)\",\"['\\ub304\\uc2a4', '\\ud790\\ub9c1', '\\ud734\\uc2dd', '\\uc124\\ub818', '\\uc0ac\\ub791', '\\ucd94\\uc5b5', '\\ud68c\\uc0c1']\",\"['\\ud589\\ubcf5\\ud55c']\"],[\"Salary\",\"\\ud398\\ud37c\\ud1a4\\uc2a4 (Peppertones)\",\"['\\uae30\\ubd84\\uc804\\ud658']\",\"['\\ud589\\ubcf5\\ud55c']\"],[\"\\uc18c\\uc911\\ud55c \\uc0ac\\ub78c\\uc744 \\uc704\\ud574\",\"V.O.S\",\"['\\uc124\\ub818', '\\uc0ac\\ub791', '\\ucd94\\uc5b5', '\\uae30\\ubd84\\uc804\\ud658', '\\ud68c\\uc0c1']\",\"['\\ud589\\ubcf5\\ud55c']\"],[\"If I Love You (Feat. \\uc774\\ub2e8\\uc606\\ucc28\\uae30)\",\"NS \\uc724\\uc9c0\",\"['\\uae30\\ubd84\\uc804\\ud658']\",\"['\\ud589\\ubcf5\\ud55c']\"],[\"\\ubc94\\ub760 \\uc544\\uac00\\uc528\",\"\\uc591\\ubbf8\\ub780\",\"['\\ucd94\\uc5b5']\",\"['\\ud589\\ubcf5\\ud55c']\"],[\"boy\",\"offonoff (\\uc624\\ud504\\uc628\\uc624\\ud504)\",\"['\\uae30\\ubd84\\uc804\\ud658']\",\"['\\ud589\\ubcf5\\ud55c']\"],[\"\\uc774\\ubcc4\\uc774\\ub77c\\ub294 \\ubc24\",\"\\ub9e5\\ucf08\\ub9ac\",\"['\\uc794\\uc794\\ud55c']\",\"['\\uc794\\uc794\\ud55c']\"],[\"\\ub098\\uc758 \\ube5b, \\uc5b4\\uba38\\ub2c8\",\"\\ubc15\\uc740\\ud0dc\",\"['\\ubba4\\uc9c0\\uceec']\",\"['\\uacbd\\ucf8c\\ud55c']\"],[\"I`m Not Yours\",\"\\uc2a4\\ud0e0\\ub529 \\uc5d0\\uadf8\",\"['\\ubc24']\",\"['\\ubb34\\uc11c\\uc6b4']\"],[\"\\uaca8\\uc6b8, \\ub05d (It`s You)\",\"\\uc5ec\\uc790\\uce5c\\uad6c (GFRIEND)\",\"['\\ub304\\uc2a4']\",\"['\\uacbd\\ucf8c\\ud55c']\"],[\"\\uc0c8\\ube68\\uac04\",\"\\ud14c\\uc778\",\"['\\uc124\\ub818', '\\uc0ac\\ub791']\",\"['\\ud589\\ubcf5\\ud55c']\"],[\"\\ub098\\ub294 \\ub098\\ub9cc\\uc758 \\uac83\",\"\\uc625\\uc8fc\\ud604\",\"['\\ubba4\\uc9c0\\uceec']\",\"['\\uacbd\\ucf8c\\ud55c']\"],[\"\\ub098\\ub294 \\ub098\\ub9cc\\uc758 \\uac83\",\"\\uc2e0\\uc601\\uc219\",\"['\\ubba4\\uc9c0\\uceec']\",\"['\\uacbd\\ucf8c\\ud55c']\"],[\"\\ub098\\ub294 \\ub098\\ub9cc\\uc758 \\uac83\",\"\\uc625\\uc8fc\\ud604\",\"['\\ubba4\\uc9c0\\uceec']\",\"['\\uacbd\\ucf8c\\ud55c']\"],[\"\\ub098\\ub294 \\ub098\\ub9cc\\uc758 \\uac83\",\"\\uc2e0\\uc601\\uc219\",\"['\\ubba4\\uc9c0\\uceec']\",\"['\\uacbd\\ucf8c\\ud55c']\"],[\"Take on Me (Kygo Remix)\",\"A-ha\",\"['\\ub4dc\\ub77c\\uc774\\ube0c', 'pub', '\\ud074\\ub7fd', '\\uae30\\ubd84\\uc804\\ud658']\",\"['\\ud589\\ubcf5\\ud55c', '\\uacbd\\ucf8c\\ud55c']\"],[\"\\uc5b8\\uc820\\uac00 \\uc774 \\uacf3\\uc774 (\\uc7a5\\uae08, \\ubbfc\\uc815\\ud638)\",\"\\uc6d0\\uae30\\uc900, \\uae40\\uc18c\\ud604\",\"['\\ubba4\\uc9c0\\uceec', '\\uac10\\ub3d9']\",\"['\\uacbd\\ucf8c\\ud55c', '\\ud589\\ubcf5\\ud55c']\"],[\"\\uc0ac\\ub78c\\uc5c6\\uc778 \\uc0ac\\ub78c\\uc73c\\ub85c \\ubabb \\uc0b4\\uc544\\uc694\",\"\\ubb38\\ubb38 (MoonMoon)\",\"['\\uc0c8\\ubcbd']\",\"['\\uc6b0\\uc6b8\\ud55c']\"],[\"\\ud504\\ub9ac\\ud504\\ub9c1 \\ub9e4\\uc9c0\\uceec \\uc0e4\\uc774\\ub2dd \\uc2a4\\ud0c0 (\\uc544\\ube60\\ub97c \\uad6c\\ud558\\uc790)\",\"\\ud504\\ub9ac\\ud504\\ub9c1 \\ub9c8\\ub9ac\\uc758 \\ub9c8\\ubc95\\ud559\\uad50 \\ub300\\ubaa8\\ud5d8\",\"['\\ubba4\\uc9c0\\uceec']\",\"['\\uacbd\\ucf8c\\ud55c']\"],[\"The Ocean (Feat. Julia Spada)\",\"Steve Angello\",\"['\\ub304\\uc2a4', '\\ud398\\uc2a4\\ud2f0\\ubc8c', '\\ud30c\\ud2f0', '\\uc2e0\\ub098\\ub294']\",\"['\\uacbd\\ucf8c\\ud55c', '\\ud589\\ubcf5\\ud55c']\"],[\"\\uc548\\ubd80\\ub97c \\ubb3b\\ub294\\ub2e4\\ub294 \\uac83\",\"\\uc544\\ubb34\\uc0ac\\uc774\",\"['\\ubc24']\",\"['\\ubb34\\uc11c\\uc6b4']\"],[\"\\ub77c\\ub514\\uc62490\",\"\\uc870\\ub3d9\\ud76c\",\"['\\uac00\\uc744']\",\"['\\uc794\\uc794\\ud55c']\"],[\"\\uc6b0\\ub9ac \\uc0ac\\ub791 \\uc5ec\\uae30\\uae4c\\uc9c0\\uc8e0\",\"\\ud61c\\ub839\",\"['\\uc774\\ubcc4']\",\"['\\uc6b0\\uc6b8\\ud55c']\"],[\"\\ub098\\ub9cc\\uc758 \\uce5c\\uad6c\",\"\\uc194\\ub9ac\\ub4dc\",\"['\\ucd94\\uc5b5', '\\ud68c\\uc0c1']\",\"['\\ud589\\ubcf5\\ud55c', '\\uc794\\uc794\\ud55c']\"],[\"Black Shoes (\\ud558\\uc774\\ud790) (Feat. Lil Cham)\",\"Steve Wu, \\ub450\\uc2a4\",\"['\\uae30\\ubd84\\uc804\\ud658', '\\uc2e0\\ub098\\ub294', '\\ub304\\uc2a4']\",\"['\\ud589\\ubcf5\\ud55c']\"],[\"Triple\",\"\\ud074\\ub808\\uc624\",\"['\\ub304\\uc2a4']\",\"['\\uacbd\\ucf8c\\ud55c']\"],[\"\\ub10c \\ubaa8\\ub97c \\uac70\\uc57c\",\"\\uc774\\uc601\\ud6c8\",\"['\\uc794\\uc794\\ud55c']\",\"['\\uc794\\uc794\\ud55c']\"],[\"\\ubc24\\ud558\\ub298\\uc758 \\ubcc4\\uc744 2 (Feat. \\uc81c\\uc774\\ube44 & \\ud55c\\uc9c0\\uc740)\",\"\\uc591\\uc815\\uc2b9\",\"['\\uc0ac\\ub791']\",\"['\\ud589\\ubcf5\\ud55c']\"],[\"Strip That Down (Feat. Quavo)\",\"Liam Payne\",\"['\\ub4dc\\ub77c\\uc774\\ube0c']\",\"['\\ud589\\ubcf5\\ud55c']\"],[\"\\ub208\\uce58\\ub3c4 \\uc5c6\\uc774\",\"\\ub354 \\ubb38\\uc0e4\\uc774\\ub108\\uc2a4\",\"['\\uc2a4\\ud2b8\\ub808\\uc2a4', '\\uc124\\ub818', '\\uc0ac\\ub791']\",\"['\\ud589\\ubcf5\\ud55c']\"],[\"Ready Or Not Yo! (English Ver.) (Feat. Jinusean, Perry)\",\"\\uc6d0\\ud0c0\\uc784\",\"['\\ub304\\uc2a4']\",\"['\\uacbd\\ucf8c\\ud55c']\"],[\"\\uc560\\uc6d0 (Funky Disco Ver.)\",\"\\uc5d0\\uc5b4\",\"['\\ub304\\uc2a4']\",\"['\\uacbd\\ucf8c\\ud55c']\"],[\"Speechless (feat. Erika Sirola)\",\"Robin Schulz\",\"['\\uc6b4\\ub3d9']\",\"['\\uacbd\\ucf8c\\ud55c']\"],[\"San Francisco\",\"ADOY\",\"['\\uae30\\ubd84\\uc804\\ud658']\",\"['\\ud589\\ubcf5\\ud55c']\"],[\"\\uac19\\uc560 (same)\",\"\\ub514 \\ub85c\\ub4dc (D.Road)\",\"['\\uce74\\ud398']\",\"['\\uc794\\uc794\\ud55c']\"],[\"\\ube44\\uac00 \\uc624\\uba74\",\"\\uc774\\uc9c0\\ud615\",\"['\\ube44\\uc624\\ub294\\ub0a0']\",\"['\\uc6b0\\uc6b8\\ud55c']\"],[\"\\uadf8\\ub300\\ub77c\\uc11c\",\"\\uc2e0\\uc6a9\\uc7ac, \\ub8e8\\ub098 (LUNA)\",\"['\\ud06c\\ub9ac\\uc2a4\\ub9c8\\uc2a4']\",\"['\\ud589\\ubcf5\\ud55c']\"],[\"Don`t Let Me Be Lonely Tonight\",\"Eric Clapton\",\"['\\uac00\\uc744', '\\uc8fc\\ub9d0', '\\ud63c\\uc220', '\\uc640\\uc778', '\\uc13c\\uce58\\ud55c']\",\"['\\uc794\\uc794\\ud55c']\"],[\"Livin` In a Dream (Feat. Nipsey Hussle)\",\"The Neighbourhood\",\"['\\uae30\\ubd84\\uc804\\ud658']\",\"['\\ud589\\ubcf5\\ud55c']\"],[\"\\uc0c1\\uc0c1\",\"\\uae40\\uac70\\uc9c0\",\"['\\ubabd\\ud658']\",\"['\\uc794\\uc794\\ud55c']\"],[\"\\ub3d9\\uadf8\\ub77c\\ubbf8\",\"\\ubaa8\\uc138\",\"['\\uc5ec\\ub984']\",\"['\\uacbd\\ucf8c\\ud55c']\"],[\"Kiss Of Life\",\"Sade\",\"['\\uc0c8\\ubcbd', '\\ubc24', '\\uc124\\ub818', '\\uc0ac\\ub791']\",\"['\\ud589\\ubcf5\\ud55c']\"],[\"Sweet Dreams (Are Made Of This)\",\"Marilyn Manson\",\"['\\uae30\\ubd84\\uc804\\ud658']\",\"['\\ud589\\ubcf5\\ud55c']\"],[\"Power (Feat. HAYAKE)\",\"FIBER FUNK\",\"['\\uc2a4\\ud2b8\\ub808\\uc2a4', '\\uae30\\ubd84\\uc804\\ud658', '\\uc2e0\\ub098\\ub294']\",\"['\\ud589\\ubcf5\\ud55c']\"],[\"\\ubc14\\ub2e4 (Feat. KURO)\",\"\\uae40\\ubbf8\\uc815 (yourbeagle)\",\"['\\ub4dc\\ub77c\\uc774\\ube0c']\",\"['\\ud589\\ubcf5\\ud55c']\"],[\"\\uc21c\\uc2ec\\uc774\",\"\\uc784\\ucc3d\\uc815\",\"['\\ub304\\uc2a4', '\\ud790\\ub9c1', '\\ud734\\uc2dd', '\\uc794\\uc794\\ud55c', '\\ucd94\\uc5b5', '\\ud68c\\uc0c1']\",\"['\\uc794\\uc794\\ud55c']\"],[\"\\ub9c8\\uc9c0\\ub9c9 \\ubd80\\ud0c1\",\"\\uc774\\ub4f1\\ubcc0\\uc0bc\\uac01\\ud615\",\"['\\uc794\\uc794\\ud55c', '\\uc6b0\\uc6b8', '\\uc704\\ub85c', '\\uc2ac\\ud514', '\\uc0ac\\ub791', '\\uccad\\ucd98']\",\"['\\uc6b0\\uc6b8\\ud55c']\"],[\"\\uc0ac\\ub791\\uc740 \\uc720\\ub9ac \\uac19\\uc740 \\uac83\",\"\\ud551\\ud074 (Fin.K.L)\",\"['\\ucd94\\uc5b5']\",\"['\\ud589\\ubcf5\\ud55c']\"],[\"WYA (Feat. \\ubc84\\ubc8c\\uc9c4\\ud2b8)\",\"Se.A (\\uc138\\uc544)\",\"['\\uc5ec\\ud589', '\\ub4dc\\ub77c\\uc774\\ube0c', '\\ud074\\ub7fd', '\\uce74\\ud398', '\\uc794\\uc794', '\\ubd84\\uc704\\uae30', '\\ucee4\\ud53c']\",\"['\\ud589\\ubcf5\\ud55c', '\\uc794\\uc794\\ud55c']\"],[\"Yellow Ade\",\"24.5\",\"['\\uc2ec\\ucff5']\",\"['\\uae34\\uc7a5\\ub418\\ub294']\"],[\"\\uac00\\uc744\\ubc24\",\"\\ubc30\\uc601\\uacbd, \\uc1a1\\ud478\\ub984\",\"['\\uc794\\uc794\\ud55c']\",\"['\\uc794\\uc794\\ud55c']\"],[\"\\uac00\\uc744\\ubc24\",\"\\uc815\\uc131\\uc6b0\",\"['\\uc794\\uc794\\ud55c']\",\"['\\uc794\\uc794\\ud55c']\"],[\"\\uac00\\uc744\\ubc24\",\"\\ubc30\\uc601\\uacbd, \\uc1a1\\ud478\\ub984\",\"['\\uc0c8\\ubcbd']\",\"['\\uc6b0\\uc6b8\\ud55c']\"],[\"\\uac00\\uc744\\ubc24\",\"\\uc815\\uc131\\uc6b0\",\"['\\uc0c8\\ubcbd']\",\"['\\uc6b0\\uc6b8\\ud55c']\"],[\"\\ud53c \\ub540 \\ub208\\ubb3c\",\"\\ubc29\\ud0c4\\uc18c\\ub144\\ub2e8\",\"['\\uae30\\ubd84\\uc804\\ud658']\",\"['\\ud589\\ubcf5\\ud55c']\"],[\"\\ub108\\uc774\\uae38 \\uc6d0\\ud588\\ub358 \\uc774\\uc720\",\"\\ucfe8 (COOL)\",\"['\\ub304\\uc2a4']\",\"['\\uacbd\\ucf8c\\ud55c']\"],[\"My Prerogative\",\"Britney Spears\",\"['\\ucd94\\uc5b5', '\\ub4dc\\ub77c\\uc774\\ube0c', '\\uc2ac\\ud514', '\\uc0b0\\ucc45', '\\uc774\\ubcc4', '\\uc5ec\\ud589']\",\"['\\ud589\\ubcf5\\ud55c']\"],[\"The Blower\",\"Damien Rice\",\"['\\uc794\\uc794\\ud55c', '\\ubc24', '\\uc0c8\\ubcbd', '\\uce74\\ud398', '\\ud734\\uc2dd', '\\ub4dc\\ub77c\\uc774\\ube0c']\",\"['\\uc794\\uc794\\ud55c']\"],[\"Hurricane\",\"\\uc2e0\\ud654\",\"['\\uac00\\uc744']\",\"['\\uc794\\uc794\\ud55c']\"],[\"Check It Out\",\"Ferry Corsten\",\"['\\uc2a4\\ud2b8\\ub808\\uc2a4']\",\"['\\uae34\\uc7a5\\ub418\\ub294']\"],[\"Tell Me Tell Me\",\"\\ub808\\uc778\\ubcf4\\uc6b0\",\"['\\ub304\\uc2a4']\",\"['\\uacbd\\ucf8c\\ud55c']\"],[\"Mood\",\"Carlie Hanson\",\"['\\uac00\\uc744\\uac10\\uc131', '\\uac00\\uc744', '\\uc794\\uc794\\ud55c', '\\ubd84\\uc704\\uae30', '\\uc120\\uc120\\ud55c']\",\"['\\uc794\\uc794\\ud55c']\"],[\"\\ub108, \\ud55c\\ub208 \\ud314\\uc9c0\\ub9c8!\",\"\\uac78\\uc2a4\\ub370\\uc774\",\"['\\ub304\\uc2a4']\",\"['\\uacbd\\ucf8c\\ud55c']\"],[\"\\uc885\\uc774 \\uc2ec\\uc7a5 (Paper Heart)\",\"f(x)\",\"['\\uae30\\ubd84\\uc804\\ud658']\",\"['\\ud589\\ubcf5\\ud55c']\"],[\"\\ub108 \\uc606\\uc73c\\ub85c \\ub5a8\\uc5b4\\uc9c0\\ub294 \\ube5b\",\"\\uc815\\uace0\\ub798\",\"['\\uc794\\uc794\\ud55c', '\\ub4dc\\ub77c\\uc774\\ube0c', '\\ud734\\uc2dd']\",\"['\\uc794\\uc794\\ud55c']\"],[\"\\uae4a\\uc774 \\uc7a0\\ub4e4\\uc5b4\\uc694 (Remastered)\",\"\\ud55c\\uc62c\",\"['\\uc704\\ub85c', '\\uc794\\uc794\\ud55c', '\\uc0c8\\ubcbd']\",\"['\\uc6b0\\uc6b8\\ud55c']\"],[\"Good Bye (Vocal Ver.)\",\"\\uc11c\\ud0dc\\uc9c0\",\"['\\uc0ac\\ub791']\",\"['\\ud589\\ubcf5\\ud55c']\"],[\"I`m Here\",\"\\uc591\\ub2e4\\uc77c\",\"['\\uc794\\uc794\\ud55c', '\\ucd94\\uc5b5']\",\"['\\uc794\\uc794\\ud55c', '\\ud589\\ubcf5\\ud55c']\"],[\"Cold\",\"\\ud53c\\uc5d0\\uc2a4\\ud0c0\",\"['\\uae30\\ubd84\\uc804\\ud658']\",\"['\\ud589\\ubcf5\\ud55c']\"],[\"\\uc0ac\\ub791\\uc774 \\uc628 \\uac83 \\uac19\\uc544\\uc694\",\"\\ub9b4\\ub9ac (Lily)\",\"['\\ubd04', '\\uc0ac\\ub791']\",\"['\\ud589\\ubcf5\\ud55c']\"],[\"\\ubaa8\\ub4e0 \\uac8c \\ub2e4 \\uc0ac\\ub77c\\uc838\",\"Various Artists\",\"['\\uc2a4\\ud2b8\\ub808\\uc2a4', '\\uae30\\ubd84\\uc804\\ud658']\",\"['\\uae34\\uc7a5\\ub418\\ub294', '\\ud589\\ubcf5\\ud55c']\"],[\"I Am Changing\",\"\\ucc28\\uc9c0\\uc5f0\",\"['\\uc794\\uc794\\ud55c', '\\ubc24', '\\uc0c8\\ubcbd']\",\"['\\uc794\\uc794\\ud55c', '\\ubb34\\uc11c\\uc6b4', '\\uc6b0\\uc6b8\\ud55c']\"],[\"Born To Run\",\"Bruce Springsteen\",\"['\\uae30\\ubd84\\uc804\\ud658']\",\"['\\ud589\\ubcf5\\ud55c']\"],[\"\\ubc14\\ub7a8\",\"\\ucc28\\ud638\\uc11d\",\"['\\uc2ac\\ud514', '\\ucd94\\uc5b5', '\\uc774\\ubcc4', '\\ud68c\\uc0c1']\",\"['\\uc6b0\\uc6b8\\ud55c']\"],[\"Owl`s Lullaby\",\"Belz\",\"['\\uc720\\ub2c8\\ud06c']\",\"['\\uacbd\\ucf8c\\ud55c']\"],[\"\\ub3d9\\ud6c8\\uc774\\ub77c\\uace0!! (Feat. \\ucfe4\\ud0c0)\",\"\\ud558\\ud558\",\"['\\uc5ec\\ub984', '\\uae30\\ubd84\\uc804\\ud658']\",\"['\\uacbd\\ucf8c\\ud55c', '\\ud589\\ubcf5\\ud55c']\"],[\"The Voice (with \\uc870\\uc9c0\\uc740)\",\"\\uc81c\\uc774\\uc2a4\\ucffc\\ub4dc (JSQUAD)\",\"['\\uc794\\uc794\\ud55c', '\\uc5ec\\ud589', '\\uae30\\ubd84\\uc804\\ud658', '\\uae4c\\ud398', '\\uc2e0\\ub098\\ub294']\",\"['\\ud589\\ubcf5\\ud55c']\"],[\"\\uae68\\uc5b4\\ub098\",\"\\uc815\\ub3d9\\ud654\",\"['\\uc0c8\\ubcbd', '\\ubba4\\uc9c0\\uceec']\",\"['\\uc6b0\\uc6b8\\ud55c', '\\uacbd\\ucf8c\\ud55c']\"],[\"Kiss\",\"\\ucfe8 (COOL)\",\"['\\ube44\\uc624\\ub294\\ub0a0']\",\"['\\uc6b0\\uc6b8\\ud55c']\"],[\"Luxury (Single Ver.)\",\"\\ud55c\\ub098\",\"['\\ub304\\uc2a4']\",\"['\\uacbd\\ucf8c\\ud55c']\"],[\"\\ub098\\ub77c\\uc758 \\uacb0\\uc2ec\",\"\\uc624\\ub098\\ub77c\",\"['\\ubba4\\uc9c0\\uceec']\",\"['\\uacbd\\ucf8c\\ud55c']\"],[\"\\uc18c\\uc6d0\",\"\\uace0\\uc720\\uc9c4 (\\ud50c\\ub77c\\uc6cc)\",\"['\\ucd94\\uc5b5', '\\uae30\\ubd84\\uc804\\ud658', '\\ud68c\\uc0c1', '\\uc774\\ubcc4']\",\"['\\ud589\\ubcf5\\ud55c']\"],[\"Roller Coaster\",\"\\ubaac\\uc2a4\\ud0c0\\uc5d1\\uc2a4\",\"['\\uae30\\ubd84\\uc804\\ud658', '\\uc6b4\\ub3d9', '\\ub304\\uc2a4', '\\uc0ac\\ub791']\",\"['\\ud589\\ubcf5\\ud55c', '\\uacbd\\ucf8c\\ud55c']\"],[\"\\ud558\\uc774\\ud30c\\uc774\\ube0c\",\"\\uc544\\uc774\\ub3cc\\ud559\\uad50\",\"['\\ub304\\uc2a4']\",\"['\\uacbd\\ucf8c\\ud55c']\"],[\"\\ubc24\\ubc24\\ubc24 (Remastered)\",\"Adios Audio\",\"['\\ubc34\\ub4dc']\",\"['\\uacbd\\ucf8c\\ud55c']\"],[\"Painful Truth (\\uc544\\ud508 \\uc9c4\\uc2e4)\",\"\\uc1a1\\uc6a9\\uc9c4\",\"['\\ubba4\\uc9c0\\uceec']\",\"['\\uacbd\\ucf8c\\ud55c']\"],[\"Sleeping Pill (\\uc218\\uba74\\uc81c) (Feat. Ludens Musiq)\",\"Godiflow (\\uac00\\ub514\\ud50c\\ub85c\\uc6b0)\",\"['\\uc2e0\\ub098\\ub294']\",\"['\\ud589\\ubcf5\\ud55c']\"],[\"Dental Care\",\"Owl City\",\"['\\uc5ec\\ud589', '\\uc0b0\\ucc45']\",\"['\\ud589\\ubcf5\\ud55c']\"],[\"\\ub0b4\\uac8c \\uc640\",\"\\uc18c\\ub099\\ube4c\",\"['\\uc6b4\\ub3d9', '\\ub4dc\\ub77c\\uc774\\ube0c', '\\uc5ec\\ud589', '\\uc2e0\\ub098\\ub294']\",\"['\\ud589\\ubcf5\\ud55c']\"],[\"Hey U!\",\"\\uc0e4\\ud06c\\ub77c\",\"['\\ub304\\uc2a4']\",\"['\\uacbd\\ucf8c\\ud55c']\"],[\"COOL\",\"Troye Sivan\",\"['\\uae30\\ubd84\\uc804\\ud658']\",\"['\\ud589\\ubcf5\\ud55c']\"],[\"\\ud55c\\ub9c8\\ub514 (Your Voice)\",\"\\ud5e4\\ub9ac\\ud2f0\\uc9c0(Heritage), \\uc885\\ud604 (JONGHYUN)\",\"['\\uae30\\ubd84\\uc804\\ud658']\",\"['\\ud589\\ubcf5\\ud55c']\"],[\"Mad Love\",\"DJ L\",\"['\\ud398\\uc2a4\\ud2f0\\ubc8c']\",\"['\\uacbd\\ucf8c\\ud55c']\"],[\"Beautiful\",\"\\ube44\\uc2a4\\ud2b8\",\"['\\uae30\\ubd84\\uc804\\ud658']\",\"['\\ud589\\ubcf5\\ud55c']\"],[\"\\ub2c8\\uaebc\\ud560\\ub798 (Feat. K.O.K)\",\"\\ub808\\ubbf8\",\"['\\uc794\\uc794\\ud55c', '\\uc124\\ub818', '\\uc0ac\\ub791']\",\"['\\ud589\\ubcf5\\ud55c']\"],[\"Last Request (Album Ver.)\",\"Paolo Nutini\",\"['\\ube44\\uc624\\ub294\\ub0a0', '\\uc7a5\\ub9c8', '\\ubd84\\uc704\\uae30', '\\ube44']\",\"['\\uc6b0\\uc6b8\\ud55c']\"],[\"Double J\",\"\\uc774\\uc7ac\\uc9c4\",\"['\\ub304\\uc2a4']\",\"['\\uacbd\\ucf8c\\ud55c']\"],[\"\\ubd04\\uc774\\uc640 (Feat. \\uc774\\uc778\\uc138)\",\"\\ub974 \\uba54\\ub9ac\\ubb34\\uc2a4\",\"['\\ubd04']\",\"['\\ud589\\ubcf5\\ud55c']\"],[\"Say\",\"\\uc81d\\uc2a4\\ud0a4\\uc2a4\",\"['\\uc794\\uc794\\ud55c', '\\ucd94\\uc5b5', '\\ud68c\\uc0c1']\",\"['\\uc794\\uc794\\ud55c']\"],[\"\\ub2ec\\ub3c4 \\ubc1d\\ub2e4\",\"\\ub098\\uc724\\uc601\",\"['\\ubba4\\uc9c0\\uceec']\",\"['\\uacbd\\ucf8c\\ud55c']\"],[\"\\uc9c4\\uc2ec\",\"\\uce94\",\"['\\uc0c8\\ubcbd', '\\ucd94\\uc5b5', '\\ubc24', '\\ud68c\\uc0c1']\",\"['\\uc6b0\\uc6b8\\ud55c', '\\ud589\\ubcf5\\ud55c', '\\ubb34\\uc11c\\uc6b4', '\\uc794\\uc794\\ud55c']\"],[\"\\uc624\\ub79c\\ub9cc\\uc774\\uc57c, \\uc548\\ub155\",\"\\uc628\\ub9ac\\uc720\",\"['\\ud734\\uc2dd']\",\"['\\uc794\\uc794\\ud55c']\"],[\"\\uc0ac\\ub78c\\ub4e4\\uc740 \\ubaa8\\ub450 \\uc678\\ub86d\\ub2e4\",\"\\ub808\\uc774\\ub514\\ubc84\\ub4dc(LADYBIRD)\",\"['\\uc2ac\\ud514', '\\ubc24', '\\uc774\\ubcc4', '\\uc0c8\\ubcbd', '\\uc704\\ub85c', '\\ud798\\ub4e4\\ub54c']\",\"['\\uc6b0\\uc6b8\\ud55c']\"],[\"\\ubd80\\ud0c1\\ud574\",\"\\uc6b0\\uc8fc\\uc18c\\ub140\",\"['\\uc2e0\\ub098\\ub294']\",\"['\\ud589\\ubcf5\\ud55c']\"],[\"Heatwave (feat. More Giraffes)\",\"Melvv\",\"['\\uae30\\ubd84\\uc804\\ud658']\",\"['\\ud589\\ubcf5\\ud55c']\"],[\"Boyscout\",\"\\uae40\\ud6a8\\uc740, Skinny Brown\",\"['\\uc2e0\\ub098\\ub294']\",\"['\\ud589\\ubcf5\\ud55c']\"],[\"Rocket Man (I Think It`s Going To Be A Long, Long Time)\",\"Elton John\",\"['\\uce74\\ud398', '\\uac10\\uc131\\uc801\\uc778', '\\uae4c\\ud398', '\\uaca8\\uc6b8', '\\ubc24', '\\uc0c8\\ubcbd']\",\"['\\uc794\\uc794\\ud55c']\"],[\"\\ub0b4\\uac00 \\ub208\\uc744 \\uac10\\ub294 \\uc774\\uc720\",\"\\ud0dc\\ube48\",\"['\\ucd94\\uc5b5']\",\"['\\ud589\\ubcf5\\ud55c']\"],[\"Good Bye (feat. \\uae40\\ubbf8\\uc815 Yourbeagle)\",\"\\uc900\\ucf54\\ucf54 (Juncoco), \\uc815\\ud604 (Jeonghyeon)\",\"['\\ub4dc\\ub77c\\uc774\\ube0c', '\\uae30\\ubd84\\uc804\\ud658', '\\ud30c\\ud2f0', '\\uc2e0\\ub098\\ub294']\",\"['\\ud589\\ubcf5\\ud55c']\"],[\"I Do\",\"\\uc5b4\\ucfe0\\uc2a4\\ud2f1 \\ucf5c\\ub77c\\ubcf4\",\"['\\uc0ac\\ub791']\",\"['\\ud589\\ubcf5\\ud55c']\"],[\"Human\",\"The Killers\",\"['\\ud734\\uc2dd', '\\ud790\\ub9c1', '\\uc0b0\\ucc45', '\\uc5ec\\ud589', '\\uc2a4\\ud2b8\\ub808\\uc2a4', '\\uae30\\ubd84\\uc804\\ud658']\",\"['\\ud589\\ubcf5\\ud55c']\"],[\"\\ud32c\\ud140\\uc758 \\ub4f1\\uc7a5\",\"\\uc804\\ub3d9\\uc11d, \\ubba4\\uc9c0\\uceec \\ud32c\\ud140 2016 \\uc559\\uc0c1\\ube14\",\"['\\ubba4\\uc9c0\\uceec']\",\"['\\uacbd\\ucf8c\\ud55c']\"],[\"\\uba4d\",\"PERC%NT\",\"['\\ud55c\\uac15', '\\uce74\\ud398', '\\uc794\\uc794\\ud55c', '\\uc0b0\\ucc45']\",\"['\\ud589\\ubcf5\\ud55c', '\\uc794\\uc794\\ud55c']\"],[\"\\ub3d7\\ub300 (ONE AND ONLY) (B.I SOLO)\",\"iKON\",\"['\\uae30\\ubd84\\uc804\\ud658']\",\"['\\ud589\\ubcf5\\ud55c']\"],[\"How We Do (Original Mix)\",\"Hardwell, Showtek\",\"['\\ud074\\ub7fd', '\\uae30\\ubd84\\uc804\\ud658']\",\"['\\uacbd\\ucf8c\\ud55c', '\\ud589\\ubcf5\\ud55c']\"],[\"\\ub0b4\\uac8c \\ub0a8\\uc740 \\uac74 \\uadf8\\ub300 (It All Fades Away)\",\"\\ubc15\\uc740\\ud0dc\",\"['\\ubba4\\uc9c0\\uceec']\",\"['\\uacbd\\ucf8c\\ud55c']\"],[\"\\uccab\\ud0a4\\uc2a4\",\"FTISLAND (FT\\uc544\\uc77c\\ub79c\\ub4dc)\",\"['\\uc0ac\\ub791']\",\"['\\ud589\\ubcf5\\ud55c']\"],[\"What A Wonderful Cane (English Ver.)\",\"\\uc774\\ub3d9\\uc6b0 (LEE DONG WOO)\",\"['\\uc5ec\\ub984', '\\uc124\\ub818', '\\uc0ac\\ub791']\",\"['\\ud589\\ubcf5\\ud55c']\"],[\"No Cellular Site\",\"D-Block Europe\",\"['\\ub2ec\\ub2ec\\ud55c']\",\"['\\ud589\\ubcf5\\ud55c']\"],[\"In Heaven (Narr. \\uae40\\uc815\\uc740)\",\"JYJ\",\"['\\ud790\\ub9c1', '\\ud734\\uc2dd', '\\ucd94\\uc5b5', '\\uae30\\ubd84\\uc804\\ud658', '\\ud68c\\uc0c1']\",\"['\\ud589\\ubcf5\\ud55c']\"],[\"I Know You Know\",\"POE\",\"['\\uc5ec\\ub984', '\\uccad\\ub7c9', '\\uc0b0\\ucc45', '\\ubc1d\\uc740', '\\uc720\\ub2c8\\ud06c', '\\uc2e0\\ub098\\ub294']\",\"['\\uacbd\\ucf8c\\ud55c', '\\ud589\\ubcf5\\ud55c']\"],[\"SOMEONE`S SOMEONE\",\"\\ubaac\\uc2a4\\ud0c0\\uc5d1\\uc2a4\",\"['\\ubc24', '\\uc0c8\\ubcbd\\uac10\\uc131', '\\ub77c\\uc6b4\\uc9c0', '\\uae30\\ubd84\\uc804\\ud658', '\\ubd84\\uc704\\uae30', '\\uce74\\ud398']\",\"['\\uc794\\uc794\\ud55c']\"],[\"Inn\",\"\\uc8fc\\uc601\",\"['\\uc0c8\\ubcbd']\",\"['\\uc6b0\\uc6b8\\ud55c']\"],[\"Moonlight\",\"Disclosure\",\"['\\uae30\\ubd84\\uc804\\ud658']\",\"['\\ud589\\ubcf5\\ud55c']\"],[\"\\uc2dc\\uac04\\uc774 \\uc548 \\uc9c0\\ub098\\uac00 (Walkin` In Time)\",\"\\ub354\\ubcf4\\uc774\\uc988 (THE BOYZ)\",\"['\\uc774\\ubcc4']\",\"['\\uc6b0\\uc6b8\\ud55c']\"],[\"\\ub0b4 \\ub2d8\\uc758 \\uc0ac\\ub791\\uc740\",\"\\ub530\\ub85c \\ub610 \\uac19\\uc774\",\"['\\ubd04', '\\ub4dc\\ub77c\\uc774\\ube0c', '\\uc5ec\\ud589', '\\ud734\\uc2dd', '\\uae30\\ubd84\\uc804\\ud658', '\\uc0ac\\ub791', '\\ud1f4\\uadfc\\uae38']\",\"['\\ud589\\ubcf5\\ud55c']\"],[\"facetime\",\"oogypark\",\"['\\uce74\\ud398', '\\ud799\\ud55c']\",\"['\\uc794\\uc794\\ud55c', '\\uae34\\uc7a5\\ub418\\ub294']\"],[\"Belief\",\"jeebanoff (\\uc9c0\\ubc14\\ub178\\ud504)\",\"['\\uae30\\ubd84\\uc804\\ud658']\",\"['\\ud589\\ubcf5\\ud55c']\"],[\"\\uadf8\\uac8c \\ub108\\uc600\\ub2e4\",\"\\uc548\\uc7ac\\ud604\",\"['\\ucd94\\uc5b5', '\\ud68c\\uc0c1']\",\"['\\ud589\\ubcf5\\ud55c', '\\uc794\\uc794\\ud55c']\"],[\"The Gambler\",\"Kenny Rogers\",\"['\\ud3b8\\uc548\\ud55c', '\\ucd94\\uc5b5', '\\ud68c\\uc0c1']\",\"['\\ud3b8\\uc548\\ud55c', '\\ud589\\ubcf5\\ud55c', '\\uc794\\uc794\\ud55c']\"],[\"\\uc544\\ud2c0\\ub780\\ud2f0\\uc2a4 \\uc18c\\ub140 (Atlantis Princess)\",\"\\uc2ac\\uae30 (SEULGI)\",\"['\\uaca8\\uc6b8']\",\"['\\uc794\\uc794\\ud55c']\"],[\"20090729\",\"\\ud2f0\\uc544\\ub77c\",\"['\\ud790\\ub9c1', '\\ud734\\uc2dd', '\\uc2a4\\ud2b8\\ub808\\uc2a4', '\\ub304\\uc2a4', '\\uc0c8\\ubcbd', '\\ubc24', '\\uc5ec\\ud589', '\\uc6b4\\ub3d9', '\\uc704\\ub85c']\",\"['\\ud589\\ubcf5\\ud55c', '\\uacbd\\ucf8c\\ud55c', '\\uc6b0\\uc6b8\\ud55c']\"],[\"\\ub0b4 \\uce5c\\uad6c\\uc758 \\ub0a8\\uc790\\uce5c\\uad6c\",\"DIA (\\ub2e4\\uc774\\uc544)\",\"['\\uae30\\ubd84\\uc804\\ud658', '\\ub304\\uc2a4']\",\"['\\ud589\\ubcf5\\ud55c', '\\uacbd\\ucf8c\\ud55c']\"],[\"BAAAD Flower (Feat. Jaeny, Scid)\",\"BAAAD\",\"['\\ud074\\ub7fd', '\\uc2a4\\ud2b8\\ub808\\uc2a4', '\\uae30\\ubd84\\uc804\\ud658']\",\"['\\uacbd\\ucf8c\\ud55c', '\\uae34\\uc7a5\\ub418\\ub294', '\\ud589\\ubcf5\\ud55c']\"],[\"Diamond\",\"f(x)\",\"['\\uae30\\ubd84\\uc804\\ud658']\",\"['\\ud589\\ubcf5\\ud55c']\"],[\"\\uc774\\ud1a0\\ub85d \\ubcf4\\ud1b5\\uc758\",\"\\uc774\\uc8fc\\uc544\",\"['\\uc794\\uc794\\ud55c']\",\"['\\uc794\\uc794\\ud55c']\"],[\"\\uadf8\\ub300\\ub77c\\ub294 \\uc138\\uc0c1\",\"\\uc724\\ubbf8\\ub798\",\"['\\uae30\\ubd84\\uc804\\ud658']\",\"['\\ud589\\ubcf5\\ud55c']\"],[\"\\uc6b0\\uc0b0 (Feat. \\uc0c8\\uc1a1)\",\"\\uae40\\uc720\\uc6d4\",\"['\\ube44\\uc624\\ub294\\ub0a0']\",\"['\\uc6b0\\uc6b8\\ud55c']\"],[\"\\ub0b4 \\uc6b4\\uba85 \\ud53c\\ud558\\uace0 \\uc2f6\\uc5b4\",\"\\uaddc\\ud604 (KYUHYUN)\",\"['\\ubba4\\uc9c0\\uceec']\",\"['\\uacbd\\ucf8c\\ud55c']\"],[\"Perfect Day\",\"Hoku\",\"['\\uc2a4\\ud2b8\\ub808\\uc2a4', '\\uae30\\ubd84\\uc804\\ud658']\",\"['\\uae34\\uc7a5\\ub418\\ub294', '\\ud589\\ubcf5\\ud55c']\"],[\"Take It Out (Feat. \\uae40\\ud638\\uc5f0 Of \\ub2ec\\uc88b\\uc740\\ubc24)\",\"\\uae40\\ud604\\uc11d\",\"['\\ub4dc\\ub77c\\uc774\\ube0c', '\\uac00\\uc744', '\\uc0b0\\ucc45', '\\uc794\\uc794\\ud55c']\",\"['\\ud589\\ubcf5\\ud55c', '\\uc794\\uc794\\ud55c']\"],[\"\\uc0ac\\ub791\\uac00 \\ub458\",\"\\uc624\\uc9c0\\ucd1d, \\ud568\\uc218\\uacbd\",\"['\\ud790\\ub9c1', '\\ud734\\uc2dd', '\\ucd94\\uc5b5', '\\ud68c\\uc0c1']\",\"['\\ud589\\ubcf5\\ud55c', '\\uc794\\uc794\\ud55c']\"],[\"cradle (Feat. Slchld)\",\"protonebula\",\"['\\uce74\\ud398', '\\ud734\\uc2dd']\",\"['\\uc794\\uc794\\ud55c']\"],[\"Cake Shop\",\"\\uc70c\\ucf55\\uc2a4\",\"['\\uae30\\ubd84\\uc804\\ud658']\",\"['\\ud589\\ubcf5\\ud55c']\"],[\"Artistic Groove\",\"\\ud0dc\\ubbfc (TAEMIN)\",\"['\\ub4dc\\ub77c\\uc774\\ube0c']\",\"['\\ud589\\ubcf5\\ud55c']\"],[\"Shower\",\"\\uae38\\uac74\",\"['\\ub304\\uc2a4']\",\"['\\uacbd\\ucf8c\\ud55c']\"],[\"\\uc6b0\\ub9ac\\uc758 \\uc0c8\\ubcbd\\uc740 \\ub0ae\\ubcf4\\ub2e4 \\ub728\\uac81\\ub2e4\",\"\\uc138\\ube10\\ud2f4\",\"['\\uc2e0\\ub098\\ub294']\",\"['\\ud589\\ubcf5\\ud55c']\"],[\"\\ube44\\uc8fc\\uc5bc\\ub4dc\\ub9bc (POP! POP!) - Intel \\ucf5c\\ub77c\\ubcf4\\ub808\\uc774\\uc158\\uc1a1\",\"\\uc18c\\ub140\\uc2dc\\ub300 (GIRLS` GENERATION)\",\"['\\ub304\\uc2a4']\",\"['\\uacbd\\ucf8c\\ud55c']\"],[\"Grrr \\ucd1d\\ub7c9\\uc758 \\ubc95\\uce59\",\"Stray Kids (\\uc2a4\\ud2b8\\ub808\\uc774 \\ud0a4\\uc988)\",\"['\\uc794\\uc794\\ud55c', '\\uae30\\ubd84\\uc804\\ud658', '\\uc2e0\\ub098\\ub294']\",\"['\\ud589\\ubcf5\\ud55c']\"],[\"\\ub450\\ub824\\uc6cc\\uc9c8\\ub9cc\\ud07c (2017)\",\"\\uc288\\uac00\\ubcfc\",\"['\\ubc24', '\\uc0c8\\ubcbd', '\\uce74\\ud398', '\\uc794\\uc794\\ud55c']\",\"['\\uc794\\uc794\\ud55c']\"],[\"Burn\",\"\\uc120\\ubbf8\",\"['\\uc0ac\\ub791', '\\ubc24', '\\uc124\\ub818', '\\uc0c8\\ubcbd', '\\uc5ec\\ud589', '\\uae30\\ubd84\\uc804\\ud658', '\\uc0b0\\ucc45', '\\uc2a4\\ud2b8\\ub808\\uc2a4', '\\uc6b4\\ub3d9', '\\uc774\\ubcc4', '\\ud68c\\uc0c1']\",\"['\\ud589\\ubcf5\\ud55c']\"],[\"\\uc5bc\\ub9c8\\ub098 \\uc794\\uc778\\ud55c \\uc778\\uc0dd\\uc778\\uac00\",\"\\ubc15\\uac74\\ud615\",\"['\\ud790\\ub9c1', '\\ud734\\uc2dd', '\\uae30\\ubd84\\uc804\\ud658']\",\"['\\ud589\\ubcf5\\ud55c']\"],[\"\\ub110 \\uc704\\ud574 (Feat. \\uc804\\uc9c0\\ud61c)\",\"\\uc815\\ud76c\\ub3d9\",\"['\\ud654\\uc774\\ud305']\",\"['\\uacbd\\ucf8c\\ud55c']\"],[\"\\uc774\\ubcc4\\uc774\\ub798\",\"\\uc1a1\\uc18c\\ud76c, \\uace0\\uc601\\uc5f4\",\"['\\uc774\\ubcc4', '\\uae30\\ubd84\\uc804\\ud658']\",\"['\\uc6b0\\uc6b8\\ud55c', '\\ud589\\ubcf5\\ud55c']\"],[\"WAY OF STEEL\",\"\\ud53c\\ud574\\uc758\\uc2dd\",\"['\\ud765\\uaca8\\uc6b4', '\\uc2a4\\ud2b8\\ub808\\uc2a4', '\\ubc34\\ub4dc', '\\ud398\\uc2a4\\ud2f0\\ubc8c', '\\uae30\\ubd84\\uc804\\ud658', '\\uc2e0\\ub098\\ub294']\",\"['\\uacbd\\ucf8c\\ud55c']\"],[\"NEVER\",\"\\uad6d\\ubbfc\\uc758 \\uc544\\ub4e4\",\"['\\uc2e0\\ub098\\ub294']\",\"['\\ud589\\ubcf5\\ud55c']\"],[\"\\ub9c8\\uc8fc\\uccd0\\ub3c4\",\"\\ub370\\uc774\\ubb34\\ub4dc\",\"['\\uc0b0\\ucc45', '\\ucee4\\ud53c', '\\uc624\\ud6c4', '\\uc2ac\\ud514', '\\uc774\\ubcc4']\",\"['\\ud589\\ubcf5\\ud55c', '\\uc6b0\\uc6b8\\ud55c']\"],[\"Night With You\",\"\\uc2a4\\ucf00\\uc904\\uc6d0 (Schedule 1), \\uc784\\uc9c0\\uc548 (LIM ZIAN)\",\"['\\uc9d1\\uc911', '\\ud734\\uc2dd', '\\ubc24', '\\uc794\\uc794\\ud55c', '\\ub3c5\\uc11c', '\\uac10\\uc131\\uc801\\uc778']\",\"['\\uc794\\uc794\\ud55c']\"],[\"\\uae30\\ub3c4\",\"\\uc2e0\\ud654\",\"['\\uaca8\\uc6b8']\",\"['\\uc794\\uc794\\ud55c']\"],[\"To Have So Many\",\"John Smith\",\"['\\uce74\\ud398']\",\"['\\uc794\\uc794\\ud55c']\"],[\"\\ud718\\ud30c\\ub78c\",\"\\ub9f5\\uc2dd\\uc2a4 (MAP6)\",\"['\\ud5ec\\uc2a4', '\\ud5ec\\uc2a4\\uc7a5', '\\uc6b4\\ub3d9', '\\ubd88\\uae08']\",\"['\\uacbd\\ucf8c\\ud55c']\"],[\"\\ubc14\\ub78c\\ubd80\\ub294 \\ub0a0\",\"\\ud558\\ube44\\ub204\\uc544\\uc8fc\",\"['\\ubc24', '\\uc794\\uc794\\ud55c']\",\"['\\ubb34\\uc11c\\uc6b4', '\\uc794\\uc794\\ud55c']\"],[\"X\",\"\\uc2a4\\ubb34\\uc0b4\",\"['\\uc794\\uc794\\ud55c']\",\"['\\uc794\\uc794\\ud55c']\"],[\"\\uc870\\uc544? \\uc870\\uc544!\",\"DIA (\\ub2e4\\uc774\\uc544)\",\"['\\uc2e0\\ub098\\ub294']\",\"['\\ud589\\ubcf5\\ud55c']\"],[\"Never Let You Go (Jack Wins Remix) (Feat. John Newman)\",\"Kygo\",\"['\\uc5ec\\ub984', '\\ubc24', '\\ub4dc\\ub77c\\uc774\\ube0c', '\\uae30\\ubd84\\uc804\\ud658', '\\ub0b4\\uc801\\ub304\\uc2a4']\",\"['\\ud589\\ubcf5\\ud55c']\"],[\"All About\",\"\\uba5c\\ub85c\\ub514\\ub370\\uc774 (MelodyDay)\",\"['\\uae30\\ubd84\\uc804\\ud658']\",\"['\\ud589\\ubcf5\\ud55c']\"],[\"Playinwitme (Remix) [feat. Jay Park]\",\"KYLE\",\"['\\uae30\\ubd84\\uc804\\ud658']\",\"['\\ud589\\ubcf5\\ud55c']\"],[\"\\uadf8\\ub807\\uac8c \\uc6c3\\uc5b4\\uc918\",\"\\uad8c\\uc21c\\uad00\",\"['\\uc0c8\\ubcbd']\",\"['\\uc6b0\\uc6b8\\ud55c']\"],[\"Midnight Sun\",\"\\uc138\\ube10\\uc5b4\\ud074\\ub77d\",\"['\\uc5f0\\ub9d0', '\\ucda4', '\\ub304\\uc2a4', '\\uae30\\ubd84\\uc804\\ud658', '\\uc2e0\\ub098\\ub294']\",\"['\\ud589\\ubcf5\\ud55c']\"],[\"\\uc544\\ub2cc\\uac78 \\uc54c\\uba74\\uc11c\\ub3c4\",\"\\ud0c0\\uc784\\ube0c\\ub9bf\\uc9c0\",\"['\\uc774\\ubcc4']\",\"['\\uc6b0\\uc6b8\\ud55c']\"],[\"Rise And Shine\",\"Deorro\",\"['\\ud074\\ub7fd', '\\ub4dc\\ub77c\\uc774\\ube0c', '\\uae30\\ubd84\\uc804\\ud658']\",\"['\\ud589\\ubcf5\\ud55c']\"],[\"Bus\",\"\\uc804\\uc9c0\\uc724 (JENYER)\",\"['\\ub304\\uc2a4']\",\"['\\uacbd\\ucf8c\\ud55c']\"],[\"Jo\",\"Goldfrapp\",\"['\\uc124\\ub818', '\\uc0ac\\ub791', '\\uac10\\uc131\\uc801\\uc778', '\\uac00\\uc744']\",\"['\\ud589\\ubcf5\\ud55c', '\\uc794\\uc794\\ud55c']\"],[\"\\ud6c4\\ud68c\\ud558\\uace0 \\uc788\\ub294\\uac70\\uc57c (Remake)\",\"\\uc724\\ud654\\uc7ac\\uc778\",\"['\\uc800\\ub141', '\\uc124\\ub808\\uc784', '\\uae30\\uc5b5', '\\ucd94\\uc5b5', '\\ud68c\\uc0c1']\",\"['\\uc794\\uc794\\ud55c']\"],[\"\\uc2e0\\ub370\\ub810\\ub77c\\uc640 \\uc655\\uc790\\uc758 \\uc0ac\\ub791\\ub178\\ub798\",\"\\uadf9\\ub2e8 \\uc6d0\\uacf5\",\"['\\ubba4\\uc9c0\\uceec']\",\"['\\uacbd\\ucf8c\\ud55c']\"],[\"\\uc0ac\\ub791\\uc544\",\"\\uc641\\uc2a4\",\"['\\uc2ac\\ud514', '\\ucd94\\uc5b5', '\\uc774\\ubcc4']\",\"['\\uc6b0\\uc6b8\\ud55c']\"],[\"\\uc791\\uc740\\ubcc4 Remix (Heenain Ver.)\",\"\\ud33b\\ub450, heenain \\ud788\\ub098\\uc778\",\"['\\uc124\\ub818', '\\uc0ac\\ub791', '\\ucd94\\uc5b5']\",\"['\\ud589\\ubcf5\\ud55c']\"],[\"\\ud750\\ub838\\ub2e4 \\uac2c\",\"\\uc1fc\\uae30\",\"['\\uc124\\ub818', '\\uc0ac\\ub791', '\\ubc24', '\\uc794\\uc794\\ud55c', '\\uacf5\\ubd80']\",\"['\\ud589\\ubcf5\\ud55c', '\\uc794\\uc794\\ud55c']\"],[\"Freedom (Edit) (Feat. Jack McManus)\",\"Afrojack, D-wayne\",\"['\\uc2a4\\ud2b8\\ub808\\uc2a4']\",\"['\\uae34\\uc7a5\\ub418\\ub294']\"],[\"\\uc9c0\\uae08 \\uc804\\ud654\\ud574\\uc694 (With \\uc774\\ud5a5\\uc720)\",\"\\ud1a0\\ub9ac\\ub178\",\"['\\ubc24', '\\uc0c8\\ubcbd', '\\uadf8\\ub9ac\\uc6c0', '\\uc2ac\\ud514', '\\uc774\\ubcc4']\",\"['\\uc6b0\\uc6b8\\ud55c']\"],[\"\\ube14\\ub77c\\ub514\\ubcf4\\uc2a4\\ud1a1\\uc758 \\ubd04\\ub178\\ub798\",\"\\ubc15\\uc6a9\\uc804\",\"['\\ubd04']\",\"['\\ud589\\ubcf5\\ud55c']\"],[\"\\uc138\\uc6d4\\uc774 \\ud758\\ub7ec\",\"\\ucc28\\uc9c0\\uc5f0\",\"['\\ubba4\\uc9c0\\uceec']\",\"['\\uacbd\\ucf8c\\ud55c']\"],[\"\\uac00\\uc744 \\uc5d4\\ub529\",\"\\ub9ac\\ubbf8\\ud2b8\",\"['\\ub304\\uc2a4', '\\ub178\\ub3d9\\uc694', '\\uc2e0\\ub098\\ub294']\",\"['\\uacbd\\ucf8c\\ud55c', '\\uae34\\uc7a5\\ub418\\ub294', '\\ud589\\ubcf5\\ud55c']\"],[\"8:45 Heaven\",\"\\ub4dc\\ub801\\ud070 \\ud0c0\\uc774\\uac70\",\"['\\ucd94\\uc5b5']\",\"['\\ud589\\ubcf5\\ud55c']\"],[\"\\ub2e4\\uc774\\ube59\",\"\\ube44\\ubc84 (Beaver)\",\"['\\uc794\\uc794\\ud55c', '\\ubc24', '\\uc0c8\\ubcbd', '\\ubd84\\uc704\\uae30', '\\ubabd\\ud658', '\\ud734\\uc2dd', '\\ud790\\ub9c1', '\\uae4c\\ud398']\",\"['\\uc794\\uc794\\ud55c']\"],[\"Must Say Good-Bye\",\"\\uae40\\ud604\\ucca0\",\"['\\ucd94\\uc5b5']\",\"['\\ud589\\ubcf5\\ud55c']\"],[\"Give Me Your Love (Feat. John Newman & Nile Rodgers)\",\"Sigala\",\"['\\uae30\\ubd84\\uc804\\ud658']\",\"['\\ud589\\ubcf5\\ud55c']\"],[\"I Did It For Love (Feat. Sean Garrett)\",\"\\ubcf4\\uc544 (BoA)\",\"['\\ub304\\uc2a4', '\\uc124\\ub818', '\\uc0ac\\ub791', '\\uc194\\ub85c']\",\"['\\ud589\\ubcf5\\ud55c']\"],[\"Where Is My Love\",\"\\uc2a4\\ud2f0 (STi)\",\"['\\ud734\\uc2dd', '\\ud790\\ub9c1']\",\"['\\uc794\\uc794\\ud55c', '\\ud589\\ubcf5\\ud55c']\"],[\"Gasoline\",\"Troye Sivan\",\"['\\uc0c8\\ubcbd']\",\"['\\uc6b0\\uc6b8\\ud55c']\"],[\"Sweet Words\",\"HYDN\",\"['\\ubc34\\ub4dc', '\\uc794\\uc794\\ud55c', '\\ubc24', '\\uc0c8\\ubcbd', '\\ubd84\\uc704\\uae30', '\\uaca8\\uc6b8\\ubc24']\",\"['\\uc794\\uc794\\ud55c']\"],[\"\\ube14\\ub8e8\\uc9c4\",\"\\ub514\\uc5b4\\ud074\\ub77c\\uc6b0\\ub4dc\",\"['\\uae30\\ubd84\\uc804\\ud658']\",\"['\\ud589\\ubcf5\\ud55c']\"],[\"Plane\",\"Jason Mraz\",\"['\\uc0c8\\ubcbd']\",\"['\\uc6b0\\uc6b8\\ud55c']\"],[\"\\uc5f4\\uc560\\uc911\",\"\\ubca4\",\"['\\uc774\\ubcc4']\",\"['\\uc6b0\\uc6b8\\ud55c']\"],[\"Lovin Ice Cream\",\"\\uc560\\uc988\\uc6d0, \\uc774\\uc9c0\\ub77c\\uc774\\ud504\",\"['\\uc124\\ub818', '\\uc0ac\\ub791']\",\"['\\ud589\\ubcf5\\ud55c']\"],[\"\\ubc9a\\uaf43\\uc774 \\ud53c\\uba74\",\"\\uc720\\ud615\\uade0\",\"['\\uce74\\ud398', '\\ubc9a\\uaf43', '\\uae30\\ubd84\\uc804\\ud658']\",\"['\\ud589\\ubcf5\\ud55c']\"],[\"Don`t act\",\"\\uc7a5\\uc6b0\\uc601\",\"['\\uaca8\\uc6b8', '\\uc794\\uc794\\ud55c', '\\ucd94\\uc5b5', '\\ub4dc\\ub77c\\uc774\\ube0c', '\\uc704\\ub85c', '\\uae30\\ubd84\\uc804\\ud658', '\\uc0ac\\ub791']\",\"['\\ud589\\ubcf5\\ud55c']\"],[\"\\ub09c \\uc88b\\uc544\",\"god\",\"['\\uc124\\ub818', '\\uc0ac\\ub791']\",\"['\\ud589\\ubcf5\\ud55c']\"],[\"\\uce74\\ud478\\uce58\\ub178 (Cappuccino)\",\"BGM4\",\"['\\ud790\\ub9c1', '\\ucd94\\uc5b5', '\\ud734\\uc2dd', '\\ud68c\\uc0c1']\",\"['\\ud589\\ubcf5\\ud55c', '\\uc794\\uc794\\ud55c']\"],[\"Feel So Good\",\"\\ud06c\\ub098\\ud070\",\"['\\uc5ec\\ub984']\",\"['\\uacbd\\ucf8c\\ud55c']\"],[\"Karma (Feat. \\uc0c1\\ubbfc)\",\"\\uc6a9\\uc11d\",\"['\\uae30\\ubd84\\uc804\\ud658']\",\"['\\ud589\\ubcf5\\ud55c']\"],[\"Shame (Live At The Mac)\",\"Ciaran Lavery\",\"['\\uc13c\\uce58']\",\"['\\uc6b0\\uc6b8\\ud55c']\"],[\"Triumph (Explicit Ver.) (Feat. Cappadonna)\",\"Wu-Tang Clan\",\"['\\ud074\\ub7fd', '\\ubd84\\uc704\\uae30', '\\ud38d', '\\uc2e0\\ub098\\ub294']\",\"['\\uacbd\\ucf8c\\ud55c']\"],[\"Live\",\"\\uce74\\ub77c\",\"['\\ub304\\uc2a4', '\\ud790\\ub9c1']\",\"['\\uacbd\\ucf8c\\ud55c', '\\ud589\\ubcf5\\ud55c']\"],[\"Live\",\"\\uce74\\ub77c\",\"['\\ub304\\uc2a4', '\\ud790\\ub9c1']\",\"['\\uacbd\\ucf8c\\ud55c', '\\ud589\\ubcf5\\ud55c']\"],[\"Live\",\"\\uce74\\ub77c\",\"['\\ub304\\uc2a4', '\\ud790\\ub9c1']\",\"['\\uacbd\\ucf8c\\ud55c', '\\ud589\\ubcf5\\ud55c']\"],[\"Live\",\"\\uce74\\ub77c\",\"['\\ub304\\uc2a4', '\\ud790\\ub9c1']\",\"['\\uacbd\\ucf8c\\ud55c', '\\ud589\\ubcf5\\ud55c']\"],[\"Live\",\"\\uce74\\ub77c\",\"['\\ub304\\uc2a4', '\\ud790\\ub9c1']\",\"['\\uacbd\\ucf8c\\ud55c', '\\ud589\\ubcf5\\ud55c']\"],[\"Live\",\"\\uce74\\ub77c\",\"['\\ub304\\uc2a4', '\\ud790\\ub9c1']\",\"['\\uacbd\\ucf8c\\ud55c', '\\ud589\\ubcf5\\ud55c']\"],[\"Live\",\"\\uce74\\ub77c\",\"['\\ub304\\uc2a4', '\\ud790\\ub9c1']\",\"['\\uacbd\\ucf8c\\ud55c', '\\ud589\\ubcf5\\ud55c']\"],[\"Live\",\"\\uce74\\ub77c\",\"['\\ub304\\uc2a4', '\\ud790\\ub9c1']\",\"['\\uacbd\\ucf8c\\ud55c', '\\ud589\\ubcf5\\ud55c']\"],[\"\\uadf8\\ub9ac\\uc6c0\\uc774 \\ub2ff\\ub294 \\uacf3\\uc5d0\",\"\\uc778\\ud53c\\ub2c8\\ud2b8\",\"['\\uae30\\ubd84\\uc804\\ud658']\",\"['\\ud589\\ubcf5\\ud55c']\"],[\"Mojito (Feat.\\ud558\\ub298)\",\"\\ud558\\uc6b0\\uc2a4\\ub8f0\\uc988 (House Rulez)\",\"['\\uae30\\ubd84\\uc804\\ud658']\",\"['\\ud589\\ubcf5\\ud55c']\"],[\"Maybe Baby (New Year`s Day)\",\"Sugarland\",\"['\\ud790\\ub9c1', '\\ud734\\uc2dd', '\\uae30\\ubd84\\uc804\\ud658']\",\"['\\ud589\\ubcf5\\ud55c']\"],[\"The One\",\"SS501\",\"['\\uae30\\ubd84\\uc804\\ud658']\",\"['\\ud589\\ubcf5\\ud55c']\"],[\"The Moment\",\"Kenny G\",\"['\\ucd94\\uc5b5', '\\ud68c\\uc0c1', '\\uc8fc\\ub9d0', '\\uc5f0\\uc778', '\\ub370\\uc774\\ud2b8', '\\uae08\\uc694\\uc77c']\",\"['\\ud589\\ubcf5\\ud55c']\"],[\"Quicksand\",\"Caro Emerald\",\"['\\ud734\\uc2dd']\",\"['\\uc794\\uc794\\ud55c']\"],[\"One More Time\",\"\\ub808\\uc778\\ubcf4\\uc6b0\",\"['\\uaca8\\uc6b8']\",\"['\\uc794\\uc794\\ud55c']\"],[\"HURT (\\u50b7\\u5bb3)\",\"EXO\",\"['\\uc2a4\\ud2b8\\ub808\\uc2a4']\",\"['\\uae34\\uc7a5\\ub418\\ub294']\"],[\"\\uc18c\\ub140\\uc2dc\\ub300 (Girls` Generation)\",\"\\uc18c\\ub140\\uc2dc\\ub300 (GIRLS` GENERATION)\",\"['\\ucd94\\uc5b5']\",\"['\\ud589\\ubcf5\\ud55c']\"],[\"\\ubaa8\\ucc28\\ub974\\ud2b8! \\ubaa8\\ucc28\\ub974\\ud2b8!\",\"\\uc2e0\\uc601\\uc219, \\uae40\\uc2b9\\ub300, \\uc559\\uc0c1\\ube14\",\"['\\ud790\\ub9c1', '\\ud734\\uc2dd', '\\uae30\\ubd84\\uc804\\ud658']\",\"['\\ud589\\ubcf5\\ud55c']\"],[\"\\ub290\\ub08c\",\"S.E.S.\",\"['\\ucd94\\uc5b5', '\\uae30\\ubd84\\uc804\\ud658', '\\ud68c\\uc0c1', '\\ub304\\uc2a4']\",\"['\\ud589\\ubcf5\\ud55c']\"],[\"\\uc774 \\uc8fd\\uc77c\\ub188\\uc758 \\uc0ac\\ub791 (\\uc774\\uc218\\uc601 7\\uc9d1)\",\"\\uc774\\uc218\\uc601\",\"['\\uc774\\ubcc4']\",\"['\\uc6b0\\uc6b8\\ud55c']\"],[\"5\\uc6d4\\uc758 \\ud587\\uc0b4\",\"\\uc378\\uba38\\ub4dc\\ub808\\uc2a4\",\"['\\ube44\\uc624\\ub294\\ub0a0', '\\uae4c\\ud398', '\\ud790\\ub9c1', '\\ud734\\uc2dd', '\\uc794\\uc794\\ud55c']\",\"['\\uc794\\uc794\\ud55c']\"],[\"\\ud6c4\\ud68c\",\"\\ud130\\ubcf4\",\"['\\ub304\\uc2a4']\",\"['\\uacbd\\ucf8c\\ud55c']\"],[\"Open Season\",\"High Highs\",\"['\\uc0b0\\ucc45', '\\uaca8\\uc6b8', '\\uc794\\uc794\\ud55c']\",\"['\\uc794\\uc794\\ud55c']\"],[\"\\uc6b0\\uc5f0\\ud788 \\ub9c8\\uc8fc\\uce5c \\ub2ec\",\"\\uac15\\ud0dc\\uc6b0\",\"['\\uc774\\ubcc4', '\\ubc34\\ub4dc']\",\"['\\uc6b0\\uc6b8\\ud55c', '\\uacbd\\ucf8c\\ud55c']\"],[\"\\uadf8 \\ube5b\\uc744 \\ub530\\ub77c\\uc11c\",\"\\ub9ac\\uc0ac, \\uc774\\ucc3d\\ubbfc\",\"['\\ubba4\\uc9c0\\uceec', '\\uc0ac\\ub791']\",\"['\\uacbd\\ucf8c\\ud55c', '\\ud589\\ubcf5\\ud55c']\"],[\"\\uace0\\uace0\\ubca0\\ubca0 (gogobebe)\",\"\\ub9c8\\ub9c8\\ubb34 (Mamamoo)\",\"['\\uc2e0\\ub098\\ub294']\",\"['\\ud589\\ubcf5\\ud55c']\"],[\"\\uc0ac\\ub791\\uc744 \\ub9d0\\ud574\\uc694\",\"\\ube0c\\ub77c\\uc6b4 \\uc544\\uc774\\uc988\",\"['\\uc5ec\\ub984', '\\ube44', '\\uc0ac\\ub791', '\\uc774\\ubcc4', '\\ud790\\ub9c1', '\\uc794\\uc794\\ud55c']\",\"['\\uc6b0\\uc6b8\\ud55c', '\\ud589\\ubcf5\\ud55c']\"],[\"Love\",\"Marsha Ambrosius\",\"['\\uaf43', '\\uc0ac\\ub791']\",\"['\\ud589\\ubcf5\\ud55c']\"],[\"\\ud558\\ub298\\uc544 \\uc81c\\ubc1c\",\"\\uba3c\\ub370\\uc774 \\ud0a4\\uc988 (Monday Kiz)\",\"['\\ucd94\\uc5b5', '\\uc774\\ubcc4']\",\"['\\ud589\\ubcf5\\ud55c', '\\uc6b0\\uc6b8\\ud55c']\"],[\"Christmas With You\",\"SE7EN\",\"['\\uaca8\\uc6b8']\",\"['\\uc794\\uc794\\ud55c']\"],[\"Don`t Let Me Forget (Feat. Hunter Hayes)\",\"Catherine McGrath\",\"['\\ud790\\ub9c1']\",\"['\\ud589\\ubcf5\\ud55c']\"],[\"Appreciate Your Hands\",\"Amy Kuney\",\"['\\ube44\\uc624\\ub294\\ub0a0', '\\uae4c\\ud398']\",\"['\\uc6b0\\uc6b8\\ud55c', '\\uc794\\uc794\\ud55c']\"],[\"Iridescent\",\"LINKIN PARK\",\"['\\ud734\\uc2dd', '\\ud790\\ub9c1', '\\uae30\\ubd84\\uc804\\ud658']\",\"['\\ud589\\ubcf5\\ud55c']\"],[\"\\uaca8\\uc6b0...\",\"\\ucd5c\\ubb38\\uc11d\",\"['\\uc794\\uc794\\ud55c']\",\"['\\uc794\\uc794\\ud55c']\"],[\"\\uc548\\ub155\\uc758 \\ubc29\\uc2dd (Ways to Say Goodbye)\",\"\\uaddc\\ud604 (KYUHYUN)\",\"['\\uc774\\ubcc4']\",\"['\\uc6b0\\uc6b8\\ud55c']\"],[\"\\uc624\\ub298\\ubc24\",\"5who\",\"['\\uae4c\\ud398']\",\"['\\uc794\\uc794\\ud55c']\"],[\"\\ub2e4\\uc2dc \\uc0ac\\ub791\\ud55c\\ub2e4 \\ub9d0\\ud560\\uae4c\",\"\\uae40\\ub3d9\\ub960\",\"['\\ucd94\\uc5b5']\",\"['\\ud589\\ubcf5\\ud55c']\"],[\"\\ubc14\\ub78c\\uc778\\uac00\",\"\\uc2e0\\ucd0c \\ube14\\ub8e8\\uc2a4\",\"['\\uac00\\uc744\\uac10\\uc131', '\\uac00\\uc744', '\\uac00\\uc744\\ubc24', '\\ucd94\\uc5b5']\",\"['\\uc794\\uc794\\ud55c']\"],[\"Don`t Cry\",\"\\ubc15\\ubd04\",\"['\\ucd94\\uc5b5', '\\uae30\\ubd84\\uc804\\ud658']\",\"['\\ud589\\ubcf5\\ud55c']\"],[\"\\ub9d0\\ud558\\uc138\\uc694\",\"\\uc6b0\\ucfe8\\ub810\\ub808 \\ud53c\\ud06c\\ub2c9\",\"['\\uc794\\uc794\\ud55c']\",\"['\\uc794\\uc794\\ud55c']\"],[\"\\ud654\\ub824\\ud55c \\uac00\\uba74\",\"\\uc591\\uc18c\\ubbfc, \\ubc15\\uc778\\ubc30\",\"['\\ud790\\ub9c1', '\\ud734\\uc2dd', '\\uae30\\ubd84\\uc804\\ud658']\",\"['\\ud589\\ubcf5\\ud55c']\"],[\"Stay (Feat. Maty Noyes)\",\"Kygo\",\"['\\ub4dc\\ub77c\\uc774\\ube0c']\",\"['\\ud589\\ubcf5\\ud55c']\"],[\"HEY, SUMMER\",\"JBJ95\",\"['\\ub4dc\\ub77c\\uc774\\ube0c']\",\"['\\ud589\\ubcf5\\ud55c']\"],[\"Outro : Love is Not Over\",\"\\ubc29\\ud0c4\\uc18c\\ub144\\ub2e8\",\"['\\uc0c8\\ubcbd']\",\"['\\uc6b0\\uc6b8\\ud55c']\"],[\"Self\",\"Jon Wiilde\",\"['\\uc5ec\\ub984', '\\uc800\\ub141', '\\uc5f4\\ub300\\uc57c', '\\ub4dc\\ub77c\\uc774\\ube0c', '\\uc2dc\\uc6d0\\ud55c']\",\"['\\uacbd\\ucf8c\\ud55c']\"],[\"Fireworks\",\"First Aid Kit\",\"['\\uc0c8\\ubcbd', '\\ub4dc\\ub77c\\uc774\\ube0c', '\\uae30\\ubd84\\uc804\\ud658']\",\"['\\ud589\\ubcf5\\ud55c']\"],[\"\\ub124 \\uc0dd\\uac01\\uc73c\\ub85c \\uba48\\ucd94\\uc9c0 \\uc54a\\ub294 \\ubc24 (Feat. 109)\",\"\\uc18c\\uac01\\uc18c\\uac01\",\"['\\uc0c8\\ubcbd']\",\"['\\uc6b0\\uc6b8\\ud55c']\"],[\"\\ud63c\\uc790\\uc77c \\ub54c (Feat. \\uc7a5\\uc218\\ud604 On Violin)\",\"\\ub85c\\ub9e8\\ud2f1\\ubaa8\\uba3c\\ud2b8\",\"['\\uaca8\\uc6b8', '\\uc5ec\\ud589', '\\uc0b0\\ucc45']\",\"['\\ud589\\ubcf5\\ud55c']\"],[\"\\ud478\\ub978 \\ud559\\uc740 \\uad6c\\ub984 \\uc18d\\uc5d0 \\uc6b0\\ub294\\ub370\",\"\\ubc15\\uc740\\ud0dc\",\"['\\ubba4\\uc9c0\\uceec', '\\ud790\\ub9c1']\",\"['\\uacbd\\ucf8c\\ud55c', '\\ud589\\ubcf5\\ud55c']\"],[\"\\ud589\\ubcf5\\ud55c \\uc77c\\uc740 \\ub9e4\\uc77c \\uc788\\uc5b4 (With \\ud53c\\ud130\\ud55c)\",\"\\ud0c0\\ub9b0\",\"['\\ud790\\ub9c1']\",\"['\\ud589\\ubcf5\\ud55c']\"],[\"\\ud53c\\ub9db\\uace8\",\"Various Artists\",\"['\\ubba4\\uc9c0\\uceec']\",\"['\\uacbd\\ucf8c\\ud55c']\"],[\"Wake Up (Feat. DEAN)\",\"Crush\",\"['\\uce74\\ud398']\",\"['\\uc794\\uc794\\ud55c']\"],[\"\\uc0ac\\ub791 \\ub0b4 \\uc0ac\\ub791\",\"\\ubb38\\ud61c\\uc6d0, \\uc815\\uc778\\ud638\",\"['\\uac10\\ub3d9', '\\ubba4\\uc9c0\\uceec']\",\"['\\ud589\\ubcf5\\ud55c', '\\uacbd\\ucf8c\\ud55c']\"],[\"No Way (With Untouchable, \\uc11c\\uc9c0\\uc601)\",\"\\ud504\\ub77c\\uc774\\uba38\\ub9ac \\uc2a4\\ucf54\\uc5b4\",\"['\\uc0ac\\ub791', '\\ubc24', '\\uc124\\ub818', '\\uc0c8\\ubcbd']\",\"['\\ud589\\ubcf5\\ud55c']\"],[\"\\ub10c \\uc544\\ub984\\ub2e4\\uc6cc\",\"\\uc774\\uc0c1\\uc740\",\"['\\uae30\\ubd84\\uc804\\ud658', '\\ub4dc\\ub77c\\uc774\\ube0c']\",\"['\\ud589\\ubcf5\\ud55c']\"],[\"2 minutes of hell (Feat. Paul Blanco)\",\"\\ucc3d\\ubaa8 (CHANGMO)\",\"['\\ub4dc\\ub77c\\uc774\\ube0c']\",\"['\\ud589\\ubcf5\\ud55c']\"],[\"Up N Down\",\"\\uc2a4\\ud53c\\uce74\",\"['\\uae30\\ubd84\\uc804\\ud658', '\\uc6b4\\ub3d9']\",\"['\\ud589\\ubcf5\\ud55c', '\\uacbd\\ucf8c\\ud55c']\"],[\"\\uc18c\\uc6b0\\uc8fc (Mikrokosmos)\",\"\\ubc29\\ud0c4\\uc18c\\ub144\\ub2e8\",\"['\\uae30\\ubd84\\uc804\\ud658']\",\"['\\ud589\\ubcf5\\ud55c']\"],[\"My Christmas (\\uadf8\\ub807\\uac8c \\ud560\\ub798)\",\"\\uc815\\ub2e8\\uc601, \\uc774\\uc8fc\\uad11\",\"['\\ubba4\\uc9c0\\uceec']\",\"['\\uacbd\\ucf8c\\ud55c']\"],[\"\\uaca8\\uc6b8\\uc744 \\uac77\\ub294\\ub2e4 (\\uc2a4\\ud29c\\ub514\\uc624 \\ub77c\\uc774\\ube0c \\ubc84\\uc804)\",\"\\uc724\\ub534\\ub534\",\"['\\uae30\\ubd84\\uc804\\ud658']\",\"['\\ud589\\ubcf5\\ud55c']\"],[\"Lucy\",\"Ten Tonnes\",\"['\\uae30\\ubd84\\uc804\\ud658', '\\ub4dc\\ub77c\\uc774\\ube0c', '\\ud53c\\ud06c\\ub2c9', '\\uac00\\uc744', '\\uce74\\ud398', '\\uc0b0\\ucc45']\",\"['\\ud589\\ubcf5\\ud55c']\"],[\"Trust Me (Feat. Ty Dolla $ign)\",\"Bhad Bhabie\",\"['\\uc2a4\\ud2b8\\ub808\\uc2a4']\",\"['\\uae34\\uc7a5\\ub418\\ub294']\"],[\"Blue Hawaii (Feat. Crush, PENOMECO) (Prod. by 0channel)\",\"\\ud380\\uce58\\ub12c\\ub85c (punchnello)\",\"['\\uae30\\ubd84\\uc804\\ud658']\",\"['\\ud589\\ubcf5\\ud55c']\"],[\"Remember\",\"\\ud654\\ub780 (Hwaran)\",\"['\\uae30\\ubd84\\uc804\\ud658', '\\uae4c\\ud398']\",\"['\\ud589\\ubcf5\\ud55c', '\\uc794\\uc794\\ud55c']\"],[\"Joy To The World\",\"Michael Bolton\",\"['\\uaca8\\uc6b8']\",\"['\\uc794\\uc794\\ud55c']\"],[\"Young & Free (Inst.)\",\"\\uc2dc\\uc6b0\\ubbfc (XIUMIN), \\ub9c8\\ud06c (MARK)\",\"['\\ud734\\uc2dd', '\\uc6b4\\ub3d9', '\\ub4dc\\ub77c\\uc774\\ube0c', '\\uacf5\\ubd80', '\\uae30\\ubd84\\uc804\\ud658']\",\"['\\uc794\\uc794\\ud55c', '\\ud589\\ubcf5\\ud55c']\"],[\"In The Night\",\"The Weeknd\",\"['\\uae30\\ubd84\\uc804\\ud658']\",\"['\\ud589\\ubcf5\\ud55c']\"],[\"\\uac00\\ub054\\uc529\",\"\\uc81c\\uc774\\ube44\",\"['\\uae4c\\ud398']\",\"['\\uc794\\uc794\\ud55c']\"],[\"\\ub791\\ub370\\ubdf0\",\"\\uc591\\ud61c\\uc2b9\",\"['\\ub304\\uc2a4']\",\"['\\uacbd\\ucf8c\\ud55c']\"],[\"P.O.L (Power Of Love)\",\"\\ubcf4\\uc544 (BoA)\",\"['\\uc0ac\\ub791']\",\"['\\ud589\\ubcf5\\ud55c']\"],[\"\\uadf8\\ub807\\uc2b5\\ub2c8\\uae4c\",\"\\ud750\\ub978\",\"['\\uc0c8\\ubcbd']\",\"['\\uc6b0\\uc6b8\\ud55c']\"],[\"\\ub3c4\\ub451 (Thief)\",\"\\ube14\\ub77d\\ube44 \\ubc14\\uc2a4\\ud0c0\\uc988\",\"['\\ub4dc\\ub77c\\uc774\\ube0c']\",\"['\\ud589\\ubcf5\\ud55c']\"],[\"\\uc0ac\\uc774 (My Side) (Feat. oceanfromtheblue, ASH ISLAND, BRADYSTREET, Wonstein)\",\"HD BL4CK\",\"['\\uae30\\ubd84\\uc804\\ud658']\",\"['\\ud589\\ubcf5\\ud55c']\"],[\"Can You Hear Me?\",\"\\uc591\\ud30c\",\"['\\ud790\\ub9c1', '\\ud734\\uc2dd', '\\uc0ac\\ub791']\",\"['\\ud589\\ubcf5\\ud55c']\"],[\"Like A Wind\",\"\\uc5e0\\uc528\\ub354\\ub9e5\\uc2a4 (M.C the MAX)\",\"['\\ub4dc\\ub77c\\uc774\\ube0c']\",\"['\\ud589\\ubcf5\\ud55c']\"],[\"Town Of The Wind\",\"SPICY KICKIN`\",\"['\\uae30\\ubd84\\uc804\\ud658', '\\uc6b4\\ub3d9', '\\ub4dc\\ub77c\\uc774\\ube0c', '\\ud558\\ub8e8', '\\ucd9c\\uadfc\\uae38', '\\uc544\\uce68', '\\uc0c1\\ucf8c\\ud55c', '\\ud654\\uc774\\ud305', '\\uc8fc\\ub9d0', '\\uc794\\uc794\\ud55c']\",\"['\\ud589\\ubcf5\\ud55c']\"],[\"Yellow\",\"Coldplay\",\"['\\ud734\\uc2dd']\",\"['\\uc794\\uc794\\ud55c']\"],[\"\\uc18c\\uc8fc \\ud55c \\uc794\",\"\\uc784\\ucc3d\\uc815\",\"['\\uc774\\ubcc4']\",\"['\\uc6b0\\uc6b8\\ud55c']\"],[\"Girls Girls Girls (Feat. \\uba54\\uc774\\ucee4\\uc2ac)\",\"\\ub2ec\\uc0e4\\ubcb3\",\"['\\uae30\\ubd84\\uc804\\ud658', '\\uc6b4\\ub3d9']\",\"['\\ud589\\ubcf5\\ud55c', '\\uacbd\\ucf8c\\ud55c']\"],[\"\\uc0ac\\ub791\\uc774\\uc5c8\\ub358 \\uc2dc\\uc808 (Vocal \\uc124\\uacbd)\",\"\\uc720\\uc6a9\\ud638\",\"['\\uc794\\uc794\\ud55c', '\\uc0c8\\ubcbd', '\\uc704\\ub85c']\",\"['\\uc6b0\\uc6b8\\ud55c']\"],[\"Naked\",\"Nickea\",\"['\\uae4c\\ud398']\",\"['\\uc794\\uc794\\ud55c']\"],[\"\\uc0ac\\ub791 \\uac08\\ub4f1\",\"\\uc5c4\\uc815\\ud654\",\"['\\ub304\\uc2a4']\",\"['\\uacbd\\ucf8c\\ud55c']\"],[\"\\uc0dd\\uac01\\ud560 \\uc2dc\\uac04\",\"\\uc190\\ub3d9\\uc6b4, \\uc720\\uc8fc\\ud61c, \\uc774\\ubcd1\\uc900\",\"['\\ud790\\ub9c1', '\\ud734\\uc2dd', '\\uae30\\ubd84\\uc804\\ud658']\",\"['\\ud589\\ubcf5\\ud55c']\"],[\"\\uc0dd\\uac01\\ud574\\ubd24\\uc5b4\",\"\\ud55c\\ub3d9\\uadfc\",\"['\\uaca8\\uc6b8', '\\uc794\\uc794\\ud55c']\",\"['\\uc794\\uc794\\ud55c']\"],[\"Let It Out\",\"Ed Sheeran\",\"['\\ud734\\uc2dd', '\\ud790\\ub9c1']\",\"['\\uc794\\uc794\\ud55c', '\\ud589\\ubcf5\\ud55c']\"],[\"\\uad8c\\ud0dc \\uadf8 \\uc55e\\uc5d0\\uc120 \\uc6b0\\ub9ac (Radio Edit) (Bonus Track)\",\"\\ud30c\\ub2c8 \\ud551\\ud06c\",\"['\\uc2ac\\ud514', '\\uc774\\ubcc4']\",\"['\\uc6b0\\uc6b8\\ud55c']\"],[\"\\uadf8\\ub300 \\ub0b4 \\ub9d8\\uc5d0 \\ub4e4\\uc5b4\\uc624\\uba74\\uc740 (Feat. C-Luv)\",\"\\uc5e0\\ube14\\ub799\",\"['\\uae30\\ubd84\\uc804\\ud658', '\\uc0ac\\ub791', '\\uc2ac\\ud514', '\\uc774\\ubcc4', '\\ube44\\uc624\\ub294\\ub0a0']\",\"['\\uc6b0\\uc6b8\\ud55c']\"],[\"You In Me\",\"\\uce74\\ub4dc (KARD)\",\"['\\ub304\\uc2a4']\",\"['\\uacbd\\ucf8c\\ud55c']\"],[\"\\uadf8\\uac8c \\ub098\\uc758 \\uc804\\ubd80\\ub780 \\uac78 (Duet with \\uc625\\uc8fc\\ud604)\",\"\\ud64d\\uad11\\ud638\",\"['\\ubba4\\uc9c0\\uceec']\",\"['\\uacbd\\ucf8c\\ud55c']\"],[\"\\uc720\\uce58\\ud574\\ub3c4 (Prod. \\uc774\\ubbfc\\ud601 (\\ube44\\ud22c\\ube44))\",\"\\uc18c\\ud76c, \\uae40\\uc0c1\\uade0\",\"['\\uae30\\ubd84\\uc804\\ud658']\",\"['\\ud589\\ubcf5\\ud55c']\"],[\"\\uadf8\\ub294\\ub108\\uc758\\uafc8\",\"\\uc6b0\\uc8fc\\uc655\\ubcf5\\uc120\\uc2f8\\uc774\\ub4dc\\ubbf8\\ub7ec\",\"['\\ub4dc\\ub77c\\uc774\\ube0c', '\\ud734\\uc2dd', '\\uae30\\ubd84\\uc804\\ud658', '\\ubd84\\uc704\\uae30', '\\ud3b8\\uc548\\ud55c']\",\"['\\ud589\\ubcf5\\ud55c', '\\uc794\\uc794\\ud55c']\"],[\"Foolish Heart\",\"Steve Perry\",\"['\\ubc24', '\\uc0c8\\ubcbd']\",\"['\\ubb34\\uc11c\\uc6b4', '\\uc6b0\\uc6b8\\ud55c']\"],[\"\\ub098\\uc05c\\ub188\",\"\\uc785\\uc220\\uc744\\uae68\\ubb3c\\ub2e4\",\"['\\ucd9c\\uadfc\\uae38', '\\uc544\\uce68', '\\uc0c1\\ud07c\\ud55c', '\\uacbd\\ucf8c\\ud55c', '\\ub2ec\\ucf64\\ud55c', '\\uc5ec\\ub984', '\\ud734\\uc2dd', '\\ud53c\\ud06c\\ub2c9', '\\ud790\\ub9c1', '\\uae30\\ubd84\\uc804\\ud658', '\\uc77c\\uc0c1', '\\ud398\\uc2a4\\ud2f0\\ubc8c']\",\"['\\uacbd\\ucf8c\\ud55c']\"],[\"Life By The Drop\",\"Stevie Ray Vaughan & Double Trouble\",\"['\\uae30\\ubd84\\uc88b\\uc740', '\\ud765\\uaca8\\uc6b4', '\\uc5ec\\ud589', '\\uc990\\uac70\\uc6b4', '\\ubc1d\\uc740']\",\"['\\ud589\\ubcf5\\ud55c']\"],[\"Clouds\",\"One Direction\",\"['\\uae30\\ubd84\\uc804\\ud658']\",\"['\\ud589\\ubcf5\\ud55c']\"],[\"\\ud558\\uc9c0 \\ubabb\\ud558\\uace0\",\"\\uc18c\\uc19c\",\"['\\uc794\\uc794\\ud55c']\",\"['\\uc794\\uc794\\ud55c']\"],[\"Mood Swing (feat. sokodomo)\",\"Jade\",\"['\\uae30\\ubd84\\uc804\\ud658']\",\"['\\ud589\\ubcf5\\ud55c']\"],[\"\\uadf8\\ub54c\\ucc98\\ub7fc\",\"\\uc5ec\\ub514\\uc640 \\uc6b0\\ub9bc\",\"['\\ud734\\uc2dd']\",\"['\\uc794\\uc794\\ud55c']\"],[\"Part One Of The Cowboy Trilogy\",\"Sean Lennon\",\"['\\uaca8\\uc6b8', '\\uce74\\ud398', '\\uc6b0\\uc6b8']\",\"['\\uc794\\uc794\\ud55c']\"],[\"\\uc624\\ub298 \\ubc24\\uc5d4\",\"\\uc131\\uad11\\ud604\",\"['\\uc220', '\\uc0c8\\ubcbd', '\\ubabd\\ud658', '\\uce74\\ud398', '\\ucee4\\ud53c', '\\uae4c\\ud398']\",\"['\\uc794\\uc794\\ud55c']\"],[\"My Pace\",\"Stray Kids (\\uc2a4\\ud2b8\\ub808\\uc774 \\ud0a4\\uc988)\",\"['\\uc6b4\\ub3d9', '\\uc2e0\\ub098\\ub294']\",\"['\\uacbd\\ucf8c\\ud55c', '\\ud589\\ubcf5\\ud55c']\"],[\"\\ub108\\uc5d0\\uac8c \\uac00\\ub294 \\uae38\",\"\\uc774\\uc728, \\uc724\\ub098\\ubb34\",\"['\\ubba4\\uc9c0\\uceec']\",\"['\\uacbd\\ucf8c\\ud55c']\"],[\"\\ub108\\uc5d0\\uac8c \\uac00\\ub294 \\uae38\",\"\\uc131\\ub450\\uc12d, \\uc774\\uc728, \\uae40\\ub300\\ud604, \\uae40\\uc9c0\\ud718, \\uc724\\ub098\\ubb34, \\uae40\\uc131\\ucca0\",\"['\\ubba4\\uc9c0\\uceec']\",\"['\\uacbd\\ucf8c\\ud55c']\"],[\"Mandrake\",\"\\uad6d\\uce74\\uc2a4\\ud150\",\"['\\uae30\\ubd84\\uc804\\ud658']\",\"['\\ud589\\ubcf5\\ud55c']\"],[\"Enter The Dragon\",\"JTL\",\"['\\uae30\\ubd84\\uc804\\ud658', '\\ub304\\uc2a4']\",\"['\\ud589\\ubcf5\\ud55c', '\\uacbd\\ucf8c\\ud55c']\"],[\"\\ud3b8\\ub9b0 \\uc77c\\uc9c0\\ub77c\\ub3c4, \\ub0b4 \\uc783\\uc5b4 \\ubc84\\ub9b0 \\uae30\\uc5b5\",\"\\uc5d0\\ud53c\\ud1a4 \\ud504\\ub85c\\uc81d\\ud2b8\",\"['\\uc794\\uc794\\ud55c']\",\"['\\uc794\\uc794\\ud55c']\"],[\"Autumn Breeze (Feat. Rachel Lim)\",\"JIDA (\\uc9c0\\ub2e4)\",\"['\\uc0c8\\ubcbd']\",\"['\\uc6b0\\uc6b8\\ud55c']\"],[\"\\ub355\\uc218\\uad81 \\ub3cc\\ub2f4\\uae38\\uc758 \\ubd04 (Feat. 10cm)\",\"\\uc724\\uc544 (YOONA)\",\"['\\ubd04']\",\"['\\ud589\\ubcf5\\ud55c']\"],[\"\\ub098 \\uc0dd\\uac01\\uc788\\ub294 \\uc5ec\\uc790\\uc57c\",\"\\ud61c\\ub839\",\"['\\uc794\\uc794\\ud55c']\",\"['\\uc794\\uc794\\ud55c']\"],[\"\\ub108 \\uc0ac\\ub791\\uc548\\uc5d0\",\"\\uc2e0\\ud654\",\"['\\uc794\\uc794\\ud55c', '\\ucd94\\uc5b5', '\\ud68c\\uc0c1', '\\ud790\\ub9c1', '\\ud734\\uc2dd']\",\"['\\uc794\\uc794\\ud55c']\"],[\"\\ud3b8\\uc9c0\",\"\\uc7a5\\ud76c\\uc6d0\",\"['\\uc5ec\\ub984']\",\"['\\uacbd\\ucf8c\\ud55c']\"],[\"My Girl\",\"B.A.P\",\"['\\uae30\\ubd84\\uc804\\ud658']\",\"['\\ud589\\ubcf5\\ud55c']\"],[\"\\uc7a0\",\"\\uacf5\\uc911\\uadf8\\ub298\",\"['\\uc5ec\\ub984', '\\uae30\\ubd84\\uc804\\ud658', '\\uc5ec\\ud589', '\\uc5f0\\uc778', '\\uc0c8\\ubcbd']\",\"['\\ud589\\ubcf5\\ud55c']\"],[\"With You\",\"\\uae40\\uad11\\uc9c4, \\uc720\\ud76c\\uc5f4, \\ud558\\ub9bc\",\"['\\uaca8\\uc6b8', '\\uac00\\uc744', '\\uc0c8\\ubcbd', '\\uc0c8\\ubcbd\\uac10\\uc131', '\\uc5ec\\ud589', '\\ud790\\ub9c1']\",\"['\\uc794\\uc794\\ud55c', '\\uc6b0\\uc6b8\\ud55c', '\\ud589\\ubcf5\\ud55c']\"],[\"KINGS FOR A DAY\",\"\\uc774\\ud64d\\uae30 (FT\\uc544\\uc77c\\ub79c\\ub4dc)\",\"['\\ud734\\uc2dd', '\\uae30\\ubd84\\uc804\\ud658', '\\uc0ac\\ub791']\",\"['\\ud589\\ubcf5\\ud55c']\"],[\"\\uc0ac.\\uacc4.\\ud55c (Love Should Go On) (SHINee WORLD 4 Ver.)\",\"SHINee (\\uc0e4\\uc774\\ub2c8)\",\"['\\uae30\\ubd84\\uc804\\ud658']\",\"['\\ud589\\ubcf5\\ud55c']\"],[\"\\uc625\\ud0d1\\ubc29 (Rooftop)\",\"\\uc5d4\\ud50c\\ub77c\\uc789 (N.Flying)\",\"['\\uae30\\ubd84\\uc804\\ud658']\",\"['\\ud589\\ubcf5\\ud55c']\"],[\"\\ub098\\uc758 \\uc678\\ub85c\\uc6c0\\uc774 \\ub110 \\ubd80\\ub97c \\ub54c (piano ver.)\",\"\\uc7a5\\ud544\\uc21c\",\"['\\uc794\\uc794\\ud55c', '\\ud734\\uc2dd', '\\ubd04', '\\uc0c8\\ubcbd', '\\uc13c\\uce58', '\\uc704\\ub85c', '\\ubd84\\uc704\\uae30']\",\"['\\uc794\\uc794\\ud55c', '\\uc6b0\\uc6b8\\ud55c']\"],[\"Move For Me\",\"Kaskade\",\"['\\ubabd\\ud658', '\\ud790\\ub9c1']\",\"['\\uc794\\uc794\\ud55c', '\\ud589\\ubcf5\\ud55c']\"],[\"\\ub9d8 (Heart)\",\"\\ubc31\\ud37c\\uc13c\\ud2b8\",\"['\\ub4dc\\ub77c\\uc774\\ube0c']\",\"['\\ud589\\ubcf5\\ud55c']\"],[\"AND I\",\"\\ub274\\uc774\\uc2a4\\ud2b8 W\",\"['\\uac00\\uc744', '\\uc0ac\\ub791']\",\"['\\uc794\\uc794\\ud55c', '\\ud589\\ubcf5\\ud55c']\"],[\"Midas X Travel 2018\",\"Midas X\",\"['\\uc0c8\\ud574']\",\"['\\ud589\\ubcf5\\ud55c']\"],[\"\\ub110 \\uc0ac\\ub791\\ud55c \\uc2dc\\uac04\\uc5d0\",\"XIA (\\uc900\\uc218)\",\"['\\uc774\\ubcc4']\",\"['\\uc6b0\\uc6b8\\ud55c']\"],[\"\\uc678\\ucd9c\",\"\\uc624\\uc548, \\ubaa8\\ud2b8 (Motte)\",\"['\\uc794\\uc794\\ud55c']\",\"['\\uc794\\uc794\\ud55c']\"],[\"Would U (Inst.)\",\"Red Velvet (\\ub808\\ub4dc\\ubca8\\ubcb3)\",\"['\\uacf5\\ubd80', '\\uce74\\ud398']\",\"['\\uc794\\uc794\\ud55c']\"],[\"Celebrate\",\"Ragoon\",\"['\\uc794\\uc794\\ud55c']\",\"['\\uc794\\uc794\\ud55c']\"],[\"\\uac80\\uc740 \\ud589\\ubcf5\",\"\\uc724\\ubbf8\\ub798, \\uacc4\\ubbfc\\uc544\",\"['\\ud790\\ub9c1']\",\"['\\ud589\\ubcf5\\ud55c']\"],[\"\\ub0b4 \\uc0ac\\ub791\",\"\\uae40\\uc21c\\uc601\",\"['\\ubba4\\uc9c0\\uceec']\",\"['\\uacbd\\ucf8c\\ud55c']\"],[\"\\uae30\\uc5b5 (Memories)\",\"\\uc544\\uac70 (AGER)\",\"['\\ud1f4\\uadfc', '\\uce74\\ud398', '\\uaca8\\uc6b8', '\\ucd9c\\uadfc']\",\"['\\uc794\\uc794\\ud55c']\"],[\"\\uc88b\\uc544\\ud569\\ub2c8\\ub2e4\",\"\\ud14c\\uc774\",\"['\\uc9dd\\uc0ac\\ub791', '\\uc124\\ub808\\uc784', '\\uc2dc\\uc791']\",\"['\\ud589\\ubcf5\\ud55c']\"],[\"GAME THEORY (Feat. Tommy Strate, nafla, The Quiett, Kid Milli, Lil Cherry)\",\"Dakshood (\\ub2e5\\uc2a4\\ud6c4\\ub4dc)\",\"['\\uae30\\ubd84\\uc804\\ud658']\",\"['\\ud589\\ubcf5\\ud55c']\"],[\"\\uaf43\\ubcf4\\ub2e4 \\uadf8\\ub140\",\"\\ube44\\ud22c\\ube44\",\"['\\uc0ac\\ub791']\",\"['\\ud589\\ubcf5\\ud55c']\"],[\"Ladies Night\",\"Red Velvet (\\ub808\\ub4dc\\ubca8\\ubcb3)\",\"['\\uc5ec\\ub984', '\\uc5ec\\ud589']\",\"['\\uacbd\\ucf8c\\ud55c', '\\ud589\\ubcf5\\ud55c']\"],[\"\\ub2ec\\ucf64\\ud55c \\uac70\\uc9d3\\ub9d0\",\"\\ucfe8 (COOL)\",\"['\\uc0ac\\ub791']\",\"['\\ud589\\ubcf5\\ud55c']\"],[\"Bright Lights\",\"Matchbox Twenty\",\"['\\ubc24', '\\uac00\\uc744', '\\uc794\\uc794\\ud55c', '\\uc640\\uc778']\",\"['\\uc794\\uc794\\ud55c']\"],[\"\\uc9c0\\uc544\\uc5d0\\uac8c\",\"\\uae40\\ucc2c\\uc9c4\",\"['\\uac00\\uc744', '\\uce74\\ud398', '\\uc0c8\\ubcbd', '\\ub4dc\\ub77c\\uc774\\ube0c', '\\uc124\\ub818', '\\uc0ac\\ub791', '\\uc774\\ubcc4']\",\"['\\ud589\\ubcf5\\ud55c']\"],[\"Life On The Line (Feat. Hash Swan)\",\"dkash (\\ub514\\uce90\\uc2dc)\",\"['\\uac00\\uc744']\",\"['\\uc794\\uc794\\ud55c']\"],[\"Aurora\",\"\\ud074\\ub798\\uc9c0\\ucf70\\uc774\",\"['\\ud790\\ub9c1', '\\ud734\\uc2dd', '\\uae30\\ubd84\\uc804\\ud658']\",\"['\\ud589\\ubcf5\\ud55c']\"],[\"\\ub110 \\uc704\\ud55c \\uba5c\\ub85c\\ub514 (Feat. \\uc608\\uc131, \\uc54c\\ub9ac, \\uc564\\uc528\\uc544)\",\"\\uc774\\uc138\\uc900(\\uc720\\ub9ac\\uc0c1\\uc790)\",\"['\\uc124\\ub818']\",\"['\\ud589\\ubcf5\\ud55c']\"],[\"Love U\",\"\\ub514\\uc5b4 (d.ear)\",\"['\\uc0ac\\ub791']\",\"['\\ud589\\ubcf5\\ud55c']\"],[\"Moves Like Jagger (Soul Seekerz Radio Edit) (Feat. Christina Aguilera)\",\"Maroon 5\",\"['\\uc2e0\\ub0a8']\",\"['\\ud589\\ubcf5\\ud55c']\"],[\"\\ud558\\uc580 \\ub3d9\\ud654\",\"KYT (\\ucf54\\uc694\\ud0dc)\",\"['\\uaca8\\uc6b8', '\\ub304\\uc2a4']\",\"['\\uc794\\uc794\\ud55c', '\\uacbd\\ucf8c\\ud55c']\"],[\"She Knows\",\"Trinidad Cardona\",\"['\\uae30\\ubd84\\uc804\\ud658']\",\"['\\ud589\\ubcf5\\ud55c']\"],[\"\\ub0ae\",\"\\uc774\\uc2a4\\ud134\\uc0ac\\uc774\\ub4dc\\ud0a5\",\"['\\ubc34\\ub4dc']\",\"['\\uacbd\\ucf8c\\ud55c']\"],[\"Brightside (Album Ver.)\",\"The Knocks\",\"['\\uc2e0\\ub098\\ub294']\",\"['\\ud589\\ubcf5\\ud55c']\"],[\"\\ub09c \\uc655\\uc774 \\ub420\\uac70\\uc57c\",\"\\uc804\\uc218\\ubbf8\",\"['\\ubba4\\uc9c0\\uceec', '\\uac10\\ub3d9']\",\"['\\uacbd\\ucf8c\\ud55c', '\\ud589\\ubcf5\\ud55c']\"],[\"\\ub0b4 \\ub9c8\\uc74c\\uc758 \\uc0ac\\uc9c4\",\"\\uc1a1\\uac00\\uc778\",\"['\\uc6b4\\uc804', '\\ub4dc\\ub77c\\uc774\\ube0c']\",\"['\\uacbd\\ucf8c\\ud55c', '\\ud589\\ubcf5\\ud55c']\"],[\"\\uc5c6\\uc5c8\\ub2e4\\uba74\",\"\\ube4c\\ub9ac\",\"['\\uae30\\ubd84\\uc804\\ud658']\",\"['\\ud589\\ubcf5\\ud55c']\"],[\"Where Is The Love\",\"Roberta Flack\",\"['\\ubd80\\ub4dc\\ub7ec\\uc6b4', '\\uac10\\ubbf8\\ub85c\\uc6b4']\",\"['\\ud3b8\\uc548\\ud55c', '\\uc794\\uc794\\ud55c']\"],[\"Enduring Love\",\"Yannick Bovy\",\"['\\uc2ac\\ud514', '\\uc774\\ubcc4']\",\"['\\uc6b0\\uc6b8\\ud55c']\"],[\"Masquerade\",\"\\ub77c\\ub2c8\\uc544\",\"['\\ub4dc\\ub77c\\uc774\\ube0c', '\\uae30\\ubd84\\uc804\\ud658']\",\"['\\ud589\\ubcf5\\ud55c']\"],[\"Time Slip\",\"\\uc544\\uc774\\ub2c8\",\"['\\uc5ec\\ub984', '\\ub4dc\\ub77c\\uc774\\ube0c']\",\"['\\uacbd\\ucf8c\\ud55c', '\\ud589\\ubcf5\\ud55c']\"],[\"\\ud6c4\\ud6c4\\ud6c4 (Hoo Hoo Hoo)\",\"\\uc564\\uc528\\uc544\",\"['\\uc0ac\\ub791', '\\uc124\\ub818']\",\"['\\ud589\\ubcf5\\ud55c']\"],[\"\\uc9c0\\uc0c1\\uc5d0\\uc11c \\uc601\\uc6d0\\uc73c\\ub85c\",\"\\uc815\\uacbd\\ud654\",\"['\\ucd94\\uc5b5']\",\"['\\ud589\\ubcf5\\ud55c']\"],[\"\\uc11c\\ub978 \\uc0b4\\uc758 \\ud64d\\ub300\\ub294\",\"\\ub2ec\\uc5b4\\ucfe0\\uc2a4\\ud2f1\",\"['\\uaca8\\uc6b8', '\\uac00\\uc744', '\\uac00\\uc744\\ubc24', '\\ud734\\uc2dd', '\\ud790\\ub9c1', '\\ucd94\\uc5b5', '\\uae30\\ubd84\\uc804\\ud658', '\\ud68c\\uc0c1', '\\ubc24', '\\uc0c8\\ubcbd', '\\uc790\\uc7a5\\uac00', '\\uc124\\ub818', '\\uae4c\\ud398', '\\uc0ac\\ub791']\",\"['\\uc794\\uc794\\ud55c']\"],[\"SUGAR\",\"\\uc6b0\\uc8fc\\uc18c\\ub140\",\"['\\uc5ec\\ub984', '\\ub4dc\\ub77c\\uc774\\ube0c']\",\"['\\uacbd\\ucf8c\\ud55c', '\\ud589\\ubcf5\\ud55c']\"],[\"First Time\",\"\\uc815\\uc5fd\",\"['\\uc0c8\\ubcbd', '\\ubc24', '\\uc794\\uc794\\ud55c', '\\ucd94\\uc5b5', '\\uae4c\\ud398', '\\ud68c\\uc0c1']\",\"['\\uc794\\uc794\\ud55c']\"],[\"Make It Love (Song By Domingo, H:SEAN, Saula)\",\"KozyPop\",\"['\\uc794\\uc794\\ud55c', '\\uc0ac\\ub791']\",\"['\\uc794\\uc794\\ud55c', '\\ud589\\ubcf5\\ud55c']\"],[\"GOOD\",\"EXID\",\"['\\uae30\\ubd84\\uc804\\ud658', '\\uc2e0\\ub098\\ub294']\",\"['\\ud589\\ubcf5\\ud55c']\"],[\"\\uadf8\\ub300\\ub85c \\uba48\\ucdb0\\ub77c\",\"\\ub2ec\\uc0e4\\ubcb3\",\"['\\ub304\\uc2a4']\",\"['\\uacbd\\ucf8c\\ud55c']\"],[\"Reason\",\"\\ub514\\uc148\\ubc84\",\"['\\uc2ac\\ud514', '\\uc774\\ubcc4']\",\"['\\uc6b0\\uc6b8\\ud55c']\"],[\"If Not For You\",\"Bob Dylan\",\"['\\ube44\\uc624\\ub294\\ub0a0', '\\uce74\\ud398', '\\uc0c8\\ubcbd', '\\ubabd\\ud658', '\\uc800\\ub141']\",\"['\\uc794\\uc794\\ud55c']\"],[\"the.the.the\",\"\\uc6a9\\uad6d&\\uc2dc\\ud604\",\"['\\uae30\\ubd84\\uc804\\ud658']\",\"['\\ud589\\ubcf5\\ud55c']\"],[\"Brave\",\"The Shires\",\"['\\uc0c8\\ubcbd', '\\ucd94\\uc5b5', '\\ubc24', '\\ud68c\\uc0c1']\",\"['\\uc6b0\\uc6b8\\ud55c', '\\ud589\\ubcf5\\ud55c', '\\ubb34\\uc11c\\uc6b4', '\\uc794\\uc794\\ud55c']\"],[\"\\ud5c8\\uc138\\uac00 (\\u865b\\u52e2\\u6b4c)\",\"\\uc8fc\\uc724\\ud558\",\"['\\ud734\\uc2dd', '\\ubd04']\",\"['\\uc794\\uc794\\ud55c', '\\ud589\\ubcf5\\ud55c']\"],[\"\\ub85c\\uc584\\ud328\\ubc00\\ub9ac (Feat. Kirk, \\uae40\\uc6b0\\uadfc)\",\"\\uc2f8\\uc774 (PSY)\",\"['\\uae30\\ubd84\\uc804\\ud658']\",\"['\\ud589\\ubcf5\\ud55c']\"],[\"\\uc655\\uc790\\ub2d8\",\"\\uc57c\\uad11\\ud1a0\\ub07c (Neon Bunny)\",\"['\\uae30\\ubd84\\uc804\\ud658']\",\"['\\ud589\\ubcf5\\ud55c']\"],[\"Instagram (feat. Afro Bros, Natti Natasha)\",\"Dimitri Vegas & Like Mike, David Guetta, Daddy Yankee\",\"['\\uc2e0\\ub098\\ub294']\",\"['\\ud589\\ubcf5\\ud55c']\"]],\"hovertemplate\":\"x=%{x}<br>y=%{y}<br>\\uace1 \\uc81c\\ubaa9=%{customdata[0]}<br>\\uac00\\uc218=%{customdata[1]}<br>tag max=%{customdata[2]}<br>emotion max=%{customdata[3]}<extra></extra>\",\"legendgroup\":\"\",\"marker\":{\"color\":\"#636efa\",\"symbol\":\"circle\"},\"mode\":\"markers\",\"name\":\"\",\"orientation\":\"v\",\"showlegend\":false,\"x\":[2.5059878826141357,0.05968837812542915,1.5061454772949219,1.4253313541412354,-0.427498459815979,-0.8672866225242615,-0.427498459815979,-0.8672866225242615,1.3637112379074097,2.2104547023773193,0.9696930050849915,1.5179353952407837,2.818866014480591,-2.2895522117614746,-3.5453031063079834,1.0102784633636475,0.16288654506206512,-0.7264423966407776,0.3561522662639618,-0.37493830919265747,-1.0746842622756958,3.2098562717437744,0.4280669093132019,0.6155336499214172,1.7376844882965088,0.7821900844573975,-3.0835063457489014,0.532271146774292,2.6850273609161377,0.840207576751709,1.4640213251113892,0.03531806543469429,1.5807771682739258,-0.24470902979373932,1.706786036491394,0.6643604040145874,-1.6969740390777588,0.24477766454219818,0.6392325162887573,1.9095478057861328,-2.9890244007110596,-0.6240459084510803,0.8319893479347229,0.24306590855121613,2.153006076812744,2.153006076812744,1.0581473112106323,0.18091021478176117,0.5839548110961914,-1.6358435153961182,1.7931764125823975,1.8007357120513916,-1.435208797454834,-0.5442968010902405,-0.05288810655474663,-2.4716176986694336,0.8200029134750366,-0.043779563158750534,-1.3112889528274536,1.6401422023773193,0.6003591418266296,0.9236814379692078,0.6782910227775574,-1.1799824237823486,-1.9400978088378906,-4.413280010223389,-1.9400978088378906,-4.413280010223389,2.4305288791656494,1.0933940410614014,-0.5796912312507629,1.9454405307769775,0.09036204218864441,0.19654326140880585,-3.4061644077301025,-1.966585397720337,0.2980745732784271,1.7322349548339844,2.2581443786621094,0.6159735918045044,1.641451120376587,-1.931534767150879,2.5649402141571045,2.5649402141571045,0.9013990759849548,-0.4275752902030945,-4.845399856567383,2.9207913875579834,-1.2987074851989746,-0.27444693446159363,0.833018958568573,-2.1844422817230225,-0.053704869002103806,1.5665100812911987,-0.35737890005111694,1.5177288055419922,0.46479085087776184,1.6606934070587158,0.9830517172813416,1.3675084114074707,2.301027536392212,-0.2751178741455078,1.0736302137374878,0.3420272469520569,-2.274327278137207,-1.6282660961151123,1.3516013622283936,2.3497164249420166,-3.880652666091919,-2.937851905822754,-3.109081983566284,1.0551552772521973,1.397820234298706,2.4780101776123047,1.8183201551437378,2.5891034603118896,0.11971698701381683,3.298963785171509,-1.290175199508667,0.391535222530365,0.8351432085037231,-2.775559186935425,-0.2277175635099411,0.09805985540151596,2.235917329788208,-3.976229667663574,-3.4176387786865234,-2.2866902351379395,-0.8320573568344116,-3.5442769527435303,1.1995036602020264,-0.1839282065629959,-1.7668181657791138,-1.3978750705718994,-2.4587037563323975,-0.36786794662475586,-0.02444310113787651,1.8107779026031494,0.15160028636455536,0.5451639890670776,-0.3630514442920685,-2.5644500255584717,2.74717116355896,1.7087713479995728,1.8462555408477783,0.24336107075214386,1.4110651016235352,-1.4152299165725708,-1.0276118516921997,2.699709892272949,-0.16103123128414154,1.2007380723953247,-0.38774430751800537,0.9063690304756165,-3.850877523422241,0.27878278493881226,2.6204288005828857,-2.535429000854492,1.1367521286010742,1.1267008781433105,0.7449094653129578,-1.658079981803894,-0.4405216574668884,2.528414726257324,1.5746047496795654,2.189873695373535,-3.6785004138946533,1.1591237783432007,0.11880528926849365,0.8051745891571045,0.11880528926849365,0.8051745891571045,1.164562702178955,-3.323653221130371,-1.5488123893737793,2.5646274089813232,0.6203226447105408,0.7211660146713257,0.9055247902870178,-0.09113258123397827,-3.89955472946167,2.2777295112609863,-1.2925795316696167,0.28678181767463684,0.022958669811487198,0.42139172554016113,1.7206627130508423,2.0917797088623047,-0.22668574750423431,-1.0995335578918457,2.2890424728393555,-2.0431010723114014,-0.9801720380783081,4.014928817749023,-0.1529102921485901,-1.6748900413513184,0.36584731936454773,1.264473795890808,1.0333998203277588,0.688509464263916,-0.16108451783657074,-3.2153377532958984,-2.1989824771881104,-1.301796555519104,0.22518332302570343,1.2959717512130737,2.7351953983306885,3.0340685844421387,1.839357852935791,1.0827504396438599,-1.767910122871399,2.19846510887146,0.3037586808204651,1.813157558441162,-0.8991650342941284,2.380053758621216,2.345423698425293,2.808810234069824,-2.3246958255767822,1.470253825187683,2.279654026031494,0.5449680089950562,2.9924795627593994,3.1610050201416016,0.8867552280426025,2.987114191055298,1.8946796655654907,-0.940881073474884,0.43832117319107056,2.1796629428863525,1.3854999542236328,1.8070234060287476,1.7274296283721924,-0.5164820551872253,-2.4269485473632812,-0.5164820551872253,-2.4269485473632812,1.3927335739135742,2.422496795654297,1.016394019126892,-3.1606037616729736,1.3730394840240479,-1.7786152362823486,0.4159584939479828,0.5581436157226562,1.1522009372711182,1.8206450939178467,-0.1108088344335556,2.0352368354797363,-0.6265276074409485,2.451338052749634,0.430070698261261,2.049511432647705,-3.6201064586639404,1.5719610452651978,2.036817789077759,-4.178035736083984,-0.4280363917350769,-0.06567232310771942,1.9015371799468994,0.7632418274879456,-2.4448282718658447,0.10984618961811066,1.6677320003509521,-2.656346559524536,-1.6798653602600098,3.5017659664154053,1.491026520729065,-1.62376070022583,-0.35606974363327026,-0.17039881646633148,-1.4365159273147583,-5.913909435272217,0.615829348564148,0.5260246992111206,0.735550582408905,0.2302883118391037,4.422953128814697,4.422953128814697,2.542701005935669,-0.2893703281879425,0.84250408411026,-0.5006821155548096,2.940258026123047,-0.5788139700889587,1.0085253715515137,1.5742615461349487,-0.7922766208648682,-0.0821356326341629,-0.04243002459406853,1.0533043146133423,0.16208215057849884,1.210024118423462,0.9060919880867004,0.47699570655822754,0.5543727874755859,-0.03447476401925087,2.8364062309265137,0.500533938407898,-1.8450113534927368,-0.4611925482749939,1.6587624549865723,2.699042558670044,0.59483402967453,1.3233189582824707,-0.6809465289115906,-0.038412462919950485,2.352022171020508,-0.4127773642539978,-0.3027687966823578,-2.0219669342041016,2.6232540607452393,1.3574661016464233,-0.3134235143661499,-0.8228203058242798,0.29134851694107056,1.0253009796142578,-3.8971827030181885,1.2123963832855225,2.305267810821533,0.10539336502552032,2.5058624744415283,0.5849354267120361,1.6170047521591187,0.93230801820755,1.6491963863372803,1.0362745523452759,-0.024813245981931686,-0.9232584834098816,0.5718448758125305,0.110242560505867,1.1169250011444092,1.6834983825683594,0.781653106212616,1.236573576927185,0.8769285082817078,-1.962937831878662,1.884721279144287,-3.9902398586273193,0.69896399974823,2.218254327774048,-0.1257229894399643,-2.643872022628784,-3.3439419269561768,0.8154820799827576,0.8154820799827576,0.8154820799827576,0.8154820799827576,2.1487877368927,1.0918660163879395,0.7798857688903809,1.6510589122772217,2.2769296169281006,1.526237964630127,0.6674360036849976,0.2664053738117218,0.4217109680175781,-1.2664477825164795,0.11875028908252716,0.3820555508136749,-0.017876919358968735,0.3318532705307007,2.5887632369995117,1.8377866744995117,0.8715019822120667,1.8447306156158447,2.995734453201294,-0.13116200268268585,1.8981208801269531,1.4744620323181152,1.9050991535186768,1.641524314880371,0.5706662535667419,-1.1018707752227783,2.583160638809204,2.065009355545044,2.356940507888794,-0.8327670693397522,-2.0049405097961426,1.1132943630218506,0.7808496356010437,-5.928429126739502,-1.0510008335113525,0.5982660055160522,1.3540269136428833,0.5982657670974731,1.3540269136428833,-1.1735010147094727,-1.0217952728271484,3.0322749614715576,1.3109543323516846,-4.291051864624023,2.563727378845215,-2.3297336101531982,1.5964196920394897,-2.403775215148926,-2.9423751831054688,-0.5795210599899292,-0.08365482836961746,0.8352787494659424,0.811626672744751,-1.6459870338439941,1.53922700881958,1.557828426361084,1.5621490478515625,1.8639038801193237,0.6516585350036621,2.8920342922210693,-1.6439543962478638,-0.9405291676521301,1.252645492553711,-1.6218514442443848,-0.9506012797355652,1.0228818655014038,0.7354810833930969,-0.3347479999065399,-1.4210234880447388,-0.6670297384262085,1.6131367683410645,-3.927564859390259,2.0545706748962402,0.5886598229408264,-5.032116889953613,2.181643009185791,-0.7897650599479675,1.6977229118347168,-7.7617340087890625,-2.2048227787017822,2.0495142936706543,-3.515861988067627,0.4181046187877655,0.6677746772766113,1.5251376628875732,0.9522532820701599,0.9903761744499207,1.7517492771148682,-1.3350262641906738,1.7070788145065308,-0.30279219150543213,2.1981327533721924,-1.2107293605804443,-0.3977612853050232,0.39979326725006104,1.8785693645477295,-0.0407949797809124,0.5490226149559021,-2.7966701984405518,2.206634759902954,0.9951546788215637,-0.29174336791038513,1.8445549011230469,1.6414971351623535,-1.6120152473449707,3.033092737197876,2.8291139602661133,-0.8193953037261963,0.04720400646328926,0.4051741063594818,0.7112959027290344,2.2560579776763916,-4.358057022094727,0.8082900643348694,2.087704658508301,0.612799882888794,0.7642867565155029,-3.6624953746795654,0.4543047547340393,-1.1194180250167847,2.1112234592437744,-1.2868191003799438,1.8082642555236816,0.4185621738433838,1.0597187280654907,-3.332949638366699,1.0356642007827759,2.6092002391815186,-1.4238941669464111,-0.6508786678314209,-0.7875872254371643,-0.8948021531105042,-3.3387043476104736,-0.5820938348770142,0.4040413200855255,-1.8108489513397217,0.29578953981399536,-0.19869226217269897,1.3631829023361206,1.5807583332061768,-2.807227373123169,-0.47700363397598267,-2.611614227294922,0.2575610876083374,2.495837450027466,-4.380387306213379,0.8093761801719666,-0.16595657169818878,-1.4130022525787354,0.8294549584388733,-2.187025308609009,-1.4969775676727295,-0.9231926202774048,-3.560490608215332,0.014508921653032303,1.7977077960968018,0.5294832587242126,2.4253134727478027,0.8357054591178894,2.3784677982330322,1.09098482131958,-0.14208009839057922,0.3797091841697693,2.4207704067230225,0.6184844374656677,0.513497531414032,1.7027006149291992,-0.4097583293914795,-2.4327123165130615,-1.7038179636001587,-2.152099609375,-2.1002743244171143,2.2103111743927,-0.7172715663909912,0.8525314927101135,2.2313084602355957,0.6727907061576843,1.9829612970352173,-0.3412351608276367,-1.2831225395202637,1.0648515224456787,-1.7622288465499878,-2.344677448272705,0.02704494073987007,-4.063316345214844,-4.0923004150390625,1.6817349195480347,1.459298014640808,-4.878236293792725,-4.878236293792725,-4.878236293792725,-4.878236293792725,-4.878236293792725,-4.878236293792725,-4.878236770629883,-4.878236770629883,0.31558704376220703,-1.9670088291168213,2.158768653869629,-5.737277030944824,3.121872663497925,1.6401677131652832,-2.8919107913970947,0.07456664741039276,0.12125490605831146,0.34058815240859985,-0.01717740297317505,0.7684733271598816,1.6064772605895996,1.9055789709091187,3.0245392322540283,-2.6279985904693604,0.6066079139709473,-1.8585954904556274,-3.5259363651275635,2.163224220275879,0.4134592115879059,0.013148445636034012,1.8439407348632812,2.3107972145080566,2.639092206954956,0.9969120621681213,0.6108097434043884,0.20328278839588165,-0.1832653284072876,0.6101794838905334,-0.4464021325111389,1.0990986824035645,0.7660462260246277,2.150482416152954,-1.410681962966919,-1.1092272996902466,1.3834011554718018,2.4004502296447754,0.007555264513939619,0.2550497055053711,0.9713628888130188,0.12161856144666672,0.5882022976875305,-1.9304355382919312,1.218238353729248,-2.533439874649048,0.7636677622795105,-2.5619843006134033,-0.7689731121063232,-1.2399405241012573,0.7700194716453552,0.4842803478240967,3.477508306503296,2.5511438846588135,-2.843111753463745,-0.057730887085199356,2.9551339149475098,-1.3519257307052612,1.5122902393341064,0.6626506447792053,-0.3908264935016632,-1.198911190032959,2.171567678451538,-5.134353160858154,-2.450484037399292,1.012822151184082,0.5126032829284668,1.4796819686889648,2.9252383708953857,0.5901216864585876,-3.8339626789093018,1.2374262809753418,-0.16243644058704376,-0.16128180921077728,1.485098123550415,1.4638044834136963,2.7067477703094482,-0.3671310544013977,-0.17337271571159363,-2.1315274238586426,0.5445606112480164,-0.864324152469635,1.4225614070892334,1.7894660234451294,-0.4288606345653534,2.1468427181243896,1.8693194389343262,1.029559850692749,2.557065963745117,0.8637641072273254,2.2877418994903564,0.6830481290817261,-1.5468448400497437,0.8753243088722229,0.875324547290802,1.6829261779785156,-0.8553063869476318,1.9175269603729248,2.2249200344085693,-1.5653165578842163,-0.19027037918567657,-0.22828951478004456,1.0288382768630981,-2.8450863361358643,2.929435968399048,-0.2448754757642746,-3.478739023208618,-0.2851254343986511,-2.7199528217315674,0.8753309845924377,2.7101118564605713,-2.1556029319763184,-0.6050608158111572,-0.8426557779312134,0.5853286385536194,1.4322811365127563,-3.005779504776001,-2.8108971118927,-1.246108889579773,0.23537613451480865,1.1203885078430176,-1.1185190677642822,-4.292713165283203,-1.698254108428955,-1.2996565103530884,-1.7252382040023804,2.485720157623291,0.6976060271263123,-2.0094852447509766,-1.677813172340393,-0.8053296208381653,-0.1437973529100418,1.473859190940857,-1.5555776357650757,1.1538187265396118,3.6502792835235596,1.8360254764556885,1.8250094652175903,0.20654143393039703,-0.033725690096616745,3.359877109527588,2.782848596572876,-3.271693468093872,-2.8708131313323975,-2.131659746170044,0.36905449628829956,0.5618458390235901,-0.7518178820610046,-2.4491190910339355,-3.6302754878997803,-4.192510604858398,-2.4931843280792236,0.399082750082016,2.214459180831909,-1.2025007009506226,1.2767837047576904,0.6058952212333679,0.3644719421863556,0.5493337512016296,1.9298696517944336],\"xaxis\":\"x\",\"y\":[-0.28230971097946167,-1.8117190599441528,-0.788881242275238,0.7058745622634888,-0.8137677907943726,-1.7134981155395508,-0.8137677907943726,-1.7134981155395508,-2.8283419609069824,0.7318155169487,-0.46605515480041504,-2.8142476081848145,3.65212082862854,-0.4742712676525116,0.9490615725517273,-2.2446560859680176,-1.7786784172058105,-1.670106291770935,-1.2906044721603394,-0.5573498606681824,-1.334466576576233,1.3860496282577515,-0.036125339567661285,-0.9565470218658447,-4.271209239959717,0.3993943929672241,1.1772687435150146,-1.7077327966690063,2.210862159729004,3.941324234008789,0.05876446142792702,-0.23394618928432465,0.4324682056903839,-4.213561534881592,-1.6448264122009277,-4.568584442138672,-4.593926906585693,-4.264803886413574,-2.881042718887329,-1.6642482280731201,0.7793264985084534,-1.2133891582489014,0.2990090250968933,-3.208552598953247,-1.4332901239395142,-1.4332901239395142,-0.43888193368911743,-3.3392333984375,-1.7671226263046265,5.368716239929199,2.033118963241577,-1.3327043056488037,-1.01524817943573,-0.07837570458650589,-1.1629637479782104,-0.16053947806358337,3.3822813034057617,-1.4940048456192017,2.7150540351867676,-0.6782566905021667,-3.1830379962921143,-1.006614089012146,-0.1602138727903366,1.3744685649871826,2.4524123668670654,2.198326349258423,2.4524123668670654,2.198326349258423,1.1874356269836426,-0.0676119402050972,-2.5651674270629883,-3.5752203464508057,-2.865898609161377,4.706584453582764,-2.0064737796783447,-1.0200331211090088,-3.16091251373291,-0.6094267964363098,-2.561136245727539,-2.223374843597412,1.0658326148986816,2.490530014038086,-1.767426609992981,-1.767426609992981,-2.5330193042755127,-2.4792234897613525,3.1027066707611084,1.1514750719070435,2.971656322479248,-1.4171236753463745,-0.8228332996368408,0.37952882051467896,-2.085158586502075,-0.41621077060699463,4.481210708618164,-3.5692052841186523,-0.21113203465938568,-0.591187596321106,-1.010561227798462,-0.821140468120575,-0.7646542191505432,-0.17350360751152039,-0.5839841365814209,-2.7867431640625,1.8544660806655884,-3.223255157470703,0.15149889886379242,-0.8921613097190857,6.2904205322265625,4.092890739440918,-2.233508825302124,-1.3157985210418701,0.22705470025539398,-3.3211474418640137,-0.23672543466091156,0.8728271722793579,-2.629472017288208,3.7873735427856445,2.222954034805298,0.42002564668655396,-1.609533429145813,-0.7698288559913635,-2.3904592990875244,-0.8618162870407104,-4.475947380065918,1.4902925491333008,0.9020707011222839,-0.5058512091636658,3.8959479331970215,0.6110262274742126,1.2580959796905518,-1.3237420320510864,-0.45257803797721863,0.7992569208145142,1.1460820436477661,-2.321687936782837,-0.9934222102165222,-3.8119406700134277,-1.331645131111145,0.6620058417320251,0.024360544979572296,3.365286111831665,-0.25627171993255615,0.5250057578086853,-2.673656940460205,-3.9392004013061523,-1.4673041105270386,-5.310930252075195,-1.1526479721069336,-0.7120004296302795,-1.1465424299240112,0.34544098377227783,0.05960454046726227,-3.0878820419311523,-0.2310507893562317,-1.0443520545959473,-4.711337566375732,0.8071115612983704,-0.624333918094635,-2.137448310852051,0.08248519152402878,0.972726047039032,-1.3877155780792236,1.8488130569458008,-1.1184171438217163,0.6151345372200012,2.2565524578094482,-1.063036561012268,-1.279036283493042,-2.6880574226379395,-1.279036283493042,-2.6880574226379395,0.9352694153785706,2.5394041538238525,-2.7243001461029053,0.05245119705796242,-1.12082040309906,-1.2877299785614014,-1.2988524436950684,-3.8401358127593994,2.2595374584198,1.7742365598678589,-0.5383625626564026,0.5644446611404419,1.0491422414779663,-1.5774585008621216,0.2534935474395752,-1.2232918739318848,-2.402329921722412,-4.091536521911621,2.0573959350585938,0.9551485180854797,-0.337191641330719,7.390799045562744,-0.8589805960655212,-1.0751920938491821,-0.9168986082077026,-0.09131241589784622,-1.6978299617767334,-0.6658980250358582,-1.1114789247512817,2.150192975997925,5.242046356201172,0.5937488675117493,-0.8111106753349304,-3.245800256729126,2.1385133266448975,-0.9227627515792847,-2.5185041427612305,-2.758357048034668,0.3217572867870331,0.06376269459724426,-4.395903587341309,1.154943823814392,-0.9120247960090637,-2.6518001556396484,3.7791829109191895,-0.3097946345806122,1.5923393964767456,-0.319075345993042,1.1627763509750366,-2.164231777191162,2.3263206481933594,-5.3015851974487305,-1.390128254890442,-2.204946279525757,1.8576136827468872,0.1382797658443451,-1.2767951488494873,-0.016794050112366676,-2.5757312774658203,-2.7172558307647705,-1.8036974668502808,-2.6835360527038574,-1.6753087043762207,-2.6835360527038574,-1.6753087043762207,-1.472548007965088,-0.9098464846611023,-1.104365587234497,0.7606890797615051,-0.14650262892246246,-2.1173720359802246,-0.7260299324989319,-0.8641793131828308,0.6785034537315369,-1.2284269332885742,-1.4728752374649048,-2.7900328636169434,2.005427837371826,-1.4696155786514282,-4.533562660217285,-0.46661272644996643,2.24725604057312,-1.384633183479309,0.9118671417236328,0.5612287521362305,-4.699789524078369,-3.4762840270996094,1.4494491815567017,-5.019124507904053,0.2745956778526306,0.9372491240501404,-7.193838119506836,2.9491846561431885,3.7886617183685303,-0.5327950716018677,1.5108808279037476,-1.7182366847991943,-0.27265921235084534,-1.9328182935714722,0.8767386078834534,3.6312177181243896,-0.5024815797805786,2.088837146759033,-2.161843776702881,-0.03273962810635567,1.617583155632019,1.617583155632019,0.0806254893541336,-1.5343142747879028,-3.343806028366089,0.6490416526794434,-0.07120335102081299,-4.141883850097656,-3.2688379287719727,-1.7583366632461548,-3.150585651397705,-1.3177841901779175,0.35975804924964905,-1.8768748044967651,-4.341156482696533,-3.5541276931762695,0.27425339818000793,-1.5701628923416138,0.0760493203997612,-1.4110310077667236,-1.3169282674789429,-2.628628730773926,-1.8807199001312256,-1.122078776359558,-2.0862836837768555,-1.1884385347366333,-0.20452216267585754,0.5014137625694275,-0.9763993620872498,-1.1807705163955688,1.3709051609039307,0.7483880519866943,-1.0999983549118042,2.4290523529052734,0.4378758668899536,0.17827865481376648,-1.687048077583313,0.32251042127609253,-2.47284197807312,0.1664070338010788,4.548091888427734,-0.7163838744163513,-6.544956207275391,-0.7455893158912659,-2.7570033073425293,-3.322862148284912,1.6193965673446655,0.6019319891929626,-6.931880950927734,-0.24672195315361023,-3.2141895294189453,1.4223707914352417,-2.1814682483673096,-4.209559440612793,0.9041246771812439,-2.5790786743164062,-2.839932918548584,-0.34954991936683655,-0.9811246991157532,-0.1779259294271469,1.0875749588012695,3.9074273109436035,-0.917548656463623,1.870727777481079,-2.4002583026885986,0.9934982657432556,6.274833679199219,-1.633010745048523,-1.633010745048523,-1.633010745048523,-1.633010745048523,-0.7968305349349976,-1.7558931112289429,-1.6772857904434204,0.5649670958518982,0.22131307423114777,-1.4037646055221558,0.7578121423721313,-2.814816951751709,-2.5708088874816895,2.4073104858398438,-2.999523878097534,-2.930274486541748,-1.8949222564697266,-6.654664039611816,2.4165680408477783,2.7354235649108887,0.423881858587265,-2.60683274269104,2.2676689624786377,-2.5870916843414307,0.1570267677307129,1.0004178285598755,-1.4582462310791016,-3.6016530990600586,-1.5062493085861206,0.8869545459747314,-1.0402482748031616,-1.29952073097229,0.21358893811702728,-1.2048510313034058,-0.5120867490768433,-1.6276191473007202,0.6179609894752502,4.684618949890137,1.652719497680664,-1.2121697664260864,0.7845131754875183,-1.212169885635376,0.7845131754875183,-1.3152440786361694,-0.004258634988218546,-1.723068356513977,-3.1854758262634277,2.6703879833221436,1.380753755569458,3.5064964294433594,-1.8005844354629517,-2.2496373653411865,5.150141716003418,-2.428553819656372,0.7929856777191162,-0.5629388093948364,-1.2337974309921265,-1.8252042531967163,-0.24601112306118011,-1.2337422370910645,-2.8819069862365723,0.9160473942756653,-2.7999134063720703,1.4684807062149048,1.4379099607467651,1.9389649629592896,-0.7937930226325989,3.8153867721557617,3.478212356567383,0.08507135510444641,-0.5799305438995361,-2.3736467361450195,3.136385440826416,5.047135353088379,-1.2448409795761108,5.5107903480529785,-1.1817816495895386,-1.5125386714935303,-0.6209115982055664,-2.9668936729431152,-1.9948748350143433,-4.514527320861816,4.668145179748535,-2.1097252368927,-1.862085223197937,-0.05744517222046852,-1.0403389930725098,-4.630979061126709,0.20865802466869354,-0.20346401631832123,-1.688663363456726,1.0443650484085083,-4.164356231689453,-1.2505239248275757,2.161081552505493,0.01491247583180666,-0.665034294128418,0.03590155020356178,-0.7301986813545227,-1.104245901107788,-0.30353379249572754,0.05365416780114174,2.110853672027588,0.06744920462369919,-1.3234775066375732,-2.422081232070923,-0.6988710761070251,-3.139108657836914,-3.540454626083374,-5.834347248077393,-1.1486293077468872,3.3722519874572754,-0.21770736575126648,-3.3111863136291504,1.409467339515686,-2.701446056365967,4.243122100830078,-1.4032024145126343,-4.5307488441467285,-0.9285933375358582,-2.006091833114624,2.949247360229492,-2.0367114543914795,2.085106611251831,0.6950171589851379,1.852925181388855,-1.2207359075546265,-1.380083441734314,-0.8739085793495178,2.6268370151519775,1.5859440565109253,-2.955169200897217,1.7964688539505005,0.11343792825937271,-1.4688349962234497,2.4912049770355225,3.674180030822754,-2.482928991317749,-1.8729885816574097,1.1584692001342773,-0.24828889966011047,-6.252999782562256,-1.6293550729751587,1.2063612937927246,0.8166725039482117,-0.045812275260686874,3.005502462387085,-5.182520389556885,1.1636141538619995,3.8756892681121826,0.4475231170654297,0.8369739651679993,-2.2431480884552,-2.409919261932373,2.9716787338256836,0.7280389666557312,1.2960829734802246,2.078883171081543,-5.798203468322754,0.28308534622192383,-3.6717755794525146,0.6932754516601562,-1.4105931520462036,1.2212474346160889,-0.26628193259239197,-2.531597852706909,-0.11395185440778732,0.5628510117530823,-1.8713663816452026,0.6130350828170776,1.1271722316741943,-2.030982255935669,2.2316172122955322,-1.1991146802902222,1.8699941635131836,-0.32487958669662476,-5.393235206604004,-2.6255552768707275,-1.576675295829773,-1.7328166961669922,0.9024697542190552,-2.794436454772949,-3.448491096496582,2.1946215629577637,0.34479689598083496,0.32064491510391235,-0.16723565757274628,5.999784469604492,-1.2238024473190308,1.0802496671676636,-2.4060304164886475,1.8805497884750366,7.5936279296875,7.5936279296875,7.5936279296875,7.5936279296875,7.5936279296875,7.5936279296875,7.5936279296875,7.5936279296875,-3.125019073486328,4.02808952331543,-2.429593086242676,4.396819591522217,2.6769049167633057,-0.0628744438290596,0.4478343725204468,9.176934242248535,-0.3045826554298401,1.5639735460281372,-1.1504400968551636,-1.8052841424942017,-1.4241267442703247,-1.3578428030014038,-0.29213815927505493,2.919743061065674,-1.3143540620803833,1.6021933555603027,4.1334428787231445,-0.8323501944541931,-2.3057668209075928,-0.09318099170923233,-2.631052017211914,0.1922580748796463,-0.1641712337732315,-0.7745255827903748,-1.5458216667175293,4.487167835235596,-1.6678980588912964,-0.034108828753232956,0.8546767830848694,-0.14075712859630585,-1.87173330783844,-4.998992919921875,0.8106703758239746,0.012645368464291096,-7.263262748718262,-1.468424677848816,-2.2611258029937744,-0.6244322657585144,0.4570954442024231,1.1552425622940063,0.7230048775672913,3.805163621902466,0.504599392414093,1.28585946559906,0.35725101828575134,4.687308311462402,-1.3835996389389038,1.4494911432266235,-1.1288032531738281,-3.7663204669952393,-1.636749505996704,-3.740278720855713,1.5273776054382324,2.016390323638916,2.6144371032714844,1.0283408164978027,-2.79469895362854,-1.1016896963119507,-0.9295142889022827,-0.985535204410553,-2.17881178855896,3.672214984893799,-0.6759392619132996,-1.2335695028305054,-1.426163673400879,-0.02884788252413273,-2.469162940979004,-0.38752514123916626,7.762951850891113,-0.028113532811403275,-2.5011932849884033,-2.9442081451416016,-2.547487258911133,-0.8646236658096313,-2.639983892440796,-2.8062522411346436,-1.7532190084457397,-0.42686593532562256,-3.2351016998291016,-4.857572555541992,-0.7182331085205078,0.8440299034118652,-4.005580902099609,-1.5246343612670898,-2.2642910480499268,-1.2857593297958374,-4.065858840942383,0.22406481206417084,-2.4855494499206543,-0.6383967399597168,-0.701134979724884,-0.5829768180847168,-0.5829765200614929,0.7084694504737854,-1.8715671300888062,-1.1200228929519653,-2.670194149017334,2.3464460372924805,-3.277707099914551,-1.787330985069275,-1.0304979085922241,0.5780942440032959,1.5002329349517822,-1.7507339715957642,6.646182537078857,1.4627362489700317,0.9995038509368896,-0.6308705806732178,1.3067054748535156,2.6654038429260254,0.5935036540031433,-1.3266226053237915,-2.447946071624756,-0.5729581713676453,2.1130731105804443,0.17148445546627045,0.6810594797134399,0.24199920892715454,-0.5711179971694946,0.6822828650474548,4.010688304901123,-0.08772506564855576,1.970331072807312,-2.4985058307647705,-2.709231376647949,-1.2700783014297485,3.293665885925293,3.3927624225616455,-1.7925258874893188,1.2144790887832642,-2.4209847450256348,0.8543254733085632,-3.717151641845703,0.8068881630897522,0.5079010725021362,0.8901495337486267,-0.02195327915251255,1.6369656324386597,-2.4912450313568115,-1.7588852643966675,5.747820854187012,5.58908224105835,0.5704399347305298,-0.6553401350975037,0.26887622475624084,-2.2260148525238037,-1.5674196481704712,4.561703681945801,5.8645853996276855,5.486792087554932,-1.7775856256484985,-0.7473714351654053,-0.7375437021255493,-0.9491659998893738,-1.095131754875183,-1.0047845840454102,-2.019707441329956,-2.1303038597106934],\"yaxis\":\"y\",\"type\":\"scatter\"}],                        {\"template\":{\"data\":{\"bar\":[{\"error_x\":{\"color\":\"#2a3f5f\"},\"error_y\":{\"color\":\"#2a3f5f\"},\"marker\":{\"line\":{\"color\":\"#E5ECF6\",\"width\":0.5},\"pattern\":{\"fillmode\":\"overlay\",\"size\":10,\"solidity\":0.2}},\"type\":\"bar\"}],\"barpolar\":[{\"marker\":{\"line\":{\"color\":\"#E5ECF6\",\"width\":0.5},\"pattern\":{\"fillmode\":\"overlay\",\"size\":10,\"solidity\":0.2}},\"type\":\"barpolar\"}],\"carpet\":[{\"aaxis\":{\"endlinecolor\":\"#2a3f5f\",\"gridcolor\":\"white\",\"linecolor\":\"white\",\"minorgridcolor\":\"white\",\"startlinecolor\":\"#2a3f5f\"},\"baxis\":{\"endlinecolor\":\"#2a3f5f\",\"gridcolor\":\"white\",\"linecolor\":\"white\",\"minorgridcolor\":\"white\",\"startlinecolor\":\"#2a3f5f\"},\"type\":\"carpet\"}],\"choropleth\":[{\"colorbar\":{\"outlinewidth\":0,\"ticks\":\"\"},\"type\":\"choropleth\"}],\"contour\":[{\"colorbar\":{\"outlinewidth\":0,\"ticks\":\"\"},\"colorscale\":[[0.0,\"#0d0887\"],[0.1111111111111111,\"#46039f\"],[0.2222222222222222,\"#7201a8\"],[0.3333333333333333,\"#9c179e\"],[0.4444444444444444,\"#bd3786\"],[0.5555555555555556,\"#d8576b\"],[0.6666666666666666,\"#ed7953\"],[0.7777777777777778,\"#fb9f3a\"],[0.8888888888888888,\"#fdca26\"],[1.0,\"#f0f921\"]],\"type\":\"contour\"}],\"contourcarpet\":[{\"colorbar\":{\"outlinewidth\":0,\"ticks\":\"\"},\"type\":\"contourcarpet\"}],\"heatmap\":[{\"colorbar\":{\"outlinewidth\":0,\"ticks\":\"\"},\"colorscale\":[[0.0,\"#0d0887\"],[0.1111111111111111,\"#46039f\"],[0.2222222222222222,\"#7201a8\"],[0.3333333333333333,\"#9c179e\"],[0.4444444444444444,\"#bd3786\"],[0.5555555555555556,\"#d8576b\"],[0.6666666666666666,\"#ed7953\"],[0.7777777777777778,\"#fb9f3a\"],[0.8888888888888888,\"#fdca26\"],[1.0,\"#f0f921\"]],\"type\":\"heatmap\"}],\"heatmapgl\":[{\"colorbar\":{\"outlinewidth\":0,\"ticks\":\"\"},\"colorscale\":[[0.0,\"#0d0887\"],[0.1111111111111111,\"#46039f\"],[0.2222222222222222,\"#7201a8\"],[0.3333333333333333,\"#9c179e\"],[0.4444444444444444,\"#bd3786\"],[0.5555555555555556,\"#d8576b\"],[0.6666666666666666,\"#ed7953\"],[0.7777777777777778,\"#fb9f3a\"],[0.8888888888888888,\"#fdca26\"],[1.0,\"#f0f921\"]],\"type\":\"heatmapgl\"}],\"histogram\":[{\"marker\":{\"pattern\":{\"fillmode\":\"overlay\",\"size\":10,\"solidity\":0.2}},\"type\":\"histogram\"}],\"histogram2d\":[{\"colorbar\":{\"outlinewidth\":0,\"ticks\":\"\"},\"colorscale\":[[0.0,\"#0d0887\"],[0.1111111111111111,\"#46039f\"],[0.2222222222222222,\"#7201a8\"],[0.3333333333333333,\"#9c179e\"],[0.4444444444444444,\"#bd3786\"],[0.5555555555555556,\"#d8576b\"],[0.6666666666666666,\"#ed7953\"],[0.7777777777777778,\"#fb9f3a\"],[0.8888888888888888,\"#fdca26\"],[1.0,\"#f0f921\"]],\"type\":\"histogram2d\"}],\"histogram2dcontour\":[{\"colorbar\":{\"outlinewidth\":0,\"ticks\":\"\"},\"colorscale\":[[0.0,\"#0d0887\"],[0.1111111111111111,\"#46039f\"],[0.2222222222222222,\"#7201a8\"],[0.3333333333333333,\"#9c179e\"],[0.4444444444444444,\"#bd3786\"],[0.5555555555555556,\"#d8576b\"],[0.6666666666666666,\"#ed7953\"],[0.7777777777777778,\"#fb9f3a\"],[0.8888888888888888,\"#fdca26\"],[1.0,\"#f0f921\"]],\"type\":\"histogram2dcontour\"}],\"mesh3d\":[{\"colorbar\":{\"outlinewidth\":0,\"ticks\":\"\"},\"type\":\"mesh3d\"}],\"parcoords\":[{\"line\":{\"colorbar\":{\"outlinewidth\":0,\"ticks\":\"\"}},\"type\":\"parcoords\"}],\"pie\":[{\"automargin\":true,\"type\":\"pie\"}],\"scatter\":[{\"marker\":{\"colorbar\":{\"outlinewidth\":0,\"ticks\":\"\"}},\"type\":\"scatter\"}],\"scatter3d\":[{\"line\":{\"colorbar\":{\"outlinewidth\":0,\"ticks\":\"\"}},\"marker\":{\"colorbar\":{\"outlinewidth\":0,\"ticks\":\"\"}},\"type\":\"scatter3d\"}],\"scattercarpet\":[{\"marker\":{\"colorbar\":{\"outlinewidth\":0,\"ticks\":\"\"}},\"type\":\"scattercarpet\"}],\"scattergeo\":[{\"marker\":{\"colorbar\":{\"outlinewidth\":0,\"ticks\":\"\"}},\"type\":\"scattergeo\"}],\"scattergl\":[{\"marker\":{\"colorbar\":{\"outlinewidth\":0,\"ticks\":\"\"}},\"type\":\"scattergl\"}],\"scattermapbox\":[{\"marker\":{\"colorbar\":{\"outlinewidth\":0,\"ticks\":\"\"}},\"type\":\"scattermapbox\"}],\"scatterpolar\":[{\"marker\":{\"colorbar\":{\"outlinewidth\":0,\"ticks\":\"\"}},\"type\":\"scatterpolar\"}],\"scatterpolargl\":[{\"marker\":{\"colorbar\":{\"outlinewidth\":0,\"ticks\":\"\"}},\"type\":\"scatterpolargl\"}],\"scatterternary\":[{\"marker\":{\"colorbar\":{\"outlinewidth\":0,\"ticks\":\"\"}},\"type\":\"scatterternary\"}],\"surface\":[{\"colorbar\":{\"outlinewidth\":0,\"ticks\":\"\"},\"colorscale\":[[0.0,\"#0d0887\"],[0.1111111111111111,\"#46039f\"],[0.2222222222222222,\"#7201a8\"],[0.3333333333333333,\"#9c179e\"],[0.4444444444444444,\"#bd3786\"],[0.5555555555555556,\"#d8576b\"],[0.6666666666666666,\"#ed7953\"],[0.7777777777777778,\"#fb9f3a\"],[0.8888888888888888,\"#fdca26\"],[1.0,\"#f0f921\"]],\"type\":\"surface\"}],\"table\":[{\"cells\":{\"fill\":{\"color\":\"#EBF0F8\"},\"line\":{\"color\":\"white\"}},\"header\":{\"fill\":{\"color\":\"#C8D4E3\"},\"line\":{\"color\":\"white\"}},\"type\":\"table\"}]},\"layout\":{\"annotationdefaults\":{\"arrowcolor\":\"#2a3f5f\",\"arrowhead\":0,\"arrowwidth\":1},\"autotypenumbers\":\"strict\",\"coloraxis\":{\"colorbar\":{\"outlinewidth\":0,\"ticks\":\"\"}},\"colorscale\":{\"diverging\":[[0,\"#8e0152\"],[0.1,\"#c51b7d\"],[0.2,\"#de77ae\"],[0.3,\"#f1b6da\"],[0.4,\"#fde0ef\"],[0.5,\"#f7f7f7\"],[0.6,\"#e6f5d0\"],[0.7,\"#b8e186\"],[0.8,\"#7fbc41\"],[0.9,\"#4d9221\"],[1,\"#276419\"]],\"sequential\":[[0.0,\"#0d0887\"],[0.1111111111111111,\"#46039f\"],[0.2222222222222222,\"#7201a8\"],[0.3333333333333333,\"#9c179e\"],[0.4444444444444444,\"#bd3786\"],[0.5555555555555556,\"#d8576b\"],[0.6666666666666666,\"#ed7953\"],[0.7777777777777778,\"#fb9f3a\"],[0.8888888888888888,\"#fdca26\"],[1.0,\"#f0f921\"]],\"sequentialminus\":[[0.0,\"#0d0887\"],[0.1111111111111111,\"#46039f\"],[0.2222222222222222,\"#7201a8\"],[0.3333333333333333,\"#9c179e\"],[0.4444444444444444,\"#bd3786\"],[0.5555555555555556,\"#d8576b\"],[0.6666666666666666,\"#ed7953\"],[0.7777777777777778,\"#fb9f3a\"],[0.8888888888888888,\"#fdca26\"],[1.0,\"#f0f921\"]]},\"colorway\":[\"#636efa\",\"#EF553B\",\"#00cc96\",\"#ab63fa\",\"#FFA15A\",\"#19d3f3\",\"#FF6692\",\"#B6E880\",\"#FF97FF\",\"#FECB52\"],\"font\":{\"color\":\"#2a3f5f\"},\"geo\":{\"bgcolor\":\"white\",\"lakecolor\":\"white\",\"landcolor\":\"#E5ECF6\",\"showlakes\":true,\"showland\":true,\"subunitcolor\":\"white\"},\"hoverlabel\":{\"align\":\"left\"},\"hovermode\":\"closest\",\"mapbox\":{\"style\":\"light\"},\"paper_bgcolor\":\"white\",\"plot_bgcolor\":\"#E5ECF6\",\"polar\":{\"angularaxis\":{\"gridcolor\":\"white\",\"linecolor\":\"white\",\"ticks\":\"\"},\"bgcolor\":\"#E5ECF6\",\"radialaxis\":{\"gridcolor\":\"white\",\"linecolor\":\"white\",\"ticks\":\"\"}},\"scene\":{\"xaxis\":{\"backgroundcolor\":\"#E5ECF6\",\"gridcolor\":\"white\",\"gridwidth\":2,\"linecolor\":\"white\",\"showbackground\":true,\"ticks\":\"\",\"zerolinecolor\":\"white\"},\"yaxis\":{\"backgroundcolor\":\"#E5ECF6\",\"gridcolor\":\"white\",\"gridwidth\":2,\"linecolor\":\"white\",\"showbackground\":true,\"ticks\":\"\",\"zerolinecolor\":\"white\"},\"zaxis\":{\"backgroundcolor\":\"#E5ECF6\",\"gridcolor\":\"white\",\"gridwidth\":2,\"linecolor\":\"white\",\"showbackground\":true,\"ticks\":\"\",\"zerolinecolor\":\"white\"}},\"shapedefaults\":{\"line\":{\"color\":\"#2a3f5f\"}},\"ternary\":{\"aaxis\":{\"gridcolor\":\"white\",\"linecolor\":\"white\",\"ticks\":\"\"},\"baxis\":{\"gridcolor\":\"white\",\"linecolor\":\"white\",\"ticks\":\"\"},\"bgcolor\":\"#E5ECF6\",\"caxis\":{\"gridcolor\":\"white\",\"linecolor\":\"white\",\"ticks\":\"\"}},\"title\":{\"x\":0.05},\"xaxis\":{\"automargin\":true,\"gridcolor\":\"white\",\"linecolor\":\"white\",\"ticks\":\"\",\"title\":{\"standoff\":15},\"zerolinecolor\":\"white\",\"zerolinewidth\":2},\"yaxis\":{\"automargin\":true,\"gridcolor\":\"white\",\"linecolor\":\"white\",\"ticks\":\"\",\"title\":{\"standoff\":15},\"zerolinecolor\":\"white\",\"zerolinewidth\":2}}},\"xaxis\":{\"anchor\":\"y\",\"domain\":[0.0,1.0],\"title\":{\"text\":\"x\"}},\"yaxis\":{\"anchor\":\"x\",\"domain\":[0.0,1.0],\"title\":{\"text\":\"y\"}},\"legend\":{\"tracegroupgap\":0},\"title\":{\"text\":\"Autoencoder \\ucc28\\uc6d0\\ucd95\\uc18c\"}},                        {\"responsive\": true}                    ).then(function(){\n",
       "                            \n",
       "var gd = document.getElementById('4fc97810-957d-45b9-b520-cf0f36109211');\n",
       "var x = new MutationObserver(function (mutations, observer) {{\n",
       "        var display = window.getComputedStyle(gd).display;\n",
       "        if (!display || display === 'none') {{\n",
       "            console.log([gd, 'removed!']);\n",
       "            Plotly.purge(gd);\n",
       "            observer.disconnect();\n",
       "        }}\n",
       "}});\n",
       "\n",
       "// Listen for the removal of the full notebook cells\n",
       "var notebookContainer = gd.closest('#notebook-container');\n",
       "if (notebookContainer) {{\n",
       "    x.observe(notebookContainer, {childList: true});\n",
       "}}\n",
       "\n",
       "// Listen for the clearing of the current output cell\n",
       "var outputEl = gd.closest('.output');\n",
       "if (outputEl) {{\n",
       "    x.observe(outputEl, {childList: true});\n",
       "}}\n",
       "\n",
       "                        })                };                });            </script>        </div>"
      ]
     },
     "metadata": {},
     "output_type": "display_data"
    }
   ],
   "source": [
    "import plotly.express as px\n",
    "\n",
    "fig = px.scatter(new_df, x=\"x\", y=\"y\",\n",
    "                 #color=\"species\", \n",
    "                 #size='petal_length',\n",
    "                 hover_data=['곡 제목', '가수', 'tag max', 'emotion max'], # 참고할 데이터 추가\n",
    "                 title='Autoencoder 차원축소' # 그래프 타이틀 지정\n",
    "                )\n",
    "fig.show()"
   ]
  },
  {
   "cell_type": "code",
   "execution_count": null,
   "id": "400cbda6",
   "metadata": {},
   "outputs": [],
   "source": []
  },
  {
   "cell_type": "markdown",
   "id": "7fbe6a47",
   "metadata": {},
   "source": [
    "# 유저 입장에서 테스트"
   ]
  },
  {
   "cell_type": "code",
   "execution_count": 144,
   "id": "6371f399",
   "metadata": {},
   "outputs": [
    {
     "data": {
      "text/plain": [
       "array([[3.0459127, 1.8552772]], dtype=float32)"
      ]
     },
     "execution_count": 144,
     "metadata": {},
     "output_type": "execute_result"
    }
   ],
   "source": [
    "# encode the train data\n",
    "text = \"너무 설레여. 하루하루가 기쁘고 행복해. 내일도 그 사람과 좋은 시간을 보내고 싶다.\"\n",
    "test = hub_layer([text])\n",
    "test_latent = encoder.predict(test)\n",
    "test_latent"
   ]
  },
  {
   "cell_type": "code",
   "execution_count": 145,
   "id": "d5f1f24d",
   "metadata": {},
   "outputs": [],
   "source": [
    "#평가 방법 맞는지?\n",
    "#코사인?\n",
    "#from sklearn.metrics.pairwise import cosine_similarity\n",
    "#cosine_similarity(tfidf_matrix, tfidf_matrix)\n",
    "new_df[\"sim\"] = 0\n",
    "new_df[\"sim\"] = new_df.apply(lambda x : abs(x['x']-test_latent[0][0])+abs(x['y']-test_latent[0][1]), axis=1)"
   ]
  },
  {
   "cell_type": "code",
   "execution_count": 146,
   "id": "12a3eeb7",
   "metadata": {},
   "outputs": [],
   "source": [
    "#new_df.sort_values(by=['sim']).head(5)"
   ]
  },
  {
   "cell_type": "code",
   "execution_count": 154,
   "id": "88abcbac",
   "metadata": {},
   "outputs": [
    {
     "data": {
      "text/plain": [
       "array(['샌프란시스코 모든 색상은 나의 일산 프란시스코에서 모든 색상을 보았습니다 모든 색상 모든 색상은 볼 스 캔 프란시스코 장밋빛 맛을 지킵니다 Blowingprima donnas와 Dancerslittle 형상이 당신이 당신을 탈출할 수 있습니다 요는 당신이 만날 때마다 당신이 느끼는 시간이 당신을 기분이 좋을 때마다 당신을 할 때마다 요요패션 프란시스코 모든 색상 보기 Backsan Francisco Rosy Flavors Blowingsan Francisco San Franciscosan Franciscovery Time Franciscoevery Time Flevery Time YoYo는 마다 기분이 좋을 때마다 당신을 만지는 시간이 당신을 기분이 좋을 때마다 당신을 기분이 좋을 때마다 당신을 기분이 좋을 때마다 당신이 느낄 때마다 당신이 느낄 때마다 당신이 느낄 때마다 당신이 느낄 때마다 당신은 할 수 있습니다'],\n",
       "      dtype=object)"
      ]
     },
     "execution_count": 154,
     "metadata": {},
     "output_type": "execute_result"
    }
   ],
   "source": [
    "new_df.sort_values(by=['sim']).head(1)['lyrics'].values"
   ]
  },
  {
   "cell_type": "code",
   "execution_count": null,
   "id": "c16a8d2a",
   "metadata": {},
   "outputs": [],
   "source": []
  },
  {
   "cell_type": "code",
   "execution_count": null,
   "id": "ef026001",
   "metadata": {},
   "outputs": [],
   "source": []
  },
  {
   "cell_type": "markdown",
   "id": "5e444038",
   "metadata": {},
   "source": [
    "## 가사 + 태그 인풋"
   ]
  },
  {
   "cell_type": "code",
   "execution_count": 228,
   "id": "0997ed02",
   "metadata": {},
   "outputs": [
    {
     "data": {
      "text/html": [
       "<div>\n",
       "<style scoped>\n",
       "    .dataframe tbody tr th:only-of-type {\n",
       "        vertical-align: middle;\n",
       "    }\n",
       "\n",
       "    .dataframe tbody tr th {\n",
       "        vertical-align: top;\n",
       "    }\n",
       "\n",
       "    .dataframe thead th {\n",
       "        text-align: right;\n",
       "    }\n",
       "</style>\n",
       "<table border=\"1\" class=\"dataframe\">\n",
       "  <thead>\n",
       "    <tr style=\"text-align: right;\">\n",
       "      <th></th>\n",
       "      <th>ori_index</th>\n",
       "      <th>2차 가공</th>\n",
       "      <th>곡 제목</th>\n",
       "      <th>가수</th>\n",
       "      <th>tag count</th>\n",
       "      <th>emotion max</th>\n",
       "      <th>곡 장르 리스트</th>\n",
       "      <th>대분류str</th>\n",
       "    </tr>\n",
       "  </thead>\n",
       "  <tbody>\n",
       "    <tr>\n",
       "      <th>0</th>\n",
       "      <td>0</td>\n",
       "      <td>이 모든 것이 다 지나가고 또 시간이 흐르고 나면 그때는 모든 게 아무것도 아닌 일...</td>\n",
       "      <td>모든게 지나면</td>\n",
       "      <td>화랑</td>\n",
       "      <td>{'뮤지컬': 1, '사랑': 1}</td>\n",
       "      <td>['경쾌한', '행복한']</td>\n",
       "      <td>['GN1500', 'GN2900']</td>\n",
       "      <td>GN1500,GN2900</td>\n",
       "    </tr>\n",
       "    <tr>\n",
       "      <th>1</th>\n",
       "      <td>2</td>\n",
       "      <td>아직 열어보지 말아요 호기심이 생겨도 떨어트리 지도 말아요 그럼 나는 깨져버릴 테니...</td>\n",
       "      <td>마음 (*취급주의)</td>\n",
       "      <td>러블리즈</td>\n",
       "      <td>{'댄스': 8, '새해': 1, '헬스': 1, '운동할때': 1, '카페': 3...</td>\n",
       "      <td>['행복한']</td>\n",
       "      <td>['GN2500', 'GN0200']</td>\n",
       "      <td>GN2500,GN0200</td>\n",
       "    </tr>\n",
       "  </tbody>\n",
       "</table>\n",
       "</div>"
      ],
      "text/plain": [
       "   ori_index                                              2차 가공        곡 제목  \\\n",
       "0          0  이 모든 것이 다 지나가고 또 시간이 흐르고 나면 그때는 모든 게 아무것도 아닌 일...     모든게 지나면   \n",
       "1          2  아직 열어보지 말아요 호기심이 생겨도 떨어트리 지도 말아요 그럼 나는 깨져버릴 테니...  마음 (*취급주의)   \n",
       "\n",
       "     가수                                          tag count     emotion max  \\\n",
       "0    화랑                                {'뮤지컬': 1, '사랑': 1}  ['경쾌한', '행복한']   \n",
       "1  러블리즈  {'댄스': 8, '새해': 1, '헬스': 1, '운동할때': 1, '카페': 3...         ['행복한']   \n",
       "\n",
       "               곡 장르 리스트         대분류str  \n",
       "0  ['GN1500', 'GN2900']  GN1500,GN2900  \n",
       "1  ['GN2500', 'GN0200']  GN2500,GN0200  "
      ]
     },
     "execution_count": 228,
     "metadata": {},
     "output_type": "execute_result"
    }
   ],
   "source": [
    "song_all_info_lyrics = song_all_info[song_all_info['2차 가공'] != '없음']\n",
    "new2 = pd.DataFrame(song_all_info_lyrics[['2차 가공', '곡 제목', '가수', 'tag count', 'emotion max', '곡 장르 리스트', '대분류str']])\n",
    "new2.reset_index(inplace=True, drop=False)\n",
    "new2.columns=['ori_index', '2차 가공', '곡 제목', '가수', 'tag count', 'emotion max', '곡 장르 리스트', '대분류str']\n",
    "new2.head(2)"
   ]
  },
  {
   "cell_type": "code",
   "execution_count": 229,
   "id": "2db74c6f",
   "metadata": {},
   "outputs": [
    {
     "data": {
      "text/html": [
       "<div>\n",
       "<style scoped>\n",
       "    .dataframe tbody tr th:only-of-type {\n",
       "        vertical-align: middle;\n",
       "    }\n",
       "\n",
       "    .dataframe tbody tr th {\n",
       "        vertical-align: top;\n",
       "    }\n",
       "\n",
       "    .dataframe thead th {\n",
       "        text-align: right;\n",
       "    }\n",
       "</style>\n",
       "<table border=\"1\" class=\"dataframe\">\n",
       "  <thead>\n",
       "    <tr style=\"text-align: right;\">\n",
       "      <th></th>\n",
       "      <th>ori_index</th>\n",
       "      <th>2차 가공</th>\n",
       "      <th>곡 제목</th>\n",
       "      <th>가수</th>\n",
       "      <th>tag count</th>\n",
       "      <th>emotion max</th>\n",
       "      <th>곡 장르 리스트</th>\n",
       "      <th>대분류str</th>\n",
       "      <th>tag_ori</th>\n",
       "    </tr>\n",
       "  </thead>\n",
       "  <tbody>\n",
       "    <tr>\n",
       "      <th>0</th>\n",
       "      <td>0</td>\n",
       "      <td>이 모든 것이 다 지나가고 또 시간이 흐르고 나면 그때는 모든 게 아무것도 아닌 일...</td>\n",
       "      <td>모든게 지나면</td>\n",
       "      <td>화랑</td>\n",
       "      <td>{'뮤지컬': 1, '사랑': 1}</td>\n",
       "      <td>['경쾌한', '행복한']</td>\n",
       "      <td>['GN1500', 'GN2900']</td>\n",
       "      <td>GN1500,GN2900</td>\n",
       "      <td>뮤지컬, 사랑</td>\n",
       "    </tr>\n",
       "    <tr>\n",
       "      <th>1</th>\n",
       "      <td>2</td>\n",
       "      <td>아직 열어보지 말아요 호기심이 생겨도 떨어트리 지도 말아요 그럼 나는 깨져버릴 테니...</td>\n",
       "      <td>마음 (*취급주의)</td>\n",
       "      <td>러블리즈</td>\n",
       "      <td>{'댄스': 8, '새해': 1, '헬스': 1, '운동할때': 1, '카페': 3...</td>\n",
       "      <td>['행복한']</td>\n",
       "      <td>['GN2500', 'GN0200']</td>\n",
       "      <td>GN2500,GN0200</td>\n",
       "      <td>댄스, 새해, 헬스, 운동할때, 카페, 드라이브, 신나는, 비오는날, 기분전환, 봄...</td>\n",
       "    </tr>\n",
       "  </tbody>\n",
       "</table>\n",
       "</div>"
      ],
      "text/plain": [
       "   ori_index                                              2차 가공        곡 제목  \\\n",
       "0          0  이 모든 것이 다 지나가고 또 시간이 흐르고 나면 그때는 모든 게 아무것도 아닌 일...     모든게 지나면   \n",
       "1          2  아직 열어보지 말아요 호기심이 생겨도 떨어트리 지도 말아요 그럼 나는 깨져버릴 테니...  마음 (*취급주의)   \n",
       "\n",
       "     가수                                          tag count     emotion max  \\\n",
       "0    화랑                                {'뮤지컬': 1, '사랑': 1}  ['경쾌한', '행복한']   \n",
       "1  러블리즈  {'댄스': 8, '새해': 1, '헬스': 1, '운동할때': 1, '카페': 3...         ['행복한']   \n",
       "\n",
       "               곡 장르 리스트         대분류str  \\\n",
       "0  ['GN1500', 'GN2900']  GN1500,GN2900   \n",
       "1  ['GN2500', 'GN0200']  GN2500,GN0200   \n",
       "\n",
       "                                             tag_ori  \n",
       "0                                            뮤지컬, 사랑  \n",
       "1  댄스, 새해, 헬스, 운동할때, 카페, 드라이브, 신나는, 비오는날, 기분전환, 봄...  "
      ]
     },
     "execution_count": 229,
     "metadata": {},
     "output_type": "execute_result"
    }
   ],
   "source": [
    "import re\n",
    "x = [', '.join(re.findall('[ㄱ-ㅣ가-힣]+', new2['tag count'][i])) for i in range(len(new2))]\n",
    "new2['tag_ori'] = x\n",
    "new2.head(2)"
   ]
  },
  {
   "cell_type": "code",
   "execution_count": 201,
   "id": "a34b593c",
   "metadata": {},
   "outputs": [],
   "source": [
    "###### 2번)\n",
    "##### 다른거?\n",
    "#https://stackoverflow.com/questions/50236117/scraping-ssl-certificate-verify-failed-error-for-http-en-wikipedia-org\n",
    "#import ssl\n",
    "#ssl._create_default_https_context = ssl._create_unverified_context\n",
    "\n",
    "import tensorflow as tf\n",
    "import tensorflow_hub as hub\n",
    "\n",
    "#embedding = \"https://tfhub.dev/google/nnlm-en-dim50/2\"\n",
    "embedding = \"https://tfhub.dev/google/nnlm-ko-dim50/2\"\n",
    "hub_layer = hub.KerasLayer(embedding, input_shape=[], \n",
    "                           dtype=tf.string, trainable=True)"
   ]
  },
  {
   "cell_type": "code",
   "execution_count": 230,
   "id": "ab011d75",
   "metadata": {},
   "outputs": [],
   "source": [
    "from sklearn.model_selection import train_test_split\n",
    "\n",
    "train2, valid2 = train_test_split(new2, test_size=0.2, random_state=42)"
   ]
  },
  {
   "cell_type": "code",
   "execution_count": 218,
   "id": "9da8b86e",
   "metadata": {},
   "outputs": [
    {
     "data": {
      "text/plain": [
       "<tf.Tensor: shape=(1, 50), dtype=float32, numpy=\n",
       "array([[-0.30936667,  0.06280302,  0.00174486,  0.05147527,  0.03669044,\n",
       "        -0.0134164 ,  0.08090814, -0.24867363, -0.12495212,  0.05267698,\n",
       "         0.14914712, -0.2575595 ,  0.08666311, -0.03057443,  0.04137168,\n",
       "        -0.23981135, -0.12328179, -0.01761021, -0.22883159,  0.13054886,\n",
       "         0.08539107, -0.12396754, -0.2874161 , -0.33369178, -0.09018499,\n",
       "        -0.0303982 ,  0.00287409,  0.0425838 ,  0.27371073, -0.10827183,\n",
       "         0.1454306 , -0.55886024, -0.2439737 , -0.33957133,  0.0164256 ,\n",
       "        -0.06252721, -0.01548598,  0.05402949,  0.09065595, -0.09944707,\n",
       "        -0.09566302,  0.12737915,  0.2271367 ,  0.07367342,  0.09502465,\n",
       "         0.06077551,  0.03460057,  0.08175665, -0.32409123,  0.15551472]],\n",
       "      dtype=float32)>"
      ]
     },
     "execution_count": 218,
     "metadata": {},
     "output_type": "execute_result"
    }
   ],
   "source": [
    "# 비교?\n",
    "hub_layer([\"뮤지컬 사랑\"])\n",
    "hub_layer([\"뮤지컬, 사랑\"])"
   ]
  },
  {
   "cell_type": "code",
   "execution_count": 232,
   "id": "dc050142",
   "metadata": {},
   "outputs": [],
   "source": [
    "train_vector_lyrics2 = hub_layer(train2['2차 가공'])\n",
    "valid_vector_lyrics2 = hub_layer(valid2['2차 가공'])\n",
    "\n",
    "train_vector_tag2 = hub_layer(train2['tag_ori'])\n",
    "valid_vector_tag2 = hub_layer(valid2['tag_ori'])"
   ]
  },
  {
   "cell_type": "code",
   "execution_count": 237,
   "id": "6ee34eb3",
   "metadata": {},
   "outputs": [
    {
     "name": "stdout",
     "output_type": "stream",
     "text": [
      "Epoch 1/50\n",
      "18/18 - 1s - loss: 0.3283 - dense_64_loss: 0.3053 - dense_67_loss: 0.0229 - val_loss: 0.3480 - val_dense_64_loss: 0.3253 - val_dense_67_loss: 0.0227 - 1s/epoch - 80ms/step\n",
      "Epoch 2/50\n",
      "18/18 - 0s - loss: 0.3136 - dense_64_loss: 0.2917 - dense_67_loss: 0.0219 - val_loss: 0.3266 - val_dense_64_loss: 0.3035 - val_dense_67_loss: 0.0231 - 77ms/epoch - 4ms/step\n",
      "Epoch 3/50\n",
      "18/18 - 0s - loss: 0.2875 - dense_64_loss: 0.2654 - dense_67_loss: 0.0221 - val_loss: 0.2937 - val_dense_64_loss: 0.2711 - val_dense_67_loss: 0.0226 - 76ms/epoch - 4ms/step\n",
      "Epoch 4/50\n",
      "18/18 - 0s - loss: 0.2674 - dense_64_loss: 0.2464 - dense_67_loss: 0.0210 - val_loss: 0.2841 - val_dense_64_loss: 0.2627 - val_dense_67_loss: 0.0214 - 86ms/epoch - 5ms/step\n",
      "Epoch 5/50\n",
      "18/18 - 0s - loss: 0.2616 - dense_64_loss: 0.2410 - dense_67_loss: 0.0206 - val_loss: 0.2803 - val_dense_64_loss: 0.2590 - val_dense_67_loss: 0.0213 - 97ms/epoch - 5ms/step\n",
      "Epoch 6/50\n",
      "18/18 - 0s - loss: 0.2593 - dense_64_loss: 0.2388 - dense_67_loss: 0.0205 - val_loss: 0.2787 - val_dense_64_loss: 0.2575 - val_dense_67_loss: 0.0212 - 109ms/epoch - 6ms/step\n",
      "Epoch 7/50\n",
      "18/18 - 0s - loss: 0.2584 - dense_64_loss: 0.2379 - dense_67_loss: 0.0205 - val_loss: 0.2781 - val_dense_64_loss: 0.2569 - val_dense_67_loss: 0.0212 - 104ms/epoch - 6ms/step\n",
      "Epoch 8/50\n",
      "18/18 - 0s - loss: 0.2579 - dense_64_loss: 0.2374 - dense_67_loss: 0.0205 - val_loss: 0.2777 - val_dense_64_loss: 0.2565 - val_dense_67_loss: 0.0212 - 106ms/epoch - 6ms/step\n",
      "Epoch 9/50\n",
      "18/18 - 0s - loss: 0.2575 - dense_64_loss: 0.2371 - dense_67_loss: 0.0204 - val_loss: 0.2772 - val_dense_64_loss: 0.2560 - val_dense_67_loss: 0.0212 - 122ms/epoch - 7ms/step\n",
      "Epoch 10/50\n",
      "18/18 - 0s - loss: 0.2571 - dense_64_loss: 0.2367 - dense_67_loss: 0.0204 - val_loss: 0.2767 - val_dense_64_loss: 0.2556 - val_dense_67_loss: 0.0212 - 81ms/epoch - 5ms/step\n",
      "Epoch 11/50\n",
      "18/18 - 0s - loss: 0.2567 - dense_64_loss: 0.2363 - dense_67_loss: 0.0204 - val_loss: 0.2763 - val_dense_64_loss: 0.2551 - val_dense_67_loss: 0.0212 - 77ms/epoch - 4ms/step\n",
      "Epoch 12/50\n",
      "18/18 - 0s - loss: 0.2562 - dense_64_loss: 0.2358 - dense_67_loss: 0.0204 - val_loss: 0.2759 - val_dense_64_loss: 0.2548 - val_dense_67_loss: 0.0212 - 93ms/epoch - 5ms/step\n",
      "Epoch 13/50\n",
      "18/18 - 0s - loss: 0.2557 - dense_64_loss: 0.2353 - dense_67_loss: 0.0204 - val_loss: 0.2749 - val_dense_64_loss: 0.2538 - val_dense_67_loss: 0.0212 - 88ms/epoch - 5ms/step\n",
      "Epoch 14/50\n",
      "18/18 - 0s - loss: 0.2551 - dense_64_loss: 0.2347 - dense_67_loss: 0.0204 - val_loss: 0.2743 - val_dense_64_loss: 0.2531 - val_dense_67_loss: 0.0212 - 89ms/epoch - 5ms/step\n",
      "Epoch 15/50\n",
      "18/18 - 0s - loss: 0.2544 - dense_64_loss: 0.2339 - dense_67_loss: 0.0204 - val_loss: 0.2736 - val_dense_64_loss: 0.2524 - val_dense_67_loss: 0.0212 - 87ms/epoch - 5ms/step\n",
      "Epoch 16/50\n",
      "18/18 - 0s - loss: 0.2536 - dense_64_loss: 0.2331 - dense_67_loss: 0.0205 - val_loss: 0.2725 - val_dense_64_loss: 0.2511 - val_dense_67_loss: 0.0214 - 92ms/epoch - 5ms/step\n",
      "Epoch 17/50\n",
      "18/18 - 0s - loss: 0.2519 - dense_64_loss: 0.2312 - dense_67_loss: 0.0207 - val_loss: 0.2699 - val_dense_64_loss: 0.2484 - val_dense_67_loss: 0.0215 - 114ms/epoch - 6ms/step\n",
      "Epoch 18/50\n",
      "18/18 - 0s - loss: 0.2488 - dense_64_loss: 0.2281 - dense_67_loss: 0.0208 - val_loss: 0.2666 - val_dense_64_loss: 0.2450 - val_dense_67_loss: 0.0216 - 78ms/epoch - 4ms/step\n",
      "Epoch 19/50\n",
      "18/18 - 0s - loss: 0.2464 - dense_64_loss: 0.2256 - dense_67_loss: 0.0207 - val_loss: 0.2647 - val_dense_64_loss: 0.2433 - val_dense_67_loss: 0.0214 - 78ms/epoch - 4ms/step\n",
      "Epoch 20/50\n",
      "18/18 - 0s - loss: 0.2450 - dense_64_loss: 0.2244 - dense_67_loss: 0.0206 - val_loss: 0.2637 - val_dense_64_loss: 0.2423 - val_dense_67_loss: 0.0213 - 87ms/epoch - 5ms/step\n",
      "Epoch 21/50\n",
      "18/18 - 0s - loss: 0.2440 - dense_64_loss: 0.2235 - dense_67_loss: 0.0205 - val_loss: 0.2628 - val_dense_64_loss: 0.2416 - val_dense_67_loss: 0.0213 - 89ms/epoch - 5ms/step\n",
      "Epoch 22/50\n",
      "18/18 - 0s - loss: 0.2434 - dense_64_loss: 0.2229 - dense_67_loss: 0.0205 - val_loss: 0.2622 - val_dense_64_loss: 0.2410 - val_dense_67_loss: 0.0212 - 95ms/epoch - 5ms/step\n",
      "Epoch 23/50\n",
      "18/18 - 0s - loss: 0.2429 - dense_64_loss: 0.2224 - dense_67_loss: 0.0205 - val_loss: 0.2619 - val_dense_64_loss: 0.2406 - val_dense_67_loss: 0.0212 - 127ms/epoch - 7ms/step\n",
      "Epoch 24/50\n",
      "18/18 - 0s - loss: 0.2425 - dense_64_loss: 0.2220 - dense_67_loss: 0.0204 - val_loss: 0.2615 - val_dense_64_loss: 0.2403 - val_dense_67_loss: 0.0212 - 99ms/epoch - 5ms/step\n",
      "Epoch 25/50\n",
      "18/18 - 0s - loss: 0.2422 - dense_64_loss: 0.2217 - dense_67_loss: 0.0204 - val_loss: 0.2616 - val_dense_64_loss: 0.2403 - val_dense_67_loss: 0.0213 - 90ms/epoch - 5ms/step\n",
      "Epoch 26/50\n",
      "18/18 - 0s - loss: 0.2419 - dense_64_loss: 0.2214 - dense_67_loss: 0.0204 - val_loss: 0.2613 - val_dense_64_loss: 0.2401 - val_dense_67_loss: 0.0212 - 88ms/epoch - 5ms/step\n",
      "Epoch 27/50\n",
      "18/18 - 0s - loss: 0.2416 - dense_64_loss: 0.2211 - dense_67_loss: 0.0204 - val_loss: 0.2611 - val_dense_64_loss: 0.2400 - val_dense_67_loss: 0.0212 - 114ms/epoch - 6ms/step\n",
      "Epoch 28/50\n",
      "18/18 - 0s - loss: 0.2411 - dense_64_loss: 0.2207 - dense_67_loss: 0.0204 - val_loss: 0.2604 - val_dense_64_loss: 0.2392 - val_dense_67_loss: 0.0212 - 115ms/epoch - 6ms/step\n",
      "Epoch 29/50\n",
      "18/18 - 0s - loss: 0.2403 - dense_64_loss: 0.2199 - dense_67_loss: 0.0204 - val_loss: 0.2598 - val_dense_64_loss: 0.2386 - val_dense_67_loss: 0.0212 - 122ms/epoch - 7ms/step\n",
      "Epoch 30/50\n",
      "18/18 - 0s - loss: 0.2399 - dense_64_loss: 0.2194 - dense_67_loss: 0.0204 - val_loss: 0.2597 - val_dense_64_loss: 0.2385 - val_dense_67_loss: 0.0212 - 102ms/epoch - 6ms/step\n",
      "Epoch 31/50\n",
      "18/18 - 0s - loss: 0.2396 - dense_64_loss: 0.2191 - dense_67_loss: 0.0204 - val_loss: 0.2595 - val_dense_64_loss: 0.2383 - val_dense_67_loss: 0.0212 - 93ms/epoch - 5ms/step\n",
      "Epoch 32/50\n",
      "18/18 - 0s - loss: 0.2393 - dense_64_loss: 0.2189 - dense_67_loss: 0.0204 - val_loss: 0.2595 - val_dense_64_loss: 0.2382 - val_dense_67_loss: 0.0212 - 135ms/epoch - 7ms/step\n",
      "Epoch 33/50\n",
      "18/18 - 0s - loss: 0.2391 - dense_64_loss: 0.2187 - dense_67_loss: 0.0204 - val_loss: 0.2592 - val_dense_64_loss: 0.2380 - val_dense_67_loss: 0.0212 - 102ms/epoch - 6ms/step\n",
      "Epoch 34/50\n",
      "18/18 - 0s - loss: 0.2389 - dense_64_loss: 0.2185 - dense_67_loss: 0.0204 - val_loss: 0.2592 - val_dense_64_loss: 0.2380 - val_dense_67_loss: 0.0212 - 105ms/epoch - 6ms/step\n",
      "Epoch 35/50\n",
      "18/18 - 0s - loss: 0.2388 - dense_64_loss: 0.2184 - dense_67_loss: 0.0204 - val_loss: 0.2591 - val_dense_64_loss: 0.2379 - val_dense_67_loss: 0.0212 - 83ms/epoch - 5ms/step\n",
      "Epoch 36/50\n",
      "18/18 - 0s - loss: 0.2387 - dense_64_loss: 0.2183 - dense_67_loss: 0.0204 - val_loss: 0.2591 - val_dense_64_loss: 0.2379 - val_dense_67_loss: 0.0212 - 111ms/epoch - 6ms/step\n",
      "Epoch 37/50\n",
      "18/18 - 0s - loss: 0.2386 - dense_64_loss: 0.2182 - dense_67_loss: 0.0204 - val_loss: 0.2590 - val_dense_64_loss: 0.2378 - val_dense_67_loss: 0.0212 - 94ms/epoch - 5ms/step\n",
      "Epoch 38/50\n",
      "18/18 - 0s - loss: 0.2385 - dense_64_loss: 0.2181 - dense_67_loss: 0.0204 - val_loss: 0.2590 - val_dense_64_loss: 0.2377 - val_dense_67_loss: 0.0212 - 79ms/epoch - 4ms/step\n",
      "Epoch 39/50\n",
      "18/18 - 0s - loss: 0.2385 - dense_64_loss: 0.2181 - dense_67_loss: 0.0204 - val_loss: 0.2589 - val_dense_64_loss: 0.2377 - val_dense_67_loss: 0.0212 - 85ms/epoch - 5ms/step\n",
      "Epoch 40/50\n",
      "18/18 - 0s - loss: 0.2384 - dense_64_loss: 0.2180 - dense_67_loss: 0.0204 - val_loss: 0.2589 - val_dense_64_loss: 0.2377 - val_dense_67_loss: 0.0212 - 80ms/epoch - 4ms/step\n",
      "Epoch 41/50\n",
      "18/18 - 0s - loss: 0.2383 - dense_64_loss: 0.2179 - dense_67_loss: 0.0204 - val_loss: 0.2589 - val_dense_64_loss: 0.2377 - val_dense_67_loss: 0.0212 - 79ms/epoch - 4ms/step\n",
      "Epoch 42/50\n",
      "18/18 - 0s - loss: 0.2383 - dense_64_loss: 0.2179 - dense_67_loss: 0.0204 - val_loss: 0.2588 - val_dense_64_loss: 0.2376 - val_dense_67_loss: 0.0212 - 84ms/epoch - 5ms/step\n",
      "Epoch 43/50\n",
      "18/18 - 0s - loss: 0.2382 - dense_64_loss: 0.2179 - dense_67_loss: 0.0204 - val_loss: 0.2588 - val_dense_64_loss: 0.2375 - val_dense_67_loss: 0.0212 - 92ms/epoch - 5ms/step\n",
      "Epoch 44/50\n",
      "18/18 - 0s - loss: 0.2381 - dense_64_loss: 0.2178 - dense_67_loss: 0.0204 - val_loss: 0.2588 - val_dense_64_loss: 0.2376 - val_dense_67_loss: 0.0213 - 118ms/epoch - 7ms/step\n",
      "Epoch 45/50\n",
      "18/18 - 0s - loss: 0.2381 - dense_64_loss: 0.2177 - dense_67_loss: 0.0204 - val_loss: 0.2588 - val_dense_64_loss: 0.2376 - val_dense_67_loss: 0.0212 - 113ms/epoch - 6ms/step\n"
     ]
    },
    {
     "name": "stdout",
     "output_type": "stream",
     "text": [
      "Epoch 46/50\n",
      "18/18 - 0s - loss: 0.2381 - dense_64_loss: 0.2177 - dense_67_loss: 0.0204 - val_loss: 0.2587 - val_dense_64_loss: 0.2375 - val_dense_67_loss: 0.0212 - 100ms/epoch - 6ms/step\n",
      "Epoch 47/50\n",
      "18/18 - 0s - loss: 0.2380 - dense_64_loss: 0.2176 - dense_67_loss: 0.0204 - val_loss: 0.2587 - val_dense_64_loss: 0.2375 - val_dense_67_loss: 0.0212 - 94ms/epoch - 5ms/step\n",
      "Epoch 48/50\n",
      "18/18 - 0s - loss: 0.2379 - dense_64_loss: 0.2176 - dense_67_loss: 0.0204 - val_loss: 0.2587 - val_dense_64_loss: 0.2375 - val_dense_67_loss: 0.0213 - 108ms/epoch - 6ms/step\n",
      "Epoch 49/50\n",
      "18/18 - 0s - loss: 0.2379 - dense_64_loss: 0.2176 - dense_67_loss: 0.0204 - val_loss: 0.2588 - val_dense_64_loss: 0.2375 - val_dense_67_loss: 0.0212 - 117ms/epoch - 6ms/step\n",
      "Epoch 50/50\n",
      "18/18 - 0s - loss: 0.2379 - dense_64_loss: 0.2175 - dense_67_loss: 0.0204 - val_loss: 0.2587 - val_dense_64_loss: 0.2374 - val_dense_67_loss: 0.0213 - 103ms/epoch - 6ms/step\n"
     ]
    }
   ],
   "source": [
    "##### 3번\n",
    "#https://stackoverflow.com/questions/52435274/how-to-use-keras-merge-layer-for-autoencoder-with-two-ouput\n",
    "# 직접 임베딩?한다면 어떻게?\n",
    "# 옵티마이저, activation, loss 이렇게 하는게 맞는지? (아까와 다름..)\n",
    "\n",
    "from tensorflow.keras.models import Model\n",
    "from tensorflow.keras.layers import Input, Dense, LeakyReLU, BatchNormalization, Concatenate\n",
    "from tensorflow.keras.utils import plot_model\n",
    "from matplotlib import pyplot\n",
    "\n",
    "Xinput = Input(shape=(50,))\n",
    "Yinput = Input(shape=(50,))\n",
    "\n",
    "Xencoded = Dense(24, activation='relu')(Xinput)\n",
    "Xencoded = Dense(8, activation='relu')(Xencoded)\n",
    "\n",
    "\n",
    "Yencoded = Dense(24, activation='relu')(Yinput)\n",
    "Yencoded = Dense(8, activation='relu')(Yencoded)\n",
    "\n",
    "shared_input = Concatenate()([Xencoded, Yencoded])\n",
    "shared_output = Dense(2, activation='relu')(shared_input)\n",
    "\n",
    "Xdecoded = Dense(8, activation='relu')(shared_output)\n",
    "Xdecoded = Dense(24, activation='relu')(Xdecoded)\n",
    "Xdecoded = Dense(50, activation='relu')(Xdecoded)\n",
    "\n",
    "Ydecoded = Dense(8, activation='relu')(shared_output)\n",
    "Ydecoded = Dense(24, activation='relu')(Ydecoded)\n",
    "Ydecoded = Dense(50, activation='relu')(Ydecoded)\n",
    "\n",
    "# define autoencoder model and compile\n",
    "model2 = Model(inputs=[Xinput, Yinput], outputs=[Xdecoded, Ydecoded])\n",
    "model2.compile(optimizer='adam', loss=['mse', 'mse'], loss_weights=[1., 1.])\n",
    "\n",
    "# plot the autoencoder\n",
    "#plot_model(model, 'autoencoder_compress.png', show_shapes=True)\n",
    "# fit the autoencoder model to reconstruct input\n",
    "history2 = model2.fit([train_vector_lyrics2, train_vector_tag2], [train_vector_lyrics2, train_vector_tag2],\n",
    "                    validation_data = ([valid_vector_lyrics2, valid_vector_tag2], [valid_vector_lyrics2, valid_vector_tag2]),\n",
    "                    epochs = 50, batch_size = 32, verbose=2)"
   ]
  },
  {
   "cell_type": "code",
   "execution_count": 238,
   "id": "9d74a02f",
   "metadata": {},
   "outputs": [
    {
     "data": {
      "image/png": "[encoded data removed]",
      "text/plain": [
       "<Figure size 432x288 with 1 Axes>"
      ]
     },
     "metadata": {
      "needs_background": "light"
     },
     "output_type": "display_data"
    }
   ],
   "source": [
    "# plot loss\n",
    "pyplot.plot(history2.history['loss'], label='train')\n",
    "pyplot.plot(history2.history['val_loss'], label='valid')\n",
    "pyplot.legend()\n",
    "pyplot.show()"
   ]
  },
  {
   "cell_type": "code",
   "execution_count": 249,
   "id": "31cbb756",
   "metadata": {},
   "outputs": [],
   "source": [
    "# 인코더 모델 저장\n",
    "encoder2 = Model(inputs=[Xinput, Yinput], outputs=shared_output)\n",
    "#plot_model(encoder, 'encoder_compress.png', show_shapes=True)\n",
    "# save the encoder to file\n",
    "#encoder.save('encoder.h5')"
   ]
  },
  {
   "cell_type": "code",
   "execution_count": 242,
   "id": "8346006f",
   "metadata": {},
   "outputs": [
    {
     "data": {
      "text/plain": [
       "(704, 2)"
      ]
     },
     "execution_count": 242,
     "metadata": {},
     "output_type": "execute_result"
    }
   ],
   "source": [
    "# encode the train data\n",
    "vector_lyrics = hub_layer(new2['2차 가공'])\n",
    "vector_tags = hub_layer(new2['tag_ori'])\n",
    "latent_variables2 = encoder.predict([vector_lyrics, vector_tags])\n",
    "latent_variables2.shape"
   ]
  },
  {
   "cell_type": "code",
   "execution_count": 244,
   "id": "baedb18d",
   "metadata": {},
   "outputs": [
    {
     "data": {
      "text/html": [
       "<div>\n",
       "<style scoped>\n",
       "    .dataframe tbody tr th:only-of-type {\n",
       "        vertical-align: middle;\n",
       "    }\n",
       "\n",
       "    .dataframe tbody tr th {\n",
       "        vertical-align: top;\n",
       "    }\n",
       "\n",
       "    .dataframe thead th {\n",
       "        text-align: right;\n",
       "    }\n",
       "</style>\n",
       "<table border=\"1\" class=\"dataframe\">\n",
       "  <thead>\n",
       "    <tr style=\"text-align: right;\">\n",
       "      <th></th>\n",
       "      <th>ori_index</th>\n",
       "      <th>2차 가공</th>\n",
       "      <th>곡 제목</th>\n",
       "      <th>가수</th>\n",
       "      <th>tag count</th>\n",
       "      <th>emotion max</th>\n",
       "      <th>곡 장르 리스트</th>\n",
       "      <th>대분류str</th>\n",
       "      <th>tag_ori</th>\n",
       "      <th>x</th>\n",
       "      <th>y</th>\n",
       "    </tr>\n",
       "  </thead>\n",
       "  <tbody>\n",
       "    <tr>\n",
       "      <th>0</th>\n",
       "      <td>0</td>\n",
       "      <td>이 모든 것이 다 지나가고 또 시간이 흐르고 나면 그때는 모든 게 아무것도 아닌 일...</td>\n",
       "      <td>모든게 지나면</td>\n",
       "      <td>화랑</td>\n",
       "      <td>{'뮤지컬': 1, '사랑': 1}</td>\n",
       "      <td>['경쾌한', '행복한']</td>\n",
       "      <td>['GN1500', 'GN2900']</td>\n",
       "      <td>GN1500,GN2900</td>\n",
       "      <td>뮤지컬, 사랑</td>\n",
       "      <td>0.341554</td>\n",
       "      <td>0.668134</td>\n",
       "    </tr>\n",
       "    <tr>\n",
       "      <th>1</th>\n",
       "      <td>2</td>\n",
       "      <td>아직 열어보지 말아요 호기심이 생겨도 떨어트리 지도 말아요 그럼 나는 깨져버릴 테니...</td>\n",
       "      <td>마음 (*취급주의)</td>\n",
       "      <td>러블리즈</td>\n",
       "      <td>{'댄스': 8, '새해': 1, '헬스': 1, '운동할때': 1, '카페': 3...</td>\n",
       "      <td>['행복한']</td>\n",
       "      <td>['GN2500', 'GN0200']</td>\n",
       "      <td>GN2500,GN0200</td>\n",
       "      <td>댄스, 새해, 헬스, 운동할때, 카페, 드라이브, 신나는, 비오는날, 기분전환, 봄...</td>\n",
       "      <td>1.845627</td>\n",
       "      <td>1.469765</td>\n",
       "    </tr>\n",
       "    <tr>\n",
       "      <th>2</th>\n",
       "      <td>4</td>\n",
       "      <td>너를 맘에 담고 나는 눈을 감고 우리의 추억을 떠올리며 살아 항상 행복했던 우리 기...</td>\n",
       "      <td>두달 뒤 부르는 노래</td>\n",
       "      <td>플라워디어 (Flour Deer)</td>\n",
       "      <td>{'비오는날': 1, '비': 1, '슬픈': 1, '집중': 1, '여유': 1,...</td>\n",
       "      <td>['우울한']</td>\n",
       "      <td>['GN0800']</td>\n",
       "      <td>GN1400</td>\n",
       "      <td>비오는날, 비, 슬픈, 집중, 여유, 카페, 새벽, 주말, 힐링, 작업, 밤</td>\n",
       "      <td>1.126274</td>\n",
       "      <td>1.386065</td>\n",
       "    </tr>\n",
       "    <tr>\n",
       "      <th>3</th>\n",
       "      <td>5</td>\n",
       "      <td>흰 꽃은 밤에 아름답단 이유를 내게도 가르쳐줄 순 없소 이대로 날 잡아둘 뿐인지 흰...</td>\n",
       "      <td>비밀</td>\n",
       "      <td>캐스커</td>\n",
       "      <td>{'이별': 2, '슬픔': 1, '설렘': 1, '사랑': 1}</td>\n",
       "      <td>['우울한']</td>\n",
       "      <td>['GN0500', 'GN2600']</td>\n",
       "      <td>GN0500,GN1100</td>\n",
       "      <td>이별, 슬픔, 설렘, 사랑</td>\n",
       "      <td>0.774167</td>\n",
       "      <td>0.854337</td>\n",
       "    </tr>\n",
       "    <tr>\n",
       "      <th>4</th>\n",
       "      <td>6</td>\n",
       "      <td>나 기도할게 저 하늘에도 그대가 나의 기억 간직하도록 널 위해 불러 주었던 그 노래...</td>\n",
       "      <td>약속</td>\n",
       "      <td>KYT (코요태)</td>\n",
       "      <td>{'슬픔': 1, '추억': 2, '이별': 1, '회상': 2, '기분전환': 1}</td>\n",
       "      <td>['행복한', '잔잔한']</td>\n",
       "      <td>['GN0100']</td>\n",
       "      <td>GN0100</td>\n",
       "      <td>슬픔, 추억, 이별, 회상, 기분전환</td>\n",
       "      <td>1.961346</td>\n",
       "      <td>1.639760</td>\n",
       "    </tr>\n",
       "  </tbody>\n",
       "</table>\n",
       "</div>"
      ],
      "text/plain": [
       "   ori_index                                              2차 가공         곡 제목  \\\n",
       "0          0  이 모든 것이 다 지나가고 또 시간이 흐르고 나면 그때는 모든 게 아무것도 아닌 일...      모든게 지나면   \n",
       "1          2  아직 열어보지 말아요 호기심이 생겨도 떨어트리 지도 말아요 그럼 나는 깨져버릴 테니...   마음 (*취급주의)   \n",
       "2          4  너를 맘에 담고 나는 눈을 감고 우리의 추억을 떠올리며 살아 항상 행복했던 우리 기...  두달 뒤 부르는 노래   \n",
       "3          5  흰 꽃은 밤에 아름답단 이유를 내게도 가르쳐줄 순 없소 이대로 날 잡아둘 뿐인지 흰...           비밀   \n",
       "4          6  나 기도할게 저 하늘에도 그대가 나의 기억 간직하도록 널 위해 불러 주었던 그 노래...           약속   \n",
       "\n",
       "                   가수                                          tag count  \\\n",
       "0                  화랑                                {'뮤지컬': 1, '사랑': 1}   \n",
       "1                러블리즈  {'댄스': 8, '새해': 1, '헬스': 1, '운동할때': 1, '카페': 3...   \n",
       "2  플라워디어 (Flour Deer)  {'비오는날': 1, '비': 1, '슬픈': 1, '집중': 1, '여유': 1,...   \n",
       "3                 캐스커               {'이별': 2, '슬픔': 1, '설렘': 1, '사랑': 1}   \n",
       "4           KYT (코요태)    {'슬픔': 1, '추억': 2, '이별': 1, '회상': 2, '기분전환': 1}   \n",
       "\n",
       "      emotion max              곡 장르 리스트         대분류str  \\\n",
       "0  ['경쾌한', '행복한']  ['GN1500', 'GN2900']  GN1500,GN2900   \n",
       "1         ['행복한']  ['GN2500', 'GN0200']  GN2500,GN0200   \n",
       "2         ['우울한']            ['GN0800']         GN1400   \n",
       "3         ['우울한']  ['GN0500', 'GN2600']  GN0500,GN1100   \n",
       "4  ['행복한', '잔잔한']            ['GN0100']         GN0100   \n",
       "\n",
       "                                             tag_ori         x         y  \n",
       "0                                            뮤지컬, 사랑  0.341554  0.668134  \n",
       "1  댄스, 새해, 헬스, 운동할때, 카페, 드라이브, 신나는, 비오는날, 기분전환, 봄...  1.845627  1.469765  \n",
       "2         비오는날, 비, 슬픈, 집중, 여유, 카페, 새벽, 주말, 힐링, 작업, 밤  1.126274  1.386065  \n",
       "3                                     이별, 슬픔, 설렘, 사랑  0.774167  0.854337  \n",
       "4                               슬픔, 추억, 이별, 회상, 기분전환  1.961346  1.639760  "
      ]
     },
     "execution_count": 244,
     "metadata": {},
     "output_type": "execute_result"
    }
   ],
   "source": [
    "latent_x_y2 = pd.DataFrame(latent_variables2)\n",
    "latent_x_y2.columns = ['x', 'y']\n",
    "new_df2 = pd.concat([new2, latent_x_y2], axis=1)\n",
    "new_df2.head()"
   ]
  },
  {
   "cell_type": "code",
   "execution_count": 247,
   "id": "4b735a55",
   "metadata": {},
   "outputs": [
    {
     "data": {
      "application/vnd.plotly.v1+json": {
       "config": {
        "plotlyServerURL": "https://plot.ly"
       },
       "data": [
        {
         "customdata": [
          [
           "모든게 지나면",
           "화랑",
           "뮤지컬, 사랑",
           "['경쾌한', '행복한']"
          ],
          [
           "마음 (*취급주의)",
           "러블리즈",
           "댄스, 새해, 헬스, 운동할때, 카페, 드라이브, 신나는, 비오는날, 기분전환, 봄, 봄노래, 휴식, 힐링, 설렘, 이별, 짝사랑, 사랑, 노동요, 나들이, 달달, 고백, 달콤한, 잔잔한, 새벽, 낙엽, 감성적인, 상큼, 토닥토닥, 크리스마스, 혼술, 산책, 힘내, 여유, 데이트, 벚꽃, 가을, 운동, 여행, 청량, 위로, 마음, 흥폭발, 스트레스, 밤, 추억, 회상, 스트레스해소, 여름, 연애, 신나, 까페, 일상, 봄날",
           "['행복한']"
          ],
          [
           "두달 뒤 부르는 노래",
           "플라워디어 (Flour Deer)",
           "비오는날, 비, 슬픈, 집중, 여유, 카페, 새벽, 주말, 힐링, 작업, 밤",
           "['우울한']"
          ],
          [
           "비밀",
           "캐스커",
           "이별, 슬픔, 설렘, 사랑",
           "['우울한']"
          ],
          [
           "약속",
           "KYT (코요태)",
           "슬픔, 추억, 이별, 회상, 기분전환",
           "['행복한', '잔잔한']"
          ],
          [
           "약속",
           "허공",
           "슬픔, 추억, 이별, 회상, 기분전환",
           "['행복한', '잔잔한']"
          ],
          [
           "약속",
           "KYT (코요태)",
           "추억, 회상, 슬픔, 그리움, 뮤지컬, 감동, 산책, 행복, 공감, 휴식, 사랑, 밤, 이별, 새벽, 힐링",
           "['잔잔한']"
          ],
          [
           "약속",
           "허공",
           "추억, 회상, 슬픔, 그리움, 뮤지컬, 감동, 산책, 행복, 공감, 휴식, 사랑, 밤, 이별, 새벽, 힐링",
           "['잔잔한']"
          ],
          [
           "거리에서",
           "아시안체어샷 (Asian Chairshot)",
           "감동, 뮤지컬",
           "['행복한', '경쾌한']"
          ],
          [
           "거리에서",
           "뮤지컬 웨잇포유 (Musical Wait For You)",
           "감동, 뮤지컬",
           "['행복한', '경쾌한']"
          ],
          [
           "창가의 이별",
           "지평권",
           "추억",
           "['행복한']"
          ],
          [
           "Leader Of The Landslide",
           "The Lumineers",
           "휴식, 드라이브, 기분전환, 분위기, 편안한",
           "['잔잔한', '행복한']"
          ],
          [
           "Karate (Original Mix)",
           "R3hab, Kshmr",
           "스트레스, 기분전환, 페스티벌, 클럽, 헬스, 댄스, 신나는, 여름, 드라이브, 여행, 춤, 운동할때, 헬스장",
           "['경쾌한']"
          ],
          [
           "Mixtape#3",
           "Stray Kids (스트레이 키즈)",
           "기분전환",
           "['행복한']"
          ],
          [
           "Killing Me",
           "비투비",
           "가을감성, 신나는, 사랑, 이별, 댄스, 슬픔, 설렘, 힐링, 휴식, 기분전환, 내적댄스, 위로, 힘들때, 한강, 운동, 드라이브, 즐거운, 친구, 봄, 아침, 스트레스해소, 시원, 청량, 하늘, 바다, 감동, 희망, 잔잔한, 밤, 새벽, 겨울, 우울, 가을밤, 가을, 아련한, 애절한, 센치, 그리움, 추억, 비오는날, 비, 섹시, 카페, 잠들기전, 회상, 늦은밤, 분위기",
           "['행복한']"
          ],
          [
           "촉촉촉 Waltz",
           "손동운, 이시유, 유주혜",
           "힐링, 휴식, 기분전환",
           "['행복한']"
          ],
          [
           "Return To..",
           "MOJO (모조)",
           "휴식, 잠잘때",
           "['잔잔한']"
          ],
          [
           "너에게 물들어",
           "형섭X의웅",
           "피크닉, 봄, 봄노래, 소풍, 벚꽃, 댄스, 드라이브, 경쾌한, 여행, 시원한, 기분전환, 청량한, 신나는, 청량, 상큼, 헬스, 운동, 따듯한, 카페, 겨울, 편안한, 사랑, 데이트, 헬스장, 여름, 열대야, 달콤한, 휴가, 노동요, 운전, 휴식, 설레임, 상큼한, 추억",
           "['행복한']"
          ],
          [
           "Loving U",
           "김종서",
           "설레임, 행복, 고백, 설렘, 사랑, 연인, 심쿵, 힐링, 휴식, 잔잔한, 기분전환, 상큼한, 산책, 차분한, 맑은, 아련한, 데이트, 포근한, 댄스",
           "['행복한']"
          ],
          [
           "한 폭의 그림 (Paradise)",
           "S.E.S.",
           "기분전환, 여름, 시원한, 청량, 무더위, 댄스, 추억, 드라이브, 여행, 따뜻한, 설렘, 사랑, 신나는, 흥겨운, 감미로운, 봄날, 상큼, 봄, 가을",
           "['행복한']"
          ],
          [
           "이젠 정말 만나야 할 때",
           "전병욱, 오만석, 오나라",
           "뮤지컬",
           "['경쾌한']"
          ],
          [
           "Everybody Had A Hard Year",
           "Marz",
           "기분전환, 드라이브",
           "['행복한']"
          ],
          [
           "Stop Snitchin",
           "YG",
           "스포츠, 운동, 달리기, 헬스, 강렬한, 기분전환, 헬스장, 파티, 신나는",
           "['경쾌한']"
          ],
          [
           "U Know (Feat. Basick)",
           "LUKA (ARTMATIC)",
           "힐링, 휴식, 기분전환, 댄스",
           "['행복한']"
          ],
          [
           "Wrecking Ball",
           "Dami Im",
           "시원한, 분위기, 몽환, 새벽, 힐링, 휴식, 잔잔한",
           "['잔잔한']"
          ],
          [
           "그 곳 (Feat. 김태홍)",
           "허준범",
           "까페",
           "['잔잔한']"
          ],
          [
           "Mr. BADBOY",
           "우주소녀",
           "여름, 드라이브, 댄스",
           "['경쾌한']"
          ],
          [
           "멀뚱멀뚱",
           "어쿠솔쟈 (ACOUSOLJAH)",
           "노동요, 댄스, 오후, 신나는",
           "['행복한']"
          ],
          [
           "Mack The Knife",
           "Westlife",
           "드라이브, 여행",
           "['행복한']"
          ],
          [
           "파리의 멜로디",
           "김소현, 뮤지컬 팬텀 2016 앙상블",
           "뮤지컬",
           "['경쾌한']"
          ],
          [
           "Again (Armin Van Buuren Remix) (Feat. Betsie Larkin)",
           "Armin van Buuren presents Rising Star",
           "신나는, 댄스, 운동, 파티",
           "['경쾌한']"
          ],
          [
           "늦은 밤, 우리 (Album Ver.)",
           "피그말리온",
           "데이트, 봄, 설렘, 사랑",
           "['행복한']"
          ],
          [
           "No Surprises (Remastered)",
           "Radiohead",
           "비오는날, 흐린날, 카페, 새벽, 우울, 드라이브, 기분전환, 신나는, 잔잔한, 밤, 새벽감성, 고독, 스트레스, 하루, 여유, 집, 힘내, 일상, 퇴근길, 지친, 여행, 산책, 휴식, 사랑, 이별, 밴드, 추억, 상쾌, 가을",
           "['행복한']"
          ],
          [
           "톡톡",
           "메리라운드",
           "달달한, 출근, 설레임, 행복, 기분전환, 사랑, 퇴근길, 봄, 까페, 꽃, 달달, 벚꽃, 여행, 설렘, 썸, 친구, 비오는날, 봄노래, 산책, 휴식, 힐링, 상큼, 짝사랑, 카페, 봄날, 연애, 우울할때, 드라이브, 위로, 스트레스, 따뜻한",
           "['행복한']"
          ],
          [
           "골고다",
           "한지상",
           "뮤지컬, 사랑",
           "['경쾌한', '행복한']"
          ],
          [
           "시간이 흐른 뒤엔",
           "용준형, 비투비",
           "새벽, 추억, 밤, 회상, 드라이브, 까페, 겨울, 휴식, 운동, 여행, 기분전환, 비오는날, 잔잔한, 사랑, 설렘, 산책, 이별, 그리움, 겨울감성, 눈, 연인, 일상, 슬픔, 힐링, 스트레스, 분위기, 여름, 장마, 비, 헤어짐, 여름밤, 아련한",
           "['행복한']"
          ],
          [
           "손들어",
           "GOT7 (갓세븐)",
           "노동요, 댄스, 들썩들썩, 스트레스",
           "['긴장되는', '경쾌한']"
          ],
          [
           "환영문(歡迎文)",
           "클릭비 (Click-B)",
           "댄스, 기분전환",
           "['경쾌한']"
          ],
          [
           "니가 아니면 (Feat. 블루니 of 위위)",
           "109",
           "겨울, 저녁, 겨울감성, 카페, 겨울밤, 드라이브, 주말, 기분전환, 따뜻한, 추억, 불금, 오후, 커피, 사랑, 로맨틱, 찬바람, 첫눈, 이별, 출근길, 새벽, 휴식, 밤, 힐링, 공부, 위로, 잔잔한, 나른한, 크리스마스, 연말, 까페, 비오는날, 캐럴, 월요병, 노동요, 포근한, 편안한, 따스한, 피크닉, 달달한, 휴일, 여행, 슬픔, 봄, 설렘, 집중, 유니크",
           "['잔잔한']"
          ],
          [
           "You Make My Life a Better Place",
           "Mamas Gun",
           "카페, 드라이브, 기분전환, 여행",
           "['행복한']"
          ],
          [
           "Serendipity (Full Length Edition)",
           "방탄소년단",
           "휴식, 사랑, 신나는, 달달한, 연애, 설렘, 설레는, 카페, 분위기, 밤, 새벽, 기분전환, 드라이브, 여행, 센치, 우울, 잔잔한, 피크닉, 봄, 봄날, 벚꽃, 편안한, 추억, 가을, 회상, 잠들기전, 산책, 댄스, 잔잔, 위로, 힘내, 몽환적인, 힐링, 몽환, 겨울",
           "['행복한']"
          ],
          [
           "Once Again",
           "머니",
           "비오는날, 밤, 새벽",
           "['우울한']"
          ],
          [
           "물빛의 여름",
           "에레나",
           "힐링, 휴식, 까페",
           "['잔잔한']"
          ],
          [
           "It`s Alright, It`s OK",
           "Ashley Tisdale",
           "스트레스, 기분전환, 슬픔, 이별, 설렘, 사랑, 여름, 운동, 드라이브, 일상, 신나는, 까페, 청량감, 아침, 청춘, 댄스",
           "['행복한']"
          ],
          [
           "Time After Time",
           "Various Artists",
           "겨울, 밤, 가을, 힐링, 찬바람",
           "['잔잔한']"
          ],
          [
           "Time After Time",
           "Various Artists",
           "여름, 카페, 잔잔한, 새벽, 작업, 밤, 위로, 휴식, 힐링, 편안한, 분위기, 커피",
           "['잔잔한']"
          ],
          [
           "하루 또 하루",
           "류정한, 임혜영",
           "뮤지컬, 감동, 힐링, 휴식, 잔잔한, 사랑",
           "['경쾌한']"
          ],
          [
           "잊혀진 사랑",
           "클릭비 (Click-B)",
           "댄스, 운동, 추억, 드라이브, 기분전환, 스트레스, 신나는, 회상, 헬스장, 런닝, 퇴근길, 여행, 산책, 잔잔한, 노동요, 즐거운, 봄",
           "['경쾌한']"
          ],
          [
           "쉼이 필요해",
           "오연준",
           "우울할때, 기분전환, 스트레스해소",
           "['우울한', '행복한', '경쾌한']"
          ],
          [
           "별빛 (Feat. 홍미려)",
           "Soro Sori (서로소리)",
           "카페, 잔잔한, 힐링, 따뜻한, 편안한, 가을, 우울, 오후, 나른한, 휴식, 흐린날, 센치한",
           "['잔잔한']"
          ],
          [
           "서곡_내 비극적인 이야기",
           "전동석, 뮤지컬 팬텀 2016 앙상블",
           "뮤지컬",
           "['경쾌한']"
          ],
          [
           "우리 처음 만난 날 (Acoustic Ver.)",
           "한희정",
           "까페, 설렘, 사랑, 짝사랑, 밤, 눈물, 회상, 우울, 새벽, 센치, 슬픈, 이별, 비오는날, 휴식, 잔잔, 여행산책, 연휴, 잔잔한",
           "['무서운', '우울한']"
          ],
          [
           "True Colors",
           "JBJ",
           "휴일, 댄스, 기분전환, 스트레스, 신나는, 여름, 드라이브, 밴드, 여행, 공부, 청량, 애절한, 슬픈, 감미로운, 봄, 봄노래, 사랑, 따뜻한, 상큼한, 눈오는날, 첫눈, 맑은, 크리스마스, 캐롤, 청량한",
           "['행복한']"
          ],
          [
           "Sunday Brunch",
           "박정현",
           "휴식, 힐링, 설렘, 사랑, 기분전환, 밤, 새벽, 봄, 여행, 산책, 퇴근길, 까페, 설레임, 이별, 여름",
           "['행복한']"
          ],
          [
           "내 고향",
           "박은태, 이지혜",
           "뮤지컬",
           "['경쾌한']"
          ],
          [
           "나만 (Just Me) (Inst.)",
           "소라 (Sora)",
           "달달, 공부, 봄, 집중, 카페, 잔잔한, 독서",
           "['잔잔한', '행복한']"
          ],
          [
           "괜시리",
           "요니스",
           "힐링, 휴식, 기분전환",
           "['행복한']"
          ],
          [
           "I Was Born To Love You + Only Love (Reprise) (너 하나만 + 사랑이야 Reprise)",
           "임태경, 옥주현",
           "카페, 잔잔한, 뮤지컬, 힐링, 기분전환",
           "['경쾌한']"
          ],
          [
           "Chemicals",
           "키 (KEY)",
           "주말, 드라이브, 기분전환, 신나는, 댄스",
           "['행복한']"
          ],
          [
           "Turtles Free 2",
           "거북이",
           "댄스",
           "['경쾌한']"
          ],
          [
           "그곳에 서서",
           "박효신",
           "잔잔한, 밤, 새벽, 비오는날, 추억, 회상, 슬픔, 이별, 여름, 기분전환, 설렘, 사랑, 까페, 겨울, 댄스, 드라이브, 눈물, 그리움, 산책, 여행, 퇴근, 가을, 힐링, 비, 휴식, 위로, 연휴, 새벽감성, 잠들기전, 늦은밤, 후회, 우울, 카페, 커피, 아련한, 기억, 외로움, 공감, 벚꽃, 쓸쓸함, 쓸쓸, 가을감성, 감미로운, 아픔, 스트레스, 분위기, 차분한, 애절한, 봄노래, 봄, 여유, 책읽을때, 편안함, 눈, 센치, 감성적인, 연애, 헤어짐, 혼술",
           "['행복한']"
          ],
          [
           "Role Of A Lifetime",
           "윤소호",
           "뮤지컬, 사랑",
           "['경쾌한', '행복한']"
          ],
          [
           "THE SEASONS",
           "CNBLUE (씨엔블루)",
           "기분전환, 설렘, 사랑, 댄스, 가을, 가을감성, 가을밤",
           "['행복한', '잔잔한']"
          ],
          [
           "Mood Indigo",
           "CHEEZE (치즈)",
           "달달, 사랑, 카페, 여름, 시원한, 여행, 신나는, 달콤, 설렘, 힐링, 휴식, 밤, 새벽, 봄, 봄노래, 연애, 기분전환, 운동, 드라이브, 신남, 까페, 비오는날, 우울, 잠들기전, 혼술, 꽃, 벚꽃, 연인, 가을, 겨울, 첫눈, 친구, 헬스, 불금, 기분좋은, 봄바람, 시작, 행복, 데이트, 새벽감성, 설레임, 분위기, 잔잔한, 편안한, 상큼한, 따스한, 노동요, 봄날, 포근한, 썸, 짝사랑, 일상, 스트레스, 추억, 커플, 고백, 회상, 오후, 달달한, 이별, 집중, 유니크, 저녁, 휴가, 선선한, 페스티벌, 작업, 월요병, 청량, 외출, 커피, 여유, 산책, 공부, 연말, 캐럴, 겨울밤, 눈, 주말, 겨울감성, 로맨틱, 자기전에, 숙면, 가을밤, 아침, 경쾌한, 피크닉, 부드러운, 슬픔, 흥겨운, 산뜻한, 상큼, 댄스, 기분업, 설레는, 쓸쓸, 장마, 비, 퇴근길, 따뜻한, 운전, 햇살, 따뜻, 상쾌한, 야경, 소풍, 가을감성, 나들이, 낭만, 크리스마스, 위로, 마음, 맑은, 눈물, 헤어짐, 출근길, 바다, 밴드, 청량감, 커피숍, 열대야, 달콤한, 공부할때, 봄비, 잔잔, 감미로운, 차분한, 여름밤, 연휴, 고속도로, 스트레스해소, 집, 힘내, 나른한, 밝은, 솔로, 한강, 여행산책, 쓸쓸한, 감성적인, 상쾌, 심쿵, 몽환적인, 감성자극, 아픔, 꿀잠, 침대, 맥주, 눈오는날, 모닝콜, 따뜻함, 청량한",
           "['행복한']"
          ],
          [
           "Drive",
           "B1A4",
           "댄스, 맑은, 산뜻한, 기분전환, 신나는, 드라이브, 여행, 운동, 사랑, 공부할때, 밤, 새벽, 산책, 선선한, 겨울, 가을, 여름, 청량, 분위기, 스트레스, 장마, 들썩들썩, 내적댄스, 바다, 파티, 출근길, 잔잔한, 추억",
           "['행복한']"
          ],
          [
           "Drive",
           "청하",
           "댄스, 맑은, 산뜻한, 기분전환, 신나는, 드라이브, 여행, 운동, 사랑, 공부할때, 밤, 새벽, 산책, 선선한, 겨울, 가을, 여름, 청량, 분위기, 스트레스, 장마, 들썩들썩, 내적댄스, 바다, 파티, 출근길, 잔잔한, 추억",
           "['행복한']"
          ],
          [
           "Drive",
           "B1A4",
           "여행, 산책, 밤, 새벽, 힐링, 휴식, 설렘, 사랑, 잔잔한, 여름, 드라이브, 휴가, 신나는, 여름밤, 열대야, 기분전환, 청량한, 시원한, 달콤한, 청량, 시원, 추억, 회상, 스트레스, 고속도로",
           "['행복한']"
          ],
          [
           "Drive",
           "청하",
           "여행, 산책, 밤, 새벽, 힐링, 휴식, 설렘, 사랑, 잔잔한, 여름, 드라이브, 휴가, 신나는, 여름밤, 열대야, 기분전환, 청량한, 시원한, 달콤한, 청량, 시원, 추억, 회상, 스트레스, 고속도로",
           "['행복한']"
          ],
          [
           "Sorceress (Acoustic)",
           "Jordan Rakei",
           "스트레스, 기분전환, 가을, 포근한, 주말, 비오는날, 밤, 잔잔한, 새벽, 슬픔, 위로, 눈물, 우울한",
           "['잔잔한']"
          ],
          [
           "목화",
           "보수동쿨러",
           "밴드, 저녁, 밤, 분위기, 그리움",
           "['잔잔한']"
          ],
          [
           "수신거부",
           "하현곤 팩토리",
           "기분전환, 스트레스",
           "['행복한', '긴장되는']"
          ],
          [
           "Outlines",
           "AlunaGeorge",
           "드라이브, 밤, 새벽, 휴식, 힐링, 까페, 클럽, 라운지, 카페, 비오는날, 잔잔한, 우울, 사색, 조용한, 사랑, 이별",
           "['행복한', '잔잔한', '경쾌한']"
          ],
          [
           "할 말이 있어 (feat. 플리지)",
           "라임즈 (RHYMEZ)",
           "솔로, 분위기, 사랑, 아침, 잔잔한, 월요병, 출근길, 기분전환, 산책, 가을, 짝사랑, 슬픔",
           "['행복한']"
          ],
          [
           "Destiny",
           "동방신기 (TVXQ!)",
           "설렘, 사랑, 솔로, 댄스, 밤",
           "['행복한']"
          ],
          [
           "IF... (너만 있으면)",
           "B1A4",
           "슬픔, 힐링, 휴식, 이별, 비오는날, 기분전환, 여행, 산책, 짝사랑, 설레임, 댄스, 운동, 스트레스, 가을, 춤, 달달한, 잔잔한, 밤, 새벽, 설렘, 사랑, 여름, 봄, 겨울, 신나는, 드라이브, 솔로, 추억",
           "['행복한']"
          ],
          [
           "전할 수 없는 이야기 (부제:시티 오브 엔젤)",
           "휘성 (Realslow)",
           "추억, 회상, 슬픔, 스트레스, 이별, 새벽, 밤, 기분전환, 가을, 사랑, 힐링, 휴식, 설렘, 잔잔한, 잔잔, 공감, 스트레스해소, 드라이브, 센치, 비오는날, 짝사랑, 후회, 눈물, 우울, 기억, 아련한, 그리움, 고백, 아픔, 위로, 장마, 헤어짐, 쓸쓸, 치유, 카페, 댄스, 여행, 산책, 까페, 운동, 겨울, 애절한, 새벽감성, 봄노래, 봄, 쓸쓸함, 감성자극, 우울한, 감수성, 슬픈, 편안함, 감성적인, 봄비, 혼술",
           "['행복한']"
          ],
          [
           "생각만 했어 (Feat. 허승연)",
           "다가온",
           "휴식, 기분전환",
           "['잔잔한', '행복한']"
          ],
          [
           "아주 오래된 연인들",
           "015B",
           "드라이브, 여행, 회상, 추억, 운전, 신나는, 댄스, 연말, 겨울감성, 첫눈, 크리스마스, 카페, 잔잔한, 연인, 힐링, 사랑, 가을감성, 레트로, 휴식, 추억회상, 까페, 이별, 가을, 기분전환, 청춘, 꽃, 봄, 봄노래, 그리움, 조용한, 부드러운",
           "['행복한']"
          ],
          [
           "I Need Your Love (Feat. Ellie Goulding)",
           "Calvin Harris",
           "까페, 스트레스, 여행, 라운지, 새벽, 드라이브, 기분전환, 운동, 비오는날, 신나는, 파티, 댄스, 클럽, 운동할때, 조깅, 신나, 여름, 밤, 새벽감성, 청량감, 해변, 카페, 분위기, 공부, 편안한, 주말, 산책, 잔잔한, 힐링, 설렘, 사랑, 휴식, 센치, 출근, 봄, 추억, 회상, 기분업, 몽환, 노동요, 러닝, 한강, 헬스, 청량, 시원한, 슬픔, 이별, 월요병, 외출, 퇴근, 헬스장, 겨울, 페스티벌, 새해, 스트레스해소",
           "['행복한']"
          ],
          [
           "Let Me Hold You (Turn Me On)",
           "Cheat Codes, Dante Klein",
           "밤, 까페, 새벽, 기분전환, 스트레스, 드라이브, 여름, 내적댄스, 클럽, 신남, 스트레스해소, 운동, 댄스, 신나는, 공부, 몽환, 상큼, 기억, 추억, 여행, 힐링, 바다, 헬스, 휴양지, 여름휴가, 청량한, 바캉스, 해변, 헬스장, 불금, 잔잔한, 파티, 휴식, 스포츠, 휴일, 신나, 노동요, 조깅, 카페, 흥",
           "['행복한']"
          ],
          [
           "Stardust",
           "Bob Dylan",
           "하루",
           "['잔잔한']"
          ],
          [
           "Zoo",
           "Red Velvet (레드벨벳)",
           "여름, 시원한, 드라이브, 여행, 출근길, 월요병, 퇴근길, 신나는, 휴양지, 회상, 추억, 댄스, 하늘, 경쾌한, 기분전환, 청량한, 바다, 시원, 힐링, 내적댄스, 스트레스, 샤워, 청량감, 운동, 여름밤, 행복, 산책, 잠, 잔잔한, 휴식, 기분업, 봄, 청량, 바캉스, 한강, 소풍, 피크닉, 즐거운, 친구, 휴가, 헬스, 조깅, 밴드, 겨울, 노동요, 출근, 신남, 새벽, 밤, 가을, 감성적인, 스포츠, 카페, 오후, 불금, 상쾌, 아침, 모닝콜, 상쾌한, 분위기, 흥폭발, 흥, 에너지, 힙한, 열대야, 달콤한, 흥겨운, 무더위, 상큼한, 파티, 클럽, 상큼, 비오는날, 아련한, 까페, 꽃, 사랑, 벚꽃, 연말, 설렘, 기분좋은, 설레임",
           "['경쾌한']"
          ],
          [
           "Stay",
           "Nicky Romero",
           "드라이브, 카페",
           "['행복한', '잔잔한']"
          ],
          [
           "Stay",
           "Nicky Romero",
           "기분전환, 드라이브, 아침, 여행, 운동, 에너지, 파티, 기분업, 신나는",
           "['행복한']"
          ],
          [
           "보고싶어",
           "보드카 레인",
           "감성자극, 한강, 새벽, 여름밤, 추억, 사랑, 설렘, 회상, 슬픔, 밤, 이별, 새벽감성, 애절한, 그리움, 비오는날, 잔잔한, 힐링, 휴식, 까페, 가을, 드라이브, 퇴근, 집, 따뜻, 기분전환, 꿀잠, 자기전, 봄, 카페, 여행, 산책, 센치, 가을밤, 밴드, 바다, 쓸쓸, 위로, 친구, 눈, 겨울, 스트레스, 비, 장마, 불면증, 잔잔, 따듯한, 사색, 독서, 작업, 늦은밤, 눈물, 차분한, 우울, 공감, 여름, 저녁, 분위기",
           "['우울한', '잔잔한']"
          ],
          [
           "사랑인가봐!",
           "채연",
           "내적댄스, 기분전환, 댄스, 슬픔, 이별, 추억, 회상, 여행, 사랑, 설렘, 산책, 스트레스, 드라이브, 밤, 새벽",
           "['경쾌한']"
          ],
          [
           "World Tour (Song By Hauzee, Holmsted)",
           "KozyPop",
           "노동요",
           "['긴장되는']"
          ],
          [
           "Our Love",
           "Al Jarreau",
           "겨울감성",
           "['잔잔한']"
          ],
          [
           "콜드 (Cold)",
           "모노패스 (Monopath)",
           "잔잔한, 밤, 새벽, 드라이브",
           "['잔잔한', '무서운', '우울한', '행복한']"
          ],
          [
           "Thanks For The Music (소피 &샘 & 해리 & 빌)",
           "이정미 & 성기윤 & 이정렬 & 박지일",
           "뮤지컬",
           "['경쾌한']"
          ],
          [
           "달리는 다락방",
           "오빠야문열어딸기사왔어",
           "카페, 여유, 커피, 힐링",
           "['잔잔한', '행복한']"
          ],
          [
           "Paradise",
           "헬로비너스",
           "기분전환, 힐링, 휴식",
           "['행복한']"
          ],
          [
           "택시안에서",
           "엔돌핀",
           "댄스, 비오는날, 잔잔한",
           "['경쾌한', '우울한', '잔잔한']"
          ],
          [
           "춤",
           "요조",
           "가을, 새벽, 우울, 드라이브, 운동",
           "['잔잔한']"
          ],
          [
           "빠빠빠 (Bar Bar Bar)",
           "크레용팝",
           "댄스, 스트레스, 신나는",
           "['경쾌한', '긴장되는', '행복한']"
          ],
          [
           "Overall",
           "Hello Saferide",
           "겨울",
           "['잔잔한']"
          ],
          [
           "이런 건가봐요 누군가를 좋아하는 건",
           "리디아 (Lydia)",
           "설렘, 사랑",
           "['행복한']"
          ],
          [
           "Perfect Christmas Day",
           "Todd Carey",
           "겨울, 기분전환, 캐롤, 설레는, 크리스마스, 설렘, 사랑, 연말, 흥겨운, 신나는",
           "['행복한']"
          ],
          [
           "살다 보면",
           "차지연",
           "잔잔한, 추억, 위로, 휴식, 힐링, 분위기, 새벽, 뮤지컬, 가을, 카페, 드라이브, 사랑, 이별, 희망, 응원, 힘내, 기분전환, 따뜻, 감동, 스트레스, 우울, 밤, 지친, 주말, 집, 혼술, 일상, 침대, 퇴근길, 힘들때, 지칠때, 청춘, 슬픔, 겨울, 봄, 친구, 외로움, 비오는날, 까페, 신나는, 회상",
           "['잔잔한']"
          ],
          [
           "황금별",
           "신영숙",
           "뮤지컬, 힐링, 휴식, 밤, 새벽, 슬픔, 스트레스, 이별, 응원, 위로, 힘내, 따뜻, 감동, 카페, 잔잔한, 아름다운, 애절한, 슬픈, 맑은, 몽환적인, 산책, 사랑, 설렘, 여행, 아침, 행복, 활기찬, 편안한, 추억, 회상, 기분전환, 일상, 드라이브, 비오는날, 짝사랑, 힘들때, 가을, 신나는",
           "['경쾌한']"
          ],
          [
           "Pena De Los Amores (2016 Remastered)",
           "Linda Ronstadt",
           "애절한, 추억, 감성적인",
           "['울고싶은', '행복한', '잔잔한']"
          ],
          [
           "꽈리 (Feat. 강민, 백수진, 윤진)",
           "클론",
           "댄스",
           "['경쾌한']"
          ],
          [
           "이별 앞으로",
           "가을방학",
           "추억, 가을, 회상, 슬픔, 밤, 이별, 새벽, 휴식, 여유, 카페, 우울, 주말, 봄날, 비오는날, 잔잔한, 헤어짐, 기분전환, 스트레스, 설렘, 사랑, 힐링, 까페, 그리움, 가을밤, 센치, 쓸쓸, 산책, 외로움, 여름, 슬픈, 쓸쓸한, 겨울, 봄, 비, 여름밤, 커피숍, 여행, 페스티벌, 밴드, 위로, 공감, 저녁, 낭만, 조용한, 따뜻한, 아픔, 드라이브, 분위기, 흐린날, 오후, 짝사랑, 늦은밤, 집중, 커피, 크리스마스, 캐롤, 몽환, 장마, 감성적인, 편안한, 새벽감성",
           "['우울한']"
          ],
          [
           "애인",
           "허쉬",
           "댄스, 드라이브, 추억, 사랑, 설렘, 회상",
           "['경쾌한']"
          ],
          [
           "날아올라 (Fly high)",
           "드림캐쳐",
           "힘들때, 운동할때, 응원, 토닥토닥, 기분전환, 시험, 스트레스, 힘내, 신나는, 자신감, 신나, 스트레스해소, 휴일, 댄스, 내적댄스, 흥, 집중, 공부, 화이팅, 노동요, 상큼한, 아침, 운동, 헬스, 헬스장, 들썩들썩, 달리기, 맑은, 드라이브, 잔잔한, 달달, 상큼, 청량, 시원, 밝은, 무더위, 휴식, 추억, 샤워, 솔로, 흥폭발, 신남, 추억회상, 청량한, 힐링, 행복, 몽환, 사랑, 희망",
           "['경쾌한']"
          ],
          [
           "나를 사랑해줘 (Feat. 개코 Of 다이나믹 듀오)",
           "서인영",
           "설렘, 사랑, 새벽, 밤, 까페, 이별, 짝사랑, 가을, 봄, 봄노래, 잔잔한, 드라이브, 여행, 힐링, 기분전환, 신나는, 여름, 운동, 추억, 회상, 댄스, 카페, 달달한, 휴식, 쓸쓸, 슬픔, 커플, 새벽감성, 산책, 저녁, 아침, 분위기, 행복, 스트레스, 비오는날, 청량, 달달, 벚꽃",
           "['행복한']"
          ],
          [
           "겨울이 좋아질 것 같아",
           "비비안 (BBAHN)",
           "겨울",
           "['잔잔한']"
          ],
          [
           "Black Is Black",
           "The Jungle Brothers",
           "밤, 힐링, 카페, 까페",
           "['잔잔한']"
          ],
          [
           "Bo Peep Bo Peep",
           "티아라",
           "우울할때, 추억회상, 운동할때, 기분전환, 드라이브, 잔잔한, 추억, 회상, 운동, 노동요, 댄스, 흥폭발, 스트레스, 신나는, 휴식, 가을, 여행, 기억, 휴일, 봄, 고속도로, 힐링, 스트레스해소, 까페, 겨울, 크리스마스, 운전, 주말, 출근길, 일상, 리드미컬, 달콤한, 사랑, 설렘, 클럽, 기분업, 헬스, 친구, 청춘, 경쾌한, 이별, 내적댄스, 레트로, 여름, 흥겨운, 공감, 신남, 위로, 흥, 춤, 들썩들썩, 봄노래, 런닝, 나들이, 헬스장, 조깅, 상큼, 그리움, 연휴, 여름휴가, 슬픔, 바다, 월요병, 퇴근길",
           "['경쾌한']"
          ],
          [
           "Role Model (Feat. Swalo)",
           "Ryan",
           "스트레스, 드라이브",
           "['긴장되는', '행복한']"
          ],
          [
           "꺼져줄게",
           "소울플로우",
           "까페",
           "['잔잔한']"
          ],
          [
           "Pookie Baby",
           "Prof",
           "클럽",
           "['경쾌한']"
          ],
          [
           "사랑의 한가운데 (Feat. 선우정아)",
           "안녕의 온도",
           "잔잔한, 밤, 새벽, 출근길, 청춘, 위로, 퇴근, 센치, 추억, 사랑, 이별, 회상, 슬픔, 봄, 달달, 연애, 휴가, 설렘, 퇴근길, 새벽감성, 잠들기전, 공부, 비오는날, 편안함, 기분전환, 후회, 분위기, 힐링, 휴식, 카페, 가을, 산책, 슬픈, 눈물, 편안한, 달콤, 집중, 여유, 주말, 작업, 드라이브, 몽환, 봄날, 한강, 데이트, 산뜻한, 감수성, 가을밤, 운동, 여행, 고속도로, 운전, 비, 우울한, 우울할때, 우울, 토닥토닥, 침대, 겨울, 잠, 저녁, 조용한, 불면증, 헤어짐, 스트레스, 까페, 몽환적, 유니크, 신나, 쓸쓸함, 외로움, 감성적인, 힘들때, 기억",
           "['우울한']"
          ],
          [
           "Back & Forth",
           "MK, Jonas Blue, Becky Hill",
           "연말, 드라이브, 기분전환, 신나는, 클럽, 여행, 카페, 주말, 산책, 조깅, 펍, 흥겨운, 스트레스, 내적댄스, 월요병, 휴일, 기분업, 댄스, 운동, 출근길, 금요일, 힙한, 파티, 리드미컬, 까페, 여름, 힐링, 휴식, 레트로, 기분좋은, 흥, 불금, 헬스, 스포츠, 들썩들썩, 퇴폐, 가을, 라운지, 운동할때",
           "['행복한']"
          ],
          [
           "Red Light Green Light (Feat. Shaun Ross)",
           "Duke Dumont",
           "헬스, 클럽, 운동, 드라이브, 여행, 기분전환, 스트레스, 신나는, 겨울, 불금, 파티, 댄스",
           "['행복한']"
          ],
          [
           "Phantom Bride",
           "Deftones",
           "밴드, 클럽, 추억, 드라이브",
           "['경쾌한', '행복한']"
          ],
          [
           "주홍글씨 (Dance Ver.)",
           "스페이스 에이",
           "추억, 스트레스, 회상, 댄스, 기분전환, 신나, 드라이브, 설렘, 사랑, 신나는, 스트레스해소, 운동, 노동요, 즐거운, 추억회상, 여름, 여행, 휴가, 힐링, 휴식",
           "['경쾌한']"
          ],
          [
           "Ave Maria",
           "Michael Buble",
           "겨울, 설렘, 사랑, 까페",
           "['잔잔한', '행복한']"
          ],
          [
           "LIFE IS A PARTY",
           "여자친구 (GFRIEND)",
           "드라이브, 신나는, 솔로, 댄스",
           "['행복한', '잔잔한']"
          ],
          [
           "내가 고마워",
           "노르웨이 숲",
           "밤",
           "['무서운']"
          ],
          [
           "가장 소중한 것이 가장 멀리 떠나요",
           "혜령",
           "비오는날, 밤, 새벽, 슬픔, 이별, 사랑, 잔잔한, 추억, 회상, 여름, 설렘, 힘들때",
           "['우울한']"
          ],
          [
           "어떻게.. (Feat. 후니훈 & 이유진)",
           "크라운제이 (CROWN J)",
           "기억, 추억, 힐링, 기분전환, 회상",
           "['행복한']"
          ],
          [
           "18거 1517",
           "XXX",
           "힙한",
           "['긴장되는']"
          ],
          [
           "빛이 되어줘",
           "라붐 (LABOUM)",
           "스트레스, 신나는, 감동, 설렘, 사랑, 한강, 운동, 드라이브, 기분전환, 즐거운, 친구, 시원, 댄스",
           "['행복한']"
          ],
          [
           "Wanted A Name (feat. Yoke Lore)",
           "Frenship",
           "카페, 기분전환, 설렘, 감미로운, 몽환적, 클럽, 신나는",
           "['행복한']"
          ],
          [
           "TIME OUT",
           "GOT7 (갓세븐)",
           "여름, 드라이브, 사랑, 잔잔한, 여행, 신나는, 기분전환, 휴식",
           "['행복한']"
          ],
          [
           "SWITCH",
           "yelloasis, JUNNY (주니)",
           "스트레스, 기분전환, 여행, 드라이브, 클럽, 까페, 잔잔한, 여름, 여름밤, 분위기, 신나는, 카페",
           "['행복한']"
          ],
          [
           "Blind",
           "몬스타엑스",
           "기분전환, 사랑, 신나는, 집중, 노동요, 운동할때, 드라이브, 공부할때, 댄스",
           "['행복한']"
          ],
          [
           "Cadillac",
           "IN2IT (인투잇)",
           "여름, 기분전환, 운동",
           "['경쾌한']"
          ],
          [
           "Never End",
           "제국의아이들 (ZE:A)",
           "새벽, 추억, 밤, 회상, 마음",
           "['우울한', '행복한', '무서운', '잔잔한', '편안한']"
          ],
          [
           "비의 마음",
           "산울림",
           "비오는날, 잔잔한, 추억, 슬픈, 마음",
           "['우울한']"
          ],
          [
           "느낌이와",
           "몽키즈",
           "달달한, 데이트, 사랑, 기분좋은, 응원, 새벽, 봄날, 심쿵, 설렘, 자기전에, 침대",
           "['행복한']"
          ],
          [
           "Summer`s Back (Feat. 김기쁨)",
           "Blocka, 오제이 (OJEY)",
           "여름, 드라이브",
           "['경쾌한', '행복한']"
          ],
          [
           "Yeah Yeah",
           "Willy Moon",
           "기분전환, 드라이브, 시원한, 운동, 댄스, 클럽, 내적댄스, 여행, 산책, 휴식, 힐링, 추억, 회상, 여름, 기분좋은, 달콤, 봄바람, 불면증, 힘내",
           "['행복한']"
          ],
          [
           "Move",
           "홍지민, 정선아, 김소향",
           "힐링, 휴식, 기분전환",
           "['행복한']"
          ],
          [
           "Slipping Through My Fingers (도나 & 소피)",
           "이정렬 & 최정원",
           "뮤지컬",
           "['경쾌한']"
          ],
          [
           "Goodbye",
           "M.Spot",
           "슬픔, 사랑, 아픔, 이별",
           "['우울한']"
          ],
          [
           "Goodbye",
           "Def Leppard",
           "슬픔, 사랑, 아픔, 이별",
           "['우울한']"
          ],
          [
           "회상",
           "더 빨강",
           "슬픔, 추억, 이별, 회상",
           "['우울한']"
          ],
          [
           "회상",
           "임현정",
           "슬픔, 추억, 이별, 회상",
           "['우울한']"
          ],
          [
           "안녕, 여름 (Parade)",
           "Red Velvet (레드벨벳)",
           "흥겨운, 운동, 드라이브, 상큼한, 여행, 기분전환, 파티, 여름, 신나는, 고속도로, 스트레스, 휴가, 댄스",
           "['행복한']"
          ],
          [
           "For You",
           "플라이 투 더 스카이",
           "잔잔한, 추억, 회상, 힐링, 휴식",
           "['행복한', '잔잔한']"
          ],
          [
           "Burn, Burn",
           "Lostprophets",
           "드라이브, 기분전환, 운동, 스트레스",
           "['행복한']"
          ],
          [
           "오늘은 새벽안개 속에서",
           "집나온 거위",
           "휴식, 힐링, 잔잔한",
           "['잔잔한']"
          ],
          [
           "Helena",
           "My Chemical Romance",
           "스트레스, 드라이브, 힐링, 사랑, 신나는, 운동, 기분전환, 운전, 비오는날, 밤, 새벽, 여름, 헬스, 노동요",
           "['행복한']"
          ],
          [
           "다른 사람이 와도",
           "한경일",
           "회상, 우울, 추억, 쓸쓸한, 슬픔, 사랑, 이별",
           "['우울한']"
          ],
          [
           "나사",
           "시나 쓰는 앨리스",
           "힐링, 기분전환",
           "['행복한']"
          ],
          [
           "내 사랑 송이 (2005 Glgolos Remix)",
           "클론",
           "휴식, 힐링, 여행, 산책",
           "['행복한']"
          ],
          [
           "Cosmic Girl",
           "소연 (LABOUM)",
           "댄스, 사랑, 출근길, 기분전환, 기분업, 퇴근길, 신나는, 청춘, 기분좋은, 여름, 휴식, 드라이브, 위로, 가을, 월요일, 감동",
           "['행복한']"
          ],
          [
           "Under Surveillance",
           "Toki Asako",
           "상큼한, 카페",
           "['경쾌한', '잔잔한']"
          ],
          [
           "아름답고도 아프구나 (Inst.)",
           "비투비",
           "저녁, 활기찬, 카페, 잔잔한, 댄스, 기분전환, 공부, 힐링, 섹시, 집중, 밤, 시험, 공부할때, 흥폭발, 신나는",
           "['잔잔한']"
          ],
          [
           "데이트",
           "올드피쉬",
           "산책, 드라이브, 봄, 설렘, 데이트, 휴식, 아침, 가을, 카페, 사랑",
           "['행복한']"
          ],
          [
           "Sugar Baby",
           "베이비 복스",
           "댄스",
           "['경쾌한']"
          ],
          [
           "아침",
           "디어클라우드",
           "주말, 카페, 잔잔한, 독서, 상쾌한, 커피숍, 아침, 힐링, 휴식, 까페, 봄, 벚꽃, 출근길, 설렘, 사랑, 겨울, 산책, 여행, 여름, 휴양지, 모닝콜, 밴드, 기분전환",
           "['경쾌한']"
          ],
          [
           "We Belong Together",
           "BIGBANG",
           "댄스, 추억, 기분전환, 회상, 설렘, 사랑",
           "['행복한']"
          ],
          [
           "Chiquitita (타냐 & 로지 & 도나)",
           "전수경 & 이경미 & 최정원",
           "뮤지컬",
           "['경쾌한']"
          ],
          [
           "I Wish You Knew",
           "Mariah Carey",
           "겨울",
           "['잔잔한']"
          ],
          [
           "8282",
           "다비치",
           "스트레스, 드라이브, 신나는, 추억, 기분전환, 회상, 연휴, 주말, 신나, 댄스, 힐링, 휴식, 슬픈, 이별, 여름, 신남, 운동, 연말, 사랑, 노동요, 여행, 잔잔한, 까페, 커플, 헬스, 새벽, 밤, 휴일, 달달한, 퇴근, 흥, 불금, 내적댄스, 분위기, 즐거운, 찬바람, 슬픔, 산책, 기분업, 가을, 설렘, 겨울, 파티, 봄, 출근길, 아련한, 기분좋은, 운전, 고속도로, 휴가, 청량, 청춘, 겨울감성, 크리스마스, 흥겨운, 나른한, 외출, 감미로운, 눈, 첫눈, 클럽, 카페, 감성자극, 시원, 바다, 솔로, 상큼한, 봄노래, 벚꽃, 휴양지, 시원한, 해변, 무더위, 공부, 경쾌한, 나들이, 춤, 스트레스해소, 들썩들썩, 활기찬, 행복, 화이팅, 추억회상, 친구, 비오는날, 장마, 퇴근길, 비, 바캉스, 소풍, 연애",
           "['행복한']"
          ],
          [
           "Walking Night",
           "밤의 피크닉",
           "밤, 드라이브",
           "['무서운', '행복한']"
          ],
          [
           "비가 오면 좋겠어",
           "Briller (브리에), 피카",
           "비오는날, 흐린날, 비, 분위기, 감성적인, 센치한",
           "['우울한']"
          ],
          [
           "밀지마 (Original Ver.)",
           "웬디 (WENDY), 슬기 (SEULGI)",
           "잔잔한, 추억, 힐링, 기분전환, 사랑, 슬픔, 이별, 새벽, 밤, 회상, 설렘, 눈물, 휴식, 댄스, 신나는, 가을, 카페, 따뜻, 겨울, 집, 퇴근길, 봄, 로맨틱, 행복, 여름, 달달, 드라이브, 연애, 썸, 아픔, 여행, 산책, 까페, 자기전에, 첫눈, 크리스마스, 겨울밤, 솔로, 새벽감성, 늦은밤, 스트레스, 운동",
           "['행복한']"
          ],
          [
           "You Are My Lady",
           "김건모",
           "비오는날, 밤, 새벽, 기분전환, 드라이브, 카페, 잔잔한, 추억, 위로, 힐링, 사랑, 이별, 달콤한, 회상, 휴식, 여행, 독서, 사색, 레트로",
           "['행복한']"
          ],
          [
           "얼마나 다행이었니",
           "임소정",
           "커피, 겨울, 카페, 흐린날, 비, 따뜻함, 잔잔한, 우울, 사랑",
           "['잔잔한']"
          ],
          [
           "어떻게든",
           "Various Artists",
           "뮤지컬",
           "['경쾌한']"
          ],
          [
           "어떻게 이런 일이",
           "민영기",
           "뮤지컬, 기분전환, 드라이브",
           "['행복한']"
          ],
          [
           "Song To A Seagull ",
           "Joni Mitchell",
           "추억",
           "['행복한']"
          ],
          [
           "Be Myself",
           "Apink (에이핑크)",
           "위로, 힐링, 댄스, 청량, 시원한, 기분전환, 상큼, 드라이브, 시원, 추억, 상쾌한, 따뜻, 지칠때, 겨울",
           "['우울한', '경쾌한']"
          ],
          [
           "틀린질문",
           "검정치마",
           "밴드, 휴일, 카페, 여유, 잔잔한, 위로, 기분전환, 새벽감성, 사랑, 이별, 휴식, 봄노래, 봄날, 벚꽃, 데이트, 새벽, 자장가, 밤, 봄, 힐링, 가을, 겨울, 한강, 선선한, 드라이브, 몽환적인, 달달한, 설렘, 신나는",
           "['잔잔한']"
          ],
          [
           "고백",
           "강성훈",
           "슬픈, 추억, 댄스",
           "['경쾌한']"
          ],
          [
           "고백",
           "델리스파이스",
           "슬픈, 추억, 댄스",
           "['경쾌한']"
          ],
          [
           "고백",
           "강성훈",
           "기분전환, 까페, 휴식, 고백, 겨울, 추억, 드라이브, 여행, 사랑, 스트레스, 회상, 힐링, 새벽, 밤, 설렘, 봄, 주말, 산책, 잔잔한",
           "['행복한']"
          ],
          [
           "고백",
           "델리스파이스",
           "기분전환, 까페, 휴식, 고백, 겨울, 추억, 드라이브, 여행, 사랑, 스트레스, 회상, 힐링, 새벽, 밤, 설렘, 봄, 주말, 산책, 잔잔한",
           "['행복한']"
          ],
          [
           "가려진 진실",
           "김준현",
           "기분전환, 잔잔한",
           "['행복한', '잔잔한']"
          ],
          [
           "Don`t Recall",
           "카드 (KARD)",
           "카페, 잔잔한, 힐링, 따뜻한, 편안한, 리드미컬, 댄스, 드라이브, 경쾌한, 여행, 시원한, 기분전환, 청량한, 신나는, 휴식, 스트레스, 공부할때, 여름, 청량감, 운동, 아침, 모닝콜, 신남, 분위기, 밤, 바다, 휴가, 출근길, 노동요, 추억, 청량, 시원, 위로, 섹시, 겨울, 눈물, 일상, 슬픔, 월요병, 기분업, 이별, 사랑, 헬스, 산책, 가을, 장마, 들썩들썩, 내적댄스",
           "['행복한']"
          ],
          [
           "뻔한 소리",
           "트위티 (TWEETY)",
           "댄스",
           "['경쾌한']"
          ],
          [
           "Paper Houses",
           "Niall Horan",
           "드라이브, 비오는날, 밴드, 흐린날, 잔잔한",
           "['우울한']"
          ],
          [
           "그그그 (그 순간 그 느낌 그 설렘)",
           "오로라스팅",
           "밤, 새벽",
           "['무서운', '우울한']"
          ],
          [
           "나 이렇게 행복해도 되는 걸까",
           "허규",
           "뮤지컬, 감동",
           "['경쾌한', '행복한']"
          ],
          [
           "괜찮아",
           "김동률",
           "슬픔, 스트레스, 이별, 응원, 위로, 눈물, 감동, 화이팅, 우울, 힘들때, 공부, 힐링, 청춘, 힘내, 휴식, 밤, 새벽, 잔잔한, 저녁, 기분전환, 일상, 찬바람, 차분한, 회상",
           "['우울한']"
          ],
          [
           "널 너무 모르고",
           "헤이즈 (Heize)",
           "겨울, 휴식, 카페, 슬픔, 가을, 사랑, 기분전환, 비오는날, 잔잔한, 댄스, 감성자극, 봄, 새벽, 이별, 밤, 회상, 추억, 장마, 비, 눈물, 우울, 힐링, 아픔, 외로움, 설렘, 여름, 스트레스, 숙면, 저녁, 퇴근길, 까페, 추억회상, 새벽감성, 기억, 슬픈, 고독, 낭만, 위로, 드라이브, 유니크, 기분좋은, 신나는, 페스티벌, 아름다운, 화이팅, 피크닉, 커피, 그리움, 헤어짐, 봄비, 포근한, 쓸쓸함, 여름밤, 우울할때, 책읽을때, 연말, 여행, 크리스마스, 운동, 후회, 힘들때, 출근길, 아침, 월요일, 청량, 오후, 잠들기전, 즐거운, 몽환, 클럽, 일상, 감미로운, 분위기, 시원한, 휴가, 흥, 센치, 쓸쓸, 쓸쓸한, 잠잘때, 따뜻한, 주말, 혼술, 노동요, 연휴, 책, 애절한, 공감, 연인, 솔로, 부드러운, 별, 조용한, 퇴근, 출근, 청량감, 여유, 잔잔, 커피숍, 힙한, 우울한, 휴일, 산책, 불금, 흐린날, 가을밤, 가을비, 자기전, 울고싶을때, 토닥토닥, 힘내, 고백, 벚꽃, 마음, 아련한, 신나, 커플, 일할때, 낙엽, 신남, 시원, 달달, 감성적인, 봄노래, 달콤, 자장가, 편안한, 짝사랑, 스트레스해소, 감수성, 상쾌한, 겨울감성, 잠, 연애, 꿀잠, 월요병, 피곤, 가을감성, 독서, 새해, 밴드, 눈, 경쾌한, 흥폭발, 공부, 달달한, 차분한, 몽환적, 집중, 봄날, 리드미컬, 금요일, 헬스, 조깅, 선선한, 찬바람",
           "['행복한']"
          ],
          [
           "THIS IS LOVE (Stage Ver.)",
           "SUPER JUNIOR (슈퍼주니어)",
           "댄스, 추억, 여름, 기분전환, 달달, 고백, 사랑, 산책, 여행, 회상, 휴식, 밤, 여름밤, 새벽감성, 새벽, 힐링, 설렘, 결혼, 드라이브, 까페, 잔잔한, 신나는, 스트레스",
           "['행복한']"
          ],
          [
           "99 Red Balloons",
           "Goldfinger",
           "스트레스, 기분전환",
           "['긴장되는', '행복한']"
          ],
          [
           "어쩌라고",
           "승리",
           "댄스, 클럽, 운동, 몽환, 사랑, 이별, 운전, 기분전환, 신나는, 스트레스, 드라이브, 나들이, 추억, 회상, 신남, 기분업, 시원, 여행, 설렘",
           "['경쾌한']"
          ],
          [
           "바다",
           "투어리스트",
           "밤, 새벽, 자장가",
           "['무서운', '우울한', '잔잔한']"
          ],
          [
           "방백 (傍白)",
           "김여명",
           "노동요, 카페, 휴식, 기분전환, 밤, 새벽, 유니크, 여행산책, 드라이브, 힐링, 스트레스, 우울, 힘들때, 위로, 잔잔한, 여행, 사랑, 낙엽, 신나는, 밴드, 가을밤, 가을, 가을비, 산책, 겨울, 크리스마스",
           "['행복한']"
          ],
          [
           "내 모든  것",
           "서태지와 아이들",
           "잔잔한, 추억, 회상",
           "['행복한']"
          ],
          [
           "독일공원",
           "이호석",
           "휴식, 카페, 기분전환, 사랑, 이별, 스트레스",
           "['잔잔한', '행복한']"
          ],
          [
           "How Many Times",
           "비 마이 게스트",
           "비오는날, 여행, 산책",
           "['행복한']"
          ],
          [
           "있을때 잘해 (Remix)",
           "쿨 (COOL)",
           "댄스",
           "['경쾌한']"
          ],
          [
           "겨울애 (愛)",
           "파티타임",
           "연말, 크리스마스, 비오는날, 추억, 회상, 댄스, 겨울, 설렘, 사랑",
           "['잔잔한']"
          ],
          [
           "Children Of Today",
           "Blasterjaxx",
           "운동, 드라이브",
           "['경쾌한', '행복한']"
          ],
          [
           "Escape",
           "거미",
           "추억, 기분전환, 회상",
           "['행복한']"
          ],
          [
           "유기농 (Feat. Reddy, NO:EL) (JVillian mix)",
           "한해",
           "여름, 파티",
           "['경쾌한', '행복한']"
          ],
          [
           "The Only Way Is Up (Radio Edit)",
           "Martin Garrix, Tiesto",
           "불금, 신나는, 드라이브, 클럽, 기분전환, 운동, 스트레스, 한강, 주말, 저녁, 파티, 내적댄스, 댄스, 잔잔한, 여행, 신남",
           "['경쾌한']"
          ],
          [
           "나라와 만석의 Love Theme",
           "오만석, 오나라",
           "한강, 행복, 여행, 기분전환, 설렘",
           "['행복한']"
          ],
          [
           "Stay With Me (Feat. 신지수) (Prod. Imlay)",
           "슬릭 (SLEEQ)",
           "기분전환, 드라이브, 위로, 힐링, 스트레스, 청춘, 신나는",
           "['행복한']"
          ],
          [
           "헤매이다 (Prod by 코간멜아)",
           "허윤경",
           "봄날",
           "['행복한']"
          ],
          [
           "냉동만두",
           "사이",
           "스트레스, 기분전환, 잔잔한, 추억, 회상, 힐링, 휴식",
           "['긴장되는']"
          ],
          [
           "우리라는 말이 사라진 것 같아 (With 성민)",
           "미앤유 (me and you)",
           "이별, 짝사랑",
           "['우울한', '행복한']"
          ],
          [
           "Happy",
           "핑클 (Fin.K.L)",
           "댄스, 추억",
           "['경쾌한']"
          ],
          [
           "그대밖엔",
           "클릭비 (Click-B)",
           "추억, 기분전환, 회상",
           "['행복한']"
          ],
          [
           "Bad Lady",
           "화요비",
           "카페, 흥겨운, 힐링, 휴식, 추억, 회상",
           "['잔잔한']"
          ],
          [
           "Me+U",
           "f(x)",
           "댄스, 일상, 가을, 사랑, 기분전환, 설렘, 스트레스, 봄, 드라이브, 춤, 힐링, 휴식",
           "['행복한']"
          ],
          [
           "Thine",
           "Rb Free Code Combination",
           "여행, 기분전환, 산책",
           "['행복한']"
          ],
          [
           "O.K O.K",
           "DJ DOC",
           "댄스, 운전, 기분전환, 힐링, 드라이브, 운동, 노동요, 회상, 추억, 즐거운, 신나는",
           "['경쾌한']"
          ],
          [
           "Radar",
           "Britney Spears",
           "드라이브, 기분전환, 신나는, 운동",
           "['행복한']"
          ],
          [
           "어두운 밤을 보았지",
           "권나무",
           "우울, 잔잔한",
           "['우울한', '잔잔한']"
          ],
          [
           "Carry The Weight",
           "Denison Witmer",
           "카페, 커피, 비오는날, 잔잔한, 봄비, 센치",
           "['잔잔한']"
          ],
          [
           "679 (Feat. Remy Boyz)",
           "Fetty Wap",
           "댄스, 기분전환, 신나는, 클럽, 잔잔한, 라운지, 드라이브, 여행, 헬스, 운동할때, 운동, 여름, 힐링, 휴식, 신나, 강렬한, 스트레스, 춤, 까페, 파티, 추억, 회상",
           "['경쾌한']"
          ],
          [
           "The Sweetest Taboo (Remastered)",
           "Sade",
           "여름밤",
           "['경쾌한']"
          ],
          [
           "FILM",
           "마틴스미스",
           "출근길, 카페, 새벽, 휴식, 저녁, 사랑, 행복, 청춘, 피크닉, 봄, 달달한, 차분한, 벚꽃, 나들이, 드라이브, 여행, 기분전환, 힐링",
           "['잔잔한', '행복한']"
          ],
          [
           "Sun In Our Eyes (Don Diablo Remix)",
           "MØ, Diplo",
           "신나는, 주말, 드라이브, 나들이, 기분전환, 흥폭발, 기분좋은",
           "['행복한']"
          ],
          [
           "진짜 사랑",
           "슈샤인보이",
           "댄스",
           "['경쾌한']"
          ],
          [
           "#1(Nut`s Poetry) (Feat. 신지수)",
           "스키니죠 (Skinnyjoe)",
           "노동요, 감미로운, 카페, 기분전환, 잠, 휴식, 밤, 잔잔한, 라운지, 주말, 분위기, 드라이브, 나른한, 쓸쓸",
           "['행복한']"
          ],
          [
           "낯선날 (Feat. 펀치) (Weird Day)",
           "문별 (마마무)",
           "스트레스, 봄, 사랑, 아름다운, 일상, 겨울, 저녁, 카페, 오후, 드라이브, 불금, 기분전환, 겨울밤, 분위기, 이별, 집중, 찬바람, 휴일, 주말, 겨울감성, 추억, 노동요, 도시, 잔잔한, 위로, 휴식, 우울할때, 여유, 헤어짐, 외로움, 설렘, 고독, 댄스, 신나는, 솔로, 따스한, 따뜻한",
           "['행복한']"
          ],
          [
           "Real Love",
           "Lo Moon",
           "휴식, 여행산책, 드라이브, 기분전환, 스트레스",
           "['행복한']"
          ],
          [
           "거짓처럼 다시 봄은 오겠지 (Spring Will Come Again As Always)",
           "316",
           "까페, 잔잔한, 힐링, 휴식, 스트레스, 겨울, 밤, 새벽, 혼자있을때, 겨울밤, 따뜻한, 집중, 공부, 감미로운, 공부할때, 명상, 비오는날, 카페, 책읽을때, 일할때, 노동요, 따듯한, 사색, 부드러운, 독서, 위로, 북카페, 봄, 설렘, 사랑, 포근한, 자장가",
           "['잔잔한']"
          ],
          [
           "Reinventing The Wheel To Run Myself Over",
           "Fall Out Boy",
           "스트레스, 기분전환",
           "['긴장되는', '행복한']"
          ],
          [
           "이 비가 그치면",
           "쿨손",
           "기분전환, 설렘, 사랑, 잔잔한, 밤, 새벽, 분위기, 몽환, 휴식, 힐링, 추억, 위로, 이별, 청춘",
           "['행복한']"
          ],
          [
           "선인장 (Green Shadow Mix)",
           "캐스커",
           "댄스, 슬픔, 이별",
           "['우울한']"
          ],
          [
           "In2Uroduction",
           "마이큐(MY-Q)",
           "밤, 새벽",
           "['무서운', '우울한']"
          ],
          [
           "날 닮은 너",
           "이예준, 이현주",
           "기분전환, 밤, 새벽, 슬픔, 이별, 힐링, 휴식, 잔잔한, 추억, 회상, 설렘, 사랑, 비오는날, 가을, 우울, 드라이브, 그리움, 위로, 스트레스",
           "['우울한']"
          ],
          [
           "Game Over",
           "Martin Garrix, Loopers",
           "헬스, 스포츠, 운동, 런닝, 조깅, 요가, 클럽, 노동요, 운동할때, 드라이브, 기분전환, 스트레스, 신나는, 흥, 화이팅, 기분업, 지친, 흥폭발, 기분좋은, 댄스, 러닝, 페스티벌, 파티, 불금, 여름, 여행, 휴가, 신남, 강렬한, 달리기, 레트로, 주말, 헬스장, 새해, 스트레스해소",
           "['경쾌한']"
          ],
          [
           "Booty Bounce (Extended Mix) (Dirty Ver.)",
           "Taio Cruz, Tujamo",
           "운동, 스트레스, 기분전환, 드라이브, 여행, 클럽, 불금, 신나는",
           "['경쾌한']"
          ],
          [
           "아디오",
           "이승기",
           "겨울, 밤, 가을, 슬픔, 이별, 헤어짐, 스트레스, 힐링, 추억, 휴식, 회상, 여행, 잔잔한, 새벽, 기분전환, 비오는날, 설렘, 사랑",
           "['행복한', '잔잔한']"
          ],
          [
           "I Walk The Line",
           "Halsey",
           "까페, 카페, 드라이브, 여행, 기분전환, 비오는날, 밤, 새벽, 신나는, 산책, 봄, 잔잔한, 스트레스, 사랑, 분위기, 몽환적인, 가을밤, 센치",
           "['행복한']"
          ],
          [
           "Homme",
           "Brazilian Girls",
           "비오는날, 밤, 새벽",
           "['우울한']"
          ],
          [
           "아직은 아냐 (Tell Me Baby)",
           "로맨틱 펀치",
           "기분전환, 신나는, 출근길, 밤, 새벽, 퇴근길, 여행, 드라이브, 산책",
           "['행복한']"
          ],
          [
           "안녕 사랑아",
           "박효신",
           "힐링, 휴식, 설렘, 사랑, 잔잔한, 추억, 위로, 분위기, 새벽, 슬픔, 이별, 회상, 비오는날, 밤, 겨울, 비, 봄비, 퇴근길, 기분전환, 드라이브, 가을감성, 가을, 카페, 오후, 커피, 감동, 여름, 울고싶을때, 짝사랑, 스트레스, 슬픈, 잔잔, 주말, 집, 혼술, 일상, 침대, 눈물, 헤어짐, 외로움, 후회, 따뜻한, 포근한, 감성적인, 감미로운, 까페, 그리움, 저녁, 잠들기전, 쓸쓸함, 쓸쓸, 봄, 애절한, 댄스, 새벽감성, 눈, 쓸쓸한, 행복, 청춘, 연애, 우울",
           "['우울한']"
          ],
          [
           "E메이져를 치면",
           "김창완밴드",
           "추억, 드라이브, 회상",
           "['행복한']"
          ],
          [
           "Amanda",
           "Boston",
           "휴식, 힐링, 기분전환, 울고싶을때, 슬픔, 이별, 설렘, 까페, 사랑, 가을",
           "['행복한']"
          ],
          [
           "홀로봄",
           "안예은",
           "카페, 봄, 잔잔한, 비오는날, 우울, 꽃, 드라이브, 여행, 기분전환, 스트레스, 따뜻한, 밤, 사랑, 데이트, 벚꽃, 겨울, 한강, 분위기, 산책, 아련한, 애절한, 센치, 휴식, 이별, 신나는",
           "['행복한']"
          ],
          [
           "Ignition",
           "R. Kelly",
           "드라이브, 기분전환, 파티, 사랑, 운동, 까페, 설렘, 잔잔한, 추억, 스트레스",
           "['행복한']"
          ],
          [
           "너 때문에",
           "제아",
           "슬픔, 이별, 눈물, 사랑, 새벽감성, 스트레스, 기분전환, 슬픈, 추억, 회상, 휴식, 잔잔한",
           "['우울한']"
          ],
          [
           "너 때문에",
           "B1A4",
           "슬픔, 이별, 눈물, 사랑, 새벽감성, 스트레스, 기분전환, 슬픈, 추억, 회상, 휴식, 잔잔한",
           "['우울한']"
          ],
          [
           "너 때문에",
           "제아",
           "여행, 산책, 밤, 새벽, 잔잔한, 헬스, 운동할때, 카페, 드라이브, 신나는, 추억, 기분전환, 회상, 댄스, 설렘, 사랑, 스트레스, 슬픔, 이별, 힘들때, 비, 휴식, 힐링, 여름, 봄, 가을, 겨울, 신남, 상큼",
           "['행복한']"
          ],
          [
           "너 때문에",
           "B1A4",
           "여행, 산책, 밤, 새벽, 잔잔한, 헬스, 운동할때, 카페, 드라이브, 신나는, 추억, 기분전환, 회상, 댄스, 설렘, 사랑, 스트레스, 슬픔, 이별, 힘들때, 비, 휴식, 힐링, 여름, 봄, 가을, 겨울, 신남, 상큼",
           "['행복한']"
          ],
          [
           "애타는 남자 (Feat. 갈고리)",
           "연남동 덤앤더머",
           "잔잔한, 밤, 새벽",
           "['잔잔한', '무서운', '우울한']"
          ],
          [
           "Can I Kick It?",
           "A Tribe Called Quest",
           "낭만, 추억, 드라이브, 기분전환",
           "['행복한']"
          ],
          [
           "손톱만한 외로움",
           "차지연",
           "잔잔한, 밤, 새벽",
           "['잔잔한', '무서운', '우울한']"
          ],
          [
           "날 것",
           "케미 (Kemy)",
           "퇴근, 출근, 스트레스, 기분전환",
           "['긴장되는']"
          ],
          [
           "물속에 잠긴 시간",
           "홍광호",
           "휴식, 밤, 잔잔한, 새벽, 잠들기전, 산책, 뮤지컬, 가을, 드라이브, 기분전환, 스트레스, 신나는",
           "['경쾌한']"
          ],
          [
           "듣고싶어 (E905) (Inst.)",
           "DIA (다이아)",
           "공부",
           "['잔잔한']"
          ],
          [
           "어떤가요 그댄",
           "청하",
           "잔잔한, 새벽, 우울, 기분전환, 사랑, 이별, 슬픔, 휴식, 가을, 추억, 드라이브, 여행, 출근길, 퇴근길, 일상, 즐거운, 스트레스해소, 설렘, 신나는, 댄스, 힐링, 그리움, 봄날, 회상, 연인, 밤, 여름, 벚꽃, 센치, 위로, 눈물, 집, 주말, 뮤지컬, 짝사랑, 연애, 썸, 헤어짐, 카페, 분위기, 봄, 달달한, 데이트, 설레는, 몽환",
           "['우울한']"
          ],
          [
           "소리없이 날",
           "최인영, 구혜선",
           "여름, 비, 카페, 기분전환, 사랑, 이별, 스트레스, 부드러운, 봄, 가을, 달달, 힐링, 설렘, 책, 휴식, 눈물, 잔잔한",
           "['행복한']"
          ],
          [
           "전하지 못한 이야기",
           "화려 (Hwaryeo)",
           "추억, 슬픈, 사랑, 감성적인, 이별, 밤, 잔잔한, 우울, 분위기, 센치, 슬픔, 새벽, 새벽감성, 시원한, 편안한, 신나는, 겨울",
           "['우울한']"
          ],
          [
           "Sumthin` Sumthin`",
           "Maxwell",
           "비오는날, 잔잔한, 여행, 기분전환, 산책, 리드미컬, 저녁, 펍, 힐링, 휴식, 가을",
           "['행복한', '잔잔한']"
          ],
          [
           "설렘 가득",
           "어쿠스틱 콜라보",
           "연애, 사랑, 달콤한, 달달한, 로맨틱, 기분좋은, 연인, 설렘, 데이트, 달달, 꽃, 휴식, 카페, 주말, 오후, 커피, 힐링, 기분전환, 포근한, 봄, 썸, 커플, 행복, 상큼한, 까페, 즐거운, 상큼, 따뜻한, 새벽, 밤, 솔로, 봄노래, 설레임, 고백, 달콤, 아침, 드라이브, 설레는, 연휴, 휴일, 독서, 벚꽃, 맑은, 저녁, 여유, 잔잔한, 산책, 여행, 겨울, 청량한, 일상, 봄날, 편안한, 산뜻한, 가을, 추억, 회상, 심쿵, 한강, 위로, 퇴근길, 댄스, 이별, 야경, 선선한, 잔잔, 봄바람, 신나는, 감미로운, 새벽감성, 불금, 금요일, 가을밤, 운동, 밝은, 침대, 결혼, 스트레스, 비오는날, 여름, 슬픔, 응원, 자기전에, 비, 짝사랑, 분위기",
           "['행복한']"
          ],
          [
           "How Deep Is Your Love",
           "Various Artists",
           "추억, 회상, 힐링, 휴식",
           "['행복한', '잔잔한']"
          ],
          [
           "Summer love",
           "데일",
           "여름, 드라이브",
           "['경쾌한', '행복한']"
          ],
          [
           "The Island - Pt. I (Dawn)",
           "Pendulum",
           "드라이브, 헬스장, 운동, 댄스, 운동할때, 스트레스, 기분전환, 힙한, 신나는, 잔잔, 몽환, 신남",
           "['행복한']"
          ],
          [
           "유죄",
           "god",
           "추억, 기분전환, 회상, 힐링, 휴식, 스트레스",
           "['행복한']"
          ],
          [
           "Ocean Cruise (Feat. Ingram Jones) (Original Mix)",
           "DJ Hanmin, Eastlight",
           "클럽, 스트레스",
           "['경쾌한']"
          ],
          [
           "니까짓게 (How dare you) (Demicat Remix)",
           "씨스타",
           "운동할때, 기분전환, 여행, 산책, 여름, 운동, 댄스, 헬스, 추억, 드라이브",
           "['경쾌한']"
          ],
          [
           "Faded Love (Feat. Future)",
           "Tinashe",
           "밤, 잔잔한, 분위기, 드라이브, 몽환, 여행, 기분전환, 사랑, 혼술, 여름, 봄, 가을, 새벽, 커피숍, 노동요, 카페, 새벽감성, 힐링, 스트레스, 신나는, 리드미컬, 몽환적인, 섹시, 클럽, 페스티벌, 휴식",
           "['무서운', '잔잔한', '행복한']"
          ],
          [
           "Cannonball (Feat. X Ambassadors)",
           "Skylar Grey",
           "피크닉, 오후, 여행, 기분전환, 가을, 운동, 드라이브, 밤, 새벽, 스트레스, 까페, 잔잔한",
           "['행복한']"
          ],
          [
           "Not Today",
           "치타 (CHEETAH)",
           "센치, 우울",
           "['우울한']"
          ],
          [
           "가져가",
           "원더걸스",
           "댄스, 비오는날, 가을, 추억, 회상, 휴식, 드라이브, 힐링, 기분전환, 설렘, 신나는, 겨울, 눈오는날, 눈, 첫눈, 크리스마스, 캐롤, 따뜻한, 슬픔, 밤, 이별, 새벽, 사랑, 까페, 잔잔한, 분위기, 카페, 장마, 비, 여행, 산책, 짝사랑, 우울, 썸, 봄, 연인, 고백, 스트레스, 여름, 여름밤, 휴가, 겨울감성, 쓸쓸, 응원, 위로, 달달한, 기분좋은, 청량한, 청춘, 공부할때",
           "['행복한']"
          ],
          [
           "나는 나는 음악",
           "임태경",
           "스트레스, 운동, 뮤지컬, 사랑",
           "['경쾌한']"
          ],
          [
           "Surge 7.4",
           "신설희",
           "휴식, 여행산책, 드라이브, 기분전환, 설렘, 스트레스",
           "['행복한']"
          ],
          [
           "이게 아닌데",
           "태양",
           "잔잔한, 밤, 새벽, 슬픔, 추억, 이별, 회상, 힐링, 휴식, 기분전환, 여름, 여름밤, 드라이브, 신나는, 비오는날, 댄스, 우울할때, 카페, 잠잘때, 조용한, 불면증, 짝사랑, 화이팅, 한강, 열대야, 따뜻한, 우울, 가을, 겨울, 스트레스, 설렘, 사랑, 사색, 솔로, 아픔, 비, 연인, 감미로운, 새벽감성, 운동, 여행, 분위기, 부드러운, 자장가, 편안한, 까페, 응원, 연애, 잠들기전, 따뜻함, 산책, 외로움, 달달, 자기전에, 일상, 고백",
           "['우울한']"
          ],
          [
           "박수 (Clap)",
           "틴탑",
           "추억, 기분전환, 회상, 스트레스, 드라이브, 운동, 댄스, 휴식, 힐링, 신나는, 노동요, 신남, 내적댄스, 춤, 아침, 고백, 주말, 여행, 새벽, 밤, 설렘, 사랑, 여름, 헬스장, 이별, 청춘, 클럽, 공감, 레트로, 커플, 가을, 일상, 흥겨운, 경쾌한, 흥폭발, 봄, 운전, 헬스, 겨울, 런닝, 조깅",
           "['경쾌한']"
          ],
          [
           "Discovery",
           "보아 (BoA)",
           "댄스, 몽환, 몽환적",
           "['경쾌한', '잔잔한', '긴장되는']"
          ],
          [
           "May The Bitter Man Win (Feat. J. Cole)",
           "Treasure Davis",
           "기분전환, 드라이브",
           "['행복한']"
          ],
          [
           "불놀이 (Flowerwork)",
           "엔플라잉 (N.Flying)",
           "신나는, 기분전환, 가을, 드라이브, 헬스, 스포츠, 운동, 여름, 장마, 들썩들썩, 청량, 내적댄스, 바다, 밴드",
           "['행복한']"
          ],
          [
           "Sevenless",
           "전국비둘기연합",
           "밴드, 여름, 페스티벌, 기분전환, 스트레스",
           "['경쾌한']"
          ],
          [
           "Priceless",
           "Melanie Fiona",
           "카페, 밤, 겨울, 힐링, 기분전환, 크리스마스",
           "['행복한']"
          ],
          [
           "고기예찬",
           "박용전",
           "힐링, 휴식, 스트레스, 기분전환, 밤, 새벽",
           "['행복한']"
          ],
          [
           "Your Name",
           "SHINee (샤이니)",
           "봄, 사랑, 청량감, 휴식, 힐링, 달달, 설렘, 카페, 산책, 소풍, 드라이브, 여행, 데이트, 벚꽃, 스트레스, 운동, 슬픔, 그리움, 기분전환, 댄스",
           "['행복한']"
          ],
          [
           "촉촉 (Feat. 요조)",
           "피터팬 컴플렉스",
           "눈물, 새벽, 추억, 그리움, 회상, 겨울, 까페, 기분전환, 봄, 사랑, 여름, 잔잔한, 기분좋은, 흥겨운, 산책, 산뜻한, 밤, 연애, 썸, 외로움, 이별, 불금, 가을, 설렘, 잠, 퇴근, 하루, 편안한, 슬픔, 힐링, 휴식, 달달한, 위로, 힘들때, 지칠때, 스트레스, 드라이브, 사색, 커피, 여행, 리드미컬, 새벽감성, 조용한, 카페, 우울, 가을밤, 센치, 설레임, 고백, 데이트, 분위기, 심쿵, 행복, 연인, 신나는, 로맨틱",
           "['행복한']"
          ],
          [
           "보여줘요 (Feat. 정현웅)",
           "황예원",
           "카페, 달달한, 설레임, 연애, 사랑, 달콤, 고백",
           "['잔잔한']"
          ],
          [
           "죽어도 너야",
           "V, 진",
           "휴식, 사랑, 신나는, 휴양지, 회상, 추억, 여름, 드라이브, 바다, 청량, 공감, 기분전환, 스트레스, 행복, 까페, 슬픔, 그리움, 위로, 이별, 외로움, 힐링, 봄, 잔잔한, 분위기, 겨울, 시작, 오후, 기분좋은, 카페, 헤어짐, 짝사랑, 가을, 햇살, 청량감",
           "['잔잔한']"
          ],
          [
           "Special",
           "비스트",
           "여름, 운동, 노동요, 슬픔, 이별, 신나는, 추억, 운동할때, 기분전환, 댄스, 헬스, 파티, 즐거운, 산책, 스트레스, 드라이브, 힐링, 휴식, 설렘, 사랑, 신남, 기분업, 기분좋은, 연말",
           "['행복한']"
          ],
          [
           "왕자는 떠났네",
           "배해선",
           "힐링, 휴식, 기분전환, 비오는날, 잔잔한, 드라이브, 밤, 새벽, 사랑",
           "['행복한', '잔잔한']"
          ],
          [
           "LA LA",
           "WINNER",
           "드라이브, 기분전환, 퇴근길, 스트레스, 신나는, 여름, 휴식, 휴가, 운동, 헬스, 여행, 장마, 봄, 청량, 무더위, 출근길, 댄스, 퇴근, 월요일, 월요병, 출근, 시원, 상쾌, 따뜻한, 스포츠, 노동요, 운동할때, 일할때, 사랑, 일상, 상큼",
           "['행복한']"
          ],
          [
           "슈비드",
           "소호대",
           "힐링, 추억, 휴식, 회상, 여름",
           "['행복한']"
          ],
          [
           "가지말아요",
           "그네와 꽃",
           "잔잔한, 밤, 새벽",
           "['잔잔한', '무서운', '우울한']"
          ],
          [
           "Tenderly",
           "Disclosure",
           "여행, 기분전환, 산책",
           "['행복한']"
          ],
          [
           "Tenderly",
           "Disclosure",
           "여행, 기분전환, 산책",
           "['행복한']"
          ],
          [
           "So Much Love",
           "Stadiumx, Muzzaik",
           "새벽감성, 드라이브, 청량감, 라운지, 클럽, 시원한, 기분전환, 조깅, 페스티벌, 스트레스, 신나는",
           "['행복한']"
          ],
          [
           "Pray (Male Ver.)",
           "인포머",
           "비오는날, 슬픔, 이별",
           "['우울한']"
          ],
          [
           "고백해도 괜찮아",
           "뷰티핸섬",
           "기분전환, 봄",
           "['행복한']"
          ],
          [
           "Beautiful Days",
           "길은경",
           "카페, 휴식, 월요일, 월요병, 힐링, 기분전환, 불면증",
           "['잔잔한']"
          ],
          [
           "What Are You Doing New Year`s Eve",
           "Nancy Wilson",
           "크리스마스, 캐롤, 까페, 눈",
           "['행복한']"
          ],
          [
           "다시 사랑",
           "미쓰에이",
           "댄스, 운동할때, 드라이브",
           "['경쾌한']"
          ],
          [
           "Return To...",
           "모던 쥬스",
           "추억",
           "['행복한']"
          ],
          [
           "Don`t Kill The Fun (Feat. Chris Brown)",
           "Sevyn Streeter",
           "집중, 카페, 까페, 댄스, 비오는날, 밤, 잔잔한, 기분전환, 가을, 사랑, 비, 운동, 스트레스, 드라이브, 노동요, 불금, 시원한",
           "['행복한']"
          ],
          [
           "겨울잠",
           "준호 (2PM)",
           "짝사랑, 달달한, 잔잔한, 설렘, 이별, 쓸쓸함, 서정적인, 새벽, 겨울, 카페, 드라이브, 기분전환, 사랑, 감성자극",
           "['우울한']"
          ],
          [
           "눈을 감으면 (WooHyun Solo)",
           "인피니트",
           "힐링, 휴식, 추억, 회상, 기분전환, 운동, 이별, 짝사랑, 사랑, 잔잔한, 새벽, 밤, 위로, 청량, 여름, 설렘, 슬픔, 스트레스, 가을, 늦은밤, 분위기, 여행, 산책",
           "['잔잔한', '우울한']"
          ],
          [
           "메리-크리 (Merry-Chri)",
           "보아 (BoA)",
           "겨울, 설렘, 사랑, 눈오는날, 캐롤, 따뜻한, 추억, 휴식, 힐링, 회상, 크리스마스, 기분전환, 산책, 흥겨운, 캐럴, 설레는, 연말, 겨울감성, 첫눈, 눈, 슬픔, 이별, 밤, 새벽, 카페, 드라이브, 연휴, 고백, 썸, 달콤, 상큼, 시작, 새해, 잔잔한, 따듯한, 파티, 분위기, 신나는, 가을, 여행, 연애, 포근한, 겨울밤, 댄스, 까페, 그리움, 연인, 친구, 심쿵, 쓸쓸, 데이트, 행복, 편안한, 주말, 스트레스, 비오는날, 달달, 새벽감성, 봄, 소풍, 일상",
           "['잔잔한']"
          ],
          [
           "여행",
           "권나무",
           "잔잔한, 휴양지, 여행, 청춘, 응원, 시작, 새해, 위로, 화이팅, 산책, 여름밤, 새벽, 여름, 기분전환, 밤, 퇴근, 힐링, 희망, 지친",
           "['우울한']"
          ],
          [
           "공주님",
           "팻두",
           "달콤한, 휴식, 힐링, 설렘, 사랑",
           "['행복한']"
          ],
          [
           "너에게 나는",
           "정든",
           "연애, 사랑, 새벽감성, 새벽, 한강, 별, 밤, 잔잔한, 가을, 비오는날, 비",
           "['우울한', '무서운', '잔잔한']"
          ],
          [
           "이렇게 그대 그의 품에",
           "박은태",
           "힐링, 연인, 이별, 뮤지컬, 사랑",
           "['경쾌한']"
          ],
          [
           "어떤 호텔",
           "김사월",
           "밤, 잔잔한, 우울, 새벽, 슬픔, 위로, 힐링, 외로움",
           "['우울한']"
          ],
          [
           "나는 최고의 헤어디자이너 강준",
           "PDJ.Lee",
           "감동, 뮤지컬",
           "['행복한', '경쾌한']"
          ],
          [
           "고백 (With 유승우, 정세운)",
           "마인드유",
           "여름밤, 설렘, 사랑, 노동요, 봄, 달달한, 오후, 겨울밤, 연애, 청춘, 포근한, 휴식, 힐링, 새벽감성, 추억, 저녁, 센치, 헬스, 드라이브, 여행, 불금, 기분전환, 신나는, 달달, 커플, 짝사랑, 청량, 시원한, 고백, 상큼, 카페, 잔잔한, 새벽, 우울, 힘들때, 위로, 봄노래, 벚꽃, 나들이, 아침, 심쿵, 겨울, 연인, 가을, 아픔, 이별, 썸, 밤, 꽃, 아름다운, 행복, 데이트, 시원, 산책, 까페, 회상, 커피, 따뜻한, 편안한, 페스티벌, 공부, 눈, 토닥토닥, 슬픔, 자장가, 로맨틱, 달콤한, 설레임, 낙엽, 쓸쓸함, 외로움, 퇴근길, 새해",
           "['행복한']"
          ],
          [
           "Brothers In Arms",
           "Dire Straits",
           "그리움, 사랑, 여행",
           "['행복한']"
          ],
          [
           "Lonely Won`t Leave Me Alone",
           "Jermaine Jackson",
           "새벽, 추억, 사랑",
           "['행복한']"
          ],
          [
           "편한 사람이 생겼어 (With 성아 Of 바닐라 어쿠스틱)",
           "김지수",
           "가을, 설렘, 사랑, 기분전환, 드라이브, 힐링, 휴식, 여름, 산책, 추억, 여행, 회상, 스트레스, 잔잔한, 연애, 비오는날, 밤, 새벽",
           "['행복한']"
          ],
          [
           "Gloomy Sunday",
           "피아 (PIA)",
           "휴식, 추억, 밴드, 여행, 고속도로, 시원한, 기분전환, 여름휴가, 작업, 페스티벌",
           "['경쾌한']"
          ],
          [
           "Alone (Alex Arcoleo Remix)",
           "Alan Walker",
           "운동, 드라이브, 여행, 기분전환, 데이트, 스트레스, 신나는, 봄, 라운지, 몽환, 도시, 한강, 저녁, 분위기, 야경",
           "['경쾌한', '행복한']"
          ],
          [
           "Granite",
           "Pendulum",
           "클럽, 운동, 주말, 드라이브, 여름, 헬스, 신나는, 불금, 기분전환",
           "['경쾌한']"
          ],
          [
           "꽃 (Feat. 하은)",
           "커피소년",
           "카페, 잔잔한, 기분전환, 사랑, 피크닉, 봄, 봄노래, 벚꽃, 나들이, 여행, 가을, 휴일, 연인, 포근한, 독서, 고백, 데이트, 썸, 달콤, 상큼, 공감, 결혼, 힐링, 휴식, 설렘, 감미로운, 설레임, 출근길, 아침, 출근, 신나는, 연애, 퇴근길, 달달, 봄바람, 드라이브, 시작, 주말, 달달한, 소풍, 산책, 까페, 기분좋은, 선선한, 밤, 새벽, 꽃, 청춘, 가을밤, 봄날",
           "['행복한']"
          ],
          [
           "전국체전",
           "비단종",
           "힐링, 카페",
           "['행복한', '잔잔한']"
          ],
          [
           "밤이 싫어요",
           "전효성",
           "스트레스, 기분전환, 까페, 여름, 운동, 드라이브, 신나는",
           "['긴장되는', '행복한']"
          ],
          [
           "날 사랑하지 않아도",
           "비비안 (BBAHN)",
           "스트레스, 기분전환",
           "['긴장되는', '행복한']"
          ],
          [
           "Mattinata",
           "김재형",
           "카페, 여유, 봄날, 벚꽃, 힐링, 봄",
           "['행복한']"
          ],
          [
           "산들산들",
           "다람",
           "봄비, 기분전환, 봄, 설렘, 사랑, 여행, 산책, 주말, 힐링, 따뜻한, 포근한, 겨울, 휴식, 위로",
           "['행복한']"
          ],
          [
           "휴식",
           "스탠딩 에그",
           "잔잔한, 아침, 새벽, 시작, 센치, 힐링, 분위기, 휴식, 카페, 커피, 일상, 월요일, 까페, 봄, 행복, 월요병, 기분전환, 꿀잠, 가을, 추억, 여유로운, 감성적인, 편안한, 숙면, 밤, 설렘, 사랑, 솔로, 주말, 파티, 오후, 비오는날",
           "['잔잔한']"
          ],
          [
           "Bron Chillin` (Feat. Owen Ovadoz) (Prod. O.T.O)",
           "Changstarr*",
           "기분전환, 스트레스",
           "['행복한', '긴장되는']"
          ],
          [
           "Highlander",
           "최고은",
           "몽환, 봄, 카페, 잔잔한, 기분전환, 작업, 페스티벌, 휴식, 힐링, 유니크, 흥겨운, 스트레스, 밴드, 신나는, 흥, 집중, 조용한, 여름, 주말, 피크닉, 여행",
           "['행복한']"
          ],
          [
           "New York Narcotic",
           "The Knocks",
           "커피, 카페, 밤, 오후, 퇴근길",
           "['잔잔한']"
          ],
          [
           "너와 내가 우리가 되던 날 (Feat. 앤서 (새벽예감))",
           "허스키와 피아노",
           "커피, 힐링, 잔잔한, 설렘, 사랑, 휴식, 봄, 새벽, 저녁, 기분전환, 까페",
           "['행복한']"
          ],
          [
           "Sherlock (SHINee WORLD 4 Ver.)",
           "SHINee (샤이니)",
           "시원한, 무더위, 사랑, 신나는",
           "['경쾌한', '행복한']"
          ],
          [
           "처음 널 보고 #1",
           "위아영 (WeAreYoung)",
           "달달, 이별, 휴식, 가을, 카페, 잔잔한, 산책, 결혼, 설렘, 봄, 달달한, 연애, 고백, 사랑, 썸, 출근길, 월요일, 드라이브, 기분전환, 신나는, 여름, 가을감성, 커플, 연인, 겨울, 달콤한, 겨울밤, 새벽, 설레임, 힐링, 밤, 새벽감성, 달콤, 페스티벌",
           "['행복한']"
          ],
          [
           "잘 살고 있지롱",
           "윤딴딴",
           "자신감, 이별, 기분좋은, 휴식, 경쾌한, 위로, 밴드, 가을, 페스티벌, 스트레스, 신나는, 여름, 밤, 저녁, 드라이브, 기분전환, 사랑, 여행, 주말, 오후, 선선한, 퇴근, 연인, 커피, 햇살, 아침, 상쾌, 공감, 힐링, 청춘, 카페, 산뜻한, 봄, 봄노래, 한강, 봄날, 분위기, 잔잔한, 여유, 눈물, 새벽, 우울, 힘들때, 잠들기전, 공부, 산책, 운전, 자장가, 달달, 월요일, 센치, 감성적인, 응원, 힘내, 피크닉, 벚꽃, 불금, 새벽감성, 추억",
           "['행복한']"
          ],
          [
           "Take Me On",
           "솔튼페이퍼",
           "휴식, 가을, 드라이브, 기분전환, 카페, 힐링, 여행, 잔잔, 잔잔한, 분위기, 설렘, 사랑, 노동요, 감미로운, 일상, 비오는날, 비, 잠들기전, 잠, 밤, 이별, 슬픔, 조용한, 봄",
           "['잔잔한']"
          ],
          [
           "For The City (Feat. Jin.)",
           "Far East Movement",
           "피크닉, 오후, 여행, 기분전환, 편안한",
           "['행복한']"
          ],
          [
           "Through The Rain",
           "Mariah Carey",
           "힐링, 휴식, 설렘, 사랑, 비오는날, 잔잔한, 비, 봄비, 새벽, 드라이브, 추억, 회상",
           "['우울한', '잔잔한']"
          ],
          [
           "위로",
           "정인",
           "우울, 사랑, 새벽, 위로, 불면증, 퇴근길, 외로움, 드라이브, 기분전환, 퇴근, 주말, 잔잔한, 휴식, 늦은밤, 찬바람, 힐링, 스트레스, 밤, 울고싶을때, 카페, 겨울밤, 새벽감성, 잠들기전, 이별, 편안한, 추억, 힘들때, 슬픔, 지칠때, 가을, 지친하루, 힘내, 일상, 지친, 공감, 마음, 응원, 화이팅, 청춘",
           "['우울한']"
          ],
          [
           "When I`m With You",
           "MLC",
           "추억, 댄스, 카페, 잔잔한, 분위기, 설렘, 사랑, 휴식, 독서, 불면증, 흥, 드라이브, 신나는",
           "['잔잔한']"
          ],
          [
           "기억하니? (Acoustic Ver.) (Feat. 1Sagain, 윤진)",
           "July",
           "힐링, 휴식, 잔잔한, 슬픔, 이별, 비오는날, 까페, 설렘, 사랑",
           "['잔잔한']"
          ],
          [
           "청춘이 묻는다 (Original)",
           "임태경, 김태훈",
           "스트레스, 기분전환",
           "['긴장되는', '행복한']"
          ],
          [
           "뚭뚜루",
           "오리엔탈 쇼커스",
           "여행, 드라이브, 겨울, 설렘, 사랑, 가을, 행복, 기분전환, 기분업, 설레는, 힐링, 봄, 경쾌한, 카페, 아침, 페스티벌, 주말",
           "['행복한']"
          ],
          [
           "Self Care",
           "Mac Miller",
           "기분전환, 리드미컬, 슬픔, 우울, 우울한, 새벽, 분위기, 밤, 댄스, 일상, 유니크, 새벽감성, 드라이브, 신나는, 까페, 편안한, 카페, 잔잔한, 공부, 클럽, 스트레스, 헬스, 운동할때, 헬스장, 운동, 에너지, 런닝, 파티, 출근길, 아침, 월요병, 추억, 강렬한, 불금, 비오는날",
           "['행복한']"
          ],
          [
           "나 여기서",
           "Various Artists",
           "감동, 뮤지컬",
           "['행복한', '경쾌한']"
          ],
          [
           "방백 (Aside)",
           "SHINee (샤이니)",
           "댄스, 추억, 회상, 잔잔한, 우울, 위로, 봄, 설렘, 사랑, 짝사랑, 고백, 가을, 따뜻한, 힐링, 겨울감성, 휴식, 드라이브, 까페, 봄바람, 데이트, 나들이, 산책, 기분전환, 운동, 리드미컬, 새벽, 밤, 출근길, 노동요, 일상, 내적댄스, 겨울, 슬픔, 이별, 여름밤, 시원한, 스트레스, 신나는, 카페, 봄비, 봄노래, 여행, 봄날, 공감, 슬픈, 화이팅, 여름",
           "['행복한']"
          ],
          [
           "Morning",
           "마마무 (Mamamoo)",
           "자기전, 가을, 드라이브, 여행, 기분전환, 댄스, 잔잔한, 신나는, 오후, 여름, 시원, 상쾌, 겨울, 상큼, 이별, 사랑, 휴식, 힐링, 눈물, 슬픈, 휴일, 카페, 주말, 산뜻한, 아침",
           "['경쾌한']"
          ],
          [
           "왠지 느낌이 좋아 (`00)",
           "여행스케치",
           "여름, 드라이브, 여행, 산책, 가을, 추억, 기분전환, 마음, 사랑, 힐링, 스트레스, 썸, 달콤, 상큼, 출근길, 봄, 카페, 오후, 에너지, 신나는, 휴식",
           "['행복한']"
          ],
          [
           "혜야 (Y Si Fuera Ella)",
           "SHINee (샤이니)",
           "힐링, 휴식, 스트레스, 기분전환",
           "['긴장되는']"
          ],
          [
           "새장 속의 친구",
           "김광석",
           "추억, 회상, 비오는날, 흐린날, 비, 잔잔한, 우울, 도시, 센치, 힐링, 휴식, 밤, 새벽, 그리움, 친구",
           "['행복한']"
          ],
          [
           "사랑 그 쓸쓸함에 대하여",
           "김윤아, 채보훈",
           "바다, 여름, 봄, 쓸쓸함, 가을, 눈물, 카페, 외로움, 산책, 드라이브, 슬픔, 추억, 이별, 회상, 비오는날, 밴드",
           "['잔잔한']"
          ],
          [
           "미워 (Hate U, Love U)",
           "SUPER JUNIOR (슈퍼주니어)",
           "댄스, 힐링, 휴식, 설렘, 사랑, 추억, 회상",
           "['행복한']"
          ],
          [
           "Salary",
           "페퍼톤스 (Peppertones)",
           "힐링, 휴식, 기분전환, 햇살, 월요병, 스트레스, 카페, 피곤, 퇴근길, 까페, 노동요, 연말, 행복, 겨울, 사랑, 신나는, 드라이브, 운전, 추억, 회상, 퇴근, 금요일, 강렬한, 상쾌한, 스트레스해소, 침대, 설렘, 여행, 경쾌한, 산뜻한, 밝은",
           "['행복한']"
          ],
          [
           "소중한 사람을 위해",
           "V.O.S",
           "설렘, 사랑, 추억, 기분전환, 회상",
           "['행복한']"
          ],
          [
           "If I Love You (Feat. 이단옆차기)",
           "NS 윤지",
           "밤, 가을, 새벽, 슬픔, 스트레스, 이별, 댄스, 힐링, 휴식, 기분전환, 신나는, 여름, 까페, 설렘, 사랑",
           "['행복한']"
          ],
          [
           "범띠 아가씨",
           "양미란",
           "추억",
           "['행복한']"
          ],
          [
           "boy",
           "offonoff (오프온오프)",
           "휴식, 밤, 힐링, 겨울, 새벽감성, 새벽, 잠들기전, 기분전환, 산책, 여행, 분위기, 가을, 카페, 가을비, 드라이브, 사랑, 달달, 잔잔, 비, 우울, 잔잔한, 센치, 스트레스해소, 피크닉, 몽환, 몽환적, 스트레스, 혼자있을때, 여름, 신나는, 연휴, 행복, 일상, 데이트, 썸, 퇴근길, 퇴근, 트렌디한, 운동, 리드미컬, 힙한, 연애, 외로움, 별, 무더위, 비오는날, 감성자극, 주말, 흐린날, 겨울밤, 추억, 이별, 설렘, 달달한, 아련한, 집중, 출근길, 아침, 월요병, 편안한, 아름다운, 봄비, 위로, 포근한, 봄, 저녁, 쓸쓸한, 가을밤, 불금, 섹시, 유니크",
           "['행복한']"
          ],
          [
           "이별이라는 밤",
           "맥켈리",
           "눈물, 감수성, 슬픔, 이별, 봄, 주말, 잔잔한, 오후, 기분전환, 산책, 카페, 분위기, 위로, 힐링, 퇴근길, 휴식, 커피, 햇살, 그리움, 쓸쓸한, 외로움, 비오는날, 감성자극, 회상, 출근길, 월요병, 추억, 우울한, 밤, 추억회상, 겨울, 따뜻한, 공감, 후회, 감미로운, 센치",
           "['잔잔한']"
          ],
          [
           "나의 빛, 어머니",
           "박은태",
           "뮤지컬",
           "['경쾌한']"
          ],
          [
           "I`m Not Yours",
           "스탠딩 에그",
           "오후, 즐거운, 잔잔한, 밤, 새벽, 휴식, 힐링, 가을, 까페, 설렘, 사랑, 슬픔, 이별, 주말, 산책, 기분좋은, 분위기, 카페, 설레임, 마음, 편안한, 추억, 회상, 여름, 기분전환, 드라이브",
           "['무서운']"
          ],
          [
           "겨울, 끝 (It`s You)",
           "여자친구 (GFRIEND)",
           "밤, 댄스, 새벽, 드라이브, 신나는, 공부, 눈물, 우울, 분위기, 센치, 슬픔, 이별, 크리스마스",
           "['경쾌한']"
          ],
          [
           "새빨간",
           "테인",
           "휴식, 힐링, 설렘, 사랑, 비오는날, 밤, 새벽, 슬픔, 이별, 여행, 산책, 회상, 추억, 드라이브, 기억, 상큼, 봄",
           "['행복한']"
          ],
          [
           "나는 나만의 것",
           "옥주현",
           "뮤지컬, 감동, 댄스, 자신감, 사랑",
           "['경쾌한']"
          ],
          [
           "나는 나만의 것",
           "신영숙",
           "뮤지컬, 감동, 댄스, 자신감, 사랑",
           "['경쾌한']"
          ],
          [
           "나는 나만의 것",
           "옥주현",
           "힐링, 휴식, 기분전환, 감동, 뮤지컬, 사랑",
           "['경쾌한']"
          ],
          [
           "나는 나만의 것",
           "신영숙",
           "힐링, 휴식, 기분전환, 감동, 뮤지컬, 사랑",
           "['경쾌한']"
          ],
          [
           "Take on Me (Kygo Remix)",
           "A-ha",
           "드라이브, 클럽, 기분전환",
           "['행복한', '경쾌한']"
          ],
          [
           "언젠가 이 곳이 (장금, 민정호)",
           "원기준, 김소현",
           "뮤지컬, 감동",
           "['경쾌한', '행복한']"
          ],
          [
           "사람없인 사람으로 못 살아요",
           "문문 (MoonMoon)",
           "잔잔한, 새벽, 새벽감성, 힘들때, 위로, 퇴근, 센치, 커피, 드라이브, 카페, 혼술, 밤, 외로움, 한강, 퇴근길, 휴식, 힐링, 슬픔, 이별, 산책, 기분전환, 겨울, 사랑, 분위기, 청춘, 하루, 연말, 노동요, 월요병, 저녁, 잠들기전, 우울한, 지친, 지칠때, 댄스, 집중, 공부, 눈, 가을, 여름밤, 토닥토닥, 겨울밤, 추억, 연인, 주말, 신나는, 봄, 낭만, 우울, 달달, 여유, 오후, 일상, 출근길, 페스티벌, 스트레스, 연애, 고백, 설렘, 썸, 잠",
           "['우울한']"
          ],
          [
           "프리프링 매지컬 샤이닝 스타 (아빠를 구하자)",
           "프리프링 마리의 마법학교 대모험",
           "뮤지컬",
           "['경쾌한']"
          ],
          [
           "The Ocean (Feat. Julia Spada)",
           "Steve Angello",
           "댄스, 페스티벌, 파티, 신나는",
           "['경쾌한', '행복한']"
          ],
          [
           "안부를 묻는다는 것",
           "아무사이",
           "힐링, 연말, 겨울, 잔잔한, 집중, 휴식, 밤, 카페, 새벽, 차분한, 조용한, 여행, 혼술, 감성적인, 가을, 달달, 설렘, 회상, 추억, 기분전환, 사랑, 가을비, 이별, 슬픔, 그리움, 비오는날, 커피, 산책, 까페, 유니크, 주말, 위로, 편안함",
           "['무서운']"
          ],
          [
           "라디오90",
           "조동희",
           "가을",
           "['잔잔한']"
          ],
          [
           "우리 사랑 여기까지죠",
           "혜령",
           "조용한, 밤, 새벽, 겨울, 이별, 슬픔, 추억, 회상, 여유, 잔잔한, 설렘, 사랑, 후회, 댄스, 드라이브, 힐링, 휴식, 기분전환, 헤어짐, 비오는날, 눈물, 아픔, 우울, 가을, 감수성, 비, 카페",
           "['우울한']"
          ],
          [
           "나만의 친구",
           "솔리드",
           "추억, 회상, 봄, 댄스, 그리움, 친구, 잔잔한, 사랑, 설렘",
           "['행복한', '잔잔한']"
          ],
          [
           "Black Shoes (하이힐) (Feat. Lil Cham)",
           "Steve Wu, 두스",
           "기분전환, 신나는, 댄스",
           "['행복한']"
          ],
          [
           "Triple",
           "클레오",
           "댄스, 스트레스, 기분전환, 드라이브, 추억, 회상, 힐링, 휴식",
           "['경쾌한']"
          ],
          [
           "넌 모를 거야",
           "이영훈",
           "기억, 드라이브, 사랑, 설렘, 짝사랑, 비오는날, 휴식, 잔잔한, 추억, 열대야, 집, 작업, 이별, 아침, 눈, 겨울, 크리스마스, 여행, 봄, 벚꽃, 자기전에, 쓸쓸, 쓸쓸함, 새벽감성, 토닥토닥, 기분전환, 밤, 새벽, 달달, 고백, 썸, 위로, 카페, 슬픔, 감미로운",
           "['잔잔한']"
          ],
          [
           "밤하늘의 별을 2 (Feat. 제이비 & 한지은)",
           "양정승",
           "비오는날, 잔잔한, 밤, 새벽, 추억, 휴식, 기분전환, 사랑, 힐링, 시작, 화이팅, 설렘, 달콤, 카페, 달달한, 편안한, 여름, 산책, 여행, 커플, 짝사랑, 연애, 썸, 설레임, 행복, 고백, 분위기, 가을, 가을밤",
           "['행복한']"
          ],
          [
           "Strip That Down (Feat. Quavo)",
           "Liam Payne",
           "여유, 드라이브, 여행, 나들이, 내적댄스, 기분업, 신나는, 기분전환",
           "['행복한']"
          ],
          [
           "눈치도 없이",
           "더 문샤이너스",
           "스트레스, 설렘, 사랑",
           "['행복한']"
          ],
          [
           "Ready Or Not Yo! (English Ver.) (Feat. Jinusean, Perry)",
           "원타임",
           "댄스",
           "['경쾌한']"
          ],
          [
           "애원 (Funky Disco Ver.)",
           "에어",
           "댄스, 흥겨운, 추억, 경쾌한, 신나는",
           "['경쾌한']"
          ],
          [
           "Speechless (feat. Erika Sirola)",
           "Robin Schulz",
           "운동, 달리기, 런닝, 조깅, 헬스장",
           "['경쾌한']"
          ],
          [
           "San Francisco",
           "ADOY",
           "술, 새벽, 몽환, 여름, 스트레스, 기분전환, 페스티벌, 잔잔한, 여름밤, 드라이브, 도시, 레트로, 밤, 산책, 여행, 한강, 데이트, 청량감, 불금, 금요일, 힐링, 휴식, 댄스, 신나는, 카페, 바다, 야경, 퇴근길, 내적댄스, 여행산책, 분위기, 설렘, 저녁, 사랑, 청춘, 여유, 연애, 해변, 비오는날, 감성자극, 힙한",
           "['행복한']"
          ],
          [
           "같애 (same)",
           "디 로드 (D.Road)",
           "연인, 사랑, 고백, 설렘, 데이트, 썸, 달달, 한강, 밤, 새벽, 드라이브, 카페, 연말, 고독, 눈, 겨울, 솔로, 부드러운",
           "['잔잔한']"
          ],
          [
           "비가 오면",
           "이지형",
           "추억, 가을, 회상, 비오는날, 비, 밤, 새벽, 여름밤, 잔잔한, 여행, 산책, 설렘, 사랑, 슬픔, 이별",
           "['우울한']"
          ],
          [
           "그대라서",
           "신용재, 루나 (LUNA)",
           "연인, 기분전환, 카페, 사랑, 드라이브, 휴식, 일상, 힐링, 스트레스, 눈, 크리스마스, 캐롤, 연말, 겨울, 신나는, 쓸쓸, 이별, 잔잔한, 불면증, 새벽, 분위기, 커피, 눈물, 슬픔, 겨울감성, 설렘, 달달, 추억, 따뜻한, 추억회상, 로맨틱, 첫눈, 편안한, 찬바람, 댄스, 위로, 회상, 감성적인",
           "['행복한']"
          ],
          [
           "Don`t Let Me Be Lonely Tonight",
           "Eric Clapton",
           "가을, 주말, 혼술, 와인, 센치한",
           "['잔잔한']"
          ],
          [
           "Livin` In a Dream (Feat. Nipsey Hussle)",
           "The Neighbourhood",
           "기분전환, 여름, 드라이브, 밤, 새벽, 사색, 카페, 내적댄스, 흥, 흥폭발, 겨울, 힐링, 운동, 청량, 신나는, 잔잔한, 휴식, 사랑",
           "['행복한']"
          ],
          [
           "상상",
           "김거지",
           "몽환",
           "['잔잔한']"
          ],
          [
           "동그라미",
           "모세",
           "여름",
           "['경쾌한']"
          ],
          [
           "Kiss Of Life",
           "Sade",
           "새벽, 밤, 설렘, 사랑",
           "['행복한']"
          ],
          [
           "Sweet Dreams (Are Made Of This)",
           "Marilyn Manson",
           "기분전환, 휴식, 힐링",
           "['행복한']"
          ],
          [
           "Power (Feat. HAYAKE)",
           "FIBER FUNK",
           "스트레스, 기분전환, 신나는",
           "['행복한']"
          ],
          [
           "바다 (Feat. KURO)",
           "김미정 (yourbeagle)",
           "드라이브",
           "['행복한']"
          ],
          [
           "순심이",
           "임창정",
           "댄스, 힐링, 휴식, 잔잔한, 추억, 회상",
           "['잔잔한']"
          ],
          [
           "마지막 부탁",
           "이등변삼각형",
           "잔잔한, 우울, 위로, 슬픔, 사랑, 청춘",
           "['우울한']"
          ],
          [
           "사랑은 유리 같은 것",
           "핑클 (Fin.K.L)",
           "추억, 댄스, 드라이브, 슬픔, 기분전환, 사랑, 아픔, 이별",
           "['행복한']"
          ],
          [
           "WYA (Feat. 버벌진트)",
           "Se.A (세아)",
           "여행, 드라이브, 클럽, 카페, 잔잔, 분위기, 커피",
           "['행복한', '잔잔한']"
          ],
          [
           "Yellow Ade",
           "24.5",
           "심쿵",
           "['긴장되는']"
          ],
          [
           "가을밤",
           "배영경, 송푸름",
           "잔잔한, 휴식, 가을, 가을밤, 추억, 힐링, 편안한",
           "['잔잔한']"
          ],
          [
           "가을밤",
           "정성우",
           "잔잔한, 휴식, 가을, 가을밤, 추억, 힐링, 편안한",
           "['잔잔한']"
          ],
          [
           "가을밤",
           "배영경, 송푸름",
           "감성자극, 밤, 가을, 새벽, 비오는날, 카페, 사랑, 비, 여름, 장마, 잔잔한, 드라이브, 운전, 휴식, 추억, 슬픔, 조용한",
           "['우울한']"
          ],
          [
           "가을밤",
           "정성우",
           "감성자극, 밤, 가을, 새벽, 비오는날, 카페, 사랑, 비, 여름, 장마, 잔잔한, 드라이브, 운전, 휴식, 추억, 슬픔, 조용한",
           "['우울한']"
          ],
          [
           "피 땀 눈물",
           "방탄소년단",
           "연말, 그리움, 휴식, 기분전환, 댄스, 상큼, 봄, 리드미컬, 신나는, 집중, 공부, 시험, 여름, 운동, 드라이브, 비오는날, 비, 우울, 힐링, 사랑, 이별, 화이팅, 행복, 겨울, 설렘, 스트레스, 노동요, 월요일, 내적댄스, 달달한, 여름밤, 여행, 시원한, 휴가, 따뜻한, 추억, 커플, 일할때, 운동할때, 섹시, 산책, 가을, 카페, 운전, 강렬한, 까페, 흥폭발, 신나, 흥, 헬스, 조깅, 힘내, 바캉스, 고속도로, 클럽, 춤, 커피, 출근길, 잔잔한, 슬픈, 봄날, 런닝, 주말, 신남, 불금, 슬픔, 시원, 파티, 나들이, 위로, 청춘, 벚꽃, 편안한, 일상, 밤, 흥겨운, 회상, 쓸쓸, 헬스장, 휴양지, 한강, 청량감, 오후, 바다, 상쾌한, 눈물, 스트레스해소, 친구, 기분좋은, 연휴, 경쾌한, 아침, 월요병, 추억회상, 들썩들썩, 퇴근길, 센치, 시작, 청량한, 외로움, 러닝",
           "['행복한']"
          ],
          [
           "너이길 원했던 이유",
           "쿨 (COOL)",
           "기분전환, 여름, 드라이브, 신나는, 댄스, 힐링, 휴식, 잔잔한, 추억, 스트레스, 운동, 회상, 흥겨운, 경쾌한, 사랑, 설렘, 클럽",
           "['경쾌한']"
          ],
          [
           "My Prerogative",
           "Britney Spears",
           "추억, 드라이브, 슬픔, 산책, 이별, 여행",
           "['행복한']"
          ],
          [
           "The Blower",
           "Damien Rice",
           "잔잔한, 밤, 새벽, 카페, 휴식, 드라이브",
           "['잔잔한']"
          ],
          [
           "Hurricane",
           "신화",
           "가을",
           "['잔잔한']"
          ],
          [
           "Check It Out",
           "Ferry Corsten",
           "스트레스, 헬스, 운동, 기분전환, 신나는, 페스티벌, 노동요",
           "['긴장되는']"
          ],
          [
           "Tell Me Tell Me",
           "레인보우",
           "기분전환, 설렘, 사랑, 내적댄스, 신나는, 댄스, 여름, 드라이브, 시원한, 바다, 스트레스, 상큼, 봄, 운동할때, 헬스장, 화이팅, 슬픔, 이별, 운동, 노동요, 추억, 봄날, 여름밤, 여행, 여름휴가, 신남, 잔잔한, 힐링, 휴식, 무더위, 회상, 시작, 월요일, 카페, 상큼한, 벚꽃, 햇살, 봄바람, 봄노래, 까페, 클럽, 헬스, 파티, 즐거운, 일상, 소풍, 시원, 청량, 청량감, 스트레스해소, 연애, 짝사랑, 산책, 휴가, 달달, 꽃, 운전, 친구, 신나, 경쾌한, 센치, 흥폭발, 활기찬, 행복, 출근길, 고백",
           "['경쾌한']"
          ],
          [
           "Mood",
           "Carlie Hanson",
           "가을감성, 가을, 잔잔한, 분위기, 선선한",
           "['잔잔한']"
          ],
          [
           "너, 한눈 팔지마!",
           "걸스데이",
           "여름, 드라이브, 댄스, 운동할때, 헬스장, 기분전환, 화이팅, 신나는, 헬스, 운동, 여행, 설렘, 사랑, 청량감, 청량, 추억, 회상, 힐링, 휴식, 내적댄스, 스트레스, 까페, 흥겨운, 경쾌한, 우울, 위로, 친구",
           "['경쾌한']"
          ],
          [
           "종이 심장 (Paper Heart)",
           "f(x)",
           "스트레스, 신나는, 드라이브, 설렘, 사랑, 댄스, 잔잔한, 기분전환, 힐링, 휴식, 달달, 치유, 낙엽, 가을, 춤, 운동, 여름, 월요병, 상쾌한, 아침, 산책, 카페, 분위기, 새벽, 추억, 회상, 여행, 밤, 힙한, 슬픔, 이별, 까페, 봄, 겨울, 썸, 쓸쓸, 비오는날",
           "['행복한']"
          ],
          [
           "너 옆으로 떨어지는 빛",
           "정고래",
           "여름, 잔잔한, 드라이브, 여행, 휴식, 기분전환, 봄, 신나는",
           "['잔잔한']"
          ],
          [
           "깊이 잠들어요 (Remastered)",
           "한올",
           "기분좋은, 달콤, 카페, 응원, 위로, 힐링, 포근한, 숙면, 하루, 잔잔한, 새벽, 휴식, 일상, 퇴근길, 밤, 조용한, 불면증, 고백, 사랑, 잠들기전, 자장가, 토닥토닥, 이별, 잠, 잔잔, 드라이브, 부드러운, 분위기",
           "['우울한']"
          ],
          [
           "Good Bye (Vocal Ver.)",
           "서태지",
           "사랑, 추억, 설렘, 회상",
           "['행복한']"
          ],
          [
           "I`m Here",
           "양다일",
           "잔잔한, 추억, 회상, 밤, 새벽, 위로, 휴식, 이별, 힐링, 연말, 따듯한, 포근한, 크리스마스",
           "['잔잔한', '행복한']"
          ],
          [
           "Cold",
           "피에스타",
           "잔잔한, 밤, 새벽, 휴식, 힐링, 기분전환, 추억, 회상",
           "['행복한']"
          ],
          [
           "사랑이 온 것 같아요",
           "릴리 (Lily)",
           "기분좋은, 봄, 휴식, 출근길, 기분전환, 사랑, 여름, 신나는",
           "['행복한']"
          ],
          [
           "모든 게 다 사라져",
           "Various Artists",
           "스트레스, 기분전환",
           "['긴장되는', '행복한']"
          ],
          [
           "I Am Changing",
           "차지연",
           "잔잔한, 밤, 새벽",
           "['잔잔한', '무서운', '우울한']"
          ],
          [
           "Born To Run",
           "Bruce Springsteen",
           "불금, 기분전환, 신나는, 힐링, 휴식, 여행",
           "['행복한']"
          ],
          [
           "바램",
           "차호석",
           "슬픔, 추억, 이별, 회상",
           "['우울한']"
          ],
          [
           "Owl`s Lullaby",
           "Belz",
           "유니크",
           "['경쾌한']"
          ],
          [
           "동훈이라고!! (Feat. 쿤타)",
           "하하",
           "여름, 기분전환",
           "['경쾌한', '행복한']"
          ],
          [
           "The Voice (with 조지은)",
           "제이스쿼드 (JSQUAD)",
           "잔잔한, 여행, 기분전환, 까페, 신나는",
           "['행복한']"
          ],
          [
           "깨어나",
           "정동화",
           "새벽, 뮤지컬",
           "['우울한', '경쾌한']"
          ],
          [
           "Kiss",
           "쿨 (COOL)",
           "비오는날, 카페",
           "['우울한']"
          ],
          [
           "Luxury (Single Ver.)",
           "한나",
           "댄스",
           "['경쾌한']"
          ],
          [
           "나라의 결심",
           "오나라",
           "뮤지컬",
           "['경쾌한']"
          ],
          [
           "소원",
           "고유진 (플라워)",
           "잔잔한, 휴식, 추억, 기분전환, 회상, 까페, 슬픔, 이별, 후회, 비오는날, 가을, 새벽, 밤, 설렘, 사랑",
           "['행복한']"
          ],
          [
           "Roller Coaster",
           "몬스타엑스",
           "기분전환, 운동, 댄스, 잔잔한, 흥, 드라이브, 봄, 설렘, 사랑, 스트레스, 감성적인, 집중, 휴식, 별, 카페, 달달, 연인, 신나는",
           "['행복한', '경쾌한']"
          ],
          [
           "하이파이브",
           "아이돌학교",
           "댄스, 운동할때, 헬스장, 기분전환, 화이팅, 신나는, 위로, 힐링, 힘들때, 상큼한, 밝은, 스트레스, 까페",
           "['경쾌한']"
          ],
          [
           "밤밤밤 (Remastered)",
           "Adios Audio",
           "밴드, 트렌디한, 유니크, 스트레스, 신나는, 휴식, 여행산책, 드라이브, 여행, 운전",
           "['경쾌한']"
          ],
          [
           "Painful Truth (아픈 진실)",
           "송용진",
           "뮤지컬",
           "['경쾌한']"
          ],
          [
           "Sleeping Pill (수면제) (Feat. Ludens Musiq)",
           "Godiflow (가디플로우)",
           "신나는",
           "['행복한']"
          ],
          [
           "Dental Care",
           "Owl City",
           "휴식, 힐링, 여행, 산책, 스트레스",
           "['행복한']"
          ],
          [
           "내게 와",
           "소낙빌",
           "운동, 드라이브, 여행, 신나는",
           "['행복한']"
          ],
          [
           "Hey U!",
           "샤크라",
           "댄스",
           "['경쾌한']"
          ],
          [
           "COOL",
           "Troye Sivan",
           "기분좋은, 여름, 상큼한, 청량한, 기분업, 여행, 까페, 산책, 비오는날, 기분전환, 일상, 외출, 신나는, 새벽, 드라이브, 밤, 분위기, 한강, 잔잔한, 클럽, 카페, 운동, 청량, 위로, 신남, 스트레스, 행복, 사랑, 슬픔, 이별, 겨울, 휴식, 감성자극, 새벽감성, 잔잔, 몽환, 시원한, 바다, 휴가",
           "['행복한']"
          ],
          [
           "한마디 (Your Voice)",
           "헤리티지(Heritage), 종현 (JONGHYUN)",
           "기분전환, 봄, 잔잔한, 까페, 설렘, 사랑, 기억, 응원, 위로, 힐링, 하루, 휴식, 연인, 연애, 슬픔, 이별, 여름, 밤, 여름밤, 새벽감성, 새벽, 드라이브, 별, 운동, 토닥토닥, 주말, 행복, 고백, 데이트, 썸, 신나는, 달달, 댄스, 추억",
           "['행복한']"
          ],
          [
           "Mad Love",
           "DJ L",
           "클럽, 페스티벌, 여름, 스트레스",
           "['경쾌한']"
          ],
          [
           "Beautiful",
           "비스트",
           "힐링, 휴식, 잔잔한, 기분전환, 내적댄스, 흥폭발, 신나는, 댄스, 오후, 커플, 봄, 카페, 벚꽃, 클럽, 달달, 설렘, 스트레스, 사랑, 까페, 위로, 청춘, 화이팅, 슬픔, 이별, 드라이브, 추억, 겨울, 회상, 설레임, 연애, 고백, 운동, 여름, 청량한, 상큼, 새벽, 밤, 달콤, 출근길, 모닝콜, 아침, 월요일, 상쾌, 산책, 여유, 데이트, 주말, 파티, 여행, 달콤한, 저녁, 상쾌한, 즐거운, 연인, 휴가, 가을, 자신감, 청량, 헬스, 스포츠, 달리기, 스트레스해소, 그리움, 기분좋은, 연말, 운전, 흥",
           "['행복한']"
          ],
          [
           "니꺼할래 (Feat. K.O.K)",
           "레미",
           "잔잔한, 설렘, 사랑",
           "['행복한']"
          ],
          [
           "Last Request (Album Ver.)",
           "Paolo Nutini",
           "비오는날, 장마, 분위기, 비",
           "['우울한']"
          ],
          [
           "Double J",
           "이재진",
           "노동요, 댄스, 내적댄스, 스트레스, 기분전환, 설렘, 사랑, 추억, 운동, 회상",
           "['경쾌한']"
          ],
          [
           "봄이와 (Feat. 이인세)",
           "르 메리무스",
           "봄, 여행, 썸, 설렘, 힐링, 휴식",
           "['행복한']"
          ],
          [
           "Say",
           "젝스키스",
           "비오는날, 잔잔한, 추억, 기분전환, 회상, 댄스",
           "['잔잔한']"
          ],
          [
           "달도 밝다",
           "나윤영",
           "뮤지컬",
           "['경쾌한']"
          ],
          [
           "진심",
           "캔",
           "새벽, 추억, 밤, 회상",
           "['우울한', '행복한', '무서운', '잔잔한']"
          ],
          [
           "오랜만이야, 안녕",
           "온리유",
           "겨울, 카페, 여행, 커피, 휴식, 힐링, 커피숍, 분위기, 산책, 오후, 사랑, 공부, 까페, 잔잔한, 몽환적인",
           "['잔잔한']"
          ],
          [
           "사람들은 모두 외롭다",
           "레이디버드(LADYBIRD)",
           "슬픔, 밤, 이별, 새벽, 위로, 힘들때",
           "['우울한']"
          ],
          [
           "부탁해",
           "우주소녀",
           "힘들때, 운동할때, 댄스, 신나는, 노동요, 드라이브, 기분전환, 여름, 겨울, 가을, 봄, 퇴근길, 스트레스, 추억, 짝사랑, 이별, 사랑, 감성적인, 분위기, 몽환, 운동, 휴식, 출근길, 주말, 헬스장, 오후, 불금, 파티, 무더위, 즐거운, 몽환적, 상큼한, 밝은, 잔잔한, 운전, 헬스, 상쾌한, 외출, 내적댄스, 출근, 월요일, 모닝콜, 청춘, 힘내, 여행, 위로, 일상, 여름밤, 힐링, 행복, 희망",
           "['행복한']"
          ],
          [
           "Heatwave (feat. More Giraffes)",
           "Melvv",
           "비오는날, 밤, 잔잔한, 새벽감성, 새벽, 쓸쓸한, 휴식, 신나는, 신나, 몽환, 댄스, 카페, 드라이브, 까페, 몽환적, 기분전환, 스트레스, 라운지, 집중, 출근길, 아침, 월요병, 추억, 기분좋은, 따뜻함, 분위기, 퇴폐, 힙한, 유니크, 여름, 트렌디한, 시원한, 여행, 펍, 겨울, 오후, 여유, 나른한, 내적댄스",
           "['행복한']"
          ],
          [
           "Boyscout",
           "김효은, Skinny Brown",
           "신나는, 드라이브",
           "['행복한']"
          ],
          [
           "Rocket Man (I Think It`s Going To Be A Long, Long Time)",
           "Elton John",
           "카페, 감성적인, 까페, 겨울, 밤, 새벽",
           "['잔잔한']"
          ],
          [
           "내가 눈을 감는 이유",
           "태빈",
           "추억, 회상, 힐링, 휴식, 잔잔한, 퇴근길, 분위기, 기분전환, 댄스, 비오는날, 카페, 새벽, 드라이브, 그리움, 사랑, 가을, 여행, 겨울, 밤, 추억회상, 행복, 이별, 우울, 설렘",
           "['행복한']"
          ],
          [
           "Good Bye (feat. 김미정 Yourbeagle)",
           "준코코 (Juncoco), 정현 (Jeonghyeon)",
           "드라이브, 기분전환, 파티, 신나는",
           "['행복한']"
          ],
          [
           "I Do",
           "어쿠스틱 콜라보",
           "달달, 사랑, 비오는날, 저녁, 카페, 주말, 오후, 드라이브, 센치한, 휴식, 힐링, 여행, 산책, 잔잔한, 솔로, 까페, 설렘, 기분전환, 가을, 봄, 봄노래, 설레임, 추억, 회상, 짝사랑, 연인, 밤, 새벽, 벚꽃, 쓸쓸, 여름, 이별, 집중, 노동요, 한강, 편안한, 그리움, 우울, 힘들때, 위로, 댄스, 상큼, 봄비, 여름휴가, 결혼, 스트레스, 고백, 여유로운, 가을밤, 불금, 겨울, 커피, 연애, 행복, 숙면, 감성자극, 운동, 데이트, 신나는, 자기전에, 하늘, 흐린날, 감미로운, 하루, 출근길, 아침, 월요병, 봄날, 여름밤, 여유, 퇴근길, 비, 따듯한, 겨울감성, 월요일, 시원한, 꽃, 나들이, 달달한, 후회, 조용한, 일상, 자장가, 외로움, 달콤, 커플, 차분한, 피곤, 공부, 분위기, 부드러운, 상큼한, 썸, 감수성, 겨울밤, 슬픔, 잔잔, 페스티벌, 달콤한, 새벽감성, 잠들기전",
           "['행복한']"
          ],
          [
           "Human",
           "The Killers",
           "휴식, 힐링, 산책, 여행, 스트레스, 기분전환",
           "['행복한']"
          ],
          [
           "팬텀의 등장",
           "전동석, 뮤지컬 팬텀 2016 앙상블",
           "뮤지컬",
           "['경쾌한']"
          ],
          [
           "멍",
           "PERC%NT",
           "겨울, 한강, 카페, 잔잔한, 분위기, 기분전환, 산책, 따뜻한, 슬픔, 휴식, 사랑, 이별, 새벽",
           "['행복한', '잔잔한']"
          ],
          [
           "돗대 (ONE AND ONLY) (B.I SOLO)",
           "iKON",
           "신나는, 힐링, 휴식, 기분전환, 트렌디한",
           "['행복한']"
          ],
          [
           "How We Do (Original Mix)",
           "Hardwell, Showtek",
           "댄스, 클럽, 기분전환, 신나는, 헬스, 운동, 페스티벌, 스트레스해소, 주말, 라운지, 스트레스, 내적댄스, 밤, 새벽",
           "['경쾌한', '행복한']"
          ],
          [
           "내게 남은 건 그대 (It All Fades Away)",
           "박은태",
           "뮤지컬, 감동, 사랑",
           "['경쾌한']"
          ],
          [
           "첫키스",
           "FTISLAND (FT아일랜드)",
           "댄스, 설렘, 사랑, 힐링, 휴식, 달달, 연애, 산책, 카페",
           "['행복한']"
          ],
          [
           "What A Wonderful Cane (English Ver.)",
           "이동우 (LEE DONG WOO)",
           "여름, 설렘, 사랑",
           "['행복한']"
          ],
          [
           "No Cellular Site",
           "D-Block Europe",
           "달달한",
           "['행복한']"
          ],
          [
           "In Heaven (Narr. 김정은)",
           "JYJ",
           "슬픔, 힐링, 휴식, 이별, 설렘, 사랑, 추억, 기분전환, 회상, 가을, 잔잔한, 밤, 새벽, 드라이브, 비오는날, 댄스",
           "['행복한']"
          ],
          [
           "I Know You Know",
           "POE",
           "여름, 청량, 산책, 밝은, 유니크, 신나는",
           "['경쾌한', '행복한']"
          ],
          [
           "SOMEONE`S SOMEONE",
           "몬스타엑스",
           "밤, 새벽감성, 라운지, 기분전환, 분위기, 카페",
           "['잔잔한']"
          ],
          [
           "Inn",
           "주영",
           "힘들때, 분위기, 가을, 카페, 저녁, 가을밤, 피곤, 한강, 기분전환, 선선한, 겨울감성, 겨울, 사랑, 비오는날, 흐린날, 장마, 새벽, 센치, 집, 침대, 우울, 드라이브, 몽환, 몽환적, 스트레스, 밤, 잔잔한, 외로움, 레트로, 힙한, 몽환적인, 비, 여행, 운동, 섹시",
           "['우울한']"
          ],
          [
           "Moonlight",
           "Disclosure",
           "리드미컬, 라운지, 힐링, 분위기, 운동, 기분좋은, 봄, 아침, 오후, 드라이브, 상쾌한, 시원한, 기분전환, 밤, 새벽, 흥, 스트레스, 신나는, 댄스, 비오는날, 까페, 여행, 피크닉, 출근길, 퇴근길",
           "['행복한']"
          ],
          [
           "시간이 안 지나가 (Walkin` In Time)",
           "더보이즈 (THE BOYZ)",
           "이별, 새벽, 눈물, 그리움, 애절한, 슬픔, 추억",
           "['우울한']"
          ],
          [
           "내 님의 사랑은",
           "따로 또 같이",
           "봄, 드라이브, 여행, 휴식, 기분전환, 사랑, 퇴근길",
           "['행복한']"
          ],
          [
           "facetime",
           "oogypark",
           "카페, 힙한",
           "['잔잔한', '긴장되는']"
          ],
          [
           "Belief",
           "jeebanoff (지바노프)",
           "설렘, 사랑, 새벽, 몽환, 드라이브, 기분전환, 밤, 까페, 잔잔한, 새벽감성, 여행, 신나는, 운동, 집중, 가을감성, 출근길, 아침, 월요병, 추억, 스트레스, 카페, 분위기, 힐링, 겨울, 클럽, 펍, 불금, 비오는날, 퇴근, 가을, 위로, 산책, 청춘, 리드미컬, 잔잔, 노동요, 라운지, 섹시, 몽환적인, 휴식, 이별, 내적댄스, 몽환적, 주말, 차분한, 오후, 기분업, 슬픔, 여름, 소풍, 피크닉, 한강, 휴일, 청량, 잠들기전, 밴드",
           "['행복한']"
          ],
          [
           "그게 너였다",
           "안재현",
           "기분전환, 슬픔, 이별, 잔잔한, 추억, 회상, 드라이브, 비오는날, 새벽, 그리움, 사랑",
           "['행복한', '잔잔한']"
          ],
          [
           "The Gambler",
           "Kenny Rogers",
           "편안한, 추억, 회상",
           "['편안한', '행복한', '잔잔한']"
          ],
          [
           "아틀란티스 소녀 (Atlantis Princess)",
           "슬기 (SEULGI)",
           "겨울",
           "['잔잔한']"
          ],
          [
           "20090729",
           "티아라",
           "힐링, 휴식, 스트레스, 댄스, 새벽, 밤, 여행, 운동, 위로",
           "['행복한', '경쾌한', '우울한']"
          ],
          [
           "내 친구의 남자친구",
           "DIA (다이아)",
           "힐링, 휴식, 기분전환, 댄스, 드라이브, 설렘, 신나는, 슬픔, 신나, 이별, 운동, 출근길, 퇴근길, 쓸쓸함, 카페, 봄노래, 여행, 벚꽃, 불금, 연휴, 내적댄스, 스트레스, 사랑",
           "['행복한', '경쾌한']"
          ],
          [
           "BAAAD Flower (Feat. Jaeny, Scid)",
           "BAAAD",
           "클럽, 스트레스, 기분전환",
           "['경쾌한', '긴장되는', '행복한']"
          ],
          [
           "Diamond",
           "f(x)",
           "기분전환, 운동, 여행, 드라이브, 산책, 노동요, 스트레스, 댄스, 샤워, 주말, 아침, 겨울, 설렘, 사랑, 힐링, 휴식, 헬스, 자신감, 잔잔한, 힙한, 새벽, 운동할때, 신나는, 힘들때, 흥폭발",
           "['행복한']"
          ],
          [
           "이토록 보통의",
           "이주아",
           "잔잔한, 휴식, 차분한, 힐링, 조용한",
           "['잔잔한']"
          ],
          [
           "그대라는 세상",
           "윤미래",
           "기분전환, 비오는날, 가을밤, 퇴근길, 추억, 드라이브",
           "['행복한']"
          ],
          [
           "우산 (Feat. 새송)",
           "김유월",
           "비오는날, 장마, 비, 잔잔한, 스트레스, 휴식, 기분전환, 잠, 새벽감성, 새벽, 흐린날",
           "['우울한']"
          ],
          [
           "내 운명 피하고 싶어",
           "규현 (KYUHYUN)",
           "솔로, 가을, 힘들때, 슬픔, 이별, 설렘, 사랑, 뮤지컬, 희망, 여행, 아름다운, 감동",
           "['경쾌한']"
          ],
          [
           "Perfect Day",
           "Hoku",
           "스트레스, 기분전환",
           "['긴장되는', '행복한']"
          ],
          [
           "Take It Out (Feat. 김호연 Of 달좋은밤)",
           "김현석",
           "드라이브, 가을, 산책, 잔잔한",
           "['행복한', '잔잔한']"
          ],
          [
           "사랑가 둘",
           "오지총, 함수경",
           "힐링, 휴식, 추억, 회상",
           "['행복한', '잔잔한']"
          ],
          [
           "cradle (Feat. Slchld)",
           "protonebula",
           "출근길, 카페, 새벽, 휴식, 저녁, 사랑, 겨울, 분위기, 작업, 겨울밤, 침대, 따뜻한, 포근한",
           "['잔잔한']"
          ],
          [
           "Cake Shop",
           "윌콕스",
           "기분전환, 힐링, 새벽, 내적댄스, 달콤, 따뜻, 달달, 크리스마스, 스트레스, 추억, 회상, 까페, 가을, 카페, 잔잔한, 사랑, 밤, 드라이브, 저녁, 야경, 잠들기전, 산책, 퇴근길, 트렌디한, 주말, 여행, 맥주, 슬픔, 이별, 설렘, 휴식, 신나는, 퇴근, 분위기, 위로, 청춘, 봄, 달콤한, 겨울밤, 힙한, 커피, 여유, 커피숍, 데이트, 달달한, 일할때, 여름, 겨울, 잔잔, 오후, 상쾌한, 아침, 비, 클럽",
           "['행복한']"
          ],
          [
           "Artistic Groove",
           "태민 (TAEMIN)",
           "휴식, 여유, 스트레스, 노동요, 섹시, 새벽, 드라이브, 운전, 여행, 기분전환",
           "['행복한']"
          ],
          [
           "Shower",
           "길건",
           "댄스",
           "['경쾌한']"
          ],
          [
           "우리의 새벽은 낮보다 뜨겁다",
           "세븐틴",
           "기분좋은, 신나는, 잔잔한, 여름, 시원한, 댄스, 운동, 산책, 청량감, 청량, 기분전환, 사랑, 여름밤, 휴식, 드라이브, 휴가, 한강, 퇴근길, 여행, 스트레스, 춤, 감성자극, 추억, 연말, 오후, 겨울, 밤, 봄, 설렘, 벚꽃, 힐링, 카페, 화이팅, 상큼, 가을, 감성적인, 새벽감성, 새벽",
           "['행복한']"
          ],
          [
           "비주얼드림 (POP! POP!) - Intel 콜라보레이션송",
           "소녀시대 (GIRLS` GENERATION)",
           "클럽, 기분전환, 응원, 댄스, 노동요, 추억, 스트레스, 스트레스해소, 신나는, 드라이브, 회상",
           "['경쾌한']"
          ],
          [
           "Grrr 총량의 법칙",
           "Stray Kids (스트레이 키즈)",
           "잔잔한, 기분전환, 신나는",
           "['행복한']"
          ],
          [
           "두려워질만큼 (2017)",
           "슈가볼",
           "자기전에, 밤, 새벽, 겨울, 카페, 까페, 커피, 따뜻한, 집중, 잔잔한, 휴식, 힐링, 공부, 추억, 회상",
           "['잔잔한']"
          ],
          [
           "Burn",
           "선미",
           "사랑, 밤, 설렘, 새벽, 여행, 기분전환, 산책, 스트레스, 운동, 이별, 회상",
           "['행복한']"
          ],
          [
           "얼마나 잔인한 인생인가",
           "박건형",
           "힐링, 휴식, 기분전환",
           "['행복한']"
          ],
          [
           "널 위해 (Feat. 전지혜)",
           "정희동",
           "화이팅",
           "['경쾌한']"
          ],
          [
           "이별이래",
           "송소희, 고영열",
           "이별, 기분전환",
           "['우울한', '행복한']"
          ],
          [
           "WAY OF STEEL",
           "피해의식",
           "흥겨운, 스트레스, 밴드, 페스티벌, 기분전환, 신나는",
           "['경쾌한']"
          ],
          [
           "NEVER",
           "국민의 아들",
           "여름, 휴양지, 주말, 월요병, 열대야, 경쾌한, 바다, 운전, 무더위, 기분전환, 출근길, 퇴근길, 신나는, 댄스, 드라이브, 시원한, 스트레스, 카페, 잔잔한, 여행, 화이팅, 운동, 새해, 청량한, 클럽, 내적댄스, 청량감, 여름밤, 추억, 노동요, 신남, 휴식, 몽환, 흥폭발, 헬스, 에너지, 런닝, 불금, 크리스마스, 파티, 힐링, 가을, 사랑, 강렬한, 한강, 소풍, 피크닉, 산책, 기분좋은, 잠, 연말, 분위기, 휴가, 섹시, 고속도로, 감성적인, 봄, 따뜻한, 운동할때, 슬픔, 공감, 그리움, 위로, 이별, 외로움, 조깅, 시원, 스포츠, 나들이, 설렘, 청량, 상큼, 흥겨운, 하루, 흥, 회상, 헬스장, 오후, 바캉스, 몽환적인, 상쾌한, 스트레스해소, 연휴, 우울할때, 아침, 센치, 겨울, 북카페, 사색, 달리기, 행복, 장마, 즐거운, 솔로, 들썩들썩",
           "['행복한']"
          ],
          [
           "마주쳐도",
           "데이무드",
           "산책, 커피, 오후, 슬픔, 이별",
           "['행복한', '우울한']"
          ],
          [
           "Night With You",
           "스케줄원 (Schedule 1), 임지안 (LIM ZIAN)",
           "집중, 휴식, 밤, 잔잔한, 독서, 감성적인",
           "['잔잔한']"
          ],
          [
           "기도",
           "신화",
           "겨울, 추억, 회상",
           "['잔잔한']"
          ],
          [
           "To Have So Many",
           "John Smith",
           "집중, 주말, 카페, 휴식, 힐링, 산책, 여행, 공부",
           "['잔잔한']"
          ],
          [
           "휘파람",
           "맵식스 (MAP6)",
           "헬스, 헬스장, 운동, 불금",
           "['경쾌한']"
          ],
          [
           "바람부는 날",
           "하비누아주",
           "비오는날, 힐링, 휴식, 고독, 잔잔, 외로움, 후회, 연인, 추억, 그리움, 사랑, 이별, 밤, 새벽, 겨울, 카페, 잔잔한, 가을, 기분전환, 슬픔, 여름밤, 여름, 몽환, 비, 새벽감성, 잠들기전, 열대야, 집, 작업, 회상, 장마, 센치, 편안한, 달달, 부드러운, 서정적인, 봄, 불면증, 자장가, 몽환적, 분위기, 사색, 우울할때, 위로, 여행, 자기전, 드라이브, 산책, 가을감성, 즐거운, 일상",
           "['무서운', '잔잔한']"
          ],
          [
           "X",
           "스무살",
           "썸, 밤, 카페, 새벽, 새벽감성, 스트레스, 숙면, 힐링, 기분전환, 침대, 자장가, 불면증, 회상, 추억, 사랑, 이별, 감성적인, 까페, 가을, 잔잔한, 드라이브, 일할때, 자기전에, 휴식, 별, 몽환, 겨울, 따뜻한, 눈물, 그리움, 슬픔, 봄노래, 명상, 나른한, 불금, 봄, 조용한, 여름, 포근한, 밴드, 여행, 신나는, 분위기, 솔로, 집, 커피, 비오는날, 한강, 산책, 잠, 저녁, 겨울밤, 지친, 편안한, 꿀잠, 수면, 주말, 여름밤, 위로, 잠들기전, 야경, 자기전, 감수성, 센치, 따뜻, 여유, 오후, 일상, 퇴근길, 비, 우울, 노동요",
           "['잔잔한']"
          ],
          [
           "조아? 조아!",
           "DIA (다이아)",
           "집중, 휴식, 청량, 여행, 여름, 댄스, 드라이브, 청량한, 흥폭발, 신나는, 상큼, 출근길, 기분전환, 퇴근길, 시원, 하늘, 바다, 달달, 달콤, 설레임, 심쿵, 사랑, 썸, 기분좋은",
           "['행복한']"
          ],
          [
           "Never Let You Go (Jack Wins Remix) (Feat. John Newman)",
           "Kygo",
           "여름, 밤, 드라이브, 기분전환, 내적댄스",
           "['행복한']"
          ],
          [
           "All About",
           "멜로디데이 (MelodyDay)",
           "슬픈, 출근길, 기분전환, 사랑, 기분업, 퇴근길, 신나는, 휴식, 힐링, 솔로, 스트레스, 댄스, 잔잔한, 추억, 봄, 달달, 설렘, 여름, 청량, 회상, 로맨틱, 행복, 드라이브, 설레임, 고백, 월요일, 일상, 운전, 기분좋은, 비오는날, 밤, 새벽, 가을, 까페",
           "['행복한']"
          ],
          [
           "Playinwitme (Remix) [feat. Jay Park]",
           "KYLE",
           "행복, 가을, 휴식, 드라이브, 힐링, 기분전환, 외출, 신나는, 여름, 클럽, 신나, 에너지, 파티, 휴가, 힙한, 달달한, 연애, 설렘, 사랑, 따듯한, 여행, 피크닉, 카페, 라운지, 상큼한, 봄, 설레임, 스트레스, 따뜻함, 노동요, 청량, 강렬한, 헬스장, 운동, 조깅, 댄스, 새해, 술, 분위기, 주말, 커피, 산책",
           "['행복한']"
          ],
          [
           "그렇게 웃어줘",
           "권순관",
           "이별, 밤, 새벽, 햇살, 감성자극, 봄, 오후, 차분한, 몽환, 봄날, 독서, 가을, 까페, 비오는날, 휴식, 휴양지, 장마, 카페, 행복, 여행, 사랑, 아침, 힐링, 잔잔한, 설렘, 겨울밤, 추억, 위로, 기분전환, 분위기, 겨울, 흐린날, 쓸쓸한, 퇴근길, 봄비, 드라이브, 눈물, 슬픔, 여유, 자장가, 비, 주말, 집, 편안한, 우울, 산책, 벚꽃, 신나는, 눈오는날, 크리스마스, 여름, 출근길, 스트레스, 회상, 추억회상, 밴드, 여름밤, 쓸쓸, 커피, 감성적인, 센치, 그리움, 일상, 로맨틱, 심쿵, 썸, 달콤한, 여유로운, 포근한",
           "['우울한']"
          ],
          [
           "Midnight Sun",
           "세븐어클락",
           "연말, 춤, 댄스, 기분전환, 신나는",
           "['행복한']"
          ],
          [
           "아닌걸 알면서도",
           "타임브릿지",
           "스트레스, 가을, 가을감성, 위로, 휴식, 슬픔, 밤, 이별, 새벽, 따뜻함, 기분전환, 사랑, 힐링, 잔잔한, 설렘, 산책, 드라이브, 카페, 추억, 회상, 비, 주말, 우울",
           "['우울한']"
          ],
          [
           "Rise And Shine",
           "Deorro",
           "클럽, 스트레스, 드라이브, 기분전환, 여름, 운동, 여행, 신나는",
           "['행복한']"
          ],
          [
           "Bus",
           "전지윤 (JENYER)",
           "댄스",
           "['경쾌한']"
          ],
          [
           "Jo",
           "Goldfrapp",
           "잔잔한, 설렘, 사랑, 차분한, 겨울, 나른한, 감성적인, 편안한, 가을",
           "['행복한', '잔잔한']"
          ],
          [
           "후회하고 있는거야 (Remake)",
           "윤화재인",
           "저녁, 설레임, 기억, 추억, 회상",
           "['잔잔한']"
          ],
          [
           "신데렐라와 왕자의 사랑노래",
           "극단 원공",
           "뮤지컬",
           "['경쾌한']"
          ],
          [
           "사랑아",
           "왁스",
           "슬픔, 추억, 이별, 회상, 솔로, 밤, 사랑, 새벽, 비오는날, 눈물, 기억, 우울, 헤어짐",
           "['우울한']"
          ],
          [
           "작은별 Remix (Heenain Ver.)",
           "팻두, heenain 히나인",
           "설렘, 사랑, 추억",
           "['행복한']"
          ],
          [
           "흐렸다 갬",
           "쇼기",
           "설렘, 사랑, 밤, 잔잔한, 공부",
           "['행복한', '잔잔한']"
          ],
          [
           "Freedom (Edit) (Feat. Jack McManus)",
           "Afrojack, D-wayne",
           "운동, 기분전환, 스트레스, 클럽, 드라이브, 몽환, 흥, 경쾌한, 내적댄스, 신나는",
           "['긴장되는']"
          ],
          [
           "지금 전화해요 (With 이향유)",
           "토리노",
           "밤, 새벽, 그리움, 슬픔, 이별",
           "['우울한']"
          ],
          [
           "블라디보스톡의 봄노래",
           "박용전",
           "봄",
           "['행복한']"
          ],
          [
           "세월이 흘러",
           "차지연",
           "휴식, 힐링, 뮤지컬, 까페, 잔잔한, 기분전환, 새벽, 가을, 드라이브, 스트레스, 신나는, 사랑",
           "['경쾌한']"
          ],
          [
           "가을 엔딩",
           "리미트",
           "댄스, 노동요, 신나는",
           "['경쾌한', '긴장되는', '행복한']"
          ],
          [
           "8:45 Heaven",
           "드렁큰 타이거",
           "눈물, 추억, 새벽, 밤, 회상, 힐링, 휴식, 슬픔, 이별, 기분전환, 공감, 위로, 혼술, 여름, 가을, 산책, 여행, 저녁, 카페, 편안한, 비오는날, 장마, 우울, 센치, 드라이브, 흥, 겨울, 스트레스, 휴가, 댄스, 불금, 퇴근길, 설렘, 사랑, 헤어짐, 퇴폐, 신나는, 조용한, 비, 레트로, 우울할때, 잔잔한, 새벽감성, 감수성, 즐거운, 추억회상, 여름밤, 봄, 노동요, 작업",
           "['행복한']"
          ],
          [
           "다이빙",
           "비버 (Beaver)",
           "잔잔한, 밤, 새벽, 분위기, 몽환, 휴식, 힐링, 까페",
           "['잔잔한']"
          ],
          [
           "Must Say Good-Bye",
           "김현철",
           "우울, 새벽, 외로움, 슬픔, 이별, 카페, 잔잔한, 오후, 차분한, 드라이브, 잠들기전, 기분전환, 편안한, 추억회상, 까페, 비오는날, 비, 설렘, 사랑, 추억, 회상, 로맨틱, 노동요, 가을, 휴식, 힐링, 그리움, 감동, 댄스, 운동",
           "['행복한']"
          ],
          [
           "Give Me Your Love (Feat. John Newman & Nile Rodgers)",
           "Sigala",
           "기분전환, 까페, 스트레스, 파티, 댄스, 클럽, 금요일, 집중, 가을감성, 출근길, 아침, 월요병, 추억, 운동, 신나는, 펍, 불금, 잔잔한, 여행, 힐링, 휴식, 드라이브, 운동할때, 여름, 페스티벌, 주말, 흥폭발",
           "['행복한']"
          ],
          [
           "I Did It For Love (Feat. Sean Garrett)",
           "보아 (BoA)",
           "댄스, 설렘, 사랑, 솔로",
           "['행복한']"
          ],
          [
           "Where Is My Love",
           "스티 (STi)",
           "휴식, 힐링, 까페, 슬픔, 이별, 기분전환",
           "['잔잔한', '행복한']"
          ],
          [
           "Gasoline",
           "Troye Sivan",
           "잠, 잔잔한, 새벽, 비오는날, 가을비, 감성자극, 새벽감성, 센치, 혼자있을때, 힐링, 휴식, 기분전환, 사랑, 이별, 드라이브, 밤, 겨울, 분위기, 여행, 카페, 봄, 조용한, 감성적인, 펍, 몽환, 우울, 차분한, 그리움, 잠들기전, 자장가, 혼술, 퇴근길, 클럽, 추억, 회상, 청량, 위로, 스트레스, 여름, 열대야, 까페, 산책, 행복, 신나는, 화이팅, 연말, 잠잘때, 감미로운, 크리스마스, 저녁, 오후, 독서",
           "['우울한']"
          ],
          [
           "Sweet Words",
           "HYDN",
           "밴드, 잔잔한, 밤, 새벽, 분위기, 겨울밤",
           "['잔잔한']"
          ],
          [
           "블루진",
           "디어클라우드",
           "여름, 스트레스, 기분전환, 페스티벌, 카페, 주말, 잔잔한, 위로, 휴식, 따뜻한, 하루, 새벽, 일상, 퇴근길, 힐링, 드라이브, 밴드, 밤, 몽환, 잠들기전, 바다, 퇴근, 비오는날, 추억, 열대야, 집, 작업, 사랑, 이별, 한강, 친구, 응원, 우울, 슬픔, 화이팅, 아침, 시작, 출근, 월요병, 신나는, 편안한, 겨울, 봄, 가을, 행복, 여행, 산책, 잔잔, 분위기, 커피, 유니크, 감성적인, 토닥토닥, 시원한, 해변, 휴가, 청량한, 가을밤, 가을비, 크리스마스",
           "['행복한']"
          ],
          [
           "Plane",
           "Jason Mraz",
           "고독, 슬픔, 그리움, 쓸쓸, 이별, 새벽, 추억, 밤, 회상, 힐링, 휴식, 까페, 잔잔한, 눈물, 우울, 쓸쓸함, 외로움, 여행",
           "['우울한']"
          ],
          [
           "열애중",
           "벤",
           "힐링, 휴식, 잔잔한, 댄스, 새벽, 슬픔, 설렘, 사랑, 아픔, 이별, 햇살, 봄, 오후, 추억, 그리움, 쓸쓸한, 드라이브, 기분전환, 주말, 외로움, 가을감성, 낙엽, 겨울, 연말, 가을, 여행, 출근길, 퇴근길, 비오는날, 저녁, 밤, 회상, 카페, 새벽감성, 쓸쓸함, 스트레스, 분위기, 노동요, 커피, 산책, 따뜻한, 따듯한, 겨울감성, 크리스마스, 편안한, 한강, 데이트, 여름, 눈물, 연인, 리드미컬, 비, 집, 맥주, 연애, 센치한, 여유, 커피숍, 선선한, 하루, 퇴근, 우울, 후회, 헤어짐, 솔로, 신나는, 센치, 위로, 아침, 쓸쓸, 추억회상, 장마, 여름밤, 눈오는날, 술, 썸, 나른한, 조용한, 감성적인, 흐린날, 감수성, 애절한, 까페, 잠들기전, 봄노래, 감미로운, 꿀잠, 마음, 겨울밤, 커플, 페스티벌, 월요병, 혼술, 출근, 늦은밤, 찬바람, 집중, 불금, 슬픈, 가을밤, 공부, 달달, 짝사랑, 고백, 공감, 즐거운, 자기전에, 따스한, 포근한, 스트레스해소, 편안함, 눈, 시원한, 기억, 독서, 설레임, 아련한, 우울할때, 힙한, 일상, 기분좋은, 새해, 월요일, 친구, 치유, 봄비, 금요일, 운동, 공부할때, 감성자극, 우울한, 북카페, 사색, 잠",
           "['우울한']"
          ],
          [
           "Lovin Ice Cream",
           "애즈원, 이지라이프",
           "휴식, 힐링, 설렘, 사랑, 가을, 비오는날, 연인, 슬픔, 이별, 기분전환, 시원한, 편안한, 신나는, 추억, 회상",
           "['행복한']"
          ],
          [
           "벚꽃이 피면",
           "유형균",
           "카페, 벚꽃, 기분전환",
           "['행복한']"
          ],
          [
           "Don`t act",
           "장우영",
           "겨울, 잔잔한, 추억, 드라이브, 위로, 기분전환, 사랑",
           "['행복한']"
          ],
          [
           "난 좋아",
           "god",
           "드라이브, 설렘, 사랑, 추억, 회상, 힐링, 휴식, 댄스, 스트레스, 여행, 산책, 달달, 연애, 기분전환, 가을, 봄, 까페, 희망, 감동, 신나는, 밤, 새벽, 상쾌한, 비오는날, 슬픈",
           "['행복한']"
          ],
          [
           "카푸치노 (Cappuccino)",
           "BGM4",
           "힐링, 추억, 휴식, 회상",
           "['행복한', '잔잔한']"
          ],
          [
           "Feel So Good",
           "크나큰",
           "여름",
           "['경쾌한']"
          ],
          [
           "Karma (Feat. 상민)",
           "용석",
           "신나는, 기분전환, 가을, 드라이브, 봄, 댄스",
           "['행복한']"
          ],
          [
           "Shame (Live At The Mac)",
           "Ciaran Lavery",
           "센치",
           "['우울한']"
          ],
          [
           "Triumph (Explicit Ver.) (Feat. Cappadonna)",
           "Wu-Tang Clan",
           "클럽, 분위기, 펍, 신나는",
           "['경쾌한']"
          ],
          [
           "Live",
           "카라",
           "댄스, 노동요, 밤, 가을, 새벽, 위로, 힐링, 기분전환, 까페, 추억, 회상, 슬픔, 이별, 휴식, 스트레스, 신나는, 데이트, 봄, 설렘, 사랑",
           "['경쾌한', '행복한']"
          ],
          [
           "Live",
           "카라",
           "댄스, 노동요, 밤, 가을, 새벽, 위로, 힐링, 기분전환, 까페, 추억, 회상, 슬픔, 이별, 휴식, 스트레스, 신나는, 데이트, 봄, 설렘, 사랑",
           "['경쾌한', '행복한']"
          ],
          [
           "Live",
           "카라",
           "댄스, 노동요, 밤, 가을, 새벽, 위로, 힐링, 기분전환, 까페, 추억, 회상, 슬픔, 이별, 휴식, 스트레스, 신나는, 데이트, 봄, 설렘, 사랑",
           "['경쾌한', '행복한']"
          ],
          [
           "Live",
           "카라",
           "댄스, 노동요, 밤, 가을, 새벽, 위로, 힐링, 기분전환, 까페, 추억, 회상, 슬픔, 이별, 휴식, 스트레스, 신나는, 데이트, 봄, 설렘, 사랑",
           "['경쾌한', '행복한']"
          ],
          [
           "Live",
           "카라",
           "댄스, 노동요, 밤, 가을, 새벽, 위로, 힐링, 기분전환, 까페, 추억, 회상, 슬픔, 이별, 휴식, 스트레스, 신나는, 데이트, 봄, 설렘, 사랑",
           "['경쾌한', '행복한']"
          ],
          [
           "Live",
           "카라",
           "댄스, 노동요, 밤, 가을, 새벽, 위로, 힐링, 기분전환, 까페, 추억, 회상, 슬픔, 이별, 휴식, 스트레스, 신나는, 데이트, 봄, 설렘, 사랑",
           "['경쾌한', '행복한']"
          ],
          [
           "Live",
           "카라",
           "댄스, 노동요, 밤, 가을, 새벽, 위로, 힐링, 기분전환, 까페, 추억, 회상, 슬픔, 이별, 휴식, 스트레스, 신나는, 데이트, 봄, 설렘, 사랑",
           "['경쾌한', '행복한']"
          ],
          [
           "Live",
           "카라",
           "댄스, 노동요, 밤, 가을, 새벽, 위로, 힐링, 기분전환, 까페, 추억, 회상, 슬픔, 이별, 휴식, 스트레스, 신나는, 데이트, 봄, 설렘, 사랑",
           "['경쾌한', '행복한']"
          ],
          [
           "그리움이 닿는 곳에",
           "인피니트",
           "댄스, 여행, 까페, 산책, 힐링, 휴식, 추억, 회상, 잔잔한, 봄비, 비, 슬픔, 이별, 설렘, 사랑, 기분전환, 가을, 밤, 새벽, 비오는날, 겨울, 운동, 신나는, 짝사랑, 출근길, 감성자극, 카페, 드라이브, 새벽감성, 우울, 위로, 자기전에, 분위기, 마음, 추억회상, 그리움, 아침, 달달, 자기전, 여유로운, 불금, 힘내, 노동요, 월요일, 스트레스, 시작, 일상, 지친, 겨울밤, 여름, 가을감성, 아픔",
           "['행복한']"
          ],
          [
           "Mojito (Feat.하늘)",
           "하우스룰즈 (House Rulez)",
           "스트레스, 카페, 주말, 휴식, 기분전환, 햇살, 힐링, 여행, 드라이브, 산책, 설렘, 사랑, 밤, 새벽, 까페, 운동",
           "['행복한']"
          ],
          [
           "Maybe Baby (New Year`s Day)",
           "Sugarland",
           "힐링, 휴식, 기분전환",
           "['행복한']"
          ],
          [
           "The One",
           "SS501",
           "추억, 기분전환, 회상, 운동, 댄스",
           "['행복한']"
          ],
          [
           "The Moment",
           "Kenny G",
           "추억, 회상, 주말, 연인, 데이트, 금요일",
           "['행복한']"
          ],
          [
           "Quicksand",
           "Caro Emerald",
           "추억, 회상, 여름, 아름다운, 힐링, 휴식, 가을, 밤, 카페, 분위기, 드라이브, 여행, 비오는날, 까페, 댄스",
           "['잔잔한']"
          ],
          [
           "One More Time",
           "레인보우",
           "여행, 기분전환, 산책, 달달한, 겨울, 댄스, 설렘, 사랑",
           "['잔잔한']"
          ],
          [
           "HURT (傷害)",
           "EXO",
           "추억, 스트레스, 회상, 기분전환",
           "['긴장되는']"
          ],
          [
           "소녀시대 (Girls` Generation)",
           "소녀시대 (GIRLS` GENERATION)",
           "댄스, 우울할때, 추억회상, 운동할때, 추억, 기분전환, 회상, 새벽, 밤, 클럽, 운동, 신나는, 드라이브, 노동요, 여행, 스트레스, 잔잔한, 여름, 여름밤, 시원한, 휴가, 힐링, 휴식, 크리스마스, 상큼, 가을, 설렘, 사랑, 공부할때, 춤, 내적댄스, 산책, 시원, 바다, 헬스, 레트로, 스트레스해소, 비오는날, 카페, 오후, 잠, 신나, 이별, 흥폭발, 상쾌한, 외출, 달달, 우울, 위로, 친구, 운전, 자신감, 흥, 청량한",
           "['행복한']"
          ],
          [
           "모차르트! 모차르트!",
           "신영숙, 김승대, 앙상블",
           "힐링, 휴식, 기분전환",
           "['행복한']"
          ],
          [
           "느낌",
           "S.E.S.",
           "추억, 기분전환, 회상, 댄스",
           "['행복한']"
          ],
          [
           "이 죽일놈의 사랑 (이수영 7집)",
           "이수영",
           "비오는날, 슬픔, 이별, 추억, 회상, 밤, 새벽, 가을, 댄스, 드라이브, 잔잔한, 사랑, 설렘, 시작, 퇴근, 저녁, 분위기, 스트레스, 울고싶을때, 리드미컬, 기억, 힐링, 기분전환, 겨울, 위로, 늦은밤, 혼자있을때, 휴식",
           "['우울한']"
          ],
          [
           "5월의 햇살",
           "썸머드레스",
           "비오는날, 까페, 힐링, 휴식, 잔잔한",
           "['잔잔한']"
          ],
          [
           "후회",
           "터보",
           "드라이브, 여행, 기분전환, 운전, 신나는, 댄스, 추억, 클럽, 슬픔, 눈물, 새벽, 우울, 위로, 쓸쓸, 이별",
           "['경쾌한']"
          ],
          [
           "Open Season",
           "High Highs",
           "산책, 겨울, 잔잔한",
           "['잔잔한']"
          ],
          [
           "우연히 마주친 달",
           "강태우",
           "이별, 밴드",
           "['우울한', '경쾌한']"
          ],
          [
           "그 빛을 따라서",
           "리사, 이창민",
           "뮤지컬, 사랑",
           "['경쾌한', '행복한']"
          ],
          [
           "고고베베 (gogobebe)",
           "마마무 (Mamamoo)",
           "헬스장, 운동, 댄스, 춤, 드라이브, 기분전환, 리드미컬, 스트레스, 신나는, 내적댄스, 휴식, 위로, 힐링, 헬스, 스포츠, 런닝, 조깅, 요가, 흥겨운, 여행, 퇴근길, 운동할때, 시원한, 추억, 여름, 페스티벌, 분위기, 사랑, 상큼, 운전, 에너지, 퇴근, 월요일, 월요병, 겨울, 일할때, 출근, 흥, 흥폭발, 불금, 크리스마스, 파티, 설렘, 겨울밤, 시작, 새해, 밤, 연말, 연휴, 고속도로, 스트레스해소, 자기전, 가을, 청량, 바캉스, 힙한, 잔잔한, 봄, 봄노래, 슬픈, 따뜻한, 상큼한, 클럽, 산책, 노동요, 무더위, 바다, 한강, 달리기, 경쾌한, 오후, 자신감, 카페, 아침, 집중, 비오는날, 비, 센치, 시원, 친구, 기분좋은, 즐거운, 휴양지, 신남, 샤워, 공부",
           "['행복한']"
          ],
          [
           "사랑을 말해요",
           "브라운 아이즈",
           "달달, 여름, 비, 카페, 기분전환, 사랑, 이별, 스트레스, 슬픔, 추억, 회상, 드라이브, 설렘, 겨울, 여름밤, 힐링, 분위기, 로맨틱, 휴식, 잔잔한, 밤, 새벽, 비오는날, 장마, 센치, 감성적인, 편안한",
           "['우울한', '행복한']"
          ],
          [
           "Love",
           "Marsha Ambrosius",
           "꽃, 사랑",
           "['행복한']"
          ],
          [
           "하늘아 제발",
           "먼데이 키즈 (Monday Kiz)",
           "추억, 가을, 회상, 설렘, 사랑, 힐링, 휴식, 까페, 기분전환, 비오는날, 슬픔, 이별, 드라이브, 신나는",
           "['행복한', '우울한']"
          ],
          [
           "Christmas With You",
           "SE7EN",
           "연말, 크리스마스, 잔잔한, 추억, 회상, 비오는날, 겨울, 겨울감성, 눈, 첫눈, 연애, 고백, 썸, 캐롤, 겨울밤, 그리움, 센치한, 휴식, 힐링, 댄스, 기분전환",
           "['잔잔한']"
          ],
          [
           "Don`t Let Me Forget (Feat. Hunter Hayes)",
           "Catherine McGrath",
           "드라이브, 기분전환, 잔잔한, 새벽, 힐링, 카페, 여유, 나른한, 편안한, 겨울, 달콤, 휴식, 달달, 상큼, 저녁, 늦은밤, 잠들기전, 불면증, 감미로운, 설렘",
           "['행복한']"
          ],
          [
           "Appreciate Your Hands",
           "Amy Kuney",
           "비오는날, 까페",
           "['우울한', '잔잔한']"
          ],
          [
           "Iridescent",
           "LINKIN PARK",
           "휴식, 힐링, 기분전환",
           "['행복한']"
          ],
          [
           "겨우...",
           "최문석",
           "비, 위로, 눈물, 잔잔한, 까페, 설렘, 사랑, 회상, 추억, 슬픔, 이별, 밤, 새벽",
           "['잔잔한']"
          ],
          [
           "안녕의 방식 (Ways to Say Goodbye)",
           "규현 (KYUHYUN)",
           "공감, 이별, 헤어짐, 솔로, 가을, 드라이브, 봄, 슬픔, 혼술, 그리움, 기분전환, 밤, 설렘, 사랑, 겨울, 새벽, 쓸쓸, 잔잔한, 카페, 내적댄스, 추억, 스트레스, 회상, 힐링, 휴식, 낙엽, 스트레스해소, 산책, 여행, 비오는날, 애절한, 우울, 짝사랑, 행복, 눈물, 분위기, 센치, 가을밤, 우울할때, 여유, 외로움, 맑은, 달달, 비, 가을감성, 감성적인, 차분한",
           "['우울한']"
          ],
          [
           "오늘밤",
           "5who",
           "까페, 봄, 설레임, 카페, 여름밤, 청춘, 고백, 설렘, 사랑, 달달",
           "['잔잔한']"
          ],
          [
           "다시 사랑한다 말할까",
           "김동률",
           "슬픔, 추억, 이별, 회상, 사랑, 가을, 잔잔한, 기분전환, 스트레스, 설렘, 짝사랑, 아픔, 힐링, 휴식, 우울, 분위기, 새벽, 눈물, 감동, 비오는날, 오후, 카페, 우울할때, 댄스, 밤, 산책, 여행, 비, 겨울, 까페, 연인, 드라이브, 연애, 고백, 기억, 그리움, 감성적인",
           "['행복한']"
          ],
          [
           "바람인가",
           "신촌 블루스",
           "가을감성, 가을, 가을밤, 추억",
           "['잔잔한']"
          ],
          [
           "Don`t Cry",
           "박봄",
           "추억, 기분전환, 회상, 잔잔한, 댄스, 드라이브, 스트레스, 사랑, 비오는날, 비, 우울, 힐링, 이별, 겨울, 슬픈, 휴식, 설렘, 가을, 밤, 새벽, 슬픔, 여행, 신나는, 운동할때, 여름, 운동, 그리움, 춤, 즐거운, 카페, 힘들때, 내적댄스, 커플, 썸, 연인, 봄, 따뜻한, 공감, 달달, 산책, 눈물, 헤어짐, 첫눈, 눈, 크리스마스, 트렌디한, 나들이, 솔로, 까페, 기분좋은, 벚꽃, 연애",
           "['행복한']"
          ],
          [
           "말하세요",
           "우쿨렐레 피크닉",
           "여름, 여행, 산책, 잔잔한, 밤, 새벽, 힐링, 휴식",
           "['잔잔한']"
          ],
          [
           "화려한 가면",
           "양소민, 박인배",
           "힐링, 휴식, 기분전환",
           "['행복한']"
          ],
          [
           "Stay (Feat. Maty Noyes)",
           "Kygo",
           "드라이브, 스트레스, 여름, 주말, 기분전환, 신나는, 맥주, 여름밤, 여행, 라운지, 새벽, 출근길, 아침, 청량, 클럽, 상큼, 행복, 가을, 운동, 휴양지, 퇴근, 출근, 운동할때, 카페, 달리기, 불금, 청량감, 샤워, 휴식, 파티, 여름휴가, 시원한, 집중, 사색, 작업, 공부, 봄, 상쾌한, 사랑, 비, 댄스, 기분업, 힐링, 페스티벌, 내적댄스, 흥폭발, 스트레스해소, 유니크, 한강, 신남, 설렘, 노동요, 청량한, 고속도로, 바다, 시원, 비오는날, 가을비, 장마, 봄비, 월요병, 감성적인, 아름다운, 서정적인, 열대야, 해변, 바캉스, 휴가, 몽환",
           "['행복한']"
          ],
          [
           "HEY, SUMMER",
           "JBJ95",
           "여름, 드라이브, 밴드, 청량, 여행, 주말, 기분전환, 신나는, 노동요",
           "['행복한']"
          ],
          [
           "Outro : Love is Not Over",
           "방탄소년단",
           "댄스, 슬픔, 추억, 이별, 회상, 신나는, 잔잔한, 슬픈, 쓸쓸한, 스트레스, 설렘, 사랑, 봄, 휴식, 위로, 비오는날, 밤, 새벽, 울고싶을때, 눈물, 우울, 청춘, 외로움, 센치, 조용한, 가을, 낙엽, 봄날, 기분전환, 쓸쓸, 겨울감성, 힐링, 까페, 새벽감성, 몽환적인",
           "['우울한']"
          ],
          [
           "Self",
           "Jon Wiilde",
           "여름, 저녁, 열대야, 드라이브, 시원한",
           "['경쾌한']"
          ],
          [
           "Fireworks",
           "First Aid Kit",
           "잔잔한, 새벽, 여름, 시원한, 새벽감성, 분위기, 밤, 서정적인, 휴식, 여행산책, 스트레스, 드라이브, 기분전환, 쓸쓸, 겨울, 몽환, 혼술",
           "['행복한']"
          ],
          [
           "네 생각으로 멈추지 않는 밤 (Feat. 109)",
           "소각소각",
           "이별, 위로, 눈물, 휴식, 기분전환, 겨울, 차분한, 따뜻한, 잔잔한, 가을, 새벽감성, 새벽, 오후, 달달한, 연애, 설렘, 사랑, 썸, 신나는, 여름, 밤, 여름밤, 시원한, 산책, 봄, 카페, 봄비, 드라이브, 봄날, 힐링, 집중, 공부, 슬픔, 추억, 회상, 겨울밤, 한강, 가을밤, 토닥토닥, 짝사랑, 달달, 고백, 하루, 조용한, 분위기, 감성자극",
           "['우울한']"
          ],
          [
           "혼자일 때 (Feat. 장수현 On Violin)",
           "로맨틱모먼트",
           "겨울, 여행, 산책",
           "['행복한']"
          ],
          [
           "푸른 학은 구름 속에 우는데",
           "박은태",
           "뮤지컬, 힐링, 휴식, 기분전환, 추억, 회상, 우울, 위로, 슬픔, 공감, 감동, 밤, 잔잔한, 새벽, 외로움, 사랑",
           "['경쾌한', '행복한']"
          ],
          [
           "행복한 일은 매일 있어 (With 피터한)",
           "타린",
           "새벽감성, 위로, 힐링, 잔잔한, 봄, 카페, 포근한, 기분전환, 데이트, 사랑, 휴식, 산뜻한, 공감, 연인, 봄바람, 봄날, 따뜻한, 설렘, 슬픔, 출근길, 청춘, 응원, 시작, 토닥토닥, 화이팅, 힘내, 기분좋은, 달달한, 상큼, 드라이브, 여행, 피크닉",
           "['행복한']"
          ],
          [
           "피맛골",
           "Various Artists",
           "뮤지컬",
           "['경쾌한']"
          ],
          [
           "Wake Up (Feat. DEAN)",
           "Crush",
           "카페, 주말, 겨울밤, 드라이브, 기분전환, 크리스마스, 캐럴, 휴식, 가을, 사랑, 이별, 운동, 여행, 리드미컬, 겨울감성, 오후, 찬바람, 분위기, 트렌디한, 신나는, 새벽, 모닝콜, 아침, 월요일, 상쾌, 힐링, 까페, 겨울, 저녁, 출근길, 밤, 센치, 감미로운, 연인, 집중, 월요병, 추억, 스트레스, 새해, 솔로, 휴일, 산뜻한, 힙한, 하루, 커피, 잔잔한, 야경, 몽환, 여름, 연말, 퇴근길, 헬스, 러닝, 산책",
           "['잔잔한']"
          ],
          [
           "사랑 내 사랑",
           "문혜원, 정인호",
           "감동, 뮤지컬",
           "['행복한', '경쾌한']"
          ],
          [
           "No Way (With Untouchable, 서지영)",
           "프라이머리 스코어",
           "사랑, 밤, 설렘, 새벽, 잔잔한, 기분전환, 봄, 슬픔, 이별, 휴식, 힐링, 겨울, 드라이브, 운동, 헬스, 헬스장, 신나는",
           "['행복한']"
          ],
          [
           "넌 아름다워",
           "이상은",
           "토닥토닥, 위로, 기분전환, 힐링, 드라이브, 휴식, 분위기, 편안한, 밴드, 스트레스, 신나는, 짝사랑, 달달, 고백, 사랑, 썸, 가을",
           "['행복한']"
          ],
          [
           "2 minutes of hell (Feat. Paul Blanco)",
           "창모 (CHANGMO)",
           "운동, 드라이브, 스트레스, 월요병, 불금, 기분전환, 휴식, 클럽, 신나는, 헬스, 비오는날, 추억, 회상",
           "['행복한']"
          ],
          [
           "Up N Down",
           "스피카",
           "기분전환, 운동",
           "['행복한', '경쾌한']"
          ],
          [
           "소우주 (Mikrokosmos)",
           "방탄소년단",
           "댄스, 드라이브, 기분전환, 신나는, 휴식, 사랑, 행복, 운동, 위로, 운동할때, 잔잔한, 집중, 청량, 여행, 클럽, 기분좋은, 자신감, 새해, 카페, 주말, 공감, 힐링, 청춘, 비, 우울, 침대, 겨울, 겨울밤, 시작, 밤, 꿀잠, 새벽, 지친하루, 잠들기전, 연말, 응원, 힘들때, 겨울감성, 아침, 산책, 추억, 춤, 여유로운, 봄, 출근길, 스트레스, 봄노래, 여름, 오후, 분위기, 퇴근, 나른한, 설렘, 편안한, 이별, 솔로, 가을, 잔잔, 한강, 퇴근길, 힘내, 봄비, 커플, 연인, 연애, 고백, 몽환, 공부, 여름밤, 기분업, 지친, 커피, 일상, 새벽감성, 별, 열대야, 자기전, 노동요, 흥, 내적댄스, 우울할때, 썸, 시원한, 벚꽃, 달달한, 낭만, 도시, 달달, 맥주, 차분한, 흥폭발, 몽환적인, 집, 따뜻함, 청량한, 눈물, 감동, 슬픔",
           "['행복한']"
          ],
          [
           "My Christmas (그렇게 할래)",
           "정단영, 이주광",
           "뮤지컬",
           "['경쾌한']"
          ],
          [
           "겨울을 걷는다 (스튜디오 라이브 버전)",
           "윤딴딴",
           "휴식, 밤, 카페, 추억, 힐링, 기분전환, 까페, 잔잔한, 새벽, 우울, 힘들때, 위로, 겨울, 커피, 사랑, 눈오는날, 크리스마스, 설렘, 쓸쓸, 이별",
           "['행복한']"
          ],
          [
           "Lucy",
           "Ten Tonnes",
           "기분전환, 여름, 드라이브, 휴가, 피크닉, 가을, 카페, 오후, 청량한, 설레는, 유니크, 한강, 산책, 봄, 주말",
           "['행복한']"
          ],
          [
           "Trust Me (Feat. Ty Dolla $ign)",
           "Bhad Bhabie",
           "클럽, 기분전환, 스트레스, 밤, 새벽, 분위기",
           "['긴장되는']"
          ],
          [
           "Blue Hawaii (Feat. Crush, PENOMECO) (Prod. by 0channel)",
           "펀치넬로 (punchnello)",
           "기분전환, 휴식, 가을, 추억, 드라이브, 여행, 출근길, 퇴근길, 집중, 아침, 스트레스, 신나는, 운동, 펍, 힙한, 잔잔한, 밤, 분위기, 여름, 저녁, 봄, 사랑, 벚꽃, 설렘, 데이트, 센치, 힐링, 새벽, 카페, 잔잔, 까페, 몽환, 나른한, 헬스, 클럽, 시원한, 시원, 솔로, 흥겨운, 스포츠, 노동요, 일할때, 여름밤, 한강, 산책, 감수성, 흥",
           "['행복한']"
          ],
          [
           "Remember",
           "화란 (Hwaran)",
           "기분전환, 까페",
           "['행복한', '잔잔한']"
          ],
          [
           "Joy To The World",
           "Michael Bolton",
           "겨울, 까페",
           "['잔잔한']"
          ],
          [
           "Young & Free (Inst.)",
           "시우민 (XIUMIN), 마크 (MARK)",
           "휴식, 운동, 드라이브, 공부, 기분전환",
           "['잔잔한', '행복한']"
          ],
          [
           "In The Night",
           "The Weeknd",
           "운동, 분위기, 드라이브, 신나는, 밤, 카페, 잔잔한, 여름밤, 몽환, 힐링, 새벽, 기분전환, 스트레스, 까페, 달콤한, 몽환적인, 휴식, 꿀잠, 사랑, 펍, 출근, 댄스, 위로, 여름, 페스티벌, 퇴근길, 내적댄스, 여행, 유니크, 신남, 춤, 겨울, 설렘, 몽환적, 로맨틱, 라운지, 한강, 클럽, 야경, 도시, 바다, 파티, 출근길, 아침, 주말, 오후, 나들이, 운전, 새벽감성, 치유, 활기찬, 산책",
           "['행복한']"
          ],
          [
           "가끔씩",
           "제이비",
           "까페, 잔잔한, 밤, 새벽",
           "['잔잔한']"
          ],
          [
           "랑데뷰",
           "양혜승",
           "댄스, 헬스, 클럽",
           "['경쾌한']"
          ],
          [
           "P.O.L (Power Of Love)",
           "보아 (BoA)",
           "잔잔한, 설렘, 사랑, 댄스, 봄, 밤, 새벽, 행복, 추억, 기분전환, 회상",
           "['행복한']"
          ],
          [
           "그렇습니까",
           "흐른",
           "슬픔, 밤, 이별, 새벽, 쓸쓸, 위로, 힐링, 휴식, 잔잔한, 편안한, 기분전환, 비오는날, 추억, 사랑, 우울할때, 새벽감성, 회상, 저녁, 응원, 까페, 가을, 설렘, 잠들기전, 여름, 드라이브, 조용한, 스트레스, 가을밤, 겨울밤, 우울, 화이팅, 겨울, 비, 슬픈, 밴드, 흐린날, 나른한, 몽환적인, 우울한, 퇴근, 분위기, 카페, 봄, 몽환, 외로움, 퇴폐, 짝사랑, 자기전에, 센치, 공부, 따뜻함, 토닥토닥, 잔잔, 눈물, 펍, 힘들때, 감성적인",
           "['우울한']"
          ],
          [
           "도둑 (Thief)",
           "블락비 바스타즈",
           "기분전환, 운동, 드라이브, 여름, 비오는날, 힐링, 휴식",
           "['행복한']"
          ],
          [
           "사이 (My Side) (Feat. oceanfromtheblue, ASH ISLAND, BRADYSTREET, Wonstein)",
           "HD BL4CK",
           "여름, 기분전환, 봄, 잔잔한, 드라이브, 카페",
           "['행복한']"
          ],
          [
           "Can You Hear Me?",
           "양파",
           "힐링, 휴식, 밤, 새벽, 추억, 까페, 회상, 비오는날, 잔잔한, 봄, 설렘, 사랑, 뮤지컬",
           "['행복한']"
          ],
          [
           "Like A Wind",
           "엠씨더맥스 (M.C the MAX)",
           "드라이브, 우울, 봄",
           "['행복한']"
          ],
          [
           "Town Of The Wind",
           "SPICY KICKIN`",
           "기분전환, 운동, 드라이브, 하루, 출근길, 아침, 상쾌한, 화이팅, 주말, 잔잔한",
           "['행복한']"
          ],
          [
           "Yellow",
           "Coldplay",
           "휴식, 힐링, 기분전환, 스트레스, 까페, 비오는날, 장마, 분위기, 밤, 카페, 여름밤, 회상, 봄, 설렘, 사랑, 드라이브, 여행, 신나는, 새벽, 추억, 잔잔한, 겨울, 주말, 감성적인, 밴드, 설레임, 늦은밤, 썸, 여름, 몽환, 월요병, 시원한, 출근, 편안한, 화이팅, 공부, 산책, 새벽감성, 잠잘때, 따뜻한, 우울, 이별, 감성자극, 침대, 가을밤, 가을, 시험, 슬픔, 위로, 쓸쓸함, 몽환적인, 차분한, 센치, 그리움, 잠들기전, 자장가, 불면증, 연휴, 고속도로, 청량감, 퇴근길, 리드미컬, 데이트, 크리스마스, 잔잔, 강렬한, 비, 운동, 응원, 따스한, 힘내, 신남, 스트레스해소, 연애, 로맨틱, 노동요, 쓸쓸, 열대야, 일상, 한강, 야경, 여유, 나른한, 저녁, 커피, 출근길, 아침, 모닝콜, 상쾌한, 햇살, 오후, 벚꽃, 추억회상, 감수성, 아련한, 고독, 편안함, 쓸쓸한, 외로움, 낙엽, 집, 퇴근, 즐거운, 휴가, 불금, 잠, 낮잠, 독서, 조용한, 시원, 청량한, 흥",
           "['잔잔한']"
          ],
          [
           "소주 한 잔",
           "임창정",
           "이별, 슬픔, 추억, 회상",
           "['우울한']"
          ],
          [
           "Girls Girls Girls (Feat. 메이커슬)",
           "달샤벳",
           "기분전환, 운동",
           "['행복한', '경쾌한']"
          ],
          [
           "사랑이었던 시절 (Vocal 설경)",
           "유용호",
           "밤, 잔잔한, 새벽, 위로, 포근한, 따뜻한, 우울, 슬픈, 겨울, 카페, 여행, 기분전환, 추억, 사랑, 이별",
           "['우울한']"
          ],
          [
           "Naked",
           "Nickea",
           "여행, 까페, 산책, 휴식, 힐링, 겨울, 가을, 기분전환, 설렘, 사랑",
           "['잔잔한']"
          ],
          [
           "사랑 갈등",
           "엄정화",
           "댄스",
           "['경쾌한']"
          ],
          [
           "생각할 시간",
           "손동운, 유주혜, 이병준",
           "힐링, 휴식, 기분전환",
           "['행복한']"
          ],
          [
           "생각해봤어",
           "한동근",
           "겨울, 휴식, 카페, 잔잔한, 추억, 기분전환, 사랑, 감수성, 슬픔, 이별, 밤, 새벽, 센치",
           "['잔잔한']"
          ],
          [
           "Let It Out",
           "Ed Sheeran",
           "휴식, 힐링, 밤, 새벽, 분위기, 드라이브, 카페, 기분전환, 사랑",
           "['잔잔한', '행복한']"
          ],
          [
           "권태 그 앞에선 우리 (Radio Edit) (Bonus Track)",
           "파니 핑크",
           "슬픔, 밤, 이별, 새벽, 비오는날, 회상, 추억, 슬픈",
           "['우울한']"
          ],
          [
           "그대 내 맘에 들어오면은 (Feat. C-Luv)",
           "엠블랙",
           "댄스, 기분전환, 설렘, 사랑, 행복, 슬픔, 이별, 새벽감성, 비오는날, 밤, 새벽, 휴식, 힐링, 잔잔한, 추억, 회상, 드라이브, 스트레스",
           "['우울한']"
          ],
          [
           "You In Me",
           "카드 (KARD)",
           "새해, 댄스, 드라이브, 경쾌한, 여행, 시원한, 기분전환, 청량한, 신나는, 여름, 청량, 흥폭발, 겨울, 출근길, 감성자극, 잔잔한, 새벽, 새벽감성, 우울, 위로, 자기전에, 추억, 운동할때, 헬스장, 스트레스, 휴식, 힐링, 봄, 사랑, 산책, 밤",
           "['경쾌한']"
          ],
          [
           "그게 나의 전부란 걸 (Duet with 옥주현)",
           "홍광호",
           "뮤지컬",
           "['경쾌한']"
          ],
          [
           "유치해도 (Prod. 이민혁 (비투비))",
           "소희, 김상균",
           "연인, 기분전환, 카페, 달콤한, 휴식, 드라이브, 겨울, 크리스마스, 캐롤, 연말, 썸, 사랑, 설렘, 시작, 봄, 댄스, 잔잔한, 신나는, 눈, 눈오는날, 겨울감성, 이별, 친구, 소풍, 여행, 스트레스, 달달한, 새벽, 행복, 벚꽃, 설레임, 데이트, 추억, 아침, 운동, 새해, 기분업, 고백, 커피, 힐링",
           "['행복한']"
          ],
          [
           "그는너의꿈",
           "우주왕복선싸이드미러",
           "드라이브, 휴식, 기분전환, 분위기, 편안한",
           "['행복한', '잔잔한']"
          ],
          [
           "Foolish Heart",
           "Steve Perry",
           "밤, 새벽",
           "['무서운', '우울한']"
          ],
          [
           "나쁜놈",
           "입술을깨물다",
           "출근길, 아침, 상큼한, 경쾌한, 달콤한, 여름, 휴식, 피크닉, 힐링, 기분전환, 일상, 페스티벌",
           "['경쾌한']"
          ],
          [
           "Life By The Drop",
           "Stevie Ray Vaughan & Double Trouble",
           "기분좋은, 흥겨운, 여행, 즐거운, 밝은",
           "['행복한']"
          ],
          [
           "Clouds",
           "One Direction",
           "내적댄스, 스트레스, 기분전환, 휴식, 힐링",
           "['행복한']"
          ],
          [
           "하지 못하고",
           "소솜",
           "밤, 잔잔한, 새벽, 이별, 솔로, 짝사랑, 슬픔, 설렘, 외로움, 잠잘때, 감수성, 분위기, 우울, 카페, 가을, 새벽감성, 쓸쓸, 사랑",
           "['잔잔한']"
          ],
          [
           "Mood Swing (feat. sokodomo)",
           "Jade",
           "기분전환",
           "['행복한']"
          ],
          [
           "그때처럼",
           "여디와 우림",
           "휴식, 밤, 가을, 새벽, 추억, 회상, 겨울, 눈, 잔잔한, 설렘, 기분전환, 사랑, 까페, 카페, 이별, 슬픔, 비오는날, 여름, 센치, 힐링",
           "['잔잔한']"
          ],
          [
           "Part One Of The Cowboy Trilogy",
           "Sean Lennon",
           "겨울, 카페, 우울",
           "['잔잔한']"
          ],
          [
           "오늘 밤엔",
           "성광현",
           "술, 새벽, 몽환, 카페, 커피, 까페",
           "['잔잔한']"
          ],
          [
           "My Pace",
           "Stray Kids (스트레이 키즈)",
           "운동, 신나는",
           "['경쾌한', '행복한']"
          ],
          [
           "너에게 가는 길",
           "이율, 윤나무",
           "뮤지컬, 가을, 드라이브, 기분전환, 스트레스, 신나는",
           "['경쾌한']"
          ],
          [
           "너에게 가는 길",
           "성두섭, 이율, 김대현, 김지휘, 윤나무, 김성철",
           "뮤지컬, 가을, 드라이브, 기분전환, 스트레스, 신나는",
           "['경쾌한']"
          ],
          [
           "Mandrake",
           "국카스텐",
           "비오는날, 스트레스, 기분전환, 밴드, 슬픔, 추억, 이별, 회상, 드라이브, 신나는, 부드러운, 기분좋은, 여름, 힐링, 휴식, 페스티벌, 가을감성",
           "['행복한']"
          ],
          [
           "Enter The Dragon",
           "JTL",
           "기분전환, 봄, 댄스",
           "['행복한', '경쾌한']"
          ],
          [
           "편린 일지라도, 내 잃어 버린 기억",
           "에피톤 프로젝트",
           "휴식, 힐링, 봄, 추억, 까페, 회상, 사랑, 밤, 설렘, 새벽, 기분전환, 잔잔한, 산책, 드라이브, 슬픔, 이별, 여행",
           "['잔잔한']"
          ],
          [
           "Autumn Breeze (Feat. Rachel Lim)",
           "JIDA (지다)",
           "가을감성, 잔잔한, 행복, 몽환, 집, 드라이브, 산책, 겨울, 비오는날, 밤, 카페, 새벽, 열대야, 기분전환, 우울할때, 응원, 토닥토닥, 불면증, 퇴근길, 힘내, 비, 가을, 겨울감성, 달달한, 겨울밤, 고백, 사랑, 유니크, 잠, 휴식, 저녁, 이별, 힐링, 술, 가을밤, 아침, 추억, 위로, 흥겨운, 출근길, 일상, 스트레스, 월요병, 신나는, 자장가, 장마, 새벽감성, 퇴폐, 나른한, 여행, 연인, 분위기, 울고싶을때, 눈물, 우울, 슬픔, 회상, 헤어짐, 혼자있을때, 센치, 여름밤, 여름, 여유, 지칠때, 공부, 편안한, 독서, 커피, 잠들기전, 잔잔, 쓸쓸, 주말, 외출, 오후, 낙엽, 밴드, 커피숍, 감미로운, 외로움, 달달, 연말, 크리스마스, 봄, 봄날, 설렘, 자기전에, 감성자극, 별, 공감, 짝사랑, 슬픈, 몽환적, 몽환적인, 고독, 까페, 가을비, 수면, 사색, 북카페, 벚꽃, 시원한, 바다, 기억, 감성적인, 스트레스해소, 침대, 낭만, 꿀잠, 퇴근, 페스티벌, 쓸쓸한, 따스한, 눈, 그리움, 연애, 불금, 포근한, 운전, 솔로, 봄비, 새해, 선선한, 자기전, 감수성",
           "['우울한']"
          ],
          [
           "덕수궁 돌담길의 봄 (Feat. 10cm)",
           "윤아 (YOONA)",
           "봄, 따뜻한, 상큼, 피크닉, 봄노래, 소풍, 벚꽃, 사랑, 썸, 카페, 연애, 설렘, 봄바람, 봄날, 운동, 달달, 드라이브, 기분전환, 달달한, 꽃, 나른한, 산책, 신나는, 잔잔한, 자기전, 여름, 여름밤, 상큼한, 여행, 상쾌한, 청량한, 즐거운, 휴식, 힐링, 까페, 연인, 나들이, 데이트, 커피, 잠들기전, 행복, 설레임, 고백, 주말, 추억, 달콤, 스트레스, 출근길, 월요일, 퇴근길, 햇살, 위로, 슬픔, 여유, 잔잔, 커피숍, 새벽, 기분좋은, 겨울, 조용한, 자장가, 커플, 따뜻함, 토닥토닥, 크리스마스, 혼술, 힘내, 이별, 감동, 휴양지, 시원, 상쾌, 바캉스, 휴가, 설레는, 아침, 출근, 시작, 맑은, 작업, 일상, 따뜻, 봄비, 밤, 가을감성, 집, 스포츠, 눈, 쓸쓸한, 댄스, 심쿵, 첫눈, 겨울감성, 새벽감성, 짝사랑, 여행산책, 감성적인, 저녁, 공부, 포근한, 가을, 회상, 한강, 기분업, 친구",
           "['행복한']"
          ],
          [
           "나 생각있는 여자야",
           "혜령",
           "잔잔한, 스트레스, 기분전환, 추억, 회상",
           "['잔잔한']"
          ],
          [
           "너 사랑안에",
           "신화",
           "잔잔한, 추억, 회상, 힐링, 휴식",
           "['잔잔한']"
          ],
          [
           "편지",
           "장희원",
           "연말, 눈오는날, 캐럴, 분위기, 따듯한, 크리스마스, 벚꽃, 봄, 따뜻한, 사랑, 밤, 달달한, 연인, 새벽, 자장가, 달콤한, 비오는날, 감성자극, 공부, 주말, 짝사랑, 고백, 설렘, 겨울, 카페, 겨울밤, 커피, 포근한, 찬바람, 여름, 휴가, 여름밤, 행복, 청량, 여행, 시원한, 오후, 커플, 상큼, 페스티벌, 기분전환, 힐링, 쓸쓸한, 잔잔한, 센치, 자기전에, 퇴근길, 기분좋은, 가을, 산책, 비, 달달, 우울한, 슬픈, 회상, 시작, 맑은, 청량한, 청춘, 노동요, 무더위, 드라이브, 휴식, 추억, 열대야, 집, 작업, 이별, 달콤, 저녁, 한강, 친구, 일상, 소풍, 데이트, 아침, 출근, 월요병, 신나는, 장마, 상큼한, 까페, 편안한, 로맨틱, 스트레스, 출근길, 하루, 봄날, 햇살, 아름다운, 차분한, 에너지, 헬스장, 운동, 유니크, 낮잠, 흥겨운, 나른한, 여행산책, 피곤, 잔잔, 따스한, 바다, 퇴근, 여유",
           "['경쾌한']"
          ],
          [
           "My Girl",
           "B.A.P",
           "기분전환, 봄, 휴식, 힐링, 즐거운, 연애, 사랑, 내적댄스, 설레는, 신나는, 댄스, 드라이브, 설렘, 여름",
           "['행복한']"
          ],
          [
           "잠",
           "공중그늘",
           "여름, 기분전환, 여행, 연인, 새벽",
           "['행복한']"
          ],
          [
           "With You",
           "김광진, 유희열, 하림",
           "겨울, 가을, 새벽, 새벽감성, 여행, 힐링",
           "['잔잔한', '우울한', '행복한']"
          ],
          [
           "KINGS FOR A DAY",
           "이홍기 (FT아일랜드)",
           "휴식, 기분전환, 사랑",
           "['행복한']"
          ],
          [
           "사.계.한 (Love Should Go On) (SHINee WORLD 4 Ver.)",
           "SHINee (샤이니)",
           "기분전환",
           "['행복한']"
          ],
          [
           "옥탑방 (Rooftop)",
           "엔플라잉 (N.Flying)",
           "스트레스, 힐링, 기분전환, 흥겨운, 휴식, 흥, 가을, 지친하루, 댄스, 신나는, 여름, 봄, 사랑, 겨울, 저녁, 잔잔한, 드라이브, 여행, 새벽감성, 운동할때, 시원한, 연인, 리드미컬, 카페, 일상, 오후, 운동, 달달한, 청량한, 주말, 밴드, 짝사랑, 청량, 피곤, 헬스, 클럽, 겨울밤, 시작, 새해, 밤, 에너지, 경쾌한, 상쾌한, 기분업, 연말, 지칠때, 여유, 산책, 추억, 휴가, 크리스마스, 분위기, 야경, 늦은밤, 피크닉, 상쾌, 설렘, 서정적인, 슬픈, 잔잔, 한강, 유니크, 커플, 연애, 고백, 가을감성, 낙엽, 찬바람, 출근길, 노동요, 헬스장, 불금, 파티, 이별, 봄노래, 내적댄스, 출근, 새벽, 운전, 벚꽃, 공감, 스포츠, 힘들때, 상큼, 장마, 들썩들썩, 바다, 감수성, 하늘, 트렌디한, 햇살, 청량감, 흥폭발, 자신감, 러닝, 기분좋은",
           "['행복한']"
          ],
          [
           "나의 외로움이 널 부를 때 (piano ver.)",
           "장필순",
           "잔잔한, 휴식, 봄, 새벽, 센치, 위로, 분위기",
           "['잔잔한', '우울한']"
          ],
          [
           "Move For Me",
           "Kaskade",
           "몽환, 힐링",
           "['잔잔한', '행복한']"
          ],
          [
           "맘 (Heart)",
           "백퍼센트",
           "드라이브, 기분전환, 스포츠, 운동, 댄스, 달리기, 조깅, 신나는, 여름, 청량, 여행, 시원한, 월요병, 상쾌한, 아침, 산책, 가을, 사랑, 청량한, 스트레스",
           "['행복한']"
          ],
          [
           "AND I",
           "뉴이스트 W",
           "가을, 사랑",
           "['잔잔한', '행복한']"
          ],
          [
           "Midas X Travel 2018",
           "Midas X",
           "새해",
           "['행복한']"
          ],
          [
           "널 사랑한 시간에",
           "XIA (준수)",
           "설렘, 사랑, 슬픔, 추억, 이별, 회상, 솔로, 후회, 겨울, 드라이브, 기분전환, 힐링, 휴식, 잔잔한, 아픔, 눈물, 여행, 산책, 밤, 새벽, 우울",
           "['우울한']"
          ],
          [
           "외출",
           "오안, 모트 (Motte)",
           "겨울, 잔잔한, 눈, 센치, 분위기, 따뜻한, 행복, 청춘, 꽃, 봄, 위로, 희망, 저녁, 드라이브, 운전, 퇴근길",
           "['잔잔한']"
          ],
          [
           "Would U (Inst.)",
           "Red Velvet (레드벨벳)",
           "집중, 공부, 일할때, 공부할때, 힐링, 카페, 기분전환, 잔잔한",
           "['잔잔한']"
          ],
          [
           "Celebrate",
           "Ragoon",
           "잔잔한, 밤, 새벽, 겨울, 카페, 드라이브, 여행, 기분전환, 사랑",
           "['잔잔한']"
          ],
          [
           "검은 행복",
           "윤미래, 계민아",
           "쓸쓸함, 가을, 힐링, 퇴근길, 휴식, 겨울, 기분전환, 드라이브",
           "['행복한']"
          ],
          [
           "내 사랑",
           "김순영",
           "뮤지컬",
           "['경쾌한']"
          ],
          [
           "기억 (Memories)",
           "아거 (AGER)",
           "퇴근, 카페, 겨울, 출근",
           "['잔잔한']"
          ],
          [
           "좋아합니다",
           "테이",
           "짝사랑, 설레임, 시작",
           "['행복한']"
          ],
          [
           "GAME THEORY (Feat. Tommy Strate, nafla, The Quiett, Kid Milli, Lil Cherry)",
           "Dakshood (닥스후드)",
           "드라이브, 기분전환, 운동, 스트레스, 신나는",
           "['행복한']"
          ],
          [
           "꽃보다 그녀",
           "비투비",
           "피크닉, 봄, 봄노래, 소풍, 벚꽃, 여행, 기분전환, 산책, 까페, 설렘, 사랑, 로맨틱, 달달, 즐거운, 신나는, 댄스, 힐링, 설레는, 설레임, 연애, 고백, 커플, 연인, 슬픔, 이별, 여름, 썸, 드라이브, 카페, 한강, 운동, 친구, 휴식, 스트레스, 시작, 나들이, 꽃, 가을, 아름다운, 신나, 분위기, 밤, 새벽, 심쿵, 섹시, 상큼",
           "['행복한']"
          ],
          [
           "Ladies Night",
           "Red Velvet (레드벨벳)",
           "여름, 여행, 고속도로, 스트레스, 휴가, 청량, 상큼, 피크닉, 봄, 상큼한, 상쾌, 힐링, 기분전환, 설렘, 사랑, 댄스",
           "['경쾌한', '행복한']"
          ],
          [
           "달콤한 거짓말",
           "쿨 (COOL)",
           "새벽, 밤, 행복, 마음, 사랑, 설렘, 힐링, 휴식, 추억, 회상, 피크닉, 봄날, 벚꽃, 기분전환, 산책, 봄",
           "['행복한']"
          ],
          [
           "Bright Lights",
           "Matchbox Twenty",
           "밤, 가을, 잔잔한, 와인",
           "['잔잔한']"
          ],
          [
           "지아에게",
           "김찬진",
           "가을, 카페, 새벽, 드라이브, 설렘, 사랑, 이별",
           "['행복한']"
          ],
          [
           "Life On The Line (Feat. Hash Swan)",
           "dkash (디캐시)",
           "가을",
           "['잔잔한']"
          ],
          [
           "Aurora",
           "클래지콰이",
           "힐링, 휴식, 기분전환",
           "['행복한']"
          ],
          [
           "널 위한 멜로디 (Feat. 예성, 알리, 앤씨아)",
           "이세준(유리상자)",
           "춤, 댄스, 기분전환, 내적댄스, 스트레스, 신나는, 커플, 봄, 설렘, 사랑, 여름, 짝사랑, 비, 가을, 달달한, 연인, 겨울, 우울, 잔잔한, 추억, 감성자극, 새벽, 드라이브, 그리움, 슬픔, 이별, 애절한, 슬픈, 감미로운, 고백, 커피, 카페, 달달, 설레임, 벚꽃, 힐링",
           "['행복한']"
          ],
          [
           "Love U",
           "디어 (d.ear)",
           "힐링, 휴식, 까페, 사랑, 비오는날, 잔잔한, 봄, 설렘, 밤, 새벽, 드라이브, 카페, 설레임, 벚꽃, 커피, 기분전환, 커플, 달달한, 연인, 겨울, 고백, 추억, 회상, 로맨틱, 슬픔, 이별, 달달, 연애, 새벽감성, 비, 여행, 산책, 잠들기전, 봄날, 한강, 나들이, 포근한, 여름, 눈물, 분위기, 부드러운, 기분좋은, 데이트, 달콤한, 조용한, 몽환적, 행복, 편안한",
           "['행복한']"
          ],
          [
           "Moves Like Jagger (Soul Seekerz Radio Edit) (Feat. Christina Aguilera)",
           "Maroon 5",
           "신남",
           "['행복한']"
          ],
          [
           "하얀 동화",
           "KYT (코요태)",
           "겨울, 크리스마스, 댄스, 캐롤, 휴식, 힐링",
           "['잔잔한', '경쾌한']"
          ],
          [
           "She Knows",
           "Trinidad Cardona",
           "기분전환, 밤, 센치, 사색, 드라이브",
           "['행복한']"
          ],
          [
           "낮",
           "이스턴사이드킥",
           "밴드",
           "['경쾌한']"
          ],
          [
           "Brightside (Album Ver.)",
           "The Knocks",
           "신나는",
           "['행복한']"
          ],
          [
           "난 왕이 될거야",
           "전수미",
           "뮤지컬, 감동",
           "['경쾌한', '행복한']"
          ],
          [
           "내 마음의 사진",
           "송가인",
           "운전, 드라이브",
           "['경쾌한', '행복한']"
          ],
          [
           "없었다면",
           "빌리",
           "카페, 잔잔한, 기분전환, 사랑, 가을, 봄, 봄바람, 드라이브, 시작, 벚꽃, 설렘, 달달",
           "['행복한']"
          ],
          [
           "Where Is The Love",
           "Roberta Flack",
           "부드러운, 감미로운",
           "['편안한', '잔잔한']"
          ],
          [
           "Enduring Love",
           "Yannick Bovy",
           "기분전환, 울고싶을때, 슬픔, 이별, 아침, 시작, 쓸쓸, 설렘, 사랑",
           "['우울한']"
          ],
          [
           "Masquerade",
           "라니아",
           "댄스, 드라이브, 기분전환, 신나는, 운동, 스트레스",
           "['행복한']"
          ],
          [
           "Time Slip",
           "아이니",
           "여름, 드라이브",
           "['경쾌한', '행복한']"
          ],
          [
           "후후후 (Hoo Hoo Hoo)",
           "앤씨아",
           "추억, 사랑, 설렘, 회상, 겨울, 휴식, 힐링, 기분전환",
           "['행복한']"
          ],
          [
           "지상에서 영원으로",
           "정경화",
           "슬픔, 추억, 이별, 회상, 스트레스, 기분전환, 신나는, 잔잔한, 힐링, 휴식, 설렘, 사랑, 카페, 스트레스해소, 커플, 비오는날, 책, 가을, 우울, 흥폭발, 새벽, 밤, 까페, 겨울, 비, 슬픈",
           "['행복한']"
          ],
          [
           "서른 살의 홍대는",
           "달어쿠스틱",
           "겨울, 가을, 가을밤, 휴식, 힐링, 추억, 기분전환, 회상, 밤, 새벽, 자장가, 설렘, 까페, 사랑",
           "['잔잔한']"
          ],
          [
           "SUGAR",
           "우주소녀",
           "힐링, 여름, 드라이브, 시원한, 기분전환, 신나는, 운동, 댄스, 추억회상",
           "['경쾌한', '행복한']"
          ],
          [
           "First Time",
           "정엽",
           "새벽, 밤, 잔잔한, 추억, 까페, 회상",
           "['잔잔한']"
          ],
          [
           "Make It Love (Song By Domingo, H:SEAN, Saula)",
           "KozyPop",
           "노동요, 잔잔한, 우울, 여행, 사랑, 신나는, 밤, 새벽, 나른한, 잠들기전, 몽환적인, 까페, 설렘",
           "['잔잔한', '행복한']"
          ],
          [
           "GOOD",
           "EXID",
           "기분전환, 설렘, 사랑, 신나는, 레트로, 드라이브",
           "['행복한']"
          ],
          [
           "그대로 멈춰라",
           "달샤벳",
           "댄스",
           "['경쾌한']"
          ],
          [
           "Reason",
           "디셈버",
           "여름, 까페, 술, 눈물, 후회, 슬픔, 설렘, 사랑, 이별, 힐링, 휴식, 기분전환, 스트레스, 잔잔한, 밤, 새벽, 비오는날, 회상, 추억, 그리움, 헤어짐, 솔로",
           "['우울한']"
          ],
          [
           "If Not For You",
           "Bob Dylan",
           "비오는날, 카페, 새벽, 몽환, 저녁",
           "['잔잔한']"
          ],
          [
           "the.the.the",
           "용국&시현",
           "휴식, 비, 카페, 댄스, 여행, 사랑, 기분전환, 출근길, 주말, 오후, 드라이브, 맑은, 아침, 여름, 가을, 여름밤, 운동, 스트레스, 신나는, 기분좋은, 달달, 커플, 연애, 고백, 추억, 몽환",
           "['행복한']"
          ],
          [
           "Brave",
           "The Shires",
           "기분전환, 드라이브, 새벽, 추억, 밤, 회상, 힐링, 휴식, 가을, 잔잔한, 까페, 슬픔, 이별",
           "['우울한', '행복한', '무서운', '잔잔한']"
          ],
          [
           "허세가 (虛勢歌)",
           "주윤하",
           "후회, 우울, 그리움, 슬픔, 이별, 새벽, 밤, 까페, 휴식, 봄, 잔잔한, 커피, 산책, 공부, 힐링",
           "['잔잔한', '행복한']"
          ],
          [
           "로얄패밀리 (Feat. Kirk, 김우근)",
           "싸이 (PSY)",
           "기분전환",
           "['행복한']"
          ],
          [
           "왕자님",
           "야광토끼 (Neon Bunny)",
           "봄, 가을, 추억, 힐링, 페스티벌, 기분좋은, 흥겨운, 기분전환, 산책, 산뜻한, 드라이브, 스트레스, 비오는날, 잔잔한, 여름밤, 설렘, 사랑",
           "['행복한']"
          ],
          [
           "Instagram (feat. Afro Bros, Natti Natasha)",
           "Dimitri Vegas & Like Mike, David Guetta, Daddy Yankee",
           "클럽, 파티, 운동, 댄스, 드라이브, 휴식, 힐링, 기분전환, 외출, 신나는, 휴양지, 여행, 시원한, 흥겨운, 페스티벌, 여름, 에너지, 기분업, 흥, 경쾌한, 즐거운, 내적댄스, 시작, 불금, 일상, 감성적인, 강렬한, 스트레스",
           "['행복한']"
          ]
         ],
         "hovertemplate": "x=%{x}<br>y=%{y}<br>곡 제목=%{customdata[0]}<br>가수=%{customdata[1]}<br>tag_ori=%{customdata[2]}<br>emotion max=%{customdata[3]}<extra></extra>",
         "legendgroup": "",
         "marker": {
          "color": "#636efa",
          "symbol": "circle"
         },
         "mode": "markers",
         "name": "",
         "orientation": "v",
         "showlegend": false,
         "type": "scatter",
         "x": [
          0.34155383706092834,
          1.845626950263977,
          1.1262738704681396,
          0.7741672992706299,
          1.9613460302352905,
          1.8030256032943726,
          1.9940462112426758,
          1.8357257843017578,
          1.3813297748565674,
          0,
          1.2453678846359253,
          1.390679121017456,
          0,
          2.599442481994629,
          3.646070957183838,
          1.1033413410186768,
          1.6187154054641724,
          2.178783893585205,
          1.948444128036499,
          2.0602951049804688,
          2.2244768142700195,
          0.05332806333899498,
          1.9866769313812256,
          1.2812672853469849,
          1.306389570236206,
          1.3715983629226685,
          3.648098945617676,
          1.4468616247177124,
          0.7180916666984558,
          2.98600172996521,
          0.7731007933616638,
          1.5309357643127441,
          0.8100662231445312,
          1.674907922744751,
          0.6853675246238708,
          2.123007297515869,
          2.988525390625,
          2.0873610973358154,
          1.589212417602539,
          0.764255940914154,
          3.71652889251709,
          1.9811348915100098,
          1.3433942794799805,
          1.269151210784912,
          0.6010058522224426,
          0.6444061398506165,
          0.9311890006065369,
          1.9105833768844604,
          1.155867099761963,
          2.8885791301727295,
          0.6662761569023132,
          1.037520408630371,
          2.5153756141662598,
          2.3120779991149902,
          1.892221450805664,
          2.870037078857422,
          1.6453243494033813,
          1.5957446098327637,
          2.281959295272827,
          0.7672125697135925,
          1.532804250717163,
          1.3108580112457275,
          1.5855298042297363,
          2.3757753372192383,
          2.8637313842773438,
          4.2068095207214355,
          2.8272390365600586,
          4.17031717300415,
          0.6194069981575012,
          1.1503002643585205,
          1.9533696174621582,
          1.2495920658111572,
          1.5688670873641968,
          2.287306308746338,
          3.4417083263397217,
          2.8046000003814697,
          1.5054678916931152,
          0.9637553095817566,
          0.3687112033367157,
          1.7120964527130127,
          0.6053759455680847,
          3.1037540435791016,
          0.30024847388267517,
          0.4580247700214386,
          1.4113675355911255,
          2.2783799171447754,
          4.656442165374756,
          0,
          2.3833835124969482,
          1.8375287055969238,
          1.6203079223632812,
          3.41632080078125,
          2.072272777557373,
          0.8404039144515991,
          1.7347743511199951,
          0.9473608136177063,
          1.4604367017745972,
          0.9514219164848328,
          1.287375807762146,
          1.3645509481430054,
          0.7818045616149902,
          1.921321153640747,
          1.1967655420303345,
          1.86275053024292,
          2.795679807662964,
          2.899182081222534,
          0.9303664565086365,
          0.9189102053642273,
          4.307216644287109,
          3.2479171752929688,
          3.323132276535034,
          1.3250174522399902,
          0.9515756964683533,
          0.8806487917900085,
          0.6967326998710632,
          0.11521817743778229,
          1.2391166687011719,
          0,
          2.053260087966919,
          1.5232744216918945,
          1.5735056400299072,
          3.5934433937072754,
          1.8403103351593018,
          2.0323989391326904,
          1.0285203456878662,
          3.4543817043304443,
          3.7513175010681152,
          3.128912925720215,
          2.194345235824585,
          3.2593564987182617,
          0.8514959216117859,
          1.7591198682785034,
          2.729334592819214,
          2.9159674644470215,
          2.6873066425323486,
          2.1509335041046143,
          1.9276783466339111,
          0.9339306354522705,
          2.09623122215271,
          1.8716633319854736,
          1.8956003189086914,
          3.2604033946990967,
          0.18877500295639038,
          1.0234405994415283,
          0.7242771983146667,
          1.7350693941116333,
          0.9049147367477417,
          3.227393865585327,
          1.8817903995513916,
          0.2776413857936859,
          1.6389665603637695,
          1.0857535600662231,
          1.9000358581542969,
          1.5616859197616577,
          3.835909366607666,
          1.793208360671997,
          0.7939940690994263,
          2.9080650806427,
          1.2301523685455322,
          1.4758996963500977,
          1.3267993927001953,
          2.570265293121338,
          1.7889447212219238,
          0.24017135798931122,
          0.8467599153518677,
          0.631677508354187,
          3.8553988933563232,
          1.0801068544387817,
          1.4731147289276123,
          1.644139051437378,
          1.5349464416503906,
          1.7059707641601562,
          1.2609370946884155,
          3.0981225967407227,
          2.2973408699035645,
          0.3626100420951843,
          1.566632628440857,
          1.1520955562591553,
          1.2617806196212769,
          1.77605140209198,
          3.9761741161346436,
          0.5905229449272156,
          1.9032025337219238,
          1.3551312685012817,
          1.6810157299041748,
          1.7735551595687866,
          0.6838967204093933,
          0.7746478915214539,
          1.5591983795166016,
          2.820946216583252,
          0.19749125838279724,
          3.0751795768737793,
          2.099597692489624,
          0,
          2.158839702606201,
          3.1190600395202637,
          1.568202018737793,
          1.3203482627868652,
          1.1940817832946777,
          1.5044901371002197,
          2.173407793045044,
          3.2922329902648926,
          3.4759721755981445,
          2.332336187362671,
          1.7090692520141602,
          1.8532965183258057,
          0.8112576603889465,
          0.3021851181983948,
          1.1208558082580566,
          1.5720726251602173,
          2.7026703357696533,
          0.6574126482009888,
          1.595685362815857,
          0.5847998857498169,
          2.2472198009490967,
          0.5580214262008667,
          0.7990761995315552,
          0.28847047686576843,
          3.3776650428771973,
          1.053403615951538,
          0.3487803637981415,
          1.5521105527877808,
          0.27584466338157654,
          0.5682377815246582,
          1.384268879890442,
          0.6346042156219482,
          0.680251955986023,
          1.7815091609954834,
          1.1827713251113892,
          0.37064164876937866,
          1.0611835718154907,
          0.669899582862854,
          1.4295072555541992,
          2.3120899200439453,
          3.5107638835906982,
          2.3906784057617188,
          3.5893521308898926,
          0.9791631102561951,
          0.6844797134399414,
          1.0764434337615967,
          3.7700536251068115,
          1.033492088317871,
          2.395867347717285,
          1.5603067874908447,
          1.4783539772033691,
          1.2284770011901855,
          0.6731141805648804,
          1.71028470993042,
          0.9771690368652344,
          2.0469765663146973,
          0.38443446159362793,
          1.7102711200714111,
          0.8939006924629211,
          3.517730236053467,
          1.0289018154144287,
          0.4638548195362091,
          3.9084417819976807,
          2.2398929595947266,
          2.5931408405303955,
          0.8387044072151184,
          1.6742627620697021,
          3.2197041511535645,
          1.8792331218719482,
          1.4441839456558228,
          3.3099148273468018,
          2.2634150981903076,
          0,
          0.5165344476699829,
          3.0463004112243652,
          2.109142303466797,
          1.6399903297424316,
          2.668229818344116,
          5.17624044418335,
          1.1478556394577026,
          1.603048324584961,
          1.5851542949676514,
          1.61187744140625,
          0,
          0,
          0.1815251111984253,
          2.105142116546631,
          1.4592876434326172,
          2.267031192779541,
          0.5249305367469788,
          2.140047073364258,
          1.36134934425354,
          0.6012676954269409,
          2.3579764366149902,
          1.6981929540634155,
          1.9064195156097412,
          1.3296411037445068,
          1.9207565784454346,
          1.5153639316558838,
          0.9940661787986755,
          1.677154302597046,
          1.313805341720581,
          1.8184553384780884,
          0.21524684131145477,
          1.449806571006775,
          2.5034399032592773,
          1.7700073719024658,
          0.8086367249488831,
          0.48972266912460327,
          1.6801111698150635,
          0.6769437193870544,
          2.3032846450805664,
          1.794997215270996,
          0.5836206078529358,
          1.9090604782104492,
          1.3469274044036865,
          2.8706343173980713,
          0.17519305646419525,
          1.4162603616714478,
          2.132629871368408,
          2.304527759552002,
          1.5986205339431763,
          1.4030896425247192,
          3.718716621398926,
          1.205348014831543,
          1.041503667831421,
          1.6729943752288818,
          0.7666423320770264,
          1.6903038024902344,
          0.8910359144210815,
          0.807999312877655,
          1.6348809003829956,
          0.863612949848175,
          2.2851195335388184,
          2.177696466445923,
          1.857710599899292,
          1.6445467472076416,
          1.3611077070236206,
          0.8920091390609741,
          1.3216040134429932,
          1.3672459125518799,
          1.4950237274169922,
          2.8411002159118652,
          0.6329906582832336,
          4.433185577392578,
          1.2795000076293945,
          0.5730499029159546,
          1.4026408195495605,
          3.003135919570923,
          3.516472578048706,
          1.4861654043197632,
          1.4861654043197632,
          1.4723623991012573,
          1.4723623991012573,
          0.5918354392051697,
          1.2652854919433594,
          1.0977766513824463,
          0.7613931894302368,
          0.45832666754722595,
          1.1974916458129883,
          1.5630987882614136,
          1.6416717767715454,
          1.9599483013153076,
          2.236177444458008,
          1.6182284355163574,
          2.1389877796173096,
          1.7579604387283325,
          2.5673141479492188,
          0.04115669056773186,
          0.9538354277610779,
          0.9205653071403503,
          1.178539514541626,
          0.6095979809761047,
          2.096494674682617,
          1.190948247909546,
          0.747409999370575,
          0.9554955959320068,
          1.2480061054229736,
          1.4929661750793457,
          2.263087272644043,
          0.29085007309913635,
          0.5406826138496399,
          0.5173963308334351,
          2.192978858947754,
          2.143948554992676,
          1.1058359146118164,
          1.1472370624542236,
          4.977766513824463,
          2.36922025680542,
          2.0809407234191895,
          1.201704502105713,
          2.1794729232788086,
          1.300236463546753,
          1.7198044061660767,
          2.468066692352295,
          0.2791558802127838,
          0.8020206689834595,
          3.9122955799102783,
          0.17036975920200348,
          3.2574305534362793,
          1.2749085426330566,
          3.5214011669158936,
          3.536320209503174,
          1.8524491786956787,
          1.503232479095459,
          1.2619329690933228,
          1.2089226245880127,
          2.6532223224639893,
          0.7773014903068542,
          0.8666253685951233,
          1.093529462814331,
          0.6100098490715027,
          1.4226500988006592,
          0.04113064333796501,
          2.987858295440674,
          2.0627388954162598,
          1.288804531097412,
          2.4597699642181396,
          2.107015371322632,
          1.1255804300308228,
          1.3327972888946533,
          2.0188376903533936,
          2.5025715827941895,
          1.6790119409561157,
          1.0671839714050293,
          3.8490378856658936,
          1.0732080936431885,
          1.5909109115600586,
          4.627224445343018,
          1.1861681938171387,
          2.6130051612854004,
          1.0216190814971924,
          5.546694278717041,
          2.799105644226074,
          0.8354778289794922,
          3.6475532054901123,
          1.6335546970367432,
          1.4039487838745117,
          0.8773788213729858,
          1.4582061767578125,
          1.292587161064148,
          0.9650421738624573,
          2.8222172260284424,
          0.9665987491607666,
          1.7472236156463623,
          0.7519463896751404,
          2.4582455158233643,
          1.9583179950714111,
          1.539505124092102,
          0.8192653059959412,
          2.011537551879883,
          1.387026309967041,
          3.292634963989258,
          0.47538602352142334,
          1.2382203340530396,
          1.6309788227081299,
          1.3870701789855957,
          1.0242750644683838,
          2.473329782485962,
          0,
          0.11364005506038666,
          2.3372995853424072,
          2.1392252445220947,
          1.8842401504516602,
          1.1984280347824097,
          0.29709258675575256,
          3.7244439125061035,
          1.502401351928711,
          0.9058815240859985,
          1.5582311153411865,
          1.388909935951233,
          3.7623231410980225,
          2.024102210998535,
          2.2126097679138184,
          0.5673075318336487,
          2.1882214546203613,
          1.145263671875,
          1.3019068241119385,
          1.475551724433899,
          3.244886875152588,
          0.6058143973350525,
          0.9262913465499878,
          2.3433780670166016,
          1.8890576362609863,
          1.8369096517562866,
          2.170262575149536,
          3.050218343734741,
          1.8790342807769775,
          1.5150744915008545,
          2.745253562927246,
          1.3936307430267334,
          1.5462450981140137,
          1.3235005140304565,
          0.8251503109931946,
          3.2929182052612305,
          1.7957273721694946,
          2.6658084392547607,
          2.4172208309173584,
          0.3886672258377075,
          3.6721298694610596,
          1.375560998916626,
          1.8356159925460815,
          2.7538137435913086,
          1.0733516216278076,
          2.8928983211517334,
          2.7635717391967773,
          2.023153305053711,
          3.6236913204193115,
          1.7711331844329834,
          0.8298677206039429,
          1.6885278224945068,
          0.5843284726142883,
          1.104842185974121,
          0.34130266308784485,
          0.9713746905326843,
          1.729597806930542,
          1.5490976572036743,
          0.23340249061584473,
          1.207686424255371,
          1.246260643005371,
          0.9889987111091614,
          2.1376492977142334,
          3.2660863399505615,
          2.687988519668579,
          2.476602554321289,
          1.9869813919067383,
          0.776796281337738,
          2.0957953929901123,
          1.4095572233200073,
          0.34805139899253845,
          1.7816550731658936,
          0.4879068434238434,
          2.0512523651123047,
          2.3210885524749756,
          1.2517014741897583,
          2.530179500579834,
          2.946192741394043,
          1.7593528032302856,
          3.4718856811523438,
          3.8309028148651123,
          1.2104871273040771,
          1.487934947013855,
          3.8956563472747803,
          3.8956563472747803,
          3.8956563472747803,
          3.8956563472747803,
          3.8956563472747803,
          3.8956563472747803,
          3.8956563472747803,
          3.8956563472747803,
          2.023299217224121,
          3.173961877822876,
          1.1810991764068604,
          4.758785724639893,
          0.0027359770610928535,
          1.0580278635025024,
          3.3812782764434814,
          2.6166298389434814,
          1.79312002658844,
          1.707573413848877,
          2.0401225090026855,
          1.2634754180908203,
          1.2633435726165771,
          0.6908108592033386,
          0,
          3.2638702392578125,
          1.3407001495361328,
          3.414344072341919,
          3.973827600479126,
          0.5548619627952576,
          1.3384184837341309,
          1.8115603923797607,
          1.0355751514434814,
          0.4545404613018036,
          0.48278188705444336,
          1.095975637435913,
          1.6629894971847534,
          1.6348545551300049,
          1.901181697845459,
          1.302006483078003,
          1.7009954452514648,
          1.2709097862243652,
          1.745156168937683,
          1.050822377204895,
          2.769263744354248,
          2.1572799682617188,
          1.849971890449524,
          0.4854644238948822,
          1.6288310289382935,
          1.7291347980499268,
          1.2307655811309814,
          1.475408911705017,
          1.045401692390442,
          2.6382482051849365,
          0.9096930623054504,
          3.2319891452789307,
          1.552670955657959,
          3.7290213108062744,
          1.9234362840652466,
          2.6820895671844482,
          1.3949366807937622,
          1.8158527612686157,
          0.41289106011390686,
          0.8138164281845093,
          3.2284164428710938,
          2.0098509788513184,
          1.1950093507766724,
          2.079312324523926,
          1.0872604846954346,
          1.445172667503357,
          1.9457998275756836,
          2.4865901470184326,
          0.8039864897727966,
          4.435047626495361,
          3.0963709354400635,
          1.335264801979065,
          1.664202094078064,
          0.8132476210594177,
          0.9743982553482056,
          1.6069625616073608,
          4.384763240814209,
          1.2565382719039917,
          2.157133102416992,
          1.6504887342453003,
          1.0492539405822754,
          1.1345374584197998,
          0.6902969479560852,
          1.5267502069473267,
          1.8281304836273193,
          2.6201863288879395,
          1.3493844270706177,
          2.0900754928588867,
          0.7089632153511047,
          0.9007014632225037,
          2.1852378845214844,
          1.0127449035644531,
          0.8214816451072693,
          1.0073816776275635,
          0.5477210879325867,
          1.1378508806228638,
          0.6369167566299438,
          1.4215456247329712,
          2.3106484413146973,
          1.025233507156372,
          1.025233507156372,
          0.9452633857727051,
          2.4046714305877686,
          1.013116478919983,
          0.8836074471473694,
          2.4120094776153564,
          2.048255443572998,
          2.261813163757324,
          1.4121348857879639,
          3.6767399311065674,
          0.30748918652534485,
          1.9346437454223633,
          3.3233931064605713,
          1.789060115814209,
          3.448646068572998,
          1.3515177965164185,
          0.6622034907341003,
          2.9275522232055664,
          2.0018510818481445,
          1.937568187713623,
          1.4093067646026611,
          1.322533369064331,
          3.1756041049957275,
          3.055267810821533,
          2.613865852355957,
          1.6575498580932617,
          1.1822593212127686,
          2.197842597961426,
          4.400968551635742,
          2.4600493907928467,
          2.544340133666992,
          2.7196147441864014,
          0.9438735842704773,
          1.2019749879837036,
          2.9815382957458496,
          2.5482537746429443,
          2.1003615856170654,
          1.8520376682281494,
          0.9779372215270996,
          2.6163835525512695,
          1.6832184791564941,
          0.2646031081676483,
          0.4841361939907074,
          0.6961055397987366,
          1.5936429500579834,
          1.8024098873138428,
          0.018541734665632248,
          0.5659993290901184,
          3.45047926902771,
          3.201922655105591,
          3.126417636871338,
          1.6780246496200562,
          1.4900870323181152,
          1.9991252422332764,
          2.9463160037994385,
          3.940030813217163,
          3.710374116897583,
          2.4586260318756104,
          1.5309796333312988,
          0.31861940026283264,
          2.455087184906006,
          0.8651902079582214,
          1.4587929248809814,
          1.3641923666000366,
          1.3041388988494873,
          0.8602197170257568
         ],
         "xaxis": "x",
         "y": [
          0.6681340336799622,
          1.4697651863098145,
          1.3860647678375244,
          0.8543369174003601,
          1.6397596597671509,
          1.6958726644515991,
          1.6436028480529785,
          1.6997158527374268,
          1.7627882957458496,
          0,
          1.0987703800201416,
          1.9049415588378906,
          0.03653595596551895,
          1.6809896230697632,
          1.2563581466674805,
          1.5744162797927856,
          1.5393040180206299,
          1.8845278024673462,
          1.5503734350204468,
          1.7639405727386475,
          1.4632916450500488,
          0.11638035625219345,
          1.3958113193511963,
          0.9992443919181824,
          2.8100059032440186,
          1.11887788772583,
          1.6163513660430908,
          1.6942083835601807,
          0.3479889929294586,
          1.407815933227539,
          0.6589539051055908,
          1.1770514249801636,
          0.8219689726829529,
          2.7591769695281982,
          1.2532991170883179,
          2.4683475494384766,
          2.9015085697174072,
          1.9040851593017578,
          1.7135175466537476,
          0.8163164258003235,
          1.7537031173706055,
          1.4707651138305664,
          1.0859572887420654,
          2.1579954624176025,
          1.1126315593719482,
          1.141038179397583,
          0.8226813077926636,
          1.8955415487289429,
          1.1814262866973877,
          0.43692493438720703,
          0.2153550088405609,
          1.1664726734161377,
          1.8487601280212402,
          1.7036104202270508,
          1.5155311822891235,
          1.8011629581451416,
          0.46159303188323975,
          1.4247567653656006,
          0.6176314949989319,
          0.9211964011192322,
          1.6916024684906006,
          1.0922915935516357,
          1.3512691259384155,
          0.7087872624397278,
          1.53482985496521,
          1.6613986492156982,
          1.602748155593872,
          1.7293169498443604,
          0.8012279868125916,
          1.0402024984359741,
          1.9218764305114746,
          1.6995666027069092,
          1.8554565906524658,
          0.2328200340270996,
          2.219285011291504,
          1.8229731321334839,
          1.8843817710876465,
          1.110772728919983,
          2.228259563446045,
          1.7694047689437866,
          0.4249145984649658,
          1.093058466911316,
          1.9690349102020264,
          2.0559329986572266,
          1.5911227464675903,
          1.8765679597854614,
          1.7748018503189087,
          0,
          0.9306820631027222,
          1.5168006420135498,
          1.1941628456115723,
          2.2153382301330566,
          1.7707486152648926,
          0.74736088514328,
          0.14223450422286987,
          2.17730975151062,
          1.2155656814575195,
          0.7109225392341614,
          1.2938216924667358,
          1.4249367713928223,
          0.9079546332359314,
          1.3051012754440308,
          1.4118800163269043,
          1.6389721632003784,
          1.4134516716003418,
          2.5156331062316895,
          0.712222158908844,
          1.3153001070022583,
          0,
          0.7299283146858215,
          2.2060489654541016,
          1.4267634153366089,
          0.9865286946296692,
          1.981867790222168,
          1.3025695085525513,
          0.7650507092475891,
          1.798841953277588,
          0,
          0.8688653111457825,
          1.1451938152313232,
          1.4213907718658447,
          2.1584486961364746,
          1.6698702573776245,
          1.583144187927246,
          2.1007440090179443,
          1.3698261976242065,
          2.03696608543396,
          1.712529182434082,
          0.4310184419155121,
          1.5805902481079102,
          0.658317506313324,
          1.423041820526123,
          1.7858524322509766,
          1.6111066341400146,
          1.2623438835144043,
          1.9833040237426758,
          1.5903537273406982,
          1.8077195882797241,
          1.9096083641052246,
          1.405970573425293,
          1.5384690761566162,
          0.9435481429100037,
          0.5035862326622009,
          0.7968640923500061,
          1.6964452266693115,
          1.6054366827011108,
          1.344809651374817,
          3.0752670764923096,
          1.4186174869537354,
          1.0742450952529907,
          1.5627623796463013,
          1.0374401807785034,
          1.1139731407165527,
          2.1058566570281982,
          2.1728296279907227,
          1.3760147094726562,
          2.1167874336242676,
          1.329494833946228,
          0.9319445490837097,
          1.7539403438568115,
          1.2680381536483765,
          1.455414056777954,
          1.6530413627624512,
          0,
          0.937566339969635,
          0.741975724697113,
          1.40155827999115,
          1.2459200620651245,
          1.2565151453018188,
          1.562197208404541,
          1.3474512100219727,
          1.6531332731246948,
          0.6992572546005249,
          0.8605658411979675,
          1.8756492137908936,
          0.8123165965080261,
          1.4154489040374756,
          1.4457519054412842,
          1.3636300563812256,
          1.9613885879516602,
          1.913687825202942,
          0,
          1.8439269065856934,
          1.0588784217834473,
          1.1336565017700195,
          1.474717617034912,
          1.087587594985962,
          1.1255333423614502,
          1.6865260601043701,
          2.7040469646453857,
          0.140192449092865,
          1.2204151153564453,
          1.046831488609314,
          0,
          1.414300799369812,
          2.2362823486328125,
          1.2849664688110352,
          0.9579316973686218,
          1.3628898859024048,
          1.2677185535430908,
          1.8182464838027954,
          1.277876853942871,
          0.48453909158706665,
          1.2526581287384033,
          1.2831517457962036,
          1.630445957183838,
          0.3849989175796509,
          1.3166452646255493,
          1.911604881286621,
          1.708436369895935,
          1.5086548328399658,
          0.7290499210357666,
          2.1960813999176025,
          0.5941636562347412,
          1.7248485088348389,
          1.5902161598205566,
          0,
          0.990977942943573,
          1.6894787549972534,
          0.9674425721168518,
          0.5377075672149658,
          1.4125841856002808,
          0.46574991941452026,
          2.3368754386901855,
          1.4011311531066895,
          1.5220853090286255,
          0.22597262263298035,
          1.1513813734054565,
          1.5696876049041748,
          1.0443809032440186,
          2.0719683170318604,
          1.8188396692276,
          1.7705785036087036,
          2.0674030780792236,
          2.608983278274536,
          2.062166690826416,
          2.6037468910217285,
          1.3219791650772095,
          1.036736249923706,
          1.043596625328064,
          1.769315242767334,
          1.0425550937652588,
          1.7165495157241821,
          1.3661783933639526,
          1.3733816146850586,
          0.9754251837730408,
          1.1295225620269775,
          1.7999629974365234,
          1.6655335426330566,
          0.8448872566223145,
          1.3111042976379395,
          2.067448854446411,
          1.2317434549331665,
          1.2122151851654053,
          1.4725432395935059,
          0.5390490889549255,
          2.0162627696990967,
          2.645369529724121,
          1.7779521942138672,
          0.5312402248382568,
          2.5041542053222656,
          1.755414366722107,
          1.4499766826629639,
          3.1099696159362793,
          1.437248945236206,
          0.17393243312835693,
          0.7452853918075562,
          0.25056660175323486,
          2.10516619682312,
          1.4018880128860474,
          1.6150908470153809,
          1.4485594034194946,
          1.9747297763824463,
          1.2179828882217407,
          0.6404531598091125,
          1.6748299598693848,
          1.3806370496749878,
          0.24319827556610107,
          0.24319827556610107,
          0.5720275640487671,
          1.4522373676300049,
          1.686745285987854,
          1.4434624910354614,
          0.6030584573745728,
          1.9757626056671143,
          1.5620927810668945,
          1.6822309494018555,
          2.3317182064056396,
          1.7429726123809814,
          1.2125792503356934,
          1.570131540298462,
          2.5899035930633545,
          1.606378197669983,
          0.8403525948524475,
          1.3025304079055786,
          0.7542726397514343,
          1.2321304082870483,
          1.0281562805175781,
          1.7743370532989502,
          1.738616704940796,
          1.5241080522537231,
          1.4985934495925903,
          1.0437039136886597,
          1.0548579692840576,
          0.5854918956756592,
          1.9536879062652588,
          1.5509710311889648,
          0.37519970536231995,
          1.2678771018981934,
          1.1035140752792358,
          0.7412169575691223,
          0.7225039601325989,
          1.0207754373550415,
          1.8249012231826782,
          1.396130919456482,
          1.6532514095306396,
          1.511336088180542,
          1.0675626993179321,
          0.7798052430152893,
          2.6173532009124756,
          1.417525053024292,
          1.8560097217559814,
          1.7129608392715454,
          0.4927162528038025,
          0.8996994495391846,
          3.2510194778442383,
          0.8486874103546143,
          1.99922776222229,
          0.9723456501960754,
          1.6805610656738281,
          2.6328437328338623,
          0.971080482006073,
          1.4879584312438965,
          1.5388190746307373,
          1.162629246711731,
          1.2253696918487549,
          1.3944565057754517,
          0.5689366459846497,
          1.1380252838134766,
          1.3137015104293823,
          0.22622764110565186,
          1.6785968542099,
          1.5915718078613281,
          0.37053531408309937,
          1.1847045421600342,
          1.1847045421600342,
          1.183540940284729,
          1.183540940284729,
          1.2667920589447021,
          1.1073940992355347,
          1.139506459236145,
          0.6276769042015076,
          0.6087722182273865,
          1.447403907775879,
          1.0368205308914185,
          1.6429028511047363,
          1.7814239263534546,
          0.7086535096168518,
          1.5466423034667969,
          2.0988967418670654,
          1.471194863319397,
          3.5110599994659424,
          0,
          0.21638041734695435,
          0.6285105347633362,
          1.5875264406204224,
          0.0113157257437706,
          1.8149769306182861,
          1.0232495069503784,
          0.3618001937866211,
          1.629219889640808,
          1.6806310415267944,
          1.3058362007141113,
          1.001762866973877,
          1.036913275718689,
          1.0370736122131348,
          0.3026319146156311,
          1.9022234678268433,
          1.442368507385254,
          1.2684062719345093,
          0.7504531741142273,
          0.9471254944801331,
          1.1342694759368896,
          1.7663867473602295,
          0.7315078377723694,
          1.8515229225158691,
          0.8166437745094299,
          1.6886662244796753,
          1.7610020637512207,
          1.2877227067947388,
          1.7889947891235352,
          1.6377627849578857,
          0.2686332166194916,
          1.0269784927368164,
          1.409181833267212,
          2.3270652294158936,
          1.0158649682998657,
          1.9394290447235107,
          1.211747169494629,
          1.0085415840148926,
          1.3451719284057617,
          2.014887571334839,
          1.0763368606567383,
          0.9149606227874756,
          1.608062505722046,
          0.9691208004951477,
          1.7421637773513794,
          0.25085127353668213,
          1.3985860347747803,
          0.9046000242233276,
          1.2887738943099976,
          0.6616374850273132,
          0.5459214448928833,
          0.9963467717170715,
          1.0141222476959229,
          2.0845422744750977,
          0.6405829191207886,
          0,
          1.2671875953674316,
          0.7487781643867493,
          1.2851911783218384,
          1.403229832649231,
          2.5185816287994385,
          2.46543288230896,
          2.06855845451355,
          2.136810541152954,
          1.1369694471359253,
          2.0732343196868896,
          1.7490540742874146,
          1.9685583114624023,
          1.7020877599716187,
          2.028686761856079,
          0.2925437092781067,
          1.2168219089508057,
          1.4697297811508179,
          0.8427064418792725,
          2.583613872528076,
          0.790126383304596,
          0.5125211477279663,
          0.779079794883728,
          1.5736427307128906,
          1.085805058479309,
          1.1029924154281616,
          1.099168062210083,
          0.9271512031555176,
          1.2891621589660645,
          1.1465904712677002,
          0.9575816988945007,
          0.9349074959754944,
          1.8697514533996582,
          1.1357414722442627,
          1.8348504304885864,
          2.244095802307129,
          2.518156051635742,
          1.0533264875411987,
          0.5832614898681641,
          1.5776251554489136,
          2.092756986618042,
          0.9212072491645813,
          1.7579381465911865,
          0.8382618427276611,
          1.212416648864746,
          2.299713611602783,
          1.3004299402236938,
          1.5626722574234009,
          0.9552174210548401,
          1.7233365774154663,
          1.0510138273239136,
          0.7123041152954102,
          0.8125142455101013,
          1.3617020845413208,
          1.4763519763946533,
          1.1490026712417603,
          1.0262106657028198,
          0.2799728214740753,
          1.9653096199035645,
          1.0496150255203247,
          1.4245837926864624,
          1.4424958229064941,
          0.912450909614563,
          0.8297581076622009,
          2.0896401405334473,
          1.4991273880004883,
          1.08646559715271,
          1.1803076267242432,
          2.6005971431732178,
          1.1824259757995605,
          1.0169363021850586,
          1.7172895669937134,
          1.1046440601348877,
          1.1435885429382324,
          2.2877840995788574,
          0.3482864499092102,
          0.9124583005905151,
          1.272214651107788,
          0.8204400539398193,
          2.1054413318634033,
          2.018409490585327,
          0.9138969779014587,
          1.4813789129257202,
          0.8962770700454712,
          1.4911623001098633,
          2.5424928665161133,
          0.8858622908592224,
          2.154538154602051,
          0.6208012104034424,
          1.4233882427215576,
          0.5168982744216919,
          0.9868550896644592,
          1.860501766204834,
          1.4244320392608643,
          0.6316543817520142,
          1.6581043004989624,
          1.0303772687911987,
          0.7866286039352417,
          1.8384329080581665,
          1.2658854722976685,
          1.9887263774871826,
          0.75433748960495,
          1.3160088062286377,
          2.8800384998321533,
          1.8633781671524048,
          1.3839032649993896,
          1.455434799194336,
          1.4848312139511108,
          2.081634521484375,
          1.9167314767837524,
          1.1348134279251099,
          1.2273552417755127,
          1.1761311292648315,
          1.7223405838012695,
          0,
          1.7635303735733032,
          1.6808102130889893,
          1.6977782249450684,
          1.0870181322097778,
          0.1420862078666687,
          0.1420862078666687,
          0.1420862078666687,
          0.1420862078666687,
          0.1420862078666687,
          0.1420862078666687,
          0.14208626747131348,
          0.14208626747131348,
          1.9318583011627197,
          1.0495142936706543,
          1.8821667432785034,
          1.179579734802246,
          0.05642087757587433,
          0.5277884006500244,
          1.664537787437439,
          0,
          1.4206712245941162,
          1.0237351655960083,
          1.3267656564712524,
          1.4977892637252808,
          1.087184190750122,
          0.9223204851150513,
          0.6719337701797485,
          1.397711157798767,
          1.5382896661758423,
          1.201422095298767,
          1.205095887184143,
          1.0689151287078857,
          1.3052337169647217,
          1.3323372602462769,
          2.0543951988220215,
          0.6793834567070007,
          0.9046498537063599,
          1.3715620040893555,
          1.5108431577682495,
          0.009242504835128784,
          1.5146377086639404,
          1.012420654296875,
          1.0764477252960205,
          1.022756814956665,
          1.7094063758850098,
          2.540271759033203,
          1.9404034614562988,
          1.1590126752853394,
          3.096475839614868,
          1.4928884506225586,
          1.7718546390533447,
          1.4865620136260986,
          1.137789011001587,
          0.5535576343536377,
          0.5630626678466797,
          0.4705513119697571,
          0.5084677338600159,
          1.4120233058929443,
          0.9402657151222229,
          0.9740098118782043,
          1.1057143211364746,
          1.5132782459259033,
          1.2135522365570068,
          2.0728726387023926,
          1.6122705936431885,
          2.026665449142456,
          1.226024866104126,
          0.8695093989372253,
          0.05207275599241257,
          1.0394600629806519,
          2.0603349208831787,
          1.4718252420425415,
          1.4772028923034668,
          1.694338321685791,
          1.6500152349472046,
          1.0088671445846558,
          1.9355382919311523,
          1.0313762426376343,
          1.2742787599563599,
          1.6533362865447998,
          1.5356919765472412,
          1.286759376525879,
          0.10976890474557877,
          1.2011699676513672,
          1.8665308952331543,
          2.1546030044555664,
          1.5069606304168701,
          1.3999197483062744,
          1.8905370235443115,
          1.633341908454895,
          1.6199721097946167,
          1.4811640977859497,
          1.3021223545074463,
          2.377434015274048,
          0.8078020215034485,
          0.837967038154602,
          2.1128110885620117,
          0.781897246837616,
          1.6450024843215942,
          1.3255829811096191,
          2.1003899574279785,
          1.0918179750442505,
          1.6611863374710083,
          1.220386028289795,
          1.5733017921447754,
          1.1502680778503418,
          1.1502680778503418,
          0.8370840549468994,
          2.0893471240997314,
          1.2237426042556763,
          1.513966679573059,
          1.2641361951828003,
          1.975275993347168,
          1.7443456649780273,
          1.1884262561798096,
          1.5279241800308228,
          0.025714285671710968,
          1.6284457445144653,
          0.23354274034500122,
          0.8137011528015137,
          1.5467031002044678,
          1.1343615055084229,
          0.4094703793525696,
          1.0887163877487183,
          1.3441503047943115,
          1.716098666191101,
          1.363180160522461,
          1.327215552330017,
          1.318938970565796,
          1.6080522537231445,
          1.4567185640335083,
          1.4255738258361816,
          1.1070116758346558,
          1.0820342302322388,
          1.3316113948822021,
          1.4664372205734253,
          1.4638516902923584,
          2.0479092597961426,
          1.5482999086380005,
          1.3831032514572144,
          1.0011622905731201,
          0.7114206552505493,
          1.6549485921859741,
          1.1575307846069336,
          1.5219138860702515,
          1.5340971946716309,
          2.479116439819336,
          1.0239564180374146,
          0.5349461436271667,
          0.6492554545402527,
          1.3682600259780884,
          0.9824449419975281,
          1.352305293083191,
          1.028689980506897,
          0.9891607165336609,
          0,
          1.6730892658233643,
          1.417086124420166,
          1.2718106508255005,
          1.9147883653640747,
          1.9069781303405762,
          1.195122241973877,
          0.3228487968444824,
          0,
          1.483944058418274,
          0.9154025912284851,
          1.9780068397521973,
          1.3067549467086792,
          1.3094191551208496,
          1.396287202835083,
          2.0947275161743164,
          1.8818663358688354
         ],
         "yaxis": "y"
        }
       ],
       "layout": {
        "legend": {
         "tracegroupgap": 0
        },
        "template": {
         "data": {
          "bar": [
           {
            "error_x": {
             "color": "#2a3f5f"
            },
            "error_y": {
             "color": "#2a3f5f"
            },
            "marker": {
             "line": {
              "color": "#E5ECF6",
              "width": 0.5
             },
             "pattern": {
              "fillmode": "overlay",
              "size": 10,
              "solidity": 0.2
             }
            },
            "type": "bar"
           }
          ],
          "barpolar": [
           {
            "marker": {
             "line": {
              "color": "#E5ECF6",
              "width": 0.5
             },
             "pattern": {
              "fillmode": "overlay",
              "size": 10,
              "solidity": 0.2
             }
            },
            "type": "barpolar"
           }
          ],
          "carpet": [
           {
            "aaxis": {
             "endlinecolor": "#2a3f5f",
             "gridcolor": "white",
             "linecolor": "white",
             "minorgridcolor": "white",
             "startlinecolor": "#2a3f5f"
            },
            "baxis": {
             "endlinecolor": "#2a3f5f",
             "gridcolor": "white",
             "linecolor": "white",
             "minorgridcolor": "white",
             "startlinecolor": "#2a3f5f"
            },
            "type": "carpet"
           }
          ],
          "choropleth": [
           {
            "colorbar": {
             "outlinewidth": 0,
             "ticks": ""
            },
            "type": "choropleth"
           }
          ],
          "contour": [
           {
            "colorbar": {
             "outlinewidth": 0,
             "ticks": ""
            },
            "colorscale": [
             [
              0,
              "#0d0887"
             ],
             [
              0.1111111111111111,
              "#46039f"
             ],
             [
              0.2222222222222222,
              "#7201a8"
             ],
             [
              0.3333333333333333,
              "#9c179e"
             ],
             [
              0.4444444444444444,
              "#bd3786"
             ],
             [
              0.5555555555555556,
              "#d8576b"
             ],
             [
              0.6666666666666666,
              "#ed7953"
             ],
             [
              0.7777777777777778,
              "#fb9f3a"
             ],
             [
              0.8888888888888888,
              "#fdca26"
             ],
             [
              1,
              "#f0f921"
             ]
            ],
            "type": "contour"
           }
          ],
          "contourcarpet": [
           {
            "colorbar": {
             "outlinewidth": 0,
             "ticks": ""
            },
            "type": "contourcarpet"
           }
          ],
          "heatmap": [
           {
            "colorbar": {
             "outlinewidth": 0,
             "ticks": ""
            },
            "colorscale": [
             [
              0,
              "#0d0887"
             ],
             [
              0.1111111111111111,
              "#46039f"
             ],
             [
              0.2222222222222222,
              "#7201a8"
             ],
             [
              0.3333333333333333,
              "#9c179e"
             ],
             [
              0.4444444444444444,
              "#bd3786"
             ],
             [
              0.5555555555555556,
              "#d8576b"
             ],
             [
              0.6666666666666666,
              "#ed7953"
             ],
             [
              0.7777777777777778,
              "#fb9f3a"
             ],
             [
              0.8888888888888888,
              "#fdca26"
             ],
             [
              1,
              "#f0f921"
             ]
            ],
            "type": "heatmap"
           }
          ],
          "heatmapgl": [
           {
            "colorbar": {
             "outlinewidth": 0,
             "ticks": ""
            },
            "colorscale": [
             [
              0,
              "#0d0887"
             ],
             [
              0.1111111111111111,
              "#46039f"
             ],
             [
              0.2222222222222222,
              "#7201a8"
             ],
             [
              0.3333333333333333,
              "#9c179e"
             ],
             [
              0.4444444444444444,
              "#bd3786"
             ],
             [
              0.5555555555555556,
              "#d8576b"
             ],
             [
              0.6666666666666666,
              "#ed7953"
             ],
             [
              0.7777777777777778,
              "#fb9f3a"
             ],
             [
              0.8888888888888888,
              "#fdca26"
             ],
             [
              1,
              "#f0f921"
             ]
            ],
            "type": "heatmapgl"
           }
          ],
          "histogram": [
           {
            "marker": {
             "pattern": {
              "fillmode": "overlay",
              "size": 10,
              "solidity": 0.2
             }
            },
            "type": "histogram"
           }
          ],
          "histogram2d": [
           {
            "colorbar": {
             "outlinewidth": 0,
             "ticks": ""
            },
            "colorscale": [
             [
              0,
              "#0d0887"
             ],
             [
              0.1111111111111111,
              "#46039f"
             ],
             [
              0.2222222222222222,
              "#7201a8"
             ],
             [
              0.3333333333333333,
              "#9c179e"
             ],
             [
              0.4444444444444444,
              "#bd3786"
             ],
             [
              0.5555555555555556,
              "#d8576b"
             ],
             [
              0.6666666666666666,
              "#ed7953"
             ],
             [
              0.7777777777777778,
              "#fb9f3a"
             ],
             [
              0.8888888888888888,
              "#fdca26"
             ],
             [
              1,
              "#f0f921"
             ]
            ],
            "type": "histogram2d"
           }
          ],
          "histogram2dcontour": [
           {
            "colorbar": {
             "outlinewidth": 0,
             "ticks": ""
            },
            "colorscale": [
             [
              0,
              "#0d0887"
             ],
             [
              0.1111111111111111,
              "#46039f"
             ],
             [
              0.2222222222222222,
              "#7201a8"
             ],
             [
              0.3333333333333333,
              "#9c179e"
             ],
             [
              0.4444444444444444,
              "#bd3786"
             ],
             [
              0.5555555555555556,
              "#d8576b"
             ],
             [
              0.6666666666666666,
              "#ed7953"
             ],
             [
              0.7777777777777778,
              "#fb9f3a"
             ],
             [
              0.8888888888888888,
              "#fdca26"
             ],
             [
              1,
              "#f0f921"
             ]
            ],
            "type": "histogram2dcontour"
           }
          ],
          "mesh3d": [
           {
            "colorbar": {
             "outlinewidth": 0,
             "ticks": ""
            },
            "type": "mesh3d"
           }
          ],
          "parcoords": [
           {
            "line": {
             "colorbar": {
              "outlinewidth": 0,
              "ticks": ""
             }
            },
            "type": "parcoords"
           }
          ],
          "pie": [
           {
            "automargin": true,
            "type": "pie"
           }
          ],
          "scatter": [
           {
            "marker": {
             "colorbar": {
              "outlinewidth": 0,
              "ticks": ""
             }
            },
            "type": "scatter"
           }
          ],
          "scatter3d": [
           {
            "line": {
             "colorbar": {
              "outlinewidth": 0,
              "ticks": ""
             }
            },
            "marker": {
             "colorbar": {
              "outlinewidth": 0,
              "ticks": ""
             }
            },
            "type": "scatter3d"
           }
          ],
          "scattercarpet": [
           {
            "marker": {
             "colorbar": {
              "outlinewidth": 0,
              "ticks": ""
             }
            },
            "type": "scattercarpet"
           }
          ],
          "scattergeo": [
           {
            "marker": {
             "colorbar": {
              "outlinewidth": 0,
              "ticks": ""
             }
            },
            "type": "scattergeo"
           }
          ],
          "scattergl": [
           {
            "marker": {
             "colorbar": {
              "outlinewidth": 0,
              "ticks": ""
             }
            },
            "type": "scattergl"
           }
          ],
          "scattermapbox": [
           {
            "marker": {
             "colorbar": {
              "outlinewidth": 0,
              "ticks": ""
             }
            },
            "type": "scattermapbox"
           }
          ],
          "scatterpolar": [
           {
            "marker": {
             "colorbar": {
              "outlinewidth": 0,
              "ticks": ""
             }
            },
            "type": "scatterpolar"
           }
          ],
          "scatterpolargl": [
           {
            "marker": {
             "colorbar": {
              "outlinewidth": 0,
              "ticks": ""
             }
            },
            "type": "scatterpolargl"
           }
          ],
          "scatterternary": [
           {
            "marker": {
             "colorbar": {
              "outlinewidth": 0,
              "ticks": ""
             }
            },
            "type": "scatterternary"
           }
          ],
          "surface": [
           {
            "colorbar": {
             "outlinewidth": 0,
             "ticks": ""
            },
            "colorscale": [
             [
              0,
              "#0d0887"
             ],
             [
              0.1111111111111111,
              "#46039f"
             ],
             [
              0.2222222222222222,
              "#7201a8"
             ],
             [
              0.3333333333333333,
              "#9c179e"
             ],
             [
              0.4444444444444444,
              "#bd3786"
             ],
             [
              0.5555555555555556,
              "#d8576b"
             ],
             [
              0.6666666666666666,
              "#ed7953"
             ],
             [
              0.7777777777777778,
              "#fb9f3a"
             ],
             [
              0.8888888888888888,
              "#fdca26"
             ],
             [
              1,
              "#f0f921"
             ]
            ],
            "type": "surface"
           }
          ],
          "table": [
           {
            "cells": {
             "fill": {
              "color": "#EBF0F8"
             },
             "line": {
              "color": "white"
             }
            },
            "header": {
             "fill": {
              "color": "#C8D4E3"
             },
             "line": {
              "color": "white"
             }
            },
            "type": "table"
           }
          ]
         },
         "layout": {
          "annotationdefaults": {
           "arrowcolor": "#2a3f5f",
           "arrowhead": 0,
           "arrowwidth": 1
          },
          "autotypenumbers": "strict",
          "coloraxis": {
           "colorbar": {
            "outlinewidth": 0,
            "ticks": ""
           }
          },
          "colorscale": {
           "diverging": [
            [
             0,
             "#8e0152"
            ],
            [
             0.1,
             "#c51b7d"
            ],
            [
             0.2,
             "#de77ae"
            ],
            [
             0.3,
             "#f1b6da"
            ],
            [
             0.4,
             "#fde0ef"
            ],
            [
             0.5,
             "#f7f7f7"
            ],
            [
             0.6,
             "#e6f5d0"
            ],
            [
             0.7,
             "#b8e186"
            ],
            [
             0.8,
             "#7fbc41"
            ],
            [
             0.9,
             "#4d9221"
            ],
            [
             1,
             "#276419"
            ]
           ],
           "sequential": [
            [
             0,
             "#0d0887"
            ],
            [
             0.1111111111111111,
             "#46039f"
            ],
            [
             0.2222222222222222,
             "#7201a8"
            ],
            [
             0.3333333333333333,
             "#9c179e"
            ],
            [
             0.4444444444444444,
             "#bd3786"
            ],
            [
             0.5555555555555556,
             "#d8576b"
            ],
            [
             0.6666666666666666,
             "#ed7953"
            ],
            [
             0.7777777777777778,
             "#fb9f3a"
            ],
            [
             0.8888888888888888,
             "#fdca26"
            ],
            [
             1,
             "#f0f921"
            ]
           ],
           "sequentialminus": [
            [
             0,
             "#0d0887"
            ],
            [
             0.1111111111111111,
             "#46039f"
            ],
            [
             0.2222222222222222,
             "#7201a8"
            ],
            [
             0.3333333333333333,
             "#9c179e"
            ],
            [
             0.4444444444444444,
             "#bd3786"
            ],
            [
             0.5555555555555556,
             "#d8576b"
            ],
            [
             0.6666666666666666,
             "#ed7953"
            ],
            [
             0.7777777777777778,
             "#fb9f3a"
            ],
            [
             0.8888888888888888,
             "#fdca26"
            ],
            [
             1,
             "#f0f921"
            ]
           ]
          },
          "colorway": [
           "#636efa",
           "#EF553B",
           "#00cc96",
           "#ab63fa",
           "#FFA15A",
           "#19d3f3",
           "#FF6692",
           "#B6E880",
           "#FF97FF",
           "#FECB52"
          ],
          "font": {
           "color": "#2a3f5f"
          },
          "geo": {
           "bgcolor": "white",
           "lakecolor": "white",
           "landcolor": "#E5ECF6",
           "showlakes": true,
           "showland": true,
           "subunitcolor": "white"
          },
          "hoverlabel": {
           "align": "left"
          },
          "hovermode": "closest",
          "mapbox": {
           "style": "light"
          },
          "paper_bgcolor": "white",
          "plot_bgcolor": "#E5ECF6",
          "polar": {
           "angularaxis": {
            "gridcolor": "white",
            "linecolor": "white",
            "ticks": ""
           },
           "bgcolor": "#E5ECF6",
           "radialaxis": {
            "gridcolor": "white",
            "linecolor": "white",
            "ticks": ""
           }
          },
          "scene": {
           "xaxis": {
            "backgroundcolor": "#E5ECF6",
            "gridcolor": "white",
            "gridwidth": 2,
            "linecolor": "white",
            "showbackground": true,
            "ticks": "",
            "zerolinecolor": "white"
           },
           "yaxis": {
            "backgroundcolor": "#E5ECF6",
            "gridcolor": "white",
            "gridwidth": 2,
            "linecolor": "white",
            "showbackground": true,
            "ticks": "",
            "zerolinecolor": "white"
           },
           "zaxis": {
            "backgroundcolor": "#E5ECF6",
            "gridcolor": "white",
            "gridwidth": 2,
            "linecolor": "white",
            "showbackground": true,
            "ticks": "",
            "zerolinecolor": "white"
           }
          },
          "shapedefaults": {
           "line": {
            "color": "#2a3f5f"
           }
          },
          "ternary": {
           "aaxis": {
            "gridcolor": "white",
            "linecolor": "white",
            "ticks": ""
           },
           "baxis": {
            "gridcolor": "white",
            "linecolor": "white",
            "ticks": ""
           },
           "bgcolor": "#E5ECF6",
           "caxis": {
            "gridcolor": "white",
            "linecolor": "white",
            "ticks": ""
           }
          },
          "title": {
           "x": 0.05
          },
          "xaxis": {
           "automargin": true,
           "gridcolor": "white",
           "linecolor": "white",
           "ticks": "",
           "title": {
            "standoff": 15
           },
           "zerolinecolor": "white",
           "zerolinewidth": 2
          },
          "yaxis": {
           "automargin": true,
           "gridcolor": "white",
           "linecolor": "white",
           "ticks": "",
           "title": {
            "standoff": 15
           },
           "zerolinecolor": "white",
           "zerolinewidth": 2
          }
         }
        },
        "title": {
         "text": "Autoencoder 차원축소"
        },
        "xaxis": {
         "anchor": "y",
         "domain": [
          0,
          1
         ],
         "title": {
          "text": "x"
         }
        },
        "yaxis": {
         "anchor": "x",
         "domain": [
          0,
          1
         ],
         "title": {
          "text": "y"
         }
        }
       }
      },
      "text/html": [
       "<div>                            <div id=\"ba541ff7-0de9-4f79-9c95-f0ff76753484\" class=\"plotly-graph-div\" style=\"height:525px; width:100%;\"></div>            <script type=\"text/javascript\">                require([\"plotly\"], function(Plotly) {                    window.PLOTLYENV=window.PLOTLYENV || {};                                    if (document.getElementById(\"ba541ff7-0de9-4f79-9c95-f0ff76753484\")) {                    Plotly.newPlot(                        \"ba541ff7-0de9-4f79-9c95-f0ff76753484\",                        [{\"customdata\":[[\"\\ubaa8\\ub4e0\\uac8c \\uc9c0\\ub098\\uba74\",\"\\ud654\\ub791\",\"\\ubba4\\uc9c0\\uceec, \\uc0ac\\ub791\",\"['\\uacbd\\ucf8c\\ud55c', '\\ud589\\ubcf5\\ud55c']\"],[\"\\ub9c8\\uc74c (*\\ucde8\\uae09\\uc8fc\\uc758)\",\"\\ub7ec\\ube14\\ub9ac\\uc988\",\"\\ub304\\uc2a4, \\uc0c8\\ud574, \\ud5ec\\uc2a4, \\uc6b4\\ub3d9\\ud560\\ub54c, \\uce74\\ud398, \\ub4dc\\ub77c\\uc774\\ube0c, \\uc2e0\\ub098\\ub294, \\ube44\\uc624\\ub294\\ub0a0, \\uae30\\ubd84\\uc804\\ud658, \\ubd04, \\ubd04\\ub178\\ub798, \\ud734\\uc2dd, \\ud790\\ub9c1, \\uc124\\ub818, \\uc774\\ubcc4, \\uc9dd\\uc0ac\\ub791, \\uc0ac\\ub791, \\ub178\\ub3d9\\uc694, \\ub098\\ub4e4\\uc774, \\ub2ec\\ub2ec, \\uace0\\ubc31, \\ub2ec\\ucf64\\ud55c, \\uc794\\uc794\\ud55c, \\uc0c8\\ubcbd, \\ub099\\uc5fd, \\uac10\\uc131\\uc801\\uc778, \\uc0c1\\ud07c, \\ud1a0\\ub2e5\\ud1a0\\ub2e5, \\ud06c\\ub9ac\\uc2a4\\ub9c8\\uc2a4, \\ud63c\\uc220, \\uc0b0\\ucc45, \\ud798\\ub0b4, \\uc5ec\\uc720, \\ub370\\uc774\\ud2b8, \\ubc9a\\uaf43, \\uac00\\uc744, \\uc6b4\\ub3d9, \\uc5ec\\ud589, \\uccad\\ub7c9, \\uc704\\ub85c, \\ub9c8\\uc74c, \\ud765\\ud3ed\\ubc1c, \\uc2a4\\ud2b8\\ub808\\uc2a4, \\ubc24, \\ucd94\\uc5b5, \\ud68c\\uc0c1, \\uc2a4\\ud2b8\\ub808\\uc2a4\\ud574\\uc18c, \\uc5ec\\ub984, \\uc5f0\\uc560, \\uc2e0\\ub098, \\uae4c\\ud398, \\uc77c\\uc0c1, \\ubd04\\ub0a0\",\"['\\ud589\\ubcf5\\ud55c']\"],[\"\\ub450\\ub2ec \\ub4a4 \\ubd80\\ub974\\ub294 \\ub178\\ub798\",\"\\ud50c\\ub77c\\uc6cc\\ub514\\uc5b4 (Flour Deer)\",\"\\ube44\\uc624\\ub294\\ub0a0, \\ube44, \\uc2ac\\ud508, \\uc9d1\\uc911, \\uc5ec\\uc720, \\uce74\\ud398, \\uc0c8\\ubcbd, \\uc8fc\\ub9d0, \\ud790\\ub9c1, \\uc791\\uc5c5, \\ubc24\",\"['\\uc6b0\\uc6b8\\ud55c']\"],[\"\\ube44\\ubc00\",\"\\uce90\\uc2a4\\ucee4\",\"\\uc774\\ubcc4, \\uc2ac\\ud514, \\uc124\\ub818, \\uc0ac\\ub791\",\"['\\uc6b0\\uc6b8\\ud55c']\"],[\"\\uc57d\\uc18d\",\"KYT (\\ucf54\\uc694\\ud0dc)\",\"\\uc2ac\\ud514, \\ucd94\\uc5b5, \\uc774\\ubcc4, \\ud68c\\uc0c1, \\uae30\\ubd84\\uc804\\ud658\",\"['\\ud589\\ubcf5\\ud55c', '\\uc794\\uc794\\ud55c']\"],[\"\\uc57d\\uc18d\",\"\\ud5c8\\uacf5\",\"\\uc2ac\\ud514, \\ucd94\\uc5b5, \\uc774\\ubcc4, \\ud68c\\uc0c1, \\uae30\\ubd84\\uc804\\ud658\",\"['\\ud589\\ubcf5\\ud55c', '\\uc794\\uc794\\ud55c']\"],[\"\\uc57d\\uc18d\",\"KYT (\\ucf54\\uc694\\ud0dc)\",\"\\ucd94\\uc5b5, \\ud68c\\uc0c1, \\uc2ac\\ud514, \\uadf8\\ub9ac\\uc6c0, \\ubba4\\uc9c0\\uceec, \\uac10\\ub3d9, \\uc0b0\\ucc45, \\ud589\\ubcf5, \\uacf5\\uac10, \\ud734\\uc2dd, \\uc0ac\\ub791, \\ubc24, \\uc774\\ubcc4, \\uc0c8\\ubcbd, \\ud790\\ub9c1\",\"['\\uc794\\uc794\\ud55c']\"],[\"\\uc57d\\uc18d\",\"\\ud5c8\\uacf5\",\"\\ucd94\\uc5b5, \\ud68c\\uc0c1, \\uc2ac\\ud514, \\uadf8\\ub9ac\\uc6c0, \\ubba4\\uc9c0\\uceec, \\uac10\\ub3d9, \\uc0b0\\ucc45, \\ud589\\ubcf5, \\uacf5\\uac10, \\ud734\\uc2dd, \\uc0ac\\ub791, \\ubc24, \\uc774\\ubcc4, \\uc0c8\\ubcbd, \\ud790\\ub9c1\",\"['\\uc794\\uc794\\ud55c']\"],[\"\\uac70\\ub9ac\\uc5d0\\uc11c\",\"\\uc544\\uc2dc\\uc548\\uccb4\\uc5b4\\uc0f7 (Asian Chairshot)\",\"\\uac10\\ub3d9, \\ubba4\\uc9c0\\uceec\",\"['\\ud589\\ubcf5\\ud55c', '\\uacbd\\ucf8c\\ud55c']\"],[\"\\uac70\\ub9ac\\uc5d0\\uc11c\",\"\\ubba4\\uc9c0\\uceec \\uc6e8\\uc787\\ud3ec\\uc720 (Musical Wait For You)\",\"\\uac10\\ub3d9, \\ubba4\\uc9c0\\uceec\",\"['\\ud589\\ubcf5\\ud55c', '\\uacbd\\ucf8c\\ud55c']\"],[\"\\ucc3d\\uac00\\uc758 \\uc774\\ubcc4\",\"\\uc9c0\\ud3c9\\uad8c\",\"\\ucd94\\uc5b5\",\"['\\ud589\\ubcf5\\ud55c']\"],[\"Leader Of The Landslide\",\"The Lumineers\",\"\\ud734\\uc2dd, \\ub4dc\\ub77c\\uc774\\ube0c, \\uae30\\ubd84\\uc804\\ud658, \\ubd84\\uc704\\uae30, \\ud3b8\\uc548\\ud55c\",\"['\\uc794\\uc794\\ud55c', '\\ud589\\ubcf5\\ud55c']\"],[\"Karate (Original Mix)\",\"R3hab, Kshmr\",\"\\uc2a4\\ud2b8\\ub808\\uc2a4, \\uae30\\ubd84\\uc804\\ud658, \\ud398\\uc2a4\\ud2f0\\ubc8c, \\ud074\\ub7fd, \\ud5ec\\uc2a4, \\ub304\\uc2a4, \\uc2e0\\ub098\\ub294, \\uc5ec\\ub984, \\ub4dc\\ub77c\\uc774\\ube0c, \\uc5ec\\ud589, \\ucda4, \\uc6b4\\ub3d9\\ud560\\ub54c, \\ud5ec\\uc2a4\\uc7a5\",\"['\\uacbd\\ucf8c\\ud55c']\"],[\"Mixtape#3\",\"Stray Kids (\\uc2a4\\ud2b8\\ub808\\uc774 \\ud0a4\\uc988)\",\"\\uae30\\ubd84\\uc804\\ud658\",\"['\\ud589\\ubcf5\\ud55c']\"],[\"Killing Me\",\"\\ube44\\ud22c\\ube44\",\"\\uac00\\uc744\\uac10\\uc131, \\uc2e0\\ub098\\ub294, \\uc0ac\\ub791, \\uc774\\ubcc4, \\ub304\\uc2a4, \\uc2ac\\ud514, \\uc124\\ub818, \\ud790\\ub9c1, \\ud734\\uc2dd, \\uae30\\ubd84\\uc804\\ud658, \\ub0b4\\uc801\\ub304\\uc2a4, \\uc704\\ub85c, \\ud798\\ub4e4\\ub54c, \\ud55c\\uac15, \\uc6b4\\ub3d9, \\ub4dc\\ub77c\\uc774\\ube0c, \\uc990\\uac70\\uc6b4, \\uce5c\\uad6c, \\ubd04, \\uc544\\uce68, \\uc2a4\\ud2b8\\ub808\\uc2a4\\ud574\\uc18c, \\uc2dc\\uc6d0, \\uccad\\ub7c9, \\ud558\\ub298, \\ubc14\\ub2e4, \\uac10\\ub3d9, \\ud76c\\ub9dd, \\uc794\\uc794\\ud55c, \\ubc24, \\uc0c8\\ubcbd, \\uaca8\\uc6b8, \\uc6b0\\uc6b8, \\uac00\\uc744\\ubc24, \\uac00\\uc744, \\uc544\\ub828\\ud55c, \\uc560\\uc808\\ud55c, \\uc13c\\uce58, \\uadf8\\ub9ac\\uc6c0, \\ucd94\\uc5b5, \\ube44\\uc624\\ub294\\ub0a0, \\ube44, \\uc139\\uc2dc, \\uce74\\ud398, \\uc7a0\\ub4e4\\uae30\\uc804, \\ud68c\\uc0c1, \\ub2a6\\uc740\\ubc24, \\ubd84\\uc704\\uae30\",\"['\\ud589\\ubcf5\\ud55c']\"],[\"\\ucd09\\ucd09\\ucd09 Waltz\",\"\\uc190\\ub3d9\\uc6b4, \\uc774\\uc2dc\\uc720, \\uc720\\uc8fc\\ud61c\",\"\\ud790\\ub9c1, \\ud734\\uc2dd, \\uae30\\ubd84\\uc804\\ud658\",\"['\\ud589\\ubcf5\\ud55c']\"],[\"Return To..\",\"MOJO (\\ubaa8\\uc870)\",\"\\ud734\\uc2dd, \\uc7a0\\uc798\\ub54c\",\"['\\uc794\\uc794\\ud55c']\"],[\"\\ub108\\uc5d0\\uac8c \\ubb3c\\ub4e4\\uc5b4\",\"\\ud615\\uc12dX\\uc758\\uc6c5\",\"\\ud53c\\ud06c\\ub2c9, \\ubd04, \\ubd04\\ub178\\ub798, \\uc18c\\ud48d, \\ubc9a\\uaf43, \\ub304\\uc2a4, \\ub4dc\\ub77c\\uc774\\ube0c, \\uacbd\\ucf8c\\ud55c, \\uc5ec\\ud589, \\uc2dc\\uc6d0\\ud55c, \\uae30\\ubd84\\uc804\\ud658, \\uccad\\ub7c9\\ud55c, \\uc2e0\\ub098\\ub294, \\uccad\\ub7c9, \\uc0c1\\ud07c, \\ud5ec\\uc2a4, \\uc6b4\\ub3d9, \\ub530\\ub4ef\\ud55c, \\uce74\\ud398, \\uaca8\\uc6b8, \\ud3b8\\uc548\\ud55c, \\uc0ac\\ub791, \\ub370\\uc774\\ud2b8, \\ud5ec\\uc2a4\\uc7a5, \\uc5ec\\ub984, \\uc5f4\\ub300\\uc57c, \\ub2ec\\ucf64\\ud55c, \\ud734\\uac00, \\ub178\\ub3d9\\uc694, \\uc6b4\\uc804, \\ud734\\uc2dd, \\uc124\\ub808\\uc784, \\uc0c1\\ud07c\\ud55c, \\ucd94\\uc5b5\",\"['\\ud589\\ubcf5\\ud55c']\"],[\"Loving U\",\"\\uae40\\uc885\\uc11c\",\"\\uc124\\ub808\\uc784, \\ud589\\ubcf5, \\uace0\\ubc31, \\uc124\\ub818, \\uc0ac\\ub791, \\uc5f0\\uc778, \\uc2ec\\ucff5, \\ud790\\ub9c1, \\ud734\\uc2dd, \\uc794\\uc794\\ud55c, \\uae30\\ubd84\\uc804\\ud658, \\uc0c1\\ud07c\\ud55c, \\uc0b0\\ucc45, \\ucc28\\ubd84\\ud55c, \\ub9d1\\uc740, \\uc544\\ub828\\ud55c, \\ub370\\uc774\\ud2b8, \\ud3ec\\uadfc\\ud55c, \\ub304\\uc2a4\",\"['\\ud589\\ubcf5\\ud55c']\"],[\"\\ud55c \\ud3ed\\uc758 \\uadf8\\ub9bc (Paradise)\",\"S.E.S.\",\"\\uae30\\ubd84\\uc804\\ud658, \\uc5ec\\ub984, \\uc2dc\\uc6d0\\ud55c, \\uccad\\ub7c9, \\ubb34\\ub354\\uc704, \\ub304\\uc2a4, \\ucd94\\uc5b5, \\ub4dc\\ub77c\\uc774\\ube0c, \\uc5ec\\ud589, \\ub530\\ub73b\\ud55c, \\uc124\\ub818, \\uc0ac\\ub791, \\uc2e0\\ub098\\ub294, \\ud765\\uaca8\\uc6b4, \\uac10\\ubbf8\\ub85c\\uc6b4, \\ubd04\\ub0a0, \\uc0c1\\ud07c, \\ubd04, \\uac00\\uc744\",\"['\\ud589\\ubcf5\\ud55c']\"],[\"\\uc774\\uc820 \\uc815\\ub9d0 \\ub9cc\\ub098\\uc57c \\ud560 \\ub54c\",\"\\uc804\\ubcd1\\uc6b1, \\uc624\\ub9cc\\uc11d, \\uc624\\ub098\\ub77c\",\"\\ubba4\\uc9c0\\uceec\",\"['\\uacbd\\ucf8c\\ud55c']\"],[\"Everybody Had A Hard Year\",\"Marz\",\"\\uae30\\ubd84\\uc804\\ud658, \\ub4dc\\ub77c\\uc774\\ube0c\",\"['\\ud589\\ubcf5\\ud55c']\"],[\"Stop Snitchin\",\"YG\",\"\\uc2a4\\ud3ec\\uce20, \\uc6b4\\ub3d9, \\ub2ec\\ub9ac\\uae30, \\ud5ec\\uc2a4, \\uac15\\ub82c\\ud55c, \\uae30\\ubd84\\uc804\\ud658, \\ud5ec\\uc2a4\\uc7a5, \\ud30c\\ud2f0, \\uc2e0\\ub098\\ub294\",\"['\\uacbd\\ucf8c\\ud55c']\"],[\"U Know (Feat. Basick)\",\"LUKA (ARTMATIC)\",\"\\ud790\\ub9c1, \\ud734\\uc2dd, \\uae30\\ubd84\\uc804\\ud658, \\ub304\\uc2a4\",\"['\\ud589\\ubcf5\\ud55c']\"],[\"Wrecking Ball\",\"Dami Im\",\"\\uc2dc\\uc6d0\\ud55c, \\ubd84\\uc704\\uae30, \\ubabd\\ud658, \\uc0c8\\ubcbd, \\ud790\\ub9c1, \\ud734\\uc2dd, \\uc794\\uc794\\ud55c\",\"['\\uc794\\uc794\\ud55c']\"],[\"\\uadf8 \\uacf3 (Feat. \\uae40\\ud0dc\\ud64d)\",\"\\ud5c8\\uc900\\ubc94\",\"\\uae4c\\ud398\",\"['\\uc794\\uc794\\ud55c']\"],[\"Mr. BADBOY\",\"\\uc6b0\\uc8fc\\uc18c\\ub140\",\"\\uc5ec\\ub984, \\ub4dc\\ub77c\\uc774\\ube0c, \\ub304\\uc2a4\",\"['\\uacbd\\ucf8c\\ud55c']\"],[\"\\uba40\\ub6b1\\uba40\\ub6b1\",\"\\uc5b4\\ucfe0\\uc194\\uc7c8 (ACOUSOLJAH)\",\"\\ub178\\ub3d9\\uc694, \\ub304\\uc2a4, \\uc624\\ud6c4, \\uc2e0\\ub098\\ub294\",\"['\\ud589\\ubcf5\\ud55c']\"],[\"Mack The Knife\",\"Westlife\",\"\\ub4dc\\ub77c\\uc774\\ube0c, \\uc5ec\\ud589\",\"['\\ud589\\ubcf5\\ud55c']\"],[\"\\ud30c\\ub9ac\\uc758 \\uba5c\\ub85c\\ub514\",\"\\uae40\\uc18c\\ud604, \\ubba4\\uc9c0\\uceec \\ud32c\\ud140 2016 \\uc559\\uc0c1\\ube14\",\"\\ubba4\\uc9c0\\uceec\",\"['\\uacbd\\ucf8c\\ud55c']\"],[\"Again (Armin Van Buuren Remix) (Feat. Betsie Larkin)\",\"Armin van Buuren presents Rising Star\",\"\\uc2e0\\ub098\\ub294, \\ub304\\uc2a4, \\uc6b4\\ub3d9, \\ud30c\\ud2f0\",\"['\\uacbd\\ucf8c\\ud55c']\"],[\"\\ub2a6\\uc740 \\ubc24, \\uc6b0\\ub9ac (Album Ver.)\",\"\\ud53c\\uadf8\\ub9d0\\ub9ac\\uc628\",\"\\ub370\\uc774\\ud2b8, \\ubd04, \\uc124\\ub818, \\uc0ac\\ub791\",\"['\\ud589\\ubcf5\\ud55c']\"],[\"No Surprises (Remastered)\",\"Radiohead\",\"\\ube44\\uc624\\ub294\\ub0a0, \\ud750\\ub9b0\\ub0a0, \\uce74\\ud398, \\uc0c8\\ubcbd, \\uc6b0\\uc6b8, \\ub4dc\\ub77c\\uc774\\ube0c, \\uae30\\ubd84\\uc804\\ud658, \\uc2e0\\ub098\\ub294, \\uc794\\uc794\\ud55c, \\ubc24, \\uc0c8\\ubcbd\\uac10\\uc131, \\uace0\\ub3c5, \\uc2a4\\ud2b8\\ub808\\uc2a4, \\ud558\\ub8e8, \\uc5ec\\uc720, \\uc9d1, \\ud798\\ub0b4, \\uc77c\\uc0c1, \\ud1f4\\uadfc\\uae38, \\uc9c0\\uce5c, \\uc5ec\\ud589, \\uc0b0\\ucc45, \\ud734\\uc2dd, \\uc0ac\\ub791, \\uc774\\ubcc4, \\ubc34\\ub4dc, \\ucd94\\uc5b5, \\uc0c1\\ucf8c, \\uac00\\uc744\",\"['\\ud589\\ubcf5\\ud55c']\"],[\"\\ud1a1\\ud1a1\",\"\\uba54\\ub9ac\\ub77c\\uc6b4\\ub4dc\",\"\\ub2ec\\ub2ec\\ud55c, \\ucd9c\\uadfc, \\uc124\\ub808\\uc784, \\ud589\\ubcf5, \\uae30\\ubd84\\uc804\\ud658, \\uc0ac\\ub791, \\ud1f4\\uadfc\\uae38, \\ubd04, \\uae4c\\ud398, \\uaf43, \\ub2ec\\ub2ec, \\ubc9a\\uaf43, \\uc5ec\\ud589, \\uc124\\ub818, \\uc378, \\uce5c\\uad6c, \\ube44\\uc624\\ub294\\ub0a0, \\ubd04\\ub178\\ub798, \\uc0b0\\ucc45, \\ud734\\uc2dd, \\ud790\\ub9c1, \\uc0c1\\ud07c, \\uc9dd\\uc0ac\\ub791, \\uce74\\ud398, \\ubd04\\ub0a0, \\uc5f0\\uc560, \\uc6b0\\uc6b8\\ud560\\ub54c, \\ub4dc\\ub77c\\uc774\\ube0c, \\uc704\\ub85c, \\uc2a4\\ud2b8\\ub808\\uc2a4, \\ub530\\ub73b\\ud55c\",\"['\\ud589\\ubcf5\\ud55c']\"],[\"\\uace8\\uace0\\ub2e4\",\"\\ud55c\\uc9c0\\uc0c1\",\"\\ubba4\\uc9c0\\uceec, \\uc0ac\\ub791\",\"['\\uacbd\\ucf8c\\ud55c', '\\ud589\\ubcf5\\ud55c']\"],[\"\\uc2dc\\uac04\\uc774 \\ud750\\ub978 \\ub4a4\\uc5d4\",\"\\uc6a9\\uc900\\ud615, \\ube44\\ud22c\\ube44\",\"\\uc0c8\\ubcbd, \\ucd94\\uc5b5, \\ubc24, \\ud68c\\uc0c1, \\ub4dc\\ub77c\\uc774\\ube0c, \\uae4c\\ud398, \\uaca8\\uc6b8, \\ud734\\uc2dd, \\uc6b4\\ub3d9, \\uc5ec\\ud589, \\uae30\\ubd84\\uc804\\ud658, \\ube44\\uc624\\ub294\\ub0a0, \\uc794\\uc794\\ud55c, \\uc0ac\\ub791, \\uc124\\ub818, \\uc0b0\\ucc45, \\uc774\\ubcc4, \\uadf8\\ub9ac\\uc6c0, \\uaca8\\uc6b8\\uac10\\uc131, \\ub208, \\uc5f0\\uc778, \\uc77c\\uc0c1, \\uc2ac\\ud514, \\ud790\\ub9c1, \\uc2a4\\ud2b8\\ub808\\uc2a4, \\ubd84\\uc704\\uae30, \\uc5ec\\ub984, \\uc7a5\\ub9c8, \\ube44, \\ud5e4\\uc5b4\\uc9d0, \\uc5ec\\ub984\\ubc24, \\uc544\\ub828\\ud55c\",\"['\\ud589\\ubcf5\\ud55c']\"],[\"\\uc190\\ub4e4\\uc5b4\",\"GOT7 (\\uac13\\uc138\\ube10)\",\"\\ub178\\ub3d9\\uc694, \\ub304\\uc2a4, \\ub4e4\\uc369\\ub4e4\\uc369, \\uc2a4\\ud2b8\\ub808\\uc2a4\",\"['\\uae34\\uc7a5\\ub418\\ub294', '\\uacbd\\ucf8c\\ud55c']\"],[\"\\ud658\\uc601\\ubb38(\\u6b61\\u8fce\\u6587)\",\"\\ud074\\ub9ad\\ube44 (Click-B)\",\"\\ub304\\uc2a4, \\uae30\\ubd84\\uc804\\ud658\",\"['\\uacbd\\ucf8c\\ud55c']\"],[\"\\ub2c8\\uac00 \\uc544\\ub2c8\\uba74 (Feat. \\ube14\\ub8e8\\ub2c8 of \\uc704\\uc704)\",\"109\",\"\\uaca8\\uc6b8, \\uc800\\ub141, \\uaca8\\uc6b8\\uac10\\uc131, \\uce74\\ud398, \\uaca8\\uc6b8\\ubc24, \\ub4dc\\ub77c\\uc774\\ube0c, \\uc8fc\\ub9d0, \\uae30\\ubd84\\uc804\\ud658, \\ub530\\ub73b\\ud55c, \\ucd94\\uc5b5, \\ubd88\\uae08, \\uc624\\ud6c4, \\ucee4\\ud53c, \\uc0ac\\ub791, \\ub85c\\ub9e8\\ud2f1, \\ucc2c\\ubc14\\ub78c, \\uccab\\ub208, \\uc774\\ubcc4, \\ucd9c\\uadfc\\uae38, \\uc0c8\\ubcbd, \\ud734\\uc2dd, \\ubc24, \\ud790\\ub9c1, \\uacf5\\ubd80, \\uc704\\ub85c, \\uc794\\uc794\\ud55c, \\ub098\\ub978\\ud55c, \\ud06c\\ub9ac\\uc2a4\\ub9c8\\uc2a4, \\uc5f0\\ub9d0, \\uae4c\\ud398, \\ube44\\uc624\\ub294\\ub0a0, \\uce90\\ub7f4, \\uc6d4\\uc694\\ubcd1, \\ub178\\ub3d9\\uc694, \\ud3ec\\uadfc\\ud55c, \\ud3b8\\uc548\\ud55c, \\ub530\\uc2a4\\ud55c, \\ud53c\\ud06c\\ub2c9, \\ub2ec\\ub2ec\\ud55c, \\ud734\\uc77c, \\uc5ec\\ud589, \\uc2ac\\ud514, \\ubd04, \\uc124\\ub818, \\uc9d1\\uc911, \\uc720\\ub2c8\\ud06c\",\"['\\uc794\\uc794\\ud55c']\"],[\"You Make My Life a Better Place\",\"Mamas Gun\",\"\\uce74\\ud398, \\ub4dc\\ub77c\\uc774\\ube0c, \\uae30\\ubd84\\uc804\\ud658, \\uc5ec\\ud589\",\"['\\ud589\\ubcf5\\ud55c']\"],[\"Serendipity (Full Length Edition)\",\"\\ubc29\\ud0c4\\uc18c\\ub144\\ub2e8\",\"\\ud734\\uc2dd, \\uc0ac\\ub791, \\uc2e0\\ub098\\ub294, \\ub2ec\\ub2ec\\ud55c, \\uc5f0\\uc560, \\uc124\\ub818, \\uc124\\ub808\\ub294, \\uce74\\ud398, \\ubd84\\uc704\\uae30, \\ubc24, \\uc0c8\\ubcbd, \\uae30\\ubd84\\uc804\\ud658, \\ub4dc\\ub77c\\uc774\\ube0c, \\uc5ec\\ud589, \\uc13c\\uce58, \\uc6b0\\uc6b8, \\uc794\\uc794\\ud55c, \\ud53c\\ud06c\\ub2c9, \\ubd04, \\ubd04\\ub0a0, \\ubc9a\\uaf43, \\ud3b8\\uc548\\ud55c, \\ucd94\\uc5b5, \\uac00\\uc744, \\ud68c\\uc0c1, \\uc7a0\\ub4e4\\uae30\\uc804, \\uc0b0\\ucc45, \\ub304\\uc2a4, \\uc794\\uc794, \\uc704\\ub85c, \\ud798\\ub0b4, \\ubabd\\ud658\\uc801\\uc778, \\ud790\\ub9c1, \\ubabd\\ud658, \\uaca8\\uc6b8\",\"['\\ud589\\ubcf5\\ud55c']\"],[\"Once Again\",\"\\uba38\\ub2c8\",\"\\ube44\\uc624\\ub294\\ub0a0, \\ubc24, \\uc0c8\\ubcbd\",\"['\\uc6b0\\uc6b8\\ud55c']\"],[\"\\ubb3c\\ube5b\\uc758 \\uc5ec\\ub984\",\"\\uc5d0\\ub808\\ub098\",\"\\ud790\\ub9c1, \\ud734\\uc2dd, \\uae4c\\ud398\",\"['\\uc794\\uc794\\ud55c']\"],[\"It`s Alright, It`s OK\",\"Ashley Tisdale\",\"\\uc2a4\\ud2b8\\ub808\\uc2a4, \\uae30\\ubd84\\uc804\\ud658, \\uc2ac\\ud514, \\uc774\\ubcc4, \\uc124\\ub818, \\uc0ac\\ub791, \\uc5ec\\ub984, \\uc6b4\\ub3d9, \\ub4dc\\ub77c\\uc774\\ube0c, \\uc77c\\uc0c1, \\uc2e0\\ub098\\ub294, \\uae4c\\ud398, \\uccad\\ub7c9\\uac10, \\uc544\\uce68, \\uccad\\ucd98, \\ub304\\uc2a4\",\"['\\ud589\\ubcf5\\ud55c']\"],[\"Time After Time\",\"Various Artists\",\"\\uaca8\\uc6b8, \\ubc24, \\uac00\\uc744, \\ud790\\ub9c1, \\ucc2c\\ubc14\\ub78c\",\"['\\uc794\\uc794\\ud55c']\"],[\"Time After Time\",\"Various Artists\",\"\\uc5ec\\ub984, \\uce74\\ud398, \\uc794\\uc794\\ud55c, \\uc0c8\\ubcbd, \\uc791\\uc5c5, \\ubc24, \\uc704\\ub85c, \\ud734\\uc2dd, \\ud790\\ub9c1, \\ud3b8\\uc548\\ud55c, \\ubd84\\uc704\\uae30, \\ucee4\\ud53c\",\"['\\uc794\\uc794\\ud55c']\"],[\"\\ud558\\ub8e8 \\ub610 \\ud558\\ub8e8\",\"\\ub958\\uc815\\ud55c, \\uc784\\ud61c\\uc601\",\"\\ubba4\\uc9c0\\uceec, \\uac10\\ub3d9, \\ud790\\ub9c1, \\ud734\\uc2dd, \\uc794\\uc794\\ud55c, \\uc0ac\\ub791\",\"['\\uacbd\\ucf8c\\ud55c']\"],[\"\\uc78a\\ud600\\uc9c4 \\uc0ac\\ub791\",\"\\ud074\\ub9ad\\ube44 (Click-B)\",\"\\ub304\\uc2a4, \\uc6b4\\ub3d9, \\ucd94\\uc5b5, \\ub4dc\\ub77c\\uc774\\ube0c, \\uae30\\ubd84\\uc804\\ud658, \\uc2a4\\ud2b8\\ub808\\uc2a4, \\uc2e0\\ub098\\ub294, \\ud68c\\uc0c1, \\ud5ec\\uc2a4\\uc7a5, \\ub7f0\\ub2dd, \\ud1f4\\uadfc\\uae38, \\uc5ec\\ud589, \\uc0b0\\ucc45, \\uc794\\uc794\\ud55c, \\ub178\\ub3d9\\uc694, \\uc990\\uac70\\uc6b4, \\ubd04\",\"['\\uacbd\\ucf8c\\ud55c']\"],[\"\\uc27c\\uc774 \\ud544\\uc694\\ud574\",\"\\uc624\\uc5f0\\uc900\",\"\\uc6b0\\uc6b8\\ud560\\ub54c, \\uae30\\ubd84\\uc804\\ud658, \\uc2a4\\ud2b8\\ub808\\uc2a4\\ud574\\uc18c\",\"['\\uc6b0\\uc6b8\\ud55c', '\\ud589\\ubcf5\\ud55c', '\\uacbd\\ucf8c\\ud55c']\"],[\"\\ubcc4\\ube5b (Feat. \\ud64d\\ubbf8\\ub824)\",\"Soro Sori (\\uc11c\\ub85c\\uc18c\\ub9ac)\",\"\\uce74\\ud398, \\uc794\\uc794\\ud55c, \\ud790\\ub9c1, \\ub530\\ub73b\\ud55c, \\ud3b8\\uc548\\ud55c, \\uac00\\uc744, \\uc6b0\\uc6b8, \\uc624\\ud6c4, \\ub098\\ub978\\ud55c, \\ud734\\uc2dd, \\ud750\\ub9b0\\ub0a0, \\uc13c\\uce58\\ud55c\",\"['\\uc794\\uc794\\ud55c']\"],[\"\\uc11c\\uace1_\\ub0b4 \\ube44\\uadf9\\uc801\\uc778 \\uc774\\uc57c\\uae30\",\"\\uc804\\ub3d9\\uc11d, \\ubba4\\uc9c0\\uceec \\ud32c\\ud140 2016 \\uc559\\uc0c1\\ube14\",\"\\ubba4\\uc9c0\\uceec\",\"['\\uacbd\\ucf8c\\ud55c']\"],[\"\\uc6b0\\ub9ac \\ucc98\\uc74c \\ub9cc\\ub09c \\ub0a0 (Acoustic Ver.)\",\"\\ud55c\\ud76c\\uc815\",\"\\uae4c\\ud398, \\uc124\\ub818, \\uc0ac\\ub791, \\uc9dd\\uc0ac\\ub791, \\ubc24, \\ub208\\ubb3c, \\ud68c\\uc0c1, \\uc6b0\\uc6b8, \\uc0c8\\ubcbd, \\uc13c\\uce58, \\uc2ac\\ud508, \\uc774\\ubcc4, \\ube44\\uc624\\ub294\\ub0a0, \\ud734\\uc2dd, \\uc794\\uc794, \\uc5ec\\ud589\\uc0b0\\ucc45, \\uc5f0\\ud734, \\uc794\\uc794\\ud55c\",\"['\\ubb34\\uc11c\\uc6b4', '\\uc6b0\\uc6b8\\ud55c']\"],[\"True Colors\",\"JBJ\",\"\\ud734\\uc77c, \\ub304\\uc2a4, \\uae30\\ubd84\\uc804\\ud658, \\uc2a4\\ud2b8\\ub808\\uc2a4, \\uc2e0\\ub098\\ub294, \\uc5ec\\ub984, \\ub4dc\\ub77c\\uc774\\ube0c, \\ubc34\\ub4dc, \\uc5ec\\ud589, \\uacf5\\ubd80, \\uccad\\ub7c9, \\uc560\\uc808\\ud55c, \\uc2ac\\ud508, \\uac10\\ubbf8\\ub85c\\uc6b4, \\ubd04, \\ubd04\\ub178\\ub798, \\uc0ac\\ub791, \\ub530\\ub73b\\ud55c, \\uc0c1\\ud07c\\ud55c, \\ub208\\uc624\\ub294\\ub0a0, \\uccab\\ub208, \\ub9d1\\uc740, \\ud06c\\ub9ac\\uc2a4\\ub9c8\\uc2a4, \\uce90\\ub864, \\uccad\\ub7c9\\ud55c\",\"['\\ud589\\ubcf5\\ud55c']\"],[\"Sunday Brunch\",\"\\ubc15\\uc815\\ud604\",\"\\ud734\\uc2dd, \\ud790\\ub9c1, \\uc124\\ub818, \\uc0ac\\ub791, \\uae30\\ubd84\\uc804\\ud658, \\ubc24, \\uc0c8\\ubcbd, \\ubd04, \\uc5ec\\ud589, \\uc0b0\\ucc45, \\ud1f4\\uadfc\\uae38, \\uae4c\\ud398, \\uc124\\ub808\\uc784, \\uc774\\ubcc4, \\uc5ec\\ub984\",\"['\\ud589\\ubcf5\\ud55c']\"],[\"\\ub0b4 \\uace0\\ud5a5\",\"\\ubc15\\uc740\\ud0dc, \\uc774\\uc9c0\\ud61c\",\"\\ubba4\\uc9c0\\uceec\",\"['\\uacbd\\ucf8c\\ud55c']\"],[\"\\ub098\\ub9cc (Just Me) (Inst.)\",\"\\uc18c\\ub77c (Sora)\",\"\\ub2ec\\ub2ec, \\uacf5\\ubd80, \\ubd04, \\uc9d1\\uc911, \\uce74\\ud398, \\uc794\\uc794\\ud55c, \\ub3c5\\uc11c\",\"['\\uc794\\uc794\\ud55c', '\\ud589\\ubcf5\\ud55c']\"],[\"\\uad1c\\uc2dc\\ub9ac\",\"\\uc694\\ub2c8\\uc2a4\",\"\\ud790\\ub9c1, \\ud734\\uc2dd, \\uae30\\ubd84\\uc804\\ud658\",\"['\\ud589\\ubcf5\\ud55c']\"],[\"I Was Born To Love You + Only Love (Reprise) (\\ub108 \\ud558\\ub098\\ub9cc + \\uc0ac\\ub791\\uc774\\uc57c Reprise)\",\"\\uc784\\ud0dc\\uacbd, \\uc625\\uc8fc\\ud604\",\"\\uce74\\ud398, \\uc794\\uc794\\ud55c, \\ubba4\\uc9c0\\uceec, \\ud790\\ub9c1, \\uae30\\ubd84\\uc804\\ud658\",\"['\\uacbd\\ucf8c\\ud55c']\"],[\"Chemicals\",\"\\ud0a4 (KEY)\",\"\\uc8fc\\ub9d0, \\ub4dc\\ub77c\\uc774\\ube0c, \\uae30\\ubd84\\uc804\\ud658, \\uc2e0\\ub098\\ub294, \\ub304\\uc2a4\",\"['\\ud589\\ubcf5\\ud55c']\"],[\"Turtles Free 2\",\"\\uac70\\ubd81\\uc774\",\"\\ub304\\uc2a4\",\"['\\uacbd\\ucf8c\\ud55c']\"],[\"\\uadf8\\uacf3\\uc5d0 \\uc11c\\uc11c\",\"\\ubc15\\ud6a8\\uc2e0\",\"\\uc794\\uc794\\ud55c, \\ubc24, \\uc0c8\\ubcbd, \\ube44\\uc624\\ub294\\ub0a0, \\ucd94\\uc5b5, \\ud68c\\uc0c1, \\uc2ac\\ud514, \\uc774\\ubcc4, \\uc5ec\\ub984, \\uae30\\ubd84\\uc804\\ud658, \\uc124\\ub818, \\uc0ac\\ub791, \\uae4c\\ud398, \\uaca8\\uc6b8, \\ub304\\uc2a4, \\ub4dc\\ub77c\\uc774\\ube0c, \\ub208\\ubb3c, \\uadf8\\ub9ac\\uc6c0, \\uc0b0\\ucc45, \\uc5ec\\ud589, \\ud1f4\\uadfc, \\uac00\\uc744, \\ud790\\ub9c1, \\ube44, \\ud734\\uc2dd, \\uc704\\ub85c, \\uc5f0\\ud734, \\uc0c8\\ubcbd\\uac10\\uc131, \\uc7a0\\ub4e4\\uae30\\uc804, \\ub2a6\\uc740\\ubc24, \\ud6c4\\ud68c, \\uc6b0\\uc6b8, \\uce74\\ud398, \\ucee4\\ud53c, \\uc544\\ub828\\ud55c, \\uae30\\uc5b5, \\uc678\\ub85c\\uc6c0, \\uacf5\\uac10, \\ubc9a\\uaf43, \\uc4f8\\uc4f8\\ud568, \\uc4f8\\uc4f8, \\uac00\\uc744\\uac10\\uc131, \\uac10\\ubbf8\\ub85c\\uc6b4, \\uc544\\ud514, \\uc2a4\\ud2b8\\ub808\\uc2a4, \\ubd84\\uc704\\uae30, \\ucc28\\ubd84\\ud55c, \\uc560\\uc808\\ud55c, \\ubd04\\ub178\\ub798, \\ubd04, \\uc5ec\\uc720, \\ucc45\\uc77d\\uc744\\ub54c, \\ud3b8\\uc548\\ud568, \\ub208, \\uc13c\\uce58, \\uac10\\uc131\\uc801\\uc778, \\uc5f0\\uc560, \\ud5e4\\uc5b4\\uc9d0, \\ud63c\\uc220\",\"['\\ud589\\ubcf5\\ud55c']\"],[\"Role Of A Lifetime\",\"\\uc724\\uc18c\\ud638\",\"\\ubba4\\uc9c0\\uceec, \\uc0ac\\ub791\",\"['\\uacbd\\ucf8c\\ud55c', '\\ud589\\ubcf5\\ud55c']\"],[\"THE SEASONS\",\"CNBLUE (\\uc528\\uc5d4\\ube14\\ub8e8)\",\"\\uae30\\ubd84\\uc804\\ud658, \\uc124\\ub818, \\uc0ac\\ub791, \\ub304\\uc2a4, \\uac00\\uc744, \\uac00\\uc744\\uac10\\uc131, \\uac00\\uc744\\ubc24\",\"['\\ud589\\ubcf5\\ud55c', '\\uc794\\uc794\\ud55c']\"],[\"Mood Indigo\",\"CHEEZE (\\uce58\\uc988)\",\"\\ub2ec\\ub2ec, \\uc0ac\\ub791, \\uce74\\ud398, \\uc5ec\\ub984, \\uc2dc\\uc6d0\\ud55c, \\uc5ec\\ud589, \\uc2e0\\ub098\\ub294, \\ub2ec\\ucf64, \\uc124\\ub818, \\ud790\\ub9c1, \\ud734\\uc2dd, \\ubc24, \\uc0c8\\ubcbd, \\ubd04, \\ubd04\\ub178\\ub798, \\uc5f0\\uc560, \\uae30\\ubd84\\uc804\\ud658, \\uc6b4\\ub3d9, \\ub4dc\\ub77c\\uc774\\ube0c, \\uc2e0\\ub0a8, \\uae4c\\ud398, \\ube44\\uc624\\ub294\\ub0a0, \\uc6b0\\uc6b8, \\uc7a0\\ub4e4\\uae30\\uc804, \\ud63c\\uc220, \\uaf43, \\ubc9a\\uaf43, \\uc5f0\\uc778, \\uac00\\uc744, \\uaca8\\uc6b8, \\uccab\\ub208, \\uce5c\\uad6c, \\ud5ec\\uc2a4, \\ubd88\\uae08, \\uae30\\ubd84\\uc88b\\uc740, \\ubd04\\ubc14\\ub78c, \\uc2dc\\uc791, \\ud589\\ubcf5, \\ub370\\uc774\\ud2b8, \\uc0c8\\ubcbd\\uac10\\uc131, \\uc124\\ub808\\uc784, \\ubd84\\uc704\\uae30, \\uc794\\uc794\\ud55c, \\ud3b8\\uc548\\ud55c, \\uc0c1\\ud07c\\ud55c, \\ub530\\uc2a4\\ud55c, \\ub178\\ub3d9\\uc694, \\ubd04\\ub0a0, \\ud3ec\\uadfc\\ud55c, \\uc378, \\uc9dd\\uc0ac\\ub791, \\uc77c\\uc0c1, \\uc2a4\\ud2b8\\ub808\\uc2a4, \\ucd94\\uc5b5, \\ucee4\\ud50c, \\uace0\\ubc31, \\ud68c\\uc0c1, \\uc624\\ud6c4, \\ub2ec\\ub2ec\\ud55c, \\uc774\\ubcc4, \\uc9d1\\uc911, \\uc720\\ub2c8\\ud06c, \\uc800\\ub141, \\ud734\\uac00, \\uc120\\uc120\\ud55c, \\ud398\\uc2a4\\ud2f0\\ubc8c, \\uc791\\uc5c5, \\uc6d4\\uc694\\ubcd1, \\uccad\\ub7c9, \\uc678\\ucd9c, \\ucee4\\ud53c, \\uc5ec\\uc720, \\uc0b0\\ucc45, \\uacf5\\ubd80, \\uc5f0\\ub9d0, \\uce90\\ub7f4, \\uaca8\\uc6b8\\ubc24, \\ub208, \\uc8fc\\ub9d0, \\uaca8\\uc6b8\\uac10\\uc131, \\ub85c\\ub9e8\\ud2f1, \\uc790\\uae30\\uc804\\uc5d0, \\uc219\\uba74, \\uac00\\uc744\\ubc24, \\uc544\\uce68, \\uacbd\\ucf8c\\ud55c, \\ud53c\\ud06c\\ub2c9, \\ubd80\\ub4dc\\ub7ec\\uc6b4, \\uc2ac\\ud514, \\ud765\\uaca8\\uc6b4, \\uc0b0\\ub73b\\ud55c, \\uc0c1\\ud07c, \\ub304\\uc2a4, \\uae30\\ubd84\\uc5c5, \\uc124\\ub808\\ub294, \\uc4f8\\uc4f8, \\uc7a5\\ub9c8, \\ube44, \\ud1f4\\uadfc\\uae38, \\ub530\\ub73b\\ud55c, \\uc6b4\\uc804, \\ud587\\uc0b4, \\ub530\\ub73b, \\uc0c1\\ucf8c\\ud55c, \\uc57c\\uacbd, \\uc18c\\ud48d, \\uac00\\uc744\\uac10\\uc131, \\ub098\\ub4e4\\uc774, \\ub0ad\\ub9cc, \\ud06c\\ub9ac\\uc2a4\\ub9c8\\uc2a4, \\uc704\\ub85c, \\ub9c8\\uc74c, \\ub9d1\\uc740, \\ub208\\ubb3c, \\ud5e4\\uc5b4\\uc9d0, \\ucd9c\\uadfc\\uae38, \\ubc14\\ub2e4, \\ubc34\\ub4dc, \\uccad\\ub7c9\\uac10, \\ucee4\\ud53c\\uc20d, \\uc5f4\\ub300\\uc57c, \\ub2ec\\ucf64\\ud55c, \\uacf5\\ubd80\\ud560\\ub54c, \\ubd04\\ube44, \\uc794\\uc794, \\uac10\\ubbf8\\ub85c\\uc6b4, \\ucc28\\ubd84\\ud55c, \\uc5ec\\ub984\\ubc24, \\uc5f0\\ud734, \\uace0\\uc18d\\ub3c4\\ub85c, \\uc2a4\\ud2b8\\ub808\\uc2a4\\ud574\\uc18c, \\uc9d1, \\ud798\\ub0b4, \\ub098\\ub978\\ud55c, \\ubc1d\\uc740, \\uc194\\ub85c, \\ud55c\\uac15, \\uc5ec\\ud589\\uc0b0\\ucc45, \\uc4f8\\uc4f8\\ud55c, \\uac10\\uc131\\uc801\\uc778, \\uc0c1\\ucf8c, \\uc2ec\\ucff5, \\ubabd\\ud658\\uc801\\uc778, \\uac10\\uc131\\uc790\\uadf9, \\uc544\\ud514, \\uafc0\\uc7a0, \\uce68\\ub300, \\ub9e5\\uc8fc, \\ub208\\uc624\\ub294\\ub0a0, \\ubaa8\\ub2dd\\ucf5c, \\ub530\\ub73b\\ud568, \\uccad\\ub7c9\\ud55c\",\"['\\ud589\\ubcf5\\ud55c']\"],[\"Drive\",\"B1A4\",\"\\ub304\\uc2a4, \\ub9d1\\uc740, \\uc0b0\\ub73b\\ud55c, \\uae30\\ubd84\\uc804\\ud658, \\uc2e0\\ub098\\ub294, \\ub4dc\\ub77c\\uc774\\ube0c, \\uc5ec\\ud589, \\uc6b4\\ub3d9, \\uc0ac\\ub791, \\uacf5\\ubd80\\ud560\\ub54c, \\ubc24, \\uc0c8\\ubcbd, \\uc0b0\\ucc45, \\uc120\\uc120\\ud55c, \\uaca8\\uc6b8, \\uac00\\uc744, \\uc5ec\\ub984, \\uccad\\ub7c9, \\ubd84\\uc704\\uae30, \\uc2a4\\ud2b8\\ub808\\uc2a4, \\uc7a5\\ub9c8, \\ub4e4\\uc369\\ub4e4\\uc369, \\ub0b4\\uc801\\ub304\\uc2a4, \\ubc14\\ub2e4, \\ud30c\\ud2f0, \\ucd9c\\uadfc\\uae38, \\uc794\\uc794\\ud55c, \\ucd94\\uc5b5\",\"['\\ud589\\ubcf5\\ud55c']\"],[\"Drive\",\"\\uccad\\ud558\",\"\\ub304\\uc2a4, \\ub9d1\\uc740, \\uc0b0\\ub73b\\ud55c, \\uae30\\ubd84\\uc804\\ud658, \\uc2e0\\ub098\\ub294, \\ub4dc\\ub77c\\uc774\\ube0c, \\uc5ec\\ud589, \\uc6b4\\ub3d9, \\uc0ac\\ub791, \\uacf5\\ubd80\\ud560\\ub54c, \\ubc24, \\uc0c8\\ubcbd, \\uc0b0\\ucc45, \\uc120\\uc120\\ud55c, \\uaca8\\uc6b8, \\uac00\\uc744, \\uc5ec\\ub984, \\uccad\\ub7c9, \\ubd84\\uc704\\uae30, \\uc2a4\\ud2b8\\ub808\\uc2a4, \\uc7a5\\ub9c8, \\ub4e4\\uc369\\ub4e4\\uc369, \\ub0b4\\uc801\\ub304\\uc2a4, \\ubc14\\ub2e4, \\ud30c\\ud2f0, \\ucd9c\\uadfc\\uae38, \\uc794\\uc794\\ud55c, \\ucd94\\uc5b5\",\"['\\ud589\\ubcf5\\ud55c']\"],[\"Drive\",\"B1A4\",\"\\uc5ec\\ud589, \\uc0b0\\ucc45, \\ubc24, \\uc0c8\\ubcbd, \\ud790\\ub9c1, \\ud734\\uc2dd, \\uc124\\ub818, \\uc0ac\\ub791, \\uc794\\uc794\\ud55c, \\uc5ec\\ub984, \\ub4dc\\ub77c\\uc774\\ube0c, \\ud734\\uac00, \\uc2e0\\ub098\\ub294, \\uc5ec\\ub984\\ubc24, \\uc5f4\\ub300\\uc57c, \\uae30\\ubd84\\uc804\\ud658, \\uccad\\ub7c9\\ud55c, \\uc2dc\\uc6d0\\ud55c, \\ub2ec\\ucf64\\ud55c, \\uccad\\ub7c9, \\uc2dc\\uc6d0, \\ucd94\\uc5b5, \\ud68c\\uc0c1, \\uc2a4\\ud2b8\\ub808\\uc2a4, \\uace0\\uc18d\\ub3c4\\ub85c\",\"['\\ud589\\ubcf5\\ud55c']\"],[\"Drive\",\"\\uccad\\ud558\",\"\\uc5ec\\ud589, \\uc0b0\\ucc45, \\ubc24, \\uc0c8\\ubcbd, \\ud790\\ub9c1, \\ud734\\uc2dd, \\uc124\\ub818, \\uc0ac\\ub791, \\uc794\\uc794\\ud55c, \\uc5ec\\ub984, \\ub4dc\\ub77c\\uc774\\ube0c, \\ud734\\uac00, \\uc2e0\\ub098\\ub294, \\uc5ec\\ub984\\ubc24, \\uc5f4\\ub300\\uc57c, \\uae30\\ubd84\\uc804\\ud658, \\uccad\\ub7c9\\ud55c, \\uc2dc\\uc6d0\\ud55c, \\ub2ec\\ucf64\\ud55c, \\uccad\\ub7c9, \\uc2dc\\uc6d0, \\ucd94\\uc5b5, \\ud68c\\uc0c1, \\uc2a4\\ud2b8\\ub808\\uc2a4, \\uace0\\uc18d\\ub3c4\\ub85c\",\"['\\ud589\\ubcf5\\ud55c']\"],[\"Sorceress (Acoustic)\",\"Jordan Rakei\",\"\\uc2a4\\ud2b8\\ub808\\uc2a4, \\uae30\\ubd84\\uc804\\ud658, \\uac00\\uc744, \\ud3ec\\uadfc\\ud55c, \\uc8fc\\ub9d0, \\ube44\\uc624\\ub294\\ub0a0, \\ubc24, \\uc794\\uc794\\ud55c, \\uc0c8\\ubcbd, \\uc2ac\\ud514, \\uc704\\ub85c, \\ub208\\ubb3c, \\uc6b0\\uc6b8\\ud55c\",\"['\\uc794\\uc794\\ud55c']\"],[\"\\ubaa9\\ud654\",\"\\ubcf4\\uc218\\ub3d9\\ucfe8\\ub7ec\",\"\\ubc34\\ub4dc, \\uc800\\ub141, \\ubc24, \\ubd84\\uc704\\uae30, \\uadf8\\ub9ac\\uc6c0\",\"['\\uc794\\uc794\\ud55c']\"],[\"\\uc218\\uc2e0\\uac70\\ubd80\",\"\\ud558\\ud604\\uace4 \\ud329\\ud1a0\\ub9ac\",\"\\uae30\\ubd84\\uc804\\ud658, \\uc2a4\\ud2b8\\ub808\\uc2a4\",\"['\\ud589\\ubcf5\\ud55c', '\\uae34\\uc7a5\\ub418\\ub294']\"],[\"Outlines\",\"AlunaGeorge\",\"\\ub4dc\\ub77c\\uc774\\ube0c, \\ubc24, \\uc0c8\\ubcbd, \\ud734\\uc2dd, \\ud790\\ub9c1, \\uae4c\\ud398, \\ud074\\ub7fd, \\ub77c\\uc6b4\\uc9c0, \\uce74\\ud398, \\ube44\\uc624\\ub294\\ub0a0, \\uc794\\uc794\\ud55c, \\uc6b0\\uc6b8, \\uc0ac\\uc0c9, \\uc870\\uc6a9\\ud55c, \\uc0ac\\ub791, \\uc774\\ubcc4\",\"['\\ud589\\ubcf5\\ud55c', '\\uc794\\uc794\\ud55c', '\\uacbd\\ucf8c\\ud55c']\"],[\"\\ud560 \\ub9d0\\uc774 \\uc788\\uc5b4 (feat. \\ud50c\\ub9ac\\uc9c0)\",\"\\ub77c\\uc784\\uc988 (RHYMEZ)\",\"\\uc194\\ub85c, \\ubd84\\uc704\\uae30, \\uc0ac\\ub791, \\uc544\\uce68, \\uc794\\uc794\\ud55c, \\uc6d4\\uc694\\ubcd1, \\ucd9c\\uadfc\\uae38, \\uae30\\ubd84\\uc804\\ud658, \\uc0b0\\ucc45, \\uac00\\uc744, \\uc9dd\\uc0ac\\ub791, \\uc2ac\\ud514\",\"['\\ud589\\ubcf5\\ud55c']\"],[\"Destiny\",\"\\ub3d9\\ubc29\\uc2e0\\uae30 (TVXQ!)\",\"\\uc124\\ub818, \\uc0ac\\ub791, \\uc194\\ub85c, \\ub304\\uc2a4, \\ubc24\",\"['\\ud589\\ubcf5\\ud55c']\"],[\"IF... (\\ub108\\ub9cc \\uc788\\uc73c\\uba74)\",\"B1A4\",\"\\uc2ac\\ud514, \\ud790\\ub9c1, \\ud734\\uc2dd, \\uc774\\ubcc4, \\ube44\\uc624\\ub294\\ub0a0, \\uae30\\ubd84\\uc804\\ud658, \\uc5ec\\ud589, \\uc0b0\\ucc45, \\uc9dd\\uc0ac\\ub791, \\uc124\\ub808\\uc784, \\ub304\\uc2a4, \\uc6b4\\ub3d9, \\uc2a4\\ud2b8\\ub808\\uc2a4, \\uac00\\uc744, \\ucda4, \\ub2ec\\ub2ec\\ud55c, \\uc794\\uc794\\ud55c, \\ubc24, \\uc0c8\\ubcbd, \\uc124\\ub818, \\uc0ac\\ub791, \\uc5ec\\ub984, \\ubd04, \\uaca8\\uc6b8, \\uc2e0\\ub098\\ub294, \\ub4dc\\ub77c\\uc774\\ube0c, \\uc194\\ub85c, \\ucd94\\uc5b5\",\"['\\ud589\\ubcf5\\ud55c']\"],[\"\\uc804\\ud560 \\uc218 \\uc5c6\\ub294 \\uc774\\uc57c\\uae30 (\\ubd80\\uc81c:\\uc2dc\\ud2f0 \\uc624\\ube0c \\uc5d4\\uc824)\",\"\\ud718\\uc131 (Realslow)\",\"\\ucd94\\uc5b5, \\ud68c\\uc0c1, \\uc2ac\\ud514, \\uc2a4\\ud2b8\\ub808\\uc2a4, \\uc774\\ubcc4, \\uc0c8\\ubcbd, \\ubc24, \\uae30\\ubd84\\uc804\\ud658, \\uac00\\uc744, \\uc0ac\\ub791, \\ud790\\ub9c1, \\ud734\\uc2dd, \\uc124\\ub818, \\uc794\\uc794\\ud55c, \\uc794\\uc794, \\uacf5\\uac10, \\uc2a4\\ud2b8\\ub808\\uc2a4\\ud574\\uc18c, \\ub4dc\\ub77c\\uc774\\ube0c, \\uc13c\\uce58, \\ube44\\uc624\\ub294\\ub0a0, \\uc9dd\\uc0ac\\ub791, \\ud6c4\\ud68c, \\ub208\\ubb3c, \\uc6b0\\uc6b8, \\uae30\\uc5b5, \\uc544\\ub828\\ud55c, \\uadf8\\ub9ac\\uc6c0, \\uace0\\ubc31, \\uc544\\ud514, \\uc704\\ub85c, \\uc7a5\\ub9c8, \\ud5e4\\uc5b4\\uc9d0, \\uc4f8\\uc4f8, \\uce58\\uc720, \\uce74\\ud398, \\ub304\\uc2a4, \\uc5ec\\ud589, \\uc0b0\\ucc45, \\uae4c\\ud398, \\uc6b4\\ub3d9, \\uaca8\\uc6b8, \\uc560\\uc808\\ud55c, \\uc0c8\\ubcbd\\uac10\\uc131, \\ubd04\\ub178\\ub798, \\ubd04, \\uc4f8\\uc4f8\\ud568, \\uac10\\uc131\\uc790\\uadf9, \\uc6b0\\uc6b8\\ud55c, \\uac10\\uc218\\uc131, \\uc2ac\\ud508, \\ud3b8\\uc548\\ud568, \\uac10\\uc131\\uc801\\uc778, \\ubd04\\ube44, \\ud63c\\uc220\",\"['\\ud589\\ubcf5\\ud55c']\"],[\"\\uc0dd\\uac01\\ub9cc \\ud588\\uc5b4 (Feat. \\ud5c8\\uc2b9\\uc5f0)\",\"\\ub2e4\\uac00\\uc628\",\"\\ud734\\uc2dd, \\uae30\\ubd84\\uc804\\ud658\",\"['\\uc794\\uc794\\ud55c', '\\ud589\\ubcf5\\ud55c']\"],[\"\\uc544\\uc8fc \\uc624\\ub798\\ub41c \\uc5f0\\uc778\\ub4e4\",\"015B\",\"\\ub4dc\\ub77c\\uc774\\ube0c, \\uc5ec\\ud589, \\ud68c\\uc0c1, \\ucd94\\uc5b5, \\uc6b4\\uc804, \\uc2e0\\ub098\\ub294, \\ub304\\uc2a4, \\uc5f0\\ub9d0, \\uaca8\\uc6b8\\uac10\\uc131, \\uccab\\ub208, \\ud06c\\ub9ac\\uc2a4\\ub9c8\\uc2a4, \\uce74\\ud398, \\uc794\\uc794\\ud55c, \\uc5f0\\uc778, \\ud790\\ub9c1, \\uc0ac\\ub791, \\uac00\\uc744\\uac10\\uc131, \\ub808\\ud2b8\\ub85c, \\ud734\\uc2dd, \\ucd94\\uc5b5\\ud68c\\uc0c1, \\uae4c\\ud398, \\uc774\\ubcc4, \\uac00\\uc744, \\uae30\\ubd84\\uc804\\ud658, \\uccad\\ucd98, \\uaf43, \\ubd04, \\ubd04\\ub178\\ub798, \\uadf8\\ub9ac\\uc6c0, \\uc870\\uc6a9\\ud55c, \\ubd80\\ub4dc\\ub7ec\\uc6b4\",\"['\\ud589\\ubcf5\\ud55c']\"],[\"I Need Your Love (Feat. Ellie Goulding)\",\"Calvin Harris\",\"\\uae4c\\ud398, \\uc2a4\\ud2b8\\ub808\\uc2a4, \\uc5ec\\ud589, \\ub77c\\uc6b4\\uc9c0, \\uc0c8\\ubcbd, \\ub4dc\\ub77c\\uc774\\ube0c, \\uae30\\ubd84\\uc804\\ud658, \\uc6b4\\ub3d9, \\ube44\\uc624\\ub294\\ub0a0, \\uc2e0\\ub098\\ub294, \\ud30c\\ud2f0, \\ub304\\uc2a4, \\ud074\\ub7fd, \\uc6b4\\ub3d9\\ud560\\ub54c, \\uc870\\uae45, \\uc2e0\\ub098, \\uc5ec\\ub984, \\ubc24, \\uc0c8\\ubcbd\\uac10\\uc131, \\uccad\\ub7c9\\uac10, \\ud574\\ubcc0, \\uce74\\ud398, \\ubd84\\uc704\\uae30, \\uacf5\\ubd80, \\ud3b8\\uc548\\ud55c, \\uc8fc\\ub9d0, \\uc0b0\\ucc45, \\uc794\\uc794\\ud55c, \\ud790\\ub9c1, \\uc124\\ub818, \\uc0ac\\ub791, \\ud734\\uc2dd, \\uc13c\\uce58, \\ucd9c\\uadfc, \\ubd04, \\ucd94\\uc5b5, \\ud68c\\uc0c1, \\uae30\\ubd84\\uc5c5, \\ubabd\\ud658, \\ub178\\ub3d9\\uc694, \\ub7ec\\ub2dd, \\ud55c\\uac15, \\ud5ec\\uc2a4, \\uccad\\ub7c9, \\uc2dc\\uc6d0\\ud55c, \\uc2ac\\ud514, \\uc774\\ubcc4, \\uc6d4\\uc694\\ubcd1, \\uc678\\ucd9c, \\ud1f4\\uadfc, \\ud5ec\\uc2a4\\uc7a5, \\uaca8\\uc6b8, \\ud398\\uc2a4\\ud2f0\\ubc8c, \\uc0c8\\ud574, \\uc2a4\\ud2b8\\ub808\\uc2a4\\ud574\\uc18c\",\"['\\ud589\\ubcf5\\ud55c']\"],[\"Let Me Hold You (Turn Me On)\",\"Cheat Codes, Dante Klein\",\"\\ubc24, \\uae4c\\ud398, \\uc0c8\\ubcbd, \\uae30\\ubd84\\uc804\\ud658, \\uc2a4\\ud2b8\\ub808\\uc2a4, \\ub4dc\\ub77c\\uc774\\ube0c, \\uc5ec\\ub984, \\ub0b4\\uc801\\ub304\\uc2a4, \\ud074\\ub7fd, \\uc2e0\\ub0a8, \\uc2a4\\ud2b8\\ub808\\uc2a4\\ud574\\uc18c, \\uc6b4\\ub3d9, \\ub304\\uc2a4, \\uc2e0\\ub098\\ub294, \\uacf5\\ubd80, \\ubabd\\ud658, \\uc0c1\\ud07c, \\uae30\\uc5b5, \\ucd94\\uc5b5, \\uc5ec\\ud589, \\ud790\\ub9c1, \\ubc14\\ub2e4, \\ud5ec\\uc2a4, \\ud734\\uc591\\uc9c0, \\uc5ec\\ub984\\ud734\\uac00, \\uccad\\ub7c9\\ud55c, \\ubc14\\uce89\\uc2a4, \\ud574\\ubcc0, \\ud5ec\\uc2a4\\uc7a5, \\ubd88\\uae08, \\uc794\\uc794\\ud55c, \\ud30c\\ud2f0, \\ud734\\uc2dd, \\uc2a4\\ud3ec\\uce20, \\ud734\\uc77c, \\uc2e0\\ub098, \\ub178\\ub3d9\\uc694, \\uc870\\uae45, \\uce74\\ud398, \\ud765\",\"['\\ud589\\ubcf5\\ud55c']\"],[\"Stardust\",\"Bob Dylan\",\"\\ud558\\ub8e8\",\"['\\uc794\\uc794\\ud55c']\"],[\"Zoo\",\"Red Velvet (\\ub808\\ub4dc\\ubca8\\ubcb3)\",\"\\uc5ec\\ub984, \\uc2dc\\uc6d0\\ud55c, \\ub4dc\\ub77c\\uc774\\ube0c, \\uc5ec\\ud589, \\ucd9c\\uadfc\\uae38, \\uc6d4\\uc694\\ubcd1, \\ud1f4\\uadfc\\uae38, \\uc2e0\\ub098\\ub294, \\ud734\\uc591\\uc9c0, \\ud68c\\uc0c1, \\ucd94\\uc5b5, \\ub304\\uc2a4, \\ud558\\ub298, \\uacbd\\ucf8c\\ud55c, \\uae30\\ubd84\\uc804\\ud658, \\uccad\\ub7c9\\ud55c, \\ubc14\\ub2e4, \\uc2dc\\uc6d0, \\ud790\\ub9c1, \\ub0b4\\uc801\\ub304\\uc2a4, \\uc2a4\\ud2b8\\ub808\\uc2a4, \\uc0e4\\uc6cc, \\uccad\\ub7c9\\uac10, \\uc6b4\\ub3d9, \\uc5ec\\ub984\\ubc24, \\ud589\\ubcf5, \\uc0b0\\ucc45, \\uc7a0, \\uc794\\uc794\\ud55c, \\ud734\\uc2dd, \\uae30\\ubd84\\uc5c5, \\ubd04, \\uccad\\ub7c9, \\ubc14\\uce89\\uc2a4, \\ud55c\\uac15, \\uc18c\\ud48d, \\ud53c\\ud06c\\ub2c9, \\uc990\\uac70\\uc6b4, \\uce5c\\uad6c, \\ud734\\uac00, \\ud5ec\\uc2a4, \\uc870\\uae45, \\ubc34\\ub4dc, \\uaca8\\uc6b8, \\ub178\\ub3d9\\uc694, \\ucd9c\\uadfc, \\uc2e0\\ub0a8, \\uc0c8\\ubcbd, \\ubc24, \\uac00\\uc744, \\uac10\\uc131\\uc801\\uc778, \\uc2a4\\ud3ec\\uce20, \\uce74\\ud398, \\uc624\\ud6c4, \\ubd88\\uae08, \\uc0c1\\ucf8c, \\uc544\\uce68, \\ubaa8\\ub2dd\\ucf5c, \\uc0c1\\ucf8c\\ud55c, \\ubd84\\uc704\\uae30, \\ud765\\ud3ed\\ubc1c, \\ud765, \\uc5d0\\ub108\\uc9c0, \\ud799\\ud55c, \\uc5f4\\ub300\\uc57c, \\ub2ec\\ucf64\\ud55c, \\ud765\\uaca8\\uc6b4, \\ubb34\\ub354\\uc704, \\uc0c1\\ud07c\\ud55c, \\ud30c\\ud2f0, \\ud074\\ub7fd, \\uc0c1\\ud07c, \\ube44\\uc624\\ub294\\ub0a0, \\uc544\\ub828\\ud55c, \\uae4c\\ud398, \\uaf43, \\uc0ac\\ub791, \\ubc9a\\uaf43, \\uc5f0\\ub9d0, \\uc124\\ub818, \\uae30\\ubd84\\uc88b\\uc740, \\uc124\\ub808\\uc784\",\"['\\uacbd\\ucf8c\\ud55c']\"],[\"Stay\",\"Nicky Romero\",\"\\ub4dc\\ub77c\\uc774\\ube0c, \\uce74\\ud398\",\"['\\ud589\\ubcf5\\ud55c', '\\uc794\\uc794\\ud55c']\"],[\"Stay\",\"Nicky Romero\",\"\\uae30\\ubd84\\uc804\\ud658, \\ub4dc\\ub77c\\uc774\\ube0c, \\uc544\\uce68, \\uc5ec\\ud589, \\uc6b4\\ub3d9, \\uc5d0\\ub108\\uc9c0, \\ud30c\\ud2f0, \\uae30\\ubd84\\uc5c5, \\uc2e0\\ub098\\ub294\",\"['\\ud589\\ubcf5\\ud55c']\"],[\"\\ubcf4\\uace0\\uc2f6\\uc5b4\",\"\\ubcf4\\ub4dc\\uce74 \\ub808\\uc778\",\"\\uac10\\uc131\\uc790\\uadf9, \\ud55c\\uac15, \\uc0c8\\ubcbd, \\uc5ec\\ub984\\ubc24, \\ucd94\\uc5b5, \\uc0ac\\ub791, \\uc124\\ub818, \\ud68c\\uc0c1, \\uc2ac\\ud514, \\ubc24, \\uc774\\ubcc4, \\uc0c8\\ubcbd\\uac10\\uc131, \\uc560\\uc808\\ud55c, \\uadf8\\ub9ac\\uc6c0, \\ube44\\uc624\\ub294\\ub0a0, \\uc794\\uc794\\ud55c, \\ud790\\ub9c1, \\ud734\\uc2dd, \\uae4c\\ud398, \\uac00\\uc744, \\ub4dc\\ub77c\\uc774\\ube0c, \\ud1f4\\uadfc, \\uc9d1, \\ub530\\ub73b, \\uae30\\ubd84\\uc804\\ud658, \\uafc0\\uc7a0, \\uc790\\uae30\\uc804, \\ubd04, \\uce74\\ud398, \\uc5ec\\ud589, \\uc0b0\\ucc45, \\uc13c\\uce58, \\uac00\\uc744\\ubc24, \\ubc34\\ub4dc, \\ubc14\\ub2e4, \\uc4f8\\uc4f8, \\uc704\\ub85c, \\uce5c\\uad6c, \\ub208, \\uaca8\\uc6b8, \\uc2a4\\ud2b8\\ub808\\uc2a4, \\ube44, \\uc7a5\\ub9c8, \\ubd88\\uba74\\uc99d, \\uc794\\uc794, \\ub530\\ub4ef\\ud55c, \\uc0ac\\uc0c9, \\ub3c5\\uc11c, \\uc791\\uc5c5, \\ub2a6\\uc740\\ubc24, \\ub208\\ubb3c, \\ucc28\\ubd84\\ud55c, \\uc6b0\\uc6b8, \\uacf5\\uac10, \\uc5ec\\ub984, \\uc800\\ub141, \\ubd84\\uc704\\uae30\",\"['\\uc6b0\\uc6b8\\ud55c', '\\uc794\\uc794\\ud55c']\"],[\"\\uc0ac\\ub791\\uc778\\uac00\\ubd10!\",\"\\ucc44\\uc5f0\",\"\\ub0b4\\uc801\\ub304\\uc2a4, \\uae30\\ubd84\\uc804\\ud658, \\ub304\\uc2a4, \\uc2ac\\ud514, \\uc774\\ubcc4, \\ucd94\\uc5b5, \\ud68c\\uc0c1, \\uc5ec\\ud589, \\uc0ac\\ub791, \\uc124\\ub818, \\uc0b0\\ucc45, \\uc2a4\\ud2b8\\ub808\\uc2a4, \\ub4dc\\ub77c\\uc774\\ube0c, \\ubc24, \\uc0c8\\ubcbd\",\"['\\uacbd\\ucf8c\\ud55c']\"],[\"World Tour (Song By Hauzee, Holmsted)\",\"KozyPop\",\"\\ub178\\ub3d9\\uc694\",\"['\\uae34\\uc7a5\\ub418\\ub294']\"],[\"Our Love\",\"Al Jarreau\",\"\\uaca8\\uc6b8\\uac10\\uc131\",\"['\\uc794\\uc794\\ud55c']\"],[\"\\ucf5c\\ub4dc (Cold)\",\"\\ubaa8\\ub178\\ud328\\uc2a4 (Monopath)\",\"\\uc794\\uc794\\ud55c, \\ubc24, \\uc0c8\\ubcbd, \\ub4dc\\ub77c\\uc774\\ube0c\",\"['\\uc794\\uc794\\ud55c', '\\ubb34\\uc11c\\uc6b4', '\\uc6b0\\uc6b8\\ud55c', '\\ud589\\ubcf5\\ud55c']\"],[\"Thanks For The Music (\\uc18c\\ud53c &\\uc0d8 & \\ud574\\ub9ac & \\ube4c)\",\"\\uc774\\uc815\\ubbf8 & \\uc131\\uae30\\uc724 & \\uc774\\uc815\\ub82c & \\ubc15\\uc9c0\\uc77c\",\"\\ubba4\\uc9c0\\uceec\",\"['\\uacbd\\ucf8c\\ud55c']\"],[\"\\ub2ec\\ub9ac\\ub294 \\ub2e4\\ub77d\\ubc29\",\"\\uc624\\ube60\\uc57c\\ubb38\\uc5f4\\uc5b4\\ub538\\uae30\\uc0ac\\uc654\\uc5b4\",\"\\uce74\\ud398, \\uc5ec\\uc720, \\ucee4\\ud53c, \\ud790\\ub9c1\",\"['\\uc794\\uc794\\ud55c', '\\ud589\\ubcf5\\ud55c']\"],[\"Paradise\",\"\\ud5ec\\ub85c\\ube44\\ub108\\uc2a4\",\"\\uae30\\ubd84\\uc804\\ud658, \\ud790\\ub9c1, \\ud734\\uc2dd\",\"['\\ud589\\ubcf5\\ud55c']\"],[\"\\ud0dd\\uc2dc\\uc548\\uc5d0\\uc11c\",\"\\uc5d4\\ub3cc\\ud540\",\"\\ub304\\uc2a4, \\ube44\\uc624\\ub294\\ub0a0, \\uc794\\uc794\\ud55c\",\"['\\uacbd\\ucf8c\\ud55c', '\\uc6b0\\uc6b8\\ud55c', '\\uc794\\uc794\\ud55c']\"],[\"\\ucda4\",\"\\uc694\\uc870\",\"\\uac00\\uc744, \\uc0c8\\ubcbd, \\uc6b0\\uc6b8, \\ub4dc\\ub77c\\uc774\\ube0c, \\uc6b4\\ub3d9\",\"['\\uc794\\uc794\\ud55c']\"],[\"\\ube60\\ube60\\ube60 (Bar Bar Bar)\",\"\\ud06c\\ub808\\uc6a9\\ud31d\",\"\\ub304\\uc2a4, \\uc2a4\\ud2b8\\ub808\\uc2a4, \\uc2e0\\ub098\\ub294\",\"['\\uacbd\\ucf8c\\ud55c', '\\uae34\\uc7a5\\ub418\\ub294', '\\ud589\\ubcf5\\ud55c']\"],[\"Overall\",\"Hello Saferide\",\"\\uaca8\\uc6b8\",\"['\\uc794\\uc794\\ud55c']\"],[\"\\uc774\\ub7f0 \\uac74\\uac00\\ubd10\\uc694 \\ub204\\uad70\\uac00\\ub97c \\uc88b\\uc544\\ud558\\ub294 \\uac74\",\"\\ub9ac\\ub514\\uc544 (Lydia)\",\"\\uc124\\ub818, \\uc0ac\\ub791\",\"['\\ud589\\ubcf5\\ud55c']\"],[\"Perfect Christmas Day\",\"Todd Carey\",\"\\uaca8\\uc6b8, \\uae30\\ubd84\\uc804\\ud658, \\uce90\\ub864, \\uc124\\ub808\\ub294, \\ud06c\\ub9ac\\uc2a4\\ub9c8\\uc2a4, \\uc124\\ub818, \\uc0ac\\ub791, \\uc5f0\\ub9d0, \\ud765\\uaca8\\uc6b4, \\uc2e0\\ub098\\ub294\",\"['\\ud589\\ubcf5\\ud55c']\"],[\"\\uc0b4\\ub2e4 \\ubcf4\\uba74\",\"\\ucc28\\uc9c0\\uc5f0\",\"\\uc794\\uc794\\ud55c, \\ucd94\\uc5b5, \\uc704\\ub85c, \\ud734\\uc2dd, \\ud790\\ub9c1, \\ubd84\\uc704\\uae30, \\uc0c8\\ubcbd, \\ubba4\\uc9c0\\uceec, \\uac00\\uc744, \\uce74\\ud398, \\ub4dc\\ub77c\\uc774\\ube0c, \\uc0ac\\ub791, \\uc774\\ubcc4, \\ud76c\\ub9dd, \\uc751\\uc6d0, \\ud798\\ub0b4, \\uae30\\ubd84\\uc804\\ud658, \\ub530\\ub73b, \\uac10\\ub3d9, \\uc2a4\\ud2b8\\ub808\\uc2a4, \\uc6b0\\uc6b8, \\ubc24, \\uc9c0\\uce5c, \\uc8fc\\ub9d0, \\uc9d1, \\ud63c\\uc220, \\uc77c\\uc0c1, \\uce68\\ub300, \\ud1f4\\uadfc\\uae38, \\ud798\\ub4e4\\ub54c, \\uc9c0\\uce60\\ub54c, \\uccad\\ucd98, \\uc2ac\\ud514, \\uaca8\\uc6b8, \\ubd04, \\uce5c\\uad6c, \\uc678\\ub85c\\uc6c0, \\ube44\\uc624\\ub294\\ub0a0, \\uae4c\\ud398, \\uc2e0\\ub098\\ub294, \\ud68c\\uc0c1\",\"['\\uc794\\uc794\\ud55c']\"],[\"\\ud669\\uae08\\ubcc4\",\"\\uc2e0\\uc601\\uc219\",\"\\ubba4\\uc9c0\\uceec, \\ud790\\ub9c1, \\ud734\\uc2dd, \\ubc24, \\uc0c8\\ubcbd, \\uc2ac\\ud514, \\uc2a4\\ud2b8\\ub808\\uc2a4, \\uc774\\ubcc4, \\uc751\\uc6d0, \\uc704\\ub85c, \\ud798\\ub0b4, \\ub530\\ub73b, \\uac10\\ub3d9, \\uce74\\ud398, \\uc794\\uc794\\ud55c, \\uc544\\ub984\\ub2e4\\uc6b4, \\uc560\\uc808\\ud55c, \\uc2ac\\ud508, \\ub9d1\\uc740, \\ubabd\\ud658\\uc801\\uc778, \\uc0b0\\ucc45, \\uc0ac\\ub791, \\uc124\\ub818, \\uc5ec\\ud589, \\uc544\\uce68, \\ud589\\ubcf5, \\ud65c\\uae30\\ucc2c, \\ud3b8\\uc548\\ud55c, \\ucd94\\uc5b5, \\ud68c\\uc0c1, \\uae30\\ubd84\\uc804\\ud658, \\uc77c\\uc0c1, \\ub4dc\\ub77c\\uc774\\ube0c, \\ube44\\uc624\\ub294\\ub0a0, \\uc9dd\\uc0ac\\ub791, \\ud798\\ub4e4\\ub54c, \\uac00\\uc744, \\uc2e0\\ub098\\ub294\",\"['\\uacbd\\ucf8c\\ud55c']\"],[\"Pena De Los Amores (2016 Remastered)\",\"Linda Ronstadt\",\"\\uc560\\uc808\\ud55c, \\ucd94\\uc5b5, \\uac10\\uc131\\uc801\\uc778\",\"['\\uc6b8\\uace0\\uc2f6\\uc740', '\\ud589\\ubcf5\\ud55c', '\\uc794\\uc794\\ud55c']\"],[\"\\uaf48\\ub9ac (Feat. \\uac15\\ubbfc, \\ubc31\\uc218\\uc9c4, \\uc724\\uc9c4)\",\"\\ud074\\ub860\",\"\\ub304\\uc2a4\",\"['\\uacbd\\ucf8c\\ud55c']\"],[\"\\uc774\\ubcc4 \\uc55e\\uc73c\\ub85c\",\"\\uac00\\uc744\\ubc29\\ud559\",\"\\ucd94\\uc5b5, \\uac00\\uc744, \\ud68c\\uc0c1, \\uc2ac\\ud514, \\ubc24, \\uc774\\ubcc4, \\uc0c8\\ubcbd, \\ud734\\uc2dd, \\uc5ec\\uc720, \\uce74\\ud398, \\uc6b0\\uc6b8, \\uc8fc\\ub9d0, \\ubd04\\ub0a0, \\ube44\\uc624\\ub294\\ub0a0, \\uc794\\uc794\\ud55c, \\ud5e4\\uc5b4\\uc9d0, \\uae30\\ubd84\\uc804\\ud658, \\uc2a4\\ud2b8\\ub808\\uc2a4, \\uc124\\ub818, \\uc0ac\\ub791, \\ud790\\ub9c1, \\uae4c\\ud398, \\uadf8\\ub9ac\\uc6c0, \\uac00\\uc744\\ubc24, \\uc13c\\uce58, \\uc4f8\\uc4f8, \\uc0b0\\ucc45, \\uc678\\ub85c\\uc6c0, \\uc5ec\\ub984, \\uc2ac\\ud508, \\uc4f8\\uc4f8\\ud55c, \\uaca8\\uc6b8, \\ubd04, \\ube44, \\uc5ec\\ub984\\ubc24, \\ucee4\\ud53c\\uc20d, \\uc5ec\\ud589, \\ud398\\uc2a4\\ud2f0\\ubc8c, \\ubc34\\ub4dc, \\uc704\\ub85c, \\uacf5\\uac10, \\uc800\\ub141, \\ub0ad\\ub9cc, \\uc870\\uc6a9\\ud55c, \\ub530\\ub73b\\ud55c, \\uc544\\ud514, \\ub4dc\\ub77c\\uc774\\ube0c, \\ubd84\\uc704\\uae30, \\ud750\\ub9b0\\ub0a0, \\uc624\\ud6c4, \\uc9dd\\uc0ac\\ub791, \\ub2a6\\uc740\\ubc24, \\uc9d1\\uc911, \\ucee4\\ud53c, \\ud06c\\ub9ac\\uc2a4\\ub9c8\\uc2a4, \\uce90\\ub864, \\ubabd\\ud658, \\uc7a5\\ub9c8, \\uac10\\uc131\\uc801\\uc778, \\ud3b8\\uc548\\ud55c, \\uc0c8\\ubcbd\\uac10\\uc131\",\"['\\uc6b0\\uc6b8\\ud55c']\"],[\"\\uc560\\uc778\",\"\\ud5c8\\uc26c\",\"\\ub304\\uc2a4, \\ub4dc\\ub77c\\uc774\\ube0c, \\ucd94\\uc5b5, \\uc0ac\\ub791, \\uc124\\ub818, \\ud68c\\uc0c1\",\"['\\uacbd\\ucf8c\\ud55c']\"],[\"\\ub0a0\\uc544\\uc62c\\ub77c (Fly high)\",\"\\ub4dc\\ub9bc\\uce90\\uccd0\",\"\\ud798\\ub4e4\\ub54c, \\uc6b4\\ub3d9\\ud560\\ub54c, \\uc751\\uc6d0, \\ud1a0\\ub2e5\\ud1a0\\ub2e5, \\uae30\\ubd84\\uc804\\ud658, \\uc2dc\\ud5d8, \\uc2a4\\ud2b8\\ub808\\uc2a4, \\ud798\\ub0b4, \\uc2e0\\ub098\\ub294, \\uc790\\uc2e0\\uac10, \\uc2e0\\ub098, \\uc2a4\\ud2b8\\ub808\\uc2a4\\ud574\\uc18c, \\ud734\\uc77c, \\ub304\\uc2a4, \\ub0b4\\uc801\\ub304\\uc2a4, \\ud765, \\uc9d1\\uc911, \\uacf5\\ubd80, \\ud654\\uc774\\ud305, \\ub178\\ub3d9\\uc694, \\uc0c1\\ud07c\\ud55c, \\uc544\\uce68, \\uc6b4\\ub3d9, \\ud5ec\\uc2a4, \\ud5ec\\uc2a4\\uc7a5, \\ub4e4\\uc369\\ub4e4\\uc369, \\ub2ec\\ub9ac\\uae30, \\ub9d1\\uc740, \\ub4dc\\ub77c\\uc774\\ube0c, \\uc794\\uc794\\ud55c, \\ub2ec\\ub2ec, \\uc0c1\\ud07c, \\uccad\\ub7c9, \\uc2dc\\uc6d0, \\ubc1d\\uc740, \\ubb34\\ub354\\uc704, \\ud734\\uc2dd, \\ucd94\\uc5b5, \\uc0e4\\uc6cc, \\uc194\\ub85c, \\ud765\\ud3ed\\ubc1c, \\uc2e0\\ub0a8, \\ucd94\\uc5b5\\ud68c\\uc0c1, \\uccad\\ub7c9\\ud55c, \\ud790\\ub9c1, \\ud589\\ubcf5, \\ubabd\\ud658, \\uc0ac\\ub791, \\ud76c\\ub9dd\",\"['\\uacbd\\ucf8c\\ud55c']\"],[\"\\ub098\\ub97c \\uc0ac\\ub791\\ud574\\uc918 (Feat. \\uac1c\\ucf54 Of \\ub2e4\\uc774\\ub098\\ubbf9 \\ub4c0\\uc624)\",\"\\uc11c\\uc778\\uc601\",\"\\uc124\\ub818, \\uc0ac\\ub791, \\uc0c8\\ubcbd, \\ubc24, \\uae4c\\ud398, \\uc774\\ubcc4, \\uc9dd\\uc0ac\\ub791, \\uac00\\uc744, \\ubd04, \\ubd04\\ub178\\ub798, \\uc794\\uc794\\ud55c, \\ub4dc\\ub77c\\uc774\\ube0c, \\uc5ec\\ud589, \\ud790\\ub9c1, \\uae30\\ubd84\\uc804\\ud658, \\uc2e0\\ub098\\ub294, \\uc5ec\\ub984, \\uc6b4\\ub3d9, \\ucd94\\uc5b5, \\ud68c\\uc0c1, \\ub304\\uc2a4, \\uce74\\ud398, \\ub2ec\\ub2ec\\ud55c, \\ud734\\uc2dd, \\uc4f8\\uc4f8, \\uc2ac\\ud514, \\ucee4\\ud50c, \\uc0c8\\ubcbd\\uac10\\uc131, \\uc0b0\\ucc45, \\uc800\\ub141, \\uc544\\uce68, \\ubd84\\uc704\\uae30, \\ud589\\ubcf5, \\uc2a4\\ud2b8\\ub808\\uc2a4, \\ube44\\uc624\\ub294\\ub0a0, \\uccad\\ub7c9, \\ub2ec\\ub2ec, \\ubc9a\\uaf43\",\"['\\ud589\\ubcf5\\ud55c']\"],[\"\\uaca8\\uc6b8\\uc774 \\uc88b\\uc544\\uc9c8 \\uac83 \\uac19\\uc544\",\"\\ube44\\ube44\\uc548 (BBAHN)\",\"\\uaca8\\uc6b8\",\"['\\uc794\\uc794\\ud55c']\"],[\"Black Is Black\",\"The Jungle Brothers\",\"\\ubc24, \\ud790\\ub9c1, \\uce74\\ud398, \\uae4c\\ud398\",\"['\\uc794\\uc794\\ud55c']\"],[\"Bo Peep Bo Peep\",\"\\ud2f0\\uc544\\ub77c\",\"\\uc6b0\\uc6b8\\ud560\\ub54c, \\ucd94\\uc5b5\\ud68c\\uc0c1, \\uc6b4\\ub3d9\\ud560\\ub54c, \\uae30\\ubd84\\uc804\\ud658, \\ub4dc\\ub77c\\uc774\\ube0c, \\uc794\\uc794\\ud55c, \\ucd94\\uc5b5, \\ud68c\\uc0c1, \\uc6b4\\ub3d9, \\ub178\\ub3d9\\uc694, \\ub304\\uc2a4, \\ud765\\ud3ed\\ubc1c, \\uc2a4\\ud2b8\\ub808\\uc2a4, \\uc2e0\\ub098\\ub294, \\ud734\\uc2dd, \\uac00\\uc744, \\uc5ec\\ud589, \\uae30\\uc5b5, \\ud734\\uc77c, \\ubd04, \\uace0\\uc18d\\ub3c4\\ub85c, \\ud790\\ub9c1, \\uc2a4\\ud2b8\\ub808\\uc2a4\\ud574\\uc18c, \\uae4c\\ud398, \\uaca8\\uc6b8, \\ud06c\\ub9ac\\uc2a4\\ub9c8\\uc2a4, \\uc6b4\\uc804, \\uc8fc\\ub9d0, \\ucd9c\\uadfc\\uae38, \\uc77c\\uc0c1, \\ub9ac\\ub4dc\\ubbf8\\uceec, \\ub2ec\\ucf64\\ud55c, \\uc0ac\\ub791, \\uc124\\ub818, \\ud074\\ub7fd, \\uae30\\ubd84\\uc5c5, \\ud5ec\\uc2a4, \\uce5c\\uad6c, \\uccad\\ucd98, \\uacbd\\ucf8c\\ud55c, \\uc774\\ubcc4, \\ub0b4\\uc801\\ub304\\uc2a4, \\ub808\\ud2b8\\ub85c, \\uc5ec\\ub984, \\ud765\\uaca8\\uc6b4, \\uacf5\\uac10, \\uc2e0\\ub0a8, \\uc704\\ub85c, \\ud765, \\ucda4, \\ub4e4\\uc369\\ub4e4\\uc369, \\ubd04\\ub178\\ub798, \\ub7f0\\ub2dd, \\ub098\\ub4e4\\uc774, \\ud5ec\\uc2a4\\uc7a5, \\uc870\\uae45, \\uc0c1\\ud07c, \\uadf8\\ub9ac\\uc6c0, \\uc5f0\\ud734, \\uc5ec\\ub984\\ud734\\uac00, \\uc2ac\\ud514, \\ubc14\\ub2e4, \\uc6d4\\uc694\\ubcd1, \\ud1f4\\uadfc\\uae38\",\"['\\uacbd\\ucf8c\\ud55c']\"],[\"Role Model (Feat. Swalo)\",\"Ryan\",\"\\uc2a4\\ud2b8\\ub808\\uc2a4, \\ub4dc\\ub77c\\uc774\\ube0c\",\"['\\uae34\\uc7a5\\ub418\\ub294', '\\ud589\\ubcf5\\ud55c']\"],[\"\\uaebc\\uc838\\uc904\\uac8c\",\"\\uc18c\\uc6b8\\ud50c\\ub85c\\uc6b0\",\"\\uae4c\\ud398\",\"['\\uc794\\uc794\\ud55c']\"],[\"Pookie Baby\",\"Prof\",\"\\ud074\\ub7fd\",\"['\\uacbd\\ucf8c\\ud55c']\"],[\"\\uc0ac\\ub791\\uc758 \\ud55c\\uac00\\uc6b4\\ub370 (Feat. \\uc120\\uc6b0\\uc815\\uc544)\",\"\\uc548\\ub155\\uc758 \\uc628\\ub3c4\",\"\\uc794\\uc794\\ud55c, \\ubc24, \\uc0c8\\ubcbd, \\ucd9c\\uadfc\\uae38, \\uccad\\ucd98, \\uc704\\ub85c, \\ud1f4\\uadfc, \\uc13c\\uce58, \\ucd94\\uc5b5, \\uc0ac\\ub791, \\uc774\\ubcc4, \\ud68c\\uc0c1, \\uc2ac\\ud514, \\ubd04, \\ub2ec\\ub2ec, \\uc5f0\\uc560, \\ud734\\uac00, \\uc124\\ub818, \\ud1f4\\uadfc\\uae38, \\uc0c8\\ubcbd\\uac10\\uc131, \\uc7a0\\ub4e4\\uae30\\uc804, \\uacf5\\ubd80, \\ube44\\uc624\\ub294\\ub0a0, \\ud3b8\\uc548\\ud568, \\uae30\\ubd84\\uc804\\ud658, \\ud6c4\\ud68c, \\ubd84\\uc704\\uae30, \\ud790\\ub9c1, \\ud734\\uc2dd, \\uce74\\ud398, \\uac00\\uc744, \\uc0b0\\ucc45, \\uc2ac\\ud508, \\ub208\\ubb3c, \\ud3b8\\uc548\\ud55c, \\ub2ec\\ucf64, \\uc9d1\\uc911, \\uc5ec\\uc720, \\uc8fc\\ub9d0, \\uc791\\uc5c5, \\ub4dc\\ub77c\\uc774\\ube0c, \\ubabd\\ud658, \\ubd04\\ub0a0, \\ud55c\\uac15, \\ub370\\uc774\\ud2b8, \\uc0b0\\ub73b\\ud55c, \\uac10\\uc218\\uc131, \\uac00\\uc744\\ubc24, \\uc6b4\\ub3d9, \\uc5ec\\ud589, \\uace0\\uc18d\\ub3c4\\ub85c, \\uc6b4\\uc804, \\ube44, \\uc6b0\\uc6b8\\ud55c, \\uc6b0\\uc6b8\\ud560\\ub54c, \\uc6b0\\uc6b8, \\ud1a0\\ub2e5\\ud1a0\\ub2e5, \\uce68\\ub300, \\uaca8\\uc6b8, \\uc7a0, \\uc800\\ub141, \\uc870\\uc6a9\\ud55c, \\ubd88\\uba74\\uc99d, \\ud5e4\\uc5b4\\uc9d0, \\uc2a4\\ud2b8\\ub808\\uc2a4, \\uae4c\\ud398, \\ubabd\\ud658\\uc801, \\uc720\\ub2c8\\ud06c, \\uc2e0\\ub098, \\uc4f8\\uc4f8\\ud568, \\uc678\\ub85c\\uc6c0, \\uac10\\uc131\\uc801\\uc778, \\ud798\\ub4e4\\ub54c, \\uae30\\uc5b5\",\"['\\uc6b0\\uc6b8\\ud55c']\"],[\"Back & Forth\",\"MK, Jonas Blue, Becky Hill\",\"\\uc5f0\\ub9d0, \\ub4dc\\ub77c\\uc774\\ube0c, \\uae30\\ubd84\\uc804\\ud658, \\uc2e0\\ub098\\ub294, \\ud074\\ub7fd, \\uc5ec\\ud589, \\uce74\\ud398, \\uc8fc\\ub9d0, \\uc0b0\\ucc45, \\uc870\\uae45, \\ud38d, \\ud765\\uaca8\\uc6b4, \\uc2a4\\ud2b8\\ub808\\uc2a4, \\ub0b4\\uc801\\ub304\\uc2a4, \\uc6d4\\uc694\\ubcd1, \\ud734\\uc77c, \\uae30\\ubd84\\uc5c5, \\ub304\\uc2a4, \\uc6b4\\ub3d9, \\ucd9c\\uadfc\\uae38, \\uae08\\uc694\\uc77c, \\ud799\\ud55c, \\ud30c\\ud2f0, \\ub9ac\\ub4dc\\ubbf8\\uceec, \\uae4c\\ud398, \\uc5ec\\ub984, \\ud790\\ub9c1, \\ud734\\uc2dd, \\ub808\\ud2b8\\ub85c, \\uae30\\ubd84\\uc88b\\uc740, \\ud765, \\ubd88\\uae08, \\ud5ec\\uc2a4, \\uc2a4\\ud3ec\\uce20, \\ub4e4\\uc369\\ub4e4\\uc369, \\ud1f4\\ud3d0, \\uac00\\uc744, \\ub77c\\uc6b4\\uc9c0, \\uc6b4\\ub3d9\\ud560\\ub54c\",\"['\\ud589\\ubcf5\\ud55c']\"],[\"Red Light Green Light (Feat. Shaun Ross)\",\"Duke Dumont\",\"\\ud5ec\\uc2a4, \\ud074\\ub7fd, \\uc6b4\\ub3d9, \\ub4dc\\ub77c\\uc774\\ube0c, \\uc5ec\\ud589, \\uae30\\ubd84\\uc804\\ud658, \\uc2a4\\ud2b8\\ub808\\uc2a4, \\uc2e0\\ub098\\ub294, \\uaca8\\uc6b8, \\ubd88\\uae08, \\ud30c\\ud2f0, \\ub304\\uc2a4\",\"['\\ud589\\ubcf5\\ud55c']\"],[\"Phantom Bride\",\"Deftones\",\"\\ubc34\\ub4dc, \\ud074\\ub7fd, \\ucd94\\uc5b5, \\ub4dc\\ub77c\\uc774\\ube0c\",\"['\\uacbd\\ucf8c\\ud55c', '\\ud589\\ubcf5\\ud55c']\"],[\"\\uc8fc\\ud64d\\uae00\\uc528 (Dance Ver.)\",\"\\uc2a4\\ud398\\uc774\\uc2a4 \\uc5d0\\uc774\",\"\\ucd94\\uc5b5, \\uc2a4\\ud2b8\\ub808\\uc2a4, \\ud68c\\uc0c1, \\ub304\\uc2a4, \\uae30\\ubd84\\uc804\\ud658, \\uc2e0\\ub098, \\ub4dc\\ub77c\\uc774\\ube0c, \\uc124\\ub818, \\uc0ac\\ub791, \\uc2e0\\ub098\\ub294, \\uc2a4\\ud2b8\\ub808\\uc2a4\\ud574\\uc18c, \\uc6b4\\ub3d9, \\ub178\\ub3d9\\uc694, \\uc990\\uac70\\uc6b4, \\ucd94\\uc5b5\\ud68c\\uc0c1, \\uc5ec\\ub984, \\uc5ec\\ud589, \\ud734\\uac00, \\ud790\\ub9c1, \\ud734\\uc2dd\",\"['\\uacbd\\ucf8c\\ud55c']\"],[\"Ave Maria\",\"Michael Buble\",\"\\uaca8\\uc6b8, \\uc124\\ub818, \\uc0ac\\ub791, \\uae4c\\ud398\",\"['\\uc794\\uc794\\ud55c', '\\ud589\\ubcf5\\ud55c']\"],[\"LIFE IS A PARTY\",\"\\uc5ec\\uc790\\uce5c\\uad6c (GFRIEND)\",\"\\ub4dc\\ub77c\\uc774\\ube0c, \\uc2e0\\ub098\\ub294, \\uc194\\ub85c, \\ub304\\uc2a4\",\"['\\ud589\\ubcf5\\ud55c', '\\uc794\\uc794\\ud55c']\"],[\"\\ub0b4\\uac00 \\uace0\\ub9c8\\uc6cc\",\"\\ub178\\ub974\\uc6e8\\uc774 \\uc232\",\"\\ubc24\",\"['\\ubb34\\uc11c\\uc6b4']\"],[\"\\uac00\\uc7a5 \\uc18c\\uc911\\ud55c \\uac83\\uc774 \\uac00\\uc7a5 \\uba40\\ub9ac \\ub5a0\\ub098\\uc694\",\"\\ud61c\\ub839\",\"\\ube44\\uc624\\ub294\\ub0a0, \\ubc24, \\uc0c8\\ubcbd, \\uc2ac\\ud514, \\uc774\\ubcc4, \\uc0ac\\ub791, \\uc794\\uc794\\ud55c, \\ucd94\\uc5b5, \\ud68c\\uc0c1, \\uc5ec\\ub984, \\uc124\\ub818, \\ud798\\ub4e4\\ub54c\",\"['\\uc6b0\\uc6b8\\ud55c']\"],[\"\\uc5b4\\ub5bb\\uac8c.. (Feat. \\ud6c4\\ub2c8\\ud6c8 & \\uc774\\uc720\\uc9c4)\",\"\\ud06c\\ub77c\\uc6b4\\uc81c\\uc774 (CROWN J)\",\"\\uae30\\uc5b5, \\ucd94\\uc5b5, \\ud790\\ub9c1, \\uae30\\ubd84\\uc804\\ud658, \\ud68c\\uc0c1\",\"['\\ud589\\ubcf5\\ud55c']\"],[\"18\\uac70 1517\",\"XXX\",\"\\ud799\\ud55c\",\"['\\uae34\\uc7a5\\ub418\\ub294']\"],[\"\\ube5b\\uc774 \\ub418\\uc5b4\\uc918\",\"\\ub77c\\ubd90 (LABOUM)\",\"\\uc2a4\\ud2b8\\ub808\\uc2a4, \\uc2e0\\ub098\\ub294, \\uac10\\ub3d9, \\uc124\\ub818, \\uc0ac\\ub791, \\ud55c\\uac15, \\uc6b4\\ub3d9, \\ub4dc\\ub77c\\uc774\\ube0c, \\uae30\\ubd84\\uc804\\ud658, \\uc990\\uac70\\uc6b4, \\uce5c\\uad6c, \\uc2dc\\uc6d0, \\ub304\\uc2a4\",\"['\\ud589\\ubcf5\\ud55c']\"],[\"Wanted A Name (feat. Yoke Lore)\",\"Frenship\",\"\\uce74\\ud398, \\uae30\\ubd84\\uc804\\ud658, \\uc124\\ub818, \\uac10\\ubbf8\\ub85c\\uc6b4, \\ubabd\\ud658\\uc801, \\ud074\\ub7fd, \\uc2e0\\ub098\\ub294\",\"['\\ud589\\ubcf5\\ud55c']\"],[\"TIME OUT\",\"GOT7 (\\uac13\\uc138\\ube10)\",\"\\uc5ec\\ub984, \\ub4dc\\ub77c\\uc774\\ube0c, \\uc0ac\\ub791, \\uc794\\uc794\\ud55c, \\uc5ec\\ud589, \\uc2e0\\ub098\\ub294, \\uae30\\ubd84\\uc804\\ud658, \\ud734\\uc2dd\",\"['\\ud589\\ubcf5\\ud55c']\"],[\"SWITCH\",\"yelloasis, JUNNY (\\uc8fc\\ub2c8)\",\"\\uc2a4\\ud2b8\\ub808\\uc2a4, \\uae30\\ubd84\\uc804\\ud658, \\uc5ec\\ud589, \\ub4dc\\ub77c\\uc774\\ube0c, \\ud074\\ub7fd, \\uae4c\\ud398, \\uc794\\uc794\\ud55c, \\uc5ec\\ub984, \\uc5ec\\ub984\\ubc24, \\ubd84\\uc704\\uae30, \\uc2e0\\ub098\\ub294, \\uce74\\ud398\",\"['\\ud589\\ubcf5\\ud55c']\"],[\"Blind\",\"\\ubaac\\uc2a4\\ud0c0\\uc5d1\\uc2a4\",\"\\uae30\\ubd84\\uc804\\ud658, \\uc0ac\\ub791, \\uc2e0\\ub098\\ub294, \\uc9d1\\uc911, \\ub178\\ub3d9\\uc694, \\uc6b4\\ub3d9\\ud560\\ub54c, \\ub4dc\\ub77c\\uc774\\ube0c, \\uacf5\\ubd80\\ud560\\ub54c, \\ub304\\uc2a4\",\"['\\ud589\\ubcf5\\ud55c']\"],[\"Cadillac\",\"IN2IT (\\uc778\\ud22c\\uc787)\",\"\\uc5ec\\ub984, \\uae30\\ubd84\\uc804\\ud658, \\uc6b4\\ub3d9\",\"['\\uacbd\\ucf8c\\ud55c']\"],[\"Never End\",\"\\uc81c\\uad6d\\uc758\\uc544\\uc774\\ub4e4 (ZE:A)\",\"\\uc0c8\\ubcbd, \\ucd94\\uc5b5, \\ubc24, \\ud68c\\uc0c1, \\ub9c8\\uc74c\",\"['\\uc6b0\\uc6b8\\ud55c', '\\ud589\\ubcf5\\ud55c', '\\ubb34\\uc11c\\uc6b4', '\\uc794\\uc794\\ud55c', '\\ud3b8\\uc548\\ud55c']\"],[\"\\ube44\\uc758 \\ub9c8\\uc74c\",\"\\uc0b0\\uc6b8\\ub9bc\",\"\\ube44\\uc624\\ub294\\ub0a0, \\uc794\\uc794\\ud55c, \\ucd94\\uc5b5, \\uc2ac\\ud508, \\ub9c8\\uc74c\",\"['\\uc6b0\\uc6b8\\ud55c']\"],[\"\\ub290\\ub08c\\uc774\\uc640\",\"\\ubabd\\ud0a4\\uc988\",\"\\ub2ec\\ub2ec\\ud55c, \\ub370\\uc774\\ud2b8, \\uc0ac\\ub791, \\uae30\\ubd84\\uc88b\\uc740, \\uc751\\uc6d0, \\uc0c8\\ubcbd, \\ubd04\\ub0a0, \\uc2ec\\ucff5, \\uc124\\ub818, \\uc790\\uae30\\uc804\\uc5d0, \\uce68\\ub300\",\"['\\ud589\\ubcf5\\ud55c']\"],[\"Summer`s Back (Feat. \\uae40\\uae30\\uc068)\",\"Blocka, \\uc624\\uc81c\\uc774 (OJEY)\",\"\\uc5ec\\ub984, \\ub4dc\\ub77c\\uc774\\ube0c\",\"['\\uacbd\\ucf8c\\ud55c', '\\ud589\\ubcf5\\ud55c']\"],[\"Yeah Yeah\",\"Willy Moon\",\"\\uae30\\ubd84\\uc804\\ud658, \\ub4dc\\ub77c\\uc774\\ube0c, \\uc2dc\\uc6d0\\ud55c, \\uc6b4\\ub3d9, \\ub304\\uc2a4, \\ud074\\ub7fd, \\ub0b4\\uc801\\ub304\\uc2a4, \\uc5ec\\ud589, \\uc0b0\\ucc45, \\ud734\\uc2dd, \\ud790\\ub9c1, \\ucd94\\uc5b5, \\ud68c\\uc0c1, \\uc5ec\\ub984, \\uae30\\ubd84\\uc88b\\uc740, \\ub2ec\\ucf64, \\ubd04\\ubc14\\ub78c, \\ubd88\\uba74\\uc99d, \\ud798\\ub0b4\",\"['\\ud589\\ubcf5\\ud55c']\"],[\"Move\",\"\\ud64d\\uc9c0\\ubbfc, \\uc815\\uc120\\uc544, \\uae40\\uc18c\\ud5a5\",\"\\ud790\\ub9c1, \\ud734\\uc2dd, \\uae30\\ubd84\\uc804\\ud658\",\"['\\ud589\\ubcf5\\ud55c']\"],[\"Slipping Through My Fingers (\\ub3c4\\ub098 & \\uc18c\\ud53c)\",\"\\uc774\\uc815\\ub82c & \\ucd5c\\uc815\\uc6d0\",\"\\ubba4\\uc9c0\\uceec\",\"['\\uacbd\\ucf8c\\ud55c']\"],[\"Goodbye\",\"M.Spot\",\"\\uc2ac\\ud514, \\uc0ac\\ub791, \\uc544\\ud514, \\uc774\\ubcc4\",\"['\\uc6b0\\uc6b8\\ud55c']\"],[\"Goodbye\",\"Def Leppard\",\"\\uc2ac\\ud514, \\uc0ac\\ub791, \\uc544\\ud514, \\uc774\\ubcc4\",\"['\\uc6b0\\uc6b8\\ud55c']\"],[\"\\ud68c\\uc0c1\",\"\\ub354 \\ube68\\uac15\",\"\\uc2ac\\ud514, \\ucd94\\uc5b5, \\uc774\\ubcc4, \\ud68c\\uc0c1\",\"['\\uc6b0\\uc6b8\\ud55c']\"],[\"\\ud68c\\uc0c1\",\"\\uc784\\ud604\\uc815\",\"\\uc2ac\\ud514, \\ucd94\\uc5b5, \\uc774\\ubcc4, \\ud68c\\uc0c1\",\"['\\uc6b0\\uc6b8\\ud55c']\"],[\"\\uc548\\ub155, \\uc5ec\\ub984 (Parade)\",\"Red Velvet (\\ub808\\ub4dc\\ubca8\\ubcb3)\",\"\\ud765\\uaca8\\uc6b4, \\uc6b4\\ub3d9, \\ub4dc\\ub77c\\uc774\\ube0c, \\uc0c1\\ud07c\\ud55c, \\uc5ec\\ud589, \\uae30\\ubd84\\uc804\\ud658, \\ud30c\\ud2f0, \\uc5ec\\ub984, \\uc2e0\\ub098\\ub294, \\uace0\\uc18d\\ub3c4\\ub85c, \\uc2a4\\ud2b8\\ub808\\uc2a4, \\ud734\\uac00, \\ub304\\uc2a4\",\"['\\ud589\\ubcf5\\ud55c']\"],[\"For You\",\"\\ud50c\\ub77c\\uc774 \\ud22c \\ub354 \\uc2a4\\uce74\\uc774\",\"\\uc794\\uc794\\ud55c, \\ucd94\\uc5b5, \\ud68c\\uc0c1, \\ud790\\ub9c1, \\ud734\\uc2dd\",\"['\\ud589\\ubcf5\\ud55c', '\\uc794\\uc794\\ud55c']\"],[\"Burn, Burn\",\"Lostprophets\",\"\\ub4dc\\ub77c\\uc774\\ube0c, \\uae30\\ubd84\\uc804\\ud658, \\uc6b4\\ub3d9, \\uc2a4\\ud2b8\\ub808\\uc2a4\",\"['\\ud589\\ubcf5\\ud55c']\"],[\"\\uc624\\ub298\\uc740 \\uc0c8\\ubcbd\\uc548\\uac1c \\uc18d\\uc5d0\\uc11c\",\"\\uc9d1\\ub098\\uc628 \\uac70\\uc704\",\"\\ud734\\uc2dd, \\ud790\\ub9c1, \\uc794\\uc794\\ud55c\",\"['\\uc794\\uc794\\ud55c']\"],[\"Helena\",\"My Chemical Romance\",\"\\uc2a4\\ud2b8\\ub808\\uc2a4, \\ub4dc\\ub77c\\uc774\\ube0c, \\ud790\\ub9c1, \\uc0ac\\ub791, \\uc2e0\\ub098\\ub294, \\uc6b4\\ub3d9, \\uae30\\ubd84\\uc804\\ud658, \\uc6b4\\uc804, \\ube44\\uc624\\ub294\\ub0a0, \\ubc24, \\uc0c8\\ubcbd, \\uc5ec\\ub984, \\ud5ec\\uc2a4, \\ub178\\ub3d9\\uc694\",\"['\\ud589\\ubcf5\\ud55c']\"],[\"\\ub2e4\\ub978 \\uc0ac\\ub78c\\uc774 \\uc640\\ub3c4\",\"\\ud55c\\uacbd\\uc77c\",\"\\ud68c\\uc0c1, \\uc6b0\\uc6b8, \\ucd94\\uc5b5, \\uc4f8\\uc4f8\\ud55c, \\uc2ac\\ud514, \\uc0ac\\ub791, \\uc774\\ubcc4\",\"['\\uc6b0\\uc6b8\\ud55c']\"],[\"\\ub098\\uc0ac\",\"\\uc2dc\\ub098 \\uc4f0\\ub294 \\uc568\\ub9ac\\uc2a4\",\"\\ud790\\ub9c1, \\uae30\\ubd84\\uc804\\ud658\",\"['\\ud589\\ubcf5\\ud55c']\"],[\"\\ub0b4 \\uc0ac\\ub791 \\uc1a1\\uc774 (2005 Glgolos Remix)\",\"\\ud074\\ub860\",\"\\ud734\\uc2dd, \\ud790\\ub9c1, \\uc5ec\\ud589, \\uc0b0\\ucc45\",\"['\\ud589\\ubcf5\\ud55c']\"],[\"Cosmic Girl\",\"\\uc18c\\uc5f0 (LABOUM)\",\"\\ub304\\uc2a4, \\uc0ac\\ub791, \\ucd9c\\uadfc\\uae38, \\uae30\\ubd84\\uc804\\ud658, \\uae30\\ubd84\\uc5c5, \\ud1f4\\uadfc\\uae38, \\uc2e0\\ub098\\ub294, \\uccad\\ucd98, \\uae30\\ubd84\\uc88b\\uc740, \\uc5ec\\ub984, \\ud734\\uc2dd, \\ub4dc\\ub77c\\uc774\\ube0c, \\uc704\\ub85c, \\uac00\\uc744, \\uc6d4\\uc694\\uc77c, \\uac10\\ub3d9\",\"['\\ud589\\ubcf5\\ud55c']\"],[\"Under Surveillance\",\"Toki Asako\",\"\\uc0c1\\ud07c\\ud55c, \\uce74\\ud398\",\"['\\uacbd\\ucf8c\\ud55c', '\\uc794\\uc794\\ud55c']\"],[\"\\uc544\\ub984\\ub2f5\\uace0\\ub3c4 \\uc544\\ud504\\uad6c\\ub098 (Inst.)\",\"\\ube44\\ud22c\\ube44\",\"\\uc800\\ub141, \\ud65c\\uae30\\ucc2c, \\uce74\\ud398, \\uc794\\uc794\\ud55c, \\ub304\\uc2a4, \\uae30\\ubd84\\uc804\\ud658, \\uacf5\\ubd80, \\ud790\\ub9c1, \\uc139\\uc2dc, \\uc9d1\\uc911, \\ubc24, \\uc2dc\\ud5d8, \\uacf5\\ubd80\\ud560\\ub54c, \\ud765\\ud3ed\\ubc1c, \\uc2e0\\ub098\\ub294\",\"['\\uc794\\uc794\\ud55c']\"],[\"\\ub370\\uc774\\ud2b8\",\"\\uc62c\\ub4dc\\ud53c\\uc26c\",\"\\uc0b0\\ucc45, \\ub4dc\\ub77c\\uc774\\ube0c, \\ubd04, \\uc124\\ub818, \\ub370\\uc774\\ud2b8, \\ud734\\uc2dd, \\uc544\\uce68, \\uac00\\uc744, \\uce74\\ud398, \\uc0ac\\ub791\",\"['\\ud589\\ubcf5\\ud55c']\"],[\"Sugar Baby\",\"\\ubca0\\uc774\\ube44 \\ubcf5\\uc2a4\",\"\\ub304\\uc2a4\",\"['\\uacbd\\ucf8c\\ud55c']\"],[\"\\uc544\\uce68\",\"\\ub514\\uc5b4\\ud074\\ub77c\\uc6b0\\ub4dc\",\"\\uc8fc\\ub9d0, \\uce74\\ud398, \\uc794\\uc794\\ud55c, \\ub3c5\\uc11c, \\uc0c1\\ucf8c\\ud55c, \\ucee4\\ud53c\\uc20d, \\uc544\\uce68, \\ud790\\ub9c1, \\ud734\\uc2dd, \\uae4c\\ud398, \\ubd04, \\ubc9a\\uaf43, \\ucd9c\\uadfc\\uae38, \\uc124\\ub818, \\uc0ac\\ub791, \\uaca8\\uc6b8, \\uc0b0\\ucc45, \\uc5ec\\ud589, \\uc5ec\\ub984, \\ud734\\uc591\\uc9c0, \\ubaa8\\ub2dd\\ucf5c, \\ubc34\\ub4dc, \\uae30\\ubd84\\uc804\\ud658\",\"['\\uacbd\\ucf8c\\ud55c']\"],[\"We Belong Together\",\"BIGBANG\",\"\\ub304\\uc2a4, \\ucd94\\uc5b5, \\uae30\\ubd84\\uc804\\ud658, \\ud68c\\uc0c1, \\uc124\\ub818, \\uc0ac\\ub791\",\"['\\ud589\\ubcf5\\ud55c']\"],[\"Chiquitita (\\ud0c0\\ub0d0 & \\ub85c\\uc9c0 & \\ub3c4\\ub098)\",\"\\uc804\\uc218\\uacbd & \\uc774\\uacbd\\ubbf8 & \\ucd5c\\uc815\\uc6d0\",\"\\ubba4\\uc9c0\\uceec\",\"['\\uacbd\\ucf8c\\ud55c']\"],[\"I Wish You Knew\",\"Mariah Carey\",\"\\uaca8\\uc6b8\",\"['\\uc794\\uc794\\ud55c']\"],[\"8282\",\"\\ub2e4\\ube44\\uce58\",\"\\uc2a4\\ud2b8\\ub808\\uc2a4, \\ub4dc\\ub77c\\uc774\\ube0c, \\uc2e0\\ub098\\ub294, \\ucd94\\uc5b5, \\uae30\\ubd84\\uc804\\ud658, \\ud68c\\uc0c1, \\uc5f0\\ud734, \\uc8fc\\ub9d0, \\uc2e0\\ub098, \\ub304\\uc2a4, \\ud790\\ub9c1, \\ud734\\uc2dd, \\uc2ac\\ud508, \\uc774\\ubcc4, \\uc5ec\\ub984, \\uc2e0\\ub0a8, \\uc6b4\\ub3d9, \\uc5f0\\ub9d0, \\uc0ac\\ub791, \\ub178\\ub3d9\\uc694, \\uc5ec\\ud589, \\uc794\\uc794\\ud55c, \\uae4c\\ud398, \\ucee4\\ud50c, \\ud5ec\\uc2a4, \\uc0c8\\ubcbd, \\ubc24, \\ud734\\uc77c, \\ub2ec\\ub2ec\\ud55c, \\ud1f4\\uadfc, \\ud765, \\ubd88\\uae08, \\ub0b4\\uc801\\ub304\\uc2a4, \\ubd84\\uc704\\uae30, \\uc990\\uac70\\uc6b4, \\ucc2c\\ubc14\\ub78c, \\uc2ac\\ud514, \\uc0b0\\ucc45, \\uae30\\ubd84\\uc5c5, \\uac00\\uc744, \\uc124\\ub818, \\uaca8\\uc6b8, \\ud30c\\ud2f0, \\ubd04, \\ucd9c\\uadfc\\uae38, \\uc544\\ub828\\ud55c, \\uae30\\ubd84\\uc88b\\uc740, \\uc6b4\\uc804, \\uace0\\uc18d\\ub3c4\\ub85c, \\ud734\\uac00, \\uccad\\ub7c9, \\uccad\\ucd98, \\uaca8\\uc6b8\\uac10\\uc131, \\ud06c\\ub9ac\\uc2a4\\ub9c8\\uc2a4, \\ud765\\uaca8\\uc6b4, \\ub098\\ub978\\ud55c, \\uc678\\ucd9c, \\uac10\\ubbf8\\ub85c\\uc6b4, \\ub208, \\uccab\\ub208, \\ud074\\ub7fd, \\uce74\\ud398, \\uac10\\uc131\\uc790\\uadf9, \\uc2dc\\uc6d0, \\ubc14\\ub2e4, \\uc194\\ub85c, \\uc0c1\\ud07c\\ud55c, \\ubd04\\ub178\\ub798, \\ubc9a\\uaf43, \\ud734\\uc591\\uc9c0, \\uc2dc\\uc6d0\\ud55c, \\ud574\\ubcc0, \\ubb34\\ub354\\uc704, \\uacf5\\ubd80, \\uacbd\\ucf8c\\ud55c, \\ub098\\ub4e4\\uc774, \\ucda4, \\uc2a4\\ud2b8\\ub808\\uc2a4\\ud574\\uc18c, \\ub4e4\\uc369\\ub4e4\\uc369, \\ud65c\\uae30\\ucc2c, \\ud589\\ubcf5, \\ud654\\uc774\\ud305, \\ucd94\\uc5b5\\ud68c\\uc0c1, \\uce5c\\uad6c, \\ube44\\uc624\\ub294\\ub0a0, \\uc7a5\\ub9c8, \\ud1f4\\uadfc\\uae38, \\ube44, \\ubc14\\uce89\\uc2a4, \\uc18c\\ud48d, \\uc5f0\\uc560\",\"['\\ud589\\ubcf5\\ud55c']\"],[\"Walking Night\",\"\\ubc24\\uc758 \\ud53c\\ud06c\\ub2c9\",\"\\ubc24, \\ub4dc\\ub77c\\uc774\\ube0c\",\"['\\ubb34\\uc11c\\uc6b4', '\\ud589\\ubcf5\\ud55c']\"],[\"\\ube44\\uac00 \\uc624\\uba74 \\uc88b\\uaca0\\uc5b4\",\"Briller (\\ube0c\\ub9ac\\uc5d0), \\ud53c\\uce74\",\"\\ube44\\uc624\\ub294\\ub0a0, \\ud750\\ub9b0\\ub0a0, \\ube44, \\ubd84\\uc704\\uae30, \\uac10\\uc131\\uc801\\uc778, \\uc13c\\uce58\\ud55c\",\"['\\uc6b0\\uc6b8\\ud55c']\"],[\"\\ubc00\\uc9c0\\ub9c8 (Original Ver.)\",\"\\uc6ec\\ub514 (WENDY), \\uc2ac\\uae30 (SEULGI)\",\"\\uc794\\uc794\\ud55c, \\ucd94\\uc5b5, \\ud790\\ub9c1, \\uae30\\ubd84\\uc804\\ud658, \\uc0ac\\ub791, \\uc2ac\\ud514, \\uc774\\ubcc4, \\uc0c8\\ubcbd, \\ubc24, \\ud68c\\uc0c1, \\uc124\\ub818, \\ub208\\ubb3c, \\ud734\\uc2dd, \\ub304\\uc2a4, \\uc2e0\\ub098\\ub294, \\uac00\\uc744, \\uce74\\ud398, \\ub530\\ub73b, \\uaca8\\uc6b8, \\uc9d1, \\ud1f4\\uadfc\\uae38, \\ubd04, \\ub85c\\ub9e8\\ud2f1, \\ud589\\ubcf5, \\uc5ec\\ub984, \\ub2ec\\ub2ec, \\ub4dc\\ub77c\\uc774\\ube0c, \\uc5f0\\uc560, \\uc378, \\uc544\\ud514, \\uc5ec\\ud589, \\uc0b0\\ucc45, \\uae4c\\ud398, \\uc790\\uae30\\uc804\\uc5d0, \\uccab\\ub208, \\ud06c\\ub9ac\\uc2a4\\ub9c8\\uc2a4, \\uaca8\\uc6b8\\ubc24, \\uc194\\ub85c, \\uc0c8\\ubcbd\\uac10\\uc131, \\ub2a6\\uc740\\ubc24, \\uc2a4\\ud2b8\\ub808\\uc2a4, \\uc6b4\\ub3d9\",\"['\\ud589\\ubcf5\\ud55c']\"],[\"You Are My Lady\",\"\\uae40\\uac74\\ubaa8\",\"\\ube44\\uc624\\ub294\\ub0a0, \\ubc24, \\uc0c8\\ubcbd, \\uae30\\ubd84\\uc804\\ud658, \\ub4dc\\ub77c\\uc774\\ube0c, \\uce74\\ud398, \\uc794\\uc794\\ud55c, \\ucd94\\uc5b5, \\uc704\\ub85c, \\ud790\\ub9c1, \\uc0ac\\ub791, \\uc774\\ubcc4, \\ub2ec\\ucf64\\ud55c, \\ud68c\\uc0c1, \\ud734\\uc2dd, \\uc5ec\\ud589, \\ub3c5\\uc11c, \\uc0ac\\uc0c9, \\ub808\\ud2b8\\ub85c\",\"['\\ud589\\ubcf5\\ud55c']\"],[\"\\uc5bc\\ub9c8\\ub098 \\ub2e4\\ud589\\uc774\\uc5c8\\ub2c8\",\"\\uc784\\uc18c\\uc815\",\"\\ucee4\\ud53c, \\uaca8\\uc6b8, \\uce74\\ud398, \\ud750\\ub9b0\\ub0a0, \\ube44, \\ub530\\ub73b\\ud568, \\uc794\\uc794\\ud55c, \\uc6b0\\uc6b8, \\uc0ac\\ub791\",\"['\\uc794\\uc794\\ud55c']\"],[\"\\uc5b4\\ub5bb\\uac8c\\ub4e0\",\"Various Artists\",\"\\ubba4\\uc9c0\\uceec\",\"['\\uacbd\\ucf8c\\ud55c']\"],[\"\\uc5b4\\ub5bb\\uac8c \\uc774\\ub7f0 \\uc77c\\uc774\",\"\\ubbfc\\uc601\\uae30\",\"\\ubba4\\uc9c0\\uceec, \\uae30\\ubd84\\uc804\\ud658, \\ub4dc\\ub77c\\uc774\\ube0c\",\"['\\ud589\\ubcf5\\ud55c']\"],[\"Song To A Seagull \",\"Joni Mitchell\",\"\\ucd94\\uc5b5\",\"['\\ud589\\ubcf5\\ud55c']\"],[\"Be Myself\",\"Apink (\\uc5d0\\uc774\\ud551\\ud06c)\",\"\\uc704\\ub85c, \\ud790\\ub9c1, \\ub304\\uc2a4, \\uccad\\ub7c9, \\uc2dc\\uc6d0\\ud55c, \\uae30\\ubd84\\uc804\\ud658, \\uc0c1\\ud07c, \\ub4dc\\ub77c\\uc774\\ube0c, \\uc2dc\\uc6d0, \\ucd94\\uc5b5, \\uc0c1\\ucf8c\\ud55c, \\ub530\\ub73b, \\uc9c0\\uce60\\ub54c, \\uaca8\\uc6b8\",\"['\\uc6b0\\uc6b8\\ud55c', '\\uacbd\\ucf8c\\ud55c']\"],[\"\\ud2c0\\ub9b0\\uc9c8\\ubb38\",\"\\uac80\\uc815\\uce58\\ub9c8\",\"\\ubc34\\ub4dc, \\ud734\\uc77c, \\uce74\\ud398, \\uc5ec\\uc720, \\uc794\\uc794\\ud55c, \\uc704\\ub85c, \\uae30\\ubd84\\uc804\\ud658, \\uc0c8\\ubcbd\\uac10\\uc131, \\uc0ac\\ub791, \\uc774\\ubcc4, \\ud734\\uc2dd, \\ubd04\\ub178\\ub798, \\ubd04\\ub0a0, \\ubc9a\\uaf43, \\ub370\\uc774\\ud2b8, \\uc0c8\\ubcbd, \\uc790\\uc7a5\\uac00, \\ubc24, \\ubd04, \\ud790\\ub9c1, \\uac00\\uc744, \\uaca8\\uc6b8, \\ud55c\\uac15, \\uc120\\uc120\\ud55c, \\ub4dc\\ub77c\\uc774\\ube0c, \\ubabd\\ud658\\uc801\\uc778, \\ub2ec\\ub2ec\\ud55c, \\uc124\\ub818, \\uc2e0\\ub098\\ub294\",\"['\\uc794\\uc794\\ud55c']\"],[\"\\uace0\\ubc31\",\"\\uac15\\uc131\\ud6c8\",\"\\uc2ac\\ud508, \\ucd94\\uc5b5, \\ub304\\uc2a4\",\"['\\uacbd\\ucf8c\\ud55c']\"],[\"\\uace0\\ubc31\",\"\\ub378\\ub9ac\\uc2a4\\ud30c\\uc774\\uc2a4\",\"\\uc2ac\\ud508, \\ucd94\\uc5b5, \\ub304\\uc2a4\",\"['\\uacbd\\ucf8c\\ud55c']\"],[\"\\uace0\\ubc31\",\"\\uac15\\uc131\\ud6c8\",\"\\uae30\\ubd84\\uc804\\ud658, \\uae4c\\ud398, \\ud734\\uc2dd, \\uace0\\ubc31, \\uaca8\\uc6b8, \\ucd94\\uc5b5, \\ub4dc\\ub77c\\uc774\\ube0c, \\uc5ec\\ud589, \\uc0ac\\ub791, \\uc2a4\\ud2b8\\ub808\\uc2a4, \\ud68c\\uc0c1, \\ud790\\ub9c1, \\uc0c8\\ubcbd, \\ubc24, \\uc124\\ub818, \\ubd04, \\uc8fc\\ub9d0, \\uc0b0\\ucc45, \\uc794\\uc794\\ud55c\",\"['\\ud589\\ubcf5\\ud55c']\"],[\"\\uace0\\ubc31\",\"\\ub378\\ub9ac\\uc2a4\\ud30c\\uc774\\uc2a4\",\"\\uae30\\ubd84\\uc804\\ud658, \\uae4c\\ud398, \\ud734\\uc2dd, \\uace0\\ubc31, \\uaca8\\uc6b8, \\ucd94\\uc5b5, \\ub4dc\\ub77c\\uc774\\ube0c, \\uc5ec\\ud589, \\uc0ac\\ub791, \\uc2a4\\ud2b8\\ub808\\uc2a4, \\ud68c\\uc0c1, \\ud790\\ub9c1, \\uc0c8\\ubcbd, \\ubc24, \\uc124\\ub818, \\ubd04, \\uc8fc\\ub9d0, \\uc0b0\\ucc45, \\uc794\\uc794\\ud55c\",\"['\\ud589\\ubcf5\\ud55c']\"],[\"\\uac00\\ub824\\uc9c4 \\uc9c4\\uc2e4\",\"\\uae40\\uc900\\ud604\",\"\\uae30\\ubd84\\uc804\\ud658, \\uc794\\uc794\\ud55c\",\"['\\ud589\\ubcf5\\ud55c', '\\uc794\\uc794\\ud55c']\"],[\"Don`t Recall\",\"\\uce74\\ub4dc (KARD)\",\"\\uce74\\ud398, \\uc794\\uc794\\ud55c, \\ud790\\ub9c1, \\ub530\\ub73b\\ud55c, \\ud3b8\\uc548\\ud55c, \\ub9ac\\ub4dc\\ubbf8\\uceec, \\ub304\\uc2a4, \\ub4dc\\ub77c\\uc774\\ube0c, \\uacbd\\ucf8c\\ud55c, \\uc5ec\\ud589, \\uc2dc\\uc6d0\\ud55c, \\uae30\\ubd84\\uc804\\ud658, \\uccad\\ub7c9\\ud55c, \\uc2e0\\ub098\\ub294, \\ud734\\uc2dd, \\uc2a4\\ud2b8\\ub808\\uc2a4, \\uacf5\\ubd80\\ud560\\ub54c, \\uc5ec\\ub984, \\uccad\\ub7c9\\uac10, \\uc6b4\\ub3d9, \\uc544\\uce68, \\ubaa8\\ub2dd\\ucf5c, \\uc2e0\\ub0a8, \\ubd84\\uc704\\uae30, \\ubc24, \\ubc14\\ub2e4, \\ud734\\uac00, \\ucd9c\\uadfc\\uae38, \\ub178\\ub3d9\\uc694, \\ucd94\\uc5b5, \\uccad\\ub7c9, \\uc2dc\\uc6d0, \\uc704\\ub85c, \\uc139\\uc2dc, \\uaca8\\uc6b8, \\ub208\\ubb3c, \\uc77c\\uc0c1, \\uc2ac\\ud514, \\uc6d4\\uc694\\ubcd1, \\uae30\\ubd84\\uc5c5, \\uc774\\ubcc4, \\uc0ac\\ub791, \\ud5ec\\uc2a4, \\uc0b0\\ucc45, \\uac00\\uc744, \\uc7a5\\ub9c8, \\ub4e4\\uc369\\ub4e4\\uc369, \\ub0b4\\uc801\\ub304\\uc2a4\",\"['\\ud589\\ubcf5\\ud55c']\"],[\"\\ubed4\\ud55c \\uc18c\\ub9ac\",\"\\ud2b8\\uc704\\ud2f0 (TWEETY)\",\"\\ub304\\uc2a4\",\"['\\uacbd\\ucf8c\\ud55c']\"],[\"Paper Houses\",\"Niall Horan\",\"\\ub4dc\\ub77c\\uc774\\ube0c, \\ube44\\uc624\\ub294\\ub0a0, \\ubc34\\ub4dc, \\ud750\\ub9b0\\ub0a0, \\uc794\\uc794\\ud55c\",\"['\\uc6b0\\uc6b8\\ud55c']\"],[\"\\uadf8\\uadf8\\uadf8 (\\uadf8 \\uc21c\\uac04 \\uadf8 \\ub290\\ub08c \\uadf8 \\uc124\\ub818)\",\"\\uc624\\ub85c\\ub77c\\uc2a4\\ud305\",\"\\ubc24, \\uc0c8\\ubcbd\",\"['\\ubb34\\uc11c\\uc6b4', '\\uc6b0\\uc6b8\\ud55c']\"],[\"\\ub098 \\uc774\\ub807\\uac8c \\ud589\\ubcf5\\ud574\\ub3c4 \\ub418\\ub294 \\uac78\\uae4c\",\"\\ud5c8\\uaddc\",\"\\ubba4\\uc9c0\\uceec, \\uac10\\ub3d9\",\"['\\uacbd\\ucf8c\\ud55c', '\\ud589\\ubcf5\\ud55c']\"],[\"\\uad1c\\ucc2e\\uc544\",\"\\uae40\\ub3d9\\ub960\",\"\\uc2ac\\ud514, \\uc2a4\\ud2b8\\ub808\\uc2a4, \\uc774\\ubcc4, \\uc751\\uc6d0, \\uc704\\ub85c, \\ub208\\ubb3c, \\uac10\\ub3d9, \\ud654\\uc774\\ud305, \\uc6b0\\uc6b8, \\ud798\\ub4e4\\ub54c, \\uacf5\\ubd80, \\ud790\\ub9c1, \\uccad\\ucd98, \\ud798\\ub0b4, \\ud734\\uc2dd, \\ubc24, \\uc0c8\\ubcbd, \\uc794\\uc794\\ud55c, \\uc800\\ub141, \\uae30\\ubd84\\uc804\\ud658, \\uc77c\\uc0c1, \\ucc2c\\ubc14\\ub78c, \\ucc28\\ubd84\\ud55c, \\ud68c\\uc0c1\",\"['\\uc6b0\\uc6b8\\ud55c']\"],[\"\\ub110 \\ub108\\ubb34 \\ubaa8\\ub974\\uace0\",\"\\ud5e4\\uc774\\uc988 (Heize)\",\"\\uaca8\\uc6b8, \\ud734\\uc2dd, \\uce74\\ud398, \\uc2ac\\ud514, \\uac00\\uc744, \\uc0ac\\ub791, \\uae30\\ubd84\\uc804\\ud658, \\ube44\\uc624\\ub294\\ub0a0, \\uc794\\uc794\\ud55c, \\ub304\\uc2a4, \\uac10\\uc131\\uc790\\uadf9, \\ubd04, \\uc0c8\\ubcbd, \\uc774\\ubcc4, \\ubc24, \\ud68c\\uc0c1, \\ucd94\\uc5b5, \\uc7a5\\ub9c8, \\ube44, \\ub208\\ubb3c, \\uc6b0\\uc6b8, \\ud790\\ub9c1, \\uc544\\ud514, \\uc678\\ub85c\\uc6c0, \\uc124\\ub818, \\uc5ec\\ub984, \\uc2a4\\ud2b8\\ub808\\uc2a4, \\uc219\\uba74, \\uc800\\ub141, \\ud1f4\\uadfc\\uae38, \\uae4c\\ud398, \\ucd94\\uc5b5\\ud68c\\uc0c1, \\uc0c8\\ubcbd\\uac10\\uc131, \\uae30\\uc5b5, \\uc2ac\\ud508, \\uace0\\ub3c5, \\ub0ad\\ub9cc, \\uc704\\ub85c, \\ub4dc\\ub77c\\uc774\\ube0c, \\uc720\\ub2c8\\ud06c, \\uae30\\ubd84\\uc88b\\uc740, \\uc2e0\\ub098\\ub294, \\ud398\\uc2a4\\ud2f0\\ubc8c, \\uc544\\ub984\\ub2e4\\uc6b4, \\ud654\\uc774\\ud305, \\ud53c\\ud06c\\ub2c9, \\ucee4\\ud53c, \\uadf8\\ub9ac\\uc6c0, \\ud5e4\\uc5b4\\uc9d0, \\ubd04\\ube44, \\ud3ec\\uadfc\\ud55c, \\uc4f8\\uc4f8\\ud568, \\uc5ec\\ub984\\ubc24, \\uc6b0\\uc6b8\\ud560\\ub54c, \\ucc45\\uc77d\\uc744\\ub54c, \\uc5f0\\ub9d0, \\uc5ec\\ud589, \\ud06c\\ub9ac\\uc2a4\\ub9c8\\uc2a4, \\uc6b4\\ub3d9, \\ud6c4\\ud68c, \\ud798\\ub4e4\\ub54c, \\ucd9c\\uadfc\\uae38, \\uc544\\uce68, \\uc6d4\\uc694\\uc77c, \\uccad\\ub7c9, \\uc624\\ud6c4, \\uc7a0\\ub4e4\\uae30\\uc804, \\uc990\\uac70\\uc6b4, \\ubabd\\ud658, \\ud074\\ub7fd, \\uc77c\\uc0c1, \\uac10\\ubbf8\\ub85c\\uc6b4, \\ubd84\\uc704\\uae30, \\uc2dc\\uc6d0\\ud55c, \\ud734\\uac00, \\ud765, \\uc13c\\uce58, \\uc4f8\\uc4f8, \\uc4f8\\uc4f8\\ud55c, \\uc7a0\\uc798\\ub54c, \\ub530\\ub73b\\ud55c, \\uc8fc\\ub9d0, \\ud63c\\uc220, \\ub178\\ub3d9\\uc694, \\uc5f0\\ud734, \\ucc45, \\uc560\\uc808\\ud55c, \\uacf5\\uac10, \\uc5f0\\uc778, \\uc194\\ub85c, \\ubd80\\ub4dc\\ub7ec\\uc6b4, \\ubcc4, \\uc870\\uc6a9\\ud55c, \\ud1f4\\uadfc, \\ucd9c\\uadfc, \\uccad\\ub7c9\\uac10, \\uc5ec\\uc720, \\uc794\\uc794, \\ucee4\\ud53c\\uc20d, \\ud799\\ud55c, \\uc6b0\\uc6b8\\ud55c, \\ud734\\uc77c, \\uc0b0\\ucc45, \\ubd88\\uae08, \\ud750\\ub9b0\\ub0a0, \\uac00\\uc744\\ubc24, \\uac00\\uc744\\ube44, \\uc790\\uae30\\uc804, \\uc6b8\\uace0\\uc2f6\\uc744\\ub54c, \\ud1a0\\ub2e5\\ud1a0\\ub2e5, \\ud798\\ub0b4, \\uace0\\ubc31, \\ubc9a\\uaf43, \\ub9c8\\uc74c, \\uc544\\ub828\\ud55c, \\uc2e0\\ub098, \\ucee4\\ud50c, \\uc77c\\ud560\\ub54c, \\ub099\\uc5fd, \\uc2e0\\ub0a8, \\uc2dc\\uc6d0, \\ub2ec\\ub2ec, \\uac10\\uc131\\uc801\\uc778, \\ubd04\\ub178\\ub798, \\ub2ec\\ucf64, \\uc790\\uc7a5\\uac00, \\ud3b8\\uc548\\ud55c, \\uc9dd\\uc0ac\\ub791, \\uc2a4\\ud2b8\\ub808\\uc2a4\\ud574\\uc18c, \\uac10\\uc218\\uc131, \\uc0c1\\ucf8c\\ud55c, \\uaca8\\uc6b8\\uac10\\uc131, \\uc7a0, \\uc5f0\\uc560, \\uafc0\\uc7a0, \\uc6d4\\uc694\\ubcd1, \\ud53c\\uace4, \\uac00\\uc744\\uac10\\uc131, \\ub3c5\\uc11c, \\uc0c8\\ud574, \\ubc34\\ub4dc, \\ub208, \\uacbd\\ucf8c\\ud55c, \\ud765\\ud3ed\\ubc1c, \\uacf5\\ubd80, \\ub2ec\\ub2ec\\ud55c, \\ucc28\\ubd84\\ud55c, \\ubabd\\ud658\\uc801, \\uc9d1\\uc911, \\ubd04\\ub0a0, \\ub9ac\\ub4dc\\ubbf8\\uceec, \\uae08\\uc694\\uc77c, \\ud5ec\\uc2a4, \\uc870\\uae45, \\uc120\\uc120\\ud55c, \\ucc2c\\ubc14\\ub78c\",\"['\\ud589\\ubcf5\\ud55c']\"],[\"THIS IS LOVE (Stage Ver.)\",\"SUPER JUNIOR (\\uc288\\ud37c\\uc8fc\\ub2c8\\uc5b4)\",\"\\ub304\\uc2a4, \\ucd94\\uc5b5, \\uc5ec\\ub984, \\uae30\\ubd84\\uc804\\ud658, \\ub2ec\\ub2ec, \\uace0\\ubc31, \\uc0ac\\ub791, \\uc0b0\\ucc45, \\uc5ec\\ud589, \\ud68c\\uc0c1, \\ud734\\uc2dd, \\ubc24, \\uc5ec\\ub984\\ubc24, \\uc0c8\\ubcbd\\uac10\\uc131, \\uc0c8\\ubcbd, \\ud790\\ub9c1, \\uc124\\ub818, \\uacb0\\ud63c, \\ub4dc\\ub77c\\uc774\\ube0c, \\uae4c\\ud398, \\uc794\\uc794\\ud55c, \\uc2e0\\ub098\\ub294, \\uc2a4\\ud2b8\\ub808\\uc2a4\",\"['\\ud589\\ubcf5\\ud55c']\"],[\"99 Red Balloons\",\"Goldfinger\",\"\\uc2a4\\ud2b8\\ub808\\uc2a4, \\uae30\\ubd84\\uc804\\ud658\",\"['\\uae34\\uc7a5\\ub418\\ub294', '\\ud589\\ubcf5\\ud55c']\"],[\"\\uc5b4\\uca4c\\ub77c\\uace0\",\"\\uc2b9\\ub9ac\",\"\\ub304\\uc2a4, \\ud074\\ub7fd, \\uc6b4\\ub3d9, \\ubabd\\ud658, \\uc0ac\\ub791, \\uc774\\ubcc4, \\uc6b4\\uc804, \\uae30\\ubd84\\uc804\\ud658, \\uc2e0\\ub098\\ub294, \\uc2a4\\ud2b8\\ub808\\uc2a4, \\ub4dc\\ub77c\\uc774\\ube0c, \\ub098\\ub4e4\\uc774, \\ucd94\\uc5b5, \\ud68c\\uc0c1, \\uc2e0\\ub0a8, \\uae30\\ubd84\\uc5c5, \\uc2dc\\uc6d0, \\uc5ec\\ud589, \\uc124\\ub818\",\"['\\uacbd\\ucf8c\\ud55c']\"],[\"\\ubc14\\ub2e4\",\"\\ud22c\\uc5b4\\ub9ac\\uc2a4\\ud2b8\",\"\\ubc24, \\uc0c8\\ubcbd, \\uc790\\uc7a5\\uac00\",\"['\\ubb34\\uc11c\\uc6b4', '\\uc6b0\\uc6b8\\ud55c', '\\uc794\\uc794\\ud55c']\"],[\"\\ubc29\\ubc31 (\\u508d\\u767d)\",\"\\uae40\\uc5ec\\uba85\",\"\\ub178\\ub3d9\\uc694, \\uce74\\ud398, \\ud734\\uc2dd, \\uae30\\ubd84\\uc804\\ud658, \\ubc24, \\uc0c8\\ubcbd, \\uc720\\ub2c8\\ud06c, \\uc5ec\\ud589\\uc0b0\\ucc45, \\ub4dc\\ub77c\\uc774\\ube0c, \\ud790\\ub9c1, \\uc2a4\\ud2b8\\ub808\\uc2a4, \\uc6b0\\uc6b8, \\ud798\\ub4e4\\ub54c, \\uc704\\ub85c, \\uc794\\uc794\\ud55c, \\uc5ec\\ud589, \\uc0ac\\ub791, \\ub099\\uc5fd, \\uc2e0\\ub098\\ub294, \\ubc34\\ub4dc, \\uac00\\uc744\\ubc24, \\uac00\\uc744, \\uac00\\uc744\\ube44, \\uc0b0\\ucc45, \\uaca8\\uc6b8, \\ud06c\\ub9ac\\uc2a4\\ub9c8\\uc2a4\",\"['\\ud589\\ubcf5\\ud55c']\"],[\"\\ub0b4 \\ubaa8\\ub4e0  \\uac83\",\"\\uc11c\\ud0dc\\uc9c0\\uc640 \\uc544\\uc774\\ub4e4\",\"\\uc794\\uc794\\ud55c, \\ucd94\\uc5b5, \\ud68c\\uc0c1\",\"['\\ud589\\ubcf5\\ud55c']\"],[\"\\ub3c5\\uc77c\\uacf5\\uc6d0\",\"\\uc774\\ud638\\uc11d\",\"\\ud734\\uc2dd, \\uce74\\ud398, \\uae30\\ubd84\\uc804\\ud658, \\uc0ac\\ub791, \\uc774\\ubcc4, \\uc2a4\\ud2b8\\ub808\\uc2a4\",\"['\\uc794\\uc794\\ud55c', '\\ud589\\ubcf5\\ud55c']\"],[\"How Many Times\",\"\\ube44 \\ub9c8\\uc774 \\uac8c\\uc2a4\\ud2b8\",\"\\ube44\\uc624\\ub294\\ub0a0, \\uc5ec\\ud589, \\uc0b0\\ucc45\",\"['\\ud589\\ubcf5\\ud55c']\"],[\"\\uc788\\uc744\\ub54c \\uc798\\ud574 (Remix)\",\"\\ucfe8 (COOL)\",\"\\ub304\\uc2a4\",\"['\\uacbd\\ucf8c\\ud55c']\"],[\"\\uaca8\\uc6b8\\uc560 (\\u611b)\",\"\\ud30c\\ud2f0\\ud0c0\\uc784\",\"\\uc5f0\\ub9d0, \\ud06c\\ub9ac\\uc2a4\\ub9c8\\uc2a4, \\ube44\\uc624\\ub294\\ub0a0, \\ucd94\\uc5b5, \\ud68c\\uc0c1, \\ub304\\uc2a4, \\uaca8\\uc6b8, \\uc124\\ub818, \\uc0ac\\ub791\",\"['\\uc794\\uc794\\ud55c']\"],[\"Children Of Today\",\"Blasterjaxx\",\"\\uc6b4\\ub3d9, \\ub4dc\\ub77c\\uc774\\ube0c\",\"['\\uacbd\\ucf8c\\ud55c', '\\ud589\\ubcf5\\ud55c']\"],[\"Escape\",\"\\uac70\\ubbf8\",\"\\ucd94\\uc5b5, \\uae30\\ubd84\\uc804\\ud658, \\ud68c\\uc0c1\",\"['\\ud589\\ubcf5\\ud55c']\"],[\"\\uc720\\uae30\\ub18d (Feat. Reddy, NO:EL) (JVillian mix)\",\"\\ud55c\\ud574\",\"\\uc5ec\\ub984, \\ud30c\\ud2f0\",\"['\\uacbd\\ucf8c\\ud55c', '\\ud589\\ubcf5\\ud55c']\"],[\"The Only Way Is Up (Radio Edit)\",\"Martin Garrix, Tiesto\",\"\\ubd88\\uae08, \\uc2e0\\ub098\\ub294, \\ub4dc\\ub77c\\uc774\\ube0c, \\ud074\\ub7fd, \\uae30\\ubd84\\uc804\\ud658, \\uc6b4\\ub3d9, \\uc2a4\\ud2b8\\ub808\\uc2a4, \\ud55c\\uac15, \\uc8fc\\ub9d0, \\uc800\\ub141, \\ud30c\\ud2f0, \\ub0b4\\uc801\\ub304\\uc2a4, \\ub304\\uc2a4, \\uc794\\uc794\\ud55c, \\uc5ec\\ud589, \\uc2e0\\ub0a8\",\"['\\uacbd\\ucf8c\\ud55c']\"],[\"\\ub098\\ub77c\\uc640 \\ub9cc\\uc11d\\uc758 Love Theme\",\"\\uc624\\ub9cc\\uc11d, \\uc624\\ub098\\ub77c\",\"\\ud55c\\uac15, \\ud589\\ubcf5, \\uc5ec\\ud589, \\uae30\\ubd84\\uc804\\ud658, \\uc124\\ub818\",\"['\\ud589\\ubcf5\\ud55c']\"],[\"Stay With Me (Feat. \\uc2e0\\uc9c0\\uc218) (Prod. Imlay)\",\"\\uc2ac\\ub9ad (SLEEQ)\",\"\\uae30\\ubd84\\uc804\\ud658, \\ub4dc\\ub77c\\uc774\\ube0c, \\uc704\\ub85c, \\ud790\\ub9c1, \\uc2a4\\ud2b8\\ub808\\uc2a4, \\uccad\\ucd98, \\uc2e0\\ub098\\ub294\",\"['\\ud589\\ubcf5\\ud55c']\"],[\"\\ud5e4\\ub9e4\\uc774\\ub2e4 (Prod by \\ucf54\\uac04\\uba5c\\uc544)\",\"\\ud5c8\\uc724\\uacbd\",\"\\ubd04\\ub0a0\",\"['\\ud589\\ubcf5\\ud55c']\"],[\"\\ub0c9\\ub3d9\\ub9cc\\ub450\",\"\\uc0ac\\uc774\",\"\\uc2a4\\ud2b8\\ub808\\uc2a4, \\uae30\\ubd84\\uc804\\ud658, \\uc794\\uc794\\ud55c, \\ucd94\\uc5b5, \\ud68c\\uc0c1, \\ud790\\ub9c1, \\ud734\\uc2dd\",\"['\\uae34\\uc7a5\\ub418\\ub294']\"],[\"\\uc6b0\\ub9ac\\ub77c\\ub294 \\ub9d0\\uc774 \\uc0ac\\ub77c\\uc9c4 \\uac83 \\uac19\\uc544 (With \\uc131\\ubbfc)\",\"\\ubbf8\\uc564\\uc720 (me and you)\",\"\\uc774\\ubcc4, \\uc9dd\\uc0ac\\ub791\",\"['\\uc6b0\\uc6b8\\ud55c', '\\ud589\\ubcf5\\ud55c']\"],[\"Happy\",\"\\ud551\\ud074 (Fin.K.L)\",\"\\ub304\\uc2a4, \\ucd94\\uc5b5\",\"['\\uacbd\\ucf8c\\ud55c']\"],[\"\\uadf8\\ub300\\ubc16\\uc5d4\",\"\\ud074\\ub9ad\\ube44 (Click-B)\",\"\\ucd94\\uc5b5, \\uae30\\ubd84\\uc804\\ud658, \\ud68c\\uc0c1\",\"['\\ud589\\ubcf5\\ud55c']\"],[\"Bad Lady\",\"\\ud654\\uc694\\ube44\",\"\\uce74\\ud398, \\ud765\\uaca8\\uc6b4, \\ud790\\ub9c1, \\ud734\\uc2dd, \\ucd94\\uc5b5, \\ud68c\\uc0c1\",\"['\\uc794\\uc794\\ud55c']\"],[\"Me+U\",\"f(x)\",\"\\ub304\\uc2a4, \\uc77c\\uc0c1, \\uac00\\uc744, \\uc0ac\\ub791, \\uae30\\ubd84\\uc804\\ud658, \\uc124\\ub818, \\uc2a4\\ud2b8\\ub808\\uc2a4, \\ubd04, \\ub4dc\\ub77c\\uc774\\ube0c, \\ucda4, \\ud790\\ub9c1, \\ud734\\uc2dd\",\"['\\ud589\\ubcf5\\ud55c']\"],[\"Thine\",\"Rb Free Code Combination\",\"\\uc5ec\\ud589, \\uae30\\ubd84\\uc804\\ud658, \\uc0b0\\ucc45\",\"['\\ud589\\ubcf5\\ud55c']\"],[\"O.K O.K\",\"DJ DOC\",\"\\ub304\\uc2a4, \\uc6b4\\uc804, \\uae30\\ubd84\\uc804\\ud658, \\ud790\\ub9c1, \\ub4dc\\ub77c\\uc774\\ube0c, \\uc6b4\\ub3d9, \\ub178\\ub3d9\\uc694, \\ud68c\\uc0c1, \\ucd94\\uc5b5, \\uc990\\uac70\\uc6b4, \\uc2e0\\ub098\\ub294\",\"['\\uacbd\\ucf8c\\ud55c']\"],[\"Radar\",\"Britney Spears\",\"\\ub4dc\\ub77c\\uc774\\ube0c, \\uae30\\ubd84\\uc804\\ud658, \\uc2e0\\ub098\\ub294, \\uc6b4\\ub3d9\",\"['\\ud589\\ubcf5\\ud55c']\"],[\"\\uc5b4\\ub450\\uc6b4 \\ubc24\\uc744 \\ubcf4\\uc558\\uc9c0\",\"\\uad8c\\ub098\\ubb34\",\"\\uc6b0\\uc6b8, \\uc794\\uc794\\ud55c\",\"['\\uc6b0\\uc6b8\\ud55c', '\\uc794\\uc794\\ud55c']\"],[\"Carry The Weight\",\"Denison Witmer\",\"\\uce74\\ud398, \\ucee4\\ud53c, \\ube44\\uc624\\ub294\\ub0a0, \\uc794\\uc794\\ud55c, \\ubd04\\ube44, \\uc13c\\uce58\",\"['\\uc794\\uc794\\ud55c']\"],[\"679 (Feat. Remy Boyz)\",\"Fetty Wap\",\"\\ub304\\uc2a4, \\uae30\\ubd84\\uc804\\ud658, \\uc2e0\\ub098\\ub294, \\ud074\\ub7fd, \\uc794\\uc794\\ud55c, \\ub77c\\uc6b4\\uc9c0, \\ub4dc\\ub77c\\uc774\\ube0c, \\uc5ec\\ud589, \\ud5ec\\uc2a4, \\uc6b4\\ub3d9\\ud560\\ub54c, \\uc6b4\\ub3d9, \\uc5ec\\ub984, \\ud790\\ub9c1, \\ud734\\uc2dd, \\uc2e0\\ub098, \\uac15\\ub82c\\ud55c, \\uc2a4\\ud2b8\\ub808\\uc2a4, \\ucda4, \\uae4c\\ud398, \\ud30c\\ud2f0, \\ucd94\\uc5b5, \\ud68c\\uc0c1\",\"['\\uacbd\\ucf8c\\ud55c']\"],[\"The Sweetest Taboo (Remastered)\",\"Sade\",\"\\uc5ec\\ub984\\ubc24\",\"['\\uacbd\\ucf8c\\ud55c']\"],[\"FILM\",\"\\ub9c8\\ud2f4\\uc2a4\\ubbf8\\uc2a4\",\"\\ucd9c\\uadfc\\uae38, \\uce74\\ud398, \\uc0c8\\ubcbd, \\ud734\\uc2dd, \\uc800\\ub141, \\uc0ac\\ub791, \\ud589\\ubcf5, \\uccad\\ucd98, \\ud53c\\ud06c\\ub2c9, \\ubd04, \\ub2ec\\ub2ec\\ud55c, \\ucc28\\ubd84\\ud55c, \\ubc9a\\uaf43, \\ub098\\ub4e4\\uc774, \\ub4dc\\ub77c\\uc774\\ube0c, \\uc5ec\\ud589, \\uae30\\ubd84\\uc804\\ud658, \\ud790\\ub9c1\",\"['\\uc794\\uc794\\ud55c', '\\ud589\\ubcf5\\ud55c']\"],[\"Sun In Our Eyes (Don Diablo Remix)\",\"M\\u00d8, Diplo\",\"\\uc2e0\\ub098\\ub294, \\uc8fc\\ub9d0, \\ub4dc\\ub77c\\uc774\\ube0c, \\ub098\\ub4e4\\uc774, \\uae30\\ubd84\\uc804\\ud658, \\ud765\\ud3ed\\ubc1c, \\uae30\\ubd84\\uc88b\\uc740\",\"['\\ud589\\ubcf5\\ud55c']\"],[\"\\uc9c4\\uc9dc \\uc0ac\\ub791\",\"\\uc288\\uc0e4\\uc778\\ubcf4\\uc774\",\"\\ub304\\uc2a4\",\"['\\uacbd\\ucf8c\\ud55c']\"],[\"#1(Nut`s Poetry) (Feat. \\uc2e0\\uc9c0\\uc218)\",\"\\uc2a4\\ud0a4\\ub2c8\\uc8e0 (Skinnyjoe)\",\"\\ub178\\ub3d9\\uc694, \\uac10\\ubbf8\\ub85c\\uc6b4, \\uce74\\ud398, \\uae30\\ubd84\\uc804\\ud658, \\uc7a0, \\ud734\\uc2dd, \\ubc24, \\uc794\\uc794\\ud55c, \\ub77c\\uc6b4\\uc9c0, \\uc8fc\\ub9d0, \\ubd84\\uc704\\uae30, \\ub4dc\\ub77c\\uc774\\ube0c, \\ub098\\ub978\\ud55c, \\uc4f8\\uc4f8\",\"['\\ud589\\ubcf5\\ud55c']\"],[\"\\ub0af\\uc120\\ub0a0 (Feat. \\ud380\\uce58) (Weird Day)\",\"\\ubb38\\ubcc4 (\\ub9c8\\ub9c8\\ubb34)\",\"\\uc2a4\\ud2b8\\ub808\\uc2a4, \\ubd04, \\uc0ac\\ub791, \\uc544\\ub984\\ub2e4\\uc6b4, \\uc77c\\uc0c1, \\uaca8\\uc6b8, \\uc800\\ub141, \\uce74\\ud398, \\uc624\\ud6c4, \\ub4dc\\ub77c\\uc774\\ube0c, \\ubd88\\uae08, \\uae30\\ubd84\\uc804\\ud658, \\uaca8\\uc6b8\\ubc24, \\ubd84\\uc704\\uae30, \\uc774\\ubcc4, \\uc9d1\\uc911, \\ucc2c\\ubc14\\ub78c, \\ud734\\uc77c, \\uc8fc\\ub9d0, \\uaca8\\uc6b8\\uac10\\uc131, \\ucd94\\uc5b5, \\ub178\\ub3d9\\uc694, \\ub3c4\\uc2dc, \\uc794\\uc794\\ud55c, \\uc704\\ub85c, \\ud734\\uc2dd, \\uc6b0\\uc6b8\\ud560\\ub54c, \\uc5ec\\uc720, \\ud5e4\\uc5b4\\uc9d0, \\uc678\\ub85c\\uc6c0, \\uc124\\ub818, \\uace0\\ub3c5, \\ub304\\uc2a4, \\uc2e0\\ub098\\ub294, \\uc194\\ub85c, \\ub530\\uc2a4\\ud55c, \\ub530\\ub73b\\ud55c\",\"['\\ud589\\ubcf5\\ud55c']\"],[\"Real Love\",\"Lo Moon\",\"\\ud734\\uc2dd, \\uc5ec\\ud589\\uc0b0\\ucc45, \\ub4dc\\ub77c\\uc774\\ube0c, \\uae30\\ubd84\\uc804\\ud658, \\uc2a4\\ud2b8\\ub808\\uc2a4\",\"['\\ud589\\ubcf5\\ud55c']\"],[\"\\uac70\\uc9d3\\ucc98\\ub7fc \\ub2e4\\uc2dc \\ubd04\\uc740 \\uc624\\uaca0\\uc9c0 (Spring Will Come Again As Always)\",\"316\",\"\\uae4c\\ud398, \\uc794\\uc794\\ud55c, \\ud790\\ub9c1, \\ud734\\uc2dd, \\uc2a4\\ud2b8\\ub808\\uc2a4, \\uaca8\\uc6b8, \\ubc24, \\uc0c8\\ubcbd, \\ud63c\\uc790\\uc788\\uc744\\ub54c, \\uaca8\\uc6b8\\ubc24, \\ub530\\ub73b\\ud55c, \\uc9d1\\uc911, \\uacf5\\ubd80, \\uac10\\ubbf8\\ub85c\\uc6b4, \\uacf5\\ubd80\\ud560\\ub54c, \\uba85\\uc0c1, \\ube44\\uc624\\ub294\\ub0a0, \\uce74\\ud398, \\ucc45\\uc77d\\uc744\\ub54c, \\uc77c\\ud560\\ub54c, \\ub178\\ub3d9\\uc694, \\ub530\\ub4ef\\ud55c, \\uc0ac\\uc0c9, \\ubd80\\ub4dc\\ub7ec\\uc6b4, \\ub3c5\\uc11c, \\uc704\\ub85c, \\ubd81\\uce74\\ud398, \\ubd04, \\uc124\\ub818, \\uc0ac\\ub791, \\ud3ec\\uadfc\\ud55c, \\uc790\\uc7a5\\uac00\",\"['\\uc794\\uc794\\ud55c']\"],[\"Reinventing The Wheel To Run Myself Over\",\"Fall Out Boy\",\"\\uc2a4\\ud2b8\\ub808\\uc2a4, \\uae30\\ubd84\\uc804\\ud658\",\"['\\uae34\\uc7a5\\ub418\\ub294', '\\ud589\\ubcf5\\ud55c']\"],[\"\\uc774 \\ube44\\uac00 \\uadf8\\uce58\\uba74\",\"\\ucfe8\\uc190\",\"\\uae30\\ubd84\\uc804\\ud658, \\uc124\\ub818, \\uc0ac\\ub791, \\uc794\\uc794\\ud55c, \\ubc24, \\uc0c8\\ubcbd, \\ubd84\\uc704\\uae30, \\ubabd\\ud658, \\ud734\\uc2dd, \\ud790\\ub9c1, \\ucd94\\uc5b5, \\uc704\\ub85c, \\uc774\\ubcc4, \\uccad\\ucd98\",\"['\\ud589\\ubcf5\\ud55c']\"],[\"\\uc120\\uc778\\uc7a5 (Green Shadow Mix)\",\"\\uce90\\uc2a4\\ucee4\",\"\\ub304\\uc2a4, \\uc2ac\\ud514, \\uc774\\ubcc4\",\"['\\uc6b0\\uc6b8\\ud55c']\"],[\"In2Uroduction\",\"\\ub9c8\\uc774\\ud050(MY-Q)\",\"\\ubc24, \\uc0c8\\ubcbd\",\"['\\ubb34\\uc11c\\uc6b4', '\\uc6b0\\uc6b8\\ud55c']\"],[\"\\ub0a0 \\ub2ee\\uc740 \\ub108\",\"\\uc774\\uc608\\uc900, \\uc774\\ud604\\uc8fc\",\"\\uae30\\ubd84\\uc804\\ud658, \\ubc24, \\uc0c8\\ubcbd, \\uc2ac\\ud514, \\uc774\\ubcc4, \\ud790\\ub9c1, \\ud734\\uc2dd, \\uc794\\uc794\\ud55c, \\ucd94\\uc5b5, \\ud68c\\uc0c1, \\uc124\\ub818, \\uc0ac\\ub791, \\ube44\\uc624\\ub294\\ub0a0, \\uac00\\uc744, \\uc6b0\\uc6b8, \\ub4dc\\ub77c\\uc774\\ube0c, \\uadf8\\ub9ac\\uc6c0, \\uc704\\ub85c, \\uc2a4\\ud2b8\\ub808\\uc2a4\",\"['\\uc6b0\\uc6b8\\ud55c']\"],[\"Game Over\",\"Martin Garrix, Loopers\",\"\\ud5ec\\uc2a4, \\uc2a4\\ud3ec\\uce20, \\uc6b4\\ub3d9, \\ub7f0\\ub2dd, \\uc870\\uae45, \\uc694\\uac00, \\ud074\\ub7fd, \\ub178\\ub3d9\\uc694, \\uc6b4\\ub3d9\\ud560\\ub54c, \\ub4dc\\ub77c\\uc774\\ube0c, \\uae30\\ubd84\\uc804\\ud658, \\uc2a4\\ud2b8\\ub808\\uc2a4, \\uc2e0\\ub098\\ub294, \\ud765, \\ud654\\uc774\\ud305, \\uae30\\ubd84\\uc5c5, \\uc9c0\\uce5c, \\ud765\\ud3ed\\ubc1c, \\uae30\\ubd84\\uc88b\\uc740, \\ub304\\uc2a4, \\ub7ec\\ub2dd, \\ud398\\uc2a4\\ud2f0\\ubc8c, \\ud30c\\ud2f0, \\ubd88\\uae08, \\uc5ec\\ub984, \\uc5ec\\ud589, \\ud734\\uac00, \\uc2e0\\ub0a8, \\uac15\\ub82c\\ud55c, \\ub2ec\\ub9ac\\uae30, \\ub808\\ud2b8\\ub85c, \\uc8fc\\ub9d0, \\ud5ec\\uc2a4\\uc7a5, \\uc0c8\\ud574, \\uc2a4\\ud2b8\\ub808\\uc2a4\\ud574\\uc18c\",\"['\\uacbd\\ucf8c\\ud55c']\"],[\"Booty Bounce (Extended Mix) (Dirty Ver.)\",\"Taio Cruz, Tujamo\",\"\\uc6b4\\ub3d9, \\uc2a4\\ud2b8\\ub808\\uc2a4, \\uae30\\ubd84\\uc804\\ud658, \\ub4dc\\ub77c\\uc774\\ube0c, \\uc5ec\\ud589, \\ud074\\ub7fd, \\ubd88\\uae08, \\uc2e0\\ub098\\ub294\",\"['\\uacbd\\ucf8c\\ud55c']\"],[\"\\uc544\\ub514\\uc624\",\"\\uc774\\uc2b9\\uae30\",\"\\uaca8\\uc6b8, \\ubc24, \\uac00\\uc744, \\uc2ac\\ud514, \\uc774\\ubcc4, \\ud5e4\\uc5b4\\uc9d0, \\uc2a4\\ud2b8\\ub808\\uc2a4, \\ud790\\ub9c1, \\ucd94\\uc5b5, \\ud734\\uc2dd, \\ud68c\\uc0c1, \\uc5ec\\ud589, \\uc794\\uc794\\ud55c, \\uc0c8\\ubcbd, \\uae30\\ubd84\\uc804\\ud658, \\ube44\\uc624\\ub294\\ub0a0, \\uc124\\ub818, \\uc0ac\\ub791\",\"['\\ud589\\ubcf5\\ud55c', '\\uc794\\uc794\\ud55c']\"],[\"I Walk The Line\",\"Halsey\",\"\\uae4c\\ud398, \\uce74\\ud398, \\ub4dc\\ub77c\\uc774\\ube0c, \\uc5ec\\ud589, \\uae30\\ubd84\\uc804\\ud658, \\ube44\\uc624\\ub294\\ub0a0, \\ubc24, \\uc0c8\\ubcbd, \\uc2e0\\ub098\\ub294, \\uc0b0\\ucc45, \\ubd04, \\uc794\\uc794\\ud55c, \\uc2a4\\ud2b8\\ub808\\uc2a4, \\uc0ac\\ub791, \\ubd84\\uc704\\uae30, \\ubabd\\ud658\\uc801\\uc778, \\uac00\\uc744\\ubc24, \\uc13c\\uce58\",\"['\\ud589\\ubcf5\\ud55c']\"],[\"Homme\",\"Brazilian Girls\",\"\\ube44\\uc624\\ub294\\ub0a0, \\ubc24, \\uc0c8\\ubcbd\",\"['\\uc6b0\\uc6b8\\ud55c']\"],[\"\\uc544\\uc9c1\\uc740 \\uc544\\ub0d0 (Tell Me Baby)\",\"\\ub85c\\ub9e8\\ud2f1 \\ud380\\uce58\",\"\\uae30\\ubd84\\uc804\\ud658, \\uc2e0\\ub098\\ub294, \\ucd9c\\uadfc\\uae38, \\ubc24, \\uc0c8\\ubcbd, \\ud1f4\\uadfc\\uae38, \\uc5ec\\ud589, \\ub4dc\\ub77c\\uc774\\ube0c, \\uc0b0\\ucc45\",\"['\\ud589\\ubcf5\\ud55c']\"],[\"\\uc548\\ub155 \\uc0ac\\ub791\\uc544\",\"\\ubc15\\ud6a8\\uc2e0\",\"\\ud790\\ub9c1, \\ud734\\uc2dd, \\uc124\\ub818, \\uc0ac\\ub791, \\uc794\\uc794\\ud55c, \\ucd94\\uc5b5, \\uc704\\ub85c, \\ubd84\\uc704\\uae30, \\uc0c8\\ubcbd, \\uc2ac\\ud514, \\uc774\\ubcc4, \\ud68c\\uc0c1, \\ube44\\uc624\\ub294\\ub0a0, \\ubc24, \\uaca8\\uc6b8, \\ube44, \\ubd04\\ube44, \\ud1f4\\uadfc\\uae38, \\uae30\\ubd84\\uc804\\ud658, \\ub4dc\\ub77c\\uc774\\ube0c, \\uac00\\uc744\\uac10\\uc131, \\uac00\\uc744, \\uce74\\ud398, \\uc624\\ud6c4, \\ucee4\\ud53c, \\uac10\\ub3d9, \\uc5ec\\ub984, \\uc6b8\\uace0\\uc2f6\\uc744\\ub54c, \\uc9dd\\uc0ac\\ub791, \\uc2a4\\ud2b8\\ub808\\uc2a4, \\uc2ac\\ud508, \\uc794\\uc794, \\uc8fc\\ub9d0, \\uc9d1, \\ud63c\\uc220, \\uc77c\\uc0c1, \\uce68\\ub300, \\ub208\\ubb3c, \\ud5e4\\uc5b4\\uc9d0, \\uc678\\ub85c\\uc6c0, \\ud6c4\\ud68c, \\ub530\\ub73b\\ud55c, \\ud3ec\\uadfc\\ud55c, \\uac10\\uc131\\uc801\\uc778, \\uac10\\ubbf8\\ub85c\\uc6b4, \\uae4c\\ud398, \\uadf8\\ub9ac\\uc6c0, \\uc800\\ub141, \\uc7a0\\ub4e4\\uae30\\uc804, \\uc4f8\\uc4f8\\ud568, \\uc4f8\\uc4f8, \\ubd04, \\uc560\\uc808\\ud55c, \\ub304\\uc2a4, \\uc0c8\\ubcbd\\uac10\\uc131, \\ub208, \\uc4f8\\uc4f8\\ud55c, \\ud589\\ubcf5, \\uccad\\ucd98, \\uc5f0\\uc560, \\uc6b0\\uc6b8\",\"['\\uc6b0\\uc6b8\\ud55c']\"],[\"E\\uba54\\uc774\\uc838\\ub97c \\uce58\\uba74\",\"\\uae40\\ucc3d\\uc644\\ubc34\\ub4dc\",\"\\ucd94\\uc5b5, \\ub4dc\\ub77c\\uc774\\ube0c, \\ud68c\\uc0c1\",\"['\\ud589\\ubcf5\\ud55c']\"],[\"Amanda\",\"Boston\",\"\\ud734\\uc2dd, \\ud790\\ub9c1, \\uae30\\ubd84\\uc804\\ud658, \\uc6b8\\uace0\\uc2f6\\uc744\\ub54c, \\uc2ac\\ud514, \\uc774\\ubcc4, \\uc124\\ub818, \\uae4c\\ud398, \\uc0ac\\ub791, \\uac00\\uc744\",\"['\\ud589\\ubcf5\\ud55c']\"],[\"\\ud640\\ub85c\\ubd04\",\"\\uc548\\uc608\\uc740\",\"\\uce74\\ud398, \\ubd04, \\uc794\\uc794\\ud55c, \\ube44\\uc624\\ub294\\ub0a0, \\uc6b0\\uc6b8, \\uaf43, \\ub4dc\\ub77c\\uc774\\ube0c, \\uc5ec\\ud589, \\uae30\\ubd84\\uc804\\ud658, \\uc2a4\\ud2b8\\ub808\\uc2a4, \\ub530\\ub73b\\ud55c, \\ubc24, \\uc0ac\\ub791, \\ub370\\uc774\\ud2b8, \\ubc9a\\uaf43, \\uaca8\\uc6b8, \\ud55c\\uac15, \\ubd84\\uc704\\uae30, \\uc0b0\\ucc45, \\uc544\\ub828\\ud55c, \\uc560\\uc808\\ud55c, \\uc13c\\uce58, \\ud734\\uc2dd, \\uc774\\ubcc4, \\uc2e0\\ub098\\ub294\",\"['\\ud589\\ubcf5\\ud55c']\"],[\"Ignition\",\"R. Kelly\",\"\\ub4dc\\ub77c\\uc774\\ube0c, \\uae30\\ubd84\\uc804\\ud658, \\ud30c\\ud2f0, \\uc0ac\\ub791, \\uc6b4\\ub3d9, \\uae4c\\ud398, \\uc124\\ub818, \\uc794\\uc794\\ud55c, \\ucd94\\uc5b5, \\uc2a4\\ud2b8\\ub808\\uc2a4\",\"['\\ud589\\ubcf5\\ud55c']\"],[\"\\ub108 \\ub54c\\ubb38\\uc5d0\",\"\\uc81c\\uc544\",\"\\uc2ac\\ud514, \\uc774\\ubcc4, \\ub208\\ubb3c, \\uc0ac\\ub791, \\uc0c8\\ubcbd\\uac10\\uc131, \\uc2a4\\ud2b8\\ub808\\uc2a4, \\uae30\\ubd84\\uc804\\ud658, \\uc2ac\\ud508, \\ucd94\\uc5b5, \\ud68c\\uc0c1, \\ud734\\uc2dd, \\uc794\\uc794\\ud55c\",\"['\\uc6b0\\uc6b8\\ud55c']\"],[\"\\ub108 \\ub54c\\ubb38\\uc5d0\",\"B1A4\",\"\\uc2ac\\ud514, \\uc774\\ubcc4, \\ub208\\ubb3c, \\uc0ac\\ub791, \\uc0c8\\ubcbd\\uac10\\uc131, \\uc2a4\\ud2b8\\ub808\\uc2a4, \\uae30\\ubd84\\uc804\\ud658, \\uc2ac\\ud508, \\ucd94\\uc5b5, \\ud68c\\uc0c1, \\ud734\\uc2dd, \\uc794\\uc794\\ud55c\",\"['\\uc6b0\\uc6b8\\ud55c']\"],[\"\\ub108 \\ub54c\\ubb38\\uc5d0\",\"\\uc81c\\uc544\",\"\\uc5ec\\ud589, \\uc0b0\\ucc45, \\ubc24, \\uc0c8\\ubcbd, \\uc794\\uc794\\ud55c, \\ud5ec\\uc2a4, \\uc6b4\\ub3d9\\ud560\\ub54c, \\uce74\\ud398, \\ub4dc\\ub77c\\uc774\\ube0c, \\uc2e0\\ub098\\ub294, \\ucd94\\uc5b5, \\uae30\\ubd84\\uc804\\ud658, \\ud68c\\uc0c1, \\ub304\\uc2a4, \\uc124\\ub818, \\uc0ac\\ub791, \\uc2a4\\ud2b8\\ub808\\uc2a4, \\uc2ac\\ud514, \\uc774\\ubcc4, \\ud798\\ub4e4\\ub54c, \\ube44, \\ud734\\uc2dd, \\ud790\\ub9c1, \\uc5ec\\ub984, \\ubd04, \\uac00\\uc744, \\uaca8\\uc6b8, \\uc2e0\\ub0a8, \\uc0c1\\ud07c\",\"['\\ud589\\ubcf5\\ud55c']\"],[\"\\ub108 \\ub54c\\ubb38\\uc5d0\",\"B1A4\",\"\\uc5ec\\ud589, \\uc0b0\\ucc45, \\ubc24, \\uc0c8\\ubcbd, \\uc794\\uc794\\ud55c, \\ud5ec\\uc2a4, \\uc6b4\\ub3d9\\ud560\\ub54c, \\uce74\\ud398, \\ub4dc\\ub77c\\uc774\\ube0c, \\uc2e0\\ub098\\ub294, \\ucd94\\uc5b5, \\uae30\\ubd84\\uc804\\ud658, \\ud68c\\uc0c1, \\ub304\\uc2a4, \\uc124\\ub818, \\uc0ac\\ub791, \\uc2a4\\ud2b8\\ub808\\uc2a4, \\uc2ac\\ud514, \\uc774\\ubcc4, \\ud798\\ub4e4\\ub54c, \\ube44, \\ud734\\uc2dd, \\ud790\\ub9c1, \\uc5ec\\ub984, \\ubd04, \\uac00\\uc744, \\uaca8\\uc6b8, \\uc2e0\\ub0a8, \\uc0c1\\ud07c\",\"['\\ud589\\ubcf5\\ud55c']\"],[\"\\uc560\\ud0c0\\ub294 \\ub0a8\\uc790 (Feat. \\uac08\\uace0\\ub9ac)\",\"\\uc5f0\\ub0a8\\ub3d9 \\ub364\\uc564\\ub354\\uba38\",\"\\uc794\\uc794\\ud55c, \\ubc24, \\uc0c8\\ubcbd\",\"['\\uc794\\uc794\\ud55c', '\\ubb34\\uc11c\\uc6b4', '\\uc6b0\\uc6b8\\ud55c']\"],[\"Can I Kick It?\",\"A Tribe Called Quest\",\"\\ub0ad\\ub9cc, \\ucd94\\uc5b5, \\ub4dc\\ub77c\\uc774\\ube0c, \\uae30\\ubd84\\uc804\\ud658\",\"['\\ud589\\ubcf5\\ud55c']\"],[\"\\uc190\\ud1b1\\ub9cc\\ud55c \\uc678\\ub85c\\uc6c0\",\"\\ucc28\\uc9c0\\uc5f0\",\"\\uc794\\uc794\\ud55c, \\ubc24, \\uc0c8\\ubcbd\",\"['\\uc794\\uc794\\ud55c', '\\ubb34\\uc11c\\uc6b4', '\\uc6b0\\uc6b8\\ud55c']\"],[\"\\ub0a0 \\uac83\",\"\\ucf00\\ubbf8 (Kemy)\",\"\\ud1f4\\uadfc, \\ucd9c\\uadfc, \\uc2a4\\ud2b8\\ub808\\uc2a4, \\uae30\\ubd84\\uc804\\ud658\",\"['\\uae34\\uc7a5\\ub418\\ub294']\"],[\"\\ubb3c\\uc18d\\uc5d0 \\uc7a0\\uae34 \\uc2dc\\uac04\",\"\\ud64d\\uad11\\ud638\",\"\\ud734\\uc2dd, \\ubc24, \\uc794\\uc794\\ud55c, \\uc0c8\\ubcbd, \\uc7a0\\ub4e4\\uae30\\uc804, \\uc0b0\\ucc45, \\ubba4\\uc9c0\\uceec, \\uac00\\uc744, \\ub4dc\\ub77c\\uc774\\ube0c, \\uae30\\ubd84\\uc804\\ud658, \\uc2a4\\ud2b8\\ub808\\uc2a4, \\uc2e0\\ub098\\ub294\",\"['\\uacbd\\ucf8c\\ud55c']\"],[\"\\ub4e3\\uace0\\uc2f6\\uc5b4 (E905) (Inst.)\",\"DIA (\\ub2e4\\uc774\\uc544)\",\"\\uacf5\\ubd80\",\"['\\uc794\\uc794\\ud55c']\"],[\"\\uc5b4\\ub5a4\\uac00\\uc694 \\uadf8\\ub304\",\"\\uccad\\ud558\",\"\\uc794\\uc794\\ud55c, \\uc0c8\\ubcbd, \\uc6b0\\uc6b8, \\uae30\\ubd84\\uc804\\ud658, \\uc0ac\\ub791, \\uc774\\ubcc4, \\uc2ac\\ud514, \\ud734\\uc2dd, \\uac00\\uc744, \\ucd94\\uc5b5, \\ub4dc\\ub77c\\uc774\\ube0c, \\uc5ec\\ud589, \\ucd9c\\uadfc\\uae38, \\ud1f4\\uadfc\\uae38, \\uc77c\\uc0c1, \\uc990\\uac70\\uc6b4, \\uc2a4\\ud2b8\\ub808\\uc2a4\\ud574\\uc18c, \\uc124\\ub818, \\uc2e0\\ub098\\ub294, \\ub304\\uc2a4, \\ud790\\ub9c1, \\uadf8\\ub9ac\\uc6c0, \\ubd04\\ub0a0, \\ud68c\\uc0c1, \\uc5f0\\uc778, \\ubc24, \\uc5ec\\ub984, \\ubc9a\\uaf43, \\uc13c\\uce58, \\uc704\\ub85c, \\ub208\\ubb3c, \\uc9d1, \\uc8fc\\ub9d0, \\ubba4\\uc9c0\\uceec, \\uc9dd\\uc0ac\\ub791, \\uc5f0\\uc560, \\uc378, \\ud5e4\\uc5b4\\uc9d0, \\uce74\\ud398, \\ubd84\\uc704\\uae30, \\ubd04, \\ub2ec\\ub2ec\\ud55c, \\ub370\\uc774\\ud2b8, \\uc124\\ub808\\ub294, \\ubabd\\ud658\",\"['\\uc6b0\\uc6b8\\ud55c']\"],[\"\\uc18c\\ub9ac\\uc5c6\\uc774 \\ub0a0\",\"\\ucd5c\\uc778\\uc601, \\uad6c\\ud61c\\uc120\",\"\\uc5ec\\ub984, \\ube44, \\uce74\\ud398, \\uae30\\ubd84\\uc804\\ud658, \\uc0ac\\ub791, \\uc774\\ubcc4, \\uc2a4\\ud2b8\\ub808\\uc2a4, \\ubd80\\ub4dc\\ub7ec\\uc6b4, \\ubd04, \\uac00\\uc744, \\ub2ec\\ub2ec, \\ud790\\ub9c1, \\uc124\\ub818, \\ucc45, \\ud734\\uc2dd, \\ub208\\ubb3c, \\uc794\\uc794\\ud55c\",\"['\\ud589\\ubcf5\\ud55c']\"],[\"\\uc804\\ud558\\uc9c0 \\ubabb\\ud55c \\uc774\\uc57c\\uae30\",\"\\ud654\\ub824 (Hwaryeo)\",\"\\ucd94\\uc5b5, \\uc2ac\\ud508, \\uc0ac\\ub791, \\uac10\\uc131\\uc801\\uc778, \\uc774\\ubcc4, \\ubc24, \\uc794\\uc794\\ud55c, \\uc6b0\\uc6b8, \\ubd84\\uc704\\uae30, \\uc13c\\uce58, \\uc2ac\\ud514, \\uc0c8\\ubcbd, \\uc0c8\\ubcbd\\uac10\\uc131, \\uc2dc\\uc6d0\\ud55c, \\ud3b8\\uc548\\ud55c, \\uc2e0\\ub098\\ub294, \\uaca8\\uc6b8\",\"['\\uc6b0\\uc6b8\\ud55c']\"],[\"Sumthin` Sumthin`\",\"Maxwell\",\"\\ube44\\uc624\\ub294\\ub0a0, \\uc794\\uc794\\ud55c, \\uc5ec\\ud589, \\uae30\\ubd84\\uc804\\ud658, \\uc0b0\\ucc45, \\ub9ac\\ub4dc\\ubbf8\\uceec, \\uc800\\ub141, \\ud38d, \\ud790\\ub9c1, \\ud734\\uc2dd, \\uac00\\uc744\",\"['\\ud589\\ubcf5\\ud55c', '\\uc794\\uc794\\ud55c']\"],[\"\\uc124\\ub818 \\uac00\\ub4dd\",\"\\uc5b4\\ucfe0\\uc2a4\\ud2f1 \\ucf5c\\ub77c\\ubcf4\",\"\\uc5f0\\uc560, \\uc0ac\\ub791, \\ub2ec\\ucf64\\ud55c, \\ub2ec\\ub2ec\\ud55c, \\ub85c\\ub9e8\\ud2f1, \\uae30\\ubd84\\uc88b\\uc740, \\uc5f0\\uc778, \\uc124\\ub818, \\ub370\\uc774\\ud2b8, \\ub2ec\\ub2ec, \\uaf43, \\ud734\\uc2dd, \\uce74\\ud398, \\uc8fc\\ub9d0, \\uc624\\ud6c4, \\ucee4\\ud53c, \\ud790\\ub9c1, \\uae30\\ubd84\\uc804\\ud658, \\ud3ec\\uadfc\\ud55c, \\ubd04, \\uc378, \\ucee4\\ud50c, \\ud589\\ubcf5, \\uc0c1\\ud07c\\ud55c, \\uae4c\\ud398, \\uc990\\uac70\\uc6b4, \\uc0c1\\ud07c, \\ub530\\ub73b\\ud55c, \\uc0c8\\ubcbd, \\ubc24, \\uc194\\ub85c, \\ubd04\\ub178\\ub798, \\uc124\\ub808\\uc784, \\uace0\\ubc31, \\ub2ec\\ucf64, \\uc544\\uce68, \\ub4dc\\ub77c\\uc774\\ube0c, \\uc124\\ub808\\ub294, \\uc5f0\\ud734, \\ud734\\uc77c, \\ub3c5\\uc11c, \\ubc9a\\uaf43, \\ub9d1\\uc740, \\uc800\\ub141, \\uc5ec\\uc720, \\uc794\\uc794\\ud55c, \\uc0b0\\ucc45, \\uc5ec\\ud589, \\uaca8\\uc6b8, \\uccad\\ub7c9\\ud55c, \\uc77c\\uc0c1, \\ubd04\\ub0a0, \\ud3b8\\uc548\\ud55c, \\uc0b0\\ub73b\\ud55c, \\uac00\\uc744, \\ucd94\\uc5b5, \\ud68c\\uc0c1, \\uc2ec\\ucff5, \\ud55c\\uac15, \\uc704\\ub85c, \\ud1f4\\uadfc\\uae38, \\ub304\\uc2a4, \\uc774\\ubcc4, \\uc57c\\uacbd, \\uc120\\uc120\\ud55c, \\uc794\\uc794, \\ubd04\\ubc14\\ub78c, \\uc2e0\\ub098\\ub294, \\uac10\\ubbf8\\ub85c\\uc6b4, \\uc0c8\\ubcbd\\uac10\\uc131, \\ubd88\\uae08, \\uae08\\uc694\\uc77c, \\uac00\\uc744\\ubc24, \\uc6b4\\ub3d9, \\ubc1d\\uc740, \\uce68\\ub300, \\uacb0\\ud63c, \\uc2a4\\ud2b8\\ub808\\uc2a4, \\ube44\\uc624\\ub294\\ub0a0, \\uc5ec\\ub984, \\uc2ac\\ud514, \\uc751\\uc6d0, \\uc790\\uae30\\uc804\\uc5d0, \\ube44, \\uc9dd\\uc0ac\\ub791, \\ubd84\\uc704\\uae30\",\"['\\ud589\\ubcf5\\ud55c']\"],[\"How Deep Is Your Love\",\"Various Artists\",\"\\ucd94\\uc5b5, \\ud68c\\uc0c1, \\ud790\\ub9c1, \\ud734\\uc2dd\",\"['\\ud589\\ubcf5\\ud55c', '\\uc794\\uc794\\ud55c']\"],[\"Summer love\",\"\\ub370\\uc77c\",\"\\uc5ec\\ub984, \\ub4dc\\ub77c\\uc774\\ube0c\",\"['\\uacbd\\ucf8c\\ud55c', '\\ud589\\ubcf5\\ud55c']\"],[\"The Island - Pt. I (Dawn)\",\"Pendulum\",\"\\ub4dc\\ub77c\\uc774\\ube0c, \\ud5ec\\uc2a4\\uc7a5, \\uc6b4\\ub3d9, \\ub304\\uc2a4, \\uc6b4\\ub3d9\\ud560\\ub54c, \\uc2a4\\ud2b8\\ub808\\uc2a4, \\uae30\\ubd84\\uc804\\ud658, \\ud799\\ud55c, \\uc2e0\\ub098\\ub294, \\uc794\\uc794, \\ubabd\\ud658, \\uc2e0\\ub0a8\",\"['\\ud589\\ubcf5\\ud55c']\"],[\"\\uc720\\uc8c4\",\"god\",\"\\ucd94\\uc5b5, \\uae30\\ubd84\\uc804\\ud658, \\ud68c\\uc0c1, \\ud790\\ub9c1, \\ud734\\uc2dd, \\uc2a4\\ud2b8\\ub808\\uc2a4\",\"['\\ud589\\ubcf5\\ud55c']\"],[\"Ocean Cruise (Feat. Ingram Jones) (Original Mix)\",\"DJ Hanmin, Eastlight\",\"\\ud074\\ub7fd, \\uc2a4\\ud2b8\\ub808\\uc2a4\",\"['\\uacbd\\ucf8c\\ud55c']\"],[\"\\ub2c8\\uae4c\\uc9d3\\uac8c (How dare you) (Demicat Remix)\",\"\\uc528\\uc2a4\\ud0c0\",\"\\uc6b4\\ub3d9\\ud560\\ub54c, \\uae30\\ubd84\\uc804\\ud658, \\uc5ec\\ud589, \\uc0b0\\ucc45, \\uc5ec\\ub984, \\uc6b4\\ub3d9, \\ub304\\uc2a4, \\ud5ec\\uc2a4, \\ucd94\\uc5b5, \\ub4dc\\ub77c\\uc774\\ube0c\",\"['\\uacbd\\ucf8c\\ud55c']\"],[\"Faded Love (Feat. Future)\",\"Tinashe\",\"\\ubc24, \\uc794\\uc794\\ud55c, \\ubd84\\uc704\\uae30, \\ub4dc\\ub77c\\uc774\\ube0c, \\ubabd\\ud658, \\uc5ec\\ud589, \\uae30\\ubd84\\uc804\\ud658, \\uc0ac\\ub791, \\ud63c\\uc220, \\uc5ec\\ub984, \\ubd04, \\uac00\\uc744, \\uc0c8\\ubcbd, \\ucee4\\ud53c\\uc20d, \\ub178\\ub3d9\\uc694, \\uce74\\ud398, \\uc0c8\\ubcbd\\uac10\\uc131, \\ud790\\ub9c1, \\uc2a4\\ud2b8\\ub808\\uc2a4, \\uc2e0\\ub098\\ub294, \\ub9ac\\ub4dc\\ubbf8\\uceec, \\ubabd\\ud658\\uc801\\uc778, \\uc139\\uc2dc, \\ud074\\ub7fd, \\ud398\\uc2a4\\ud2f0\\ubc8c, \\ud734\\uc2dd\",\"['\\ubb34\\uc11c\\uc6b4', '\\uc794\\uc794\\ud55c', '\\ud589\\ubcf5\\ud55c']\"],[\"Cannonball (Feat. X Ambassadors)\",\"Skylar Grey\",\"\\ud53c\\ud06c\\ub2c9, \\uc624\\ud6c4, \\uc5ec\\ud589, \\uae30\\ubd84\\uc804\\ud658, \\uac00\\uc744, \\uc6b4\\ub3d9, \\ub4dc\\ub77c\\uc774\\ube0c, \\ubc24, \\uc0c8\\ubcbd, \\uc2a4\\ud2b8\\ub808\\uc2a4, \\uae4c\\ud398, \\uc794\\uc794\\ud55c\",\"['\\ud589\\ubcf5\\ud55c']\"],[\"Not Today\",\"\\uce58\\ud0c0 (CHEETAH)\",\"\\uc13c\\uce58, \\uc6b0\\uc6b8\",\"['\\uc6b0\\uc6b8\\ud55c']\"],[\"\\uac00\\uc838\\uac00\",\"\\uc6d0\\ub354\\uac78\\uc2a4\",\"\\ub304\\uc2a4, \\ube44\\uc624\\ub294\\ub0a0, \\uac00\\uc744, \\ucd94\\uc5b5, \\ud68c\\uc0c1, \\ud734\\uc2dd, \\ub4dc\\ub77c\\uc774\\ube0c, \\ud790\\ub9c1, \\uae30\\ubd84\\uc804\\ud658, \\uc124\\ub818, \\uc2e0\\ub098\\ub294, \\uaca8\\uc6b8, \\ub208\\uc624\\ub294\\ub0a0, \\ub208, \\uccab\\ub208, \\ud06c\\ub9ac\\uc2a4\\ub9c8\\uc2a4, \\uce90\\ub864, \\ub530\\ub73b\\ud55c, \\uc2ac\\ud514, \\ubc24, \\uc774\\ubcc4, \\uc0c8\\ubcbd, \\uc0ac\\ub791, \\uae4c\\ud398, \\uc794\\uc794\\ud55c, \\ubd84\\uc704\\uae30, \\uce74\\ud398, \\uc7a5\\ub9c8, \\ube44, \\uc5ec\\ud589, \\uc0b0\\ucc45, \\uc9dd\\uc0ac\\ub791, \\uc6b0\\uc6b8, \\uc378, \\ubd04, \\uc5f0\\uc778, \\uace0\\ubc31, \\uc2a4\\ud2b8\\ub808\\uc2a4, \\uc5ec\\ub984, \\uc5ec\\ub984\\ubc24, \\ud734\\uac00, \\uaca8\\uc6b8\\uac10\\uc131, \\uc4f8\\uc4f8, \\uc751\\uc6d0, \\uc704\\ub85c, \\ub2ec\\ub2ec\\ud55c, \\uae30\\ubd84\\uc88b\\uc740, \\uccad\\ub7c9\\ud55c, \\uccad\\ucd98, \\uacf5\\ubd80\\ud560\\ub54c\",\"['\\ud589\\ubcf5\\ud55c']\"],[\"\\ub098\\ub294 \\ub098\\ub294 \\uc74c\\uc545\",\"\\uc784\\ud0dc\\uacbd\",\"\\uc2a4\\ud2b8\\ub808\\uc2a4, \\uc6b4\\ub3d9, \\ubba4\\uc9c0\\uceec, \\uc0ac\\ub791\",\"['\\uacbd\\ucf8c\\ud55c']\"],[\"Surge 7.4\",\"\\uc2e0\\uc124\\ud76c\",\"\\ud734\\uc2dd, \\uc5ec\\ud589\\uc0b0\\ucc45, \\ub4dc\\ub77c\\uc774\\ube0c, \\uae30\\ubd84\\uc804\\ud658, \\uc124\\ub818, \\uc2a4\\ud2b8\\ub808\\uc2a4\",\"['\\ud589\\ubcf5\\ud55c']\"],[\"\\uc774\\uac8c \\uc544\\ub2cc\\ub370\",\"\\ud0dc\\uc591\",\"\\uc794\\uc794\\ud55c, \\ubc24, \\uc0c8\\ubcbd, \\uc2ac\\ud514, \\ucd94\\uc5b5, \\uc774\\ubcc4, \\ud68c\\uc0c1, \\ud790\\ub9c1, \\ud734\\uc2dd, \\uae30\\ubd84\\uc804\\ud658, \\uc5ec\\ub984, \\uc5ec\\ub984\\ubc24, \\ub4dc\\ub77c\\uc774\\ube0c, \\uc2e0\\ub098\\ub294, \\ube44\\uc624\\ub294\\ub0a0, \\ub304\\uc2a4, \\uc6b0\\uc6b8\\ud560\\ub54c, \\uce74\\ud398, \\uc7a0\\uc798\\ub54c, \\uc870\\uc6a9\\ud55c, \\ubd88\\uba74\\uc99d, \\uc9dd\\uc0ac\\ub791, \\ud654\\uc774\\ud305, \\ud55c\\uac15, \\uc5f4\\ub300\\uc57c, \\ub530\\ub73b\\ud55c, \\uc6b0\\uc6b8, \\uac00\\uc744, \\uaca8\\uc6b8, \\uc2a4\\ud2b8\\ub808\\uc2a4, \\uc124\\ub818, \\uc0ac\\ub791, \\uc0ac\\uc0c9, \\uc194\\ub85c, \\uc544\\ud514, \\ube44, \\uc5f0\\uc778, \\uac10\\ubbf8\\ub85c\\uc6b4, \\uc0c8\\ubcbd\\uac10\\uc131, \\uc6b4\\ub3d9, \\uc5ec\\ud589, \\ubd84\\uc704\\uae30, \\ubd80\\ub4dc\\ub7ec\\uc6b4, \\uc790\\uc7a5\\uac00, \\ud3b8\\uc548\\ud55c, \\uae4c\\ud398, \\uc751\\uc6d0, \\uc5f0\\uc560, \\uc7a0\\ub4e4\\uae30\\uc804, \\ub530\\ub73b\\ud568, \\uc0b0\\ucc45, \\uc678\\ub85c\\uc6c0, \\ub2ec\\ub2ec, \\uc790\\uae30\\uc804\\uc5d0, \\uc77c\\uc0c1, \\uace0\\ubc31\",\"['\\uc6b0\\uc6b8\\ud55c']\"],[\"\\ubc15\\uc218 (Clap)\",\"\\ud2f4\\ud0d1\",\"\\ucd94\\uc5b5, \\uae30\\ubd84\\uc804\\ud658, \\ud68c\\uc0c1, \\uc2a4\\ud2b8\\ub808\\uc2a4, \\ub4dc\\ub77c\\uc774\\ube0c, \\uc6b4\\ub3d9, \\ub304\\uc2a4, \\ud734\\uc2dd, \\ud790\\ub9c1, \\uc2e0\\ub098\\ub294, \\ub178\\ub3d9\\uc694, \\uc2e0\\ub0a8, \\ub0b4\\uc801\\ub304\\uc2a4, \\ucda4, \\uc544\\uce68, \\uace0\\ubc31, \\uc8fc\\ub9d0, \\uc5ec\\ud589, \\uc0c8\\ubcbd, \\ubc24, \\uc124\\ub818, \\uc0ac\\ub791, \\uc5ec\\ub984, \\ud5ec\\uc2a4\\uc7a5, \\uc774\\ubcc4, \\uccad\\ucd98, \\ud074\\ub7fd, \\uacf5\\uac10, \\ub808\\ud2b8\\ub85c, \\ucee4\\ud50c, \\uac00\\uc744, \\uc77c\\uc0c1, \\ud765\\uaca8\\uc6b4, \\uacbd\\ucf8c\\ud55c, \\ud765\\ud3ed\\ubc1c, \\ubd04, \\uc6b4\\uc804, \\ud5ec\\uc2a4, \\uaca8\\uc6b8, \\ub7f0\\ub2dd, \\uc870\\uae45\",\"['\\uacbd\\ucf8c\\ud55c']\"],[\"Discovery\",\"\\ubcf4\\uc544 (BoA)\",\"\\ub304\\uc2a4, \\ubabd\\ud658, \\ubabd\\ud658\\uc801\",\"['\\uacbd\\ucf8c\\ud55c', '\\uc794\\uc794\\ud55c', '\\uae34\\uc7a5\\ub418\\ub294']\"],[\"May The Bitter Man Win (Feat. J. Cole)\",\"Treasure Davis\",\"\\uae30\\ubd84\\uc804\\ud658, \\ub4dc\\ub77c\\uc774\\ube0c\",\"['\\ud589\\ubcf5\\ud55c']\"],[\"\\ubd88\\ub180\\uc774 (Flowerwork)\",\"\\uc5d4\\ud50c\\ub77c\\uc789 (N.Flying)\",\"\\uc2e0\\ub098\\ub294, \\uae30\\ubd84\\uc804\\ud658, \\uac00\\uc744, \\ub4dc\\ub77c\\uc774\\ube0c, \\ud5ec\\uc2a4, \\uc2a4\\ud3ec\\uce20, \\uc6b4\\ub3d9, \\uc5ec\\ub984, \\uc7a5\\ub9c8, \\ub4e4\\uc369\\ub4e4\\uc369, \\uccad\\ub7c9, \\ub0b4\\uc801\\ub304\\uc2a4, \\ubc14\\ub2e4, \\ubc34\\ub4dc\",\"['\\ud589\\ubcf5\\ud55c']\"],[\"Sevenless\",\"\\uc804\\uad6d\\ube44\\ub458\\uae30\\uc5f0\\ud569\",\"\\ubc34\\ub4dc, \\uc5ec\\ub984, \\ud398\\uc2a4\\ud2f0\\ubc8c, \\uae30\\ubd84\\uc804\\ud658, \\uc2a4\\ud2b8\\ub808\\uc2a4\",\"['\\uacbd\\ucf8c\\ud55c']\"],[\"Priceless\",\"Melanie Fiona\",\"\\uce74\\ud398, \\ubc24, \\uaca8\\uc6b8, \\ud790\\ub9c1, \\uae30\\ubd84\\uc804\\ud658, \\ud06c\\ub9ac\\uc2a4\\ub9c8\\uc2a4\",\"['\\ud589\\ubcf5\\ud55c']\"],[\"\\uace0\\uae30\\uc608\\ucc2c\",\"\\ubc15\\uc6a9\\uc804\",\"\\ud790\\ub9c1, \\ud734\\uc2dd, \\uc2a4\\ud2b8\\ub808\\uc2a4, \\uae30\\ubd84\\uc804\\ud658, \\ubc24, \\uc0c8\\ubcbd\",\"['\\ud589\\ubcf5\\ud55c']\"],[\"Your Name\",\"SHINee (\\uc0e4\\uc774\\ub2c8)\",\"\\ubd04, \\uc0ac\\ub791, \\uccad\\ub7c9\\uac10, \\ud734\\uc2dd, \\ud790\\ub9c1, \\ub2ec\\ub2ec, \\uc124\\ub818, \\uce74\\ud398, \\uc0b0\\ucc45, \\uc18c\\ud48d, \\ub4dc\\ub77c\\uc774\\ube0c, \\uc5ec\\ud589, \\ub370\\uc774\\ud2b8, \\ubc9a\\uaf43, \\uc2a4\\ud2b8\\ub808\\uc2a4, \\uc6b4\\ub3d9, \\uc2ac\\ud514, \\uadf8\\ub9ac\\uc6c0, \\uae30\\ubd84\\uc804\\ud658, \\ub304\\uc2a4\",\"['\\ud589\\ubcf5\\ud55c']\"],[\"\\ucd09\\ucd09 (Feat. \\uc694\\uc870)\",\"\\ud53c\\ud130\\ud32c \\ucef4\\ud50c\\ub809\\uc2a4\",\"\\ub208\\ubb3c, \\uc0c8\\ubcbd, \\ucd94\\uc5b5, \\uadf8\\ub9ac\\uc6c0, \\ud68c\\uc0c1, \\uaca8\\uc6b8, \\uae4c\\ud398, \\uae30\\ubd84\\uc804\\ud658, \\ubd04, \\uc0ac\\ub791, \\uc5ec\\ub984, \\uc794\\uc794\\ud55c, \\uae30\\ubd84\\uc88b\\uc740, \\ud765\\uaca8\\uc6b4, \\uc0b0\\ucc45, \\uc0b0\\ub73b\\ud55c, \\ubc24, \\uc5f0\\uc560, \\uc378, \\uc678\\ub85c\\uc6c0, \\uc774\\ubcc4, \\ubd88\\uae08, \\uac00\\uc744, \\uc124\\ub818, \\uc7a0, \\ud1f4\\uadfc, \\ud558\\ub8e8, \\ud3b8\\uc548\\ud55c, \\uc2ac\\ud514, \\ud790\\ub9c1, \\ud734\\uc2dd, \\ub2ec\\ub2ec\\ud55c, \\uc704\\ub85c, \\ud798\\ub4e4\\ub54c, \\uc9c0\\uce60\\ub54c, \\uc2a4\\ud2b8\\ub808\\uc2a4, \\ub4dc\\ub77c\\uc774\\ube0c, \\uc0ac\\uc0c9, \\ucee4\\ud53c, \\uc5ec\\ud589, \\ub9ac\\ub4dc\\ubbf8\\uceec, \\uc0c8\\ubcbd\\uac10\\uc131, \\uc870\\uc6a9\\ud55c, \\uce74\\ud398, \\uc6b0\\uc6b8, \\uac00\\uc744\\ubc24, \\uc13c\\uce58, \\uc124\\ub808\\uc784, \\uace0\\ubc31, \\ub370\\uc774\\ud2b8, \\ubd84\\uc704\\uae30, \\uc2ec\\ucff5, \\ud589\\ubcf5, \\uc5f0\\uc778, \\uc2e0\\ub098\\ub294, \\ub85c\\ub9e8\\ud2f1\",\"['\\ud589\\ubcf5\\ud55c']\"],[\"\\ubcf4\\uc5ec\\uc918\\uc694 (Feat. \\uc815\\ud604\\uc6c5)\",\"\\ud669\\uc608\\uc6d0\",\"\\uce74\\ud398, \\ub2ec\\ub2ec\\ud55c, \\uc124\\ub808\\uc784, \\uc5f0\\uc560, \\uc0ac\\ub791, \\ub2ec\\ucf64, \\uace0\\ubc31\",\"['\\uc794\\uc794\\ud55c']\"],[\"\\uc8fd\\uc5b4\\ub3c4 \\ub108\\uc57c\",\"V, \\uc9c4\",\"\\ud734\\uc2dd, \\uc0ac\\ub791, \\uc2e0\\ub098\\ub294, \\ud734\\uc591\\uc9c0, \\ud68c\\uc0c1, \\ucd94\\uc5b5, \\uc5ec\\ub984, \\ub4dc\\ub77c\\uc774\\ube0c, \\ubc14\\ub2e4, \\uccad\\ub7c9, \\uacf5\\uac10, \\uae30\\ubd84\\uc804\\ud658, \\uc2a4\\ud2b8\\ub808\\uc2a4, \\ud589\\ubcf5, \\uae4c\\ud398, \\uc2ac\\ud514, \\uadf8\\ub9ac\\uc6c0, \\uc704\\ub85c, \\uc774\\ubcc4, \\uc678\\ub85c\\uc6c0, \\ud790\\ub9c1, \\ubd04, \\uc794\\uc794\\ud55c, \\ubd84\\uc704\\uae30, \\uaca8\\uc6b8, \\uc2dc\\uc791, \\uc624\\ud6c4, \\uae30\\ubd84\\uc88b\\uc740, \\uce74\\ud398, \\ud5e4\\uc5b4\\uc9d0, \\uc9dd\\uc0ac\\ub791, \\uac00\\uc744, \\ud587\\uc0b4, \\uccad\\ub7c9\\uac10\",\"['\\uc794\\uc794\\ud55c']\"],[\"Special\",\"\\ube44\\uc2a4\\ud2b8\",\"\\uc5ec\\ub984, \\uc6b4\\ub3d9, \\ub178\\ub3d9\\uc694, \\uc2ac\\ud514, \\uc774\\ubcc4, \\uc2e0\\ub098\\ub294, \\ucd94\\uc5b5, \\uc6b4\\ub3d9\\ud560\\ub54c, \\uae30\\ubd84\\uc804\\ud658, \\ub304\\uc2a4, \\ud5ec\\uc2a4, \\ud30c\\ud2f0, \\uc990\\uac70\\uc6b4, \\uc0b0\\ucc45, \\uc2a4\\ud2b8\\ub808\\uc2a4, \\ub4dc\\ub77c\\uc774\\ube0c, \\ud790\\ub9c1, \\ud734\\uc2dd, \\uc124\\ub818, \\uc0ac\\ub791, \\uc2e0\\ub0a8, \\uae30\\ubd84\\uc5c5, \\uae30\\ubd84\\uc88b\\uc740, \\uc5f0\\ub9d0\",\"['\\ud589\\ubcf5\\ud55c']\"],[\"\\uc655\\uc790\\ub294 \\ub5a0\\ub0ac\\ub124\",\"\\ubc30\\ud574\\uc120\",\"\\ud790\\ub9c1, \\ud734\\uc2dd, \\uae30\\ubd84\\uc804\\ud658, \\ube44\\uc624\\ub294\\ub0a0, \\uc794\\uc794\\ud55c, \\ub4dc\\ub77c\\uc774\\ube0c, \\ubc24, \\uc0c8\\ubcbd, \\uc0ac\\ub791\",\"['\\ud589\\ubcf5\\ud55c', '\\uc794\\uc794\\ud55c']\"],[\"LA LA\",\"WINNER\",\"\\ub4dc\\ub77c\\uc774\\ube0c, \\uae30\\ubd84\\uc804\\ud658, \\ud1f4\\uadfc\\uae38, \\uc2a4\\ud2b8\\ub808\\uc2a4, \\uc2e0\\ub098\\ub294, \\uc5ec\\ub984, \\ud734\\uc2dd, \\ud734\\uac00, \\uc6b4\\ub3d9, \\ud5ec\\uc2a4, \\uc5ec\\ud589, \\uc7a5\\ub9c8, \\ubd04, \\uccad\\ub7c9, \\ubb34\\ub354\\uc704, \\ucd9c\\uadfc\\uae38, \\ub304\\uc2a4, \\ud1f4\\uadfc, \\uc6d4\\uc694\\uc77c, \\uc6d4\\uc694\\ubcd1, \\ucd9c\\uadfc, \\uc2dc\\uc6d0, \\uc0c1\\ucf8c, \\ub530\\ub73b\\ud55c, \\uc2a4\\ud3ec\\uce20, \\ub178\\ub3d9\\uc694, \\uc6b4\\ub3d9\\ud560\\ub54c, \\uc77c\\ud560\\ub54c, \\uc0ac\\ub791, \\uc77c\\uc0c1, \\uc0c1\\ud07c\",\"['\\ud589\\ubcf5\\ud55c']\"],[\"\\uc288\\ube44\\ub4dc\",\"\\uc18c\\ud638\\ub300\",\"\\ud790\\ub9c1, \\ucd94\\uc5b5, \\ud734\\uc2dd, \\ud68c\\uc0c1, \\uc5ec\\ub984\",\"['\\ud589\\ubcf5\\ud55c']\"],[\"\\uac00\\uc9c0\\ub9d0\\uc544\\uc694\",\"\\uadf8\\ub124\\uc640 \\uaf43\",\"\\uc794\\uc794\\ud55c, \\ubc24, \\uc0c8\\ubcbd\",\"['\\uc794\\uc794\\ud55c', '\\ubb34\\uc11c\\uc6b4', '\\uc6b0\\uc6b8\\ud55c']\"],[\"Tenderly\",\"Disclosure\",\"\\uc5ec\\ud589, \\uae30\\ubd84\\uc804\\ud658, \\uc0b0\\ucc45\",\"['\\ud589\\ubcf5\\ud55c']\"],[\"Tenderly\",\"Disclosure\",\"\\uc5ec\\ud589, \\uae30\\ubd84\\uc804\\ud658, \\uc0b0\\ucc45\",\"['\\ud589\\ubcf5\\ud55c']\"],[\"So Much Love\",\"Stadiumx, Muzzaik\",\"\\uc0c8\\ubcbd\\uac10\\uc131, \\ub4dc\\ub77c\\uc774\\ube0c, \\uccad\\ub7c9\\uac10, \\ub77c\\uc6b4\\uc9c0, \\ud074\\ub7fd, \\uc2dc\\uc6d0\\ud55c, \\uae30\\ubd84\\uc804\\ud658, \\uc870\\uae45, \\ud398\\uc2a4\\ud2f0\\ubc8c, \\uc2a4\\ud2b8\\ub808\\uc2a4, \\uc2e0\\ub098\\ub294\",\"['\\ud589\\ubcf5\\ud55c']\"],[\"Pray (Male Ver.)\",\"\\uc778\\ud3ec\\uba38\",\"\\ube44\\uc624\\ub294\\ub0a0, \\uc2ac\\ud514, \\uc774\\ubcc4\",\"['\\uc6b0\\uc6b8\\ud55c']\"],[\"\\uace0\\ubc31\\ud574\\ub3c4 \\uad1c\\ucc2e\\uc544\",\"\\ubdf0\\ud2f0\\ud578\\uc12c\",\"\\uae30\\ubd84\\uc804\\ud658, \\ubd04\",\"['\\ud589\\ubcf5\\ud55c']\"],[\"Beautiful Days\",\"\\uae38\\uc740\\uacbd\",\"\\uce74\\ud398, \\ud734\\uc2dd, \\uc6d4\\uc694\\uc77c, \\uc6d4\\uc694\\ubcd1, \\ud790\\ub9c1, \\uae30\\ubd84\\uc804\\ud658, \\ubd88\\uba74\\uc99d\",\"['\\uc794\\uc794\\ud55c']\"],[\"What Are You Doing New Year`s Eve\",\"Nancy Wilson\",\"\\ud06c\\ub9ac\\uc2a4\\ub9c8\\uc2a4, \\uce90\\ub864, \\uae4c\\ud398, \\ub208\",\"['\\ud589\\ubcf5\\ud55c']\"],[\"\\ub2e4\\uc2dc \\uc0ac\\ub791\",\"\\ubbf8\\uc4f0\\uc5d0\\uc774\",\"\\ub304\\uc2a4, \\uc6b4\\ub3d9\\ud560\\ub54c, \\ub4dc\\ub77c\\uc774\\ube0c\",\"['\\uacbd\\ucf8c\\ud55c']\"],[\"Return To...\",\"\\ubaa8\\ub358 \\uc96c\\uc2a4\",\"\\ucd94\\uc5b5\",\"['\\ud589\\ubcf5\\ud55c']\"],[\"Don`t Kill The Fun (Feat. Chris Brown)\",\"Sevyn Streeter\",\"\\uc9d1\\uc911, \\uce74\\ud398, \\uae4c\\ud398, \\ub304\\uc2a4, \\ube44\\uc624\\ub294\\ub0a0, \\ubc24, \\uc794\\uc794\\ud55c, \\uae30\\ubd84\\uc804\\ud658, \\uac00\\uc744, \\uc0ac\\ub791, \\ube44, \\uc6b4\\ub3d9, \\uc2a4\\ud2b8\\ub808\\uc2a4, \\ub4dc\\ub77c\\uc774\\ube0c, \\ub178\\ub3d9\\uc694, \\ubd88\\uae08, \\uc2dc\\uc6d0\\ud55c\",\"['\\ud589\\ubcf5\\ud55c']\"],[\"\\uaca8\\uc6b8\\uc7a0\",\"\\uc900\\ud638 (2PM)\",\"\\uc9dd\\uc0ac\\ub791, \\ub2ec\\ub2ec\\ud55c, \\uc794\\uc794\\ud55c, \\uc124\\ub818, \\uc774\\ubcc4, \\uc4f8\\uc4f8\\ud568, \\uc11c\\uc815\\uc801\\uc778, \\uc0c8\\ubcbd, \\uaca8\\uc6b8, \\uce74\\ud398, \\ub4dc\\ub77c\\uc774\\ube0c, \\uae30\\ubd84\\uc804\\ud658, \\uc0ac\\ub791, \\uac10\\uc131\\uc790\\uadf9\",\"['\\uc6b0\\uc6b8\\ud55c']\"],[\"\\ub208\\uc744 \\uac10\\uc73c\\uba74 (WooHyun Solo)\",\"\\uc778\\ud53c\\ub2c8\\ud2b8\",\"\\ud790\\ub9c1, \\ud734\\uc2dd, \\ucd94\\uc5b5, \\ud68c\\uc0c1, \\uae30\\ubd84\\uc804\\ud658, \\uc6b4\\ub3d9, \\uc774\\ubcc4, \\uc9dd\\uc0ac\\ub791, \\uc0ac\\ub791, \\uc794\\uc794\\ud55c, \\uc0c8\\ubcbd, \\ubc24, \\uc704\\ub85c, \\uccad\\ub7c9, \\uc5ec\\ub984, \\uc124\\ub818, \\uc2ac\\ud514, \\uc2a4\\ud2b8\\ub808\\uc2a4, \\uac00\\uc744, \\ub2a6\\uc740\\ubc24, \\ubd84\\uc704\\uae30, \\uc5ec\\ud589, \\uc0b0\\ucc45\",\"['\\uc794\\uc794\\ud55c', '\\uc6b0\\uc6b8\\ud55c']\"],[\"\\uba54\\ub9ac-\\ud06c\\ub9ac (Merry-Chri)\",\"\\ubcf4\\uc544 (BoA)\",\"\\uaca8\\uc6b8, \\uc124\\ub818, \\uc0ac\\ub791, \\ub208\\uc624\\ub294\\ub0a0, \\uce90\\ub864, \\ub530\\ub73b\\ud55c, \\ucd94\\uc5b5, \\ud734\\uc2dd, \\ud790\\ub9c1, \\ud68c\\uc0c1, \\ud06c\\ub9ac\\uc2a4\\ub9c8\\uc2a4, \\uae30\\ubd84\\uc804\\ud658, \\uc0b0\\ucc45, \\ud765\\uaca8\\uc6b4, \\uce90\\ub7f4, \\uc124\\ub808\\ub294, \\uc5f0\\ub9d0, \\uaca8\\uc6b8\\uac10\\uc131, \\uccab\\ub208, \\ub208, \\uc2ac\\ud514, \\uc774\\ubcc4, \\ubc24, \\uc0c8\\ubcbd, \\uce74\\ud398, \\ub4dc\\ub77c\\uc774\\ube0c, \\uc5f0\\ud734, \\uace0\\ubc31, \\uc378, \\ub2ec\\ucf64, \\uc0c1\\ud07c, \\uc2dc\\uc791, \\uc0c8\\ud574, \\uc794\\uc794\\ud55c, \\ub530\\ub4ef\\ud55c, \\ud30c\\ud2f0, \\ubd84\\uc704\\uae30, \\uc2e0\\ub098\\ub294, \\uac00\\uc744, \\uc5ec\\ud589, \\uc5f0\\uc560, \\ud3ec\\uadfc\\ud55c, \\uaca8\\uc6b8\\ubc24, \\ub304\\uc2a4, \\uae4c\\ud398, \\uadf8\\ub9ac\\uc6c0, \\uc5f0\\uc778, \\uce5c\\uad6c, \\uc2ec\\ucff5, \\uc4f8\\uc4f8, \\ub370\\uc774\\ud2b8, \\ud589\\ubcf5, \\ud3b8\\uc548\\ud55c, \\uc8fc\\ub9d0, \\uc2a4\\ud2b8\\ub808\\uc2a4, \\ube44\\uc624\\ub294\\ub0a0, \\ub2ec\\ub2ec, \\uc0c8\\ubcbd\\uac10\\uc131, \\ubd04, \\uc18c\\ud48d, \\uc77c\\uc0c1\",\"['\\uc794\\uc794\\ud55c']\"],[\"\\uc5ec\\ud589\",\"\\uad8c\\ub098\\ubb34\",\"\\uc794\\uc794\\ud55c, \\ud734\\uc591\\uc9c0, \\uc5ec\\ud589, \\uccad\\ucd98, \\uc751\\uc6d0, \\uc2dc\\uc791, \\uc0c8\\ud574, \\uc704\\ub85c, \\ud654\\uc774\\ud305, \\uc0b0\\ucc45, \\uc5ec\\ub984\\ubc24, \\uc0c8\\ubcbd, \\uc5ec\\ub984, \\uae30\\ubd84\\uc804\\ud658, \\ubc24, \\ud1f4\\uadfc, \\ud790\\ub9c1, \\ud76c\\ub9dd, \\uc9c0\\uce5c\",\"['\\uc6b0\\uc6b8\\ud55c']\"],[\"\\uacf5\\uc8fc\\ub2d8\",\"\\ud33b\\ub450\",\"\\ub2ec\\ucf64\\ud55c, \\ud734\\uc2dd, \\ud790\\ub9c1, \\uc124\\ub818, \\uc0ac\\ub791\",\"['\\ud589\\ubcf5\\ud55c']\"],[\"\\ub108\\uc5d0\\uac8c \\ub098\\ub294\",\"\\uc815\\ub4e0\",\"\\uc5f0\\uc560, \\uc0ac\\ub791, \\uc0c8\\ubcbd\\uac10\\uc131, \\uc0c8\\ubcbd, \\ud55c\\uac15, \\ubcc4, \\ubc24, \\uc794\\uc794\\ud55c, \\uac00\\uc744, \\ube44\\uc624\\ub294\\ub0a0, \\ube44\",\"['\\uc6b0\\uc6b8\\ud55c', '\\ubb34\\uc11c\\uc6b4', '\\uc794\\uc794\\ud55c']\"],[\"\\uc774\\ub807\\uac8c \\uadf8\\ub300 \\uadf8\\uc758 \\ud488\\uc5d0\",\"\\ubc15\\uc740\\ud0dc\",\"\\ud790\\ub9c1, \\uc5f0\\uc778, \\uc774\\ubcc4, \\ubba4\\uc9c0\\uceec, \\uc0ac\\ub791\",\"['\\uacbd\\ucf8c\\ud55c']\"],[\"\\uc5b4\\ub5a4 \\ud638\\ud154\",\"\\uae40\\uc0ac\\uc6d4\",\"\\ubc24, \\uc794\\uc794\\ud55c, \\uc6b0\\uc6b8, \\uc0c8\\ubcbd, \\uc2ac\\ud514, \\uc704\\ub85c, \\ud790\\ub9c1, \\uc678\\ub85c\\uc6c0\",\"['\\uc6b0\\uc6b8\\ud55c']\"],[\"\\ub098\\ub294 \\ucd5c\\uace0\\uc758 \\ud5e4\\uc5b4\\ub514\\uc790\\uc774\\ub108 \\uac15\\uc900\",\"PDJ.Lee\",\"\\uac10\\ub3d9, \\ubba4\\uc9c0\\uceec\",\"['\\ud589\\ubcf5\\ud55c', '\\uacbd\\ucf8c\\ud55c']\"],[\"\\uace0\\ubc31 (With \\uc720\\uc2b9\\uc6b0, \\uc815\\uc138\\uc6b4)\",\"\\ub9c8\\uc778\\ub4dc\\uc720\",\"\\uc5ec\\ub984\\ubc24, \\uc124\\ub818, \\uc0ac\\ub791, \\ub178\\ub3d9\\uc694, \\ubd04, \\ub2ec\\ub2ec\\ud55c, \\uc624\\ud6c4, \\uaca8\\uc6b8\\ubc24, \\uc5f0\\uc560, \\uccad\\ucd98, \\ud3ec\\uadfc\\ud55c, \\ud734\\uc2dd, \\ud790\\ub9c1, \\uc0c8\\ubcbd\\uac10\\uc131, \\ucd94\\uc5b5, \\uc800\\ub141, \\uc13c\\uce58, \\ud5ec\\uc2a4, \\ub4dc\\ub77c\\uc774\\ube0c, \\uc5ec\\ud589, \\ubd88\\uae08, \\uae30\\ubd84\\uc804\\ud658, \\uc2e0\\ub098\\ub294, \\ub2ec\\ub2ec, \\ucee4\\ud50c, \\uc9dd\\uc0ac\\ub791, \\uccad\\ub7c9, \\uc2dc\\uc6d0\\ud55c, \\uace0\\ubc31, \\uc0c1\\ud07c, \\uce74\\ud398, \\uc794\\uc794\\ud55c, \\uc0c8\\ubcbd, \\uc6b0\\uc6b8, \\ud798\\ub4e4\\ub54c, \\uc704\\ub85c, \\ubd04\\ub178\\ub798, \\ubc9a\\uaf43, \\ub098\\ub4e4\\uc774, \\uc544\\uce68, \\uc2ec\\ucff5, \\uaca8\\uc6b8, \\uc5f0\\uc778, \\uac00\\uc744, \\uc544\\ud514, \\uc774\\ubcc4, \\uc378, \\ubc24, \\uaf43, \\uc544\\ub984\\ub2e4\\uc6b4, \\ud589\\ubcf5, \\ub370\\uc774\\ud2b8, \\uc2dc\\uc6d0, \\uc0b0\\ucc45, \\uae4c\\ud398, \\ud68c\\uc0c1, \\ucee4\\ud53c, \\ub530\\ub73b\\ud55c, \\ud3b8\\uc548\\ud55c, \\ud398\\uc2a4\\ud2f0\\ubc8c, \\uacf5\\ubd80, \\ub208, \\ud1a0\\ub2e5\\ud1a0\\ub2e5, \\uc2ac\\ud514, \\uc790\\uc7a5\\uac00, \\ub85c\\ub9e8\\ud2f1, \\ub2ec\\ucf64\\ud55c, \\uc124\\ub808\\uc784, \\ub099\\uc5fd, \\uc4f8\\uc4f8\\ud568, \\uc678\\ub85c\\uc6c0, \\ud1f4\\uadfc\\uae38, \\uc0c8\\ud574\",\"['\\ud589\\ubcf5\\ud55c']\"],[\"Brothers In Arms\",\"Dire Straits\",\"\\uadf8\\ub9ac\\uc6c0, \\uc0ac\\ub791, \\uc5ec\\ud589\",\"['\\ud589\\ubcf5\\ud55c']\"],[\"Lonely Won`t Leave Me Alone\",\"Jermaine Jackson\",\"\\uc0c8\\ubcbd, \\ucd94\\uc5b5, \\uc0ac\\ub791\",\"['\\ud589\\ubcf5\\ud55c']\"],[\"\\ud3b8\\ud55c \\uc0ac\\ub78c\\uc774 \\uc0dd\\uacbc\\uc5b4 (With \\uc131\\uc544 Of \\ubc14\\ub2d0\\ub77c \\uc5b4\\ucfe0\\uc2a4\\ud2f1)\",\"\\uae40\\uc9c0\\uc218\",\"\\uac00\\uc744, \\uc124\\ub818, \\uc0ac\\ub791, \\uae30\\ubd84\\uc804\\ud658, \\ub4dc\\ub77c\\uc774\\ube0c, \\ud790\\ub9c1, \\ud734\\uc2dd, \\uc5ec\\ub984, \\uc0b0\\ucc45, \\ucd94\\uc5b5, \\uc5ec\\ud589, \\ud68c\\uc0c1, \\uc2a4\\ud2b8\\ub808\\uc2a4, \\uc794\\uc794\\ud55c, \\uc5f0\\uc560, \\ube44\\uc624\\ub294\\ub0a0, \\ubc24, \\uc0c8\\ubcbd\",\"['\\ud589\\ubcf5\\ud55c']\"],[\"Gloomy Sunday\",\"\\ud53c\\uc544 (PIA)\",\"\\ud734\\uc2dd, \\ucd94\\uc5b5, \\ubc34\\ub4dc, \\uc5ec\\ud589, \\uace0\\uc18d\\ub3c4\\ub85c, \\uc2dc\\uc6d0\\ud55c, \\uae30\\ubd84\\uc804\\ud658, \\uc5ec\\ub984\\ud734\\uac00, \\uc791\\uc5c5, \\ud398\\uc2a4\\ud2f0\\ubc8c\",\"['\\uacbd\\ucf8c\\ud55c']\"],[\"Alone (Alex Arcoleo Remix)\",\"Alan Walker\",\"\\uc6b4\\ub3d9, \\ub4dc\\ub77c\\uc774\\ube0c, \\uc5ec\\ud589, \\uae30\\ubd84\\uc804\\ud658, \\ub370\\uc774\\ud2b8, \\uc2a4\\ud2b8\\ub808\\uc2a4, \\uc2e0\\ub098\\ub294, \\ubd04, \\ub77c\\uc6b4\\uc9c0, \\ubabd\\ud658, \\ub3c4\\uc2dc, \\ud55c\\uac15, \\uc800\\ub141, \\ubd84\\uc704\\uae30, \\uc57c\\uacbd\",\"['\\uacbd\\ucf8c\\ud55c', '\\ud589\\ubcf5\\ud55c']\"],[\"Granite\",\"Pendulum\",\"\\ud074\\ub7fd, \\uc6b4\\ub3d9, \\uc8fc\\ub9d0, \\ub4dc\\ub77c\\uc774\\ube0c, \\uc5ec\\ub984, \\ud5ec\\uc2a4, \\uc2e0\\ub098\\ub294, \\ubd88\\uae08, \\uae30\\ubd84\\uc804\\ud658\",\"['\\uacbd\\ucf8c\\ud55c']\"],[\"\\uaf43 (Feat. \\ud558\\uc740)\",\"\\ucee4\\ud53c\\uc18c\\ub144\",\"\\uce74\\ud398, \\uc794\\uc794\\ud55c, \\uae30\\ubd84\\uc804\\ud658, \\uc0ac\\ub791, \\ud53c\\ud06c\\ub2c9, \\ubd04, \\ubd04\\ub178\\ub798, \\ubc9a\\uaf43, \\ub098\\ub4e4\\uc774, \\uc5ec\\ud589, \\uac00\\uc744, \\ud734\\uc77c, \\uc5f0\\uc778, \\ud3ec\\uadfc\\ud55c, \\ub3c5\\uc11c, \\uace0\\ubc31, \\ub370\\uc774\\ud2b8, \\uc378, \\ub2ec\\ucf64, \\uc0c1\\ud07c, \\uacf5\\uac10, \\uacb0\\ud63c, \\ud790\\ub9c1, \\ud734\\uc2dd, \\uc124\\ub818, \\uac10\\ubbf8\\ub85c\\uc6b4, \\uc124\\ub808\\uc784, \\ucd9c\\uadfc\\uae38, \\uc544\\uce68, \\ucd9c\\uadfc, \\uc2e0\\ub098\\ub294, \\uc5f0\\uc560, \\ud1f4\\uadfc\\uae38, \\ub2ec\\ub2ec, \\ubd04\\ubc14\\ub78c, \\ub4dc\\ub77c\\uc774\\ube0c, \\uc2dc\\uc791, \\uc8fc\\ub9d0, \\ub2ec\\ub2ec\\ud55c, \\uc18c\\ud48d, \\uc0b0\\ucc45, \\uae4c\\ud398, \\uae30\\ubd84\\uc88b\\uc740, \\uc120\\uc120\\ud55c, \\ubc24, \\uc0c8\\ubcbd, \\uaf43, \\uccad\\ucd98, \\uac00\\uc744\\ubc24, \\ubd04\\ub0a0\",\"['\\ud589\\ubcf5\\ud55c']\"],[\"\\uc804\\uad6d\\uccb4\\uc804\",\"\\ube44\\ub2e8\\uc885\",\"\\ud790\\ub9c1, \\uce74\\ud398\",\"['\\ud589\\ubcf5\\ud55c', '\\uc794\\uc794\\ud55c']\"],[\"\\ubc24\\uc774 \\uc2eb\\uc5b4\\uc694\",\"\\uc804\\ud6a8\\uc131\",\"\\uc2a4\\ud2b8\\ub808\\uc2a4, \\uae30\\ubd84\\uc804\\ud658, \\uae4c\\ud398, \\uc5ec\\ub984, \\uc6b4\\ub3d9, \\ub4dc\\ub77c\\uc774\\ube0c, \\uc2e0\\ub098\\ub294\",\"['\\uae34\\uc7a5\\ub418\\ub294', '\\ud589\\ubcf5\\ud55c']\"],[\"\\ub0a0 \\uc0ac\\ub791\\ud558\\uc9c0 \\uc54a\\uc544\\ub3c4\",\"\\ube44\\ube44\\uc548 (BBAHN)\",\"\\uc2a4\\ud2b8\\ub808\\uc2a4, \\uae30\\ubd84\\uc804\\ud658\",\"['\\uae34\\uc7a5\\ub418\\ub294', '\\ud589\\ubcf5\\ud55c']\"],[\"Mattinata\",\"\\uae40\\uc7ac\\ud615\",\"\\uce74\\ud398, \\uc5ec\\uc720, \\ubd04\\ub0a0, \\ubc9a\\uaf43, \\ud790\\ub9c1, \\ubd04\",\"['\\ud589\\ubcf5\\ud55c']\"],[\"\\uc0b0\\ub4e4\\uc0b0\\ub4e4\",\"\\ub2e4\\ub78c\",\"\\ubd04\\ube44, \\uae30\\ubd84\\uc804\\ud658, \\ubd04, \\uc124\\ub818, \\uc0ac\\ub791, \\uc5ec\\ud589, \\uc0b0\\ucc45, \\uc8fc\\ub9d0, \\ud790\\ub9c1, \\ub530\\ub73b\\ud55c, \\ud3ec\\uadfc\\ud55c, \\uaca8\\uc6b8, \\ud734\\uc2dd, \\uc704\\ub85c\",\"['\\ud589\\ubcf5\\ud55c']\"],[\"\\ud734\\uc2dd\",\"\\uc2a4\\ud0e0\\ub529 \\uc5d0\\uadf8\",\"\\uc794\\uc794\\ud55c, \\uc544\\uce68, \\uc0c8\\ubcbd, \\uc2dc\\uc791, \\uc13c\\uce58, \\ud790\\ub9c1, \\ubd84\\uc704\\uae30, \\ud734\\uc2dd, \\uce74\\ud398, \\ucee4\\ud53c, \\uc77c\\uc0c1, \\uc6d4\\uc694\\uc77c, \\uae4c\\ud398, \\ubd04, \\ud589\\ubcf5, \\uc6d4\\uc694\\ubcd1, \\uae30\\ubd84\\uc804\\ud658, \\uafc0\\uc7a0, \\uac00\\uc744, \\ucd94\\uc5b5, \\uc5ec\\uc720\\ub85c\\uc6b4, \\uac10\\uc131\\uc801\\uc778, \\ud3b8\\uc548\\ud55c, \\uc219\\uba74, \\ubc24, \\uc124\\ub818, \\uc0ac\\ub791, \\uc194\\ub85c, \\uc8fc\\ub9d0, \\ud30c\\ud2f0, \\uc624\\ud6c4, \\ube44\\uc624\\ub294\\ub0a0\",\"['\\uc794\\uc794\\ud55c']\"],[\"Bron Chillin` (Feat. Owen Ovadoz) (Prod. O.T.O)\",\"Changstarr*\",\"\\uae30\\ubd84\\uc804\\ud658, \\uc2a4\\ud2b8\\ub808\\uc2a4\",\"['\\ud589\\ubcf5\\ud55c', '\\uae34\\uc7a5\\ub418\\ub294']\"],[\"Highlander\",\"\\ucd5c\\uace0\\uc740\",\"\\ubabd\\ud658, \\ubd04, \\uce74\\ud398, \\uc794\\uc794\\ud55c, \\uae30\\ubd84\\uc804\\ud658, \\uc791\\uc5c5, \\ud398\\uc2a4\\ud2f0\\ubc8c, \\ud734\\uc2dd, \\ud790\\ub9c1, \\uc720\\ub2c8\\ud06c, \\ud765\\uaca8\\uc6b4, \\uc2a4\\ud2b8\\ub808\\uc2a4, \\ubc34\\ub4dc, \\uc2e0\\ub098\\ub294, \\ud765, \\uc9d1\\uc911, \\uc870\\uc6a9\\ud55c, \\uc5ec\\ub984, \\uc8fc\\ub9d0, \\ud53c\\ud06c\\ub2c9, \\uc5ec\\ud589\",\"['\\ud589\\ubcf5\\ud55c']\"],[\"New York Narcotic\",\"The Knocks\",\"\\ucee4\\ud53c, \\uce74\\ud398, \\ubc24, \\uc624\\ud6c4, \\ud1f4\\uadfc\\uae38\",\"['\\uc794\\uc794\\ud55c']\"],[\"\\ub108\\uc640 \\ub0b4\\uac00 \\uc6b0\\ub9ac\\uac00 \\ub418\\ub358 \\ub0a0 (Feat. \\uc564\\uc11c (\\uc0c8\\ubcbd\\uc608\\uac10))\",\"\\ud5c8\\uc2a4\\ud0a4\\uc640 \\ud53c\\uc544\\ub178\",\"\\ucee4\\ud53c, \\ud790\\ub9c1, \\uc794\\uc794\\ud55c, \\uc124\\ub818, \\uc0ac\\ub791, \\ud734\\uc2dd, \\ubd04, \\uc0c8\\ubcbd, \\uc800\\ub141, \\uae30\\ubd84\\uc804\\ud658, \\uae4c\\ud398\",\"['\\ud589\\ubcf5\\ud55c']\"],[\"Sherlock (SHINee WORLD 4 Ver.)\",\"SHINee (\\uc0e4\\uc774\\ub2c8)\",\"\\uc2dc\\uc6d0\\ud55c, \\ubb34\\ub354\\uc704, \\uc0ac\\ub791, \\uc2e0\\ub098\\ub294\",\"['\\uacbd\\ucf8c\\ud55c', '\\ud589\\ubcf5\\ud55c']\"],[\"\\ucc98\\uc74c \\ub110 \\ubcf4\\uace0 #1\",\"\\uc704\\uc544\\uc601 (WeAreYoung)\",\"\\ub2ec\\ub2ec, \\uc774\\ubcc4, \\ud734\\uc2dd, \\uac00\\uc744, \\uce74\\ud398, \\uc794\\uc794\\ud55c, \\uc0b0\\ucc45, \\uacb0\\ud63c, \\uc124\\ub818, \\ubd04, \\ub2ec\\ub2ec\\ud55c, \\uc5f0\\uc560, \\uace0\\ubc31, \\uc0ac\\ub791, \\uc378, \\ucd9c\\uadfc\\uae38, \\uc6d4\\uc694\\uc77c, \\ub4dc\\ub77c\\uc774\\ube0c, \\uae30\\ubd84\\uc804\\ud658, \\uc2e0\\ub098\\ub294, \\uc5ec\\ub984, \\uac00\\uc744\\uac10\\uc131, \\ucee4\\ud50c, \\uc5f0\\uc778, \\uaca8\\uc6b8, \\ub2ec\\ucf64\\ud55c, \\uaca8\\uc6b8\\ubc24, \\uc0c8\\ubcbd, \\uc124\\ub808\\uc784, \\ud790\\ub9c1, \\ubc24, \\uc0c8\\ubcbd\\uac10\\uc131, \\ub2ec\\ucf64, \\ud398\\uc2a4\\ud2f0\\ubc8c\",\"['\\ud589\\ubcf5\\ud55c']\"],[\"\\uc798 \\uc0b4\\uace0 \\uc788\\uc9c0\\ub871\",\"\\uc724\\ub534\\ub534\",\"\\uc790\\uc2e0\\uac10, \\uc774\\ubcc4, \\uae30\\ubd84\\uc88b\\uc740, \\ud734\\uc2dd, \\uacbd\\ucf8c\\ud55c, \\uc704\\ub85c, \\ubc34\\ub4dc, \\uac00\\uc744, \\ud398\\uc2a4\\ud2f0\\ubc8c, \\uc2a4\\ud2b8\\ub808\\uc2a4, \\uc2e0\\ub098\\ub294, \\uc5ec\\ub984, \\ubc24, \\uc800\\ub141, \\ub4dc\\ub77c\\uc774\\ube0c, \\uae30\\ubd84\\uc804\\ud658, \\uc0ac\\ub791, \\uc5ec\\ud589, \\uc8fc\\ub9d0, \\uc624\\ud6c4, \\uc120\\uc120\\ud55c, \\ud1f4\\uadfc, \\uc5f0\\uc778, \\ucee4\\ud53c, \\ud587\\uc0b4, \\uc544\\uce68, \\uc0c1\\ucf8c, \\uacf5\\uac10, \\ud790\\ub9c1, \\uccad\\ucd98, \\uce74\\ud398, \\uc0b0\\ub73b\\ud55c, \\ubd04, \\ubd04\\ub178\\ub798, \\ud55c\\uac15, \\ubd04\\ub0a0, \\ubd84\\uc704\\uae30, \\uc794\\uc794\\ud55c, \\uc5ec\\uc720, \\ub208\\ubb3c, \\uc0c8\\ubcbd, \\uc6b0\\uc6b8, \\ud798\\ub4e4\\ub54c, \\uc7a0\\ub4e4\\uae30\\uc804, \\uacf5\\ubd80, \\uc0b0\\ucc45, \\uc6b4\\uc804, \\uc790\\uc7a5\\uac00, \\ub2ec\\ub2ec, \\uc6d4\\uc694\\uc77c, \\uc13c\\uce58, \\uac10\\uc131\\uc801\\uc778, \\uc751\\uc6d0, \\ud798\\ub0b4, \\ud53c\\ud06c\\ub2c9, \\ubc9a\\uaf43, \\ubd88\\uae08, \\uc0c8\\ubcbd\\uac10\\uc131, \\ucd94\\uc5b5\",\"['\\ud589\\ubcf5\\ud55c']\"],[\"Take Me On\",\"\\uc194\\ud2bc\\ud398\\uc774\\ud37c\",\"\\ud734\\uc2dd, \\uac00\\uc744, \\ub4dc\\ub77c\\uc774\\ube0c, \\uae30\\ubd84\\uc804\\ud658, \\uce74\\ud398, \\ud790\\ub9c1, \\uc5ec\\ud589, \\uc794\\uc794, \\uc794\\uc794\\ud55c, \\ubd84\\uc704\\uae30, \\uc124\\ub818, \\uc0ac\\ub791, \\ub178\\ub3d9\\uc694, \\uac10\\ubbf8\\ub85c\\uc6b4, \\uc77c\\uc0c1, \\ube44\\uc624\\ub294\\ub0a0, \\ube44, \\uc7a0\\ub4e4\\uae30\\uc804, \\uc7a0, \\ubc24, \\uc774\\ubcc4, \\uc2ac\\ud514, \\uc870\\uc6a9\\ud55c, \\ubd04\",\"['\\uc794\\uc794\\ud55c']\"],[\"For The City (Feat. Jin.)\",\"Far East Movement\",\"\\ud53c\\ud06c\\ub2c9, \\uc624\\ud6c4, \\uc5ec\\ud589, \\uae30\\ubd84\\uc804\\ud658, \\ud3b8\\uc548\\ud55c\",\"['\\ud589\\ubcf5\\ud55c']\"],[\"Through The Rain\",\"Mariah Carey\",\"\\ud790\\ub9c1, \\ud734\\uc2dd, \\uc124\\ub818, \\uc0ac\\ub791, \\ube44\\uc624\\ub294\\ub0a0, \\uc794\\uc794\\ud55c, \\ube44, \\ubd04\\ube44, \\uc0c8\\ubcbd, \\ub4dc\\ub77c\\uc774\\ube0c, \\ucd94\\uc5b5, \\ud68c\\uc0c1\",\"['\\uc6b0\\uc6b8\\ud55c', '\\uc794\\uc794\\ud55c']\"],[\"\\uc704\\ub85c\",\"\\uc815\\uc778\",\"\\uc6b0\\uc6b8, \\uc0ac\\ub791, \\uc0c8\\ubcbd, \\uc704\\ub85c, \\ubd88\\uba74\\uc99d, \\ud1f4\\uadfc\\uae38, \\uc678\\ub85c\\uc6c0, \\ub4dc\\ub77c\\uc774\\ube0c, \\uae30\\ubd84\\uc804\\ud658, \\ud1f4\\uadfc, \\uc8fc\\ub9d0, \\uc794\\uc794\\ud55c, \\ud734\\uc2dd, \\ub2a6\\uc740\\ubc24, \\ucc2c\\ubc14\\ub78c, \\ud790\\ub9c1, \\uc2a4\\ud2b8\\ub808\\uc2a4, \\ubc24, \\uc6b8\\uace0\\uc2f6\\uc744\\ub54c, \\uce74\\ud398, \\uaca8\\uc6b8\\ubc24, \\uc0c8\\ubcbd\\uac10\\uc131, \\uc7a0\\ub4e4\\uae30\\uc804, \\uc774\\ubcc4, \\ud3b8\\uc548\\ud55c, \\ucd94\\uc5b5, \\ud798\\ub4e4\\ub54c, \\uc2ac\\ud514, \\uc9c0\\uce60\\ub54c, \\uac00\\uc744, \\uc9c0\\uce5c\\ud558\\ub8e8, \\ud798\\ub0b4, \\uc77c\\uc0c1, \\uc9c0\\uce5c, \\uacf5\\uac10, \\ub9c8\\uc74c, \\uc751\\uc6d0, \\ud654\\uc774\\ud305, \\uccad\\ucd98\",\"['\\uc6b0\\uc6b8\\ud55c']\"],[\"When I`m With You\",\"MLC\",\"\\ucd94\\uc5b5, \\ub304\\uc2a4, \\uce74\\ud398, \\uc794\\uc794\\ud55c, \\ubd84\\uc704\\uae30, \\uc124\\ub818, \\uc0ac\\ub791, \\ud734\\uc2dd, \\ub3c5\\uc11c, \\ubd88\\uba74\\uc99d, \\ud765, \\ub4dc\\ub77c\\uc774\\ube0c, \\uc2e0\\ub098\\ub294\",\"['\\uc794\\uc794\\ud55c']\"],[\"\\uae30\\uc5b5\\ud558\\ub2c8? (Acoustic Ver.) (Feat. 1Sagain, \\uc724\\uc9c4)\",\"July\",\"\\ud790\\ub9c1, \\ud734\\uc2dd, \\uc794\\uc794\\ud55c, \\uc2ac\\ud514, \\uc774\\ubcc4, \\ube44\\uc624\\ub294\\ub0a0, \\uae4c\\ud398, \\uc124\\ub818, \\uc0ac\\ub791\",\"['\\uc794\\uc794\\ud55c']\"],[\"\\uccad\\ucd98\\uc774 \\ubb3b\\ub294\\ub2e4 (Original)\",\"\\uc784\\ud0dc\\uacbd, \\uae40\\ud0dc\\ud6c8\",\"\\uc2a4\\ud2b8\\ub808\\uc2a4, \\uae30\\ubd84\\uc804\\ud658\",\"['\\uae34\\uc7a5\\ub418\\ub294', '\\ud589\\ubcf5\\ud55c']\"],[\"\\ub6ad\\ub69c\\ub8e8\",\"\\uc624\\ub9ac\\uc5d4\\ud0c8 \\uc1fc\\ucee4\\uc2a4\",\"\\uc5ec\\ud589, \\ub4dc\\ub77c\\uc774\\ube0c, \\uaca8\\uc6b8, \\uc124\\ub818, \\uc0ac\\ub791, \\uac00\\uc744, \\ud589\\ubcf5, \\uae30\\ubd84\\uc804\\ud658, \\uae30\\ubd84\\uc5c5, \\uc124\\ub808\\ub294, \\ud790\\ub9c1, \\ubd04, \\uacbd\\ucf8c\\ud55c, \\uce74\\ud398, \\uc544\\uce68, \\ud398\\uc2a4\\ud2f0\\ubc8c, \\uc8fc\\ub9d0\",\"['\\ud589\\ubcf5\\ud55c']\"],[\"Self Care\",\"Mac Miller\",\"\\uae30\\ubd84\\uc804\\ud658, \\ub9ac\\ub4dc\\ubbf8\\uceec, \\uc2ac\\ud514, \\uc6b0\\uc6b8, \\uc6b0\\uc6b8\\ud55c, \\uc0c8\\ubcbd, \\ubd84\\uc704\\uae30, \\ubc24, \\ub304\\uc2a4, \\uc77c\\uc0c1, \\uc720\\ub2c8\\ud06c, \\uc0c8\\ubcbd\\uac10\\uc131, \\ub4dc\\ub77c\\uc774\\ube0c, \\uc2e0\\ub098\\ub294, \\uae4c\\ud398, \\ud3b8\\uc548\\ud55c, \\uce74\\ud398, \\uc794\\uc794\\ud55c, \\uacf5\\ubd80, \\ud074\\ub7fd, \\uc2a4\\ud2b8\\ub808\\uc2a4, \\ud5ec\\uc2a4, \\uc6b4\\ub3d9\\ud560\\ub54c, \\ud5ec\\uc2a4\\uc7a5, \\uc6b4\\ub3d9, \\uc5d0\\ub108\\uc9c0, \\ub7f0\\ub2dd, \\ud30c\\ud2f0, \\ucd9c\\uadfc\\uae38, \\uc544\\uce68, \\uc6d4\\uc694\\ubcd1, \\ucd94\\uc5b5, \\uac15\\ub82c\\ud55c, \\ubd88\\uae08, \\ube44\\uc624\\ub294\\ub0a0\",\"['\\ud589\\ubcf5\\ud55c']\"],[\"\\ub098 \\uc5ec\\uae30\\uc11c\",\"Various Artists\",\"\\uac10\\ub3d9, \\ubba4\\uc9c0\\uceec\",\"['\\ud589\\ubcf5\\ud55c', '\\uacbd\\ucf8c\\ud55c']\"],[\"\\ubc29\\ubc31 (Aside)\",\"SHINee (\\uc0e4\\uc774\\ub2c8)\",\"\\ub304\\uc2a4, \\ucd94\\uc5b5, \\ud68c\\uc0c1, \\uc794\\uc794\\ud55c, \\uc6b0\\uc6b8, \\uc704\\ub85c, \\ubd04, \\uc124\\ub818, \\uc0ac\\ub791, \\uc9dd\\uc0ac\\ub791, \\uace0\\ubc31, \\uac00\\uc744, \\ub530\\ub73b\\ud55c, \\ud790\\ub9c1, \\uaca8\\uc6b8\\uac10\\uc131, \\ud734\\uc2dd, \\ub4dc\\ub77c\\uc774\\ube0c, \\uae4c\\ud398, \\ubd04\\ubc14\\ub78c, \\ub370\\uc774\\ud2b8, \\ub098\\ub4e4\\uc774, \\uc0b0\\ucc45, \\uae30\\ubd84\\uc804\\ud658, \\uc6b4\\ub3d9, \\ub9ac\\ub4dc\\ubbf8\\uceec, \\uc0c8\\ubcbd, \\ubc24, \\ucd9c\\uadfc\\uae38, \\ub178\\ub3d9\\uc694, \\uc77c\\uc0c1, \\ub0b4\\uc801\\ub304\\uc2a4, \\uaca8\\uc6b8, \\uc2ac\\ud514, \\uc774\\ubcc4, \\uc5ec\\ub984\\ubc24, \\uc2dc\\uc6d0\\ud55c, \\uc2a4\\ud2b8\\ub808\\uc2a4, \\uc2e0\\ub098\\ub294, \\uce74\\ud398, \\ubd04\\ube44, \\ubd04\\ub178\\ub798, \\uc5ec\\ud589, \\ubd04\\ub0a0, \\uacf5\\uac10, \\uc2ac\\ud508, \\ud654\\uc774\\ud305, \\uc5ec\\ub984\",\"['\\ud589\\ubcf5\\ud55c']\"],[\"Morning\",\"\\ub9c8\\ub9c8\\ubb34 (Mamamoo)\",\"\\uc790\\uae30\\uc804, \\uac00\\uc744, \\ub4dc\\ub77c\\uc774\\ube0c, \\uc5ec\\ud589, \\uae30\\ubd84\\uc804\\ud658, \\ub304\\uc2a4, \\uc794\\uc794\\ud55c, \\uc2e0\\ub098\\ub294, \\uc624\\ud6c4, \\uc5ec\\ub984, \\uc2dc\\uc6d0, \\uc0c1\\ucf8c, \\uaca8\\uc6b8, \\uc0c1\\ud07c, \\uc774\\ubcc4, \\uc0ac\\ub791, \\ud734\\uc2dd, \\ud790\\ub9c1, \\ub208\\ubb3c, \\uc2ac\\ud508, \\ud734\\uc77c, \\uce74\\ud398, \\uc8fc\\ub9d0, \\uc0b0\\ub73b\\ud55c, \\uc544\\uce68\",\"['\\uacbd\\ucf8c\\ud55c']\"],[\"\\uc660\\uc9c0 \\ub290\\ub08c\\uc774 \\uc88b\\uc544 (`00)\",\"\\uc5ec\\ud589\\uc2a4\\ucf00\\uce58\",\"\\uc5ec\\ub984, \\ub4dc\\ub77c\\uc774\\ube0c, \\uc5ec\\ud589, \\uc0b0\\ucc45, \\uac00\\uc744, \\ucd94\\uc5b5, \\uae30\\ubd84\\uc804\\ud658, \\ub9c8\\uc74c, \\uc0ac\\ub791, \\ud790\\ub9c1, \\uc2a4\\ud2b8\\ub808\\uc2a4, \\uc378, \\ub2ec\\ucf64, \\uc0c1\\ud07c, \\ucd9c\\uadfc\\uae38, \\ubd04, \\uce74\\ud398, \\uc624\\ud6c4, \\uc5d0\\ub108\\uc9c0, \\uc2e0\\ub098\\ub294, \\ud734\\uc2dd\",\"['\\ud589\\ubcf5\\ud55c']\"],[\"\\ud61c\\uc57c (Y Si Fuera Ella)\",\"SHINee (\\uc0e4\\uc774\\ub2c8)\",\"\\ud790\\ub9c1, \\ud734\\uc2dd, \\uc2a4\\ud2b8\\ub808\\uc2a4, \\uae30\\ubd84\\uc804\\ud658\",\"['\\uae34\\uc7a5\\ub418\\ub294']\"],[\"\\uc0c8\\uc7a5 \\uc18d\\uc758 \\uce5c\\uad6c\",\"\\uae40\\uad11\\uc11d\",\"\\ucd94\\uc5b5, \\ud68c\\uc0c1, \\ube44\\uc624\\ub294\\ub0a0, \\ud750\\ub9b0\\ub0a0, \\ube44, \\uc794\\uc794\\ud55c, \\uc6b0\\uc6b8, \\ub3c4\\uc2dc, \\uc13c\\uce58, \\ud790\\ub9c1, \\ud734\\uc2dd, \\ubc24, \\uc0c8\\ubcbd, \\uadf8\\ub9ac\\uc6c0, \\uce5c\\uad6c\",\"['\\ud589\\ubcf5\\ud55c']\"],[\"\\uc0ac\\ub791 \\uadf8 \\uc4f8\\uc4f8\\ud568\\uc5d0 \\ub300\\ud558\\uc5ec\",\"\\uae40\\uc724\\uc544, \\ucc44\\ubcf4\\ud6c8\",\"\\ubc14\\ub2e4, \\uc5ec\\ub984, \\ubd04, \\uc4f8\\uc4f8\\ud568, \\uac00\\uc744, \\ub208\\ubb3c, \\uce74\\ud398, \\uc678\\ub85c\\uc6c0, \\uc0b0\\ucc45, \\ub4dc\\ub77c\\uc774\\ube0c, \\uc2ac\\ud514, \\ucd94\\uc5b5, \\uc774\\ubcc4, \\ud68c\\uc0c1, \\ube44\\uc624\\ub294\\ub0a0, \\ubc34\\ub4dc\",\"['\\uc794\\uc794\\ud55c']\"],[\"\\ubbf8\\uc6cc (Hate U, Love U)\",\"SUPER JUNIOR (\\uc288\\ud37c\\uc8fc\\ub2c8\\uc5b4)\",\"\\ub304\\uc2a4, \\ud790\\ub9c1, \\ud734\\uc2dd, \\uc124\\ub818, \\uc0ac\\ub791, \\ucd94\\uc5b5, \\ud68c\\uc0c1\",\"['\\ud589\\ubcf5\\ud55c']\"],[\"Salary\",\"\\ud398\\ud37c\\ud1a4\\uc2a4 (Peppertones)\",\"\\ud790\\ub9c1, \\ud734\\uc2dd, \\uae30\\ubd84\\uc804\\ud658, \\ud587\\uc0b4, \\uc6d4\\uc694\\ubcd1, \\uc2a4\\ud2b8\\ub808\\uc2a4, \\uce74\\ud398, \\ud53c\\uace4, \\ud1f4\\uadfc\\uae38, \\uae4c\\ud398, \\ub178\\ub3d9\\uc694, \\uc5f0\\ub9d0, \\ud589\\ubcf5, \\uaca8\\uc6b8, \\uc0ac\\ub791, \\uc2e0\\ub098\\ub294, \\ub4dc\\ub77c\\uc774\\ube0c, \\uc6b4\\uc804, \\ucd94\\uc5b5, \\ud68c\\uc0c1, \\ud1f4\\uadfc, \\uae08\\uc694\\uc77c, \\uac15\\ub82c\\ud55c, \\uc0c1\\ucf8c\\ud55c, \\uc2a4\\ud2b8\\ub808\\uc2a4\\ud574\\uc18c, \\uce68\\ub300, \\uc124\\ub818, \\uc5ec\\ud589, \\uacbd\\ucf8c\\ud55c, \\uc0b0\\ub73b\\ud55c, \\ubc1d\\uc740\",\"['\\ud589\\ubcf5\\ud55c']\"],[\"\\uc18c\\uc911\\ud55c \\uc0ac\\ub78c\\uc744 \\uc704\\ud574\",\"V.O.S\",\"\\uc124\\ub818, \\uc0ac\\ub791, \\ucd94\\uc5b5, \\uae30\\ubd84\\uc804\\ud658, \\ud68c\\uc0c1\",\"['\\ud589\\ubcf5\\ud55c']\"],[\"If I Love You (Feat. \\uc774\\ub2e8\\uc606\\ucc28\\uae30)\",\"NS \\uc724\\uc9c0\",\"\\ubc24, \\uac00\\uc744, \\uc0c8\\ubcbd, \\uc2ac\\ud514, \\uc2a4\\ud2b8\\ub808\\uc2a4, \\uc774\\ubcc4, \\ub304\\uc2a4, \\ud790\\ub9c1, \\ud734\\uc2dd, \\uae30\\ubd84\\uc804\\ud658, \\uc2e0\\ub098\\ub294, \\uc5ec\\ub984, \\uae4c\\ud398, \\uc124\\ub818, \\uc0ac\\ub791\",\"['\\ud589\\ubcf5\\ud55c']\"],[\"\\ubc94\\ub760 \\uc544\\uac00\\uc528\",\"\\uc591\\ubbf8\\ub780\",\"\\ucd94\\uc5b5\",\"['\\ud589\\ubcf5\\ud55c']\"],[\"boy\",\"offonoff (\\uc624\\ud504\\uc628\\uc624\\ud504)\",\"\\ud734\\uc2dd, \\ubc24, \\ud790\\ub9c1, \\uaca8\\uc6b8, \\uc0c8\\ubcbd\\uac10\\uc131, \\uc0c8\\ubcbd, \\uc7a0\\ub4e4\\uae30\\uc804, \\uae30\\ubd84\\uc804\\ud658, \\uc0b0\\ucc45, \\uc5ec\\ud589, \\ubd84\\uc704\\uae30, \\uac00\\uc744, \\uce74\\ud398, \\uac00\\uc744\\ube44, \\ub4dc\\ub77c\\uc774\\ube0c, \\uc0ac\\ub791, \\ub2ec\\ub2ec, \\uc794\\uc794, \\ube44, \\uc6b0\\uc6b8, \\uc794\\uc794\\ud55c, \\uc13c\\uce58, \\uc2a4\\ud2b8\\ub808\\uc2a4\\ud574\\uc18c, \\ud53c\\ud06c\\ub2c9, \\ubabd\\ud658, \\ubabd\\ud658\\uc801, \\uc2a4\\ud2b8\\ub808\\uc2a4, \\ud63c\\uc790\\uc788\\uc744\\ub54c, \\uc5ec\\ub984, \\uc2e0\\ub098\\ub294, \\uc5f0\\ud734, \\ud589\\ubcf5, \\uc77c\\uc0c1, \\ub370\\uc774\\ud2b8, \\uc378, \\ud1f4\\uadfc\\uae38, \\ud1f4\\uadfc, \\ud2b8\\ub80c\\ub514\\ud55c, \\uc6b4\\ub3d9, \\ub9ac\\ub4dc\\ubbf8\\uceec, \\ud799\\ud55c, \\uc5f0\\uc560, \\uc678\\ub85c\\uc6c0, \\ubcc4, \\ubb34\\ub354\\uc704, \\ube44\\uc624\\ub294\\ub0a0, \\uac10\\uc131\\uc790\\uadf9, \\uc8fc\\ub9d0, \\ud750\\ub9b0\\ub0a0, \\uaca8\\uc6b8\\ubc24, \\ucd94\\uc5b5, \\uc774\\ubcc4, \\uc124\\ub818, \\ub2ec\\ub2ec\\ud55c, \\uc544\\ub828\\ud55c, \\uc9d1\\uc911, \\ucd9c\\uadfc\\uae38, \\uc544\\uce68, \\uc6d4\\uc694\\ubcd1, \\ud3b8\\uc548\\ud55c, \\uc544\\ub984\\ub2e4\\uc6b4, \\ubd04\\ube44, \\uc704\\ub85c, \\ud3ec\\uadfc\\ud55c, \\ubd04, \\uc800\\ub141, \\uc4f8\\uc4f8\\ud55c, \\uac00\\uc744\\ubc24, \\ubd88\\uae08, \\uc139\\uc2dc, \\uc720\\ub2c8\\ud06c\",\"['\\ud589\\ubcf5\\ud55c']\"],[\"\\uc774\\ubcc4\\uc774\\ub77c\\ub294 \\ubc24\",\"\\ub9e5\\ucf08\\ub9ac\",\"\\ub208\\ubb3c, \\uac10\\uc218\\uc131, \\uc2ac\\ud514, \\uc774\\ubcc4, \\ubd04, \\uc8fc\\ub9d0, \\uc794\\uc794\\ud55c, \\uc624\\ud6c4, \\uae30\\ubd84\\uc804\\ud658, \\uc0b0\\ucc45, \\uce74\\ud398, \\ubd84\\uc704\\uae30, \\uc704\\ub85c, \\ud790\\ub9c1, \\ud1f4\\uadfc\\uae38, \\ud734\\uc2dd, \\ucee4\\ud53c, \\ud587\\uc0b4, \\uadf8\\ub9ac\\uc6c0, \\uc4f8\\uc4f8\\ud55c, \\uc678\\ub85c\\uc6c0, \\ube44\\uc624\\ub294\\ub0a0, \\uac10\\uc131\\uc790\\uadf9, \\ud68c\\uc0c1, \\ucd9c\\uadfc\\uae38, \\uc6d4\\uc694\\ubcd1, \\ucd94\\uc5b5, \\uc6b0\\uc6b8\\ud55c, \\ubc24, \\ucd94\\uc5b5\\ud68c\\uc0c1, \\uaca8\\uc6b8, \\ub530\\ub73b\\ud55c, \\uacf5\\uac10, \\ud6c4\\ud68c, \\uac10\\ubbf8\\ub85c\\uc6b4, \\uc13c\\uce58\",\"['\\uc794\\uc794\\ud55c']\"],[\"\\ub098\\uc758 \\ube5b, \\uc5b4\\uba38\\ub2c8\",\"\\ubc15\\uc740\\ud0dc\",\"\\ubba4\\uc9c0\\uceec\",\"['\\uacbd\\ucf8c\\ud55c']\"],[\"I`m Not Yours\",\"\\uc2a4\\ud0e0\\ub529 \\uc5d0\\uadf8\",\"\\uc624\\ud6c4, \\uc990\\uac70\\uc6b4, \\uc794\\uc794\\ud55c, \\ubc24, \\uc0c8\\ubcbd, \\ud734\\uc2dd, \\ud790\\ub9c1, \\uac00\\uc744, \\uae4c\\ud398, \\uc124\\ub818, \\uc0ac\\ub791, \\uc2ac\\ud514, \\uc774\\ubcc4, \\uc8fc\\ub9d0, \\uc0b0\\ucc45, \\uae30\\ubd84\\uc88b\\uc740, \\ubd84\\uc704\\uae30, \\uce74\\ud398, \\uc124\\ub808\\uc784, \\ub9c8\\uc74c, \\ud3b8\\uc548\\ud55c, \\ucd94\\uc5b5, \\ud68c\\uc0c1, \\uc5ec\\ub984, \\uae30\\ubd84\\uc804\\ud658, \\ub4dc\\ub77c\\uc774\\ube0c\",\"['\\ubb34\\uc11c\\uc6b4']\"],[\"\\uaca8\\uc6b8, \\ub05d (It`s You)\",\"\\uc5ec\\uc790\\uce5c\\uad6c (GFRIEND)\",\"\\ubc24, \\ub304\\uc2a4, \\uc0c8\\ubcbd, \\ub4dc\\ub77c\\uc774\\ube0c, \\uc2e0\\ub098\\ub294, \\uacf5\\ubd80, \\ub208\\ubb3c, \\uc6b0\\uc6b8, \\ubd84\\uc704\\uae30, \\uc13c\\uce58, \\uc2ac\\ud514, \\uc774\\ubcc4, \\ud06c\\ub9ac\\uc2a4\\ub9c8\\uc2a4\",\"['\\uacbd\\ucf8c\\ud55c']\"],[\"\\uc0c8\\ube68\\uac04\",\"\\ud14c\\uc778\",\"\\ud734\\uc2dd, \\ud790\\ub9c1, \\uc124\\ub818, \\uc0ac\\ub791, \\ube44\\uc624\\ub294\\ub0a0, \\ubc24, \\uc0c8\\ubcbd, \\uc2ac\\ud514, \\uc774\\ubcc4, \\uc5ec\\ud589, \\uc0b0\\ucc45, \\ud68c\\uc0c1, \\ucd94\\uc5b5, \\ub4dc\\ub77c\\uc774\\ube0c, \\uae30\\uc5b5, \\uc0c1\\ud07c, \\ubd04\",\"['\\ud589\\ubcf5\\ud55c']\"],[\"\\ub098\\ub294 \\ub098\\ub9cc\\uc758 \\uac83\",\"\\uc625\\uc8fc\\ud604\",\"\\ubba4\\uc9c0\\uceec, \\uac10\\ub3d9, \\ub304\\uc2a4, \\uc790\\uc2e0\\uac10, \\uc0ac\\ub791\",\"['\\uacbd\\ucf8c\\ud55c']\"],[\"\\ub098\\ub294 \\ub098\\ub9cc\\uc758 \\uac83\",\"\\uc2e0\\uc601\\uc219\",\"\\ubba4\\uc9c0\\uceec, \\uac10\\ub3d9, \\ub304\\uc2a4, \\uc790\\uc2e0\\uac10, \\uc0ac\\ub791\",\"['\\uacbd\\ucf8c\\ud55c']\"],[\"\\ub098\\ub294 \\ub098\\ub9cc\\uc758 \\uac83\",\"\\uc625\\uc8fc\\ud604\",\"\\ud790\\ub9c1, \\ud734\\uc2dd, \\uae30\\ubd84\\uc804\\ud658, \\uac10\\ub3d9, \\ubba4\\uc9c0\\uceec, \\uc0ac\\ub791\",\"['\\uacbd\\ucf8c\\ud55c']\"],[\"\\ub098\\ub294 \\ub098\\ub9cc\\uc758 \\uac83\",\"\\uc2e0\\uc601\\uc219\",\"\\ud790\\ub9c1, \\ud734\\uc2dd, \\uae30\\ubd84\\uc804\\ud658, \\uac10\\ub3d9, \\ubba4\\uc9c0\\uceec, \\uc0ac\\ub791\",\"['\\uacbd\\ucf8c\\ud55c']\"],[\"Take on Me (Kygo Remix)\",\"A-ha\",\"\\ub4dc\\ub77c\\uc774\\ube0c, \\ud074\\ub7fd, \\uae30\\ubd84\\uc804\\ud658\",\"['\\ud589\\ubcf5\\ud55c', '\\uacbd\\ucf8c\\ud55c']\"],[\"\\uc5b8\\uc820\\uac00 \\uc774 \\uacf3\\uc774 (\\uc7a5\\uae08, \\ubbfc\\uc815\\ud638)\",\"\\uc6d0\\uae30\\uc900, \\uae40\\uc18c\\ud604\",\"\\ubba4\\uc9c0\\uceec, \\uac10\\ub3d9\",\"['\\uacbd\\ucf8c\\ud55c', '\\ud589\\ubcf5\\ud55c']\"],[\"\\uc0ac\\ub78c\\uc5c6\\uc778 \\uc0ac\\ub78c\\uc73c\\ub85c \\ubabb \\uc0b4\\uc544\\uc694\",\"\\ubb38\\ubb38 (MoonMoon)\",\"\\uc794\\uc794\\ud55c, \\uc0c8\\ubcbd, \\uc0c8\\ubcbd\\uac10\\uc131, \\ud798\\ub4e4\\ub54c, \\uc704\\ub85c, \\ud1f4\\uadfc, \\uc13c\\uce58, \\ucee4\\ud53c, \\ub4dc\\ub77c\\uc774\\ube0c, \\uce74\\ud398, \\ud63c\\uc220, \\ubc24, \\uc678\\ub85c\\uc6c0, \\ud55c\\uac15, \\ud1f4\\uadfc\\uae38, \\ud734\\uc2dd, \\ud790\\ub9c1, \\uc2ac\\ud514, \\uc774\\ubcc4, \\uc0b0\\ucc45, \\uae30\\ubd84\\uc804\\ud658, \\uaca8\\uc6b8, \\uc0ac\\ub791, \\ubd84\\uc704\\uae30, \\uccad\\ucd98, \\ud558\\ub8e8, \\uc5f0\\ub9d0, \\ub178\\ub3d9\\uc694, \\uc6d4\\uc694\\ubcd1, \\uc800\\ub141, \\uc7a0\\ub4e4\\uae30\\uc804, \\uc6b0\\uc6b8\\ud55c, \\uc9c0\\uce5c, \\uc9c0\\uce60\\ub54c, \\ub304\\uc2a4, \\uc9d1\\uc911, \\uacf5\\ubd80, \\ub208, \\uac00\\uc744, \\uc5ec\\ub984\\ubc24, \\ud1a0\\ub2e5\\ud1a0\\ub2e5, \\uaca8\\uc6b8\\ubc24, \\ucd94\\uc5b5, \\uc5f0\\uc778, \\uc8fc\\ub9d0, \\uc2e0\\ub098\\ub294, \\ubd04, \\ub0ad\\ub9cc, \\uc6b0\\uc6b8, \\ub2ec\\ub2ec, \\uc5ec\\uc720, \\uc624\\ud6c4, \\uc77c\\uc0c1, \\ucd9c\\uadfc\\uae38, \\ud398\\uc2a4\\ud2f0\\ubc8c, \\uc2a4\\ud2b8\\ub808\\uc2a4, \\uc5f0\\uc560, \\uace0\\ubc31, \\uc124\\ub818, \\uc378, \\uc7a0\",\"['\\uc6b0\\uc6b8\\ud55c']\"],[\"\\ud504\\ub9ac\\ud504\\ub9c1 \\ub9e4\\uc9c0\\uceec \\uc0e4\\uc774\\ub2dd \\uc2a4\\ud0c0 (\\uc544\\ube60\\ub97c \\uad6c\\ud558\\uc790)\",\"\\ud504\\ub9ac\\ud504\\ub9c1 \\ub9c8\\ub9ac\\uc758 \\ub9c8\\ubc95\\ud559\\uad50 \\ub300\\ubaa8\\ud5d8\",\"\\ubba4\\uc9c0\\uceec\",\"['\\uacbd\\ucf8c\\ud55c']\"],[\"The Ocean (Feat. Julia Spada)\",\"Steve Angello\",\"\\ub304\\uc2a4, \\ud398\\uc2a4\\ud2f0\\ubc8c, \\ud30c\\ud2f0, \\uc2e0\\ub098\\ub294\",\"['\\uacbd\\ucf8c\\ud55c', '\\ud589\\ubcf5\\ud55c']\"],[\"\\uc548\\ubd80\\ub97c \\ubb3b\\ub294\\ub2e4\\ub294 \\uac83\",\"\\uc544\\ubb34\\uc0ac\\uc774\",\"\\ud790\\ub9c1, \\uc5f0\\ub9d0, \\uaca8\\uc6b8, \\uc794\\uc794\\ud55c, \\uc9d1\\uc911, \\ud734\\uc2dd, \\ubc24, \\uce74\\ud398, \\uc0c8\\ubcbd, \\ucc28\\ubd84\\ud55c, \\uc870\\uc6a9\\ud55c, \\uc5ec\\ud589, \\ud63c\\uc220, \\uac10\\uc131\\uc801\\uc778, \\uac00\\uc744, \\ub2ec\\ub2ec, \\uc124\\ub818, \\ud68c\\uc0c1, \\ucd94\\uc5b5, \\uae30\\ubd84\\uc804\\ud658, \\uc0ac\\ub791, \\uac00\\uc744\\ube44, \\uc774\\ubcc4, \\uc2ac\\ud514, \\uadf8\\ub9ac\\uc6c0, \\ube44\\uc624\\ub294\\ub0a0, \\ucee4\\ud53c, \\uc0b0\\ucc45, \\uae4c\\ud398, \\uc720\\ub2c8\\ud06c, \\uc8fc\\ub9d0, \\uc704\\ub85c, \\ud3b8\\uc548\\ud568\",\"['\\ubb34\\uc11c\\uc6b4']\"],[\"\\ub77c\\ub514\\uc62490\",\"\\uc870\\ub3d9\\ud76c\",\"\\uac00\\uc744\",\"['\\uc794\\uc794\\ud55c']\"],[\"\\uc6b0\\ub9ac \\uc0ac\\ub791 \\uc5ec\\uae30\\uae4c\\uc9c0\\uc8e0\",\"\\ud61c\\ub839\",\"\\uc870\\uc6a9\\ud55c, \\ubc24, \\uc0c8\\ubcbd, \\uaca8\\uc6b8, \\uc774\\ubcc4, \\uc2ac\\ud514, \\ucd94\\uc5b5, \\ud68c\\uc0c1, \\uc5ec\\uc720, \\uc794\\uc794\\ud55c, \\uc124\\ub818, \\uc0ac\\ub791, \\ud6c4\\ud68c, \\ub304\\uc2a4, \\ub4dc\\ub77c\\uc774\\ube0c, \\ud790\\ub9c1, \\ud734\\uc2dd, \\uae30\\ubd84\\uc804\\ud658, \\ud5e4\\uc5b4\\uc9d0, \\ube44\\uc624\\ub294\\ub0a0, \\ub208\\ubb3c, \\uc544\\ud514, \\uc6b0\\uc6b8, \\uac00\\uc744, \\uac10\\uc218\\uc131, \\ube44, \\uce74\\ud398\",\"['\\uc6b0\\uc6b8\\ud55c']\"],[\"\\ub098\\ub9cc\\uc758 \\uce5c\\uad6c\",\"\\uc194\\ub9ac\\ub4dc\",\"\\ucd94\\uc5b5, \\ud68c\\uc0c1, \\ubd04, \\ub304\\uc2a4, \\uadf8\\ub9ac\\uc6c0, \\uce5c\\uad6c, \\uc794\\uc794\\ud55c, \\uc0ac\\ub791, \\uc124\\ub818\",\"['\\ud589\\ubcf5\\ud55c', '\\uc794\\uc794\\ud55c']\"],[\"Black Shoes (\\ud558\\uc774\\ud790) (Feat. Lil Cham)\",\"Steve Wu, \\ub450\\uc2a4\",\"\\uae30\\ubd84\\uc804\\ud658, \\uc2e0\\ub098\\ub294, \\ub304\\uc2a4\",\"['\\ud589\\ubcf5\\ud55c']\"],[\"Triple\",\"\\ud074\\ub808\\uc624\",\"\\ub304\\uc2a4, \\uc2a4\\ud2b8\\ub808\\uc2a4, \\uae30\\ubd84\\uc804\\ud658, \\ub4dc\\ub77c\\uc774\\ube0c, \\ucd94\\uc5b5, \\ud68c\\uc0c1, \\ud790\\ub9c1, \\ud734\\uc2dd\",\"['\\uacbd\\ucf8c\\ud55c']\"],[\"\\ub10c \\ubaa8\\ub97c \\uac70\\uc57c\",\"\\uc774\\uc601\\ud6c8\",\"\\uae30\\uc5b5, \\ub4dc\\ub77c\\uc774\\ube0c, \\uc0ac\\ub791, \\uc124\\ub818, \\uc9dd\\uc0ac\\ub791, \\ube44\\uc624\\ub294\\ub0a0, \\ud734\\uc2dd, \\uc794\\uc794\\ud55c, \\ucd94\\uc5b5, \\uc5f4\\ub300\\uc57c, \\uc9d1, \\uc791\\uc5c5, \\uc774\\ubcc4, \\uc544\\uce68, \\ub208, \\uaca8\\uc6b8, \\ud06c\\ub9ac\\uc2a4\\ub9c8\\uc2a4, \\uc5ec\\ud589, \\ubd04, \\ubc9a\\uaf43, \\uc790\\uae30\\uc804\\uc5d0, \\uc4f8\\uc4f8, \\uc4f8\\uc4f8\\ud568, \\uc0c8\\ubcbd\\uac10\\uc131, \\ud1a0\\ub2e5\\ud1a0\\ub2e5, \\uae30\\ubd84\\uc804\\ud658, \\ubc24, \\uc0c8\\ubcbd, \\ub2ec\\ub2ec, \\uace0\\ubc31, \\uc378, \\uc704\\ub85c, \\uce74\\ud398, \\uc2ac\\ud514, \\uac10\\ubbf8\\ub85c\\uc6b4\",\"['\\uc794\\uc794\\ud55c']\"],[\"\\ubc24\\ud558\\ub298\\uc758 \\ubcc4\\uc744 2 (Feat. \\uc81c\\uc774\\ube44 & \\ud55c\\uc9c0\\uc740)\",\"\\uc591\\uc815\\uc2b9\",\"\\ube44\\uc624\\ub294\\ub0a0, \\uc794\\uc794\\ud55c, \\ubc24, \\uc0c8\\ubcbd, \\ucd94\\uc5b5, \\ud734\\uc2dd, \\uae30\\ubd84\\uc804\\ud658, \\uc0ac\\ub791, \\ud790\\ub9c1, \\uc2dc\\uc791, \\ud654\\uc774\\ud305, \\uc124\\ub818, \\ub2ec\\ucf64, \\uce74\\ud398, \\ub2ec\\ub2ec\\ud55c, \\ud3b8\\uc548\\ud55c, \\uc5ec\\ub984, \\uc0b0\\ucc45, \\uc5ec\\ud589, \\ucee4\\ud50c, \\uc9dd\\uc0ac\\ub791, \\uc5f0\\uc560, \\uc378, \\uc124\\ub808\\uc784, \\ud589\\ubcf5, \\uace0\\ubc31, \\ubd84\\uc704\\uae30, \\uac00\\uc744, \\uac00\\uc744\\ubc24\",\"['\\ud589\\ubcf5\\ud55c']\"],[\"Strip That Down (Feat. Quavo)\",\"Liam Payne\",\"\\uc5ec\\uc720, \\ub4dc\\ub77c\\uc774\\ube0c, \\uc5ec\\ud589, \\ub098\\ub4e4\\uc774, \\ub0b4\\uc801\\ub304\\uc2a4, \\uae30\\ubd84\\uc5c5, \\uc2e0\\ub098\\ub294, \\uae30\\ubd84\\uc804\\ud658\",\"['\\ud589\\ubcf5\\ud55c']\"],[\"\\ub208\\uce58\\ub3c4 \\uc5c6\\uc774\",\"\\ub354 \\ubb38\\uc0e4\\uc774\\ub108\\uc2a4\",\"\\uc2a4\\ud2b8\\ub808\\uc2a4, \\uc124\\ub818, \\uc0ac\\ub791\",\"['\\ud589\\ubcf5\\ud55c']\"],[\"Ready Or Not Yo! (English Ver.) (Feat. Jinusean, Perry)\",\"\\uc6d0\\ud0c0\\uc784\",\"\\ub304\\uc2a4\",\"['\\uacbd\\ucf8c\\ud55c']\"],[\"\\uc560\\uc6d0 (Funky Disco Ver.)\",\"\\uc5d0\\uc5b4\",\"\\ub304\\uc2a4, \\ud765\\uaca8\\uc6b4, \\ucd94\\uc5b5, \\uacbd\\ucf8c\\ud55c, \\uc2e0\\ub098\\ub294\",\"['\\uacbd\\ucf8c\\ud55c']\"],[\"Speechless (feat. Erika Sirola)\",\"Robin Schulz\",\"\\uc6b4\\ub3d9, \\ub2ec\\ub9ac\\uae30, \\ub7f0\\ub2dd, \\uc870\\uae45, \\ud5ec\\uc2a4\\uc7a5\",\"['\\uacbd\\ucf8c\\ud55c']\"],[\"San Francisco\",\"ADOY\",\"\\uc220, \\uc0c8\\ubcbd, \\ubabd\\ud658, \\uc5ec\\ub984, \\uc2a4\\ud2b8\\ub808\\uc2a4, \\uae30\\ubd84\\uc804\\ud658, \\ud398\\uc2a4\\ud2f0\\ubc8c, \\uc794\\uc794\\ud55c, \\uc5ec\\ub984\\ubc24, \\ub4dc\\ub77c\\uc774\\ube0c, \\ub3c4\\uc2dc, \\ub808\\ud2b8\\ub85c, \\ubc24, \\uc0b0\\ucc45, \\uc5ec\\ud589, \\ud55c\\uac15, \\ub370\\uc774\\ud2b8, \\uccad\\ub7c9\\uac10, \\ubd88\\uae08, \\uae08\\uc694\\uc77c, \\ud790\\ub9c1, \\ud734\\uc2dd, \\ub304\\uc2a4, \\uc2e0\\ub098\\ub294, \\uce74\\ud398, \\ubc14\\ub2e4, \\uc57c\\uacbd, \\ud1f4\\uadfc\\uae38, \\ub0b4\\uc801\\ub304\\uc2a4, \\uc5ec\\ud589\\uc0b0\\ucc45, \\ubd84\\uc704\\uae30, \\uc124\\ub818, \\uc800\\ub141, \\uc0ac\\ub791, \\uccad\\ucd98, \\uc5ec\\uc720, \\uc5f0\\uc560, \\ud574\\ubcc0, \\ube44\\uc624\\ub294\\ub0a0, \\uac10\\uc131\\uc790\\uadf9, \\ud799\\ud55c\",\"['\\ud589\\ubcf5\\ud55c']\"],[\"\\uac19\\uc560 (same)\",\"\\ub514 \\ub85c\\ub4dc (D.Road)\",\"\\uc5f0\\uc778, \\uc0ac\\ub791, \\uace0\\ubc31, \\uc124\\ub818, \\ub370\\uc774\\ud2b8, \\uc378, \\ub2ec\\ub2ec, \\ud55c\\uac15, \\ubc24, \\uc0c8\\ubcbd, \\ub4dc\\ub77c\\uc774\\ube0c, \\uce74\\ud398, \\uc5f0\\ub9d0, \\uace0\\ub3c5, \\ub208, \\uaca8\\uc6b8, \\uc194\\ub85c, \\ubd80\\ub4dc\\ub7ec\\uc6b4\",\"['\\uc794\\uc794\\ud55c']\"],[\"\\ube44\\uac00 \\uc624\\uba74\",\"\\uc774\\uc9c0\\ud615\",\"\\ucd94\\uc5b5, \\uac00\\uc744, \\ud68c\\uc0c1, \\ube44\\uc624\\ub294\\ub0a0, \\ube44, \\ubc24, \\uc0c8\\ubcbd, \\uc5ec\\ub984\\ubc24, \\uc794\\uc794\\ud55c, \\uc5ec\\ud589, \\uc0b0\\ucc45, \\uc124\\ub818, \\uc0ac\\ub791, \\uc2ac\\ud514, \\uc774\\ubcc4\",\"['\\uc6b0\\uc6b8\\ud55c']\"],[\"\\uadf8\\ub300\\ub77c\\uc11c\",\"\\uc2e0\\uc6a9\\uc7ac, \\ub8e8\\ub098 (LUNA)\",\"\\uc5f0\\uc778, \\uae30\\ubd84\\uc804\\ud658, \\uce74\\ud398, \\uc0ac\\ub791, \\ub4dc\\ub77c\\uc774\\ube0c, \\ud734\\uc2dd, \\uc77c\\uc0c1, \\ud790\\ub9c1, \\uc2a4\\ud2b8\\ub808\\uc2a4, \\ub208, \\ud06c\\ub9ac\\uc2a4\\ub9c8\\uc2a4, \\uce90\\ub864, \\uc5f0\\ub9d0, \\uaca8\\uc6b8, \\uc2e0\\ub098\\ub294, \\uc4f8\\uc4f8, \\uc774\\ubcc4, \\uc794\\uc794\\ud55c, \\ubd88\\uba74\\uc99d, \\uc0c8\\ubcbd, \\ubd84\\uc704\\uae30, \\ucee4\\ud53c, \\ub208\\ubb3c, \\uc2ac\\ud514, \\uaca8\\uc6b8\\uac10\\uc131, \\uc124\\ub818, \\ub2ec\\ub2ec, \\ucd94\\uc5b5, \\ub530\\ub73b\\ud55c, \\ucd94\\uc5b5\\ud68c\\uc0c1, \\ub85c\\ub9e8\\ud2f1, \\uccab\\ub208, \\ud3b8\\uc548\\ud55c, \\ucc2c\\ubc14\\ub78c, \\ub304\\uc2a4, \\uc704\\ub85c, \\ud68c\\uc0c1, \\uac10\\uc131\\uc801\\uc778\",\"['\\ud589\\ubcf5\\ud55c']\"],[\"Don`t Let Me Be Lonely Tonight\",\"Eric Clapton\",\"\\uac00\\uc744, \\uc8fc\\ub9d0, \\ud63c\\uc220, \\uc640\\uc778, \\uc13c\\uce58\\ud55c\",\"['\\uc794\\uc794\\ud55c']\"],[\"Livin` In a Dream (Feat. Nipsey Hussle)\",\"The Neighbourhood\",\"\\uae30\\ubd84\\uc804\\ud658, \\uc5ec\\ub984, \\ub4dc\\ub77c\\uc774\\ube0c, \\ubc24, \\uc0c8\\ubcbd, \\uc0ac\\uc0c9, \\uce74\\ud398, \\ub0b4\\uc801\\ub304\\uc2a4, \\ud765, \\ud765\\ud3ed\\ubc1c, \\uaca8\\uc6b8, \\ud790\\ub9c1, \\uc6b4\\ub3d9, \\uccad\\ub7c9, \\uc2e0\\ub098\\ub294, \\uc794\\uc794\\ud55c, \\ud734\\uc2dd, \\uc0ac\\ub791\",\"['\\ud589\\ubcf5\\ud55c']\"],[\"\\uc0c1\\uc0c1\",\"\\uae40\\uac70\\uc9c0\",\"\\ubabd\\ud658\",\"['\\uc794\\uc794\\ud55c']\"],[\"\\ub3d9\\uadf8\\ub77c\\ubbf8\",\"\\ubaa8\\uc138\",\"\\uc5ec\\ub984\",\"['\\uacbd\\ucf8c\\ud55c']\"],[\"Kiss Of Life\",\"Sade\",\"\\uc0c8\\ubcbd, \\ubc24, \\uc124\\ub818, \\uc0ac\\ub791\",\"['\\ud589\\ubcf5\\ud55c']\"],[\"Sweet Dreams (Are Made Of This)\",\"Marilyn Manson\",\"\\uae30\\ubd84\\uc804\\ud658, \\ud734\\uc2dd, \\ud790\\ub9c1\",\"['\\ud589\\ubcf5\\ud55c']\"],[\"Power (Feat. HAYAKE)\",\"FIBER FUNK\",\"\\uc2a4\\ud2b8\\ub808\\uc2a4, \\uae30\\ubd84\\uc804\\ud658, \\uc2e0\\ub098\\ub294\",\"['\\ud589\\ubcf5\\ud55c']\"],[\"\\ubc14\\ub2e4 (Feat. KURO)\",\"\\uae40\\ubbf8\\uc815 (yourbeagle)\",\"\\ub4dc\\ub77c\\uc774\\ube0c\",\"['\\ud589\\ubcf5\\ud55c']\"],[\"\\uc21c\\uc2ec\\uc774\",\"\\uc784\\ucc3d\\uc815\",\"\\ub304\\uc2a4, \\ud790\\ub9c1, \\ud734\\uc2dd, \\uc794\\uc794\\ud55c, \\ucd94\\uc5b5, \\ud68c\\uc0c1\",\"['\\uc794\\uc794\\ud55c']\"],[\"\\ub9c8\\uc9c0\\ub9c9 \\ubd80\\ud0c1\",\"\\uc774\\ub4f1\\ubcc0\\uc0bc\\uac01\\ud615\",\"\\uc794\\uc794\\ud55c, \\uc6b0\\uc6b8, \\uc704\\ub85c, \\uc2ac\\ud514, \\uc0ac\\ub791, \\uccad\\ucd98\",\"['\\uc6b0\\uc6b8\\ud55c']\"],[\"\\uc0ac\\ub791\\uc740 \\uc720\\ub9ac \\uac19\\uc740 \\uac83\",\"\\ud551\\ud074 (Fin.K.L)\",\"\\ucd94\\uc5b5, \\ub304\\uc2a4, \\ub4dc\\ub77c\\uc774\\ube0c, \\uc2ac\\ud514, \\uae30\\ubd84\\uc804\\ud658, \\uc0ac\\ub791, \\uc544\\ud514, \\uc774\\ubcc4\",\"['\\ud589\\ubcf5\\ud55c']\"],[\"WYA (Feat. \\ubc84\\ubc8c\\uc9c4\\ud2b8)\",\"Se.A (\\uc138\\uc544)\",\"\\uc5ec\\ud589, \\ub4dc\\ub77c\\uc774\\ube0c, \\ud074\\ub7fd, \\uce74\\ud398, \\uc794\\uc794, \\ubd84\\uc704\\uae30, \\ucee4\\ud53c\",\"['\\ud589\\ubcf5\\ud55c', '\\uc794\\uc794\\ud55c']\"],[\"Yellow Ade\",\"24.5\",\"\\uc2ec\\ucff5\",\"['\\uae34\\uc7a5\\ub418\\ub294']\"],[\"\\uac00\\uc744\\ubc24\",\"\\ubc30\\uc601\\uacbd, \\uc1a1\\ud478\\ub984\",\"\\uc794\\uc794\\ud55c, \\ud734\\uc2dd, \\uac00\\uc744, \\uac00\\uc744\\ubc24, \\ucd94\\uc5b5, \\ud790\\ub9c1, \\ud3b8\\uc548\\ud55c\",\"['\\uc794\\uc794\\ud55c']\"],[\"\\uac00\\uc744\\ubc24\",\"\\uc815\\uc131\\uc6b0\",\"\\uc794\\uc794\\ud55c, \\ud734\\uc2dd, \\uac00\\uc744, \\uac00\\uc744\\ubc24, \\ucd94\\uc5b5, \\ud790\\ub9c1, \\ud3b8\\uc548\\ud55c\",\"['\\uc794\\uc794\\ud55c']\"],[\"\\uac00\\uc744\\ubc24\",\"\\ubc30\\uc601\\uacbd, \\uc1a1\\ud478\\ub984\",\"\\uac10\\uc131\\uc790\\uadf9, \\ubc24, \\uac00\\uc744, \\uc0c8\\ubcbd, \\ube44\\uc624\\ub294\\ub0a0, \\uce74\\ud398, \\uc0ac\\ub791, \\ube44, \\uc5ec\\ub984, \\uc7a5\\ub9c8, \\uc794\\uc794\\ud55c, \\ub4dc\\ub77c\\uc774\\ube0c, \\uc6b4\\uc804, \\ud734\\uc2dd, \\ucd94\\uc5b5, \\uc2ac\\ud514, \\uc870\\uc6a9\\ud55c\",\"['\\uc6b0\\uc6b8\\ud55c']\"],[\"\\uac00\\uc744\\ubc24\",\"\\uc815\\uc131\\uc6b0\",\"\\uac10\\uc131\\uc790\\uadf9, \\ubc24, \\uac00\\uc744, \\uc0c8\\ubcbd, \\ube44\\uc624\\ub294\\ub0a0, \\uce74\\ud398, \\uc0ac\\ub791, \\ube44, \\uc5ec\\ub984, \\uc7a5\\ub9c8, \\uc794\\uc794\\ud55c, \\ub4dc\\ub77c\\uc774\\ube0c, \\uc6b4\\uc804, \\ud734\\uc2dd, \\ucd94\\uc5b5, \\uc2ac\\ud514, \\uc870\\uc6a9\\ud55c\",\"['\\uc6b0\\uc6b8\\ud55c']\"],[\"\\ud53c \\ub540 \\ub208\\ubb3c\",\"\\ubc29\\ud0c4\\uc18c\\ub144\\ub2e8\",\"\\uc5f0\\ub9d0, \\uadf8\\ub9ac\\uc6c0, \\ud734\\uc2dd, \\uae30\\ubd84\\uc804\\ud658, \\ub304\\uc2a4, \\uc0c1\\ud07c, \\ubd04, \\ub9ac\\ub4dc\\ubbf8\\uceec, \\uc2e0\\ub098\\ub294, \\uc9d1\\uc911, \\uacf5\\ubd80, \\uc2dc\\ud5d8, \\uc5ec\\ub984, \\uc6b4\\ub3d9, \\ub4dc\\ub77c\\uc774\\ube0c, \\ube44\\uc624\\ub294\\ub0a0, \\ube44, \\uc6b0\\uc6b8, \\ud790\\ub9c1, \\uc0ac\\ub791, \\uc774\\ubcc4, \\ud654\\uc774\\ud305, \\ud589\\ubcf5, \\uaca8\\uc6b8, \\uc124\\ub818, \\uc2a4\\ud2b8\\ub808\\uc2a4, \\ub178\\ub3d9\\uc694, \\uc6d4\\uc694\\uc77c, \\ub0b4\\uc801\\ub304\\uc2a4, \\ub2ec\\ub2ec\\ud55c, \\uc5ec\\ub984\\ubc24, \\uc5ec\\ud589, \\uc2dc\\uc6d0\\ud55c, \\ud734\\uac00, \\ub530\\ub73b\\ud55c, \\ucd94\\uc5b5, \\ucee4\\ud50c, \\uc77c\\ud560\\ub54c, \\uc6b4\\ub3d9\\ud560\\ub54c, \\uc139\\uc2dc, \\uc0b0\\ucc45, \\uac00\\uc744, \\uce74\\ud398, \\uc6b4\\uc804, \\uac15\\ub82c\\ud55c, \\uae4c\\ud398, \\ud765\\ud3ed\\ubc1c, \\uc2e0\\ub098, \\ud765, \\ud5ec\\uc2a4, \\uc870\\uae45, \\ud798\\ub0b4, \\ubc14\\uce89\\uc2a4, \\uace0\\uc18d\\ub3c4\\ub85c, \\ud074\\ub7fd, \\ucda4, \\ucee4\\ud53c, \\ucd9c\\uadfc\\uae38, \\uc794\\uc794\\ud55c, \\uc2ac\\ud508, \\ubd04\\ub0a0, \\ub7f0\\ub2dd, \\uc8fc\\ub9d0, \\uc2e0\\ub0a8, \\ubd88\\uae08, \\uc2ac\\ud514, \\uc2dc\\uc6d0, \\ud30c\\ud2f0, \\ub098\\ub4e4\\uc774, \\uc704\\ub85c, \\uccad\\ucd98, \\ubc9a\\uaf43, \\ud3b8\\uc548\\ud55c, \\uc77c\\uc0c1, \\ubc24, \\ud765\\uaca8\\uc6b4, \\ud68c\\uc0c1, \\uc4f8\\uc4f8, \\ud5ec\\uc2a4\\uc7a5, \\ud734\\uc591\\uc9c0, \\ud55c\\uac15, \\uccad\\ub7c9\\uac10, \\uc624\\ud6c4, \\ubc14\\ub2e4, \\uc0c1\\ucf8c\\ud55c, \\ub208\\ubb3c, \\uc2a4\\ud2b8\\ub808\\uc2a4\\ud574\\uc18c, \\uce5c\\uad6c, \\uae30\\ubd84\\uc88b\\uc740, \\uc5f0\\ud734, \\uacbd\\ucf8c\\ud55c, \\uc544\\uce68, \\uc6d4\\uc694\\ubcd1, \\ucd94\\uc5b5\\ud68c\\uc0c1, \\ub4e4\\uc369\\ub4e4\\uc369, \\ud1f4\\uadfc\\uae38, \\uc13c\\uce58, \\uc2dc\\uc791, \\uccad\\ub7c9\\ud55c, \\uc678\\ub85c\\uc6c0, \\ub7ec\\ub2dd\",\"['\\ud589\\ubcf5\\ud55c']\"],[\"\\ub108\\uc774\\uae38 \\uc6d0\\ud588\\ub358 \\uc774\\uc720\",\"\\ucfe8 (COOL)\",\"\\uae30\\ubd84\\uc804\\ud658, \\uc5ec\\ub984, \\ub4dc\\ub77c\\uc774\\ube0c, \\uc2e0\\ub098\\ub294, \\ub304\\uc2a4, \\ud790\\ub9c1, \\ud734\\uc2dd, \\uc794\\uc794\\ud55c, \\ucd94\\uc5b5, \\uc2a4\\ud2b8\\ub808\\uc2a4, \\uc6b4\\ub3d9, \\ud68c\\uc0c1, \\ud765\\uaca8\\uc6b4, \\uacbd\\ucf8c\\ud55c, \\uc0ac\\ub791, \\uc124\\ub818, \\ud074\\ub7fd\",\"['\\uacbd\\ucf8c\\ud55c']\"],[\"My Prerogative\",\"Britney Spears\",\"\\ucd94\\uc5b5, \\ub4dc\\ub77c\\uc774\\ube0c, \\uc2ac\\ud514, \\uc0b0\\ucc45, \\uc774\\ubcc4, \\uc5ec\\ud589\",\"['\\ud589\\ubcf5\\ud55c']\"],[\"The Blower\",\"Damien Rice\",\"\\uc794\\uc794\\ud55c, \\ubc24, \\uc0c8\\ubcbd, \\uce74\\ud398, \\ud734\\uc2dd, \\ub4dc\\ub77c\\uc774\\ube0c\",\"['\\uc794\\uc794\\ud55c']\"],[\"Hurricane\",\"\\uc2e0\\ud654\",\"\\uac00\\uc744\",\"['\\uc794\\uc794\\ud55c']\"],[\"Check It Out\",\"Ferry Corsten\",\"\\uc2a4\\ud2b8\\ub808\\uc2a4, \\ud5ec\\uc2a4, \\uc6b4\\ub3d9, \\uae30\\ubd84\\uc804\\ud658, \\uc2e0\\ub098\\ub294, \\ud398\\uc2a4\\ud2f0\\ubc8c, \\ub178\\ub3d9\\uc694\",\"['\\uae34\\uc7a5\\ub418\\ub294']\"],[\"Tell Me Tell Me\",\"\\ub808\\uc778\\ubcf4\\uc6b0\",\"\\uae30\\ubd84\\uc804\\ud658, \\uc124\\ub818, \\uc0ac\\ub791, \\ub0b4\\uc801\\ub304\\uc2a4, \\uc2e0\\ub098\\ub294, \\ub304\\uc2a4, \\uc5ec\\ub984, \\ub4dc\\ub77c\\uc774\\ube0c, \\uc2dc\\uc6d0\\ud55c, \\ubc14\\ub2e4, \\uc2a4\\ud2b8\\ub808\\uc2a4, \\uc0c1\\ud07c, \\ubd04, \\uc6b4\\ub3d9\\ud560\\ub54c, \\ud5ec\\uc2a4\\uc7a5, \\ud654\\uc774\\ud305, \\uc2ac\\ud514, \\uc774\\ubcc4, \\uc6b4\\ub3d9, \\ub178\\ub3d9\\uc694, \\ucd94\\uc5b5, \\ubd04\\ub0a0, \\uc5ec\\ub984\\ubc24, \\uc5ec\\ud589, \\uc5ec\\ub984\\ud734\\uac00, \\uc2e0\\ub0a8, \\uc794\\uc794\\ud55c, \\ud790\\ub9c1, \\ud734\\uc2dd, \\ubb34\\ub354\\uc704, \\ud68c\\uc0c1, \\uc2dc\\uc791, \\uc6d4\\uc694\\uc77c, \\uce74\\ud398, \\uc0c1\\ud07c\\ud55c, \\ubc9a\\uaf43, \\ud587\\uc0b4, \\ubd04\\ubc14\\ub78c, \\ubd04\\ub178\\ub798, \\uae4c\\ud398, \\ud074\\ub7fd, \\ud5ec\\uc2a4, \\ud30c\\ud2f0, \\uc990\\uac70\\uc6b4, \\uc77c\\uc0c1, \\uc18c\\ud48d, \\uc2dc\\uc6d0, \\uccad\\ub7c9, \\uccad\\ub7c9\\uac10, \\uc2a4\\ud2b8\\ub808\\uc2a4\\ud574\\uc18c, \\uc5f0\\uc560, \\uc9dd\\uc0ac\\ub791, \\uc0b0\\ucc45, \\ud734\\uac00, \\ub2ec\\ub2ec, \\uaf43, \\uc6b4\\uc804, \\uce5c\\uad6c, \\uc2e0\\ub098, \\uacbd\\ucf8c\\ud55c, \\uc13c\\uce58, \\ud765\\ud3ed\\ubc1c, \\ud65c\\uae30\\ucc2c, \\ud589\\ubcf5, \\ucd9c\\uadfc\\uae38, \\uace0\\ubc31\",\"['\\uacbd\\ucf8c\\ud55c']\"],[\"Mood\",\"Carlie Hanson\",\"\\uac00\\uc744\\uac10\\uc131, \\uac00\\uc744, \\uc794\\uc794\\ud55c, \\ubd84\\uc704\\uae30, \\uc120\\uc120\\ud55c\",\"['\\uc794\\uc794\\ud55c']\"],[\"\\ub108, \\ud55c\\ub208 \\ud314\\uc9c0\\ub9c8!\",\"\\uac78\\uc2a4\\ub370\\uc774\",\"\\uc5ec\\ub984, \\ub4dc\\ub77c\\uc774\\ube0c, \\ub304\\uc2a4, \\uc6b4\\ub3d9\\ud560\\ub54c, \\ud5ec\\uc2a4\\uc7a5, \\uae30\\ubd84\\uc804\\ud658, \\ud654\\uc774\\ud305, \\uc2e0\\ub098\\ub294, \\ud5ec\\uc2a4, \\uc6b4\\ub3d9, \\uc5ec\\ud589, \\uc124\\ub818, \\uc0ac\\ub791, \\uccad\\ub7c9\\uac10, \\uccad\\ub7c9, \\ucd94\\uc5b5, \\ud68c\\uc0c1, \\ud790\\ub9c1, \\ud734\\uc2dd, \\ub0b4\\uc801\\ub304\\uc2a4, \\uc2a4\\ud2b8\\ub808\\uc2a4, \\uae4c\\ud398, \\ud765\\uaca8\\uc6b4, \\uacbd\\ucf8c\\ud55c, \\uc6b0\\uc6b8, \\uc704\\ub85c, \\uce5c\\uad6c\",\"['\\uacbd\\ucf8c\\ud55c']\"],[\"\\uc885\\uc774 \\uc2ec\\uc7a5 (Paper Heart)\",\"f(x)\",\"\\uc2a4\\ud2b8\\ub808\\uc2a4, \\uc2e0\\ub098\\ub294, \\ub4dc\\ub77c\\uc774\\ube0c, \\uc124\\ub818, \\uc0ac\\ub791, \\ub304\\uc2a4, \\uc794\\uc794\\ud55c, \\uae30\\ubd84\\uc804\\ud658, \\ud790\\ub9c1, \\ud734\\uc2dd, \\ub2ec\\ub2ec, \\uce58\\uc720, \\ub099\\uc5fd, \\uac00\\uc744, \\ucda4, \\uc6b4\\ub3d9, \\uc5ec\\ub984, \\uc6d4\\uc694\\ubcd1, \\uc0c1\\ucf8c\\ud55c, \\uc544\\uce68, \\uc0b0\\ucc45, \\uce74\\ud398, \\ubd84\\uc704\\uae30, \\uc0c8\\ubcbd, \\ucd94\\uc5b5, \\ud68c\\uc0c1, \\uc5ec\\ud589, \\ubc24, \\ud799\\ud55c, \\uc2ac\\ud514, \\uc774\\ubcc4, \\uae4c\\ud398, \\ubd04, \\uaca8\\uc6b8, \\uc378, \\uc4f8\\uc4f8, \\ube44\\uc624\\ub294\\ub0a0\",\"['\\ud589\\ubcf5\\ud55c']\"],[\"\\ub108 \\uc606\\uc73c\\ub85c \\ub5a8\\uc5b4\\uc9c0\\ub294 \\ube5b\",\"\\uc815\\uace0\\ub798\",\"\\uc5ec\\ub984, \\uc794\\uc794\\ud55c, \\ub4dc\\ub77c\\uc774\\ube0c, \\uc5ec\\ud589, \\ud734\\uc2dd, \\uae30\\ubd84\\uc804\\ud658, \\ubd04, \\uc2e0\\ub098\\ub294\",\"['\\uc794\\uc794\\ud55c']\"],[\"\\uae4a\\uc774 \\uc7a0\\ub4e4\\uc5b4\\uc694 (Remastered)\",\"\\ud55c\\uc62c\",\"\\uae30\\ubd84\\uc88b\\uc740, \\ub2ec\\ucf64, \\uce74\\ud398, \\uc751\\uc6d0, \\uc704\\ub85c, \\ud790\\ub9c1, \\ud3ec\\uadfc\\ud55c, \\uc219\\uba74, \\ud558\\ub8e8, \\uc794\\uc794\\ud55c, \\uc0c8\\ubcbd, \\ud734\\uc2dd, \\uc77c\\uc0c1, \\ud1f4\\uadfc\\uae38, \\ubc24, \\uc870\\uc6a9\\ud55c, \\ubd88\\uba74\\uc99d, \\uace0\\ubc31, \\uc0ac\\ub791, \\uc7a0\\ub4e4\\uae30\\uc804, \\uc790\\uc7a5\\uac00, \\ud1a0\\ub2e5\\ud1a0\\ub2e5, \\uc774\\ubcc4, \\uc7a0, \\uc794\\uc794, \\ub4dc\\ub77c\\uc774\\ube0c, \\ubd80\\ub4dc\\ub7ec\\uc6b4, \\ubd84\\uc704\\uae30\",\"['\\uc6b0\\uc6b8\\ud55c']\"],[\"Good Bye (Vocal Ver.)\",\"\\uc11c\\ud0dc\\uc9c0\",\"\\uc0ac\\ub791, \\ucd94\\uc5b5, \\uc124\\ub818, \\ud68c\\uc0c1\",\"['\\ud589\\ubcf5\\ud55c']\"],[\"I`m Here\",\"\\uc591\\ub2e4\\uc77c\",\"\\uc794\\uc794\\ud55c, \\ucd94\\uc5b5, \\ud68c\\uc0c1, \\ubc24, \\uc0c8\\ubcbd, \\uc704\\ub85c, \\ud734\\uc2dd, \\uc774\\ubcc4, \\ud790\\ub9c1, \\uc5f0\\ub9d0, \\ub530\\ub4ef\\ud55c, \\ud3ec\\uadfc\\ud55c, \\ud06c\\ub9ac\\uc2a4\\ub9c8\\uc2a4\",\"['\\uc794\\uc794\\ud55c', '\\ud589\\ubcf5\\ud55c']\"],[\"Cold\",\"\\ud53c\\uc5d0\\uc2a4\\ud0c0\",\"\\uc794\\uc794\\ud55c, \\ubc24, \\uc0c8\\ubcbd, \\ud734\\uc2dd, \\ud790\\ub9c1, \\uae30\\ubd84\\uc804\\ud658, \\ucd94\\uc5b5, \\ud68c\\uc0c1\",\"['\\ud589\\ubcf5\\ud55c']\"],[\"\\uc0ac\\ub791\\uc774 \\uc628 \\uac83 \\uac19\\uc544\\uc694\",\"\\ub9b4\\ub9ac (Lily)\",\"\\uae30\\ubd84\\uc88b\\uc740, \\ubd04, \\ud734\\uc2dd, \\ucd9c\\uadfc\\uae38, \\uae30\\ubd84\\uc804\\ud658, \\uc0ac\\ub791, \\uc5ec\\ub984, \\uc2e0\\ub098\\ub294\",\"['\\ud589\\ubcf5\\ud55c']\"],[\"\\ubaa8\\ub4e0 \\uac8c \\ub2e4 \\uc0ac\\ub77c\\uc838\",\"Various Artists\",\"\\uc2a4\\ud2b8\\ub808\\uc2a4, \\uae30\\ubd84\\uc804\\ud658\",\"['\\uae34\\uc7a5\\ub418\\ub294', '\\ud589\\ubcf5\\ud55c']\"],[\"I Am Changing\",\"\\ucc28\\uc9c0\\uc5f0\",\"\\uc794\\uc794\\ud55c, \\ubc24, \\uc0c8\\ubcbd\",\"['\\uc794\\uc794\\ud55c', '\\ubb34\\uc11c\\uc6b4', '\\uc6b0\\uc6b8\\ud55c']\"],[\"Born To Run\",\"Bruce Springsteen\",\"\\ubd88\\uae08, \\uae30\\ubd84\\uc804\\ud658, \\uc2e0\\ub098\\ub294, \\ud790\\ub9c1, \\ud734\\uc2dd, \\uc5ec\\ud589\",\"['\\ud589\\ubcf5\\ud55c']\"],[\"\\ubc14\\ub7a8\",\"\\ucc28\\ud638\\uc11d\",\"\\uc2ac\\ud514, \\ucd94\\uc5b5, \\uc774\\ubcc4, \\ud68c\\uc0c1\",\"['\\uc6b0\\uc6b8\\ud55c']\"],[\"Owl`s Lullaby\",\"Belz\",\"\\uc720\\ub2c8\\ud06c\",\"['\\uacbd\\ucf8c\\ud55c']\"],[\"\\ub3d9\\ud6c8\\uc774\\ub77c\\uace0!! (Feat. \\ucfe4\\ud0c0)\",\"\\ud558\\ud558\",\"\\uc5ec\\ub984, \\uae30\\ubd84\\uc804\\ud658\",\"['\\uacbd\\ucf8c\\ud55c', '\\ud589\\ubcf5\\ud55c']\"],[\"The Voice (with \\uc870\\uc9c0\\uc740)\",\"\\uc81c\\uc774\\uc2a4\\ucffc\\ub4dc (JSQUAD)\",\"\\uc794\\uc794\\ud55c, \\uc5ec\\ud589, \\uae30\\ubd84\\uc804\\ud658, \\uae4c\\ud398, \\uc2e0\\ub098\\ub294\",\"['\\ud589\\ubcf5\\ud55c']\"],[\"\\uae68\\uc5b4\\ub098\",\"\\uc815\\ub3d9\\ud654\",\"\\uc0c8\\ubcbd, \\ubba4\\uc9c0\\uceec\",\"['\\uc6b0\\uc6b8\\ud55c', '\\uacbd\\ucf8c\\ud55c']\"],[\"Kiss\",\"\\ucfe8 (COOL)\",\"\\ube44\\uc624\\ub294\\ub0a0, \\uce74\\ud398\",\"['\\uc6b0\\uc6b8\\ud55c']\"],[\"Luxury (Single Ver.)\",\"\\ud55c\\ub098\",\"\\ub304\\uc2a4\",\"['\\uacbd\\ucf8c\\ud55c']\"],[\"\\ub098\\ub77c\\uc758 \\uacb0\\uc2ec\",\"\\uc624\\ub098\\ub77c\",\"\\ubba4\\uc9c0\\uceec\",\"['\\uacbd\\ucf8c\\ud55c']\"],[\"\\uc18c\\uc6d0\",\"\\uace0\\uc720\\uc9c4 (\\ud50c\\ub77c\\uc6cc)\",\"\\uc794\\uc794\\ud55c, \\ud734\\uc2dd, \\ucd94\\uc5b5, \\uae30\\ubd84\\uc804\\ud658, \\ud68c\\uc0c1, \\uae4c\\ud398, \\uc2ac\\ud514, \\uc774\\ubcc4, \\ud6c4\\ud68c, \\ube44\\uc624\\ub294\\ub0a0, \\uac00\\uc744, \\uc0c8\\ubcbd, \\ubc24, \\uc124\\ub818, \\uc0ac\\ub791\",\"['\\ud589\\ubcf5\\ud55c']\"],[\"Roller Coaster\",\"\\ubaac\\uc2a4\\ud0c0\\uc5d1\\uc2a4\",\"\\uae30\\ubd84\\uc804\\ud658, \\uc6b4\\ub3d9, \\ub304\\uc2a4, \\uc794\\uc794\\ud55c, \\ud765, \\ub4dc\\ub77c\\uc774\\ube0c, \\ubd04, \\uc124\\ub818, \\uc0ac\\ub791, \\uc2a4\\ud2b8\\ub808\\uc2a4, \\uac10\\uc131\\uc801\\uc778, \\uc9d1\\uc911, \\ud734\\uc2dd, \\ubcc4, \\uce74\\ud398, \\ub2ec\\ub2ec, \\uc5f0\\uc778, \\uc2e0\\ub098\\ub294\",\"['\\ud589\\ubcf5\\ud55c', '\\uacbd\\ucf8c\\ud55c']\"],[\"\\ud558\\uc774\\ud30c\\uc774\\ube0c\",\"\\uc544\\uc774\\ub3cc\\ud559\\uad50\",\"\\ub304\\uc2a4, \\uc6b4\\ub3d9\\ud560\\ub54c, \\ud5ec\\uc2a4\\uc7a5, \\uae30\\ubd84\\uc804\\ud658, \\ud654\\uc774\\ud305, \\uc2e0\\ub098\\ub294, \\uc704\\ub85c, \\ud790\\ub9c1, \\ud798\\ub4e4\\ub54c, \\uc0c1\\ud07c\\ud55c, \\ubc1d\\uc740, \\uc2a4\\ud2b8\\ub808\\uc2a4, \\uae4c\\ud398\",\"['\\uacbd\\ucf8c\\ud55c']\"],[\"\\ubc24\\ubc24\\ubc24 (Remastered)\",\"Adios Audio\",\"\\ubc34\\ub4dc, \\ud2b8\\ub80c\\ub514\\ud55c, \\uc720\\ub2c8\\ud06c, \\uc2a4\\ud2b8\\ub808\\uc2a4, \\uc2e0\\ub098\\ub294, \\ud734\\uc2dd, \\uc5ec\\ud589\\uc0b0\\ucc45, \\ub4dc\\ub77c\\uc774\\ube0c, \\uc5ec\\ud589, \\uc6b4\\uc804\",\"['\\uacbd\\ucf8c\\ud55c']\"],[\"Painful Truth (\\uc544\\ud508 \\uc9c4\\uc2e4)\",\"\\uc1a1\\uc6a9\\uc9c4\",\"\\ubba4\\uc9c0\\uceec\",\"['\\uacbd\\ucf8c\\ud55c']\"],[\"Sleeping Pill (\\uc218\\uba74\\uc81c) (Feat. Ludens Musiq)\",\"Godiflow (\\uac00\\ub514\\ud50c\\ub85c\\uc6b0)\",\"\\uc2e0\\ub098\\ub294\",\"['\\ud589\\ubcf5\\ud55c']\"],[\"Dental Care\",\"Owl City\",\"\\ud734\\uc2dd, \\ud790\\ub9c1, \\uc5ec\\ud589, \\uc0b0\\ucc45, \\uc2a4\\ud2b8\\ub808\\uc2a4\",\"['\\ud589\\ubcf5\\ud55c']\"],[\"\\ub0b4\\uac8c \\uc640\",\"\\uc18c\\ub099\\ube4c\",\"\\uc6b4\\ub3d9, \\ub4dc\\ub77c\\uc774\\ube0c, \\uc5ec\\ud589, \\uc2e0\\ub098\\ub294\",\"['\\ud589\\ubcf5\\ud55c']\"],[\"Hey U!\",\"\\uc0e4\\ud06c\\ub77c\",\"\\ub304\\uc2a4\",\"['\\uacbd\\ucf8c\\ud55c']\"],[\"COOL\",\"Troye Sivan\",\"\\uae30\\ubd84\\uc88b\\uc740, \\uc5ec\\ub984, \\uc0c1\\ud07c\\ud55c, \\uccad\\ub7c9\\ud55c, \\uae30\\ubd84\\uc5c5, \\uc5ec\\ud589, \\uae4c\\ud398, \\uc0b0\\ucc45, \\ube44\\uc624\\ub294\\ub0a0, \\uae30\\ubd84\\uc804\\ud658, \\uc77c\\uc0c1, \\uc678\\ucd9c, \\uc2e0\\ub098\\ub294, \\uc0c8\\ubcbd, \\ub4dc\\ub77c\\uc774\\ube0c, \\ubc24, \\ubd84\\uc704\\uae30, \\ud55c\\uac15, \\uc794\\uc794\\ud55c, \\ud074\\ub7fd, \\uce74\\ud398, \\uc6b4\\ub3d9, \\uccad\\ub7c9, \\uc704\\ub85c, \\uc2e0\\ub0a8, \\uc2a4\\ud2b8\\ub808\\uc2a4, \\ud589\\ubcf5, \\uc0ac\\ub791, \\uc2ac\\ud514, \\uc774\\ubcc4, \\uaca8\\uc6b8, \\ud734\\uc2dd, \\uac10\\uc131\\uc790\\uadf9, \\uc0c8\\ubcbd\\uac10\\uc131, \\uc794\\uc794, \\ubabd\\ud658, \\uc2dc\\uc6d0\\ud55c, \\ubc14\\ub2e4, \\ud734\\uac00\",\"['\\ud589\\ubcf5\\ud55c']\"],[\"\\ud55c\\ub9c8\\ub514 (Your Voice)\",\"\\ud5e4\\ub9ac\\ud2f0\\uc9c0(Heritage), \\uc885\\ud604 (JONGHYUN)\",\"\\uae30\\ubd84\\uc804\\ud658, \\ubd04, \\uc794\\uc794\\ud55c, \\uae4c\\ud398, \\uc124\\ub818, \\uc0ac\\ub791, \\uae30\\uc5b5, \\uc751\\uc6d0, \\uc704\\ub85c, \\ud790\\ub9c1, \\ud558\\ub8e8, \\ud734\\uc2dd, \\uc5f0\\uc778, \\uc5f0\\uc560, \\uc2ac\\ud514, \\uc774\\ubcc4, \\uc5ec\\ub984, \\ubc24, \\uc5ec\\ub984\\ubc24, \\uc0c8\\ubcbd\\uac10\\uc131, \\uc0c8\\ubcbd, \\ub4dc\\ub77c\\uc774\\ube0c, \\ubcc4, \\uc6b4\\ub3d9, \\ud1a0\\ub2e5\\ud1a0\\ub2e5, \\uc8fc\\ub9d0, \\ud589\\ubcf5, \\uace0\\ubc31, \\ub370\\uc774\\ud2b8, \\uc378, \\uc2e0\\ub098\\ub294, \\ub2ec\\ub2ec, \\ub304\\uc2a4, \\ucd94\\uc5b5\",\"['\\ud589\\ubcf5\\ud55c']\"],[\"Mad Love\",\"DJ L\",\"\\ud074\\ub7fd, \\ud398\\uc2a4\\ud2f0\\ubc8c, \\uc5ec\\ub984, \\uc2a4\\ud2b8\\ub808\\uc2a4\",\"['\\uacbd\\ucf8c\\ud55c']\"],[\"Beautiful\",\"\\ube44\\uc2a4\\ud2b8\",\"\\ud790\\ub9c1, \\ud734\\uc2dd, \\uc794\\uc794\\ud55c, \\uae30\\ubd84\\uc804\\ud658, \\ub0b4\\uc801\\ub304\\uc2a4, \\ud765\\ud3ed\\ubc1c, \\uc2e0\\ub098\\ub294, \\ub304\\uc2a4, \\uc624\\ud6c4, \\ucee4\\ud50c, \\ubd04, \\uce74\\ud398, \\ubc9a\\uaf43, \\ud074\\ub7fd, \\ub2ec\\ub2ec, \\uc124\\ub818, \\uc2a4\\ud2b8\\ub808\\uc2a4, \\uc0ac\\ub791, \\uae4c\\ud398, \\uc704\\ub85c, \\uccad\\ucd98, \\ud654\\uc774\\ud305, \\uc2ac\\ud514, \\uc774\\ubcc4, \\ub4dc\\ub77c\\uc774\\ube0c, \\ucd94\\uc5b5, \\uaca8\\uc6b8, \\ud68c\\uc0c1, \\uc124\\ub808\\uc784, \\uc5f0\\uc560, \\uace0\\ubc31, \\uc6b4\\ub3d9, \\uc5ec\\ub984, \\uccad\\ub7c9\\ud55c, \\uc0c1\\ud07c, \\uc0c8\\ubcbd, \\ubc24, \\ub2ec\\ucf64, \\ucd9c\\uadfc\\uae38, \\ubaa8\\ub2dd\\ucf5c, \\uc544\\uce68, \\uc6d4\\uc694\\uc77c, \\uc0c1\\ucf8c, \\uc0b0\\ucc45, \\uc5ec\\uc720, \\ub370\\uc774\\ud2b8, \\uc8fc\\ub9d0, \\ud30c\\ud2f0, \\uc5ec\\ud589, \\ub2ec\\ucf64\\ud55c, \\uc800\\ub141, \\uc0c1\\ucf8c\\ud55c, \\uc990\\uac70\\uc6b4, \\uc5f0\\uc778, \\ud734\\uac00, \\uac00\\uc744, \\uc790\\uc2e0\\uac10, \\uccad\\ub7c9, \\ud5ec\\uc2a4, \\uc2a4\\ud3ec\\uce20, \\ub2ec\\ub9ac\\uae30, \\uc2a4\\ud2b8\\ub808\\uc2a4\\ud574\\uc18c, \\uadf8\\ub9ac\\uc6c0, \\uae30\\ubd84\\uc88b\\uc740, \\uc5f0\\ub9d0, \\uc6b4\\uc804, \\ud765\",\"['\\ud589\\ubcf5\\ud55c']\"],[\"\\ub2c8\\uaebc\\ud560\\ub798 (Feat. K.O.K)\",\"\\ub808\\ubbf8\",\"\\uc794\\uc794\\ud55c, \\uc124\\ub818, \\uc0ac\\ub791\",\"['\\ud589\\ubcf5\\ud55c']\"],[\"Last Request (Album Ver.)\",\"Paolo Nutini\",\"\\ube44\\uc624\\ub294\\ub0a0, \\uc7a5\\ub9c8, \\ubd84\\uc704\\uae30, \\ube44\",\"['\\uc6b0\\uc6b8\\ud55c']\"],[\"Double J\",\"\\uc774\\uc7ac\\uc9c4\",\"\\ub178\\ub3d9\\uc694, \\ub304\\uc2a4, \\ub0b4\\uc801\\ub304\\uc2a4, \\uc2a4\\ud2b8\\ub808\\uc2a4, \\uae30\\ubd84\\uc804\\ud658, \\uc124\\ub818, \\uc0ac\\ub791, \\ucd94\\uc5b5, \\uc6b4\\ub3d9, \\ud68c\\uc0c1\",\"['\\uacbd\\ucf8c\\ud55c']\"],[\"\\ubd04\\uc774\\uc640 (Feat. \\uc774\\uc778\\uc138)\",\"\\ub974 \\uba54\\ub9ac\\ubb34\\uc2a4\",\"\\ubd04, \\uc5ec\\ud589, \\uc378, \\uc124\\ub818, \\ud790\\ub9c1, \\ud734\\uc2dd\",\"['\\ud589\\ubcf5\\ud55c']\"],[\"Say\",\"\\uc81d\\uc2a4\\ud0a4\\uc2a4\",\"\\ube44\\uc624\\ub294\\ub0a0, \\uc794\\uc794\\ud55c, \\ucd94\\uc5b5, \\uae30\\ubd84\\uc804\\ud658, \\ud68c\\uc0c1, \\ub304\\uc2a4\",\"['\\uc794\\uc794\\ud55c']\"],[\"\\ub2ec\\ub3c4 \\ubc1d\\ub2e4\",\"\\ub098\\uc724\\uc601\",\"\\ubba4\\uc9c0\\uceec\",\"['\\uacbd\\ucf8c\\ud55c']\"],[\"\\uc9c4\\uc2ec\",\"\\uce94\",\"\\uc0c8\\ubcbd, \\ucd94\\uc5b5, \\ubc24, \\ud68c\\uc0c1\",\"['\\uc6b0\\uc6b8\\ud55c', '\\ud589\\ubcf5\\ud55c', '\\ubb34\\uc11c\\uc6b4', '\\uc794\\uc794\\ud55c']\"],[\"\\uc624\\ub79c\\ub9cc\\uc774\\uc57c, \\uc548\\ub155\",\"\\uc628\\ub9ac\\uc720\",\"\\uaca8\\uc6b8, \\uce74\\ud398, \\uc5ec\\ud589, \\ucee4\\ud53c, \\ud734\\uc2dd, \\ud790\\ub9c1, \\ucee4\\ud53c\\uc20d, \\ubd84\\uc704\\uae30, \\uc0b0\\ucc45, \\uc624\\ud6c4, \\uc0ac\\ub791, \\uacf5\\ubd80, \\uae4c\\ud398, \\uc794\\uc794\\ud55c, \\ubabd\\ud658\\uc801\\uc778\",\"['\\uc794\\uc794\\ud55c']\"],[\"\\uc0ac\\ub78c\\ub4e4\\uc740 \\ubaa8\\ub450 \\uc678\\ub86d\\ub2e4\",\"\\ub808\\uc774\\ub514\\ubc84\\ub4dc(LADYBIRD)\",\"\\uc2ac\\ud514, \\ubc24, \\uc774\\ubcc4, \\uc0c8\\ubcbd, \\uc704\\ub85c, \\ud798\\ub4e4\\ub54c\",\"['\\uc6b0\\uc6b8\\ud55c']\"],[\"\\ubd80\\ud0c1\\ud574\",\"\\uc6b0\\uc8fc\\uc18c\\ub140\",\"\\ud798\\ub4e4\\ub54c, \\uc6b4\\ub3d9\\ud560\\ub54c, \\ub304\\uc2a4, \\uc2e0\\ub098\\ub294, \\ub178\\ub3d9\\uc694, \\ub4dc\\ub77c\\uc774\\ube0c, \\uae30\\ubd84\\uc804\\ud658, \\uc5ec\\ub984, \\uaca8\\uc6b8, \\uac00\\uc744, \\ubd04, \\ud1f4\\uadfc\\uae38, \\uc2a4\\ud2b8\\ub808\\uc2a4, \\ucd94\\uc5b5, \\uc9dd\\uc0ac\\ub791, \\uc774\\ubcc4, \\uc0ac\\ub791, \\uac10\\uc131\\uc801\\uc778, \\ubd84\\uc704\\uae30, \\ubabd\\ud658, \\uc6b4\\ub3d9, \\ud734\\uc2dd, \\ucd9c\\uadfc\\uae38, \\uc8fc\\ub9d0, \\ud5ec\\uc2a4\\uc7a5, \\uc624\\ud6c4, \\ubd88\\uae08, \\ud30c\\ud2f0, \\ubb34\\ub354\\uc704, \\uc990\\uac70\\uc6b4, \\ubabd\\ud658\\uc801, \\uc0c1\\ud07c\\ud55c, \\ubc1d\\uc740, \\uc794\\uc794\\ud55c, \\uc6b4\\uc804, \\ud5ec\\uc2a4, \\uc0c1\\ucf8c\\ud55c, \\uc678\\ucd9c, \\ub0b4\\uc801\\ub304\\uc2a4, \\ucd9c\\uadfc, \\uc6d4\\uc694\\uc77c, \\ubaa8\\ub2dd\\ucf5c, \\uccad\\ucd98, \\ud798\\ub0b4, \\uc5ec\\ud589, \\uc704\\ub85c, \\uc77c\\uc0c1, \\uc5ec\\ub984\\ubc24, \\ud790\\ub9c1, \\ud589\\ubcf5, \\ud76c\\ub9dd\",\"['\\ud589\\ubcf5\\ud55c']\"],[\"Heatwave (feat. More Giraffes)\",\"Melvv\",\"\\ube44\\uc624\\ub294\\ub0a0, \\ubc24, \\uc794\\uc794\\ud55c, \\uc0c8\\ubcbd\\uac10\\uc131, \\uc0c8\\ubcbd, \\uc4f8\\uc4f8\\ud55c, \\ud734\\uc2dd, \\uc2e0\\ub098\\ub294, \\uc2e0\\ub098, \\ubabd\\ud658, \\ub304\\uc2a4, \\uce74\\ud398, \\ub4dc\\ub77c\\uc774\\ube0c, \\uae4c\\ud398, \\ubabd\\ud658\\uc801, \\uae30\\ubd84\\uc804\\ud658, \\uc2a4\\ud2b8\\ub808\\uc2a4, \\ub77c\\uc6b4\\uc9c0, \\uc9d1\\uc911, \\ucd9c\\uadfc\\uae38, \\uc544\\uce68, \\uc6d4\\uc694\\ubcd1, \\ucd94\\uc5b5, \\uae30\\ubd84\\uc88b\\uc740, \\ub530\\ub73b\\ud568, \\ubd84\\uc704\\uae30, \\ud1f4\\ud3d0, \\ud799\\ud55c, \\uc720\\ub2c8\\ud06c, \\uc5ec\\ub984, \\ud2b8\\ub80c\\ub514\\ud55c, \\uc2dc\\uc6d0\\ud55c, \\uc5ec\\ud589, \\ud38d, \\uaca8\\uc6b8, \\uc624\\ud6c4, \\uc5ec\\uc720, \\ub098\\ub978\\ud55c, \\ub0b4\\uc801\\ub304\\uc2a4\",\"['\\ud589\\ubcf5\\ud55c']\"],[\"Boyscout\",\"\\uae40\\ud6a8\\uc740, Skinny Brown\",\"\\uc2e0\\ub098\\ub294, \\ub4dc\\ub77c\\uc774\\ube0c\",\"['\\ud589\\ubcf5\\ud55c']\"],[\"Rocket Man (I Think It`s Going To Be A Long, Long Time)\",\"Elton John\",\"\\uce74\\ud398, \\uac10\\uc131\\uc801\\uc778, \\uae4c\\ud398, \\uaca8\\uc6b8, \\ubc24, \\uc0c8\\ubcbd\",\"['\\uc794\\uc794\\ud55c']\"],[\"\\ub0b4\\uac00 \\ub208\\uc744 \\uac10\\ub294 \\uc774\\uc720\",\"\\ud0dc\\ube48\",\"\\ucd94\\uc5b5, \\ud68c\\uc0c1, \\ud790\\ub9c1, \\ud734\\uc2dd, \\uc794\\uc794\\ud55c, \\ud1f4\\uadfc\\uae38, \\ubd84\\uc704\\uae30, \\uae30\\ubd84\\uc804\\ud658, \\ub304\\uc2a4, \\ube44\\uc624\\ub294\\ub0a0, \\uce74\\ud398, \\uc0c8\\ubcbd, \\ub4dc\\ub77c\\uc774\\ube0c, \\uadf8\\ub9ac\\uc6c0, \\uc0ac\\ub791, \\uac00\\uc744, \\uc5ec\\ud589, \\uaca8\\uc6b8, \\ubc24, \\ucd94\\uc5b5\\ud68c\\uc0c1, \\ud589\\ubcf5, \\uc774\\ubcc4, \\uc6b0\\uc6b8, \\uc124\\ub818\",\"['\\ud589\\ubcf5\\ud55c']\"],[\"Good Bye (feat. \\uae40\\ubbf8\\uc815 Yourbeagle)\",\"\\uc900\\ucf54\\ucf54 (Juncoco), \\uc815\\ud604 (Jeonghyeon)\",\"\\ub4dc\\ub77c\\uc774\\ube0c, \\uae30\\ubd84\\uc804\\ud658, \\ud30c\\ud2f0, \\uc2e0\\ub098\\ub294\",\"['\\ud589\\ubcf5\\ud55c']\"],[\"I Do\",\"\\uc5b4\\ucfe0\\uc2a4\\ud2f1 \\ucf5c\\ub77c\\ubcf4\",\"\\ub2ec\\ub2ec, \\uc0ac\\ub791, \\ube44\\uc624\\ub294\\ub0a0, \\uc800\\ub141, \\uce74\\ud398, \\uc8fc\\ub9d0, \\uc624\\ud6c4, \\ub4dc\\ub77c\\uc774\\ube0c, \\uc13c\\uce58\\ud55c, \\ud734\\uc2dd, \\ud790\\ub9c1, \\uc5ec\\ud589, \\uc0b0\\ucc45, \\uc794\\uc794\\ud55c, \\uc194\\ub85c, \\uae4c\\ud398, \\uc124\\ub818, \\uae30\\ubd84\\uc804\\ud658, \\uac00\\uc744, \\ubd04, \\ubd04\\ub178\\ub798, \\uc124\\ub808\\uc784, \\ucd94\\uc5b5, \\ud68c\\uc0c1, \\uc9dd\\uc0ac\\ub791, \\uc5f0\\uc778, \\ubc24, \\uc0c8\\ubcbd, \\ubc9a\\uaf43, \\uc4f8\\uc4f8, \\uc5ec\\ub984, \\uc774\\ubcc4, \\uc9d1\\uc911, \\ub178\\ub3d9\\uc694, \\ud55c\\uac15, \\ud3b8\\uc548\\ud55c, \\uadf8\\ub9ac\\uc6c0, \\uc6b0\\uc6b8, \\ud798\\ub4e4\\ub54c, \\uc704\\ub85c, \\ub304\\uc2a4, \\uc0c1\\ud07c, \\ubd04\\ube44, \\uc5ec\\ub984\\ud734\\uac00, \\uacb0\\ud63c, \\uc2a4\\ud2b8\\ub808\\uc2a4, \\uace0\\ubc31, \\uc5ec\\uc720\\ub85c\\uc6b4, \\uac00\\uc744\\ubc24, \\ubd88\\uae08, \\uaca8\\uc6b8, \\ucee4\\ud53c, \\uc5f0\\uc560, \\ud589\\ubcf5, \\uc219\\uba74, \\uac10\\uc131\\uc790\\uadf9, \\uc6b4\\ub3d9, \\ub370\\uc774\\ud2b8, \\uc2e0\\ub098\\ub294, \\uc790\\uae30\\uc804\\uc5d0, \\ud558\\ub298, \\ud750\\ub9b0\\ub0a0, \\uac10\\ubbf8\\ub85c\\uc6b4, \\ud558\\ub8e8, \\ucd9c\\uadfc\\uae38, \\uc544\\uce68, \\uc6d4\\uc694\\ubcd1, \\ubd04\\ub0a0, \\uc5ec\\ub984\\ubc24, \\uc5ec\\uc720, \\ud1f4\\uadfc\\uae38, \\ube44, \\ub530\\ub4ef\\ud55c, \\uaca8\\uc6b8\\uac10\\uc131, \\uc6d4\\uc694\\uc77c, \\uc2dc\\uc6d0\\ud55c, \\uaf43, \\ub098\\ub4e4\\uc774, \\ub2ec\\ub2ec\\ud55c, \\ud6c4\\ud68c, \\uc870\\uc6a9\\ud55c, \\uc77c\\uc0c1, \\uc790\\uc7a5\\uac00, \\uc678\\ub85c\\uc6c0, \\ub2ec\\ucf64, \\ucee4\\ud50c, \\ucc28\\ubd84\\ud55c, \\ud53c\\uace4, \\uacf5\\ubd80, \\ubd84\\uc704\\uae30, \\ubd80\\ub4dc\\ub7ec\\uc6b4, \\uc0c1\\ud07c\\ud55c, \\uc378, \\uac10\\uc218\\uc131, \\uaca8\\uc6b8\\ubc24, \\uc2ac\\ud514, \\uc794\\uc794, \\ud398\\uc2a4\\ud2f0\\ubc8c, \\ub2ec\\ucf64\\ud55c, \\uc0c8\\ubcbd\\uac10\\uc131, \\uc7a0\\ub4e4\\uae30\\uc804\",\"['\\ud589\\ubcf5\\ud55c']\"],[\"Human\",\"The Killers\",\"\\ud734\\uc2dd, \\ud790\\ub9c1, \\uc0b0\\ucc45, \\uc5ec\\ud589, \\uc2a4\\ud2b8\\ub808\\uc2a4, \\uae30\\ubd84\\uc804\\ud658\",\"['\\ud589\\ubcf5\\ud55c']\"],[\"\\ud32c\\ud140\\uc758 \\ub4f1\\uc7a5\",\"\\uc804\\ub3d9\\uc11d, \\ubba4\\uc9c0\\uceec \\ud32c\\ud140 2016 \\uc559\\uc0c1\\ube14\",\"\\ubba4\\uc9c0\\uceec\",\"['\\uacbd\\ucf8c\\ud55c']\"],[\"\\uba4d\",\"PERC%NT\",\"\\uaca8\\uc6b8, \\ud55c\\uac15, \\uce74\\ud398, \\uc794\\uc794\\ud55c, \\ubd84\\uc704\\uae30, \\uae30\\ubd84\\uc804\\ud658, \\uc0b0\\ucc45, \\ub530\\ub73b\\ud55c, \\uc2ac\\ud514, \\ud734\\uc2dd, \\uc0ac\\ub791, \\uc774\\ubcc4, \\uc0c8\\ubcbd\",\"['\\ud589\\ubcf5\\ud55c', '\\uc794\\uc794\\ud55c']\"],[\"\\ub3d7\\ub300 (ONE AND ONLY) (B.I SOLO)\",\"iKON\",\"\\uc2e0\\ub098\\ub294, \\ud790\\ub9c1, \\ud734\\uc2dd, \\uae30\\ubd84\\uc804\\ud658, \\ud2b8\\ub80c\\ub514\\ud55c\",\"['\\ud589\\ubcf5\\ud55c']\"],[\"How We Do (Original Mix)\",\"Hardwell, Showtek\",\"\\ub304\\uc2a4, \\ud074\\ub7fd, \\uae30\\ubd84\\uc804\\ud658, \\uc2e0\\ub098\\ub294, \\ud5ec\\uc2a4, \\uc6b4\\ub3d9, \\ud398\\uc2a4\\ud2f0\\ubc8c, \\uc2a4\\ud2b8\\ub808\\uc2a4\\ud574\\uc18c, \\uc8fc\\ub9d0, \\ub77c\\uc6b4\\uc9c0, \\uc2a4\\ud2b8\\ub808\\uc2a4, \\ub0b4\\uc801\\ub304\\uc2a4, \\ubc24, \\uc0c8\\ubcbd\",\"['\\uacbd\\ucf8c\\ud55c', '\\ud589\\ubcf5\\ud55c']\"],[\"\\ub0b4\\uac8c \\ub0a8\\uc740 \\uac74 \\uadf8\\ub300 (It All Fades Away)\",\"\\ubc15\\uc740\\ud0dc\",\"\\ubba4\\uc9c0\\uceec, \\uac10\\ub3d9, \\uc0ac\\ub791\",\"['\\uacbd\\ucf8c\\ud55c']\"],[\"\\uccab\\ud0a4\\uc2a4\",\"FTISLAND (FT\\uc544\\uc77c\\ub79c\\ub4dc)\",\"\\ub304\\uc2a4, \\uc124\\ub818, \\uc0ac\\ub791, \\ud790\\ub9c1, \\ud734\\uc2dd, \\ub2ec\\ub2ec, \\uc5f0\\uc560, \\uc0b0\\ucc45, \\uce74\\ud398\",\"['\\ud589\\ubcf5\\ud55c']\"],[\"What A Wonderful Cane (English Ver.)\",\"\\uc774\\ub3d9\\uc6b0 (LEE DONG WOO)\",\"\\uc5ec\\ub984, \\uc124\\ub818, \\uc0ac\\ub791\",\"['\\ud589\\ubcf5\\ud55c']\"],[\"No Cellular Site\",\"D-Block Europe\",\"\\ub2ec\\ub2ec\\ud55c\",\"['\\ud589\\ubcf5\\ud55c']\"],[\"In Heaven (Narr. \\uae40\\uc815\\uc740)\",\"JYJ\",\"\\uc2ac\\ud514, \\ud790\\ub9c1, \\ud734\\uc2dd, \\uc774\\ubcc4, \\uc124\\ub818, \\uc0ac\\ub791, \\ucd94\\uc5b5, \\uae30\\ubd84\\uc804\\ud658, \\ud68c\\uc0c1, \\uac00\\uc744, \\uc794\\uc794\\ud55c, \\ubc24, \\uc0c8\\ubcbd, \\ub4dc\\ub77c\\uc774\\ube0c, \\ube44\\uc624\\ub294\\ub0a0, \\ub304\\uc2a4\",\"['\\ud589\\ubcf5\\ud55c']\"],[\"I Know You Know\",\"POE\",\"\\uc5ec\\ub984, \\uccad\\ub7c9, \\uc0b0\\ucc45, \\ubc1d\\uc740, \\uc720\\ub2c8\\ud06c, \\uc2e0\\ub098\\ub294\",\"['\\uacbd\\ucf8c\\ud55c', '\\ud589\\ubcf5\\ud55c']\"],[\"SOMEONE`S SOMEONE\",\"\\ubaac\\uc2a4\\ud0c0\\uc5d1\\uc2a4\",\"\\ubc24, \\uc0c8\\ubcbd\\uac10\\uc131, \\ub77c\\uc6b4\\uc9c0, \\uae30\\ubd84\\uc804\\ud658, \\ubd84\\uc704\\uae30, \\uce74\\ud398\",\"['\\uc794\\uc794\\ud55c']\"],[\"Inn\",\"\\uc8fc\\uc601\",\"\\ud798\\ub4e4\\ub54c, \\ubd84\\uc704\\uae30, \\uac00\\uc744, \\uce74\\ud398, \\uc800\\ub141, \\uac00\\uc744\\ubc24, \\ud53c\\uace4, \\ud55c\\uac15, \\uae30\\ubd84\\uc804\\ud658, \\uc120\\uc120\\ud55c, \\uaca8\\uc6b8\\uac10\\uc131, \\uaca8\\uc6b8, \\uc0ac\\ub791, \\ube44\\uc624\\ub294\\ub0a0, \\ud750\\ub9b0\\ub0a0, \\uc7a5\\ub9c8, \\uc0c8\\ubcbd, \\uc13c\\uce58, \\uc9d1, \\uce68\\ub300, \\uc6b0\\uc6b8, \\ub4dc\\ub77c\\uc774\\ube0c, \\ubabd\\ud658, \\ubabd\\ud658\\uc801, \\uc2a4\\ud2b8\\ub808\\uc2a4, \\ubc24, \\uc794\\uc794\\ud55c, \\uc678\\ub85c\\uc6c0, \\ub808\\ud2b8\\ub85c, \\ud799\\ud55c, \\ubabd\\ud658\\uc801\\uc778, \\ube44, \\uc5ec\\ud589, \\uc6b4\\ub3d9, \\uc139\\uc2dc\",\"['\\uc6b0\\uc6b8\\ud55c']\"],[\"Moonlight\",\"Disclosure\",\"\\ub9ac\\ub4dc\\ubbf8\\uceec, \\ub77c\\uc6b4\\uc9c0, \\ud790\\ub9c1, \\ubd84\\uc704\\uae30, \\uc6b4\\ub3d9, \\uae30\\ubd84\\uc88b\\uc740, \\ubd04, \\uc544\\uce68, \\uc624\\ud6c4, \\ub4dc\\ub77c\\uc774\\ube0c, \\uc0c1\\ucf8c\\ud55c, \\uc2dc\\uc6d0\\ud55c, \\uae30\\ubd84\\uc804\\ud658, \\ubc24, \\uc0c8\\ubcbd, \\ud765, \\uc2a4\\ud2b8\\ub808\\uc2a4, \\uc2e0\\ub098\\ub294, \\ub304\\uc2a4, \\ube44\\uc624\\ub294\\ub0a0, \\uae4c\\ud398, \\uc5ec\\ud589, \\ud53c\\ud06c\\ub2c9, \\ucd9c\\uadfc\\uae38, \\ud1f4\\uadfc\\uae38\",\"['\\ud589\\ubcf5\\ud55c']\"],[\"\\uc2dc\\uac04\\uc774 \\uc548 \\uc9c0\\ub098\\uac00 (Walkin` In Time)\",\"\\ub354\\ubcf4\\uc774\\uc988 (THE BOYZ)\",\"\\uc774\\ubcc4, \\uc0c8\\ubcbd, \\ub208\\ubb3c, \\uadf8\\ub9ac\\uc6c0, \\uc560\\uc808\\ud55c, \\uc2ac\\ud514, \\ucd94\\uc5b5\",\"['\\uc6b0\\uc6b8\\ud55c']\"],[\"\\ub0b4 \\ub2d8\\uc758 \\uc0ac\\ub791\\uc740\",\"\\ub530\\ub85c \\ub610 \\uac19\\uc774\",\"\\ubd04, \\ub4dc\\ub77c\\uc774\\ube0c, \\uc5ec\\ud589, \\ud734\\uc2dd, \\uae30\\ubd84\\uc804\\ud658, \\uc0ac\\ub791, \\ud1f4\\uadfc\\uae38\",\"['\\ud589\\ubcf5\\ud55c']\"],[\"facetime\",\"oogypark\",\"\\uce74\\ud398, \\ud799\\ud55c\",\"['\\uc794\\uc794\\ud55c', '\\uae34\\uc7a5\\ub418\\ub294']\"],[\"Belief\",\"jeebanoff (\\uc9c0\\ubc14\\ub178\\ud504)\",\"\\uc124\\ub818, \\uc0ac\\ub791, \\uc0c8\\ubcbd, \\ubabd\\ud658, \\ub4dc\\ub77c\\uc774\\ube0c, \\uae30\\ubd84\\uc804\\ud658, \\ubc24, \\uae4c\\ud398, \\uc794\\uc794\\ud55c, \\uc0c8\\ubcbd\\uac10\\uc131, \\uc5ec\\ud589, \\uc2e0\\ub098\\ub294, \\uc6b4\\ub3d9, \\uc9d1\\uc911, \\uac00\\uc744\\uac10\\uc131, \\ucd9c\\uadfc\\uae38, \\uc544\\uce68, \\uc6d4\\uc694\\ubcd1, \\ucd94\\uc5b5, \\uc2a4\\ud2b8\\ub808\\uc2a4, \\uce74\\ud398, \\ubd84\\uc704\\uae30, \\ud790\\ub9c1, \\uaca8\\uc6b8, \\ud074\\ub7fd, \\ud38d, \\ubd88\\uae08, \\ube44\\uc624\\ub294\\ub0a0, \\ud1f4\\uadfc, \\uac00\\uc744, \\uc704\\ub85c, \\uc0b0\\ucc45, \\uccad\\ucd98, \\ub9ac\\ub4dc\\ubbf8\\uceec, \\uc794\\uc794, \\ub178\\ub3d9\\uc694, \\ub77c\\uc6b4\\uc9c0, \\uc139\\uc2dc, \\ubabd\\ud658\\uc801\\uc778, \\ud734\\uc2dd, \\uc774\\ubcc4, \\ub0b4\\uc801\\ub304\\uc2a4, \\ubabd\\ud658\\uc801, \\uc8fc\\ub9d0, \\ucc28\\ubd84\\ud55c, \\uc624\\ud6c4, \\uae30\\ubd84\\uc5c5, \\uc2ac\\ud514, \\uc5ec\\ub984, \\uc18c\\ud48d, \\ud53c\\ud06c\\ub2c9, \\ud55c\\uac15, \\ud734\\uc77c, \\uccad\\ub7c9, \\uc7a0\\ub4e4\\uae30\\uc804, \\ubc34\\ub4dc\",\"['\\ud589\\ubcf5\\ud55c']\"],[\"\\uadf8\\uac8c \\ub108\\uc600\\ub2e4\",\"\\uc548\\uc7ac\\ud604\",\"\\uae30\\ubd84\\uc804\\ud658, \\uc2ac\\ud514, \\uc774\\ubcc4, \\uc794\\uc794\\ud55c, \\ucd94\\uc5b5, \\ud68c\\uc0c1, \\ub4dc\\ub77c\\uc774\\ube0c, \\ube44\\uc624\\ub294\\ub0a0, \\uc0c8\\ubcbd, \\uadf8\\ub9ac\\uc6c0, \\uc0ac\\ub791\",\"['\\ud589\\ubcf5\\ud55c', '\\uc794\\uc794\\ud55c']\"],[\"The Gambler\",\"Kenny Rogers\",\"\\ud3b8\\uc548\\ud55c, \\ucd94\\uc5b5, \\ud68c\\uc0c1\",\"['\\ud3b8\\uc548\\ud55c', '\\ud589\\ubcf5\\ud55c', '\\uc794\\uc794\\ud55c']\"],[\"\\uc544\\ud2c0\\ub780\\ud2f0\\uc2a4 \\uc18c\\ub140 (Atlantis Princess)\",\"\\uc2ac\\uae30 (SEULGI)\",\"\\uaca8\\uc6b8\",\"['\\uc794\\uc794\\ud55c']\"],[\"20090729\",\"\\ud2f0\\uc544\\ub77c\",\"\\ud790\\ub9c1, \\ud734\\uc2dd, \\uc2a4\\ud2b8\\ub808\\uc2a4, \\ub304\\uc2a4, \\uc0c8\\ubcbd, \\ubc24, \\uc5ec\\ud589, \\uc6b4\\ub3d9, \\uc704\\ub85c\",\"['\\ud589\\ubcf5\\ud55c', '\\uacbd\\ucf8c\\ud55c', '\\uc6b0\\uc6b8\\ud55c']\"],[\"\\ub0b4 \\uce5c\\uad6c\\uc758 \\ub0a8\\uc790\\uce5c\\uad6c\",\"DIA (\\ub2e4\\uc774\\uc544)\",\"\\ud790\\ub9c1, \\ud734\\uc2dd, \\uae30\\ubd84\\uc804\\ud658, \\ub304\\uc2a4, \\ub4dc\\ub77c\\uc774\\ube0c, \\uc124\\ub818, \\uc2e0\\ub098\\ub294, \\uc2ac\\ud514, \\uc2e0\\ub098, \\uc774\\ubcc4, \\uc6b4\\ub3d9, \\ucd9c\\uadfc\\uae38, \\ud1f4\\uadfc\\uae38, \\uc4f8\\uc4f8\\ud568, \\uce74\\ud398, \\ubd04\\ub178\\ub798, \\uc5ec\\ud589, \\ubc9a\\uaf43, \\ubd88\\uae08, \\uc5f0\\ud734, \\ub0b4\\uc801\\ub304\\uc2a4, \\uc2a4\\ud2b8\\ub808\\uc2a4, \\uc0ac\\ub791\",\"['\\ud589\\ubcf5\\ud55c', '\\uacbd\\ucf8c\\ud55c']\"],[\"BAAAD Flower (Feat. Jaeny, Scid)\",\"BAAAD\",\"\\ud074\\ub7fd, \\uc2a4\\ud2b8\\ub808\\uc2a4, \\uae30\\ubd84\\uc804\\ud658\",\"['\\uacbd\\ucf8c\\ud55c', '\\uae34\\uc7a5\\ub418\\ub294', '\\ud589\\ubcf5\\ud55c']\"],[\"Diamond\",\"f(x)\",\"\\uae30\\ubd84\\uc804\\ud658, \\uc6b4\\ub3d9, \\uc5ec\\ud589, \\ub4dc\\ub77c\\uc774\\ube0c, \\uc0b0\\ucc45, \\ub178\\ub3d9\\uc694, \\uc2a4\\ud2b8\\ub808\\uc2a4, \\ub304\\uc2a4, \\uc0e4\\uc6cc, \\uc8fc\\ub9d0, \\uc544\\uce68, \\uaca8\\uc6b8, \\uc124\\ub818, \\uc0ac\\ub791, \\ud790\\ub9c1, \\ud734\\uc2dd, \\ud5ec\\uc2a4, \\uc790\\uc2e0\\uac10, \\uc794\\uc794\\ud55c, \\ud799\\ud55c, \\uc0c8\\ubcbd, \\uc6b4\\ub3d9\\ud560\\ub54c, \\uc2e0\\ub098\\ub294, \\ud798\\ub4e4\\ub54c, \\ud765\\ud3ed\\ubc1c\",\"['\\ud589\\ubcf5\\ud55c']\"],[\"\\uc774\\ud1a0\\ub85d \\ubcf4\\ud1b5\\uc758\",\"\\uc774\\uc8fc\\uc544\",\"\\uc794\\uc794\\ud55c, \\ud734\\uc2dd, \\ucc28\\ubd84\\ud55c, \\ud790\\ub9c1, \\uc870\\uc6a9\\ud55c\",\"['\\uc794\\uc794\\ud55c']\"],[\"\\uadf8\\ub300\\ub77c\\ub294 \\uc138\\uc0c1\",\"\\uc724\\ubbf8\\ub798\",\"\\uae30\\ubd84\\uc804\\ud658, \\ube44\\uc624\\ub294\\ub0a0, \\uac00\\uc744\\ubc24, \\ud1f4\\uadfc\\uae38, \\ucd94\\uc5b5, \\ub4dc\\ub77c\\uc774\\ube0c\",\"['\\ud589\\ubcf5\\ud55c']\"],[\"\\uc6b0\\uc0b0 (Feat. \\uc0c8\\uc1a1)\",\"\\uae40\\uc720\\uc6d4\",\"\\ube44\\uc624\\ub294\\ub0a0, \\uc7a5\\ub9c8, \\ube44, \\uc794\\uc794\\ud55c, \\uc2a4\\ud2b8\\ub808\\uc2a4, \\ud734\\uc2dd, \\uae30\\ubd84\\uc804\\ud658, \\uc7a0, \\uc0c8\\ubcbd\\uac10\\uc131, \\uc0c8\\ubcbd, \\ud750\\ub9b0\\ub0a0\",\"['\\uc6b0\\uc6b8\\ud55c']\"],[\"\\ub0b4 \\uc6b4\\uba85 \\ud53c\\ud558\\uace0 \\uc2f6\\uc5b4\",\"\\uaddc\\ud604 (KYUHYUN)\",\"\\uc194\\ub85c, \\uac00\\uc744, \\ud798\\ub4e4\\ub54c, \\uc2ac\\ud514, \\uc774\\ubcc4, \\uc124\\ub818, \\uc0ac\\ub791, \\ubba4\\uc9c0\\uceec, \\ud76c\\ub9dd, \\uc5ec\\ud589, \\uc544\\ub984\\ub2e4\\uc6b4, \\uac10\\ub3d9\",\"['\\uacbd\\ucf8c\\ud55c']\"],[\"Perfect Day\",\"Hoku\",\"\\uc2a4\\ud2b8\\ub808\\uc2a4, \\uae30\\ubd84\\uc804\\ud658\",\"['\\uae34\\uc7a5\\ub418\\ub294', '\\ud589\\ubcf5\\ud55c']\"],[\"Take It Out (Feat. \\uae40\\ud638\\uc5f0 Of \\ub2ec\\uc88b\\uc740\\ubc24)\",\"\\uae40\\ud604\\uc11d\",\"\\ub4dc\\ub77c\\uc774\\ube0c, \\uac00\\uc744, \\uc0b0\\ucc45, \\uc794\\uc794\\ud55c\",\"['\\ud589\\ubcf5\\ud55c', '\\uc794\\uc794\\ud55c']\"],[\"\\uc0ac\\ub791\\uac00 \\ub458\",\"\\uc624\\uc9c0\\ucd1d, \\ud568\\uc218\\uacbd\",\"\\ud790\\ub9c1, \\ud734\\uc2dd, \\ucd94\\uc5b5, \\ud68c\\uc0c1\",\"['\\ud589\\ubcf5\\ud55c', '\\uc794\\uc794\\ud55c']\"],[\"cradle (Feat. Slchld)\",\"protonebula\",\"\\ucd9c\\uadfc\\uae38, \\uce74\\ud398, \\uc0c8\\ubcbd, \\ud734\\uc2dd, \\uc800\\ub141, \\uc0ac\\ub791, \\uaca8\\uc6b8, \\ubd84\\uc704\\uae30, \\uc791\\uc5c5, \\uaca8\\uc6b8\\ubc24, \\uce68\\ub300, \\ub530\\ub73b\\ud55c, \\ud3ec\\uadfc\\ud55c\",\"['\\uc794\\uc794\\ud55c']\"],[\"Cake Shop\",\"\\uc70c\\ucf55\\uc2a4\",\"\\uae30\\ubd84\\uc804\\ud658, \\ud790\\ub9c1, \\uc0c8\\ubcbd, \\ub0b4\\uc801\\ub304\\uc2a4, \\ub2ec\\ucf64, \\ub530\\ub73b, \\ub2ec\\ub2ec, \\ud06c\\ub9ac\\uc2a4\\ub9c8\\uc2a4, \\uc2a4\\ud2b8\\ub808\\uc2a4, \\ucd94\\uc5b5, \\ud68c\\uc0c1, \\uae4c\\ud398, \\uac00\\uc744, \\uce74\\ud398, \\uc794\\uc794\\ud55c, \\uc0ac\\ub791, \\ubc24, \\ub4dc\\ub77c\\uc774\\ube0c, \\uc800\\ub141, \\uc57c\\uacbd, \\uc7a0\\ub4e4\\uae30\\uc804, \\uc0b0\\ucc45, \\ud1f4\\uadfc\\uae38, \\ud2b8\\ub80c\\ub514\\ud55c, \\uc8fc\\ub9d0, \\uc5ec\\ud589, \\ub9e5\\uc8fc, \\uc2ac\\ud514, \\uc774\\ubcc4, \\uc124\\ub818, \\ud734\\uc2dd, \\uc2e0\\ub098\\ub294, \\ud1f4\\uadfc, \\ubd84\\uc704\\uae30, \\uc704\\ub85c, \\uccad\\ucd98, \\ubd04, \\ub2ec\\ucf64\\ud55c, \\uaca8\\uc6b8\\ubc24, \\ud799\\ud55c, \\ucee4\\ud53c, \\uc5ec\\uc720, \\ucee4\\ud53c\\uc20d, \\ub370\\uc774\\ud2b8, \\ub2ec\\ub2ec\\ud55c, \\uc77c\\ud560\\ub54c, \\uc5ec\\ub984, \\uaca8\\uc6b8, \\uc794\\uc794, \\uc624\\ud6c4, \\uc0c1\\ucf8c\\ud55c, \\uc544\\uce68, \\ube44, \\ud074\\ub7fd\",\"['\\ud589\\ubcf5\\ud55c']\"],[\"Artistic Groove\",\"\\ud0dc\\ubbfc (TAEMIN)\",\"\\ud734\\uc2dd, \\uc5ec\\uc720, \\uc2a4\\ud2b8\\ub808\\uc2a4, \\ub178\\ub3d9\\uc694, \\uc139\\uc2dc, \\uc0c8\\ubcbd, \\ub4dc\\ub77c\\uc774\\ube0c, \\uc6b4\\uc804, \\uc5ec\\ud589, \\uae30\\ubd84\\uc804\\ud658\",\"['\\ud589\\ubcf5\\ud55c']\"],[\"Shower\",\"\\uae38\\uac74\",\"\\ub304\\uc2a4\",\"['\\uacbd\\ucf8c\\ud55c']\"],[\"\\uc6b0\\ub9ac\\uc758 \\uc0c8\\ubcbd\\uc740 \\ub0ae\\ubcf4\\ub2e4 \\ub728\\uac81\\ub2e4\",\"\\uc138\\ube10\\ud2f4\",\"\\uae30\\ubd84\\uc88b\\uc740, \\uc2e0\\ub098\\ub294, \\uc794\\uc794\\ud55c, \\uc5ec\\ub984, \\uc2dc\\uc6d0\\ud55c, \\ub304\\uc2a4, \\uc6b4\\ub3d9, \\uc0b0\\ucc45, \\uccad\\ub7c9\\uac10, \\uccad\\ub7c9, \\uae30\\ubd84\\uc804\\ud658, \\uc0ac\\ub791, \\uc5ec\\ub984\\ubc24, \\ud734\\uc2dd, \\ub4dc\\ub77c\\uc774\\ube0c, \\ud734\\uac00, \\ud55c\\uac15, \\ud1f4\\uadfc\\uae38, \\uc5ec\\ud589, \\uc2a4\\ud2b8\\ub808\\uc2a4, \\ucda4, \\uac10\\uc131\\uc790\\uadf9, \\ucd94\\uc5b5, \\uc5f0\\ub9d0, \\uc624\\ud6c4, \\uaca8\\uc6b8, \\ubc24, \\ubd04, \\uc124\\ub818, \\ubc9a\\uaf43, \\ud790\\ub9c1, \\uce74\\ud398, \\ud654\\uc774\\ud305, \\uc0c1\\ud07c, \\uac00\\uc744, \\uac10\\uc131\\uc801\\uc778, \\uc0c8\\ubcbd\\uac10\\uc131, \\uc0c8\\ubcbd\",\"['\\ud589\\ubcf5\\ud55c']\"],[\"\\ube44\\uc8fc\\uc5bc\\ub4dc\\ub9bc (POP! POP!) - Intel \\ucf5c\\ub77c\\ubcf4\\ub808\\uc774\\uc158\\uc1a1\",\"\\uc18c\\ub140\\uc2dc\\ub300 (GIRLS` GENERATION)\",\"\\ud074\\ub7fd, \\uae30\\ubd84\\uc804\\ud658, \\uc751\\uc6d0, \\ub304\\uc2a4, \\ub178\\ub3d9\\uc694, \\ucd94\\uc5b5, \\uc2a4\\ud2b8\\ub808\\uc2a4, \\uc2a4\\ud2b8\\ub808\\uc2a4\\ud574\\uc18c, \\uc2e0\\ub098\\ub294, \\ub4dc\\ub77c\\uc774\\ube0c, \\ud68c\\uc0c1\",\"['\\uacbd\\ucf8c\\ud55c']\"],[\"Grrr \\ucd1d\\ub7c9\\uc758 \\ubc95\\uce59\",\"Stray Kids (\\uc2a4\\ud2b8\\ub808\\uc774 \\ud0a4\\uc988)\",\"\\uc794\\uc794\\ud55c, \\uae30\\ubd84\\uc804\\ud658, \\uc2e0\\ub098\\ub294\",\"['\\ud589\\ubcf5\\ud55c']\"],[\"\\ub450\\ub824\\uc6cc\\uc9c8\\ub9cc\\ud07c (2017)\",\"\\uc288\\uac00\\ubcfc\",\"\\uc790\\uae30\\uc804\\uc5d0, \\ubc24, \\uc0c8\\ubcbd, \\uaca8\\uc6b8, \\uce74\\ud398, \\uae4c\\ud398, \\ucee4\\ud53c, \\ub530\\ub73b\\ud55c, \\uc9d1\\uc911, \\uc794\\uc794\\ud55c, \\ud734\\uc2dd, \\ud790\\ub9c1, \\uacf5\\ubd80, \\ucd94\\uc5b5, \\ud68c\\uc0c1\",\"['\\uc794\\uc794\\ud55c']\"],[\"Burn\",\"\\uc120\\ubbf8\",\"\\uc0ac\\ub791, \\ubc24, \\uc124\\ub818, \\uc0c8\\ubcbd, \\uc5ec\\ud589, \\uae30\\ubd84\\uc804\\ud658, \\uc0b0\\ucc45, \\uc2a4\\ud2b8\\ub808\\uc2a4, \\uc6b4\\ub3d9, \\uc774\\ubcc4, \\ud68c\\uc0c1\",\"['\\ud589\\ubcf5\\ud55c']\"],[\"\\uc5bc\\ub9c8\\ub098 \\uc794\\uc778\\ud55c \\uc778\\uc0dd\\uc778\\uac00\",\"\\ubc15\\uac74\\ud615\",\"\\ud790\\ub9c1, \\ud734\\uc2dd, \\uae30\\ubd84\\uc804\\ud658\",\"['\\ud589\\ubcf5\\ud55c']\"],[\"\\ub110 \\uc704\\ud574 (Feat. \\uc804\\uc9c0\\ud61c)\",\"\\uc815\\ud76c\\ub3d9\",\"\\ud654\\uc774\\ud305\",\"['\\uacbd\\ucf8c\\ud55c']\"],[\"\\uc774\\ubcc4\\uc774\\ub798\",\"\\uc1a1\\uc18c\\ud76c, \\uace0\\uc601\\uc5f4\",\"\\uc774\\ubcc4, \\uae30\\ubd84\\uc804\\ud658\",\"['\\uc6b0\\uc6b8\\ud55c', '\\ud589\\ubcf5\\ud55c']\"],[\"WAY OF STEEL\",\"\\ud53c\\ud574\\uc758\\uc2dd\",\"\\ud765\\uaca8\\uc6b4, \\uc2a4\\ud2b8\\ub808\\uc2a4, \\ubc34\\ub4dc, \\ud398\\uc2a4\\ud2f0\\ubc8c, \\uae30\\ubd84\\uc804\\ud658, \\uc2e0\\ub098\\ub294\",\"['\\uacbd\\ucf8c\\ud55c']\"],[\"NEVER\",\"\\uad6d\\ubbfc\\uc758 \\uc544\\ub4e4\",\"\\uc5ec\\ub984, \\ud734\\uc591\\uc9c0, \\uc8fc\\ub9d0, \\uc6d4\\uc694\\ubcd1, \\uc5f4\\ub300\\uc57c, \\uacbd\\ucf8c\\ud55c, \\ubc14\\ub2e4, \\uc6b4\\uc804, \\ubb34\\ub354\\uc704, \\uae30\\ubd84\\uc804\\ud658, \\ucd9c\\uadfc\\uae38, \\ud1f4\\uadfc\\uae38, \\uc2e0\\ub098\\ub294, \\ub304\\uc2a4, \\ub4dc\\ub77c\\uc774\\ube0c, \\uc2dc\\uc6d0\\ud55c, \\uc2a4\\ud2b8\\ub808\\uc2a4, \\uce74\\ud398, \\uc794\\uc794\\ud55c, \\uc5ec\\ud589, \\ud654\\uc774\\ud305, \\uc6b4\\ub3d9, \\uc0c8\\ud574, \\uccad\\ub7c9\\ud55c, \\ud074\\ub7fd, \\ub0b4\\uc801\\ub304\\uc2a4, \\uccad\\ub7c9\\uac10, \\uc5ec\\ub984\\ubc24, \\ucd94\\uc5b5, \\ub178\\ub3d9\\uc694, \\uc2e0\\ub0a8, \\ud734\\uc2dd, \\ubabd\\ud658, \\ud765\\ud3ed\\ubc1c, \\ud5ec\\uc2a4, \\uc5d0\\ub108\\uc9c0, \\ub7f0\\ub2dd, \\ubd88\\uae08, \\ud06c\\ub9ac\\uc2a4\\ub9c8\\uc2a4, \\ud30c\\ud2f0, \\ud790\\ub9c1, \\uac00\\uc744, \\uc0ac\\ub791, \\uac15\\ub82c\\ud55c, \\ud55c\\uac15, \\uc18c\\ud48d, \\ud53c\\ud06c\\ub2c9, \\uc0b0\\ucc45, \\uae30\\ubd84\\uc88b\\uc740, \\uc7a0, \\uc5f0\\ub9d0, \\ubd84\\uc704\\uae30, \\ud734\\uac00, \\uc139\\uc2dc, \\uace0\\uc18d\\ub3c4\\ub85c, \\uac10\\uc131\\uc801\\uc778, \\ubd04, \\ub530\\ub73b\\ud55c, \\uc6b4\\ub3d9\\ud560\\ub54c, \\uc2ac\\ud514, \\uacf5\\uac10, \\uadf8\\ub9ac\\uc6c0, \\uc704\\ub85c, \\uc774\\ubcc4, \\uc678\\ub85c\\uc6c0, \\uc870\\uae45, \\uc2dc\\uc6d0, \\uc2a4\\ud3ec\\uce20, \\ub098\\ub4e4\\uc774, \\uc124\\ub818, \\uccad\\ub7c9, \\uc0c1\\ud07c, \\ud765\\uaca8\\uc6b4, \\ud558\\ub8e8, \\ud765, \\ud68c\\uc0c1, \\ud5ec\\uc2a4\\uc7a5, \\uc624\\ud6c4, \\ubc14\\uce89\\uc2a4, \\ubabd\\ud658\\uc801\\uc778, \\uc0c1\\ucf8c\\ud55c, \\uc2a4\\ud2b8\\ub808\\uc2a4\\ud574\\uc18c, \\uc5f0\\ud734, \\uc6b0\\uc6b8\\ud560\\ub54c, \\uc544\\uce68, \\uc13c\\uce58, \\uaca8\\uc6b8, \\ubd81\\uce74\\ud398, \\uc0ac\\uc0c9, \\ub2ec\\ub9ac\\uae30, \\ud589\\ubcf5, \\uc7a5\\ub9c8, \\uc990\\uac70\\uc6b4, \\uc194\\ub85c, \\ub4e4\\uc369\\ub4e4\\uc369\",\"['\\ud589\\ubcf5\\ud55c']\"],[\"\\ub9c8\\uc8fc\\uccd0\\ub3c4\",\"\\ub370\\uc774\\ubb34\\ub4dc\",\"\\uc0b0\\ucc45, \\ucee4\\ud53c, \\uc624\\ud6c4, \\uc2ac\\ud514, \\uc774\\ubcc4\",\"['\\ud589\\ubcf5\\ud55c', '\\uc6b0\\uc6b8\\ud55c']\"],[\"Night With You\",\"\\uc2a4\\ucf00\\uc904\\uc6d0 (Schedule 1), \\uc784\\uc9c0\\uc548 (LIM ZIAN)\",\"\\uc9d1\\uc911, \\ud734\\uc2dd, \\ubc24, \\uc794\\uc794\\ud55c, \\ub3c5\\uc11c, \\uac10\\uc131\\uc801\\uc778\",\"['\\uc794\\uc794\\ud55c']\"],[\"\\uae30\\ub3c4\",\"\\uc2e0\\ud654\",\"\\uaca8\\uc6b8, \\ucd94\\uc5b5, \\ud68c\\uc0c1\",\"['\\uc794\\uc794\\ud55c']\"],[\"To Have So Many\",\"John Smith\",\"\\uc9d1\\uc911, \\uc8fc\\ub9d0, \\uce74\\ud398, \\ud734\\uc2dd, \\ud790\\ub9c1, \\uc0b0\\ucc45, \\uc5ec\\ud589, \\uacf5\\ubd80\",\"['\\uc794\\uc794\\ud55c']\"],[\"\\ud718\\ud30c\\ub78c\",\"\\ub9f5\\uc2dd\\uc2a4 (MAP6)\",\"\\ud5ec\\uc2a4, \\ud5ec\\uc2a4\\uc7a5, \\uc6b4\\ub3d9, \\ubd88\\uae08\",\"['\\uacbd\\ucf8c\\ud55c']\"],[\"\\ubc14\\ub78c\\ubd80\\ub294 \\ub0a0\",\"\\ud558\\ube44\\ub204\\uc544\\uc8fc\",\"\\ube44\\uc624\\ub294\\ub0a0, \\ud790\\ub9c1, \\ud734\\uc2dd, \\uace0\\ub3c5, \\uc794\\uc794, \\uc678\\ub85c\\uc6c0, \\ud6c4\\ud68c, \\uc5f0\\uc778, \\ucd94\\uc5b5, \\uadf8\\ub9ac\\uc6c0, \\uc0ac\\ub791, \\uc774\\ubcc4, \\ubc24, \\uc0c8\\ubcbd, \\uaca8\\uc6b8, \\uce74\\ud398, \\uc794\\uc794\\ud55c, \\uac00\\uc744, \\uae30\\ubd84\\uc804\\ud658, \\uc2ac\\ud514, \\uc5ec\\ub984\\ubc24, \\uc5ec\\ub984, \\ubabd\\ud658, \\ube44, \\uc0c8\\ubcbd\\uac10\\uc131, \\uc7a0\\ub4e4\\uae30\\uc804, \\uc5f4\\ub300\\uc57c, \\uc9d1, \\uc791\\uc5c5, \\ud68c\\uc0c1, \\uc7a5\\ub9c8, \\uc13c\\uce58, \\ud3b8\\uc548\\ud55c, \\ub2ec\\ub2ec, \\ubd80\\ub4dc\\ub7ec\\uc6b4, \\uc11c\\uc815\\uc801\\uc778, \\ubd04, \\ubd88\\uba74\\uc99d, \\uc790\\uc7a5\\uac00, \\ubabd\\ud658\\uc801, \\ubd84\\uc704\\uae30, \\uc0ac\\uc0c9, \\uc6b0\\uc6b8\\ud560\\ub54c, \\uc704\\ub85c, \\uc5ec\\ud589, \\uc790\\uae30\\uc804, \\ub4dc\\ub77c\\uc774\\ube0c, \\uc0b0\\ucc45, \\uac00\\uc744\\uac10\\uc131, \\uc990\\uac70\\uc6b4, \\uc77c\\uc0c1\",\"['\\ubb34\\uc11c\\uc6b4', '\\uc794\\uc794\\ud55c']\"],[\"X\",\"\\uc2a4\\ubb34\\uc0b4\",\"\\uc378, \\ubc24, \\uce74\\ud398, \\uc0c8\\ubcbd, \\uc0c8\\ubcbd\\uac10\\uc131, \\uc2a4\\ud2b8\\ub808\\uc2a4, \\uc219\\uba74, \\ud790\\ub9c1, \\uae30\\ubd84\\uc804\\ud658, \\uce68\\ub300, \\uc790\\uc7a5\\uac00, \\ubd88\\uba74\\uc99d, \\ud68c\\uc0c1, \\ucd94\\uc5b5, \\uc0ac\\ub791, \\uc774\\ubcc4, \\uac10\\uc131\\uc801\\uc778, \\uae4c\\ud398, \\uac00\\uc744, \\uc794\\uc794\\ud55c, \\ub4dc\\ub77c\\uc774\\ube0c, \\uc77c\\ud560\\ub54c, \\uc790\\uae30\\uc804\\uc5d0, \\ud734\\uc2dd, \\ubcc4, \\ubabd\\ud658, \\uaca8\\uc6b8, \\ub530\\ub73b\\ud55c, \\ub208\\ubb3c, \\uadf8\\ub9ac\\uc6c0, \\uc2ac\\ud514, \\ubd04\\ub178\\ub798, \\uba85\\uc0c1, \\ub098\\ub978\\ud55c, \\ubd88\\uae08, \\ubd04, \\uc870\\uc6a9\\ud55c, \\uc5ec\\ub984, \\ud3ec\\uadfc\\ud55c, \\ubc34\\ub4dc, \\uc5ec\\ud589, \\uc2e0\\ub098\\ub294, \\ubd84\\uc704\\uae30, \\uc194\\ub85c, \\uc9d1, \\ucee4\\ud53c, \\ube44\\uc624\\ub294\\ub0a0, \\ud55c\\uac15, \\uc0b0\\ucc45, \\uc7a0, \\uc800\\ub141, \\uaca8\\uc6b8\\ubc24, \\uc9c0\\uce5c, \\ud3b8\\uc548\\ud55c, \\uafc0\\uc7a0, \\uc218\\uba74, \\uc8fc\\ub9d0, \\uc5ec\\ub984\\ubc24, \\uc704\\ub85c, \\uc7a0\\ub4e4\\uae30\\uc804, \\uc57c\\uacbd, \\uc790\\uae30\\uc804, \\uac10\\uc218\\uc131, \\uc13c\\uce58, \\ub530\\ub73b, \\uc5ec\\uc720, \\uc624\\ud6c4, \\uc77c\\uc0c1, \\ud1f4\\uadfc\\uae38, \\ube44, \\uc6b0\\uc6b8, \\ub178\\ub3d9\\uc694\",\"['\\uc794\\uc794\\ud55c']\"],[\"\\uc870\\uc544? \\uc870\\uc544!\",\"DIA (\\ub2e4\\uc774\\uc544)\",\"\\uc9d1\\uc911, \\ud734\\uc2dd, \\uccad\\ub7c9, \\uc5ec\\ud589, \\uc5ec\\ub984, \\ub304\\uc2a4, \\ub4dc\\ub77c\\uc774\\ube0c, \\uccad\\ub7c9\\ud55c, \\ud765\\ud3ed\\ubc1c, \\uc2e0\\ub098\\ub294, \\uc0c1\\ud07c, \\ucd9c\\uadfc\\uae38, \\uae30\\ubd84\\uc804\\ud658, \\ud1f4\\uadfc\\uae38, \\uc2dc\\uc6d0, \\ud558\\ub298, \\ubc14\\ub2e4, \\ub2ec\\ub2ec, \\ub2ec\\ucf64, \\uc124\\ub808\\uc784, \\uc2ec\\ucff5, \\uc0ac\\ub791, \\uc378, \\uae30\\ubd84\\uc88b\\uc740\",\"['\\ud589\\ubcf5\\ud55c']\"],[\"Never Let You Go (Jack Wins Remix) (Feat. John Newman)\",\"Kygo\",\"\\uc5ec\\ub984, \\ubc24, \\ub4dc\\ub77c\\uc774\\ube0c, \\uae30\\ubd84\\uc804\\ud658, \\ub0b4\\uc801\\ub304\\uc2a4\",\"['\\ud589\\ubcf5\\ud55c']\"],[\"All About\",\"\\uba5c\\ub85c\\ub514\\ub370\\uc774 (MelodyDay)\",\"\\uc2ac\\ud508, \\ucd9c\\uadfc\\uae38, \\uae30\\ubd84\\uc804\\ud658, \\uc0ac\\ub791, \\uae30\\ubd84\\uc5c5, \\ud1f4\\uadfc\\uae38, \\uc2e0\\ub098\\ub294, \\ud734\\uc2dd, \\ud790\\ub9c1, \\uc194\\ub85c, \\uc2a4\\ud2b8\\ub808\\uc2a4, \\ub304\\uc2a4, \\uc794\\uc794\\ud55c, \\ucd94\\uc5b5, \\ubd04, \\ub2ec\\ub2ec, \\uc124\\ub818, \\uc5ec\\ub984, \\uccad\\ub7c9, \\ud68c\\uc0c1, \\ub85c\\ub9e8\\ud2f1, \\ud589\\ubcf5, \\ub4dc\\ub77c\\uc774\\ube0c, \\uc124\\ub808\\uc784, \\uace0\\ubc31, \\uc6d4\\uc694\\uc77c, \\uc77c\\uc0c1, \\uc6b4\\uc804, \\uae30\\ubd84\\uc88b\\uc740, \\ube44\\uc624\\ub294\\ub0a0, \\ubc24, \\uc0c8\\ubcbd, \\uac00\\uc744, \\uae4c\\ud398\",\"['\\ud589\\ubcf5\\ud55c']\"],[\"Playinwitme (Remix) [feat. Jay Park]\",\"KYLE\",\"\\ud589\\ubcf5, \\uac00\\uc744, \\ud734\\uc2dd, \\ub4dc\\ub77c\\uc774\\ube0c, \\ud790\\ub9c1, \\uae30\\ubd84\\uc804\\ud658, \\uc678\\ucd9c, \\uc2e0\\ub098\\ub294, \\uc5ec\\ub984, \\ud074\\ub7fd, \\uc2e0\\ub098, \\uc5d0\\ub108\\uc9c0, \\ud30c\\ud2f0, \\ud734\\uac00, \\ud799\\ud55c, \\ub2ec\\ub2ec\\ud55c, \\uc5f0\\uc560, \\uc124\\ub818, \\uc0ac\\ub791, \\ub530\\ub4ef\\ud55c, \\uc5ec\\ud589, \\ud53c\\ud06c\\ub2c9, \\uce74\\ud398, \\ub77c\\uc6b4\\uc9c0, \\uc0c1\\ud07c\\ud55c, \\ubd04, \\uc124\\ub808\\uc784, \\uc2a4\\ud2b8\\ub808\\uc2a4, \\ub530\\ub73b\\ud568, \\ub178\\ub3d9\\uc694, \\uccad\\ub7c9, \\uac15\\ub82c\\ud55c, \\ud5ec\\uc2a4\\uc7a5, \\uc6b4\\ub3d9, \\uc870\\uae45, \\ub304\\uc2a4, \\uc0c8\\ud574, \\uc220, \\ubd84\\uc704\\uae30, \\uc8fc\\ub9d0, \\ucee4\\ud53c, \\uc0b0\\ucc45\",\"['\\ud589\\ubcf5\\ud55c']\"],[\"\\uadf8\\ub807\\uac8c \\uc6c3\\uc5b4\\uc918\",\"\\uad8c\\uc21c\\uad00\",\"\\uc774\\ubcc4, \\ubc24, \\uc0c8\\ubcbd, \\ud587\\uc0b4, \\uac10\\uc131\\uc790\\uadf9, \\ubd04, \\uc624\\ud6c4, \\ucc28\\ubd84\\ud55c, \\ubabd\\ud658, \\ubd04\\ub0a0, \\ub3c5\\uc11c, \\uac00\\uc744, \\uae4c\\ud398, \\ube44\\uc624\\ub294\\ub0a0, \\ud734\\uc2dd, \\ud734\\uc591\\uc9c0, \\uc7a5\\ub9c8, \\uce74\\ud398, \\ud589\\ubcf5, \\uc5ec\\ud589, \\uc0ac\\ub791, \\uc544\\uce68, \\ud790\\ub9c1, \\uc794\\uc794\\ud55c, \\uc124\\ub818, \\uaca8\\uc6b8\\ubc24, \\ucd94\\uc5b5, \\uc704\\ub85c, \\uae30\\ubd84\\uc804\\ud658, \\ubd84\\uc704\\uae30, \\uaca8\\uc6b8, \\ud750\\ub9b0\\ub0a0, \\uc4f8\\uc4f8\\ud55c, \\ud1f4\\uadfc\\uae38, \\ubd04\\ube44, \\ub4dc\\ub77c\\uc774\\ube0c, \\ub208\\ubb3c, \\uc2ac\\ud514, \\uc5ec\\uc720, \\uc790\\uc7a5\\uac00, \\ube44, \\uc8fc\\ub9d0, \\uc9d1, \\ud3b8\\uc548\\ud55c, \\uc6b0\\uc6b8, \\uc0b0\\ucc45, \\ubc9a\\uaf43, \\uc2e0\\ub098\\ub294, \\ub208\\uc624\\ub294\\ub0a0, \\ud06c\\ub9ac\\uc2a4\\ub9c8\\uc2a4, \\uc5ec\\ub984, \\ucd9c\\uadfc\\uae38, \\uc2a4\\ud2b8\\ub808\\uc2a4, \\ud68c\\uc0c1, \\ucd94\\uc5b5\\ud68c\\uc0c1, \\ubc34\\ub4dc, \\uc5ec\\ub984\\ubc24, \\uc4f8\\uc4f8, \\ucee4\\ud53c, \\uac10\\uc131\\uc801\\uc778, \\uc13c\\uce58, \\uadf8\\ub9ac\\uc6c0, \\uc77c\\uc0c1, \\ub85c\\ub9e8\\ud2f1, \\uc2ec\\ucff5, \\uc378, \\ub2ec\\ucf64\\ud55c, \\uc5ec\\uc720\\ub85c\\uc6b4, \\ud3ec\\uadfc\\ud55c\",\"['\\uc6b0\\uc6b8\\ud55c']\"],[\"Midnight Sun\",\"\\uc138\\ube10\\uc5b4\\ud074\\ub77d\",\"\\uc5f0\\ub9d0, \\ucda4, \\ub304\\uc2a4, \\uae30\\ubd84\\uc804\\ud658, \\uc2e0\\ub098\\ub294\",\"['\\ud589\\ubcf5\\ud55c']\"],[\"\\uc544\\ub2cc\\uac78 \\uc54c\\uba74\\uc11c\\ub3c4\",\"\\ud0c0\\uc784\\ube0c\\ub9bf\\uc9c0\",\"\\uc2a4\\ud2b8\\ub808\\uc2a4, \\uac00\\uc744, \\uac00\\uc744\\uac10\\uc131, \\uc704\\ub85c, \\ud734\\uc2dd, \\uc2ac\\ud514, \\ubc24, \\uc774\\ubcc4, \\uc0c8\\ubcbd, \\ub530\\ub73b\\ud568, \\uae30\\ubd84\\uc804\\ud658, \\uc0ac\\ub791, \\ud790\\ub9c1, \\uc794\\uc794\\ud55c, \\uc124\\ub818, \\uc0b0\\ucc45, \\ub4dc\\ub77c\\uc774\\ube0c, \\uce74\\ud398, \\ucd94\\uc5b5, \\ud68c\\uc0c1, \\ube44, \\uc8fc\\ub9d0, \\uc6b0\\uc6b8\",\"['\\uc6b0\\uc6b8\\ud55c']\"],[\"Rise And Shine\",\"Deorro\",\"\\ud074\\ub7fd, \\uc2a4\\ud2b8\\ub808\\uc2a4, \\ub4dc\\ub77c\\uc774\\ube0c, \\uae30\\ubd84\\uc804\\ud658, \\uc5ec\\ub984, \\uc6b4\\ub3d9, \\uc5ec\\ud589, \\uc2e0\\ub098\\ub294\",\"['\\ud589\\ubcf5\\ud55c']\"],[\"Bus\",\"\\uc804\\uc9c0\\uc724 (JENYER)\",\"\\ub304\\uc2a4\",\"['\\uacbd\\ucf8c\\ud55c']\"],[\"Jo\",\"Goldfrapp\",\"\\uc794\\uc794\\ud55c, \\uc124\\ub818, \\uc0ac\\ub791, \\ucc28\\ubd84\\ud55c, \\uaca8\\uc6b8, \\ub098\\ub978\\ud55c, \\uac10\\uc131\\uc801\\uc778, \\ud3b8\\uc548\\ud55c, \\uac00\\uc744\",\"['\\ud589\\ubcf5\\ud55c', '\\uc794\\uc794\\ud55c']\"],[\"\\ud6c4\\ud68c\\ud558\\uace0 \\uc788\\ub294\\uac70\\uc57c (Remake)\",\"\\uc724\\ud654\\uc7ac\\uc778\",\"\\uc800\\ub141, \\uc124\\ub808\\uc784, \\uae30\\uc5b5, \\ucd94\\uc5b5, \\ud68c\\uc0c1\",\"['\\uc794\\uc794\\ud55c']\"],[\"\\uc2e0\\ub370\\ub810\\ub77c\\uc640 \\uc655\\uc790\\uc758 \\uc0ac\\ub791\\ub178\\ub798\",\"\\uadf9\\ub2e8 \\uc6d0\\uacf5\",\"\\ubba4\\uc9c0\\uceec\",\"['\\uacbd\\ucf8c\\ud55c']\"],[\"\\uc0ac\\ub791\\uc544\",\"\\uc641\\uc2a4\",\"\\uc2ac\\ud514, \\ucd94\\uc5b5, \\uc774\\ubcc4, \\ud68c\\uc0c1, \\uc194\\ub85c, \\ubc24, \\uc0ac\\ub791, \\uc0c8\\ubcbd, \\ube44\\uc624\\ub294\\ub0a0, \\ub208\\ubb3c, \\uae30\\uc5b5, \\uc6b0\\uc6b8, \\ud5e4\\uc5b4\\uc9d0\",\"['\\uc6b0\\uc6b8\\ud55c']\"],[\"\\uc791\\uc740\\ubcc4 Remix (Heenain Ver.)\",\"\\ud33b\\ub450, heenain \\ud788\\ub098\\uc778\",\"\\uc124\\ub818, \\uc0ac\\ub791, \\ucd94\\uc5b5\",\"['\\ud589\\ubcf5\\ud55c']\"],[\"\\ud750\\ub838\\ub2e4 \\uac2c\",\"\\uc1fc\\uae30\",\"\\uc124\\ub818, \\uc0ac\\ub791, \\ubc24, \\uc794\\uc794\\ud55c, \\uacf5\\ubd80\",\"['\\ud589\\ubcf5\\ud55c', '\\uc794\\uc794\\ud55c']\"],[\"Freedom (Edit) (Feat. Jack McManus)\",\"Afrojack, D-wayne\",\"\\uc6b4\\ub3d9, \\uae30\\ubd84\\uc804\\ud658, \\uc2a4\\ud2b8\\ub808\\uc2a4, \\ud074\\ub7fd, \\ub4dc\\ub77c\\uc774\\ube0c, \\ubabd\\ud658, \\ud765, \\uacbd\\ucf8c\\ud55c, \\ub0b4\\uc801\\ub304\\uc2a4, \\uc2e0\\ub098\\ub294\",\"['\\uae34\\uc7a5\\ub418\\ub294']\"],[\"\\uc9c0\\uae08 \\uc804\\ud654\\ud574\\uc694 (With \\uc774\\ud5a5\\uc720)\",\"\\ud1a0\\ub9ac\\ub178\",\"\\ubc24, \\uc0c8\\ubcbd, \\uadf8\\ub9ac\\uc6c0, \\uc2ac\\ud514, \\uc774\\ubcc4\",\"['\\uc6b0\\uc6b8\\ud55c']\"],[\"\\ube14\\ub77c\\ub514\\ubcf4\\uc2a4\\ud1a1\\uc758 \\ubd04\\ub178\\ub798\",\"\\ubc15\\uc6a9\\uc804\",\"\\ubd04\",\"['\\ud589\\ubcf5\\ud55c']\"],[\"\\uc138\\uc6d4\\uc774 \\ud758\\ub7ec\",\"\\ucc28\\uc9c0\\uc5f0\",\"\\ud734\\uc2dd, \\ud790\\ub9c1, \\ubba4\\uc9c0\\uceec, \\uae4c\\ud398, \\uc794\\uc794\\ud55c, \\uae30\\ubd84\\uc804\\ud658, \\uc0c8\\ubcbd, \\uac00\\uc744, \\ub4dc\\ub77c\\uc774\\ube0c, \\uc2a4\\ud2b8\\ub808\\uc2a4, \\uc2e0\\ub098\\ub294, \\uc0ac\\ub791\",\"['\\uacbd\\ucf8c\\ud55c']\"],[\"\\uac00\\uc744 \\uc5d4\\ub529\",\"\\ub9ac\\ubbf8\\ud2b8\",\"\\ub304\\uc2a4, \\ub178\\ub3d9\\uc694, \\uc2e0\\ub098\\ub294\",\"['\\uacbd\\ucf8c\\ud55c', '\\uae34\\uc7a5\\ub418\\ub294', '\\ud589\\ubcf5\\ud55c']\"],[\"8:45 Heaven\",\"\\ub4dc\\ub801\\ud070 \\ud0c0\\uc774\\uac70\",\"\\ub208\\ubb3c, \\ucd94\\uc5b5, \\uc0c8\\ubcbd, \\ubc24, \\ud68c\\uc0c1, \\ud790\\ub9c1, \\ud734\\uc2dd, \\uc2ac\\ud514, \\uc774\\ubcc4, \\uae30\\ubd84\\uc804\\ud658, \\uacf5\\uac10, \\uc704\\ub85c, \\ud63c\\uc220, \\uc5ec\\ub984, \\uac00\\uc744, \\uc0b0\\ucc45, \\uc5ec\\ud589, \\uc800\\ub141, \\uce74\\ud398, \\ud3b8\\uc548\\ud55c, \\ube44\\uc624\\ub294\\ub0a0, \\uc7a5\\ub9c8, \\uc6b0\\uc6b8, \\uc13c\\uce58, \\ub4dc\\ub77c\\uc774\\ube0c, \\ud765, \\uaca8\\uc6b8, \\uc2a4\\ud2b8\\ub808\\uc2a4, \\ud734\\uac00, \\ub304\\uc2a4, \\ubd88\\uae08, \\ud1f4\\uadfc\\uae38, \\uc124\\ub818, \\uc0ac\\ub791, \\ud5e4\\uc5b4\\uc9d0, \\ud1f4\\ud3d0, \\uc2e0\\ub098\\ub294, \\uc870\\uc6a9\\ud55c, \\ube44, \\ub808\\ud2b8\\ub85c, \\uc6b0\\uc6b8\\ud560\\ub54c, \\uc794\\uc794\\ud55c, \\uc0c8\\ubcbd\\uac10\\uc131, \\uac10\\uc218\\uc131, \\uc990\\uac70\\uc6b4, \\ucd94\\uc5b5\\ud68c\\uc0c1, \\uc5ec\\ub984\\ubc24, \\ubd04, \\ub178\\ub3d9\\uc694, \\uc791\\uc5c5\",\"['\\ud589\\ubcf5\\ud55c']\"],[\"\\ub2e4\\uc774\\ube59\",\"\\ube44\\ubc84 (Beaver)\",\"\\uc794\\uc794\\ud55c, \\ubc24, \\uc0c8\\ubcbd, \\ubd84\\uc704\\uae30, \\ubabd\\ud658, \\ud734\\uc2dd, \\ud790\\ub9c1, \\uae4c\\ud398\",\"['\\uc794\\uc794\\ud55c']\"],[\"Must Say Good-Bye\",\"\\uae40\\ud604\\ucca0\",\"\\uc6b0\\uc6b8, \\uc0c8\\ubcbd, \\uc678\\ub85c\\uc6c0, \\uc2ac\\ud514, \\uc774\\ubcc4, \\uce74\\ud398, \\uc794\\uc794\\ud55c, \\uc624\\ud6c4, \\ucc28\\ubd84\\ud55c, \\ub4dc\\ub77c\\uc774\\ube0c, \\uc7a0\\ub4e4\\uae30\\uc804, \\uae30\\ubd84\\uc804\\ud658, \\ud3b8\\uc548\\ud55c, \\ucd94\\uc5b5\\ud68c\\uc0c1, \\uae4c\\ud398, \\ube44\\uc624\\ub294\\ub0a0, \\ube44, \\uc124\\ub818, \\uc0ac\\ub791, \\ucd94\\uc5b5, \\ud68c\\uc0c1, \\ub85c\\ub9e8\\ud2f1, \\ub178\\ub3d9\\uc694, \\uac00\\uc744, \\ud734\\uc2dd, \\ud790\\ub9c1, \\uadf8\\ub9ac\\uc6c0, \\uac10\\ub3d9, \\ub304\\uc2a4, \\uc6b4\\ub3d9\",\"['\\ud589\\ubcf5\\ud55c']\"],[\"Give Me Your Love (Feat. John Newman & Nile Rodgers)\",\"Sigala\",\"\\uae30\\ubd84\\uc804\\ud658, \\uae4c\\ud398, \\uc2a4\\ud2b8\\ub808\\uc2a4, \\ud30c\\ud2f0, \\ub304\\uc2a4, \\ud074\\ub7fd, \\uae08\\uc694\\uc77c, \\uc9d1\\uc911, \\uac00\\uc744\\uac10\\uc131, \\ucd9c\\uadfc\\uae38, \\uc544\\uce68, \\uc6d4\\uc694\\ubcd1, \\ucd94\\uc5b5, \\uc6b4\\ub3d9, \\uc2e0\\ub098\\ub294, \\ud38d, \\ubd88\\uae08, \\uc794\\uc794\\ud55c, \\uc5ec\\ud589, \\ud790\\ub9c1, \\ud734\\uc2dd, \\ub4dc\\ub77c\\uc774\\ube0c, \\uc6b4\\ub3d9\\ud560\\ub54c, \\uc5ec\\ub984, \\ud398\\uc2a4\\ud2f0\\ubc8c, \\uc8fc\\ub9d0, \\ud765\\ud3ed\\ubc1c\",\"['\\ud589\\ubcf5\\ud55c']\"],[\"I Did It For Love (Feat. Sean Garrett)\",\"\\ubcf4\\uc544 (BoA)\",\"\\ub304\\uc2a4, \\uc124\\ub818, \\uc0ac\\ub791, \\uc194\\ub85c\",\"['\\ud589\\ubcf5\\ud55c']\"],[\"Where Is My Love\",\"\\uc2a4\\ud2f0 (STi)\",\"\\ud734\\uc2dd, \\ud790\\ub9c1, \\uae4c\\ud398, \\uc2ac\\ud514, \\uc774\\ubcc4, \\uae30\\ubd84\\uc804\\ud658\",\"['\\uc794\\uc794\\ud55c', '\\ud589\\ubcf5\\ud55c']\"],[\"Gasoline\",\"Troye Sivan\",\"\\uc7a0, \\uc794\\uc794\\ud55c, \\uc0c8\\ubcbd, \\ube44\\uc624\\ub294\\ub0a0, \\uac00\\uc744\\ube44, \\uac10\\uc131\\uc790\\uadf9, \\uc0c8\\ubcbd\\uac10\\uc131, \\uc13c\\uce58, \\ud63c\\uc790\\uc788\\uc744\\ub54c, \\ud790\\ub9c1, \\ud734\\uc2dd, \\uae30\\ubd84\\uc804\\ud658, \\uc0ac\\ub791, \\uc774\\ubcc4, \\ub4dc\\ub77c\\uc774\\ube0c, \\ubc24, \\uaca8\\uc6b8, \\ubd84\\uc704\\uae30, \\uc5ec\\ud589, \\uce74\\ud398, \\ubd04, \\uc870\\uc6a9\\ud55c, \\uac10\\uc131\\uc801\\uc778, \\ud38d, \\ubabd\\ud658, \\uc6b0\\uc6b8, \\ucc28\\ubd84\\ud55c, \\uadf8\\ub9ac\\uc6c0, \\uc7a0\\ub4e4\\uae30\\uc804, \\uc790\\uc7a5\\uac00, \\ud63c\\uc220, \\ud1f4\\uadfc\\uae38, \\ud074\\ub7fd, \\ucd94\\uc5b5, \\ud68c\\uc0c1, \\uccad\\ub7c9, \\uc704\\ub85c, \\uc2a4\\ud2b8\\ub808\\uc2a4, \\uc5ec\\ub984, \\uc5f4\\ub300\\uc57c, \\uae4c\\ud398, \\uc0b0\\ucc45, \\ud589\\ubcf5, \\uc2e0\\ub098\\ub294, \\ud654\\uc774\\ud305, \\uc5f0\\ub9d0, \\uc7a0\\uc798\\ub54c, \\uac10\\ubbf8\\ub85c\\uc6b4, \\ud06c\\ub9ac\\uc2a4\\ub9c8\\uc2a4, \\uc800\\ub141, \\uc624\\ud6c4, \\ub3c5\\uc11c\",\"['\\uc6b0\\uc6b8\\ud55c']\"],[\"Sweet Words\",\"HYDN\",\"\\ubc34\\ub4dc, \\uc794\\uc794\\ud55c, \\ubc24, \\uc0c8\\ubcbd, \\ubd84\\uc704\\uae30, \\uaca8\\uc6b8\\ubc24\",\"['\\uc794\\uc794\\ud55c']\"],[\"\\ube14\\ub8e8\\uc9c4\",\"\\ub514\\uc5b4\\ud074\\ub77c\\uc6b0\\ub4dc\",\"\\uc5ec\\ub984, \\uc2a4\\ud2b8\\ub808\\uc2a4, \\uae30\\ubd84\\uc804\\ud658, \\ud398\\uc2a4\\ud2f0\\ubc8c, \\uce74\\ud398, \\uc8fc\\ub9d0, \\uc794\\uc794\\ud55c, \\uc704\\ub85c, \\ud734\\uc2dd, \\ub530\\ub73b\\ud55c, \\ud558\\ub8e8, \\uc0c8\\ubcbd, \\uc77c\\uc0c1, \\ud1f4\\uadfc\\uae38, \\ud790\\ub9c1, \\ub4dc\\ub77c\\uc774\\ube0c, \\ubc34\\ub4dc, \\ubc24, \\ubabd\\ud658, \\uc7a0\\ub4e4\\uae30\\uc804, \\ubc14\\ub2e4, \\ud1f4\\uadfc, \\ube44\\uc624\\ub294\\ub0a0, \\ucd94\\uc5b5, \\uc5f4\\ub300\\uc57c, \\uc9d1, \\uc791\\uc5c5, \\uc0ac\\ub791, \\uc774\\ubcc4, \\ud55c\\uac15, \\uce5c\\uad6c, \\uc751\\uc6d0, \\uc6b0\\uc6b8, \\uc2ac\\ud514, \\ud654\\uc774\\ud305, \\uc544\\uce68, \\uc2dc\\uc791, \\ucd9c\\uadfc, \\uc6d4\\uc694\\ubcd1, \\uc2e0\\ub098\\ub294, \\ud3b8\\uc548\\ud55c, \\uaca8\\uc6b8, \\ubd04, \\uac00\\uc744, \\ud589\\ubcf5, \\uc5ec\\ud589, \\uc0b0\\ucc45, \\uc794\\uc794, \\ubd84\\uc704\\uae30, \\ucee4\\ud53c, \\uc720\\ub2c8\\ud06c, \\uac10\\uc131\\uc801\\uc778, \\ud1a0\\ub2e5\\ud1a0\\ub2e5, \\uc2dc\\uc6d0\\ud55c, \\ud574\\ubcc0, \\ud734\\uac00, \\uccad\\ub7c9\\ud55c, \\uac00\\uc744\\ubc24, \\uac00\\uc744\\ube44, \\ud06c\\ub9ac\\uc2a4\\ub9c8\\uc2a4\",\"['\\ud589\\ubcf5\\ud55c']\"],[\"Plane\",\"Jason Mraz\",\"\\uace0\\ub3c5, \\uc2ac\\ud514, \\uadf8\\ub9ac\\uc6c0, \\uc4f8\\uc4f8, \\uc774\\ubcc4, \\uc0c8\\ubcbd, \\ucd94\\uc5b5, \\ubc24, \\ud68c\\uc0c1, \\ud790\\ub9c1, \\ud734\\uc2dd, \\uae4c\\ud398, \\uc794\\uc794\\ud55c, \\ub208\\ubb3c, \\uc6b0\\uc6b8, \\uc4f8\\uc4f8\\ud568, \\uc678\\ub85c\\uc6c0, \\uc5ec\\ud589\",\"['\\uc6b0\\uc6b8\\ud55c']\"],[\"\\uc5f4\\uc560\\uc911\",\"\\ubca4\",\"\\ud790\\ub9c1, \\ud734\\uc2dd, \\uc794\\uc794\\ud55c, \\ub304\\uc2a4, \\uc0c8\\ubcbd, \\uc2ac\\ud514, \\uc124\\ub818, \\uc0ac\\ub791, \\uc544\\ud514, \\uc774\\ubcc4, \\ud587\\uc0b4, \\ubd04, \\uc624\\ud6c4, \\ucd94\\uc5b5, \\uadf8\\ub9ac\\uc6c0, \\uc4f8\\uc4f8\\ud55c, \\ub4dc\\ub77c\\uc774\\ube0c, \\uae30\\ubd84\\uc804\\ud658, \\uc8fc\\ub9d0, \\uc678\\ub85c\\uc6c0, \\uac00\\uc744\\uac10\\uc131, \\ub099\\uc5fd, \\uaca8\\uc6b8, \\uc5f0\\ub9d0, \\uac00\\uc744, \\uc5ec\\ud589, \\ucd9c\\uadfc\\uae38, \\ud1f4\\uadfc\\uae38, \\ube44\\uc624\\ub294\\ub0a0, \\uc800\\ub141, \\ubc24, \\ud68c\\uc0c1, \\uce74\\ud398, \\uc0c8\\ubcbd\\uac10\\uc131, \\uc4f8\\uc4f8\\ud568, \\uc2a4\\ud2b8\\ub808\\uc2a4, \\ubd84\\uc704\\uae30, \\ub178\\ub3d9\\uc694, \\ucee4\\ud53c, \\uc0b0\\ucc45, \\ub530\\ub73b\\ud55c, \\ub530\\ub4ef\\ud55c, \\uaca8\\uc6b8\\uac10\\uc131, \\ud06c\\ub9ac\\uc2a4\\ub9c8\\uc2a4, \\ud3b8\\uc548\\ud55c, \\ud55c\\uac15, \\ub370\\uc774\\ud2b8, \\uc5ec\\ub984, \\ub208\\ubb3c, \\uc5f0\\uc778, \\ub9ac\\ub4dc\\ubbf8\\uceec, \\ube44, \\uc9d1, \\ub9e5\\uc8fc, \\uc5f0\\uc560, \\uc13c\\uce58\\ud55c, \\uc5ec\\uc720, \\ucee4\\ud53c\\uc20d, \\uc120\\uc120\\ud55c, \\ud558\\ub8e8, \\ud1f4\\uadfc, \\uc6b0\\uc6b8, \\ud6c4\\ud68c, \\ud5e4\\uc5b4\\uc9d0, \\uc194\\ub85c, \\uc2e0\\ub098\\ub294, \\uc13c\\uce58, \\uc704\\ub85c, \\uc544\\uce68, \\uc4f8\\uc4f8, \\ucd94\\uc5b5\\ud68c\\uc0c1, \\uc7a5\\ub9c8, \\uc5ec\\ub984\\ubc24, \\ub208\\uc624\\ub294\\ub0a0, \\uc220, \\uc378, \\ub098\\ub978\\ud55c, \\uc870\\uc6a9\\ud55c, \\uac10\\uc131\\uc801\\uc778, \\ud750\\ub9b0\\ub0a0, \\uac10\\uc218\\uc131, \\uc560\\uc808\\ud55c, \\uae4c\\ud398, \\uc7a0\\ub4e4\\uae30\\uc804, \\ubd04\\ub178\\ub798, \\uac10\\ubbf8\\ub85c\\uc6b4, \\uafc0\\uc7a0, \\ub9c8\\uc74c, \\uaca8\\uc6b8\\ubc24, \\ucee4\\ud50c, \\ud398\\uc2a4\\ud2f0\\ubc8c, \\uc6d4\\uc694\\ubcd1, \\ud63c\\uc220, \\ucd9c\\uadfc, \\ub2a6\\uc740\\ubc24, \\ucc2c\\ubc14\\ub78c, \\uc9d1\\uc911, \\ubd88\\uae08, \\uc2ac\\ud508, \\uac00\\uc744\\ubc24, \\uacf5\\ubd80, \\ub2ec\\ub2ec, \\uc9dd\\uc0ac\\ub791, \\uace0\\ubc31, \\uacf5\\uac10, \\uc990\\uac70\\uc6b4, \\uc790\\uae30\\uc804\\uc5d0, \\ub530\\uc2a4\\ud55c, \\ud3ec\\uadfc\\ud55c, \\uc2a4\\ud2b8\\ub808\\uc2a4\\ud574\\uc18c, \\ud3b8\\uc548\\ud568, \\ub208, \\uc2dc\\uc6d0\\ud55c, \\uae30\\uc5b5, \\ub3c5\\uc11c, \\uc124\\ub808\\uc784, \\uc544\\ub828\\ud55c, \\uc6b0\\uc6b8\\ud560\\ub54c, \\ud799\\ud55c, \\uc77c\\uc0c1, \\uae30\\ubd84\\uc88b\\uc740, \\uc0c8\\ud574, \\uc6d4\\uc694\\uc77c, \\uce5c\\uad6c, \\uce58\\uc720, \\ubd04\\ube44, \\uae08\\uc694\\uc77c, \\uc6b4\\ub3d9, \\uacf5\\ubd80\\ud560\\ub54c, \\uac10\\uc131\\uc790\\uadf9, \\uc6b0\\uc6b8\\ud55c, \\ubd81\\uce74\\ud398, \\uc0ac\\uc0c9, \\uc7a0\",\"['\\uc6b0\\uc6b8\\ud55c']\"],[\"Lovin Ice Cream\",\"\\uc560\\uc988\\uc6d0, \\uc774\\uc9c0\\ub77c\\uc774\\ud504\",\"\\ud734\\uc2dd, \\ud790\\ub9c1, \\uc124\\ub818, \\uc0ac\\ub791, \\uac00\\uc744, \\ube44\\uc624\\ub294\\ub0a0, \\uc5f0\\uc778, \\uc2ac\\ud514, \\uc774\\ubcc4, \\uae30\\ubd84\\uc804\\ud658, \\uc2dc\\uc6d0\\ud55c, \\ud3b8\\uc548\\ud55c, \\uc2e0\\ub098\\ub294, \\ucd94\\uc5b5, \\ud68c\\uc0c1\",\"['\\ud589\\ubcf5\\ud55c']\"],[\"\\ubc9a\\uaf43\\uc774 \\ud53c\\uba74\",\"\\uc720\\ud615\\uade0\",\"\\uce74\\ud398, \\ubc9a\\uaf43, \\uae30\\ubd84\\uc804\\ud658\",\"['\\ud589\\ubcf5\\ud55c']\"],[\"Don`t act\",\"\\uc7a5\\uc6b0\\uc601\",\"\\uaca8\\uc6b8, \\uc794\\uc794\\ud55c, \\ucd94\\uc5b5, \\ub4dc\\ub77c\\uc774\\ube0c, \\uc704\\ub85c, \\uae30\\ubd84\\uc804\\ud658, \\uc0ac\\ub791\",\"['\\ud589\\ubcf5\\ud55c']\"],[\"\\ub09c \\uc88b\\uc544\",\"god\",\"\\ub4dc\\ub77c\\uc774\\ube0c, \\uc124\\ub818, \\uc0ac\\ub791, \\ucd94\\uc5b5, \\ud68c\\uc0c1, \\ud790\\ub9c1, \\ud734\\uc2dd, \\ub304\\uc2a4, \\uc2a4\\ud2b8\\ub808\\uc2a4, \\uc5ec\\ud589, \\uc0b0\\ucc45, \\ub2ec\\ub2ec, \\uc5f0\\uc560, \\uae30\\ubd84\\uc804\\ud658, \\uac00\\uc744, \\ubd04, \\uae4c\\ud398, \\ud76c\\ub9dd, \\uac10\\ub3d9, \\uc2e0\\ub098\\ub294, \\ubc24, \\uc0c8\\ubcbd, \\uc0c1\\ucf8c\\ud55c, \\ube44\\uc624\\ub294\\ub0a0, \\uc2ac\\ud508\",\"['\\ud589\\ubcf5\\ud55c']\"],[\"\\uce74\\ud478\\uce58\\ub178 (Cappuccino)\",\"BGM4\",\"\\ud790\\ub9c1, \\ucd94\\uc5b5, \\ud734\\uc2dd, \\ud68c\\uc0c1\",\"['\\ud589\\ubcf5\\ud55c', '\\uc794\\uc794\\ud55c']\"],[\"Feel So Good\",\"\\ud06c\\ub098\\ud070\",\"\\uc5ec\\ub984\",\"['\\uacbd\\ucf8c\\ud55c']\"],[\"Karma (Feat. \\uc0c1\\ubbfc)\",\"\\uc6a9\\uc11d\",\"\\uc2e0\\ub098\\ub294, \\uae30\\ubd84\\uc804\\ud658, \\uac00\\uc744, \\ub4dc\\ub77c\\uc774\\ube0c, \\ubd04, \\ub304\\uc2a4\",\"['\\ud589\\ubcf5\\ud55c']\"],[\"Shame (Live At The Mac)\",\"Ciaran Lavery\",\"\\uc13c\\uce58\",\"['\\uc6b0\\uc6b8\\ud55c']\"],[\"Triumph (Explicit Ver.) (Feat. Cappadonna)\",\"Wu-Tang Clan\",\"\\ud074\\ub7fd, \\ubd84\\uc704\\uae30, \\ud38d, \\uc2e0\\ub098\\ub294\",\"['\\uacbd\\ucf8c\\ud55c']\"],[\"Live\",\"\\uce74\\ub77c\",\"\\ub304\\uc2a4, \\ub178\\ub3d9\\uc694, \\ubc24, \\uac00\\uc744, \\uc0c8\\ubcbd, \\uc704\\ub85c, \\ud790\\ub9c1, \\uae30\\ubd84\\uc804\\ud658, \\uae4c\\ud398, \\ucd94\\uc5b5, \\ud68c\\uc0c1, \\uc2ac\\ud514, \\uc774\\ubcc4, \\ud734\\uc2dd, \\uc2a4\\ud2b8\\ub808\\uc2a4, \\uc2e0\\ub098\\ub294, \\ub370\\uc774\\ud2b8, \\ubd04, \\uc124\\ub818, \\uc0ac\\ub791\",\"['\\uacbd\\ucf8c\\ud55c', '\\ud589\\ubcf5\\ud55c']\"],[\"Live\",\"\\uce74\\ub77c\",\"\\ub304\\uc2a4, \\ub178\\ub3d9\\uc694, \\ubc24, \\uac00\\uc744, \\uc0c8\\ubcbd, \\uc704\\ub85c, \\ud790\\ub9c1, \\uae30\\ubd84\\uc804\\ud658, \\uae4c\\ud398, \\ucd94\\uc5b5, \\ud68c\\uc0c1, \\uc2ac\\ud514, \\uc774\\ubcc4, \\ud734\\uc2dd, \\uc2a4\\ud2b8\\ub808\\uc2a4, \\uc2e0\\ub098\\ub294, \\ub370\\uc774\\ud2b8, \\ubd04, \\uc124\\ub818, \\uc0ac\\ub791\",\"['\\uacbd\\ucf8c\\ud55c', '\\ud589\\ubcf5\\ud55c']\"],[\"Live\",\"\\uce74\\ub77c\",\"\\ub304\\uc2a4, \\ub178\\ub3d9\\uc694, \\ubc24, \\uac00\\uc744, \\uc0c8\\ubcbd, \\uc704\\ub85c, \\ud790\\ub9c1, \\uae30\\ubd84\\uc804\\ud658, \\uae4c\\ud398, \\ucd94\\uc5b5, \\ud68c\\uc0c1, \\uc2ac\\ud514, \\uc774\\ubcc4, \\ud734\\uc2dd, \\uc2a4\\ud2b8\\ub808\\uc2a4, \\uc2e0\\ub098\\ub294, \\ub370\\uc774\\ud2b8, \\ubd04, \\uc124\\ub818, \\uc0ac\\ub791\",\"['\\uacbd\\ucf8c\\ud55c', '\\ud589\\ubcf5\\ud55c']\"],[\"Live\",\"\\uce74\\ub77c\",\"\\ub304\\uc2a4, \\ub178\\ub3d9\\uc694, \\ubc24, \\uac00\\uc744, \\uc0c8\\ubcbd, \\uc704\\ub85c, \\ud790\\ub9c1, \\uae30\\ubd84\\uc804\\ud658, \\uae4c\\ud398, \\ucd94\\uc5b5, \\ud68c\\uc0c1, \\uc2ac\\ud514, \\uc774\\ubcc4, \\ud734\\uc2dd, \\uc2a4\\ud2b8\\ub808\\uc2a4, \\uc2e0\\ub098\\ub294, \\ub370\\uc774\\ud2b8, \\ubd04, \\uc124\\ub818, \\uc0ac\\ub791\",\"['\\uacbd\\ucf8c\\ud55c', '\\ud589\\ubcf5\\ud55c']\"],[\"Live\",\"\\uce74\\ub77c\",\"\\ub304\\uc2a4, \\ub178\\ub3d9\\uc694, \\ubc24, \\uac00\\uc744, \\uc0c8\\ubcbd, \\uc704\\ub85c, \\ud790\\ub9c1, \\uae30\\ubd84\\uc804\\ud658, \\uae4c\\ud398, \\ucd94\\uc5b5, \\ud68c\\uc0c1, \\uc2ac\\ud514, \\uc774\\ubcc4, \\ud734\\uc2dd, \\uc2a4\\ud2b8\\ub808\\uc2a4, \\uc2e0\\ub098\\ub294, \\ub370\\uc774\\ud2b8, \\ubd04, \\uc124\\ub818, \\uc0ac\\ub791\",\"['\\uacbd\\ucf8c\\ud55c', '\\ud589\\ubcf5\\ud55c']\"],[\"Live\",\"\\uce74\\ub77c\",\"\\ub304\\uc2a4, \\ub178\\ub3d9\\uc694, \\ubc24, \\uac00\\uc744, \\uc0c8\\ubcbd, \\uc704\\ub85c, \\ud790\\ub9c1, \\uae30\\ubd84\\uc804\\ud658, \\uae4c\\ud398, \\ucd94\\uc5b5, \\ud68c\\uc0c1, \\uc2ac\\ud514, \\uc774\\ubcc4, \\ud734\\uc2dd, \\uc2a4\\ud2b8\\ub808\\uc2a4, \\uc2e0\\ub098\\ub294, \\ub370\\uc774\\ud2b8, \\ubd04, \\uc124\\ub818, \\uc0ac\\ub791\",\"['\\uacbd\\ucf8c\\ud55c', '\\ud589\\ubcf5\\ud55c']\"],[\"Live\",\"\\uce74\\ub77c\",\"\\ub304\\uc2a4, \\ub178\\ub3d9\\uc694, \\ubc24, \\uac00\\uc744, \\uc0c8\\ubcbd, \\uc704\\ub85c, \\ud790\\ub9c1, \\uae30\\ubd84\\uc804\\ud658, \\uae4c\\ud398, \\ucd94\\uc5b5, \\ud68c\\uc0c1, \\uc2ac\\ud514, \\uc774\\ubcc4, \\ud734\\uc2dd, \\uc2a4\\ud2b8\\ub808\\uc2a4, \\uc2e0\\ub098\\ub294, \\ub370\\uc774\\ud2b8, \\ubd04, \\uc124\\ub818, \\uc0ac\\ub791\",\"['\\uacbd\\ucf8c\\ud55c', '\\ud589\\ubcf5\\ud55c']\"],[\"Live\",\"\\uce74\\ub77c\",\"\\ub304\\uc2a4, \\ub178\\ub3d9\\uc694, \\ubc24, \\uac00\\uc744, \\uc0c8\\ubcbd, \\uc704\\ub85c, \\ud790\\ub9c1, \\uae30\\ubd84\\uc804\\ud658, \\uae4c\\ud398, \\ucd94\\uc5b5, \\ud68c\\uc0c1, \\uc2ac\\ud514, \\uc774\\ubcc4, \\ud734\\uc2dd, \\uc2a4\\ud2b8\\ub808\\uc2a4, \\uc2e0\\ub098\\ub294, \\ub370\\uc774\\ud2b8, \\ubd04, \\uc124\\ub818, \\uc0ac\\ub791\",\"['\\uacbd\\ucf8c\\ud55c', '\\ud589\\ubcf5\\ud55c']\"],[\"\\uadf8\\ub9ac\\uc6c0\\uc774 \\ub2ff\\ub294 \\uacf3\\uc5d0\",\"\\uc778\\ud53c\\ub2c8\\ud2b8\",\"\\ub304\\uc2a4, \\uc5ec\\ud589, \\uae4c\\ud398, \\uc0b0\\ucc45, \\ud790\\ub9c1, \\ud734\\uc2dd, \\ucd94\\uc5b5, \\ud68c\\uc0c1, \\uc794\\uc794\\ud55c, \\ubd04\\ube44, \\ube44, \\uc2ac\\ud514, \\uc774\\ubcc4, \\uc124\\ub818, \\uc0ac\\ub791, \\uae30\\ubd84\\uc804\\ud658, \\uac00\\uc744, \\ubc24, \\uc0c8\\ubcbd, \\ube44\\uc624\\ub294\\ub0a0, \\uaca8\\uc6b8, \\uc6b4\\ub3d9, \\uc2e0\\ub098\\ub294, \\uc9dd\\uc0ac\\ub791, \\ucd9c\\uadfc\\uae38, \\uac10\\uc131\\uc790\\uadf9, \\uce74\\ud398, \\ub4dc\\ub77c\\uc774\\ube0c, \\uc0c8\\ubcbd\\uac10\\uc131, \\uc6b0\\uc6b8, \\uc704\\ub85c, \\uc790\\uae30\\uc804\\uc5d0, \\ubd84\\uc704\\uae30, \\ub9c8\\uc74c, \\ucd94\\uc5b5\\ud68c\\uc0c1, \\uadf8\\ub9ac\\uc6c0, \\uc544\\uce68, \\ub2ec\\ub2ec, \\uc790\\uae30\\uc804, \\uc5ec\\uc720\\ub85c\\uc6b4, \\ubd88\\uae08, \\ud798\\ub0b4, \\ub178\\ub3d9\\uc694, \\uc6d4\\uc694\\uc77c, \\uc2a4\\ud2b8\\ub808\\uc2a4, \\uc2dc\\uc791, \\uc77c\\uc0c1, \\uc9c0\\uce5c, \\uaca8\\uc6b8\\ubc24, \\uc5ec\\ub984, \\uac00\\uc744\\uac10\\uc131, \\uc544\\ud514\",\"['\\ud589\\ubcf5\\ud55c']\"],[\"Mojito (Feat.\\ud558\\ub298)\",\"\\ud558\\uc6b0\\uc2a4\\ub8f0\\uc988 (House Rulez)\",\"\\uc2a4\\ud2b8\\ub808\\uc2a4, \\uce74\\ud398, \\uc8fc\\ub9d0, \\ud734\\uc2dd, \\uae30\\ubd84\\uc804\\ud658, \\ud587\\uc0b4, \\ud790\\ub9c1, \\uc5ec\\ud589, \\ub4dc\\ub77c\\uc774\\ube0c, \\uc0b0\\ucc45, \\uc124\\ub818, \\uc0ac\\ub791, \\ubc24, \\uc0c8\\ubcbd, \\uae4c\\ud398, \\uc6b4\\ub3d9\",\"['\\ud589\\ubcf5\\ud55c']\"],[\"Maybe Baby (New Year`s Day)\",\"Sugarland\",\"\\ud790\\ub9c1, \\ud734\\uc2dd, \\uae30\\ubd84\\uc804\\ud658\",\"['\\ud589\\ubcf5\\ud55c']\"],[\"The One\",\"SS501\",\"\\ucd94\\uc5b5, \\uae30\\ubd84\\uc804\\ud658, \\ud68c\\uc0c1, \\uc6b4\\ub3d9, \\ub304\\uc2a4\",\"['\\ud589\\ubcf5\\ud55c']\"],[\"The Moment\",\"Kenny G\",\"\\ucd94\\uc5b5, \\ud68c\\uc0c1, \\uc8fc\\ub9d0, \\uc5f0\\uc778, \\ub370\\uc774\\ud2b8, \\uae08\\uc694\\uc77c\",\"['\\ud589\\ubcf5\\ud55c']\"],[\"Quicksand\",\"Caro Emerald\",\"\\ucd94\\uc5b5, \\ud68c\\uc0c1, \\uc5ec\\ub984, \\uc544\\ub984\\ub2e4\\uc6b4, \\ud790\\ub9c1, \\ud734\\uc2dd, \\uac00\\uc744, \\ubc24, \\uce74\\ud398, \\ubd84\\uc704\\uae30, \\ub4dc\\ub77c\\uc774\\ube0c, \\uc5ec\\ud589, \\ube44\\uc624\\ub294\\ub0a0, \\uae4c\\ud398, \\ub304\\uc2a4\",\"['\\uc794\\uc794\\ud55c']\"],[\"One More Time\",\"\\ub808\\uc778\\ubcf4\\uc6b0\",\"\\uc5ec\\ud589, \\uae30\\ubd84\\uc804\\ud658, \\uc0b0\\ucc45, \\ub2ec\\ub2ec\\ud55c, \\uaca8\\uc6b8, \\ub304\\uc2a4, \\uc124\\ub818, \\uc0ac\\ub791\",\"['\\uc794\\uc794\\ud55c']\"],[\"HURT (\\u50b7\\u5bb3)\",\"EXO\",\"\\ucd94\\uc5b5, \\uc2a4\\ud2b8\\ub808\\uc2a4, \\ud68c\\uc0c1, \\uae30\\ubd84\\uc804\\ud658\",\"['\\uae34\\uc7a5\\ub418\\ub294']\"],[\"\\uc18c\\ub140\\uc2dc\\ub300 (Girls` Generation)\",\"\\uc18c\\ub140\\uc2dc\\ub300 (GIRLS` GENERATION)\",\"\\ub304\\uc2a4, \\uc6b0\\uc6b8\\ud560\\ub54c, \\ucd94\\uc5b5\\ud68c\\uc0c1, \\uc6b4\\ub3d9\\ud560\\ub54c, \\ucd94\\uc5b5, \\uae30\\ubd84\\uc804\\ud658, \\ud68c\\uc0c1, \\uc0c8\\ubcbd, \\ubc24, \\ud074\\ub7fd, \\uc6b4\\ub3d9, \\uc2e0\\ub098\\ub294, \\ub4dc\\ub77c\\uc774\\ube0c, \\ub178\\ub3d9\\uc694, \\uc5ec\\ud589, \\uc2a4\\ud2b8\\ub808\\uc2a4, \\uc794\\uc794\\ud55c, \\uc5ec\\ub984, \\uc5ec\\ub984\\ubc24, \\uc2dc\\uc6d0\\ud55c, \\ud734\\uac00, \\ud790\\ub9c1, \\ud734\\uc2dd, \\ud06c\\ub9ac\\uc2a4\\ub9c8\\uc2a4, \\uc0c1\\ud07c, \\uac00\\uc744, \\uc124\\ub818, \\uc0ac\\ub791, \\uacf5\\ubd80\\ud560\\ub54c, \\ucda4, \\ub0b4\\uc801\\ub304\\uc2a4, \\uc0b0\\ucc45, \\uc2dc\\uc6d0, \\ubc14\\ub2e4, \\ud5ec\\uc2a4, \\ub808\\ud2b8\\ub85c, \\uc2a4\\ud2b8\\ub808\\uc2a4\\ud574\\uc18c, \\ube44\\uc624\\ub294\\ub0a0, \\uce74\\ud398, \\uc624\\ud6c4, \\uc7a0, \\uc2e0\\ub098, \\uc774\\ubcc4, \\ud765\\ud3ed\\ubc1c, \\uc0c1\\ucf8c\\ud55c, \\uc678\\ucd9c, \\ub2ec\\ub2ec, \\uc6b0\\uc6b8, \\uc704\\ub85c, \\uce5c\\uad6c, \\uc6b4\\uc804, \\uc790\\uc2e0\\uac10, \\ud765, \\uccad\\ub7c9\\ud55c\",\"['\\ud589\\ubcf5\\ud55c']\"],[\"\\ubaa8\\ucc28\\ub974\\ud2b8! \\ubaa8\\ucc28\\ub974\\ud2b8!\",\"\\uc2e0\\uc601\\uc219, \\uae40\\uc2b9\\ub300, \\uc559\\uc0c1\\ube14\",\"\\ud790\\ub9c1, \\ud734\\uc2dd, \\uae30\\ubd84\\uc804\\ud658\",\"['\\ud589\\ubcf5\\ud55c']\"],[\"\\ub290\\ub08c\",\"S.E.S.\",\"\\ucd94\\uc5b5, \\uae30\\ubd84\\uc804\\ud658, \\ud68c\\uc0c1, \\ub304\\uc2a4\",\"['\\ud589\\ubcf5\\ud55c']\"],[\"\\uc774 \\uc8fd\\uc77c\\ub188\\uc758 \\uc0ac\\ub791 (\\uc774\\uc218\\uc601 7\\uc9d1)\",\"\\uc774\\uc218\\uc601\",\"\\ube44\\uc624\\ub294\\ub0a0, \\uc2ac\\ud514, \\uc774\\ubcc4, \\ucd94\\uc5b5, \\ud68c\\uc0c1, \\ubc24, \\uc0c8\\ubcbd, \\uac00\\uc744, \\ub304\\uc2a4, \\ub4dc\\ub77c\\uc774\\ube0c, \\uc794\\uc794\\ud55c, \\uc0ac\\ub791, \\uc124\\ub818, \\uc2dc\\uc791, \\ud1f4\\uadfc, \\uc800\\ub141, \\ubd84\\uc704\\uae30, \\uc2a4\\ud2b8\\ub808\\uc2a4, \\uc6b8\\uace0\\uc2f6\\uc744\\ub54c, \\ub9ac\\ub4dc\\ubbf8\\uceec, \\uae30\\uc5b5, \\ud790\\ub9c1, \\uae30\\ubd84\\uc804\\ud658, \\uaca8\\uc6b8, \\uc704\\ub85c, \\ub2a6\\uc740\\ubc24, \\ud63c\\uc790\\uc788\\uc744\\ub54c, \\ud734\\uc2dd\",\"['\\uc6b0\\uc6b8\\ud55c']\"],[\"5\\uc6d4\\uc758 \\ud587\\uc0b4\",\"\\uc378\\uba38\\ub4dc\\ub808\\uc2a4\",\"\\ube44\\uc624\\ub294\\ub0a0, \\uae4c\\ud398, \\ud790\\ub9c1, \\ud734\\uc2dd, \\uc794\\uc794\\ud55c\",\"['\\uc794\\uc794\\ud55c']\"],[\"\\ud6c4\\ud68c\",\"\\ud130\\ubcf4\",\"\\ub4dc\\ub77c\\uc774\\ube0c, \\uc5ec\\ud589, \\uae30\\ubd84\\uc804\\ud658, \\uc6b4\\uc804, \\uc2e0\\ub098\\ub294, \\ub304\\uc2a4, \\ucd94\\uc5b5, \\ud074\\ub7fd, \\uc2ac\\ud514, \\ub208\\ubb3c, \\uc0c8\\ubcbd, \\uc6b0\\uc6b8, \\uc704\\ub85c, \\uc4f8\\uc4f8, \\uc774\\ubcc4\",\"['\\uacbd\\ucf8c\\ud55c']\"],[\"Open Season\",\"High Highs\",\"\\uc0b0\\ucc45, \\uaca8\\uc6b8, \\uc794\\uc794\\ud55c\",\"['\\uc794\\uc794\\ud55c']\"],[\"\\uc6b0\\uc5f0\\ud788 \\ub9c8\\uc8fc\\uce5c \\ub2ec\",\"\\uac15\\ud0dc\\uc6b0\",\"\\uc774\\ubcc4, \\ubc34\\ub4dc\",\"['\\uc6b0\\uc6b8\\ud55c', '\\uacbd\\ucf8c\\ud55c']\"],[\"\\uadf8 \\ube5b\\uc744 \\ub530\\ub77c\\uc11c\",\"\\ub9ac\\uc0ac, \\uc774\\ucc3d\\ubbfc\",\"\\ubba4\\uc9c0\\uceec, \\uc0ac\\ub791\",\"['\\uacbd\\ucf8c\\ud55c', '\\ud589\\ubcf5\\ud55c']\"],[\"\\uace0\\uace0\\ubca0\\ubca0 (gogobebe)\",\"\\ub9c8\\ub9c8\\ubb34 (Mamamoo)\",\"\\ud5ec\\uc2a4\\uc7a5, \\uc6b4\\ub3d9, \\ub304\\uc2a4, \\ucda4, \\ub4dc\\ub77c\\uc774\\ube0c, \\uae30\\ubd84\\uc804\\ud658, \\ub9ac\\ub4dc\\ubbf8\\uceec, \\uc2a4\\ud2b8\\ub808\\uc2a4, \\uc2e0\\ub098\\ub294, \\ub0b4\\uc801\\ub304\\uc2a4, \\ud734\\uc2dd, \\uc704\\ub85c, \\ud790\\ub9c1, \\ud5ec\\uc2a4, \\uc2a4\\ud3ec\\uce20, \\ub7f0\\ub2dd, \\uc870\\uae45, \\uc694\\uac00, \\ud765\\uaca8\\uc6b4, \\uc5ec\\ud589, \\ud1f4\\uadfc\\uae38, \\uc6b4\\ub3d9\\ud560\\ub54c, \\uc2dc\\uc6d0\\ud55c, \\ucd94\\uc5b5, \\uc5ec\\ub984, \\ud398\\uc2a4\\ud2f0\\ubc8c, \\ubd84\\uc704\\uae30, \\uc0ac\\ub791, \\uc0c1\\ud07c, \\uc6b4\\uc804, \\uc5d0\\ub108\\uc9c0, \\ud1f4\\uadfc, \\uc6d4\\uc694\\uc77c, \\uc6d4\\uc694\\ubcd1, \\uaca8\\uc6b8, \\uc77c\\ud560\\ub54c, \\ucd9c\\uadfc, \\ud765, \\ud765\\ud3ed\\ubc1c, \\ubd88\\uae08, \\ud06c\\ub9ac\\uc2a4\\ub9c8\\uc2a4, \\ud30c\\ud2f0, \\uc124\\ub818, \\uaca8\\uc6b8\\ubc24, \\uc2dc\\uc791, \\uc0c8\\ud574, \\ubc24, \\uc5f0\\ub9d0, \\uc5f0\\ud734, \\uace0\\uc18d\\ub3c4\\ub85c, \\uc2a4\\ud2b8\\ub808\\uc2a4\\ud574\\uc18c, \\uc790\\uae30\\uc804, \\uac00\\uc744, \\uccad\\ub7c9, \\ubc14\\uce89\\uc2a4, \\ud799\\ud55c, \\uc794\\uc794\\ud55c, \\ubd04, \\ubd04\\ub178\\ub798, \\uc2ac\\ud508, \\ub530\\ub73b\\ud55c, \\uc0c1\\ud07c\\ud55c, \\ud074\\ub7fd, \\uc0b0\\ucc45, \\ub178\\ub3d9\\uc694, \\ubb34\\ub354\\uc704, \\ubc14\\ub2e4, \\ud55c\\uac15, \\ub2ec\\ub9ac\\uae30, \\uacbd\\ucf8c\\ud55c, \\uc624\\ud6c4, \\uc790\\uc2e0\\uac10, \\uce74\\ud398, \\uc544\\uce68, \\uc9d1\\uc911, \\ube44\\uc624\\ub294\\ub0a0, \\ube44, \\uc13c\\uce58, \\uc2dc\\uc6d0, \\uce5c\\uad6c, \\uae30\\ubd84\\uc88b\\uc740, \\uc990\\uac70\\uc6b4, \\ud734\\uc591\\uc9c0, \\uc2e0\\ub0a8, \\uc0e4\\uc6cc, \\uacf5\\ubd80\",\"['\\ud589\\ubcf5\\ud55c']\"],[\"\\uc0ac\\ub791\\uc744 \\ub9d0\\ud574\\uc694\",\"\\ube0c\\ub77c\\uc6b4 \\uc544\\uc774\\uc988\",\"\\ub2ec\\ub2ec, \\uc5ec\\ub984, \\ube44, \\uce74\\ud398, \\uae30\\ubd84\\uc804\\ud658, \\uc0ac\\ub791, \\uc774\\ubcc4, \\uc2a4\\ud2b8\\ub808\\uc2a4, \\uc2ac\\ud514, \\ucd94\\uc5b5, \\ud68c\\uc0c1, \\ub4dc\\ub77c\\uc774\\ube0c, \\uc124\\ub818, \\uaca8\\uc6b8, \\uc5ec\\ub984\\ubc24, \\ud790\\ub9c1, \\ubd84\\uc704\\uae30, \\ub85c\\ub9e8\\ud2f1, \\ud734\\uc2dd, \\uc794\\uc794\\ud55c, \\ubc24, \\uc0c8\\ubcbd, \\ube44\\uc624\\ub294\\ub0a0, \\uc7a5\\ub9c8, \\uc13c\\uce58, \\uac10\\uc131\\uc801\\uc778, \\ud3b8\\uc548\\ud55c\",\"['\\uc6b0\\uc6b8\\ud55c', '\\ud589\\ubcf5\\ud55c']\"],[\"Love\",\"Marsha Ambrosius\",\"\\uaf43, \\uc0ac\\ub791\",\"['\\ud589\\ubcf5\\ud55c']\"],[\"\\ud558\\ub298\\uc544 \\uc81c\\ubc1c\",\"\\uba3c\\ub370\\uc774 \\ud0a4\\uc988 (Monday Kiz)\",\"\\ucd94\\uc5b5, \\uac00\\uc744, \\ud68c\\uc0c1, \\uc124\\ub818, \\uc0ac\\ub791, \\ud790\\ub9c1, \\ud734\\uc2dd, \\uae4c\\ud398, \\uae30\\ubd84\\uc804\\ud658, \\ube44\\uc624\\ub294\\ub0a0, \\uc2ac\\ud514, \\uc774\\ubcc4, \\ub4dc\\ub77c\\uc774\\ube0c, \\uc2e0\\ub098\\ub294\",\"['\\ud589\\ubcf5\\ud55c', '\\uc6b0\\uc6b8\\ud55c']\"],[\"Christmas With You\",\"SE7EN\",\"\\uc5f0\\ub9d0, \\ud06c\\ub9ac\\uc2a4\\ub9c8\\uc2a4, \\uc794\\uc794\\ud55c, \\ucd94\\uc5b5, \\ud68c\\uc0c1, \\ube44\\uc624\\ub294\\ub0a0, \\uaca8\\uc6b8, \\uaca8\\uc6b8\\uac10\\uc131, \\ub208, \\uccab\\ub208, \\uc5f0\\uc560, \\uace0\\ubc31, \\uc378, \\uce90\\ub864, \\uaca8\\uc6b8\\ubc24, \\uadf8\\ub9ac\\uc6c0, \\uc13c\\uce58\\ud55c, \\ud734\\uc2dd, \\ud790\\ub9c1, \\ub304\\uc2a4, \\uae30\\ubd84\\uc804\\ud658\",\"['\\uc794\\uc794\\ud55c']\"],[\"Don`t Let Me Forget (Feat. Hunter Hayes)\",\"Catherine McGrath\",\"\\ub4dc\\ub77c\\uc774\\ube0c, \\uae30\\ubd84\\uc804\\ud658, \\uc794\\uc794\\ud55c, \\uc0c8\\ubcbd, \\ud790\\ub9c1, \\uce74\\ud398, \\uc5ec\\uc720, \\ub098\\ub978\\ud55c, \\ud3b8\\uc548\\ud55c, \\uaca8\\uc6b8, \\ub2ec\\ucf64, \\ud734\\uc2dd, \\ub2ec\\ub2ec, \\uc0c1\\ud07c, \\uc800\\ub141, \\ub2a6\\uc740\\ubc24, \\uc7a0\\ub4e4\\uae30\\uc804, \\ubd88\\uba74\\uc99d, \\uac10\\ubbf8\\ub85c\\uc6b4, \\uc124\\ub818\",\"['\\ud589\\ubcf5\\ud55c']\"],[\"Appreciate Your Hands\",\"Amy Kuney\",\"\\ube44\\uc624\\ub294\\ub0a0, \\uae4c\\ud398\",\"['\\uc6b0\\uc6b8\\ud55c', '\\uc794\\uc794\\ud55c']\"],[\"Iridescent\",\"LINKIN PARK\",\"\\ud734\\uc2dd, \\ud790\\ub9c1, \\uae30\\ubd84\\uc804\\ud658\",\"['\\ud589\\ubcf5\\ud55c']\"],[\"\\uaca8\\uc6b0...\",\"\\ucd5c\\ubb38\\uc11d\",\"\\ube44, \\uc704\\ub85c, \\ub208\\ubb3c, \\uc794\\uc794\\ud55c, \\uae4c\\ud398, \\uc124\\ub818, \\uc0ac\\ub791, \\ud68c\\uc0c1, \\ucd94\\uc5b5, \\uc2ac\\ud514, \\uc774\\ubcc4, \\ubc24, \\uc0c8\\ubcbd\",\"['\\uc794\\uc794\\ud55c']\"],[\"\\uc548\\ub155\\uc758 \\ubc29\\uc2dd (Ways to Say Goodbye)\",\"\\uaddc\\ud604 (KYUHYUN)\",\"\\uacf5\\uac10, \\uc774\\ubcc4, \\ud5e4\\uc5b4\\uc9d0, \\uc194\\ub85c, \\uac00\\uc744, \\ub4dc\\ub77c\\uc774\\ube0c, \\ubd04, \\uc2ac\\ud514, \\ud63c\\uc220, \\uadf8\\ub9ac\\uc6c0, \\uae30\\ubd84\\uc804\\ud658, \\ubc24, \\uc124\\ub818, \\uc0ac\\ub791, \\uaca8\\uc6b8, \\uc0c8\\ubcbd, \\uc4f8\\uc4f8, \\uc794\\uc794\\ud55c, \\uce74\\ud398, \\ub0b4\\uc801\\ub304\\uc2a4, \\ucd94\\uc5b5, \\uc2a4\\ud2b8\\ub808\\uc2a4, \\ud68c\\uc0c1, \\ud790\\ub9c1, \\ud734\\uc2dd, \\ub099\\uc5fd, \\uc2a4\\ud2b8\\ub808\\uc2a4\\ud574\\uc18c, \\uc0b0\\ucc45, \\uc5ec\\ud589, \\ube44\\uc624\\ub294\\ub0a0, \\uc560\\uc808\\ud55c, \\uc6b0\\uc6b8, \\uc9dd\\uc0ac\\ub791, \\ud589\\ubcf5, \\ub208\\ubb3c, \\ubd84\\uc704\\uae30, \\uc13c\\uce58, \\uac00\\uc744\\ubc24, \\uc6b0\\uc6b8\\ud560\\ub54c, \\uc5ec\\uc720, \\uc678\\ub85c\\uc6c0, \\ub9d1\\uc740, \\ub2ec\\ub2ec, \\ube44, \\uac00\\uc744\\uac10\\uc131, \\uac10\\uc131\\uc801\\uc778, \\ucc28\\ubd84\\ud55c\",\"['\\uc6b0\\uc6b8\\ud55c']\"],[\"\\uc624\\ub298\\ubc24\",\"5who\",\"\\uae4c\\ud398, \\ubd04, \\uc124\\ub808\\uc784, \\uce74\\ud398, \\uc5ec\\ub984\\ubc24, \\uccad\\ucd98, \\uace0\\ubc31, \\uc124\\ub818, \\uc0ac\\ub791, \\ub2ec\\ub2ec\",\"['\\uc794\\uc794\\ud55c']\"],[\"\\ub2e4\\uc2dc \\uc0ac\\ub791\\ud55c\\ub2e4 \\ub9d0\\ud560\\uae4c\",\"\\uae40\\ub3d9\\ub960\",\"\\uc2ac\\ud514, \\ucd94\\uc5b5, \\uc774\\ubcc4, \\ud68c\\uc0c1, \\uc0ac\\ub791, \\uac00\\uc744, \\uc794\\uc794\\ud55c, \\uae30\\ubd84\\uc804\\ud658, \\uc2a4\\ud2b8\\ub808\\uc2a4, \\uc124\\ub818, \\uc9dd\\uc0ac\\ub791, \\uc544\\ud514, \\ud790\\ub9c1, \\ud734\\uc2dd, \\uc6b0\\uc6b8, \\ubd84\\uc704\\uae30, \\uc0c8\\ubcbd, \\ub208\\ubb3c, \\uac10\\ub3d9, \\ube44\\uc624\\ub294\\ub0a0, \\uc624\\ud6c4, \\uce74\\ud398, \\uc6b0\\uc6b8\\ud560\\ub54c, \\ub304\\uc2a4, \\ubc24, \\uc0b0\\ucc45, \\uc5ec\\ud589, \\ube44, \\uaca8\\uc6b8, \\uae4c\\ud398, \\uc5f0\\uc778, \\ub4dc\\ub77c\\uc774\\ube0c, \\uc5f0\\uc560, \\uace0\\ubc31, \\uae30\\uc5b5, \\uadf8\\ub9ac\\uc6c0, \\uac10\\uc131\\uc801\\uc778\",\"['\\ud589\\ubcf5\\ud55c']\"],[\"\\ubc14\\ub78c\\uc778\\uac00\",\"\\uc2e0\\ucd0c \\ube14\\ub8e8\\uc2a4\",\"\\uac00\\uc744\\uac10\\uc131, \\uac00\\uc744, \\uac00\\uc744\\ubc24, \\ucd94\\uc5b5\",\"['\\uc794\\uc794\\ud55c']\"],[\"Don`t Cry\",\"\\ubc15\\ubd04\",\"\\ucd94\\uc5b5, \\uae30\\ubd84\\uc804\\ud658, \\ud68c\\uc0c1, \\uc794\\uc794\\ud55c, \\ub304\\uc2a4, \\ub4dc\\ub77c\\uc774\\ube0c, \\uc2a4\\ud2b8\\ub808\\uc2a4, \\uc0ac\\ub791, \\ube44\\uc624\\ub294\\ub0a0, \\ube44, \\uc6b0\\uc6b8, \\ud790\\ub9c1, \\uc774\\ubcc4, \\uaca8\\uc6b8, \\uc2ac\\ud508, \\ud734\\uc2dd, \\uc124\\ub818, \\uac00\\uc744, \\ubc24, \\uc0c8\\ubcbd, \\uc2ac\\ud514, \\uc5ec\\ud589, \\uc2e0\\ub098\\ub294, \\uc6b4\\ub3d9\\ud560\\ub54c, \\uc5ec\\ub984, \\uc6b4\\ub3d9, \\uadf8\\ub9ac\\uc6c0, \\ucda4, \\uc990\\uac70\\uc6b4, \\uce74\\ud398, \\ud798\\ub4e4\\ub54c, \\ub0b4\\uc801\\ub304\\uc2a4, \\ucee4\\ud50c, \\uc378, \\uc5f0\\uc778, \\ubd04, \\ub530\\ub73b\\ud55c, \\uacf5\\uac10, \\ub2ec\\ub2ec, \\uc0b0\\ucc45, \\ub208\\ubb3c, \\ud5e4\\uc5b4\\uc9d0, \\uccab\\ub208, \\ub208, \\ud06c\\ub9ac\\uc2a4\\ub9c8\\uc2a4, \\ud2b8\\ub80c\\ub514\\ud55c, \\ub098\\ub4e4\\uc774, \\uc194\\ub85c, \\uae4c\\ud398, \\uae30\\ubd84\\uc88b\\uc740, \\ubc9a\\uaf43, \\uc5f0\\uc560\",\"['\\ud589\\ubcf5\\ud55c']\"],[\"\\ub9d0\\ud558\\uc138\\uc694\",\"\\uc6b0\\ucfe8\\ub810\\ub808 \\ud53c\\ud06c\\ub2c9\",\"\\uc5ec\\ub984, \\uc5ec\\ud589, \\uc0b0\\ucc45, \\uc794\\uc794\\ud55c, \\ubc24, \\uc0c8\\ubcbd, \\ud790\\ub9c1, \\ud734\\uc2dd\",\"['\\uc794\\uc794\\ud55c']\"],[\"\\ud654\\ub824\\ud55c \\uac00\\uba74\",\"\\uc591\\uc18c\\ubbfc, \\ubc15\\uc778\\ubc30\",\"\\ud790\\ub9c1, \\ud734\\uc2dd, \\uae30\\ubd84\\uc804\\ud658\",\"['\\ud589\\ubcf5\\ud55c']\"],[\"Stay (Feat. Maty Noyes)\",\"Kygo\",\"\\ub4dc\\ub77c\\uc774\\ube0c, \\uc2a4\\ud2b8\\ub808\\uc2a4, \\uc5ec\\ub984, \\uc8fc\\ub9d0, \\uae30\\ubd84\\uc804\\ud658, \\uc2e0\\ub098\\ub294, \\ub9e5\\uc8fc, \\uc5ec\\ub984\\ubc24, \\uc5ec\\ud589, \\ub77c\\uc6b4\\uc9c0, \\uc0c8\\ubcbd, \\ucd9c\\uadfc\\uae38, \\uc544\\uce68, \\uccad\\ub7c9, \\ud074\\ub7fd, \\uc0c1\\ud07c, \\ud589\\ubcf5, \\uac00\\uc744, \\uc6b4\\ub3d9, \\ud734\\uc591\\uc9c0, \\ud1f4\\uadfc, \\ucd9c\\uadfc, \\uc6b4\\ub3d9\\ud560\\ub54c, \\uce74\\ud398, \\ub2ec\\ub9ac\\uae30, \\ubd88\\uae08, \\uccad\\ub7c9\\uac10, \\uc0e4\\uc6cc, \\ud734\\uc2dd, \\ud30c\\ud2f0, \\uc5ec\\ub984\\ud734\\uac00, \\uc2dc\\uc6d0\\ud55c, \\uc9d1\\uc911, \\uc0ac\\uc0c9, \\uc791\\uc5c5, \\uacf5\\ubd80, \\ubd04, \\uc0c1\\ucf8c\\ud55c, \\uc0ac\\ub791, \\ube44, \\ub304\\uc2a4, \\uae30\\ubd84\\uc5c5, \\ud790\\ub9c1, \\ud398\\uc2a4\\ud2f0\\ubc8c, \\ub0b4\\uc801\\ub304\\uc2a4, \\ud765\\ud3ed\\ubc1c, \\uc2a4\\ud2b8\\ub808\\uc2a4\\ud574\\uc18c, \\uc720\\ub2c8\\ud06c, \\ud55c\\uac15, \\uc2e0\\ub0a8, \\uc124\\ub818, \\ub178\\ub3d9\\uc694, \\uccad\\ub7c9\\ud55c, \\uace0\\uc18d\\ub3c4\\ub85c, \\ubc14\\ub2e4, \\uc2dc\\uc6d0, \\ube44\\uc624\\ub294\\ub0a0, \\uac00\\uc744\\ube44, \\uc7a5\\ub9c8, \\ubd04\\ube44, \\uc6d4\\uc694\\ubcd1, \\uac10\\uc131\\uc801\\uc778, \\uc544\\ub984\\ub2e4\\uc6b4, \\uc11c\\uc815\\uc801\\uc778, \\uc5f4\\ub300\\uc57c, \\ud574\\ubcc0, \\ubc14\\uce89\\uc2a4, \\ud734\\uac00, \\ubabd\\ud658\",\"['\\ud589\\ubcf5\\ud55c']\"],[\"HEY, SUMMER\",\"JBJ95\",\"\\uc5ec\\ub984, \\ub4dc\\ub77c\\uc774\\ube0c, \\ubc34\\ub4dc, \\uccad\\ub7c9, \\uc5ec\\ud589, \\uc8fc\\ub9d0, \\uae30\\ubd84\\uc804\\ud658, \\uc2e0\\ub098\\ub294, \\ub178\\ub3d9\\uc694\",\"['\\ud589\\ubcf5\\ud55c']\"],[\"Outro : Love is Not Over\",\"\\ubc29\\ud0c4\\uc18c\\ub144\\ub2e8\",\"\\ub304\\uc2a4, \\uc2ac\\ud514, \\ucd94\\uc5b5, \\uc774\\ubcc4, \\ud68c\\uc0c1, \\uc2e0\\ub098\\ub294, \\uc794\\uc794\\ud55c, \\uc2ac\\ud508, \\uc4f8\\uc4f8\\ud55c, \\uc2a4\\ud2b8\\ub808\\uc2a4, \\uc124\\ub818, \\uc0ac\\ub791, \\ubd04, \\ud734\\uc2dd, \\uc704\\ub85c, \\ube44\\uc624\\ub294\\ub0a0, \\ubc24, \\uc0c8\\ubcbd, \\uc6b8\\uace0\\uc2f6\\uc744\\ub54c, \\ub208\\ubb3c, \\uc6b0\\uc6b8, \\uccad\\ucd98, \\uc678\\ub85c\\uc6c0, \\uc13c\\uce58, \\uc870\\uc6a9\\ud55c, \\uac00\\uc744, \\ub099\\uc5fd, \\ubd04\\ub0a0, \\uae30\\ubd84\\uc804\\ud658, \\uc4f8\\uc4f8, \\uaca8\\uc6b8\\uac10\\uc131, \\ud790\\ub9c1, \\uae4c\\ud398, \\uc0c8\\ubcbd\\uac10\\uc131, \\ubabd\\ud658\\uc801\\uc778\",\"['\\uc6b0\\uc6b8\\ud55c']\"],[\"Self\",\"Jon Wiilde\",\"\\uc5ec\\ub984, \\uc800\\ub141, \\uc5f4\\ub300\\uc57c, \\ub4dc\\ub77c\\uc774\\ube0c, \\uc2dc\\uc6d0\\ud55c\",\"['\\uacbd\\ucf8c\\ud55c']\"],[\"Fireworks\",\"First Aid Kit\",\"\\uc794\\uc794\\ud55c, \\uc0c8\\ubcbd, \\uc5ec\\ub984, \\uc2dc\\uc6d0\\ud55c, \\uc0c8\\ubcbd\\uac10\\uc131, \\ubd84\\uc704\\uae30, \\ubc24, \\uc11c\\uc815\\uc801\\uc778, \\ud734\\uc2dd, \\uc5ec\\ud589\\uc0b0\\ucc45, \\uc2a4\\ud2b8\\ub808\\uc2a4, \\ub4dc\\ub77c\\uc774\\ube0c, \\uae30\\ubd84\\uc804\\ud658, \\uc4f8\\uc4f8, \\uaca8\\uc6b8, \\ubabd\\ud658, \\ud63c\\uc220\",\"['\\ud589\\ubcf5\\ud55c']\"],[\"\\ub124 \\uc0dd\\uac01\\uc73c\\ub85c \\uba48\\ucd94\\uc9c0 \\uc54a\\ub294 \\ubc24 (Feat. 109)\",\"\\uc18c\\uac01\\uc18c\\uac01\",\"\\uc774\\ubcc4, \\uc704\\ub85c, \\ub208\\ubb3c, \\ud734\\uc2dd, \\uae30\\ubd84\\uc804\\ud658, \\uaca8\\uc6b8, \\ucc28\\ubd84\\ud55c, \\ub530\\ub73b\\ud55c, \\uc794\\uc794\\ud55c, \\uac00\\uc744, \\uc0c8\\ubcbd\\uac10\\uc131, \\uc0c8\\ubcbd, \\uc624\\ud6c4, \\ub2ec\\ub2ec\\ud55c, \\uc5f0\\uc560, \\uc124\\ub818, \\uc0ac\\ub791, \\uc378, \\uc2e0\\ub098\\ub294, \\uc5ec\\ub984, \\ubc24, \\uc5ec\\ub984\\ubc24, \\uc2dc\\uc6d0\\ud55c, \\uc0b0\\ucc45, \\ubd04, \\uce74\\ud398, \\ubd04\\ube44, \\ub4dc\\ub77c\\uc774\\ube0c, \\ubd04\\ub0a0, \\ud790\\ub9c1, \\uc9d1\\uc911, \\uacf5\\ubd80, \\uc2ac\\ud514, \\ucd94\\uc5b5, \\ud68c\\uc0c1, \\uaca8\\uc6b8\\ubc24, \\ud55c\\uac15, \\uac00\\uc744\\ubc24, \\ud1a0\\ub2e5\\ud1a0\\ub2e5, \\uc9dd\\uc0ac\\ub791, \\ub2ec\\ub2ec, \\uace0\\ubc31, \\ud558\\ub8e8, \\uc870\\uc6a9\\ud55c, \\ubd84\\uc704\\uae30, \\uac10\\uc131\\uc790\\uadf9\",\"['\\uc6b0\\uc6b8\\ud55c']\"],[\"\\ud63c\\uc790\\uc77c \\ub54c (Feat. \\uc7a5\\uc218\\ud604 On Violin)\",\"\\ub85c\\ub9e8\\ud2f1\\ubaa8\\uba3c\\ud2b8\",\"\\uaca8\\uc6b8, \\uc5ec\\ud589, \\uc0b0\\ucc45\",\"['\\ud589\\ubcf5\\ud55c']\"],[\"\\ud478\\ub978 \\ud559\\uc740 \\uad6c\\ub984 \\uc18d\\uc5d0 \\uc6b0\\ub294\\ub370\",\"\\ubc15\\uc740\\ud0dc\",\"\\ubba4\\uc9c0\\uceec, \\ud790\\ub9c1, \\ud734\\uc2dd, \\uae30\\ubd84\\uc804\\ud658, \\ucd94\\uc5b5, \\ud68c\\uc0c1, \\uc6b0\\uc6b8, \\uc704\\ub85c, \\uc2ac\\ud514, \\uacf5\\uac10, \\uac10\\ub3d9, \\ubc24, \\uc794\\uc794\\ud55c, \\uc0c8\\ubcbd, \\uc678\\ub85c\\uc6c0, \\uc0ac\\ub791\",\"['\\uacbd\\ucf8c\\ud55c', '\\ud589\\ubcf5\\ud55c']\"],[\"\\ud589\\ubcf5\\ud55c \\uc77c\\uc740 \\ub9e4\\uc77c \\uc788\\uc5b4 (With \\ud53c\\ud130\\ud55c)\",\"\\ud0c0\\ub9b0\",\"\\uc0c8\\ubcbd\\uac10\\uc131, \\uc704\\ub85c, \\ud790\\ub9c1, \\uc794\\uc794\\ud55c, \\ubd04, \\uce74\\ud398, \\ud3ec\\uadfc\\ud55c, \\uae30\\ubd84\\uc804\\ud658, \\ub370\\uc774\\ud2b8, \\uc0ac\\ub791, \\ud734\\uc2dd, \\uc0b0\\ub73b\\ud55c, \\uacf5\\uac10, \\uc5f0\\uc778, \\ubd04\\ubc14\\ub78c, \\ubd04\\ub0a0, \\ub530\\ub73b\\ud55c, \\uc124\\ub818, \\uc2ac\\ud514, \\ucd9c\\uadfc\\uae38, \\uccad\\ucd98, \\uc751\\uc6d0, \\uc2dc\\uc791, \\ud1a0\\ub2e5\\ud1a0\\ub2e5, \\ud654\\uc774\\ud305, \\ud798\\ub0b4, \\uae30\\ubd84\\uc88b\\uc740, \\ub2ec\\ub2ec\\ud55c, \\uc0c1\\ud07c, \\ub4dc\\ub77c\\uc774\\ube0c, \\uc5ec\\ud589, \\ud53c\\ud06c\\ub2c9\",\"['\\ud589\\ubcf5\\ud55c']\"],[\"\\ud53c\\ub9db\\uace8\",\"Various Artists\",\"\\ubba4\\uc9c0\\uceec\",\"['\\uacbd\\ucf8c\\ud55c']\"],[\"Wake Up (Feat. DEAN)\",\"Crush\",\"\\uce74\\ud398, \\uc8fc\\ub9d0, \\uaca8\\uc6b8\\ubc24, \\ub4dc\\ub77c\\uc774\\ube0c, \\uae30\\ubd84\\uc804\\ud658, \\ud06c\\ub9ac\\uc2a4\\ub9c8\\uc2a4, \\uce90\\ub7f4, \\ud734\\uc2dd, \\uac00\\uc744, \\uc0ac\\ub791, \\uc774\\ubcc4, \\uc6b4\\ub3d9, \\uc5ec\\ud589, \\ub9ac\\ub4dc\\ubbf8\\uceec, \\uaca8\\uc6b8\\uac10\\uc131, \\uc624\\ud6c4, \\ucc2c\\ubc14\\ub78c, \\ubd84\\uc704\\uae30, \\ud2b8\\ub80c\\ub514\\ud55c, \\uc2e0\\ub098\\ub294, \\uc0c8\\ubcbd, \\ubaa8\\ub2dd\\ucf5c, \\uc544\\uce68, \\uc6d4\\uc694\\uc77c, \\uc0c1\\ucf8c, \\ud790\\ub9c1, \\uae4c\\ud398, \\uaca8\\uc6b8, \\uc800\\ub141, \\ucd9c\\uadfc\\uae38, \\ubc24, \\uc13c\\uce58, \\uac10\\ubbf8\\ub85c\\uc6b4, \\uc5f0\\uc778, \\uc9d1\\uc911, \\uc6d4\\uc694\\ubcd1, \\ucd94\\uc5b5, \\uc2a4\\ud2b8\\ub808\\uc2a4, \\uc0c8\\ud574, \\uc194\\ub85c, \\ud734\\uc77c, \\uc0b0\\ub73b\\ud55c, \\ud799\\ud55c, \\ud558\\ub8e8, \\ucee4\\ud53c, \\uc794\\uc794\\ud55c, \\uc57c\\uacbd, \\ubabd\\ud658, \\uc5ec\\ub984, \\uc5f0\\ub9d0, \\ud1f4\\uadfc\\uae38, \\ud5ec\\uc2a4, \\ub7ec\\ub2dd, \\uc0b0\\ucc45\",\"['\\uc794\\uc794\\ud55c']\"],[\"\\uc0ac\\ub791 \\ub0b4 \\uc0ac\\ub791\",\"\\ubb38\\ud61c\\uc6d0, \\uc815\\uc778\\ud638\",\"\\uac10\\ub3d9, \\ubba4\\uc9c0\\uceec\",\"['\\ud589\\ubcf5\\ud55c', '\\uacbd\\ucf8c\\ud55c']\"],[\"No Way (With Untouchable, \\uc11c\\uc9c0\\uc601)\",\"\\ud504\\ub77c\\uc774\\uba38\\ub9ac \\uc2a4\\ucf54\\uc5b4\",\"\\uc0ac\\ub791, \\ubc24, \\uc124\\ub818, \\uc0c8\\ubcbd, \\uc794\\uc794\\ud55c, \\uae30\\ubd84\\uc804\\ud658, \\ubd04, \\uc2ac\\ud514, \\uc774\\ubcc4, \\ud734\\uc2dd, \\ud790\\ub9c1, \\uaca8\\uc6b8, \\ub4dc\\ub77c\\uc774\\ube0c, \\uc6b4\\ub3d9, \\ud5ec\\uc2a4, \\ud5ec\\uc2a4\\uc7a5, \\uc2e0\\ub098\\ub294\",\"['\\ud589\\ubcf5\\ud55c']\"],[\"\\ub10c \\uc544\\ub984\\ub2e4\\uc6cc\",\"\\uc774\\uc0c1\\uc740\",\"\\ud1a0\\ub2e5\\ud1a0\\ub2e5, \\uc704\\ub85c, \\uae30\\ubd84\\uc804\\ud658, \\ud790\\ub9c1, \\ub4dc\\ub77c\\uc774\\ube0c, \\ud734\\uc2dd, \\ubd84\\uc704\\uae30, \\ud3b8\\uc548\\ud55c, \\ubc34\\ub4dc, \\uc2a4\\ud2b8\\ub808\\uc2a4, \\uc2e0\\ub098\\ub294, \\uc9dd\\uc0ac\\ub791, \\ub2ec\\ub2ec, \\uace0\\ubc31, \\uc0ac\\ub791, \\uc378, \\uac00\\uc744\",\"['\\ud589\\ubcf5\\ud55c']\"],[\"2 minutes of hell (Feat. Paul Blanco)\",\"\\ucc3d\\ubaa8 (CHANGMO)\",\"\\uc6b4\\ub3d9, \\ub4dc\\ub77c\\uc774\\ube0c, \\uc2a4\\ud2b8\\ub808\\uc2a4, \\uc6d4\\uc694\\ubcd1, \\ubd88\\uae08, \\uae30\\ubd84\\uc804\\ud658, \\ud734\\uc2dd, \\ud074\\ub7fd, \\uc2e0\\ub098\\ub294, \\ud5ec\\uc2a4, \\ube44\\uc624\\ub294\\ub0a0, \\ucd94\\uc5b5, \\ud68c\\uc0c1\",\"['\\ud589\\ubcf5\\ud55c']\"],[\"Up N Down\",\"\\uc2a4\\ud53c\\uce74\",\"\\uae30\\ubd84\\uc804\\ud658, \\uc6b4\\ub3d9\",\"['\\ud589\\ubcf5\\ud55c', '\\uacbd\\ucf8c\\ud55c']\"],[\"\\uc18c\\uc6b0\\uc8fc (Mikrokosmos)\",\"\\ubc29\\ud0c4\\uc18c\\ub144\\ub2e8\",\"\\ub304\\uc2a4, \\ub4dc\\ub77c\\uc774\\ube0c, \\uae30\\ubd84\\uc804\\ud658, \\uc2e0\\ub098\\ub294, \\ud734\\uc2dd, \\uc0ac\\ub791, \\ud589\\ubcf5, \\uc6b4\\ub3d9, \\uc704\\ub85c, \\uc6b4\\ub3d9\\ud560\\ub54c, \\uc794\\uc794\\ud55c, \\uc9d1\\uc911, \\uccad\\ub7c9, \\uc5ec\\ud589, \\ud074\\ub7fd, \\uae30\\ubd84\\uc88b\\uc740, \\uc790\\uc2e0\\uac10, \\uc0c8\\ud574, \\uce74\\ud398, \\uc8fc\\ub9d0, \\uacf5\\uac10, \\ud790\\ub9c1, \\uccad\\ucd98, \\ube44, \\uc6b0\\uc6b8, \\uce68\\ub300, \\uaca8\\uc6b8, \\uaca8\\uc6b8\\ubc24, \\uc2dc\\uc791, \\ubc24, \\uafc0\\uc7a0, \\uc0c8\\ubcbd, \\uc9c0\\uce5c\\ud558\\ub8e8, \\uc7a0\\ub4e4\\uae30\\uc804, \\uc5f0\\ub9d0, \\uc751\\uc6d0, \\ud798\\ub4e4\\ub54c, \\uaca8\\uc6b8\\uac10\\uc131, \\uc544\\uce68, \\uc0b0\\ucc45, \\ucd94\\uc5b5, \\ucda4, \\uc5ec\\uc720\\ub85c\\uc6b4, \\ubd04, \\ucd9c\\uadfc\\uae38, \\uc2a4\\ud2b8\\ub808\\uc2a4, \\ubd04\\ub178\\ub798, \\uc5ec\\ub984, \\uc624\\ud6c4, \\ubd84\\uc704\\uae30, \\ud1f4\\uadfc, \\ub098\\ub978\\ud55c, \\uc124\\ub818, \\ud3b8\\uc548\\ud55c, \\uc774\\ubcc4, \\uc194\\ub85c, \\uac00\\uc744, \\uc794\\uc794, \\ud55c\\uac15, \\ud1f4\\uadfc\\uae38, \\ud798\\ub0b4, \\ubd04\\ube44, \\ucee4\\ud50c, \\uc5f0\\uc778, \\uc5f0\\uc560, \\uace0\\ubc31, \\ubabd\\ud658, \\uacf5\\ubd80, \\uc5ec\\ub984\\ubc24, \\uae30\\ubd84\\uc5c5, \\uc9c0\\uce5c, \\ucee4\\ud53c, \\uc77c\\uc0c1, \\uc0c8\\ubcbd\\uac10\\uc131, \\ubcc4, \\uc5f4\\ub300\\uc57c, \\uc790\\uae30\\uc804, \\ub178\\ub3d9\\uc694, \\ud765, \\ub0b4\\uc801\\ub304\\uc2a4, \\uc6b0\\uc6b8\\ud560\\ub54c, \\uc378, \\uc2dc\\uc6d0\\ud55c, \\ubc9a\\uaf43, \\ub2ec\\ub2ec\\ud55c, \\ub0ad\\ub9cc, \\ub3c4\\uc2dc, \\ub2ec\\ub2ec, \\ub9e5\\uc8fc, \\ucc28\\ubd84\\ud55c, \\ud765\\ud3ed\\ubc1c, \\ubabd\\ud658\\uc801\\uc778, \\uc9d1, \\ub530\\ub73b\\ud568, \\uccad\\ub7c9\\ud55c, \\ub208\\ubb3c, \\uac10\\ub3d9, \\uc2ac\\ud514\",\"['\\ud589\\ubcf5\\ud55c']\"],[\"My Christmas (\\uadf8\\ub807\\uac8c \\ud560\\ub798)\",\"\\uc815\\ub2e8\\uc601, \\uc774\\uc8fc\\uad11\",\"\\ubba4\\uc9c0\\uceec\",\"['\\uacbd\\ucf8c\\ud55c']\"],[\"\\uaca8\\uc6b8\\uc744 \\uac77\\ub294\\ub2e4 (\\uc2a4\\ud29c\\ub514\\uc624 \\ub77c\\uc774\\ube0c \\ubc84\\uc804)\",\"\\uc724\\ub534\\ub534\",\"\\ud734\\uc2dd, \\ubc24, \\uce74\\ud398, \\ucd94\\uc5b5, \\ud790\\ub9c1, \\uae30\\ubd84\\uc804\\ud658, \\uae4c\\ud398, \\uc794\\uc794\\ud55c, \\uc0c8\\ubcbd, \\uc6b0\\uc6b8, \\ud798\\ub4e4\\ub54c, \\uc704\\ub85c, \\uaca8\\uc6b8, \\ucee4\\ud53c, \\uc0ac\\ub791, \\ub208\\uc624\\ub294\\ub0a0, \\ud06c\\ub9ac\\uc2a4\\ub9c8\\uc2a4, \\uc124\\ub818, \\uc4f8\\uc4f8, \\uc774\\ubcc4\",\"['\\ud589\\ubcf5\\ud55c']\"],[\"Lucy\",\"Ten Tonnes\",\"\\uae30\\ubd84\\uc804\\ud658, \\uc5ec\\ub984, \\ub4dc\\ub77c\\uc774\\ube0c, \\ud734\\uac00, \\ud53c\\ud06c\\ub2c9, \\uac00\\uc744, \\uce74\\ud398, \\uc624\\ud6c4, \\uccad\\ub7c9\\ud55c, \\uc124\\ub808\\ub294, \\uc720\\ub2c8\\ud06c, \\ud55c\\uac15, \\uc0b0\\ucc45, \\ubd04, \\uc8fc\\ub9d0\",\"['\\ud589\\ubcf5\\ud55c']\"],[\"Trust Me (Feat. Ty Dolla $ign)\",\"Bhad Bhabie\",\"\\ud074\\ub7fd, \\uae30\\ubd84\\uc804\\ud658, \\uc2a4\\ud2b8\\ub808\\uc2a4, \\ubc24, \\uc0c8\\ubcbd, \\ubd84\\uc704\\uae30\",\"['\\uae34\\uc7a5\\ub418\\ub294']\"],[\"Blue Hawaii (Feat. Crush, PENOMECO) (Prod. by 0channel)\",\"\\ud380\\uce58\\ub12c\\ub85c (punchnello)\",\"\\uae30\\ubd84\\uc804\\ud658, \\ud734\\uc2dd, \\uac00\\uc744, \\ucd94\\uc5b5, \\ub4dc\\ub77c\\uc774\\ube0c, \\uc5ec\\ud589, \\ucd9c\\uadfc\\uae38, \\ud1f4\\uadfc\\uae38, \\uc9d1\\uc911, \\uc544\\uce68, \\uc2a4\\ud2b8\\ub808\\uc2a4, \\uc2e0\\ub098\\ub294, \\uc6b4\\ub3d9, \\ud38d, \\ud799\\ud55c, \\uc794\\uc794\\ud55c, \\ubc24, \\ubd84\\uc704\\uae30, \\uc5ec\\ub984, \\uc800\\ub141, \\ubd04, \\uc0ac\\ub791, \\ubc9a\\uaf43, \\uc124\\ub818, \\ub370\\uc774\\ud2b8, \\uc13c\\uce58, \\ud790\\ub9c1, \\uc0c8\\ubcbd, \\uce74\\ud398, \\uc794\\uc794, \\uae4c\\ud398, \\ubabd\\ud658, \\ub098\\ub978\\ud55c, \\ud5ec\\uc2a4, \\ud074\\ub7fd, \\uc2dc\\uc6d0\\ud55c, \\uc2dc\\uc6d0, \\uc194\\ub85c, \\ud765\\uaca8\\uc6b4, \\uc2a4\\ud3ec\\uce20, \\ub178\\ub3d9\\uc694, \\uc77c\\ud560\\ub54c, \\uc5ec\\ub984\\ubc24, \\ud55c\\uac15, \\uc0b0\\ucc45, \\uac10\\uc218\\uc131, \\ud765\",\"['\\ud589\\ubcf5\\ud55c']\"],[\"Remember\",\"\\ud654\\ub780 (Hwaran)\",\"\\uae30\\ubd84\\uc804\\ud658, \\uae4c\\ud398\",\"['\\ud589\\ubcf5\\ud55c', '\\uc794\\uc794\\ud55c']\"],[\"Joy To The World\",\"Michael Bolton\",\"\\uaca8\\uc6b8, \\uae4c\\ud398\",\"['\\uc794\\uc794\\ud55c']\"],[\"Young & Free (Inst.)\",\"\\uc2dc\\uc6b0\\ubbfc (XIUMIN), \\ub9c8\\ud06c (MARK)\",\"\\ud734\\uc2dd, \\uc6b4\\ub3d9, \\ub4dc\\ub77c\\uc774\\ube0c, \\uacf5\\ubd80, \\uae30\\ubd84\\uc804\\ud658\",\"['\\uc794\\uc794\\ud55c', '\\ud589\\ubcf5\\ud55c']\"],[\"In The Night\",\"The Weeknd\",\"\\uc6b4\\ub3d9, \\ubd84\\uc704\\uae30, \\ub4dc\\ub77c\\uc774\\ube0c, \\uc2e0\\ub098\\ub294, \\ubc24, \\uce74\\ud398, \\uc794\\uc794\\ud55c, \\uc5ec\\ub984\\ubc24, \\ubabd\\ud658, \\ud790\\ub9c1, \\uc0c8\\ubcbd, \\uae30\\ubd84\\uc804\\ud658, \\uc2a4\\ud2b8\\ub808\\uc2a4, \\uae4c\\ud398, \\ub2ec\\ucf64\\ud55c, \\ubabd\\ud658\\uc801\\uc778, \\ud734\\uc2dd, \\uafc0\\uc7a0, \\uc0ac\\ub791, \\ud38d, \\ucd9c\\uadfc, \\ub304\\uc2a4, \\uc704\\ub85c, \\uc5ec\\ub984, \\ud398\\uc2a4\\ud2f0\\ubc8c, \\ud1f4\\uadfc\\uae38, \\ub0b4\\uc801\\ub304\\uc2a4, \\uc5ec\\ud589, \\uc720\\ub2c8\\ud06c, \\uc2e0\\ub0a8, \\ucda4, \\uaca8\\uc6b8, \\uc124\\ub818, \\ubabd\\ud658\\uc801, \\ub85c\\ub9e8\\ud2f1, \\ub77c\\uc6b4\\uc9c0, \\ud55c\\uac15, \\ud074\\ub7fd, \\uc57c\\uacbd, \\ub3c4\\uc2dc, \\ubc14\\ub2e4, \\ud30c\\ud2f0, \\ucd9c\\uadfc\\uae38, \\uc544\\uce68, \\uc8fc\\ub9d0, \\uc624\\ud6c4, \\ub098\\ub4e4\\uc774, \\uc6b4\\uc804, \\uc0c8\\ubcbd\\uac10\\uc131, \\uce58\\uc720, \\ud65c\\uae30\\ucc2c, \\uc0b0\\ucc45\",\"['\\ud589\\ubcf5\\ud55c']\"],[\"\\uac00\\ub054\\uc529\",\"\\uc81c\\uc774\\ube44\",\"\\uae4c\\ud398, \\uc794\\uc794\\ud55c, \\ubc24, \\uc0c8\\ubcbd\",\"['\\uc794\\uc794\\ud55c']\"],[\"\\ub791\\ub370\\ubdf0\",\"\\uc591\\ud61c\\uc2b9\",\"\\ub304\\uc2a4, \\ud5ec\\uc2a4, \\ud074\\ub7fd\",\"['\\uacbd\\ucf8c\\ud55c']\"],[\"P.O.L (Power Of Love)\",\"\\ubcf4\\uc544 (BoA)\",\"\\uc794\\uc794\\ud55c, \\uc124\\ub818, \\uc0ac\\ub791, \\ub304\\uc2a4, \\ubd04, \\ubc24, \\uc0c8\\ubcbd, \\ud589\\ubcf5, \\ucd94\\uc5b5, \\uae30\\ubd84\\uc804\\ud658, \\ud68c\\uc0c1\",\"['\\ud589\\ubcf5\\ud55c']\"],[\"\\uadf8\\ub807\\uc2b5\\ub2c8\\uae4c\",\"\\ud750\\ub978\",\"\\uc2ac\\ud514, \\ubc24, \\uc774\\ubcc4, \\uc0c8\\ubcbd, \\uc4f8\\uc4f8, \\uc704\\ub85c, \\ud790\\ub9c1, \\ud734\\uc2dd, \\uc794\\uc794\\ud55c, \\ud3b8\\uc548\\ud55c, \\uae30\\ubd84\\uc804\\ud658, \\ube44\\uc624\\ub294\\ub0a0, \\ucd94\\uc5b5, \\uc0ac\\ub791, \\uc6b0\\uc6b8\\ud560\\ub54c, \\uc0c8\\ubcbd\\uac10\\uc131, \\ud68c\\uc0c1, \\uc800\\ub141, \\uc751\\uc6d0, \\uae4c\\ud398, \\uac00\\uc744, \\uc124\\ub818, \\uc7a0\\ub4e4\\uae30\\uc804, \\uc5ec\\ub984, \\ub4dc\\ub77c\\uc774\\ube0c, \\uc870\\uc6a9\\ud55c, \\uc2a4\\ud2b8\\ub808\\uc2a4, \\uac00\\uc744\\ubc24, \\uaca8\\uc6b8\\ubc24, \\uc6b0\\uc6b8, \\ud654\\uc774\\ud305, \\uaca8\\uc6b8, \\ube44, \\uc2ac\\ud508, \\ubc34\\ub4dc, \\ud750\\ub9b0\\ub0a0, \\ub098\\ub978\\ud55c, \\ubabd\\ud658\\uc801\\uc778, \\uc6b0\\uc6b8\\ud55c, \\ud1f4\\uadfc, \\ubd84\\uc704\\uae30, \\uce74\\ud398, \\ubd04, \\ubabd\\ud658, \\uc678\\ub85c\\uc6c0, \\ud1f4\\ud3d0, \\uc9dd\\uc0ac\\ub791, \\uc790\\uae30\\uc804\\uc5d0, \\uc13c\\uce58, \\uacf5\\ubd80, \\ub530\\ub73b\\ud568, \\ud1a0\\ub2e5\\ud1a0\\ub2e5, \\uc794\\uc794, \\ub208\\ubb3c, \\ud38d, \\ud798\\ub4e4\\ub54c, \\uac10\\uc131\\uc801\\uc778\",\"['\\uc6b0\\uc6b8\\ud55c']\"],[\"\\ub3c4\\ub451 (Thief)\",\"\\ube14\\ub77d\\ube44 \\ubc14\\uc2a4\\ud0c0\\uc988\",\"\\uae30\\ubd84\\uc804\\ud658, \\uc6b4\\ub3d9, \\ub4dc\\ub77c\\uc774\\ube0c, \\uc5ec\\ub984, \\ube44\\uc624\\ub294\\ub0a0, \\ud790\\ub9c1, \\ud734\\uc2dd\",\"['\\ud589\\ubcf5\\ud55c']\"],[\"\\uc0ac\\uc774 (My Side) (Feat. oceanfromtheblue, ASH ISLAND, BRADYSTREET, Wonstein)\",\"HD BL4CK\",\"\\uc5ec\\ub984, \\uae30\\ubd84\\uc804\\ud658, \\ubd04, \\uc794\\uc794\\ud55c, \\ub4dc\\ub77c\\uc774\\ube0c, \\uce74\\ud398\",\"['\\ud589\\ubcf5\\ud55c']\"],[\"Can You Hear Me?\",\"\\uc591\\ud30c\",\"\\ud790\\ub9c1, \\ud734\\uc2dd, \\ubc24, \\uc0c8\\ubcbd, \\ucd94\\uc5b5, \\uae4c\\ud398, \\ud68c\\uc0c1, \\ube44\\uc624\\ub294\\ub0a0, \\uc794\\uc794\\ud55c, \\ubd04, \\uc124\\ub818, \\uc0ac\\ub791, \\ubba4\\uc9c0\\uceec\",\"['\\ud589\\ubcf5\\ud55c']\"],[\"Like A Wind\",\"\\uc5e0\\uc528\\ub354\\ub9e5\\uc2a4 (M.C the MAX)\",\"\\ub4dc\\ub77c\\uc774\\ube0c, \\uc6b0\\uc6b8, \\ubd04\",\"['\\ud589\\ubcf5\\ud55c']\"],[\"Town Of The Wind\",\"SPICY KICKIN`\",\"\\uae30\\ubd84\\uc804\\ud658, \\uc6b4\\ub3d9, \\ub4dc\\ub77c\\uc774\\ube0c, \\ud558\\ub8e8, \\ucd9c\\uadfc\\uae38, \\uc544\\uce68, \\uc0c1\\ucf8c\\ud55c, \\ud654\\uc774\\ud305, \\uc8fc\\ub9d0, \\uc794\\uc794\\ud55c\",\"['\\ud589\\ubcf5\\ud55c']\"],[\"Yellow\",\"Coldplay\",\"\\ud734\\uc2dd, \\ud790\\ub9c1, \\uae30\\ubd84\\uc804\\ud658, \\uc2a4\\ud2b8\\ub808\\uc2a4, \\uae4c\\ud398, \\ube44\\uc624\\ub294\\ub0a0, \\uc7a5\\ub9c8, \\ubd84\\uc704\\uae30, \\ubc24, \\uce74\\ud398, \\uc5ec\\ub984\\ubc24, \\ud68c\\uc0c1, \\ubd04, \\uc124\\ub818, \\uc0ac\\ub791, \\ub4dc\\ub77c\\uc774\\ube0c, \\uc5ec\\ud589, \\uc2e0\\ub098\\ub294, \\uc0c8\\ubcbd, \\ucd94\\uc5b5, \\uc794\\uc794\\ud55c, \\uaca8\\uc6b8, \\uc8fc\\ub9d0, \\uac10\\uc131\\uc801\\uc778, \\ubc34\\ub4dc, \\uc124\\ub808\\uc784, \\ub2a6\\uc740\\ubc24, \\uc378, \\uc5ec\\ub984, \\ubabd\\ud658, \\uc6d4\\uc694\\ubcd1, \\uc2dc\\uc6d0\\ud55c, \\ucd9c\\uadfc, \\ud3b8\\uc548\\ud55c, \\ud654\\uc774\\ud305, \\uacf5\\ubd80, \\uc0b0\\ucc45, \\uc0c8\\ubcbd\\uac10\\uc131, \\uc7a0\\uc798\\ub54c, \\ub530\\ub73b\\ud55c, \\uc6b0\\uc6b8, \\uc774\\ubcc4, \\uac10\\uc131\\uc790\\uadf9, \\uce68\\ub300, \\uac00\\uc744\\ubc24, \\uac00\\uc744, \\uc2dc\\ud5d8, \\uc2ac\\ud514, \\uc704\\ub85c, \\uc4f8\\uc4f8\\ud568, \\ubabd\\ud658\\uc801\\uc778, \\ucc28\\ubd84\\ud55c, \\uc13c\\uce58, \\uadf8\\ub9ac\\uc6c0, \\uc7a0\\ub4e4\\uae30\\uc804, \\uc790\\uc7a5\\uac00, \\ubd88\\uba74\\uc99d, \\uc5f0\\ud734, \\uace0\\uc18d\\ub3c4\\ub85c, \\uccad\\ub7c9\\uac10, \\ud1f4\\uadfc\\uae38, \\ub9ac\\ub4dc\\ubbf8\\uceec, \\ub370\\uc774\\ud2b8, \\ud06c\\ub9ac\\uc2a4\\ub9c8\\uc2a4, \\uc794\\uc794, \\uac15\\ub82c\\ud55c, \\ube44, \\uc6b4\\ub3d9, \\uc751\\uc6d0, \\ub530\\uc2a4\\ud55c, \\ud798\\ub0b4, \\uc2e0\\ub0a8, \\uc2a4\\ud2b8\\ub808\\uc2a4\\ud574\\uc18c, \\uc5f0\\uc560, \\ub85c\\ub9e8\\ud2f1, \\ub178\\ub3d9\\uc694, \\uc4f8\\uc4f8, \\uc5f4\\ub300\\uc57c, \\uc77c\\uc0c1, \\ud55c\\uac15, \\uc57c\\uacbd, \\uc5ec\\uc720, \\ub098\\ub978\\ud55c, \\uc800\\ub141, \\ucee4\\ud53c, \\ucd9c\\uadfc\\uae38, \\uc544\\uce68, \\ubaa8\\ub2dd\\ucf5c, \\uc0c1\\ucf8c\\ud55c, \\ud587\\uc0b4, \\uc624\\ud6c4, \\ubc9a\\uaf43, \\ucd94\\uc5b5\\ud68c\\uc0c1, \\uac10\\uc218\\uc131, \\uc544\\ub828\\ud55c, \\uace0\\ub3c5, \\ud3b8\\uc548\\ud568, \\uc4f8\\uc4f8\\ud55c, \\uc678\\ub85c\\uc6c0, \\ub099\\uc5fd, \\uc9d1, \\ud1f4\\uadfc, \\uc990\\uac70\\uc6b4, \\ud734\\uac00, \\ubd88\\uae08, \\uc7a0, \\ub0ae\\uc7a0, \\ub3c5\\uc11c, \\uc870\\uc6a9\\ud55c, \\uc2dc\\uc6d0, \\uccad\\ub7c9\\ud55c, \\ud765\",\"['\\uc794\\uc794\\ud55c']\"],[\"\\uc18c\\uc8fc \\ud55c \\uc794\",\"\\uc784\\ucc3d\\uc815\",\"\\uc774\\ubcc4, \\uc2ac\\ud514, \\ucd94\\uc5b5, \\ud68c\\uc0c1\",\"['\\uc6b0\\uc6b8\\ud55c']\"],[\"Girls Girls Girls (Feat. \\uba54\\uc774\\ucee4\\uc2ac)\",\"\\ub2ec\\uc0e4\\ubcb3\",\"\\uae30\\ubd84\\uc804\\ud658, \\uc6b4\\ub3d9\",\"['\\ud589\\ubcf5\\ud55c', '\\uacbd\\ucf8c\\ud55c']\"],[\"\\uc0ac\\ub791\\uc774\\uc5c8\\ub358 \\uc2dc\\uc808 (Vocal \\uc124\\uacbd)\",\"\\uc720\\uc6a9\\ud638\",\"\\ubc24, \\uc794\\uc794\\ud55c, \\uc0c8\\ubcbd, \\uc704\\ub85c, \\ud3ec\\uadfc\\ud55c, \\ub530\\ub73b\\ud55c, \\uc6b0\\uc6b8, \\uc2ac\\ud508, \\uaca8\\uc6b8, \\uce74\\ud398, \\uc5ec\\ud589, \\uae30\\ubd84\\uc804\\ud658, \\ucd94\\uc5b5, \\uc0ac\\ub791, \\uc774\\ubcc4\",\"['\\uc6b0\\uc6b8\\ud55c']\"],[\"Naked\",\"Nickea\",\"\\uc5ec\\ud589, \\uae4c\\ud398, \\uc0b0\\ucc45, \\ud734\\uc2dd, \\ud790\\ub9c1, \\uaca8\\uc6b8, \\uac00\\uc744, \\uae30\\ubd84\\uc804\\ud658, \\uc124\\ub818, \\uc0ac\\ub791\",\"['\\uc794\\uc794\\ud55c']\"],[\"\\uc0ac\\ub791 \\uac08\\ub4f1\",\"\\uc5c4\\uc815\\ud654\",\"\\ub304\\uc2a4\",\"['\\uacbd\\ucf8c\\ud55c']\"],[\"\\uc0dd\\uac01\\ud560 \\uc2dc\\uac04\",\"\\uc190\\ub3d9\\uc6b4, \\uc720\\uc8fc\\ud61c, \\uc774\\ubcd1\\uc900\",\"\\ud790\\ub9c1, \\ud734\\uc2dd, \\uae30\\ubd84\\uc804\\ud658\",\"['\\ud589\\ubcf5\\ud55c']\"],[\"\\uc0dd\\uac01\\ud574\\ubd24\\uc5b4\",\"\\ud55c\\ub3d9\\uadfc\",\"\\uaca8\\uc6b8, \\ud734\\uc2dd, \\uce74\\ud398, \\uc794\\uc794\\ud55c, \\ucd94\\uc5b5, \\uae30\\ubd84\\uc804\\ud658, \\uc0ac\\ub791, \\uac10\\uc218\\uc131, \\uc2ac\\ud514, \\uc774\\ubcc4, \\ubc24, \\uc0c8\\ubcbd, \\uc13c\\uce58\",\"['\\uc794\\uc794\\ud55c']\"],[\"Let It Out\",\"Ed Sheeran\",\"\\ud734\\uc2dd, \\ud790\\ub9c1, \\ubc24, \\uc0c8\\ubcbd, \\ubd84\\uc704\\uae30, \\ub4dc\\ub77c\\uc774\\ube0c, \\uce74\\ud398, \\uae30\\ubd84\\uc804\\ud658, \\uc0ac\\ub791\",\"['\\uc794\\uc794\\ud55c', '\\ud589\\ubcf5\\ud55c']\"],[\"\\uad8c\\ud0dc \\uadf8 \\uc55e\\uc5d0\\uc120 \\uc6b0\\ub9ac (Radio Edit) (Bonus Track)\",\"\\ud30c\\ub2c8 \\ud551\\ud06c\",\"\\uc2ac\\ud514, \\ubc24, \\uc774\\ubcc4, \\uc0c8\\ubcbd, \\ube44\\uc624\\ub294\\ub0a0, \\ud68c\\uc0c1, \\ucd94\\uc5b5, \\uc2ac\\ud508\",\"['\\uc6b0\\uc6b8\\ud55c']\"],[\"\\uadf8\\ub300 \\ub0b4 \\ub9d8\\uc5d0 \\ub4e4\\uc5b4\\uc624\\uba74\\uc740 (Feat. C-Luv)\",\"\\uc5e0\\ube14\\ub799\",\"\\ub304\\uc2a4, \\uae30\\ubd84\\uc804\\ud658, \\uc124\\ub818, \\uc0ac\\ub791, \\ud589\\ubcf5, \\uc2ac\\ud514, \\uc774\\ubcc4, \\uc0c8\\ubcbd\\uac10\\uc131, \\ube44\\uc624\\ub294\\ub0a0, \\ubc24, \\uc0c8\\ubcbd, \\ud734\\uc2dd, \\ud790\\ub9c1, \\uc794\\uc794\\ud55c, \\ucd94\\uc5b5, \\ud68c\\uc0c1, \\ub4dc\\ub77c\\uc774\\ube0c, \\uc2a4\\ud2b8\\ub808\\uc2a4\",\"['\\uc6b0\\uc6b8\\ud55c']\"],[\"You In Me\",\"\\uce74\\ub4dc (KARD)\",\"\\uc0c8\\ud574, \\ub304\\uc2a4, \\ub4dc\\ub77c\\uc774\\ube0c, \\uacbd\\ucf8c\\ud55c, \\uc5ec\\ud589, \\uc2dc\\uc6d0\\ud55c, \\uae30\\ubd84\\uc804\\ud658, \\uccad\\ub7c9\\ud55c, \\uc2e0\\ub098\\ub294, \\uc5ec\\ub984, \\uccad\\ub7c9, \\ud765\\ud3ed\\ubc1c, \\uaca8\\uc6b8, \\ucd9c\\uadfc\\uae38, \\uac10\\uc131\\uc790\\uadf9, \\uc794\\uc794\\ud55c, \\uc0c8\\ubcbd, \\uc0c8\\ubcbd\\uac10\\uc131, \\uc6b0\\uc6b8, \\uc704\\ub85c, \\uc790\\uae30\\uc804\\uc5d0, \\ucd94\\uc5b5, \\uc6b4\\ub3d9\\ud560\\ub54c, \\ud5ec\\uc2a4\\uc7a5, \\uc2a4\\ud2b8\\ub808\\uc2a4, \\ud734\\uc2dd, \\ud790\\ub9c1, \\ubd04, \\uc0ac\\ub791, \\uc0b0\\ucc45, \\ubc24\",\"['\\uacbd\\ucf8c\\ud55c']\"],[\"\\uadf8\\uac8c \\ub098\\uc758 \\uc804\\ubd80\\ub780 \\uac78 (Duet with \\uc625\\uc8fc\\ud604)\",\"\\ud64d\\uad11\\ud638\",\"\\ubba4\\uc9c0\\uceec\",\"['\\uacbd\\ucf8c\\ud55c']\"],[\"\\uc720\\uce58\\ud574\\ub3c4 (Prod. \\uc774\\ubbfc\\ud601 (\\ube44\\ud22c\\ube44))\",\"\\uc18c\\ud76c, \\uae40\\uc0c1\\uade0\",\"\\uc5f0\\uc778, \\uae30\\ubd84\\uc804\\ud658, \\uce74\\ud398, \\ub2ec\\ucf64\\ud55c, \\ud734\\uc2dd, \\ub4dc\\ub77c\\uc774\\ube0c, \\uaca8\\uc6b8, \\ud06c\\ub9ac\\uc2a4\\ub9c8\\uc2a4, \\uce90\\ub864, \\uc5f0\\ub9d0, \\uc378, \\uc0ac\\ub791, \\uc124\\ub818, \\uc2dc\\uc791, \\ubd04, \\ub304\\uc2a4, \\uc794\\uc794\\ud55c, \\uc2e0\\ub098\\ub294, \\ub208, \\ub208\\uc624\\ub294\\ub0a0, \\uaca8\\uc6b8\\uac10\\uc131, \\uc774\\ubcc4, \\uce5c\\uad6c, \\uc18c\\ud48d, \\uc5ec\\ud589, \\uc2a4\\ud2b8\\ub808\\uc2a4, \\ub2ec\\ub2ec\\ud55c, \\uc0c8\\ubcbd, \\ud589\\ubcf5, \\ubc9a\\uaf43, \\uc124\\ub808\\uc784, \\ub370\\uc774\\ud2b8, \\ucd94\\uc5b5, \\uc544\\uce68, \\uc6b4\\ub3d9, \\uc0c8\\ud574, \\uae30\\ubd84\\uc5c5, \\uace0\\ubc31, \\ucee4\\ud53c, \\ud790\\ub9c1\",\"['\\ud589\\ubcf5\\ud55c']\"],[\"\\uadf8\\ub294\\ub108\\uc758\\uafc8\",\"\\uc6b0\\uc8fc\\uc655\\ubcf5\\uc120\\uc2f8\\uc774\\ub4dc\\ubbf8\\ub7ec\",\"\\ub4dc\\ub77c\\uc774\\ube0c, \\ud734\\uc2dd, \\uae30\\ubd84\\uc804\\ud658, \\ubd84\\uc704\\uae30, \\ud3b8\\uc548\\ud55c\",\"['\\ud589\\ubcf5\\ud55c', '\\uc794\\uc794\\ud55c']\"],[\"Foolish Heart\",\"Steve Perry\",\"\\ubc24, \\uc0c8\\ubcbd\",\"['\\ubb34\\uc11c\\uc6b4', '\\uc6b0\\uc6b8\\ud55c']\"],[\"\\ub098\\uc05c\\ub188\",\"\\uc785\\uc220\\uc744\\uae68\\ubb3c\\ub2e4\",\"\\ucd9c\\uadfc\\uae38, \\uc544\\uce68, \\uc0c1\\ud07c\\ud55c, \\uacbd\\ucf8c\\ud55c, \\ub2ec\\ucf64\\ud55c, \\uc5ec\\ub984, \\ud734\\uc2dd, \\ud53c\\ud06c\\ub2c9, \\ud790\\ub9c1, \\uae30\\ubd84\\uc804\\ud658, \\uc77c\\uc0c1, \\ud398\\uc2a4\\ud2f0\\ubc8c\",\"['\\uacbd\\ucf8c\\ud55c']\"],[\"Life By The Drop\",\"Stevie Ray Vaughan & Double Trouble\",\"\\uae30\\ubd84\\uc88b\\uc740, \\ud765\\uaca8\\uc6b4, \\uc5ec\\ud589, \\uc990\\uac70\\uc6b4, \\ubc1d\\uc740\",\"['\\ud589\\ubcf5\\ud55c']\"],[\"Clouds\",\"One Direction\",\"\\ub0b4\\uc801\\ub304\\uc2a4, \\uc2a4\\ud2b8\\ub808\\uc2a4, \\uae30\\ubd84\\uc804\\ud658, \\ud734\\uc2dd, \\ud790\\ub9c1\",\"['\\ud589\\ubcf5\\ud55c']\"],[\"\\ud558\\uc9c0 \\ubabb\\ud558\\uace0\",\"\\uc18c\\uc19c\",\"\\ubc24, \\uc794\\uc794\\ud55c, \\uc0c8\\ubcbd, \\uc774\\ubcc4, \\uc194\\ub85c, \\uc9dd\\uc0ac\\ub791, \\uc2ac\\ud514, \\uc124\\ub818, \\uc678\\ub85c\\uc6c0, \\uc7a0\\uc798\\ub54c, \\uac10\\uc218\\uc131, \\ubd84\\uc704\\uae30, \\uc6b0\\uc6b8, \\uce74\\ud398, \\uac00\\uc744, \\uc0c8\\ubcbd\\uac10\\uc131, \\uc4f8\\uc4f8, \\uc0ac\\ub791\",\"['\\uc794\\uc794\\ud55c']\"],[\"Mood Swing (feat. sokodomo)\",\"Jade\",\"\\uae30\\ubd84\\uc804\\ud658\",\"['\\ud589\\ubcf5\\ud55c']\"],[\"\\uadf8\\ub54c\\ucc98\\ub7fc\",\"\\uc5ec\\ub514\\uc640 \\uc6b0\\ub9bc\",\"\\ud734\\uc2dd, \\ubc24, \\uac00\\uc744, \\uc0c8\\ubcbd, \\ucd94\\uc5b5, \\ud68c\\uc0c1, \\uaca8\\uc6b8, \\ub208, \\uc794\\uc794\\ud55c, \\uc124\\ub818, \\uae30\\ubd84\\uc804\\ud658, \\uc0ac\\ub791, \\uae4c\\ud398, \\uce74\\ud398, \\uc774\\ubcc4, \\uc2ac\\ud514, \\ube44\\uc624\\ub294\\ub0a0, \\uc5ec\\ub984, \\uc13c\\uce58, \\ud790\\ub9c1\",\"['\\uc794\\uc794\\ud55c']\"],[\"Part One Of The Cowboy Trilogy\",\"Sean Lennon\",\"\\uaca8\\uc6b8, \\uce74\\ud398, \\uc6b0\\uc6b8\",\"['\\uc794\\uc794\\ud55c']\"],[\"\\uc624\\ub298 \\ubc24\\uc5d4\",\"\\uc131\\uad11\\ud604\",\"\\uc220, \\uc0c8\\ubcbd, \\ubabd\\ud658, \\uce74\\ud398, \\ucee4\\ud53c, \\uae4c\\ud398\",\"['\\uc794\\uc794\\ud55c']\"],[\"My Pace\",\"Stray Kids (\\uc2a4\\ud2b8\\ub808\\uc774 \\ud0a4\\uc988)\",\"\\uc6b4\\ub3d9, \\uc2e0\\ub098\\ub294\",\"['\\uacbd\\ucf8c\\ud55c', '\\ud589\\ubcf5\\ud55c']\"],[\"\\ub108\\uc5d0\\uac8c \\uac00\\ub294 \\uae38\",\"\\uc774\\uc728, \\uc724\\ub098\\ubb34\",\"\\ubba4\\uc9c0\\uceec, \\uac00\\uc744, \\ub4dc\\ub77c\\uc774\\ube0c, \\uae30\\ubd84\\uc804\\ud658, \\uc2a4\\ud2b8\\ub808\\uc2a4, \\uc2e0\\ub098\\ub294\",\"['\\uacbd\\ucf8c\\ud55c']\"],[\"\\ub108\\uc5d0\\uac8c \\uac00\\ub294 \\uae38\",\"\\uc131\\ub450\\uc12d, \\uc774\\uc728, \\uae40\\ub300\\ud604, \\uae40\\uc9c0\\ud718, \\uc724\\ub098\\ubb34, \\uae40\\uc131\\ucca0\",\"\\ubba4\\uc9c0\\uceec, \\uac00\\uc744, \\ub4dc\\ub77c\\uc774\\ube0c, \\uae30\\ubd84\\uc804\\ud658, \\uc2a4\\ud2b8\\ub808\\uc2a4, \\uc2e0\\ub098\\ub294\",\"['\\uacbd\\ucf8c\\ud55c']\"],[\"Mandrake\",\"\\uad6d\\uce74\\uc2a4\\ud150\",\"\\ube44\\uc624\\ub294\\ub0a0, \\uc2a4\\ud2b8\\ub808\\uc2a4, \\uae30\\ubd84\\uc804\\ud658, \\ubc34\\ub4dc, \\uc2ac\\ud514, \\ucd94\\uc5b5, \\uc774\\ubcc4, \\ud68c\\uc0c1, \\ub4dc\\ub77c\\uc774\\ube0c, \\uc2e0\\ub098\\ub294, \\ubd80\\ub4dc\\ub7ec\\uc6b4, \\uae30\\ubd84\\uc88b\\uc740, \\uc5ec\\ub984, \\ud790\\ub9c1, \\ud734\\uc2dd, \\ud398\\uc2a4\\ud2f0\\ubc8c, \\uac00\\uc744\\uac10\\uc131\",\"['\\ud589\\ubcf5\\ud55c']\"],[\"Enter The Dragon\",\"JTL\",\"\\uae30\\ubd84\\uc804\\ud658, \\ubd04, \\ub304\\uc2a4\",\"['\\ud589\\ubcf5\\ud55c', '\\uacbd\\ucf8c\\ud55c']\"],[\"\\ud3b8\\ub9b0 \\uc77c\\uc9c0\\ub77c\\ub3c4, \\ub0b4 \\uc783\\uc5b4 \\ubc84\\ub9b0 \\uae30\\uc5b5\",\"\\uc5d0\\ud53c\\ud1a4 \\ud504\\ub85c\\uc81d\\ud2b8\",\"\\ud734\\uc2dd, \\ud790\\ub9c1, \\ubd04, \\ucd94\\uc5b5, \\uae4c\\ud398, \\ud68c\\uc0c1, \\uc0ac\\ub791, \\ubc24, \\uc124\\ub818, \\uc0c8\\ubcbd, \\uae30\\ubd84\\uc804\\ud658, \\uc794\\uc794\\ud55c, \\uc0b0\\ucc45, \\ub4dc\\ub77c\\uc774\\ube0c, \\uc2ac\\ud514, \\uc774\\ubcc4, \\uc5ec\\ud589\",\"['\\uc794\\uc794\\ud55c']\"],[\"Autumn Breeze (Feat. Rachel Lim)\",\"JIDA (\\uc9c0\\ub2e4)\",\"\\uac00\\uc744\\uac10\\uc131, \\uc794\\uc794\\ud55c, \\ud589\\ubcf5, \\ubabd\\ud658, \\uc9d1, \\ub4dc\\ub77c\\uc774\\ube0c, \\uc0b0\\ucc45, \\uaca8\\uc6b8, \\ube44\\uc624\\ub294\\ub0a0, \\ubc24, \\uce74\\ud398, \\uc0c8\\ubcbd, \\uc5f4\\ub300\\uc57c, \\uae30\\ubd84\\uc804\\ud658, \\uc6b0\\uc6b8\\ud560\\ub54c, \\uc751\\uc6d0, \\ud1a0\\ub2e5\\ud1a0\\ub2e5, \\ubd88\\uba74\\uc99d, \\ud1f4\\uadfc\\uae38, \\ud798\\ub0b4, \\ube44, \\uac00\\uc744, \\uaca8\\uc6b8\\uac10\\uc131, \\ub2ec\\ub2ec\\ud55c, \\uaca8\\uc6b8\\ubc24, \\uace0\\ubc31, \\uc0ac\\ub791, \\uc720\\ub2c8\\ud06c, \\uc7a0, \\ud734\\uc2dd, \\uc800\\ub141, \\uc774\\ubcc4, \\ud790\\ub9c1, \\uc220, \\uac00\\uc744\\ubc24, \\uc544\\uce68, \\ucd94\\uc5b5, \\uc704\\ub85c, \\ud765\\uaca8\\uc6b4, \\ucd9c\\uadfc\\uae38, \\uc77c\\uc0c1, \\uc2a4\\ud2b8\\ub808\\uc2a4, \\uc6d4\\uc694\\ubcd1, \\uc2e0\\ub098\\ub294, \\uc790\\uc7a5\\uac00, \\uc7a5\\ub9c8, \\uc0c8\\ubcbd\\uac10\\uc131, \\ud1f4\\ud3d0, \\ub098\\ub978\\ud55c, \\uc5ec\\ud589, \\uc5f0\\uc778, \\ubd84\\uc704\\uae30, \\uc6b8\\uace0\\uc2f6\\uc744\\ub54c, \\ub208\\ubb3c, \\uc6b0\\uc6b8, \\uc2ac\\ud514, \\ud68c\\uc0c1, \\ud5e4\\uc5b4\\uc9d0, \\ud63c\\uc790\\uc788\\uc744\\ub54c, \\uc13c\\uce58, \\uc5ec\\ub984\\ubc24, \\uc5ec\\ub984, \\uc5ec\\uc720, \\uc9c0\\uce60\\ub54c, \\uacf5\\ubd80, \\ud3b8\\uc548\\ud55c, \\ub3c5\\uc11c, \\ucee4\\ud53c, \\uc7a0\\ub4e4\\uae30\\uc804, \\uc794\\uc794, \\uc4f8\\uc4f8, \\uc8fc\\ub9d0, \\uc678\\ucd9c, \\uc624\\ud6c4, \\ub099\\uc5fd, \\ubc34\\ub4dc, \\ucee4\\ud53c\\uc20d, \\uac10\\ubbf8\\ub85c\\uc6b4, \\uc678\\ub85c\\uc6c0, \\ub2ec\\ub2ec, \\uc5f0\\ub9d0, \\ud06c\\ub9ac\\uc2a4\\ub9c8\\uc2a4, \\ubd04, \\ubd04\\ub0a0, \\uc124\\ub818, \\uc790\\uae30\\uc804\\uc5d0, \\uac10\\uc131\\uc790\\uadf9, \\ubcc4, \\uacf5\\uac10, \\uc9dd\\uc0ac\\ub791, \\uc2ac\\ud508, \\ubabd\\ud658\\uc801, \\ubabd\\ud658\\uc801\\uc778, \\uace0\\ub3c5, \\uae4c\\ud398, \\uac00\\uc744\\ube44, \\uc218\\uba74, \\uc0ac\\uc0c9, \\ubd81\\uce74\\ud398, \\ubc9a\\uaf43, \\uc2dc\\uc6d0\\ud55c, \\ubc14\\ub2e4, \\uae30\\uc5b5, \\uac10\\uc131\\uc801\\uc778, \\uc2a4\\ud2b8\\ub808\\uc2a4\\ud574\\uc18c, \\uce68\\ub300, \\ub0ad\\ub9cc, \\uafc0\\uc7a0, \\ud1f4\\uadfc, \\ud398\\uc2a4\\ud2f0\\ubc8c, \\uc4f8\\uc4f8\\ud55c, \\ub530\\uc2a4\\ud55c, \\ub208, \\uadf8\\ub9ac\\uc6c0, \\uc5f0\\uc560, \\ubd88\\uae08, \\ud3ec\\uadfc\\ud55c, \\uc6b4\\uc804, \\uc194\\ub85c, \\ubd04\\ube44, \\uc0c8\\ud574, \\uc120\\uc120\\ud55c, \\uc790\\uae30\\uc804, \\uac10\\uc218\\uc131\",\"['\\uc6b0\\uc6b8\\ud55c']\"],[\"\\ub355\\uc218\\uad81 \\ub3cc\\ub2f4\\uae38\\uc758 \\ubd04 (Feat. 10cm)\",\"\\uc724\\uc544 (YOONA)\",\"\\ubd04, \\ub530\\ub73b\\ud55c, \\uc0c1\\ud07c, \\ud53c\\ud06c\\ub2c9, \\ubd04\\ub178\\ub798, \\uc18c\\ud48d, \\ubc9a\\uaf43, \\uc0ac\\ub791, \\uc378, \\uce74\\ud398, \\uc5f0\\uc560, \\uc124\\ub818, \\ubd04\\ubc14\\ub78c, \\ubd04\\ub0a0, \\uc6b4\\ub3d9, \\ub2ec\\ub2ec, \\ub4dc\\ub77c\\uc774\\ube0c, \\uae30\\ubd84\\uc804\\ud658, \\ub2ec\\ub2ec\\ud55c, \\uaf43, \\ub098\\ub978\\ud55c, \\uc0b0\\ucc45, \\uc2e0\\ub098\\ub294, \\uc794\\uc794\\ud55c, \\uc790\\uae30\\uc804, \\uc5ec\\ub984, \\uc5ec\\ub984\\ubc24, \\uc0c1\\ud07c\\ud55c, \\uc5ec\\ud589, \\uc0c1\\ucf8c\\ud55c, \\uccad\\ub7c9\\ud55c, \\uc990\\uac70\\uc6b4, \\ud734\\uc2dd, \\ud790\\ub9c1, \\uae4c\\ud398, \\uc5f0\\uc778, \\ub098\\ub4e4\\uc774, \\ub370\\uc774\\ud2b8, \\ucee4\\ud53c, \\uc7a0\\ub4e4\\uae30\\uc804, \\ud589\\ubcf5, \\uc124\\ub808\\uc784, \\uace0\\ubc31, \\uc8fc\\ub9d0, \\ucd94\\uc5b5, \\ub2ec\\ucf64, \\uc2a4\\ud2b8\\ub808\\uc2a4, \\ucd9c\\uadfc\\uae38, \\uc6d4\\uc694\\uc77c, \\ud1f4\\uadfc\\uae38, \\ud587\\uc0b4, \\uc704\\ub85c, \\uc2ac\\ud514, \\uc5ec\\uc720, \\uc794\\uc794, \\ucee4\\ud53c\\uc20d, \\uc0c8\\ubcbd, \\uae30\\ubd84\\uc88b\\uc740, \\uaca8\\uc6b8, \\uc870\\uc6a9\\ud55c, \\uc790\\uc7a5\\uac00, \\ucee4\\ud50c, \\ub530\\ub73b\\ud568, \\ud1a0\\ub2e5\\ud1a0\\ub2e5, \\ud06c\\ub9ac\\uc2a4\\ub9c8\\uc2a4, \\ud63c\\uc220, \\ud798\\ub0b4, \\uc774\\ubcc4, \\uac10\\ub3d9, \\ud734\\uc591\\uc9c0, \\uc2dc\\uc6d0, \\uc0c1\\ucf8c, \\ubc14\\uce89\\uc2a4, \\ud734\\uac00, \\uc124\\ub808\\ub294, \\uc544\\uce68, \\ucd9c\\uadfc, \\uc2dc\\uc791, \\ub9d1\\uc740, \\uc791\\uc5c5, \\uc77c\\uc0c1, \\ub530\\ub73b, \\ubd04\\ube44, \\ubc24, \\uac00\\uc744\\uac10\\uc131, \\uc9d1, \\uc2a4\\ud3ec\\uce20, \\ub208, \\uc4f8\\uc4f8\\ud55c, \\ub304\\uc2a4, \\uc2ec\\ucff5, \\uccab\\ub208, \\uaca8\\uc6b8\\uac10\\uc131, \\uc0c8\\ubcbd\\uac10\\uc131, \\uc9dd\\uc0ac\\ub791, \\uc5ec\\ud589\\uc0b0\\ucc45, \\uac10\\uc131\\uc801\\uc778, \\uc800\\ub141, \\uacf5\\ubd80, \\ud3ec\\uadfc\\ud55c, \\uac00\\uc744, \\ud68c\\uc0c1, \\ud55c\\uac15, \\uae30\\ubd84\\uc5c5, \\uce5c\\uad6c\",\"['\\ud589\\ubcf5\\ud55c']\"],[\"\\ub098 \\uc0dd\\uac01\\uc788\\ub294 \\uc5ec\\uc790\\uc57c\",\"\\ud61c\\ub839\",\"\\uc794\\uc794\\ud55c, \\uc2a4\\ud2b8\\ub808\\uc2a4, \\uae30\\ubd84\\uc804\\ud658, \\ucd94\\uc5b5, \\ud68c\\uc0c1\",\"['\\uc794\\uc794\\ud55c']\"],[\"\\ub108 \\uc0ac\\ub791\\uc548\\uc5d0\",\"\\uc2e0\\ud654\",\"\\uc794\\uc794\\ud55c, \\ucd94\\uc5b5, \\ud68c\\uc0c1, \\ud790\\ub9c1, \\ud734\\uc2dd\",\"['\\uc794\\uc794\\ud55c']\"],[\"\\ud3b8\\uc9c0\",\"\\uc7a5\\ud76c\\uc6d0\",\"\\uc5f0\\ub9d0, \\ub208\\uc624\\ub294\\ub0a0, \\uce90\\ub7f4, \\ubd84\\uc704\\uae30, \\ub530\\ub4ef\\ud55c, \\ud06c\\ub9ac\\uc2a4\\ub9c8\\uc2a4, \\ubc9a\\uaf43, \\ubd04, \\ub530\\ub73b\\ud55c, \\uc0ac\\ub791, \\ubc24, \\ub2ec\\ub2ec\\ud55c, \\uc5f0\\uc778, \\uc0c8\\ubcbd, \\uc790\\uc7a5\\uac00, \\ub2ec\\ucf64\\ud55c, \\ube44\\uc624\\ub294\\ub0a0, \\uac10\\uc131\\uc790\\uadf9, \\uacf5\\ubd80, \\uc8fc\\ub9d0, \\uc9dd\\uc0ac\\ub791, \\uace0\\ubc31, \\uc124\\ub818, \\uaca8\\uc6b8, \\uce74\\ud398, \\uaca8\\uc6b8\\ubc24, \\ucee4\\ud53c, \\ud3ec\\uadfc\\ud55c, \\ucc2c\\ubc14\\ub78c, \\uc5ec\\ub984, \\ud734\\uac00, \\uc5ec\\ub984\\ubc24, \\ud589\\ubcf5, \\uccad\\ub7c9, \\uc5ec\\ud589, \\uc2dc\\uc6d0\\ud55c, \\uc624\\ud6c4, \\ucee4\\ud50c, \\uc0c1\\ud07c, \\ud398\\uc2a4\\ud2f0\\ubc8c, \\uae30\\ubd84\\uc804\\ud658, \\ud790\\ub9c1, \\uc4f8\\uc4f8\\ud55c, \\uc794\\uc794\\ud55c, \\uc13c\\uce58, \\uc790\\uae30\\uc804\\uc5d0, \\ud1f4\\uadfc\\uae38, \\uae30\\ubd84\\uc88b\\uc740, \\uac00\\uc744, \\uc0b0\\ucc45, \\ube44, \\ub2ec\\ub2ec, \\uc6b0\\uc6b8\\ud55c, \\uc2ac\\ud508, \\ud68c\\uc0c1, \\uc2dc\\uc791, \\ub9d1\\uc740, \\uccad\\ub7c9\\ud55c, \\uccad\\ucd98, \\ub178\\ub3d9\\uc694, \\ubb34\\ub354\\uc704, \\ub4dc\\ub77c\\uc774\\ube0c, \\ud734\\uc2dd, \\ucd94\\uc5b5, \\uc5f4\\ub300\\uc57c, \\uc9d1, \\uc791\\uc5c5, \\uc774\\ubcc4, \\ub2ec\\ucf64, \\uc800\\ub141, \\ud55c\\uac15, \\uce5c\\uad6c, \\uc77c\\uc0c1, \\uc18c\\ud48d, \\ub370\\uc774\\ud2b8, \\uc544\\uce68, \\ucd9c\\uadfc, \\uc6d4\\uc694\\ubcd1, \\uc2e0\\ub098\\ub294, \\uc7a5\\ub9c8, \\uc0c1\\ud07c\\ud55c, \\uae4c\\ud398, \\ud3b8\\uc548\\ud55c, \\ub85c\\ub9e8\\ud2f1, \\uc2a4\\ud2b8\\ub808\\uc2a4, \\ucd9c\\uadfc\\uae38, \\ud558\\ub8e8, \\ubd04\\ub0a0, \\ud587\\uc0b4, \\uc544\\ub984\\ub2e4\\uc6b4, \\ucc28\\ubd84\\ud55c, \\uc5d0\\ub108\\uc9c0, \\ud5ec\\uc2a4\\uc7a5, \\uc6b4\\ub3d9, \\uc720\\ub2c8\\ud06c, \\ub0ae\\uc7a0, \\ud765\\uaca8\\uc6b4, \\ub098\\ub978\\ud55c, \\uc5ec\\ud589\\uc0b0\\ucc45, \\ud53c\\uace4, \\uc794\\uc794, \\ub530\\uc2a4\\ud55c, \\ubc14\\ub2e4, \\ud1f4\\uadfc, \\uc5ec\\uc720\",\"['\\uacbd\\ucf8c\\ud55c']\"],[\"My Girl\",\"B.A.P\",\"\\uae30\\ubd84\\uc804\\ud658, \\ubd04, \\ud734\\uc2dd, \\ud790\\ub9c1, \\uc990\\uac70\\uc6b4, \\uc5f0\\uc560, \\uc0ac\\ub791, \\ub0b4\\uc801\\ub304\\uc2a4, \\uc124\\ub808\\ub294, \\uc2e0\\ub098\\ub294, \\ub304\\uc2a4, \\ub4dc\\ub77c\\uc774\\ube0c, \\uc124\\ub818, \\uc5ec\\ub984\",\"['\\ud589\\ubcf5\\ud55c']\"],[\"\\uc7a0\",\"\\uacf5\\uc911\\uadf8\\ub298\",\"\\uc5ec\\ub984, \\uae30\\ubd84\\uc804\\ud658, \\uc5ec\\ud589, \\uc5f0\\uc778, \\uc0c8\\ubcbd\",\"['\\ud589\\ubcf5\\ud55c']\"],[\"With You\",\"\\uae40\\uad11\\uc9c4, \\uc720\\ud76c\\uc5f4, \\ud558\\ub9bc\",\"\\uaca8\\uc6b8, \\uac00\\uc744, \\uc0c8\\ubcbd, \\uc0c8\\ubcbd\\uac10\\uc131, \\uc5ec\\ud589, \\ud790\\ub9c1\",\"['\\uc794\\uc794\\ud55c', '\\uc6b0\\uc6b8\\ud55c', '\\ud589\\ubcf5\\ud55c']\"],[\"KINGS FOR A DAY\",\"\\uc774\\ud64d\\uae30 (FT\\uc544\\uc77c\\ub79c\\ub4dc)\",\"\\ud734\\uc2dd, \\uae30\\ubd84\\uc804\\ud658, \\uc0ac\\ub791\",\"['\\ud589\\ubcf5\\ud55c']\"],[\"\\uc0ac.\\uacc4.\\ud55c (Love Should Go On) (SHINee WORLD 4 Ver.)\",\"SHINee (\\uc0e4\\uc774\\ub2c8)\",\"\\uae30\\ubd84\\uc804\\ud658\",\"['\\ud589\\ubcf5\\ud55c']\"],[\"\\uc625\\ud0d1\\ubc29 (Rooftop)\",\"\\uc5d4\\ud50c\\ub77c\\uc789 (N.Flying)\",\"\\uc2a4\\ud2b8\\ub808\\uc2a4, \\ud790\\ub9c1, \\uae30\\ubd84\\uc804\\ud658, \\ud765\\uaca8\\uc6b4, \\ud734\\uc2dd, \\ud765, \\uac00\\uc744, \\uc9c0\\uce5c\\ud558\\ub8e8, \\ub304\\uc2a4, \\uc2e0\\ub098\\ub294, \\uc5ec\\ub984, \\ubd04, \\uc0ac\\ub791, \\uaca8\\uc6b8, \\uc800\\ub141, \\uc794\\uc794\\ud55c, \\ub4dc\\ub77c\\uc774\\ube0c, \\uc5ec\\ud589, \\uc0c8\\ubcbd\\uac10\\uc131, \\uc6b4\\ub3d9\\ud560\\ub54c, \\uc2dc\\uc6d0\\ud55c, \\uc5f0\\uc778, \\ub9ac\\ub4dc\\ubbf8\\uceec, \\uce74\\ud398, \\uc77c\\uc0c1, \\uc624\\ud6c4, \\uc6b4\\ub3d9, \\ub2ec\\ub2ec\\ud55c, \\uccad\\ub7c9\\ud55c, \\uc8fc\\ub9d0, \\ubc34\\ub4dc, \\uc9dd\\uc0ac\\ub791, \\uccad\\ub7c9, \\ud53c\\uace4, \\ud5ec\\uc2a4, \\ud074\\ub7fd, \\uaca8\\uc6b8\\ubc24, \\uc2dc\\uc791, \\uc0c8\\ud574, \\ubc24, \\uc5d0\\ub108\\uc9c0, \\uacbd\\ucf8c\\ud55c, \\uc0c1\\ucf8c\\ud55c, \\uae30\\ubd84\\uc5c5, \\uc5f0\\ub9d0, \\uc9c0\\uce60\\ub54c, \\uc5ec\\uc720, \\uc0b0\\ucc45, \\ucd94\\uc5b5, \\ud734\\uac00, \\ud06c\\ub9ac\\uc2a4\\ub9c8\\uc2a4, \\ubd84\\uc704\\uae30, \\uc57c\\uacbd, \\ub2a6\\uc740\\ubc24, \\ud53c\\ud06c\\ub2c9, \\uc0c1\\ucf8c, \\uc124\\ub818, \\uc11c\\uc815\\uc801\\uc778, \\uc2ac\\ud508, \\uc794\\uc794, \\ud55c\\uac15, \\uc720\\ub2c8\\ud06c, \\ucee4\\ud50c, \\uc5f0\\uc560, \\uace0\\ubc31, \\uac00\\uc744\\uac10\\uc131, \\ub099\\uc5fd, \\ucc2c\\ubc14\\ub78c, \\ucd9c\\uadfc\\uae38, \\ub178\\ub3d9\\uc694, \\ud5ec\\uc2a4\\uc7a5, \\ubd88\\uae08, \\ud30c\\ud2f0, \\uc774\\ubcc4, \\ubd04\\ub178\\ub798, \\ub0b4\\uc801\\ub304\\uc2a4, \\ucd9c\\uadfc, \\uc0c8\\ubcbd, \\uc6b4\\uc804, \\ubc9a\\uaf43, \\uacf5\\uac10, \\uc2a4\\ud3ec\\uce20, \\ud798\\ub4e4\\ub54c, \\uc0c1\\ud07c, \\uc7a5\\ub9c8, \\ub4e4\\uc369\\ub4e4\\uc369, \\ubc14\\ub2e4, \\uac10\\uc218\\uc131, \\ud558\\ub298, \\ud2b8\\ub80c\\ub514\\ud55c, \\ud587\\uc0b4, \\uccad\\ub7c9\\uac10, \\ud765\\ud3ed\\ubc1c, \\uc790\\uc2e0\\uac10, \\ub7ec\\ub2dd, \\uae30\\ubd84\\uc88b\\uc740\",\"['\\ud589\\ubcf5\\ud55c']\"],[\"\\ub098\\uc758 \\uc678\\ub85c\\uc6c0\\uc774 \\ub110 \\ubd80\\ub97c \\ub54c (piano ver.)\",\"\\uc7a5\\ud544\\uc21c\",\"\\uc794\\uc794\\ud55c, \\ud734\\uc2dd, \\ubd04, \\uc0c8\\ubcbd, \\uc13c\\uce58, \\uc704\\ub85c, \\ubd84\\uc704\\uae30\",\"['\\uc794\\uc794\\ud55c', '\\uc6b0\\uc6b8\\ud55c']\"],[\"Move For Me\",\"Kaskade\",\"\\ubabd\\ud658, \\ud790\\ub9c1\",\"['\\uc794\\uc794\\ud55c', '\\ud589\\ubcf5\\ud55c']\"],[\"\\ub9d8 (Heart)\",\"\\ubc31\\ud37c\\uc13c\\ud2b8\",\"\\ub4dc\\ub77c\\uc774\\ube0c, \\uae30\\ubd84\\uc804\\ud658, \\uc2a4\\ud3ec\\uce20, \\uc6b4\\ub3d9, \\ub304\\uc2a4, \\ub2ec\\ub9ac\\uae30, \\uc870\\uae45, \\uc2e0\\ub098\\ub294, \\uc5ec\\ub984, \\uccad\\ub7c9, \\uc5ec\\ud589, \\uc2dc\\uc6d0\\ud55c, \\uc6d4\\uc694\\ubcd1, \\uc0c1\\ucf8c\\ud55c, \\uc544\\uce68, \\uc0b0\\ucc45, \\uac00\\uc744, \\uc0ac\\ub791, \\uccad\\ub7c9\\ud55c, \\uc2a4\\ud2b8\\ub808\\uc2a4\",\"['\\ud589\\ubcf5\\ud55c']\"],[\"AND I\",\"\\ub274\\uc774\\uc2a4\\ud2b8 W\",\"\\uac00\\uc744, \\uc0ac\\ub791\",\"['\\uc794\\uc794\\ud55c', '\\ud589\\ubcf5\\ud55c']\"],[\"Midas X Travel 2018\",\"Midas X\",\"\\uc0c8\\ud574\",\"['\\ud589\\ubcf5\\ud55c']\"],[\"\\ub110 \\uc0ac\\ub791\\ud55c \\uc2dc\\uac04\\uc5d0\",\"XIA (\\uc900\\uc218)\",\"\\uc124\\ub818, \\uc0ac\\ub791, \\uc2ac\\ud514, \\ucd94\\uc5b5, \\uc774\\ubcc4, \\ud68c\\uc0c1, \\uc194\\ub85c, \\ud6c4\\ud68c, \\uaca8\\uc6b8, \\ub4dc\\ub77c\\uc774\\ube0c, \\uae30\\ubd84\\uc804\\ud658, \\ud790\\ub9c1, \\ud734\\uc2dd, \\uc794\\uc794\\ud55c, \\uc544\\ud514, \\ub208\\ubb3c, \\uc5ec\\ud589, \\uc0b0\\ucc45, \\ubc24, \\uc0c8\\ubcbd, \\uc6b0\\uc6b8\",\"['\\uc6b0\\uc6b8\\ud55c']\"],[\"\\uc678\\ucd9c\",\"\\uc624\\uc548, \\ubaa8\\ud2b8 (Motte)\",\"\\uaca8\\uc6b8, \\uc794\\uc794\\ud55c, \\ub208, \\uc13c\\uce58, \\ubd84\\uc704\\uae30, \\ub530\\ub73b\\ud55c, \\ud589\\ubcf5, \\uccad\\ucd98, \\uaf43, \\ubd04, \\uc704\\ub85c, \\ud76c\\ub9dd, \\uc800\\ub141, \\ub4dc\\ub77c\\uc774\\ube0c, \\uc6b4\\uc804, \\ud1f4\\uadfc\\uae38\",\"['\\uc794\\uc794\\ud55c']\"],[\"Would U (Inst.)\",\"Red Velvet (\\ub808\\ub4dc\\ubca8\\ubcb3)\",\"\\uc9d1\\uc911, \\uacf5\\ubd80, \\uc77c\\ud560\\ub54c, \\uacf5\\ubd80\\ud560\\ub54c, \\ud790\\ub9c1, \\uce74\\ud398, \\uae30\\ubd84\\uc804\\ud658, \\uc794\\uc794\\ud55c\",\"['\\uc794\\uc794\\ud55c']\"],[\"Celebrate\",\"Ragoon\",\"\\uc794\\uc794\\ud55c, \\ubc24, \\uc0c8\\ubcbd, \\uaca8\\uc6b8, \\uce74\\ud398, \\ub4dc\\ub77c\\uc774\\ube0c, \\uc5ec\\ud589, \\uae30\\ubd84\\uc804\\ud658, \\uc0ac\\ub791\",\"['\\uc794\\uc794\\ud55c']\"],[\"\\uac80\\uc740 \\ud589\\ubcf5\",\"\\uc724\\ubbf8\\ub798, \\uacc4\\ubbfc\\uc544\",\"\\uc4f8\\uc4f8\\ud568, \\uac00\\uc744, \\ud790\\ub9c1, \\ud1f4\\uadfc\\uae38, \\ud734\\uc2dd, \\uaca8\\uc6b8, \\uae30\\ubd84\\uc804\\ud658, \\ub4dc\\ub77c\\uc774\\ube0c\",\"['\\ud589\\ubcf5\\ud55c']\"],[\"\\ub0b4 \\uc0ac\\ub791\",\"\\uae40\\uc21c\\uc601\",\"\\ubba4\\uc9c0\\uceec\",\"['\\uacbd\\ucf8c\\ud55c']\"],[\"\\uae30\\uc5b5 (Memories)\",\"\\uc544\\uac70 (AGER)\",\"\\ud1f4\\uadfc, \\uce74\\ud398, \\uaca8\\uc6b8, \\ucd9c\\uadfc\",\"['\\uc794\\uc794\\ud55c']\"],[\"\\uc88b\\uc544\\ud569\\ub2c8\\ub2e4\",\"\\ud14c\\uc774\",\"\\uc9dd\\uc0ac\\ub791, \\uc124\\ub808\\uc784, \\uc2dc\\uc791\",\"['\\ud589\\ubcf5\\ud55c']\"],[\"GAME THEORY (Feat. Tommy Strate, nafla, The Quiett, Kid Milli, Lil Cherry)\",\"Dakshood (\\ub2e5\\uc2a4\\ud6c4\\ub4dc)\",\"\\ub4dc\\ub77c\\uc774\\ube0c, \\uae30\\ubd84\\uc804\\ud658, \\uc6b4\\ub3d9, \\uc2a4\\ud2b8\\ub808\\uc2a4, \\uc2e0\\ub098\\ub294\",\"['\\ud589\\ubcf5\\ud55c']\"],[\"\\uaf43\\ubcf4\\ub2e4 \\uadf8\\ub140\",\"\\ube44\\ud22c\\ube44\",\"\\ud53c\\ud06c\\ub2c9, \\ubd04, \\ubd04\\ub178\\ub798, \\uc18c\\ud48d, \\ubc9a\\uaf43, \\uc5ec\\ud589, \\uae30\\ubd84\\uc804\\ud658, \\uc0b0\\ucc45, \\uae4c\\ud398, \\uc124\\ub818, \\uc0ac\\ub791, \\ub85c\\ub9e8\\ud2f1, \\ub2ec\\ub2ec, \\uc990\\uac70\\uc6b4, \\uc2e0\\ub098\\ub294, \\ub304\\uc2a4, \\ud790\\ub9c1, \\uc124\\ub808\\ub294, \\uc124\\ub808\\uc784, \\uc5f0\\uc560, \\uace0\\ubc31, \\ucee4\\ud50c, \\uc5f0\\uc778, \\uc2ac\\ud514, \\uc774\\ubcc4, \\uc5ec\\ub984, \\uc378, \\ub4dc\\ub77c\\uc774\\ube0c, \\uce74\\ud398, \\ud55c\\uac15, \\uc6b4\\ub3d9, \\uce5c\\uad6c, \\ud734\\uc2dd, \\uc2a4\\ud2b8\\ub808\\uc2a4, \\uc2dc\\uc791, \\ub098\\ub4e4\\uc774, \\uaf43, \\uac00\\uc744, \\uc544\\ub984\\ub2e4\\uc6b4, \\uc2e0\\ub098, \\ubd84\\uc704\\uae30, \\ubc24, \\uc0c8\\ubcbd, \\uc2ec\\ucff5, \\uc139\\uc2dc, \\uc0c1\\ud07c\",\"['\\ud589\\ubcf5\\ud55c']\"],[\"Ladies Night\",\"Red Velvet (\\ub808\\ub4dc\\ubca8\\ubcb3)\",\"\\uc5ec\\ub984, \\uc5ec\\ud589, \\uace0\\uc18d\\ub3c4\\ub85c, \\uc2a4\\ud2b8\\ub808\\uc2a4, \\ud734\\uac00, \\uccad\\ub7c9, \\uc0c1\\ud07c, \\ud53c\\ud06c\\ub2c9, \\ubd04, \\uc0c1\\ud07c\\ud55c, \\uc0c1\\ucf8c, \\ud790\\ub9c1, \\uae30\\ubd84\\uc804\\ud658, \\uc124\\ub818, \\uc0ac\\ub791, \\ub304\\uc2a4\",\"['\\uacbd\\ucf8c\\ud55c', '\\ud589\\ubcf5\\ud55c']\"],[\"\\ub2ec\\ucf64\\ud55c \\uac70\\uc9d3\\ub9d0\",\"\\ucfe8 (COOL)\",\"\\uc0c8\\ubcbd, \\ubc24, \\ud589\\ubcf5, \\ub9c8\\uc74c, \\uc0ac\\ub791, \\uc124\\ub818, \\ud790\\ub9c1, \\ud734\\uc2dd, \\ucd94\\uc5b5, \\ud68c\\uc0c1, \\ud53c\\ud06c\\ub2c9, \\ubd04\\ub0a0, \\ubc9a\\uaf43, \\uae30\\ubd84\\uc804\\ud658, \\uc0b0\\ucc45, \\ubd04\",\"['\\ud589\\ubcf5\\ud55c']\"],[\"Bright Lights\",\"Matchbox Twenty\",\"\\ubc24, \\uac00\\uc744, \\uc794\\uc794\\ud55c, \\uc640\\uc778\",\"['\\uc794\\uc794\\ud55c']\"],[\"\\uc9c0\\uc544\\uc5d0\\uac8c\",\"\\uae40\\ucc2c\\uc9c4\",\"\\uac00\\uc744, \\uce74\\ud398, \\uc0c8\\ubcbd, \\ub4dc\\ub77c\\uc774\\ube0c, \\uc124\\ub818, \\uc0ac\\ub791, \\uc774\\ubcc4\",\"['\\ud589\\ubcf5\\ud55c']\"],[\"Life On The Line (Feat. Hash Swan)\",\"dkash (\\ub514\\uce90\\uc2dc)\",\"\\uac00\\uc744\",\"['\\uc794\\uc794\\ud55c']\"],[\"Aurora\",\"\\ud074\\ub798\\uc9c0\\ucf70\\uc774\",\"\\ud790\\ub9c1, \\ud734\\uc2dd, \\uae30\\ubd84\\uc804\\ud658\",\"['\\ud589\\ubcf5\\ud55c']\"],[\"\\ub110 \\uc704\\ud55c \\uba5c\\ub85c\\ub514 (Feat. \\uc608\\uc131, \\uc54c\\ub9ac, \\uc564\\uc528\\uc544)\",\"\\uc774\\uc138\\uc900(\\uc720\\ub9ac\\uc0c1\\uc790)\",\"\\ucda4, \\ub304\\uc2a4, \\uae30\\ubd84\\uc804\\ud658, \\ub0b4\\uc801\\ub304\\uc2a4, \\uc2a4\\ud2b8\\ub808\\uc2a4, \\uc2e0\\ub098\\ub294, \\ucee4\\ud50c, \\ubd04, \\uc124\\ub818, \\uc0ac\\ub791, \\uc5ec\\ub984, \\uc9dd\\uc0ac\\ub791, \\ube44, \\uac00\\uc744, \\ub2ec\\ub2ec\\ud55c, \\uc5f0\\uc778, \\uaca8\\uc6b8, \\uc6b0\\uc6b8, \\uc794\\uc794\\ud55c, \\ucd94\\uc5b5, \\uac10\\uc131\\uc790\\uadf9, \\uc0c8\\ubcbd, \\ub4dc\\ub77c\\uc774\\ube0c, \\uadf8\\ub9ac\\uc6c0, \\uc2ac\\ud514, \\uc774\\ubcc4, \\uc560\\uc808\\ud55c, \\uc2ac\\ud508, \\uac10\\ubbf8\\ub85c\\uc6b4, \\uace0\\ubc31, \\ucee4\\ud53c, \\uce74\\ud398, \\ub2ec\\ub2ec, \\uc124\\ub808\\uc784, \\ubc9a\\uaf43, \\ud790\\ub9c1\",\"['\\ud589\\ubcf5\\ud55c']\"],[\"Love U\",\"\\ub514\\uc5b4 (d.ear)\",\"\\ud790\\ub9c1, \\ud734\\uc2dd, \\uae4c\\ud398, \\uc0ac\\ub791, \\ube44\\uc624\\ub294\\ub0a0, \\uc794\\uc794\\ud55c, \\ubd04, \\uc124\\ub818, \\ubc24, \\uc0c8\\ubcbd, \\ub4dc\\ub77c\\uc774\\ube0c, \\uce74\\ud398, \\uc124\\ub808\\uc784, \\ubc9a\\uaf43, \\ucee4\\ud53c, \\uae30\\ubd84\\uc804\\ud658, \\ucee4\\ud50c, \\ub2ec\\ub2ec\\ud55c, \\uc5f0\\uc778, \\uaca8\\uc6b8, \\uace0\\ubc31, \\ucd94\\uc5b5, \\ud68c\\uc0c1, \\ub85c\\ub9e8\\ud2f1, \\uc2ac\\ud514, \\uc774\\ubcc4, \\ub2ec\\ub2ec, \\uc5f0\\uc560, \\uc0c8\\ubcbd\\uac10\\uc131, \\ube44, \\uc5ec\\ud589, \\uc0b0\\ucc45, \\uc7a0\\ub4e4\\uae30\\uc804, \\ubd04\\ub0a0, \\ud55c\\uac15, \\ub098\\ub4e4\\uc774, \\ud3ec\\uadfc\\ud55c, \\uc5ec\\ub984, \\ub208\\ubb3c, \\ubd84\\uc704\\uae30, \\ubd80\\ub4dc\\ub7ec\\uc6b4, \\uae30\\ubd84\\uc88b\\uc740, \\ub370\\uc774\\ud2b8, \\ub2ec\\ucf64\\ud55c, \\uc870\\uc6a9\\ud55c, \\ubabd\\ud658\\uc801, \\ud589\\ubcf5, \\ud3b8\\uc548\\ud55c\",\"['\\ud589\\ubcf5\\ud55c']\"],[\"Moves Like Jagger (Soul Seekerz Radio Edit) (Feat. Christina Aguilera)\",\"Maroon 5\",\"\\uc2e0\\ub0a8\",\"['\\ud589\\ubcf5\\ud55c']\"],[\"\\ud558\\uc580 \\ub3d9\\ud654\",\"KYT (\\ucf54\\uc694\\ud0dc)\",\"\\uaca8\\uc6b8, \\ud06c\\ub9ac\\uc2a4\\ub9c8\\uc2a4, \\ub304\\uc2a4, \\uce90\\ub864, \\ud734\\uc2dd, \\ud790\\ub9c1\",\"['\\uc794\\uc794\\ud55c', '\\uacbd\\ucf8c\\ud55c']\"],[\"She Knows\",\"Trinidad Cardona\",\"\\uae30\\ubd84\\uc804\\ud658, \\ubc24, \\uc13c\\uce58, \\uc0ac\\uc0c9, \\ub4dc\\ub77c\\uc774\\ube0c\",\"['\\ud589\\ubcf5\\ud55c']\"],[\"\\ub0ae\",\"\\uc774\\uc2a4\\ud134\\uc0ac\\uc774\\ub4dc\\ud0a5\",\"\\ubc34\\ub4dc\",\"['\\uacbd\\ucf8c\\ud55c']\"],[\"Brightside (Album Ver.)\",\"The Knocks\",\"\\uc2e0\\ub098\\ub294\",\"['\\ud589\\ubcf5\\ud55c']\"],[\"\\ub09c \\uc655\\uc774 \\ub420\\uac70\\uc57c\",\"\\uc804\\uc218\\ubbf8\",\"\\ubba4\\uc9c0\\uceec, \\uac10\\ub3d9\",\"['\\uacbd\\ucf8c\\ud55c', '\\ud589\\ubcf5\\ud55c']\"],[\"\\ub0b4 \\ub9c8\\uc74c\\uc758 \\uc0ac\\uc9c4\",\"\\uc1a1\\uac00\\uc778\",\"\\uc6b4\\uc804, \\ub4dc\\ub77c\\uc774\\ube0c\",\"['\\uacbd\\ucf8c\\ud55c', '\\ud589\\ubcf5\\ud55c']\"],[\"\\uc5c6\\uc5c8\\ub2e4\\uba74\",\"\\ube4c\\ub9ac\",\"\\uce74\\ud398, \\uc794\\uc794\\ud55c, \\uae30\\ubd84\\uc804\\ud658, \\uc0ac\\ub791, \\uac00\\uc744, \\ubd04, \\ubd04\\ubc14\\ub78c, \\ub4dc\\ub77c\\uc774\\ube0c, \\uc2dc\\uc791, \\ubc9a\\uaf43, \\uc124\\ub818, \\ub2ec\\ub2ec\",\"['\\ud589\\ubcf5\\ud55c']\"],[\"Where Is The Love\",\"Roberta Flack\",\"\\ubd80\\ub4dc\\ub7ec\\uc6b4, \\uac10\\ubbf8\\ub85c\\uc6b4\",\"['\\ud3b8\\uc548\\ud55c', '\\uc794\\uc794\\ud55c']\"],[\"Enduring Love\",\"Yannick Bovy\",\"\\uae30\\ubd84\\uc804\\ud658, \\uc6b8\\uace0\\uc2f6\\uc744\\ub54c, \\uc2ac\\ud514, \\uc774\\ubcc4, \\uc544\\uce68, \\uc2dc\\uc791, \\uc4f8\\uc4f8, \\uc124\\ub818, \\uc0ac\\ub791\",\"['\\uc6b0\\uc6b8\\ud55c']\"],[\"Masquerade\",\"\\ub77c\\ub2c8\\uc544\",\"\\ub304\\uc2a4, \\ub4dc\\ub77c\\uc774\\ube0c, \\uae30\\ubd84\\uc804\\ud658, \\uc2e0\\ub098\\ub294, \\uc6b4\\ub3d9, \\uc2a4\\ud2b8\\ub808\\uc2a4\",\"['\\ud589\\ubcf5\\ud55c']\"],[\"Time Slip\",\"\\uc544\\uc774\\ub2c8\",\"\\uc5ec\\ub984, \\ub4dc\\ub77c\\uc774\\ube0c\",\"['\\uacbd\\ucf8c\\ud55c', '\\ud589\\ubcf5\\ud55c']\"],[\"\\ud6c4\\ud6c4\\ud6c4 (Hoo Hoo Hoo)\",\"\\uc564\\uc528\\uc544\",\"\\ucd94\\uc5b5, \\uc0ac\\ub791, \\uc124\\ub818, \\ud68c\\uc0c1, \\uaca8\\uc6b8, \\ud734\\uc2dd, \\ud790\\ub9c1, \\uae30\\ubd84\\uc804\\ud658\",\"['\\ud589\\ubcf5\\ud55c']\"],[\"\\uc9c0\\uc0c1\\uc5d0\\uc11c \\uc601\\uc6d0\\uc73c\\ub85c\",\"\\uc815\\uacbd\\ud654\",\"\\uc2ac\\ud514, \\ucd94\\uc5b5, \\uc774\\ubcc4, \\ud68c\\uc0c1, \\uc2a4\\ud2b8\\ub808\\uc2a4, \\uae30\\ubd84\\uc804\\ud658, \\uc2e0\\ub098\\ub294, \\uc794\\uc794\\ud55c, \\ud790\\ub9c1, \\ud734\\uc2dd, \\uc124\\ub818, \\uc0ac\\ub791, \\uce74\\ud398, \\uc2a4\\ud2b8\\ub808\\uc2a4\\ud574\\uc18c, \\ucee4\\ud50c, \\ube44\\uc624\\ub294\\ub0a0, \\ucc45, \\uac00\\uc744, \\uc6b0\\uc6b8, \\ud765\\ud3ed\\ubc1c, \\uc0c8\\ubcbd, \\ubc24, \\uae4c\\ud398, \\uaca8\\uc6b8, \\ube44, \\uc2ac\\ud508\",\"['\\ud589\\ubcf5\\ud55c']\"],[\"\\uc11c\\ub978 \\uc0b4\\uc758 \\ud64d\\ub300\\ub294\",\"\\ub2ec\\uc5b4\\ucfe0\\uc2a4\\ud2f1\",\"\\uaca8\\uc6b8, \\uac00\\uc744, \\uac00\\uc744\\ubc24, \\ud734\\uc2dd, \\ud790\\ub9c1, \\ucd94\\uc5b5, \\uae30\\ubd84\\uc804\\ud658, \\ud68c\\uc0c1, \\ubc24, \\uc0c8\\ubcbd, \\uc790\\uc7a5\\uac00, \\uc124\\ub818, \\uae4c\\ud398, \\uc0ac\\ub791\",\"['\\uc794\\uc794\\ud55c']\"],[\"SUGAR\",\"\\uc6b0\\uc8fc\\uc18c\\ub140\",\"\\ud790\\ub9c1, \\uc5ec\\ub984, \\ub4dc\\ub77c\\uc774\\ube0c, \\uc2dc\\uc6d0\\ud55c, \\uae30\\ubd84\\uc804\\ud658, \\uc2e0\\ub098\\ub294, \\uc6b4\\ub3d9, \\ub304\\uc2a4, \\ucd94\\uc5b5\\ud68c\\uc0c1\",\"['\\uacbd\\ucf8c\\ud55c', '\\ud589\\ubcf5\\ud55c']\"],[\"First Time\",\"\\uc815\\uc5fd\",\"\\uc0c8\\ubcbd, \\ubc24, \\uc794\\uc794\\ud55c, \\ucd94\\uc5b5, \\uae4c\\ud398, \\ud68c\\uc0c1\",\"['\\uc794\\uc794\\ud55c']\"],[\"Make It Love (Song By Domingo, H:SEAN, Saula)\",\"KozyPop\",\"\\ub178\\ub3d9\\uc694, \\uc794\\uc794\\ud55c, \\uc6b0\\uc6b8, \\uc5ec\\ud589, \\uc0ac\\ub791, \\uc2e0\\ub098\\ub294, \\ubc24, \\uc0c8\\ubcbd, \\ub098\\ub978\\ud55c, \\uc7a0\\ub4e4\\uae30\\uc804, \\ubabd\\ud658\\uc801\\uc778, \\uae4c\\ud398, \\uc124\\ub818\",\"['\\uc794\\uc794\\ud55c', '\\ud589\\ubcf5\\ud55c']\"],[\"GOOD\",\"EXID\",\"\\uae30\\ubd84\\uc804\\ud658, \\uc124\\ub818, \\uc0ac\\ub791, \\uc2e0\\ub098\\ub294, \\ub808\\ud2b8\\ub85c, \\ub4dc\\ub77c\\uc774\\ube0c\",\"['\\ud589\\ubcf5\\ud55c']\"],[\"\\uadf8\\ub300\\ub85c \\uba48\\ucdb0\\ub77c\",\"\\ub2ec\\uc0e4\\ubcb3\",\"\\ub304\\uc2a4\",\"['\\uacbd\\ucf8c\\ud55c']\"],[\"Reason\",\"\\ub514\\uc148\\ubc84\",\"\\uc5ec\\ub984, \\uae4c\\ud398, \\uc220, \\ub208\\ubb3c, \\ud6c4\\ud68c, \\uc2ac\\ud514, \\uc124\\ub818, \\uc0ac\\ub791, \\uc774\\ubcc4, \\ud790\\ub9c1, \\ud734\\uc2dd, \\uae30\\ubd84\\uc804\\ud658, \\uc2a4\\ud2b8\\ub808\\uc2a4, \\uc794\\uc794\\ud55c, \\ubc24, \\uc0c8\\ubcbd, \\ube44\\uc624\\ub294\\ub0a0, \\ud68c\\uc0c1, \\ucd94\\uc5b5, \\uadf8\\ub9ac\\uc6c0, \\ud5e4\\uc5b4\\uc9d0, \\uc194\\ub85c\",\"['\\uc6b0\\uc6b8\\ud55c']\"],[\"If Not For You\",\"Bob Dylan\",\"\\ube44\\uc624\\ub294\\ub0a0, \\uce74\\ud398, \\uc0c8\\ubcbd, \\ubabd\\ud658, \\uc800\\ub141\",\"['\\uc794\\uc794\\ud55c']\"],[\"the.the.the\",\"\\uc6a9\\uad6d&\\uc2dc\\ud604\",\"\\ud734\\uc2dd, \\ube44, \\uce74\\ud398, \\ub304\\uc2a4, \\uc5ec\\ud589, \\uc0ac\\ub791, \\uae30\\ubd84\\uc804\\ud658, \\ucd9c\\uadfc\\uae38, \\uc8fc\\ub9d0, \\uc624\\ud6c4, \\ub4dc\\ub77c\\uc774\\ube0c, \\ub9d1\\uc740, \\uc544\\uce68, \\uc5ec\\ub984, \\uac00\\uc744, \\uc5ec\\ub984\\ubc24, \\uc6b4\\ub3d9, \\uc2a4\\ud2b8\\ub808\\uc2a4, \\uc2e0\\ub098\\ub294, \\uae30\\ubd84\\uc88b\\uc740, \\ub2ec\\ub2ec, \\ucee4\\ud50c, \\uc5f0\\uc560, \\uace0\\ubc31, \\ucd94\\uc5b5, \\ubabd\\ud658\",\"['\\ud589\\ubcf5\\ud55c']\"],[\"Brave\",\"The Shires\",\"\\uae30\\ubd84\\uc804\\ud658, \\ub4dc\\ub77c\\uc774\\ube0c, \\uc0c8\\ubcbd, \\ucd94\\uc5b5, \\ubc24, \\ud68c\\uc0c1, \\ud790\\ub9c1, \\ud734\\uc2dd, \\uac00\\uc744, \\uc794\\uc794\\ud55c, \\uae4c\\ud398, \\uc2ac\\ud514, \\uc774\\ubcc4\",\"['\\uc6b0\\uc6b8\\ud55c', '\\ud589\\ubcf5\\ud55c', '\\ubb34\\uc11c\\uc6b4', '\\uc794\\uc794\\ud55c']\"],[\"\\ud5c8\\uc138\\uac00 (\\u865b\\u52e2\\u6b4c)\",\"\\uc8fc\\uc724\\ud558\",\"\\ud6c4\\ud68c, \\uc6b0\\uc6b8, \\uadf8\\ub9ac\\uc6c0, \\uc2ac\\ud514, \\uc774\\ubcc4, \\uc0c8\\ubcbd, \\ubc24, \\uae4c\\ud398, \\ud734\\uc2dd, \\ubd04, \\uc794\\uc794\\ud55c, \\ucee4\\ud53c, \\uc0b0\\ucc45, \\uacf5\\ubd80, \\ud790\\ub9c1\",\"['\\uc794\\uc794\\ud55c', '\\ud589\\ubcf5\\ud55c']\"],[\"\\ub85c\\uc584\\ud328\\ubc00\\ub9ac (Feat. Kirk, \\uae40\\uc6b0\\uadfc)\",\"\\uc2f8\\uc774 (PSY)\",\"\\uae30\\ubd84\\uc804\\ud658\",\"['\\ud589\\ubcf5\\ud55c']\"],[\"\\uc655\\uc790\\ub2d8\",\"\\uc57c\\uad11\\ud1a0\\ub07c (Neon Bunny)\",\"\\ubd04, \\uac00\\uc744, \\ucd94\\uc5b5, \\ud790\\ub9c1, \\ud398\\uc2a4\\ud2f0\\ubc8c, \\uae30\\ubd84\\uc88b\\uc740, \\ud765\\uaca8\\uc6b4, \\uae30\\ubd84\\uc804\\ud658, \\uc0b0\\ucc45, \\uc0b0\\ub73b\\ud55c, \\ub4dc\\ub77c\\uc774\\ube0c, \\uc2a4\\ud2b8\\ub808\\uc2a4, \\ube44\\uc624\\ub294\\ub0a0, \\uc794\\uc794\\ud55c, \\uc5ec\\ub984\\ubc24, \\uc124\\ub818, \\uc0ac\\ub791\",\"['\\ud589\\ubcf5\\ud55c']\"],[\"Instagram (feat. Afro Bros, Natti Natasha)\",\"Dimitri Vegas & Like Mike, David Guetta, Daddy Yankee\",\"\\ud074\\ub7fd, \\ud30c\\ud2f0, \\uc6b4\\ub3d9, \\ub304\\uc2a4, \\ub4dc\\ub77c\\uc774\\ube0c, \\ud734\\uc2dd, \\ud790\\ub9c1, \\uae30\\ubd84\\uc804\\ud658, \\uc678\\ucd9c, \\uc2e0\\ub098\\ub294, \\ud734\\uc591\\uc9c0, \\uc5ec\\ud589, \\uc2dc\\uc6d0\\ud55c, \\ud765\\uaca8\\uc6b4, \\ud398\\uc2a4\\ud2f0\\ubc8c, \\uc5ec\\ub984, \\uc5d0\\ub108\\uc9c0, \\uae30\\ubd84\\uc5c5, \\ud765, \\uacbd\\ucf8c\\ud55c, \\uc990\\uac70\\uc6b4, \\ub0b4\\uc801\\ub304\\uc2a4, \\uc2dc\\uc791, \\ubd88\\uae08, \\uc77c\\uc0c1, \\uac10\\uc131\\uc801\\uc778, \\uac15\\ub82c\\ud55c, \\uc2a4\\ud2b8\\ub808\\uc2a4\",\"['\\ud589\\ubcf5\\ud55c']\"]],\"hovertemplate\":\"x=%{x}<br>y=%{y}<br>\\uace1 \\uc81c\\ubaa9=%{customdata[0]}<br>\\uac00\\uc218=%{customdata[1]}<br>tag_ori=%{customdata[2]}<br>emotion max=%{customdata[3]}<extra></extra>\",\"legendgroup\":\"\",\"marker\":{\"color\":\"#636efa\",\"symbol\":\"circle\"},\"mode\":\"markers\",\"name\":\"\",\"orientation\":\"v\",\"showlegend\":false,\"x\":[0.34155383706092834,1.845626950263977,1.1262738704681396,0.7741672992706299,1.9613460302352905,1.8030256032943726,1.9940462112426758,1.8357257843017578,1.3813297748565674,0.0,1.2453678846359253,1.390679121017456,0.0,2.599442481994629,3.646070957183838,1.1033413410186768,1.6187154054641724,2.178783893585205,1.948444128036499,2.0602951049804688,2.2244768142700195,0.05332806333899498,1.9866769313812256,1.2812672853469849,1.306389570236206,1.3715983629226685,3.648098945617676,1.4468616247177124,0.7180916666984558,2.98600172996521,0.7731007933616638,1.5309357643127441,0.8100662231445312,1.674907922744751,0.6853675246238708,2.123007297515869,2.988525390625,2.0873610973358154,1.589212417602539,0.764255940914154,3.71652889251709,1.9811348915100098,1.3433942794799805,1.269151210784912,0.6010058522224426,0.6444061398506165,0.9311890006065369,1.9105833768844604,1.155867099761963,2.8885791301727295,0.6662761569023132,1.037520408630371,2.5153756141662598,2.3120779991149902,1.892221450805664,2.870037078857422,1.6453243494033813,1.5957446098327637,2.281959295272827,0.7672125697135925,1.532804250717163,1.3108580112457275,1.5855298042297363,2.3757753372192383,2.8637313842773438,4.2068095207214355,2.8272390365600586,4.17031717300415,0.6194069981575012,1.1503002643585205,1.9533696174621582,1.2495920658111572,1.5688670873641968,2.287306308746338,3.4417083263397217,2.8046000003814697,1.5054678916931152,0.9637553095817566,0.3687112033367157,1.7120964527130127,0.6053759455680847,3.1037540435791016,0.30024847388267517,0.4580247700214386,1.4113675355911255,2.2783799171447754,4.656442165374756,0.0,2.3833835124969482,1.8375287055969238,1.6203079223632812,3.41632080078125,2.072272777557373,0.8404039144515991,1.7347743511199951,0.9473608136177063,1.4604367017745972,0.9514219164848328,1.287375807762146,1.3645509481430054,0.7818045616149902,1.921321153640747,1.1967655420303345,1.86275053024292,2.795679807662964,2.899182081222534,0.9303664565086365,0.9189102053642273,4.307216644287109,3.2479171752929688,3.323132276535034,1.3250174522399902,0.9515756964683533,0.8806487917900085,0.6967326998710632,0.11521817743778229,1.2391166687011719,0.0,2.053260087966919,1.5232744216918945,1.5735056400299072,3.5934433937072754,1.8403103351593018,2.0323989391326904,1.0285203456878662,3.4543817043304443,3.7513175010681152,3.128912925720215,2.194345235824585,3.2593564987182617,0.8514959216117859,1.7591198682785034,2.729334592819214,2.9159674644470215,2.6873066425323486,2.1509335041046143,1.9276783466339111,0.9339306354522705,2.09623122215271,1.8716633319854736,1.8956003189086914,3.2604033946990967,0.18877500295639038,1.0234405994415283,0.7242771983146667,1.7350693941116333,0.9049147367477417,3.227393865585327,1.8817903995513916,0.2776413857936859,1.6389665603637695,1.0857535600662231,1.9000358581542969,1.5616859197616577,3.835909366607666,1.793208360671997,0.7939940690994263,2.9080650806427,1.2301523685455322,1.4758996963500977,1.3267993927001953,2.570265293121338,1.7889447212219238,0.24017135798931122,0.8467599153518677,0.631677508354187,3.8553988933563232,1.0801068544387817,1.4731147289276123,1.644139051437378,1.5349464416503906,1.7059707641601562,1.2609370946884155,3.0981225967407227,2.2973408699035645,0.3626100420951843,1.566632628440857,1.1520955562591553,1.2617806196212769,1.77605140209198,3.9761741161346436,0.5905229449272156,1.9032025337219238,1.3551312685012817,1.6810157299041748,1.7735551595687866,0.6838967204093933,0.7746478915214539,1.5591983795166016,2.820946216583252,0.19749125838279724,3.0751795768737793,2.099597692489624,0.0,2.158839702606201,3.1190600395202637,1.568202018737793,1.3203482627868652,1.1940817832946777,1.5044901371002197,2.173407793045044,3.2922329902648926,3.4759721755981445,2.332336187362671,1.7090692520141602,1.8532965183258057,0.8112576603889465,0.3021851181983948,1.1208558082580566,1.5720726251602173,2.7026703357696533,0.6574126482009888,1.595685362815857,0.5847998857498169,2.2472198009490967,0.5580214262008667,0.7990761995315552,0.28847047686576843,3.3776650428771973,1.053403615951538,0.3487803637981415,1.5521105527877808,0.27584466338157654,0.5682377815246582,1.384268879890442,0.6346042156219482,0.680251955986023,1.7815091609954834,1.1827713251113892,0.37064164876937866,1.0611835718154907,0.669899582862854,1.4295072555541992,2.3120899200439453,3.5107638835906982,2.3906784057617188,3.5893521308898926,0.9791631102561951,0.6844797134399414,1.0764434337615967,3.7700536251068115,1.033492088317871,2.395867347717285,1.5603067874908447,1.4783539772033691,1.2284770011901855,0.6731141805648804,1.71028470993042,0.9771690368652344,2.0469765663146973,0.38443446159362793,1.7102711200714111,0.8939006924629211,3.517730236053467,1.0289018154144287,0.4638548195362091,3.9084417819976807,2.2398929595947266,2.5931408405303955,0.8387044072151184,1.6742627620697021,3.2197041511535645,1.8792331218719482,1.4441839456558228,3.3099148273468018,2.2634150981903076,0.0,0.5165344476699829,3.0463004112243652,2.109142303466797,1.6399903297424316,2.668229818344116,5.17624044418335,1.1478556394577026,1.603048324584961,1.5851542949676514,1.61187744140625,0.0,0.0,0.1815251111984253,2.105142116546631,1.4592876434326172,2.267031192779541,0.5249305367469788,2.140047073364258,1.36134934425354,0.6012676954269409,2.3579764366149902,1.6981929540634155,1.9064195156097412,1.3296411037445068,1.9207565784454346,1.5153639316558838,0.9940661787986755,1.677154302597046,1.313805341720581,1.8184553384780884,0.21524684131145477,1.449806571006775,2.5034399032592773,1.7700073719024658,0.8086367249488831,0.48972266912460327,1.6801111698150635,0.6769437193870544,2.3032846450805664,1.794997215270996,0.5836206078529358,1.9090604782104492,1.3469274044036865,2.8706343173980713,0.17519305646419525,1.4162603616714478,2.132629871368408,2.304527759552002,1.5986205339431763,1.4030896425247192,3.718716621398926,1.205348014831543,1.041503667831421,1.6729943752288818,0.7666423320770264,1.6903038024902344,0.8910359144210815,0.807999312877655,1.6348809003829956,0.863612949848175,2.2851195335388184,2.177696466445923,1.857710599899292,1.6445467472076416,1.3611077070236206,0.8920091390609741,1.3216040134429932,1.3672459125518799,1.4950237274169922,2.8411002159118652,0.6329906582832336,4.433185577392578,1.2795000076293945,0.5730499029159546,1.4026408195495605,3.003135919570923,3.516472578048706,1.4861654043197632,1.4861654043197632,1.4723623991012573,1.4723623991012573,0.5918354392051697,1.2652854919433594,1.0977766513824463,0.7613931894302368,0.45832666754722595,1.1974916458129883,1.5630987882614136,1.6416717767715454,1.9599483013153076,2.236177444458008,1.6182284355163574,2.1389877796173096,1.7579604387283325,2.5673141479492188,0.04115669056773186,0.9538354277610779,0.9205653071403503,1.178539514541626,0.6095979809761047,2.096494674682617,1.190948247909546,0.747409999370575,0.9554955959320068,1.2480061054229736,1.4929661750793457,2.263087272644043,0.29085007309913635,0.5406826138496399,0.5173963308334351,2.192978858947754,2.143948554992676,1.1058359146118164,1.1472370624542236,4.977766513824463,2.36922025680542,2.0809407234191895,1.201704502105713,2.1794729232788086,1.300236463546753,1.7198044061660767,2.468066692352295,0.2791558802127838,0.8020206689834595,3.9122955799102783,0.17036975920200348,3.2574305534362793,1.2749085426330566,3.5214011669158936,3.536320209503174,1.8524491786956787,1.503232479095459,1.2619329690933228,1.2089226245880127,2.6532223224639893,0.7773014903068542,0.8666253685951233,1.093529462814331,0.6100098490715027,1.4226500988006592,0.04113064333796501,2.987858295440674,2.0627388954162598,1.288804531097412,2.4597699642181396,2.107015371322632,1.1255804300308228,1.3327972888946533,2.0188376903533936,2.5025715827941895,1.6790119409561157,1.0671839714050293,3.8490378856658936,1.0732080936431885,1.5909109115600586,4.627224445343018,1.1861681938171387,2.6130051612854004,1.0216190814971924,5.546694278717041,2.799105644226074,0.8354778289794922,3.6475532054901123,1.6335546970367432,1.4039487838745117,0.8773788213729858,1.4582061767578125,1.292587161064148,0.9650421738624573,2.8222172260284424,0.9665987491607666,1.7472236156463623,0.7519463896751404,2.4582455158233643,1.9583179950714111,1.539505124092102,0.8192653059959412,2.011537551879883,1.387026309967041,3.292634963989258,0.47538602352142334,1.2382203340530396,1.6309788227081299,1.3870701789855957,1.0242750644683838,2.473329782485962,0.0,0.11364005506038666,2.3372995853424072,2.1392252445220947,1.8842401504516602,1.1984280347824097,0.29709258675575256,3.7244439125061035,1.502401351928711,0.9058815240859985,1.5582311153411865,1.388909935951233,3.7623231410980225,2.024102210998535,2.2126097679138184,0.5673075318336487,2.1882214546203613,1.145263671875,1.3019068241119385,1.475551724433899,3.244886875152588,0.6058143973350525,0.9262913465499878,2.3433780670166016,1.8890576362609863,1.8369096517562866,2.170262575149536,3.050218343734741,1.8790342807769775,1.5150744915008545,2.745253562927246,1.3936307430267334,1.5462450981140137,1.3235005140304565,0.8251503109931946,3.2929182052612305,1.7957273721694946,2.6658084392547607,2.4172208309173584,0.3886672258377075,3.6721298694610596,1.375560998916626,1.8356159925460815,2.7538137435913086,1.0733516216278076,2.8928983211517334,2.7635717391967773,2.023153305053711,3.6236913204193115,1.7711331844329834,0.8298677206039429,1.6885278224945068,0.5843284726142883,1.104842185974121,0.34130266308784485,0.9713746905326843,1.729597806930542,1.5490976572036743,0.23340249061584473,1.207686424255371,1.246260643005371,0.9889987111091614,2.1376492977142334,3.2660863399505615,2.687988519668579,2.476602554321289,1.9869813919067383,0.776796281337738,2.0957953929901123,1.4095572233200073,0.34805139899253845,1.7816550731658936,0.4879068434238434,2.0512523651123047,2.3210885524749756,1.2517014741897583,2.530179500579834,2.946192741394043,1.7593528032302856,3.4718856811523438,3.8309028148651123,1.2104871273040771,1.487934947013855,3.8956563472747803,3.8956563472747803,3.8956563472747803,3.8956563472747803,3.8956563472747803,3.8956563472747803,3.8956563472747803,3.8956563472747803,2.023299217224121,3.173961877822876,1.1810991764068604,4.758785724639893,0.0027359770610928535,1.0580278635025024,3.3812782764434814,2.6166298389434814,1.79312002658844,1.707573413848877,2.0401225090026855,1.2634754180908203,1.2633435726165771,0.6908108592033386,0.0,3.2638702392578125,1.3407001495361328,3.414344072341919,3.973827600479126,0.5548619627952576,1.3384184837341309,1.8115603923797607,1.0355751514434814,0.4545404613018036,0.48278188705444336,1.095975637435913,1.6629894971847534,1.6348545551300049,1.901181697845459,1.302006483078003,1.7009954452514648,1.2709097862243652,1.745156168937683,1.050822377204895,2.769263744354248,2.1572799682617188,1.849971890449524,0.4854644238948822,1.6288310289382935,1.7291347980499268,1.2307655811309814,1.475408911705017,1.045401692390442,2.6382482051849365,0.9096930623054504,3.2319891452789307,1.552670955657959,3.7290213108062744,1.9234362840652466,2.6820895671844482,1.3949366807937622,1.8158527612686157,0.41289106011390686,0.8138164281845093,3.2284164428710938,2.0098509788513184,1.1950093507766724,2.079312324523926,1.0872604846954346,1.445172667503357,1.9457998275756836,2.4865901470184326,0.8039864897727966,4.435047626495361,3.0963709354400635,1.335264801979065,1.664202094078064,0.8132476210594177,0.9743982553482056,1.6069625616073608,4.384763240814209,1.2565382719039917,2.157133102416992,1.6504887342453003,1.0492539405822754,1.1345374584197998,0.6902969479560852,1.5267502069473267,1.8281304836273193,2.6201863288879395,1.3493844270706177,2.0900754928588867,0.7089632153511047,0.9007014632225037,2.1852378845214844,1.0127449035644531,0.8214816451072693,1.0073816776275635,0.5477210879325867,1.1378508806228638,0.6369167566299438,1.4215456247329712,2.3106484413146973,1.025233507156372,1.025233507156372,0.9452633857727051,2.4046714305877686,1.013116478919983,0.8836074471473694,2.4120094776153564,2.048255443572998,2.261813163757324,1.4121348857879639,3.6767399311065674,0.30748918652534485,1.9346437454223633,3.3233931064605713,1.789060115814209,3.448646068572998,1.3515177965164185,0.6622034907341003,2.9275522232055664,2.0018510818481445,1.937568187713623,1.4093067646026611,1.322533369064331,3.1756041049957275,3.055267810821533,2.613865852355957,1.6575498580932617,1.1822593212127686,2.197842597961426,4.400968551635742,2.4600493907928467,2.544340133666992,2.7196147441864014,0.9438735842704773,1.2019749879837036,2.9815382957458496,2.5482537746429443,2.1003615856170654,1.8520376682281494,0.9779372215270996,2.6163835525512695,1.6832184791564941,0.2646031081676483,0.4841361939907074,0.6961055397987366,1.5936429500579834,1.8024098873138428,0.018541734665632248,0.5659993290901184,3.45047926902771,3.201922655105591,3.126417636871338,1.6780246496200562,1.4900870323181152,1.9991252422332764,2.9463160037994385,3.940030813217163,3.710374116897583,2.4586260318756104,1.5309796333312988,0.31861940026283264,2.455087184906006,0.8651902079582214,1.4587929248809814,1.3641923666000366,1.3041388988494873,0.8602197170257568],\"xaxis\":\"x\",\"y\":[0.6681340336799622,1.4697651863098145,1.3860647678375244,0.8543369174003601,1.6397596597671509,1.6958726644515991,1.6436028480529785,1.6997158527374268,1.7627882957458496,0.0,1.0987703800201416,1.9049415588378906,0.03653595596551895,1.6809896230697632,1.2563581466674805,1.5744162797927856,1.5393040180206299,1.8845278024673462,1.5503734350204468,1.7639405727386475,1.4632916450500488,0.11638035625219345,1.3958113193511963,0.9992443919181824,2.8100059032440186,1.11887788772583,1.6163513660430908,1.6942083835601807,0.3479889929294586,1.407815933227539,0.6589539051055908,1.1770514249801636,0.8219689726829529,2.7591769695281982,1.2532991170883179,2.4683475494384766,2.9015085697174072,1.9040851593017578,1.7135175466537476,0.8163164258003235,1.7537031173706055,1.4707651138305664,1.0859572887420654,2.1579954624176025,1.1126315593719482,1.141038179397583,0.8226813077926636,1.8955415487289429,1.1814262866973877,0.43692493438720703,0.2153550088405609,1.1664726734161377,1.8487601280212402,1.7036104202270508,1.5155311822891235,1.8011629581451416,0.46159303188323975,1.4247567653656006,0.6176314949989319,0.9211964011192322,1.6916024684906006,1.0922915935516357,1.3512691259384155,0.7087872624397278,1.53482985496521,1.6613986492156982,1.602748155593872,1.7293169498443604,0.8012279868125916,1.0402024984359741,1.9218764305114746,1.6995666027069092,1.8554565906524658,0.2328200340270996,2.219285011291504,1.8229731321334839,1.8843817710876465,1.110772728919983,2.228259563446045,1.7694047689437866,0.4249145984649658,1.093058466911316,1.9690349102020264,2.0559329986572266,1.5911227464675903,1.8765679597854614,1.7748018503189087,0.0,0.9306820631027222,1.5168006420135498,1.1941628456115723,2.2153382301330566,1.7707486152648926,0.74736088514328,0.14223450422286987,2.17730975151062,1.2155656814575195,0.7109225392341614,1.2938216924667358,1.4249367713928223,0.9079546332359314,1.3051012754440308,1.4118800163269043,1.6389721632003784,1.4134516716003418,2.5156331062316895,0.712222158908844,1.3153001070022583,0.0,0.7299283146858215,2.2060489654541016,1.4267634153366089,0.9865286946296692,1.981867790222168,1.3025695085525513,0.7650507092475891,1.798841953277588,0.0,0.8688653111457825,1.1451938152313232,1.4213907718658447,2.1584486961364746,1.6698702573776245,1.583144187927246,2.1007440090179443,1.3698261976242065,2.03696608543396,1.712529182434082,0.4310184419155121,1.5805902481079102,0.658317506313324,1.423041820526123,1.7858524322509766,1.6111066341400146,1.2623438835144043,1.9833040237426758,1.5903537273406982,1.8077195882797241,1.9096083641052246,1.405970573425293,1.5384690761566162,0.9435481429100037,0.5035862326622009,0.7968640923500061,1.6964452266693115,1.6054366827011108,1.344809651374817,3.0752670764923096,1.4186174869537354,1.0742450952529907,1.5627623796463013,1.0374401807785034,1.1139731407165527,2.1058566570281982,2.1728296279907227,1.3760147094726562,2.1167874336242676,1.329494833946228,0.9319445490837097,1.7539403438568115,1.2680381536483765,1.455414056777954,1.6530413627624512,0.0,0.937566339969635,0.741975724697113,1.40155827999115,1.2459200620651245,1.2565151453018188,1.562197208404541,1.3474512100219727,1.6531332731246948,0.6992572546005249,0.8605658411979675,1.8756492137908936,0.8123165965080261,1.4154489040374756,1.4457519054412842,1.3636300563812256,1.9613885879516602,1.913687825202942,0.0,1.8439269065856934,1.0588784217834473,1.1336565017700195,1.474717617034912,1.087587594985962,1.1255333423614502,1.6865260601043701,2.7040469646453857,0.140192449092865,1.2204151153564453,1.046831488609314,0.0,1.414300799369812,2.2362823486328125,1.2849664688110352,0.9579316973686218,1.3628898859024048,1.2677185535430908,1.8182464838027954,1.277876853942871,0.48453909158706665,1.2526581287384033,1.2831517457962036,1.630445957183838,0.3849989175796509,1.3166452646255493,1.911604881286621,1.708436369895935,1.5086548328399658,0.7290499210357666,2.1960813999176025,0.5941636562347412,1.7248485088348389,1.5902161598205566,0.0,0.990977942943573,1.6894787549972534,0.9674425721168518,0.5377075672149658,1.4125841856002808,0.46574991941452026,2.3368754386901855,1.4011311531066895,1.5220853090286255,0.22597262263298035,1.1513813734054565,1.5696876049041748,1.0443809032440186,2.0719683170318604,1.8188396692276,1.7705785036087036,2.0674030780792236,2.608983278274536,2.062166690826416,2.6037468910217285,1.3219791650772095,1.036736249923706,1.043596625328064,1.769315242767334,1.0425550937652588,1.7165495157241821,1.3661783933639526,1.3733816146850586,0.9754251837730408,1.1295225620269775,1.7999629974365234,1.6655335426330566,0.8448872566223145,1.3111042976379395,2.067448854446411,1.2317434549331665,1.2122151851654053,1.4725432395935059,0.5390490889549255,2.0162627696990967,2.645369529724121,1.7779521942138672,0.5312402248382568,2.5041542053222656,1.755414366722107,1.4499766826629639,3.1099696159362793,1.437248945236206,0.17393243312835693,0.7452853918075562,0.25056660175323486,2.10516619682312,1.4018880128860474,1.6150908470153809,1.4485594034194946,1.9747297763824463,1.2179828882217407,0.6404531598091125,1.6748299598693848,1.3806370496749878,0.24319827556610107,0.24319827556610107,0.5720275640487671,1.4522373676300049,1.686745285987854,1.4434624910354614,0.6030584573745728,1.9757626056671143,1.5620927810668945,1.6822309494018555,2.3317182064056396,1.7429726123809814,1.2125792503356934,1.570131540298462,2.5899035930633545,1.606378197669983,0.8403525948524475,1.3025304079055786,0.7542726397514343,1.2321304082870483,1.0281562805175781,1.7743370532989502,1.738616704940796,1.5241080522537231,1.4985934495925903,1.0437039136886597,1.0548579692840576,0.5854918956756592,1.9536879062652588,1.5509710311889648,0.37519970536231995,1.2678771018981934,1.1035140752792358,0.7412169575691223,0.7225039601325989,1.0207754373550415,1.8249012231826782,1.396130919456482,1.6532514095306396,1.511336088180542,1.0675626993179321,0.7798052430152893,2.6173532009124756,1.417525053024292,1.8560097217559814,1.7129608392715454,0.4927162528038025,0.8996994495391846,3.2510194778442383,0.8486874103546143,1.99922776222229,0.9723456501960754,1.6805610656738281,2.6328437328338623,0.971080482006073,1.4879584312438965,1.5388190746307373,1.162629246711731,1.2253696918487549,1.3944565057754517,0.5689366459846497,1.1380252838134766,1.3137015104293823,0.22622764110565186,1.6785968542099,1.5915718078613281,0.37053531408309937,1.1847045421600342,1.1847045421600342,1.183540940284729,1.183540940284729,1.2667920589447021,1.1073940992355347,1.139506459236145,0.6276769042015076,0.6087722182273865,1.447403907775879,1.0368205308914185,1.6429028511047363,1.7814239263534546,0.7086535096168518,1.5466423034667969,2.0988967418670654,1.471194863319397,3.5110599994659424,0.0,0.21638041734695435,0.6285105347633362,1.5875264406204224,0.0113157257437706,1.8149769306182861,1.0232495069503784,0.3618001937866211,1.629219889640808,1.6806310415267944,1.3058362007141113,1.001762866973877,1.036913275718689,1.0370736122131348,0.3026319146156311,1.9022234678268433,1.442368507385254,1.2684062719345093,0.7504531741142273,0.9471254944801331,1.1342694759368896,1.7663867473602295,0.7315078377723694,1.8515229225158691,0.8166437745094299,1.6886662244796753,1.7610020637512207,1.2877227067947388,1.7889947891235352,1.6377627849578857,0.2686332166194916,1.0269784927368164,1.409181833267212,2.3270652294158936,1.0158649682998657,1.9394290447235107,1.211747169494629,1.0085415840148926,1.3451719284057617,2.014887571334839,1.0763368606567383,0.9149606227874756,1.608062505722046,0.9691208004951477,1.7421637773513794,0.25085127353668213,1.3985860347747803,0.9046000242233276,1.2887738943099976,0.6616374850273132,0.5459214448928833,0.9963467717170715,1.0141222476959229,2.0845422744750977,0.6405829191207886,0.0,1.2671875953674316,0.7487781643867493,1.2851911783218384,1.403229832649231,2.5185816287994385,2.46543288230896,2.06855845451355,2.136810541152954,1.1369694471359253,2.0732343196868896,1.7490540742874146,1.9685583114624023,1.7020877599716187,2.028686761856079,0.2925437092781067,1.2168219089508057,1.4697297811508179,0.8427064418792725,2.583613872528076,0.790126383304596,0.5125211477279663,0.779079794883728,1.5736427307128906,1.085805058479309,1.1029924154281616,1.099168062210083,0.9271512031555176,1.2891621589660645,1.1465904712677002,0.9575816988945007,0.9349074959754944,1.8697514533996582,1.1357414722442627,1.8348504304885864,2.244095802307129,2.518156051635742,1.0533264875411987,0.5832614898681641,1.5776251554489136,2.092756986618042,0.9212072491645813,1.7579381465911865,0.8382618427276611,1.212416648864746,2.299713611602783,1.3004299402236938,1.5626722574234009,0.9552174210548401,1.7233365774154663,1.0510138273239136,0.7123041152954102,0.8125142455101013,1.3617020845413208,1.4763519763946533,1.1490026712417603,1.0262106657028198,0.2799728214740753,1.9653096199035645,1.0496150255203247,1.4245837926864624,1.4424958229064941,0.912450909614563,0.8297581076622009,2.0896401405334473,1.4991273880004883,1.08646559715271,1.1803076267242432,2.6005971431732178,1.1824259757995605,1.0169363021850586,1.7172895669937134,1.1046440601348877,1.1435885429382324,2.2877840995788574,0.3482864499092102,0.9124583005905151,1.272214651107788,0.8204400539398193,2.1054413318634033,2.018409490585327,0.9138969779014587,1.4813789129257202,0.8962770700454712,1.4911623001098633,2.5424928665161133,0.8858622908592224,2.154538154602051,0.6208012104034424,1.4233882427215576,0.5168982744216919,0.9868550896644592,1.860501766204834,1.4244320392608643,0.6316543817520142,1.6581043004989624,1.0303772687911987,0.7866286039352417,1.8384329080581665,1.2658854722976685,1.9887263774871826,0.75433748960495,1.3160088062286377,2.8800384998321533,1.8633781671524048,1.3839032649993896,1.455434799194336,1.4848312139511108,2.081634521484375,1.9167314767837524,1.1348134279251099,1.2273552417755127,1.1761311292648315,1.7223405838012695,0.0,1.7635303735733032,1.6808102130889893,1.6977782249450684,1.0870181322097778,0.1420862078666687,0.1420862078666687,0.1420862078666687,0.1420862078666687,0.1420862078666687,0.1420862078666687,0.14208626747131348,0.14208626747131348,1.9318583011627197,1.0495142936706543,1.8821667432785034,1.179579734802246,0.05642087757587433,0.5277884006500244,1.664537787437439,0.0,1.4206712245941162,1.0237351655960083,1.3267656564712524,1.4977892637252808,1.087184190750122,0.9223204851150513,0.6719337701797485,1.397711157798767,1.5382896661758423,1.201422095298767,1.205095887184143,1.0689151287078857,1.3052337169647217,1.3323372602462769,2.0543951988220215,0.6793834567070007,0.9046498537063599,1.3715620040893555,1.5108431577682495,0.009242504835128784,1.5146377086639404,1.012420654296875,1.0764477252960205,1.022756814956665,1.7094063758850098,2.540271759033203,1.9404034614562988,1.1590126752853394,3.096475839614868,1.4928884506225586,1.7718546390533447,1.4865620136260986,1.137789011001587,0.5535576343536377,0.5630626678466797,0.4705513119697571,0.5084677338600159,1.4120233058929443,0.9402657151222229,0.9740098118782043,1.1057143211364746,1.5132782459259033,1.2135522365570068,2.0728726387023926,1.6122705936431885,2.026665449142456,1.226024866104126,0.8695093989372253,0.05207275599241257,1.0394600629806519,2.0603349208831787,1.4718252420425415,1.4772028923034668,1.694338321685791,1.6500152349472046,1.0088671445846558,1.9355382919311523,1.0313762426376343,1.2742787599563599,1.6533362865447998,1.5356919765472412,1.286759376525879,0.10976890474557877,1.2011699676513672,1.8665308952331543,2.1546030044555664,1.5069606304168701,1.3999197483062744,1.8905370235443115,1.633341908454895,1.6199721097946167,1.4811640977859497,1.3021223545074463,2.377434015274048,0.8078020215034485,0.837967038154602,2.1128110885620117,0.781897246837616,1.6450024843215942,1.3255829811096191,2.1003899574279785,1.0918179750442505,1.6611863374710083,1.220386028289795,1.5733017921447754,1.1502680778503418,1.1502680778503418,0.8370840549468994,2.0893471240997314,1.2237426042556763,1.513966679573059,1.2641361951828003,1.975275993347168,1.7443456649780273,1.1884262561798096,1.5279241800308228,0.025714285671710968,1.6284457445144653,0.23354274034500122,0.8137011528015137,1.5467031002044678,1.1343615055084229,0.4094703793525696,1.0887163877487183,1.3441503047943115,1.716098666191101,1.363180160522461,1.327215552330017,1.318938970565796,1.6080522537231445,1.4567185640335083,1.4255738258361816,1.1070116758346558,1.0820342302322388,1.3316113948822021,1.4664372205734253,1.4638516902923584,2.0479092597961426,1.5482999086380005,1.3831032514572144,1.0011622905731201,0.7114206552505493,1.6549485921859741,1.1575307846069336,1.5219138860702515,1.5340971946716309,2.479116439819336,1.0239564180374146,0.5349461436271667,0.6492554545402527,1.3682600259780884,0.9824449419975281,1.352305293083191,1.028689980506897,0.9891607165336609,0.0,1.6730892658233643,1.417086124420166,1.2718106508255005,1.9147883653640747,1.9069781303405762,1.195122241973877,0.3228487968444824,0.0,1.483944058418274,0.9154025912284851,1.9780068397521973,1.3067549467086792,1.3094191551208496,1.396287202835083,2.0947275161743164,1.8818663358688354],\"yaxis\":\"y\",\"type\":\"scatter\"}],                        {\"template\":{\"data\":{\"bar\":[{\"error_x\":{\"color\":\"#2a3f5f\"},\"error_y\":{\"color\":\"#2a3f5f\"},\"marker\":{\"line\":{\"color\":\"#E5ECF6\",\"width\":0.5},\"pattern\":{\"fillmode\":\"overlay\",\"size\":10,\"solidity\":0.2}},\"type\":\"bar\"}],\"barpolar\":[{\"marker\":{\"line\":{\"color\":\"#E5ECF6\",\"width\":0.5},\"pattern\":{\"fillmode\":\"overlay\",\"size\":10,\"solidity\":0.2}},\"type\":\"barpolar\"}],\"carpet\":[{\"aaxis\":{\"endlinecolor\":\"#2a3f5f\",\"gridcolor\":\"white\",\"linecolor\":\"white\",\"minorgridcolor\":\"white\",\"startlinecolor\":\"#2a3f5f\"},\"baxis\":{\"endlinecolor\":\"#2a3f5f\",\"gridcolor\":\"white\",\"linecolor\":\"white\",\"minorgridcolor\":\"white\",\"startlinecolor\":\"#2a3f5f\"},\"type\":\"carpet\"}],\"choropleth\":[{\"colorbar\":{\"outlinewidth\":0,\"ticks\":\"\"},\"type\":\"choropleth\"}],\"contour\":[{\"colorbar\":{\"outlinewidth\":0,\"ticks\":\"\"},\"colorscale\":[[0.0,\"#0d0887\"],[0.1111111111111111,\"#46039f\"],[0.2222222222222222,\"#7201a8\"],[0.3333333333333333,\"#9c179e\"],[0.4444444444444444,\"#bd3786\"],[0.5555555555555556,\"#d8576b\"],[0.6666666666666666,\"#ed7953\"],[0.7777777777777778,\"#fb9f3a\"],[0.8888888888888888,\"#fdca26\"],[1.0,\"#f0f921\"]],\"type\":\"contour\"}],\"contourcarpet\":[{\"colorbar\":{\"outlinewidth\":0,\"ticks\":\"\"},\"type\":\"contourcarpet\"}],\"heatmap\":[{\"colorbar\":{\"outlinewidth\":0,\"ticks\":\"\"},\"colorscale\":[[0.0,\"#0d0887\"],[0.1111111111111111,\"#46039f\"],[0.2222222222222222,\"#7201a8\"],[0.3333333333333333,\"#9c179e\"],[0.4444444444444444,\"#bd3786\"],[0.5555555555555556,\"#d8576b\"],[0.6666666666666666,\"#ed7953\"],[0.7777777777777778,\"#fb9f3a\"],[0.8888888888888888,\"#fdca26\"],[1.0,\"#f0f921\"]],\"type\":\"heatmap\"}],\"heatmapgl\":[{\"colorbar\":{\"outlinewidth\":0,\"ticks\":\"\"},\"colorscale\":[[0.0,\"#0d0887\"],[0.1111111111111111,\"#46039f\"],[0.2222222222222222,\"#7201a8\"],[0.3333333333333333,\"#9c179e\"],[0.4444444444444444,\"#bd3786\"],[0.5555555555555556,\"#d8576b\"],[0.6666666666666666,\"#ed7953\"],[0.7777777777777778,\"#fb9f3a\"],[0.8888888888888888,\"#fdca26\"],[1.0,\"#f0f921\"]],\"type\":\"heatmapgl\"}],\"histogram\":[{\"marker\":{\"pattern\":{\"fillmode\":\"overlay\",\"size\":10,\"solidity\":0.2}},\"type\":\"histogram\"}],\"histogram2d\":[{\"colorbar\":{\"outlinewidth\":0,\"ticks\":\"\"},\"colorscale\":[[0.0,\"#0d0887\"],[0.1111111111111111,\"#46039f\"],[0.2222222222222222,\"#7201a8\"],[0.3333333333333333,\"#9c179e\"],[0.4444444444444444,\"#bd3786\"],[0.5555555555555556,\"#d8576b\"],[0.6666666666666666,\"#ed7953\"],[0.7777777777777778,\"#fb9f3a\"],[0.8888888888888888,\"#fdca26\"],[1.0,\"#f0f921\"]],\"type\":\"histogram2d\"}],\"histogram2dcontour\":[{\"colorbar\":{\"outlinewidth\":0,\"ticks\":\"\"},\"colorscale\":[[0.0,\"#0d0887\"],[0.1111111111111111,\"#46039f\"],[0.2222222222222222,\"#7201a8\"],[0.3333333333333333,\"#9c179e\"],[0.4444444444444444,\"#bd3786\"],[0.5555555555555556,\"#d8576b\"],[0.6666666666666666,\"#ed7953\"],[0.7777777777777778,\"#fb9f3a\"],[0.8888888888888888,\"#fdca26\"],[1.0,\"#f0f921\"]],\"type\":\"histogram2dcontour\"}],\"mesh3d\":[{\"colorbar\":{\"outlinewidth\":0,\"ticks\":\"\"},\"type\":\"mesh3d\"}],\"parcoords\":[{\"line\":{\"colorbar\":{\"outlinewidth\":0,\"ticks\":\"\"}},\"type\":\"parcoords\"}],\"pie\":[{\"automargin\":true,\"type\":\"pie\"}],\"scatter\":[{\"marker\":{\"colorbar\":{\"outlinewidth\":0,\"ticks\":\"\"}},\"type\":\"scatter\"}],\"scatter3d\":[{\"line\":{\"colorbar\":{\"outlinewidth\":0,\"ticks\":\"\"}},\"marker\":{\"colorbar\":{\"outlinewidth\":0,\"ticks\":\"\"}},\"type\":\"scatter3d\"}],\"scattercarpet\":[{\"marker\":{\"colorbar\":{\"outlinewidth\":0,\"ticks\":\"\"}},\"type\":\"scattercarpet\"}],\"scattergeo\":[{\"marker\":{\"colorbar\":{\"outlinewidth\":0,\"ticks\":\"\"}},\"type\":\"scattergeo\"}],\"scattergl\":[{\"marker\":{\"colorbar\":{\"outlinewidth\":0,\"ticks\":\"\"}},\"type\":\"scattergl\"}],\"scattermapbox\":[{\"marker\":{\"colorbar\":{\"outlinewidth\":0,\"ticks\":\"\"}},\"type\":\"scattermapbox\"}],\"scatterpolar\":[{\"marker\":{\"colorbar\":{\"outlinewidth\":0,\"ticks\":\"\"}},\"type\":\"scatterpolar\"}],\"scatterpolargl\":[{\"marker\":{\"colorbar\":{\"outlinewidth\":0,\"ticks\":\"\"}},\"type\":\"scatterpolargl\"}],\"scatterternary\":[{\"marker\":{\"colorbar\":{\"outlinewidth\":0,\"ticks\":\"\"}},\"type\":\"scatterternary\"}],\"surface\":[{\"colorbar\":{\"outlinewidth\":0,\"ticks\":\"\"},\"colorscale\":[[0.0,\"#0d0887\"],[0.1111111111111111,\"#46039f\"],[0.2222222222222222,\"#7201a8\"],[0.3333333333333333,\"#9c179e\"],[0.4444444444444444,\"#bd3786\"],[0.5555555555555556,\"#d8576b\"],[0.6666666666666666,\"#ed7953\"],[0.7777777777777778,\"#fb9f3a\"],[0.8888888888888888,\"#fdca26\"],[1.0,\"#f0f921\"]],\"type\":\"surface\"}],\"table\":[{\"cells\":{\"fill\":{\"color\":\"#EBF0F8\"},\"line\":{\"color\":\"white\"}},\"header\":{\"fill\":{\"color\":\"#C8D4E3\"},\"line\":{\"color\":\"white\"}},\"type\":\"table\"}]},\"layout\":{\"annotationdefaults\":{\"arrowcolor\":\"#2a3f5f\",\"arrowhead\":0,\"arrowwidth\":1},\"autotypenumbers\":\"strict\",\"coloraxis\":{\"colorbar\":{\"outlinewidth\":0,\"ticks\":\"\"}},\"colorscale\":{\"diverging\":[[0,\"#8e0152\"],[0.1,\"#c51b7d\"],[0.2,\"#de77ae\"],[0.3,\"#f1b6da\"],[0.4,\"#fde0ef\"],[0.5,\"#f7f7f7\"],[0.6,\"#e6f5d0\"],[0.7,\"#b8e186\"],[0.8,\"#7fbc41\"],[0.9,\"#4d9221\"],[1,\"#276419\"]],\"sequential\":[[0.0,\"#0d0887\"],[0.1111111111111111,\"#46039f\"],[0.2222222222222222,\"#7201a8\"],[0.3333333333333333,\"#9c179e\"],[0.4444444444444444,\"#bd3786\"],[0.5555555555555556,\"#d8576b\"],[0.6666666666666666,\"#ed7953\"],[0.7777777777777778,\"#fb9f3a\"],[0.8888888888888888,\"#fdca26\"],[1.0,\"#f0f921\"]],\"sequentialminus\":[[0.0,\"#0d0887\"],[0.1111111111111111,\"#46039f\"],[0.2222222222222222,\"#7201a8\"],[0.3333333333333333,\"#9c179e\"],[0.4444444444444444,\"#bd3786\"],[0.5555555555555556,\"#d8576b\"],[0.6666666666666666,\"#ed7953\"],[0.7777777777777778,\"#fb9f3a\"],[0.8888888888888888,\"#fdca26\"],[1.0,\"#f0f921\"]]},\"colorway\":[\"#636efa\",\"#EF553B\",\"#00cc96\",\"#ab63fa\",\"#FFA15A\",\"#19d3f3\",\"#FF6692\",\"#B6E880\",\"#FF97FF\",\"#FECB52\"],\"font\":{\"color\":\"#2a3f5f\"},\"geo\":{\"bgcolor\":\"white\",\"lakecolor\":\"white\",\"landcolor\":\"#E5ECF6\",\"showlakes\":true,\"showland\":true,\"subunitcolor\":\"white\"},\"hoverlabel\":{\"align\":\"left\"},\"hovermode\":\"closest\",\"mapbox\":{\"style\":\"light\"},\"paper_bgcolor\":\"white\",\"plot_bgcolor\":\"#E5ECF6\",\"polar\":{\"angularaxis\":{\"gridcolor\":\"white\",\"linecolor\":\"white\",\"ticks\":\"\"},\"bgcolor\":\"#E5ECF6\",\"radialaxis\":{\"gridcolor\":\"white\",\"linecolor\":\"white\",\"ticks\":\"\"}},\"scene\":{\"xaxis\":{\"backgroundcolor\":\"#E5ECF6\",\"gridcolor\":\"white\",\"gridwidth\":2,\"linecolor\":\"white\",\"showbackground\":true,\"ticks\":\"\",\"zerolinecolor\":\"white\"},\"yaxis\":{\"backgroundcolor\":\"#E5ECF6\",\"gridcolor\":\"white\",\"gridwidth\":2,\"linecolor\":\"white\",\"showbackground\":true,\"ticks\":\"\",\"zerolinecolor\":\"white\"},\"zaxis\":{\"backgroundcolor\":\"#E5ECF6\",\"gridcolor\":\"white\",\"gridwidth\":2,\"linecolor\":\"white\",\"showbackground\":true,\"ticks\":\"\",\"zerolinecolor\":\"white\"}},\"shapedefaults\":{\"line\":{\"color\":\"#2a3f5f\"}},\"ternary\":{\"aaxis\":{\"gridcolor\":\"white\",\"linecolor\":\"white\",\"ticks\":\"\"},\"baxis\":{\"gridcolor\":\"white\",\"linecolor\":\"white\",\"ticks\":\"\"},\"bgcolor\":\"#E5ECF6\",\"caxis\":{\"gridcolor\":\"white\",\"linecolor\":\"white\",\"ticks\":\"\"}},\"title\":{\"x\":0.05},\"xaxis\":{\"automargin\":true,\"gridcolor\":\"white\",\"linecolor\":\"white\",\"ticks\":\"\",\"title\":{\"standoff\":15},\"zerolinecolor\":\"white\",\"zerolinewidth\":2},\"yaxis\":{\"automargin\":true,\"gridcolor\":\"white\",\"linecolor\":\"white\",\"ticks\":\"\",\"title\":{\"standoff\":15},\"zerolinecolor\":\"white\",\"zerolinewidth\":2}}},\"xaxis\":{\"anchor\":\"y\",\"domain\":[0.0,1.0],\"title\":{\"text\":\"x\"}},\"yaxis\":{\"anchor\":\"x\",\"domain\":[0.0,1.0],\"title\":{\"text\":\"y\"}},\"legend\":{\"tracegroupgap\":0},\"title\":{\"text\":\"Autoencoder \\ucc28\\uc6d0\\ucd95\\uc18c\"}},                        {\"responsive\": true}                    ).then(function(){\n",
       "                            \n",
       "var gd = document.getElementById('ba541ff7-0de9-4f79-9c95-f0ff76753484');\n",
       "var x = new MutationObserver(function (mutations, observer) {{\n",
       "        var display = window.getComputedStyle(gd).display;\n",
       "        if (!display || display === 'none') {{\n",
       "            console.log([gd, 'removed!']);\n",
       "            Plotly.purge(gd);\n",
       "            observer.disconnect();\n",
       "        }}\n",
       "}});\n",
       "\n",
       "// Listen for the removal of the full notebook cells\n",
       "var notebookContainer = gd.closest('#notebook-container');\n",
       "if (notebookContainer) {{\n",
       "    x.observe(notebookContainer, {childList: true});\n",
       "}}\n",
       "\n",
       "// Listen for the clearing of the current output cell\n",
       "var outputEl = gd.closest('.output');\n",
       "if (outputEl) {{\n",
       "    x.observe(outputEl, {childList: true});\n",
       "}}\n",
       "\n",
       "                        })                };                });            </script>        </div>"
      ]
     },
     "metadata": {},
     "output_type": "display_data"
    }
   ],
   "source": [
    "import plotly.express as px\n",
    "\n",
    "fig = px.scatter(new_df2, x=\"x\", y=\"y\",\n",
    "                 #color=\"species\", \n",
    "                 #size='petal_length',\n",
    "                 hover_data=['곡 제목', '가수', 'tag_ori', 'emotion max'], # 참고할 데이터 추가\n",
    "                 title='Autoencoder 차원축소' # 그래프 타이틀 지정\n",
    "                )\n",
    "fig.show()"
   ]
  },
  {
   "cell_type": "code",
   "execution_count": 256,
   "id": "1f8f0291",
   "metadata": {},
   "outputs": [
    {
     "data": {
      "text/plain": [
       "array([[0.1229341 , 0.00320996]], dtype=float32)"
      ]
     },
     "execution_count": 256,
     "metadata": {},
     "output_type": "execute_result"
    }
   ],
   "source": [
    "# encode the train data\n",
    "text = \"너무 설레여. 하루하루가 기쁘고 행복해. 내일도 그 사람과 좋은 시간을 보내고 싶다.\"\n",
    "input_tag = \"사랑, 설렘\" #듣고 싶은 노래 유형 #근데 스웩, 힙합하면 없음.\n",
    "test = hub_layer([text])\n",
    "input_tag_test = hub_layer([input_tag])\n",
    "test_latent = encoder2.predict([test, input_tag_test])\n",
    "test_latent"
   ]
  },
  {
   "cell_type": "code",
   "execution_count": 263,
   "id": "ae161f85",
   "metadata": {},
   "outputs": [
    {
     "data": {
      "text/plain": [
       "array([[0.12242343, 0.05095541]], dtype=float32)"
      ]
     },
     "execution_count": 263,
     "metadata": {},
     "output_type": "execute_result"
    }
   ],
   "source": [
    "# encode the train data\n",
    "text = \"너무 설레여. 하루하루가 기쁘고 행복해. 내일도 그 사람과 좋은 시간을 보내고 싶다.\"\n",
    "input_tag = \"설렘, 사랑\" #듣고 싶은 노래 유형 #근데 스웩, 힙합하면 없음.\n",
    "test = hub_layer([text])\n",
    "input_tag_test = hub_layer([input_tag])\n",
    "test_latent = encoder2.predict([test, input_tag_test])\n",
    "test_latent"
   ]
  },
  {
   "cell_type": "code",
   "execution_count": 258,
   "id": "05c817e0",
   "metadata": {},
   "outputs": [
    {
     "data": {
      "text/html": [
       "<div>\n",
       "<style scoped>\n",
       "    .dataframe tbody tr th:only-of-type {\n",
       "        vertical-align: middle;\n",
       "    }\n",
       "\n",
       "    .dataframe tbody tr th {\n",
       "        vertical-align: top;\n",
       "    }\n",
       "\n",
       "    .dataframe thead th {\n",
       "        text-align: right;\n",
       "    }\n",
       "</style>\n",
       "<table border=\"1\" class=\"dataframe\">\n",
       "  <thead>\n",
       "    <tr style=\"text-align: right;\">\n",
       "      <th></th>\n",
       "      <th>ori_index</th>\n",
       "      <th>2차 가공</th>\n",
       "      <th>곡 제목</th>\n",
       "      <th>가수</th>\n",
       "      <th>tag count</th>\n",
       "      <th>emotion max</th>\n",
       "      <th>곡 장르 리스트</th>\n",
       "      <th>대분류str</th>\n",
       "      <th>tag_ori</th>\n",
       "      <th>x</th>\n",
       "      <th>y</th>\n",
       "      <th>sim</th>\n",
       "    </tr>\n",
       "  </thead>\n",
       "  <tbody>\n",
       "    <tr>\n",
       "      <th>362</th>\n",
       "      <td>529</td>\n",
       "      <td>바지는 벌써 젖어버렸네 우산을 받쳐도 몰아치네 불어난 한강물엔 돼지들 한때의 굶주렸...</td>\n",
       "      <td>눈치도 없이</td>\n",
       "      <td>더 문샤이너스</td>\n",
       "      <td>{'스트레스': 1, '설렘': 1, '사랑': 1}</td>\n",
       "      <td>['행복한']</td>\n",
       "      <td>['GN0500', 'GN0600']</td>\n",
       "      <td>GN0500,GN0600</td>\n",
       "      <td>스트레스, 설렘, 사랑</td>\n",
       "      <td>0.041157</td>\n",
       "      <td>0.0</td>\n",
       "      <td>0.084987</td>\n",
       "    </tr>\n",
       "    <tr>\n",
       "      <th>163</th>\n",
       "      <td>240</td>\n",
       "      <td>어떻게 만들었을까 어떻게 만들었을까 대한민국 숭례문 프랑스 에펠탑 중국의 만리장성 ...</td>\n",
       "      <td>어떻게든</td>\n",
       "      <td>Various Artists</td>\n",
       "      <td>{'뮤지컬': 1}</td>\n",
       "      <td>['경쾌한']</td>\n",
       "      <td>['GN1500', 'GN2900']</td>\n",
       "      <td>GN1500,GN2900</td>\n",
       "      <td>뮤지컬</td>\n",
       "      <td>0.240171</td>\n",
       "      <td>0.0</td>\n",
       "      <td>0.120447</td>\n",
       "    </tr>\n",
       "    <tr>\n",
       "      <th>9</th>\n",
       "      <td>13</td>\n",
       "      <td>바람이 불어오잖아 바람이 불어오면 나는 기타를 들고 노래할 거야 사람들 스쳐지나고 ...</td>\n",
       "      <td>거리에서</td>\n",
       "      <td>뮤지컬 웨잇포유 (Musical Wait For You)</td>\n",
       "      <td>{'감동': 1, '뮤지컬': 1}</td>\n",
       "      <td>['행복한', '경쾌한']</td>\n",
       "      <td>['GN1500', 'GN2900']</td>\n",
       "      <td>GN1500,GN2900</td>\n",
       "      <td>감동, 뮤지컬</td>\n",
       "      <td>0.000000</td>\n",
       "      <td>0.0</td>\n",
       "      <td>0.126144</td>\n",
       "    </tr>\n",
       "    <tr>\n",
       "      <th>117</th>\n",
       "      <td>174</td>\n",
       "      <td>우박 Mary Full Pleuraudius Grace Pernoavéréde O ...</td>\n",
       "      <td>Ave Maria</td>\n",
       "      <td>Michael Buble</td>\n",
       "      <td>{'겨울': 1, '설렘': 1, '사랑': 1, '까페': 1}</td>\n",
       "      <td>['잔잔한', '행복한']</td>\n",
       "      <td>['GN0900']</td>\n",
       "      <td>GN0900</td>\n",
       "      <td>겨울, 설렘, 사랑, 까페</td>\n",
       "      <td>0.000000</td>\n",
       "      <td>0.0</td>\n",
       "      <td>0.126144</td>\n",
       "    </tr>\n",
       "    <tr>\n",
       "      <th>87</th>\n",
       "      <td>133</td>\n",
       "      <td>우리의 사랑은 애호가가 꿈꾸는 땅이 있습니다 우리는 내일 항해할 수 있습니다 항상...</td>\n",
       "      <td>Our Love</td>\n",
       "      <td>Al Jarreau</td>\n",
       "      <td>{'겨울감성': 1}</td>\n",
       "      <td>['잔잔한']</td>\n",
       "      <td>['GN1700']</td>\n",
       "      <td>GN1700</td>\n",
       "      <td>겨울감성</td>\n",
       "      <td>0.000000</td>\n",
       "      <td>0.0</td>\n",
       "      <td>0.126144</td>\n",
       "    </tr>\n",
       "  </tbody>\n",
       "</table>\n",
       "</div>"
      ],
      "text/plain": [
       "     ori_index                                              2차 가공       곡 제목  \\\n",
       "362        529  바지는 벌써 젖어버렸네 우산을 받쳐도 몰아치네 불어난 한강물엔 돼지들 한때의 굶주렸...     눈치도 없이   \n",
       "163        240  어떻게 만들었을까 어떻게 만들었을까 대한민국 숭례문 프랑스 에펠탑 중국의 만리장성 ...       어떻게든   \n",
       "9           13  바람이 불어오잖아 바람이 불어오면 나는 기타를 들고 노래할 거야 사람들 스쳐지나고 ...       거리에서   \n",
       "117        174  우박 Mary Full Pleuraudius Grace Pernoavéréde O ...  Ave Maria   \n",
       "87         133   우리의 사랑은 애호가가 꿈꾸는 땅이 있습니다 우리는 내일 항해할 수 있습니다 항상...   Our Love   \n",
       "\n",
       "                                  가수                             tag count  \\\n",
       "362                          더 문샤이너스         {'스트레스': 1, '설렘': 1, '사랑': 1}   \n",
       "163                  Various Artists                            {'뮤지컬': 1}   \n",
       "9    뮤지컬 웨잇포유 (Musical Wait For You)                   {'감동': 1, '뮤지컬': 1}   \n",
       "117                    Michael Buble  {'겨울': 1, '설렘': 1, '사랑': 1, '까페': 1}   \n",
       "87                        Al Jarreau                           {'겨울감성': 1}   \n",
       "\n",
       "        emotion max              곡 장르 리스트         대분류str         tag_ori  \\\n",
       "362         ['행복한']  ['GN0500', 'GN0600']  GN0500,GN0600    스트레스, 설렘, 사랑   \n",
       "163         ['경쾌한']  ['GN1500', 'GN2900']  GN1500,GN2900             뮤지컬   \n",
       "9    ['행복한', '경쾌한']  ['GN1500', 'GN2900']  GN1500,GN2900         감동, 뮤지컬   \n",
       "117  ['잔잔한', '행복한']            ['GN0900']         GN0900  겨울, 설렘, 사랑, 까페   \n",
       "87          ['잔잔한']            ['GN1700']         GN1700            겨울감성   \n",
       "\n",
       "            x    y       sim  \n",
       "362  0.041157  0.0  0.084987  \n",
       "163  0.240171  0.0  0.120447  \n",
       "9    0.000000  0.0  0.126144  \n",
       "117  0.000000  0.0  0.126144  \n",
       "87   0.000000  0.0  0.126144  "
      ]
     },
     "execution_count": 258,
     "metadata": {},
     "output_type": "execute_result"
    }
   ],
   "source": [
    "#평가 방법 맞는지?\n",
    "#코사인?\n",
    "#from sklearn.metrics.pairwise import cosine_similarity\n",
    "#cosine_similarity(tfidf_matrix, tfidf_matrix)\n",
    "new_df2[\"sim\"] = 0\n",
    "new_df2[\"sim\"] = new_df2.apply(lambda x : abs(x['x']-test_latent[0][0])+abs(x['y']-test_latent[0][1]), axis=1)\n",
    "new_df2.sort_values(by=['sim']).head()\n",
    "\n",
    "####결과 별로인듯?"
   ]
  },
  {
   "cell_type": "code",
   "execution_count": null,
   "id": "7bd1a723",
   "metadata": {},
   "outputs": [],
   "source": []
  },
  {
   "cell_type": "code",
   "execution_count": null,
   "id": "04db69e3",
   "metadata": {},
   "outputs": [],
   "source": []
  },
  {
   "cell_type": "markdown",
   "id": "979eed5b",
   "metadata": {},
   "source": [
    "## +글에서 자주 나온 단어...most common top5를 태그로?"
   ]
  },
  {
   "cell_type": "code",
   "execution_count": null,
   "id": "9771aa58",
   "metadata": {},
   "outputs": [],
   "source": []
  },
  {
   "cell_type": "code",
   "execution_count": null,
   "id": "178d57b2",
   "metadata": {},
   "outputs": [],
   "source": []
  },
  {
   "cell_type": "code",
   "execution_count": null,
   "id": "1cc1d18f",
   "metadata": {},
   "outputs": [],
   "source": []
  },
  {
   "cell_type": "code",
   "execution_count": null,
   "id": "a6cbc68e",
   "metadata": {},
   "outputs": [],
   "source": []
  },
  {
   "cell_type": "markdown",
   "id": "e662655e",
   "metadata": {},
   "source": [
    "## +본인이 자주 들었던 노래 3개를 고르면, 그 3개와 어울리는 분위기"
   ]
  },
  {
   "cell_type": "code",
   "execution_count": null,
   "id": "a894e0a5",
   "metadata": {},
   "outputs": [],
   "source": []
  },
  {
   "cell_type": "code",
   "execution_count": null,
   "id": "a7fbe6d2",
   "metadata": {},
   "outputs": [],
   "source": []
  }
 ],
 "metadata": {
  "kernelspec": {
   "display_name": "Python 3 (ipykernel)",
   "language": "python",
   "name": "python3"
  },
  "language_info": {
   "codemirror_mode": {
    "name": "ipython",
    "version": 3
   },
   "file_extension": ".py",
   "mimetype": "text/x-python",
   "name": "python",
   "nbconvert_exporter": "python",
   "pygments_lexer": "ipython3",
   "version": "3.9.4"
  }
 },
 "nbformat": 4,
 "nbformat_minor": 5
}
